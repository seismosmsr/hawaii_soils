{
  "nbformat": 4,
  "nbformat_minor": 0,
  "metadata": {
    "colab": {
      "provenance": [],
      "machine_shape": "hm",
      "authorship_tag": "ABX9TyOajVMG1q1yHctVY/vhI+CS",
      "include_colab_link": true
    },
    "kernelspec": {
      "name": "ir",
      "display_name": "R"
    },
    "language_info": {
      "name": "R"
    }
  },
  "cells": [
    {
      "cell_type": "markdown",
      "metadata": {
        "id": "view-in-github",
        "colab_type": "text"
      },
      "source": [
        "<a href=\"https://colab.research.google.com/github/seismosmsr/hawaii_soils/blob/main/Hawaii_Soils.ipynb\" target=\"_parent\"><img src=\"https://colab.research.google.com/assets/colab-badge.svg\" alt=\"Open In Colab\"/></a>"
      ]
    },
    {
      "cell_type": "code",
      "execution_count": 3,
      "metadata": {
        "colab": {
          "base_uri": "https://localhost:8080/"
        },
        "id": "w3b2Yt1zzBa4",
        "outputId": "cdb565e9-121a-45fd-90b7-b2db8b9a8bcb"
      },
      "outputs": [
        {
          "output_type": "stream",
          "name": "stderr",
          "text": [
            "Installing package into ‘/usr/local/lib/R/site-library’\n",
            "(as ‘lib’ is unspecified)\n",
            "\n",
            "also installing the dependencies ‘proxy’, ‘e1071’, ‘wk’, ‘classInt’, ‘Rcpp’, ‘s2’, ‘units’\n",
            "\n",
            "\n",
            "Installing package into ‘/usr/local/lib/R/site-library’\n",
            "(as ‘lib’ is unspecified)\n",
            "\n",
            "also installing the dependencies ‘sp’, ‘terra’\n",
            "\n",
            "\n",
            "Installing package into ‘/usr/local/lib/R/site-library’\n",
            "(as ‘lib’ is unspecified)\n",
            "\n",
            "Installing package into ‘/usr/local/lib/R/site-library’\n",
            "(as ‘lib’ is unspecified)\n",
            "\n",
            "Installing package into ‘/usr/local/lib/R/site-library’\n",
            "(as ‘lib’ is unspecified)\n",
            "\n",
            "Warning message:\n",
            "“package ‘googletoken’ is not available for this version of R\n",
            "\n",
            "A version of this package for your version of R might be available elsewhere,\n",
            "see the ideas at\n",
            "https://cran.r-project.org/doc/manuals/r-patched/R-admin.html#Installing-packages”\n",
            "Installing package into ‘/usr/local/lib/R/site-library’\n",
            "(as ‘lib’ is unspecified)\n",
            "\n",
            "Installing package into ‘/usr/local/lib/R/site-library’\n",
            "(as ‘lib’ is unspecified)\n",
            "\n",
            "also installing the dependency ‘plogr’\n",
            "\n",
            "\n",
            "Installing package into ‘/usr/local/lib/R/site-library’\n",
            "(as ‘lib’ is unspecified)\n",
            "\n",
            "Installing package into ‘/usr/local/lib/R/site-library’\n",
            "(as ‘lib’ is unspecified)\n",
            "\n",
            "Installing package into ‘/usr/local/lib/R/site-library’\n",
            "(as ‘lib’ is unspecified)\n",
            "\n"
          ]
        }
      ],
      "source": [
        "install.packages('sf')\n",
        "install.packages('raster')\n",
        "install.packages('exactextractr')\n",
        "install.packages(\"googledrive\")\n",
        "install.packages(\"googletoken\")\n",
        "install.packages(\"DBI\")\n",
        "install.packages(\"RSQLite\")\n",
        "install.packages(\"RPostgreSQL\")\n",
        "install.packages(\"terra\")\n",
        "install.packages('randomForest')"
      ]
    },
    {
      "cell_type": "code",
      "source": [
        "library(ggplot2)\n",
        "library(sf)\n",
        "library(magrittr)\n",
        "library(data.table)\n",
        "library(raster)\n",
        "library(exactextractr)\n",
        "library(googledrive)\n",
        "library(DBI)\n",
        "library(terra)\n",
        "library(randomForest)"
      ],
      "metadata": {
        "colab": {
          "base_uri": "https://localhost:8080/"
        },
        "id": "Jt8zFz1p0QRy",
        "outputId": "756bab4e-6ac8-4175-8032-695ac6b9dec2"
      },
      "execution_count": 2,
      "outputs": [
        {
          "output_type": "stream",
          "name": "stderr",
          "text": [
            "Linking to GEOS 3.10.2, GDAL 3.4.3, PROJ 8.2.1; sf_use_s2() is TRUE\n",
            "\n",
            "Loading required package: sp\n",
            "\n",
            "The legacy packages maptools, rgdal, and rgeos, underpinning the sp package,\n",
            "which was just loaded, will retire in October 2023.\n",
            "Please refer to R-spatial evolution reports for details, especially\n",
            "https://r-spatial.org/r/2023/05/15/evolution4.html.\n",
            "It may be desirable to make the sf package available;\n",
            "package maintainers should consider adding sf to Suggests:.\n",
            "The sp package is now running under evolution status 2\n",
            "     (status 2 uses the sf package in place of rgdal)\n",
            "\n",
            "terra 1.7.46\n",
            "\n",
            "\n",
            "Attaching package: ‘terra’\n",
            "\n",
            "\n",
            "The following object is masked from ‘package:data.table’:\n",
            "\n",
            "    shift\n",
            "\n",
            "\n",
            "The following objects are masked from ‘package:magrittr’:\n",
            "\n",
            "    extract, inset\n",
            "\n",
            "\n",
            "randomForest 4.7-1.1\n",
            "\n",
            "Type rfNews() to see new features/changes/bug fixes.\n",
            "\n",
            "\n",
            "Attaching package: ‘randomForest’\n",
            "\n",
            "\n",
            "The following object is masked from ‘package:ggplot2’:\n",
            "\n",
            "    margin\n",
            "\n",
            "\n"
          ]
        }
      ]
    },
    {
      "cell_type": "code",
      "source": [
        "drive_auth(use_oob = TRUE, cache = FALSE)"
      ],
      "metadata": {
        "colab": {
          "base_uri": "https://localhost:8080/"
        },
        "id": "TIp-5Lr90ULs",
        "outputId": "e7852400-9987-45fe-8ed4-b200638d40f8"
      },
      "execution_count": 5,
      "outputs": [
        {
          "output_type": "stream",
          "name": "stderr",
          "text": [
            "Please point your browser to the following url: \n",
            "\n",
            "https://accounts.google.com/o/oauth2/v2/auth?client_id=603366585132-frjlouoa3s2ono25d2l9ukvhlsrlnr7k.apps.googleusercontent.com&scope=https%3A%2F%2Fwww.googleapis.com%2Fauth%2Fdrive%20https%3A%2F%2Fwww.googleapis.com%2Fauth%2Fuserinfo.email&redirect_uri=https%3A%2F%2Fwww.tidyverse.org%2Fgoogle-callback%2F&response_type=code&state=c2397901e2c415fca6f2eb23f2a524a6&access_type=offline&prompt=consent\n",
            "\n"
          ]
        },
        {
          "name": "stdout",
          "output_type": "stream",
          "text": [
            "Enter authorization code: eyJjb2RlIjoiNC8wQWRldTVCVm12MUpackQtOE81dm9GVkx1di1nalFjTDcyTjdIM0Z1akxqM3RkVklTNkJRdHlnSG5hS0c1bjFCSUg3dG1EUSIsInN0YXRlIjoiYzIzOTc5MDFlMmM0MTVmY2E2ZjJlYjIzZjJhNTI0YTYifQ==\n"
          ]
        }
      ]
    },
    {
      "cell_type": "code",
      "source": [
        "dir.create('/content/predictor_variables/')"
      ],
      "metadata": {
        "id": "MGIH_xWJF3ul"
      },
      "execution_count": 6,
      "outputs": []
    },
    {
      "cell_type": "code",
      "source": [
        "# Hawaii GEDI data\n",
        "# https://drive.google.com/file/d/1UY3lxML0Y7bat_9-xEZQQHDkYRcODDZy/view?usp=drive_link\n",
        "drive_download(file = as_id('1UY3lxML0Y7bat_9-xEZQQHDkYRcODDZy'), path =  '/content/predictor_variables/Hawaii_GEDI_4A.gpkg', overwrite = FALSE)"
      ],
      "metadata": {
        "id": "G56ZDP1G7lqX",
        "colab": {
          "base_uri": "https://localhost:8080/"
        },
        "outputId": "7b5c966a-1c51-44a9-db05-f43601ce52e9"
      },
      "execution_count": 7,
      "outputs": [
        {
          "output_type": "stream",
          "name": "stderr",
          "text": [
            "File downloaded:\n",
            "\n",
            "• \u001b[36mHawaii_GEDI.gpkg\u001b[39m \u001b[90m<id: 1UY3lxML0Y7bat_9-xEZQQHDkYRcODDZy>\u001b[39m\n",
            "\n",
            "Saved locally as:\n",
            "\n",
            "• \u001b[34m/content/predictor_variables/Hawaii_GEDI_4A.gpkg\u001b[39m\n",
            "\n"
          ]
        }
      ]
    },
    {
      "cell_type": "code",
      "source": [
        "# Hawaii 250m grid\n",
        "# https://drive.google.com/file/d/1Jowm2XIdJHrt6N3tGhbLZ81UZZVMqAW8/view?usp=drive_link\n",
        "drive_download(file = as_id('1Jowm2XIdJHrt6N3tGhbLZ81UZZVMqAW8'), path =  '/content/predictor_variables/HI_island_250_m_grid.gpkg', overwrite = FALSE)"
      ],
      "metadata": {
        "id": "mm-ZhHvx-2ql",
        "outputId": "262bd3fd-0661-4662-c973-eeb7e9264765",
        "colab": {
          "base_uri": "https://localhost:8080/"
        }
      },
      "execution_count": 26,
      "outputs": [
        {
          "output_type": "stream",
          "name": "stderr",
          "text": [
            "Auto-refreshing stale OAuth token.\n",
            "\n",
            "File downloaded:\n",
            "\n",
            "• \u001b[36mHI_island_250_m_grid.gpkg\u001b[39m \u001b[90m<id: 1Jowm2XIdJHrt6N3tGhbLZ81UZZVMqAW8>\u001b[39m\n",
            "\n",
            "Saved locally as:\n",
            "\n",
            "• \u001b[34m/content/predictor_variables/HI_island_250_m_grid.gpkg\u001b[39m\n",
            "\n"
          ]
        }
      ]
    },
    {
      "cell_type": "code",
      "source": [
        "folder_loc <- '/content/predictor_variables/TerraClimate/'\n",
        "dir.create(folder_loc)\n",
        "\n",
        "# https://drive.google.com/drive/folders/1bIbwKYmzP2o6VEAWyLIRmeMQbGFDt-vX?usp=drive_link\n",
        "folder_id <- \"1bIbwKYmzP2o6VEAWyLIRmeMQbGFDt-vX\"\n",
        "folder_files <- drive_ls(as_id(folder_id))\n",
        "\n",
        "for (i in 1:nrow(folder_files)) {\n",
        "  file_id <- folder_files$id[i]\n",
        "  file_name <- folder_files$name[i]\n",
        "  drive_download(as_id(file_id), path = paste0(folder_loc,file_name), overwrite = TRUE)\n",
        "}\n"
      ],
      "metadata": {
        "colab": {
          "base_uri": "https://localhost:8080/"
        },
        "id": "TTAYfyTUHwhy",
        "outputId": "207ff502-5ec5-4dc7-d48e-497514d52c5b"
      },
      "execution_count": 8,
      "outputs": [
        {
          "output_type": "stream",
          "name": "stderr",
          "text": [
            "File downloaded:\n",
            "\n",
            "• \u001b[36mHawaii_Mean_Climate_1958_to_2023.tif\u001b[39m \u001b[90m<id: 1pMs5OsTwQ1N3kXO9bb3W-qfhxwcJtzIj>\u001b[39m\n",
            "\n",
            "Saved locally as:\n",
            "\n",
            "• \u001b[34m/content/predictor_variables/TerraClimate/Hawaii_Mean_Climate_1958_to_2023.tif\u001b[39m\n",
            "\n",
            "File downloaded:\n",
            "\n",
            "• \u001b[36mMaui_Mean_Climate_1958_to_2023.tif\u001b[39m \u001b[90m<id: 1Aglg9-srq187HYR38PFBVrodg3PpcqbE>\u001b[39m\n",
            "\n",
            "Saved locally as:\n",
            "\n",
            "• \u001b[34m/content/predictor_variables/TerraClimate/Maui_Mean_Climate_1958_to_2023.tif\u001b[39m\n",
            "\n",
            "File downloaded:\n",
            "\n",
            "• \u001b[36mNiihau_Mean_Climate_1958_to_2023.tif\u001b[39m \u001b[90m<id: 1T9RfMhwprSe0YV_ln5Xky9QTYycuh6M3>\u001b[39m\n",
            "\n",
            "Saved locally as:\n",
            "\n",
            "• \u001b[34m/content/predictor_variables/TerraClimate/Niihau_Mean_Climate_1958_to_2023.tif\u001b[39m\n",
            "\n",
            "File downloaded:\n",
            "\n",
            "• \u001b[36mKauai_Mean_Climate_1958_to_2023.tif\u001b[39m \u001b[90m<id: 14bpiZID-VOQmsEVeQc9gFHe8JYK7w_ew>\u001b[39m\n",
            "\n",
            "Saved locally as:\n",
            "\n",
            "• \u001b[34m/content/predictor_variables/TerraClimate/Kauai_Mean_Climate_1958_to_2023.tif\u001b[39m\n",
            "\n",
            "File downloaded:\n",
            "\n",
            "• \u001b[36mOahu_Mean_Climate_1958_to_2023.tif\u001b[39m \u001b[90m<id: 1zNyLGypMkzHYLoMnOTHhpZmZbil88Xxe>\u001b[39m\n",
            "\n",
            "Saved locally as:\n",
            "\n",
            "• \u001b[34m/content/predictor_variables/TerraClimate/Oahu_Mean_Climate_1958_to_2023.tif\u001b[39m\n",
            "\n",
            "File downloaded:\n",
            "\n",
            "• \u001b[36mMolokai_Mean_Climate_1958_to_2023.tif\u001b[39m \u001b[90m<id: 18SNFZ6VefxYbEEtWl1nXDj8JJFLdFDo_>\u001b[39m\n",
            "\n",
            "Saved locally as:\n",
            "\n",
            "• \u001b[34m/content/predictor_variables/TerraClimate/Molokai_Mean_Climate_1958_to_2023.tif\u001b[39m\n",
            "\n",
            "File downloaded:\n",
            "\n",
            "• \u001b[36mLanai_Mean_Climate_1958_to_2023.tif\u001b[39m \u001b[90m<id: 1eFkEW2ZRWtMK-IMEpVJ28R3xups_HhOT>\u001b[39m\n",
            "\n",
            "Saved locally as:\n",
            "\n",
            "• \u001b[34m/content/predictor_variables/TerraClimate/Lanai_Mean_Climate_1958_to_2023.tif\u001b[39m\n",
            "\n"
          ]
        }
      ]
    },
    {
      "cell_type": "code",
      "source": [
        "folder_loc <- '/content/predictor_variables/SRTM_mTPI/'\n",
        "dir.create(folder_loc)\n",
        "\n",
        "# https://drive.google.com/drive/folders/1YKJrZXTo-L4UpvJ0iEGo8yIX6uhoQ9AW?usp=drive_link\n",
        "folder_id <- \"1YKJrZXTo-L4UpvJ0iEGo8yIX6uhoQ9AW\"\n",
        "folder_files <- drive_ls(as_id(folder_id))\n",
        "\n",
        "for (i in 1:nrow(folder_files)) {\n",
        "  file_id <- folder_files$id[i]\n",
        "  file_name <- folder_files$name[i]\n",
        "  drive_download(as_id(file_id), path = paste0(folder_loc,file_name), overwrite = TRUE)\n",
        "}"
      ],
      "metadata": {
        "colab": {
          "base_uri": "https://localhost:8080/"
        },
        "id": "g_O0J9MjE5TC",
        "outputId": "af3d2e24-1808-4e66-f59d-30f9b84bbe4f"
      },
      "execution_count": 9,
      "outputs": [
        {
          "output_type": "stream",
          "name": "stderr",
          "text": [
            "File downloaded:\n",
            "\n",
            "• \u001b[36mKauai_SRTM_mTPI_Buffer.tif\u001b[39m \u001b[90m<id: 1APv2WFDHdAiwOhBcAw8db-b1NSIlsK1K>\u001b[39m\n",
            "\n",
            "Saved locally as:\n",
            "\n",
            "• \u001b[34m/content/predictor_variables/SRTM_mTPI/Kauai_SRTM_mTPI_Buffer.tif\u001b[39m\n",
            "\n",
            "File downloaded:\n",
            "\n",
            "• \u001b[36mOahu_SRTM_mTPI_Buffer.tif\u001b[39m \u001b[90m<id: 1MJEjAuHBeDmvfU_7W4j6RZJk6uLD4TE_>\u001b[39m\n",
            "\n",
            "Saved locally as:\n",
            "\n",
            "• \u001b[34m/content/predictor_variables/SRTM_mTPI/Oahu_SRTM_mTPI_Buffer.tif\u001b[39m\n",
            "\n",
            "File downloaded:\n",
            "\n",
            "• \u001b[36mMaui_SRTM_mTPI_Buffer.tif\u001b[39m \u001b[90m<id: 1MsRCpuNGuIKInYotrbJ5S-Sagion0wJo>\u001b[39m\n",
            "\n",
            "Saved locally as:\n",
            "\n",
            "• \u001b[34m/content/predictor_variables/SRTM_mTPI/Maui_SRTM_mTPI_Buffer.tif\u001b[39m\n",
            "\n",
            "File downloaded:\n",
            "\n",
            "• \u001b[36mMolakai_SRTM_mTPI_Buffer.tif\u001b[39m \u001b[90m<id: 1WRDZse9NGahMQ4h22bxvsv4XFp10JJZW>\u001b[39m\n",
            "\n",
            "Saved locally as:\n",
            "\n",
            "• \u001b[34m/content/predictor_variables/SRTM_mTPI/Molakai_SRTM_mTPI_Buffer.tif\u001b[39m\n",
            "\n",
            "File downloaded:\n",
            "\n",
            "• \u001b[36mHawaii_SRTM_mTPI_Buffer.tif\u001b[39m \u001b[90m<id: 1Qej-icN4NhaYZ8fhhc4bkVXZuD385sl3>\u001b[39m\n",
            "\n",
            "Saved locally as:\n",
            "\n",
            "• \u001b[34m/content/predictor_variables/SRTM_mTPI/Hawaii_SRTM_mTPI_Buffer.tif\u001b[39m\n",
            "\n",
            "File downloaded:\n",
            "\n",
            "• \u001b[36mLanai_SRTM_mTPI_Buffer.tif\u001b[39m \u001b[90m<id: 1sz3x9fZufpjbtrIpY3ZovhNknmDmkR5n>\u001b[39m\n",
            "\n",
            "Saved locally as:\n",
            "\n",
            "• \u001b[34m/content/predictor_variables/SRTM_mTPI/Lanai_SRTM_mTPI_Buffer.tif\u001b[39m\n",
            "\n",
            "File downloaded:\n",
            "\n",
            "• \u001b[36mNiihau_SRTM_mTPI_Buffer.tif\u001b[39m \u001b[90m<id: 1JlGaWub7TJ31v7V1GSDQRIq5Mw4wcZx0>\u001b[39m\n",
            "\n",
            "Saved locally as:\n",
            "\n",
            "• \u001b[34m/content/predictor_variables/SRTM_mTPI/Niihau_SRTM_mTPI_Buffer.tif\u001b[39m\n",
            "\n"
          ]
        }
      ]
    },
    {
      "cell_type": "code",
      "source": [
        "folder_loc <- '/content/predictor_variables/Elevation/'\n",
        "dir.create(folder_loc)\n",
        "\n",
        "# https://drive.google.com/drive/folders/1XmH9T9xVINZZfPFi39Wus1l7c0SKS4Am?usp=drive_link\n",
        "folder_id <- \"1XmH9T9xVINZZfPFi39Wus1l7c0SKS4Am\"\n",
        "folder_files <- drive_ls(as_id(folder_id))\n",
        "\n",
        "for (i in 1:nrow(folder_files)) {\n",
        "  file_id <- folder_files$id[i]\n",
        "  file_name <- folder_files$name[i]\n",
        "  drive_download(as_id(file_id), path = paste0(folder_loc,file_name), overwrite = TRUE)\n",
        "}"
      ],
      "metadata": {
        "colab": {
          "base_uri": "https://localhost:8080/"
        },
        "id": "LY0aET4DI-_2",
        "outputId": "5bb4cb7c-33b9-4d23-d5a7-fad6a866fda9"
      },
      "execution_count": 10,
      "outputs": [
        {
          "output_type": "stream",
          "name": "stderr",
          "text": [
            "File downloaded:\n",
            "\n",
            "• \u001b[36mKauai_elevation.tif\u001b[39m \u001b[90m<id: 1SNmoJcKsyKSlG5DVye0c1pHvgWEQ5f1r>\u001b[39m\n",
            "\n",
            "Saved locally as:\n",
            "\n",
            "• \u001b[34m/content/predictor_variables/Elevation/Kauai_elevation.tif\u001b[39m\n",
            "\n",
            "File downloaded:\n",
            "\n",
            "• \u001b[36mMolokai_elevation.tif\u001b[39m \u001b[90m<id: 1ae2lpPQngdFx58mRpqt02Z1bQg-Tifen>\u001b[39m\n",
            "\n",
            "Saved locally as:\n",
            "\n",
            "• \u001b[34m/content/predictor_variables/Elevation/Molokai_elevation.tif\u001b[39m\n",
            "\n",
            "File downloaded:\n",
            "\n",
            "• \u001b[36mOahu_elevation-0000000000-0000000000.tif\u001b[39m\n",
            "  \u001b[90m<id: 1YMV_pXPQjmdam7ucBItWqzFJPPYQK7H5>\u001b[39m\n",
            "\n",
            "Saved locally as:\n",
            "\n",
            "• \u001b[34m/content/predictor_variables/Elevation/Oahu_elevation-0000000000-0000000000.tif\u001b[39m\n",
            "\n",
            "File downloaded:\n",
            "\n",
            "• \u001b[36mNiihau_elevation.tif\u001b[39m \u001b[90m<id: 1L6lodPtr7u70scb-gu_QliaAIyEwYAtc>\u001b[39m\n",
            "\n",
            "Saved locally as:\n",
            "\n",
            "• \u001b[34m/content/predictor_variables/Elevation/Niihau_elevation.tif\u001b[39m\n",
            "\n",
            "File downloaded:\n",
            "\n",
            "• \u001b[36mHawaii_elevation.tif\u001b[39m \u001b[90m<id: 116xUvGPbJvJQrFZ7b59EzmcyAPHgKQmN>\u001b[39m\n",
            "\n",
            "Saved locally as:\n",
            "\n",
            "• \u001b[34m/content/predictor_variables/Elevation/Hawaii_elevation.tif\u001b[39m\n",
            "\n",
            "File downloaded:\n",
            "\n",
            "• \u001b[36mLanai_elevation.tif\u001b[39m \u001b[90m<id: 1XHgejTU-XLW51qDtVprOcGSeuINa4X77>\u001b[39m\n",
            "\n",
            "Saved locally as:\n",
            "\n",
            "• \u001b[34m/content/predictor_variables/Elevation/Lanai_elevation.tif\u001b[39m\n",
            "\n",
            "File downloaded:\n",
            "\n",
            "• \u001b[36mMaui_elevation.tif\u001b[39m \u001b[90m<id: 1Or-pj4QiOj8VgMOAPtVjMm_ocbrvGM6_>\u001b[39m\n",
            "\n",
            "Saved locally as:\n",
            "\n",
            "• \u001b[34m/content/predictor_variables/Elevation/Maui_elevation.tif\u001b[39m\n",
            "\n",
            "File downloaded:\n",
            "\n",
            "• \u001b[36mOahu_elevation-0000000000-0000046592.tif\u001b[39m\n",
            "  \u001b[90m<id: 1yRDrfvLTEGECTDQcwXRIxoHmUu3D9LL4>\u001b[39m\n",
            "\n",
            "Saved locally as:\n",
            "\n",
            "• \u001b[34m/content/predictor_variables/Elevation/Oahu_elevation-0000000000-0000046592.tif\u001b[39m\n",
            "\n"
          ]
        }
      ]
    },
    {
      "cell_type": "code",
      "source": [
        "folder_loc <- '/content/predictor_variables/LandForms/'\n",
        "dir.create(folder_loc)\n",
        "\n",
        "# https://drive.google.com/drive/folders/1PkUR4GK50wC6Kgrvyy-d6067ypdX1dkx?usp=drive_link\n",
        "folder_id <- \"1PkUR4GK50wC6Kgrvyy-d6067ypdX1dkx\"\n",
        "folder_files <- drive_ls(as_id(folder_id))\n",
        "\n",
        "for (i in 1:nrow(folder_files)) {\n",
        "  file_id <- folder_files$id[i]\n",
        "  file_name <- folder_files$name[i]\n",
        "  drive_download(as_id(file_id), path = paste0(folder_loc,file_name), overwrite = TRUE)\n",
        "}"
      ],
      "metadata": {
        "colab": {
          "base_uri": "https://localhost:8080/"
        },
        "id": "0zC2Pv1JJLnH",
        "outputId": "67c6be05-a407-4e3d-cfd0-b7ee99009c8e"
      },
      "execution_count": 11,
      "outputs": [
        {
          "output_type": "stream",
          "name": "stderr",
          "text": [
            "File downloaded:\n",
            "\n",
            "• \u001b[36mMolakai_Landforms_Buffer.tif\u001b[39m \u001b[90m<id: 1ZBdccF_ELdIApV0SkAv2ZfWsZ0a0ae1f>\u001b[39m\n",
            "\n",
            "Saved locally as:\n",
            "\n",
            "• \u001b[34m/content/predictor_variables/LandForms/Molakai_Landforms_Buffer.tif\u001b[39m\n",
            "\n",
            "File downloaded:\n",
            "\n",
            "• \u001b[36mLanai_Landforms_Buffer.tif\u001b[39m \u001b[90m<id: 1LU4LHzgkHHCmdOfWccniRJ8d0225AFu1>\u001b[39m\n",
            "\n",
            "Saved locally as:\n",
            "\n",
            "• \u001b[34m/content/predictor_variables/LandForms/Lanai_Landforms_Buffer.tif\u001b[39m\n",
            "\n",
            "File downloaded:\n",
            "\n",
            "• \u001b[36mLandforms_Buffer_2000m.tif\u001b[39m \u001b[90m<id: 1HMIkKM_02cVNWaB7-IYwnd414Wg5acnK>\u001b[39m\n",
            "\n",
            "Saved locally as:\n",
            "\n",
            "• \u001b[34m/content/predictor_variables/LandForms/Landforms_Buffer_2000m.tif\u001b[39m\n",
            "\n",
            "File downloaded:\n",
            "\n",
            "• \u001b[36mHawaii_Landforms_Buffer.tif\u001b[39m \u001b[90m<id: 1qBNjiXKd-JJ8CICZvVTo42kkKjBNhYMT>\u001b[39m\n",
            "\n",
            "Saved locally as:\n",
            "\n",
            "• \u001b[34m/content/predictor_variables/LandForms/Hawaii_Landforms_Buffer.tif\u001b[39m\n",
            "\n",
            "File downloaded:\n",
            "\n",
            "• \u001b[36mKauai_Landforms_Buffer.tif\u001b[39m \u001b[90m<id: 1oRmeE1kg5GswFcDdUaGU5jnui9Y2DpR3>\u001b[39m\n",
            "\n",
            "Saved locally as:\n",
            "\n",
            "• \u001b[34m/content/predictor_variables/LandForms/Kauai_Landforms_Buffer.tif\u001b[39m\n",
            "\n",
            "File downloaded:\n",
            "\n",
            "• \u001b[36mOahu_Landforms_Buffer-0000000000-0000065536.tif\u001b[39m\n",
            "  \u001b[90m<id: 1PcZoQe0l8WLgSagiWWUpTmWmmHmGnIRx>\u001b[39m\n",
            "\n",
            "Saved locally as:\n",
            "\n",
            "• \u001b[34m/content/predictor_variables/LandForms/Oahu_Landforms_Buffer-0000000000-0000065536.tif\u001b[39m\n",
            "\n",
            "File downloaded:\n",
            "\n",
            "• \u001b[36mNiihau_Landforms_Buffer.tif\u001b[39m \u001b[90m<id: 16jkuVWQ_BIjLBJiTeZeHMj3Z_FCJ4ttm>\u001b[39m\n",
            "\n",
            "Saved locally as:\n",
            "\n",
            "• \u001b[34m/content/predictor_variables/LandForms/Niihau_Landforms_Buffer.tif\u001b[39m\n",
            "\n",
            "File downloaded:\n",
            "\n",
            "• \u001b[36mHawaii_Landforms_Buffer_2000m.tif\u001b[39m \u001b[90m<id: 11H593mq88YS_NQ39yJBkm4hf77exgb5Z>\u001b[39m\n",
            "\n",
            "Saved locally as:\n",
            "\n",
            "• \u001b[34m/content/predictor_variables/LandForms/Hawaii_Landforms_Buffer_2000m.tif\u001b[39m\n",
            "\n",
            "File downloaded:\n",
            "\n",
            "• \u001b[36mMaui_Landforms_Buffer.tif\u001b[39m \u001b[90m<id: 1v1bBZWsHDYWZfhfGby_wWylkSrVQaqx9>\u001b[39m\n",
            "\n",
            "Saved locally as:\n",
            "\n",
            "• \u001b[34m/content/predictor_variables/LandForms/Maui_Landforms_Buffer.tif\u001b[39m\n",
            "\n",
            "File downloaded:\n",
            "\n",
            "• \u001b[36mOahu_Landforms_Buffer-0000000000-0000000000.tif\u001b[39m\n",
            "  \u001b[90m<id: 1AzX2SjqLBZnxIfRwNAjzXQQuQGujN24p>\u001b[39m\n",
            "\n",
            "Saved locally as:\n",
            "\n",
            "• \u001b[34m/content/predictor_variables/LandForms/Oahu_Landforms_Buffer-0000000000-0000000000.tif\u001b[39m\n",
            "\n"
          ]
        }
      ]
    },
    {
      "cell_type": "code",
      "source": [
        "folder_loc <- '/content/predictor_variables/LandSat_composite/'\n",
        "dir.create(folder_loc)\n",
        "\n",
        "# https://drive.google.com/drive/folders/1NzvurSghdEJdX0UsfdyuOcOyh6n3jUDo?usp=drive_link\n",
        "folder_id <- \"1NzvurSghdEJdX0UsfdyuOcOyh6n3jUDo\"\n",
        "folder_files <- drive_ls(as_id(folder_id))\n",
        "\n",
        "for (i in 1:nrow(folder_files)) {\n",
        "  file_id <- folder_files$id[i]\n",
        "  file_name <- folder_files$name[i]\n",
        "  drive_download(as_id(file_id), path = paste0(folder_loc,file_name), overwrite = TRUE)\n",
        "}"
      ],
      "metadata": {
        "colab": {
          "base_uri": "https://localhost:8080/"
        },
        "id": "dqW2ASxSJY3a",
        "outputId": "44717d5d-dba9-46ad-fc5c-cff5c7bdfba7"
      },
      "execution_count": 12,
      "outputs": [
        {
          "output_type": "stream",
          "name": "stderr",
          "text": [
            "File downloaded:\n",
            "\n",
            "• \u001b[36mOahu_LS_composite_2012_2018-0000000000-0000044800.tif\u001b[39m\n",
            "  \u001b[90m<id: 1ig_nM95kDvLr8dgYlp0PQyx65YAYkAbI>\u001b[39m\n",
            "\n",
            "Saved locally as:\n",
            "\n",
            "• \u001b[34m/content/predictor_variables/LandSat_composite/Oahu_LS_composite_2012_2018-0000000000-0000044800.tif\u001b[39m\n",
            "\n",
            "File downloaded:\n",
            "\n",
            "• \u001b[36mOahu_LS_composite_2012_2018-0000017920-0000026880.tif\u001b[39m\n",
            "  \u001b[90m<id: 1R_TWiUhuLGchd-MWbL19NaY5wUSgNUwp>\u001b[39m\n",
            "\n",
            "Saved locally as:\n",
            "\n",
            "• \u001b[34m/content/predictor_variables/LandSat_composite/Oahu_LS_composite_2012_2018-0000017920-0000026880.tif\u001b[39m\n",
            "\n",
            "File downloaded:\n",
            "\n",
            "• \u001b[36mOahu_LS_composite_2012_2018-0000008960-0000000000.tif\u001b[39m\n",
            "  \u001b[90m<id: 1bYSagWcYRfVwL8WnD7RDFYbL8SWM3709>\u001b[39m\n",
            "\n",
            "Saved locally as:\n",
            "\n",
            "• \u001b[34m/content/predictor_variables/LandSat_composite/Oahu_LS_composite_2012_2018-0000008960-0000000000.tif\u001b[39m\n",
            "\n",
            "File downloaded:\n",
            "\n",
            "• \u001b[36mOahu_LS_composite_2012_2018-0000026880-0000044800.tif\u001b[39m\n",
            "  \u001b[90m<id: 15wOx4LbskGPYH2MBokQ2g210Z69OR10V>\u001b[39m\n",
            "\n",
            "Saved locally as:\n",
            "\n",
            "• \u001b[34m/content/predictor_variables/LandSat_composite/Oahu_LS_composite_2012_2018-0000026880-0000044800.tif\u001b[39m\n",
            "\n",
            "File downloaded:\n",
            "\n",
            "• \u001b[36mHawaii_LS_composite_2012_2018.tif\u001b[39m \u001b[90m<id: 1EJWKN1fQFk10ODucJaJ-Y85kwAIAkXdO>\u001b[39m\n",
            "\n",
            "Saved locally as:\n",
            "\n",
            "• \u001b[34m/content/predictor_variables/LandSat_composite/Hawaii_LS_composite_2012_2018.tif\u001b[39m\n",
            "\n",
            "File downloaded:\n",
            "\n",
            "• \u001b[36mOahu_LS_composite_2012_2018-0000000000-0000026880.tif\u001b[39m\n",
            "  \u001b[90m<id: 1x1OPChnSFwnKTsOqrBPopbJQKJTTmabl>\u001b[39m\n",
            "\n",
            "Saved locally as:\n",
            "\n",
            "• \u001b[34m/content/predictor_variables/LandSat_composite/Oahu_LS_composite_2012_2018-0000000000-0000026880.tif\u001b[39m\n",
            "\n",
            "File downloaded:\n",
            "\n",
            "• \u001b[36mOahu_LS_composite_2012_2018-0000017920-0000044800.tif\u001b[39m\n",
            "  \u001b[90m<id: 1Am-dtw1x7OaH8wFAoSNjl9ZuknVezhJM>\u001b[39m\n",
            "\n",
            "Saved locally as:\n",
            "\n",
            "• \u001b[34m/content/predictor_variables/LandSat_composite/Oahu_LS_composite_2012_2018-0000017920-0000044800.tif\u001b[39m\n",
            "\n",
            "File downloaded:\n",
            "\n",
            "• \u001b[36mOahu_LS_composite_2012_2018-0000026880-0000062720.tif\u001b[39m\n",
            "  \u001b[90m<id: 198oPEMLWxG_yw81FiQZPX_QYynTnTCNU>\u001b[39m\n",
            "\n",
            "Saved locally as:\n",
            "\n",
            "• \u001b[34m/content/predictor_variables/LandSat_composite/Oahu_LS_composite_2012_2018-0000026880-0000062720.tif\u001b[39m\n",
            "\n",
            "File downloaded:\n",
            "\n",
            "• \u001b[36mOahu_LS_composite_2012_2018-0000000000-0000000000.tif\u001b[39m\n",
            "  \u001b[90m<id: 14PMYBdBOSiJLSmW6jNmf0U5UO_87s2GM>\u001b[39m\n",
            "\n",
            "Saved locally as:\n",
            "\n",
            "• \u001b[34m/content/predictor_variables/LandSat_composite/Oahu_LS_composite_2012_2018-0000000000-0000000000.tif\u001b[39m\n",
            "\n",
            "File downloaded:\n",
            "\n",
            "• \u001b[36mOahu_LS_composite_2012_2018-0000008960-0000071680.tif\u001b[39m\n",
            "  \u001b[90m<id: 1h048N56sL8ONS__dq3Rvv5AcoqXj5OW5>\u001b[39m\n",
            "\n",
            "Saved locally as:\n",
            "\n",
            "• \u001b[34m/content/predictor_variables/LandSat_composite/Oahu_LS_composite_2012_2018-0000008960-0000071680.tif\u001b[39m\n",
            "\n",
            "File downloaded:\n",
            "\n",
            "• \u001b[36mOahu_LS_composite_2012_2018-0000026880-0000053760.tif\u001b[39m\n",
            "  \u001b[90m<id: 1GYZbsuuHnIppFck45JbPTeuL1yjpZurC>\u001b[39m\n",
            "\n",
            "Saved locally as:\n",
            "\n",
            "• \u001b[34m/content/predictor_variables/LandSat_composite/Oahu_LS_composite_2012_2018-0000026880-0000053760.tif\u001b[39m\n",
            "\n",
            "File downloaded:\n",
            "\n",
            "• \u001b[36mOahu_LS_composite_2012_2018-0000008960-0000026880.tif\u001b[39m\n",
            "  \u001b[90m<id: 1yaE46GTtCsjXAhqK43HzMHgfMicRjMnK>\u001b[39m\n",
            "\n",
            "Saved locally as:\n",
            "\n",
            "• \u001b[34m/content/predictor_variables/LandSat_composite/Oahu_LS_composite_2012_2018-0000008960-0000026880.tif\u001b[39m\n",
            "\n",
            "File downloaded:\n",
            "\n",
            "• \u001b[36mOahu_LS_composite_2012_2018-0000017920-0000071680.tif\u001b[39m\n",
            "  \u001b[90m<id: 1RwYELhXCf7GH4SmJjxmKaJrXDyyfC-o9>\u001b[39m\n",
            "\n",
            "Saved locally as:\n",
            "\n",
            "• \u001b[34m/content/predictor_variables/LandSat_composite/Oahu_LS_composite_2012_2018-0000017920-0000071680.tif\u001b[39m\n",
            "\n",
            "File downloaded:\n",
            "\n",
            "• \u001b[36mOahu_LS_composite_2012_2018-0000026880-0000008960.tif\u001b[39m\n",
            "  \u001b[90m<id: 1xx19M_Qj9I0MaNGswJnTpSxWN_u7obGZ>\u001b[39m\n",
            "\n",
            "Saved locally as:\n",
            "\n",
            "• \u001b[34m/content/predictor_variables/LandSat_composite/Oahu_LS_composite_2012_2018-0000026880-0000008960.tif\u001b[39m\n",
            "\n",
            "File downloaded:\n",
            "\n",
            "• \u001b[36mNiihau_LS_composite_2012_2018.tif\u001b[39m \u001b[90m<id: 1yphCVOxcRgBOKdhvOOQunCnObkHhPWWx>\u001b[39m\n",
            "\n",
            "Saved locally as:\n",
            "\n",
            "• \u001b[34m/content/predictor_variables/LandSat_composite/Niihau_LS_composite_2012_2018.tif\u001b[39m\n",
            "\n",
            "File downloaded:\n",
            "\n",
            "• \u001b[36mOahu_LS_composite_2012_2018-0000000000-0000062720.tif\u001b[39m\n",
            "  \u001b[90m<id: 1qqDjZP0D1X87I02GNyy1JxhCC1p9EU-e>\u001b[39m\n",
            "\n",
            "Saved locally as:\n",
            "\n",
            "• \u001b[34m/content/predictor_variables/LandSat_composite/Oahu_LS_composite_2012_2018-0000000000-0000062720.tif\u001b[39m\n",
            "\n",
            "File downloaded:\n",
            "\n",
            "• \u001b[36mOahu_LS_composite_2012_2018-0000026880-0000000000.tif\u001b[39m\n",
            "  \u001b[90m<id: 11Q2dyTnizWzqOtDqYeehdJJvwEqz5pCG>\u001b[39m\n",
            "\n",
            "Saved locally as:\n",
            "\n",
            "• \u001b[34m/content/predictor_variables/LandSat_composite/Oahu_LS_composite_2012_2018-0000026880-0000000000.tif\u001b[39m\n",
            "\n",
            "File downloaded:\n",
            "\n",
            "• \u001b[36mOahu_LS_composite_2012_2018-0000000000-0000053760.tif\u001b[39m\n",
            "  \u001b[90m<id: 1YM8FG8GlFzOu5eTzsu8yuzQSxK8tWoHn>\u001b[39m\n",
            "\n",
            "Saved locally as:\n",
            "\n",
            "• \u001b[34m/content/predictor_variables/LandSat_composite/Oahu_LS_composite_2012_2018-0000000000-0000053760.tif\u001b[39m\n",
            "\n",
            "File downloaded:\n",
            "\n",
            "• \u001b[36mOahu_LS_composite_2012_2018-0000008960-0000008960.tif\u001b[39m\n",
            "  \u001b[90m<id: 1MmA9-7zA4WYeUxfrCIBxOR6a8dthU1mu>\u001b[39m\n",
            "\n",
            "Saved locally as:\n",
            "\n",
            "• \u001b[34m/content/predictor_variables/LandSat_composite/Oahu_LS_composite_2012_2018-0000008960-0000008960.tif\u001b[39m\n",
            "\n",
            "File downloaded:\n",
            "\n",
            "• \u001b[36mOahu_LS_composite_2012_2018-0000008960-0000017920.tif\u001b[39m\n",
            "  \u001b[90m<id: 1kyc-1KtcvgapgBlnwC_jbblvvUKTd2XI>\u001b[39m\n",
            "\n",
            "Saved locally as:\n",
            "\n",
            "• \u001b[34m/content/predictor_variables/LandSat_composite/Oahu_LS_composite_2012_2018-0000008960-0000017920.tif\u001b[39m\n",
            "\n",
            "File downloaded:\n",
            "\n",
            "• \u001b[36mOahu_LS_composite_2012_2018-0000008960-0000035840.tif\u001b[39m\n",
            "  \u001b[90m<id: 1sxPsCuwNjHyfO2Sxit0jVfG_jai9IJWR>\u001b[39m\n",
            "\n",
            "Saved locally as:\n",
            "\n",
            "• \u001b[34m/content/predictor_variables/LandSat_composite/Oahu_LS_composite_2012_2018-0000008960-0000035840.tif\u001b[39m\n",
            "\n",
            "File downloaded:\n",
            "\n",
            "• \u001b[36mOahu_LS_composite_2012_2018-0000008960-0000044800.tif\u001b[39m\n",
            "  \u001b[90m<id: 1hwLxZy9U_FN0n7OYaFc9PiyeVQew8j_b>\u001b[39m\n",
            "\n",
            "Saved locally as:\n",
            "\n",
            "• \u001b[34m/content/predictor_variables/LandSat_composite/Oahu_LS_composite_2012_2018-0000008960-0000044800.tif\u001b[39m\n",
            "\n",
            "File downloaded:\n",
            "\n",
            "• \u001b[36mOahu_LS_composite_2012_2018-0000017920-0000000000.tif\u001b[39m\n",
            "  \u001b[90m<id: 1VYpYFZohAipbD_Z06HoIsQr11JoGHV3Q>\u001b[39m\n",
            "\n",
            "Saved locally as:\n",
            "\n",
            "• \u001b[34m/content/predictor_variables/LandSat_composite/Oahu_LS_composite_2012_2018-0000017920-0000000000.tif\u001b[39m\n",
            "\n",
            "File downloaded:\n",
            "\n",
            "• \u001b[36mOahu_LS_composite_2012_2018-0000017920-0000053760.tif\u001b[39m\n",
            "  \u001b[90m<id: 1GyLpxk5ukusI1n5Ya9XObOxgaP84J-Sd>\u001b[39m\n",
            "\n",
            "Saved locally as:\n",
            "\n",
            "• \u001b[34m/content/predictor_variables/LandSat_composite/Oahu_LS_composite_2012_2018-0000017920-0000053760.tif\u001b[39m\n",
            "\n",
            "File downloaded:\n",
            "\n",
            "• \u001b[36mMolokai_LS_composite_2012_2018.tif\u001b[39m \u001b[90m<id: 1PAdKrn74OPn0DABilto8YIJNdOBOBBKE>\u001b[39m\n",
            "\n",
            "Saved locally as:\n",
            "\n",
            "• \u001b[34m/content/predictor_variables/LandSat_composite/Molokai_LS_composite_2012_2018.tif\u001b[39m\n",
            "\n",
            "File downloaded:\n",
            "\n",
            "• \u001b[36mOahu_LS_composite_2012_2018-0000017920-0000035840.tif\u001b[39m\n",
            "  \u001b[90m<id: 1qzaZk95zg4oCVYBoC6WX2yjC_szZlejJ>\u001b[39m\n",
            "\n",
            "Saved locally as:\n",
            "\n",
            "• \u001b[34m/content/predictor_variables/LandSat_composite/Oahu_LS_composite_2012_2018-0000017920-0000035840.tif\u001b[39m\n",
            "\n",
            "File downloaded:\n",
            "\n",
            "• \u001b[36mOahu_LS_composite_2012_2018-0000000000-0000035840.tif\u001b[39m\n",
            "  \u001b[90m<id: 1Tyc-6B7SqE1nMRBDbSzNP9KvoItaogpC>\u001b[39m\n",
            "\n",
            "Saved locally as:\n",
            "\n",
            "• \u001b[34m/content/predictor_variables/LandSat_composite/Oahu_LS_composite_2012_2018-0000000000-0000035840.tif\u001b[39m\n",
            "\n",
            "File downloaded:\n",
            "\n",
            "• \u001b[36mOahu_LS_composite_2012_2018-0000000000-0000071680.tif\u001b[39m\n",
            "  \u001b[90m<id: 1V7Tmq9NV1KfuzEf8tYl-PwSfgffdVcBd>\u001b[39m\n",
            "\n",
            "Saved locally as:\n",
            "\n",
            "• \u001b[34m/content/predictor_variables/LandSat_composite/Oahu_LS_composite_2012_2018-0000000000-0000071680.tif\u001b[39m\n",
            "\n",
            "File downloaded:\n",
            "\n",
            "• \u001b[36mOahu_LS_composite_2012_2018-0000008960-0000053760.tif\u001b[39m\n",
            "  \u001b[90m<id: 1SBJ51492ILEcwYJF4lCbsTDKekGeOJLX>\u001b[39m\n",
            "\n",
            "Saved locally as:\n",
            "\n",
            "• \u001b[34m/content/predictor_variables/LandSat_composite/Oahu_LS_composite_2012_2018-0000008960-0000053760.tif\u001b[39m\n",
            "\n",
            "File downloaded:\n",
            "\n",
            "• \u001b[36mOahu_LS_composite_2012_2018-0000017920-0000008960.tif\u001b[39m\n",
            "  \u001b[90m<id: 1tc5SGvkmD3xnqTQRgJYwSDIO6XizPZsQ>\u001b[39m\n",
            "\n",
            "Saved locally as:\n",
            "\n",
            "• \u001b[34m/content/predictor_variables/LandSat_composite/Oahu_LS_composite_2012_2018-0000017920-0000008960.tif\u001b[39m\n",
            "\n",
            "File downloaded:\n",
            "\n",
            "• \u001b[36mOahu_LS_composite_2012_2018-0000017920-0000017920.tif\u001b[39m\n",
            "  \u001b[90m<id: 1ZY5VU3dqQEzST-a_Y_N5psClMkj0LhS6>\u001b[39m\n",
            "\n",
            "Saved locally as:\n",
            "\n",
            "• \u001b[34m/content/predictor_variables/LandSat_composite/Oahu_LS_composite_2012_2018-0000017920-0000017920.tif\u001b[39m\n",
            "\n",
            "File downloaded:\n",
            "\n",
            "• \u001b[36mOahu_LS_composite_2012_2018-0000017920-0000062720.tif\u001b[39m\n",
            "  \u001b[90m<id: 1zt-5ulXvabmU1WZTGG9_B038VL5l1jVC>\u001b[39m\n",
            "\n",
            "Saved locally as:\n",
            "\n",
            "• \u001b[34m/content/predictor_variables/LandSat_composite/Oahu_LS_composite_2012_2018-0000017920-0000062720.tif\u001b[39m\n",
            "\n",
            "File downloaded:\n",
            "\n",
            "• \u001b[36mOahu_LS_composite_2012_2018-0000026880-0000026880.tif\u001b[39m\n",
            "  \u001b[90m<id: 1xxTL6LDIVpeqV5drANGRBrmTOP-R7OJL>\u001b[39m\n",
            "\n",
            "Saved locally as:\n",
            "\n",
            "• \u001b[34m/content/predictor_variables/LandSat_composite/Oahu_LS_composite_2012_2018-0000026880-0000026880.tif\u001b[39m\n",
            "\n",
            "File downloaded:\n",
            "\n",
            "• \u001b[36mOahu_LS_composite_2012_2018-0000026880-0000071680.tif\u001b[39m\n",
            "  \u001b[90m<id: 1EYTgSBFIkoImi8KSh3k3dA7Q-RKgvViS>\u001b[39m\n",
            "\n",
            "Saved locally as:\n",
            "\n",
            "• \u001b[34m/content/predictor_variables/LandSat_composite/Oahu_LS_composite_2012_2018-0000026880-0000071680.tif\u001b[39m\n",
            "\n",
            "File downloaded:\n",
            "\n",
            "• \u001b[36mOahu_LS_composite_2012_2018-0000000000-0000008960.tif\u001b[39m\n",
            "  \u001b[90m<id: 1Xhd-_PQ6u9UqwNFx5xFncC5OPCPFm5pd>\u001b[39m\n",
            "\n",
            "Saved locally as:\n",
            "\n",
            "• \u001b[34m/content/predictor_variables/LandSat_composite/Oahu_LS_composite_2012_2018-0000000000-0000008960.tif\u001b[39m\n",
            "\n",
            "File downloaded:\n",
            "\n",
            "• \u001b[36mOahu_LS_composite_2012_2018-0000000000-0000017920.tif\u001b[39m\n",
            "  \u001b[90m<id: 1P-i9XcN4qsnfiy26vyORkmuzXIpWrI-D>\u001b[39m\n",
            "\n",
            "Saved locally as:\n",
            "\n",
            "• \u001b[34m/content/predictor_variables/LandSat_composite/Oahu_LS_composite_2012_2018-0000000000-0000017920.tif\u001b[39m\n",
            "\n",
            "File downloaded:\n",
            "\n",
            "• \u001b[36mOahu_LS_composite_2012_2018-0000008960-0000062720.tif\u001b[39m\n",
            "  \u001b[90m<id: 1beEDV7FQzjHqHVcGwPANRnSX-irJkYJg>\u001b[39m\n",
            "\n",
            "Saved locally as:\n",
            "\n",
            "• \u001b[34m/content/predictor_variables/LandSat_composite/Oahu_LS_composite_2012_2018-0000008960-0000062720.tif\u001b[39m\n",
            "\n",
            "File downloaded:\n",
            "\n",
            "• \u001b[36mOahu_LS_composite_2012_2018-0000026880-0000017920.tif\u001b[39m\n",
            "  \u001b[90m<id: 1M7xCSw8mfrToCz1W8hyk3bo2J4jYxLfn>\u001b[39m\n",
            "\n",
            "Saved locally as:\n",
            "\n",
            "• \u001b[34m/content/predictor_variables/LandSat_composite/Oahu_LS_composite_2012_2018-0000026880-0000017920.tif\u001b[39m\n",
            "\n",
            "File downloaded:\n",
            "\n",
            "• \u001b[36mOahu_LS_composite_2012_2018-0000026880-0000035840.tif\u001b[39m\n",
            "  \u001b[90m<id: 1Z0yJMivrU2OTyml7vilXcHAMtd2VRWgK>\u001b[39m\n",
            "\n",
            "Saved locally as:\n",
            "\n",
            "• \u001b[34m/content/predictor_variables/LandSat_composite/Oahu_LS_composite_2012_2018-0000026880-0000035840.tif\u001b[39m\n",
            "\n",
            "File downloaded:\n",
            "\n",
            "• \u001b[36mKauai_LS_composite_2012_2018.tif\u001b[39m \u001b[90m<id: 15dHlF672gbMBoAbVs8L71k5KVQsDq2m3>\u001b[39m\n",
            "\n",
            "Saved locally as:\n",
            "\n",
            "• \u001b[34m/content/predictor_variables/LandSat_composite/Kauai_LS_composite_2012_2018.tif\u001b[39m\n",
            "\n",
            "File downloaded:\n",
            "\n",
            "• \u001b[36mLanai_LS_composite_2012_2018.tif\u001b[39m \u001b[90m<id: 1CdXltYRNLCwcbZio9rHAMcN2Gvzl8XNM>\u001b[39m\n",
            "\n",
            "Saved locally as:\n",
            "\n",
            "• \u001b[34m/content/predictor_variables/LandSat_composite/Lanai_LS_composite_2012_2018.tif\u001b[39m\n",
            "\n",
            "File downloaded:\n",
            "\n",
            "• \u001b[36mMaui_LS_composite_2012_2018.tif\u001b[39m \u001b[90m<id: 1SPz_lbxHhtjwIBO7qFuOvpLNHqhrR3kv>\u001b[39m\n",
            "\n",
            "Saved locally as:\n",
            "\n",
            "• \u001b[34m/content/predictor_variables/LandSat_composite/Maui_LS_composite_2012_2018.tif\u001b[39m\n",
            "\n"
          ]
        }
      ]
    },
    {
      "cell_type": "code",
      "source": [
        "folder_loc <- '/content/predictor_variables/DynamicWorld_landcover/'\n",
        "dir.create(folder_loc)\n",
        "\n",
        "# https://drive.google.com/drive/folders/152pjTArpwlDVGjXFoSU9bmo1BDSKdCqq?usp=drive_link\n",
        "folder_id <- \"152pjTArpwlDVGjXFoSU9bmo1BDSKdCqq\"\n",
        "folder_files <- drive_ls(as_id(folder_id))\n",
        "\n",
        "for (i in 1:nrow(folder_files)) {\n",
        "  file_id <- folder_files$id[i]\n",
        "  file_name <- folder_files$name[i]\n",
        "  drive_download(as_id(file_id), path = paste0(folder_loc,file_name), overwrite = TRUE)\n",
        "}"
      ],
      "metadata": {
        "colab": {
          "base_uri": "https://localhost:8080/"
        },
        "id": "JEWwTbKvJonY",
        "outputId": "aff77780-0474-4385-9dd6-ab33e5e5a519"
      },
      "execution_count": 13,
      "outputs": [
        {
          "output_type": "stream",
          "name": "stderr",
          "text": [
            "File downloaded:\n",
            "\n",
            "• \u001b[36mOahu_Average_Land_Cover_Buffer_2000m_2015_to_2019-0000000000-0000074240.tif\u001b[39m\n",
            "  \u001b[90m<id: 1Tnsd4PZQSPdEbdX3VtH-_doNBWuyWMtl>\u001b[39m\n",
            "\n",
            "Saved locally as:\n",
            "\n",
            "• \u001b[34m/content/predictor_variables/DynamicWorld_landcover/Oahu_Average_Land_Cover_Buffer_2000m_2015_to_2019-0000000000-0000074240.tif\u001b[39m\n",
            "\n",
            "File downloaded:\n",
            "\n",
            "• \u001b[36mOahu_Average_Land_Cover_Buffer_2000m_2015_to_2019-0000000000-0000185600.tif\u001b[39m\n",
            "  \u001b[90m<id: 19DtTLjlI_AVs4xBGyW5wjulRZljoOCC9>\u001b[39m\n",
            "\n",
            "Saved locally as:\n",
            "\n",
            "• \u001b[34m/content/predictor_variables/DynamicWorld_landcover/Oahu_Average_Land_Cover_Buffer_2000m_2015_to_2019-0000000000-0000185600.tif\u001b[39m\n",
            "\n",
            "File downloaded:\n",
            "\n",
            "• \u001b[36mOahu_Average_Land_Cover_Buffer_2000m_2015_to_2019-0000007424-0000074240.tif\u001b[39m\n",
            "  \u001b[90m<id: 1onONrmPMlNMtLjBkensOCDfagUTROlW2>\u001b[39m\n",
            "\n",
            "Saved locally as:\n",
            "\n",
            "• \u001b[34m/content/predictor_variables/DynamicWorld_landcover/Oahu_Average_Land_Cover_Buffer_2000m_2015_to_2019-0000007424-0000074240.tif\u001b[39m\n",
            "\n",
            "File downloaded:\n",
            "\n",
            "• \u001b[36mOahu_Average_Land_Cover_Buffer_2000m_2015_to_2019-0000007424-0000089088.tif\u001b[39m\n",
            "  \u001b[90m<id: 1K3KKn6GQhq1RKZaXwqaxCtl41QacTtv9>\u001b[39m\n",
            "\n",
            "Saved locally as:\n",
            "\n",
            "• \u001b[34m/content/predictor_variables/DynamicWorld_landcover/Oahu_Average_Land_Cover_Buffer_2000m_2015_to_2019-0000007424-0000089088.tif\u001b[39m\n",
            "\n",
            "File downloaded:\n",
            "\n",
            "• \u001b[36mOahu_Average_Land_Cover_Buffer_2000m_2015_to_2019-0000007424-0000103936.tif\u001b[39m\n",
            "  \u001b[90m<id: 19KQI6bn0pbfsV-olRNpHGj1uiE1mSjqD>\u001b[39m\n",
            "\n",
            "Saved locally as:\n",
            "\n",
            "• \u001b[34m/content/predictor_variables/DynamicWorld_landcover/Oahu_Average_Land_Cover_Buffer_2000m_2015_to_2019-0000007424-0000103936.tif\u001b[39m\n",
            "\n",
            "File downloaded:\n",
            "\n",
            "• \u001b[36mOahu_Average_Land_Cover_Buffer_2000m_2015_to_2019-0000007424-0000126208.tif\u001b[39m\n",
            "  \u001b[90m<id: 1ZPIc0k_mHJrM0bvOEw6m9fLBiTcdBY39>\u001b[39m\n",
            "\n",
            "Saved locally as:\n",
            "\n",
            "• \u001b[34m/content/predictor_variables/DynamicWorld_landcover/Oahu_Average_Land_Cover_Buffer_2000m_2015_to_2019-0000007424-0000126208.tif\u001b[39m\n",
            "\n",
            "File downloaded:\n",
            "\n",
            "• \u001b[36mOahu_Average_Land_Cover_Buffer_2000m_2015_to_2019-0000007424-0000170752.tif\u001b[39m\n",
            "  \u001b[90m<id: 1WrnSkATz9nk_zupVTu7dmB1OIuR8WW-l>\u001b[39m\n",
            "\n",
            "Saved locally as:\n",
            "\n",
            "• \u001b[34m/content/predictor_variables/DynamicWorld_landcover/Oahu_Average_Land_Cover_Buffer_2000m_2015_to_2019-0000007424-0000170752.tif\u001b[39m\n",
            "\n",
            "File downloaded:\n",
            "\n",
            "• \u001b[36mOahu_Average_Land_Cover_Buffer_2000m_2015_to_2019-0000007424-0000193024.tif\u001b[39m\n",
            "  \u001b[90m<id: 1LYpsLuD3I41nw7dzn2iragALgzqlSDfe>\u001b[39m\n",
            "\n",
            "Saved locally as:\n",
            "\n",
            "• \u001b[34m/content/predictor_variables/DynamicWorld_landcover/Oahu_Average_Land_Cover_Buffer_2000m_2015_to_2019-0000007424-0000193024.tif\u001b[39m\n",
            "\n",
            "File downloaded:\n",
            "\n",
            "• \u001b[36mOahu_Average_Land_Cover_Buffer_2000m_2015_to_2019-0000007424-0000215296.tif\u001b[39m\n",
            "  \u001b[90m<id: 1JE9RhZn6CtKD8F_AbXA5MvBQj0u0t-IY>\u001b[39m\n",
            "\n",
            "Saved locally as:\n",
            "\n",
            "• \u001b[34m/content/predictor_variables/DynamicWorld_landcover/Oahu_Average_Land_Cover_Buffer_2000m_2015_to_2019-0000007424-0000215296.tif\u001b[39m\n",
            "\n",
            "File downloaded:\n",
            "\n",
            "• \u001b[36mOahu_Average_Land_Cover_Buffer_2000m_2015_to_2019-0000014848-0000126208.tif\u001b[39m\n",
            "  \u001b[90m<id: 1v2KyzBp72xz6sfeMu1uRrwBe-OHyrd4K>\u001b[39m\n",
            "\n",
            "Saved locally as:\n",
            "\n",
            "• \u001b[34m/content/predictor_variables/DynamicWorld_landcover/Oahu_Average_Land_Cover_Buffer_2000m_2015_to_2019-0000014848-0000126208.tif\u001b[39m\n",
            "\n",
            "File downloaded:\n",
            "\n",
            "• \u001b[36mOahu_Average_Land_Cover_Buffer_2000m_2015_to_2019-0000014848-0000141056.tif\u001b[39m\n",
            "  \u001b[90m<id: 1DbLIcbvCpOlbamw5PvTK3xPwCtU_7A2k>\u001b[39m\n",
            "\n",
            "Saved locally as:\n",
            "\n",
            "• \u001b[34m/content/predictor_variables/DynamicWorld_landcover/Oahu_Average_Land_Cover_Buffer_2000m_2015_to_2019-0000014848-0000141056.tif\u001b[39m\n",
            "\n",
            "File downloaded:\n",
            "\n",
            "• \u001b[36mOahu_Average_Land_Cover_Buffer_2000m_2015_to_2019-0000014848-0000170752.tif\u001b[39m\n",
            "  \u001b[90m<id: 1R2sRorsYJ7F2I8ffWsHWq1y2GxlnqqQv>\u001b[39m\n",
            "\n",
            "Saved locally as:\n",
            "\n",
            "• \u001b[34m/content/predictor_variables/DynamicWorld_landcover/Oahu_Average_Land_Cover_Buffer_2000m_2015_to_2019-0000014848-0000170752.tif\u001b[39m\n",
            "\n",
            "File downloaded:\n",
            "\n",
            "• \u001b[36mOahu_Average_Land_Cover_Buffer_2000m_2015_to_2019-0000022272-0000007424.tif\u001b[39m\n",
            "  \u001b[90m<id: 1Vzz8ZhC78WFzTND-r5Q1czQd_3JRR_Fw>\u001b[39m\n",
            "\n",
            "Saved locally as:\n",
            "\n",
            "• \u001b[34m/content/predictor_variables/DynamicWorld_landcover/Oahu_Average_Land_Cover_Buffer_2000m_2015_to_2019-0000022272-0000007424.tif\u001b[39m\n",
            "\n",
            "File downloaded:\n",
            "\n",
            "• \u001b[36mOahu_Average_Land_Cover_Buffer_2000m_2015_to_2019-0000022272-0000044544.tif\u001b[39m\n",
            "  \u001b[90m<id: 1dcJxjczVyEa8VRoSNy24NhVoMkm0BH7w>\u001b[39m\n",
            "\n",
            "Saved locally as:\n",
            "\n",
            "• \u001b[34m/content/predictor_variables/DynamicWorld_landcover/Oahu_Average_Land_Cover_Buffer_2000m_2015_to_2019-0000022272-0000044544.tif\u001b[39m\n",
            "\n",
            "File downloaded:\n",
            "\n",
            "• \u001b[36mOahu_Average_Land_Cover_Buffer_2000m_2015_to_2019-0000022272-0000193024.tif\u001b[39m\n",
            "  \u001b[90m<id: 1pHOsmbJYUz6qp_AL4jSIcZWr6j1yQENw>\u001b[39m\n",
            "\n",
            "Saved locally as:\n",
            "\n",
            "• \u001b[34m/content/predictor_variables/DynamicWorld_landcover/Oahu_Average_Land_Cover_Buffer_2000m_2015_to_2019-0000022272-0000193024.tif\u001b[39m\n",
            "\n",
            "File downloaded:\n",
            "\n",
            "• \u001b[36mOahu_Average_Land_Cover_Buffer_2000m_2015_to_2019-0000022272-0000230144.tif\u001b[39m\n",
            "  \u001b[90m<id: 1G8YxLed8ce0VHrBteBjriz1ECyAUz3Kc>\u001b[39m\n",
            "\n",
            "Saved locally as:\n",
            "\n",
            "• \u001b[34m/content/predictor_variables/DynamicWorld_landcover/Oahu_Average_Land_Cover_Buffer_2000m_2015_to_2019-0000022272-0000230144.tif\u001b[39m\n",
            "\n",
            "File downloaded:\n",
            "\n",
            "• \u001b[36mOahu_Average_Land_Cover_Buffer_2000m_2015_to_2019-0000029696-0000022272.tif\u001b[39m\n",
            "  \u001b[90m<id: 1FrDZXUBHxQKx4SvazD-AbmLhl2xqKlt4>\u001b[39m\n",
            "\n",
            "Saved locally as:\n",
            "\n",
            "• \u001b[34m/content/predictor_variables/DynamicWorld_landcover/Oahu_Average_Land_Cover_Buffer_2000m_2015_to_2019-0000029696-0000022272.tif\u001b[39m\n",
            "\n",
            "File downloaded:\n",
            "\n",
            "• \u001b[36mOahu_Average_Land_Cover_Buffer_2000m_2015_to_2019-0000029696-0000200448.tif\u001b[39m\n",
            "  \u001b[90m<id: 1IC74REQdFmNyhekBWNyDPgxbO0Q65LBd>\u001b[39m\n",
            "\n",
            "Saved locally as:\n",
            "\n",
            "• \u001b[34m/content/predictor_variables/DynamicWorld_landcover/Oahu_Average_Land_Cover_Buffer_2000m_2015_to_2019-0000029696-0000200448.tif\u001b[39m\n",
            "\n",
            "File downloaded:\n",
            "\n",
            "• \u001b[36mOahu_Average_Land_Cover_Buffer_2000m_2015_to_2019-0000037120-0000089088.tif\u001b[39m\n",
            "  \u001b[90m<id: 10nU44w81U2f_PSjGyuaKv6AUX5RwmM_w>\u001b[39m\n",
            "\n",
            "Saved locally as:\n",
            "\n",
            "• \u001b[34m/content/predictor_variables/DynamicWorld_landcover/Oahu_Average_Land_Cover_Buffer_2000m_2015_to_2019-0000037120-0000089088.tif\u001b[39m\n",
            "\n",
            "File downloaded:\n",
            "\n",
            "• \u001b[36mOahu_Average_Land_Cover_Buffer_2000m_2015_to_2019-0000037120-0000133632.tif\u001b[39m\n",
            "  \u001b[90m<id: 1PUwARoSisenh11vi3UTG6GF_4fI4Lqqm>\u001b[39m\n",
            "\n",
            "Saved locally as:\n",
            "\n",
            "• \u001b[34m/content/predictor_variables/DynamicWorld_landcover/Oahu_Average_Land_Cover_Buffer_2000m_2015_to_2019-0000037120-0000133632.tif\u001b[39m\n",
            "\n",
            "File downloaded:\n",
            "\n",
            "• \u001b[36mOahu_Average_Land_Cover_Buffer_2000m_2015_to_2019-0000044544-0000022272.tif\u001b[39m\n",
            "  \u001b[90m<id: 1FCiLb2hWsfutHEUPn2So9CIn1nIpeLrR>\u001b[39m\n",
            "\n",
            "Saved locally as:\n",
            "\n",
            "• \u001b[34m/content/predictor_variables/DynamicWorld_landcover/Oahu_Average_Land_Cover_Buffer_2000m_2015_to_2019-0000044544-0000022272.tif\u001b[39m\n",
            "\n",
            "File downloaded:\n",
            "\n",
            "• \u001b[36mOahu_Average_Land_Cover_Buffer_2000m_2015_to_2019-0000051968-0000037120.tif\u001b[39m\n",
            "  \u001b[90m<id: 14loXycA2dmie151DkZbf7PwkIiDgS3oe>\u001b[39m\n",
            "\n",
            "Saved locally as:\n",
            "\n",
            "• \u001b[34m/content/predictor_variables/DynamicWorld_landcover/Oahu_Average_Land_Cover_Buffer_2000m_2015_to_2019-0000051968-0000037120.tif\u001b[39m\n",
            "\n",
            "File downloaded:\n",
            "\n",
            "• \u001b[36mOahu_Average_Land_Cover_Buffer_2000m_2015_to_2019-0000051968-0000155904.tif\u001b[39m\n",
            "  \u001b[90m<id: 1p1oXgvSqy1defHwmb7pV4vQXJHAvoPsb>\u001b[39m\n",
            "\n",
            "Saved locally as:\n",
            "\n",
            "• \u001b[34m/content/predictor_variables/DynamicWorld_landcover/Oahu_Average_Land_Cover_Buffer_2000m_2015_to_2019-0000051968-0000155904.tif\u001b[39m\n",
            "\n",
            "File downloaded:\n",
            "\n",
            "• \u001b[36mOahu_Average_Land_Cover_Buffer_2000m_2015_to_2019-0000051968-0000215296.tif\u001b[39m\n",
            "  \u001b[90m<id: 1Cow0lTf1WQHzzUgiGf9SttT2Ansf9Fd8>\u001b[39m\n",
            "\n",
            "Saved locally as:\n",
            "\n",
            "• \u001b[34m/content/predictor_variables/DynamicWorld_landcover/Oahu_Average_Land_Cover_Buffer_2000m_2015_to_2019-0000051968-0000215296.tif\u001b[39m\n",
            "\n",
            "File downloaded:\n",
            "\n",
            "• \u001b[36mOahu_Average_Land_Cover_Buffer_2000m_2015_to_2019-0000059392-0000037120.tif\u001b[39m\n",
            "  \u001b[90m<id: 1kz-5_QfnIVwQTS4gmtFHOSIO4f9LvEHv>\u001b[39m\n",
            "\n",
            "Saved locally as:\n",
            "\n",
            "• \u001b[34m/content/predictor_variables/DynamicWorld_landcover/Oahu_Average_Land_Cover_Buffer_2000m_2015_to_2019-0000059392-0000037120.tif\u001b[39m\n",
            "\n",
            "File downloaded:\n",
            "\n",
            "• \u001b[36mOahu_Average_Land_Cover_Buffer_2000m_2015_to_2019-0000059392-0000118784.tif\u001b[39m\n",
            "  \u001b[90m<id: 1Ei-kV_kuDBVW1KcdpdxpcEFxGapcigvR>\u001b[39m\n",
            "\n",
            "Saved locally as:\n",
            "\n",
            "• \u001b[34m/content/predictor_variables/DynamicWorld_landcover/Oahu_Average_Land_Cover_Buffer_2000m_2015_to_2019-0000059392-0000118784.tif\u001b[39m\n",
            "\n",
            "File downloaded:\n",
            "\n",
            "• \u001b[36mOahu_Average_Land_Cover_Buffer_2000m_2015_to_2019-0000059392-0000193024.tif\u001b[39m\n",
            "  \u001b[90m<id: 1xDsJE9ArIKwb2F9ABI4pKmc30TCTPxUV>\u001b[39m\n",
            "\n",
            "Saved locally as:\n",
            "\n",
            "• \u001b[34m/content/predictor_variables/DynamicWorld_landcover/Oahu_Average_Land_Cover_Buffer_2000m_2015_to_2019-0000059392-0000193024.tif\u001b[39m\n",
            "\n",
            "File downloaded:\n",
            "\n",
            "• \u001b[36mOahu_Average_Land_Cover_Buffer_2000m_2015_to_2019-0000059392-0000207872.tif\u001b[39m\n",
            "  \u001b[90m<id: 11M9IIVPT0WR2rssPnGARD9n2xq1lmz7x>\u001b[39m\n",
            "\n",
            "Saved locally as:\n",
            "\n",
            "• \u001b[34m/content/predictor_variables/DynamicWorld_landcover/Oahu_Average_Land_Cover_Buffer_2000m_2015_to_2019-0000059392-0000207872.tif\u001b[39m\n",
            "\n",
            "File downloaded:\n",
            "\n",
            "• \u001b[36mOahu_Average_Land_Cover_Buffer_2000m_2015_to_2019-0000066816-0000007424.tif\u001b[39m\n",
            "  \u001b[90m<id: 1pxFNKwGsMVacKhvO9eqPYc0puiVQVCgq>\u001b[39m\n",
            "\n",
            "Saved locally as:\n",
            "\n",
            "• \u001b[34m/content/predictor_variables/DynamicWorld_landcover/Oahu_Average_Land_Cover_Buffer_2000m_2015_to_2019-0000066816-0000007424.tif\u001b[39m\n",
            "\n",
            "File downloaded:\n",
            "\n",
            "• \u001b[36mOahu_Average_Land_Cover_Buffer_2000m_2015_to_2019-0000066816-0000111360.tif\u001b[39m\n",
            "  \u001b[90m<id: 1vJwzXZqC--CkHhg0zUCsWoOVGWu6Bazt>\u001b[39m\n",
            "\n",
            "Saved locally as:\n",
            "\n",
            "• \u001b[34m/content/predictor_variables/DynamicWorld_landcover/Oahu_Average_Land_Cover_Buffer_2000m_2015_to_2019-0000066816-0000111360.tif\u001b[39m\n",
            "\n",
            "File downloaded:\n",
            "\n",
            "• \u001b[36mOahu_Average_Land_Cover_Buffer_2000m_2015_to_2019-0000066816-0000118784.tif\u001b[39m\n",
            "  \u001b[90m<id: 1pyzf95s9drdhsCxERzaqa3c2G7bzQ2fN>\u001b[39m\n",
            "\n",
            "Saved locally as:\n",
            "\n",
            "• \u001b[34m/content/predictor_variables/DynamicWorld_landcover/Oahu_Average_Land_Cover_Buffer_2000m_2015_to_2019-0000066816-0000118784.tif\u001b[39m\n",
            "\n",
            "File downloaded:\n",
            "\n",
            "• \u001b[36mOahu_Average_Land_Cover_Buffer_2000m_2015_to_2019-0000066816-0000148480.tif\u001b[39m\n",
            "  \u001b[90m<id: 1PN7KpKmK_i53EmMwmzaC0Sl_LmgLUM20>\u001b[39m\n",
            "\n",
            "Saved locally as:\n",
            "\n",
            "• \u001b[34m/content/predictor_variables/DynamicWorld_landcover/Oahu_Average_Land_Cover_Buffer_2000m_2015_to_2019-0000066816-0000148480.tif\u001b[39m\n",
            "\n",
            "File downloaded:\n",
            "\n",
            "• \u001b[36mOahu_Average_Land_Cover_Buffer_2000m_2015_to_2019-0000000000-0000066816.tif\u001b[39m\n",
            "  \u001b[90m<id: 1K1hjg40OHKlyX5fjaLFLXtFNy_nYSAq8>\u001b[39m\n",
            "\n",
            "Saved locally as:\n",
            "\n",
            "• \u001b[34m/content/predictor_variables/DynamicWorld_landcover/Oahu_Average_Land_Cover_Buffer_2000m_2015_to_2019-0000000000-0000066816.tif\u001b[39m\n",
            "\n",
            "File downloaded:\n",
            "\n",
            "• \u001b[36mOahu_Average_Land_Cover_Buffer_2000m_2015_to_2019-0000000000-0000096512.tif\u001b[39m\n",
            "  \u001b[90m<id: 1yT-Vrd6x4kvaONBg9LE98vaEbNyoeZi3>\u001b[39m\n",
            "\n",
            "Saved locally as:\n",
            "\n",
            "• \u001b[34m/content/predictor_variables/DynamicWorld_landcover/Oahu_Average_Land_Cover_Buffer_2000m_2015_to_2019-0000000000-0000096512.tif\u001b[39m\n",
            "\n",
            "File downloaded:\n",
            "\n",
            "• \u001b[36mOahu_Average_Land_Cover_Buffer_2000m_2015_to_2019-0000000000-0000103936.tif\u001b[39m\n",
            "  \u001b[90m<id: 10GhtdlAn4dtGmy6DWKJQx9lUREsmU1C7>\u001b[39m\n",
            "\n",
            "Saved locally as:\n",
            "\n",
            "• \u001b[34m/content/predictor_variables/DynamicWorld_landcover/Oahu_Average_Land_Cover_Buffer_2000m_2015_to_2019-0000000000-0000103936.tif\u001b[39m\n",
            "\n",
            "File downloaded:\n",
            "\n",
            "• \u001b[36mOahu_Average_Land_Cover_Buffer_2000m_2015_to_2019-0000000000-0000163328.tif\u001b[39m\n",
            "  \u001b[90m<id: 1ot623cVuW5kTgW0shejUsljHD-oPgY5o>\u001b[39m\n",
            "\n",
            "Saved locally as:\n",
            "\n",
            "• \u001b[34m/content/predictor_variables/DynamicWorld_landcover/Oahu_Average_Land_Cover_Buffer_2000m_2015_to_2019-0000000000-0000163328.tif\u001b[39m\n",
            "\n",
            "File downloaded:\n",
            "\n",
            "• \u001b[36mOahu_Average_Land_Cover_Buffer_2000m_2015_to_2019-0000000000-0000200448.tif\u001b[39m\n",
            "  \u001b[90m<id: 1d1budUOMeLAnuM2sc0XRwNaGJDVYD6mi>\u001b[39m\n",
            "\n",
            "Saved locally as:\n",
            "\n",
            "• \u001b[34m/content/predictor_variables/DynamicWorld_landcover/Oahu_Average_Land_Cover_Buffer_2000m_2015_to_2019-0000000000-0000200448.tif\u001b[39m\n",
            "\n",
            "File downloaded:\n",
            "\n",
            "• \u001b[36mOahu_Average_Land_Cover_Buffer_2000m_2015_to_2019-0000007424-0000029696.tif\u001b[39m\n",
            "  \u001b[90m<id: 1miXuX9lM96oyja-YfYXNqpVtusrZ2Tno>\u001b[39m\n",
            "\n",
            "Saved locally as:\n",
            "\n",
            "• \u001b[34m/content/predictor_variables/DynamicWorld_landcover/Oahu_Average_Land_Cover_Buffer_2000m_2015_to_2019-0000007424-0000029696.tif\u001b[39m\n",
            "\n",
            "File downloaded:\n",
            "\n",
            "• \u001b[36mOahu_Average_Land_Cover_Buffer_2000m_2015_to_2019-0000007424-0000185600.tif\u001b[39m\n",
            "  \u001b[90m<id: 17PDGMJclETmCZ9LOPAZHq0YoLSzGgz3G>\u001b[39m\n",
            "\n",
            "Saved locally as:\n",
            "\n",
            "• \u001b[34m/content/predictor_variables/DynamicWorld_landcover/Oahu_Average_Land_Cover_Buffer_2000m_2015_to_2019-0000007424-0000185600.tif\u001b[39m\n",
            "\n",
            "File downloaded:\n",
            "\n",
            "• \u001b[36mOahu_Average_Land_Cover_Buffer_2000m_2015_to_2019-0000014848-0000059392.tif\u001b[39m\n",
            "  \u001b[90m<id: 1_3A3CU2JsgftJoA5MzYk2m1QBHUTKOcU>\u001b[39m\n",
            "\n",
            "Saved locally as:\n",
            "\n",
            "• \u001b[34m/content/predictor_variables/DynamicWorld_landcover/Oahu_Average_Land_Cover_Buffer_2000m_2015_to_2019-0000014848-0000059392.tif\u001b[39m\n",
            "\n",
            "File downloaded:\n",
            "\n",
            "• \u001b[36mOahu_Average_Land_Cover_Buffer_2000m_2015_to_2019-0000022272-0000222720.tif\u001b[39m\n",
            "  \u001b[90m<id: 1OMyaThNoUkyL9cq88Fx0e2qAFIIZ5cbj>\u001b[39m\n",
            "\n",
            "Saved locally as:\n",
            "\n",
            "• \u001b[34m/content/predictor_variables/DynamicWorld_landcover/Oahu_Average_Land_Cover_Buffer_2000m_2015_to_2019-0000022272-0000222720.tif\u001b[39m\n",
            "\n",
            "File downloaded:\n",
            "\n",
            "• \u001b[36mOahu_Average_Land_Cover_Buffer_2000m_2015_to_2019-0000029696-0000059392.tif\u001b[39m\n",
            "  \u001b[90m<id: 1p903QhyChS1cLFQw3hBs5PDr0HoIpwFS>\u001b[39m\n",
            "\n",
            "Saved locally as:\n",
            "\n",
            "• \u001b[34m/content/predictor_variables/DynamicWorld_landcover/Oahu_Average_Land_Cover_Buffer_2000m_2015_to_2019-0000029696-0000059392.tif\u001b[39m\n",
            "\n",
            "File downloaded:\n",
            "\n",
            "• \u001b[36mOahu_Average_Land_Cover_Buffer_2000m_2015_to_2019-0000029696-0000111360.tif\u001b[39m\n",
            "  \u001b[90m<id: 15Gto8mtL5HhBbA5kvP7dS9NAZJiL1LBt>\u001b[39m\n",
            "\n",
            "Saved locally as:\n",
            "\n",
            "• \u001b[34m/content/predictor_variables/DynamicWorld_landcover/Oahu_Average_Land_Cover_Buffer_2000m_2015_to_2019-0000029696-0000111360.tif\u001b[39m\n",
            "\n",
            "File downloaded:\n",
            "\n",
            "• \u001b[36mOahu_Average_Land_Cover_Buffer_2000m_2015_to_2019-0000037120-0000215296.tif\u001b[39m\n",
            "  \u001b[90m<id: 1NFjMiA9aJfhqJo0d5CuOKDifq2CQFAda>\u001b[39m\n",
            "\n",
            "Saved locally as:\n",
            "\n",
            "• \u001b[34m/content/predictor_variables/DynamicWorld_landcover/Oahu_Average_Land_Cover_Buffer_2000m_2015_to_2019-0000037120-0000215296.tif\u001b[39m\n",
            "\n",
            "File downloaded:\n",
            "\n",
            "• \u001b[36mOahu_Average_Land_Cover_Buffer_2000m_2015_to_2019-0000037120-0000222720.tif\u001b[39m\n",
            "  \u001b[90m<id: 1hLcJW0C_PqfcdthYtm-i-jxjXyiF0giU>\u001b[39m\n",
            "\n",
            "Saved locally as:\n",
            "\n",
            "• \u001b[34m/content/predictor_variables/DynamicWorld_landcover/Oahu_Average_Land_Cover_Buffer_2000m_2015_to_2019-0000037120-0000222720.tif\u001b[39m\n",
            "\n",
            "File downloaded:\n",
            "\n",
            "• \u001b[36mOahu_Average_Land_Cover_Buffer_2000m_2015_to_2019-0000044544-0000007424.tif\u001b[39m\n",
            "  \u001b[90m<id: 1gdhGgYk2BSZBISn-Z4wm-GsZ6ANzcP7->\u001b[39m\n",
            "\n",
            "Saved locally as:\n",
            "\n",
            "• \u001b[34m/content/predictor_variables/DynamicWorld_landcover/Oahu_Average_Land_Cover_Buffer_2000m_2015_to_2019-0000044544-0000007424.tif\u001b[39m\n",
            "\n",
            "File downloaded:\n",
            "\n",
            "• \u001b[36mOahu_Average_Land_Cover_Buffer_2000m_2015_to_2019-0000044544-0000014848.tif\u001b[39m\n",
            "  \u001b[90m<id: 16cV6hygxwcHJxEFDSZPpg9D5LviClXsw>\u001b[39m\n",
            "\n",
            "Saved locally as:\n",
            "\n",
            "• \u001b[34m/content/predictor_variables/DynamicWorld_landcover/Oahu_Average_Land_Cover_Buffer_2000m_2015_to_2019-0000044544-0000014848.tif\u001b[39m\n",
            "\n",
            "File downloaded:\n",
            "\n",
            "• \u001b[36mOahu_Average_Land_Cover_Buffer_2000m_2015_to_2019-0000044544-0000029696.tif\u001b[39m\n",
            "  \u001b[90m<id: 1_3E5ZB7wYDstan57Y6wL6z08z5_UxNkB>\u001b[39m\n",
            "\n",
            "Saved locally as:\n",
            "\n",
            "• \u001b[34m/content/predictor_variables/DynamicWorld_landcover/Oahu_Average_Land_Cover_Buffer_2000m_2015_to_2019-0000044544-0000029696.tif\u001b[39m\n",
            "\n",
            "File downloaded:\n",
            "\n",
            "• \u001b[36mOahu_Average_Land_Cover_Buffer_2000m_2015_to_2019-0000044544-0000170752.tif\u001b[39m\n",
            "  \u001b[90m<id: 1-rJBBQTO34UXxhsW02H66csVH45SNcI1>\u001b[39m\n",
            "\n",
            "Saved locally as:\n",
            "\n",
            "• \u001b[34m/content/predictor_variables/DynamicWorld_landcover/Oahu_Average_Land_Cover_Buffer_2000m_2015_to_2019-0000044544-0000170752.tif\u001b[39m\n",
            "\n",
            "File downloaded:\n",
            "\n",
            "• \u001b[36mOahu_Average_Land_Cover_Buffer_2000m_2015_to_2019-0000059392-0000126208.tif\u001b[39m\n",
            "  \u001b[90m<id: 162UaKMH2Pk17kTWMO0jOM4i-8vi7Xf7e>\u001b[39m\n",
            "\n",
            "Saved locally as:\n",
            "\n",
            "• \u001b[34m/content/predictor_variables/DynamicWorld_landcover/Oahu_Average_Land_Cover_Buffer_2000m_2015_to_2019-0000059392-0000126208.tif\u001b[39m\n",
            "\n",
            "File downloaded:\n",
            "\n",
            "• \u001b[36mOahu_Average_Land_Cover_Buffer_2000m_2015_to_2019-0000059392-0000133632.tif\u001b[39m\n",
            "  \u001b[90m<id: 1kO8CnFztubB4Y1xkED1Wu7oy_QmEsNrE>\u001b[39m\n",
            "\n",
            "Saved locally as:\n",
            "\n",
            "• \u001b[34m/content/predictor_variables/DynamicWorld_landcover/Oahu_Average_Land_Cover_Buffer_2000m_2015_to_2019-0000059392-0000133632.tif\u001b[39m\n",
            "\n",
            "File downloaded:\n",
            "\n",
            "• \u001b[36mOahu_Average_Land_Cover_Buffer_2000m_2015_to_2019-0000059392-0000185600.tif\u001b[39m\n",
            "  \u001b[90m<id: 1cgOBsRUQLjot3jR5xAIEkDPY-GYNO2oJ>\u001b[39m\n",
            "\n",
            "Saved locally as:\n",
            "\n",
            "• \u001b[34m/content/predictor_variables/DynamicWorld_landcover/Oahu_Average_Land_Cover_Buffer_2000m_2015_to_2019-0000059392-0000185600.tif\u001b[39m\n",
            "\n",
            "File downloaded:\n",
            "\n",
            "• \u001b[36mOahu_Average_Land_Cover_Buffer_2000m_2015_to_2019-0000066816-0000059392.tif\u001b[39m\n",
            "  \u001b[90m<id: 1mlRTtoIXJUETETiQpMNZ_vPIGesJwecX>\u001b[39m\n",
            "\n",
            "Saved locally as:\n",
            "\n",
            "• \u001b[34m/content/predictor_variables/DynamicWorld_landcover/Oahu_Average_Land_Cover_Buffer_2000m_2015_to_2019-0000066816-0000059392.tif\u001b[39m\n",
            "\n",
            "File downloaded:\n",
            "\n",
            "• \u001b[36mOahu_Average_Land_Cover_Buffer_2000m_2015_to_2019-0000066816-0000133632.tif\u001b[39m\n",
            "  \u001b[90m<id: 1gvsYobtrUp0R7aqEZxdu73P-7JDoZuB8>\u001b[39m\n",
            "\n",
            "Saved locally as:\n",
            "\n",
            "• \u001b[34m/content/predictor_variables/DynamicWorld_landcover/Oahu_Average_Land_Cover_Buffer_2000m_2015_to_2019-0000066816-0000133632.tif\u001b[39m\n",
            "\n",
            "File downloaded:\n",
            "\n",
            "• \u001b[36mOahu_Average_Land_Cover_Buffer_2000m_2015_to_2019-0000074240-0000007424.tif\u001b[39m\n",
            "  \u001b[90m<id: 13dFr366pLKp1paa1xS9pl1j9ry9Xv-23>\u001b[39m\n",
            "\n",
            "Saved locally as:\n",
            "\n",
            "• \u001b[34m/content/predictor_variables/DynamicWorld_landcover/Oahu_Average_Land_Cover_Buffer_2000m_2015_to_2019-0000074240-0000007424.tif\u001b[39m\n",
            "\n",
            "File downloaded:\n",
            "\n",
            "• \u001b[36mOahu_Average_Land_Cover_Buffer_2000m_2015_to_2019-0000074240-0000044544.tif\u001b[39m\n",
            "  \u001b[90m<id: 15A59IXf-ByWuqZ9DC-pBsFRuLaVeHDdA>\u001b[39m\n",
            "\n",
            "Saved locally as:\n",
            "\n",
            "• \u001b[34m/content/predictor_variables/DynamicWorld_landcover/Oahu_Average_Land_Cover_Buffer_2000m_2015_to_2019-0000074240-0000044544.tif\u001b[39m\n",
            "\n",
            "File downloaded:\n",
            "\n",
            "• \u001b[36mOahu_Average_Land_Cover_Buffer_2000m_2015_to_2019-0000074240-0000066816.tif\u001b[39m\n",
            "  \u001b[90m<id: 1PIErF4O3OTVM7kOtXRIQ7OZo5lfnra4l>\u001b[39m\n",
            "\n",
            "Saved locally as:\n",
            "\n",
            "• \u001b[34m/content/predictor_variables/DynamicWorld_landcover/Oahu_Average_Land_Cover_Buffer_2000m_2015_to_2019-0000074240-0000066816.tif\u001b[39m\n",
            "\n",
            "File downloaded:\n",
            "\n",
            "• \u001b[36mOahu_Average_Land_Cover_Buffer_2000m_2015_to_2019-0000074240-0000133632.tif\u001b[39m\n",
            "  \u001b[90m<id: 1M9fHm81MJxrgUPT5YM5PPTZg6GXNuOmb>\u001b[39m\n",
            "\n",
            "Saved locally as:\n",
            "\n",
            "• \u001b[34m/content/predictor_variables/DynamicWorld_landcover/Oahu_Average_Land_Cover_Buffer_2000m_2015_to_2019-0000074240-0000133632.tif\u001b[39m\n",
            "\n",
            "File downloaded:\n",
            "\n",
            "• \u001b[36mOahu_Average_Land_Cover_Buffer_2000m_2015_to_2019-0000074240-0000222720.tif\u001b[39m\n",
            "  \u001b[90m<id: 1KLCjkT__5mZRpDNe3BZgJq-1apVKzh40>\u001b[39m\n",
            "\n",
            "Saved locally as:\n",
            "\n",
            "• \u001b[34m/content/predictor_variables/DynamicWorld_landcover/Oahu_Average_Land_Cover_Buffer_2000m_2015_to_2019-0000074240-0000222720.tif\u001b[39m\n",
            "\n",
            "File downloaded:\n",
            "\n",
            "• \u001b[36mOahu_Average_Land_Cover_Buffer_2000m_2015_to_2019-0000000000-0000118784.tif\u001b[39m\n",
            "  \u001b[90m<id: 1u1B6cPAuinESiMJ2tjpC8VW4H9hiQf11>\u001b[39m\n",
            "\n",
            "Saved locally as:\n",
            "\n",
            "• \u001b[34m/content/predictor_variables/DynamicWorld_landcover/Oahu_Average_Land_Cover_Buffer_2000m_2015_to_2019-0000000000-0000118784.tif\u001b[39m\n",
            "\n",
            "File downloaded:\n",
            "\n",
            "• \u001b[36mOahu_Average_Land_Cover_Buffer_2000m_2015_to_2019-0000000000-0000178176.tif\u001b[39m\n",
            "  \u001b[90m<id: 1YgJNrpDApEruvTCRwN7LAqHPKsvZf4Lz>\u001b[39m\n",
            "\n",
            "Saved locally as:\n",
            "\n",
            "• \u001b[34m/content/predictor_variables/DynamicWorld_landcover/Oahu_Average_Land_Cover_Buffer_2000m_2015_to_2019-0000000000-0000178176.tif\u001b[39m\n",
            "\n",
            "File downloaded:\n",
            "\n",
            "• \u001b[36mOahu_Average_Land_Cover_Buffer_2000m_2015_to_2019-0000000000-0000207872.tif\u001b[39m\n",
            "  \u001b[90m<id: 1641W8p6RmMuOktucr392EbYxWYp7m0Jx>\u001b[39m\n",
            "\n",
            "Saved locally as:\n",
            "\n",
            "• \u001b[34m/content/predictor_variables/DynamicWorld_landcover/Oahu_Average_Land_Cover_Buffer_2000m_2015_to_2019-0000000000-0000207872.tif\u001b[39m\n",
            "\n",
            "File downloaded:\n",
            "\n",
            "• \u001b[36mOahu_Average_Land_Cover_Buffer_2000m_2015_to_2019-0000007424-0000081664.tif\u001b[39m\n",
            "  \u001b[90m<id: 16kEFwKfL57ujMpMTwfxWh8Ol2_haCFuo>\u001b[39m\n",
            "\n",
            "Saved locally as:\n",
            "\n",
            "• \u001b[34m/content/predictor_variables/DynamicWorld_landcover/Oahu_Average_Land_Cover_Buffer_2000m_2015_to_2019-0000007424-0000081664.tif\u001b[39m\n",
            "\n",
            "File downloaded:\n",
            "\n",
            "• \u001b[36mOahu_Average_Land_Cover_Buffer_2000m_2015_to_2019-0000007424-0000155904.tif\u001b[39m\n",
            "  \u001b[90m<id: 1inWkXqZCYjYqDclIxVaGJ9ePCxubQzpe>\u001b[39m\n",
            "\n",
            "Saved locally as:\n",
            "\n",
            "• \u001b[34m/content/predictor_variables/DynamicWorld_landcover/Oahu_Average_Land_Cover_Buffer_2000m_2015_to_2019-0000007424-0000155904.tif\u001b[39m\n",
            "\n",
            "File downloaded:\n",
            "\n",
            "• \u001b[36mOahu_Average_Land_Cover_Buffer_2000m_2015_to_2019-0000007424-0000200448.tif\u001b[39m\n",
            "  \u001b[90m<id: 1vOvfqQeZv9j7iaFG9aYtdej99MJb1OeG>\u001b[39m\n",
            "\n",
            "Saved locally as:\n",
            "\n",
            "• \u001b[34m/content/predictor_variables/DynamicWorld_landcover/Oahu_Average_Land_Cover_Buffer_2000m_2015_to_2019-0000007424-0000200448.tif\u001b[39m\n",
            "\n",
            "File downloaded:\n",
            "\n",
            "• \u001b[36mOahu_Average_Land_Cover_Buffer_2000m_2015_to_2019-0000014848-0000000000.tif\u001b[39m\n",
            "  \u001b[90m<id: 1UXo1lTjf6G7T9bhcTRzY8e73gji5a4zd>\u001b[39m\n",
            "\n",
            "Saved locally as:\n",
            "\n",
            "• \u001b[34m/content/predictor_variables/DynamicWorld_landcover/Oahu_Average_Land_Cover_Buffer_2000m_2015_to_2019-0000014848-0000000000.tif\u001b[39m\n",
            "\n",
            "File downloaded:\n",
            "\n",
            "• \u001b[36mOahu_Average_Land_Cover_Buffer_2000m_2015_to_2019-0000014848-0000051968.tif\u001b[39m\n",
            "  \u001b[90m<id: 1gJ1HfIbcRAIqREwp7QkWqStPlsNdM5iy>\u001b[39m\n",
            "\n",
            "Saved locally as:\n",
            "\n",
            "• \u001b[34m/content/predictor_variables/DynamicWorld_landcover/Oahu_Average_Land_Cover_Buffer_2000m_2015_to_2019-0000014848-0000051968.tif\u001b[39m\n",
            "\n",
            "File downloaded:\n",
            "\n",
            "• \u001b[36mOahu_Average_Land_Cover_Buffer_2000m_2015_to_2019-0000014848-0000103936.tif\u001b[39m\n",
            "  \u001b[90m<id: 157NXte2eNUc_QAL7XNVgcDnq6LKlqFaO>\u001b[39m\n",
            "\n",
            "Saved locally as:\n",
            "\n",
            "• \u001b[34m/content/predictor_variables/DynamicWorld_landcover/Oahu_Average_Land_Cover_Buffer_2000m_2015_to_2019-0000014848-0000103936.tif\u001b[39m\n",
            "\n",
            "File downloaded:\n",
            "\n",
            "• \u001b[36mOahu_Average_Land_Cover_Buffer_2000m_2015_to_2019-0000014848-0000185600.tif\u001b[39m\n",
            "  \u001b[90m<id: 1Xjr47Gdz9juI83GzN6W2L7j6y1nVpakr>\u001b[39m\n",
            "\n",
            "Saved locally as:\n",
            "\n",
            "• \u001b[34m/content/predictor_variables/DynamicWorld_landcover/Oahu_Average_Land_Cover_Buffer_2000m_2015_to_2019-0000014848-0000185600.tif\u001b[39m\n",
            "\n",
            "File downloaded:\n",
            "\n",
            "• \u001b[36mOahu_Average_Land_Cover_Buffer_2000m_2015_to_2019-0000014848-0000230144.tif\u001b[39m\n",
            "  \u001b[90m<id: 173CPI5qim6SM5LSWsz9ZGl5Igv6dSorI>\u001b[39m\n",
            "\n",
            "Saved locally as:\n",
            "\n",
            "• \u001b[34m/content/predictor_variables/DynamicWorld_landcover/Oahu_Average_Land_Cover_Buffer_2000m_2015_to_2019-0000014848-0000230144.tif\u001b[39m\n",
            "\n",
            "File downloaded:\n",
            "\n",
            "• \u001b[36mOahu_Average_Land_Cover_Buffer_2000m_2015_to_2019-0000022272-0000022272.tif\u001b[39m\n",
            "  \u001b[90m<id: 1QXy1t1HvLiYRrW6vxAFwQ9VrIrlIb72A>\u001b[39m\n",
            "\n",
            "Saved locally as:\n",
            "\n",
            "• \u001b[34m/content/predictor_variables/DynamicWorld_landcover/Oahu_Average_Land_Cover_Buffer_2000m_2015_to_2019-0000022272-0000022272.tif\u001b[39m\n",
            "\n",
            "File downloaded:\n",
            "\n",
            "• \u001b[36mOahu_Average_Land_Cover_Buffer_2000m_2015_to_2019-0000022272-0000029696.tif\u001b[39m\n",
            "  \u001b[90m<id: 1AwTU4NQDOdJBZw4A7tUNDdMGoqFalBEE>\u001b[39m\n",
            "\n",
            "Saved locally as:\n",
            "\n",
            "• \u001b[34m/content/predictor_variables/DynamicWorld_landcover/Oahu_Average_Land_Cover_Buffer_2000m_2015_to_2019-0000022272-0000029696.tif\u001b[39m\n",
            "\n",
            "File downloaded:\n",
            "\n",
            "• \u001b[36mOahu_Average_Land_Cover_Buffer_2000m_2015_to_2019-0000022272-0000111360.tif\u001b[39m\n",
            "  \u001b[90m<id: 1oeGUegyqqT-ugBz-nYVsDZMM3J9PPxOC>\u001b[39m\n",
            "\n",
            "Saved locally as:\n",
            "\n",
            "• \u001b[34m/content/predictor_variables/DynamicWorld_landcover/Oahu_Average_Land_Cover_Buffer_2000m_2015_to_2019-0000022272-0000111360.tif\u001b[39m\n",
            "\n",
            "File downloaded:\n",
            "\n",
            "• \u001b[36mOahu_Average_Land_Cover_Buffer_2000m_2015_to_2019-0000022272-0000148480.tif\u001b[39m\n",
            "  \u001b[90m<id: 1jsMT6Thjmbu0l7LqkUd5beoKWblNEXoA>\u001b[39m\n",
            "\n",
            "Saved locally as:\n",
            "\n",
            "• \u001b[34m/content/predictor_variables/DynamicWorld_landcover/Oahu_Average_Land_Cover_Buffer_2000m_2015_to_2019-0000022272-0000148480.tif\u001b[39m\n",
            "\n",
            "File downloaded:\n",
            "\n",
            "• \u001b[36mOahu_Average_Land_Cover_Buffer_2000m_2015_to_2019-0000029696-0000096512.tif\u001b[39m\n",
            "  \u001b[90m<id: 1A_wsIgSIrFCBcRqHyy7kNblFqQ0vhtE8>\u001b[39m\n",
            "\n",
            "Saved locally as:\n",
            "\n",
            "• \u001b[34m/content/predictor_variables/DynamicWorld_landcover/Oahu_Average_Land_Cover_Buffer_2000m_2015_to_2019-0000029696-0000096512.tif\u001b[39m\n",
            "\n",
            "File downloaded:\n",
            "\n",
            "• \u001b[36mOahu_Average_Land_Cover_Buffer_2000m_2015_to_2019-0000029696-0000118784.tif\u001b[39m\n",
            "  \u001b[90m<id: 1dqkYomHZLbaFS8B8DxXa4_Z8Oe3rS4TY>\u001b[39m\n",
            "\n",
            "Saved locally as:\n",
            "\n",
            "• \u001b[34m/content/predictor_variables/DynamicWorld_landcover/Oahu_Average_Land_Cover_Buffer_2000m_2015_to_2019-0000029696-0000118784.tif\u001b[39m\n",
            "\n",
            "File downloaded:\n",
            "\n",
            "• \u001b[36mOahu_Average_Land_Cover_Buffer_2000m_2015_to_2019-0000029696-0000155904.tif\u001b[39m\n",
            "  \u001b[90m<id: 1TASFAX8EtLz3SILE5x8Z3HaKuEZBX9Xf>\u001b[39m\n",
            "\n",
            "Saved locally as:\n",
            "\n",
            "• \u001b[34m/content/predictor_variables/DynamicWorld_landcover/Oahu_Average_Land_Cover_Buffer_2000m_2015_to_2019-0000029696-0000155904.tif\u001b[39m\n",
            "\n",
            "File downloaded:\n",
            "\n",
            "• \u001b[36mOahu_Average_Land_Cover_Buffer_2000m_2015_to_2019-0000029696-0000170752.tif\u001b[39m\n",
            "  \u001b[90m<id: 12nMbs0nj-1dBvReLI9W4aMSpJoXzzD3s>\u001b[39m\n",
            "\n",
            "Saved locally as:\n",
            "\n",
            "• \u001b[34m/content/predictor_variables/DynamicWorld_landcover/Oahu_Average_Land_Cover_Buffer_2000m_2015_to_2019-0000029696-0000170752.tif\u001b[39m\n",
            "\n",
            "File downloaded:\n",
            "\n",
            "• \u001b[36mOahu_Average_Land_Cover_Buffer_2000m_2015_to_2019-0000037120-0000014848.tif\u001b[39m\n",
            "  \u001b[90m<id: 1xmG6ZksPZZ1RSg8yR06Atnh16pShwW3N>\u001b[39m\n",
            "\n",
            "Saved locally as:\n",
            "\n",
            "• \u001b[34m/content/predictor_variables/DynamicWorld_landcover/Oahu_Average_Land_Cover_Buffer_2000m_2015_to_2019-0000037120-0000014848.tif\u001b[39m\n",
            "\n",
            "File downloaded:\n",
            "\n",
            "• \u001b[36mOahu_Average_Land_Cover_Buffer_2000m_2015_to_2019-0000037120-0000044544.tif\u001b[39m\n",
            "  \u001b[90m<id: 1V6NeKK7lNfwDG9nrQ3gikYLrYJiZ_JFJ>\u001b[39m\n",
            "\n",
            "Saved locally as:\n",
            "\n",
            "• \u001b[34m/content/predictor_variables/DynamicWorld_landcover/Oahu_Average_Land_Cover_Buffer_2000m_2015_to_2019-0000037120-0000044544.tif\u001b[39m\n",
            "\n",
            "File downloaded:\n",
            "\n",
            "• \u001b[36mOahu_Average_Land_Cover_Buffer_2000m_2015_to_2019-0000037120-0000111360.tif\u001b[39m\n",
            "  \u001b[90m<id: 1mU63hxUBictkSlWlrbR168MIONBCiT35>\u001b[39m\n",
            "\n",
            "Saved locally as:\n",
            "\n",
            "• \u001b[34m/content/predictor_variables/DynamicWorld_landcover/Oahu_Average_Land_Cover_Buffer_2000m_2015_to_2019-0000037120-0000111360.tif\u001b[39m\n",
            "\n",
            "File downloaded:\n",
            "\n",
            "• \u001b[36mOahu_Average_Land_Cover_Buffer_2000m_2015_to_2019-0000037120-0000193024.tif\u001b[39m\n",
            "  \u001b[90m<id: 1skST2NlpT6hGLGYXT520rOBIX9H2k0oo>\u001b[39m\n",
            "\n",
            "Saved locally as:\n",
            "\n",
            "• \u001b[34m/content/predictor_variables/DynamicWorld_landcover/Oahu_Average_Land_Cover_Buffer_2000m_2015_to_2019-0000037120-0000193024.tif\u001b[39m\n",
            "\n",
            "File downloaded:\n",
            "\n",
            "• \u001b[36mOahu_Average_Land_Cover_Buffer_2000m_2015_to_2019-0000037120-0000200448.tif\u001b[39m\n",
            "  \u001b[90m<id: 1DxHpIpQI_P86UgLiFtKctauJCScPGieI>\u001b[39m\n",
            "\n",
            "Saved locally as:\n",
            "\n",
            "• \u001b[34m/content/predictor_variables/DynamicWorld_landcover/Oahu_Average_Land_Cover_Buffer_2000m_2015_to_2019-0000037120-0000200448.tif\u001b[39m\n",
            "\n",
            "File downloaded:\n",
            "\n",
            "• \u001b[36mOahu_Average_Land_Cover_Buffer_2000m_2015_to_2019-0000044544-0000215296.tif\u001b[39m\n",
            "  \u001b[90m<id: 1vw5g3RJyvTmOO7hQGNyM8807MPVkyBKz>\u001b[39m\n",
            "\n",
            "Saved locally as:\n",
            "\n",
            "• \u001b[34m/content/predictor_variables/DynamicWorld_landcover/Oahu_Average_Land_Cover_Buffer_2000m_2015_to_2019-0000044544-0000215296.tif\u001b[39m\n",
            "\n",
            "File downloaded:\n",
            "\n",
            "• \u001b[36mOahu_Average_Land_Cover_Buffer_2000m_2015_to_2019-0000007424-0000051968.tif\u001b[39m\n",
            "  \u001b[90m<id: 1loZkJZaPqymVZms07k6lusaXC8kLd4KU>\u001b[39m\n",
            "\n",
            "Saved locally as:\n",
            "\n",
            "• \u001b[34m/content/predictor_variables/DynamicWorld_landcover/Oahu_Average_Land_Cover_Buffer_2000m_2015_to_2019-0000007424-0000051968.tif\u001b[39m\n",
            "\n",
            "File downloaded:\n",
            "\n",
            "• \u001b[36mOahu_Average_Land_Cover_Buffer_2000m_2015_to_2019-0000007424-0000096512.tif\u001b[39m\n",
            "  \u001b[90m<id: 12WZZsotfizLogT8LNfk5xnd8B_SwxmX7>\u001b[39m\n",
            "\n",
            "Saved locally as:\n",
            "\n",
            "• \u001b[34m/content/predictor_variables/DynamicWorld_landcover/Oahu_Average_Land_Cover_Buffer_2000m_2015_to_2019-0000007424-0000096512.tif\u001b[39m\n",
            "\n",
            "File downloaded:\n",
            "\n",
            "• \u001b[36mOahu_Average_Land_Cover_Buffer_2000m_2015_to_2019-0000007424-0000178176.tif\u001b[39m\n",
            "  \u001b[90m<id: 1GCZGPfnik1pn82kzmMLIqKhXrSGZuDzy>\u001b[39m\n",
            "\n",
            "Saved locally as:\n",
            "\n",
            "• \u001b[34m/content/predictor_variables/DynamicWorld_landcover/Oahu_Average_Land_Cover_Buffer_2000m_2015_to_2019-0000007424-0000178176.tif\u001b[39m\n",
            "\n",
            "File downloaded:\n",
            "\n",
            "• \u001b[36mOahu_Average_Land_Cover_Buffer_2000m_2015_to_2019-0000014848-0000029696.tif\u001b[39m\n",
            "  \u001b[90m<id: 1wyF1iSuM4zeW0FTwnd7AWucNokuODudD>\u001b[39m\n",
            "\n",
            "Saved locally as:\n",
            "\n",
            "• \u001b[34m/content/predictor_variables/DynamicWorld_landcover/Oahu_Average_Land_Cover_Buffer_2000m_2015_to_2019-0000014848-0000029696.tif\u001b[39m\n",
            "\n",
            "File downloaded:\n",
            "\n",
            "• \u001b[36mOahu_Average_Land_Cover_Buffer_2000m_2015_to_2019-0000014848-0000074240.tif\u001b[39m\n",
            "  \u001b[90m<id: 1Lq1w99o5QM4YB1pTlMtGr9utSxyFktyE>\u001b[39m\n",
            "\n",
            "Saved locally as:\n",
            "\n",
            "• \u001b[34m/content/predictor_variables/DynamicWorld_landcover/Oahu_Average_Land_Cover_Buffer_2000m_2015_to_2019-0000014848-0000074240.tif\u001b[39m\n",
            "\n",
            "File downloaded:\n",
            "\n",
            "• \u001b[36mOahu_Average_Land_Cover_Buffer_2000m_2015_to_2019-0000014848-0000148480.tif\u001b[39m\n",
            "  \u001b[90m<id: 1Y_0JzNeqgGMelo6QDFHw4jCSxBGBE2L3>\u001b[39m\n",
            "\n",
            "Saved locally as:\n",
            "\n",
            "• \u001b[34m/content/predictor_variables/DynamicWorld_landcover/Oahu_Average_Land_Cover_Buffer_2000m_2015_to_2019-0000014848-0000148480.tif\u001b[39m\n",
            "\n",
            "File downloaded:\n",
            "\n",
            "• \u001b[36mOahu_Average_Land_Cover_Buffer_2000m_2015_to_2019-0000014848-0000193024.tif\u001b[39m\n",
            "  \u001b[90m<id: 1bzUfRzxNEVEKrly38VvxvzozgEGFN2oh>\u001b[39m\n",
            "\n",
            "Saved locally as:\n",
            "\n",
            "• \u001b[34m/content/predictor_variables/DynamicWorld_landcover/Oahu_Average_Land_Cover_Buffer_2000m_2015_to_2019-0000014848-0000193024.tif\u001b[39m\n",
            "\n",
            "File downloaded:\n",
            "\n",
            "• \u001b[36mOahu_Average_Land_Cover_Buffer_2000m_2015_to_2019-0000022272-0000141056.tif\u001b[39m\n",
            "  \u001b[90m<id: 1DvqMnHgV6Alsi6G1DPEc7UyLfVUpmjhc>\u001b[39m\n",
            "\n",
            "Saved locally as:\n",
            "\n",
            "• \u001b[34m/content/predictor_variables/DynamicWorld_landcover/Oahu_Average_Land_Cover_Buffer_2000m_2015_to_2019-0000022272-0000141056.tif\u001b[39m\n",
            "\n",
            "File downloaded:\n",
            "\n",
            "• \u001b[36mOahu_Average_Land_Cover_Buffer_2000m_2015_to_2019-0000022272-0000178176.tif\u001b[39m\n",
            "  \u001b[90m<id: 1qBlVXPyMr7QCBjOGq7zTKde-QKjIXMLk>\u001b[39m\n",
            "\n",
            "Saved locally as:\n",
            "\n",
            "• \u001b[34m/content/predictor_variables/DynamicWorld_landcover/Oahu_Average_Land_Cover_Buffer_2000m_2015_to_2019-0000022272-0000178176.tif\u001b[39m\n",
            "\n",
            "File downloaded:\n",
            "\n",
            "• \u001b[36mOahu_Average_Land_Cover_Buffer_2000m_2015_to_2019-0000022272-0000215296.tif\u001b[39m\n",
            "  \u001b[90m<id: 1EQwcNShZC6za3Mi-4yCoPFk8srL0KSCZ>\u001b[39m\n",
            "\n",
            "Saved locally as:\n",
            "\n",
            "• \u001b[34m/content/predictor_variables/DynamicWorld_landcover/Oahu_Average_Land_Cover_Buffer_2000m_2015_to_2019-0000022272-0000215296.tif\u001b[39m\n",
            "\n",
            "File downloaded:\n",
            "\n",
            "• \u001b[36mOahu_Average_Land_Cover_Buffer_2000m_2015_to_2019-0000037120-0000000000.tif\u001b[39m\n",
            "  \u001b[90m<id: 1eru5uy8CpLcjTU9_khzQQt6M8jiVU2-r>\u001b[39m\n",
            "\n",
            "Saved locally as:\n",
            "\n",
            "• \u001b[34m/content/predictor_variables/DynamicWorld_landcover/Oahu_Average_Land_Cover_Buffer_2000m_2015_to_2019-0000037120-0000000000.tif\u001b[39m\n",
            "\n",
            "File downloaded:\n",
            "\n",
            "• \u001b[36mOahu_Average_Land_Cover_Buffer_2000m_2015_to_2019-0000037120-0000029696.tif\u001b[39m\n",
            "  \u001b[90m<id: 1R2ZhmipzLJK61xx0b71LJzYoEQ3FQj_W>\u001b[39m\n",
            "\n",
            "Saved locally as:\n",
            "\n",
            "• \u001b[34m/content/predictor_variables/DynamicWorld_landcover/Oahu_Average_Land_Cover_Buffer_2000m_2015_to_2019-0000037120-0000029696.tif\u001b[39m\n",
            "\n",
            "File downloaded:\n",
            "\n",
            "• \u001b[36mOahu_Average_Land_Cover_Buffer_2000m_2015_to_2019-0000037120-0000037120.tif\u001b[39m\n",
            "  \u001b[90m<id: 1US4ZDjYNbRKgDyo9lTRFtfkotNGxp5xM>\u001b[39m\n",
            "\n",
            "Saved locally as:\n",
            "\n",
            "• \u001b[34m/content/predictor_variables/DynamicWorld_landcover/Oahu_Average_Land_Cover_Buffer_2000m_2015_to_2019-0000037120-0000037120.tif\u001b[39m\n",
            "\n",
            "File downloaded:\n",
            "\n",
            "• \u001b[36mOahu_Average_Land_Cover_Buffer_2000m_2015_to_2019-0000037120-0000126208.tif\u001b[39m\n",
            "  \u001b[90m<id: 1tT_KokLsp1zV5Qmb_NSuoFmA2DPxVZtN>\u001b[39m\n",
            "\n",
            "Saved locally as:\n",
            "\n",
            "• \u001b[34m/content/predictor_variables/DynamicWorld_landcover/Oahu_Average_Land_Cover_Buffer_2000m_2015_to_2019-0000037120-0000126208.tif\u001b[39m\n",
            "\n",
            "File downloaded:\n",
            "\n",
            "• \u001b[36mOahu_Average_Land_Cover_Buffer_2000m_2015_to_2019-0000044544-0000222720.tif\u001b[39m\n",
            "  \u001b[90m<id: 1q2HFg0D-By5pP-sCg5QKBdJz03-K9gEv>\u001b[39m\n",
            "\n",
            "Saved locally as:\n",
            "\n",
            "• \u001b[34m/content/predictor_variables/DynamicWorld_landcover/Oahu_Average_Land_Cover_Buffer_2000m_2015_to_2019-0000044544-0000222720.tif\u001b[39m\n",
            "\n",
            "File downloaded:\n",
            "\n",
            "• \u001b[36mOahu_Average_Land_Cover_Buffer_2000m_2015_to_2019-0000044544-0000230144.tif\u001b[39m\n",
            "  \u001b[90m<id: 1VyuVLyHcraOaAwPFE9A8ncymg9zsGON->\u001b[39m\n",
            "\n",
            "Saved locally as:\n",
            "\n",
            "• \u001b[34m/content/predictor_variables/DynamicWorld_landcover/Oahu_Average_Land_Cover_Buffer_2000m_2015_to_2019-0000044544-0000230144.tif\u001b[39m\n",
            "\n",
            "File downloaded:\n",
            "\n",
            "• \u001b[36mOahu_Average_Land_Cover_Buffer_2000m_2015_to_2019-0000051968-0000007424.tif\u001b[39m\n",
            "  \u001b[90m<id: 1l4jisRO3H92ed5suxePOYDUFKO0JfpS7>\u001b[39m\n",
            "\n",
            "Saved locally as:\n",
            "\n",
            "• \u001b[34m/content/predictor_variables/DynamicWorld_landcover/Oahu_Average_Land_Cover_Buffer_2000m_2015_to_2019-0000051968-0000007424.tif\u001b[39m\n",
            "\n",
            "File downloaded:\n",
            "\n",
            "• \u001b[36mOahu_Average_Land_Cover_Buffer_2000m_2015_to_2019-0000051968-0000014848.tif\u001b[39m\n",
            "  \u001b[90m<id: 1iVJ3ErtKUlJagOuah2I6bRmkVrI5ApLQ>\u001b[39m\n",
            "\n",
            "Saved locally as:\n",
            "\n",
            "• \u001b[34m/content/predictor_variables/DynamicWorld_landcover/Oahu_Average_Land_Cover_Buffer_2000m_2015_to_2019-0000051968-0000014848.tif\u001b[39m\n",
            "\n",
            "File downloaded:\n",
            "\n",
            "• \u001b[36mOahu_Average_Land_Cover_Buffer_2000m_2015_to_2019-0000051968-0000066816.tif\u001b[39m\n",
            "  \u001b[90m<id: 1yYO_xsEeVM49MHSdfjO40iPNQBtqPvuv>\u001b[39m\n",
            "\n",
            "Saved locally as:\n",
            "\n",
            "• \u001b[34m/content/predictor_variables/DynamicWorld_landcover/Oahu_Average_Land_Cover_Buffer_2000m_2015_to_2019-0000051968-0000066816.tif\u001b[39m\n",
            "\n",
            "File downloaded:\n",
            "\n",
            "• \u001b[36mOahu_Average_Land_Cover_Buffer_2000m_2015_to_2019-0000051968-0000133632.tif\u001b[39m\n",
            "  \u001b[90m<id: 1b-X1MNLdzRVHJxXMQZQkrQwKYz19SgHD>\u001b[39m\n",
            "\n",
            "Saved locally as:\n",
            "\n",
            "• \u001b[34m/content/predictor_variables/DynamicWorld_landcover/Oahu_Average_Land_Cover_Buffer_2000m_2015_to_2019-0000051968-0000133632.tif\u001b[39m\n",
            "\n",
            "File downloaded:\n",
            "\n",
            "• \u001b[36mOahu_Average_Land_Cover_Buffer_2000m_2015_to_2019-0000051968-0000163328.tif\u001b[39m\n",
            "  \u001b[90m<id: 1XhyLn26IoYl_R2zpdPRxYTCY0MzsLq5g>\u001b[39m\n",
            "\n",
            "Saved locally as:\n",
            "\n",
            "• \u001b[34m/content/predictor_variables/DynamicWorld_landcover/Oahu_Average_Land_Cover_Buffer_2000m_2015_to_2019-0000051968-0000163328.tif\u001b[39m\n",
            "\n",
            "File downloaded:\n",
            "\n",
            "• \u001b[36mOahu_Average_Land_Cover_Buffer_2000m_2015_to_2019-0000051968-0000200448.tif\u001b[39m\n",
            "  \u001b[90m<id: 1rNjZjjmaFFLzhWlT2sZG6Fqm5TubCIUX>\u001b[39m\n",
            "\n",
            "Saved locally as:\n",
            "\n",
            "• \u001b[34m/content/predictor_variables/DynamicWorld_landcover/Oahu_Average_Land_Cover_Buffer_2000m_2015_to_2019-0000051968-0000200448.tif\u001b[39m\n",
            "\n",
            "File downloaded:\n",
            "\n",
            "• \u001b[36mOahu_Average_Land_Cover_Buffer_2000m_2015_to_2019-0000051968-0000230144.tif\u001b[39m\n",
            "  \u001b[90m<id: 1kA2cCPTRKcWMtqPtD4XcxI51jcL6HLkW>\u001b[39m\n",
            "\n",
            "Saved locally as:\n",
            "\n",
            "• \u001b[34m/content/predictor_variables/DynamicWorld_landcover/Oahu_Average_Land_Cover_Buffer_2000m_2015_to_2019-0000051968-0000230144.tif\u001b[39m\n",
            "\n",
            "File downloaded:\n",
            "\n",
            "• \u001b[36mOahu_Average_Land_Cover_Buffer_2000m_2015_to_2019-0000059392-0000066816.tif\u001b[39m\n",
            "  \u001b[90m<id: 12PTrnWUcgMjeyTKVvTYqK0W_e4tI7MyC>\u001b[39m\n",
            "\n",
            "Saved locally as:\n",
            "\n",
            "• \u001b[34m/content/predictor_variables/DynamicWorld_landcover/Oahu_Average_Land_Cover_Buffer_2000m_2015_to_2019-0000059392-0000066816.tif\u001b[39m\n",
            "\n",
            "File downloaded:\n",
            "\n",
            "• \u001b[36mOahu_Average_Land_Cover_Buffer_2000m_2015_to_2019-0000059392-0000111360.tif\u001b[39m\n",
            "  \u001b[90m<id: 1LKpOSYcT_u_MUQ3-gz268foOLey_d2Zm>\u001b[39m\n",
            "\n",
            "Saved locally as:\n",
            "\n",
            "• \u001b[34m/content/predictor_variables/DynamicWorld_landcover/Oahu_Average_Land_Cover_Buffer_2000m_2015_to_2019-0000059392-0000111360.tif\u001b[39m\n",
            "\n",
            "File downloaded:\n",
            "\n",
            "• \u001b[36mOahu_Average_Land_Cover_Buffer_2000m_2015_to_2019-0000059392-0000230144.tif\u001b[39m\n",
            "  \u001b[90m<id: 1Kjfx2GHYQEuSQixuKg9ifOlFixsL7KK8>\u001b[39m\n",
            "\n",
            "Saved locally as:\n",
            "\n",
            "• \u001b[34m/content/predictor_variables/DynamicWorld_landcover/Oahu_Average_Land_Cover_Buffer_2000m_2015_to_2019-0000059392-0000230144.tif\u001b[39m\n",
            "\n",
            "File downloaded:\n",
            "\n",
            "• \u001b[36mOahu_Average_Land_Cover_Buffer_2000m_2015_to_2019-0000066816-0000044544.tif\u001b[39m\n",
            "  \u001b[90m<id: 1Z_CJKbawHv0d6kc1FGV0k8WkfiDPMzSV>\u001b[39m\n",
            "\n",
            "Saved locally as:\n",
            "\n",
            "• \u001b[34m/content/predictor_variables/DynamicWorld_landcover/Oahu_Average_Land_Cover_Buffer_2000m_2015_to_2019-0000066816-0000044544.tif\u001b[39m\n",
            "\n",
            "File downloaded:\n",
            "\n",
            "• \u001b[36mOahu_Average_Land_Cover_Buffer_2000m_2015_to_2019-0000066816-0000066816.tif\u001b[39m\n",
            "  \u001b[90m<id: 1u8IeFM0nAmBsQMvsTaw-xb1fquBsEDjz>\u001b[39m\n",
            "\n",
            "Saved locally as:\n",
            "\n",
            "• \u001b[34m/content/predictor_variables/DynamicWorld_landcover/Oahu_Average_Land_Cover_Buffer_2000m_2015_to_2019-0000066816-0000066816.tif\u001b[39m\n",
            "\n",
            "File downloaded:\n",
            "\n",
            "• \u001b[36mOahu_Average_Land_Cover_Buffer_2000m_2015_to_2019-0000066816-0000141056.tif\u001b[39m\n",
            "  \u001b[90m<id: 1nngIZejubtGzOQNO_8p9GzLW3jl2hh9h>\u001b[39m\n",
            "\n",
            "Saved locally as:\n",
            "\n",
            "• \u001b[34m/content/predictor_variables/DynamicWorld_landcover/Oahu_Average_Land_Cover_Buffer_2000m_2015_to_2019-0000066816-0000141056.tif\u001b[39m\n",
            "\n",
            "File downloaded:\n",
            "\n",
            "• \u001b[36mOahu_Average_Land_Cover_Buffer_2000m_2015_to_2019-0000066816-0000207872.tif\u001b[39m\n",
            "  \u001b[90m<id: 1MzXy4O0mvUuywrJtVG92tbEbtVFnAc_b>\u001b[39m\n",
            "\n",
            "Saved locally as:\n",
            "\n",
            "• \u001b[34m/content/predictor_variables/DynamicWorld_landcover/Oahu_Average_Land_Cover_Buffer_2000m_2015_to_2019-0000066816-0000207872.tif\u001b[39m\n",
            "\n",
            "File downloaded:\n",
            "\n",
            "• \u001b[36mOahu_Average_Land_Cover_Buffer_2000m_2015_to_2019-0000066816-0000230144.tif\u001b[39m\n",
            "  \u001b[90m<id: 1DfBIscFhqH_zy2Pqv4D-kulz5ASsQVfK>\u001b[39m\n",
            "\n",
            "Saved locally as:\n",
            "\n",
            "• \u001b[34m/content/predictor_variables/DynamicWorld_landcover/Oahu_Average_Land_Cover_Buffer_2000m_2015_to_2019-0000066816-0000230144.tif\u001b[39m\n",
            "\n",
            "File downloaded:\n",
            "\n",
            "• \u001b[36mOahu_Average_Land_Cover_Buffer_2000m_2015_to_2019-0000074240-0000000000.tif\u001b[39m\n",
            "  \u001b[90m<id: 1fQpMvE_YGlpkZbaaiY-6sC0K7KKmHi7S>\u001b[39m\n",
            "\n",
            "Saved locally as:\n",
            "\n",
            "• \u001b[34m/content/predictor_variables/DynamicWorld_landcover/Oahu_Average_Land_Cover_Buffer_2000m_2015_to_2019-0000074240-0000000000.tif\u001b[39m\n",
            "\n",
            "File downloaded:\n",
            "\n",
            "• \u001b[36mOahu_Average_Land_Cover_Buffer_2000m_2015_to_2019-0000074240-0000059392.tif\u001b[39m\n",
            "  \u001b[90m<id: 1_7pHVFRxHX3sfDTLA30eET_0e_Qr0DH6>\u001b[39m\n",
            "\n",
            "Saved locally as:\n",
            "\n",
            "• \u001b[34m/content/predictor_variables/DynamicWorld_landcover/Oahu_Average_Land_Cover_Buffer_2000m_2015_to_2019-0000074240-0000059392.tif\u001b[39m\n",
            "\n",
            "File downloaded:\n",
            "\n",
            "• \u001b[36mOahu_Average_Land_Cover_Buffer_2000m_2015_to_2019-0000074240-0000148480.tif\u001b[39m\n",
            "  \u001b[90m<id: 1pPrjAXTRquFK_PMJ_kQmxmbWE_zneZZG>\u001b[39m\n",
            "\n",
            "Saved locally as:\n",
            "\n",
            "• \u001b[34m/content/predictor_variables/DynamicWorld_landcover/Oahu_Average_Land_Cover_Buffer_2000m_2015_to_2019-0000074240-0000148480.tif\u001b[39m\n",
            "\n",
            "File downloaded:\n",
            "\n",
            "• \u001b[36mOahu_Average_Land_Cover_Buffer_2000m_2015_to_2019-0000000000-0000029696.tif\u001b[39m\n",
            "  \u001b[90m<id: 1TKYNHHyh4QR7cEu4wjyDDY6U_kvpyiOO>\u001b[39m\n",
            "\n",
            "Saved locally as:\n",
            "\n",
            "• \u001b[34m/content/predictor_variables/DynamicWorld_landcover/Oahu_Average_Land_Cover_Buffer_2000m_2015_to_2019-0000000000-0000029696.tif\u001b[39m\n",
            "\n",
            "File downloaded:\n",
            "\n",
            "• \u001b[36mOahu_Average_Land_Cover_Buffer_2000m_2015_to_2019-0000000000-0000051968.tif\u001b[39m\n",
            "  \u001b[90m<id: 1aHSyeMaOs8QWVKMB5MENQ2JE8HcJMLfa>\u001b[39m\n",
            "\n",
            "Saved locally as:\n",
            "\n",
            "• \u001b[34m/content/predictor_variables/DynamicWorld_landcover/Oahu_Average_Land_Cover_Buffer_2000m_2015_to_2019-0000000000-0000051968.tif\u001b[39m\n",
            "\n",
            "File downloaded:\n",
            "\n",
            "• \u001b[36mOahu_Average_Land_Cover_Buffer_2000m_2015_to_2019-0000000000-0000126208.tif\u001b[39m\n",
            "  \u001b[90m<id: 1EXEIyA_WgAfk5OZ1f1XADPh4h3pYENgV>\u001b[39m\n",
            "\n",
            "Saved locally as:\n",
            "\n",
            "• \u001b[34m/content/predictor_variables/DynamicWorld_landcover/Oahu_Average_Land_Cover_Buffer_2000m_2015_to_2019-0000000000-0000126208.tif\u001b[39m\n",
            "\n",
            "File downloaded:\n",
            "\n",
            "• \u001b[36mOahu_Average_Land_Cover_Buffer_2000m_2015_to_2019-0000000000-0000193024.tif\u001b[39m\n",
            "  \u001b[90m<id: 1tfhSiq3SJZHz6HutJRVSWPjPkaImPozc>\u001b[39m\n",
            "\n",
            "Saved locally as:\n",
            "\n",
            "• \u001b[34m/content/predictor_variables/DynamicWorld_landcover/Oahu_Average_Land_Cover_Buffer_2000m_2015_to_2019-0000000000-0000193024.tif\u001b[39m\n",
            "\n",
            "File downloaded:\n",
            "\n",
            "• \u001b[36mOahu_Average_Land_Cover_Buffer_2000m_2015_to_2019-0000000000-0000222720.tif\u001b[39m\n",
            "  \u001b[90m<id: 1LjFK1E8rzDQc6cv9q3Foc-pUoaFbqSI5>\u001b[39m\n",
            "\n",
            "Saved locally as:\n",
            "\n",
            "• \u001b[34m/content/predictor_variables/DynamicWorld_landcover/Oahu_Average_Land_Cover_Buffer_2000m_2015_to_2019-0000000000-0000222720.tif\u001b[39m\n",
            "\n",
            "File downloaded:\n",
            "\n",
            "• \u001b[36mOahu_Average_Land_Cover_Buffer_2000m_2015_to_2019-0000007424-0000118784.tif\u001b[39m\n",
            "  \u001b[90m<id: 1MNjhmjMxHgOegpZb9wvWCD0_R1rGtscJ>\u001b[39m\n",
            "\n",
            "Saved locally as:\n",
            "\n",
            "• \u001b[34m/content/predictor_variables/DynamicWorld_landcover/Oahu_Average_Land_Cover_Buffer_2000m_2015_to_2019-0000007424-0000118784.tif\u001b[39m\n",
            "\n",
            "File downloaded:\n",
            "\n",
            "• \u001b[36mOahu_Average_Land_Cover_Buffer_2000m_2015_to_2019-0000007424-0000222720.tif\u001b[39m\n",
            "  \u001b[90m<id: 1v8YeNTdF7mQ6P51coucqDlpCeBYIlSPY>\u001b[39m\n",
            "\n",
            "Saved locally as:\n",
            "\n",
            "• \u001b[34m/content/predictor_variables/DynamicWorld_landcover/Oahu_Average_Land_Cover_Buffer_2000m_2015_to_2019-0000007424-0000222720.tif\u001b[39m\n",
            "\n",
            "File downloaded:\n",
            "\n",
            "• \u001b[36mOahu_Average_Land_Cover_Buffer_2000m_2015_to_2019-0000014848-0000044544.tif\u001b[39m\n",
            "  \u001b[90m<id: 10y9-Sm8CZbS0Xo_2TVSR8n9XT6S8wIDn>\u001b[39m\n",
            "\n",
            "Saved locally as:\n",
            "\n",
            "• \u001b[34m/content/predictor_variables/DynamicWorld_landcover/Oahu_Average_Land_Cover_Buffer_2000m_2015_to_2019-0000014848-0000044544.tif\u001b[39m\n",
            "\n",
            "File downloaded:\n",
            "\n",
            "• \u001b[36mOahu_Average_Land_Cover_Buffer_2000m_2015_to_2019-0000014848-0000081664.tif\u001b[39m\n",
            "  \u001b[90m<id: 1RelC-Cf-cvuu8WZkC98319JV86BRg7Rc>\u001b[39m\n",
            "\n",
            "Saved locally as:\n",
            "\n",
            "• \u001b[34m/content/predictor_variables/DynamicWorld_landcover/Oahu_Average_Land_Cover_Buffer_2000m_2015_to_2019-0000014848-0000081664.tif\u001b[39m\n",
            "\n",
            "File downloaded:\n",
            "\n",
            "• \u001b[36mOahu_Average_Land_Cover_Buffer_2000m_2015_to_2019-0000014848-0000089088.tif\u001b[39m\n",
            "  \u001b[90m<id: 1PJwDHGTcVmmdlun6VyyURvChaIevGG4W>\u001b[39m\n",
            "\n",
            "Saved locally as:\n",
            "\n",
            "• \u001b[34m/content/predictor_variables/DynamicWorld_landcover/Oahu_Average_Land_Cover_Buffer_2000m_2015_to_2019-0000014848-0000089088.tif\u001b[39m\n",
            "\n",
            "File downloaded:\n",
            "\n",
            "• \u001b[36mOahu_Average_Land_Cover_Buffer_2000m_2015_to_2019-0000014848-0000207872.tif\u001b[39m\n",
            "  \u001b[90m<id: 1xWJ7HSRKgJ5w4ddm5E0n0-YWrVO4czcA>\u001b[39m\n",
            "\n",
            "Saved locally as:\n",
            "\n",
            "• \u001b[34m/content/predictor_variables/DynamicWorld_landcover/Oahu_Average_Land_Cover_Buffer_2000m_2015_to_2019-0000014848-0000207872.tif\u001b[39m\n",
            "\n",
            "File downloaded:\n",
            "\n",
            "• \u001b[36mOahu_Average_Land_Cover_Buffer_2000m_2015_to_2019-0000014848-0000215296.tif\u001b[39m\n",
            "  \u001b[90m<id: 1RypFUkvhBVIsAdyPrv6DOaSKTIIU8aqo>\u001b[39m\n",
            "\n",
            "Saved locally as:\n",
            "\n",
            "• \u001b[34m/content/predictor_variables/DynamicWorld_landcover/Oahu_Average_Land_Cover_Buffer_2000m_2015_to_2019-0000014848-0000215296.tif\u001b[39m\n",
            "\n",
            "File downloaded:\n",
            "\n",
            "• \u001b[36mOahu_Average_Land_Cover_Buffer_2000m_2015_to_2019-0000022272-0000037120.tif\u001b[39m\n",
            "  \u001b[90m<id: 1hUiShiKaojgfKg4FI1dGIRAqvHeGwtYz>\u001b[39m\n",
            "\n",
            "Saved locally as:\n",
            "\n",
            "• \u001b[34m/content/predictor_variables/DynamicWorld_landcover/Oahu_Average_Land_Cover_Buffer_2000m_2015_to_2019-0000022272-0000037120.tif\u001b[39m\n",
            "\n",
            "File downloaded:\n",
            "\n",
            "• \u001b[36mOahu_Average_Land_Cover_Buffer_2000m_2015_to_2019-0000022272-0000066816.tif\u001b[39m\n",
            "  \u001b[90m<id: 1xmX6q5qbq8Y0g4pbGY7tbvAKvWXg8Jv6>\u001b[39m\n",
            "\n",
            "Saved locally as:\n",
            "\n",
            "• \u001b[34m/content/predictor_variables/DynamicWorld_landcover/Oahu_Average_Land_Cover_Buffer_2000m_2015_to_2019-0000022272-0000066816.tif\u001b[39m\n",
            "\n",
            "File downloaded:\n",
            "\n",
            "• \u001b[36mOahu_Average_Land_Cover_Buffer_2000m_2015_to_2019-0000029696-0000037120.tif\u001b[39m\n",
            "  \u001b[90m<id: 1FgFxCe-kQ43ZjgagYpRobWHWQYyRi7Bd>\u001b[39m\n",
            "\n",
            "Saved locally as:\n",
            "\n",
            "• \u001b[34m/content/predictor_variables/DynamicWorld_landcover/Oahu_Average_Land_Cover_Buffer_2000m_2015_to_2019-0000029696-0000037120.tif\u001b[39m\n",
            "\n",
            "File downloaded:\n",
            "\n",
            "• \u001b[36mOahu_Average_Land_Cover_Buffer_2000m_2015_to_2019-0000029696-0000148480.tif\u001b[39m\n",
            "  \u001b[90m<id: 1CvWuga_yrFs2x5iKI8CizsxUJdwTgSgo>\u001b[39m\n",
            "\n",
            "Saved locally as:\n",
            "\n",
            "• \u001b[34m/content/predictor_variables/DynamicWorld_landcover/Oahu_Average_Land_Cover_Buffer_2000m_2015_to_2019-0000029696-0000148480.tif\u001b[39m\n",
            "\n",
            "File downloaded:\n",
            "\n",
            "• \u001b[36mOahu_Average_Land_Cover_Buffer_2000m_2015_to_2019-0000029696-0000230144.tif\u001b[39m\n",
            "  \u001b[90m<id: 1aW6kU-WHZYr2lOJdEjjyU6QolBr_IkOa>\u001b[39m\n",
            "\n",
            "Saved locally as:\n",
            "\n",
            "• \u001b[34m/content/predictor_variables/DynamicWorld_landcover/Oahu_Average_Land_Cover_Buffer_2000m_2015_to_2019-0000029696-0000230144.tif\u001b[39m\n",
            "\n",
            "File downloaded:\n",
            "\n",
            "• \u001b[36mOahu_Average_Land_Cover_Buffer_2000m_2015_to_2019-0000037120-0000185600.tif\u001b[39m\n",
            "  \u001b[90m<id: 1Mfr_m2wwVsNhJ-ixw5h4IafABMx34Gok>\u001b[39m\n",
            "\n",
            "Saved locally as:\n",
            "\n",
            "• \u001b[34m/content/predictor_variables/DynamicWorld_landcover/Oahu_Average_Land_Cover_Buffer_2000m_2015_to_2019-0000037120-0000185600.tif\u001b[39m\n",
            "\n",
            "File downloaded:\n",
            "\n",
            "• \u001b[36mOahu_Average_Land_Cover_Buffer_2000m_2015_to_2019-0000037120-0000230144.tif\u001b[39m\n",
            "  \u001b[90m<id: 13sPnI2KF6AbvVThqo52IODMi21_xklEA>\u001b[39m\n",
            "\n",
            "Saved locally as:\n",
            "\n",
            "• \u001b[34m/content/predictor_variables/DynamicWorld_landcover/Oahu_Average_Land_Cover_Buffer_2000m_2015_to_2019-0000037120-0000230144.tif\u001b[39m\n",
            "\n",
            "File downloaded:\n",
            "\n",
            "• \u001b[36mOahu_Average_Land_Cover_Buffer_2000m_2015_to_2019-0000044544-0000126208.tif\u001b[39m\n",
            "  \u001b[90m<id: 1QjqC156TEShbf2h-5R37Rc6gKvXF5Toi>\u001b[39m\n",
            "\n",
            "Saved locally as:\n",
            "\n",
            "• \u001b[34m/content/predictor_variables/DynamicWorld_landcover/Oahu_Average_Land_Cover_Buffer_2000m_2015_to_2019-0000044544-0000126208.tif\u001b[39m\n",
            "\n",
            "File downloaded:\n",
            "\n",
            "• \u001b[36mOahu_Average_Land_Cover_Buffer_2000m_2015_to_2019-0000044544-0000133632.tif\u001b[39m\n",
            "  \u001b[90m<id: 1ljtpYzUmN1G_aHtqA2QZcISxu6rUNEEy>\u001b[39m\n",
            "\n",
            "Saved locally as:\n",
            "\n",
            "• \u001b[34m/content/predictor_variables/DynamicWorld_landcover/Oahu_Average_Land_Cover_Buffer_2000m_2015_to_2019-0000044544-0000133632.tif\u001b[39m\n",
            "\n",
            "File downloaded:\n",
            "\n",
            "• \u001b[36mOahu_Average_Land_Cover_Buffer_2000m_2015_to_2019-0000044544-0000141056.tif\u001b[39m\n",
            "  \u001b[90m<id: 1U3ZcLyFizK8ws70NHK4a-W1tmLXWBqyp>\u001b[39m\n",
            "\n",
            "Saved locally as:\n",
            "\n",
            "• \u001b[34m/content/predictor_variables/DynamicWorld_landcover/Oahu_Average_Land_Cover_Buffer_2000m_2015_to_2019-0000044544-0000141056.tif\u001b[39m\n",
            "\n",
            "File downloaded:\n",
            "\n",
            "• \u001b[36mOahu_Average_Land_Cover_Buffer_2000m_2015_to_2019-0000044544-0000185600.tif\u001b[39m\n",
            "  \u001b[90m<id: 1zkEP2lI45OlPuUACje89N_dcHcxerEP0>\u001b[39m\n",
            "\n",
            "Saved locally as:\n",
            "\n",
            "• \u001b[34m/content/predictor_variables/DynamicWorld_landcover/Oahu_Average_Land_Cover_Buffer_2000m_2015_to_2019-0000044544-0000185600.tif\u001b[39m\n",
            "\n",
            "File downloaded:\n",
            "\n",
            "• \u001b[36mOahu_Average_Land_Cover_Buffer_2000m_2015_to_2019-0000051968-0000029696.tif\u001b[39m\n",
            "  \u001b[90m<id: 1pl1s9Wa-9magRDx7aOb26oLSovK6-IfJ>\u001b[39m\n",
            "\n",
            "Saved locally as:\n",
            "\n",
            "• \u001b[34m/content/predictor_variables/DynamicWorld_landcover/Oahu_Average_Land_Cover_Buffer_2000m_2015_to_2019-0000051968-0000029696.tif\u001b[39m\n",
            "\n",
            "File downloaded:\n",
            "\n",
            "• \u001b[36mOahu_Average_Land_Cover_Buffer_2000m_2015_to_2019-0000051968-0000044544.tif\u001b[39m\n",
            "  \u001b[90m<id: 1fN7irxtrdZBX1PSSkRcA8n3X-jfvgWnb>\u001b[39m\n",
            "\n",
            "Saved locally as:\n",
            "\n",
            "• \u001b[34m/content/predictor_variables/DynamicWorld_landcover/Oahu_Average_Land_Cover_Buffer_2000m_2015_to_2019-0000051968-0000044544.tif\u001b[39m\n",
            "\n",
            "File downloaded:\n",
            "\n",
            "• \u001b[36mOahu_Average_Land_Cover_Buffer_2000m_2015_to_2019-0000051968-0000074240.tif\u001b[39m\n",
            "  \u001b[90m<id: 11UYnsdmAPfQTN6SsYvWlf4kaiCkV-0Jx>\u001b[39m\n",
            "\n",
            "Saved locally as:\n",
            "\n",
            "• \u001b[34m/content/predictor_variables/DynamicWorld_landcover/Oahu_Average_Land_Cover_Buffer_2000m_2015_to_2019-0000051968-0000074240.tif\u001b[39m\n",
            "\n",
            "File downloaded:\n",
            "\n",
            "• \u001b[36mOahu_Average_Land_Cover_Buffer_2000m_2015_to_2019-0000051968-0000089088.tif\u001b[39m\n",
            "  \u001b[90m<id: 1GgRkS_L5QGInymoU2Xq2_WLHsUi9mY4g>\u001b[39m\n",
            "\n",
            "Saved locally as:\n",
            "\n",
            "• \u001b[34m/content/predictor_variables/DynamicWorld_landcover/Oahu_Average_Land_Cover_Buffer_2000m_2015_to_2019-0000051968-0000089088.tif\u001b[39m\n",
            "\n",
            "File downloaded:\n",
            "\n",
            "• \u001b[36mOahu_Average_Land_Cover_Buffer_2000m_2015_to_2019-0000051968-0000103936.tif\u001b[39m\n",
            "  \u001b[90m<id: 190rSvpiMo9EmTR_n_S7S76ZEtSxC428g>\u001b[39m\n",
            "\n",
            "Saved locally as:\n",
            "\n",
            "• \u001b[34m/content/predictor_variables/DynamicWorld_landcover/Oahu_Average_Land_Cover_Buffer_2000m_2015_to_2019-0000051968-0000103936.tif\u001b[39m\n",
            "\n",
            "File downloaded:\n",
            "\n",
            "• \u001b[36mOahu_Average_Land_Cover_Buffer_2000m_2015_to_2019-0000051968-0000178176.tif\u001b[39m\n",
            "  \u001b[90m<id: 1fMgfVRvggxAQh28tOuZpdLdqPMuQxAuM>\u001b[39m\n",
            "\n",
            "Saved locally as:\n",
            "\n",
            "• \u001b[34m/content/predictor_variables/DynamicWorld_landcover/Oahu_Average_Land_Cover_Buffer_2000m_2015_to_2019-0000051968-0000178176.tif\u001b[39m\n",
            "\n",
            "File downloaded:\n",
            "\n",
            "• \u001b[36mOahu_Average_Land_Cover_Buffer_2000m_2015_to_2019-0000059392-0000200448.tif\u001b[39m\n",
            "  \u001b[90m<id: 103V4VoaOygDYCs0kUhf03DD4X7oXxrIJ>\u001b[39m\n",
            "\n",
            "Saved locally as:\n",
            "\n",
            "• \u001b[34m/content/predictor_variables/DynamicWorld_landcover/Oahu_Average_Land_Cover_Buffer_2000m_2015_to_2019-0000059392-0000200448.tif\u001b[39m\n",
            "\n",
            "File downloaded:\n",
            "\n",
            "• \u001b[36mOahu_Average_Land_Cover_Buffer_2000m_2015_to_2019-0000066816-0000222720.tif\u001b[39m\n",
            "  \u001b[90m<id: 1t2E_WmfgH_5hg2kkPQXdOgQ6-tl4bVjL>\u001b[39m\n",
            "\n",
            "Saved locally as:\n",
            "\n",
            "• \u001b[34m/content/predictor_variables/DynamicWorld_landcover/Oahu_Average_Land_Cover_Buffer_2000m_2015_to_2019-0000066816-0000222720.tif\u001b[39m\n",
            "\n",
            "File downloaded:\n",
            "\n",
            "• \u001b[36mOahu_Average_Land_Cover_Buffer_2000m_2015_to_2019-0000074240-0000037120.tif\u001b[39m\n",
            "  \u001b[90m<id: 1MFFHdkFn2jf9TT6B0D5GDIAnxo3lv7Bp>\u001b[39m\n",
            "\n",
            "Saved locally as:\n",
            "\n",
            "• \u001b[34m/content/predictor_variables/DynamicWorld_landcover/Oahu_Average_Land_Cover_Buffer_2000m_2015_to_2019-0000074240-0000037120.tif\u001b[39m\n",
            "\n",
            "File downloaded:\n",
            "\n",
            "• \u001b[36mOahu_Average_Land_Cover_Buffer_2000m_2015_to_2019-0000074240-0000126208.tif\u001b[39m\n",
            "  \u001b[90m<id: 14IDIz1vJqtkRbsHhkG6hQX8QUBmvmNp7>\u001b[39m\n",
            "\n",
            "Saved locally as:\n",
            "\n",
            "• \u001b[34m/content/predictor_variables/DynamicWorld_landcover/Oahu_Average_Land_Cover_Buffer_2000m_2015_to_2019-0000074240-0000126208.tif\u001b[39m\n",
            "\n",
            "File downloaded:\n",
            "\n",
            "• \u001b[36mOahu_Average_Land_Cover_Buffer_2000m_2015_to_2019-0000074240-0000170752.tif\u001b[39m\n",
            "  \u001b[90m<id: 1yy1GiJY32sL9hICSV29fmVsbvq3V7Hnl>\u001b[39m\n",
            "\n",
            "Saved locally as:\n",
            "\n",
            "• \u001b[34m/content/predictor_variables/DynamicWorld_landcover/Oahu_Average_Land_Cover_Buffer_2000m_2015_to_2019-0000074240-0000170752.tif\u001b[39m\n",
            "\n",
            "File downloaded:\n",
            "\n",
            "• \u001b[36mOahu_Average_Land_Cover_Buffer_2000m_2015_to_2019-0000074240-0000207872.tif\u001b[39m\n",
            "  \u001b[90m<id: 1e6HI22pBKkD3ZCAJGAcpdxVEYQwn0ksA>\u001b[39m\n",
            "\n",
            "Saved locally as:\n",
            "\n",
            "• \u001b[34m/content/predictor_variables/DynamicWorld_landcover/Oahu_Average_Land_Cover_Buffer_2000m_2015_to_2019-0000074240-0000207872.tif\u001b[39m\n",
            "\n",
            "File downloaded:\n",
            "\n",
            "• \u001b[36mOahu_Average_Land_Cover_Buffer_2000m_2015_to_2019-0000051968-0000059392.tif\u001b[39m\n",
            "  \u001b[90m<id: 1O5Wnb-rsgk5yVnUMIGgJQsw9-BTP7oDY>\u001b[39m\n",
            "\n",
            "Saved locally as:\n",
            "\n",
            "• \u001b[34m/content/predictor_variables/DynamicWorld_landcover/Oahu_Average_Land_Cover_Buffer_2000m_2015_to_2019-0000051968-0000059392.tif\u001b[39m\n",
            "\n",
            "File downloaded:\n",
            "\n",
            "• \u001b[36mOahu_Average_Land_Cover_Buffer_2000m_2015_to_2019-0000051968-0000081664.tif\u001b[39m\n",
            "  \u001b[90m<id: 1EHn_NZdx2uwn6LR52YYUewCXjebddyRc>\u001b[39m\n",
            "\n",
            "Saved locally as:\n",
            "\n",
            "• \u001b[34m/content/predictor_variables/DynamicWorld_landcover/Oahu_Average_Land_Cover_Buffer_2000m_2015_to_2019-0000051968-0000081664.tif\u001b[39m\n",
            "\n",
            "File downloaded:\n",
            "\n",
            "• \u001b[36mOahu_Average_Land_Cover_Buffer_2000m_2015_to_2019-0000051968-0000126208.tif\u001b[39m\n",
            "  \u001b[90m<id: 1nrnUIKiiZsY3xTkwaLB4dz1HpZFk09fy>\u001b[39m\n",
            "\n",
            "Saved locally as:\n",
            "\n",
            "• \u001b[34m/content/predictor_variables/DynamicWorld_landcover/Oahu_Average_Land_Cover_Buffer_2000m_2015_to_2019-0000051968-0000126208.tif\u001b[39m\n",
            "\n",
            "File downloaded:\n",
            "\n",
            "• \u001b[36mOahu_Average_Land_Cover_Buffer_2000m_2015_to_2019-0000051968-0000148480.tif\u001b[39m\n",
            "  \u001b[90m<id: 1BTFJFqHR37UmkWQnh-U3UXGTw_qnPs5C>\u001b[39m\n",
            "\n",
            "Saved locally as:\n",
            "\n",
            "• \u001b[34m/content/predictor_variables/DynamicWorld_landcover/Oahu_Average_Land_Cover_Buffer_2000m_2015_to_2019-0000051968-0000148480.tif\u001b[39m\n",
            "\n",
            "File downloaded:\n",
            "\n",
            "• \u001b[36mOahu_Average_Land_Cover_Buffer_2000m_2015_to_2019-0000051968-0000170752.tif\u001b[39m\n",
            "  \u001b[90m<id: 1quHj9HpijJECWBrSX-u_st2uhC0Z8o5m>\u001b[39m\n",
            "\n",
            "Saved locally as:\n",
            "\n",
            "• \u001b[34m/content/predictor_variables/DynamicWorld_landcover/Oahu_Average_Land_Cover_Buffer_2000m_2015_to_2019-0000051968-0000170752.tif\u001b[39m\n",
            "\n",
            "File downloaded:\n",
            "\n",
            "• \u001b[36mOahu_Average_Land_Cover_Buffer_2000m_2015_to_2019-0000066816-0000029696.tif\u001b[39m\n",
            "  \u001b[90m<id: 1k9W17_lBBkgA1cOWeJbQzeGe6osFIjOr>\u001b[39m\n",
            "\n",
            "Saved locally as:\n",
            "\n",
            "• \u001b[34m/content/predictor_variables/DynamicWorld_landcover/Oahu_Average_Land_Cover_Buffer_2000m_2015_to_2019-0000066816-0000029696.tif\u001b[39m\n",
            "\n",
            "File downloaded:\n",
            "\n",
            "• \u001b[36mOahu_Average_Land_Cover_Buffer_2000m_2015_to_2019-0000066816-0000037120.tif\u001b[39m\n",
            "  \u001b[90m<id: 1fJiWjlAxfj4DS549t-SSrPuirsB30H-T>\u001b[39m\n",
            "\n",
            "Saved locally as:\n",
            "\n",
            "• \u001b[34m/content/predictor_variables/DynamicWorld_landcover/Oahu_Average_Land_Cover_Buffer_2000m_2015_to_2019-0000066816-0000037120.tif\u001b[39m\n",
            "\n",
            "File downloaded:\n",
            "\n",
            "• \u001b[36mOahu_Average_Land_Cover_Buffer_2000m_2015_to_2019-0000066816-0000081664.tif\u001b[39m\n",
            "  \u001b[90m<id: 19s8eVJQ3HXUHInlFcRXoKbd7Bnrw6FuT>\u001b[39m\n",
            "\n",
            "Saved locally as:\n",
            "\n",
            "• \u001b[34m/content/predictor_variables/DynamicWorld_landcover/Oahu_Average_Land_Cover_Buffer_2000m_2015_to_2019-0000066816-0000081664.tif\u001b[39m\n",
            "\n",
            "File downloaded:\n",
            "\n",
            "• \u001b[36mOahu_Average_Land_Cover_Buffer_2000m_2015_to_2019-0000066816-0000103936.tif\u001b[39m\n",
            "  \u001b[90m<id: 1Xd9TRK_JsKw85ub2mOjz3XpKhJztbXDE>\u001b[39m\n",
            "\n",
            "Saved locally as:\n",
            "\n",
            "• \u001b[34m/content/predictor_variables/DynamicWorld_landcover/Oahu_Average_Land_Cover_Buffer_2000m_2015_to_2019-0000066816-0000103936.tif\u001b[39m\n",
            "\n",
            "File downloaded:\n",
            "\n",
            "• \u001b[36mOahu_Average_Land_Cover_Buffer_2000m_2015_to_2019-0000066816-0000155904.tif\u001b[39m\n",
            "  \u001b[90m<id: 1pP0udGzD78_woin7kG1Q5dBkyHYQ7Kl6>\u001b[39m\n",
            "\n",
            "Saved locally as:\n",
            "\n",
            "• \u001b[34m/content/predictor_variables/DynamicWorld_landcover/Oahu_Average_Land_Cover_Buffer_2000m_2015_to_2019-0000066816-0000155904.tif\u001b[39m\n",
            "\n",
            "File downloaded:\n",
            "\n",
            "• \u001b[36mOahu_Average_Land_Cover_Buffer_2000m_2015_to_2019-0000074240-0000022272.tif\u001b[39m\n",
            "  \u001b[90m<id: 1LMG2v-KiEcikUyIQOJLuYLrpEObM2LzE>\u001b[39m\n",
            "\n",
            "Saved locally as:\n",
            "\n",
            "• \u001b[34m/content/predictor_variables/DynamicWorld_landcover/Oahu_Average_Land_Cover_Buffer_2000m_2015_to_2019-0000074240-0000022272.tif\u001b[39m\n",
            "\n",
            "File downloaded:\n",
            "\n",
            "• \u001b[36mOahu_Average_Land_Cover_Buffer_2000m_2015_to_2019-0000074240-0000081664.tif\u001b[39m\n",
            "  \u001b[90m<id: 1Oo7_mI_B4kuTzm0GgVxyshg39_J7wYLS>\u001b[39m\n",
            "\n",
            "Saved locally as:\n",
            "\n",
            "• \u001b[34m/content/predictor_variables/DynamicWorld_landcover/Oahu_Average_Land_Cover_Buffer_2000m_2015_to_2019-0000074240-0000081664.tif\u001b[39m\n",
            "\n",
            "File downloaded:\n",
            "\n",
            "• \u001b[36mOahu_Average_Land_Cover_Buffer_2000m_2015_to_2019-0000074240-0000089088.tif\u001b[39m\n",
            "  \u001b[90m<id: 1G6kmANnX-BcSorN45WRgkBRW5FT4GiSI>\u001b[39m\n",
            "\n",
            "Saved locally as:\n",
            "\n",
            "• \u001b[34m/content/predictor_variables/DynamicWorld_landcover/Oahu_Average_Land_Cover_Buffer_2000m_2015_to_2019-0000074240-0000089088.tif\u001b[39m\n",
            "\n",
            "File downloaded:\n",
            "\n",
            "• \u001b[36mOahu_Average_Land_Cover_Buffer_2000m_2015_to_2019-0000074240-0000200448.tif\u001b[39m\n",
            "  \u001b[90m<id: 1FRe2WQh_ysIVtMaJtK2WyXOEEa17dg5u>\u001b[39m\n",
            "\n",
            "Saved locally as:\n",
            "\n",
            "• \u001b[34m/content/predictor_variables/DynamicWorld_landcover/Oahu_Average_Land_Cover_Buffer_2000m_2015_to_2019-0000074240-0000200448.tif\u001b[39m\n",
            "\n",
            "File downloaded:\n",
            "\n",
            "• \u001b[36mOahu_Average_Land_Cover_Buffer_2000m_2015_to_2019-0000000000-0000148480.tif\u001b[39m\n",
            "  \u001b[90m<id: 13IUUELvpQeVrK5euksfjIZs_CiPcn_tv>\u001b[39m\n",
            "\n",
            "Saved locally as:\n",
            "\n",
            "• \u001b[34m/content/predictor_variables/DynamicWorld_landcover/Oahu_Average_Land_Cover_Buffer_2000m_2015_to_2019-0000000000-0000148480.tif\u001b[39m\n",
            "\n",
            "File downloaded:\n",
            "\n",
            "• \u001b[36mOahu_Average_Land_Cover_Buffer_2000m_2015_to_2019-0000007424-0000044544.tif\u001b[39m\n",
            "  \u001b[90m<id: 1Gx0E6SLTDyXY9ojv_4Sabs64vNHfVvEh>\u001b[39m\n",
            "\n",
            "Saved locally as:\n",
            "\n",
            "• \u001b[34m/content/predictor_variables/DynamicWorld_landcover/Oahu_Average_Land_Cover_Buffer_2000m_2015_to_2019-0000007424-0000044544.tif\u001b[39m\n",
            "\n",
            "File downloaded:\n",
            "\n",
            "• \u001b[36mOahu_Average_Land_Cover_Buffer_2000m_2015_to_2019-0000007424-0000066816.tif\u001b[39m\n",
            "  \u001b[90m<id: 1Zu4hMLMi-Cjy9k95RzxUeNbfkiB0mOIo>\u001b[39m\n",
            "\n",
            "Saved locally as:\n",
            "\n",
            "• \u001b[34m/content/predictor_variables/DynamicWorld_landcover/Oahu_Average_Land_Cover_Buffer_2000m_2015_to_2019-0000007424-0000066816.tif\u001b[39m\n",
            "\n",
            "File downloaded:\n",
            "\n",
            "• \u001b[36mOahu_Average_Land_Cover_Buffer_2000m_2015_to_2019-0000007424-0000163328.tif\u001b[39m\n",
            "  \u001b[90m<id: 1m-4_MExfyQexUE6WtIttlWE7XNDc-nAr>\u001b[39m\n",
            "\n",
            "Saved locally as:\n",
            "\n",
            "• \u001b[34m/content/predictor_variables/DynamicWorld_landcover/Oahu_Average_Land_Cover_Buffer_2000m_2015_to_2019-0000007424-0000163328.tif\u001b[39m\n",
            "\n",
            "File downloaded:\n",
            "\n",
            "• \u001b[36mOahu_Average_Land_Cover_Buffer_2000m_2015_to_2019-0000007424-0000207872.tif\u001b[39m\n",
            "  \u001b[90m<id: 172Q5a9dQWLWCjFjDR7Dmt1FNxUhwFyb4>\u001b[39m\n",
            "\n",
            "Saved locally as:\n",
            "\n",
            "• \u001b[34m/content/predictor_variables/DynamicWorld_landcover/Oahu_Average_Land_Cover_Buffer_2000m_2015_to_2019-0000007424-0000207872.tif\u001b[39m\n",
            "\n",
            "File downloaded:\n",
            "\n",
            "• \u001b[36mOahu_Average_Land_Cover_Buffer_2000m_2015_to_2019-0000014848-0000096512.tif\u001b[39m\n",
            "  \u001b[90m<id: 1AGOaIgZoij63XtH42h3c42f1wtgAR6Tb>\u001b[39m\n",
            "\n",
            "Saved locally as:\n",
            "\n",
            "• \u001b[34m/content/predictor_variables/DynamicWorld_landcover/Oahu_Average_Land_Cover_Buffer_2000m_2015_to_2019-0000014848-0000096512.tif\u001b[39m\n",
            "\n",
            "File downloaded:\n",
            "\n",
            "• \u001b[36mOahu_Average_Land_Cover_Buffer_2000m_2015_to_2019-0000014848-0000178176.tif\u001b[39m\n",
            "  \u001b[90m<id: 1MG-FgYxZO0l3ndtJj_Jc7LlOUom0m4G2>\u001b[39m\n",
            "\n",
            "Saved locally as:\n",
            "\n",
            "• \u001b[34m/content/predictor_variables/DynamicWorld_landcover/Oahu_Average_Land_Cover_Buffer_2000m_2015_to_2019-0000014848-0000178176.tif\u001b[39m\n",
            "\n",
            "File downloaded:\n",
            "\n",
            "• \u001b[36mOahu_Average_Land_Cover_Buffer_2000m_2015_to_2019-0000022272-0000000000.tif\u001b[39m\n",
            "  \u001b[90m<id: 1Cs8dWag2FukOFFLxjDcm_xpK8UJfVqJZ>\u001b[39m\n",
            "\n",
            "Saved locally as:\n",
            "\n",
            "• \u001b[34m/content/predictor_variables/DynamicWorld_landcover/Oahu_Average_Land_Cover_Buffer_2000m_2015_to_2019-0000022272-0000000000.tif\u001b[39m\n",
            "\n",
            "File downloaded:\n",
            "\n",
            "• \u001b[36mOahu_Average_Land_Cover_Buffer_2000m_2015_to_2019-0000022272-0000126208.tif\u001b[39m\n",
            "  \u001b[90m<id: 1AopUVvMTng1ALnF_kKV4PeLVXNjVzoA_>\u001b[39m\n",
            "\n",
            "Saved locally as:\n",
            "\n",
            "• \u001b[34m/content/predictor_variables/DynamicWorld_landcover/Oahu_Average_Land_Cover_Buffer_2000m_2015_to_2019-0000022272-0000126208.tif\u001b[39m\n",
            "\n",
            "File downloaded:\n",
            "\n",
            "• \u001b[36mOahu_Average_Land_Cover_Buffer_2000m_2015_to_2019-0000022272-0000207872.tif\u001b[39m\n",
            "  \u001b[90m<id: 10d18G4UUUnjaNo5jUcjAWggaL3-fsWaU>\u001b[39m\n",
            "\n",
            "Saved locally as:\n",
            "\n",
            "• \u001b[34m/content/predictor_variables/DynamicWorld_landcover/Oahu_Average_Land_Cover_Buffer_2000m_2015_to_2019-0000022272-0000207872.tif\u001b[39m\n",
            "\n",
            "File downloaded:\n",
            "\n",
            "• \u001b[36mOahu_Average_Land_Cover_Buffer_2000m_2015_to_2019-0000029696-0000103936.tif\u001b[39m\n",
            "  \u001b[90m<id: 10TPvbFq2Ked5DR7z3B53C0TFPK-XZyJY>\u001b[39m\n",
            "\n",
            "Saved locally as:\n",
            "\n",
            "• \u001b[34m/content/predictor_variables/DynamicWorld_landcover/Oahu_Average_Land_Cover_Buffer_2000m_2015_to_2019-0000029696-0000103936.tif\u001b[39m\n",
            "\n",
            "File downloaded:\n",
            "\n",
            "• \u001b[36mOahu_Average_Land_Cover_Buffer_2000m_2015_to_2019-0000029696-0000126208.tif\u001b[39m\n",
            "  \u001b[90m<id: 161E7WU8wbRkGKZHBD-mbxG9pGs7QmT-C>\u001b[39m\n",
            "\n",
            "Saved locally as:\n",
            "\n",
            "• \u001b[34m/content/predictor_variables/DynamicWorld_landcover/Oahu_Average_Land_Cover_Buffer_2000m_2015_to_2019-0000029696-0000126208.tif\u001b[39m\n",
            "\n",
            "File downloaded:\n",
            "\n",
            "• \u001b[36mOahu_Average_Land_Cover_Buffer_2000m_2015_to_2019-0000029696-0000141056.tif\u001b[39m\n",
            "  \u001b[90m<id: 1YvLJTZeNHSqx7jhHsKJUGi_QOcwwQ7JZ>\u001b[39m\n",
            "\n",
            "Saved locally as:\n",
            "\n",
            "• \u001b[34m/content/predictor_variables/DynamicWorld_landcover/Oahu_Average_Land_Cover_Buffer_2000m_2015_to_2019-0000029696-0000141056.tif\u001b[39m\n",
            "\n",
            "File downloaded:\n",
            "\n",
            "• \u001b[36mOahu_Average_Land_Cover_Buffer_2000m_2015_to_2019-0000037120-0000066816.tif\u001b[39m\n",
            "  \u001b[90m<id: 1q-1EZBUYjzUgZryiHWcB5OCiv7cksIy7>\u001b[39m\n",
            "\n",
            "Saved locally as:\n",
            "\n",
            "• \u001b[34m/content/predictor_variables/DynamicWorld_landcover/Oahu_Average_Land_Cover_Buffer_2000m_2015_to_2019-0000037120-0000066816.tif\u001b[39m\n",
            "\n",
            "File downloaded:\n",
            "\n",
            "• \u001b[36mOahu_Average_Land_Cover_Buffer_2000m_2015_to_2019-0000037120-0000096512.tif\u001b[39m\n",
            "  \u001b[90m<id: 1keOant1pu2AAi9sxBIVTtLGIZjmOMmRm>\u001b[39m\n",
            "\n",
            "Saved locally as:\n",
            "\n",
            "• \u001b[34m/content/predictor_variables/DynamicWorld_landcover/Oahu_Average_Land_Cover_Buffer_2000m_2015_to_2019-0000037120-0000096512.tif\u001b[39m\n",
            "\n",
            "File downloaded:\n",
            "\n",
            "• \u001b[36mOahu_Average_Land_Cover_Buffer_2000m_2015_to_2019-0000037120-0000118784.tif\u001b[39m\n",
            "  \u001b[90m<id: 1LFOJ_eXBxsw0k7Ak9gOFaaVJ7Pizsy3C>\u001b[39m\n",
            "\n",
            "Saved locally as:\n",
            "\n",
            "• \u001b[34m/content/predictor_variables/DynamicWorld_landcover/Oahu_Average_Land_Cover_Buffer_2000m_2015_to_2019-0000037120-0000118784.tif\u001b[39m\n",
            "\n",
            "File downloaded:\n",
            "\n",
            "• \u001b[36mOahu_Average_Land_Cover_Buffer_2000m_2015_to_2019-0000037120-0000170752.tif\u001b[39m\n",
            "  \u001b[90m<id: 1nfAH_lERRpfqNstd0jRxOP5hiPJLJcRR>\u001b[39m\n",
            "\n",
            "Saved locally as:\n",
            "\n",
            "• \u001b[34m/content/predictor_variables/DynamicWorld_landcover/Oahu_Average_Land_Cover_Buffer_2000m_2015_to_2019-0000037120-0000170752.tif\u001b[39m\n",
            "\n",
            "File downloaded:\n",
            "\n",
            "• \u001b[36mOahu_Average_Land_Cover_Buffer_2000m_2015_to_2019-0000044544-0000037120.tif\u001b[39m\n",
            "  \u001b[90m<id: 10ND8szXYsoIGMdH_EzuMDGQYuWn_ELCu>\u001b[39m\n",
            "\n",
            "Saved locally as:\n",
            "\n",
            "• \u001b[34m/content/predictor_variables/DynamicWorld_landcover/Oahu_Average_Land_Cover_Buffer_2000m_2015_to_2019-0000044544-0000037120.tif\u001b[39m\n",
            "\n",
            "File downloaded:\n",
            "\n",
            "• \u001b[36mOahu_Average_Land_Cover_Buffer_2000m_2015_to_2019-0000051968-0000118784.tif\u001b[39m\n",
            "  \u001b[90m<id: 1GltzWQjp6DfPS1o1tQ-UqgzL5TgAE6PX>\u001b[39m\n",
            "\n",
            "Saved locally as:\n",
            "\n",
            "• \u001b[34m/content/predictor_variables/DynamicWorld_landcover/Oahu_Average_Land_Cover_Buffer_2000m_2015_to_2019-0000051968-0000118784.tif\u001b[39m\n",
            "\n",
            "File downloaded:\n",
            "\n",
            "• \u001b[36mOahu_Average_Land_Cover_Buffer_2000m_2015_to_2019-0000051968-0000207872.tif\u001b[39m\n",
            "  \u001b[90m<id: 1qzBynEVY3CxfKDLoYX3ztVv8uNPrQ_Hi>\u001b[39m\n",
            "\n",
            "Saved locally as:\n",
            "\n",
            "• \u001b[34m/content/predictor_variables/DynamicWorld_landcover/Oahu_Average_Land_Cover_Buffer_2000m_2015_to_2019-0000051968-0000207872.tif\u001b[39m\n",
            "\n",
            "File downloaded:\n",
            "\n",
            "• \u001b[36mOahu_Average_Land_Cover_Buffer_2000m_2015_to_2019-0000059392-0000007424.tif\u001b[39m\n",
            "  \u001b[90m<id: 1Q_n2z6BK-XzZC39iZB63b1MW8lh2z9H9>\u001b[39m\n",
            "\n",
            "Saved locally as:\n",
            "\n",
            "• \u001b[34m/content/predictor_variables/DynamicWorld_landcover/Oahu_Average_Land_Cover_Buffer_2000m_2015_to_2019-0000059392-0000007424.tif\u001b[39m\n",
            "\n",
            "File downloaded:\n",
            "\n",
            "• \u001b[36mOahu_Average_Land_Cover_Buffer_2000m_2015_to_2019-0000059392-0000059392.tif\u001b[39m\n",
            "  \u001b[90m<id: 11zoTP9LvgMdQkqOad_VpVjcuV1Tdjv4f>\u001b[39m\n",
            "\n",
            "Saved locally as:\n",
            "\n",
            "• \u001b[34m/content/predictor_variables/DynamicWorld_landcover/Oahu_Average_Land_Cover_Buffer_2000m_2015_to_2019-0000059392-0000059392.tif\u001b[39m\n",
            "\n",
            "File downloaded:\n",
            "\n",
            "• \u001b[36mOahu_Average_Land_Cover_Buffer_2000m_2015_to_2019-0000059392-0000096512.tif\u001b[39m\n",
            "  \u001b[90m<id: 1_ZPYM2yXqbeHvw4EW8pMZZfGWnvia8aW>\u001b[39m\n",
            "\n",
            "Saved locally as:\n",
            "\n",
            "• \u001b[34m/content/predictor_variables/DynamicWorld_landcover/Oahu_Average_Land_Cover_Buffer_2000m_2015_to_2019-0000059392-0000096512.tif\u001b[39m\n",
            "\n",
            "File downloaded:\n",
            "\n",
            "• \u001b[36mOahu_Average_Land_Cover_Buffer_2000m_2015_to_2019-0000059392-0000170752.tif\u001b[39m\n",
            "  \u001b[90m<id: 10G7KqiHVxV4G9qltKEl9DoJbO2wyYq2w>\u001b[39m\n",
            "\n",
            "Saved locally as:\n",
            "\n",
            "• \u001b[34m/content/predictor_variables/DynamicWorld_landcover/Oahu_Average_Land_Cover_Buffer_2000m_2015_to_2019-0000059392-0000170752.tif\u001b[39m\n",
            "\n",
            "File downloaded:\n",
            "\n",
            "• \u001b[36mOahu_Average_Land_Cover_Buffer_2000m_2015_to_2019-0000066816-0000014848.tif\u001b[39m\n",
            "  \u001b[90m<id: 11ybs-bs7Bio-zFiAWksySp_6z6DoWeHo>\u001b[39m\n",
            "\n",
            "Saved locally as:\n",
            "\n",
            "• \u001b[34m/content/predictor_variables/DynamicWorld_landcover/Oahu_Average_Land_Cover_Buffer_2000m_2015_to_2019-0000066816-0000014848.tif\u001b[39m\n",
            "\n",
            "File downloaded:\n",
            "\n",
            "• \u001b[36mOahu_Average_Land_Cover_Buffer_2000m_2015_to_2019-0000066816-0000051968.tif\u001b[39m\n",
            "  \u001b[90m<id: 1EkrOKBFKxvQOn0YuzMrV7UFe_VDUPM7Y>\u001b[39m\n",
            "\n",
            "Saved locally as:\n",
            "\n",
            "• \u001b[34m/content/predictor_variables/DynamicWorld_landcover/Oahu_Average_Land_Cover_Buffer_2000m_2015_to_2019-0000066816-0000051968.tif\u001b[39m\n",
            "\n",
            "File downloaded:\n",
            "\n",
            "• \u001b[36mOahu_Average_Land_Cover_Buffer_2000m_2015_to_2019-0000066816-0000096512.tif\u001b[39m\n",
            "  \u001b[90m<id: 1YffGCI_vwpGTHlAOMrILmRddpufWHY6Q>\u001b[39m\n",
            "\n",
            "Saved locally as:\n",
            "\n",
            "• \u001b[34m/content/predictor_variables/DynamicWorld_landcover/Oahu_Average_Land_Cover_Buffer_2000m_2015_to_2019-0000066816-0000096512.tif\u001b[39m\n",
            "\n",
            "File downloaded:\n",
            "\n",
            "• \u001b[36mOahu_Average_Land_Cover_Buffer_2000m_2015_to_2019-0000066816-0000126208.tif\u001b[39m\n",
            "  \u001b[90m<id: 1_8Blhf5vM-hH8lPj4lEElIwm04dzHbmM>\u001b[39m\n",
            "\n",
            "Saved locally as:\n",
            "\n",
            "• \u001b[34m/content/predictor_variables/DynamicWorld_landcover/Oahu_Average_Land_Cover_Buffer_2000m_2015_to_2019-0000066816-0000126208.tif\u001b[39m\n",
            "\n",
            "File downloaded:\n",
            "\n",
            "• \u001b[36mOahu_Average_Land_Cover_Buffer_2000m_2015_to_2019-0000066816-0000215296.tif\u001b[39m\n",
            "  \u001b[90m<id: 1kGw2aPIMPF2Obd-BHE__IQigG1Rn7sxw>\u001b[39m\n",
            "\n",
            "Saved locally as:\n",
            "\n",
            "• \u001b[34m/content/predictor_variables/DynamicWorld_landcover/Oahu_Average_Land_Cover_Buffer_2000m_2015_to_2019-0000066816-0000215296.tif\u001b[39m\n",
            "\n",
            "File downloaded:\n",
            "\n",
            "• \u001b[36mOahu_Average_Land_Cover_Buffer_2000m_2015_to_2019-0000074240-0000014848.tif\u001b[39m\n",
            "  \u001b[90m<id: 1J30BISuQIUqEB41VSFr6U9Oqlkc4cq3C>\u001b[39m\n",
            "\n",
            "Saved locally as:\n",
            "\n",
            "• \u001b[34m/content/predictor_variables/DynamicWorld_landcover/Oahu_Average_Land_Cover_Buffer_2000m_2015_to_2019-0000074240-0000014848.tif\u001b[39m\n",
            "\n",
            "File downloaded:\n",
            "\n",
            "• \u001b[36mOahu_Average_Land_Cover_Buffer_2000m_2015_to_2019-0000074240-0000111360.tif\u001b[39m\n",
            "  \u001b[90m<id: 1JW40lFIHLrn-627u9_byPl9V-0anW1JE>\u001b[39m\n",
            "\n",
            "Saved locally as:\n",
            "\n",
            "• \u001b[34m/content/predictor_variables/DynamicWorld_landcover/Oahu_Average_Land_Cover_Buffer_2000m_2015_to_2019-0000074240-0000111360.tif\u001b[39m\n",
            "\n",
            "File downloaded:\n",
            "\n",
            "• \u001b[36mOahu_Average_Land_Cover_Buffer_2000m_2015_to_2019-0000074240-0000118784.tif\u001b[39m\n",
            "  \u001b[90m<id: 1u1g-0VhgjLZX-AL1XvKqK1UXb1rR7JJt>\u001b[39m\n",
            "\n",
            "Saved locally as:\n",
            "\n",
            "• \u001b[34m/content/predictor_variables/DynamicWorld_landcover/Oahu_Average_Land_Cover_Buffer_2000m_2015_to_2019-0000074240-0000118784.tif\u001b[39m\n",
            "\n",
            "File downloaded:\n",
            "\n",
            "• \u001b[36mOahu_Average_Land_Cover_Buffer_2000m_2015_to_2019-0000074240-0000141056.tif\u001b[39m\n",
            "  \u001b[90m<id: 1ES8TsURnBcbxMB4gUsbreSSpfHAIchmB>\u001b[39m\n",
            "\n",
            "Saved locally as:\n",
            "\n",
            "• \u001b[34m/content/predictor_variables/DynamicWorld_landcover/Oahu_Average_Land_Cover_Buffer_2000m_2015_to_2019-0000074240-0000141056.tif\u001b[39m\n",
            "\n",
            "File downloaded:\n",
            "\n",
            "• \u001b[36mOahu_Average_Land_Cover_Buffer_2000m_2015_to_2019-0000000000-0000081664.tif\u001b[39m\n",
            "  \u001b[90m<id: 1yPbRgiPQXUdp2gr879ItJRKgKfoxGQKJ>\u001b[39m\n",
            "\n",
            "Saved locally as:\n",
            "\n",
            "• \u001b[34m/content/predictor_variables/DynamicWorld_landcover/Oahu_Average_Land_Cover_Buffer_2000m_2015_to_2019-0000000000-0000081664.tif\u001b[39m\n",
            "\n",
            "File downloaded:\n",
            "\n",
            "• \u001b[36mOahu_Average_Land_Cover_Buffer_2000m_2015_to_2019-0000000000-0000155904.tif\u001b[39m\n",
            "  \u001b[90m<id: 1pJ0yJGUVt0hb8UaeZn5I-4OGguhDvoUj>\u001b[39m\n",
            "\n",
            "Saved locally as:\n",
            "\n",
            "• \u001b[34m/content/predictor_variables/DynamicWorld_landcover/Oahu_Average_Land_Cover_Buffer_2000m_2015_to_2019-0000000000-0000155904.tif\u001b[39m\n",
            "\n",
            "File downloaded:\n",
            "\n",
            "• \u001b[36mOahu_Average_Land_Cover_Buffer_2000m_2015_to_2019-0000007424-0000014848.tif\u001b[39m\n",
            "  \u001b[90m<id: 1ji7TnVfn9l-JrTwhl0mV99IeHAVfDn45>\u001b[39m\n",
            "\n",
            "Saved locally as:\n",
            "\n",
            "• \u001b[34m/content/predictor_variables/DynamicWorld_landcover/Oahu_Average_Land_Cover_Buffer_2000m_2015_to_2019-0000007424-0000014848.tif\u001b[39m\n",
            "\n",
            "File downloaded:\n",
            "\n",
            "• \u001b[36mOahu_Average_Land_Cover_Buffer_2000m_2015_to_2019-0000007424-0000059392.tif\u001b[39m\n",
            "  \u001b[90m<id: 1o-EW3cNRmzUEeQkFh_44EOZ8B_4zkBxJ>\u001b[39m\n",
            "\n",
            "Saved locally as:\n",
            "\n",
            "• \u001b[34m/content/predictor_variables/DynamicWorld_landcover/Oahu_Average_Land_Cover_Buffer_2000m_2015_to_2019-0000007424-0000059392.tif\u001b[39m\n",
            "\n",
            "File downloaded:\n",
            "\n",
            "• \u001b[36mOahu_Average_Land_Cover_Buffer_2000m_2015_to_2019-0000007424-0000230144.tif\u001b[39m\n",
            "  \u001b[90m<id: 1Js1-FLMGq8RqsTDoWcc_4B6eeif0SX7T>\u001b[39m\n",
            "\n",
            "Saved locally as:\n",
            "\n",
            "• \u001b[34m/content/predictor_variables/DynamicWorld_landcover/Oahu_Average_Land_Cover_Buffer_2000m_2015_to_2019-0000007424-0000230144.tif\u001b[39m\n",
            "\n",
            "File downloaded:\n",
            "\n",
            "• \u001b[36mOahu_Average_Land_Cover_Buffer_2000m_2015_to_2019-0000014848-0000037120.tif\u001b[39m\n",
            "  \u001b[90m<id: 1j9ZjcWNT_Bvkr0lTWCkWbVLDOwaFPqa6>\u001b[39m\n",
            "\n",
            "Saved locally as:\n",
            "\n",
            "• \u001b[34m/content/predictor_variables/DynamicWorld_landcover/Oahu_Average_Land_Cover_Buffer_2000m_2015_to_2019-0000014848-0000037120.tif\u001b[39m\n",
            "\n",
            "File downloaded:\n",
            "\n",
            "• \u001b[36mOahu_Average_Land_Cover_Buffer_2000m_2015_to_2019-0000014848-0000118784.tif\u001b[39m\n",
            "  \u001b[90m<id: 1JsIOnvAIEN2J4fPuWfZ0QktYqKkgfd8w>\u001b[39m\n",
            "\n",
            "Saved locally as:\n",
            "\n",
            "• \u001b[34m/content/predictor_variables/DynamicWorld_landcover/Oahu_Average_Land_Cover_Buffer_2000m_2015_to_2019-0000014848-0000118784.tif\u001b[39m\n",
            "\n",
            "File downloaded:\n",
            "\n",
            "• \u001b[36mOahu_Average_Land_Cover_Buffer_2000m_2015_to_2019-0000014848-0000133632.tif\u001b[39m\n",
            "  \u001b[90m<id: 1YzevtewRlxjdCOQMtdYdhXiUUYVjPBYn>\u001b[39m\n",
            "\n",
            "Saved locally as:\n",
            "\n",
            "• \u001b[34m/content/predictor_variables/DynamicWorld_landcover/Oahu_Average_Land_Cover_Buffer_2000m_2015_to_2019-0000014848-0000133632.tif\u001b[39m\n",
            "\n",
            "File downloaded:\n",
            "\n",
            "• \u001b[36mOahu_Average_Land_Cover_Buffer_2000m_2015_to_2019-0000022272-0000051968.tif\u001b[39m\n",
            "  \u001b[90m<id: 1I9I3hfluw411cswAvaNxAhVzlRuzrKZw>\u001b[39m\n",
            "\n",
            "Saved locally as:\n",
            "\n",
            "• \u001b[34m/content/predictor_variables/DynamicWorld_landcover/Oahu_Average_Land_Cover_Buffer_2000m_2015_to_2019-0000022272-0000051968.tif\u001b[39m\n",
            "\n",
            "File downloaded:\n",
            "\n",
            "• \u001b[36mOahu_Average_Land_Cover_Buffer_2000m_2015_to_2019-0000022272-0000096512.tif\u001b[39m\n",
            "  \u001b[90m<id: 1Fe_Go9JQXi9u7lLPofCYftXEyezNw8JZ>\u001b[39m\n",
            "\n",
            "Saved locally as:\n",
            "\n",
            "• \u001b[34m/content/predictor_variables/DynamicWorld_landcover/Oahu_Average_Land_Cover_Buffer_2000m_2015_to_2019-0000022272-0000096512.tif\u001b[39m\n",
            "\n",
            "File downloaded:\n",
            "\n",
            "• \u001b[36mOahu_Average_Land_Cover_Buffer_2000m_2015_to_2019-0000022272-0000133632.tif\u001b[39m\n",
            "  \u001b[90m<id: 1CfvJQ8Ba7U05It4c-bYt3Fo3MDn06KTi>\u001b[39m\n",
            "\n",
            "Saved locally as:\n",
            "\n",
            "• \u001b[34m/content/predictor_variables/DynamicWorld_landcover/Oahu_Average_Land_Cover_Buffer_2000m_2015_to_2019-0000022272-0000133632.tif\u001b[39m\n",
            "\n",
            "File downloaded:\n",
            "\n",
            "• \u001b[36mOahu_Average_Land_Cover_Buffer_2000m_2015_to_2019-0000029696-0000029696.tif\u001b[39m\n",
            "  \u001b[90m<id: 12yOz_KYMKAUPPhF3hZeLhjviL9gR8Uea>\u001b[39m\n",
            "\n",
            "Saved locally as:\n",
            "\n",
            "• \u001b[34m/content/predictor_variables/DynamicWorld_landcover/Oahu_Average_Land_Cover_Buffer_2000m_2015_to_2019-0000029696-0000029696.tif\u001b[39m\n",
            "\n",
            "File downloaded:\n",
            "\n",
            "• \u001b[36mOahu_Average_Land_Cover_Buffer_2000m_2015_to_2019-0000029696-0000089088.tif\u001b[39m\n",
            "  \u001b[90m<id: 1on0yCrgyLEoYOHF7JbsRpnEWgvbLz_6B>\u001b[39m\n",
            "\n",
            "Saved locally as:\n",
            "\n",
            "• \u001b[34m/content/predictor_variables/DynamicWorld_landcover/Oahu_Average_Land_Cover_Buffer_2000m_2015_to_2019-0000029696-0000089088.tif\u001b[39m\n",
            "\n",
            "File downloaded:\n",
            "\n",
            "• \u001b[36mOahu_Average_Land_Cover_Buffer_2000m_2015_to_2019-0000029696-0000163328.tif\u001b[39m\n",
            "  \u001b[90m<id: 14P03zlC7jD4bN_owAh3VkdthYhGX8J3B>\u001b[39m\n",
            "\n",
            "Saved locally as:\n",
            "\n",
            "• \u001b[34m/content/predictor_variables/DynamicWorld_landcover/Oahu_Average_Land_Cover_Buffer_2000m_2015_to_2019-0000029696-0000163328.tif\u001b[39m\n",
            "\n",
            "File downloaded:\n",
            "\n",
            "• \u001b[36mOahu_Average_Land_Cover_Buffer_2000m_2015_to_2019-0000029696-0000178176.tif\u001b[39m\n",
            "  \u001b[90m<id: 18wbjLRxKvxdCccnVCRQ3D7npcQx5-QQ_>\u001b[39m\n",
            "\n",
            "Saved locally as:\n",
            "\n",
            "• \u001b[34m/content/predictor_variables/DynamicWorld_landcover/Oahu_Average_Land_Cover_Buffer_2000m_2015_to_2019-0000029696-0000178176.tif\u001b[39m\n",
            "\n",
            "File downloaded:\n",
            "\n",
            "• \u001b[36mOahu_Average_Land_Cover_Buffer_2000m_2015_to_2019-0000029696-0000185600.tif\u001b[39m\n",
            "  \u001b[90m<id: 1RuUy06uTw0b-R80l5gWP2UqwMDm6Kh4p>\u001b[39m\n",
            "\n",
            "Saved locally as:\n",
            "\n",
            "• \u001b[34m/content/predictor_variables/DynamicWorld_landcover/Oahu_Average_Land_Cover_Buffer_2000m_2015_to_2019-0000029696-0000185600.tif\u001b[39m\n",
            "\n",
            "File downloaded:\n",
            "\n",
            "• \u001b[36mOahu_Average_Land_Cover_Buffer_2000m_2015_to_2019-0000037120-0000103936.tif\u001b[39m\n",
            "  \u001b[90m<id: 13D1mlPk9iA-fm4sZWnpWbKlFUCz37xXx>\u001b[39m\n",
            "\n",
            "Saved locally as:\n",
            "\n",
            "• \u001b[34m/content/predictor_variables/DynamicWorld_landcover/Oahu_Average_Land_Cover_Buffer_2000m_2015_to_2019-0000037120-0000103936.tif\u001b[39m\n",
            "\n",
            "File downloaded:\n",
            "\n",
            "• \u001b[36mOahu_Average_Land_Cover_Buffer_2000m_2015_to_2019-0000037120-0000141056.tif\u001b[39m\n",
            "  \u001b[90m<id: 1j-oH2YLYPsxbnCpmmX08EUQnCVUDaxXh>\u001b[39m\n",
            "\n",
            "Saved locally as:\n",
            "\n",
            "• \u001b[34m/content/predictor_variables/DynamicWorld_landcover/Oahu_Average_Land_Cover_Buffer_2000m_2015_to_2019-0000037120-0000141056.tif\u001b[39m\n",
            "\n",
            "File downloaded:\n",
            "\n",
            "• \u001b[36mOahu_Average_Land_Cover_Buffer_2000m_2015_to_2019-0000037120-0000207872.tif\u001b[39m\n",
            "  \u001b[90m<id: 1urPs8OOri7TD-UH2UtMG38Tutq2rOcUu>\u001b[39m\n",
            "\n",
            "Saved locally as:\n",
            "\n",
            "• \u001b[34m/content/predictor_variables/DynamicWorld_landcover/Oahu_Average_Land_Cover_Buffer_2000m_2015_to_2019-0000037120-0000207872.tif\u001b[39m\n",
            "\n",
            "File downloaded:\n",
            "\n",
            "• \u001b[36mOahu_Average_Land_Cover_Buffer_2000m_2015_to_2019-0000044544-0000044544.tif\u001b[39m\n",
            "  \u001b[90m<id: 1tFYvwEbuoxCqtwWywjufkw3sZA4jXdZd>\u001b[39m\n",
            "\n",
            "Saved locally as:\n",
            "\n",
            "• \u001b[34m/content/predictor_variables/DynamicWorld_landcover/Oahu_Average_Land_Cover_Buffer_2000m_2015_to_2019-0000044544-0000044544.tif\u001b[39m\n",
            "\n",
            "File downloaded:\n",
            "\n",
            "• \u001b[36mOahu_Average_Land_Cover_Buffer_2000m_2015_to_2019-0000044544-0000081664.tif\u001b[39m\n",
            "  \u001b[90m<id: 1_3TRrRin02alh9QOKZ9mO_McqXpbLCwA>\u001b[39m\n",
            "\n",
            "Saved locally as:\n",
            "\n",
            "• \u001b[34m/content/predictor_variables/DynamicWorld_landcover/Oahu_Average_Land_Cover_Buffer_2000m_2015_to_2019-0000044544-0000081664.tif\u001b[39m\n",
            "\n",
            "File downloaded:\n",
            "\n",
            "• \u001b[36mOahu_Average_Land_Cover_Buffer_2000m_2015_to_2019-0000044544-0000096512.tif\u001b[39m\n",
            "  \u001b[90m<id: 1N9IrnjPAPx5QIo6RM__55VBruHoqvErj>\u001b[39m\n",
            "\n",
            "Saved locally as:\n",
            "\n",
            "• \u001b[34m/content/predictor_variables/DynamicWorld_landcover/Oahu_Average_Land_Cover_Buffer_2000m_2015_to_2019-0000044544-0000096512.tif\u001b[39m\n",
            "\n",
            "File downloaded:\n",
            "\n",
            "• \u001b[36mOahu_Average_Land_Cover_Buffer_2000m_2015_to_2019-0000044544-0000103936.tif\u001b[39m\n",
            "  \u001b[90m<id: 10oJHQOmjxxRGu_nScvLUswhJvz-D27RN>\u001b[39m\n",
            "\n",
            "Saved locally as:\n",
            "\n",
            "• \u001b[34m/content/predictor_variables/DynamicWorld_landcover/Oahu_Average_Land_Cover_Buffer_2000m_2015_to_2019-0000044544-0000103936.tif\u001b[39m\n",
            "\n",
            "File downloaded:\n",
            "\n",
            "• \u001b[36mOahu_Average_Land_Cover_Buffer_2000m_2015_to_2019-0000044544-0000111360.tif\u001b[39m\n",
            "  \u001b[90m<id: 1LuWYH1dPMD3C5z25o9B_nDw6u2rgQzai>\u001b[39m\n",
            "\n",
            "Saved locally as:\n",
            "\n",
            "• \u001b[34m/content/predictor_variables/DynamicWorld_landcover/Oahu_Average_Land_Cover_Buffer_2000m_2015_to_2019-0000044544-0000111360.tif\u001b[39m\n",
            "\n",
            "File downloaded:\n",
            "\n",
            "• \u001b[36mOahu_Average_Land_Cover_Buffer_2000m_2015_to_2019-0000044544-0000118784.tif\u001b[39m\n",
            "  \u001b[90m<id: 1m6_eaZPQ2_h2FWs8TDQJ9jmF-cXH1eai>\u001b[39m\n",
            "\n",
            "Saved locally as:\n",
            "\n",
            "• \u001b[34m/content/predictor_variables/DynamicWorld_landcover/Oahu_Average_Land_Cover_Buffer_2000m_2015_to_2019-0000044544-0000118784.tif\u001b[39m\n",
            "\n",
            "File downloaded:\n",
            "\n",
            "• \u001b[36mOahu_Average_Land_Cover_Buffer_2000m_2015_to_2019-0000044544-0000148480.tif\u001b[39m\n",
            "  \u001b[90m<id: 10SAINBJ7-WtrlRSowWN75kkKC5Pi5S-h>\u001b[39m\n",
            "\n",
            "Saved locally as:\n",
            "\n",
            "• \u001b[34m/content/predictor_variables/DynamicWorld_landcover/Oahu_Average_Land_Cover_Buffer_2000m_2015_to_2019-0000044544-0000148480.tif\u001b[39m\n",
            "\n",
            "File downloaded:\n",
            "\n",
            "• \u001b[36mOahu_Average_Land_Cover_Buffer_2000m_2015_to_2019-0000044544-0000163328.tif\u001b[39m\n",
            "  \u001b[90m<id: 1Q6PJvW5WO-t90xuVPgy9oyJsY1z3boyJ>\u001b[39m\n",
            "\n",
            "Saved locally as:\n",
            "\n",
            "• \u001b[34m/content/predictor_variables/DynamicWorld_landcover/Oahu_Average_Land_Cover_Buffer_2000m_2015_to_2019-0000044544-0000163328.tif\u001b[39m\n",
            "\n",
            "File downloaded:\n",
            "\n",
            "• \u001b[36mOahu_Average_Land_Cover_Buffer_2000m_2015_to_2019-0000044544-0000193024.tif\u001b[39m\n",
            "  \u001b[90m<id: 1EQ8iaFP8fd4fcKPvl3F4d2roH2_weini>\u001b[39m\n",
            "\n",
            "Saved locally as:\n",
            "\n",
            "• \u001b[34m/content/predictor_variables/DynamicWorld_landcover/Oahu_Average_Land_Cover_Buffer_2000m_2015_to_2019-0000044544-0000193024.tif\u001b[39m\n",
            "\n",
            "File downloaded:\n",
            "\n",
            "• \u001b[36mOahu_Average_Land_Cover_Buffer_2000m_2015_to_2019-0000051968-0000000000.tif\u001b[39m\n",
            "  \u001b[90m<id: 1Ij9hjYEl3YgQr2382zxy78AtAkfcCIjL>\u001b[39m\n",
            "\n",
            "Saved locally as:\n",
            "\n",
            "• \u001b[34m/content/predictor_variables/DynamicWorld_landcover/Oahu_Average_Land_Cover_Buffer_2000m_2015_to_2019-0000051968-0000000000.tif\u001b[39m\n",
            "\n",
            "File downloaded:\n",
            "\n",
            "• \u001b[36mOahu_Average_Land_Cover_Buffer_2000m_2015_to_2019-0000051968-0000051968.tif\u001b[39m\n",
            "  \u001b[90m<id: 1ubMpW2n2UKHItfhe6tS8hqbVZS6JYPMB>\u001b[39m\n",
            "\n",
            "Saved locally as:\n",
            "\n",
            "• \u001b[34m/content/predictor_variables/DynamicWorld_landcover/Oahu_Average_Land_Cover_Buffer_2000m_2015_to_2019-0000051968-0000051968.tif\u001b[39m\n",
            "\n",
            "File downloaded:\n",
            "\n",
            "• \u001b[36mOahu_Average_Land_Cover_Buffer_2000m_2015_to_2019-0000051968-0000111360.tif\u001b[39m\n",
            "  \u001b[90m<id: 1D9WjQMtF4mVroE1c39JwY9oxK7PypD6E>\u001b[39m\n",
            "\n",
            "Saved locally as:\n",
            "\n",
            "• \u001b[34m/content/predictor_variables/DynamicWorld_landcover/Oahu_Average_Land_Cover_Buffer_2000m_2015_to_2019-0000051968-0000111360.tif\u001b[39m\n",
            "\n",
            "File downloaded:\n",
            "\n",
            "• \u001b[36mOahu_Average_Land_Cover_Buffer_2000m_2015_to_2019-0000059392-0000029696.tif\u001b[39m\n",
            "  \u001b[90m<id: 1nBeMplrbDWClMO2cfTZ5qKZfX4AWreeR>\u001b[39m\n",
            "\n",
            "Saved locally as:\n",
            "\n",
            "• \u001b[34m/content/predictor_variables/DynamicWorld_landcover/Oahu_Average_Land_Cover_Buffer_2000m_2015_to_2019-0000059392-0000029696.tif\u001b[39m\n",
            "\n",
            "File downloaded:\n",
            "\n",
            "• \u001b[36mOahu_Average_Land_Cover_Buffer_2000m_2015_to_2019-0000059392-0000155904.tif\u001b[39m\n",
            "  \u001b[90m<id: 1JkfXqbpghLtcgHB536tHP2V1Ojd_1cdB>\u001b[39m\n",
            "\n",
            "Saved locally as:\n",
            "\n",
            "• \u001b[34m/content/predictor_variables/DynamicWorld_landcover/Oahu_Average_Land_Cover_Buffer_2000m_2015_to_2019-0000059392-0000155904.tif\u001b[39m\n",
            "\n",
            "File downloaded:\n",
            "\n",
            "• \u001b[36mOahu_Average_Land_Cover_Buffer_2000m_2015_to_2019-0000059392-0000178176.tif\u001b[39m\n",
            "  \u001b[90m<id: 1-_NBOF93F6wemwG6upklAtaxUBWBGHLQ>\u001b[39m\n",
            "\n",
            "Saved locally as:\n",
            "\n",
            "• \u001b[34m/content/predictor_variables/DynamicWorld_landcover/Oahu_Average_Land_Cover_Buffer_2000m_2015_to_2019-0000059392-0000178176.tif\u001b[39m\n",
            "\n",
            "File downloaded:\n",
            "\n",
            "• \u001b[36mOahu_Average_Land_Cover_Buffer_2000m_2015_to_2019-0000066816-0000074240.tif\u001b[39m\n",
            "  \u001b[90m<id: 1tIszTS5pMTy6O7taPls36ffQmp-ODiUu>\u001b[39m\n",
            "\n",
            "Saved locally as:\n",
            "\n",
            "• \u001b[34m/content/predictor_variables/DynamicWorld_landcover/Oahu_Average_Land_Cover_Buffer_2000m_2015_to_2019-0000066816-0000074240.tif\u001b[39m\n",
            "\n",
            "File downloaded:\n",
            "\n",
            "• \u001b[36mOahu_Average_Land_Cover_Buffer_2000m_2015_to_2019-0000066816-0000089088.tif\u001b[39m\n",
            "  \u001b[90m<id: 1OHcKym9_G-BwNrTD6ZVxI5ozMQzuonPY>\u001b[39m\n",
            "\n",
            "Saved locally as:\n",
            "\n",
            "• \u001b[34m/content/predictor_variables/DynamicWorld_landcover/Oahu_Average_Land_Cover_Buffer_2000m_2015_to_2019-0000066816-0000089088.tif\u001b[39m\n",
            "\n",
            "File downloaded:\n",
            "\n",
            "• \u001b[36mOahu_Average_Land_Cover_Buffer_2000m_2015_to_2019-0000066816-0000185600.tif\u001b[39m\n",
            "  \u001b[90m<id: 1Tc7l6Z1RTf7DEwOCifr3_f4JI-Xg8VI4>\u001b[39m\n",
            "\n",
            "Saved locally as:\n",
            "\n",
            "• \u001b[34m/content/predictor_variables/DynamicWorld_landcover/Oahu_Average_Land_Cover_Buffer_2000m_2015_to_2019-0000066816-0000185600.tif\u001b[39m\n",
            "\n",
            "File downloaded:\n",
            "\n",
            "• \u001b[36mOahu_Average_Land_Cover_Buffer_2000m_2015_to_2019-0000066816-0000193024.tif\u001b[39m\n",
            "  \u001b[90m<id: 147mrf3tqDt03bArlLLM7LanwbkL0eJ8g>\u001b[39m\n",
            "\n",
            "Saved locally as:\n",
            "\n",
            "• \u001b[34m/content/predictor_variables/DynamicWorld_landcover/Oahu_Average_Land_Cover_Buffer_2000m_2015_to_2019-0000066816-0000193024.tif\u001b[39m\n",
            "\n",
            "File downloaded:\n",
            "\n",
            "• \u001b[36mOahu_Average_Land_Cover_Buffer_2000m_2015_to_2019-0000066816-0000200448.tif\u001b[39m\n",
            "  \u001b[90m<id: 1Wf_oo0v2sRtn8DY7y05PleZouJB1skH1>\u001b[39m\n",
            "\n",
            "Saved locally as:\n",
            "\n",
            "• \u001b[34m/content/predictor_variables/DynamicWorld_landcover/Oahu_Average_Land_Cover_Buffer_2000m_2015_to_2019-0000066816-0000200448.tif\u001b[39m\n",
            "\n",
            "File downloaded:\n",
            "\n",
            "• \u001b[36mOahu_Average_Land_Cover_Buffer_2000m_2015_to_2019-0000074240-0000029696.tif\u001b[39m\n",
            "  \u001b[90m<id: 1YSuMfjU5pAfdoNa0msEQkBfhdsOIMo69>\u001b[39m\n",
            "\n",
            "Saved locally as:\n",
            "\n",
            "• \u001b[34m/content/predictor_variables/DynamicWorld_landcover/Oahu_Average_Land_Cover_Buffer_2000m_2015_to_2019-0000074240-0000029696.tif\u001b[39m\n",
            "\n",
            "File downloaded:\n",
            "\n",
            "• \u001b[36mOahu_Average_Land_Cover_Buffer_2000m_2015_to_2019-0000074240-0000051968.tif\u001b[39m\n",
            "  \u001b[90m<id: 1a5VC9hItgNLfV1O93w6yqlp1MccRMUyB>\u001b[39m\n",
            "\n",
            "Saved locally as:\n",
            "\n",
            "• \u001b[34m/content/predictor_variables/DynamicWorld_landcover/Oahu_Average_Land_Cover_Buffer_2000m_2015_to_2019-0000074240-0000051968.tif\u001b[39m\n",
            "\n",
            "File downloaded:\n",
            "\n",
            "• \u001b[36mOahu_Average_Land_Cover_Buffer_2000m_2015_to_2019-0000074240-0000178176.tif\u001b[39m\n",
            "  \u001b[90m<id: 1E0VoyXfF5gDoU9KXU4SQs9X5wsJtYH5w>\u001b[39m\n",
            "\n",
            "Saved locally as:\n",
            "\n",
            "• \u001b[34m/content/predictor_variables/DynamicWorld_landcover/Oahu_Average_Land_Cover_Buffer_2000m_2015_to_2019-0000074240-0000178176.tif\u001b[39m\n",
            "\n",
            "File downloaded:\n",
            "\n",
            "• \u001b[36mOahu_Average_Land_Cover_Buffer_2000m_2015_to_2019-0000074240-0000215296.tif\u001b[39m\n",
            "  \u001b[90m<id: 1RsExGzHzQv2R_SiPVOGhelM4dIe19L-n>\u001b[39m\n",
            "\n",
            "Saved locally as:\n",
            "\n",
            "• \u001b[34m/content/predictor_variables/DynamicWorld_landcover/Oahu_Average_Land_Cover_Buffer_2000m_2015_to_2019-0000074240-0000215296.tif\u001b[39m\n",
            "\n",
            "File downloaded:\n",
            "\n",
            "• \u001b[36mOahu_Average_Land_Cover_Buffer_2000m_2015_to_2019-0000000000-0000007424.tif\u001b[39m\n",
            "  \u001b[90m<id: 1JCU1_VGkhN_QH6F7EkwknUibOjgME9Ps>\u001b[39m\n",
            "\n",
            "Saved locally as:\n",
            "\n",
            "• \u001b[34m/content/predictor_variables/DynamicWorld_landcover/Oahu_Average_Land_Cover_Buffer_2000m_2015_to_2019-0000000000-0000007424.tif\u001b[39m\n",
            "\n",
            "File downloaded:\n",
            "\n",
            "• \u001b[36mOahu_Average_Land_Cover_Buffer_2000m_2015_to_2019-0000000000-0000022272.tif\u001b[39m\n",
            "  \u001b[90m<id: 190mmcd9VgxwNdDi5u8ZYSsZ-4Zex6-07>\u001b[39m\n",
            "\n",
            "Saved locally as:\n",
            "\n",
            "• \u001b[34m/content/predictor_variables/DynamicWorld_landcover/Oahu_Average_Land_Cover_Buffer_2000m_2015_to_2019-0000000000-0000022272.tif\u001b[39m\n",
            "\n",
            "File downloaded:\n",
            "\n",
            "• \u001b[36mOahu_Average_Land_Cover_Buffer_2000m_2015_to_2019-0000000000-0000044544.tif\u001b[39m\n",
            "  \u001b[90m<id: 1IBC-0ED691VToH08EB3JdchIMwAdVsG3>\u001b[39m\n",
            "\n",
            "Saved locally as:\n",
            "\n",
            "• \u001b[34m/content/predictor_variables/DynamicWorld_landcover/Oahu_Average_Land_Cover_Buffer_2000m_2015_to_2019-0000000000-0000044544.tif\u001b[39m\n",
            "\n",
            "File downloaded:\n",
            "\n",
            "• \u001b[36mOahu_Average_Land_Cover_Buffer_2000m_2015_to_2019-0000000000-0000059392.tif\u001b[39m\n",
            "  \u001b[90m<id: 1aBKOhip-LWk14E39kPsHB1I9OmOV-Bk3>\u001b[39m\n",
            "\n",
            "Saved locally as:\n",
            "\n",
            "• \u001b[34m/content/predictor_variables/DynamicWorld_landcover/Oahu_Average_Land_Cover_Buffer_2000m_2015_to_2019-0000000000-0000059392.tif\u001b[39m\n",
            "\n",
            "File downloaded:\n",
            "\n",
            "• \u001b[36mOahu_Average_Land_Cover_Buffer_2000m_2015_to_2019-0000000000-0000089088.tif\u001b[39m\n",
            "  \u001b[90m<id: 19q9PPu4gwOZynZeYxplLNa75-0AmZmTJ>\u001b[39m\n",
            "\n",
            "Saved locally as:\n",
            "\n",
            "• \u001b[34m/content/predictor_variables/DynamicWorld_landcover/Oahu_Average_Land_Cover_Buffer_2000m_2015_to_2019-0000000000-0000089088.tif\u001b[39m\n",
            "\n",
            "File downloaded:\n",
            "\n",
            "• \u001b[36mOahu_Average_Land_Cover_Buffer_2000m_2015_to_2019-0000007424-0000000000.tif\u001b[39m\n",
            "  \u001b[90m<id: 1K7FSm8CtBmbq3HpQK52e8svkZP5t6NXK>\u001b[39m\n",
            "\n",
            "Saved locally as:\n",
            "\n",
            "• \u001b[34m/content/predictor_variables/DynamicWorld_landcover/Oahu_Average_Land_Cover_Buffer_2000m_2015_to_2019-0000007424-0000000000.tif\u001b[39m\n",
            "\n",
            "File downloaded:\n",
            "\n",
            "• \u001b[36mOahu_Average_Land_Cover_Buffer_2000m_2015_to_2019-0000007424-0000148480.tif\u001b[39m\n",
            "  \u001b[90m<id: 1HWJjhzjBUFmwfmROTCX9vDoJhU3NTvta>\u001b[39m\n",
            "\n",
            "Saved locally as:\n",
            "\n",
            "• \u001b[34m/content/predictor_variables/DynamicWorld_landcover/Oahu_Average_Land_Cover_Buffer_2000m_2015_to_2019-0000007424-0000148480.tif\u001b[39m\n",
            "\n",
            "File downloaded:\n",
            "\n",
            "• \u001b[36mOahu_Average_Land_Cover_Buffer_2000m_2015_to_2019-0000014848-0000022272.tif\u001b[39m\n",
            "  \u001b[90m<id: 12s3cmBlHNuLTGXyRGebRzCdtjpXpV0b4>\u001b[39m\n",
            "\n",
            "Saved locally as:\n",
            "\n",
            "• \u001b[34m/content/predictor_variables/DynamicWorld_landcover/Oahu_Average_Land_Cover_Buffer_2000m_2015_to_2019-0000014848-0000022272.tif\u001b[39m\n",
            "\n",
            "File downloaded:\n",
            "\n",
            "• \u001b[36mOahu_Average_Land_Cover_Buffer_2000m_2015_to_2019-0000014848-0000111360.tif\u001b[39m\n",
            "  \u001b[90m<id: 1DltrlLhj3Zj5d1YLESD9lDu2PDHtZ-C3>\u001b[39m\n",
            "\n",
            "Saved locally as:\n",
            "\n",
            "• \u001b[34m/content/predictor_variables/DynamicWorld_landcover/Oahu_Average_Land_Cover_Buffer_2000m_2015_to_2019-0000014848-0000111360.tif\u001b[39m\n",
            "\n",
            "File downloaded:\n",
            "\n",
            "• \u001b[36mOahu_Average_Land_Cover_Buffer_2000m_2015_to_2019-0000022272-0000014848.tif\u001b[39m\n",
            "  \u001b[90m<id: 1a-xJzJJxj-PBQmUEI62jAKT8Irtrh4dx>\u001b[39m\n",
            "\n",
            "Saved locally as:\n",
            "\n",
            "• \u001b[34m/content/predictor_variables/DynamicWorld_landcover/Oahu_Average_Land_Cover_Buffer_2000m_2015_to_2019-0000022272-0000014848.tif\u001b[39m\n",
            "\n",
            "File downloaded:\n",
            "\n",
            "• \u001b[36mOahu_Average_Land_Cover_Buffer_2000m_2015_to_2019-0000022272-0000089088.tif\u001b[39m\n",
            "  \u001b[90m<id: 1-ZcWQt-5Ew1sxRQ_09nNXjEVT4vezvHU>\u001b[39m\n",
            "\n",
            "Saved locally as:\n",
            "\n",
            "• \u001b[34m/content/predictor_variables/DynamicWorld_landcover/Oahu_Average_Land_Cover_Buffer_2000m_2015_to_2019-0000022272-0000089088.tif\u001b[39m\n",
            "\n",
            "File downloaded:\n",
            "\n",
            "• \u001b[36mOahu_Average_Land_Cover_Buffer_2000m_2015_to_2019-0000022272-0000155904.tif\u001b[39m\n",
            "  \u001b[90m<id: 1-QjEpfS-UVcM8m5FO_O9lnMmuihaFF5T>\u001b[39m\n",
            "\n",
            "Saved locally as:\n",
            "\n",
            "• \u001b[34m/content/predictor_variables/DynamicWorld_landcover/Oahu_Average_Land_Cover_Buffer_2000m_2015_to_2019-0000022272-0000155904.tif\u001b[39m\n",
            "\n",
            "File downloaded:\n",
            "\n",
            "• \u001b[36mOahu_Average_Land_Cover_Buffer_2000m_2015_to_2019-0000022272-0000200448.tif\u001b[39m\n",
            "  \u001b[90m<id: 1X7CoHwWNXLrOl3_yllo1jYNpA21EDTDw>\u001b[39m\n",
            "\n",
            "Saved locally as:\n",
            "\n",
            "• \u001b[34m/content/predictor_variables/DynamicWorld_landcover/Oahu_Average_Land_Cover_Buffer_2000m_2015_to_2019-0000022272-0000200448.tif\u001b[39m\n",
            "\n",
            "File downloaded:\n",
            "\n",
            "• \u001b[36mOahu_Average_Land_Cover_Buffer_2000m_2015_to_2019-0000029696-0000000000.tif\u001b[39m\n",
            "  \u001b[90m<id: 1CMzkh3cN7C_wHzOJH58E66Rce4_ScT4v>\u001b[39m\n",
            "\n",
            "Saved locally as:\n",
            "\n",
            "• \u001b[34m/content/predictor_variables/DynamicWorld_landcover/Oahu_Average_Land_Cover_Buffer_2000m_2015_to_2019-0000029696-0000000000.tif\u001b[39m\n",
            "\n",
            "File downloaded:\n",
            "\n",
            "• \u001b[36mOahu_Average_Land_Cover_Buffer_2000m_2015_to_2019-0000029696-0000044544.tif\u001b[39m\n",
            "  \u001b[90m<id: 1s7PlchUaATZvH_YjimhYFyFhMJEjRW66>\u001b[39m\n",
            "\n",
            "Saved locally as:\n",
            "\n",
            "• \u001b[34m/content/predictor_variables/DynamicWorld_landcover/Oahu_Average_Land_Cover_Buffer_2000m_2015_to_2019-0000029696-0000044544.tif\u001b[39m\n",
            "\n",
            "File downloaded:\n",
            "\n",
            "• \u001b[36mOahu_Average_Land_Cover_Buffer_2000m_2015_to_2019-0000029696-0000081664.tif\u001b[39m\n",
            "  \u001b[90m<id: 1GA-4dSawjd4UcZJeD-wmNFfXR-fdLt6K>\u001b[39m\n",
            "\n",
            "Saved locally as:\n",
            "\n",
            "• \u001b[34m/content/predictor_variables/DynamicWorld_landcover/Oahu_Average_Land_Cover_Buffer_2000m_2015_to_2019-0000029696-0000081664.tif\u001b[39m\n",
            "\n",
            "File downloaded:\n",
            "\n",
            "• \u001b[36mOahu_Average_Land_Cover_Buffer_2000m_2015_to_2019-0000029696-0000133632.tif\u001b[39m\n",
            "  \u001b[90m<id: 1UVrUKT0ec2tuNaqDMenVRnNCQlwoaD_p>\u001b[39m\n",
            "\n",
            "Saved locally as:\n",
            "\n",
            "• \u001b[34m/content/predictor_variables/DynamicWorld_landcover/Oahu_Average_Land_Cover_Buffer_2000m_2015_to_2019-0000029696-0000133632.tif\u001b[39m\n",
            "\n",
            "File downloaded:\n",
            "\n",
            "• \u001b[36mOahu_Average_Land_Cover_Buffer_2000m_2015_to_2019-0000029696-0000207872.tif\u001b[39m\n",
            "  \u001b[90m<id: 1vcBiRebBk_1K0fuO33vWpZH8VtDc1GN->\u001b[39m\n",
            "\n",
            "Saved locally as:\n",
            "\n",
            "• \u001b[34m/content/predictor_variables/DynamicWorld_landcover/Oahu_Average_Land_Cover_Buffer_2000m_2015_to_2019-0000029696-0000207872.tif\u001b[39m\n",
            "\n",
            "File downloaded:\n",
            "\n",
            "• \u001b[36mOahu_Average_Land_Cover_Buffer_2000m_2015_to_2019-0000037120-0000022272.tif\u001b[39m\n",
            "  \u001b[90m<id: 1PnZdiDNayT66k6K6H3F7C0spr1PmhTQ9>\u001b[39m\n",
            "\n",
            "Saved locally as:\n",
            "\n",
            "• \u001b[34m/content/predictor_variables/DynamicWorld_landcover/Oahu_Average_Land_Cover_Buffer_2000m_2015_to_2019-0000037120-0000022272.tif\u001b[39m\n",
            "\n",
            "File downloaded:\n",
            "\n",
            "• \u001b[36mOahu_Average_Land_Cover_Buffer_2000m_2015_to_2019-0000037120-0000081664.tif\u001b[39m\n",
            "  \u001b[90m<id: 1YZlWdQYK5BpZkWzHA8cPAaoTL_BgxQlk>\u001b[39m\n",
            "\n",
            "Saved locally as:\n",
            "\n",
            "• \u001b[34m/content/predictor_variables/DynamicWorld_landcover/Oahu_Average_Land_Cover_Buffer_2000m_2015_to_2019-0000037120-0000081664.tif\u001b[39m\n",
            "\n",
            "File downloaded:\n",
            "\n",
            "• \u001b[36mOahu_Average_Land_Cover_Buffer_2000m_2015_to_2019-0000037120-0000178176.tif\u001b[39m\n",
            "  \u001b[90m<id: 1n9W0vIkHe_610qwag64rdOE5TLbY5cvM>\u001b[39m\n",
            "\n",
            "Saved locally as:\n",
            "\n",
            "• \u001b[34m/content/predictor_variables/DynamicWorld_landcover/Oahu_Average_Land_Cover_Buffer_2000m_2015_to_2019-0000037120-0000178176.tif\u001b[39m\n",
            "\n",
            "File downloaded:\n",
            "\n",
            "• \u001b[36mOahu_Average_Land_Cover_Buffer_2000m_2015_to_2019-0000044544-0000000000.tif\u001b[39m\n",
            "  \u001b[90m<id: 1dYWnux0Xymq9M_1De3PImTZ2WJ3q_0Qq>\u001b[39m\n",
            "\n",
            "Saved locally as:\n",
            "\n",
            "• \u001b[34m/content/predictor_variables/DynamicWorld_landcover/Oahu_Average_Land_Cover_Buffer_2000m_2015_to_2019-0000044544-0000000000.tif\u001b[39m\n",
            "\n",
            "File downloaded:\n",
            "\n",
            "• \u001b[36mOahu_Average_Land_Cover_Buffer_2000m_2015_to_2019-0000044544-0000051968.tif\u001b[39m\n",
            "  \u001b[90m<id: 1V7AT-_2vCucEq_oN1nuLaI2iTXulmvVL>\u001b[39m\n",
            "\n",
            "Saved locally as:\n",
            "\n",
            "• \u001b[34m/content/predictor_variables/DynamicWorld_landcover/Oahu_Average_Land_Cover_Buffer_2000m_2015_to_2019-0000044544-0000051968.tif\u001b[39m\n",
            "\n",
            "File downloaded:\n",
            "\n",
            "• \u001b[36mOahu_Average_Land_Cover_Buffer_2000m_2015_to_2019-0000044544-0000089088.tif\u001b[39m\n",
            "  \u001b[90m<id: 13sYKD2RxdnvFPkjqAwimEZLwwigw9VL9>\u001b[39m\n",
            "\n",
            "Saved locally as:\n",
            "\n",
            "• \u001b[34m/content/predictor_variables/DynamicWorld_landcover/Oahu_Average_Land_Cover_Buffer_2000m_2015_to_2019-0000044544-0000089088.tif\u001b[39m\n",
            "\n",
            "File downloaded:\n",
            "\n",
            "• \u001b[36mOahu_Average_Land_Cover_Buffer_2000m_2015_to_2019-0000044544-0000200448.tif\u001b[39m\n",
            "  \u001b[90m<id: 1PO3ezzIt1SHUS86V38XhfIzeF7gpQ0eW>\u001b[39m\n",
            "\n",
            "Saved locally as:\n",
            "\n",
            "• \u001b[34m/content/predictor_variables/DynamicWorld_landcover/Oahu_Average_Land_Cover_Buffer_2000m_2015_to_2019-0000044544-0000200448.tif\u001b[39m\n",
            "\n",
            "File downloaded:\n",
            "\n",
            "• \u001b[36mOahu_Average_Land_Cover_Buffer_2000m_2015_to_2019-0000051968-0000096512.tif\u001b[39m\n",
            "  \u001b[90m<id: 1v5BuOG0-SFkr0NbcLX-DkBFJzKSGT0JE>\u001b[39m\n",
            "\n",
            "Saved locally as:\n",
            "\n",
            "• \u001b[34m/content/predictor_variables/DynamicWorld_landcover/Oahu_Average_Land_Cover_Buffer_2000m_2015_to_2019-0000051968-0000096512.tif\u001b[39m\n",
            "\n",
            "File downloaded:\n",
            "\n",
            "• \u001b[36mOahu_Average_Land_Cover_Buffer_2000m_2015_to_2019-0000051968-0000185600.tif\u001b[39m\n",
            "  \u001b[90m<id: 1OrbS9uZYPdySnVcNAXNkrODYSPIqHstM>\u001b[39m\n",
            "\n",
            "Saved locally as:\n",
            "\n",
            "• \u001b[34m/content/predictor_variables/DynamicWorld_landcover/Oahu_Average_Land_Cover_Buffer_2000m_2015_to_2019-0000051968-0000185600.tif\u001b[39m\n",
            "\n",
            "File downloaded:\n",
            "\n",
            "• \u001b[36mOahu_Average_Land_Cover_Buffer_2000m_2015_to_2019-0000051968-0000193024.tif\u001b[39m\n",
            "  \u001b[90m<id: 1RaXdu5x5GETN5x9O0S4oPQzCIqmo3kqX>\u001b[39m\n",
            "\n",
            "Saved locally as:\n",
            "\n",
            "• \u001b[34m/content/predictor_variables/DynamicWorld_landcover/Oahu_Average_Land_Cover_Buffer_2000m_2015_to_2019-0000051968-0000193024.tif\u001b[39m\n",
            "\n",
            "File downloaded:\n",
            "\n",
            "• \u001b[36mOahu_Average_Land_Cover_Buffer_2000m_2015_to_2019-0000051968-0000222720.tif\u001b[39m\n",
            "  \u001b[90m<id: 1X7gFCHceUrlLgxPaLIszJrv-__33kaq4>\u001b[39m\n",
            "\n",
            "Saved locally as:\n",
            "\n",
            "• \u001b[34m/content/predictor_variables/DynamicWorld_landcover/Oahu_Average_Land_Cover_Buffer_2000m_2015_to_2019-0000051968-0000222720.tif\u001b[39m\n",
            "\n",
            "File downloaded:\n",
            "\n",
            "• \u001b[36mOahu_Average_Land_Cover_Buffer_2000m_2015_to_2019-0000059392-0000014848.tif\u001b[39m\n",
            "  \u001b[90m<id: 1JK9PnLP1J6aveDEX-QegdpmpnWpTeZnR>\u001b[39m\n",
            "\n",
            "Saved locally as:\n",
            "\n",
            "• \u001b[34m/content/predictor_variables/DynamicWorld_landcover/Oahu_Average_Land_Cover_Buffer_2000m_2015_to_2019-0000059392-0000014848.tif\u001b[39m\n",
            "\n",
            "File downloaded:\n",
            "\n",
            "• \u001b[36mOahu_Average_Land_Cover_Buffer_2000m_2015_to_2019-0000059392-0000022272.tif\u001b[39m\n",
            "  \u001b[90m<id: 1tyz8g4GmT12Xp9kUMe4MTfc6CnE1Y60a>\u001b[39m\n",
            "\n",
            "Saved locally as:\n",
            "\n",
            "• \u001b[34m/content/predictor_variables/DynamicWorld_landcover/Oahu_Average_Land_Cover_Buffer_2000m_2015_to_2019-0000059392-0000022272.tif\u001b[39m\n",
            "\n",
            "File downloaded:\n",
            "\n",
            "• \u001b[36mOahu_Average_Land_Cover_Buffer_2000m_2015_to_2019-0000059392-0000074240.tif\u001b[39m\n",
            "  \u001b[90m<id: 1BCsw3MC_MCTJiShDeKPAu6fZCUoTDhAz>\u001b[39m\n",
            "\n",
            "Saved locally as:\n",
            "\n",
            "• \u001b[34m/content/predictor_variables/DynamicWorld_landcover/Oahu_Average_Land_Cover_Buffer_2000m_2015_to_2019-0000059392-0000074240.tif\u001b[39m\n",
            "\n",
            "File downloaded:\n",
            "\n",
            "• \u001b[36mOahu_Average_Land_Cover_Buffer_2000m_2015_to_2019-0000059392-0000089088.tif\u001b[39m\n",
            "  \u001b[90m<id: 1juOZRCXo-LFbNGAXOwnnVt0IBGmKzPAU>\u001b[39m\n",
            "\n",
            "Saved locally as:\n",
            "\n",
            "• \u001b[34m/content/predictor_variables/DynamicWorld_landcover/Oahu_Average_Land_Cover_Buffer_2000m_2015_to_2019-0000059392-0000089088.tif\u001b[39m\n",
            "\n",
            "File downloaded:\n",
            "\n",
            "• \u001b[36mOahu_Average_Land_Cover_Buffer_2000m_2015_to_2019-0000066816-0000022272.tif\u001b[39m\n",
            "  \u001b[90m<id: 1mLRzMbi7cxkD9PgCEBg4sQmiHCTs9kJa>\u001b[39m\n",
            "\n",
            "Saved locally as:\n",
            "\n",
            "• \u001b[34m/content/predictor_variables/DynamicWorld_landcover/Oahu_Average_Land_Cover_Buffer_2000m_2015_to_2019-0000066816-0000022272.tif\u001b[39m\n",
            "\n",
            "File downloaded:\n",
            "\n",
            "• \u001b[36mOahu_Average_Land_Cover_Buffer_2000m_2015_to_2019-0000066816-0000178176.tif\u001b[39m\n",
            "  \u001b[90m<id: 1YUDlkY0BHawZ7qsU2xD9Jz2COfbgRazJ>\u001b[39m\n",
            "\n",
            "Saved locally as:\n",
            "\n",
            "• \u001b[34m/content/predictor_variables/DynamicWorld_landcover/Oahu_Average_Land_Cover_Buffer_2000m_2015_to_2019-0000066816-0000178176.tif\u001b[39m\n",
            "\n",
            "File downloaded:\n",
            "\n",
            "• \u001b[36mOahu_Average_Land_Cover_Buffer_2000m_2015_to_2019-0000000000-0000014848.tif\u001b[39m\n",
            "  \u001b[90m<id: 1p3VfJElCJhngC4o2VCKp1FE0PhVlhxsd>\u001b[39m\n",
            "\n",
            "Saved locally as:\n",
            "\n",
            "• \u001b[34m/content/predictor_variables/DynamicWorld_landcover/Oahu_Average_Land_Cover_Buffer_2000m_2015_to_2019-0000000000-0000014848.tif\u001b[39m\n",
            "\n",
            "File downloaded:\n",
            "\n",
            "• \u001b[36mOahu_Average_Land_Cover_Buffer_2000m_2015_to_2019-0000000000-0000133632.tif\u001b[39m\n",
            "  \u001b[90m<id: 1WWIQ7mgFTapiCZhUHQd6r_V04NtRRc41>\u001b[39m\n",
            "\n",
            "Saved locally as:\n",
            "\n",
            "• \u001b[34m/content/predictor_variables/DynamicWorld_landcover/Oahu_Average_Land_Cover_Buffer_2000m_2015_to_2019-0000000000-0000133632.tif\u001b[39m\n",
            "\n",
            "File downloaded:\n",
            "\n",
            "• \u001b[36mOahu_Average_Land_Cover_Buffer_2000m_2015_to_2019-0000000000-0000170752.tif\u001b[39m\n",
            "  \u001b[90m<id: 1EGKCe8JXq8164-3r2Y0rfmYqjpeAGHMK>\u001b[39m\n",
            "\n",
            "Saved locally as:\n",
            "\n",
            "• \u001b[34m/content/predictor_variables/DynamicWorld_landcover/Oahu_Average_Land_Cover_Buffer_2000m_2015_to_2019-0000000000-0000170752.tif\u001b[39m\n",
            "\n",
            "File downloaded:\n",
            "\n",
            "• \u001b[36mOahu_Average_Land_Cover_Buffer_2000m_2015_to_2019-0000000000-0000230144.tif\u001b[39m\n",
            "  \u001b[90m<id: 1JYv9lOHuHkGLSTk-TgHC7bce9eNsTKfa>\u001b[39m\n",
            "\n",
            "Saved locally as:\n",
            "\n",
            "• \u001b[34m/content/predictor_variables/DynamicWorld_landcover/Oahu_Average_Land_Cover_Buffer_2000m_2015_to_2019-0000000000-0000230144.tif\u001b[39m\n",
            "\n",
            "File downloaded:\n",
            "\n",
            "• \u001b[36mOahu_Average_Land_Cover_Buffer_2000m_2015_to_2019-0000007424-0000007424.tif\u001b[39m\n",
            "  \u001b[90m<id: 1qRNNPPBQL5AXOS868grbkl9wOfcOPRBn>\u001b[39m\n",
            "\n",
            "Saved locally as:\n",
            "\n",
            "• \u001b[34m/content/predictor_variables/DynamicWorld_landcover/Oahu_Average_Land_Cover_Buffer_2000m_2015_to_2019-0000007424-0000007424.tif\u001b[39m\n",
            "\n",
            "File downloaded:\n",
            "\n",
            "• \u001b[36mOahu_Average_Land_Cover_Buffer_2000m_2015_to_2019-0000007424-0000037120.tif\u001b[39m\n",
            "  \u001b[90m<id: 1MR_EoByzZQaQBFXDTH3Pncf5eCN0CP6V>\u001b[39m\n",
            "\n",
            "Saved locally as:\n",
            "\n",
            "• \u001b[34m/content/predictor_variables/DynamicWorld_landcover/Oahu_Average_Land_Cover_Buffer_2000m_2015_to_2019-0000007424-0000037120.tif\u001b[39m\n",
            "\n",
            "File downloaded:\n",
            "\n",
            "• \u001b[36mOahu_Average_Land_Cover_Buffer_2000m_2015_to_2019-0000014848-0000014848.tif\u001b[39m\n",
            "  \u001b[90m<id: 1bqD825J-bUuc_X6OJULmM5JqTf5hIJXw>\u001b[39m\n",
            "\n",
            "Saved locally as:\n",
            "\n",
            "• \u001b[34m/content/predictor_variables/DynamicWorld_landcover/Oahu_Average_Land_Cover_Buffer_2000m_2015_to_2019-0000014848-0000014848.tif\u001b[39m\n",
            "\n",
            "File downloaded:\n",
            "\n",
            "• \u001b[36mOahu_Average_Land_Cover_Buffer_2000m_2015_to_2019-0000014848-0000066816.tif\u001b[39m\n",
            "  \u001b[90m<id: 143rDNc9CmcDxttX3KsGn4LgQi2X9-pbi>\u001b[39m\n",
            "\n",
            "Saved locally as:\n",
            "\n",
            "• \u001b[34m/content/predictor_variables/DynamicWorld_landcover/Oahu_Average_Land_Cover_Buffer_2000m_2015_to_2019-0000014848-0000066816.tif\u001b[39m\n",
            "\n",
            "File downloaded:\n",
            "\n",
            "• \u001b[36mOahu_Average_Land_Cover_Buffer_2000m_2015_to_2019-0000014848-0000200448.tif\u001b[39m\n",
            "  \u001b[90m<id: 1FaGqlWwDEWImhMgu8PRwC_YBoKOGkFZP>\u001b[39m\n",
            "\n",
            "Saved locally as:\n",
            "\n",
            "• \u001b[34m/content/predictor_variables/DynamicWorld_landcover/Oahu_Average_Land_Cover_Buffer_2000m_2015_to_2019-0000014848-0000200448.tif\u001b[39m\n",
            "\n",
            "File downloaded:\n",
            "\n",
            "• \u001b[36mOahu_Average_Land_Cover_Buffer_2000m_2015_to_2019-0000014848-0000222720.tif\u001b[39m\n",
            "  \u001b[90m<id: 10H81Lp_1v8eZACbcuArF4MaV_lP6vlye>\u001b[39m\n",
            "\n",
            "Saved locally as:\n",
            "\n",
            "• \u001b[34m/content/predictor_variables/DynamicWorld_landcover/Oahu_Average_Land_Cover_Buffer_2000m_2015_to_2019-0000014848-0000222720.tif\u001b[39m\n",
            "\n",
            "File downloaded:\n",
            "\n",
            "• \u001b[36mOahu_Average_Land_Cover_Buffer_2000m_2015_to_2019-0000022272-0000059392.tif\u001b[39m\n",
            "  \u001b[90m<id: 1tknubGTozofsOiF5At1b_p5B2sUVlwkV>\u001b[39m\n",
            "\n",
            "Saved locally as:\n",
            "\n",
            "• \u001b[34m/content/predictor_variables/DynamicWorld_landcover/Oahu_Average_Land_Cover_Buffer_2000m_2015_to_2019-0000022272-0000059392.tif\u001b[39m\n",
            "\n",
            "File downloaded:\n",
            "\n",
            "• \u001b[36mOahu_Average_Land_Cover_Buffer_2000m_2015_to_2019-0000022272-0000081664.tif\u001b[39m\n",
            "  \u001b[90m<id: 1UJ7_BWGJNmKeE3VTTuncLTCx_s0kQQ4b>\u001b[39m\n",
            "\n",
            "Saved locally as:\n",
            "\n",
            "• \u001b[34m/content/predictor_variables/DynamicWorld_landcover/Oahu_Average_Land_Cover_Buffer_2000m_2015_to_2019-0000022272-0000081664.tif\u001b[39m\n",
            "\n",
            "File downloaded:\n",
            "\n",
            "• \u001b[36mOahu_Average_Land_Cover_Buffer_2000m_2015_to_2019-0000022272-0000103936.tif\u001b[39m\n",
            "  \u001b[90m<id: 1I_i8nwuLPGJqs-TrqNRHNtrrnuu6oSvz>\u001b[39m\n",
            "\n",
            "Saved locally as:\n",
            "\n",
            "• \u001b[34m/content/predictor_variables/DynamicWorld_landcover/Oahu_Average_Land_Cover_Buffer_2000m_2015_to_2019-0000022272-0000103936.tif\u001b[39m\n",
            "\n",
            "File downloaded:\n",
            "\n",
            "• \u001b[36mOahu_Average_Land_Cover_Buffer_2000m_2015_to_2019-0000029696-0000014848.tif\u001b[39m\n",
            "  \u001b[90m<id: 1-HW84lQXx9vUIdqpvKoT3WmM0x1EZdFS>\u001b[39m\n",
            "\n",
            "Saved locally as:\n",
            "\n",
            "• \u001b[34m/content/predictor_variables/DynamicWorld_landcover/Oahu_Average_Land_Cover_Buffer_2000m_2015_to_2019-0000029696-0000014848.tif\u001b[39m\n",
            "\n",
            "File downloaded:\n",
            "\n",
            "• \u001b[36mOahu_Average_Land_Cover_Buffer_2000m_2015_to_2019-0000029696-0000051968.tif\u001b[39m\n",
            "  \u001b[90m<id: 1lgBLuvFn0ssk9ury3aSpeVqaOneLZmCE>\u001b[39m\n",
            "\n",
            "Saved locally as:\n",
            "\n",
            "• \u001b[34m/content/predictor_variables/DynamicWorld_landcover/Oahu_Average_Land_Cover_Buffer_2000m_2015_to_2019-0000029696-0000051968.tif\u001b[39m\n",
            "\n",
            "File downloaded:\n",
            "\n",
            "• \u001b[36mOahu_Average_Land_Cover_Buffer_2000m_2015_to_2019-0000029696-0000074240.tif\u001b[39m\n",
            "  \u001b[90m<id: 13w_rWMVmi9Awfe4kt0teVdRd72uxs6Xp>\u001b[39m\n",
            "\n",
            "Saved locally as:\n",
            "\n",
            "• \u001b[34m/content/predictor_variables/DynamicWorld_landcover/Oahu_Average_Land_Cover_Buffer_2000m_2015_to_2019-0000029696-0000074240.tif\u001b[39m\n",
            "\n",
            "File downloaded:\n",
            "\n",
            "• \u001b[36mOahu_Average_Land_Cover_Buffer_2000m_2015_to_2019-0000029696-0000215296.tif\u001b[39m\n",
            "  \u001b[90m<id: 1fJl5Uh6O4mM1k99qQs6FJyph1wzhWPD_>\u001b[39m\n",
            "\n",
            "Saved locally as:\n",
            "\n",
            "• \u001b[34m/content/predictor_variables/DynamicWorld_landcover/Oahu_Average_Land_Cover_Buffer_2000m_2015_to_2019-0000029696-0000215296.tif\u001b[39m\n",
            "\n",
            "File downloaded:\n",
            "\n",
            "• \u001b[36mOahu_Average_Land_Cover_Buffer_2000m_2015_to_2019-0000037120-0000007424.tif\u001b[39m\n",
            "  \u001b[90m<id: 1NT0m4AjaXVs6PlLnEFluvZpEmXpcp8d->\u001b[39m\n",
            "\n",
            "Saved locally as:\n",
            "\n",
            "• \u001b[34m/content/predictor_variables/DynamicWorld_landcover/Oahu_Average_Land_Cover_Buffer_2000m_2015_to_2019-0000037120-0000007424.tif\u001b[39m\n",
            "\n",
            "File downloaded:\n",
            "\n",
            "• \u001b[36mOahu_Average_Land_Cover_Buffer_2000m_2015_to_2019-0000037120-0000051968.tif\u001b[39m\n",
            "  \u001b[90m<id: 1F6LTT41FMzsKrpt-fowYhJ0kOkDc--mD>\u001b[39m\n",
            "\n",
            "Saved locally as:\n",
            "\n",
            "• \u001b[34m/content/predictor_variables/DynamicWorld_landcover/Oahu_Average_Land_Cover_Buffer_2000m_2015_to_2019-0000037120-0000051968.tif\u001b[39m\n",
            "\n",
            "File downloaded:\n",
            "\n",
            "• \u001b[36mOahu_Average_Land_Cover_Buffer_2000m_2015_to_2019-0000037120-0000059392.tif\u001b[39m\n",
            "  \u001b[90m<id: 1qjInBd-cIW4hhrnTtk4oqaUQh2-voS0D>\u001b[39m\n",
            "\n",
            "Saved locally as:\n",
            "\n",
            "• \u001b[34m/content/predictor_variables/DynamicWorld_landcover/Oahu_Average_Land_Cover_Buffer_2000m_2015_to_2019-0000037120-0000059392.tif\u001b[39m\n",
            "\n",
            "File downloaded:\n",
            "\n",
            "• \u001b[36mOahu_Average_Land_Cover_Buffer_2000m_2015_to_2019-0000037120-0000163328.tif\u001b[39m\n",
            "  \u001b[90m<id: 10BqGnyiOOeIbBaJhDH2a3QCL1aK32rVo>\u001b[39m\n",
            "\n",
            "Saved locally as:\n",
            "\n",
            "• \u001b[34m/content/predictor_variables/DynamicWorld_landcover/Oahu_Average_Land_Cover_Buffer_2000m_2015_to_2019-0000037120-0000163328.tif\u001b[39m\n",
            "\n",
            "File downloaded:\n",
            "\n",
            "• \u001b[36mOahu_Average_Land_Cover_Buffer_2000m_2015_to_2019-0000044544-0000066816.tif\u001b[39m\n",
            "  \u001b[90m<id: 1Ahtf5IK_QMrqgmqMGhVG-tjOJNOBpSp5>\u001b[39m\n",
            "\n",
            "Saved locally as:\n",
            "\n",
            "• \u001b[34m/content/predictor_variables/DynamicWorld_landcover/Oahu_Average_Land_Cover_Buffer_2000m_2015_to_2019-0000044544-0000066816.tif\u001b[39m\n",
            "\n",
            "File downloaded:\n",
            "\n",
            "• \u001b[36mOahu_Average_Land_Cover_Buffer_2000m_2015_to_2019-0000051968-0000022272.tif\u001b[39m\n",
            "  \u001b[90m<id: 1dSGwAwwx8iDvAjnnYh8aKwujaqNjjqo4>\u001b[39m\n",
            "\n",
            "Saved locally as:\n",
            "\n",
            "• \u001b[34m/content/predictor_variables/DynamicWorld_landcover/Oahu_Average_Land_Cover_Buffer_2000m_2015_to_2019-0000051968-0000022272.tif\u001b[39m\n",
            "\n",
            "File downloaded:\n",
            "\n",
            "• \u001b[36mOahu_Average_Land_Cover_Buffer_2000m_2015_to_2019-0000051968-0000141056.tif\u001b[39m\n",
            "  \u001b[90m<id: 1hAWswB1ttAUoHS3tN-6T7l3doNppUgjt>\u001b[39m\n",
            "\n",
            "Saved locally as:\n",
            "\n",
            "• \u001b[34m/content/predictor_variables/DynamicWorld_landcover/Oahu_Average_Land_Cover_Buffer_2000m_2015_to_2019-0000051968-0000141056.tif\u001b[39m\n",
            "\n",
            "File downloaded:\n",
            "\n",
            "• \u001b[36mOahu_Average_Land_Cover_Buffer_2000m_2015_to_2019-0000059392-0000000000.tif\u001b[39m\n",
            "  \u001b[90m<id: 12Oraw0v4cX7g8oNXImYtnAlL3GaYXEHf>\u001b[39m\n",
            "\n",
            "Saved locally as:\n",
            "\n",
            "• \u001b[34m/content/predictor_variables/DynamicWorld_landcover/Oahu_Average_Land_Cover_Buffer_2000m_2015_to_2019-0000059392-0000000000.tif\u001b[39m\n",
            "\n",
            "File downloaded:\n",
            "\n",
            "• \u001b[36mOahu_Average_Land_Cover_Buffer_2000m_2015_to_2019-0000059392-0000044544.tif\u001b[39m\n",
            "  \u001b[90m<id: 1Vj2Gcl0dKgHwxjDqCGJ4BTxyXx7HJa3B>\u001b[39m\n",
            "\n",
            "Saved locally as:\n",
            "\n",
            "• \u001b[34m/content/predictor_variables/DynamicWorld_landcover/Oahu_Average_Land_Cover_Buffer_2000m_2015_to_2019-0000059392-0000044544.tif\u001b[39m\n",
            "\n",
            "File downloaded:\n",
            "\n",
            "• \u001b[36mOahu_Average_Land_Cover_Buffer_2000m_2015_to_2019-0000059392-0000051968.tif\u001b[39m\n",
            "  \u001b[90m<id: 1WfGJ0r8Ec8PIew45mOjv5VspdndP1yvT>\u001b[39m\n",
            "\n",
            "Saved locally as:\n",
            "\n",
            "• \u001b[34m/content/predictor_variables/DynamicWorld_landcover/Oahu_Average_Land_Cover_Buffer_2000m_2015_to_2019-0000059392-0000051968.tif\u001b[39m\n",
            "\n",
            "File downloaded:\n",
            "\n",
            "• \u001b[36mOahu_Average_Land_Cover_Buffer_2000m_2015_to_2019-0000059392-0000103936.tif\u001b[39m\n",
            "  \u001b[90m<id: 1uk7fSJ7euOWrQUaefwCsYa7e1ZRhyDJc>\u001b[39m\n",
            "\n",
            "Saved locally as:\n",
            "\n",
            "• \u001b[34m/content/predictor_variables/DynamicWorld_landcover/Oahu_Average_Land_Cover_Buffer_2000m_2015_to_2019-0000059392-0000103936.tif\u001b[39m\n",
            "\n",
            "File downloaded:\n",
            "\n",
            "• \u001b[36mOahu_Average_Land_Cover_Buffer_2000m_2015_to_2019-0000059392-0000148480.tif\u001b[39m\n",
            "  \u001b[90m<id: 1_KRCTcSsbkduklj5qQCl0UuVzHrT0SzQ>\u001b[39m\n",
            "\n",
            "Saved locally as:\n",
            "\n",
            "• \u001b[34m/content/predictor_variables/DynamicWorld_landcover/Oahu_Average_Land_Cover_Buffer_2000m_2015_to_2019-0000059392-0000148480.tif\u001b[39m\n",
            "\n",
            "File downloaded:\n",
            "\n",
            "• \u001b[36mOahu_Average_Land_Cover_Buffer_2000m_2015_to_2019-0000066816-0000163328.tif\u001b[39m\n",
            "  \u001b[90m<id: 1gsrpa61We2sBBeAxOfzsQ8k_TFCnRcol>\u001b[39m\n",
            "\n",
            "Saved locally as:\n",
            "\n",
            "• \u001b[34m/content/predictor_variables/DynamicWorld_landcover/Oahu_Average_Land_Cover_Buffer_2000m_2015_to_2019-0000066816-0000163328.tif\u001b[39m\n",
            "\n",
            "File downloaded:\n",
            "\n",
            "• \u001b[36mOahu_Average_Land_Cover_Buffer_2000m_2015_to_2019-0000074240-0000074240.tif\u001b[39m\n",
            "  \u001b[90m<id: 14BYoMOCN-UF3GJnd-Xc5ZqObmavwf4kj>\u001b[39m\n",
            "\n",
            "Saved locally as:\n",
            "\n",
            "• \u001b[34m/content/predictor_variables/DynamicWorld_landcover/Oahu_Average_Land_Cover_Buffer_2000m_2015_to_2019-0000074240-0000074240.tif\u001b[39m\n",
            "\n",
            "File downloaded:\n",
            "\n",
            "• \u001b[36mOahu_Average_Land_Cover_Buffer_2000m_2015_to_2019-0000074240-0000155904.tif\u001b[39m\n",
            "  \u001b[90m<id: 1OIx14gPjGWQLNPjOnH0O3pBhFk06Lx11>\u001b[39m\n",
            "\n",
            "Saved locally as:\n",
            "\n",
            "• \u001b[34m/content/predictor_variables/DynamicWorld_landcover/Oahu_Average_Land_Cover_Buffer_2000m_2015_to_2019-0000074240-0000155904.tif\u001b[39m\n",
            "\n",
            "File downloaded:\n",
            "\n",
            "• \u001b[36mOahu_Average_Land_Cover_Buffer_2000m_2015_to_2019-0000074240-0000193024.tif\u001b[39m\n",
            "  \u001b[90m<id: 1FfT7s1t0CQ4iBcu8fF0RJYXe9RKxtfij>\u001b[39m\n",
            "\n",
            "Saved locally as:\n",
            "\n",
            "• \u001b[34m/content/predictor_variables/DynamicWorld_landcover/Oahu_Average_Land_Cover_Buffer_2000m_2015_to_2019-0000074240-0000193024.tif\u001b[39m\n",
            "\n",
            "File downloaded:\n",
            "\n",
            "• \u001b[36mOahu_Average_Land_Cover_Buffer_2000m_2015_to_2019-0000000000-0000000000.tif\u001b[39m\n",
            "  \u001b[90m<id: 1v3yZEeIeXIktGhfjcvcwBoujcMvtf4Qk>\u001b[39m\n",
            "\n",
            "Saved locally as:\n",
            "\n",
            "• \u001b[34m/content/predictor_variables/DynamicWorld_landcover/Oahu_Average_Land_Cover_Buffer_2000m_2015_to_2019-0000000000-0000000000.tif\u001b[39m\n",
            "\n",
            "File downloaded:\n",
            "\n",
            "• \u001b[36mOahu_Average_Land_Cover_Buffer_2000m_2015_to_2019-0000000000-0000037120.tif\u001b[39m\n",
            "  \u001b[90m<id: 1xtCa46FuEHYbdrytmSHIgF8U-kXujaPq>\u001b[39m\n",
            "\n",
            "Saved locally as:\n",
            "\n",
            "• \u001b[34m/content/predictor_variables/DynamicWorld_landcover/Oahu_Average_Land_Cover_Buffer_2000m_2015_to_2019-0000000000-0000037120.tif\u001b[39m\n",
            "\n",
            "File downloaded:\n",
            "\n",
            "• \u001b[36mOahu_Average_Land_Cover_Buffer_2000m_2015_to_2019-0000000000-0000111360.tif\u001b[39m\n",
            "  \u001b[90m<id: 1VDwtJGhUTRXAhzI53-5VL5N9KSZkvd-Q>\u001b[39m\n",
            "\n",
            "Saved locally as:\n",
            "\n",
            "• \u001b[34m/content/predictor_variables/DynamicWorld_landcover/Oahu_Average_Land_Cover_Buffer_2000m_2015_to_2019-0000000000-0000111360.tif\u001b[39m\n",
            "\n",
            "File downloaded:\n",
            "\n",
            "• \u001b[36mOahu_Average_Land_Cover_Buffer_2000m_2015_to_2019-0000000000-0000141056.tif\u001b[39m\n",
            "  \u001b[90m<id: 1ZTjo_EXRrqIHkAsAzBhoXxItItgj9Ep7>\u001b[39m\n",
            "\n",
            "Saved locally as:\n",
            "\n",
            "• \u001b[34m/content/predictor_variables/DynamicWorld_landcover/Oahu_Average_Land_Cover_Buffer_2000m_2015_to_2019-0000000000-0000141056.tif\u001b[39m\n",
            "\n",
            "File downloaded:\n",
            "\n",
            "• \u001b[36mOahu_Average_Land_Cover_Buffer_2000m_2015_to_2019-0000000000-0000215296.tif\u001b[39m\n",
            "  \u001b[90m<id: 1t8pJRPuGfitPIbNeFVXMlWbAnAulfstt>\u001b[39m\n",
            "\n",
            "Saved locally as:\n",
            "\n",
            "• \u001b[34m/content/predictor_variables/DynamicWorld_landcover/Oahu_Average_Land_Cover_Buffer_2000m_2015_to_2019-0000000000-0000215296.tif\u001b[39m\n",
            "\n",
            "File downloaded:\n",
            "\n",
            "• \u001b[36mOahu_Average_Land_Cover_Buffer_2000m_2015_to_2019-0000007424-0000022272.tif\u001b[39m\n",
            "  \u001b[90m<id: 1gM23uDc8p3nNc2BxVgvN2bh2m4w38kV4>\u001b[39m\n",
            "\n",
            "Saved locally as:\n",
            "\n",
            "• \u001b[34m/content/predictor_variables/DynamicWorld_landcover/Oahu_Average_Land_Cover_Buffer_2000m_2015_to_2019-0000007424-0000022272.tif\u001b[39m\n",
            "\n",
            "File downloaded:\n",
            "\n",
            "• \u001b[36mOahu_Average_Land_Cover_Buffer_2000m_2015_to_2019-0000007424-0000111360.tif\u001b[39m\n",
            "  \u001b[90m<id: 1hHf0cKXU8npXrDlQCOF-i9_xMAvu8qKe>\u001b[39m\n",
            "\n",
            "Saved locally as:\n",
            "\n",
            "• \u001b[34m/content/predictor_variables/DynamicWorld_landcover/Oahu_Average_Land_Cover_Buffer_2000m_2015_to_2019-0000007424-0000111360.tif\u001b[39m\n",
            "\n",
            "File downloaded:\n",
            "\n",
            "• \u001b[36mOahu_Average_Land_Cover_Buffer_2000m_2015_to_2019-0000007424-0000133632.tif\u001b[39m\n",
            "  \u001b[90m<id: 1W0YdlWg7eATh8s8W5qjhyj7w4B3W2gw3>\u001b[39m\n",
            "\n",
            "Saved locally as:\n",
            "\n",
            "• \u001b[34m/content/predictor_variables/DynamicWorld_landcover/Oahu_Average_Land_Cover_Buffer_2000m_2015_to_2019-0000007424-0000133632.tif\u001b[39m\n",
            "\n",
            "File downloaded:\n",
            "\n",
            "• \u001b[36mOahu_Average_Land_Cover_Buffer_2000m_2015_to_2019-0000007424-0000141056.tif\u001b[39m\n",
            "  \u001b[90m<id: 1o4RVG-GFuRY2O7kltAid5HYvI5RZHk3f>\u001b[39m\n",
            "\n",
            "Saved locally as:\n",
            "\n",
            "• \u001b[34m/content/predictor_variables/DynamicWorld_landcover/Oahu_Average_Land_Cover_Buffer_2000m_2015_to_2019-0000007424-0000141056.tif\u001b[39m\n",
            "\n",
            "File downloaded:\n",
            "\n",
            "• \u001b[36mOahu_Average_Land_Cover_Buffer_2000m_2015_to_2019-0000014848-0000007424.tif\u001b[39m\n",
            "  \u001b[90m<id: 1Y1QzWL1sUZMddpTW4q0G_vghPv9HRO7D>\u001b[39m\n",
            "\n",
            "Saved locally as:\n",
            "\n",
            "• \u001b[34m/content/predictor_variables/DynamicWorld_landcover/Oahu_Average_Land_Cover_Buffer_2000m_2015_to_2019-0000014848-0000007424.tif\u001b[39m\n",
            "\n",
            "File downloaded:\n",
            "\n",
            "• \u001b[36mOahu_Average_Land_Cover_Buffer_2000m_2015_to_2019-0000014848-0000155904.tif\u001b[39m\n",
            "  \u001b[90m<id: 1oqnBTMSjEcbBxVwQnIBcYzCZWlWM69Rc>\u001b[39m\n",
            "\n",
            "Saved locally as:\n",
            "\n",
            "• \u001b[34m/content/predictor_variables/DynamicWorld_landcover/Oahu_Average_Land_Cover_Buffer_2000m_2015_to_2019-0000014848-0000155904.tif\u001b[39m\n",
            "\n",
            "File downloaded:\n",
            "\n",
            "• \u001b[36mOahu_Average_Land_Cover_Buffer_2000m_2015_to_2019-0000014848-0000163328.tif\u001b[39m\n",
            "  \u001b[90m<id: 1Lm5Pio1cezo-zOqvlQXSWID3UJeOHwi9>\u001b[39m\n",
            "\n",
            "Saved locally as:\n",
            "\n",
            "• \u001b[34m/content/predictor_variables/DynamicWorld_landcover/Oahu_Average_Land_Cover_Buffer_2000m_2015_to_2019-0000014848-0000163328.tif\u001b[39m\n",
            "\n",
            "File downloaded:\n",
            "\n",
            "• \u001b[36mOahu_Average_Land_Cover_Buffer_2000m_2015_to_2019-0000022272-0000074240.tif\u001b[39m\n",
            "  \u001b[90m<id: 1sX7308R6sX3l8wN5alI5jXfU_0HY4V2a>\u001b[39m\n",
            "\n",
            "Saved locally as:\n",
            "\n",
            "• \u001b[34m/content/predictor_variables/DynamicWorld_landcover/Oahu_Average_Land_Cover_Buffer_2000m_2015_to_2019-0000022272-0000074240.tif\u001b[39m\n",
            "\n",
            "File downloaded:\n",
            "\n",
            "• \u001b[36mOahu_Average_Land_Cover_Buffer_2000m_2015_to_2019-0000022272-0000118784.tif\u001b[39m\n",
            "  \u001b[90m<id: 1RmsY42D1uK2WFLqKCmMS-odRjogkgcW9>\u001b[39m\n",
            "\n",
            "Saved locally as:\n",
            "\n",
            "• \u001b[34m/content/predictor_variables/DynamicWorld_landcover/Oahu_Average_Land_Cover_Buffer_2000m_2015_to_2019-0000022272-0000118784.tif\u001b[39m\n",
            "\n",
            "File downloaded:\n",
            "\n",
            "• \u001b[36mOahu_Average_Land_Cover_Buffer_2000m_2015_to_2019-0000022272-0000163328.tif\u001b[39m\n",
            "  \u001b[90m<id: 18n_NynkIV-x_Mfa6EHkqZYcrbuYzKCsi>\u001b[39m\n",
            "\n",
            "Saved locally as:\n",
            "\n",
            "• \u001b[34m/content/predictor_variables/DynamicWorld_landcover/Oahu_Average_Land_Cover_Buffer_2000m_2015_to_2019-0000022272-0000163328.tif\u001b[39m\n",
            "\n",
            "File downloaded:\n",
            "\n",
            "• \u001b[36mOahu_Average_Land_Cover_Buffer_2000m_2015_to_2019-0000022272-0000170752.tif\u001b[39m\n",
            "  \u001b[90m<id: 1uO7MDVtVcjhI4aLWNjoYDLba93tdIS6G>\u001b[39m\n",
            "\n",
            "Saved locally as:\n",
            "\n",
            "• \u001b[34m/content/predictor_variables/DynamicWorld_landcover/Oahu_Average_Land_Cover_Buffer_2000m_2015_to_2019-0000022272-0000170752.tif\u001b[39m\n",
            "\n",
            "File downloaded:\n",
            "\n",
            "• \u001b[36mOahu_Average_Land_Cover_Buffer_2000m_2015_to_2019-0000022272-0000185600.tif\u001b[39m\n",
            "  \u001b[90m<id: 1zIzum_1PKhdWCdmvQNj3DVmpoR-sgjQM>\u001b[39m\n",
            "\n",
            "Saved locally as:\n",
            "\n",
            "• \u001b[34m/content/predictor_variables/DynamicWorld_landcover/Oahu_Average_Land_Cover_Buffer_2000m_2015_to_2019-0000022272-0000185600.tif\u001b[39m\n",
            "\n",
            "File downloaded:\n",
            "\n",
            "• \u001b[36mOahu_Average_Land_Cover_Buffer_2000m_2015_to_2019-0000029696-0000007424.tif\u001b[39m\n",
            "  \u001b[90m<id: 1db0V0z7EyVr4eQQnIkAGosdH3a3DyJqj>\u001b[39m\n",
            "\n",
            "Saved locally as:\n",
            "\n",
            "• \u001b[34m/content/predictor_variables/DynamicWorld_landcover/Oahu_Average_Land_Cover_Buffer_2000m_2015_to_2019-0000029696-0000007424.tif\u001b[39m\n",
            "\n",
            "File downloaded:\n",
            "\n",
            "• \u001b[36mOahu_Average_Land_Cover_Buffer_2000m_2015_to_2019-0000029696-0000066816.tif\u001b[39m\n",
            "  \u001b[90m<id: 1PY6PReuPFGZhxffX1lA40w4vuW_oqY5K>\u001b[39m\n",
            "\n",
            "Saved locally as:\n",
            "\n",
            "• \u001b[34m/content/predictor_variables/DynamicWorld_landcover/Oahu_Average_Land_Cover_Buffer_2000m_2015_to_2019-0000029696-0000066816.tif\u001b[39m\n",
            "\n",
            "File downloaded:\n",
            "\n",
            "• \u001b[36mOahu_Average_Land_Cover_Buffer_2000m_2015_to_2019-0000029696-0000193024.tif\u001b[39m\n",
            "  \u001b[90m<id: 1Jt2pv754nBHcxVL457pXj4qtkbZIbTP6>\u001b[39m\n",
            "\n",
            "Saved locally as:\n",
            "\n",
            "• \u001b[34m/content/predictor_variables/DynamicWorld_landcover/Oahu_Average_Land_Cover_Buffer_2000m_2015_to_2019-0000029696-0000193024.tif\u001b[39m\n",
            "\n",
            "File downloaded:\n",
            "\n",
            "• \u001b[36mOahu_Average_Land_Cover_Buffer_2000m_2015_to_2019-0000029696-0000222720.tif\u001b[39m\n",
            "  \u001b[90m<id: 1Uw_UkHwAbaCrGKsWN8xFJDknQN87QoWg>\u001b[39m\n",
            "\n",
            "Saved locally as:\n",
            "\n",
            "• \u001b[34m/content/predictor_variables/DynamicWorld_landcover/Oahu_Average_Land_Cover_Buffer_2000m_2015_to_2019-0000029696-0000222720.tif\u001b[39m\n",
            "\n",
            "File downloaded:\n",
            "\n",
            "• \u001b[36mOahu_Average_Land_Cover_Buffer_2000m_2015_to_2019-0000037120-0000074240.tif\u001b[39m\n",
            "  \u001b[90m<id: 1iRSfAjT21UZTjJWPTnondaeZRXI1vT7N>\u001b[39m\n",
            "\n",
            "Saved locally as:\n",
            "\n",
            "• \u001b[34m/content/predictor_variables/DynamicWorld_landcover/Oahu_Average_Land_Cover_Buffer_2000m_2015_to_2019-0000037120-0000074240.tif\u001b[39m\n",
            "\n",
            "File downloaded:\n",
            "\n",
            "• \u001b[36mOahu_Average_Land_Cover_Buffer_2000m_2015_to_2019-0000037120-0000148480.tif\u001b[39m\n",
            "  \u001b[90m<id: 13NwlOLJ7XSJYc1gAx4TKoVtZZr3LEzaf>\u001b[39m\n",
            "\n",
            "Saved locally as:\n",
            "\n",
            "• \u001b[34m/content/predictor_variables/DynamicWorld_landcover/Oahu_Average_Land_Cover_Buffer_2000m_2015_to_2019-0000037120-0000148480.tif\u001b[39m\n",
            "\n",
            "File downloaded:\n",
            "\n",
            "• \u001b[36mOahu_Average_Land_Cover_Buffer_2000m_2015_to_2019-0000037120-0000155904.tif\u001b[39m\n",
            "  \u001b[90m<id: 1zy-Qb_efVsxH79t9PWVyk2_Qb0pqMD5u>\u001b[39m\n",
            "\n",
            "Saved locally as:\n",
            "\n",
            "• \u001b[34m/content/predictor_variables/DynamicWorld_landcover/Oahu_Average_Land_Cover_Buffer_2000m_2015_to_2019-0000037120-0000155904.tif\u001b[39m\n",
            "\n",
            "File downloaded:\n",
            "\n",
            "• \u001b[36mOahu_Average_Land_Cover_Buffer_2000m_2015_to_2019-0000044544-0000059392.tif\u001b[39m\n",
            "  \u001b[90m<id: 1Bg5UgfsbTrU49eYDmEJ1RZs0raga4jCq>\u001b[39m\n",
            "\n",
            "Saved locally as:\n",
            "\n",
            "• \u001b[34m/content/predictor_variables/DynamicWorld_landcover/Oahu_Average_Land_Cover_Buffer_2000m_2015_to_2019-0000044544-0000059392.tif\u001b[39m\n",
            "\n",
            "File downloaded:\n",
            "\n",
            "• \u001b[36mOahu_Average_Land_Cover_Buffer_2000m_2015_to_2019-0000044544-0000074240.tif\u001b[39m\n",
            "  \u001b[90m<id: 1JQ3_sO10mKaQu7tSIOgHjxuvwioY2WlI>\u001b[39m\n",
            "\n",
            "Saved locally as:\n",
            "\n",
            "• \u001b[34m/content/predictor_variables/DynamicWorld_landcover/Oahu_Average_Land_Cover_Buffer_2000m_2015_to_2019-0000044544-0000074240.tif\u001b[39m\n",
            "\n",
            "File downloaded:\n",
            "\n",
            "• \u001b[36mOahu_Average_Land_Cover_Buffer_2000m_2015_to_2019-0000044544-0000155904.tif\u001b[39m\n",
            "  \u001b[90m<id: 10dxD7OedAzRozHcdRvm9IoRFMV72NOJR>\u001b[39m\n",
            "\n",
            "Saved locally as:\n",
            "\n",
            "• \u001b[34m/content/predictor_variables/DynamicWorld_landcover/Oahu_Average_Land_Cover_Buffer_2000m_2015_to_2019-0000044544-0000155904.tif\u001b[39m\n",
            "\n",
            "File downloaded:\n",
            "\n",
            "• \u001b[36mOahu_Average_Land_Cover_Buffer_2000m_2015_to_2019-0000044544-0000178176.tif\u001b[39m\n",
            "  \u001b[90m<id: 1uLSnFvBE4sSrZ4Fh9MO3vXP6Q5IG6NIX>\u001b[39m\n",
            "\n",
            "Saved locally as:\n",
            "\n",
            "• \u001b[34m/content/predictor_variables/DynamicWorld_landcover/Oahu_Average_Land_Cover_Buffer_2000m_2015_to_2019-0000044544-0000178176.tif\u001b[39m\n",
            "\n",
            "File downloaded:\n",
            "\n",
            "• \u001b[36mOahu_Average_Land_Cover_Buffer_2000m_2015_to_2019-0000044544-0000207872.tif\u001b[39m\n",
            "  \u001b[90m<id: 1OWlXMkqXwPZoBD4pCOd509G58nievFOs>\u001b[39m\n",
            "\n",
            "Saved locally as:\n",
            "\n",
            "• \u001b[34m/content/predictor_variables/DynamicWorld_landcover/Oahu_Average_Land_Cover_Buffer_2000m_2015_to_2019-0000044544-0000207872.tif\u001b[39m\n",
            "\n",
            "File downloaded:\n",
            "\n",
            "• \u001b[36mOahu_Average_Land_Cover_Buffer_2000m_2015_to_2019-0000059392-0000081664.tif\u001b[39m\n",
            "  \u001b[90m<id: 1akhJoY4vVxgiC_0YQK0-FiJ7mow4ms6R>\u001b[39m\n",
            "\n",
            "Saved locally as:\n",
            "\n",
            "• \u001b[34m/content/predictor_variables/DynamicWorld_landcover/Oahu_Average_Land_Cover_Buffer_2000m_2015_to_2019-0000059392-0000081664.tif\u001b[39m\n",
            "\n",
            "File downloaded:\n",
            "\n",
            "• \u001b[36mOahu_Average_Land_Cover_Buffer_2000m_2015_to_2019-0000059392-0000141056.tif\u001b[39m\n",
            "  \u001b[90m<id: 1QIrU45O4gVQacET1DYW6emOmm9pPQEDO>\u001b[39m\n",
            "\n",
            "Saved locally as:\n",
            "\n",
            "• \u001b[34m/content/predictor_variables/DynamicWorld_landcover/Oahu_Average_Land_Cover_Buffer_2000m_2015_to_2019-0000059392-0000141056.tif\u001b[39m\n",
            "\n",
            "File downloaded:\n",
            "\n",
            "• \u001b[36mOahu_Average_Land_Cover_Buffer_2000m_2015_to_2019-0000059392-0000163328.tif\u001b[39m\n",
            "  \u001b[90m<id: 1HhjuH3p94Sr5gc85i3Mcan1piDKeFrlT>\u001b[39m\n",
            "\n",
            "Saved locally as:\n",
            "\n",
            "• \u001b[34m/content/predictor_variables/DynamicWorld_landcover/Oahu_Average_Land_Cover_Buffer_2000m_2015_to_2019-0000059392-0000163328.tif\u001b[39m\n",
            "\n",
            "File downloaded:\n",
            "\n",
            "• \u001b[36mOahu_Average_Land_Cover_Buffer_2000m_2015_to_2019-0000059392-0000215296.tif\u001b[39m\n",
            "  \u001b[90m<id: 1j8zqzu66aCxuunlZpyRC56JnPok1Aogq>\u001b[39m\n",
            "\n",
            "Saved locally as:\n",
            "\n",
            "• \u001b[34m/content/predictor_variables/DynamicWorld_landcover/Oahu_Average_Land_Cover_Buffer_2000m_2015_to_2019-0000059392-0000215296.tif\u001b[39m\n",
            "\n",
            "File downloaded:\n",
            "\n",
            "• \u001b[36mOahu_Average_Land_Cover_Buffer_2000m_2015_to_2019-0000059392-0000222720.tif\u001b[39m\n",
            "  \u001b[90m<id: 1XUYqWlin60Hxsjq8tM6J7i9o89kIsIoN>\u001b[39m\n",
            "\n",
            "Saved locally as:\n",
            "\n",
            "• \u001b[34m/content/predictor_variables/DynamicWorld_landcover/Oahu_Average_Land_Cover_Buffer_2000m_2015_to_2019-0000059392-0000222720.tif\u001b[39m\n",
            "\n",
            "File downloaded:\n",
            "\n",
            "• \u001b[36mOahu_Average_Land_Cover_Buffer_2000m_2015_to_2019-0000066816-0000000000.tif\u001b[39m\n",
            "  \u001b[90m<id: 1bKMUVJTUJ0hGuxQUOV2rGlpr7CsY1l4e>\u001b[39m\n",
            "\n",
            "Saved locally as:\n",
            "\n",
            "• \u001b[34m/content/predictor_variables/DynamicWorld_landcover/Oahu_Average_Land_Cover_Buffer_2000m_2015_to_2019-0000066816-0000000000.tif\u001b[39m\n",
            "\n",
            "File downloaded:\n",
            "\n",
            "• \u001b[36mOahu_Average_Land_Cover_Buffer_2000m_2015_to_2019-0000066816-0000170752.tif\u001b[39m\n",
            "  \u001b[90m<id: 1eAHczhmmkdV7D5p_nNCn6FRxt-46YiaR>\u001b[39m\n",
            "\n",
            "Saved locally as:\n",
            "\n",
            "• \u001b[34m/content/predictor_variables/DynamicWorld_landcover/Oahu_Average_Land_Cover_Buffer_2000m_2015_to_2019-0000066816-0000170752.tif\u001b[39m\n",
            "\n",
            "File downloaded:\n",
            "\n",
            "• \u001b[36mOahu_Average_Land_Cover_Buffer_2000m_2015_to_2019-0000074240-0000096512.tif\u001b[39m\n",
            "  \u001b[90m<id: 1YleDpF7ldTHZpR5DTkOjpqtbPTHAfWGZ>\u001b[39m\n",
            "\n",
            "Saved locally as:\n",
            "\n",
            "• \u001b[34m/content/predictor_variables/DynamicWorld_landcover/Oahu_Average_Land_Cover_Buffer_2000m_2015_to_2019-0000074240-0000096512.tif\u001b[39m\n",
            "\n",
            "File downloaded:\n",
            "\n",
            "• \u001b[36mOahu_Average_Land_Cover_Buffer_2000m_2015_to_2019-0000074240-0000103936.tif\u001b[39m\n",
            "  \u001b[90m<id: 1LGf6EkEpIOpQCp3CZ_yPb9q48liEZzCU>\u001b[39m\n",
            "\n",
            "Saved locally as:\n",
            "\n",
            "• \u001b[34m/content/predictor_variables/DynamicWorld_landcover/Oahu_Average_Land_Cover_Buffer_2000m_2015_to_2019-0000074240-0000103936.tif\u001b[39m\n",
            "\n",
            "File downloaded:\n",
            "\n",
            "• \u001b[36mOahu_Average_Land_Cover_Buffer_2000m_2015_to_2019-0000074240-0000163328.tif\u001b[39m\n",
            "  \u001b[90m<id: 1txYoh-v9KNuto_HH_aczfPq-MCRJT5uR>\u001b[39m\n",
            "\n",
            "Saved locally as:\n",
            "\n",
            "• \u001b[34m/content/predictor_variables/DynamicWorld_landcover/Oahu_Average_Land_Cover_Buffer_2000m_2015_to_2019-0000074240-0000163328.tif\u001b[39m\n",
            "\n",
            "File downloaded:\n",
            "\n",
            "• \u001b[36mOahu_Average_Land_Cover_Buffer_2000m_2015_to_2019-0000074240-0000185600.tif\u001b[39m\n",
            "  \u001b[90m<id: 1-tNFQTUsrOvszAhVy-yhCHpKA68uDUGx>\u001b[39m\n",
            "\n",
            "Saved locally as:\n",
            "\n",
            "• \u001b[34m/content/predictor_variables/DynamicWorld_landcover/Oahu_Average_Land_Cover_Buffer_2000m_2015_to_2019-0000074240-0000185600.tif\u001b[39m\n",
            "\n",
            "File downloaded:\n",
            "\n",
            "• \u001b[36mOahu_Average_Land_Cover_Buffer_2000m_2015_to_2019-0000074240-0000230144.tif\u001b[39m\n",
            "  \u001b[90m<id: 19FuR7du29_3ardEMZpUvOAr0ogyeUdo->\u001b[39m\n",
            "\n",
            "Saved locally as:\n",
            "\n",
            "• \u001b[34m/content/predictor_variables/DynamicWorld_landcover/Oahu_Average_Land_Cover_Buffer_2000m_2015_to_2019-0000074240-0000230144.tif\u001b[39m\n",
            "\n",
            "File downloaded:\n",
            "\n",
            "• \u001b[36mMolokai_Average_Land_Cover_Buffer_2000m_2015_to_2019-0000000000-0000000000.tif\u001b[39m\n",
            "  \u001b[90m<id: 1P97rpxttyA_GgS8_PvTEe7VfjgkFazZA>\u001b[39m\n",
            "\n",
            "Saved locally as:\n",
            "\n",
            "• \u001b[34m/content/predictor_variables/DynamicWorld_landcover/Molokai_Average_Land_Cover_Buffer_2000m_2015_to_2019-0000000000-0000000000.tif\u001b[39m\n",
            "\n",
            "File downloaded:\n",
            "\n",
            "• \u001b[36mNiihau_Average_Land_Cover_Buffer_2000m_2015_to_2019.tif\u001b[39m\n",
            "  \u001b[90m<id: 1ZYHaUPRb63bqQlozlGROcE2i-X6azXKO>\u001b[39m\n",
            "\n",
            "Saved locally as:\n",
            "\n",
            "• \u001b[34m/content/predictor_variables/DynamicWorld_landcover/Niihau_Average_Land_Cover_Buffer_2000m_2015_to_2019.tif\u001b[39m\n",
            "\n",
            "File downloaded:\n",
            "\n",
            "• \u001b[36mHawaii_Average_Land_Cover_Buffer_2000m_2015_to_2019-0000000000-0000007424.tif\u001b[39m\n",
            "  \u001b[90m<id: 1aXB_8jWb6Dy7OtNEF-CnW09sW-ujQK1O>\u001b[39m\n",
            "\n",
            "Saved locally as:\n",
            "\n",
            "• \u001b[34m/content/predictor_variables/DynamicWorld_landcover/Hawaii_Average_Land_Cover_Buffer_2000m_2015_to_2019-0000000000-0000007424.tif\u001b[39m\n",
            "\n",
            "File downloaded:\n",
            "\n",
            "• \u001b[36mHawaii_Average_Land_Cover_Buffer_2000m_2015_to_2019-0000007424-0000014848.tif\u001b[39m\n",
            "  \u001b[90m<id: 1Dk225p4Kiwhrq3no6JqtOCYtaaUZ6oFj>\u001b[39m\n",
            "\n",
            "Saved locally as:\n",
            "\n",
            "• \u001b[34m/content/predictor_variables/DynamicWorld_landcover/Hawaii_Average_Land_Cover_Buffer_2000m_2015_to_2019-0000007424-0000014848.tif\u001b[39m\n",
            "\n",
            "File downloaded:\n",
            "\n",
            "• \u001b[36mHawaii_Average_Land_Cover_Buffer_2000m_2015_to_2019-0000014848-0000007424.tif\u001b[39m\n",
            "  \u001b[90m<id: 1uhKYUQRbWdiPnWb6Amlh-LH4HokS4pN3>\u001b[39m\n",
            "\n",
            "Saved locally as:\n",
            "\n",
            "• \u001b[34m/content/predictor_variables/DynamicWorld_landcover/Hawaii_Average_Land_Cover_Buffer_2000m_2015_to_2019-0000014848-0000007424.tif\u001b[39m\n",
            "\n",
            "File downloaded:\n",
            "\n",
            "• \u001b[36mMaui_Average_Land_Cover_Buffer_2000m_2015_to_2019-0000000000-0000000000.tif\u001b[39m\n",
            "  \u001b[90m<id: 1X60vLPNagmvG2E7UNg-XRqjEGyRsKE4T>\u001b[39m\n",
            "\n",
            "Saved locally as:\n",
            "\n",
            "• \u001b[34m/content/predictor_variables/DynamicWorld_landcover/Maui_Average_Land_Cover_Buffer_2000m_2015_to_2019-0000000000-0000000000.tif\u001b[39m\n",
            "\n",
            "File downloaded:\n",
            "\n",
            "• \u001b[36mHawaii_Average_Land_Cover_Buffer_2000m_2015_to_2019-0000000000-0000000000.tif\u001b[39m\n",
            "  \u001b[90m<id: 1T2OCYy-gLKekhDB4cp8Z1F1uNjt1ISBH>\u001b[39m\n",
            "\n",
            "Saved locally as:\n",
            "\n",
            "• \u001b[34m/content/predictor_variables/DynamicWorld_landcover/Hawaii_Average_Land_Cover_Buffer_2000m_2015_to_2019-0000000000-0000000000.tif\u001b[39m\n",
            "\n",
            "File downloaded:\n",
            "\n",
            "• \u001b[36mHawaii_Average_Land_Cover_Buffer_2000m_2015_to_2019-0000007424-0000000000.tif\u001b[39m\n",
            "  \u001b[90m<id: 1RLE1r-wNlieyIOOGHZMRzIYTL8Y9yMxZ>\u001b[39m\n",
            "\n",
            "Saved locally as:\n",
            "\n",
            "• \u001b[34m/content/predictor_variables/DynamicWorld_landcover/Hawaii_Average_Land_Cover_Buffer_2000m_2015_to_2019-0000007424-0000000000.tif\u001b[39m\n",
            "\n",
            "File downloaded:\n",
            "\n",
            "• \u001b[36mHawaii_Average_Land_Cover_Buffer_2000m_2015_to_2019-0000014848-0000014848.tif\u001b[39m\n",
            "  \u001b[90m<id: 1mR7KkZEXAgPkqYN9i4ZiFqcY4VnZsPvt>\u001b[39m\n",
            "\n",
            "Saved locally as:\n",
            "\n",
            "• \u001b[34m/content/predictor_variables/DynamicWorld_landcover/Hawaii_Average_Land_Cover_Buffer_2000m_2015_to_2019-0000014848-0000014848.tif\u001b[39m\n",
            "\n",
            "File downloaded:\n",
            "\n",
            "• \u001b[36mMaui_Average_Land_Cover_Buffer_2000m_2015_to_2019-0000000000-0000007424.tif\u001b[39m\n",
            "  \u001b[90m<id: 1WFNl6QYTWSeR_I717A_59YO3yAuG16H2>\u001b[39m\n",
            "\n",
            "Saved locally as:\n",
            "\n",
            "• \u001b[34m/content/predictor_variables/DynamicWorld_landcover/Maui_Average_Land_Cover_Buffer_2000m_2015_to_2019-0000000000-0000007424.tif\u001b[39m\n",
            "\n",
            "File downloaded:\n",
            "\n",
            "• \u001b[36mHawaii_Average_Land_Cover_Buffer_2000m_2015_to_2019-0000007424-0000007424.tif\u001b[39m\n",
            "  \u001b[90m<id: 1yEaRIVt-32CL40ae0NgW5C_zyRns5l_U>\u001b[39m\n",
            "\n",
            "Saved locally as:\n",
            "\n",
            "• \u001b[34m/content/predictor_variables/DynamicWorld_landcover/Hawaii_Average_Land_Cover_Buffer_2000m_2015_to_2019-0000007424-0000007424.tif\u001b[39m\n",
            "\n",
            "File downloaded:\n",
            "\n",
            "• \u001b[36mHawaii_Average_Land_Cover_Buffer_2000m_2015_to_2019-0000014848-0000000000.tif\u001b[39m\n",
            "  \u001b[90m<id: 1iXInTW5TsEEjyWVg1IO_7fMQDM1KTDLY>\u001b[39m\n",
            "\n",
            "Saved locally as:\n",
            "\n",
            "• \u001b[34m/content/predictor_variables/DynamicWorld_landcover/Hawaii_Average_Land_Cover_Buffer_2000m_2015_to_2019-0000014848-0000000000.tif\u001b[39m\n",
            "\n",
            "File downloaded:\n",
            "\n",
            "• \u001b[36mLanai_Average_Land_Cover_Buffer_2000m_2015_to_2019.tif\u001b[39m\n",
            "  \u001b[90m<id: 1_MaoBtMpvX0sjHsZCCjzMEMZphpmx8Pp>\u001b[39m\n",
            "\n",
            "Saved locally as:\n",
            "\n",
            "• \u001b[34m/content/predictor_variables/DynamicWorld_landcover/Lanai_Average_Land_Cover_Buffer_2000m_2015_to_2019.tif\u001b[39m\n",
            "\n",
            "File downloaded:\n",
            "\n",
            "• \u001b[36mKauai_Average_Land_Cover_Buffer_2000m_2015_to_2019.tif\u001b[39m\n",
            "  \u001b[90m<id: 1CNgJHaJ94chWp0KbW76sksEY7XNsjXc_>\u001b[39m\n",
            "\n",
            "Saved locally as:\n",
            "\n",
            "• \u001b[34m/content/predictor_variables/DynamicWorld_landcover/Kauai_Average_Land_Cover_Buffer_2000m_2015_to_2019.tif\u001b[39m\n",
            "\n",
            "File downloaded:\n",
            "\n",
            "• \u001b[36mHawaii_Average_Land_Cover_Buffer_2000m_2015_to_2019-0000000000-0000014848.tif\u001b[39m\n",
            "  \u001b[90m<id: 1YUi_QqYNKZlRenhertBHdt7DWKBOn8Vp>\u001b[39m\n",
            "\n",
            "Saved locally as:\n",
            "\n",
            "• \u001b[34m/content/predictor_variables/DynamicWorld_landcover/Hawaii_Average_Land_Cover_Buffer_2000m_2015_to_2019-0000000000-0000014848.tif\u001b[39m\n",
            "\n",
            "File downloaded:\n",
            "\n",
            "• \u001b[36mMolokai_Average_Land_Cover_Buffer_2000m_2015_to_2019-0000000000-0000007424.tif\u001b[39m\n",
            "  \u001b[90m<id: 1y77cobitNWpDzrRxJtcsCQPRUeEycvUV>\u001b[39m\n",
            "\n",
            "Saved locally as:\n",
            "\n",
            "• \u001b[34m/content/predictor_variables/DynamicWorld_landcover/Molokai_Average_Land_Cover_Buffer_2000m_2015_to_2019-0000000000-0000007424.tif\u001b[39m\n",
            "\n",
            "File downloaded:\n",
            "\n",
            "• \u001b[36mAverage_Land_Cover_Buffer_2000m_2021_to_2022.tif\u001b[39m\n",
            "  \u001b[90m<id: 1CsD86oAPeCZcNAQAY3GdwICzynYqfSYT>\u001b[39m\n",
            "\n",
            "Saved locally as:\n",
            "\n",
            "• \u001b[34m/content/predictor_variables/DynamicWorld_landcover/Average_Land_Cover_Buffer_2000m_2021_to_2022.tif\u001b[39m\n",
            "\n"
          ]
        }
      ]
    },
    {
      "cell_type": "code",
      "source": [
        "  # https://drive.google.com/file/d/1ryTzWz0t9mgI5ynPvMzM21D135dLJvWv/view?usp=drive_link\n",
        "drive_download(as_id('1ryTzWz0t9mgI5ynPvMzM21D135dLJvWv'), path = paste0('/content/fia.gpkg'), overwrite = TRUE)\n",
        "fia_dt <-  st_read('/content/fia.gpkg')"
      ],
      "metadata": {
        "id": "pwfG7o91Q_Lc",
        "outputId": "10e86f81-6cfa-4c41-d87f-cb02a722d5d3",
        "colab": {
          "base_uri": "https://localhost:8080/"
        }
      },
      "execution_count": 3,
      "outputs": [
        {
          "output_type": "stream",
          "name": "stderr",
          "text": [
            "\u001b[1m\u001b[22mIs it OK to cache OAuth access credentials in the folder \u001b[34m~/.cache/gargle\u001b[39m\n",
            "between R sessions?\n",
            "\u001b[1m1\u001b[22m: Yes\n",
            "\u001b[1m2\u001b[22m: No\n"
          ]
        },
        {
          "name": "stdout",
          "output_type": "stream",
          "text": [
            "Selection: 1\n"
          ]
        },
        {
          "output_type": "stream",
          "name": "stderr",
          "text": [
            "Please point your browser to the following url: \n",
            "\n",
            "https://accounts.google.com/o/oauth2/v2/auth?client_id=603366585132-frjlouoa3s2ono25d2l9ukvhlsrlnr7k.apps.googleusercontent.com&scope=https%3A%2F%2Fwww.googleapis.com%2Fauth%2Fdrive%20https%3A%2F%2Fwww.googleapis.com%2Fauth%2Fuserinfo.email&redirect_uri=https%3A%2F%2Fwww.tidyverse.org%2Fgoogle-callback%2F&response_type=code&state=f4f33a9205029632e6f36b6f36d6642e&access_type=offline&prompt=consent\n",
            "\n"
          ]
        },
        {
          "name": "stdout",
          "output_type": "stream",
          "text": [
            "Enter authorization code: eyJjb2RlIjoiNC8wQWZKb2hYbUplakJQenQzVTB2Q29IbE0zYS1FS044c3FTOXRyc1ZJTUlfZXBWWXlyU2NIc2pMR2lGelJmUHFRSzh3WGExUSIsInN0YXRlIjoiZjRmMzNhOTIwNTAyOTYzMmU2ZjM2YjZmMzZkNjY0MmUifQ==\n"
          ]
        },
        {
          "output_type": "stream",
          "name": "stderr",
          "text": [
            "File downloaded:\n",
            "\n",
            "• \u001b[36mSoils_Joined.gpkg\u001b[39m \u001b[90m<id: 1ryTzWz0t9mgI5ynPvMzM21D135dLJvWv>\u001b[39m\n",
            "\n",
            "Saved locally as:\n",
            "\n",
            "• \u001b[34m/content/fia.gpkg\u001b[39m\n",
            "\n"
          ]
        },
        {
          "output_type": "stream",
          "name": "stdout",
          "text": [
            "Reading layer `Soils_Joined' from data source `/content/fia.gpkg' using driver `GPKG'\n",
            "Simple feature collection with 750 features and 197 fields\n",
            "Geometry type: POINT\n",
            "Dimension:     XY\n",
            "Bounding box:  xmin: -159.7567 ymin: 19.02513 xmax: -154.8152 ymax: 22.18564\n",
            "Geodetic CRS:  WGS 84\n"
          ]
        }
      ]
    },
    {
      "cell_type": "code",
      "source": [
        "dir_list <- list.dirs('/content/predictor_variables')[-1]\n",
        "\n",
        "names(dir_list) <- list.dirs('/content/predictor_variables',full.names = FALSE)[-1]"
      ],
      "metadata": {
        "id": "YCW8yTCgak0f"
      },
      "execution_count": 4,
      "outputs": []
    },
    {
      "cell_type": "code",
      "source": [
        "names(dir_list) %>% lapply(function(x){\n",
        "  print(x)\n",
        " y <- dir_list[[x]]\n",
        " vrt(y %>% lapply(function(x){list.files(y, pattern='*.tif',full.names = T)}) %>%unlist,filename=paste0(y,'/',x,'.vrt'),overwrite=T)\n",
        " print(paste('Done',x))\n",
        "})"
      ],
      "metadata": {
        "colab": {
          "base_uri": "https://localhost:8080/",
          "height": 358
        },
        "id": "sGil211aRI3v",
        "outputId": "2df0fc9b-3142-4be5-a9df-4ed14872c2bf"
      },
      "execution_count": 5,
      "outputs": [
        {
          "output_type": "stream",
          "name": "stdout",
          "text": [
            "[1] \"DynamicWorld_landcover\"\n",
            "[1] \"Done DynamicWorld_landcover\"\n",
            "[1] \"Elevation\"\n",
            "[1] \"Done Elevation\"\n",
            "[1] \"LandForms\"\n",
            "[1] \"Done LandForms\"\n",
            "[1] \"LandSat_composite\"\n",
            "[1] \"Done LandSat_composite\"\n",
            "[1] \"SRTM_mTPI\"\n",
            "[1] \"Done SRTM_mTPI\"\n",
            "[1] \"TerraClimate\"\n",
            "[1] \"Done TerraClimate\"\n"
          ]
        },
        {
          "output_type": "display_data",
          "data": {
            "text/html": [
              "<ol>\n",
              "\t<li>'Done DynamicWorld_landcover'</li>\n",
              "\t<li>'Done Elevation'</li>\n",
              "\t<li>'Done LandForms'</li>\n",
              "\t<li>'Done LandSat_composite'</li>\n",
              "\t<li>'Done SRTM_mTPI'</li>\n",
              "\t<li>'Done TerraClimate'</li>\n",
              "</ol>\n"
            ],
            "text/markdown": "1. 'Done DynamicWorld_landcover'\n2. 'Done Elevation'\n3. 'Done LandForms'\n4. 'Done LandSat_composite'\n5. 'Done SRTM_mTPI'\n6. 'Done TerraClimate'\n\n\n",
            "text/latex": "\\begin{enumerate}\n\\item 'Done DynamicWorld\\_landcover'\n\\item 'Done Elevation'\n\\item 'Done LandForms'\n\\item 'Done LandSat\\_composite'\n\\item 'Done SRTM\\_mTPI'\n\\item 'Done TerraClimate'\n\\end{enumerate}\n",
            "text/plain": [
              "[[1]]\n",
              "[1] \"Done DynamicWorld_landcover\"\n",
              "\n",
              "[[2]]\n",
              "[1] \"Done Elevation\"\n",
              "\n",
              "[[3]]\n",
              "[1] \"Done LandForms\"\n",
              "\n",
              "[[4]]\n",
              "[1] \"Done LandSat_composite\"\n",
              "\n",
              "[[5]]\n",
              "[1] \"Done SRTM_mTPI\"\n",
              "\n",
              "[[6]]\n",
              "[1] \"Done TerraClimate\"\n"
            ]
          },
          "metadata": {}
        }
      ]
    },
    {
      "cell_type": "code",
      "source": [
        " raster_list <- list.files('/content/predictor_variables',pattern = '*.vrt',full.names = T,recursive = T) %>% lapply(stack) %>% lapply(rast)\n",
        "\n",
        "raster_list\n",
        "  # # Use gdalbuildvrt to create VRT\n",
        "  # gdalbuildvrt(destfile = paste0(x,'/',x,'.vrt'),\n",
        "  #              files =   (x %>% lapply(function(x){list.files(x, pattern='*.tif',full.names = T)})),\n",
        "  #              separate = FALSE, # Change to TRUE if you want separate bands\n",
        "  #              overwrite = TRUE)\n",
        "\n",
        "\n"
      ],
      "metadata": {
        "colab": {
          "base_uri": "https://localhost:8080/",
          "height": 1000
        },
        "id": "HMu5GpIwQpd4",
        "outputId": "d850da6c-f163-4800-93ea-cb2fb562e88d"
      },
      "execution_count": 6,
      "outputs": [
        {
          "output_type": "display_data",
          "data": {
            "text/plain": [
              "[[1]]\n",
              "class       : SpatRaster \n",
              "dimensions  : 371833, 2204931, 10  (nrow, ncol, nlyr)\n",
              "resolution  : 9.031842e-05, 9.031842e-05  (x, y)\n",
              "extent      : -178.4436, 20.70229, 18.8654, 52.44877  (xmin, xmax, ymin, ymax)\n",
              "coord. ref. : +proj=longlat +datum=WGS84 +no_defs \n",
              "source      : DynamicWorld_landcover.vrt \n",
              "names       : Dynam~ver_1, Dynam~ver_2, Dynam~ver_3, Dynam~ver_4, Dynam~ver_5, Dynam~ver_6, ... \n",
              "\n",
              "[[2]]\n",
              "class       : SpatRaster \n",
              "dimensions  : 35816, 87898, 1  (nrow, ncol, nlyr)\n",
              "resolution  : 0.0002694946, 0.0002694946  (x, y)\n",
              "extent      : -178.4436, -154.7556, 18.8652, 28.51742  (xmin, xmax, ymin, ymax)\n",
              "coord. ref. : +proj=longlat +datum=WGS84 +no_defs \n",
              "source      : Elevation.vrt \n",
              "name        : Elevation \n",
              "\n",
              "[[3]]\n",
              "class       : SpatRaster \n",
              "dimensions  : 80530, 270460, 1  (nrow, ncol, nlyr)\n",
              "resolution  : 0.0002694946, 0.0002694946  (x, y)\n",
              "extent      : -178.4437, -105.5562, 18.86543, 40.56783  (xmin, xmax, ymin, ymax)\n",
              "coord. ref. : +proj=longlat +datum=WGS84 +no_defs \n",
              "source      : LandForms.vrt \n",
              "name        : LandForms \n",
              "\n",
              "[[4]]\n",
              "class       : SpatRaster \n",
              "dimensions  : 35815, 87898, 7  (nrow, ncol, nlyr)\n",
              "resolution  : 0.0002694946, 0.0002694946  (x, y)\n",
              "extent      : -178.4437, -154.7556, 18.86543, 28.51738  (xmin, xmax, ymin, ymax)\n",
              "coord. ref. : +proj=longlat +datum=WGS84 +no_defs \n",
              "source      : LandSat_composite.vrt \n",
              "names       : LandS~ite_1, LandS~ite_2, LandS~ite_3, LandS~ite_4, LandS~ite_5, LandS~ite_6, ... \n",
              "\n",
              "[[5]]\n",
              "class       : SpatRaster \n",
              "dimensions  : 11939, 29300, 1  (nrow, ncol, nlyr)\n",
              "resolution  : 0.0008084838, 0.0008084838  (x, y)\n",
              "extent      : -178.4437, -154.7551, 18.86516, 28.51765  (xmin, xmax, ymin, ymax)\n",
              "coord. ref. : +proj=longlat +datum=WGS84 +no_defs \n",
              "source      : SRTM_mTPI.vrt \n",
              "name        : SRTM_mTPI \n",
              "\n",
              "[[6]]\n",
              "class       : SpatRaster \n",
              "dimensions  : 1075, 2638, 14  (nrow, ncol, nlyr)\n",
              "resolution  : 0.008983153, 0.008983153  (x, y)\n",
              "extent      : -178.4503, -154.7528, 18.86462, 28.52151  (xmin, xmax, ymin, ymax)\n",
              "coord. ref. : +proj=longlat +datum=WGS84 +no_defs \n",
              "source      : TerraClimate.vrt \n",
              "names       : Terra~ate_1, Terra~ate_2, Terra~ate_3, Terra~ate_4, Terra~ate_5, Terra~ate_6, ... \n"
            ]
          },
          "metadata": {}
        }
      ]
    },
    {
      "cell_type": "code",
      "source": [
        "gedi_dt <- st_read('/content/predictor_variables/Hawaii_GEDI_4A.gpkg') %>% data.table()"
      ],
      "metadata": {
        "colab": {
          "base_uri": "https://localhost:8080/"
        },
        "id": "Vjw92rp4dUX4",
        "outputId": "fb70ae69-da16-47a0-dfd5-8c550d83c8d4"
      },
      "execution_count": 7,
      "outputs": [
        {
          "output_type": "stream",
          "name": "stdout",
          "text": [
            "Reading layer `Hawaii_GEDI_2' from data source \n",
            "  `/content/predictor_variables/Hawaii_GEDI_4A.gpkg' using driver `GPKG'\n",
            "Integer64 values larger than 9.0072e+15 lost significance after conversion to double;\n",
            "use argument int64_as_string = TRUE to import them lossless, as character\n",
            "Simple feature collection with 4839466 features and 28 fields\n",
            "Geometry type: POINT\n",
            "Dimension:     XY\n",
            "Bounding box:  xmin: -160.6006 ymin: 18.86556 xmax: -154.7559 ymax: 22.28996\n",
            "Geodetic CRS:  WGS 84\n"
          ]
        }
      ]
    },
    {
      "cell_type": "code",
      "source": [
        "grid_dt <- st_read('/content/predictor_variables/HI_island_250_m_grid.gpkg') %>% data.table()"
      ],
      "metadata": {
        "id": "ZMoeZ7mCApLr",
        "outputId": "63c0602a-f862-4ae0-84f2-db1308dce180",
        "colab": {
          "base_uri": "https://localhost:8080/"
        }
      },
      "execution_count": 8,
      "outputs": [
        {
          "output_type": "stream",
          "name": "stdout",
          "text": [
            "Reading layer `grid' from data source \n",
            "  `/content/predictor_variables/HI_island_250_m_grid.gpkg' using driver `GPKG'\n",
            "Simple feature collection with 263630 features and 5 fields\n",
            "Geometry type: POINT\n",
            "Dimension:     XY\n",
            "Bounding box:  xmin: 57161.36 ymin: 8702.317 xmax: 572661.4 ymax: 381202.3\n",
            "Projected CRS: NAD_1983_HARN_StatePlane_Hawaii_1_FIPS_5101\n"
          ]
        }
      ]
    },
    {
      "cell_type": "code",
      "source": [
        "# fia_dt"
      ],
      "metadata": {
        "id": "z9LOxTIcFZxd"
      },
      "execution_count": 77,
      "outputs": []
    },
    {
      "cell_type": "code",
      "source": [
        "fia_dt[,c('C_TOTAL_PCT','geom')]$C_TOTAL_PCT %>% qplot"
      ],
      "metadata": {
        "id": "D82BbGyLWlKo",
        "outputId": "cf608192-c9af-41f6-d7e6-44c95385a8d6",
        "colab": {
          "base_uri": "https://localhost:8080/",
          "height": 526
        }
      },
      "execution_count": 9,
      "outputs": [
        {
          "output_type": "stream",
          "name": "stderr",
          "text": [
            "Warning message:\n",
            "“\u001b[1m\u001b[22m`qplot()` was deprecated in ggplot2 3.4.0.”\n",
            "\u001b[1m\u001b[22m`stat_bin()` using `bins = 30`. Pick better value with `binwidth`.\n",
            "Warning message:\n",
            "“\u001b[1m\u001b[22mRemoved 99 rows containing non-finite values (`stat_bin()`).”\n"
          ]
        },
        {
          "output_type": "display_data",
          "data": {
            "text/plain": [
              "plot without title"
            ],
            "image/png": "[encoded data removed]"
          },
          "metadata": {
            "image/png": {
              "width": 420,
              "height": 420
            }
          }
        }
      ]
    },
    {
      "cell_type": "code",
      "source": [
        "grid_int_dt <- fia_dt[,c('PLOT','C_TOTAL_PCT','geom')] %>% st_as_sf() %>% st_transform(4135) %>% st_buffer(10000) %>% st_transform(4326) %>% st_intersects(grid_dt %>% st_as_sf %>% st_transform(4326))"
      ],
      "metadata": {
        "id": "smcDiXosAxD2"
      },
      "execution_count": 10,
      "outputs": []
    },
    {
      "cell_type": "code",
      "source": [
        "  dummy_geom <- fia_dt %>% st_as_sf() %>% st_transform(4135) %>% st_buffer(1000) %>% st_transform(4326)\n",
        "  fia_dt$dummy_geom <- dummy_geom$geom\n",
        "\n",
        "  example_poly <- (fia_dt %>%data.table)[,c('PLOT','C_TOTAL_PCT','dummy_geom')]\n",
        "\n",
        "  ls_dt <- data.table(exact_extract(raster_list[[4]],example_poly %>% st_as_sf,'mean') %>% data.table)\n",
        "  names(ls_dt) <- c(\"ultra_blue\", \"blue\", \"green\", \"red\", \"infrared\", \"sw1\", \"sw2\")\n",
        "\n",
        "  climate_dt <- data.table(exact_extract(raster_list[[6]],example_poly %>% st_as_sf,'mean') %>% data.table)\n",
        "  names(climate_dt) <- c(\"aet\", \"def\", \"pdsi\", \"pet\", \"pr\", \"ro\", \"soil\", \"srad\", \"swe\", \"tmmn\", \"tmmx\", \"vap\", \"vpd\", \"vs\")\n",
        "\n",
        "  elevation_dt <- data.table(exact_extract(raster_list[[2]],example_poly %>% st_as_sf,'mean') %>% data.table)\n",
        "  names(elevation_dt) <- c(\"elevation\")\n",
        "\n",
        "  rf_dt <- data.table(example_poly,ls_dt,climate_dt,elevation_dt)"
      ],
      "metadata": {
        "id": "vS5za1ZrHitu",
        "outputId": "8b16b2ae-1bc0-4dd3-ecdd-fc820c61a09a",
        "colab": {
          "base_uri": "https://localhost:8080/"
        }
      },
      "execution_count": 178,
      "outputs": [
        {
          "output_type": "stream",
          "name": "stderr",
          "text": [
            "Cannot preload entire working area of 1520067948 cells with max_cells_in_memory = 3e+07. Raster values will be read for each feature individually.\n",
            "\n"
          ]
        },
        {
          "output_type": "stream",
          "name": "stdout",
          "text": [
            "  |======================================================================| 100%\n",
            "  |======================================================================| 100%\n"
          ]
        },
        {
          "output_type": "stream",
          "name": "stderr",
          "text": [
            "Cannot preload entire working area of 217152564 cells with max_cells_in_memory = 3e+07. Raster values will be read for each feature individually.\n",
            "\n"
          ]
        },
        {
          "output_type": "stream",
          "name": "stdout",
          "text": [
            "  |======================================================================| 100%\n"
          ]
        }
      ]
    },
    {
      "cell_type": "code",
      "source": [
        "rf_dt %>%\n",
        "  ggplot(aes(x=vs,y=C_TOTAL_PCT))+\n",
        "  geom_point()"
      ],
      "metadata": {
        "id": "qGQNtmvIzqgM",
        "outputId": "3e34606a-ab32-4389-b59d-f3f824aae3d3",
        "colab": {
          "base_uri": "https://localhost:8080/",
          "height": 472
        }
      },
      "execution_count": 181,
      "outputs": [
        {
          "output_type": "stream",
          "name": "stderr",
          "text": [
            "Warning message:\n",
            "“\u001b[1m\u001b[22mRemoved 177 rows containing missing values (`geom_point()`).”\n"
          ]
        },
        {
          "output_type": "display_data",
          "data": {
            "text/plain": [
              "plot without title"
            ],
            "image/png": "[encoded data removed]"
          },
          "metadata": {
            "image/png": {
              "width": 420,
              "height": 420
            }
          }
        }
      ]
    },
    {
      "cell_type": "code",
      "source": [
        "# rf_dt$`SRTM_mTPI"
      ],
      "metadata": {
        "id": "y6flOpCr7Hwe"
      },
      "execution_count": 16,
      "outputs": []
    },
    {
      "cell_type": "code",
      "source": [
        "sim_dt <-\n",
        "1:50 %>% lapply(function(m){\n",
        "\n",
        "  dummy_geom <- grid_dt[grid_int_dt %>% lapply(function(x){sample(x,1)}) %>% unlist,] %>% st_as_sf() %>% st_transform(4135) %>% st_buffer(250) %>% st_transform(4326)\n",
        "  fia_dt$dummy_geom <- dummy_geom$geom\n",
        "\n",
        "  example_poly <- (fia_dt %>%data.table)[,c('PLOT','C_TOTAL_PCT','dummy_geom')]\n",
        "\n",
        "  cover_dt <- data.table(exact_extract(raster_list[[1]],example_poly %>% st_as_sf,'mean') %>% data.table)\n",
        "  names(cover_dt) <- c(\"water\", \"trees\", \"grass\", \"flooded_vegetation\", \"crops\", \"shrub_and_scrub\", \"built\", \"bare\", \"snow_and_ice\",'max')\n",
        "\n",
        "  elevation_dt <- data.table(exact_extract(raster_list[[2]],example_poly %>% st_as_sf,'mean') %>% data.table)\n",
        "  names(elevation_dt) <- c(\"elevation\")\n",
        "\n",
        "  landform_dt <- data.table(exact_extract(raster_list[[3]],example_poly %>% st_as_sf,'mode') %>% data.table)\n",
        "  names(landform_dt) <- c(\"landform\")\n",
        "\n",
        "  ls_dt <- data.table(exact_extract(raster_list[[4]],example_poly %>% st_as_sf,'mean') %>% data.table)\n",
        "  names(ls_dt) <- c(\"ultra_blue\", \"blue\", \"green\", \"red\", \"infrared\", \"sw1\", \"sw2\")\n",
        "\n",
        "  tpi_dt <- data.table(exact_extract(raster_list[[5]],example_poly %>% st_as_sf,'mean') %>% data.table)\n",
        "  names(tpi_dt) <- c(\"SRTM_mTPI\")\n",
        "\n",
        "  climate_dt <- data.table(exact_extract(raster_list[[6]],example_poly %>% st_as_sf,'mean') %>% data.table)\n",
        "  names(climate_dt) <- c(\"aet\", \"def\", \"pdsi\", \"pet\", \"pr\", \"ro\", \"soil\", \"srad\", \"swe\", \"tmmn\", \"tmmx\", \"vap\", \"vpd\", \"vs\")\n",
        "\n",
        "\n",
        "\n",
        "  rf_dt <- data.table(example_poly,cover_dt,elevation_dt,landform_dt,tpi_dt,climate_dt)\n",
        "\n",
        "  # rf_dt %>% head\n",
        "  x_var <- (rf_dt %>% names)[-c(1,2,3)]\n",
        "\n",
        "  rf_form <- as.formula(paste0('C_TOTAL_PCT~',paste(x_var,collapse = '+')))\n",
        "\n",
        "  # print(rf_form)\n",
        "\n",
        "  rf_dt <- rf_dt[complete.cases(rf_dt[,-3]),]\n",
        "\n",
        "  rf_terra <- randomForest(rf_form,rf_dt,verbose=T)\n",
        "\n",
        "  rf_imp_dt <- rf_terra$importance %>% t %>% data.table\n",
        "\n",
        "  out_dt <- data.table(rf_dt[,c('PLOT','C_TOTAL_PCT','dummy_geom')],data.table(predicted = rf_terra$predicted),rf_imp_dt[rep(1,nrow(rf_dt)),])\n",
        "\n",
        "  return(out_dt)\n",
        "  }) %>%\n",
        "  rbindlist"
      ],
      "metadata": {
        "id": "KB9q5pEwEkvI",
        "outputId": "1f68def8-eaab-4f8f-ac67-2892fe656e7b",
        "colab": {
          "base_uri": "https://localhost:8080/"
        }
      },
      "execution_count": 22,
      "outputs": [
        {
          "output_type": "stream",
          "name": "stderr",
          "text": [
            "Cannot preload entire working area of 19215368950 cells with max_cells_in_memory = 3e+07. Raster values will be read for each feature individually.\n",
            "\n"
          ]
        },
        {
          "output_type": "stream",
          "name": "stdout",
          "text": [
            "  |======================================================================| 100%\n"
          ]
        },
        {
          "output_type": "stream",
          "name": "stderr",
          "text": [
            "Cannot preload entire working area of 215838344 cells with max_cells_in_memory = 3e+07. Raster values will be read for each feature individually.\n",
            "\n"
          ]
        },
        {
          "output_type": "stream",
          "name": "stdout",
          "text": [
            "  |======================================================================| 100%\n"
          ]
        },
        {
          "output_type": "stream",
          "name": "stderr",
          "text": [
            "Cannot preload entire working area of 215856732 cells with max_cells_in_memory = 3e+07. Raster values will be read for each feature individually.\n",
            "\n"
          ]
        },
        {
          "output_type": "stream",
          "name": "stdout",
          "text": [
            "  |======================================================================| 100%\n"
          ]
        },
        {
          "output_type": "stream",
          "name": "stderr",
          "text": [
            "Cannot preload entire working area of 1510997124 cells with max_cells_in_memory = 3e+07. Raster values will be read for each feature individually.\n",
            "\n"
          ]
        },
        {
          "output_type": "stream",
          "name": "stdout",
          "text": [
            "  |======================================================================| 100%\n",
            "  |======================================================================| 100%\n",
            "  |======================================================================| 100%\n"
          ]
        },
        {
          "output_type": "stream",
          "name": "stderr",
          "text": [
            "Cannot preload entire working area of 19164666270 cells with max_cells_in_memory = 3e+07. Raster values will be read for each feature individually.\n",
            "\n"
          ]
        },
        {
          "output_type": "stream",
          "name": "stdout",
          "text": [
            "  |======================================================================| 100%\n"
          ]
        },
        {
          "output_type": "stream",
          "name": "stderr",
          "text": [
            "Cannot preload entire working area of 215285850 cells with max_cells_in_memory = 3e+07. Raster values will be read for each feature individually.\n",
            "\n"
          ]
        },
        {
          "output_type": "stream",
          "name": "stdout",
          "text": [
            "  |======================================================================| 100%\n"
          ]
        },
        {
          "output_type": "stream",
          "name": "stderr",
          "text": [
            "Cannot preload entire working area of 215255776 cells with max_cells_in_memory = 3e+07. Raster values will be read for each feature individually.\n",
            "\n"
          ]
        },
        {
          "output_type": "stream",
          "name": "stdout",
          "text": [
            "  |======================================================================| 100%\n"
          ]
        },
        {
          "output_type": "stream",
          "name": "stderr",
          "text": [
            "Cannot preload entire working area of 1506790432 cells with max_cells_in_memory = 3e+07. Raster values will be read for each feature individually.\n",
            "\n"
          ]
        },
        {
          "output_type": "stream",
          "name": "stdout",
          "text": [
            "  |======================================================================| 100%\n",
            "  |======================================================================| 100%\n",
            "  |======================================================================| 100%\n"
          ]
        },
        {
          "output_type": "stream",
          "name": "stderr",
          "text": [
            "Cannot preload entire working area of 19275431640 cells with max_cells_in_memory = 3e+07. Raster values will be read for each feature individually.\n",
            "\n"
          ]
        },
        {
          "output_type": "stream",
          "name": "stdout",
          "text": [
            "  |======================================================================| 100%\n"
          ]
        },
        {
          "output_type": "stream",
          "name": "stderr",
          "text": [
            "Cannot preload entire working area of 216511540 cells with max_cells_in_memory = 3e+07. Raster values will be read for each feature individually.\n",
            "\n"
          ]
        },
        {
          "output_type": "stream",
          "name": "stdout",
          "text": [
            "  |======================================================================| 100%\n"
          ]
        },
        {
          "output_type": "stream",
          "name": "stderr",
          "text": [
            "Cannot preload entire working area of 216511540 cells with max_cells_in_memory = 3e+07. Raster values will be read for each feature individually.\n",
            "\n"
          ]
        },
        {
          "output_type": "stream",
          "name": "stdout",
          "text": [
            "  |======================================================================| 100%\n"
          ]
        },
        {
          "output_type": "stream",
          "name": "stderr",
          "text": [
            "Cannot preload entire working area of 1515580780 cells with max_cells_in_memory = 3e+07. Raster values will be read for each feature individually.\n",
            "\n"
          ]
        },
        {
          "output_type": "stream",
          "name": "stdout",
          "text": [
            "  |======================================================================| 100%\n",
            "  |======================================================================| 100%\n",
            "  |======================================================================| 100%\n"
          ]
        },
        {
          "output_type": "stream",
          "name": "stderr",
          "text": [
            "Cannot preload entire working area of 19329054020 cells with max_cells_in_memory = 3e+07. Raster values will be read for each feature individually.\n",
            "\n"
          ]
        },
        {
          "output_type": "stream",
          "name": "stdout",
          "text": [
            "  |======================================================================| 100%\n"
          ]
        },
        {
          "output_type": "stream",
          "name": "stderr",
          "text": [
            "Cannot preload entire working area of 217122800 cells with max_cells_in_memory = 3e+07. Raster values will be read for each feature individually.\n",
            "\n"
          ]
        },
        {
          "output_type": "stream",
          "name": "stdout",
          "text": [
            "  |======================================================================| 100%\n"
          ]
        },
        {
          "output_type": "stream",
          "name": "stderr",
          "text": [
            "Cannot preload entire working area of 217122800 cells with max_cells_in_memory = 3e+07. Raster values will be read for each feature individually.\n",
            "\n"
          ]
        },
        {
          "output_type": "stream",
          "name": "stdout",
          "text": [
            "  |======================================================================| 100%\n"
          ]
        },
        {
          "output_type": "stream",
          "name": "stderr",
          "text": [
            "Cannot preload entire working area of 1519859600 cells with max_cells_in_memory = 3e+07. Raster values will be read for each feature individually.\n",
            "\n"
          ]
        },
        {
          "output_type": "stream",
          "name": "stdout",
          "text": [
            "  |======================================================================| 100%\n",
            "  |======================================================================| 100%\n",
            "  |======================================================================| 100%\n"
          ]
        },
        {
          "output_type": "stream",
          "name": "stderr",
          "text": [
            "Cannot preload entire working area of 18828618350 cells with max_cells_in_memory = 3e+07. Raster values will be read for each feature individually.\n",
            "\n"
          ]
        },
        {
          "output_type": "stream",
          "name": "stdout",
          "text": [
            "  |======================================================================| 100%\n"
          ]
        },
        {
          "output_type": "stream",
          "name": "stderr",
          "text": [
            "Cannot preload entire working area of 211502032 cells with max_cells_in_memory = 3e+07. Raster values will be read for each feature individually.\n",
            "\n"
          ]
        },
        {
          "output_type": "stream",
          "name": "stdout",
          "text": [
            "  |======================================================================| 100%\n"
          ]
        },
        {
          "output_type": "stream",
          "name": "stderr",
          "text": [
            "Cannot preload entire working area of 211502032 cells with max_cells_in_memory = 3e+07. Raster values will be read for each feature individually.\n",
            "\n"
          ]
        },
        {
          "output_type": "stream",
          "name": "stdout",
          "text": [
            "  |======================================================================| 100%\n"
          ]
        },
        {
          "output_type": "stream",
          "name": "stderr",
          "text": [
            "Cannot preload entire working area of 1480514224 cells with max_cells_in_memory = 3e+07. Raster values will be read for each feature individually.\n",
            "\n"
          ]
        },
        {
          "output_type": "stream",
          "name": "stdout",
          "text": [
            "  |======================================================================| 100%\n",
            "  |======================================================================| 100%\n",
            "  |======================================================================| 100%\n"
          ]
        },
        {
          "output_type": "stream",
          "name": "stderr",
          "text": [
            "Cannot preload entire working area of 19386542910 cells with max_cells_in_memory = 3e+07. Raster values will be read for each feature individually.\n",
            "\n"
          ]
        },
        {
          "output_type": "stream",
          "name": "stdout",
          "text": [
            "  |======================================================================| 100%\n"
          ]
        },
        {
          "output_type": "stream",
          "name": "stderr",
          "text": [
            "Cannot preload entire working area of 217761201 cells with max_cells_in_memory = 3e+07. Raster values will be read for each feature individually.\n",
            "\n"
          ]
        },
        {
          "output_type": "stream",
          "name": "stdout",
          "text": [
            "  |======================================================================| 100%\n"
          ]
        },
        {
          "output_type": "stream",
          "name": "stderr",
          "text": [
            "Cannot preload entire working area of 217761201 cells with max_cells_in_memory = 3e+07. Raster values will be read for each feature individually.\n",
            "\n"
          ]
        },
        {
          "output_type": "stream",
          "name": "stdout",
          "text": [
            "  |======================================================================| 100%\n"
          ]
        },
        {
          "output_type": "stream",
          "name": "stderr",
          "text": [
            "Cannot preload entire working area of 1524328407 cells with max_cells_in_memory = 3e+07. Raster values will be read for each feature individually.\n",
            "\n"
          ]
        },
        {
          "output_type": "stream",
          "name": "stdout",
          "text": [
            "  |======================================================================| 100%\n",
            "  |======================================================================| 100%\n",
            "  |======================================================================| 100%\n"
          ]
        },
        {
          "output_type": "stream",
          "name": "stderr",
          "text": [
            "Cannot preload entire working area of 19123042680 cells with max_cells_in_memory = 3e+07. Raster values will be read for each feature individually.\n",
            "\n"
          ]
        },
        {
          "output_type": "stream",
          "name": "stdout",
          "text": [
            "  |======================================================================| 100%\n"
          ]
        },
        {
          "output_type": "stream",
          "name": "stderr",
          "text": [
            "Cannot preload entire working area of 214805160 cells with max_cells_in_memory = 3e+07. Raster values will be read for each feature individually.\n",
            "\n"
          ]
        },
        {
          "output_type": "stream",
          "name": "stdout",
          "text": [
            "  |======================================================================| 100%\n"
          ]
        },
        {
          "output_type": "stream",
          "name": "stderr",
          "text": [
            "Cannot preload entire working area of 214793364 cells with max_cells_in_memory = 3e+07. Raster values will be read for each feature individually.\n",
            "\n"
          ]
        },
        {
          "output_type": "stream",
          "name": "stdout",
          "text": [
            "  |======================================================================| 100%\n"
          ]
        },
        {
          "output_type": "stream",
          "name": "stderr",
          "text": [
            "Cannot preload entire working area of 1503553548 cells with max_cells_in_memory = 3e+07. Raster values will be read for each feature individually.\n",
            "\n"
          ]
        },
        {
          "output_type": "stream",
          "name": "stdout",
          "text": [
            "  |======================================================================| 100%\n",
            "  |======================================================================| 100%\n",
            "  |======================================================================| 100%\n"
          ]
        },
        {
          "output_type": "stream",
          "name": "stderr",
          "text": [
            "Cannot preload entire working area of 19617571770 cells with max_cells_in_memory = 3e+07. Raster values will be read for each feature individually.\n",
            "\n"
          ]
        },
        {
          "output_type": "stream",
          "name": "stdout",
          "text": [
            "  |======================================================================| 100%\n"
          ]
        },
        {
          "output_type": "stream",
          "name": "stderr",
          "text": [
            "Cannot preload entire working area of 220390653 cells with max_cells_in_memory = 3e+07. Raster values will be read for each feature individually.\n",
            "\n"
          ]
        },
        {
          "output_type": "stream",
          "name": "stdout",
          "text": [
            "  |======================================================================| 100%\n"
          ]
        },
        {
          "output_type": "stream",
          "name": "stderr",
          "text": [
            "Cannot preload entire working area of 220360320 cells with max_cells_in_memory = 3e+07. Raster values will be read for each feature individually.\n",
            "\n"
          ]
        },
        {
          "output_type": "stream",
          "name": "stdout",
          "text": [
            "  |======================================================================| 100%\n"
          ]
        },
        {
          "output_type": "stream",
          "name": "stderr",
          "text": [
            "Cannot preload entire working area of 1542522240 cells with max_cells_in_memory = 3e+07. Raster values will be read for each feature individually.\n",
            "\n"
          ]
        },
        {
          "output_type": "stream",
          "name": "stdout",
          "text": [
            "  |======================================================================| 100%\n",
            "  |======================================================================| 100%\n",
            "  |======================================================================| 100%\n"
          ]
        },
        {
          "output_type": "stream",
          "name": "stderr",
          "text": [
            "Cannot preload entire working area of 19258794900 cells with max_cells_in_memory = 3e+07. Raster values will be read for each feature individually.\n",
            "\n"
          ]
        },
        {
          "output_type": "stream",
          "name": "stdout",
          "text": [
            "  |======================================================================| 100%\n"
          ]
        },
        {
          "output_type": "stream",
          "name": "stderr",
          "text": [
            "Cannot preload entire working area of 216339966 cells with max_cells_in_memory = 3e+07. Raster values will be read for each feature individually.\n",
            "\n"
          ]
        },
        {
          "output_type": "stream",
          "name": "stdout",
          "text": [
            "  |======================================================================| 100%\n"
          ]
        },
        {
          "output_type": "stream",
          "name": "stderr",
          "text": [
            "Cannot preload entire working area of 216339966 cells with max_cells_in_memory = 3e+07. Raster values will be read for each feature individually.\n",
            "\n"
          ]
        },
        {
          "output_type": "stream",
          "name": "stdout",
          "text": [
            "  |======================================================================| 100%\n"
          ]
        },
        {
          "output_type": "stream",
          "name": "stderr",
          "text": [
            "Cannot preload entire working area of 1514379762 cells with max_cells_in_memory = 3e+07. Raster values will be read for each feature individually.\n",
            "\n"
          ]
        },
        {
          "output_type": "stream",
          "name": "stdout",
          "text": [
            "  |======================================================================| 100%\n",
            "  |======================================================================| 100%\n",
            "  |======================================================================| 100%\n"
          ]
        },
        {
          "output_type": "stream",
          "name": "stderr",
          "text": [
            "Cannot preload entire working area of 19372520310 cells with max_cells_in_memory = 3e+07. Raster values will be read for each feature individually.\n",
            "\n"
          ]
        },
        {
          "output_type": "stream",
          "name": "stdout",
          "text": [
            "  |======================================================================| 100%\n"
          ]
        },
        {
          "output_type": "stream",
          "name": "stderr",
          "text": [
            "Cannot preload entire working area of 217604420 cells with max_cells_in_memory = 3e+07. Raster values will be read for each feature individually.\n",
            "\n"
          ]
        },
        {
          "output_type": "stream",
          "name": "stdout",
          "text": [
            "  |======================================================================| 100%\n"
          ]
        },
        {
          "output_type": "stream",
          "name": "stderr",
          "text": [
            "Cannot preload entire working area of 217604420 cells with max_cells_in_memory = 3e+07. Raster values will be read for each feature individually.\n",
            "\n"
          ]
        },
        {
          "output_type": "stream",
          "name": "stdout",
          "text": [
            "  |======================================================================| 100%\n"
          ]
        },
        {
          "output_type": "stream",
          "name": "stderr",
          "text": [
            "Cannot preload entire working area of 1523230940 cells with max_cells_in_memory = 3e+07. Raster values will be read for each feature individually.\n",
            "\n"
          ]
        },
        {
          "output_type": "stream",
          "name": "stdout",
          "text": [
            "  |======================================================================| 100%\n",
            "  |======================================================================| 100%\n",
            "  |======================================================================| 100%\n"
          ]
        },
        {
          "output_type": "stream",
          "name": "stderr",
          "text": [
            "Cannot preload entire working area of 19620926720 cells with max_cells_in_memory = 3e+07. Raster values will be read for each feature individually.\n",
            "\n"
          ]
        },
        {
          "output_type": "stream",
          "name": "stdout",
          "text": [
            "  |======================================================================| 100%\n"
          ]
        },
        {
          "output_type": "stream",
          "name": "stderr",
          "text": [
            "Cannot preload entire working area of 220413861 cells with max_cells_in_memory = 3e+07. Raster values will be read for each feature individually.\n",
            "\n"
          ]
        },
        {
          "output_type": "stream",
          "name": "stdout",
          "text": [
            "  |======================================================================| 100%\n"
          ]
        },
        {
          "output_type": "stream",
          "name": "stderr",
          "text": [
            "Cannot preload entire working area of 220413861 cells with max_cells_in_memory = 3e+07. Raster values will be read for each feature individually.\n",
            "\n"
          ]
        },
        {
          "output_type": "stream",
          "name": "stdout",
          "text": [
            "  |======================================================================| 100%\n"
          ]
        },
        {
          "output_type": "stream",
          "name": "stderr",
          "text": [
            "Cannot preload entire working area of 1542897027 cells with max_cells_in_memory = 3e+07. Raster values will be read for each feature individually.\n",
            "\n"
          ]
        },
        {
          "output_type": "stream",
          "name": "stdout",
          "text": [
            "  |======================================================================| 100%\n",
            "  |======================================================================| 100%\n",
            "  |======================================================================| 100%\n"
          ]
        },
        {
          "output_type": "stream",
          "name": "stderr",
          "text": [
            "Cannot preload entire working area of 19310829840 cells with max_cells_in_memory = 3e+07. Raster values will be read for each feature individually.\n",
            "\n"
          ]
        },
        {
          "output_type": "stream",
          "name": "stdout",
          "text": [
            "  |======================================================================| 100%\n"
          ]
        },
        {
          "output_type": "stream",
          "name": "stderr",
          "text": [
            "Cannot preload entire working area of 216903050 cells with max_cells_in_memory = 3e+07. Raster values will be read for each feature individually.\n",
            "\n"
          ]
        },
        {
          "output_type": "stream",
          "name": "stdout",
          "text": [
            "  |======================================================================| 100%\n"
          ]
        },
        {
          "output_type": "stream",
          "name": "stderr",
          "text": [
            "Cannot preload entire working area of 216903050 cells with max_cells_in_memory = 3e+07. Raster values will be read for each feature individually.\n",
            "\n"
          ]
        },
        {
          "output_type": "stream",
          "name": "stdout",
          "text": [
            "  |======================================================================| 100%\n"
          ]
        },
        {
          "output_type": "stream",
          "name": "stderr",
          "text": [
            "Cannot preload entire working area of 1518321350 cells with max_cells_in_memory = 3e+07. Raster values will be read for each feature individually.\n",
            "\n"
          ]
        },
        {
          "output_type": "stream",
          "name": "stdout",
          "text": [
            "  |======================================================================| 100%\n",
            "  |======================================================================| 100%\n",
            "  |======================================================================| 100%\n"
          ]
        },
        {
          "output_type": "stream",
          "name": "stderr",
          "text": [
            "Cannot preload entire working area of 19440373040 cells with max_cells_in_memory = 3e+07. Raster values will be read for each feature individually.\n",
            "\n"
          ]
        },
        {
          "output_type": "stream",
          "name": "stdout",
          "text": [
            "  |======================================================================| 100%\n"
          ]
        },
        {
          "output_type": "stream",
          "name": "stderr",
          "text": [
            "Cannot preload entire working area of 218382600 cells with max_cells_in_memory = 3e+07. Raster values will be read for each feature individually.\n",
            "\n"
          ]
        },
        {
          "output_type": "stream",
          "name": "stdout",
          "text": [
            "  |======================================================================| 100%\n"
          ]
        },
        {
          "output_type": "stream",
          "name": "stderr",
          "text": [
            "Cannot preload entire working area of 218382600 cells with max_cells_in_memory = 3e+07. Raster values will be read for each feature individually.\n",
            "\n"
          ]
        },
        {
          "output_type": "stream",
          "name": "stdout",
          "text": [
            "  |======================================================================| 100%\n"
          ]
        },
        {
          "output_type": "stream",
          "name": "stderr",
          "text": [
            "Cannot preload entire working area of 1528678200 cells with max_cells_in_memory = 3e+07. Raster values will be read for each feature individually.\n",
            "\n"
          ]
        },
        {
          "output_type": "stream",
          "name": "stdout",
          "text": [
            "  |======================================================================| 100%\n",
            "  |======================================================================| 100%\n",
            "  |======================================================================| 100%\n"
          ]
        },
        {
          "output_type": "stream",
          "name": "stderr",
          "text": [
            "Cannot preload entire working area of 19484006330 cells with max_cells_in_memory = 3e+07. Raster values will be read for each feature individually.\n",
            "\n"
          ]
        },
        {
          "output_type": "stream",
          "name": "stdout",
          "text": [
            "  |======================================================================| 100%\n"
          ]
        },
        {
          "output_type": "stream",
          "name": "stderr",
          "text": [
            "Cannot preload entire working area of 218870070 cells with max_cells_in_memory = 3e+07. Raster values will be read for each feature individually.\n",
            "\n"
          ]
        },
        {
          "output_type": "stream",
          "name": "stdout",
          "text": [
            "  |======================================================================| 100%\n"
          ]
        },
        {
          "output_type": "stream",
          "name": "stderr",
          "text": [
            "Cannot preload entire working area of 218870070 cells with max_cells_in_memory = 3e+07. Raster values will be read for each feature individually.\n",
            "\n"
          ]
        },
        {
          "output_type": "stream",
          "name": "stdout",
          "text": [
            "  |======================================================================| 100%\n"
          ]
        },
        {
          "output_type": "stream",
          "name": "stderr",
          "text": [
            "Cannot preload entire working area of 1532090490 cells with max_cells_in_memory = 3e+07. Raster values will be read for each feature individually.\n",
            "\n"
          ]
        },
        {
          "output_type": "stream",
          "name": "stdout",
          "text": [
            "  |======================================================================| 100%\n",
            "  |======================================================================| 100%\n",
            "  |======================================================================| 100%\n"
          ]
        },
        {
          "output_type": "stream",
          "name": "stderr",
          "text": [
            "Cannot preload entire working area of 19361128710 cells with max_cells_in_memory = 3e+07. Raster values will be read for each feature individually.\n",
            "\n"
          ]
        },
        {
          "output_type": "stream",
          "name": "stdout",
          "text": [
            "  |======================================================================| 100%\n"
          ]
        },
        {
          "output_type": "stream",
          "name": "stderr",
          "text": [
            "Cannot preload entire working area of 217477160 cells with max_cells_in_memory = 3e+07. Raster values will be read for each feature individually.\n",
            "\n"
          ]
        },
        {
          "output_type": "stream",
          "name": "stdout",
          "text": [
            "  |======================================================================| 100%\n"
          ]
        },
        {
          "output_type": "stream",
          "name": "stderr",
          "text": [
            "Cannot preload entire working area of 217507338 cells with max_cells_in_memory = 3e+07. Raster values will be read for each feature individually.\n",
            "\n"
          ]
        },
        {
          "output_type": "stream",
          "name": "stdout",
          "text": [
            "  |======================================================================| 100%\n"
          ]
        },
        {
          "output_type": "stream",
          "name": "stderr",
          "text": [
            "Cannot preload entire working area of 1522551366 cells with max_cells_in_memory = 3e+07. Raster values will be read for each feature individually.\n",
            "\n"
          ]
        },
        {
          "output_type": "stream",
          "name": "stdout",
          "text": [
            "  |======================================================================| 100%\n",
            "  |======================================================================| 100%\n",
            "  |======================================================================| 100%\n"
          ]
        },
        {
          "output_type": "stream",
          "name": "stderr",
          "text": [
            "Cannot preload entire working area of 19242734300 cells with max_cells_in_memory = 3e+07. Raster values will be read for each feature individually.\n",
            "\n"
          ]
        },
        {
          "output_type": "stream",
          "name": "stdout",
          "text": [
            "  |======================================================================| 100%\n"
          ]
        },
        {
          "output_type": "stream",
          "name": "stderr",
          "text": [
            "Cannot preload entire working area of 216158436 cells with max_cells_in_memory = 3e+07. Raster values will be read for each feature individually.\n",
            "\n"
          ]
        },
        {
          "output_type": "stream",
          "name": "stdout",
          "text": [
            "  |======================================================================| 100%\n"
          ]
        },
        {
          "output_type": "stream",
          "name": "stderr",
          "text": [
            "Cannot preload entire working area of 216158436 cells with max_cells_in_memory = 3e+07. Raster values will be read for each feature individually.\n",
            "\n"
          ]
        },
        {
          "output_type": "stream",
          "name": "stdout",
          "text": [
            "  |======================================================================| 100%\n"
          ]
        },
        {
          "output_type": "stream",
          "name": "stderr",
          "text": [
            "Cannot preload entire working area of 1513109052 cells with max_cells_in_memory = 3e+07. Raster values will be read for each feature individually.\n",
            "\n"
          ]
        },
        {
          "output_type": "stream",
          "name": "stdout",
          "text": [
            "  |======================================================================| 100%\n",
            "  |======================================================================| 100%\n",
            "  |======================================================================| 100%\n"
          ]
        },
        {
          "output_type": "stream",
          "name": "stderr",
          "text": [
            "Cannot preload entire working area of 19534126240 cells with max_cells_in_memory = 3e+07. Raster values will be read for each feature individually.\n",
            "\n"
          ]
        },
        {
          "output_type": "stream",
          "name": "stdout",
          "text": [
            "  |======================================================================| 100%\n"
          ]
        },
        {
          "output_type": "stream",
          "name": "stderr",
          "text": [
            "Cannot preload entire working area of 219424058 cells with max_cells_in_memory = 3e+07. Raster values will be read for each feature individually.\n",
            "\n"
          ]
        },
        {
          "output_type": "stream",
          "name": "stdout",
          "text": [
            "  |======================================================================| 100%\n"
          ]
        },
        {
          "output_type": "stream",
          "name": "stderr",
          "text": [
            "Cannot preload entire working area of 219424058 cells with max_cells_in_memory = 3e+07. Raster values will be read for each feature individually.\n",
            "\n"
          ]
        },
        {
          "output_type": "stream",
          "name": "stdout",
          "text": [
            "  |======================================================================| 100%\n"
          ]
        },
        {
          "output_type": "stream",
          "name": "stderr",
          "text": [
            "Cannot preload entire working area of 1535968406 cells with max_cells_in_memory = 3e+07. Raster values will be read for each feature individually.\n",
            "\n"
          ]
        },
        {
          "output_type": "stream",
          "name": "stdout",
          "text": [
            "  |======================================================================| 100%\n",
            "  |======================================================================| 100%\n",
            "  |======================================================================| 100%\n"
          ]
        },
        {
          "output_type": "stream",
          "name": "stderr",
          "text": [
            "Cannot preload entire working area of 19212569250 cells with max_cells_in_memory = 3e+07. Raster values will be read for each feature individually.\n",
            "\n"
          ]
        },
        {
          "output_type": "stream",
          "name": "stdout",
          "text": [
            "  |======================================================================| 100%\n"
          ]
        },
        {
          "output_type": "stream",
          "name": "stderr",
          "text": [
            "Cannot preload entire working area of 215827512 cells with max_cells_in_memory = 3e+07. Raster values will be read for each feature individually.\n",
            "\n"
          ]
        },
        {
          "output_type": "stream",
          "name": "stdout",
          "text": [
            "  |======================================================================| 100%\n"
          ]
        },
        {
          "output_type": "stream",
          "name": "stderr",
          "text": [
            "Cannot preload entire working area of 215827512 cells with max_cells_in_memory = 3e+07. Raster values will be read for each feature individually.\n",
            "\n"
          ]
        },
        {
          "output_type": "stream",
          "name": "stdout",
          "text": [
            "  |======================================================================| 100%\n"
          ]
        },
        {
          "output_type": "stream",
          "name": "stderr",
          "text": [
            "Cannot preload entire working area of 1510792584 cells with max_cells_in_memory = 3e+07. Raster values will be read for each feature individually.\n",
            "\n"
          ]
        },
        {
          "output_type": "stream",
          "name": "stdout",
          "text": [
            "  |======================================================================| 100%\n",
            "  |======================================================================| 100%\n",
            "  |======================================================================| 100%\n"
          ]
        },
        {
          "output_type": "stream",
          "name": "stderr",
          "text": [
            "Cannot preload entire working area of 19645222520 cells with max_cells_in_memory = 3e+07. Raster values will be read for each feature individually.\n",
            "\n"
          ]
        },
        {
          "output_type": "stream",
          "name": "stdout",
          "text": [
            "  |======================================================================| 100%\n"
          ]
        },
        {
          "output_type": "stream",
          "name": "stderr",
          "text": [
            "Cannot preload entire working area of 220659120 cells with max_cells_in_memory = 3e+07. Raster values will be read for each feature individually.\n",
            "\n"
          ]
        },
        {
          "output_type": "stream",
          "name": "stdout",
          "text": [
            "  |======================================================================| 100%\n"
          ]
        },
        {
          "output_type": "stream",
          "name": "stderr",
          "text": [
            "Cannot preload entire working area of 220659120 cells with max_cells_in_memory = 3e+07. Raster values will be read for each feature individually.\n",
            "\n"
          ]
        },
        {
          "output_type": "stream",
          "name": "stdout",
          "text": [
            "  |======================================================================| 100%\n"
          ]
        },
        {
          "output_type": "stream",
          "name": "stderr",
          "text": [
            "Cannot preload entire working area of 1544613840 cells with max_cells_in_memory = 3e+07. Raster values will be read for each feature individually.\n",
            "\n"
          ]
        },
        {
          "output_type": "stream",
          "name": "stdout",
          "text": [
            "  |======================================================================| 100%\n",
            "  |======================================================================| 100%\n",
            "  |======================================================================| 100%\n"
          ]
        },
        {
          "output_type": "stream",
          "name": "stderr",
          "text": [
            "Cannot preload entire working area of 19516008420 cells with max_cells_in_memory = 3e+07. Raster values will be read for each feature individually.\n",
            "\n"
          ]
        },
        {
          "output_type": "stream",
          "name": "stdout",
          "text": [
            "  |======================================================================| 100%\n"
          ]
        },
        {
          "output_type": "stream",
          "name": "stderr",
          "text": [
            "Cannot preload entire working area of 219217551 cells with max_cells_in_memory = 3e+07. Raster values will be read for each feature individually.\n",
            "\n"
          ]
        },
        {
          "output_type": "stream",
          "name": "stdout",
          "text": [
            "  |======================================================================| 100%\n"
          ]
        },
        {
          "output_type": "stream",
          "name": "stderr",
          "text": [
            "Cannot preload entire working area of 219217551 cells with max_cells_in_memory = 3e+07. Raster values will be read for each feature individually.\n",
            "\n"
          ]
        },
        {
          "output_type": "stream",
          "name": "stdout",
          "text": [
            "  |======================================================================| 100%\n"
          ]
        },
        {
          "output_type": "stream",
          "name": "stderr",
          "text": [
            "Cannot preload entire working area of 1534522857 cells with max_cells_in_memory = 3e+07. Raster values will be read for each feature individually.\n",
            "\n"
          ]
        },
        {
          "output_type": "stream",
          "name": "stdout",
          "text": [
            "  |======================================================================| 100%\n",
            "  |======================================================================| 100%\n",
            "  |======================================================================| 100%\n"
          ]
        },
        {
          "output_type": "stream",
          "name": "stderr",
          "text": [
            "Cannot preload entire working area of 19741778400 cells with max_cells_in_memory = 3e+07. Raster values will be read for each feature individually.\n",
            "\n"
          ]
        },
        {
          "output_type": "stream",
          "name": "stdout",
          "text": [
            "  |======================================================================| 100%\n"
          ]
        },
        {
          "output_type": "stream",
          "name": "stderr",
          "text": [
            "Cannot preload entire working area of 221743737 cells with max_cells_in_memory = 3e+07. Raster values will be read for each feature individually.\n",
            "\n"
          ]
        },
        {
          "output_type": "stream",
          "name": "stdout",
          "text": [
            "  |======================================================================| 100%\n"
          ]
        },
        {
          "output_type": "stream",
          "name": "stderr",
          "text": [
            "Cannot preload entire working area of 221743737 cells with max_cells_in_memory = 3e+07. Raster values will be read for each feature individually.\n",
            "\n"
          ]
        },
        {
          "output_type": "stream",
          "name": "stdout",
          "text": [
            "  |======================================================================| 100%\n"
          ]
        },
        {
          "output_type": "stream",
          "name": "stderr",
          "text": [
            "Cannot preload entire working area of 1552206159 cells with max_cells_in_memory = 3e+07. Raster values will be read for each feature individually.\n",
            "\n"
          ]
        },
        {
          "output_type": "stream",
          "name": "stdout",
          "text": [
            "  |======================================================================| 100%\n",
            "  |======================================================================| 100%\n",
            "  |======================================================================| 100%\n"
          ]
        },
        {
          "output_type": "stream",
          "name": "stderr",
          "text": [
            "Cannot preload entire working area of 19063386210 cells with max_cells_in_memory = 3e+07. Raster values will be read for each feature individually.\n",
            "\n"
          ]
        },
        {
          "output_type": "stream",
          "name": "stdout",
          "text": [
            "  |======================================================================| 100%\n"
          ]
        },
        {
          "output_type": "stream",
          "name": "stderr",
          "text": [
            "Cannot preload entire working area of 214152966 cells with max_cells_in_memory = 3e+07. Raster values will be read for each feature individually.\n",
            "\n"
          ]
        },
        {
          "output_type": "stream",
          "name": "stdout",
          "text": [
            "  |======================================================================| 100%\n"
          ]
        },
        {
          "output_type": "stream",
          "name": "stderr",
          "text": [
            "Cannot preload entire working area of 214134765 cells with max_cells_in_memory = 3e+07. Raster values will be read for each feature individually.\n",
            "\n"
          ]
        },
        {
          "output_type": "stream",
          "name": "stdout",
          "text": [
            "  |======================================================================| 100%\n"
          ]
        },
        {
          "output_type": "stream",
          "name": "stderr",
          "text": [
            "Cannot preload entire working area of 1498943355 cells with max_cells_in_memory = 3e+07. Raster values will be read for each feature individually.\n",
            "\n"
          ]
        },
        {
          "output_type": "stream",
          "name": "stdout",
          "text": [
            "  |======================================================================| 100%\n",
            "  |======================================================================| 100%\n",
            "  |======================================================================| 100%\n"
          ]
        },
        {
          "output_type": "stream",
          "name": "stderr",
          "text": [
            "Cannot preload entire working area of 19482581840 cells with max_cells_in_memory = 3e+07. Raster values will be read for each feature individually.\n",
            "\n"
          ]
        },
        {
          "output_type": "stream",
          "name": "stdout",
          "text": [
            "  |======================================================================| 100%\n"
          ]
        },
        {
          "output_type": "stream",
          "name": "stderr",
          "text": [
            "Cannot preload entire working area of 218837968 cells with max_cells_in_memory = 3e+07. Raster values will be read for each feature individually.\n",
            "\n"
          ]
        },
        {
          "output_type": "stream",
          "name": "stdout",
          "text": [
            "  |======================================================================| 100%\n"
          ]
        },
        {
          "output_type": "stream",
          "name": "stderr",
          "text": [
            "Cannot preload entire working area of 218837968 cells with max_cells_in_memory = 3e+07. Raster values will be read for each feature individually.\n",
            "\n"
          ]
        },
        {
          "output_type": "stream",
          "name": "stdout",
          "text": [
            "  |======================================================================| 100%\n"
          ]
        },
        {
          "output_type": "stream",
          "name": "stderr",
          "text": [
            "Cannot preload entire working area of 1531865776 cells with max_cells_in_memory = 3e+07. Raster values will be read for each feature individually.\n",
            "\n"
          ]
        },
        {
          "output_type": "stream",
          "name": "stdout",
          "text": [
            "  |======================================================================| 100%\n",
            "  |======================================================================| 100%\n",
            "  |======================================================================| 100%\n"
          ]
        },
        {
          "output_type": "stream",
          "name": "stderr",
          "text": [
            "Cannot preload entire working area of 19349387200 cells with max_cells_in_memory = 3e+07. Raster values will be read for each feature individually.\n",
            "\n"
          ]
        },
        {
          "output_type": "stream",
          "name": "stdout",
          "text": [
            "  |======================================================================| 100%\n"
          ]
        },
        {
          "output_type": "stream",
          "name": "stderr",
          "text": [
            "Cannot preload entire working area of 217360220 cells with max_cells_in_memory = 3e+07. Raster values will be read for each feature individually.\n",
            "\n"
          ]
        },
        {
          "output_type": "stream",
          "name": "stdout",
          "text": [
            "  |======================================================================| 100%\n"
          ]
        },
        {
          "output_type": "stream",
          "name": "stderr",
          "text": [
            "Cannot preload entire working area of 217360220 cells with max_cells_in_memory = 3e+07. Raster values will be read for each feature individually.\n",
            "\n"
          ]
        },
        {
          "output_type": "stream",
          "name": "stdout",
          "text": [
            "  |======================================================================| 100%\n"
          ]
        },
        {
          "output_type": "stream",
          "name": "stderr",
          "text": [
            "Cannot preload entire working area of 1521521540 cells with max_cells_in_memory = 3e+07. Raster values will be read for each feature individually.\n",
            "\n"
          ]
        },
        {
          "output_type": "stream",
          "name": "stdout",
          "text": [
            "  |======================================================================| 100%\n",
            "  |======================================================================| 100%\n",
            "  |======================================================================| 100%\n"
          ]
        },
        {
          "output_type": "stream",
          "name": "stderr",
          "text": [
            "Cannot preload entire working area of 19435814640 cells with max_cells_in_memory = 3e+07. Raster values will be read for each feature individually.\n",
            "\n"
          ]
        },
        {
          "output_type": "stream",
          "name": "stdout",
          "text": [
            "  |======================================================================| 100%\n"
          ]
        },
        {
          "output_type": "stream",
          "name": "stderr",
          "text": [
            "Cannot preload entire working area of 218311224 cells with max_cells_in_memory = 3e+07. Raster values will be read for each feature individually.\n",
            "\n"
          ]
        },
        {
          "output_type": "stream",
          "name": "stdout",
          "text": [
            "  |======================================================================| 100%\n"
          ]
        },
        {
          "output_type": "stream",
          "name": "stderr",
          "text": [
            "Cannot preload entire working area of 218329551 cells with max_cells_in_memory = 3e+07. Raster values will be read for each feature individually.\n",
            "\n"
          ]
        },
        {
          "output_type": "stream",
          "name": "stdout",
          "text": [
            "  |======================================================================| 100%\n"
          ]
        },
        {
          "output_type": "stream",
          "name": "stderr",
          "text": [
            "Cannot preload entire working area of 1528306857 cells with max_cells_in_memory = 3e+07. Raster values will be read for each feature individually.\n",
            "\n"
          ]
        },
        {
          "output_type": "stream",
          "name": "stdout",
          "text": [
            "  |======================================================================| 100%\n",
            "  |======================================================================| 100%\n",
            "  |======================================================================| 100%\n"
          ]
        },
        {
          "output_type": "stream",
          "name": "stderr",
          "text": [
            "Cannot preload entire working area of 19446177240 cells with max_cells_in_memory = 3e+07. Raster values will be read for each feature individually.\n",
            "\n"
          ]
        },
        {
          "output_type": "stream",
          "name": "stdout",
          "text": [
            "  |======================================================================| 100%\n"
          ]
        },
        {
          "output_type": "stream",
          "name": "stderr",
          "text": [
            "Cannot preload entire working area of 218439513 cells with max_cells_in_memory = 3e+07. Raster values will be read for each feature individually.\n",
            "\n"
          ]
        },
        {
          "output_type": "stream",
          "name": "stdout",
          "text": [
            "  |======================================================================| 100%\n"
          ]
        },
        {
          "output_type": "stream",
          "name": "stderr",
          "text": [
            "Cannot preload entire working area of 218421186 cells with max_cells_in_memory = 3e+07. Raster values will be read for each feature individually.\n",
            "\n"
          ]
        },
        {
          "output_type": "stream",
          "name": "stdout",
          "text": [
            "  |======================================================================| 100%\n"
          ]
        },
        {
          "output_type": "stream",
          "name": "stderr",
          "text": [
            "Cannot preload entire working area of 1528948302 cells with max_cells_in_memory = 3e+07. Raster values will be read for each feature individually.\n",
            "\n"
          ]
        },
        {
          "output_type": "stream",
          "name": "stdout",
          "text": [
            "  |======================================================================| 100%\n",
            "  |======================================================================| 100%\n",
            "  |======================================================================| 100%\n"
          ]
        },
        {
          "output_type": "stream",
          "name": "stderr",
          "text": [
            "Cannot preload entire working area of 19513056410 cells with max_cells_in_memory = 3e+07. Raster values will be read for each feature individually.\n",
            "\n"
          ]
        },
        {
          "output_type": "stream",
          "name": "stdout",
          "text": [
            "  |======================================================================| 100%\n"
          ]
        },
        {
          "output_type": "stream",
          "name": "stderr",
          "text": [
            "Cannot preload entire working area of 219196728 cells with max_cells_in_memory = 3e+07. Raster values will be read for each feature individually.\n",
            "\n"
          ]
        },
        {
          "output_type": "stream",
          "name": "stdout",
          "text": [
            "  |======================================================================| 100%\n"
          ]
        },
        {
          "output_type": "stream",
          "name": "stderr",
          "text": [
            "Cannot preload entire working area of 219184752 cells with max_cells_in_memory = 3e+07. Raster values will be read for each feature individually.\n",
            "\n"
          ]
        },
        {
          "output_type": "stream",
          "name": "stdout",
          "text": [
            "  |======================================================================| 100%\n"
          ]
        },
        {
          "output_type": "stream",
          "name": "stderr",
          "text": [
            "Cannot preload entire working area of 1534293264 cells with max_cells_in_memory = 3e+07. Raster values will be read for each feature individually.\n",
            "\n"
          ]
        },
        {
          "output_type": "stream",
          "name": "stdout",
          "text": [
            "  |======================================================================| 100%\n",
            "  |======================================================================| 100%\n",
            "  |======================================================================| 100%\n"
          ]
        },
        {
          "output_type": "stream",
          "name": "stderr",
          "text": [
            "Cannot preload entire working area of 19687707820 cells with max_cells_in_memory = 3e+07. Raster values will be read for each feature individually.\n",
            "\n"
          ]
        },
        {
          "output_type": "stream",
          "name": "stdout",
          "text": [
            "  |======================================================================| 100%\n"
          ]
        },
        {
          "output_type": "stream",
          "name": "stderr",
          "text": [
            "Cannot preload entire working area of 221147892 cells with max_cells_in_memory = 3e+07. Raster values will be read for each feature individually.\n",
            "\n"
          ]
        },
        {
          "output_type": "stream",
          "name": "stdout",
          "text": [
            "  |======================================================================| 100%\n"
          ]
        },
        {
          "output_type": "stream",
          "name": "stderr",
          "text": [
            "Cannot preload entire working area of 221147892 cells with max_cells_in_memory = 3e+07. Raster values will be read for each feature individually.\n",
            "\n"
          ]
        },
        {
          "output_type": "stream",
          "name": "stdout",
          "text": [
            "  |======================================================================| 100%\n"
          ]
        },
        {
          "output_type": "stream",
          "name": "stderr",
          "text": [
            "Cannot preload entire working area of 1548035244 cells with max_cells_in_memory = 3e+07. Raster values will be read for each feature individually.\n",
            "\n"
          ]
        },
        {
          "output_type": "stream",
          "name": "stdout",
          "text": [
            "  |======================================================================| 100%\n",
            "  |======================================================================| 100%\n",
            "  |======================================================================| 100%\n"
          ]
        },
        {
          "output_type": "stream",
          "name": "stderr",
          "text": [
            "Cannot preload entire working area of 19482103140 cells with max_cells_in_memory = 3e+07. Raster values will be read for each feature individually.\n",
            "\n"
          ]
        },
        {
          "output_type": "stream",
          "name": "stdout",
          "text": [
            "  |======================================================================| 100%\n"
          ]
        },
        {
          "output_type": "stream",
          "name": "stderr",
          "text": [
            "Cannot preload entire working area of 218850660 cells with max_cells_in_memory = 3e+07. Raster values will be read for each feature individually.\n",
            "\n"
          ]
        },
        {
          "output_type": "stream",
          "name": "stdout",
          "text": [
            "  |======================================================================| 100%\n"
          ]
        },
        {
          "output_type": "stream",
          "name": "stderr",
          "text": [
            "Cannot preload entire working area of 218850660 cells with max_cells_in_memory = 3e+07. Raster values will be read for each feature individually.\n",
            "\n"
          ]
        },
        {
          "output_type": "stream",
          "name": "stdout",
          "text": [
            "  |======================================================================| 100%\n"
          ]
        },
        {
          "output_type": "stream",
          "name": "stderr",
          "text": [
            "Cannot preload entire working area of 1531954620 cells with max_cells_in_memory = 3e+07. Raster values will be read for each feature individually.\n",
            "\n"
          ]
        },
        {
          "output_type": "stream",
          "name": "stdout",
          "text": [
            "  |======================================================================| 100%\n",
            "  |======================================================================| 100%\n",
            "  |======================================================================| 100%\n"
          ]
        },
        {
          "output_type": "stream",
          "name": "stderr",
          "text": [
            "Cannot preload entire working area of 19141380440 cells with max_cells_in_memory = 3e+07. Raster values will be read for each feature individually.\n",
            "\n"
          ]
        },
        {
          "output_type": "stream",
          "name": "stdout",
          "text": [
            "  |======================================================================| 100%\n"
          ]
        },
        {
          "output_type": "stream",
          "name": "stderr",
          "text": [
            "Cannot preload entire working area of 215014360 cells with max_cells_in_memory = 3e+07. Raster values will be read for each feature individually.\n",
            "\n"
          ]
        },
        {
          "output_type": "stream",
          "name": "stdout",
          "text": [
            "  |======================================================================| 100%\n"
          ]
        },
        {
          "output_type": "stream",
          "name": "stderr",
          "text": [
            "Cannot preload entire working area of 215014360 cells with max_cells_in_memory = 3e+07. Raster values will be read for each feature individually.\n",
            "\n"
          ]
        },
        {
          "output_type": "stream",
          "name": "stdout",
          "text": [
            "  |======================================================================| 100%\n"
          ]
        },
        {
          "output_type": "stream",
          "name": "stderr",
          "text": [
            "Cannot preload entire working area of 1505100520 cells with max_cells_in_memory = 3e+07. Raster values will be read for each feature individually.\n",
            "\n"
          ]
        },
        {
          "output_type": "stream",
          "name": "stdout",
          "text": [
            "  |======================================================================| 100%\n",
            "  |======================================================================| 100%\n",
            "  |======================================================================| 100%\n"
          ]
        },
        {
          "output_type": "stream",
          "name": "stderr",
          "text": [
            "Cannot preload entire working area of 19214933100 cells with max_cells_in_memory = 3e+07. Raster values will be read for each feature individually.\n",
            "\n"
          ]
        },
        {
          "output_type": "stream",
          "name": "stdout",
          "text": [
            "  |======================================================================| 100%\n"
          ]
        },
        {
          "output_type": "stream",
          "name": "stderr",
          "text": [
            "Cannot preload entire working area of 215837872 cells with max_cells_in_memory = 3e+07. Raster values will be read for each feature individually.\n",
            "\n"
          ]
        },
        {
          "output_type": "stream",
          "name": "stdout",
          "text": [
            "  |======================================================================| 100%\n"
          ]
        },
        {
          "output_type": "stream",
          "name": "stderr",
          "text": [
            "Cannot preload entire working area of 215849633 cells with max_cells_in_memory = 3e+07. Raster values will be read for each feature individually.\n",
            "\n"
          ]
        },
        {
          "output_type": "stream",
          "name": "stdout",
          "text": [
            "  |======================================================================| 100%\n"
          ]
        },
        {
          "output_type": "stream",
          "name": "stderr",
          "text": [
            "Cannot preload entire working area of 1510947431 cells with max_cells_in_memory = 3e+07. Raster values will be read for each feature individually.\n",
            "\n"
          ]
        },
        {
          "output_type": "stream",
          "name": "stdout",
          "text": [
            "  |======================================================================| 100%\n",
            "  |======================================================================| 100%\n",
            "  |======================================================================| 100%\n"
          ]
        },
        {
          "output_type": "stream",
          "name": "stderr",
          "text": [
            "Cannot preload entire working area of 19530474220 cells with max_cells_in_memory = 3e+07. Raster values will be read for each feature individually.\n",
            "\n"
          ]
        },
        {
          "output_type": "stream",
          "name": "stdout",
          "text": [
            "  |======================================================================| 100%\n"
          ]
        },
        {
          "output_type": "stream",
          "name": "stderr",
          "text": [
            "Cannot preload entire working area of 219383252 cells with max_cells_in_memory = 3e+07. Raster values will be read for each feature individually.\n",
            "\n"
          ]
        },
        {
          "output_type": "stream",
          "name": "stdout",
          "text": [
            "  |======================================================================| 100%\n"
          ]
        },
        {
          "output_type": "stream",
          "name": "stderr",
          "text": [
            "Cannot preload entire working area of 219395310 cells with max_cells_in_memory = 3e+07. Raster values will be read for each feature individually.\n",
            "\n"
          ]
        },
        {
          "output_type": "stream",
          "name": "stdout",
          "text": [
            "  |======================================================================| 100%\n"
          ]
        },
        {
          "output_type": "stream",
          "name": "stderr",
          "text": [
            "Cannot preload entire working area of 1535767170 cells with max_cells_in_memory = 3e+07. Raster values will be read for each feature individually.\n",
            "\n"
          ]
        },
        {
          "output_type": "stream",
          "name": "stdout",
          "text": [
            "  |======================================================================| 100%\n",
            "  |======================================================================| 100%\n",
            "  |======================================================================| 100%\n"
          ]
        },
        {
          "output_type": "stream",
          "name": "stderr",
          "text": [
            "Cannot preload entire working area of 19170227340 cells with max_cells_in_memory = 3e+07. Raster values will be read for each feature individually.\n",
            "\n"
          ]
        },
        {
          "output_type": "stream",
          "name": "stdout",
          "text": [
            "  |======================================================================| 100%\n"
          ]
        },
        {
          "output_type": "stream",
          "name": "stderr",
          "text": [
            "Cannot preload entire working area of 215332299 cells with max_cells_in_memory = 3e+07. Raster values will be read for each feature individually.\n",
            "\n"
          ]
        },
        {
          "output_type": "stream",
          "name": "stdout",
          "text": [
            "  |======================================================================| 100%\n"
          ]
        },
        {
          "output_type": "stream",
          "name": "stderr",
          "text": [
            "Cannot preload entire working area of 215350512 cells with max_cells_in_memory = 3e+07. Raster values will be read for each feature individually.\n",
            "\n"
          ]
        },
        {
          "output_type": "stream",
          "name": "stdout",
          "text": [
            "  |======================================================================| 100%\n"
          ]
        },
        {
          "output_type": "stream",
          "name": "stderr",
          "text": [
            "Cannot preload entire working area of 1507453584 cells with max_cells_in_memory = 3e+07. Raster values will be read for each feature individually.\n",
            "\n"
          ]
        },
        {
          "output_type": "stream",
          "name": "stdout",
          "text": [
            "  |======================================================================| 100%\n",
            "  |======================================================================| 100%\n",
            "  |======================================================================| 100%\n"
          ]
        },
        {
          "output_type": "stream",
          "name": "stderr",
          "text": [
            "Cannot preload entire working area of 19448833770 cells with max_cells_in_memory = 3e+07. Raster values will be read for each feature individually.\n",
            "\n"
          ]
        },
        {
          "output_type": "stream",
          "name": "stdout",
          "text": [
            "  |======================================================================| 100%\n"
          ]
        },
        {
          "output_type": "stream",
          "name": "stderr",
          "text": [
            "Cannot preload entire working area of 218475228 cells with max_cells_in_memory = 3e+07. Raster values will be read for each feature individually.\n",
            "\n"
          ]
        },
        {
          "output_type": "stream",
          "name": "stdout",
          "text": [
            "  |======================================================================| 100%\n"
          ]
        },
        {
          "output_type": "stream",
          "name": "stderr",
          "text": [
            "Cannot preload entire working area of 218445005 cells with max_cells_in_memory = 3e+07. Raster values will be read for each feature individually.\n",
            "\n"
          ]
        },
        {
          "output_type": "stream",
          "name": "stdout",
          "text": [
            "  |======================================================================| 100%\n"
          ]
        },
        {
          "output_type": "stream",
          "name": "stderr",
          "text": [
            "Cannot preload entire working area of 1529115035 cells with max_cells_in_memory = 3e+07. Raster values will be read for each feature individually.\n",
            "\n"
          ]
        },
        {
          "output_type": "stream",
          "name": "stdout",
          "text": [
            "  |======================================================================| 100%\n",
            "  |======================================================================| 100%\n",
            "  |======================================================================| 100%\n"
          ]
        },
        {
          "output_type": "stream",
          "name": "stderr",
          "text": [
            "Cannot preload entire working area of 19118637540 cells with max_cells_in_memory = 3e+07. Raster values will be read for each feature individually.\n",
            "\n"
          ]
        },
        {
          "output_type": "stream",
          "name": "stdout",
          "text": [
            "  |======================================================================| 100%\n"
          ]
        },
        {
          "output_type": "stream",
          "name": "stderr",
          "text": [
            "Cannot preload entire working area of 214748112 cells with max_cells_in_memory = 3e+07. Raster values will be read for each feature individually.\n",
            "\n"
          ]
        },
        {
          "output_type": "stream",
          "name": "stdout",
          "text": [
            "  |======================================================================| 100%\n"
          ]
        },
        {
          "output_type": "stream",
          "name": "stderr",
          "text": [
            "Cannot preload entire working area of 214759870 cells with max_cells_in_memory = 3e+07. Raster values will be read for each feature individually.\n",
            "\n"
          ]
        },
        {
          "output_type": "stream",
          "name": "stdout",
          "text": [
            "  |======================================================================| 100%\n"
          ]
        },
        {
          "output_type": "stream",
          "name": "stderr",
          "text": [
            "Cannot preload entire working area of 1503319090 cells with max_cells_in_memory = 3e+07. Raster values will be read for each feature individually.\n",
            "\n"
          ]
        },
        {
          "output_type": "stream",
          "name": "stdout",
          "text": [
            "  |======================================================================| 100%\n",
            "  |======================================================================| 100%\n",
            "  |======================================================================| 100%\n"
          ]
        },
        {
          "output_type": "stream",
          "name": "stderr",
          "text": [
            "Cannot preload entire working area of 19448360750 cells with max_cells_in_memory = 3e+07. Raster values will be read for each feature individually.\n",
            "\n"
          ]
        },
        {
          "output_type": "stream",
          "name": "stdout",
          "text": [
            "  |======================================================================| 100%\n"
          ]
        },
        {
          "output_type": "stream",
          "name": "stderr",
          "text": [
            "Cannot preload entire working area of 218473910 cells with max_cells_in_memory = 3e+07. Raster values will be read for each feature individually.\n",
            "\n"
          ]
        },
        {
          "output_type": "stream",
          "name": "stdout",
          "text": [
            "  |======================================================================| 100%\n"
          ]
        },
        {
          "output_type": "stream",
          "name": "stderr",
          "text": [
            "Cannot preload entire working area of 218461900 cells with max_cells_in_memory = 3e+07. Raster values will be read for each feature individually.\n",
            "\n"
          ]
        },
        {
          "output_type": "stream",
          "name": "stdout",
          "text": [
            "  |======================================================================| 100%\n"
          ]
        },
        {
          "output_type": "stream",
          "name": "stderr",
          "text": [
            "Cannot preload entire working area of 1529233300 cells with max_cells_in_memory = 3e+07. Raster values will be read for each feature individually.\n",
            "\n"
          ]
        },
        {
          "output_type": "stream",
          "name": "stdout",
          "text": [
            "  |======================================================================| 100%\n",
            "  |======================================================================| 100%\n",
            "  |======================================================================| 100%\n"
          ]
        },
        {
          "output_type": "stream",
          "name": "stderr",
          "text": [
            "Cannot preload entire working area of 19525557100 cells with max_cells_in_memory = 3e+07. Raster values will be read for each feature individually.\n",
            "\n"
          ]
        },
        {
          "output_type": "stream",
          "name": "stdout",
          "text": [
            "  |======================================================================| 100%\n"
          ]
        },
        {
          "output_type": "stream",
          "name": "stderr",
          "text": [
            "Cannot preload entire working area of 219330276 cells with max_cells_in_memory = 3e+07. Raster values will be read for each feature individually.\n",
            "\n"
          ]
        },
        {
          "output_type": "stream",
          "name": "stdout",
          "text": [
            "  |======================================================================| 100%\n"
          ]
        },
        {
          "output_type": "stream",
          "name": "stderr",
          "text": [
            "Cannot preload entire working area of 219330276 cells with max_cells_in_memory = 3e+07. Raster values will be read for each feature individually.\n",
            "\n"
          ]
        },
        {
          "output_type": "stream",
          "name": "stdout",
          "text": [
            "  |======================================================================| 100%\n"
          ]
        },
        {
          "output_type": "stream",
          "name": "stderr",
          "text": [
            "Cannot preload entire working area of 1535311932 cells with max_cells_in_memory = 3e+07. Raster values will be read for each feature individually.\n",
            "\n"
          ]
        },
        {
          "output_type": "stream",
          "name": "stdout",
          "text": [
            "  |======================================================================| 100%\n",
            "  |======================================================================| 100%\n",
            "  |======================================================================| 100%\n"
          ]
        },
        {
          "output_type": "stream",
          "name": "stderr",
          "text": [
            "Cannot preload entire working area of 19404930480 cells with max_cells_in_memory = 3e+07. Raster values will be read for each feature individually.\n",
            "\n"
          ]
        },
        {
          "output_type": "stream",
          "name": "stdout",
          "text": [
            "  |======================================================================| 100%\n"
          ]
        },
        {
          "output_type": "stream",
          "name": "stderr",
          "text": [
            "Cannot preload entire working area of 217960415 cells with max_cells_in_memory = 3e+07. Raster values will be read for each feature individually.\n",
            "\n"
          ]
        },
        {
          "output_type": "stream",
          "name": "stdout",
          "text": [
            "  |======================================================================| 100%\n"
          ]
        },
        {
          "output_type": "stream",
          "name": "stderr",
          "text": [
            "Cannot preload entire working area of 217948470 cells with max_cells_in_memory = 3e+07. Raster values will be read for each feature individually.\n",
            "\n"
          ]
        },
        {
          "output_type": "stream",
          "name": "stdout",
          "text": [
            "  |======================================================================| 100%\n"
          ]
        },
        {
          "output_type": "stream",
          "name": "stderr",
          "text": [
            "Cannot preload entire working area of 1525639290 cells with max_cells_in_memory = 3e+07. Raster values will be read for each feature individually.\n",
            "\n"
          ]
        },
        {
          "output_type": "stream",
          "name": "stdout",
          "text": [
            "  |======================================================================| 100%\n",
            "  |======================================================================| 100%\n",
            "  |======================================================================| 100%\n"
          ]
        },
        {
          "output_type": "stream",
          "name": "stderr",
          "text": [
            "Cannot preload entire working area of 19279438250 cells with max_cells_in_memory = 3e+07. Raster values will be read for each feature individually.\n",
            "\n"
          ]
        },
        {
          "output_type": "stream",
          "name": "stdout",
          "text": [
            "  |======================================================================| 100%\n"
          ]
        },
        {
          "output_type": "stream",
          "name": "stderr",
          "text": [
            "Cannot preload entire working area of 216568593 cells with max_cells_in_memory = 3e+07. Raster values will be read for each feature individually.\n",
            "\n"
          ]
        },
        {
          "output_type": "stream",
          "name": "stdout",
          "text": [
            "  |======================================================================| 100%\n"
          ]
        },
        {
          "output_type": "stream",
          "name": "stderr",
          "text": [
            "Cannot preload entire working area of 216580356 cells with max_cells_in_memory = 3e+07. Raster values will be read for each feature individually.\n",
            "\n"
          ]
        },
        {
          "output_type": "stream",
          "name": "stdout",
          "text": [
            "  |======================================================================| 100%\n"
          ]
        },
        {
          "output_type": "stream",
          "name": "stderr",
          "text": [
            "Cannot preload entire working area of 1516062492 cells with max_cells_in_memory = 3e+07. Raster values will be read for each feature individually.\n",
            "\n"
          ]
        },
        {
          "output_type": "stream",
          "name": "stdout",
          "text": [
            "  |======================================================================| 100%\n",
            "  |======================================================================| 100%\n",
            "  |======================================================================| 100%\n"
          ]
        },
        {
          "output_type": "stream",
          "name": "stderr",
          "text": [
            "Cannot preload entire working area of 19564212880 cells with max_cells_in_memory = 3e+07. Raster values will be read for each feature individually.\n",
            "\n"
          ]
        },
        {
          "output_type": "stream",
          "name": "stdout",
          "text": [
            "  |======================================================================| 100%\n"
          ]
        },
        {
          "output_type": "stream",
          "name": "stderr",
          "text": [
            "Cannot preload entire working area of 219772273 cells with max_cells_in_memory = 3e+07. Raster values will be read for each feature individually.\n",
            "\n"
          ]
        },
        {
          "output_type": "stream",
          "name": "stdout",
          "text": [
            "  |======================================================================| 100%\n"
          ]
        },
        {
          "output_type": "stream",
          "name": "stderr",
          "text": [
            "Cannot preload entire working area of 219765864 cells with max_cells_in_memory = 3e+07. Raster values will be read for each feature individually.\n",
            "\n"
          ]
        },
        {
          "output_type": "stream",
          "name": "stdout",
          "text": [
            "  |======================================================================| 100%\n"
          ]
        },
        {
          "output_type": "stream",
          "name": "stderr",
          "text": [
            "Cannot preload entire working area of 1538361048 cells with max_cells_in_memory = 3e+07. Raster values will be read for each feature individually.\n",
            "\n"
          ]
        },
        {
          "output_type": "stream",
          "name": "stdout",
          "text": [
            "  |======================================================================| 100%\n",
            "  |======================================================================| 100%\n",
            "  |======================================================================| 100%\n"
          ]
        },
        {
          "output_type": "stream",
          "name": "stderr",
          "text": [
            "Cannot preload entire working area of 19151899200 cells with max_cells_in_memory = 3e+07. Raster values will be read for each feature individually.\n",
            "\n"
          ]
        },
        {
          "output_type": "stream",
          "name": "stdout",
          "text": [
            "  |======================================================================| 100%\n"
          ]
        },
        {
          "output_type": "stream",
          "name": "stderr",
          "text": [
            "Cannot preload entire working area of 215127906 cells with max_cells_in_memory = 3e+07. Raster values will be read for each feature individually.\n",
            "\n"
          ]
        },
        {
          "output_type": "stream",
          "name": "stdout",
          "text": [
            "  |======================================================================| 100%\n"
          ]
        },
        {
          "output_type": "stream",
          "name": "stderr",
          "text": [
            "Cannot preload entire working area of 215139699 cells with max_cells_in_memory = 3e+07. Raster values will be read for each feature individually.\n",
            "\n"
          ]
        },
        {
          "output_type": "stream",
          "name": "stdout",
          "text": [
            "  |======================================================================| 100%\n"
          ]
        },
        {
          "output_type": "stream",
          "name": "stderr",
          "text": [
            "Cannot preload entire working area of 1505977893 cells with max_cells_in_memory = 3e+07. Raster values will be read for each feature individually.\n",
            "\n"
          ]
        },
        {
          "output_type": "stream",
          "name": "stdout",
          "text": [
            "  |======================================================================| 100%\n",
            "  |======================================================================| 100%\n",
            "  |======================================================================| 100%\n"
          ]
        },
        {
          "output_type": "stream",
          "name": "stderr",
          "text": [
            "Cannot preload entire working area of 19741074100 cells with max_cells_in_memory = 3e+07. Raster values will be read for each feature individually.\n",
            "\n"
          ]
        },
        {
          "output_type": "stream",
          "name": "stdout",
          "text": [
            "  |======================================================================| 100%\n"
          ]
        },
        {
          "output_type": "stream",
          "name": "stderr",
          "text": [
            "Cannot preload entire working area of 221768412 cells with max_cells_in_memory = 3e+07. Raster values will be read for each feature individually.\n",
            "\n"
          ]
        },
        {
          "output_type": "stream",
          "name": "stdout",
          "text": [
            "  |======================================================================| 100%\n"
          ]
        },
        {
          "output_type": "stream",
          "name": "stderr",
          "text": [
            "Cannot preload entire working area of 221756341 cells with max_cells_in_memory = 3e+07. Raster values will be read for each feature individually.\n",
            "\n"
          ]
        },
        {
          "output_type": "stream",
          "name": "stdout",
          "text": [
            "  |======================================================================| 100%\n"
          ]
        },
        {
          "output_type": "stream",
          "name": "stderr",
          "text": [
            "Cannot preload entire working area of 1552294387 cells with max_cells_in_memory = 3e+07. Raster values will be read for each feature individually.\n",
            "\n"
          ]
        },
        {
          "output_type": "stream",
          "name": "stdout",
          "text": [
            "  |======================================================================| 100%\n",
            "  |======================================================================| 100%\n",
            "  |======================================================================| 100%\n"
          ]
        },
        {
          "output_type": "stream",
          "name": "stderr",
          "text": [
            "Cannot preload entire working area of 19686195200 cells with max_cells_in_memory = 3e+07. Raster values will be read for each feature individually.\n",
            "\n"
          ]
        },
        {
          "output_type": "stream",
          "name": "stdout",
          "text": [
            "  |======================================================================| 100%\n"
          ]
        },
        {
          "output_type": "stream",
          "name": "stderr",
          "text": [
            "Cannot preload entire working area of 221128908 cells with max_cells_in_memory = 3e+07. Raster values will be read for each feature individually.\n",
            "\n"
          ]
        },
        {
          "output_type": "stream",
          "name": "stdout",
          "text": [
            "  |======================================================================| 100%\n"
          ]
        },
        {
          "output_type": "stream",
          "name": "stderr",
          "text": [
            "Cannot preload entire working area of 221128908 cells with max_cells_in_memory = 3e+07. Raster values will be read for each feature individually.\n",
            "\n"
          ]
        },
        {
          "output_type": "stream",
          "name": "stdout",
          "text": [
            "  |======================================================================| 100%\n"
          ]
        },
        {
          "output_type": "stream",
          "name": "stderr",
          "text": [
            "Cannot preload entire working area of 1547902356 cells with max_cells_in_memory = 3e+07. Raster values will be read for each feature individually.\n",
            "\n"
          ]
        },
        {
          "output_type": "stream",
          "name": "stdout",
          "text": [
            "  |======================================================================| 100%\n",
            "  |======================================================================| 100%\n",
            "  |======================================================================| 100%\n"
          ]
        },
        {
          "output_type": "stream",
          "name": "stderr",
          "text": [
            "Cannot preload entire working area of 19702673600 cells with max_cells_in_memory = 3e+07. Raster values will be read for each feature individually.\n",
            "\n"
          ]
        },
        {
          "output_type": "stream",
          "name": "stdout",
          "text": [
            "  |======================================================================| 100%\n"
          ]
        },
        {
          "output_type": "stream",
          "name": "stderr",
          "text": [
            "Cannot preload entire working area of 221325020 cells with max_cells_in_memory = 3e+07. Raster values will be read for each feature individually.\n",
            "\n"
          ]
        },
        {
          "output_type": "stream",
          "name": "stdout",
          "text": [
            "  |======================================================================| 100%\n"
          ]
        },
        {
          "output_type": "stream",
          "name": "stderr",
          "text": [
            "Cannot preload entire working area of 221312998 cells with max_cells_in_memory = 3e+07. Raster values will be read for each feature individually.\n",
            "\n"
          ]
        },
        {
          "output_type": "stream",
          "name": "stdout",
          "text": [
            "  |======================================================================| 100%\n"
          ]
        },
        {
          "output_type": "stream",
          "name": "stderr",
          "text": [
            "Cannot preload entire working area of 1549190986 cells with max_cells_in_memory = 3e+07. Raster values will be read for each feature individually.\n",
            "\n"
          ]
        },
        {
          "output_type": "stream",
          "name": "stdout",
          "text": [
            "  |======================================================================| 100%\n",
            "  |======================================================================| 100%\n",
            "  |======================================================================| 100%\n"
          ]
        },
        {
          "output_type": "stream",
          "name": "stderr",
          "text": [
            "Cannot preload entire working area of 19185660780 cells with max_cells_in_memory = 3e+07. Raster values will be read for each feature individually.\n",
            "\n"
          ]
        },
        {
          "output_type": "stream",
          "name": "stdout",
          "text": [
            "  |======================================================================| 100%\n"
          ]
        },
        {
          "output_type": "stream",
          "name": "stderr",
          "text": [
            "Cannot preload entire working area of 215517156 cells with max_cells_in_memory = 3e+07. Raster values will be read for each feature individually.\n",
            "\n"
          ]
        },
        {
          "output_type": "stream",
          "name": "stdout",
          "text": [
            "  |======================================================================| 100%\n"
          ]
        },
        {
          "output_type": "stream",
          "name": "stderr",
          "text": [
            "Cannot preload entire working area of 215498952 cells with max_cells_in_memory = 3e+07. Raster values will be read for each feature individually.\n",
            "\n"
          ]
        },
        {
          "output_type": "stream",
          "name": "stdout",
          "text": [
            "  |======================================================================| 100%\n"
          ]
        },
        {
          "output_type": "stream",
          "name": "stderr",
          "text": [
            "Cannot preload entire working area of 1508492664 cells with max_cells_in_memory = 3e+07. Raster values will be read for each feature individually.\n",
            "\n"
          ]
        },
        {
          "output_type": "stream",
          "name": "stdout",
          "text": [
            "  |======================================================================| 100%\n",
            "  |======================================================================| 100%\n",
            "  |======================================================================| 100%\n"
          ]
        },
        {
          "output_type": "stream",
          "name": "stderr",
          "text": [
            "Cannot preload entire working area of 19101322280 cells with max_cells_in_memory = 3e+07. Raster values will be read for each feature individually.\n",
            "\n"
          ]
        },
        {
          "output_type": "stream",
          "name": "stdout",
          "text": [
            "  |======================================================================| 100%\n"
          ]
        },
        {
          "output_type": "stream",
          "name": "stderr",
          "text": [
            "Cannot preload entire working area of 214566744 cells with max_cells_in_memory = 3e+07. Raster values will be read for each feature individually.\n",
            "\n"
          ]
        },
        {
          "output_type": "stream",
          "name": "stdout",
          "text": [
            "  |======================================================================| 100%\n"
          ]
        },
        {
          "output_type": "stream",
          "name": "stderr",
          "text": [
            "Cannot preload entire working area of 214548585 cells with max_cells_in_memory = 3e+07. Raster values will be read for each feature individually.\n",
            "\n"
          ]
        },
        {
          "output_type": "stream",
          "name": "stdout",
          "text": [
            "  |======================================================================| 100%\n"
          ]
        },
        {
          "output_type": "stream",
          "name": "stderr",
          "text": [
            "Cannot preload entire working area of 1501840095 cells with max_cells_in_memory = 3e+07. Raster values will be read for each feature individually.\n",
            "\n"
          ]
        },
        {
          "output_type": "stream",
          "name": "stdout",
          "text": [
            "  |======================================================================| 100%\n",
            "  |======================================================================| 100%\n",
            "  |======================================================================| 100%\n"
          ]
        },
        {
          "output_type": "stream",
          "name": "stderr",
          "text": [
            "Cannot preload entire working area of 19170679200 cells with max_cells_in_memory = 3e+07. Raster values will be read for each feature individually.\n",
            "\n"
          ]
        },
        {
          "output_type": "stream",
          "name": "stdout",
          "text": [
            "  |======================================================================| 100%\n"
          ]
        },
        {
          "output_type": "stream",
          "name": "stderr",
          "text": [
            "Cannot preload entire working area of 215333424 cells with max_cells_in_memory = 3e+07. Raster values will be read for each feature individually.\n",
            "\n"
          ]
        },
        {
          "output_type": "stream",
          "name": "stdout",
          "text": [
            "  |======================================================================| 100%\n"
          ]
        },
        {
          "output_type": "stream",
          "name": "stderr",
          "text": [
            "Cannot preload entire working area of 215345196 cells with max_cells_in_memory = 3e+07. Raster values will be read for each feature individually.\n",
            "\n"
          ]
        },
        {
          "output_type": "stream",
          "name": "stdout",
          "text": [
            "  |======================================================================| 100%\n"
          ]
        },
        {
          "output_type": "stream",
          "name": "stderr",
          "text": [
            "Cannot preload entire working area of 1507416372 cells with max_cells_in_memory = 3e+07. Raster values will be read for each feature individually.\n",
            "\n"
          ]
        },
        {
          "output_type": "stream",
          "name": "stdout",
          "text": [
            "  |======================================================================| 100%\n",
            "  |======================================================================| 100%\n",
            "  |======================================================================| 100%\n"
          ]
        },
        {
          "output_type": "stream",
          "name": "stderr",
          "text": [
            "Cannot preload entire working area of 19639817100 cells with max_cells_in_memory = 3e+07. Raster values will be read for each feature individually.\n",
            "\n"
          ]
        },
        {
          "output_type": "stream",
          "name": "stdout",
          "text": [
            "  |======================================================================| 100%\n"
          ]
        },
        {
          "output_type": "stream",
          "name": "stderr",
          "text": [
            "Cannot preload entire working area of 220606848 cells with max_cells_in_memory = 3e+07. Raster values will be read for each feature individually.\n",
            "\n"
          ]
        },
        {
          "output_type": "stream",
          "name": "stdout",
          "text": [
            "  |======================================================================| 100%\n"
          ]
        },
        {
          "output_type": "stream",
          "name": "stderr",
          "text": [
            "Cannot preload entire working area of 220606848 cells with max_cells_in_memory = 3e+07. Raster values will be read for each feature individually.\n",
            "\n"
          ]
        },
        {
          "output_type": "stream",
          "name": "stdout",
          "text": [
            "  |======================================================================| 100%\n"
          ]
        },
        {
          "output_type": "stream",
          "name": "stderr",
          "text": [
            "Cannot preload entire working area of 1544247936 cells with max_cells_in_memory = 3e+07. Raster values will be read for each feature individually.\n",
            "\n"
          ]
        },
        {
          "output_type": "stream",
          "name": "stdout",
          "text": [
            "  |======================================================================| 100%\n",
            "  |======================================================================| 100%\n",
            "  |======================================================================| 100%\n"
          ]
        },
        {
          "output_type": "stream",
          "name": "stderr",
          "text": [
            "Cannot preload entire working area of 19328182120 cells with max_cells_in_memory = 3e+07. Raster values will be read for each feature individually.\n",
            "\n"
          ]
        },
        {
          "output_type": "stream",
          "name": "stdout",
          "text": [
            "  |======================================================================| 100%\n"
          ]
        },
        {
          "output_type": "stream",
          "name": "stderr",
          "text": [
            "Cannot preload entire working area of 217111204 cells with max_cells_in_memory = 3e+07. Raster values will be read for each feature individually.\n",
            "\n"
          ]
        },
        {
          "output_type": "stream",
          "name": "stdout",
          "text": [
            "  |======================================================================| 100%\n"
          ]
        },
        {
          "output_type": "stream",
          "name": "stderr",
          "text": [
            "Cannot preload entire working area of 217093176 cells with max_cells_in_memory = 3e+07. Raster values will be read for each feature individually.\n",
            "\n"
          ]
        },
        {
          "output_type": "stream",
          "name": "stdout",
          "text": [
            "  |======================================================================| 100%\n"
          ]
        },
        {
          "output_type": "stream",
          "name": "stderr",
          "text": [
            "Cannot preload entire working area of 1519652232 cells with max_cells_in_memory = 3e+07. Raster values will be read for each feature individually.\n",
            "\n"
          ]
        },
        {
          "output_type": "stream",
          "name": "stdout",
          "text": [
            "  |======================================================================| 100%\n",
            "  |======================================================================| 100%\n",
            "  |======================================================================| 100%\n"
          ]
        },
        {
          "output_type": "stream",
          "name": "stderr",
          "text": [
            "Cannot preload entire working area of 19149584400 cells with max_cells_in_memory = 3e+07. Raster values will be read for each feature individually.\n",
            "\n"
          ]
        },
        {
          "output_type": "stream",
          "name": "stdout",
          "text": [
            "  |======================================================================| 100%\n"
          ]
        },
        {
          "output_type": "stream",
          "name": "stderr",
          "text": [
            "Cannot preload entire working area of 215131760 cells with max_cells_in_memory = 3e+07. Raster values will be read for each feature individually.\n",
            "\n"
          ]
        },
        {
          "output_type": "stream",
          "name": "stdout",
          "text": [
            "  |======================================================================| 100%\n"
          ]
        },
        {
          "output_type": "stream",
          "name": "stderr",
          "text": [
            "Cannot preload entire working area of 215113440 cells with max_cells_in_memory = 3e+07. Raster values will be read for each feature individually.\n",
            "\n"
          ]
        },
        {
          "output_type": "stream",
          "name": "stdout",
          "text": [
            "  |======================================================================| 100%\n"
          ]
        },
        {
          "output_type": "stream",
          "name": "stderr",
          "text": [
            "Cannot preload entire working area of 1505794080 cells with max_cells_in_memory = 3e+07. Raster values will be read for each feature individually.\n",
            "\n"
          ]
        },
        {
          "output_type": "stream",
          "name": "stdout",
          "text": [
            "  |======================================================================| 100%\n",
            "  |======================================================================| 100%\n",
            "  |======================================================================| 100%\n"
          ]
        }
      ]
    },
    {
      "cell_type": "code",
      "source": [
        "# Write to GeoPackage\n",
        "sim_dt %>% st_write(\"/content/sim_results.gpkg\")"
      ],
      "metadata": {
        "id": "VnxBhpa9WOK0",
        "outputId": "471eb8b6-e5fa-463d-9aed-c155b73cf425",
        "colab": {
          "base_uri": "https://localhost:8080/",
          "height": 319
        }
      },
      "execution_count": 23,
      "outputs": [
        {
          "output_type": "stream",
          "name": "stdout",
          "text": [
            "Layer sim_results in dataset /content/sim_results.gpkg already exists:\n",
            "use either append=TRUE to append to layer or append=FALSE to overwrite layer\n"
          ]
        },
        {
          "output_type": "error",
          "ename": "ERROR",
          "evalue": "ignored",
          "traceback": [
            "Error in eval(expr, envir, enclos): Dataset already exists.\n\nTraceback:\n",
            "1. sim_dt %>% st_write(\"/content/sim_results.gpkg\")",
            "2. st_write(., \"/content/sim_results.gpkg\")",
            "3. st_write.data.frame(., \"/content/sim_results.gpkg\")",
            "4. st_write.sf(sf, dsn = dsn, layer = layer, ...)",
            "5. CPL_write_ogr(obj, dsn, layer, driver, as.character(dataset_options), \n .     as.character(layer_options), geom, dim, fids, config_options, \n .     quiet, append, delete_dsn, delete_layer, write_geometries, \n .     getOption(\"width\"))"
          ]
        }
      ]
    },
    {
      "cell_type": "code",
      "source": [
        "# 1uVZCzCb5gRE8wfZckspRuKz1TQd5LpeM\n",
        "drive_upload(\"/content/sim_results_2.gpkg\", path = as_id(\"1uVZCzCb5gRE8wfZckspRuKz1TQd5LpeM\"))"
      ],
      "metadata": {
        "id": "d4KevyDNXPgo"
      },
      "execution_count": null,
      "outputs": []
    },
    {
      "cell_type": "code",
      "source": [
        "# sim_dt"
      ],
      "metadata": {
        "id": "FB2Kru8Fcdpi"
      },
      "execution_count": 159,
      "outputs": []
    },
    {
      "cell_type": "code",
      "source": [
        "sim_dt %>%\n",
        "  ggplot(aes(y=C_TOTAL_PCT,x=predicted))+\n",
        "    geom_point()"
      ],
      "metadata": {
        "id": "Kdno5JZ0Yev5",
        "outputId": "bf2d2797-3de6-4b18-a820-09e31a30290b",
        "colab": {
          "base_uri": "https://localhost:8080/",
          "height": 497
        }
      },
      "execution_count": 215,
      "outputs": [
        {
          "output_type": "display_data",
          "data": {
            "text/plain": [
              "plot without title"
            ],
            "image/png": "[encoded data removed]"
          },
          "metadata": {
            "image/png": {
              "width": 1200,
              "height": 480
            }
          }
        }
      ]
    },
    {
      "cell_type": "code",
      "source": [
        "# Load the necessary library\n",
        "library(repr)\n",
        "\n",
        "# Adjust width and height of plots\n",
        "options(repr.plot.width=20, repr.plot.height=8)"
      ],
      "metadata": {
        "id": "ysaNMETsScgE"
      },
      "execution_count": 202,
      "outputs": []
    },
    {
      "cell_type": "code",
      "source": [
        "# for(i in 1:10){\n",
        "\n",
        "sim_dt[,residual := predicted-C_TOTAL_PCT]\n",
        "\n",
        "sim_dt[,residual_per := residual/C_TOTAL_PCT]\n",
        "\n",
        "samp_dt <- sim_dt[residual_per>-.05 &residual_per <.05]\n",
        "plot <- sample(samp_dt$PLOT,1)\n",
        "# print(plot)\n",
        "(samp_dt[PLOT==plot] %>% melt(id.vars = c(\"PLOT\",\"C_TOTAL_PCT\",\"dummy_geom\",\"predicted\",'residual','residual_per')) %>%\n",
        "  ggplot(aes(x=variable,y=value))+\n",
        "  geom_boxplot() )%>% plot\n",
        "# }"
      ],
      "metadata": {
        "id": "0dXkvQ6lQVri",
        "outputId": "c102ba2a-2b72-41ba-cfe7-a4e4f54738bc",
        "colab": {
          "base_uri": "https://localhost:8080/",
          "height": 497
        }
      },
      "execution_count": 217,
      "outputs": [
        {
          "output_type": "display_data",
          "data": {
            "text/plain": [
              "plot without title"
            ],
            "image/png": "[encoded data removed]"
          },
          "metadata": {
            "image/png": {
              "width": 1200,
              "height": 480
            }
          }
        }
      ]
    },
    {
      "cell_type": "code",
      "source": [],
      "metadata": {
        "id": "qsoXgH7N44kI"
      },
      "execution_count": null,
      "outputs": []
    },
    {
      "cell_type": "code",
      "source": [
        "dummy_geom <- grid_dt[grid_int_dt %>% lapply(function(x){sample(x,1)}) %>% unlist,] %>% st_as_sf() %>% st_transform(4135) %>% st_buffer(2500) %>% st_transform(4326)"
      ],
      "metadata": {
        "id": "z_7skpyBBRUc"
      },
      "execution_count": 57,
      "outputs": []
    },
    {
      "cell_type": "code",
      "source": [
        "fia_dt$dummy_geom <- dummy_geom$geom"
      ],
      "metadata": {
        "id": "8r_yhCm4CDG5"
      },
      "execution_count": 58,
      "outputs": []
    },
    {
      "cell_type": "code",
      "source": [
        "example_poly <- (fia_dt %>%data.table)[,c('C_TOTAL_PCT','dummy_geom')]"
      ],
      "metadata": {
        "id": "fu0NUTJNeSkq"
      },
      "execution_count": 59,
      "outputs": []
    },
    {
      "cell_type": "code",
      "source": [
        "rf_dt <- data.table(example_poly,exact_extract(raster_list[[6]],example_poly %>% st_as_sf,'mean') %>% data.table)"
      ],
      "metadata": {
        "colab": {
          "base_uri": "https://localhost:8080/"
        },
        "id": "9pSq2Qi2ep5b",
        "outputId": "a11d490b-d077-4d43-a55f-3ae59f453d85"
      },
      "execution_count": 60,
      "outputs": [
        {
          "output_type": "stream",
          "name": "stdout",
          "text": [
            "  |======================================================================| 100%\n"
          ]
        }
      ]
    },
    {
      "cell_type": "code",
      "source": [
        "# rf_dt"
      ],
      "metadata": {
        "id": "_wE_GD_FCTqg"
      },
      "execution_count": 61,
      "outputs": []
    },
    {
      "cell_type": "code",
      "source": [
        "names(rf_dt)[-c(1,2)] <- c(\"aet\", \"def\", \"pdsi\", \"pet\", \"pr\", \"ro\", \"soil\", \"srad\", \"swe\", \"tmmn\", \"tmmx\", \"vap\", \"vpd\", \"vs\")\n"
      ],
      "metadata": {
        "id": "bTUeAX4tZVed"
      },
      "execution_count": 62,
      "outputs": []
    },
    {
      "cell_type": "code",
      "source": [
        "rf_form <- as.formula(paste0('C_TOTAL_PCT~',paste((rf_dt %>% names)[-c(1,2)],collapse = '+')))\n",
        "rf_form"
      ],
      "metadata": {
        "id": "ewIMuwbKVql9",
        "outputId": "bced38e4-f1f4-4d3e-d262-878036e1639d",
        "colab": {
          "base_uri": "https://localhost:8080/",
          "height": 52
        }
      },
      "execution_count": 71,
      "outputs": [
        {
          "output_type": "display_data",
          "data": {
            "text/plain": [
              "C_TOTAL_PCT ~ aet + def + pdsi + pet + pr + ro + soil + srad + \n",
              "    swe + tmmn + tmmx + vap + vpd + vs"
            ]
          },
          "metadata": {}
        }
      ]
    },
    {
      "cell_type": "code",
      "source": [
        "rf_terra <- randomForest(rf_form,rf_dt[complete.cases(rf_dt[,-2]),],verbose=T)\n",
        "rf_terra %>% varImpPlot\n",
        "rf_terra"
      ],
      "metadata": {
        "id": "i1ScnibaYIJR",
        "outputId": "96695085-e076-4d5b-b88d-5dcdb48e0d01",
        "colab": {
          "base_uri": "https://localhost:8080/",
          "height": 611
        }
      },
      "execution_count": 72,
      "outputs": [
        {
          "output_type": "display_data",
          "data": {
            "text/plain": [
              "\n",
              "Call:\n",
              " randomForest(formula = rf_form, data = rf_dt[complete.cases(rf_dt[,      -2]), ], verbose = T) \n",
              "               Type of random forest: regression\n",
              "                     Number of trees: 500\n",
              "No. of variables tried at each split: 4\n",
              "\n",
              "          Mean of squared residuals: 51.29394\n",
              "                    % Var explained: 20.63"
            ]
          },
          "metadata": {}
        },
        {
          "output_type": "display_data",
          "data": {
            "text/plain": [
              "Plot with title “.”"
            ],
            "image/png": "[encoded data removed]"
          },
          "metadata": {
            "image/png": {
              "width": 420,
              "height": 420
            }
          }
        }
      ]
    },
    {
      "cell_type": "code",
      "source": [
        "data.frame(field = rf_terra$y,predicted = rf_terra$predicted) %>%\n",
        "  ggplot(aes(x=predicted,y=field))+\n",
        "  geom_point()"
      ],
      "metadata": {
        "id": "LN28tBLwYYZv",
        "outputId": "c32151cf-081b-43c0-8801-dded6625c402",
        "colab": {
          "base_uri": "https://localhost:8080/",
          "height": 437
        }
      },
      "execution_count": 84,
      "outputs": [
        {
          "output_type": "display_data",
          "data": {
            "text/plain": [
              "plot without title"
            ],
            "image/png": "[encoded data removed]"
          },
          "metadata": {
            "image/png": {
              "width": 420,
              "height": 420
            }
          }
        }
      ]
    }
  ]
}