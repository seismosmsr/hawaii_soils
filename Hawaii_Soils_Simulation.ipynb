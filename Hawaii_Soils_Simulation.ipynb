{
  "nbformat": 4,
  "nbformat_minor": 0,
  "metadata": {
    "colab": {
      "provenance": [],
      "machine_shape": "hm",
      "authorship_tag": "ABX9TyPi1bwjfe04h5j8lCTUd1uz",
      "include_colab_link": true
    },
    "kernelspec": {
      "name": "ir",
      "display_name": "R"
    },
    "language_info": {
      "name": "R"
    }
  },
  "cells": [
    {
      "cell_type": "markdown",
      "metadata": {
        "id": "view-in-github",
        "colab_type": "text"
      },
      "source": [
        "<a href=\"https://colab.research.google.com/github/seismosmsr/hawaii_soils/blob/main/Hawaii_Soils_Simulation.ipynb\" target=\"_parent\"><img src=\"https://colab.research.google.com/assets/colab-badge.svg\" alt=\"Open In Colab\"/></a>"
      ]
    },
    {
      "cell_type": "code",
      "execution_count": 1,
      "metadata": {
        "colab": {
          "base_uri": "https://localhost:8080/"
        },
        "id": "w3b2Yt1zzBa4",
        "outputId": "1ad0ff93-121d-4556-c7d2-546430947aef"
      },
      "outputs": [
        {
          "output_type": "stream",
          "name": "stderr",
          "text": [
            "Installing package into ‘/usr/local/lib/R/site-library’\n",
            "(as ‘lib’ is unspecified)\n",
            "\n",
            "also installing the dependencies ‘proxy’, ‘e1071’, ‘wk’, ‘classInt’, ‘Rcpp’, ‘s2’, ‘units’\n",
            "\n",
            "\n",
            "Installing package into ‘/usr/local/lib/R/site-library’\n",
            "(as ‘lib’ is unspecified)\n",
            "\n",
            "also installing the dependencies ‘sp’, ‘terra’\n",
            "\n",
            "\n",
            "Installing package into ‘/usr/local/lib/R/site-library’\n",
            "(as ‘lib’ is unspecified)\n",
            "\n",
            "Installing package into ‘/usr/local/lib/R/site-library’\n",
            "(as ‘lib’ is unspecified)\n",
            "\n",
            "Installing package into ‘/usr/local/lib/R/site-library’\n",
            "(as ‘lib’ is unspecified)\n",
            "\n",
            "Warning message:\n",
            "“package ‘googletoken’ is not available for this version of R\n",
            "\n",
            "A version of this package for your version of R might be available elsewhere,\n",
            "see the ideas at\n",
            "https://cran.r-project.org/doc/manuals/r-patched/R-admin.html#Installing-packages”\n",
            "Installing package into ‘/usr/local/lib/R/site-library’\n",
            "(as ‘lib’ is unspecified)\n",
            "\n",
            "Installing package into ‘/usr/local/lib/R/site-library’\n",
            "(as ‘lib’ is unspecified)\n",
            "\n",
            "also installing the dependency ‘plogr’\n",
            "\n",
            "\n",
            "Installing package into ‘/usr/local/lib/R/site-library’\n",
            "(as ‘lib’ is unspecified)\n",
            "\n",
            "Installing package into ‘/usr/local/lib/R/site-library’\n",
            "(as ‘lib’ is unspecified)\n",
            "\n",
            "Installing package into ‘/usr/local/lib/R/site-library’\n",
            "(as ‘lib’ is unspecified)\n",
            "\n"
          ]
        }
      ],
      "source": [
        "install.packages('sf')\n",
        "install.packages('raster')\n",
        "install.packages('exactextractr')\n",
        "install.packages(\"googledrive\")\n",
        "install.packages(\"googletoken\")\n",
        "install.packages(\"DBI\")\n",
        "install.packages(\"RSQLite\")\n",
        "install.packages(\"RPostgreSQL\")\n",
        "install.packages(\"terra\")\n",
        "install.packages('randomForest')"
      ]
    },
    {
      "cell_type": "code",
      "source": [
        "library(ggplot2)\n",
        "library(sf)\n",
        "library(magrittr)\n",
        "library(data.table)\n",
        "library(raster)\n",
        "library(exactextractr)\n",
        "library(googledrive)\n",
        "library(DBI)\n",
        "library(terra)\n",
        "library(randomForest)\n",
        "library(parallel)"
      ],
      "metadata": {
        "id": "Jt8zFz1p0QRy"
      },
      "execution_count": 78,
      "outputs": []
    },
    {
      "cell_type": "code",
      "source": [
        "drive_auth(use_oob = TRUE, cache = FALSE)"
      ],
      "metadata": {
        "colab": {
          "base_uri": "https://localhost:8080/"
        },
        "id": "TIp-5Lr90ULs",
        "outputId": "02b00a05-5e52-4df7-dfa6-7ee6db0199c2"
      },
      "execution_count": 3,
      "outputs": [
        {
          "output_type": "stream",
          "name": "stderr",
          "text": [
            "Please point your browser to the following url: \n",
            "\n",
            "https://accounts.google.com/o/oauth2/v2/auth?client_id=603366585132-frjlouoa3s2ono25d2l9ukvhlsrlnr7k.apps.googleusercontent.com&scope=https%3A%2F%2Fwww.googleapis.com%2Fauth%2Fdrive%20https%3A%2F%2Fwww.googleapis.com%2Fauth%2Fuserinfo.email&redirect_uri=https%3A%2F%2Fwww.tidyverse.org%2Fgoogle-callback%2F&response_type=code&state=12c4f861d89206df11cdec76e2f16b03&access_type=offline&prompt=consent\n",
            "\n"
          ]
        },
        {
          "name": "stdout",
          "output_type": "stream",
          "text": [
            "Enter authorization code: eyJjb2RlIjoiNC8wQWZKb2hYbjRvdEMyc1ZNS012STh5X2hIeFZMSkx5cVoxQkJPREdXeXhtQS1BVUJCUjMtNnVXdUZwR0plVG5zRDhwenBtUSIsInN0YXRlIjoiMTJjNGY4NjFkODkyMDZkZjExY2RlYzc2ZTJmMTZiMDMifQ==\n"
          ]
        }
      ]
    },
    {
      "cell_type": "code",
      "source": [
        "# https://drive.google.com/file/d/1ryTzWz0t9mgI5ynPvMzM21D135dLJvWv/view?usp=drive_link\n",
        "# Updated: https://drive.google.com/file/d/17c3DJcujQ_0MHirG2z2lSU88A0lvjo1C/view?usp=sharing\n",
        "drive_download(as_id('17c3DJcujQ_0MHirG2z2lSU88A0lvjo1C'), path = paste0('/content/fia.csv'), overwrite = TRUE)\n",
        "fia_dt <-  st_read('/content/fia.csv') %>% st_as_sf(coords = c(\"LON\",\"LAT\"), crs = 4326) %>% data.table"
      ],
      "metadata": {
        "id": "GIyOF5ltSRpq",
        "outputId": "4ffdb1be-2aee-444e-8235-239822a6dd57",
        "colab": {
          "base_uri": "https://localhost:8080/"
        }
      },
      "execution_count": 18,
      "outputs": [
        {
          "output_type": "stream",
          "name": "stderr",
          "text": [
            "File downloaded:\n",
            "\n",
            "• \u001b[36m2023_11_01FIA_soil_subset.csv\u001b[39m \u001b[90m<id: 17c3DJcujQ_0MHirG2z2lSU88A0lvjo1C>\u001b[39m\n",
            "\n",
            "Saved locally as:\n",
            "\n",
            "• \u001b[34m/content/fia.csv\u001b[39m\n",
            "\n"
          ]
        },
        {
          "output_type": "stream",
          "name": "stdout",
          "text": [
            "Reading layer `fia' from data source `/content/fia.csv' using driver `CSV'\n"
          ]
        },
        {
          "output_type": "stream",
          "name": "stderr",
          "text": [
            "Warning message:\n",
            "“no simple feature geometries present: returning a data.frame or tbl_df”\n"
          ]
        }
      ]
    },
    {
      "cell_type": "code",
      "source": [
        "# https://drive.google.com/file/d/1G-qBpO_nzLIHWZQGNyrSutmBonjsrvEJ/view?usp=drive_link\n",
        "drive_download(as_id('1G-qBpO_nzLIHWZQGNyrSutmBonjsrvEJ'), path = \"/content/250_summary_grid_dt.gpkg\", overwrite = TRUE)\n",
        "grid_dt <- st_read(\"/content/250_summary_grid_dt.gpkg\") %>% st_transform(4326) %>% data.table()"
      ],
      "metadata": {
        "colab": {
          "base_uri": "https://localhost:8080/"
        },
        "id": "6i5eFIGc1vby",
        "outputId": "307a72c3-d10b-4753-dbe3-07fbd2c77dc8"
      },
      "execution_count": 165,
      "outputs": [
        {
          "output_type": "stream",
          "name": "stderr",
          "text": [
            "File downloaded:\n",
            "\n",
            "• \u001b[36m250_summary_grid_full_dt.gpkg\u001b[39m \u001b[90m<id: 1G-qBpO_nzLIHWZQGNyrSutmBonjsrvEJ>\u001b[39m\n",
            "\n",
            "Saved locally as:\n",
            "\n",
            "• \u001b[34m/content/250_summary_grid_dt.gpkg\u001b[39m\n",
            "\n"
          ]
        },
        {
          "output_type": "stream",
          "name": "stdout",
          "text": [
            "Reading layer `250_summary_grid_full_dt' from data source \n",
            "  `/content/250_summary_grid_dt.gpkg' using driver `GPKG'\n",
            "Simple feature collection with 227561 features and 35 fields\n",
            "Geometry type: POINT\n",
            "Dimension:     XY\n",
            "Bounding box:  xmin: 57161.36 ymin: 16952.32 xmax: 572661.4 ymax: 381202.3\n",
            "Projected CRS: NAD_1983_HARN_StatePlane_Hawaii_1_FIPS_5101\n"
          ]
        }
      ]
    },
    {
      "cell_type": "code",
      "source": [
        "grid_dt <- grid_dt[trees >0.5 & !is.na(agbd_m)]"
      ],
      "metadata": {
        "id": "CbUGrfuuUaiY"
      },
      "execution_count": 166,
      "outputs": []
    },
    {
      "cell_type": "code",
      "source": [
        "grid_int_dt  <- fia_dt$geom %>% st_transform(4135) %>% st_buffer(800) %>% st_transform(4326) %>% st_intersects(grid_dt$geom)"
      ],
      "metadata": {
        "id": "0A-fL1krTbA_"
      },
      "execution_count": 266,
      "outputs": []
    },
    {
      "cell_type": "code",
      "source": [
        "rm_vec <- grid_int_dt %>% lapply(length) %>% unlist > 0\n",
        "grid_int_dt <- grid_int_dt[rm_vec]\n",
        "fia_dt <- fia_dt[rm_vec,]"
      ],
      "metadata": {
        "id": "isEeYbV1UDV9"
      },
      "execution_count": 267,
      "outputs": []
    },
    {
      "cell_type": "code",
      "source": [
        "grid_dt <- grid_dt[!is.na(srad),]"
      ],
      "metadata": {
        "id": "GuKe5EAqAWtK"
      },
      "execution_count": 268,
      "outputs": []
    },
    {
      "cell_type": "code",
      "source": [
        "grid_dt$agbd_n <- grid_dt$agbd_n %>% as.numeric"
      ],
      "metadata": {
        "id": "XsFPDjw_BHKX"
      },
      "execution_count": 269,
      "outputs": []
    },
    {
      "cell_type": "code",
      "source": [
        "fia_dt$Stock_SOC_Mg_Ha <- fia_dt$Stock_SOC_Mg_Ha %>% as.numeric"
      ],
      "metadata": {
        "id": "Au3xpFsoA2Qz"
      },
      "execution_count": 270,
      "outputs": []
    },
    {
      "cell_type": "code",
      "source": [
        "rf_dt <- data.table(fia_dt[,c('PLOT','Stock_SOC_Mg_Ha','geometry')], grid_dt[grid_int_dt %>% lapply(function(x){x %>% sample(1)}) %>% unlist,])\n",
        "\n",
        "x_var <- (rf_dt %>% names)[-c(1,2,3,4,5,6,7,8,ncol(rf_dt))]\n",
        "\n",
        "rf_form <- as.formula(paste0('Stock_SOC_Mg_Ha~',paste(x_var,collapse = '+')))\n",
        "\n",
        "rf_dt <-  rf_dt[complete.cases(rf_dt[,-c(3,ncol(rf_dt)),with=F]),]\n",
        "\n",
        "rf_terra <- randomForest(rf_form,rf_dt,verbose=T)\n",
        "\n",
        "rf_imp_dt <- rf_terra$importance %>% t %>% data.table\n",
        "\n",
        "names(rf_imp_dt) <-paste0('var_imp_',names(rf_imp_dt))\n",
        "\n",
        "out_dt <- data.table(rf_dt,data.table(predicted = rf_terra$predicted),rf_imp_dt[rep(1,nrow(rf_dt)),])"
      ],
      "metadata": {
        "id": "8s_AzS39ZyD4",
        "outputId": "4e62ed35-f0f5-4856-aee8-f5c7d151f0fd",
        "colab": {
          "base_uri": "https://localhost:8080/"
        }
      },
      "execution_count": 265,
      "outputs": [
        {
          "output_type": "stream",
          "name": "stdout",
          "text": [
            "Stock_SOC_Mg_Ha ~ water + trees + grass + flooded_vegetation + \n",
            "    crops + shrub_and_scrub + built + bare + snow_and_ice + max + \n",
            "    elevation + landform + SRTM_mTPI + aet + def + pdsi + pet + \n",
            "    pr + ro + soil + srad + swe + tmmn + tmmx + vap + vpd + vs + \n",
            "    agbd_m + agbd_sd + agbd_n\n"
          ]
        }
      ]
    },
    {
      "cell_type": "code",
      "source": [],
      "metadata": {
        "id": "C-_GUg2jD4S5",
        "outputId": "5d364684-14ac-483e-dc29-8dcbbd11c02a",
        "colab": {
          "base_uri": "https://localhost:8080/",
          "height": 34
        }
      },
      "execution_count": 277,
      "outputs": [
        {
          "output_type": "display_data",
          "data": {
            "text/html": [
              "-0.13355358055416"
            ],
            "text/markdown": "-0.13355358055416",
            "text/latex": "-0.13355358055416",
            "text/plain": [
              "[1] -0.1335536"
            ]
          },
          "metadata": {}
        }
      ]
    },
    {
      "cell_type": "code",
      "source": [
        "cl <-makeCluster(8)\n",
        "sim_dt <-\n",
        "1:1000 %>% parLapply(cl,.,function(m,fia_dt,grid_dt,grid_int_dt){\n",
        "  library(sf)\n",
        "  library(magrittr)\n",
        "  library(data.table)\n",
        "  library(raster)\n",
        "  library(exactextractr)\n",
        "  library(terra)\n",
        "  library(randomForest)\n",
        "\n",
        "\n",
        "  rf_dt <- data.table(fia_dt[,c('PLOT','Stock_SOC_Mg_Ha','geometry')], grid_dt[grid_int_dt %>% lapply(function(x){x %>% sample(1)}) %>% unlist,])\n",
        "\n",
        "  x_var <- (rf_dt %>% names)[-c(1,2,3,4,5,6,7,8,ncol(rf_dt))]\n",
        "\n",
        "  rf_form <- as.formula(paste0('Stock_SOC_Mg_Ha~',paste(x_var,collapse = '+')))\n",
        "\n",
        "  rf_dt <-  rf_dt[complete.cases(rf_dt[,-c(3,ncol(rf_dt)),with=F]),]\n",
        "\n",
        "  rf_terra <- randomForest(rf_form,rf_dt,verbose=T)\n",
        "\n",
        "  rf_imp_dt <- rf_terra$importance %>% t %>% data.table\n",
        "\n",
        "  names(rf_imp_dt) <-paste0('var_imp_',names(rf_imp_dt))\n",
        "\n",
        "  out_dt <- data.table(rf_dt,data.table(predicted = rf_terra$predicted),rf_imp_dt[rep(1,nrow(rf_dt)),])\n",
        "  out_dt$r2 <- rf_terra$rsq[500]\n",
        "  return(out_dt)\n",
        "  },fia_dt,grid_dt,grid_int_dt) %>%\n",
        "  rbindlist\n",
        "stopCluster(cl)"
      ],
      "metadata": {
        "id": "KB9q5pEwEkvI"
      },
      "execution_count": null,
      "outputs": []
    },
    {
      "cell_type": "code",
      "source": [
        "# Write to GeoPackage\n",
        "sim_dt %>% st_write(\"/content/sim_results_Full_Run3.gpkg\", append=FALSE)"
      ],
      "metadata": {
        "id": "VnxBhpa9WOK0"
      },
      "execution_count": null,
      "outputs": []
    },
    {
      "cell_type": "code",
      "source": [
        "# https://drive.google.com/drive/folders/1uVZCzCb5gRE8wfZckspRuKz1TQd5LpeM?usp=drive_link\n",
        "drive_upload(\"/content/sim_results_Full_Run1.gpkg\", path = as_id(\"1uVZCzCb5gRE8wfZckspRuKz1TQd5LpeM\"))"
      ],
      "metadata": {
        "id": "d4KevyDNXPgo"
      },
      "execution_count": null,
      "outputs": []
    },
    {
      "cell_type": "code",
      "source": [
        "# sim_dt"
      ],
      "metadata": {
        "id": "FB2Kru8Fcdpi"
      },
      "execution_count": null,
      "outputs": []
    },
    {
      "cell_type": "code",
      "source": [
        "sim_dt %>%\n",
        "  ggplot(aes(y=Stock_SOC_Mg_Ha,x=r2))+\n",
        "    geom_bin2d()\n",
        "    # geom_smooth()"
      ],
      "metadata": {
        "id": "Kdno5JZ0Yev5",
        "colab": {
          "base_uri": "https://localhost:8080/",
          "height": 437
        },
        "outputId": "4401782b-d0be-4d42-8861-d351f3576223"
      },
      "execution_count": 283,
      "outputs": [
        {
          "output_type": "display_data",
          "data": {
            "text/plain": [
              "plot without title"
            ],
            "image/png": "[encoded data removed]"
          },
          "metadata": {
            "image/png": {
              "width": 420,
              "height": 420
            }
          }
        }
      ]
    },
    {
      "cell_type": "code",
      "source": [
        "# Load the necessary library\n",
        "library(repr)\n",
        "\n",
        "# Adjust width and height of plots\n",
        "options(repr.plot.width=20, repr.plot.height=8)"
      ],
      "metadata": {
        "id": "ysaNMETsScgE"
      },
      "execution_count": null,
      "outputs": []
    },
    {
      "cell_type": "code",
      "source": [],
      "metadata": {
        "id": "iH2t7bw98PcT"
      },
      "execution_count": null,
      "outputs": []
    },
    {
      "cell_type": "code",
      "source": [
        "# for(i in 1:10){\n",
        "\n",
        "sim_dt[,residual := predicted-Stock_SOC_Mg_Ha]\n",
        "\n",
        "sim_dt[,residual_per := residual/Stock_SOC_Mg_Ha]\n",
        "\n",
        "samp_dt <- sim_dt[residual_per>-.05 &residual_per <.05]\n",
        "plot <- sample(samp_dt$PLOT,1)\n",
        "# print(plot)\n",
        "(samp_dt[PLOT==plot] %>% melt(id.vars = c('PLOT','Stock_SOC_Mg_Ha','dummy_geom','water','trees','grass','flooded_vegetation','crops','shrub_and_scrub','built','bare','snow_and_ice','max','elevation','landform','SRTM_mTPI','aet','def','pdsi','pet','pr','ro','soil','srad','swe','tmmn','tmmx','vap','vpd','vs','predicted','residual','residual_per')) %>%\n",
        "  ggplot(aes(x=variable,y=value))+\n",
        "  geom_boxplot() )%>% plot\n",
        "# }"
      ],
      "metadata": {
        "id": "0dXkvQ6lQVri"
      },
      "execution_count": null,
      "outputs": []
    },
    {
      "cell_type": "code",
      "source": [],
      "metadata": {
        "id": "qsoXgH7N44kI"
      },
      "execution_count": null,
      "outputs": []
    },
    {
      "cell_type": "code",
      "source": [
        "dummy_geom <- grid_dt[grid_int_dt %>% lapply(function(x){sample(x,1)}) %>% unlist,] %>% st_as_sf() %>% st_transform(4135) %>% st_buffer(2500) %>% st_transform(4326)"
      ],
      "metadata": {
        "id": "z_7skpyBBRUc"
      },
      "execution_count": null,
      "outputs": []
    },
    {
      "cell_type": "code",
      "source": [
        "fia_dt$dummy_geom <- dummy_geom$geom"
      ],
      "metadata": {
        "id": "8r_yhCm4CDG5"
      },
      "execution_count": null,
      "outputs": []
    },
    {
      "cell_type": "code",
      "source": [
        "example_poly <- (fia_dt %>%data.table)[,c('C_TOTAL_PCT','dummy_geom')]"
      ],
      "metadata": {
        "id": "fu0NUTJNeSkq"
      },
      "execution_count": null,
      "outputs": []
    },
    {
      "cell_type": "code",
      "source": [
        "rf_dt <- data.table(example_poly,exact_extract(raster_list[[6]],example_poly %>% st_as_sf,'mean') %>% data.table)"
      ],
      "metadata": {
        "id": "9pSq2Qi2ep5b"
      },
      "execution_count": null,
      "outputs": []
    },
    {
      "cell_type": "code",
      "source": [
        "# rf_dt"
      ],
      "metadata": {
        "id": "_wE_GD_FCTqg"
      },
      "execution_count": null,
      "outputs": []
    },
    {
      "cell_type": "code",
      "source": [
        "names(rf_dt)[-c(1,2)] <- c(\"aet\", \"def\", \"pdsi\", \"pet\", \"pr\", \"ro\", \"soil\", \"srad\", \"swe\", \"tmmn\", \"tmmx\", \"vap\", \"vpd\", \"vs\")\n"
      ],
      "metadata": {
        "id": "bTUeAX4tZVed"
      },
      "execution_count": null,
      "outputs": []
    },
    {
      "cell_type": "code",
      "source": [
        "rf_form <- as.formula(paste0('Stock_SOC_Mg_Ha~',paste((rf_dt %>% names)[-c(1,2)],collapse = '+')))\n",
        "rf_form"
      ],
      "metadata": {
        "id": "ewIMuwbKVql9"
      },
      "execution_count": null,
      "outputs": []
    },
    {
      "cell_type": "code",
      "source": [
        "rf_terra <- randomForest(rf_form,rf_dt[complete.cases(rf_dt[,-2]),],verbose=T)\n",
        "rf_terra %>% varImpPlot\n",
        "rf_terra"
      ],
      "metadata": {
        "id": "i1ScnibaYIJR"
      },
      "execution_count": null,
      "outputs": []
    },
    {
      "cell_type": "code",
      "source": [
        "data.frame(field = rf_terra$y,predicted = rf_terra$predicted) %>%\n",
        "  ggplot(aes(x=predicted,y=field))+\n",
        "  geom_point()"
      ],
      "metadata": {
        "id": "LN28tBLwYYZv"
      },
      "execution_count": null,
      "outputs": []
    }
  ]
}