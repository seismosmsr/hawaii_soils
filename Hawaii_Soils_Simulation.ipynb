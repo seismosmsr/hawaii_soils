{
  "nbformat": 4,
  "nbformat_minor": 0,
  "metadata": {
    "colab": {
      "provenance": [],
      "machine_shape": "hm",
      "authorship_tag": "ABX9TyNEFT+GP4yJIZvEW3oBTD3B",
      "include_colab_link": true
    },
    "kernelspec": {
      "name": "ir",
      "display_name": "R"
    },
    "language_info": {
      "name": "R"
    }
  },
  "cells": [
    {
      "cell_type": "markdown",
      "metadata": {
        "id": "view-in-github",
        "colab_type": "text"
      },
      "source": [
        "<a href=\"https://colab.research.google.com/github/seismosmsr/hawaii_soils/blob/main/Hawaii_Soils_Simulation.ipynb\" target=\"_parent\"><img src=\"https://colab.research.google.com/assets/colab-badge.svg\" alt=\"Open In Colab\"/></a>"
      ]
    },
    {
      "cell_type": "code",
      "execution_count": 1,
      "metadata": {
        "colab": {
          "base_uri": "https://localhost:8080/"
        },
        "id": "w3b2Yt1zzBa4",
        "outputId": "ea8c4aa7-ac2e-45e1-8690-f690cbbc6beb"
      },
      "outputs": [
        {
          "output_type": "stream",
          "name": "stderr",
          "text": [
            "Installing package into ‘/usr/local/lib/R/site-library’\n",
            "(as ‘lib’ is unspecified)\n",
            "\n",
            "also installing the dependencies ‘proxy’, ‘e1071’, ‘wk’, ‘classInt’, ‘Rcpp’, ‘s2’, ‘units’\n",
            "\n",
            "\n",
            "Installing package into ‘/usr/local/lib/R/site-library’\n",
            "(as ‘lib’ is unspecified)\n",
            "\n",
            "also installing the dependencies ‘sp’, ‘terra’\n",
            "\n",
            "\n",
            "Installing package into ‘/usr/local/lib/R/site-library’\n",
            "(as ‘lib’ is unspecified)\n",
            "\n",
            "Installing package into ‘/usr/local/lib/R/site-library’\n",
            "(as ‘lib’ is unspecified)\n",
            "\n",
            "Installing package into ‘/usr/local/lib/R/site-library’\n",
            "(as ‘lib’ is unspecified)\n",
            "\n",
            "Warning message:\n",
            "“package ‘googletoken’ is not available for this version of R\n",
            "\n",
            "A version of this package for your version of R might be available elsewhere,\n",
            "see the ideas at\n",
            "https://cran.r-project.org/doc/manuals/r-patched/R-admin.html#Installing-packages”\n",
            "Installing package into ‘/usr/local/lib/R/site-library’\n",
            "(as ‘lib’ is unspecified)\n",
            "\n",
            "Installing package into ‘/usr/local/lib/R/site-library’\n",
            "(as ‘lib’ is unspecified)\n",
            "\n",
            "also installing the dependency ‘plogr’\n",
            "\n",
            "\n",
            "Installing package into ‘/usr/local/lib/R/site-library’\n",
            "(as ‘lib’ is unspecified)\n",
            "\n",
            "Installing package into ‘/usr/local/lib/R/site-library’\n",
            "(as ‘lib’ is unspecified)\n",
            "\n",
            "Installing package into ‘/usr/local/lib/R/site-library’\n",
            "(as ‘lib’ is unspecified)\n",
            "\n"
          ]
        }
      ],
      "source": [
        "install.packages('sf')\n",
        "install.packages('raster')\n",
        "install.packages('exactextractr')\n",
        "install.packages(\"googledrive\")\n",
        "install.packages(\"googletoken\")\n",
        "install.packages(\"DBI\")\n",
        "install.packages(\"RSQLite\")\n",
        "install.packages(\"RPostgreSQL\")\n",
        "install.packages(\"terra\")\n",
        "install.packages('randomForest')"
      ]
    },
    {
      "cell_type": "code",
      "source": [
        "library(ggplot2)\n",
        "library(sf)\n",
        "library(magrittr)\n",
        "library(data.table)\n",
        "library(raster)\n",
        "library(exactextractr)\n",
        "library(googledrive)\n",
        "library(DBI)\n",
        "library(terra)\n",
        "library(randomForest)\n",
        "library(parallel)"
      ],
      "metadata": {
        "id": "Jt8zFz1p0QRy",
        "colab": {
          "base_uri": "https://localhost:8080/"
        },
        "outputId": "8cfc5381-ce5e-4f5e-f911-00dc2da2c2ce"
      },
      "execution_count": 2,
      "outputs": [
        {
          "output_type": "stream",
          "name": "stderr",
          "text": [
            "Linking to GEOS 3.10.2, GDAL 3.4.3, PROJ 8.2.1; sf_use_s2() is TRUE\n",
            "\n",
            "Loading required package: sp\n",
            "\n",
            "terra 1.7.55\n",
            "\n",
            "\n",
            "Attaching package: ‘terra’\n",
            "\n",
            "\n",
            "The following object is masked from ‘package:data.table’:\n",
            "\n",
            "    shift\n",
            "\n",
            "\n",
            "The following objects are masked from ‘package:magrittr’:\n",
            "\n",
            "    extract, inset\n",
            "\n",
            "\n",
            "randomForest 4.7-1.1\n",
            "\n",
            "Type rfNews() to see new features/changes/bug fixes.\n",
            "\n",
            "\n",
            "Attaching package: ‘randomForest’\n",
            "\n",
            "\n",
            "The following object is masked from ‘package:ggplot2’:\n",
            "\n",
            "    margin\n",
            "\n",
            "\n"
          ]
        }
      ]
    },
    {
      "cell_type": "code",
      "source": [
        "drive_auth(use_oob = TRUE, cache = FALSE)"
      ],
      "metadata": {
        "colab": {
          "base_uri": "https://localhost:8080/"
        },
        "id": "TIp-5Lr90ULs",
        "outputId": "2f90c813-76ff-465f-cf0d-c4199f0dabb3"
      },
      "execution_count": 3,
      "outputs": [
        {
          "output_type": "stream",
          "name": "stderr",
          "text": [
            "Please point your browser to the following url: \n",
            "\n",
            "https://accounts.google.com/o/oauth2/v2/auth?client_id=603366585132-frjlouoa3s2ono25d2l9ukvhlsrlnr7k.apps.googleusercontent.com&scope=https%3A%2F%2Fwww.googleapis.com%2Fauth%2Fdrive%20https%3A%2F%2Fwww.googleapis.com%2Fauth%2Fuserinfo.email&redirect_uri=https%3A%2F%2Fwww.tidyverse.org%2Fgoogle-callback%2F&response_type=code&state=45f2192d29f194ee3d963e6d6af0398e&access_type=offline&prompt=consent\n",
            "\n"
          ]
        },
        {
          "name": "stdout",
          "output_type": "stream",
          "text": [
            "Enter authorization code: eyJjb2RlIjoiNC8wQWZKb2hYbC1DdW9xeWhYZUNOMEVHTWRHYTdMLVJlUmh4bW5FYmF5dmRfYXp1U1ZIN2hfVEZZWEhDeERCeXlOMHU0YUlCZyIsInN0YXRlIjoiNDVmMjE5MmQyOWYxOTRlZTNkOTYzZTZkNmFmMDM5OGUifQ==\n"
          ]
        }
      ]
    },
    {
      "cell_type": "code",
      "source": [
        "# https://drive.google.com/file/d/1ryTzWz0t9mgI5ynPvMzM21D135dLJvWv/view?usp=drive_link\n",
        "# Updated: https://drive.google.com/file/d/1-dAAC42MM2BrShxXR_SUhavcawIHYy6B/view?usp=drive_link\n",
        "drive_download(as_id('1-dAAC42MM2BrShxXR_SUhavcawIHYy6B'), path = paste0('/content/fia.csv'), overwrite = TRUE)\n",
        "fia_dt <-  st_read('/content/fia.csv') %>% st_as_sf(coords = c(\"LON\",\"LAT\"), crs = 4326) %>% data.table\n",
        "fia_dt$county_name <- fia_dt$County.Name"
      ],
      "metadata": {
        "colab": {
          "base_uri": "https://localhost:8080/"
        },
        "id": "GIyOF5ltSRpq",
        "outputId": "869d0339-1698-4d8c-c593-1059c24d3728"
      },
      "execution_count": 37,
      "outputs": [
        {
          "output_type": "stream",
          "name": "stderr",
          "text": [
            "File downloaded:\n",
            "\n",
            "• \u001b[36m2023_11_01FIA_soildepths.csv\u001b[39m \u001b[90m<id: 1-dAAC42MM2BrShxXR_SUhavcawIHYy6B>\u001b[39m\n",
            "\n",
            "Saved locally as:\n",
            "\n",
            "• \u001b[34m/content/fia.csv\u001b[39m\n",
            "\n"
          ]
        },
        {
          "output_type": "stream",
          "name": "stdout",
          "text": [
            "Reading layer `fia' from data source `/content/fia.csv' using driver `CSV'\n"
          ]
        },
        {
          "output_type": "stream",
          "name": "stderr",
          "text": [
            "Warning message:\n",
            "“no simple feature geometries present: returning a data.frame or tbl_df”\n"
          ]
        }
      ]
    },
    {
      "cell_type": "code",
      "source": [
        "# https://drive.google.com/file/d/1j4B8qx1S0nHLSYrnRVRckwFTX9f2z1nb/view?usp=drive_link\n",
        "# updated: https://drive.google.com/file/d/1LZQIykiIRmkIv-Ygy24rAN1ohmGOG1rY/view?usp=drive_link\n",
        "drive_download(as_id('1LZQIykiIRmkIv-Ygy24rAN1ohmGOG1rY'), path = \"/content/250_summary_grid_dt.gpkg\", overwrite = TRUE)\n",
        "grid_dt <- st_read(\"/content/250_summary_grid_dt.gpkg\") %>% st_transform(4326) %>% data.table()"
      ],
      "metadata": {
        "colab": {
          "base_uri": "https://localhost:8080/"
        },
        "id": "6i5eFIGc1vby",
        "outputId": "60c319d8-149c-48ce-a1c9-a1ac8b5aa602"
      },
      "execution_count": 17,
      "outputs": [
        {
          "output_type": "stream",
          "name": "stderr",
          "text": [
            "File downloaded:\n",
            "\n",
            "• \u001b[36m250_summary_grid_dt.gpkg\u001b[39m \u001b[90m<id: 1LZQIykiIRmkIv-Ygy24rAN1ohmGOG1rY>\u001b[39m\n",
            "\n",
            "Saved locally as:\n",
            "\n",
            "• \u001b[34m/content/250_summary_grid_dt.gpkg\u001b[39m\n",
            "\n"
          ]
        },
        {
          "output_type": "stream",
          "name": "stdout",
          "text": [
            "Reading layer `250_summary_grid_dt' from data source \n",
            "  `/content/250_summary_grid_dt.gpkg' using driver `GPKG'\n",
            "Simple feature collection with 227561 features and 38 fields\n",
            "Geometry type: POINT\n",
            "Dimension:     XY\n",
            "Bounding box:  xmin: 57161.36 ymin: 16952.32 xmax: 572661.4 ymax: 381202.3\n",
            "Projected CRS: NAD_1983_HARN_StatePlane_Hawaii_1_FIPS_5101\n"
          ]
        }
      ]
    },
    {
      "cell_type": "code",
      "source": [
        "grid_dt <- grid_dt[trees > 0.5 & !is.na(agbd_m) &!is.na(agbd_sd)& !is.na(aet)]"
      ],
      "metadata": {
        "id": "CbUGrfuuUaiY"
      },
      "execution_count": 18,
      "outputs": []
    },
    {
      "cell_type": "code",
      "source": [
        "grid_dt$agbd_n <- grid_dt$agbd_n %>% as.numeric\n",
        "grid_dt$agbd_sd <- grid_dt$agbd_sd %>% as.numeric\n",
        "grid_dt$agbd_m <- grid_dt$agbd_m %>% as.numeric"
      ],
      "metadata": {
        "id": "XsFPDjw_BHKX"
      },
      "execution_count": 19,
      "outputs": []
    },
    {
      "cell_type": "code",
      "source": [
        "fia_dt$SOC_Mg_Ha <- fia_dt$SOC_Mg_Ha %>% as.numeric"
      ],
      "metadata": {
        "id": "Au3xpFsoA2Qz",
        "colab": {
          "base_uri": "https://localhost:8080/"
        },
        "outputId": "62d97987-30b3-4ed0-dd0a-9a4819b1962a"
      },
      "execution_count": 39,
      "outputs": [
        {
          "output_type": "stream",
          "name": "stderr",
          "text": [
            "Warning message in fia_dt$SOC_Mg_Ha %>% as.numeric:\n",
            "“NAs introduced by coercion”\n"
          ]
        }
      ]
    },
    {
      "cell_type": "code",
      "source": [
        "grid_int_dt  <- fia_dt$geom %>% st_transform(4135) %>% st_buffer(10000) %>% st_transform(4326) %>% st_intersects(grid_dt$geom)"
      ],
      "metadata": {
        "id": "0A-fL1krTbA_"
      },
      "execution_count": 111,
      "outputs": []
    },
    {
      "cell_type": "code",
      "source": [
        "rm_vec <- (grid_int_dt %>% lapply(length) %>% unlist) > 0\n",
        "grid_int_dt <- grid_int_dt[rm_vec]\n",
        "fia_dt <- fia_dt[rm_vec,]"
      ],
      "metadata": {
        "id": "isEeYbV1UDV9"
      },
      "execution_count": 112,
      "outputs": []
    },
    {
      "cell_type": "code",
      "source": [
        "names(grid_dt)"
      ],
      "metadata": {
        "colab": {
          "base_uri": "https://localhost:8080/",
          "height": 52
        },
        "id": "CRAbHxSKpf8p",
        "outputId": "8b93ce36-5c5b-40cc-8689-876e67034a64"
      },
      "execution_count": 42,
      "outputs": [
        {
          "output_type": "display_data",
          "data": {
            "text/html": [
              "<style>\n",
              ".list-inline {list-style: none; margin:0; padding: 0}\n",
              ".list-inline>li {display: inline-block}\n",
              ".list-inline>li:not(:last-child)::after {content: \"\\00b7\"; padding: 0 .5ex}\n",
              "</style>\n",
              "<ol class=list-inline><li>'id'</li><li>'left'</li><li>'top'</li><li>'right'</li><li>'bottom'</li><li>'water'</li><li>'trees'</li><li>'grass'</li><li>'flooded_vegetation'</li><li>'crops'</li><li>'shrub_and_scrub'</li><li>'built'</li><li>'bare'</li><li>'snow_and_ice'</li><li>'elevation'</li><li>'landform'</li><li>'SRTM_mTPI'</li><li>'aet'</li><li>'def'</li><li>'pdsi'</li><li>'pet'</li><li>'pr'</li><li>'ro'</li><li>'soil'</li><li>'srad'</li><li>'swe'</li><li>'tmmn'</li><li>'tmmx'</li><li>'vap'</li><li>'vpd'</li><li>'vs'</li><li>'agbd_m'</li><li>'agbd_sd'</li><li>'agbd_n'</li><li>'majorcomposition'</li><li>'age_years'</li><li>'Age_Class'</li><li>'geom'</li><li>'age_class'</li></ol>\n"
            ],
            "text/markdown": "1. 'id'\n2. 'left'\n3. 'top'\n4. 'right'\n5. 'bottom'\n6. 'water'\n7. 'trees'\n8. 'grass'\n9. 'flooded_vegetation'\n10. 'crops'\n11. 'shrub_and_scrub'\n12. 'built'\n13. 'bare'\n14. 'snow_and_ice'\n15. 'elevation'\n16. 'landform'\n17. 'SRTM_mTPI'\n18. 'aet'\n19. 'def'\n20. 'pdsi'\n21. 'pet'\n22. 'pr'\n23. 'ro'\n24. 'soil'\n25. 'srad'\n26. 'swe'\n27. 'tmmn'\n28. 'tmmx'\n29. 'vap'\n30. 'vpd'\n31. 'vs'\n32. 'agbd_m'\n33. 'agbd_sd'\n34. 'agbd_n'\n35. 'majorcomposition'\n36. 'age_years'\n37. 'Age_Class'\n38. 'geom'\n39. 'age_class'\n\n\n",
            "text/latex": "\\begin{enumerate*}\n\\item 'id'\n\\item 'left'\n\\item 'top'\n\\item 'right'\n\\item 'bottom'\n\\item 'water'\n\\item 'trees'\n\\item 'grass'\n\\item 'flooded\\_vegetation'\n\\item 'crops'\n\\item 'shrub\\_and\\_scrub'\n\\item 'built'\n\\item 'bare'\n\\item 'snow\\_and\\_ice'\n\\item 'elevation'\n\\item 'landform'\n\\item 'SRTM\\_mTPI'\n\\item 'aet'\n\\item 'def'\n\\item 'pdsi'\n\\item 'pet'\n\\item 'pr'\n\\item 'ro'\n\\item 'soil'\n\\item 'srad'\n\\item 'swe'\n\\item 'tmmn'\n\\item 'tmmx'\n\\item 'vap'\n\\item 'vpd'\n\\item 'vs'\n\\item 'agbd\\_m'\n\\item 'agbd\\_sd'\n\\item 'agbd\\_n'\n\\item 'majorcomposition'\n\\item 'age\\_years'\n\\item 'Age\\_Class'\n\\item 'geom'\n\\item 'age\\_class'\n\\end{enumerate*}\n",
            "text/plain": [
              " [1] \"id\"                 \"left\"               \"top\"               \n",
              " [4] \"right\"              \"bottom\"             \"water\"             \n",
              " [7] \"trees\"              \"grass\"              \"flooded_vegetation\"\n",
              "[10] \"crops\"              \"shrub_and_scrub\"    \"built\"             \n",
              "[13] \"bare\"               \"snow_and_ice\"       \"elevation\"         \n",
              "[16] \"landform\"           \"SRTM_mTPI\"          \"aet\"               \n",
              "[19] \"def\"                \"pdsi\"               \"pet\"               \n",
              "[22] \"pr\"                 \"ro\"                 \"soil\"              \n",
              "[25] \"srad\"               \"swe\"                \"tmmn\"              \n",
              "[28] \"tmmx\"               \"vap\"                \"vpd\"               \n",
              "[31] \"vs\"                 \"agbd_m\"             \"agbd_sd\"           \n",
              "[34] \"agbd_n\"             \"majorcomposition\"   \"age_years\"         \n",
              "[37] \"Age_Class\"          \"geom\"               \"age_class\"         "
            ]
          },
          "metadata": {}
        }
      ]
    },
    {
      "cell_type": "code",
      "source": [
        "grid_dt$age_years[grid_dt$age_years %>% is.na ] <- -2\n",
        "grid_dt$age_class[grid_dt$age_class %>% is.na ] <- 'Unknown'"
      ],
      "metadata": {
        "id": "ml4yD0bBpYAb",
        "colab": {
          "base_uri": "https://localhost:8080/"
        },
        "outputId": "a0270389-1cc3-4a6e-dfbc-40d17cd0c78c"
      },
      "execution_count": 43,
      "outputs": [
        {
          "output_type": "stream",
          "name": "stderr",
          "text": [
            "Warning message in `[<-.factor`(`*tmp*`, grid_dt$age_class %>% is.na, value = \"Unknown\"):\n",
            "“invalid factor level, NA generated”\n"
          ]
        }
      ]
    },
    {
      "cell_type": "code",
      "source": [
        "grid_dt %>% names"
      ],
      "metadata": {
        "colab": {
          "base_uri": "https://localhost:8080/",
          "height": 52
        },
        "id": "_eg6d9Z_rD5T",
        "outputId": "e198041f-46b6-4f88-e056-9d3f38b29905"
      },
      "execution_count": 44,
      "outputs": [
        {
          "output_type": "display_data",
          "data": {
            "text/html": [
              "<style>\n",
              ".list-inline {list-style: none; margin:0; padding: 0}\n",
              ".list-inline>li {display: inline-block}\n",
              ".list-inline>li:not(:last-child)::after {content: \"\\00b7\"; padding: 0 .5ex}\n",
              "</style>\n",
              "<ol class=list-inline><li>'id'</li><li>'left'</li><li>'top'</li><li>'right'</li><li>'bottom'</li><li>'water'</li><li>'trees'</li><li>'grass'</li><li>'flooded_vegetation'</li><li>'crops'</li><li>'shrub_and_scrub'</li><li>'built'</li><li>'bare'</li><li>'snow_and_ice'</li><li>'elevation'</li><li>'landform'</li><li>'SRTM_mTPI'</li><li>'aet'</li><li>'def'</li><li>'pdsi'</li><li>'pet'</li><li>'pr'</li><li>'ro'</li><li>'soil'</li><li>'srad'</li><li>'swe'</li><li>'tmmn'</li><li>'tmmx'</li><li>'vap'</li><li>'vpd'</li><li>'vs'</li><li>'agbd_m'</li><li>'agbd_sd'</li><li>'agbd_n'</li><li>'majorcomposition'</li><li>'age_years'</li><li>'Age_Class'</li><li>'geom'</li><li>'age_class'</li></ol>\n"
            ],
            "text/markdown": "1. 'id'\n2. 'left'\n3. 'top'\n4. 'right'\n5. 'bottom'\n6. 'water'\n7. 'trees'\n8. 'grass'\n9. 'flooded_vegetation'\n10. 'crops'\n11. 'shrub_and_scrub'\n12. 'built'\n13. 'bare'\n14. 'snow_and_ice'\n15. 'elevation'\n16. 'landform'\n17. 'SRTM_mTPI'\n18. 'aet'\n19. 'def'\n20. 'pdsi'\n21. 'pet'\n22. 'pr'\n23. 'ro'\n24. 'soil'\n25. 'srad'\n26. 'swe'\n27. 'tmmn'\n28. 'tmmx'\n29. 'vap'\n30. 'vpd'\n31. 'vs'\n32. 'agbd_m'\n33. 'agbd_sd'\n34. 'agbd_n'\n35. 'majorcomposition'\n36. 'age_years'\n37. 'Age_Class'\n38. 'geom'\n39. 'age_class'\n\n\n",
            "text/latex": "\\begin{enumerate*}\n\\item 'id'\n\\item 'left'\n\\item 'top'\n\\item 'right'\n\\item 'bottom'\n\\item 'water'\n\\item 'trees'\n\\item 'grass'\n\\item 'flooded\\_vegetation'\n\\item 'crops'\n\\item 'shrub\\_and\\_scrub'\n\\item 'built'\n\\item 'bare'\n\\item 'snow\\_and\\_ice'\n\\item 'elevation'\n\\item 'landform'\n\\item 'SRTM\\_mTPI'\n\\item 'aet'\n\\item 'def'\n\\item 'pdsi'\n\\item 'pet'\n\\item 'pr'\n\\item 'ro'\n\\item 'soil'\n\\item 'srad'\n\\item 'swe'\n\\item 'tmmn'\n\\item 'tmmx'\n\\item 'vap'\n\\item 'vpd'\n\\item 'vs'\n\\item 'agbd\\_m'\n\\item 'agbd\\_sd'\n\\item 'agbd\\_n'\n\\item 'majorcomposition'\n\\item 'age\\_years'\n\\item 'Age\\_Class'\n\\item 'geom'\n\\item 'age\\_class'\n\\end{enumerate*}\n",
            "text/plain": [
              " [1] \"id\"                 \"left\"               \"top\"               \n",
              " [4] \"right\"              \"bottom\"             \"water\"             \n",
              " [7] \"trees\"              \"grass\"              \"flooded_vegetation\"\n",
              "[10] \"crops\"              \"shrub_and_scrub\"    \"built\"             \n",
              "[13] \"bare\"               \"snow_and_ice\"       \"elevation\"         \n",
              "[16] \"landform\"           \"SRTM_mTPI\"          \"aet\"               \n",
              "[19] \"def\"                \"pdsi\"               \"pet\"               \n",
              "[22] \"pr\"                 \"ro\"                 \"soil\"              \n",
              "[25] \"srad\"               \"swe\"                \"tmmn\"              \n",
              "[28] \"tmmx\"               \"vap\"                \"vpd\"               \n",
              "[31] \"vs\"                 \"agbd_m\"             \"agbd_sd\"           \n",
              "[34] \"agbd_n\"             \"majorcomposition\"   \"age_years\"         \n",
              "[37] \"Age_Class\"          \"geom\"               \"age_class\"         "
            ]
          },
          "metadata": {}
        }
      ]
    },
    {
      "cell_type": "code",
      "source": [
        "grid_dt$age_class %>%  is.na %>% table"
      ],
      "metadata": {
        "colab": {
          "base_uri": "https://localhost:8080/",
          "height": 70
        },
        "id": "lNrjXm9aqXFc",
        "outputId": "94f6a785-d114-460c-cca8-df5bb0011b71"
      },
      "execution_count": 45,
      "outputs": [
        {
          "output_type": "display_data",
          "data": {
            "text/plain": [
              ".\n",
              " TRUE \n",
              "67102 "
            ]
          },
          "metadata": {}
        }
      ]
    },
    {
      "cell_type": "code",
      "source": [
        "grid_dt$age_class <- NULL"
      ],
      "metadata": {
        "id": "9xUEpx72zy_x"
      },
      "execution_count": 85,
      "outputs": []
    },
    {
      "cell_type": "code",
      "source": [
        "grid_dt$max <- NULL\n",
        "\n",
        "grid_dt$landform <- grid_dt$landform  %>% as.character\n",
        "grid_dt$majorcomposition <- grid_dt$majorcomposition  %>% as.character\n",
        "grid_dt$Age_Class <- grid_dt$Age_Class  %>% as.character\n",
        "\n",
        "grid_dt$landform[is.na(grid_dt$landform)] <-'Unknown'\n",
        "grid_dt$majorcomposition[is.na(grid_dt$majorcomposition)] <-'Unknown'\n",
        "grid_dt$Age_Class[is.na(grid_dt$Age_Class)] <-'Unknown'\n",
        "\n",
        "grid_dt$landform <-  grid_dt$landform %>% factor\n",
        "grid_dt$majorcomposition <- grid_dt$majorcomposition %>% factor\n",
        "grid_dt$Age_Class <- grid_dt$Age_Class %>% factor\n"
      ],
      "metadata": {
        "colab": {
          "base_uri": "https://localhost:8080/"
        },
        "id": "HdDH-VDqqPCg",
        "outputId": "21f24d99-33c7-412c-efca-ca17a6af1f9a"
      },
      "execution_count": 86,
      "outputs": [
        {
          "output_type": "stream",
          "name": "stderr",
          "text": [
            "Warning message in set(x, j = name, value = value):\n",
            "“Column 'max' does not exist to remove”\n"
          ]
        }
      ]
    },
    {
      "cell_type": "code",
      "source": [
        "fia_dt$DEPTH_UPPER <- fia_dt$LAYER_TYPE %>% gsub('MINERAL_SOIL_','',.) %>% gsub('_CM','',.) %>% strsplit('_') %>% lapply(function(x){x[1]}) %>% unlist %>% as.numeric\n",
        "fia_dt$DEPTH_LOWER <- fia_dt$LAYER_TYPE %>% gsub('MINERAL_SOIL_','',.) %>% gsub('_CM','',.) %>% strsplit('_') %>% lapply(function(x){x[2]}) %>% unlist %>% as.numeric"
      ],
      "metadata": {
        "id": "v4x85f-5wFzt"
      },
      "execution_count": 55,
      "outputs": []
    },
    {
      "cell_type": "code",
      "source": [
        "fia_dt$DEPTH_LOWER %>% is.na() %>% table\n",
        "fia_dt$DEPTH_UPPER %>% is.na() %>% table"
      ],
      "metadata": {
        "id": "BDJ0_rSXyfw3",
        "outputId": "8bc4d037-1d38-474f-e067-ab9f3c220cf7",
        "colab": {
          "base_uri": "https://localhost:8080/",
          "height": 123
        }
      },
      "execution_count": 65,
      "outputs": [
        {
          "output_type": "display_data",
          "data": {
            "text/plain": [
              ".\n",
              "FALSE \n",
              "  659 "
            ]
          },
          "metadata": {}
        },
        {
          "output_type": "display_data",
          "data": {
            "text/plain": [
              ".\n",
              "FALSE \n",
              "  659 "
            ]
          },
          "metadata": {}
        }
      ]
    },
    {
      "cell_type": "code",
      "source": [
        "# fia_length <- fia_dt$PLOT %>% split(.)\n",
        "\n"
      ],
      "metadata": {
        "id": "p8gLuEZGzpf4",
        "outputId": "6c4480ce-b001-42dd-de3c-2e0f2ba0a7fe",
        "colab": {
          "base_uri": "https://localhost:8080/",
          "height": 295
        }
      },
      "execution_count": 133,
      "outputs": [
        {
          "output_type": "display_data",
          "data": {
            "text/html": [
              "<style>\n",
              ".list-inline {list-style: none; margin:0; padding: 0}\n",
              ".list-inline>li {display: inline-block}\n",
              ".list-inline>li:not(:last-child)::after {content: \"\\00b7\"; padding: 0 .5ex}\n",
              "</style>\n",
              "<ol class=list-inline><li>1168</li><li>1168</li><li>1168</li><li>1168</li><li>1148</li><li>379</li><li>379</li><li>379</li><li>379</li><li>379</li><li>1793</li><li>1793</li><li>1793</li><li>1793</li><li>1793</li><li>1707</li><li>1707</li><li>1707</li><li>1707</li><li>1707</li><li>3087</li><li>3087</li><li>3087</li><li>3087</li><li>3087</li><li>4887</li><li>4887</li><li>4887</li><li>4887</li><li>4887</li><li>4908</li><li>4908</li><li>4908</li><li>4908</li><li>1984</li><li>1984</li><li>1984</li><li>1984</li><li>1984</li><li>2167</li><li>2167</li><li>2167</li><li>2167</li><li>2167</li><li>4993</li><li>6211</li><li>6211</li><li>6211</li><li>6211</li><li>6211</li><li>2290</li><li>2290</li><li>2290</li><li>2290</li><li>2290</li><li>6721</li><li>6721</li><li>6721</li><li>6150</li><li>8891</li><li>8040</li><li>8040</li><li>8040</li><li>8040</li><li>8040</li><li>7676</li><li>7676</li><li>7676</li><li>7676</li><li>7676</li><li>5244</li><li>8673</li><li>8673</li><li>8673</li><li>8673</li><li>8673</li><li>8234</li><li>8234</li><li>8234</li><li>8234</li><li>8234</li><li>9590</li><li>9590</li><li>9590</li><li>9590</li><li>9590</li><li>9490</li><li>10272</li><li>10272</li><li>10272</li><li>10272</li><li>11013</li><li>11013</li><li>12746</li><li>12746</li><li>12746</li><li>12746</li><li>12746</li><li>12257</li><li>12257</li><li>12257</li><li>12257</li><li>12257</li><li>12794</li><li>12794</li><li>12794</li><li>12794</li><li>12794</li><li>10491</li><li>10491</li><li>10491</li><li>10491</li><li>10491</li><li>12524</li><li>14196</li><li>14196</li><li>14196</li><li>12963</li><li>12963</li><li>12963</li><li>12963</li><li>12963</li><li>13540</li><li>13540</li><li>15008</li><li>15008</li><li>15008</li><li>15008</li><li>15008</li><li>14646</li><li>14862</li><li>14862</li><li>14862</li><li>14862</li><li>14862</li><li>16148</li><li>16148</li><li>14970</li><li>18017</li><li>17978</li><li>17978</li><li>16984</li><li>18296</li><li>18296</li><li>18296</li><li>18296</li><li>18296</li><li>19639</li><li>19639</li><li>19639</li><li>19639</li><li>19639</li><li>18098</li><li>18098</li><li>18098</li><li>18098</li><li>18098</li><li>18704</li><li>18704</li><li>18704</li><li>18704</li><li>19375</li><li>19375</li><li>21321</li><li>21321</li><li>21321</li><li>21321</li><li>17929</li><li>15951</li><li>15951</li><li>15951</li><li>19970</li><li>19970</li><li>20635</li><li>20635</li><li>20635</li><li>20176</li><li>20176</li><li>20176</li><li>16574</li><li>18901</li><li>18901</li><li>18901</li><li>18901</li><li>18901</li><li>21314</li><li>20473</li><li>20473</li><li>20473</li><li>20473</li><li>20473</li><li>21013</li><li>21013</li><li>21013</li><li>21013</li><li>21013</li><li>20011</li><li>19625</li><li>19625</li><li>19625</li><li>⋯</li><li>52182</li><li>52182</li><li>52182</li><li>52182</li><li>52182</li><li>44660</li><li>44660</li><li>44660</li><li>44660</li><li>44660</li><li>51362</li><li>47724</li><li>51086</li><li>48545</li><li>46985</li><li>48964</li><li>48964</li><li>48964</li><li>48964</li><li>48964</li><li>47286</li><li>47286</li><li>53032</li><li>53032</li><li>53032</li><li>53032</li><li>56199</li><li>49017</li><li>51185</li><li>52770</li><li>56468</li><li>56468</li><li>56468</li><li>56468</li><li>56468</li><li>47680</li><li>50074</li><li>57938</li><li>53389</li><li>58817</li><li>58819</li><li>58819</li><li>58819</li><li>56008</li><li>53847</li><li>62145</li><li>57252</li><li>57252</li><li>57252</li><li>57252</li><li>57252</li><li>55726</li><li>55726</li><li>59344</li><li>62158</li><li>62158</li><li>62158</li><li>62158</li><li>62158</li><li>57856</li><li>62136</li><li>62136</li><li>63700</li><li>62184</li><li>62184</li><li>62184</li><li>62184</li><li>62184</li><li>60391</li><li>62584</li><li>62584</li><li>62584</li><li>62584</li><li>63542</li><li>63440</li><li>61121</li><li>61121</li><li>61121</li><li>61121</li><li>61121</li><li>62915</li><li>62915</li><li>63037</li><li>63037</li><li>63037</li><li>61906</li><li>64743</li><li>65099</li><li>66174</li><li>65644</li><li>64987</li><li>44171</li><li>44171</li><li>44171</li><li>44171</li><li>44171</li><li>41147</li><li>56882</li><li>56882</li><li>47697</li><li>47697</li><li>47697</li><li>47697</li><li>47697</li><li>37590</li><li>35165</li><li>35165</li><li>35165</li><li>35165</li><li>35165</li><li>37510</li><li>43475</li><li>43475</li><li>43475</li><li>43475</li><li>43475</li><li>61672</li><li>43895</li><li>64678</li><li>54370</li><li>43518</li><li>65225</li><li>65225</li><li>65225</li><li>65225</li><li>65225</li><li>32916</li><li>32916</li><li>47936</li><li>29451</li><li>29451</li><li>29451</li><li>29451</li><li>29451</li><li>63745</li><li>31317</li><li>31317</li><li>31317</li><li>31317</li><li>31317</li><li>48964</li><li>30971</li><li>30971</li><li>30971</li><li>30971</li><li>30971</li><li>41412</li><li>28743</li><li>28743</li><li>28743</li><li>28743</li><li>35877</li><li>35877</li><li>35877</li><li>35877</li><li>35877</li><li>60349</li><li>36383</li><li>63411</li><li>41257</li><li>37385</li><li>57092</li><li>57092</li><li>57092</li><li>57092</li><li>57092</li><li>56543</li><li>47067</li><li>49441</li><li>58464</li><li>58464</li><li>58464</li><li>58464</li><li>58464</li><li>43080</li><li>37441</li><li>32732</li><li>32732</li><li>32732</li><li>32732</li><li>32732</li><li>32992</li><li>32992</li><li>32992</li><li>32992</li><li>32992</li><li>38729</li><li>51446</li><li>60360</li><li>56405</li><li>56405</li><li>37538</li><li>57094</li><li>46891</li><li>25161</li><li>50370</li><li>37314</li><li>63684</li><li>58403</li><li>53441</li></ol>\n"
            ],
            "text/markdown": "1. 1168\n2. 1168\n3. 1168\n4. 1168\n5. 1148\n6. 379\n7. 379\n8. 379\n9. 379\n10. 379\n11. 1793\n12. 1793\n13. 1793\n14. 1793\n15. 1793\n16. 1707\n17. 1707\n18. 1707\n19. 1707\n20. 1707\n21. 3087\n22. 3087\n23. 3087\n24. 3087\n25. 3087\n26. 4887\n27. 4887\n28. 4887\n29. 4887\n30. 4887\n31. 4908\n32. 4908\n33. 4908\n34. 4908\n35. 1984\n36. 1984\n37. 1984\n38. 1984\n39. 1984\n40. 2167\n41. 2167\n42. 2167\n43. 2167\n44. 2167\n45. 4993\n46. 6211\n47. 6211\n48. 6211\n49. 6211\n50. 6211\n51. 2290\n52. 2290\n53. 2290\n54. 2290\n55. 2290\n56. 6721\n57. 6721\n58. 6721\n59. 6150\n60. 8891\n61. 8040\n62. 8040\n63. 8040\n64. 8040\n65. 8040\n66. 7676\n67. 7676\n68. 7676\n69. 7676\n70. 7676\n71. 5244\n72. 8673\n73. 8673\n74. 8673\n75. 8673\n76. 8673\n77. 8234\n78. 8234\n79. 8234\n80. 8234\n81. 8234\n82. 9590\n83. 9590\n84. 9590\n85. 9590\n86. 9590\n87. 9490\n88. 10272\n89. 10272\n90. 10272\n91. 10272\n92. 11013\n93. 11013\n94. 12746\n95. 12746\n96. 12746\n97. 12746\n98. 12746\n99. 12257\n100. 12257\n101. 12257\n102. 12257\n103. 12257\n104. 12794\n105. 12794\n106. 12794\n107. 12794\n108. 12794\n109. 10491\n110. 10491\n111. 10491\n112. 10491\n113. 10491\n114. 12524\n115. 14196\n116. 14196\n117. 14196\n118. 12963\n119. 12963\n120. 12963\n121. 12963\n122. 12963\n123. 13540\n124. 13540\n125. 15008\n126. 15008\n127. 15008\n128. 15008\n129. 15008\n130. 14646\n131. 14862\n132. 14862\n133. 14862\n134. 14862\n135. 14862\n136. 16148\n137. 16148\n138. 14970\n139. 18017\n140. 17978\n141. 17978\n142. 16984\n143. 18296\n144. 18296\n145. 18296\n146. 18296\n147. 18296\n148. 19639\n149. 19639\n150. 19639\n151. 19639\n152. 19639\n153. 18098\n154. 18098\n155. 18098\n156. 18098\n157. 18098\n158. 18704\n159. 18704\n160. 18704\n161. 18704\n162. 19375\n163. 19375\n164. 21321\n165. 21321\n166. 21321\n167. 21321\n168. 17929\n169. 15951\n170. 15951\n171. 15951\n172. 19970\n173. 19970\n174. 20635\n175. 20635\n176. 20635\n177. 20176\n178. 20176\n179. 20176\n180. 16574\n181. 18901\n182. 18901\n183. 18901\n184. 18901\n185. 18901\n186. 21314\n187. 20473\n188. 20473\n189. 20473\n190. 20473\n191. 20473\n192. 21013\n193. 21013\n194. 21013\n195. 21013\n196. 21013\n197. 20011\n198. 19625\n199. 19625\n200. 19625\n201. ⋯\n202. 52182\n203. 52182\n204. 52182\n205. 52182\n206. 52182\n207. 44660\n208. 44660\n209. 44660\n210. 44660\n211. 44660\n212. 51362\n213. 47724\n214. 51086\n215. 48545\n216. 46985\n217. 48964\n218. 48964\n219. 48964\n220. 48964\n221. 48964\n222. 47286\n223. 47286\n224. 53032\n225. 53032\n226. 53032\n227. 53032\n228. 56199\n229. 49017\n230. 51185\n231. 52770\n232. 56468\n233. 56468\n234. 56468\n235. 56468\n236. 56468\n237. 47680\n238. 50074\n239. 57938\n240. 53389\n241. 58817\n242. 58819\n243. 58819\n244. 58819\n245. 56008\n246. 53847\n247. 62145\n248. 57252\n249. 57252\n250. 57252\n251. 57252\n252. 57252\n253. 55726\n254. 55726\n255. 59344\n256. 62158\n257. 62158\n258. 62158\n259. 62158\n260. 62158\n261. 57856\n262. 62136\n263. 62136\n264. 63700\n265. 62184\n266. 62184\n267. 62184\n268. 62184\n269. 62184\n270. 60391\n271. 62584\n272. 62584\n273. 62584\n274. 62584\n275. 63542\n276. 63440\n277. 61121\n278. 61121\n279. 61121\n280. 61121\n281. 61121\n282. 62915\n283. 62915\n284. 63037\n285. 63037\n286. 63037\n287. 61906\n288. 64743\n289. 65099\n290. 66174\n291. 65644\n292. 64987\n293. 44171\n294. 44171\n295. 44171\n296. 44171\n297. 44171\n298. 41147\n299. 56882\n300. 56882\n301. 47697\n302. 47697\n303. 47697\n304. 47697\n305. 47697\n306. 37590\n307. 35165\n308. 35165\n309. 35165\n310. 35165\n311. 35165\n312. 37510\n313. 43475\n314. 43475\n315. 43475\n316. 43475\n317. 43475\n318. 61672\n319. 43895\n320. 64678\n321. 54370\n322. 43518\n323. 65225\n324. 65225\n325. 65225\n326. 65225\n327. 65225\n328. 32916\n329. 32916\n330. 47936\n331. 29451\n332. 29451\n333. 29451\n334. 29451\n335. 29451\n336. 63745\n337. 31317\n338. 31317\n339. 31317\n340. 31317\n341. 31317\n342. 48964\n343. 30971\n344. 30971\n345. 30971\n346. 30971\n347. 30971\n348. 41412\n349. 28743\n350. 28743\n351. 28743\n352. 28743\n353. 35877\n354. 35877\n355. 35877\n356. 35877\n357. 35877\n358. 60349\n359. 36383\n360. 63411\n361. 41257\n362. 37385\n363. 57092\n364. 57092\n365. 57092\n366. 57092\n367. 57092\n368. 56543\n369. 47067\n370. 49441\n371. 58464\n372. 58464\n373. 58464\n374. 58464\n375. 58464\n376. 43080\n377. 37441\n378. 32732\n379. 32732\n380. 32732\n381. 32732\n382. 32732\n383. 32992\n384. 32992\n385. 32992\n386. 32992\n387. 32992\n388. 38729\n389. 51446\n390. 60360\n391. 56405\n392. 56405\n393. 37538\n394. 57094\n395. 46891\n396. 25161\n397. 50370\n398. 37314\n399. 63684\n400. 58403\n401. 53441\n\n\n",
            "text/latex": "\\begin{enumerate*}\n\\item 1168\n\\item 1168\n\\item 1168\n\\item 1168\n\\item 1148\n\\item 379\n\\item 379\n\\item 379\n\\item 379\n\\item 379\n\\item 1793\n\\item 1793\n\\item 1793\n\\item 1793\n\\item 1793\n\\item 1707\n\\item 1707\n\\item 1707\n\\item 1707\n\\item 1707\n\\item 3087\n\\item 3087\n\\item 3087\n\\item 3087\n\\item 3087\n\\item 4887\n\\item 4887\n\\item 4887\n\\item 4887\n\\item 4887\n\\item 4908\n\\item 4908\n\\item 4908\n\\item 4908\n\\item 1984\n\\item 1984\n\\item 1984\n\\item 1984\n\\item 1984\n\\item 2167\n\\item 2167\n\\item 2167\n\\item 2167\n\\item 2167\n\\item 4993\n\\item 6211\n\\item 6211\n\\item 6211\n\\item 6211\n\\item 6211\n\\item 2290\n\\item 2290\n\\item 2290\n\\item 2290\n\\item 2290\n\\item 6721\n\\item 6721\n\\item 6721\n\\item 6150\n\\item 8891\n\\item 8040\n\\item 8040\n\\item 8040\n\\item 8040\n\\item 8040\n\\item 7676\n\\item 7676\n\\item 7676\n\\item 7676\n\\item 7676\n\\item 5244\n\\item 8673\n\\item 8673\n\\item 8673\n\\item 8673\n\\item 8673\n\\item 8234\n\\item 8234\n\\item 8234\n\\item 8234\n\\item 8234\n\\item 9590\n\\item 9590\n\\item 9590\n\\item 9590\n\\item 9590\n\\item 9490\n\\item 10272\n\\item 10272\n\\item 10272\n\\item 10272\n\\item 11013\n\\item 11013\n\\item 12746\n\\item 12746\n\\item 12746\n\\item 12746\n\\item 12746\n\\item 12257\n\\item 12257\n\\item 12257\n\\item 12257\n\\item 12257\n\\item 12794\n\\item 12794\n\\item 12794\n\\item 12794\n\\item 12794\n\\item 10491\n\\item 10491\n\\item 10491\n\\item 10491\n\\item 10491\n\\item 12524\n\\item 14196\n\\item 14196\n\\item 14196\n\\item 12963\n\\item 12963\n\\item 12963\n\\item 12963\n\\item 12963\n\\item 13540\n\\item 13540\n\\item 15008\n\\item 15008\n\\item 15008\n\\item 15008\n\\item 15008\n\\item 14646\n\\item 14862\n\\item 14862\n\\item 14862\n\\item 14862\n\\item 14862\n\\item 16148\n\\item 16148\n\\item 14970\n\\item 18017\n\\item 17978\n\\item 17978\n\\item 16984\n\\item 18296\n\\item 18296\n\\item 18296\n\\item 18296\n\\item 18296\n\\item 19639\n\\item 19639\n\\item 19639\n\\item 19639\n\\item 19639\n\\item 18098\n\\item 18098\n\\item 18098\n\\item 18098\n\\item 18098\n\\item 18704\n\\item 18704\n\\item 18704\n\\item 18704\n\\item 19375\n\\item 19375\n\\item 21321\n\\item 21321\n\\item 21321\n\\item 21321\n\\item 17929\n\\item 15951\n\\item 15951\n\\item 15951\n\\item 19970\n\\item 19970\n\\item 20635\n\\item 20635\n\\item 20635\n\\item 20176\n\\item 20176\n\\item 20176\n\\item 16574\n\\item 18901\n\\item 18901\n\\item 18901\n\\item 18901\n\\item 18901\n\\item 21314\n\\item 20473\n\\item 20473\n\\item 20473\n\\item 20473\n\\item 20473\n\\item 21013\n\\item 21013\n\\item 21013\n\\item 21013\n\\item 21013\n\\item 20011\n\\item 19625\n\\item 19625\n\\item 19625\n\\item ⋯\n\\item 52182\n\\item 52182\n\\item 52182\n\\item 52182\n\\item 52182\n\\item 44660\n\\item 44660\n\\item 44660\n\\item 44660\n\\item 44660\n\\item 51362\n\\item 47724\n\\item 51086\n\\item 48545\n\\item 46985\n\\item 48964\n\\item 48964\n\\item 48964\n\\item 48964\n\\item 48964\n\\item 47286\n\\item 47286\n\\item 53032\n\\item 53032\n\\item 53032\n\\item 53032\n\\item 56199\n\\item 49017\n\\item 51185\n\\item 52770\n\\item 56468\n\\item 56468\n\\item 56468\n\\item 56468\n\\item 56468\n\\item 47680\n\\item 50074\n\\item 57938\n\\item 53389\n\\item 58817\n\\item 58819\n\\item 58819\n\\item 58819\n\\item 56008\n\\item 53847\n\\item 62145\n\\item 57252\n\\item 57252\n\\item 57252\n\\item 57252\n\\item 57252\n\\item 55726\n\\item 55726\n\\item 59344\n\\item 62158\n\\item 62158\n\\item 62158\n\\item 62158\n\\item 62158\n\\item 57856\n\\item 62136\n\\item 62136\n\\item 63700\n\\item 62184\n\\item 62184\n\\item 62184\n\\item 62184\n\\item 62184\n\\item 60391\n\\item 62584\n\\item 62584\n\\item 62584\n\\item 62584\n\\item 63542\n\\item 63440\n\\item 61121\n\\item 61121\n\\item 61121\n\\item 61121\n\\item 61121\n\\item 62915\n\\item 62915\n\\item 63037\n\\item 63037\n\\item 63037\n\\item 61906\n\\item 64743\n\\item 65099\n\\item 66174\n\\item 65644\n\\item 64987\n\\item 44171\n\\item 44171\n\\item 44171\n\\item 44171\n\\item 44171\n\\item 41147\n\\item 56882\n\\item 56882\n\\item 47697\n\\item 47697\n\\item 47697\n\\item 47697\n\\item 47697\n\\item 37590\n\\item 35165\n\\item 35165\n\\item 35165\n\\item 35165\n\\item 35165\n\\item 37510\n\\item 43475\n\\item 43475\n\\item 43475\n\\item 43475\n\\item 43475\n\\item 61672\n\\item 43895\n\\item 64678\n\\item 54370\n\\item 43518\n\\item 65225\n\\item 65225\n\\item 65225\n\\item 65225\n\\item 65225\n\\item 32916\n\\item 32916\n\\item 47936\n\\item 29451\n\\item 29451\n\\item 29451\n\\item 29451\n\\item 29451\n\\item 63745\n\\item 31317\n\\item 31317\n\\item 31317\n\\item 31317\n\\item 31317\n\\item 48964\n\\item 30971\n\\item 30971\n\\item 30971\n\\item 30971\n\\item 30971\n\\item 41412\n\\item 28743\n\\item 28743\n\\item 28743\n\\item 28743\n\\item 35877\n\\item 35877\n\\item 35877\n\\item 35877\n\\item 35877\n\\item 60349\n\\item 36383\n\\item 63411\n\\item 41257\n\\item 37385\n\\item 57092\n\\item 57092\n\\item 57092\n\\item 57092\n\\item 57092\n\\item 56543\n\\item 47067\n\\item 49441\n\\item 58464\n\\item 58464\n\\item 58464\n\\item 58464\n\\item 58464\n\\item 43080\n\\item 37441\n\\item 32732\n\\item 32732\n\\item 32732\n\\item 32732\n\\item 32732\n\\item 32992\n\\item 32992\n\\item 32992\n\\item 32992\n\\item 32992\n\\item 38729\n\\item 51446\n\\item 60360\n\\item 56405\n\\item 56405\n\\item 37538\n\\item 57094\n\\item 46891\n\\item 25161\n\\item 50370\n\\item 37314\n\\item 63684\n\\item 58403\n\\item 53441\n\\end{enumerate*}\n",
            "text/plain": [
              "  [1]  1168  1168  1168  1168  1148   379   379   379   379   379  1793  1793\n",
              " [13]  1793  1793  1793  1707  1707  1707  1707  1707  3087  3087  3087  3087\n",
              " [25]  3087  4887  4887  4887  4887  4887  4908  4908  4908  4908  1984  1984\n",
              " [37]  1984  1984  1984  2167  2167  2167  2167  2167  4993  6211  6211  6211\n",
              " [49]  6211  6211  2290  2290  2290  2290  2290  6721  6721  6721  6150  8891\n",
              " [61]  8040  8040  8040  8040  8040  7676  7676  7676  7676  7676  5244  8673\n",
              " [73]  8673  8673  8673  8673  8234  8234  8234  8234  8234  9590  9590  9590\n",
              " [85]  9590  9590  9490 10272 10272 10272 10272 11013 11013 12746 12746 12746\n",
              " [97] 12746 12746 12257 12257 12257 12257 12257 12794 12794 12794 12794 12794\n",
              "[109] 10491 10491 10491 10491 10491 12524 14196 14196 14196 12963 12963 12963\n",
              "[121] 12963 12963 13540 13540 15008 15008 15008 15008 15008 14646 14862 14862\n",
              "[133] 14862 14862 14862 16148 16148 14970 18017 17978 17978 16984 18296 18296\n",
              "[145] 18296 18296 18296 19639 19639 19639 19639 19639 18098 18098 18098 18098\n",
              "[157] 18098 18704 18704 18704 18704 19375 19375 21321 21321 21321 21321 17929\n",
              "[169] 15951 15951 15951 19970 19970 20635 20635 20635 20176 20176 20176 16574\n",
              "[181] 18901 18901 18901 18901 18901 21314 20473 20473 20473 20473 20473 21013\n",
              "[193] 21013 21013 21013 21013 20011 19625 19625 19625 19625 19625 21234 21234\n",
              "[205] 21234 22183 22183 24445 24445 24445 24445 24445 24796 24796 24796 24796\n",
              "[217] 24796 23577 23577 23577 23577 23577 24298 24298 24298 24298 24298 26917\n",
              "[229] 26258 26258 26258 26258 26258 26946 29221 29221 29221 29243 29243 29243\n",
              "[241] 29243 29243 28344 28344 28344 28344 28344 29178 28454 28454 28454 28454\n",
              "[253] 28454 30780 30780 30780 30780 30780 28199 32603 32603 32603 32603 32603\n",
              "[265] 30448 30631 30631 32321 32321 32321 32321 31918 31918 31918 31918 31918\n",
              "[277] 34437 34437 34437 34437 34437 35921 35921 35921 35921 35921 36234 36234\n",
              "[289] 34145 34145 34145 34833 34833 34833 34833 34833 33671 33671 33671 33671\n",
              "[301] 33671 37191 37191 37191 37191 37191 37430 36008 36008 36008 36008 36008\n",
              "[313] 37487 37875 37875 37875 37875 37875 42919 35617 35617 41484 34706 34706\n",
              "[325] 34706 34706 34706 41983 38583 42041 34838 41318 41318 43410 42744 43832\n",
              "[337] 44789 44789 45233 41982 41986 41986 44800 41510 41053 49706 45761 51003\n",
              "[349] 46544 47923 40465 47256 45913 45913 45913 45913 45913 50356 43493 49930\n",
              "[361] 46640 48637 48637 48637 48637 48637 45538 48607 48607 48607 48607 48607\n",
              "[373] 53319 52182 52182 52182 52182 52182 44660 44660 44660 44660 44660 51362\n",
              "[385] 47724 51086 48545 46985 48964 48964 48964 48964 48964 47286 47286 53032\n",
              "[397] 53032 53032 53032 56199 49017 51185 52770 56468 56468 56468 56468 56468\n",
              "[409] 47680 50074 57938 53389 58817 58819 58819 58819 56008 53847 62145 57252\n",
              "[421] 57252 57252 57252 57252 55726 55726 59344 62158 62158 62158 62158 62158\n",
              "[433] 57856 62136 62136 63700 62184 62184 62184 62184 62184 60391 62584 62584\n",
              "[445] 62584 62584 63542 63440 61121 61121 61121 61121 61121 62915 62915 63037\n",
              "[457] 63037 63037 61906 64743 65099 66174 65644 64987 44171 44171 44171 44171\n",
              "[469] 44171 41147 56882 56882 47697 47697 47697 47697 47697 37590 35165 35165\n",
              "[481] 35165 35165 35165 37510 43475 43475 43475 43475 43475 61672 43895 64678\n",
              "[493] 54370 43518 65225 65225 65225 65225 65225 32916 32916 47936 29451 29451\n",
              "[505] 29451 29451 29451 63745 31317 31317 31317 31317 31317 48964 30971 30971\n",
              "[517] 30971 30971 30971 41412 28743 28743 28743 28743 35877 35877 35877 35877\n",
              "[529] 35877 60349 36383 63411 41257 37385 57092 57092 57092 57092 57092 56543\n",
              "[541] 47067 49441 58464 58464 58464 58464 58464 43080 37441 32732 32732 32732\n",
              "[553] 32732 32732 32992 32992 32992 32992 32992 38729 51446 60360 56405 56405\n",
              "[565] 37538 57094 46891 25161 50370 37314 63684 58403 53441"
            ]
          },
          "metadata": {}
        }
      ]
    },
    {
      "cell_type": "code",
      "source": [
        "  grid_int_dt_split <- grid_int_dt %>% split(fia_dt$PLOT)\n",
        "\n",
        "  sample_vec <- grid_int_dt_split %>% lapply(function(x){sample(x[[1]],1) %>% rep(length(x))}) %>% unlist %>% as.numeric\n",
        "\n",
        "  rf_dt <- data.table(fia_dt[,c('PLOT','SOC_Mg_Ha','DEPTH_UPPER','DEPTH_LOWER','county_name')], grid_dt[sample_vec,])\n",
        "\n",
        "  x_var <- c('DEPTH_UPPER','DEPTH_LOWER',(rf_dt %>% names)[-c(1,2,3,4,5,6,7,8,9,10,ncol(rf_dt) )])\n",
        "  # print(x_var)\n",
        "  rf_form <- as.formula(paste0('SOC_Mg_Ha~',paste(x_var,collapse = '+')))\n",
        "\n",
        "  rf_dt <-  rf_dt[complete.cases(rf_dt[,-c(ncol(rf_dt)),with=F]),]\n",
        "  rf_dt <-  rf_dt[!is.na(SOC_Mg_Ha),]\n",
        "\n",
        "  # print(nrows(rf_dt))\n",
        "  rf_terra <- randomForest(rf_form,rf_dt,verbose=T)\n",
        "\n",
        "  rf_imp_dt <- rf_terra$importance %>% t %>% data.table\n",
        "\n",
        "  names(rf_imp_dt) <-paste0('var_imp_',names(rf_imp_dt))\n",
        "\n",
        "  out_dt <- data.table(rf_dt,data.table(predicted = rf_terra$predicted),rf_imp_dt[rep(1,nrow(rf_dt)),])\n",
        "\n",
        "\n",
        "\n",
        "  out_dt$r2_depth <- rf_terra$rsq[500]\n",
        "\n",
        "  out_dt$r2_plot <-(lm(SOC_Mg_Ha~predicted,out_dt[,list(SOC_Mg_Ha = sum(SOC_Mg_Ha),predicted = sum(predicted)),by=PLOT]) %>% summary())$r.squared"
      ],
      "metadata": {
        "id": "A6S27OWry3VO"
      },
      "execution_count": 156,
      "outputs": []
    },
    {
      "cell_type": "code",
      "source": [
        "# rf_terra %>% varImpPlot"
      ],
      "metadata": {
        "id": "9prZUazs0YQd",
        "outputId": "11357a45-5f46-4ad9-dae2-f2fc82da5d49",
        "colab": {
          "base_uri": "https://localhost:8080/",
          "height": 437
        }
      },
      "execution_count": 98,
      "outputs": [
        {
          "output_type": "display_data",
          "data": {
            "text/plain": [
              "Plot with title “.”"
            ],
            "image/png": "[encoded data removed]"
          },
          "metadata": {
            "image/png": {
              "width": 420,
              "height": 420
            }
          }
        }
      ]
    },
    {
      "cell_type": "code",
      "source": [
        "# for( i in 1:30){\n",
        "cl <-makeCluster(8)\n",
        "sim_dt <-\n",
        "1:1000 %>% parLapply(cl,.,function(m,fia_dt,grid_dt,grid_int_dt){\n",
        "  library(sf)\n",
        "  library(magrittr)\n",
        "  library(data.table)\n",
        "  library(raster)\n",
        "  library(exactextractr)\n",
        "  library(terra)\n",
        "  library(randomForest)\n",
        "\n",
        "  grid_int_dt_split <- grid_int_dt %>% split(fia_dt$PLOT)\n",
        "\n",
        "  sample_vec <- grid_int_dt_split %>% lapply(function(x){sample(x[[1]],1) %>% rep(length(x))}) %>% unlist %>% as.numeric\n",
        "\n",
        "  rf_dt <- data.table(fia_dt[,c('PLOT','SOC_Mg_Ha','DEPTH_UPPER','DEPTH_LOWER','county_name')], grid_dt[sample_vec,])\n",
        "\n",
        "  x_var <- c('DEPTH_UPPER','DEPTH_LOWER',(rf_dt %>% names)[-c(1,2,3,4,5,6,7,8,9,10,ncol(rf_dt) )])\n",
        "  # print(x_var)\n",
        "  rf_form <- as.formula(paste0('SOC_Mg_Ha~',paste(x_var,collapse = '+')))\n",
        "\n",
        "  rf_dt <-  rf_dt[complete.cases(rf_dt[,-c(ncol(rf_dt)),with=F]),]\n",
        "  rf_dt <-  rf_dt[!is.na(SOC_Mg_Ha),]\n",
        "\n",
        "  # print(nrows(rf_dt))\n",
        "  rf_terra <- randomForest(rf_form,rf_dt,verbose=T)\n",
        "\n",
        "  rf_imp_dt <- rf_terra$importance %>% t %>% data.table\n",
        "\n",
        "  names(rf_imp_dt) <-paste0('var_imp_',names(rf_imp_dt))\n",
        "\n",
        "  out_dt <- data.table(rf_dt,data.table(predicted = rf_terra$predicted),rf_imp_dt[rep(1,nrow(rf_dt)),])\n",
        "\n",
        "\n",
        "\n",
        "  out_dt$r2_depth <- rf_terra$rsq[500]\n",
        "\n",
        "  out_dt$r2_plot <-(lm(SOC_Mg_Ha~predicted,out_dt[,list(SOC_Mg_Ha = sum(SOC_Mg_Ha),predicted = sum(predicted)),by=PLOT]) %>% summary())$r.squared\n",
        "\n",
        "  return(out_dt[county_name %in% 'Hawaii'])\n",
        "  },fia_dt,grid_dt,grid_int_dt) %>%\n",
        "  rbindlist\n",
        "stopCluster(cl)\n",
        "\n",
        "# sim_dt %>% st_write(paste0(\"/content/sim_results_Hawaii_10000m_Run\",i,\".gpkg\"), append=FALSE)\n",
        "\n",
        "# drive_upload(paste0(\"/content/sim_results_Hawaii_10000m_Run\",i,\".gpkg\"), path = as_id(\"1uVZCzCb5gRE8wfZckspRuKz1TQd5LpeM\"))\n",
        "# }"
      ],
      "metadata": {
        "id": "KB9q5pEwEkvI"
      },
      "execution_count": null,
      "outputs": []
    },
    {
      "cell_type": "code",
      "source": [
        "sim_dt %>% head"
      ],
      "metadata": {
        "colab": {
          "base_uri": "https://localhost:8080/",
          "height": 306
        },
        "id": "nkJzdvNRwaxn",
        "outputId": "6a39898f-ac33-4a4a-9dab-ed7b044394e3"
      },
      "execution_count": 146,
      "outputs": [
        {
          "output_type": "display_data",
          "data": {
            "text/html": [
              "<table class=\"dataframe\">\n",
              "<caption>A data.table: 6 × 79</caption>\n",
              "<thead>\n",
              "\t<tr><th scope=col>PLOT</th><th scope=col>SOC_Mg_Ha</th><th scope=col>DEPTH_UPPER</th><th scope=col>DEPTH_LOWER</th><th scope=col>county_name</th><th scope=col>id</th><th scope=col>left</th><th scope=col>top</th><th scope=col>right</th><th scope=col>bottom</th><th scope=col>⋯</th><th scope=col>var_imp_vap</th><th scope=col>var_imp_vpd</th><th scope=col>var_imp_vs</th><th scope=col>var_imp_agbd_m</th><th scope=col>var_imp_agbd_sd</th><th scope=col>var_imp_agbd_n</th><th scope=col>var_imp_majorcomposition</th><th scope=col>var_imp_age_years</th><th scope=col>var_imp_Age_Class</th><th scope=col>r2</th></tr>\n",
              "\t<tr><th scope=col>&lt;chr&gt;</th><th scope=col>&lt;dbl&gt;</th><th scope=col>&lt;dbl&gt;</th><th scope=col>&lt;dbl&gt;</th><th scope=col>&lt;chr&gt;</th><th scope=col>&lt;dbl&gt;</th><th scope=col>&lt;dbl&gt;</th><th scope=col>&lt;dbl&gt;</th><th scope=col>&lt;dbl&gt;</th><th scope=col>&lt;dbl&gt;</th><th scope=col>⋯</th><th scope=col>&lt;dbl&gt;</th><th scope=col>&lt;dbl&gt;</th><th scope=col>&lt;dbl&gt;</th><th scope=col>&lt;dbl&gt;</th><th scope=col>&lt;dbl&gt;</th><th scope=col>&lt;dbl&gt;</th><th scope=col>&lt;dbl&gt;</th><th scope=col>&lt;dbl&gt;</th><th scope=col>&lt;dbl&gt;</th><th scope=col>&lt;dbl&gt;</th></tr>\n",
              "</thead>\n",
              "<tbody>\n",
              "\t<tr><td>2159</td><td>128.44035</td><td> 0</td><td> 20</td><td>Hawaii</td><td>2568074</td><td>476661.4</td><td>145202.3</td><td>476911.4</td><td>145452.3</td><td>⋯</td><td>23654.43</td><td>25880.17</td><td>41244.31</td><td>24506.67</td><td>21264.28</td><td>20454.92</td><td>12537.7</td><td>19708.9</td><td>11609.33</td><td>0.2621513</td></tr>\n",
              "\t<tr><td>2159</td><td>130.21346</td><td>20</td><td> 40</td><td>Hawaii</td><td>2568074</td><td>476661.4</td><td>145202.3</td><td>476911.4</td><td>145452.3</td><td>⋯</td><td>23654.43</td><td>25880.17</td><td>41244.31</td><td>24506.67</td><td>21264.28</td><td>20454.92</td><td>12537.7</td><td>19708.9</td><td>11609.33</td><td>0.2621513</td></tr>\n",
              "\t<tr><td>2159</td><td> 28.53641</td><td>40</td><td> 60</td><td>Hawaii</td><td>2568074</td><td>476661.4</td><td>145202.3</td><td>476911.4</td><td>145452.3</td><td>⋯</td><td>23654.43</td><td>25880.17</td><td>41244.31</td><td>24506.67</td><td>21264.28</td><td>20454.92</td><td>12537.7</td><td>19708.9</td><td>11609.33</td><td>0.2621513</td></tr>\n",
              "\t<tr><td>2159</td><td> 56.95289</td><td>60</td><td> 80</td><td>Hawaii</td><td>2568074</td><td>476661.4</td><td>145202.3</td><td>476911.4</td><td>145452.3</td><td>⋯</td><td>23654.43</td><td>25880.17</td><td>41244.31</td><td>24506.67</td><td>21264.28</td><td>20454.92</td><td>12537.7</td><td>19708.9</td><td>11609.33</td><td>0.2621513</td></tr>\n",
              "\t<tr><td>2159</td><td> 77.09995</td><td>80</td><td>100</td><td>Hawaii</td><td>2568074</td><td>476661.4</td><td>145202.3</td><td>476911.4</td><td>145452.3</td><td>⋯</td><td>23654.43</td><td>25880.17</td><td>41244.31</td><td>24506.67</td><td>21264.28</td><td>20454.92</td><td>12537.7</td><td>19708.9</td><td>11609.33</td><td>0.2621513</td></tr>\n",
              "\t<tr><td>2167</td><td> 70.85956</td><td> 0</td><td> 20</td><td>Hawaii</td><td>2587635</td><td>479911.4</td><td>139702.3</td><td>480161.4</td><td>139952.3</td><td>⋯</td><td>23654.43</td><td>25880.17</td><td>41244.31</td><td>24506.67</td><td>21264.28</td><td>20454.92</td><td>12537.7</td><td>19708.9</td><td>11609.33</td><td>0.2621513</td></tr>\n",
              "</tbody>\n",
              "</table>\n"
            ],
            "text/markdown": "\nA data.table: 6 × 79\n\n| PLOT &lt;chr&gt; | SOC_Mg_Ha &lt;dbl&gt; | DEPTH_UPPER &lt;dbl&gt; | DEPTH_LOWER &lt;dbl&gt; | county_name &lt;chr&gt; | id &lt;dbl&gt; | left &lt;dbl&gt; | top &lt;dbl&gt; | right &lt;dbl&gt; | bottom &lt;dbl&gt; | ⋯ ⋯ | var_imp_vap &lt;dbl&gt; | var_imp_vpd &lt;dbl&gt; | var_imp_vs &lt;dbl&gt; | var_imp_agbd_m &lt;dbl&gt; | var_imp_agbd_sd &lt;dbl&gt; | var_imp_agbd_n &lt;dbl&gt; | var_imp_majorcomposition &lt;dbl&gt; | var_imp_age_years &lt;dbl&gt; | var_imp_Age_Class &lt;dbl&gt; | r2 &lt;dbl&gt; |\n|---|---|---|---|---|---|---|---|---|---|---|---|---|---|---|---|---|---|---|---|---|\n| 2159 | 128.44035 |  0 |  20 | Hawaii | 2568074 | 476661.4 | 145202.3 | 476911.4 | 145452.3 | ⋯ | 23654.43 | 25880.17 | 41244.31 | 24506.67 | 21264.28 | 20454.92 | 12537.7 | 19708.9 | 11609.33 | 0.2621513 |\n| 2159 | 130.21346 | 20 |  40 | Hawaii | 2568074 | 476661.4 | 145202.3 | 476911.4 | 145452.3 | ⋯ | 23654.43 | 25880.17 | 41244.31 | 24506.67 | 21264.28 | 20454.92 | 12537.7 | 19708.9 | 11609.33 | 0.2621513 |\n| 2159 |  28.53641 | 40 |  60 | Hawaii | 2568074 | 476661.4 | 145202.3 | 476911.4 | 145452.3 | ⋯ | 23654.43 | 25880.17 | 41244.31 | 24506.67 | 21264.28 | 20454.92 | 12537.7 | 19708.9 | 11609.33 | 0.2621513 |\n| 2159 |  56.95289 | 60 |  80 | Hawaii | 2568074 | 476661.4 | 145202.3 | 476911.4 | 145452.3 | ⋯ | 23654.43 | 25880.17 | 41244.31 | 24506.67 | 21264.28 | 20454.92 | 12537.7 | 19708.9 | 11609.33 | 0.2621513 |\n| 2159 |  77.09995 | 80 | 100 | Hawaii | 2568074 | 476661.4 | 145202.3 | 476911.4 | 145452.3 | ⋯ | 23654.43 | 25880.17 | 41244.31 | 24506.67 | 21264.28 | 20454.92 | 12537.7 | 19708.9 | 11609.33 | 0.2621513 |\n| 2167 |  70.85956 |  0 |  20 | Hawaii | 2587635 | 479911.4 | 139702.3 | 480161.4 | 139952.3 | ⋯ | 23654.43 | 25880.17 | 41244.31 | 24506.67 | 21264.28 | 20454.92 | 12537.7 | 19708.9 | 11609.33 | 0.2621513 |\n\n",
            "text/latex": "A data.table: 6 × 79\n\\begin{tabular}{lllllllllllllllllllll}\n PLOT & SOC\\_Mg\\_Ha & DEPTH\\_UPPER & DEPTH\\_LOWER & county\\_name & id & left & top & right & bottom & ⋯ & var\\_imp\\_vap & var\\_imp\\_vpd & var\\_imp\\_vs & var\\_imp\\_agbd\\_m & var\\_imp\\_agbd\\_sd & var\\_imp\\_agbd\\_n & var\\_imp\\_majorcomposition & var\\_imp\\_age\\_years & var\\_imp\\_Age\\_Class & r2\\\\\n <chr> & <dbl> & <dbl> & <dbl> & <chr> & <dbl> & <dbl> & <dbl> & <dbl> & <dbl> & ⋯ & <dbl> & <dbl> & <dbl> & <dbl> & <dbl> & <dbl> & <dbl> & <dbl> & <dbl> & <dbl>\\\\\n\\hline\n\t 2159 & 128.44035 &  0 &  20 & Hawaii & 2568074 & 476661.4 & 145202.3 & 476911.4 & 145452.3 & ⋯ & 23654.43 & 25880.17 & 41244.31 & 24506.67 & 21264.28 & 20454.92 & 12537.7 & 19708.9 & 11609.33 & 0.2621513\\\\\n\t 2159 & 130.21346 & 20 &  40 & Hawaii & 2568074 & 476661.4 & 145202.3 & 476911.4 & 145452.3 & ⋯ & 23654.43 & 25880.17 & 41244.31 & 24506.67 & 21264.28 & 20454.92 & 12537.7 & 19708.9 & 11609.33 & 0.2621513\\\\\n\t 2159 &  28.53641 & 40 &  60 & Hawaii & 2568074 & 476661.4 & 145202.3 & 476911.4 & 145452.3 & ⋯ & 23654.43 & 25880.17 & 41244.31 & 24506.67 & 21264.28 & 20454.92 & 12537.7 & 19708.9 & 11609.33 & 0.2621513\\\\\n\t 2159 &  56.95289 & 60 &  80 & Hawaii & 2568074 & 476661.4 & 145202.3 & 476911.4 & 145452.3 & ⋯ & 23654.43 & 25880.17 & 41244.31 & 24506.67 & 21264.28 & 20454.92 & 12537.7 & 19708.9 & 11609.33 & 0.2621513\\\\\n\t 2159 &  77.09995 & 80 & 100 & Hawaii & 2568074 & 476661.4 & 145202.3 & 476911.4 & 145452.3 & ⋯ & 23654.43 & 25880.17 & 41244.31 & 24506.67 & 21264.28 & 20454.92 & 12537.7 & 19708.9 & 11609.33 & 0.2621513\\\\\n\t 2167 &  70.85956 &  0 &  20 & Hawaii & 2587635 & 479911.4 & 139702.3 & 480161.4 & 139952.3 & ⋯ & 23654.43 & 25880.17 & 41244.31 & 24506.67 & 21264.28 & 20454.92 & 12537.7 & 19708.9 & 11609.33 & 0.2621513\\\\\n\\end{tabular}\n",
            "text/plain": [
              "  PLOT SOC_Mg_Ha DEPTH_UPPER DEPTH_LOWER county_name id      left     top     \n",
              "1 2159 128.44035  0           20         Hawaii      2568074 476661.4 145202.3\n",
              "2 2159 130.21346 20           40         Hawaii      2568074 476661.4 145202.3\n",
              "3 2159  28.53641 40           60         Hawaii      2568074 476661.4 145202.3\n",
              "4 2159  56.95289 60           80         Hawaii      2568074 476661.4 145202.3\n",
              "5 2159  77.09995 80          100         Hawaii      2568074 476661.4 145202.3\n",
              "6 2167  70.85956  0           20         Hawaii      2587635 479911.4 139702.3\n",
              "  right    bottom   ⋯ var_imp_vap var_imp_vpd var_imp_vs var_imp_agbd_m\n",
              "1 476911.4 145452.3 ⋯ 23654.43    25880.17    41244.31   24506.67      \n",
              "2 476911.4 145452.3 ⋯ 23654.43    25880.17    41244.31   24506.67      \n",
              "3 476911.4 145452.3 ⋯ 23654.43    25880.17    41244.31   24506.67      \n",
              "4 476911.4 145452.3 ⋯ 23654.43    25880.17    41244.31   24506.67      \n",
              "5 476911.4 145452.3 ⋯ 23654.43    25880.17    41244.31   24506.67      \n",
              "6 480161.4 139952.3 ⋯ 23654.43    25880.17    41244.31   24506.67      \n",
              "  var_imp_agbd_sd var_imp_agbd_n var_imp_majorcomposition var_imp_age_years\n",
              "1 21264.28        20454.92       12537.7                  19708.9          \n",
              "2 21264.28        20454.92       12537.7                  19708.9          \n",
              "3 21264.28        20454.92       12537.7                  19708.9          \n",
              "4 21264.28        20454.92       12537.7                  19708.9          \n",
              "5 21264.28        20454.92       12537.7                  19708.9          \n",
              "6 21264.28        20454.92       12537.7                  19708.9          \n",
              "  var_imp_Age_Class r2       \n",
              "1 11609.33          0.2621513\n",
              "2 11609.33          0.2621513\n",
              "3 11609.33          0.2621513\n",
              "4 11609.33          0.2621513\n",
              "5 11609.33          0.2621513\n",
              "6 11609.33          0.2621513"
            ]
          },
          "metadata": {}
        }
      ]
    },
    {
      "cell_type": "code",
      "source": [
        "# Write to GeoPackage\n",
        "sim_dt %>% st_write(\"/content/sim_results_Hawaii_10000m_Run1.gpkg\", append=FALSE)"
      ],
      "metadata": {
        "id": "VnxBhpa9WOK0"
      },
      "execution_count": null,
      "outputs": []
    },
    {
      "cell_type": "code",
      "source": [
        "# https://drive.google.com/drive/folders/1uVZCzCb5gRE8wfZckspRuKz1TQd5LpeM?usp=drive_link\n",
        "drive_upload(\"/content/sim_results_Hawaii_10000m_Run1.gpkg\", path = as_id(\"1uVZCzCb5gRE8wfZckspRuKz1TQd5LpeM\"))"
      ],
      "metadata": {
        "id": "d4KevyDNXPgo"
      },
      "execution_count": null,
      "outputs": []
    },
    {
      "cell_type": "code",
      "source": [
        "# sim_dt"
      ],
      "metadata": {
        "id": "FB2Kru8Fcdpi"
      },
      "execution_count": null,
      "outputs": []
    },
    {
      "cell_type": "code",
      "source": [
        "sim_dt %>%\n",
        "  ggplot(aes(y=SOC_Mg_Ha,x=predicted))+\n",
        "    geom_bin2d() +\n",
        "    geom_abline()+\n",
        "    geom_smooth(method = 'lm')"
      ],
      "metadata": {
        "id": "Kdno5JZ0Yev5",
        "colab": {
          "base_uri": "https://localhost:8080/",
          "height": 455
        },
        "outputId": "745d2389-cf74-4f43-9f0d-66408a445de7"
      },
      "execution_count": 151,
      "outputs": [
        {
          "output_type": "stream",
          "name": "stderr",
          "text": [
            "\u001b[1m\u001b[22m`geom_smooth()` using formula = 'y ~ x'\n"
          ]
        },
        {
          "output_type": "display_data",
          "data": {
            "text/plain": [
              "plot without title"
            ],
            "image/png": "[encoded data removed]"
          },
          "metadata": {
            "image/png": {
              "width": 420,
              "height": 420
            }
          }
        }
      ]
    }
  ]
}