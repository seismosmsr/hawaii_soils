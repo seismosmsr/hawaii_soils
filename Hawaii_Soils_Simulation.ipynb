{
  "nbformat": 4,
  "nbformat_minor": 0,
  "metadata": {
    "colab": {
      "provenance": [],
      "machine_shape": "hm",
      "authorship_tag": "ABX9TyMvPkxTFsdMGGDXcGWNcBmE",
      "include_colab_link": true
    },
    "kernelspec": {
      "name": "ir",
      "display_name": "R"
    },
    "language_info": {
      "name": "R"
    }
  },
  "cells": [
    {
      "cell_type": "markdown",
      "metadata": {
        "id": "view-in-github",
        "colab_type": "text"
      },
      "source": [
        "<a href=\"https://colab.research.google.com/github/seismosmsr/hawaii_soils/blob/main/Hawaii_Soils_Simulation.ipynb\" target=\"_parent\"><img src=\"https://colab.research.google.com/assets/colab-badge.svg\" alt=\"Open In Colab\"/></a>"
      ]
    },
    {
      "cell_type": "code",
      "execution_count": 1,
      "metadata": {
        "colab": {
          "base_uri": "https://localhost:8080/"
        },
        "id": "w3b2Yt1zzBa4",
        "outputId": "ea8c4aa7-ac2e-45e1-8690-f690cbbc6beb"
      },
      "outputs": [
        {
          "output_type": "stream",
          "name": "stderr",
          "text": [
            "Installing package into ‘/usr/local/lib/R/site-library’\n",
            "(as ‘lib’ is unspecified)\n",
            "\n",
            "also installing the dependencies ‘proxy’, ‘e1071’, ‘wk’, ‘classInt’, ‘Rcpp’, ‘s2’, ‘units’\n",
            "\n",
            "\n",
            "Installing package into ‘/usr/local/lib/R/site-library’\n",
            "(as ‘lib’ is unspecified)\n",
            "\n",
            "also installing the dependencies ‘sp’, ‘terra’\n",
            "\n",
            "\n",
            "Installing package into ‘/usr/local/lib/R/site-library’\n",
            "(as ‘lib’ is unspecified)\n",
            "\n",
            "Installing package into ‘/usr/local/lib/R/site-library’\n",
            "(as ‘lib’ is unspecified)\n",
            "\n",
            "Installing package into ‘/usr/local/lib/R/site-library’\n",
            "(as ‘lib’ is unspecified)\n",
            "\n",
            "Warning message:\n",
            "“package ‘googletoken’ is not available for this version of R\n",
            "\n",
            "A version of this package for your version of R might be available elsewhere,\n",
            "see the ideas at\n",
            "https://cran.r-project.org/doc/manuals/r-patched/R-admin.html#Installing-packages”\n",
            "Installing package into ‘/usr/local/lib/R/site-library’\n",
            "(as ‘lib’ is unspecified)\n",
            "\n",
            "Installing package into ‘/usr/local/lib/R/site-library’\n",
            "(as ‘lib’ is unspecified)\n",
            "\n",
            "also installing the dependency ‘plogr’\n",
            "\n",
            "\n",
            "Installing package into ‘/usr/local/lib/R/site-library’\n",
            "(as ‘lib’ is unspecified)\n",
            "\n",
            "Installing package into ‘/usr/local/lib/R/site-library’\n",
            "(as ‘lib’ is unspecified)\n",
            "\n",
            "Installing package into ‘/usr/local/lib/R/site-library’\n",
            "(as ‘lib’ is unspecified)\n",
            "\n"
          ]
        }
      ],
      "source": [
        "install.packages('sf')\n",
        "install.packages('raster')\n",
        "install.packages('exactextractr')\n",
        "install.packages(\"googledrive\")\n",
        "install.packages(\"googletoken\")\n",
        "install.packages(\"DBI\")\n",
        "install.packages(\"RSQLite\")\n",
        "install.packages(\"RPostgreSQL\")\n",
        "install.packages(\"terra\")\n",
        "install.packages('randomForest')"
      ]
    },
    {
      "cell_type": "code",
      "source": [
        "library(ggplot2)\n",
        "library(sf)\n",
        "library(magrittr)\n",
        "library(data.table)\n",
        "library(raster)\n",
        "library(exactextractr)\n",
        "library(googledrive)\n",
        "library(DBI)\n",
        "library(terra)\n",
        "library(randomForest)\n",
        "library(parallel)"
      ],
      "metadata": {
        "id": "Jt8zFz1p0QRy",
        "colab": {
          "base_uri": "https://localhost:8080/"
        },
        "outputId": "8cfc5381-ce5e-4f5e-f911-00dc2da2c2ce"
      },
      "execution_count": 2,
      "outputs": [
        {
          "output_type": "stream",
          "name": "stderr",
          "text": [
            "Linking to GEOS 3.10.2, GDAL 3.4.3, PROJ 8.2.1; sf_use_s2() is TRUE\n",
            "\n",
            "Loading required package: sp\n",
            "\n",
            "terra 1.7.55\n",
            "\n",
            "\n",
            "Attaching package: ‘terra’\n",
            "\n",
            "\n",
            "The following object is masked from ‘package:data.table’:\n",
            "\n",
            "    shift\n",
            "\n",
            "\n",
            "The following objects are masked from ‘package:magrittr’:\n",
            "\n",
            "    extract, inset\n",
            "\n",
            "\n",
            "randomForest 4.7-1.1\n",
            "\n",
            "Type rfNews() to see new features/changes/bug fixes.\n",
            "\n",
            "\n",
            "Attaching package: ‘randomForest’\n",
            "\n",
            "\n",
            "The following object is masked from ‘package:ggplot2’:\n",
            "\n",
            "    margin\n",
            "\n",
            "\n"
          ]
        }
      ]
    },
    {
      "cell_type": "code",
      "source": [
        "drive_auth(use_oob = TRUE, cache = FALSE)"
      ],
      "metadata": {
        "colab": {
          "base_uri": "https://localhost:8080/"
        },
        "id": "TIp-5Lr90ULs",
        "outputId": "2f90c813-76ff-465f-cf0d-c4199f0dabb3"
      },
      "execution_count": 3,
      "outputs": [
        {
          "output_type": "stream",
          "name": "stderr",
          "text": [
            "Please point your browser to the following url: \n",
            "\n",
            "https://accounts.google.com/o/oauth2/v2/auth?client_id=603366585132-frjlouoa3s2ono25d2l9ukvhlsrlnr7k.apps.googleusercontent.com&scope=https%3A%2F%2Fwww.googleapis.com%2Fauth%2Fdrive%20https%3A%2F%2Fwww.googleapis.com%2Fauth%2Fuserinfo.email&redirect_uri=https%3A%2F%2Fwww.tidyverse.org%2Fgoogle-callback%2F&response_type=code&state=45f2192d29f194ee3d963e6d6af0398e&access_type=offline&prompt=consent\n",
            "\n"
          ]
        },
        {
          "name": "stdout",
          "output_type": "stream",
          "text": [
            "Enter authorization code: eyJjb2RlIjoiNC8wQWZKb2hYbC1DdW9xeWhYZUNOMEVHTWRHYTdMLVJlUmh4bW5FYmF5dmRfYXp1U1ZIN2hfVEZZWEhDeERCeXlOMHU0YUlCZyIsInN0YXRlIjoiNDVmMjE5MmQyOWYxOTRlZTNkOTYzZTZkNmFmMDM5OGUifQ==\n"
          ]
        }
      ]
    },
    {
      "cell_type": "code",
      "source": [
        "# https://drive.google.com/file/d/1ryTzWz0t9mgI5ynPvMzM21D135dLJvWv/view?usp=drive_link\n",
        "# Updated: https://drive.google.com/file/d/1-dAAC42MM2BrShxXR_SUhavcawIHYy6B/view?usp=drive_link\n",
        "drive_download(as_id('1-dAAC42MM2BrShxXR_SUhavcawIHYy6B'), path = paste0('/content/fia.csv'), overwrite = TRUE)\n",
        "fia_dt <-  st_read('/content/fia.csv') %>% st_as_sf(coords = c(\"LON\",\"LAT\"), crs = 4326) %>% data.table\n",
        "fia_dt$county_name <- fia_dt$County.Name"
      ],
      "metadata": {
        "colab": {
          "base_uri": "https://localhost:8080/"
        },
        "id": "GIyOF5ltSRpq",
        "outputId": "869d0339-1698-4d8c-c593-1059c24d3728"
      },
      "execution_count": 37,
      "outputs": [
        {
          "output_type": "stream",
          "name": "stderr",
          "text": [
            "File downloaded:\n",
            "\n",
            "• \u001b[36m2023_11_01FIA_soildepths.csv\u001b[39m \u001b[90m<id: 1-dAAC42MM2BrShxXR_SUhavcawIHYy6B>\u001b[39m\n",
            "\n",
            "Saved locally as:\n",
            "\n",
            "• \u001b[34m/content/fia.csv\u001b[39m\n",
            "\n"
          ]
        },
        {
          "output_type": "stream",
          "name": "stdout",
          "text": [
            "Reading layer `fia' from data source `/content/fia.csv' using driver `CSV'\n"
          ]
        },
        {
          "output_type": "stream",
          "name": "stderr",
          "text": [
            "Warning message:\n",
            "“no simple feature geometries present: returning a data.frame or tbl_df”\n"
          ]
        }
      ]
    },
    {
      "cell_type": "code",
      "source": [
        "# https://drive.google.com/file/d/1j4B8qx1S0nHLSYrnRVRckwFTX9f2z1nb/view?usp=drive_link\n",
        "# updated: https://drive.google.com/file/d/1LZQIykiIRmkIv-Ygy24rAN1ohmGOG1rY/view?usp=drive_link\n",
        "drive_download(as_id('1LZQIykiIRmkIv-Ygy24rAN1ohmGOG1rY'), path = \"/content/250_summary_grid_dt.gpkg\", overwrite = TRUE)\n",
        "grid_dt <- st_read(\"/content/250_summary_grid_dt.gpkg\") %>% st_transform(4326) %>% data.table()"
      ],
      "metadata": {
        "colab": {
          "base_uri": "https://localhost:8080/"
        },
        "id": "6i5eFIGc1vby",
        "outputId": "60c319d8-149c-48ce-a1c9-a1ac8b5aa602"
      },
      "execution_count": 17,
      "outputs": [
        {
          "output_type": "stream",
          "name": "stderr",
          "text": [
            "File downloaded:\n",
            "\n",
            "• \u001b[36m250_summary_grid_dt.gpkg\u001b[39m \u001b[90m<id: 1LZQIykiIRmkIv-Ygy24rAN1ohmGOG1rY>\u001b[39m\n",
            "\n",
            "Saved locally as:\n",
            "\n",
            "• \u001b[34m/content/250_summary_grid_dt.gpkg\u001b[39m\n",
            "\n"
          ]
        },
        {
          "output_type": "stream",
          "name": "stdout",
          "text": [
            "Reading layer `250_summary_grid_dt' from data source \n",
            "  `/content/250_summary_grid_dt.gpkg' using driver `GPKG'\n",
            "Simple feature collection with 227561 features and 38 fields\n",
            "Geometry type: POINT\n",
            "Dimension:     XY\n",
            "Bounding box:  xmin: 57161.36 ymin: 16952.32 xmax: 572661.4 ymax: 381202.3\n",
            "Projected CRS: NAD_1983_HARN_StatePlane_Hawaii_1_FIPS_5101\n"
          ]
        }
      ]
    },
    {
      "cell_type": "code",
      "source": [
        "grid_dt <- grid_dt[trees > 0.5 & !is.na(agbd_m) &!is.na(agbd_sd)& !is.na(aet)]"
      ],
      "metadata": {
        "id": "CbUGrfuuUaiY"
      },
      "execution_count": 18,
      "outputs": []
    },
    {
      "cell_type": "code",
      "source": [
        "grid_dt$agbd_n <- grid_dt$agbd_n %>% as.numeric\n",
        "grid_dt$agbd_sd <- grid_dt$agbd_sd %>% as.numeric\n",
        "grid_dt$agbd_m <- grid_dt$agbd_m %>% as.numeric"
      ],
      "metadata": {
        "id": "XsFPDjw_BHKX"
      },
      "execution_count": 19,
      "outputs": []
    },
    {
      "cell_type": "code",
      "source": [
        "fia_dt$SOC_Mg_Ha <- fia_dt$SOC_Mg_Ha %>% as.numeric"
      ],
      "metadata": {
        "id": "Au3xpFsoA2Qz",
        "colab": {
          "base_uri": "https://localhost:8080/"
        },
        "outputId": "62d97987-30b3-4ed0-dd0a-9a4819b1962a"
      },
      "execution_count": 39,
      "outputs": [
        {
          "output_type": "stream",
          "name": "stderr",
          "text": [
            "Warning message in fia_dt$SOC_Mg_Ha %>% as.numeric:\n",
            "“NAs introduced by coercion”\n"
          ]
        }
      ]
    },
    {
      "cell_type": "code",
      "source": [
        "grid_int_dt  <- fia_dt$geom %>% st_transform(4135) %>% st_buffer(10000) %>% st_transform(4326) %>% st_intersects(grid_dt$geom)"
      ],
      "metadata": {
        "id": "0A-fL1krTbA_"
      },
      "execution_count": 40,
      "outputs": []
    },
    {
      "cell_type": "code",
      "source": [
        "rm_vec <- (grid_int_dt %>% lapply(length) %>% unlist) > 0\n",
        "grid_int_dt <- grid_int_dt[rm_vec]\n",
        "fia_dt <- fia_dt[rm_vec,]"
      ],
      "metadata": {
        "id": "isEeYbV1UDV9"
      },
      "execution_count": 41,
      "outputs": []
    },
    {
      "cell_type": "code",
      "source": [
        "names(grid_dt)"
      ],
      "metadata": {
        "colab": {
          "base_uri": "https://localhost:8080/",
          "height": 52
        },
        "id": "CRAbHxSKpf8p",
        "outputId": "8b93ce36-5c5b-40cc-8689-876e67034a64"
      },
      "execution_count": 42,
      "outputs": [
        {
          "output_type": "display_data",
          "data": {
            "text/html": [
              "<style>\n",
              ".list-inline {list-style: none; margin:0; padding: 0}\n",
              ".list-inline>li {display: inline-block}\n",
              ".list-inline>li:not(:last-child)::after {content: \"\\00b7\"; padding: 0 .5ex}\n",
              "</style>\n",
              "<ol class=list-inline><li>'id'</li><li>'left'</li><li>'top'</li><li>'right'</li><li>'bottom'</li><li>'water'</li><li>'trees'</li><li>'grass'</li><li>'flooded_vegetation'</li><li>'crops'</li><li>'shrub_and_scrub'</li><li>'built'</li><li>'bare'</li><li>'snow_and_ice'</li><li>'elevation'</li><li>'landform'</li><li>'SRTM_mTPI'</li><li>'aet'</li><li>'def'</li><li>'pdsi'</li><li>'pet'</li><li>'pr'</li><li>'ro'</li><li>'soil'</li><li>'srad'</li><li>'swe'</li><li>'tmmn'</li><li>'tmmx'</li><li>'vap'</li><li>'vpd'</li><li>'vs'</li><li>'agbd_m'</li><li>'agbd_sd'</li><li>'agbd_n'</li><li>'majorcomposition'</li><li>'age_years'</li><li>'Age_Class'</li><li>'geom'</li><li>'age_class'</li></ol>\n"
            ],
            "text/markdown": "1. 'id'\n2. 'left'\n3. 'top'\n4. 'right'\n5. 'bottom'\n6. 'water'\n7. 'trees'\n8. 'grass'\n9. 'flooded_vegetation'\n10. 'crops'\n11. 'shrub_and_scrub'\n12. 'built'\n13. 'bare'\n14. 'snow_and_ice'\n15. 'elevation'\n16. 'landform'\n17. 'SRTM_mTPI'\n18. 'aet'\n19. 'def'\n20. 'pdsi'\n21. 'pet'\n22. 'pr'\n23. 'ro'\n24. 'soil'\n25. 'srad'\n26. 'swe'\n27. 'tmmn'\n28. 'tmmx'\n29. 'vap'\n30. 'vpd'\n31. 'vs'\n32. 'agbd_m'\n33. 'agbd_sd'\n34. 'agbd_n'\n35. 'majorcomposition'\n36. 'age_years'\n37. 'Age_Class'\n38. 'geom'\n39. 'age_class'\n\n\n",
            "text/latex": "\\begin{enumerate*}\n\\item 'id'\n\\item 'left'\n\\item 'top'\n\\item 'right'\n\\item 'bottom'\n\\item 'water'\n\\item 'trees'\n\\item 'grass'\n\\item 'flooded\\_vegetation'\n\\item 'crops'\n\\item 'shrub\\_and\\_scrub'\n\\item 'built'\n\\item 'bare'\n\\item 'snow\\_and\\_ice'\n\\item 'elevation'\n\\item 'landform'\n\\item 'SRTM\\_mTPI'\n\\item 'aet'\n\\item 'def'\n\\item 'pdsi'\n\\item 'pet'\n\\item 'pr'\n\\item 'ro'\n\\item 'soil'\n\\item 'srad'\n\\item 'swe'\n\\item 'tmmn'\n\\item 'tmmx'\n\\item 'vap'\n\\item 'vpd'\n\\item 'vs'\n\\item 'agbd\\_m'\n\\item 'agbd\\_sd'\n\\item 'agbd\\_n'\n\\item 'majorcomposition'\n\\item 'age\\_years'\n\\item 'Age\\_Class'\n\\item 'geom'\n\\item 'age\\_class'\n\\end{enumerate*}\n",
            "text/plain": [
              " [1] \"id\"                 \"left\"               \"top\"               \n",
              " [4] \"right\"              \"bottom\"             \"water\"             \n",
              " [7] \"trees\"              \"grass\"              \"flooded_vegetation\"\n",
              "[10] \"crops\"              \"shrub_and_scrub\"    \"built\"             \n",
              "[13] \"bare\"               \"snow_and_ice\"       \"elevation\"         \n",
              "[16] \"landform\"           \"SRTM_mTPI\"          \"aet\"               \n",
              "[19] \"def\"                \"pdsi\"               \"pet\"               \n",
              "[22] \"pr\"                 \"ro\"                 \"soil\"              \n",
              "[25] \"srad\"               \"swe\"                \"tmmn\"              \n",
              "[28] \"tmmx\"               \"vap\"                \"vpd\"               \n",
              "[31] \"vs\"                 \"agbd_m\"             \"agbd_sd\"           \n",
              "[34] \"agbd_n\"             \"majorcomposition\"   \"age_years\"         \n",
              "[37] \"Age_Class\"          \"geom\"               \"age_class\"         "
            ]
          },
          "metadata": {}
        }
      ]
    },
    {
      "cell_type": "code",
      "source": [
        "grid_dt$age_years[grid_dt$age_years %>% is.na ] <- -2\n",
        "grid_dt$age_class[grid_dt$age_class %>% is.na ] <- 'Unknown'"
      ],
      "metadata": {
        "id": "ml4yD0bBpYAb",
        "outputId": "a0270389-1cc3-4a6e-dfbc-40d17cd0c78c",
        "colab": {
          "base_uri": "https://localhost:8080/"
        }
      },
      "execution_count": 43,
      "outputs": [
        {
          "output_type": "stream",
          "name": "stderr",
          "text": [
            "Warning message in `[<-.factor`(`*tmp*`, grid_dt$age_class %>% is.na, value = \"Unknown\"):\n",
            "“invalid factor level, NA generated”\n"
          ]
        }
      ]
    },
    {
      "cell_type": "code",
      "source": [
        "grid_dt %>% names"
      ],
      "metadata": {
        "colab": {
          "base_uri": "https://localhost:8080/",
          "height": 52
        },
        "id": "_eg6d9Z_rD5T",
        "outputId": "e198041f-46b6-4f88-e056-9d3f38b29905"
      },
      "execution_count": 44,
      "outputs": [
        {
          "output_type": "display_data",
          "data": {
            "text/html": [
              "<style>\n",
              ".list-inline {list-style: none; margin:0; padding: 0}\n",
              ".list-inline>li {display: inline-block}\n",
              ".list-inline>li:not(:last-child)::after {content: \"\\00b7\"; padding: 0 .5ex}\n",
              "</style>\n",
              "<ol class=list-inline><li>'id'</li><li>'left'</li><li>'top'</li><li>'right'</li><li>'bottom'</li><li>'water'</li><li>'trees'</li><li>'grass'</li><li>'flooded_vegetation'</li><li>'crops'</li><li>'shrub_and_scrub'</li><li>'built'</li><li>'bare'</li><li>'snow_and_ice'</li><li>'elevation'</li><li>'landform'</li><li>'SRTM_mTPI'</li><li>'aet'</li><li>'def'</li><li>'pdsi'</li><li>'pet'</li><li>'pr'</li><li>'ro'</li><li>'soil'</li><li>'srad'</li><li>'swe'</li><li>'tmmn'</li><li>'tmmx'</li><li>'vap'</li><li>'vpd'</li><li>'vs'</li><li>'agbd_m'</li><li>'agbd_sd'</li><li>'agbd_n'</li><li>'majorcomposition'</li><li>'age_years'</li><li>'Age_Class'</li><li>'geom'</li><li>'age_class'</li></ol>\n"
            ],
            "text/markdown": "1. 'id'\n2. 'left'\n3. 'top'\n4. 'right'\n5. 'bottom'\n6. 'water'\n7. 'trees'\n8. 'grass'\n9. 'flooded_vegetation'\n10. 'crops'\n11. 'shrub_and_scrub'\n12. 'built'\n13. 'bare'\n14. 'snow_and_ice'\n15. 'elevation'\n16. 'landform'\n17. 'SRTM_mTPI'\n18. 'aet'\n19. 'def'\n20. 'pdsi'\n21. 'pet'\n22. 'pr'\n23. 'ro'\n24. 'soil'\n25. 'srad'\n26. 'swe'\n27. 'tmmn'\n28. 'tmmx'\n29. 'vap'\n30. 'vpd'\n31. 'vs'\n32. 'agbd_m'\n33. 'agbd_sd'\n34. 'agbd_n'\n35. 'majorcomposition'\n36. 'age_years'\n37. 'Age_Class'\n38. 'geom'\n39. 'age_class'\n\n\n",
            "text/latex": "\\begin{enumerate*}\n\\item 'id'\n\\item 'left'\n\\item 'top'\n\\item 'right'\n\\item 'bottom'\n\\item 'water'\n\\item 'trees'\n\\item 'grass'\n\\item 'flooded\\_vegetation'\n\\item 'crops'\n\\item 'shrub\\_and\\_scrub'\n\\item 'built'\n\\item 'bare'\n\\item 'snow\\_and\\_ice'\n\\item 'elevation'\n\\item 'landform'\n\\item 'SRTM\\_mTPI'\n\\item 'aet'\n\\item 'def'\n\\item 'pdsi'\n\\item 'pet'\n\\item 'pr'\n\\item 'ro'\n\\item 'soil'\n\\item 'srad'\n\\item 'swe'\n\\item 'tmmn'\n\\item 'tmmx'\n\\item 'vap'\n\\item 'vpd'\n\\item 'vs'\n\\item 'agbd\\_m'\n\\item 'agbd\\_sd'\n\\item 'agbd\\_n'\n\\item 'majorcomposition'\n\\item 'age\\_years'\n\\item 'Age\\_Class'\n\\item 'geom'\n\\item 'age\\_class'\n\\end{enumerate*}\n",
            "text/plain": [
              " [1] \"id\"                 \"left\"               \"top\"               \n",
              " [4] \"right\"              \"bottom\"             \"water\"             \n",
              " [7] \"trees\"              \"grass\"              \"flooded_vegetation\"\n",
              "[10] \"crops\"              \"shrub_and_scrub\"    \"built\"             \n",
              "[13] \"bare\"               \"snow_and_ice\"       \"elevation\"         \n",
              "[16] \"landform\"           \"SRTM_mTPI\"          \"aet\"               \n",
              "[19] \"def\"                \"pdsi\"               \"pet\"               \n",
              "[22] \"pr\"                 \"ro\"                 \"soil\"              \n",
              "[25] \"srad\"               \"swe\"                \"tmmn\"              \n",
              "[28] \"tmmx\"               \"vap\"                \"vpd\"               \n",
              "[31] \"vs\"                 \"agbd_m\"             \"agbd_sd\"           \n",
              "[34] \"agbd_n\"             \"majorcomposition\"   \"age_years\"         \n",
              "[37] \"Age_Class\"          \"geom\"               \"age_class\"         "
            ]
          },
          "metadata": {}
        }
      ]
    },
    {
      "cell_type": "code",
      "source": [
        "grid_dt$age_class %>%  is.na %>% table"
      ],
      "metadata": {
        "colab": {
          "base_uri": "https://localhost:8080/",
          "height": 70
        },
        "id": "lNrjXm9aqXFc",
        "outputId": "94f6a785-d114-460c-cca8-df5bb0011b71"
      },
      "execution_count": 45,
      "outputs": [
        {
          "output_type": "display_data",
          "data": {
            "text/plain": [
              ".\n",
              " TRUE \n",
              "67102 "
            ]
          },
          "metadata": {}
        }
      ]
    },
    {
      "cell_type": "code",
      "source": [
        "grid_dt$max <- NULL\n",
        "grid_dt$landform <-  grid_dt$landform %>% factor\n",
        "grid_dt$majorcomposition <- grid_dt$majorcomposition %>% factor\n",
        "grid_dt$age_class <- grid_dt$age_class %>% factor"
      ],
      "metadata": {
        "colab": {
          "base_uri": "https://localhost:8080/"
        },
        "id": "HdDH-VDqqPCg",
        "outputId": "f44dedaa-8032-4371-fd99-30a55a514fd6"
      },
      "execution_count": 46,
      "outputs": [
        {
          "output_type": "stream",
          "name": "stderr",
          "text": [
            "Warning message in set(x, j = name, value = value):\n",
            "“Column 'max' does not exist to remove”\n"
          ]
        }
      ]
    },
    {
      "cell_type": "code",
      "source": [
        "fia_dt$DEPTH_UPPER <- fia_dt$LAYER_TYPE %>% gsub('MINERAL_SOIL_','',.) %>% gsub('_CM','',.) %>% strsplit('_') %>% lapply(function(x){x[1]}) %>% unlist %>% as.numeric\n",
        "fia_dt$DEPTH_LOWER <- fia_dt$LAYER_TYPE %>% gsub('MINERAL_SOIL_','',.) %>% gsub('_CM','',.) %>% strsplit('_') %>% lapply(function(x){x[2]}) %>% unlist %>% as.numeric"
      ],
      "metadata": {
        "id": "v4x85f-5wFzt"
      },
      "execution_count": 55,
      "outputs": []
    },
    {
      "cell_type": "code",
      "source": [
        "  rf_dt <- data.table(fia_dt[,c('PLOT','SOC_Mg_Ha','DEPTH_UPPER','DEPTH_LOWER','county_name')], grid_dt[grid_int_dt  %>%   lapply(function(x){ x[sample(1:length(x),1,replace=T)] %>% unlist}) %>% unlist,])\n",
        "\n",
        "  x_var <- c('DEPTH_UPPER','DEPTH_LOWER',(rf_dt %>% names)[-c(1,2,3,4,5,6,7,8,9,10,ncol(rf_dt)-1)])\n",
        "  print(x_var)\n",
        "  # rf_form <- as.formula(paste0('Stock_SOC_Mg_Ha~',paste(x_var,collapse = '+')))"
      ],
      "metadata": {
        "id": "BS3dPyizvxTc",
        "outputId": "0228271e-baf8-4972-cee1-eb42706a7d96",
        "colab": {
          "base_uri": "https://localhost:8080/"
        }
      },
      "execution_count": 60,
      "outputs": [
        {
          "output_type": "stream",
          "name": "stdout",
          "text": [
            " [1] \"DEPTH_UPPER\"        \"DEPTH_LOWER\"        \"water\"             \n",
            " [4] \"trees\"              \"grass\"              \"flooded_vegetation\"\n",
            " [7] \"crops\"              \"shrub_and_scrub\"    \"built\"             \n",
            "[10] \"bare\"               \"snow_and_ice\"       \"elevation\"         \n",
            "[13] \"landform\"           \"SRTM_mTPI\"          \"aet\"               \n",
            "[16] \"def\"                \"pdsi\"               \"pet\"               \n",
            "[19] \"pr\"                 \"ro\"                 \"soil\"              \n",
            "[22] \"srad\"               \"swe\"                \"tmmn\"              \n",
            "[25] \"tmmx\"               \"vap\"                \"vpd\"               \n",
            "[28] \"vs\"                 \"agbd_m\"             \"agbd_sd\"           \n",
            "[31] \"agbd_n\"             \"majorcomposition\"   \"age_years\"         \n",
            "[34] \"Age_Class\"          \"age_class\"         \n"
          ]
        }
      ]
    },
    {
      "cell_type": "code",
      "source": [
        "# for( i in 2:11){\n",
        "cl <-makeCluster(8)\n",
        "sim_dt <-\n",
        "1:100 %>% parLapply(cl,.,function(m,fia_dt,grid_dt,grid_int_dt){\n",
        "  library(sf)\n",
        "  library(magrittr)\n",
        "  library(data.table)\n",
        "  library(raster)\n",
        "  library(exactextractr)\n",
        "  library(terra)\n",
        "  library(randomForest)\n",
        "\n",
        "\n",
        "  rf_dt <- data.table(fia_dt[,c('PLOT','SOC_Mg_Ha','DEPTH_UPPER','DEPTH_LOWER','county_name')], grid_dt[grid_int_dt  %>%   lapply(function(x){ x[sample(1:length(x),1,replace=T)] %>% unlist}) %>% unlist,])\n",
        "\n",
        "  x_var <- c('DEPTH_UPPER','DEPTH_LOWER',(rf_dt %>% names)[-c(1,2,3,4,5,6,7,8,9,10,ncol(rf_dt)-1)])\n",
        "  # print(x_var)\n",
        "  rf_form <- as.formula(paste0('SOC_Mg_Ha~',paste(x_var,collapse = '+')))\n",
        "\n",
        "  # rf_dt <-  rf_dt[complete.cases(rf_dt[,-c(ncol(rf_dt)),with=F]),]\n",
        "  rf_dt <-  rf_dt[!is.na(Stock_SOC_Mg_Ha),]\n",
        "\n",
        "  # print(nrows(rf_dt))\n",
        "  rf_terra <- randomForest(rf_form,rf_dt,verbose=T)\n",
        "\n",
        "  rf_imp_dt <- rf_terra$importance %>% t %>% data.table\n",
        "\n",
        "  names(rf_imp_dt) <-paste0('var_imp_',names(rf_imp_dt))\n",
        "\n",
        "  out_dt <- data.table(rf_dt,data.table(predicted = rf_terra$predicted),rf_imp_dt[rep(1,nrow(rf_dt)),])\n",
        "  out_dt$r2 <- rf_terra$rsq[500]\n",
        "  return(out_dt[county_name %in% 'Hawaii'])\n",
        "  },fia_dt,grid_dt,grid_int_dt) %>%\n",
        "  rbindlist\n",
        "stopCluster(cl)\n",
        "\n",
        "# sim_dt %>% st_write(paste0(\"/content/sim_results_Hawaii_10000m_Run\",i,\".gpkg\"), append=FALSE)\n",
        "\n",
        "# drive_upload(paste0(\"/content/sim_results_Hawaii_10000m_Run\",i,\".gpkg\"), path = as_id(\"1uVZCzCb5gRE8wfZckspRuKz1TQd5LpeM\"))\n",
        "# }"
      ],
      "metadata": {
        "id": "KB9q5pEwEkvI"
      },
      "execution_count": null,
      "outputs": []
    },
    {
      "cell_type": "code",
      "source": [
        "sim_dt %>% head"
      ],
      "metadata": {
        "id": "nkJzdvNRwaxn"
      },
      "execution_count": null,
      "outputs": []
    },
    {
      "cell_type": "code",
      "source": [
        "# Write to GeoPackage\n",
        "sim_dt %>% st_write(\"/content/sim_results_Hawaii_10000m_Run1.gpkg\", append=FALSE)"
      ],
      "metadata": {
        "id": "VnxBhpa9WOK0"
      },
      "execution_count": null,
      "outputs": []
    },
    {
      "cell_type": "code",
      "source": [
        "# https://drive.google.com/drive/folders/1uVZCzCb5gRE8wfZckspRuKz1TQd5LpeM?usp=drive_link\n",
        "drive_upload(\"/content/sim_results_Hawaii_10000m_Run1.gpkg\", path = as_id(\"1uVZCzCb5gRE8wfZckspRuKz1TQd5LpeM\"))"
      ],
      "metadata": {
        "id": "d4KevyDNXPgo"
      },
      "execution_count": null,
      "outputs": []
    },
    {
      "cell_type": "code",
      "source": [
        "# sim_dt"
      ],
      "metadata": {
        "id": "FB2Kru8Fcdpi"
      },
      "execution_count": null,
      "outputs": []
    },
    {
      "cell_type": "code",
      "source": [
        "sim_dt %>%\n",
        "  ggplot(aes(y=Stock_SOC_Mg_Ha,x=r2))+\n",
        "    geom_bin2d()\n",
        "    # geom_smooth()"
      ],
      "metadata": {
        "id": "Kdno5JZ0Yev5"
      },
      "execution_count": null,
      "outputs": []
    }
  ]
}