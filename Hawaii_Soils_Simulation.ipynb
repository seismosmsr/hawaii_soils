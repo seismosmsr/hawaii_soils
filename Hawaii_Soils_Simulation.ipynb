{
  "nbformat": 4,
  "nbformat_minor": 0,
  "metadata": {
    "colab": {
      "provenance": [],
      "machine_shape": "hm",
      "authorship_tag": "ABX9TyOajaUKVhrQxbZWPDqWbanz",
      "include_colab_link": true
    },
    "kernelspec": {
      "name": "ir",
      "display_name": "R"
    },
    "language_info": {
      "name": "R"
    }
  },
  "cells": [
    {
      "cell_type": "markdown",
      "metadata": {
        "id": "view-in-github",
        "colab_type": "text"
      },
      "source": [
        "<a href=\"https://colab.research.google.com/github/seismosmsr/hawaii_soils/blob/main/Hawaii_Soils_Simulation.ipynb\" target=\"_parent\"><img src=\"https://colab.research.google.com/assets/colab-badge.svg\" alt=\"Open In Colab\"/></a>"
      ]
    },
    {
      "cell_type": "code",
      "execution_count": 1,
      "metadata": {
        "colab": {
          "base_uri": "https://localhost:8080/"
        },
        "id": "w3b2Yt1zzBa4",
        "outputId": "8449d15c-2f49-4015-d6fc-e7f835a5258d"
      },
      "outputs": [
        {
          "output_type": "stream",
          "name": "stderr",
          "text": [
            "Installing package into ‘/usr/local/lib/R/site-library’\n",
            "(as ‘lib’ is unspecified)\n",
            "\n",
            "also installing the dependencies ‘proxy’, ‘e1071’, ‘wk’, ‘classInt’, ‘Rcpp’, ‘s2’, ‘units’\n",
            "\n",
            "\n",
            "Installing package into ‘/usr/local/lib/R/site-library’\n",
            "(as ‘lib’ is unspecified)\n",
            "\n",
            "also installing the dependencies ‘sp’, ‘terra’\n",
            "\n",
            "\n",
            "Installing package into ‘/usr/local/lib/R/site-library’\n",
            "(as ‘lib’ is unspecified)\n",
            "\n",
            "Installing package into ‘/usr/local/lib/R/site-library’\n",
            "(as ‘lib’ is unspecified)\n",
            "\n",
            "Installing package into ‘/usr/local/lib/R/site-library’\n",
            "(as ‘lib’ is unspecified)\n",
            "\n",
            "Warning message:\n",
            "“package ‘googletoken’ is not available for this version of R\n",
            "\n",
            "A version of this package for your version of R might be available elsewhere,\n",
            "see the ideas at\n",
            "https://cran.r-project.org/doc/manuals/r-patched/R-admin.html#Installing-packages”\n",
            "Installing package into ‘/usr/local/lib/R/site-library’\n",
            "(as ‘lib’ is unspecified)\n",
            "\n",
            "Installing package into ‘/usr/local/lib/R/site-library’\n",
            "(as ‘lib’ is unspecified)\n",
            "\n",
            "also installing the dependency ‘plogr’\n",
            "\n",
            "\n",
            "Installing package into ‘/usr/local/lib/R/site-library’\n",
            "(as ‘lib’ is unspecified)\n",
            "\n",
            "Installing package into ‘/usr/local/lib/R/site-library’\n",
            "(as ‘lib’ is unspecified)\n",
            "\n",
            "Installing package into ‘/usr/local/lib/R/site-library’\n",
            "(as ‘lib’ is unspecified)\n",
            "\n"
          ]
        }
      ],
      "source": [
        "install.packages('sf')\n",
        "install.packages('raster')\n",
        "install.packages('exactextractr')\n",
        "install.packages(\"googledrive\")\n",
        "install.packages(\"googletoken\")\n",
        "install.packages(\"DBI\")\n",
        "install.packages(\"RSQLite\")\n",
        "install.packages(\"RPostgreSQL\")\n",
        "install.packages(\"terra\")\n",
        "install.packages('randomForest')"
      ]
    },
    {
      "cell_type": "code",
      "source": [
        "library(ggplot2)\n",
        "library(sf)\n",
        "library(magrittr)\n",
        "library(data.table)\n",
        "library(raster)\n",
        "library(exactextractr)\n",
        "library(googledrive)\n",
        "library(DBI)\n",
        "library(terra)\n",
        "library(randomForest)\n",
        "library(parallel)"
      ],
      "metadata": {
        "id": "Jt8zFz1p0QRy",
        "outputId": "fc96d60e-cdd0-49a3-ce82-4a7b9b006ce2",
        "colab": {
          "base_uri": "https://localhost:8080/"
        }
      },
      "execution_count": 2,
      "outputs": [
        {
          "output_type": "stream",
          "name": "stderr",
          "text": [
            "Linking to GEOS 3.10.2, GDAL 3.4.3, PROJ 8.2.1; sf_use_s2() is TRUE\n",
            "\n",
            "Loading required package: sp\n",
            "\n",
            "terra 1.7.55\n",
            "\n",
            "\n",
            "Attaching package: ‘terra’\n",
            "\n",
            "\n",
            "The following object is masked from ‘package:data.table’:\n",
            "\n",
            "    shift\n",
            "\n",
            "\n",
            "The following objects are masked from ‘package:magrittr’:\n",
            "\n",
            "    extract, inset\n",
            "\n",
            "\n",
            "randomForest 4.7-1.1\n",
            "\n",
            "Type rfNews() to see new features/changes/bug fixes.\n",
            "\n",
            "\n",
            "Attaching package: ‘randomForest’\n",
            "\n",
            "\n",
            "The following object is masked from ‘package:ggplot2’:\n",
            "\n",
            "    margin\n",
            "\n",
            "\n"
          ]
        }
      ]
    },
    {
      "cell_type": "code",
      "source": [
        "drive_auth(use_oob = TRUE, cache = FALSE)"
      ],
      "metadata": {
        "colab": {
          "base_uri": "https://localhost:8080/"
        },
        "id": "TIp-5Lr90ULs",
        "outputId": "0bebbd60-9824-4c63-b5de-6f6508a04f91"
      },
      "execution_count": 3,
      "outputs": [
        {
          "output_type": "stream",
          "name": "stderr",
          "text": [
            "Please point your browser to the following url: \n",
            "\n",
            "https://accounts.google.com/o/oauth2/v2/auth?client_id=603366585132-frjlouoa3s2ono25d2l9ukvhlsrlnr7k.apps.googleusercontent.com&scope=https%3A%2F%2Fwww.googleapis.com%2Fauth%2Fdrive%20https%3A%2F%2Fwww.googleapis.com%2Fauth%2Fuserinfo.email&redirect_uri=https%3A%2F%2Fwww.tidyverse.org%2Fgoogle-callback%2F&response_type=code&state=e10a02e755cd0ec3192653cccfc885c9&access_type=offline&prompt=consent\n",
            "\n"
          ]
        },
        {
          "name": "stdout",
          "output_type": "stream",
          "text": [
            "Enter authorization code: eyJjb2RlIjoiNC8wQWZKb2hYa1lUbFJjZS0wQU1FbDhmcTU4QWRXTFRpUTRSbzlMWE8zaUgxWUlRS21jcktxT1FNallBMG9NUlJ4QmNUaVZfUSIsInN0YXRlIjoiZTEwYTAyZTc1NWNkMGVjMzE5MjY1M2NjY2ZjODg1YzkifQ==\n"
          ]
        }
      ]
    },
    {
      "cell_type": "code",
      "source": [
        "dir.create('/content/predictor_variables/')"
      ],
      "metadata": {
        "id": "MGIH_xWJF3ul"
      },
      "execution_count": 4,
      "outputs": []
    },
    {
      "cell_type": "code",
      "source": [
        "# Hawaii GEDI data\n",
        "# https://drive.google.com/file/d/1UY3lxML0Y7bat_9-xEZQQHDkYRcODDZy/view?usp=drive_link\n",
        "drive_download(file = as_id('1UY3lxML0Y7bat_9-xEZQQHDkYRcODDZy'), path =  '/content/predictor_variables/Hawaii_GEDI_4A.gpkg', overwrite = FALSE)"
      ],
      "metadata": {
        "id": "G56ZDP1G7lqX",
        "colab": {
          "base_uri": "https://localhost:8080/"
        },
        "outputId": "1db5e110-1932-48d0-e9ae-049aab225475"
      },
      "execution_count": 5,
      "outputs": [
        {
          "output_type": "stream",
          "name": "stderr",
          "text": [
            "File downloaded:\n",
            "\n",
            "• \u001b[36mHawaii_GEDI.gpkg\u001b[39m \u001b[90m<id: 1UY3lxML0Y7bat_9-xEZQQHDkYRcODDZy>\u001b[39m\n",
            "\n",
            "Saved locally as:\n",
            "\n",
            "• \u001b[34m/content/predictor_variables/Hawaii_GEDI_4A.gpkg\u001b[39m\n",
            "\n"
          ]
        }
      ]
    },
    {
      "cell_type": "code",
      "source": [
        "# Hawaii 250m grid\n",
        "# https://drive.google.com/file/d/1Jowm2XIdJHrt6N3tGhbLZ81UZZVMqAW8/view?usp=drive_link\n",
        "drive_download(file = as_id('1Jowm2XIdJHrt6N3tGhbLZ81UZZVMqAW8'), path =  '/content/predictor_variables/HI_island_250_m_grid.gpkg', overwrite = FALSE)"
      ],
      "metadata": {
        "id": "mm-ZhHvx-2ql",
        "outputId": "0b770a53-a5d7-45e5-9701-e6d445a48114",
        "colab": {
          "base_uri": "https://localhost:8080/"
        }
      },
      "execution_count": 6,
      "outputs": [
        {
          "output_type": "stream",
          "name": "stderr",
          "text": [
            "File downloaded:\n",
            "\n",
            "• \u001b[36mHI_island_250_m_grid.gpkg\u001b[39m \u001b[90m<id: 1Jowm2XIdJHrt6N3tGhbLZ81UZZVMqAW8>\u001b[39m\n",
            "\n",
            "Saved locally as:\n",
            "\n",
            "• \u001b[34m/content/predictor_variables/HI_island_250_m_grid.gpkg\u001b[39m\n",
            "\n"
          ]
        }
      ]
    },
    {
      "cell_type": "code",
      "source": [
        "folder_loc <- '/content/predictor_variables/TerraClimate/'\n",
        "dir.create(folder_loc)\n",
        "\n",
        "# https://drive.google.com/drive/folders/1bIbwKYmzP2o6VEAWyLIRmeMQbGFDt-vX?usp=drive_link\n",
        "folder_id <- \"1bIbwKYmzP2o6VEAWyLIRmeMQbGFDt-vX\"\n",
        "folder_files <- drive_ls(as_id(folder_id))\n",
        "\n",
        "for (i in 1:nrow(folder_files)) {\n",
        "  file_id <- folder_files$id[i]\n",
        "  file_name <- folder_files$name[i]\n",
        "  drive_download(as_id(file_id), path = paste0(folder_loc,file_name), overwrite = TRUE)\n",
        "}\n"
      ],
      "metadata": {
        "colab": {
          "base_uri": "https://localhost:8080/"
        },
        "id": "TTAYfyTUHwhy",
        "outputId": "3dd8178a-24da-43b2-e234-0421b1a8c946"
      },
      "execution_count": 7,
      "outputs": [
        {
          "output_type": "stream",
          "name": "stderr",
          "text": [
            "File downloaded:\n",
            "\n",
            "• \u001b[36mMaui_Mean_Climate_1958_to_2023.tif\u001b[39m \u001b[90m<id: 1Aglg9-srq187HYR38PFBVrodg3PpcqbE>\u001b[39m\n",
            "\n",
            "Saved locally as:\n",
            "\n",
            "• \u001b[34m/content/predictor_variables/TerraClimate/Maui_Mean_Climate_1958_to_2023.tif\u001b[39m\n",
            "\n",
            "File downloaded:\n",
            "\n",
            "• \u001b[36mLanai_Mean_Climate_1958_to_2023.tif\u001b[39m \u001b[90m<id: 1eFkEW2ZRWtMK-IMEpVJ28R3xups_HhOT>\u001b[39m\n",
            "\n",
            "Saved locally as:\n",
            "\n",
            "• \u001b[34m/content/predictor_variables/TerraClimate/Lanai_Mean_Climate_1958_to_2023.tif\u001b[39m\n",
            "\n",
            "File downloaded:\n",
            "\n",
            "• \u001b[36mMolokai_Mean_Climate_1958_to_2023.tif\u001b[39m \u001b[90m<id: 18SNFZ6VefxYbEEtWl1nXDj8JJFLdFDo_>\u001b[39m\n",
            "\n",
            "Saved locally as:\n",
            "\n",
            "• \u001b[34m/content/predictor_variables/TerraClimate/Molokai_Mean_Climate_1958_to_2023.tif\u001b[39m\n",
            "\n",
            "File downloaded:\n",
            "\n",
            "• \u001b[36mHawaii_Mean_Climate_1958_to_2023.tif\u001b[39m \u001b[90m<id: 1pMs5OsTwQ1N3kXO9bb3W-qfhxwcJtzIj>\u001b[39m\n",
            "\n",
            "Saved locally as:\n",
            "\n",
            "• \u001b[34m/content/predictor_variables/TerraClimate/Hawaii_Mean_Climate_1958_to_2023.tif\u001b[39m\n",
            "\n",
            "File downloaded:\n",
            "\n",
            "• \u001b[36mKauai_Mean_Climate_1958_to_2023.tif\u001b[39m \u001b[90m<id: 14bpiZID-VOQmsEVeQc9gFHe8JYK7w_ew>\u001b[39m\n",
            "\n",
            "Saved locally as:\n",
            "\n",
            "• \u001b[34m/content/predictor_variables/TerraClimate/Kauai_Mean_Climate_1958_to_2023.tif\u001b[39m\n",
            "\n",
            "File downloaded:\n",
            "\n",
            "• \u001b[36mOahu_Mean_Climate_1958_to_2023.tif\u001b[39m \u001b[90m<id: 1zNyLGypMkzHYLoMnOTHhpZmZbil88Xxe>\u001b[39m\n",
            "\n",
            "Saved locally as:\n",
            "\n",
            "• \u001b[34m/content/predictor_variables/TerraClimate/Oahu_Mean_Climate_1958_to_2023.tif\u001b[39m\n",
            "\n",
            "File downloaded:\n",
            "\n",
            "• \u001b[36mNiihau_Mean_Climate_1958_to_2023.tif\u001b[39m \u001b[90m<id: 1T9RfMhwprSe0YV_ln5Xky9QTYycuh6M3>\u001b[39m\n",
            "\n",
            "Saved locally as:\n",
            "\n",
            "• \u001b[34m/content/predictor_variables/TerraClimate/Niihau_Mean_Climate_1958_to_2023.tif\u001b[39m\n",
            "\n"
          ]
        }
      ]
    },
    {
      "cell_type": "code",
      "source": [
        "folder_loc <- '/content/predictor_variables/SRTM_mTPI/'\n",
        "dir.create(folder_loc)\n",
        "\n",
        "# https://drive.google.com/drive/folders/1YKJrZXTo-L4UpvJ0iEGo8yIX6uhoQ9AW?usp=drive_link\n",
        "folder_id <- \"1YKJrZXTo-L4UpvJ0iEGo8yIX6uhoQ9AW\"\n",
        "folder_files <- drive_ls(as_id(folder_id))\n",
        "\n",
        "for (i in 1:nrow(folder_files)) {\n",
        "  file_id <- folder_files$id[i]\n",
        "  file_name <- folder_files$name[i]\n",
        "  drive_download(as_id(file_id), path = paste0(folder_loc,file_name), overwrite = TRUE)\n",
        "}"
      ],
      "metadata": {
        "colab": {
          "base_uri": "https://localhost:8080/"
        },
        "id": "g_O0J9MjE5TC",
        "outputId": "a781e898-1557-45fb-9b5c-3ecd9faf8779"
      },
      "execution_count": 8,
      "outputs": [
        {
          "output_type": "stream",
          "name": "stderr",
          "text": [
            "File downloaded:\n",
            "\n",
            "• \u001b[36mMetadata\u001b[39m \u001b[90m<id: 1GB4d-4-xOOFHbf6R8z8yw5ZVYe4n-Oz-lSM43dpESb0>\u001b[39m\n",
            "\n",
            "Saved locally as:\n",
            "\n",
            "• \u001b[34m/content/predictor_variables/SRTM_mTPI/Metadata.docx\u001b[39m\n",
            "\n",
            "File downloaded:\n",
            "\n",
            "• \u001b[36mMolakai_SRTM_mTPI_Buffer.tif\u001b[39m \u001b[90m<id: 1WRDZse9NGahMQ4h22bxvsv4XFp10JJZW>\u001b[39m\n",
            "\n",
            "Saved locally as:\n",
            "\n",
            "• \u001b[34m/content/predictor_variables/SRTM_mTPI/Molakai_SRTM_mTPI_Buffer.tif\u001b[39m\n",
            "\n",
            "File downloaded:\n",
            "\n",
            "• \u001b[36mOahu_SRTM_mTPI_Buffer.tif\u001b[39m \u001b[90m<id: 1MJEjAuHBeDmvfU_7W4j6RZJk6uLD4TE_>\u001b[39m\n",
            "\n",
            "Saved locally as:\n",
            "\n",
            "• \u001b[34m/content/predictor_variables/SRTM_mTPI/Oahu_SRTM_mTPI_Buffer.tif\u001b[39m\n",
            "\n",
            "File downloaded:\n",
            "\n",
            "• \u001b[36mKauai_SRTM_mTPI_Buffer.tif\u001b[39m \u001b[90m<id: 1APv2WFDHdAiwOhBcAw8db-b1NSIlsK1K>\u001b[39m\n",
            "\n",
            "Saved locally as:\n",
            "\n",
            "• \u001b[34m/content/predictor_variables/SRTM_mTPI/Kauai_SRTM_mTPI_Buffer.tif\u001b[39m\n",
            "\n",
            "File downloaded:\n",
            "\n",
            "• \u001b[36mLanai_SRTM_mTPI_Buffer.tif\u001b[39m \u001b[90m<id: 1sz3x9fZufpjbtrIpY3ZovhNknmDmkR5n>\u001b[39m\n",
            "\n",
            "Saved locally as:\n",
            "\n",
            "• \u001b[34m/content/predictor_variables/SRTM_mTPI/Lanai_SRTM_mTPI_Buffer.tif\u001b[39m\n",
            "\n",
            "File downloaded:\n",
            "\n",
            "• \u001b[36mNiihau_SRTM_mTPI_Buffer.tif\u001b[39m \u001b[90m<id: 1JlGaWub7TJ31v7V1GSDQRIq5Mw4wcZx0>\u001b[39m\n",
            "\n",
            "Saved locally as:\n",
            "\n",
            "• \u001b[34m/content/predictor_variables/SRTM_mTPI/Niihau_SRTM_mTPI_Buffer.tif\u001b[39m\n",
            "\n",
            "File downloaded:\n",
            "\n",
            "• \u001b[36mHawaii_SRTM_mTPI_Buffer.tif\u001b[39m \u001b[90m<id: 1Qej-icN4NhaYZ8fhhc4bkVXZuD385sl3>\u001b[39m\n",
            "\n",
            "Saved locally as:\n",
            "\n",
            "• \u001b[34m/content/predictor_variables/SRTM_mTPI/Hawaii_SRTM_mTPI_Buffer.tif\u001b[39m\n",
            "\n",
            "File downloaded:\n",
            "\n",
            "• \u001b[36mMaui_SRTM_mTPI_Buffer.tif\u001b[39m \u001b[90m<id: 1MsRCpuNGuIKInYotrbJ5S-Sagion0wJo>\u001b[39m\n",
            "\n",
            "Saved locally as:\n",
            "\n",
            "• \u001b[34m/content/predictor_variables/SRTM_mTPI/Maui_SRTM_mTPI_Buffer.tif\u001b[39m\n",
            "\n"
          ]
        }
      ]
    },
    {
      "cell_type": "code",
      "source": [
        "folder_loc <- '/content/predictor_variables/Elevation/'\n",
        "dir.create(folder_loc)\n",
        "\n",
        "# https://drive.google.com/drive/folders/1XmH9T9xVINZZfPFi39Wus1l7c0SKS4Am?usp=drive_link\n",
        "folder_id <- \"1XmH9T9xVINZZfPFi39Wus1l7c0SKS4Am\"\n",
        "folder_files <- drive_ls(as_id(folder_id))\n",
        "\n",
        "for (i in 1:nrow(folder_files)) {\n",
        "  file_id <- folder_files$id[i]\n",
        "  file_name <- folder_files$name[i]\n",
        "  drive_download(as_id(file_id), path = paste0(folder_loc,file_name), overwrite = TRUE)\n",
        "}"
      ],
      "metadata": {
        "colab": {
          "base_uri": "https://localhost:8080/"
        },
        "id": "LY0aET4DI-_2",
        "outputId": "d12c5b9e-f92c-48dd-fd70-482503bdbdca"
      },
      "execution_count": 9,
      "outputs": [
        {
          "output_type": "stream",
          "name": "stderr",
          "text": [
            "File downloaded:\n",
            "\n",
            "• \u001b[36mKauai_elevation.tif\u001b[39m \u001b[90m<id: 1SNmoJcKsyKSlG5DVye0c1pHvgWEQ5f1r>\u001b[39m\n",
            "\n",
            "Saved locally as:\n",
            "\n",
            "• \u001b[34m/content/predictor_variables/Elevation/Kauai_elevation.tif\u001b[39m\n",
            "\n",
            "File downloaded:\n",
            "\n",
            "• \u001b[36mOahu_elevation-0000000000-0000046592.tif\u001b[39m\n",
            "  \u001b[90m<id: 1yRDrfvLTEGECTDQcwXRIxoHmUu3D9LL4>\u001b[39m\n",
            "\n",
            "Saved locally as:\n",
            "\n",
            "• \u001b[34m/content/predictor_variables/Elevation/Oahu_elevation-0000000000-0000046592.tif\u001b[39m\n",
            "\n",
            "File downloaded:\n",
            "\n",
            "• \u001b[36mMaui_elevation.tif\u001b[39m \u001b[90m<id: 1Or-pj4QiOj8VgMOAPtVjMm_ocbrvGM6_>\u001b[39m\n",
            "\n",
            "Saved locally as:\n",
            "\n",
            "• \u001b[34m/content/predictor_variables/Elevation/Maui_elevation.tif\u001b[39m\n",
            "\n",
            "File downloaded:\n",
            "\n",
            "• \u001b[36mMolokai_elevation.tif\u001b[39m \u001b[90m<id: 1ae2lpPQngdFx58mRpqt02Z1bQg-Tifen>\u001b[39m\n",
            "\n",
            "Saved locally as:\n",
            "\n",
            "• \u001b[34m/content/predictor_variables/Elevation/Molokai_elevation.tif\u001b[39m\n",
            "\n",
            "File downloaded:\n",
            "\n",
            "• \u001b[36mNiihau_elevation.tif\u001b[39m \u001b[90m<id: 1L6lodPtr7u70scb-gu_QliaAIyEwYAtc>\u001b[39m\n",
            "\n",
            "Saved locally as:\n",
            "\n",
            "• \u001b[34m/content/predictor_variables/Elevation/Niihau_elevation.tif\u001b[39m\n",
            "\n",
            "File downloaded:\n",
            "\n",
            "• \u001b[36mOahu_elevation-0000000000-0000000000.tif\u001b[39m\n",
            "  \u001b[90m<id: 1YMV_pXPQjmdam7ucBItWqzFJPPYQK7H5>\u001b[39m\n",
            "\n",
            "Saved locally as:\n",
            "\n",
            "• \u001b[34m/content/predictor_variables/Elevation/Oahu_elevation-0000000000-0000000000.tif\u001b[39m\n",
            "\n",
            "File downloaded:\n",
            "\n",
            "• \u001b[36mLanai_elevation.tif\u001b[39m \u001b[90m<id: 1XHgejTU-XLW51qDtVprOcGSeuINa4X77>\u001b[39m\n",
            "\n",
            "Saved locally as:\n",
            "\n",
            "• \u001b[34m/content/predictor_variables/Elevation/Lanai_elevation.tif\u001b[39m\n",
            "\n",
            "File downloaded:\n",
            "\n",
            "• \u001b[36mHawaii_elevation.tif\u001b[39m \u001b[90m<id: 116xUvGPbJvJQrFZ7b59EzmcyAPHgKQmN>\u001b[39m\n",
            "\n",
            "Saved locally as:\n",
            "\n",
            "• \u001b[34m/content/predictor_variables/Elevation/Hawaii_elevation.tif\u001b[39m\n",
            "\n"
          ]
        }
      ]
    },
    {
      "cell_type": "code",
      "source": [
        "folder_loc <- '/content/predictor_variables/LandForms/'\n",
        "dir.create(folder_loc)\n",
        "\n",
        "# https://drive.google.com/drive/folders/1PkUR4GK50wC6Kgrvyy-d6067ypdX1dkx?usp=drive_link\n",
        "folder_id <- \"1PkUR4GK50wC6Kgrvyy-d6067ypdX1dkx\"\n",
        "folder_files <- drive_ls(as_id(folder_id))\n",
        "\n",
        "for (i in 1:nrow(folder_files)) {\n",
        "  file_id <- folder_files$id[i]\n",
        "  file_name <- folder_files$name[i]\n",
        "  drive_download(as_id(file_id), path = paste0(folder_loc,file_name), overwrite = TRUE)\n",
        "}"
      ],
      "metadata": {
        "colab": {
          "base_uri": "https://localhost:8080/"
        },
        "id": "0zC2Pv1JJLnH",
        "outputId": "a5e7ba61-3c00-4ce3-df9e-774c641d3660"
      },
      "execution_count": 10,
      "outputs": [
        {
          "output_type": "stream",
          "name": "stderr",
          "text": [
            "File downloaded:\n",
            "\n",
            "• \u001b[36mLandforms_Buffer_2000m.tif\u001b[39m \u001b[90m<id: 1HMIkKM_02cVNWaB7-IYwnd414Wg5acnK>\u001b[39m\n",
            "\n",
            "Saved locally as:\n",
            "\n",
            "• \u001b[34m/content/predictor_variables/LandForms/Landforms_Buffer_2000m.tif\u001b[39m\n",
            "\n",
            "File downloaded:\n",
            "\n",
            "• \u001b[36mKauai_Landforms_Buffer.tif\u001b[39m \u001b[90m<id: 1oRmeE1kg5GswFcDdUaGU5jnui9Y2DpR3>\u001b[39m\n",
            "\n",
            "Saved locally as:\n",
            "\n",
            "• \u001b[34m/content/predictor_variables/LandForms/Kauai_Landforms_Buffer.tif\u001b[39m\n",
            "\n",
            "File downloaded:\n",
            "\n",
            "• \u001b[36mOahu_Landforms_Buffer-0000000000-0000065536.tif\u001b[39m\n",
            "  \u001b[90m<id: 1PcZoQe0l8WLgSagiWWUpTmWmmHmGnIRx>\u001b[39m\n",
            "\n",
            "Saved locally as:\n",
            "\n",
            "• \u001b[34m/content/predictor_variables/LandForms/Oahu_Landforms_Buffer-0000000000-0000065536.tif\u001b[39m\n",
            "\n",
            "File downloaded:\n",
            "\n",
            "• \u001b[36mMolakai_Landforms_Buffer.tif\u001b[39m \u001b[90m<id: 1ZBdccF_ELdIApV0SkAv2ZfWsZ0a0ae1f>\u001b[39m\n",
            "\n",
            "Saved locally as:\n",
            "\n",
            "• \u001b[34m/content/predictor_variables/LandForms/Molakai_Landforms_Buffer.tif\u001b[39m\n",
            "\n",
            "File downloaded:\n",
            "\n",
            "• \u001b[36mNiihau_Landforms_Buffer.tif\u001b[39m \u001b[90m<id: 16jkuVWQ_BIjLBJiTeZeHMj3Z_FCJ4ttm>\u001b[39m\n",
            "\n",
            "Saved locally as:\n",
            "\n",
            "• \u001b[34m/content/predictor_variables/LandForms/Niihau_Landforms_Buffer.tif\u001b[39m\n",
            "\n",
            "File downloaded:\n",
            "\n",
            "• \u001b[36mHawaii_Landforms_Buffer.tif\u001b[39m \u001b[90m<id: 1qBNjiXKd-JJ8CICZvVTo42kkKjBNhYMT>\u001b[39m\n",
            "\n",
            "Saved locally as:\n",
            "\n",
            "• \u001b[34m/content/predictor_variables/LandForms/Hawaii_Landforms_Buffer.tif\u001b[39m\n",
            "\n",
            "File downloaded:\n",
            "\n",
            "• \u001b[36mLanai_Landforms_Buffer.tif\u001b[39m \u001b[90m<id: 1LU4LHzgkHHCmdOfWccniRJ8d0225AFu1>\u001b[39m\n",
            "\n",
            "Saved locally as:\n",
            "\n",
            "• \u001b[34m/content/predictor_variables/LandForms/Lanai_Landforms_Buffer.tif\u001b[39m\n",
            "\n",
            "File downloaded:\n",
            "\n",
            "• \u001b[36mMaui_Landforms_Buffer.tif\u001b[39m \u001b[90m<id: 1v1bBZWsHDYWZfhfGby_wWylkSrVQaqx9>\u001b[39m\n",
            "\n",
            "Saved locally as:\n",
            "\n",
            "• \u001b[34m/content/predictor_variables/LandForms/Maui_Landforms_Buffer.tif\u001b[39m\n",
            "\n",
            "File downloaded:\n",
            "\n",
            "• \u001b[36mHawaii_Landforms_Buffer_2000m.tif\u001b[39m \u001b[90m<id: 11H593mq88YS_NQ39yJBkm4hf77exgb5Z>\u001b[39m\n",
            "\n",
            "Saved locally as:\n",
            "\n",
            "• \u001b[34m/content/predictor_variables/LandForms/Hawaii_Landforms_Buffer_2000m.tif\u001b[39m\n",
            "\n",
            "File downloaded:\n",
            "\n",
            "• \u001b[36mOahu_Landforms_Buffer-0000000000-0000000000.tif\u001b[39m\n",
            "  \u001b[90m<id: 1AzX2SjqLBZnxIfRwNAjzXQQuQGujN24p>\u001b[39m\n",
            "\n",
            "Saved locally as:\n",
            "\n",
            "• \u001b[34m/content/predictor_variables/LandForms/Oahu_Landforms_Buffer-0000000000-0000000000.tif\u001b[39m\n",
            "\n"
          ]
        }
      ]
    },
    {
      "cell_type": "code",
      "source": [
        "folder_loc <- '/content/predictor_variables/LandSat_composite/'\n",
        "dir.create(folder_loc)\n",
        "\n",
        "# https://drive.google.com/drive/folders/1NzvurSghdEJdX0UsfdyuOcOyh6n3jUDo?usp=drive_link\n",
        "folder_id <- \"1NzvurSghdEJdX0UsfdyuOcOyh6n3jUDo\"\n",
        "folder_files <- drive_ls(as_id(folder_id))\n",
        "\n",
        "for (i in 1:nrow(folder_files)) {\n",
        "  file_id <- folder_files$id[i]\n",
        "  file_name <- folder_files$name[i]\n",
        "  drive_download(as_id(file_id), path = paste0(folder_loc,file_name), overwrite = TRUE)\n",
        "}"
      ],
      "metadata": {
        "colab": {
          "base_uri": "https://localhost:8080/"
        },
        "id": "dqW2ASxSJY3a",
        "outputId": "65872e6e-ed8d-4e8f-ff18-9c5ccff135b7"
      },
      "execution_count": 11,
      "outputs": [
        {
          "output_type": "stream",
          "name": "stderr",
          "text": [
            "File downloaded:\n",
            "\n",
            "• \u001b[36mNiihau_LS_composite_2012_2018.tif\u001b[39m \u001b[90m<id: 1yphCVOxcRgBOKdhvOOQunCnObkHhPWWx>\u001b[39m\n",
            "\n",
            "Saved locally as:\n",
            "\n",
            "• \u001b[34m/content/predictor_variables/LandSat_composite/Niihau_LS_composite_2012_2018.tif\u001b[39m\n",
            "\n",
            "File downloaded:\n",
            "\n",
            "• \u001b[36mOahu_LS_composite_2012_2018-0000000000-0000035840.tif\u001b[39m\n",
            "  \u001b[90m<id: 1Tyc-6B7SqE1nMRBDbSzNP9KvoItaogpC>\u001b[39m\n",
            "\n",
            "Saved locally as:\n",
            "\n",
            "• \u001b[34m/content/predictor_variables/LandSat_composite/Oahu_LS_composite_2012_2018-0000000000-0000035840.tif\u001b[39m\n",
            "\n",
            "File downloaded:\n",
            "\n",
            "• \u001b[36mOahu_LS_composite_2012_2018-0000008960-0000026880.tif\u001b[39m\n",
            "  \u001b[90m<id: 1yaE46GTtCsjXAhqK43HzMHgfMicRjMnK>\u001b[39m\n",
            "\n",
            "Saved locally as:\n",
            "\n",
            "• \u001b[34m/content/predictor_variables/LandSat_composite/Oahu_LS_composite_2012_2018-0000008960-0000026880.tif\u001b[39m\n",
            "\n",
            "File downloaded:\n",
            "\n",
            "• \u001b[36mOahu_LS_composite_2012_2018-0000008960-0000035840.tif\u001b[39m\n",
            "  \u001b[90m<id: 1sxPsCuwNjHyfO2Sxit0jVfG_jai9IJWR>\u001b[39m\n",
            "\n",
            "Saved locally as:\n",
            "\n",
            "• \u001b[34m/content/predictor_variables/LandSat_composite/Oahu_LS_composite_2012_2018-0000008960-0000035840.tif\u001b[39m\n",
            "\n",
            "File downloaded:\n",
            "\n",
            "• \u001b[36mOahu_LS_composite_2012_2018-0000008960-0000071680.tif\u001b[39m\n",
            "  \u001b[90m<id: 1h048N56sL8ONS__dq3Rvv5AcoqXj5OW5>\u001b[39m\n",
            "\n",
            "Saved locally as:\n",
            "\n",
            "• \u001b[34m/content/predictor_variables/LandSat_composite/Oahu_LS_composite_2012_2018-0000008960-0000071680.tif\u001b[39m\n",
            "\n",
            "File downloaded:\n",
            "\n",
            "• \u001b[36mOahu_LS_composite_2012_2018-0000017920-0000044800.tif\u001b[39m\n",
            "  \u001b[90m<id: 1Am-dtw1x7OaH8wFAoSNjl9ZuknVezhJM>\u001b[39m\n",
            "\n",
            "Saved locally as:\n",
            "\n",
            "• \u001b[34m/content/predictor_variables/LandSat_composite/Oahu_LS_composite_2012_2018-0000017920-0000044800.tif\u001b[39m\n",
            "\n",
            "File downloaded:\n",
            "\n",
            "• \u001b[36mOahu_LS_composite_2012_2018-0000017920-0000053760.tif\u001b[39m\n",
            "  \u001b[90m<id: 1GyLpxk5ukusI1n5Ya9XObOxgaP84J-Sd>\u001b[39m\n",
            "\n",
            "Saved locally as:\n",
            "\n",
            "• \u001b[34m/content/predictor_variables/LandSat_composite/Oahu_LS_composite_2012_2018-0000017920-0000053760.tif\u001b[39m\n",
            "\n",
            "File downloaded:\n",
            "\n",
            "• \u001b[36mOahu_LS_composite_2012_2018-0000026880-0000008960.tif\u001b[39m\n",
            "  \u001b[90m<id: 1xx19M_Qj9I0MaNGswJnTpSxWN_u7obGZ>\u001b[39m\n",
            "\n",
            "Saved locally as:\n",
            "\n",
            "• \u001b[34m/content/predictor_variables/LandSat_composite/Oahu_LS_composite_2012_2018-0000026880-0000008960.tif\u001b[39m\n",
            "\n",
            "File downloaded:\n",
            "\n",
            "• \u001b[36mOahu_LS_composite_2012_2018-0000026880-0000053760.tif\u001b[39m\n",
            "  \u001b[90m<id: 1GYZbsuuHnIppFck45JbPTeuL1yjpZurC>\u001b[39m\n",
            "\n",
            "Saved locally as:\n",
            "\n",
            "• \u001b[34m/content/predictor_variables/LandSat_composite/Oahu_LS_composite_2012_2018-0000026880-0000053760.tif\u001b[39m\n",
            "\n",
            "File downloaded:\n",
            "\n",
            "• \u001b[36mOahu_LS_composite_2012_2018-0000000000-0000053760.tif\u001b[39m\n",
            "  \u001b[90m<id: 1YM8FG8GlFzOu5eTzsu8yuzQSxK8tWoHn>\u001b[39m\n",
            "\n",
            "Saved locally as:\n",
            "\n",
            "• \u001b[34m/content/predictor_variables/LandSat_composite/Oahu_LS_composite_2012_2018-0000000000-0000053760.tif\u001b[39m\n",
            "\n",
            "File downloaded:\n",
            "\n",
            "• \u001b[36mOahu_LS_composite_2012_2018-0000000000-0000071680.tif\u001b[39m\n",
            "  \u001b[90m<id: 1V7Tmq9NV1KfuzEf8tYl-PwSfgffdVcBd>\u001b[39m\n",
            "\n",
            "Saved locally as:\n",
            "\n",
            "• \u001b[34m/content/predictor_variables/LandSat_composite/Oahu_LS_composite_2012_2018-0000000000-0000071680.tif\u001b[39m\n",
            "\n",
            "File downloaded:\n",
            "\n",
            "• \u001b[36mOahu_LS_composite_2012_2018-0000017920-0000000000.tif\u001b[39m\n",
            "  \u001b[90m<id: 1VYpYFZohAipbD_Z06HoIsQr11JoGHV3Q>\u001b[39m\n",
            "\n",
            "Saved locally as:\n",
            "\n",
            "• \u001b[34m/content/predictor_variables/LandSat_composite/Oahu_LS_composite_2012_2018-0000017920-0000000000.tif\u001b[39m\n",
            "\n",
            "File downloaded:\n",
            "\n",
            "• \u001b[36mOahu_LS_composite_2012_2018-0000017920-0000017920.tif\u001b[39m\n",
            "  \u001b[90m<id: 1ZY5VU3dqQEzST-a_Y_N5psClMkj0LhS6>\u001b[39m\n",
            "\n",
            "Saved locally as:\n",
            "\n",
            "• \u001b[34m/content/predictor_variables/LandSat_composite/Oahu_LS_composite_2012_2018-0000017920-0000017920.tif\u001b[39m\n",
            "\n",
            "File downloaded:\n",
            "\n",
            "• \u001b[36mOahu_LS_composite_2012_2018-0000008960-0000000000.tif\u001b[39m\n",
            "  \u001b[90m<id: 1bYSagWcYRfVwL8WnD7RDFYbL8SWM3709>\u001b[39m\n",
            "\n",
            "Saved locally as:\n",
            "\n",
            "• \u001b[34m/content/predictor_variables/LandSat_composite/Oahu_LS_composite_2012_2018-0000008960-0000000000.tif\u001b[39m\n",
            "\n",
            "File downloaded:\n",
            "\n",
            "• \u001b[36mOahu_LS_composite_2012_2018-0000008960-0000008960.tif\u001b[39m\n",
            "  \u001b[90m<id: 1MmA9-7zA4WYeUxfrCIBxOR6a8dthU1mu>\u001b[39m\n",
            "\n",
            "Saved locally as:\n",
            "\n",
            "• \u001b[34m/content/predictor_variables/LandSat_composite/Oahu_LS_composite_2012_2018-0000008960-0000008960.tif\u001b[39m\n",
            "\n",
            "File downloaded:\n",
            "\n",
            "• \u001b[36mOahu_LS_composite_2012_2018-0000008960-0000017920.tif\u001b[39m\n",
            "  \u001b[90m<id: 1kyc-1KtcvgapgBlnwC_jbblvvUKTd2XI>\u001b[39m\n",
            "\n",
            "Saved locally as:\n",
            "\n",
            "• \u001b[34m/content/predictor_variables/LandSat_composite/Oahu_LS_composite_2012_2018-0000008960-0000017920.tif\u001b[39m\n",
            "\n",
            "File downloaded:\n",
            "\n",
            "• \u001b[36mOahu_LS_composite_2012_2018-0000008960-0000053760.tif\u001b[39m\n",
            "  \u001b[90m<id: 1SBJ51492ILEcwYJF4lCbsTDKekGeOJLX>\u001b[39m\n",
            "\n",
            "Saved locally as:\n",
            "\n",
            "• \u001b[34m/content/predictor_variables/LandSat_composite/Oahu_LS_composite_2012_2018-0000008960-0000053760.tif\u001b[39m\n",
            "\n",
            "File downloaded:\n",
            "\n",
            "• \u001b[36mOahu_LS_composite_2012_2018-0000026880-0000000000.tif\u001b[39m\n",
            "  \u001b[90m<id: 11Q2dyTnizWzqOtDqYeehdJJvwEqz5pCG>\u001b[39m\n",
            "\n",
            "Saved locally as:\n",
            "\n",
            "• \u001b[34m/content/predictor_variables/LandSat_composite/Oahu_LS_composite_2012_2018-0000026880-0000000000.tif\u001b[39m\n",
            "\n",
            "File downloaded:\n",
            "\n",
            "• \u001b[36mOahu_LS_composite_2012_2018-0000026880-0000044800.tif\u001b[39m\n",
            "  \u001b[90m<id: 15wOx4LbskGPYH2MBokQ2g210Z69OR10V>\u001b[39m\n",
            "\n",
            "Saved locally as:\n",
            "\n",
            "• \u001b[34m/content/predictor_variables/LandSat_composite/Oahu_LS_composite_2012_2018-0000026880-0000044800.tif\u001b[39m\n",
            "\n",
            "File downloaded:\n",
            "\n",
            "• \u001b[36mOahu_LS_composite_2012_2018-0000017920-0000008960.tif\u001b[39m\n",
            "  \u001b[90m<id: 1tc5SGvkmD3xnqTQRgJYwSDIO6XizPZsQ>\u001b[39m\n",
            "\n",
            "Saved locally as:\n",
            "\n",
            "• \u001b[34m/content/predictor_variables/LandSat_composite/Oahu_LS_composite_2012_2018-0000017920-0000008960.tif\u001b[39m\n",
            "\n",
            "File downloaded:\n",
            "\n",
            "• \u001b[36mOahu_LS_composite_2012_2018-0000017920-0000071680.tif\u001b[39m\n",
            "  \u001b[90m<id: 1RwYELhXCf7GH4SmJjxmKaJrXDyyfC-o9>\u001b[39m\n",
            "\n",
            "Saved locally as:\n",
            "\n",
            "• \u001b[34m/content/predictor_variables/LandSat_composite/Oahu_LS_composite_2012_2018-0000017920-0000071680.tif\u001b[39m\n",
            "\n",
            "File downloaded:\n",
            "\n",
            "• \u001b[36mOahu_LS_composite_2012_2018-0000026880-0000062720.tif\u001b[39m\n",
            "  \u001b[90m<id: 198oPEMLWxG_yw81FiQZPX_QYynTnTCNU>\u001b[39m\n",
            "\n",
            "Saved locally as:\n",
            "\n",
            "• \u001b[34m/content/predictor_variables/LandSat_composite/Oahu_LS_composite_2012_2018-0000026880-0000062720.tif\u001b[39m\n",
            "\n",
            "File downloaded:\n",
            "\n",
            "• \u001b[36mHawaii_LS_composite_2012_2018.tif\u001b[39m \u001b[90m<id: 1EJWKN1fQFk10ODucJaJ-Y85kwAIAkXdO>\u001b[39m\n",
            "\n",
            "Saved locally as:\n",
            "\n",
            "• \u001b[34m/content/predictor_variables/LandSat_composite/Hawaii_LS_composite_2012_2018.tif\u001b[39m\n",
            "\n",
            "File downloaded:\n",
            "\n",
            "• \u001b[36mOahu_LS_composite_2012_2018-0000026880-0000035840.tif\u001b[39m\n",
            "  \u001b[90m<id: 1Z0yJMivrU2OTyml7vilXcHAMtd2VRWgK>\u001b[39m\n",
            "\n",
            "Saved locally as:\n",
            "\n",
            "• \u001b[34m/content/predictor_variables/LandSat_composite/Oahu_LS_composite_2012_2018-0000026880-0000035840.tif\u001b[39m\n",
            "\n",
            "File downloaded:\n",
            "\n",
            "• \u001b[36mOahu_LS_composite_2012_2018-0000026880-0000071680.tif\u001b[39m\n",
            "  \u001b[90m<id: 1EYTgSBFIkoImi8KSh3k3dA7Q-RKgvViS>\u001b[39m\n",
            "\n",
            "Saved locally as:\n",
            "\n",
            "• \u001b[34m/content/predictor_variables/LandSat_composite/Oahu_LS_composite_2012_2018-0000026880-0000071680.tif\u001b[39m\n",
            "\n",
            "File downloaded:\n",
            "\n",
            "• \u001b[36mOahu_LS_composite_2012_2018-0000026880-0000026880.tif\u001b[39m\n",
            "  \u001b[90m<id: 1xxTL6LDIVpeqV5drANGRBrmTOP-R7OJL>\u001b[39m\n",
            "\n",
            "Saved locally as:\n",
            "\n",
            "• \u001b[34m/content/predictor_variables/LandSat_composite/Oahu_LS_composite_2012_2018-0000026880-0000026880.tif\u001b[39m\n",
            "\n",
            "File downloaded:\n",
            "\n",
            "• \u001b[36mMolokai_LS_composite_2012_2018.tif\u001b[39m \u001b[90m<id: 1PAdKrn74OPn0DABilto8YIJNdOBOBBKE>\u001b[39m\n",
            "\n",
            "Saved locally as:\n",
            "\n",
            "• \u001b[34m/content/predictor_variables/LandSat_composite/Molokai_LS_composite_2012_2018.tif\u001b[39m\n",
            "\n",
            "File downloaded:\n",
            "\n",
            "• \u001b[36mOahu_LS_composite_2012_2018-0000000000-0000008960.tif\u001b[39m\n",
            "  \u001b[90m<id: 1Xhd-_PQ6u9UqwNFx5xFncC5OPCPFm5pd>\u001b[39m\n",
            "\n",
            "Saved locally as:\n",
            "\n",
            "• \u001b[34m/content/predictor_variables/LandSat_composite/Oahu_LS_composite_2012_2018-0000000000-0000008960.tif\u001b[39m\n",
            "\n",
            "File downloaded:\n",
            "\n",
            "• \u001b[36mOahu_LS_composite_2012_2018-0000000000-0000017920.tif\u001b[39m\n",
            "  \u001b[90m<id: 1P-i9XcN4qsnfiy26vyORkmuzXIpWrI-D>\u001b[39m\n",
            "\n",
            "Saved locally as:\n",
            "\n",
            "• \u001b[34m/content/predictor_variables/LandSat_composite/Oahu_LS_composite_2012_2018-0000000000-0000017920.tif\u001b[39m\n",
            "\n",
            "File downloaded:\n",
            "\n",
            "• \u001b[36mOahu_LS_composite_2012_2018-0000000000-0000026880.tif\u001b[39m\n",
            "  \u001b[90m<id: 1x1OPChnSFwnKTsOqrBPopbJQKJTTmabl>\u001b[39m\n",
            "\n",
            "Saved locally as:\n",
            "\n",
            "• \u001b[34m/content/predictor_variables/LandSat_composite/Oahu_LS_composite_2012_2018-0000000000-0000026880.tif\u001b[39m\n",
            "\n",
            "File downloaded:\n",
            "\n",
            "• \u001b[36mOahu_LS_composite_2012_2018-0000000000-0000044800.tif\u001b[39m\n",
            "  \u001b[90m<id: 1ig_nM95kDvLr8dgYlp0PQyx65YAYkAbI>\u001b[39m\n",
            "\n",
            "Saved locally as:\n",
            "\n",
            "• \u001b[34m/content/predictor_variables/LandSat_composite/Oahu_LS_composite_2012_2018-0000000000-0000044800.tif\u001b[39m\n",
            "\n",
            "File downloaded:\n",
            "\n",
            "• \u001b[36mOahu_LS_composite_2012_2018-0000000000-0000062720.tif\u001b[39m\n",
            "  \u001b[90m<id: 1qqDjZP0D1X87I02GNyy1JxhCC1p9EU-e>\u001b[39m\n",
            "\n",
            "Saved locally as:\n",
            "\n",
            "• \u001b[34m/content/predictor_variables/LandSat_composite/Oahu_LS_composite_2012_2018-0000000000-0000062720.tif\u001b[39m\n",
            "\n",
            "File downloaded:\n",
            "\n",
            "• \u001b[36mOahu_LS_composite_2012_2018-0000008960-0000062720.tif\u001b[39m\n",
            "  \u001b[90m<id: 1beEDV7FQzjHqHVcGwPANRnSX-irJkYJg>\u001b[39m\n",
            "\n",
            "Saved locally as:\n",
            "\n",
            "• \u001b[34m/content/predictor_variables/LandSat_composite/Oahu_LS_composite_2012_2018-0000008960-0000062720.tif\u001b[39m\n",
            "\n",
            "File downloaded:\n",
            "\n",
            "• \u001b[36mOahu_LS_composite_2012_2018-0000017920-0000026880.tif\u001b[39m\n",
            "  \u001b[90m<id: 1R_TWiUhuLGchd-MWbL19NaY5wUSgNUwp>\u001b[39m\n",
            "\n",
            "Saved locally as:\n",
            "\n",
            "• \u001b[34m/content/predictor_variables/LandSat_composite/Oahu_LS_composite_2012_2018-0000017920-0000026880.tif\u001b[39m\n",
            "\n",
            "File downloaded:\n",
            "\n",
            "• \u001b[36mOahu_LS_composite_2012_2018-0000017920-0000035840.tif\u001b[39m\n",
            "  \u001b[90m<id: 1qzaZk95zg4oCVYBoC6WX2yjC_szZlejJ>\u001b[39m\n",
            "\n",
            "Saved locally as:\n",
            "\n",
            "• \u001b[34m/content/predictor_variables/LandSat_composite/Oahu_LS_composite_2012_2018-0000017920-0000035840.tif\u001b[39m\n",
            "\n",
            "File downloaded:\n",
            "\n",
            "• \u001b[36mOahu_LS_composite_2012_2018-0000026880-0000017920.tif\u001b[39m\n",
            "  \u001b[90m<id: 1M7xCSw8mfrToCz1W8hyk3bo2J4jYxLfn>\u001b[39m\n",
            "\n",
            "Saved locally as:\n",
            "\n",
            "• \u001b[34m/content/predictor_variables/LandSat_composite/Oahu_LS_composite_2012_2018-0000026880-0000017920.tif\u001b[39m\n",
            "\n",
            "File downloaded:\n",
            "\n",
            "• \u001b[36mOahu_LS_composite_2012_2018-0000000000-0000000000.tif\u001b[39m\n",
            "  \u001b[90m<id: 14PMYBdBOSiJLSmW6jNmf0U5UO_87s2GM>\u001b[39m\n",
            "\n",
            "Saved locally as:\n",
            "\n",
            "• \u001b[34m/content/predictor_variables/LandSat_composite/Oahu_LS_composite_2012_2018-0000000000-0000000000.tif\u001b[39m\n",
            "\n",
            "File downloaded:\n",
            "\n",
            "• \u001b[36mOahu_LS_composite_2012_2018-0000008960-0000044800.tif\u001b[39m\n",
            "  \u001b[90m<id: 1hwLxZy9U_FN0n7OYaFc9PiyeVQew8j_b>\u001b[39m\n",
            "\n",
            "Saved locally as:\n",
            "\n",
            "• \u001b[34m/content/predictor_variables/LandSat_composite/Oahu_LS_composite_2012_2018-0000008960-0000044800.tif\u001b[39m\n",
            "\n",
            "File downloaded:\n",
            "\n",
            "• \u001b[36mOahu_LS_composite_2012_2018-0000017920-0000062720.tif\u001b[39m\n",
            "  \u001b[90m<id: 1zt-5ulXvabmU1WZTGG9_B038VL5l1jVC>\u001b[39m\n",
            "\n",
            "Saved locally as:\n",
            "\n",
            "• \u001b[34m/content/predictor_variables/LandSat_composite/Oahu_LS_composite_2012_2018-0000017920-0000062720.tif\u001b[39m\n",
            "\n",
            "File downloaded:\n",
            "\n",
            "• \u001b[36mLanai_LS_composite_2012_2018.tif\u001b[39m \u001b[90m<id: 1CdXltYRNLCwcbZio9rHAMcN2Gvzl8XNM>\u001b[39m\n",
            "\n",
            "Saved locally as:\n",
            "\n",
            "• \u001b[34m/content/predictor_variables/LandSat_composite/Lanai_LS_composite_2012_2018.tif\u001b[39m\n",
            "\n",
            "File downloaded:\n",
            "\n",
            "• \u001b[36mKauai_LS_composite_2012_2018.tif\u001b[39m \u001b[90m<id: 15dHlF672gbMBoAbVs8L71k5KVQsDq2m3>\u001b[39m\n",
            "\n",
            "Saved locally as:\n",
            "\n",
            "• \u001b[34m/content/predictor_variables/LandSat_composite/Kauai_LS_composite_2012_2018.tif\u001b[39m\n",
            "\n",
            "File downloaded:\n",
            "\n",
            "• \u001b[36mMaui_LS_composite_2012_2018.tif\u001b[39m \u001b[90m<id: 1SPz_lbxHhtjwIBO7qFuOvpLNHqhrR3kv>\u001b[39m\n",
            "\n",
            "Saved locally as:\n",
            "\n",
            "• \u001b[34m/content/predictor_variables/LandSat_composite/Maui_LS_composite_2012_2018.tif\u001b[39m\n",
            "\n"
          ]
        }
      ]
    },
    {
      "cell_type": "code",
      "source": [
        "folder_loc <- '/content/predictor_variables/DynamicWorld_landcover/'\n",
        "dir.create(folder_loc)\n",
        "\n",
        "# https://drive.google.com/drive/folders/152pjTArpwlDVGjXFoSU9bmo1BDSKdCqq?usp=drive_link\n",
        "folder_id <- \"152pjTArpwlDVGjXFoSU9bmo1BDSKdCqq\"\n",
        "folder_files <- drive_ls(as_id(folder_id))\n",
        "\n",
        "for (i in 1:nrow(folder_files)) {\n",
        "  file_id <- folder_files$id[i]\n",
        "  file_name <- folder_files$name[i]\n",
        "  drive_download(as_id(file_id), path = paste0(folder_loc,file_name), overwrite = TRUE)\n",
        "}"
      ],
      "metadata": {
        "colab": {
          "base_uri": "https://localhost:8080/",
          "height": 1000
        },
        "id": "JEWwTbKvJonY",
        "outputId": "cf4674a5-bffb-4a15-fb39-292c85d32e73"
      },
      "execution_count": 12,
      "outputs": [
        {
          "output_type": "stream",
          "name": "stderr",
          "text": [
            "File downloaded:\n",
            "\n",
            "• \u001b[36mOahu_Average_Land_Cover_Buffer_2000m_2015_to_2019-0000000000-0000200448.tif\u001b[39m\n",
            "  \u001b[90m<id: 1d1budUOMeLAnuM2sc0XRwNaGJDVYD6mi>\u001b[39m\n",
            "\n",
            "Saved locally as:\n",
            "\n",
            "• \u001b[34m/content/predictor_variables/DynamicWorld_landcover/Oahu_Average_Land_Cover_Buffer_2000m_2015_to_2019-0000000000-0000200448.tif\u001b[39m\n",
            "\n",
            "File downloaded:\n",
            "\n",
            "• \u001b[36mOahu_Average_Land_Cover_Buffer_2000m_2015_to_2019-0000007424-0000096512.tif\u001b[39m\n",
            "  \u001b[90m<id: 12WZZsotfizLogT8LNfk5xnd8B_SwxmX7>\u001b[39m\n",
            "\n",
            "Saved locally as:\n",
            "\n",
            "• \u001b[34m/content/predictor_variables/DynamicWorld_landcover/Oahu_Average_Land_Cover_Buffer_2000m_2015_to_2019-0000007424-0000096512.tif\u001b[39m\n",
            "\n",
            "File downloaded:\n",
            "\n",
            "• \u001b[36mOahu_Average_Land_Cover_Buffer_2000m_2015_to_2019-0000007424-0000193024.tif\u001b[39m\n",
            "  \u001b[90m<id: 1LYpsLuD3I41nw7dzn2iragALgzqlSDfe>\u001b[39m\n",
            "\n",
            "Saved locally as:\n",
            "\n",
            "• \u001b[34m/content/predictor_variables/DynamicWorld_landcover/Oahu_Average_Land_Cover_Buffer_2000m_2015_to_2019-0000007424-0000193024.tif\u001b[39m\n",
            "\n",
            "File downloaded:\n",
            "\n",
            "• \u001b[36mOahu_Average_Land_Cover_Buffer_2000m_2015_to_2019-0000014848-0000200448.tif\u001b[39m\n",
            "  \u001b[90m<id: 1FaGqlWwDEWImhMgu8PRwC_YBoKOGkFZP>\u001b[39m\n",
            "\n",
            "Saved locally as:\n",
            "\n",
            "• \u001b[34m/content/predictor_variables/DynamicWorld_landcover/Oahu_Average_Land_Cover_Buffer_2000m_2015_to_2019-0000014848-0000200448.tif\u001b[39m\n",
            "\n",
            "File downloaded:\n",
            "\n",
            "• \u001b[36mOahu_Average_Land_Cover_Buffer_2000m_2015_to_2019-0000022272-0000044544.tif\u001b[39m\n",
            "  \u001b[90m<id: 1dcJxjczVyEa8VRoSNy24NhVoMkm0BH7w>\u001b[39m\n",
            "\n",
            "Saved locally as:\n",
            "\n",
            "• \u001b[34m/content/predictor_variables/DynamicWorld_landcover/Oahu_Average_Land_Cover_Buffer_2000m_2015_to_2019-0000022272-0000044544.tif\u001b[39m\n",
            "\n",
            "File downloaded:\n",
            "\n",
            "• \u001b[36mOahu_Average_Land_Cover_Buffer_2000m_2015_to_2019-0000022272-0000163328.tif\u001b[39m\n",
            "  \u001b[90m<id: 18n_NynkIV-x_Mfa6EHkqZYcrbuYzKCsi>\u001b[39m\n",
            "\n",
            "Saved locally as:\n",
            "\n",
            "• \u001b[34m/content/predictor_variables/DynamicWorld_landcover/Oahu_Average_Land_Cover_Buffer_2000m_2015_to_2019-0000022272-0000163328.tif\u001b[39m\n",
            "\n",
            "File downloaded:\n",
            "\n",
            "• \u001b[36mOahu_Average_Land_Cover_Buffer_2000m_2015_to_2019-0000022272-0000200448.tif\u001b[39m\n",
            "  \u001b[90m<id: 1X7CoHwWNXLrOl3_yllo1jYNpA21EDTDw>\u001b[39m\n",
            "\n",
            "Saved locally as:\n",
            "\n",
            "• \u001b[34m/content/predictor_variables/DynamicWorld_landcover/Oahu_Average_Land_Cover_Buffer_2000m_2015_to_2019-0000022272-0000200448.tif\u001b[39m\n",
            "\n",
            "File downloaded:\n",
            "\n",
            "• \u001b[36mOahu_Average_Land_Cover_Buffer_2000m_2015_to_2019-0000029696-0000066816.tif\u001b[39m\n",
            "  \u001b[90m<id: 1PY6PReuPFGZhxffX1lA40w4vuW_oqY5K>\u001b[39m\n",
            "\n",
            "Saved locally as:\n",
            "\n",
            "• \u001b[34m/content/predictor_variables/DynamicWorld_landcover/Oahu_Average_Land_Cover_Buffer_2000m_2015_to_2019-0000029696-0000066816.tif\u001b[39m\n",
            "\n",
            "File downloaded:\n",
            "\n",
            "• \u001b[36mOahu_Average_Land_Cover_Buffer_2000m_2015_to_2019-0000029696-0000103936.tif\u001b[39m\n",
            "  \u001b[90m<id: 10TPvbFq2Ked5DR7z3B53C0TFPK-XZyJY>\u001b[39m\n",
            "\n",
            "Saved locally as:\n",
            "\n",
            "• \u001b[34m/content/predictor_variables/DynamicWorld_landcover/Oahu_Average_Land_Cover_Buffer_2000m_2015_to_2019-0000029696-0000103936.tif\u001b[39m\n",
            "\n",
            "File downloaded:\n",
            "\n",
            "• \u001b[36mOahu_Average_Land_Cover_Buffer_2000m_2015_to_2019-0000029696-0000148480.tif\u001b[39m\n",
            "  \u001b[90m<id: 1CvWuga_yrFs2x5iKI8CizsxUJdwTgSgo>\u001b[39m\n",
            "\n",
            "Saved locally as:\n",
            "\n",
            "• \u001b[34m/content/predictor_variables/DynamicWorld_landcover/Oahu_Average_Land_Cover_Buffer_2000m_2015_to_2019-0000029696-0000148480.tif\u001b[39m\n",
            "\n",
            "File downloaded:\n",
            "\n",
            "• \u001b[36mOahu_Average_Land_Cover_Buffer_2000m_2015_to_2019-0000037120-0000014848.tif\u001b[39m\n",
            "  \u001b[90m<id: 1xmG6ZksPZZ1RSg8yR06Atnh16pShwW3N>\u001b[39m\n",
            "\n",
            "Saved locally as:\n",
            "\n",
            "• \u001b[34m/content/predictor_variables/DynamicWorld_landcover/Oahu_Average_Land_Cover_Buffer_2000m_2015_to_2019-0000037120-0000014848.tif\u001b[39m\n",
            "\n",
            "File downloaded:\n",
            "\n",
            "• \u001b[36mOahu_Average_Land_Cover_Buffer_2000m_2015_to_2019-0000037120-0000022272.tif\u001b[39m\n",
            "  \u001b[90m<id: 1PnZdiDNayT66k6K6H3F7C0spr1PmhTQ9>\u001b[39m\n",
            "\n",
            "Saved locally as:\n",
            "\n",
            "• \u001b[34m/content/predictor_variables/DynamicWorld_landcover/Oahu_Average_Land_Cover_Buffer_2000m_2015_to_2019-0000037120-0000022272.tif\u001b[39m\n",
            "\n",
            "File downloaded:\n",
            "\n",
            "• \u001b[36mOahu_Average_Land_Cover_Buffer_2000m_2015_to_2019-0000037120-0000185600.tif\u001b[39m\n",
            "  \u001b[90m<id: 1Mfr_m2wwVsNhJ-ixw5h4IafABMx34Gok>\u001b[39m\n",
            "\n",
            "Saved locally as:\n",
            "\n",
            "• \u001b[34m/content/predictor_variables/DynamicWorld_landcover/Oahu_Average_Land_Cover_Buffer_2000m_2015_to_2019-0000037120-0000185600.tif\u001b[39m\n",
            "\n",
            "File downloaded:\n",
            "\n",
            "• \u001b[36mOahu_Average_Land_Cover_Buffer_2000m_2015_to_2019-0000037120-0000230144.tif\u001b[39m\n",
            "  \u001b[90m<id: 13sPnI2KF6AbvVThqo52IODMi21_xklEA>\u001b[39m\n",
            "\n",
            "Saved locally as:\n",
            "\n",
            "• \u001b[34m/content/predictor_variables/DynamicWorld_landcover/Oahu_Average_Land_Cover_Buffer_2000m_2015_to_2019-0000037120-0000230144.tif\u001b[39m\n",
            "\n",
            "File downloaded:\n",
            "\n",
            "• \u001b[36mOahu_Average_Land_Cover_Buffer_2000m_2015_to_2019-0000044544-0000133632.tif\u001b[39m\n",
            "  \u001b[90m<id: 1ljtpYzUmN1G_aHtqA2QZcISxu6rUNEEy>\u001b[39m\n",
            "\n",
            "Saved locally as:\n",
            "\n",
            "• \u001b[34m/content/predictor_variables/DynamicWorld_landcover/Oahu_Average_Land_Cover_Buffer_2000m_2015_to_2019-0000044544-0000133632.tif\u001b[39m\n",
            "\n",
            "File downloaded:\n",
            "\n",
            "• \u001b[36mOahu_Average_Land_Cover_Buffer_2000m_2015_to_2019-0000051968-0000066816.tif\u001b[39m\n",
            "  \u001b[90m<id: 1yYO_xsEeVM49MHSdfjO40iPNQBtqPvuv>\u001b[39m\n",
            "\n",
            "Saved locally as:\n",
            "\n",
            "• \u001b[34m/content/predictor_variables/DynamicWorld_landcover/Oahu_Average_Land_Cover_Buffer_2000m_2015_to_2019-0000051968-0000066816.tif\u001b[39m\n",
            "\n",
            "File downloaded:\n",
            "\n",
            "• \u001b[36mOahu_Average_Land_Cover_Buffer_2000m_2015_to_2019-0000051968-0000163328.tif\u001b[39m\n",
            "  \u001b[90m<id: 1XhyLn26IoYl_R2zpdPRxYTCY0MzsLq5g>\u001b[39m\n",
            "\n",
            "Saved locally as:\n",
            "\n",
            "• \u001b[34m/content/predictor_variables/DynamicWorld_landcover/Oahu_Average_Land_Cover_Buffer_2000m_2015_to_2019-0000051968-0000163328.tif\u001b[39m\n",
            "\n",
            "File downloaded:\n",
            "\n",
            "• \u001b[36mOahu_Average_Land_Cover_Buffer_2000m_2015_to_2019-0000051968-0000193024.tif\u001b[39m\n",
            "  \u001b[90m<id: 1RaXdu5x5GETN5x9O0S4oPQzCIqmo3kqX>\u001b[39m\n",
            "\n",
            "Saved locally as:\n",
            "\n",
            "• \u001b[34m/content/predictor_variables/DynamicWorld_landcover/Oahu_Average_Land_Cover_Buffer_2000m_2015_to_2019-0000051968-0000193024.tif\u001b[39m\n",
            "\n",
            "File downloaded:\n",
            "\n",
            "• \u001b[36mOahu_Average_Land_Cover_Buffer_2000m_2015_to_2019-0000059392-0000230144.tif\u001b[39m\n",
            "  \u001b[90m<id: 1Kjfx2GHYQEuSQixuKg9ifOlFixsL7KK8>\u001b[39m\n",
            "\n",
            "Saved locally as:\n",
            "\n",
            "• \u001b[34m/content/predictor_variables/DynamicWorld_landcover/Oahu_Average_Land_Cover_Buffer_2000m_2015_to_2019-0000059392-0000230144.tif\u001b[39m\n",
            "\n",
            "File downloaded:\n",
            "\n",
            "• \u001b[36mOahu_Average_Land_Cover_Buffer_2000m_2015_to_2019-0000066816-0000118784.tif\u001b[39m\n",
            "  \u001b[90m<id: 1pyzf95s9drdhsCxERzaqa3c2G7bzQ2fN>\u001b[39m\n",
            "\n",
            "Saved locally as:\n",
            "\n",
            "• \u001b[34m/content/predictor_variables/DynamicWorld_landcover/Oahu_Average_Land_Cover_Buffer_2000m_2015_to_2019-0000066816-0000118784.tif\u001b[39m\n",
            "\n",
            "File downloaded:\n",
            "\n",
            "• \u001b[36mOahu_Average_Land_Cover_Buffer_2000m_2015_to_2019-0000066816-0000148480.tif\u001b[39m\n",
            "  \u001b[90m<id: 1PN7KpKmK_i53EmMwmzaC0Sl_LmgLUM20>\u001b[39m\n",
            "\n",
            "Saved locally as:\n",
            "\n",
            "• \u001b[34m/content/predictor_variables/DynamicWorld_landcover/Oahu_Average_Land_Cover_Buffer_2000m_2015_to_2019-0000066816-0000148480.tif\u001b[39m\n",
            "\n",
            "File downloaded:\n",
            "\n",
            "• \u001b[36mOahu_Average_Land_Cover_Buffer_2000m_2015_to_2019-0000066816-0000222720.tif\u001b[39m\n",
            "  \u001b[90m<id: 1t2E_WmfgH_5hg2kkPQXdOgQ6-tl4bVjL>\u001b[39m\n",
            "\n",
            "Saved locally as:\n",
            "\n",
            "• \u001b[34m/content/predictor_variables/DynamicWorld_landcover/Oahu_Average_Land_Cover_Buffer_2000m_2015_to_2019-0000066816-0000222720.tif\u001b[39m\n",
            "\n",
            "File downloaded:\n",
            "\n",
            "• \u001b[36mOahu_Average_Land_Cover_Buffer_2000m_2015_to_2019-0000074240-0000014848.tif\u001b[39m\n",
            "  \u001b[90m<id: 1J30BISuQIUqEB41VSFr6U9Oqlkc4cq3C>\u001b[39m\n",
            "\n",
            "Saved locally as:\n",
            "\n",
            "• \u001b[34m/content/predictor_variables/DynamicWorld_landcover/Oahu_Average_Land_Cover_Buffer_2000m_2015_to_2019-0000074240-0000014848.tif\u001b[39m\n",
            "\n",
            "File downloaded:\n",
            "\n",
            "• \u001b[36mOahu_Average_Land_Cover_Buffer_2000m_2015_to_2019-0000074240-0000103936.tif\u001b[39m\n",
            "  \u001b[90m<id: 1LGf6EkEpIOpQCp3CZ_yPb9q48liEZzCU>\u001b[39m\n",
            "\n",
            "Saved locally as:\n",
            "\n",
            "• \u001b[34m/content/predictor_variables/DynamicWorld_landcover/Oahu_Average_Land_Cover_Buffer_2000m_2015_to_2019-0000074240-0000103936.tif\u001b[39m\n",
            "\n",
            "File downloaded:\n",
            "\n",
            "• \u001b[36mOahu_Average_Land_Cover_Buffer_2000m_2015_to_2019-0000074240-0000148480.tif\u001b[39m\n",
            "  \u001b[90m<id: 1pPrjAXTRquFK_PMJ_kQmxmbWE_zneZZG>\u001b[39m\n",
            "\n",
            "Saved locally as:\n",
            "\n",
            "• \u001b[34m/content/predictor_variables/DynamicWorld_landcover/Oahu_Average_Land_Cover_Buffer_2000m_2015_to_2019-0000074240-0000148480.tif\u001b[39m\n",
            "\n",
            "File downloaded:\n",
            "\n",
            "• \u001b[36mOahu_Average_Land_Cover_Buffer_2000m_2015_to_2019-0000074240-0000170752.tif\u001b[39m\n",
            "  \u001b[90m<id: 1yy1GiJY32sL9hICSV29fmVsbvq3V7Hnl>\u001b[39m\n",
            "\n",
            "Saved locally as:\n",
            "\n",
            "• \u001b[34m/content/predictor_variables/DynamicWorld_landcover/Oahu_Average_Land_Cover_Buffer_2000m_2015_to_2019-0000074240-0000170752.tif\u001b[39m\n",
            "\n",
            "File downloaded:\n",
            "\n",
            "• \u001b[36mOahu_Average_Land_Cover_Buffer_2000m_2015_to_2019-0000074240-0000230144.tif\u001b[39m\n",
            "  \u001b[90m<id: 19FuR7du29_3ardEMZpUvOAr0ogyeUdo->\u001b[39m\n",
            "\n",
            "Saved locally as:\n",
            "\n",
            "• \u001b[34m/content/predictor_variables/DynamicWorld_landcover/Oahu_Average_Land_Cover_Buffer_2000m_2015_to_2019-0000074240-0000230144.tif\u001b[39m\n",
            "\n",
            "File downloaded:\n",
            "\n",
            "• \u001b[36mOahu_Average_Land_Cover_Buffer_2000m_2015_to_2019-0000000000-0000000000.tif\u001b[39m\n",
            "  \u001b[90m<id: 1v3yZEeIeXIktGhfjcvcwBoujcMvtf4Qk>\u001b[39m\n",
            "\n",
            "Saved locally as:\n",
            "\n",
            "• \u001b[34m/content/predictor_variables/DynamicWorld_landcover/Oahu_Average_Land_Cover_Buffer_2000m_2015_to_2019-0000000000-0000000000.tif\u001b[39m\n",
            "\n",
            "File downloaded:\n",
            "\n",
            "• \u001b[36mOahu_Average_Land_Cover_Buffer_2000m_2015_to_2019-0000000000-0000074240.tif\u001b[39m\n",
            "  \u001b[90m<id: 1Tnsd4PZQSPdEbdX3VtH-_doNBWuyWMtl>\u001b[39m\n",
            "\n",
            "Saved locally as:\n",
            "\n",
            "• \u001b[34m/content/predictor_variables/DynamicWorld_landcover/Oahu_Average_Land_Cover_Buffer_2000m_2015_to_2019-0000000000-0000074240.tif\u001b[39m\n",
            "\n",
            "File downloaded:\n",
            "\n",
            "• \u001b[36mOahu_Average_Land_Cover_Buffer_2000m_2015_to_2019-0000000000-0000133632.tif\u001b[39m\n",
            "  \u001b[90m<id: 1WWIQ7mgFTapiCZhUHQd6r_V04NtRRc41>\u001b[39m\n",
            "\n",
            "Saved locally as:\n",
            "\n",
            "• \u001b[34m/content/predictor_variables/DynamicWorld_landcover/Oahu_Average_Land_Cover_Buffer_2000m_2015_to_2019-0000000000-0000133632.tif\u001b[39m\n",
            "\n",
            "File downloaded:\n",
            "\n",
            "• \u001b[36mOahu_Average_Land_Cover_Buffer_2000m_2015_to_2019-0000000000-0000207872.tif\u001b[39m\n",
            "  \u001b[90m<id: 1641W8p6RmMuOktucr392EbYxWYp7m0Jx>\u001b[39m\n",
            "\n",
            "Saved locally as:\n",
            "\n",
            "• \u001b[34m/content/predictor_variables/DynamicWorld_landcover/Oahu_Average_Land_Cover_Buffer_2000m_2015_to_2019-0000000000-0000207872.tif\u001b[39m\n",
            "\n",
            "File downloaded:\n",
            "\n",
            "• \u001b[36mOahu_Average_Land_Cover_Buffer_2000m_2015_to_2019-0000000000-0000230144.tif\u001b[39m\n",
            "  \u001b[90m<id: 1JYv9lOHuHkGLSTk-TgHC7bce9eNsTKfa>\u001b[39m\n",
            "\n",
            "Saved locally as:\n",
            "\n",
            "• \u001b[34m/content/predictor_variables/DynamicWorld_landcover/Oahu_Average_Land_Cover_Buffer_2000m_2015_to_2019-0000000000-0000230144.tif\u001b[39m\n",
            "\n",
            "File downloaded:\n",
            "\n",
            "• \u001b[36mOahu_Average_Land_Cover_Buffer_2000m_2015_to_2019-0000007424-0000014848.tif\u001b[39m\n",
            "  \u001b[90m<id: 1ji7TnVfn9l-JrTwhl0mV99IeHAVfDn45>\u001b[39m\n",
            "\n",
            "Saved locally as:\n",
            "\n",
            "• \u001b[34m/content/predictor_variables/DynamicWorld_landcover/Oahu_Average_Land_Cover_Buffer_2000m_2015_to_2019-0000007424-0000014848.tif\u001b[39m\n",
            "\n",
            "File downloaded:\n",
            "\n",
            "• \u001b[36mOahu_Average_Land_Cover_Buffer_2000m_2015_to_2019-0000007424-0000059392.tif\u001b[39m\n",
            "  \u001b[90m<id: 1o-EW3cNRmzUEeQkFh_44EOZ8B_4zkBxJ>\u001b[39m\n",
            "\n",
            "Saved locally as:\n",
            "\n",
            "• \u001b[34m/content/predictor_variables/DynamicWorld_landcover/Oahu_Average_Land_Cover_Buffer_2000m_2015_to_2019-0000007424-0000059392.tif\u001b[39m\n",
            "\n",
            "File downloaded:\n",
            "\n",
            "• \u001b[36mOahu_Average_Land_Cover_Buffer_2000m_2015_to_2019-0000007424-0000207872.tif\u001b[39m\n",
            "  \u001b[90m<id: 172Q5a9dQWLWCjFjDR7Dmt1FNxUhwFyb4>\u001b[39m\n",
            "\n",
            "Saved locally as:\n",
            "\n",
            "• \u001b[34m/content/predictor_variables/DynamicWorld_landcover/Oahu_Average_Land_Cover_Buffer_2000m_2015_to_2019-0000007424-0000207872.tif\u001b[39m\n",
            "\n"
          ]
        },
        {
          "output_type": "error",
          "ename": "ERROR",
          "evalue": "ignored",
          "traceback": [
            "\u001b[1m\u001b[33mError\u001b[39m in `map()`:\u001b[22m\n\u001b[1m\u001b[22m\u001b[36mℹ\u001b[39m In index: 1.\n\u001b[1mCaused by error in `curl::curl_fetch_memory()`:\u001b[22m\n\u001b[33m!\u001b[39m Operation was aborted by an application callback\nTraceback:\n",
            "1. drive_download(as_id(file_id), path = paste0(folder_loc, file_name), \n .     overwrite = TRUE)",
            "2. as_dribble(file)",
            "3. as_dribble.drive_id(file)",
            "4. drive_get(id = x)",
            "5. as_dribble(map(as_id(id), get_one_file_id))",
            "6. map(as_id(id), get_one_file_id)",
            "7. map_(\"list\", .x, .f, ..., .progress = .progress)",
            "8. with_indexed_errors(i = i, names = names, error_call = .purrr_error_call, \n .     call_with_cleanup(map_impl, environment(), .type, .progress, \n .         n, names, i))",
            "9. withCallingHandlers(expr, error = function(cnd) {\n .     if (i == 0L) {\n .     }\n .     else {\n .         message <- c(i = \"In index: {i}.\")\n .         if (!is.null(names) && !is.na(names[[i]]) && names[[i]] != \n .             \"\") {\n .             name <- names[[i]]\n .             message <- c(message, i = \"With name: {name}.\")\n .         }\n .         else {\n .             name <- NULL\n .         }\n .         cli::cli_abort(message, location = i, name = name, parent = cnd, \n .             call = error_call, class = \"purrr_error_indexed\")\n .     }\n . })",
            "10. call_with_cleanup(map_impl, environment(), .type, .progress, \n  .     n, names, i)",
            "11. .f(.x[[i]], ...)",
            "12. request_make(request)",
            "13. gargle::request_retry(x, ..., user_agent = drive_ua())",
            "14. request_make(...)",
            "15. method(url = x$url, body = x$body, x$token, encode = encode, \n  .     user_agent, ...)",
            "16. request_perform(req, hu$handle$handle)",
            "17. request_fetch(req$output, req$url, handle)",
            "18. request_fetch.write_memory(req$output, req$url, handle)",
            "19. curl::curl_fetch_memory(url, handle = handle)",
            "20. .handleSimpleError(function (cnd) \n  . {\n  .     if (i == 0L) {\n  .     }\n  .     else {\n  .         message <- c(i = \"In index: {i}.\")\n  .         if (!is.null(names) && !is.na(names[[i]]) && names[[i]] != \n  .             \"\") {\n  .             name <- names[[i]]\n  .             message <- c(message, i = \"With name: {name}.\")\n  .         }\n  .         else {\n  .             name <- NULL\n  .         }\n  .         cli::cli_abort(message, location = i, name = name, parent = cnd, \n  .             call = error_call, class = \"purrr_error_indexed\")\n  .     }\n  . }, \"Operation was aborted by an application callback\", base::quote(curl::curl_fetch_memory(url, \n  .     handle = handle)))",
            "21. h(simpleError(msg, call))",
            "22. cli::cli_abort(message, location = i, name = name, parent = cnd, \n  .     call = error_call, class = \"purrr_error_indexed\")",
            "23. rlang::abort(message, ..., call = call, use_cli_format = TRUE, \n  .     .frame = .frame)",
            "24. signal_abort(cnd, .file)"
          ]
        }
      ]
    },
    {
      "cell_type": "code",
      "source": [
        "  # https://drive.google.com/file/d/1ryTzWz0t9mgI5ynPvMzM21D135dLJvWv/view?usp=drive_link\n",
        "  # Updated: https://drive.google.com/file/d/17c3DJcujQ_0MHirG2z2lSU88A0lvjo1C/view?usp=sharing\n",
        "drive_download(as_id('17c3DJcujQ_0MHirG2z2lSU88A0lvjo1C'), path = paste0('/content/fia.csv'), overwrite = TRUE)\n",
        "fia_dt <-  st_read('/content/fia.csv') %>% st_as_sf(coords = c(\"LON\",\"LAT\"), crs = 4326) %>% data.table"
      ],
      "metadata": {
        "id": "pwfG7o91Q_Lc"
      },
      "execution_count": null,
      "outputs": []
    },
    {
      "cell_type": "code",
      "source": [
        "fia_dt[,Stock_SOC_Mg_Ha :=  Stock_SOC_Mg_Ha %>% as.numeric,]"
      ],
      "metadata": {
        "id": "gHLkwSzx4NlL"
      },
      "execution_count": null,
      "outputs": []
    },
    {
      "cell_type": "code",
      "source": [
        "(fia_dt %>% st_as_sf)[,'Stock_SOC_Mg_Ha' ] %>% plot"
      ],
      "metadata": {
        "id": "5A1YSYrq3UUF"
      },
      "execution_count": null,
      "outputs": []
    },
    {
      "cell_type": "code",
      "source": [
        "dir_list <- list.dirs('/content/predictor_variables')[-1]\n",
        "\n",
        "names(dir_list) <- list.dirs('/content/predictor_variables',full.names = FALSE)[-1]"
      ],
      "metadata": {
        "id": "YCW8yTCgak0f"
      },
      "execution_count": null,
      "outputs": []
    },
    {
      "cell_type": "code",
      "source": [
        "names(dir_list) %>% lapply(function(x){\n",
        "  print(x)\n",
        " y <- dir_list[[x]]\n",
        " vrt(y %>% lapply(function(x){\n",
        "  file_list <- list.files(y, pattern='*.tif',full.names = T)\n",
        "  file_sizes <- lapply(file_list,file.size) %>% unlist %>% order\n",
        "  file_list[file_sizes] %>% return\n",
        "  }) %>% unlist,filename=paste0(y,'/',x,'.vrt'),overwrite=T)\n",
        " print(paste('Done',x))\n",
        "})"
      ],
      "metadata": {
        "id": "sGil211aRI3v"
      },
      "execution_count": null,
      "outputs": []
    },
    {
      "cell_type": "code",
      "source": [
        " raster_list <- list.files('/content/predictor_variables',pattern = '*.vrt',full.names = T,recursive = T) %>% lapply(stack) %>% lapply(rast)\n",
        "\n",
        "raster_list\n",
        "  # # Use gdalbuildvrt to create VRT\n",
        "  # gdalbuildvrt(destfile = paste0(x,'/',x,'.vrt'),\n",
        "  #              files =   (x %>% lapply(function(x){list.files(x, pattern='*.tif',full.names = T)})),\n",
        "  #              separate = FALSE, # Change to TRUE if you want separate bands\n",
        "  #              overwrite = TRUE)\n",
        "\n",
        "\n"
      ],
      "metadata": {
        "id": "HMu5GpIwQpd4"
      },
      "execution_count": null,
      "outputs": []
    },
    {
      "cell_type": "code",
      "source": [
        "gedi_dt <- st_read('/content/predictor_variables/Hawaii_GEDI_4A.gpkg') %>% data.table()"
      ],
      "metadata": {
        "id": "Vjw92rp4dUX4"
      },
      "execution_count": null,
      "outputs": []
    },
    {
      "cell_type": "code",
      "source": [
        "grid_dt <- st_read('/content/predictor_variables/HI_island_250_m_grid.gpkg') %>% data.table()"
      ],
      "metadata": {
        "id": "ZMoeZ7mCApLr"
      },
      "execution_count": null,
      "outputs": []
    },
    {
      "cell_type": "code",
      "source": [
        "fia_dt[,c('Stock_SOC_Mg_Ha','geometry')]$Stock_SOC_Mg_Ha %>% qplot"
      ],
      "metadata": {
        "id": "D82BbGyLWlKo"
      },
      "execution_count": null,
      "outputs": []
    },
    {
      "cell_type": "code",
      "source": [
        "grid_int_dt <- fia_dt[,c('PLOT','Stock_SOC_Mg_Ha','geometry')] %>% st_as_sf() %>% st_transform(4135) %>% st_buffer(10000) %>% st_transform(4326) %>% st_intersects(grid_dt %>% st_as_sf %>% st_transform(4326))"
      ],
      "metadata": {
        "id": "smcDiXosAxD2"
      },
      "execution_count": null,
      "outputs": []
    },
    {
      "cell_type": "code",
      "source": [
        "1:nrow()"
      ],
      "metadata": {
        "id": "HOoSIUsTzD-S"
      },
      "execution_count": null,
      "outputs": []
    },
    {
      "cell_type": "code",
      "source": [
        "example_poly <- grid_dt[grid_int_dt %>% unlist %>% unique,] %>% st_as_sf %>% st_buffer(250)"
      ],
      "metadata": {
        "id": "d0sgPRoxzIUD"
      },
      "execution_count": null,
      "outputs": []
    },
    {
      "cell_type": "code",
      "source": [
        "# example_poly %>% st_area()"
      ],
      "metadata": {
        "id": "92M-EytU5oEN"
      },
      "execution_count": null,
      "outputs": []
    },
    {
      "cell_type": "code",
      "source": [
        "detectCores()"
      ],
      "metadata": {
        "id": "XxeL_C1yOWrc"
      },
      "execution_count": null,
      "outputs": []
    },
    {
      "cell_type": "code",
      "source": [
        "cl <- makeCluster(1)"
      ],
      "metadata": {
        "id": "b0_bsWf_Otef"
      },
      "execution_count": null,
      "outputs": []
    },
    {
      "cell_type": "code",
      "source": [
        "parallel::detectCores(all.tests = FALSE, logical = TRUE)"
      ],
      "metadata": {
        "id": "NcWo71oX6smr"
      },
      "execution_count": null,
      "outputs": []
    },
    {
      "cell_type": "code",
      "source": [
        "grid_int_unique <- grid_int_dt %>% unlist %>% unique"
      ],
      "metadata": {
        "id": "hFAxv2xyQrrN"
      },
      "execution_count": null,
      "outputs": []
    },
    {
      "cell_type": "code",
      "source": [
        " grid_dt[grid_int_dt %>% unlist %>% unique,] %>% st_as_sf %>% st_buffer(250)"
      ],
      "metadata": {
        "id": "tMq97v-jVDbn"
      },
      "execution_count": null,
      "outputs": []
    },
    {
      "cell_type": "code",
      "source": [
        "grid_dt[grid_int_unique] %>% st_as_sf %>% st_write('grid_dt.gpkg',delete_dsn = T)"
      ],
      "metadata": {
        "id": "Sq_ctH_8ROpp"
      },
      "execution_count": null,
      "outputs": []
    },
    {
      "cell_type": "code",
      "source": [
        "  example_poly <- grid_dt[grid_int_unique %>% unlist %>% unique,] %>% st_as_sf %>% st_transform(4135) %>% st_buffer(250) %>% st_transform(4326)"
      ],
      "metadata": {
        "id": "0rqZtzoTdbw-"
      },
      "execution_count": null,
      "outputs": []
    },
    {
      "cell_type": "code",
      "source": [
        "  # example_poly <- (fia_extended_dt %>%data.table)[,c('PLOT','Stock_SOC_Mg_Ha','dummy_geom')]\n",
        "\n",
        "  cover_dt <- data.table(exact_extract(raster_list[[1]],example_poly %>% st_as_sf,'mean',progress = TRUE) %>% data.table)\n",
        "  names(cover_dt) <- c(\"water\", \"trees\", \"grass\", \"flooded_vegetation\", \"crops\", \"shrub_and_scrub\", \"built\", \"bare\", \"snow_and_ice\",'max')\n",
        "\n",
        "  elevation_dt <- data.table(exact_extract(raster_list[[2]],example_poly %>% st_as_sf,'mean',progress = TRUE) %>% data.table)\n",
        "  names(elevation_dt) <- c(\"elevation\")\n",
        "\n",
        "  landform_dt <- data.table(exact_extract(raster_list[[3]],example_poly %>% st_as_sf,'mode',progress = TRUE) %>% data.table)\n",
        "  names(landform_dt) <- c(\"landform\")\n",
        "\n",
        "  ls_dt <- data.table(exact_extract(raster_list[[4]],example_poly %>% st_as_sf,'mean',progress = TRUE) %>% data.table)\n",
        "  names(ls_dt) <- c(\"ultra_blue\", \"blue\", \"green\", \"red\", \"infrared\", \"sw1\", \"sw2\")\n",
        "\n",
        "  tpi_dt <- data.table(exact_extract(raster_list[[5]],example_poly %>% st_as_sf,'mean',progress = TRUE) %>% data.table)\n",
        "  names(tpi_dt) <- c(\"SRTM_mTPI\")\n",
        "\n",
        "  climate_dt <- data.table(exact_extract(raster_list[[6]],example_poly %>% st_as_sf,'mean',progress = TRUE) %>% data.table)\n",
        "  names(climate_dt) <- c(\"aet\", \"def\", \"pdsi\", \"pet\", \"pr\", \"ro\", \"soil\", \"srad\", \"swe\", \"tmmn\", \"tmmx\", \"vap\", \"vpd\", \"vs\")\n"
      ],
      "metadata": {
        "id": "VmD1ybB9dVmg"
      },
      "execution_count": null,
      "outputs": []
    },
    {
      "cell_type": "code",
      "source": [
        "  rf_dt <- data.table(example_poly,cover_dt,elevation_dt,landform_dt,tpi_dt,climate_dt)\n"
      ],
      "metadata": {
        "id": "MgC2Oc19MhrP"
      },
      "execution_count": null,
      "outputs": []
    },
    {
      "cell_type": "code",
      "source": [
        "  rf_dt$geom <- grid_dt[grid_int_unique]$geom\n"
      ],
      "metadata": {
        "id": "28qD0Uc2MkbO"
      },
      "execution_count": null,
      "outputs": []
    },
    {
      "cell_type": "code",
      "source": [
        "rf_dt %>% st_as_sf %>% st_write('250_summary_grid_dt.gpkg')"
      ],
      "metadata": {
        "id": "t-X-i-czM3cj"
      },
      "execution_count": null,
      "outputs": []
    },
    {
      "cell_type": "code",
      "source": [
        "# https://drive.google.com/drive/folders/1uVZCzCb5gRE8wfZckspRuKz1TQd5LpeM?usp=drive_link\n",
        "drive_upload(\"/content/250_summary_grid_dt.gpkg\", path = as_id(\"1uVZCzCb5gRE8wfZckspRuKz1TQd5LpeM\"))"
      ],
      "metadata": {
        "id": "6i5eFIGc1vby"
      },
      "execution_count": null,
      "outputs": []
    },
    {
      "cell_type": "code",
      "source": [
        "# Assuming 'cl' is your cluster object and the variables you want to export are\n",
        "# fia_dt, grid_dt, grid_int_dt, and raster_list\n",
        "\n",
        "# List of variables to be exported to the cluster\n",
        "varlist <- c(\"fia_dt\", \"grid_dt\", \"grid_int_dt\", \"raster_list\")\n",
        "\n",
        "# Export the variables\n",
        "clusterExport(cl = cl, varlist = varlist)\n"
      ],
      "metadata": {
        "id": "TfaIO3HbNQXb"
      },
      "execution_count": null,
      "outputs": []
    },
    {
      "cell_type": "code",
      "source": [
        "clusterEvalQ(cl, {\n",
        "  library(sf)\n",
        "  library(magrittr)\n",
        "  library(data.table)\n",
        "  library(raster)\n",
        "  library(exactextractr)\n",
        "  library(terra)\n",
        "  library(randomForest)\n",
        "})\n"
      ],
      "metadata": {
        "id": "g7HvtzAbQ7-Z"
      },
      "execution_count": null,
      "outputs": []
    },
    {
      "cell_type": "code",
      "source": [
        "# This function will return a logical indicating if all variables are available on each node\n",
        "clusterEvalQ(cl, {\n",
        "  all(c(\"fia_dt\", \"grid_dt\", \"grid_int_dt\", \"raster_list\") %in% ls())\n",
        "})\n"
      ],
      "metadata": {
        "id": "cTR6kxIQRR7D"
      },
      "execution_count": null,
      "outputs": []
    },
    {
      "cell_type": "code",
      "source": [
        "# Check memory limit on workers\n",
        "clusterEvalQ(cl, memory.limit())\n"
      ],
      "metadata": {
        "id": "jEQWeR5uRT-D"
      },
      "execution_count": null,
      "outputs": []
    },
    {
      "cell_type": "code",
      "source": [
        "clusterEvalQ(cl, options(error = recover))"
      ],
      "metadata": {
        "id": "DZMgQTy_RWi8"
      },
      "execution_count": null,
      "outputs": []
    },
    {
      "cell_type": "code",
      "source": [
        "install.packages('doParallel')"
      ],
      "metadata": {
        "id": "0MJGHetNSVxA"
      },
      "execution_count": null,
      "outputs": []
    },
    {
      "cell_type": "code",
      "source": [
        "library(doParallel)\n",
        "library(foreach)\n",
        "\n",
        "# Set up the cluster\n",
        "cl <- makeCluster(detectCores() - 1) # reserve one core for system processes\n",
        "registerDoParallel(cl)\n",
        "\n",
        "# Export the variables and functions to the cluster\n",
        "clusterExport(cl, varlist=c(\"fia_dt\", \"grid_dt\", \"grid_int_dt\", \"raster_list\"))\n",
        "clusterEvalQ(cl, {\n",
        "  library(sf)\n",
        "  library(magrittr)\n",
        "  library(data.table)\n",
        "  library(raster)\n",
        "  library(exactextractr)\n",
        "  library(terra)\n",
        "  library(randomForest)\n",
        "})"
      ],
      "metadata": {
        "id": "ZDBDNo4NRsmX"
      },
      "execution_count": null,
      "outputs": []
    },
    {
      "cell_type": "code",
      "source": [
        "sim_dt <-\n",
        "1:10 %>% lapply(.,function(m,fia_dt,grid_dt,grid_int_dt,raster_list){\n",
        "\n",
        "  # library(ggplot2)\n",
        "  library(sf)\n",
        "  library(magrittr)\n",
        "  library(data.table)\n",
        "  library(raster)\n",
        "  library(exactextractr)\n",
        "  # library(googledrive)\n",
        "  # library(DBI)\n",
        "  library(terra)\n",
        "  library(randomForest)\n",
        "  # library(parallel)\n",
        "  extension <- 1\n",
        "  fia_extended_dt <- fia_dt\n",
        "\n",
        "  dummy_geom <- grid_dt[grid_int_dt %>% lapply(function(x){sample(x,extension)}) %>% unlist,] %>% st_as_sf() %>% st_transform(4135) %>% st_buffer(250) %>% st_transform(4326)\n",
        "  fia_extended_dt$dummy_geom <- dummy_geom$geom\n",
        "\n",
        "  example_poly <- (fia_extended_dt %>%data.table)[,c('PLOT','Stock_SOC_Mg_Ha','dummy_geom')]\n",
        "\n",
        "  cover_dt <- data.table(exact_extract(raster_list[[1]],example_poly %>% st_as_sf,'mean',progress = FALSE) %>% data.table)\n",
        "  names(cover_dt) <- c(\"water\", \"trees\", \"grass\", \"flooded_vegetation\", \"crops\", \"shrub_and_scrub\", \"built\", \"bare\", \"snow_and_ice\",'max')\n",
        "\n",
        "  elevation_dt <- data.table(exact_extract(raster_list[[2]],example_poly %>% st_as_sf,'mean',progress = FALSE) %>% data.table)\n",
        "  names(elevation_dt) <- c(\"elevation\")\n",
        "\n",
        "  landform_dt <- data.table(exact_extract(raster_list[[3]],example_poly %>% st_as_sf,'mode',progress = FALSE) %>% data.table)\n",
        "  names(landform_dt) <- c(\"landform\")\n",
        "\n",
        "  ls_dt <- data.table(exact_extract(raster_list[[4]],example_poly %>% st_as_sf,'mean',progress = FALSE) %>% data.table)\n",
        "  names(ls_dt) <- c(\"ultra_blue\", \"blue\", \"green\", \"red\", \"infrared\", \"sw1\", \"sw2\")\n",
        "\n",
        "  tpi_dt <- data.table(exact_extract(raster_list[[5]],example_poly %>% st_as_sf,'mean',progress = FALSE) %>% data.table)\n",
        "  names(tpi_dt) <- c(\"SRTM_mTPI\")\n",
        "\n",
        "  climate_dt <- data.table(exact_extract(raster_list[[6]],example_poly %>% st_as_sf,'mean',progress = FALSE) %>% data.table)\n",
        "  names(climate_dt) <- c(\"aet\", \"def\", \"pdsi\", \"pet\", \"pr\", \"ro\", \"soil\", \"srad\", \"swe\", \"tmmn\", \"tmmx\", \"vap\", \"vpd\", \"vs\")\n",
        "\n",
        "\n",
        "\n",
        "  rf_dt <- data.table(example_poly,cover_dt,elevation_dt,landform_dt,tpi_dt,climate_dt)\n",
        "\n",
        "  # rf_dt %>% head\n",
        "  x_var <- (rf_dt %>% names)[-c(1,2,3)]\n",
        "\n",
        "  rf_form <- as.formula(paste0('Stock_SOC_Mg_Ha~',paste(x_var,collapse = '+')))\n",
        "\n",
        "  # print(rf_form)\n",
        "\n",
        "  rf_dt <- rf_dt[complete.cases(rf_dt[,-3]),]\n",
        "\n",
        "  rf_terra <- randomForest(rf_form,rf_dt,verbose=T)\n",
        "\n",
        "  rf_imp_dt <- rf_terra$importance %>% t %>% data.table\n",
        "\n",
        "  names(rf_imp_dt) <-paste0('var_imp_',names(rf_imp_dt))\n",
        "  # [,c('PLOT','C_TOTAL_PCT','geom')]\n",
        "  out_dt <- data.table(rf_dt,data.table(predicted = rf_terra$predicted),rf_imp_dt[rep(1,nrow(rf_dt)),])\n",
        "\n",
        "  return(out_dt)\n",
        "  },fia_dt,grid_dt,grid_int_dt,raster_list) %>%\n",
        "  rbindlist"
      ],
      "metadata": {
        "id": "KB9q5pEwEkvI"
      },
      "execution_count": null,
      "outputs": []
    },
    {
      "cell_type": "code",
      "source": [
        "# Write to GeoPackage\n",
        "sim_dt %>% st_write(\"/content/sim_results_Full_Run3.gpkg\", append=FALSE)"
      ],
      "metadata": {
        "id": "VnxBhpa9WOK0"
      },
      "execution_count": null,
      "outputs": []
    },
    {
      "cell_type": "code",
      "source": [
        "# https://drive.google.com/drive/folders/1uVZCzCb5gRE8wfZckspRuKz1TQd5LpeM?usp=drive_link\n",
        "drive_upload(\"/content/sim_results_Full_Run1.gpkg\", path = as_id(\"1uVZCzCb5gRE8wfZckspRuKz1TQd5LpeM\"))"
      ],
      "metadata": {
        "id": "d4KevyDNXPgo"
      },
      "execution_count": null,
      "outputs": []
    },
    {
      "cell_type": "code",
      "source": [
        "# sim_dt"
      ],
      "metadata": {
        "id": "FB2Kru8Fcdpi"
      },
      "execution_count": null,
      "outputs": []
    },
    {
      "cell_type": "code",
      "source": [
        "sim_dt %>%\n",
        "  ggplot(aes(y=Stock_SOC_Mg_Ha,x=predicted))+\n",
        "    geom_point()"
      ],
      "metadata": {
        "id": "Kdno5JZ0Yev5"
      },
      "execution_count": null,
      "outputs": []
    },
    {
      "cell_type": "code",
      "source": [
        "# Load the necessary library\n",
        "library(repr)\n",
        "\n",
        "# Adjust width and height of plots\n",
        "options(repr.plot.width=20, repr.plot.height=8)"
      ],
      "metadata": {
        "id": "ysaNMETsScgE"
      },
      "execution_count": null,
      "outputs": []
    },
    {
      "cell_type": "code",
      "source": [],
      "metadata": {
        "id": "iH2t7bw98PcT"
      },
      "execution_count": null,
      "outputs": []
    },
    {
      "cell_type": "code",
      "source": [
        "# for(i in 1:10){\n",
        "\n",
        "sim_dt[,residual := predicted-Stock_SOC_Mg_Ha]\n",
        "\n",
        "sim_dt[,residual_per := residual/Stock_SOC_Mg_Ha]\n",
        "\n",
        "samp_dt <- sim_dt[residual_per>-.05 &residual_per <.05]\n",
        "plot <- sample(samp_dt$PLOT,1)\n",
        "# print(plot)\n",
        "(samp_dt[PLOT==plot] %>% melt(id.vars = c('PLOT','Stock_SOC_Mg_Ha','dummy_geom','water','trees','grass','flooded_vegetation','crops','shrub_and_scrub','built','bare','snow_and_ice','max','elevation','landform','SRTM_mTPI','aet','def','pdsi','pet','pr','ro','soil','srad','swe','tmmn','tmmx','vap','vpd','vs','predicted','residual','residual_per')) %>%\n",
        "  ggplot(aes(x=variable,y=value))+\n",
        "  geom_boxplot() )%>% plot\n",
        "# }"
      ],
      "metadata": {
        "id": "0dXkvQ6lQVri"
      },
      "execution_count": null,
      "outputs": []
    },
    {
      "cell_type": "code",
      "source": [],
      "metadata": {
        "id": "qsoXgH7N44kI"
      },
      "execution_count": null,
      "outputs": []
    },
    {
      "cell_type": "code",
      "source": [
        "dummy_geom <- grid_dt[grid_int_dt %>% lapply(function(x){sample(x,1)}) %>% unlist,] %>% st_as_sf() %>% st_transform(4135) %>% st_buffer(2500) %>% st_transform(4326)"
      ],
      "metadata": {
        "id": "z_7skpyBBRUc"
      },
      "execution_count": null,
      "outputs": []
    },
    {
      "cell_type": "code",
      "source": [
        "fia_dt$dummy_geom <- dummy_geom$geom"
      ],
      "metadata": {
        "id": "8r_yhCm4CDG5"
      },
      "execution_count": null,
      "outputs": []
    },
    {
      "cell_type": "code",
      "source": [
        "example_poly <- (fia_dt %>%data.table)[,c('C_TOTAL_PCT','dummy_geom')]"
      ],
      "metadata": {
        "id": "fu0NUTJNeSkq"
      },
      "execution_count": null,
      "outputs": []
    },
    {
      "cell_type": "code",
      "source": [
        "rf_dt <- data.table(example_poly,exact_extract(raster_list[[6]],example_poly %>% st_as_sf,'mean') %>% data.table)"
      ],
      "metadata": {
        "id": "9pSq2Qi2ep5b"
      },
      "execution_count": null,
      "outputs": []
    },
    {
      "cell_type": "code",
      "source": [
        "# rf_dt"
      ],
      "metadata": {
        "id": "_wE_GD_FCTqg"
      },
      "execution_count": null,
      "outputs": []
    },
    {
      "cell_type": "code",
      "source": [
        "names(rf_dt)[-c(1,2)] <- c(\"aet\", \"def\", \"pdsi\", \"pet\", \"pr\", \"ro\", \"soil\", \"srad\", \"swe\", \"tmmn\", \"tmmx\", \"vap\", \"vpd\", \"vs\")\n"
      ],
      "metadata": {
        "id": "bTUeAX4tZVed"
      },
      "execution_count": null,
      "outputs": []
    },
    {
      "cell_type": "code",
      "source": [
        "rf_form <- as.formula(paste0('Stock_SOC_Mg_Ha~',paste((rf_dt %>% names)[-c(1,2)],collapse = '+')))\n",
        "rf_form"
      ],
      "metadata": {
        "id": "ewIMuwbKVql9"
      },
      "execution_count": null,
      "outputs": []
    },
    {
      "cell_type": "code",
      "source": [
        "rf_terra <- randomForest(rf_form,rf_dt[complete.cases(rf_dt[,-2]),],verbose=T)\n",
        "rf_terra %>% varImpPlot\n",
        "rf_terra"
      ],
      "metadata": {
        "id": "i1ScnibaYIJR"
      },
      "execution_count": null,
      "outputs": []
    },
    {
      "cell_type": "code",
      "source": [
        "data.frame(field = rf_terra$y,predicted = rf_terra$predicted) %>%\n",
        "  ggplot(aes(x=predicted,y=field))+\n",
        "  geom_point()"
      ],
      "metadata": {
        "id": "LN28tBLwYYZv"
      },
      "execution_count": null,
      "outputs": []
    }
  ]
}