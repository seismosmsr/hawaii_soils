{
  "nbformat": 4,
  "nbformat_minor": 0,
  "metadata": {
    "colab": {
      "provenance": [],
      "machine_shape": "hm",
      "authorship_tag": "ABX9TyOwuy5PePsaGThGfRwMOnrC",
      "include_colab_link": true
    },
    "kernelspec": {
      "name": "ir",
      "display_name": "R"
    },
    "language_info": {
      "name": "R"
    }
  },
  "cells": [
    {
      "cell_type": "markdown",
      "metadata": {
        "id": "view-in-github",
        "colab_type": "text"
      },
      "source": [
        "<a href=\"https://colab.research.google.com/github/seismosmsr/hawaii_soils/blob/main/Hawaii_Soils_Simulation.ipynb\" target=\"_parent\"><img src=\"https://colab.research.google.com/assets/colab-badge.svg\" alt=\"Open In Colab\"/></a>"
      ]
    },
    {
      "cell_type": "code",
      "execution_count": 2,
      "metadata": {
        "colab": {
          "base_uri": "https://localhost:8080/"
        },
        "id": "w3b2Yt1zzBa4",
        "outputId": "a9d9f759-c6b9-401b-bace-d79ff5b679d4"
      },
      "outputs": [
        {
          "output_type": "stream",
          "name": "stderr",
          "text": [
            "Installing package into ‘/usr/local/lib/R/site-library’\n",
            "(as ‘lib’ is unspecified)\n",
            "\n",
            "also installing the dependencies ‘proxy’, ‘e1071’, ‘wk’, ‘classInt’, ‘Rcpp’, ‘s2’, ‘units’\n",
            "\n",
            "\n",
            "Installing package into ‘/usr/local/lib/R/site-library’\n",
            "(as ‘lib’ is unspecified)\n",
            "\n",
            "also installing the dependencies ‘sp’, ‘terra’\n",
            "\n",
            "\n",
            "Installing package into ‘/usr/local/lib/R/site-library’\n",
            "(as ‘lib’ is unspecified)\n",
            "\n",
            "Installing package into ‘/usr/local/lib/R/site-library’\n",
            "(as ‘lib’ is unspecified)\n",
            "\n",
            "Installing package into ‘/usr/local/lib/R/site-library’\n",
            "(as ‘lib’ is unspecified)\n",
            "\n",
            "Warning message:\n",
            "“package ‘googletoken’ is not available for this version of R\n",
            "\n",
            "A version of this package for your version of R might be available elsewhere,\n",
            "see the ideas at\n",
            "https://cran.r-project.org/doc/manuals/r-patched/R-admin.html#Installing-packages”\n",
            "Installing package into ‘/usr/local/lib/R/site-library’\n",
            "(as ‘lib’ is unspecified)\n",
            "\n",
            "Installing package into ‘/usr/local/lib/R/site-library’\n",
            "(as ‘lib’ is unspecified)\n",
            "\n",
            "also installing the dependency ‘plogr’\n",
            "\n",
            "\n",
            "Installing package into ‘/usr/local/lib/R/site-library’\n",
            "(as ‘lib’ is unspecified)\n",
            "\n",
            "Installing package into ‘/usr/local/lib/R/site-library’\n",
            "(as ‘lib’ is unspecified)\n",
            "\n",
            "Installing package into ‘/usr/local/lib/R/site-library’\n",
            "(as ‘lib’ is unspecified)\n",
            "\n"
          ]
        }
      ],
      "source": [
        "install.packages('sf')\n",
        "install.packages('raster')\n",
        "install.packages('exactextractr')\n",
        "install.packages(\"googledrive\")\n",
        "install.packages(\"googletoken\")\n",
        "install.packages(\"DBI\")\n",
        "install.packages(\"RSQLite\")\n",
        "install.packages(\"RPostgreSQL\")\n",
        "install.packages(\"terra\")\n",
        "install.packages('randomForest')"
      ]
    },
    {
      "cell_type": "code",
      "source": [
        "library(ggplot2)\n",
        "library(sf)\n",
        "library(magrittr)\n",
        "library(data.table)\n",
        "library(raster)\n",
        "library(exactextractr)\n",
        "library(googledrive)\n",
        "library(DBI)\n",
        "library(terra)\n",
        "library(randomForest)\n",
        "library(parallel)"
      ],
      "metadata": {
        "id": "Jt8zFz1p0QRy",
        "colab": {
          "base_uri": "https://localhost:8080/"
        },
        "outputId": "65f179d0-d7c4-4291-9170-8fb0d2817881"
      },
      "execution_count": 3,
      "outputs": [
        {
          "output_type": "stream",
          "name": "stderr",
          "text": [
            "Linking to GEOS 3.10.2, GDAL 3.4.3, PROJ 8.2.1; sf_use_s2() is TRUE\n",
            "\n",
            "Loading required package: sp\n",
            "\n",
            "terra 1.7.55\n",
            "\n",
            "\n",
            "Attaching package: ‘terra’\n",
            "\n",
            "\n",
            "The following object is masked from ‘package:data.table’:\n",
            "\n",
            "    shift\n",
            "\n",
            "\n",
            "The following objects are masked from ‘package:magrittr’:\n",
            "\n",
            "    extract, inset\n",
            "\n",
            "\n",
            "randomForest 4.7-1.1\n",
            "\n",
            "Type rfNews() to see new features/changes/bug fixes.\n",
            "\n",
            "\n",
            "Attaching package: ‘randomForest’\n",
            "\n",
            "\n",
            "The following object is masked from ‘package:ggplot2’:\n",
            "\n",
            "    margin\n",
            "\n",
            "\n"
          ]
        }
      ]
    },
    {
      "cell_type": "code",
      "source": [
        "drive_auth(use_oob = TRUE, cache = FALSE)"
      ],
      "metadata": {
        "colab": {
          "base_uri": "https://localhost:8080/"
        },
        "id": "TIp-5Lr90ULs",
        "outputId": "489143d6-4a83-4c1e-ebaf-be00ad72f6e7"
      },
      "execution_count": 4,
      "outputs": [
        {
          "output_type": "stream",
          "name": "stderr",
          "text": [
            "Please point your browser to the following url: \n",
            "\n",
            "https://accounts.google.com/o/oauth2/v2/auth?client_id=603366585132-frjlouoa3s2ono25d2l9ukvhlsrlnr7k.apps.googleusercontent.com&scope=https%3A%2F%2Fwww.googleapis.com%2Fauth%2Fdrive%20https%3A%2F%2Fwww.googleapis.com%2Fauth%2Fuserinfo.email&redirect_uri=https%3A%2F%2Fwww.tidyverse.org%2Fgoogle-callback%2F&response_type=code&state=2983673fe9ce997b29422d804fbb7dd5&access_type=offline&prompt=consent\n",
            "\n"
          ]
        },
        {
          "name": "stdout",
          "output_type": "stream",
          "text": [
            "Enter authorization code: eyJjb2RlIjoiNC8wQWZKb2hYbXBFZDFLZm9PTEZnVWE4cWNhb1NSaVpNdmR3TWZUSWp1cWhoQ3JfQVhCZmZsUnBIazg4ZzFnQTMxYV9LME9mQSIsInN0YXRlIjoiMjk4MzY3M2ZlOWNlOTk3YjI5NDIyZDgwNGZiYjdkZDUifQ==\n"
          ]
        }
      ]
    },
    {
      "cell_type": "code",
      "source": [
        "# https://drive.google.com/file/d/1ryTzWz0t9mgI5ynPvMzM21D135dLJvWv/view?usp=drive_link\n",
        "# Updated: https://drive.google.com/file/d/17c3DJcujQ_0MHirG2z2lSU88A0lvjo1C/view?usp=sharing\n",
        "drive_download(as_id('17c3DJcujQ_0MHirG2z2lSU88A0lvjo1C'), path = paste0('/content/fia.csv'), overwrite = TRUE)\n",
        "fia_dt <-  st_read('/content/fia.csv') %>% st_as_sf(coords = c(\"LON\",\"LAT\"), crs = 4326) %>% data.table\n",
        "fia_dt$county_name <- fia_dt$County.Name"
      ],
      "metadata": {
        "colab": {
          "base_uri": "https://localhost:8080/"
        },
        "id": "GIyOF5ltSRpq",
        "outputId": "126b43ec-e8dd-4386-b968-40d76350c8a5"
      },
      "execution_count": 24,
      "outputs": [
        {
          "output_type": "stream",
          "name": "stderr",
          "text": [
            "File downloaded:\n",
            "\n",
            "• \u001b[36m2023_11_01FIA_soil_subset.csv\u001b[39m \u001b[90m<id: 17c3DJcujQ_0MHirG2z2lSU88A0lvjo1C>\u001b[39m\n",
            "\n",
            "Saved locally as:\n",
            "\n",
            "• \u001b[34m/content/fia.csv\u001b[39m\n",
            "\n"
          ]
        },
        {
          "output_type": "stream",
          "name": "stdout",
          "text": [
            "Reading layer `fia' from data source `/content/fia.csv' using driver `CSV'\n"
          ]
        },
        {
          "output_type": "stream",
          "name": "stderr",
          "text": [
            "Warning message:\n",
            "“no simple feature geometries present: returning a data.frame or tbl_df”\n"
          ]
        }
      ]
    },
    {
      "cell_type": "code",
      "source": [
        "# https://drive.google.com/file/d/1j4B8qx1S0nHLSYrnRVRckwFTX9f2z1nb/view?usp=drive_link\n",
        "drive_download(as_id('1j4B8qx1S0nHLSYrnRVRckwFTX9f2z1nb'), path = \"/content/250_summary_grid_dt.gpkg\", overwrite = TRUE)\n",
        "grid_dt <- st_read(\"/content/250_summary_grid_dt.gpkg\") %>% st_transform(4326) %>% data.table()"
      ],
      "metadata": {
        "colab": {
          "base_uri": "https://localhost:8080/"
        },
        "id": "6i5eFIGc1vby",
        "outputId": "3af7ed2b-220b-4840-eeed-fb52d7fcc186"
      },
      "execution_count": 41,
      "outputs": [
        {
          "output_type": "stream",
          "name": "stderr",
          "text": [
            "File downloaded:\n",
            "\n",
            "• \u001b[36m250_summary_grid_dt.gpkg\u001b[39m \u001b[90m<id: 1j4B8qx1S0nHLSYrnRVRckwFTX9f2z1nb>\u001b[39m\n",
            "\n",
            "Saved locally as:\n",
            "\n",
            "• \u001b[34m/content/250_summary_grid_dt.gpkg\u001b[39m\n",
            "\n"
          ]
        },
        {
          "output_type": "stream",
          "name": "stdout",
          "text": [
            "Reading layer `250_summary_grid_dt' from data source \n",
            "  `/content/250_summary_grid_dt.gpkg' using driver `GPKG'\n",
            "Simple feature collection with 227561 features and 38 fields\n",
            "Geometry type: POINT\n",
            "Dimension:     XY\n",
            "Bounding box:  xmin: 57161.36 ymin: 16952.32 xmax: 572661.4 ymax: 381202.3\n",
            "Projected CRS: NAD_1983_HARN_StatePlane_Hawaii_1_FIPS_5101\n"
          ]
        }
      ]
    },
    {
      "cell_type": "code",
      "source": [
        "grid_dt <- grid_dt[trees > 0.5 & !is.na(agbd_m) &!is.na(agbd_sd)& !is.na(aet)]"
      ],
      "metadata": {
        "id": "CbUGrfuuUaiY"
      },
      "execution_count": 42,
      "outputs": []
    },
    {
      "cell_type": "code",
      "source": [
        "grid_dt$agbd_n <- grid_dt$agbd_n %>% as.numeric\n",
        "grid_dt$agbd_sd <- grid_dt$agbd_sd %>% as.numeric\n",
        "grid_dt$agbd_m <- grid_dt$agbd_m %>% as.numeric"
      ],
      "metadata": {
        "id": "XsFPDjw_BHKX"
      },
      "execution_count": 43,
      "outputs": []
    },
    {
      "cell_type": "code",
      "source": [
        "fia_dt$Stock_SOC_Mg_Ha <- fia_dt$Stock_SOC_Mg_Ha %>% as.numeric"
      ],
      "metadata": {
        "id": "Au3xpFsoA2Qz",
        "colab": {
          "base_uri": "https://localhost:8080/"
        },
        "outputId": "575f88c6-8cb4-41e2-aba5-03dd85cbf420"
      },
      "execution_count": 44,
      "outputs": [
        {
          "output_type": "stream",
          "name": "stderr",
          "text": [
            "Warning message in fia_dt$Stock_SOC_Mg_Ha %>% as.numeric:\n",
            "“NAs introduced by coercion”\n"
          ]
        }
      ]
    },
    {
      "cell_type": "code",
      "source": [
        "grid_int_dt  <- fia_dt$geom %>% st_transform(4135) %>% st_buffer(10000) %>% st_transform(4326) %>% st_intersects(grid_dt$geom)"
      ],
      "metadata": {
        "id": "0A-fL1krTbA_"
      },
      "execution_count": 59,
      "outputs": []
    },
    {
      "cell_type": "code",
      "source": [
        "rm_vec <- (grid_int_dt %>% lapply(length) %>% unlist) > 0\n",
        "grid_int_dt <- grid_int_dt[rm_vec]\n",
        "fia_dt <- fia_dt[rm_vec,]"
      ],
      "metadata": {
        "id": "isEeYbV1UDV9"
      },
      "execution_count": 60,
      "outputs": []
    },
    {
      "cell_type": "code",
      "source": [
        "names(grid_dt)"
      ],
      "metadata": {
        "colab": {
          "base_uri": "https://localhost:8080/",
          "height": 86
        },
        "id": "CRAbHxSKpf8p",
        "outputId": "24fda963-e62e-452a-ba87-e2ebd4384c85"
      },
      "execution_count": 61,
      "outputs": [
        {
          "output_type": "display_data",
          "data": {
            "text/html": [
              "<style>\n",
              ".list-inline {list-style: none; margin:0; padding: 0}\n",
              ".list-inline>li {display: inline-block}\n",
              ".list-inline>li:not(:last-child)::after {content: \"\\00b7\"; padding: 0 .5ex}\n",
              "</style>\n",
              "<ol class=list-inline><li>'id'</li><li>'left'</li><li>'top'</li><li>'right'</li><li>'bottom'</li><li>'water'</li><li>'trees'</li><li>'grass'</li><li>'flooded_vegetation'</li><li>'crops'</li><li>'shrub_and_scrub'</li><li>'built'</li><li>'bare'</li><li>'snow_and_ice'</li><li>'elevation'</li><li>'landform'</li><li>'SRTM_mTPI'</li><li>'aet'</li><li>'def'</li><li>'pdsi'</li><li>'pet'</li><li>'pr'</li><li>'ro'</li><li>'soil'</li><li>'srad'</li><li>'swe'</li><li>'tmmn'</li><li>'tmmx'</li><li>'vap'</li><li>'vpd'</li><li>'vs'</li><li>'agbd_m'</li><li>'agbd_sd'</li><li>'agbd_n'</li><li>'majorcomposition'</li><li>'age_years'</li><li>'age_class'</li><li>'geom'</li></ol>\n"
            ],
            "text/markdown": "1. 'id'\n2. 'left'\n3. 'top'\n4. 'right'\n5. 'bottom'\n6. 'water'\n7. 'trees'\n8. 'grass'\n9. 'flooded_vegetation'\n10. 'crops'\n11. 'shrub_and_scrub'\n12. 'built'\n13. 'bare'\n14. 'snow_and_ice'\n15. 'elevation'\n16. 'landform'\n17. 'SRTM_mTPI'\n18. 'aet'\n19. 'def'\n20. 'pdsi'\n21. 'pet'\n22. 'pr'\n23. 'ro'\n24. 'soil'\n25. 'srad'\n26. 'swe'\n27. 'tmmn'\n28. 'tmmx'\n29. 'vap'\n30. 'vpd'\n31. 'vs'\n32. 'agbd_m'\n33. 'agbd_sd'\n34. 'agbd_n'\n35. 'majorcomposition'\n36. 'age_years'\n37. 'age_class'\n38. 'geom'\n\n\n",
            "text/latex": "\\begin{enumerate*}\n\\item 'id'\n\\item 'left'\n\\item 'top'\n\\item 'right'\n\\item 'bottom'\n\\item 'water'\n\\item 'trees'\n\\item 'grass'\n\\item 'flooded\\_vegetation'\n\\item 'crops'\n\\item 'shrub\\_and\\_scrub'\n\\item 'built'\n\\item 'bare'\n\\item 'snow\\_and\\_ice'\n\\item 'elevation'\n\\item 'landform'\n\\item 'SRTM\\_mTPI'\n\\item 'aet'\n\\item 'def'\n\\item 'pdsi'\n\\item 'pet'\n\\item 'pr'\n\\item 'ro'\n\\item 'soil'\n\\item 'srad'\n\\item 'swe'\n\\item 'tmmn'\n\\item 'tmmx'\n\\item 'vap'\n\\item 'vpd'\n\\item 'vs'\n\\item 'agbd\\_m'\n\\item 'agbd\\_sd'\n\\item 'agbd\\_n'\n\\item 'majorcomposition'\n\\item 'age\\_years'\n\\item 'age\\_class'\n\\item 'geom'\n\\end{enumerate*}\n",
            "text/plain": [
              " [1] \"id\"                 \"left\"               \"top\"               \n",
              " [4] \"right\"              \"bottom\"             \"water\"             \n",
              " [7] \"trees\"              \"grass\"              \"flooded_vegetation\"\n",
              "[10] \"crops\"              \"shrub_and_scrub\"    \"built\"             \n",
              "[13] \"bare\"               \"snow_and_ice\"       \"elevation\"         \n",
              "[16] \"landform\"           \"SRTM_mTPI\"          \"aet\"               \n",
              "[19] \"def\"                \"pdsi\"               \"pet\"               \n",
              "[22] \"pr\"                 \"ro\"                 \"soil\"              \n",
              "[25] \"srad\"               \"swe\"                \"tmmn\"              \n",
              "[28] \"tmmx\"               \"vap\"                \"vpd\"               \n",
              "[31] \"vs\"                 \"agbd_m\"             \"agbd_sd\"           \n",
              "[34] \"agbd_n\"             \"majorcomposition\"   \"age_years\"         \n",
              "[37] \"age_class\"          \"geom\"              "
            ]
          },
          "metadata": {}
        }
      ]
    },
    {
      "cell_type": "code",
      "source": [
        "grid_dt$age_years[grid_dt$age_years %>% is.na ] <- -2\n",
        "grid_dt$age_class[grid_dt$age_class %>% is.na ] <- 'Unknown'"
      ],
      "metadata": {
        "id": "ml4yD0bBpYAb"
      },
      "execution_count": 62,
      "outputs": []
    },
    {
      "cell_type": "code",
      "source": [
        "grid_dt %>% names"
      ],
      "metadata": {
        "colab": {
          "base_uri": "https://localhost:8080/",
          "height": 86
        },
        "id": "_eg6d9Z_rD5T",
        "outputId": "3f4d62b3-5739-41d1-8a8a-6323b1c6a6e0"
      },
      "execution_count": 48,
      "outputs": [
        {
          "output_type": "display_data",
          "data": {
            "text/html": [
              "<style>\n",
              ".list-inline {list-style: none; margin:0; padding: 0}\n",
              ".list-inline>li {display: inline-block}\n",
              ".list-inline>li:not(:last-child)::after {content: \"\\00b7\"; padding: 0 .5ex}\n",
              "</style>\n",
              "<ol class=list-inline><li>'id'</li><li>'left'</li><li>'top'</li><li>'right'</li><li>'bottom'</li><li>'water'</li><li>'trees'</li><li>'grass'</li><li>'flooded_vegetation'</li><li>'crops'</li><li>'shrub_and_scrub'</li><li>'built'</li><li>'bare'</li><li>'snow_and_ice'</li><li>'max'</li><li>'elevation'</li><li>'landform'</li><li>'SRTM_mTPI'</li><li>'aet'</li><li>'def'</li><li>'pdsi'</li><li>'pet'</li><li>'pr'</li><li>'ro'</li><li>'soil'</li><li>'srad'</li><li>'swe'</li><li>'tmmn'</li><li>'tmmx'</li><li>'vap'</li><li>'vpd'</li><li>'vs'</li><li>'agbd_m'</li><li>'agbd_sd'</li><li>'agbd_n'</li><li>'majorcomposition'</li><li>'age_years'</li><li>'age_class'</li><li>'geom'</li></ol>\n"
            ],
            "text/markdown": "1. 'id'\n2. 'left'\n3. 'top'\n4. 'right'\n5. 'bottom'\n6. 'water'\n7. 'trees'\n8. 'grass'\n9. 'flooded_vegetation'\n10. 'crops'\n11. 'shrub_and_scrub'\n12. 'built'\n13. 'bare'\n14. 'snow_and_ice'\n15. 'max'\n16. 'elevation'\n17. 'landform'\n18. 'SRTM_mTPI'\n19. 'aet'\n20. 'def'\n21. 'pdsi'\n22. 'pet'\n23. 'pr'\n24. 'ro'\n25. 'soil'\n26. 'srad'\n27. 'swe'\n28. 'tmmn'\n29. 'tmmx'\n30. 'vap'\n31. 'vpd'\n32. 'vs'\n33. 'agbd_m'\n34. 'agbd_sd'\n35. 'agbd_n'\n36. 'majorcomposition'\n37. 'age_years'\n38. 'age_class'\n39. 'geom'\n\n\n",
            "text/latex": "\\begin{enumerate*}\n\\item 'id'\n\\item 'left'\n\\item 'top'\n\\item 'right'\n\\item 'bottom'\n\\item 'water'\n\\item 'trees'\n\\item 'grass'\n\\item 'flooded\\_vegetation'\n\\item 'crops'\n\\item 'shrub\\_and\\_scrub'\n\\item 'built'\n\\item 'bare'\n\\item 'snow\\_and\\_ice'\n\\item 'max'\n\\item 'elevation'\n\\item 'landform'\n\\item 'SRTM\\_mTPI'\n\\item 'aet'\n\\item 'def'\n\\item 'pdsi'\n\\item 'pet'\n\\item 'pr'\n\\item 'ro'\n\\item 'soil'\n\\item 'srad'\n\\item 'swe'\n\\item 'tmmn'\n\\item 'tmmx'\n\\item 'vap'\n\\item 'vpd'\n\\item 'vs'\n\\item 'agbd\\_m'\n\\item 'agbd\\_sd'\n\\item 'agbd\\_n'\n\\item 'majorcomposition'\n\\item 'age\\_years'\n\\item 'age\\_class'\n\\item 'geom'\n\\end{enumerate*}\n",
            "text/plain": [
              " [1] \"id\"                 \"left\"               \"top\"               \n",
              " [4] \"right\"              \"bottom\"             \"water\"             \n",
              " [7] \"trees\"              \"grass\"              \"flooded_vegetation\"\n",
              "[10] \"crops\"              \"shrub_and_scrub\"    \"built\"             \n",
              "[13] \"bare\"               \"snow_and_ice\"       \"max\"               \n",
              "[16] \"elevation\"          \"landform\"           \"SRTM_mTPI\"         \n",
              "[19] \"aet\"                \"def\"                \"pdsi\"              \n",
              "[22] \"pet\"                \"pr\"                 \"ro\"                \n",
              "[25] \"soil\"               \"srad\"               \"swe\"               \n",
              "[28] \"tmmn\"               \"tmmx\"               \"vap\"               \n",
              "[31] \"vpd\"                \"vs\"                 \"agbd_m\"            \n",
              "[34] \"agbd_sd\"            \"agbd_n\"             \"majorcomposition\"  \n",
              "[37] \"age_years\"          \"age_class\"          \"geom\"              "
            ]
          },
          "metadata": {}
        }
      ]
    },
    {
      "cell_type": "code",
      "source": [
        "grid_dt$age_class %>%  is.na %>% table"
      ],
      "metadata": {
        "colab": {
          "base_uri": "https://localhost:8080/",
          "height": 70
        },
        "id": "lNrjXm9aqXFc",
        "outputId": "4b177aa2-0ab5-49ae-8313-05448b8d47f9"
      },
      "execution_count": 63,
      "outputs": [
        {
          "output_type": "display_data",
          "data": {
            "text/plain": [
              ".\n",
              "FALSE \n",
              "77394 "
            ]
          },
          "metadata": {}
        }
      ]
    },
    {
      "cell_type": "code",
      "source": [
        "grid_dt$max <- NULL\n",
        "grid_dt$landform <-  grid_dt$landform %>% factor\n",
        "grid_dt$majorcomposition <- grid_dt$majorcomposition %>% factor\n",
        "grid_dt$age_class <- grid_dt$age_class %>% factor"
      ],
      "metadata": {
        "colab": {
          "base_uri": "https://localhost:8080/"
        },
        "id": "HdDH-VDqqPCg",
        "outputId": "8be4b985-7525-4d09-ddef-2a692c3b66bc"
      },
      "execution_count": 64,
      "outputs": [
        {
          "output_type": "stream",
          "name": "stderr",
          "text": [
            "Warning message in set(x, j = name, value = value):\n",
            "“Column 'max' does not exist to remove”\n"
          ]
        }
      ]
    },
    {
      "cell_type": "code",
      "source": [
        "for( i in 2:11){\n",
        "cl <-makeCluster(8)\n",
        "sim_dt <-\n",
        "1:50000 %>% parLapply(cl,.,function(m,fia_dt,grid_dt,grid_int_dt){\n",
        "  library(sf)\n",
        "  library(magrittr)\n",
        "  library(data.table)\n",
        "  library(raster)\n",
        "  library(exactextractr)\n",
        "  library(terra)\n",
        "  library(randomForest)\n",
        "\n",
        "\n",
        "  rf_dt <- data.table(fia_dt[,c('PLOT','Stock_SOC_Mg_Ha','county_name')], grid_dt[grid_int_dt  %>%   lapply(function(x){ x[sample(1:length(x),1,replace=T)] %>% unlist}) %>% unlist,])\n",
        "\n",
        "  x_var <- (rf_dt %>% names)[-c(1,2,3,4,5,6,7,8,ncol(rf_dt))]\n",
        "  # print(x_var)\n",
        "  rf_form <- as.formula(paste0('Stock_SOC_Mg_Ha~',paste(x_var,collapse = '+')))\n",
        "\n",
        "  # rf_dt <-  rf_dt[complete.cases(rf_dt[,-c(ncol(rf_dt)),with=F]),]\n",
        "  rf_dt <-  rf_dt[!is.na(Stock_SOC_Mg_Ha),]\n",
        "\n",
        "  # print(nrows(rf_dt))\n",
        "  rf_terra <- randomForest(rf_form,rf_dt,verbose=T)\n",
        "\n",
        "  rf_imp_dt <- rf_terra$importance %>% t %>% data.table\n",
        "\n",
        "  names(rf_imp_dt) <-paste0('var_imp_',names(rf_imp_dt))\n",
        "\n",
        "  out_dt <- data.table(rf_dt,data.table(predicted = rf_terra$predicted),rf_imp_dt[rep(1,nrow(rf_dt)),])\n",
        "  out_dt$r2 <- rf_terra$rsq[500]\n",
        "  return(out_dt[county_name %in% 'Hawaii'])\n",
        "  },fia_dt,grid_dt,grid_int_dt) %>%\n",
        "  rbindlist\n",
        "stopCluster(cl)\n",
        "\n",
        "sim_dt %>% st_write(paste0(\"/content/sim_results_Hawaii_10000m_Run\",i,\".gpkg\"), append=FALSE)\n",
        "\n",
        "drive_upload(paste0(\"/content/sim_results_Hawaii_10000m_Run\",i,\".gpkg\"), path = as_id(\"1uVZCzCb5gRE8wfZckspRuKz1TQd5LpeM\"))\n",
        "}"
      ],
      "metadata": {
        "id": "KB9q5pEwEkvI",
        "colab": {
          "base_uri": "https://localhost:8080/"
        },
        "outputId": "b78c2e79-457d-4500-f04e-aa59cf79cbb3"
      },
      "execution_count": 69,
      "outputs": [
        {
          "output_type": "stream",
          "name": "stdout",
          "text": [
            "Writing layer `sim_results_Hawaii_10000m_Run2' to data source \n",
            "  `/content/sim_results_Hawaii_10000m_Run2.gpkg' using driver `GPKG'\n",
            "Writing 5600000 features with 74 fields and geometry type Point.\n"
          ]
        },
        {
          "output_type": "stream",
          "name": "stderr",
          "text": [
            "Auto-refreshing stale OAuth token.\n",
            "\n",
            "Local file:\n",
            "\n",
            "• \u001b[34m/content/sim_results_Hawaii_10000m_Run2.gpkg\u001b[39m\n",
            "\n",
            "Uploaded into Drive file:\n",
            "\n",
            "• \u001b[36msim_results_Hawaii_10000m_Run2.gpkg\u001b[39m \u001b[90m<id: 15tK1_k9FEGda5aL0P9SyRID-Xk0p_YuF>\u001b[39m\n",
            "\n",
            "With MIME type:\n",
            "\n",
            "• \u001b[32mapplication/geopackage+sqlite3\u001b[39m\n",
            "\n"
          ]
        },
        {
          "output_type": "stream",
          "name": "stdout",
          "text": [
            "Writing layer `sim_results_Hawaii_10000m_Run3' to data source \n",
            "  `/content/sim_results_Hawaii_10000m_Run3.gpkg' using driver `GPKG'\n",
            "Writing 5600000 features with 74 fields and geometry type Point.\n"
          ]
        },
        {
          "output_type": "stream",
          "name": "stderr",
          "text": [
            "Auto-refreshing stale OAuth token.\n",
            "\n",
            "Local file:\n",
            "\n",
            "• \u001b[34m/content/sim_results_Hawaii_10000m_Run3.gpkg\u001b[39m\n",
            "\n",
            "Uploaded into Drive file:\n",
            "\n",
            "• \u001b[36msim_results_Hawaii_10000m_Run3.gpkg\u001b[39m \u001b[90m<id: 1RrfNnsmy5ec0inSq35m_uEF3eskgcDDB>\u001b[39m\n",
            "\n",
            "With MIME type:\n",
            "\n",
            "• \u001b[32mapplication/geopackage+sqlite3\u001b[39m\n",
            "\n"
          ]
        },
        {
          "output_type": "stream",
          "name": "stdout",
          "text": [
            "Writing layer `sim_results_Hawaii_10000m_Run4' to data source \n",
            "  `/content/sim_results_Hawaii_10000m_Run4.gpkg' using driver `GPKG'\n",
            "Writing 5600000 features with 74 fields and geometry type Point.\n"
          ]
        },
        {
          "output_type": "stream",
          "name": "stderr",
          "text": [
            "Auto-refreshing stale OAuth token.\n",
            "\n",
            "Local file:\n",
            "\n",
            "• \u001b[34m/content/sim_results_Hawaii_10000m_Run4.gpkg\u001b[39m\n",
            "\n",
            "Uploaded into Drive file:\n",
            "\n",
            "• \u001b[36msim_results_Hawaii_10000m_Run4.gpkg\u001b[39m \u001b[90m<id: 1ld6_6c1MWFAymvadT3EcGZrkq0eUX2CG>\u001b[39m\n",
            "\n",
            "With MIME type:\n",
            "\n",
            "• \u001b[32mapplication/geopackage+sqlite3\u001b[39m\n",
            "\n"
          ]
        },
        {
          "output_type": "stream",
          "name": "stdout",
          "text": [
            "Writing layer `sim_results_Hawaii_10000m_Run5' to data source \n",
            "  `/content/sim_results_Hawaii_10000m_Run5.gpkg' using driver `GPKG'\n",
            "Writing 5600000 features with 74 fields and geometry type Point.\n"
          ]
        },
        {
          "output_type": "stream",
          "name": "stderr",
          "text": [
            "Auto-refreshing stale OAuth token.\n",
            "\n",
            "Local file:\n",
            "\n",
            "• \u001b[34m/content/sim_results_Hawaii_10000m_Run5.gpkg\u001b[39m\n",
            "\n",
            "Uploaded into Drive file:\n",
            "\n",
            "• \u001b[36msim_results_Hawaii_10000m_Run5.gpkg\u001b[39m \u001b[90m<id: 1GxKAfUzelx2-46YEEk3I9fe8jzTqCmvM>\u001b[39m\n",
            "\n",
            "With MIME type:\n",
            "\n",
            "• \u001b[32mapplication/geopackage+sqlite3\u001b[39m\n",
            "\n"
          ]
        },
        {
          "output_type": "stream",
          "name": "stdout",
          "text": [
            "Writing layer `sim_results_Hawaii_10000m_Run6' to data source \n",
            "  `/content/sim_results_Hawaii_10000m_Run6.gpkg' using driver `GPKG'\n",
            "Writing 5600000 features with 74 fields and geometry type Point.\n"
          ]
        },
        {
          "output_type": "stream",
          "name": "stderr",
          "text": [
            "Auto-refreshing stale OAuth token.\n",
            "\n",
            "Local file:\n",
            "\n",
            "• \u001b[34m/content/sim_results_Hawaii_10000m_Run6.gpkg\u001b[39m\n",
            "\n",
            "Uploaded into Drive file:\n",
            "\n",
            "• \u001b[36msim_results_Hawaii_10000m_Run6.gpkg\u001b[39m \u001b[90m<id: 1aWSr3MiGqBwbLV9-EGEe322iEgm0DdKL>\u001b[39m\n",
            "\n",
            "With MIME type:\n",
            "\n",
            "• \u001b[32mapplication/geopackage+sqlite3\u001b[39m\n",
            "\n"
          ]
        },
        {
          "output_type": "stream",
          "name": "stdout",
          "text": [
            "Writing layer `sim_results_Hawaii_10000m_Run7' to data source \n",
            "  `/content/sim_results_Hawaii_10000m_Run7.gpkg' using driver `GPKG'\n",
            "Writing 5600000 features with 74 fields and geometry type Point.\n"
          ]
        },
        {
          "output_type": "stream",
          "name": "stderr",
          "text": [
            "Auto-refreshing stale OAuth token.\n",
            "\n",
            "Local file:\n",
            "\n",
            "• \u001b[34m/content/sim_results_Hawaii_10000m_Run7.gpkg\u001b[39m\n",
            "\n",
            "Uploaded into Drive file:\n",
            "\n",
            "• \u001b[36msim_results_Hawaii_10000m_Run7.gpkg\u001b[39m \u001b[90m<id: 1J4ytl9hNhKAY7LeNk5yHIjQL-waCrC_f>\u001b[39m\n",
            "\n",
            "With MIME type:\n",
            "\n",
            "• \u001b[32mapplication/geopackage+sqlite3\u001b[39m\n",
            "\n"
          ]
        },
        {
          "output_type": "stream",
          "name": "stdout",
          "text": [
            "Writing layer `sim_results_Hawaii_10000m_Run8' to data source \n",
            "  `/content/sim_results_Hawaii_10000m_Run8.gpkg' using driver `GPKG'\n",
            "Writing 5600000 features with 74 fields and geometry type Point.\n"
          ]
        },
        {
          "output_type": "stream",
          "name": "stderr",
          "text": [
            "Auto-refreshing stale OAuth token.\n",
            "\n",
            "Local file:\n",
            "\n",
            "• \u001b[34m/content/sim_results_Hawaii_10000m_Run8.gpkg\u001b[39m\n",
            "\n",
            "Uploaded into Drive file:\n",
            "\n",
            "• \u001b[36msim_results_Hawaii_10000m_Run8.gpkg\u001b[39m \u001b[90m<id: 1pxfMsanFBv3snfag8aDyeQFjojt5okSL>\u001b[39m\n",
            "\n",
            "With MIME type:\n",
            "\n",
            "• \u001b[32mapplication/geopackage+sqlite3\u001b[39m\n",
            "\n"
          ]
        },
        {
          "output_type": "stream",
          "name": "stdout",
          "text": [
            "Writing layer `sim_results_Hawaii_10000m_Run9' to data source \n",
            "  `/content/sim_results_Hawaii_10000m_Run9.gpkg' using driver `GPKG'\n",
            "Writing 5600000 features with 74 fields and geometry type Point.\n"
          ]
        },
        {
          "output_type": "stream",
          "name": "stderr",
          "text": [
            "Auto-refreshing stale OAuth token.\n",
            "\n",
            "Local file:\n",
            "\n",
            "• \u001b[34m/content/sim_results_Hawaii_10000m_Run9.gpkg\u001b[39m\n",
            "\n",
            "Uploaded into Drive file:\n",
            "\n",
            "• \u001b[36msim_results_Hawaii_10000m_Run9.gpkg\u001b[39m \u001b[90m<id: 1yjO21_zgBAX3_VWUf5DFw9kpoDGmJJ8Y>\u001b[39m\n",
            "\n",
            "With MIME type:\n",
            "\n",
            "• \u001b[32mapplication/geopackage+sqlite3\u001b[39m\n",
            "\n"
          ]
        },
        {
          "output_type": "stream",
          "name": "stdout",
          "text": [
            "Writing layer `sim_results_Hawaii_10000m_Run10' to data source \n",
            "  `/content/sim_results_Hawaii_10000m_Run10.gpkg' using driver `GPKG'\n",
            "Writing 5600000 features with 74 fields and geometry type Point.\n"
          ]
        },
        {
          "output_type": "stream",
          "name": "stderr",
          "text": [
            "Auto-refreshing stale OAuth token.\n",
            "\n",
            "Local file:\n",
            "\n",
            "• \u001b[34m/content/sim_results_Hawaii_10000m_Run10.gpkg\u001b[39m\n",
            "\n",
            "Uploaded into Drive file:\n",
            "\n",
            "• \u001b[36msim_results_Hawaii_10000m_Run10.gpkg\u001b[39m \u001b[90m<id: 1vJ1EvW111pDsvs4p-F5DSNgIFrCzW9lk>\u001b[39m\n",
            "\n",
            "With MIME type:\n",
            "\n",
            "• \u001b[32mapplication/geopackage+sqlite3\u001b[39m\n",
            "\n"
          ]
        },
        {
          "output_type": "stream",
          "name": "stdout",
          "text": [
            "Writing layer `sim_results_Hawaii_10000m_Run11' to data source \n",
            "  `/content/sim_results_Hawaii_10000m_Run11.gpkg' using driver `GPKG'\n",
            "Writing 5600000 features with 74 fields and geometry type Point.\n"
          ]
        },
        {
          "output_type": "stream",
          "name": "stderr",
          "text": [
            "Auto-refreshing stale OAuth token.\n",
            "\n",
            "Local file:\n",
            "\n",
            "• \u001b[34m/content/sim_results_Hawaii_10000m_Run11.gpkg\u001b[39m\n",
            "\n",
            "Uploaded into Drive file:\n",
            "\n",
            "• \u001b[36msim_results_Hawaii_10000m_Run11.gpkg\u001b[39m \u001b[90m<id: 1SKvc1mAz-8JKfoRrLLRAK9Y5aS773JaA>\u001b[39m\n",
            "\n",
            "With MIME type:\n",
            "\n",
            "• \u001b[32mapplication/geopackage+sqlite3\u001b[39m\n",
            "\n"
          ]
        }
      ]
    },
    {
      "cell_type": "code",
      "source": [
        "sim_dt %>% head"
      ],
      "metadata": {
        "colab": {
          "base_uri": "https://localhost:8080/",
          "height": 306
        },
        "id": "nkJzdvNRwaxn",
        "outputId": "16c4fe96-c5a8-49fc-9fc2-196d49c42595"
      },
      "execution_count": 55,
      "outputs": [
        {
          "output_type": "display_data",
          "data": {
            "text/html": [
              "<table class=\"dataframe\">\n",
              "<caption>A data.table: 6 × 75</caption>\n",
              "<thead>\n",
              "\t<tr><th scope=col>PLOT</th><th scope=col>Stock_SOC_Mg_Ha</th><th scope=col>county_name</th><th scope=col>id</th><th scope=col>left</th><th scope=col>top</th><th scope=col>right</th><th scope=col>bottom</th><th scope=col>water</th><th scope=col>trees</th><th scope=col>⋯</th><th scope=col>var_imp_vap</th><th scope=col>var_imp_vpd</th><th scope=col>var_imp_vs</th><th scope=col>var_imp_agbd_m</th><th scope=col>var_imp_agbd_sd</th><th scope=col>var_imp_agbd_n</th><th scope=col>var_imp_majorcomposition</th><th scope=col>var_imp_age_years</th><th scope=col>var_imp_age_class</th><th scope=col>r2</th></tr>\n",
              "\t<tr><th scope=col>&lt;chr&gt;</th><th scope=col>&lt;dbl&gt;</th><th scope=col>&lt;chr&gt;</th><th scope=col>&lt;dbl&gt;</th><th scope=col>&lt;dbl&gt;</th><th scope=col>&lt;dbl&gt;</th><th scope=col>&lt;dbl&gt;</th><th scope=col>&lt;dbl&gt;</th><th scope=col>&lt;dbl&gt;</th><th scope=col>&lt;dbl&gt;</th><th scope=col>⋯</th><th scope=col>&lt;dbl&gt;</th><th scope=col>&lt;dbl&gt;</th><th scope=col>&lt;dbl&gt;</th><th scope=col>&lt;dbl&gt;</th><th scope=col>&lt;dbl&gt;</th><th scope=col>&lt;dbl&gt;</th><th scope=col>&lt;dbl&gt;</th><th scope=col>&lt;dbl&gt;</th><th scope=col>&lt;dbl&gt;</th><th scope=col>&lt;dbl&gt;</th></tr>\n",
              "</thead>\n",
              "<tbody>\n",
              "\t<tr><td>2159</td><td>421.24307</td><td>Hawaii</td><td>2525975</td><td>469661.4</td><td>148952.3</td><td>469911.4</td><td>149202.3</td><td>0.03285488</td><td>0.6260990</td><td>⋯</td><td>46474.79</td><td>53360.96</td><td>65976.79</td><td>98522.15</td><td>80861.57</td><td>69521.8</td><td>55764.19</td><td>53287.27</td><td>32031.09</td><td>0.01708917</td></tr>\n",
              "\t<tr><td>2167</td><td>177.71471</td><td>Hawaii</td><td>2577084</td><td>478161.4</td><td>147202.3</td><td>478411.4</td><td>147452.3</td><td>0.03436937</td><td>0.6290749</td><td>⋯</td><td>46474.79</td><td>53360.96</td><td>65976.79</td><td>98522.15</td><td>80861.57</td><td>69521.8</td><td>55764.19</td><td>53287.27</td><td>32031.09</td><td>0.01708917</td></tr>\n",
              "\t<tr><td>2191</td><td>128.21530</td><td>Hawaii</td><td>2628206</td><td>486661.4</td><td>142202.3</td><td>486911.4</td><td>142452.3</td><td>0.03134528</td><td>0.6526582</td><td>⋯</td><td>46474.79</td><td>53360.96</td><td>65976.79</td><td>98522.15</td><td>80861.57</td><td>69521.8</td><td>55764.19</td><td>53287.27</td><td>32031.09</td><td>0.01708917</td></tr>\n",
              "\t<tr><td>2204</td><td>281.55236</td><td>Hawaii</td><td>2572610</td><td>477411.4</td><td>138452.3</td><td>477661.4</td><td>138702.3</td><td>0.03649882</td><td>0.6809468</td><td>⋯</td><td>46474.79</td><td>53360.96</td><td>65976.79</td><td>98522.15</td><td>80861.57</td><td>69521.8</td><td>55764.19</td><td>53287.27</td><td>32031.09</td><td>0.01708917</td></tr>\n",
              "\t<tr><td>2208</td><td> 24.38417</td><td>Hawaii</td><td>2607182</td><td>483161.4</td><td>137702.3</td><td>483411.4</td><td>137952.3</td><td>0.03258546</td><td>0.6465217</td><td>⋯</td><td>46474.79</td><td>53360.96</td><td>65976.79</td><td>98522.15</td><td>80861.57</td><td>69521.8</td><td>55764.19</td><td>53287.27</td><td>32031.09</td><td>0.01708917</td></tr>\n",
              "\t<tr><td>2212</td><td>211.54635</td><td>Hawaii</td><td>2635746</td><td>487911.4</td><td>135952.3</td><td>488161.4</td><td>136202.3</td><td>0.03449538</td><td>0.5869144</td><td>⋯</td><td>46474.79</td><td>53360.96</td><td>65976.79</td><td>98522.15</td><td>80861.57</td><td>69521.8</td><td>55764.19</td><td>53287.27</td><td>32031.09</td><td>0.01708917</td></tr>\n",
              "</tbody>\n",
              "</table>\n"
            ],
            "text/markdown": "\nA data.table: 6 × 75\n\n| PLOT &lt;chr&gt; | Stock_SOC_Mg_Ha &lt;dbl&gt; | county_name &lt;chr&gt; | id &lt;dbl&gt; | left &lt;dbl&gt; | top &lt;dbl&gt; | right &lt;dbl&gt; | bottom &lt;dbl&gt; | water &lt;dbl&gt; | trees &lt;dbl&gt; | ⋯ ⋯ | var_imp_vap &lt;dbl&gt; | var_imp_vpd &lt;dbl&gt; | var_imp_vs &lt;dbl&gt; | var_imp_agbd_m &lt;dbl&gt; | var_imp_agbd_sd &lt;dbl&gt; | var_imp_agbd_n &lt;dbl&gt; | var_imp_majorcomposition &lt;dbl&gt; | var_imp_age_years &lt;dbl&gt; | var_imp_age_class &lt;dbl&gt; | r2 &lt;dbl&gt; |\n|---|---|---|---|---|---|---|---|---|---|---|---|---|---|---|---|---|---|---|---|---|\n| 2159 | 421.24307 | Hawaii | 2525975 | 469661.4 | 148952.3 | 469911.4 | 149202.3 | 0.03285488 | 0.6260990 | ⋯ | 46474.79 | 53360.96 | 65976.79 | 98522.15 | 80861.57 | 69521.8 | 55764.19 | 53287.27 | 32031.09 | 0.01708917 |\n| 2167 | 177.71471 | Hawaii | 2577084 | 478161.4 | 147202.3 | 478411.4 | 147452.3 | 0.03436937 | 0.6290749 | ⋯ | 46474.79 | 53360.96 | 65976.79 | 98522.15 | 80861.57 | 69521.8 | 55764.19 | 53287.27 | 32031.09 | 0.01708917 |\n| 2191 | 128.21530 | Hawaii | 2628206 | 486661.4 | 142202.3 | 486911.4 | 142452.3 | 0.03134528 | 0.6526582 | ⋯ | 46474.79 | 53360.96 | 65976.79 | 98522.15 | 80861.57 | 69521.8 | 55764.19 | 53287.27 | 32031.09 | 0.01708917 |\n| 2204 | 281.55236 | Hawaii | 2572610 | 477411.4 | 138452.3 | 477661.4 | 138702.3 | 0.03649882 | 0.6809468 | ⋯ | 46474.79 | 53360.96 | 65976.79 | 98522.15 | 80861.57 | 69521.8 | 55764.19 | 53287.27 | 32031.09 | 0.01708917 |\n| 2208 |  24.38417 | Hawaii | 2607182 | 483161.4 | 137702.3 | 483411.4 | 137952.3 | 0.03258546 | 0.6465217 | ⋯ | 46474.79 | 53360.96 | 65976.79 | 98522.15 | 80861.57 | 69521.8 | 55764.19 | 53287.27 | 32031.09 | 0.01708917 |\n| 2212 | 211.54635 | Hawaii | 2635746 | 487911.4 | 135952.3 | 488161.4 | 136202.3 | 0.03449538 | 0.5869144 | ⋯ | 46474.79 | 53360.96 | 65976.79 | 98522.15 | 80861.57 | 69521.8 | 55764.19 | 53287.27 | 32031.09 | 0.01708917 |\n\n",
            "text/latex": "A data.table: 6 × 75\n\\begin{tabular}{lllllllllllllllllllll}\n PLOT & Stock\\_SOC\\_Mg\\_Ha & county\\_name & id & left & top & right & bottom & water & trees & ⋯ & var\\_imp\\_vap & var\\_imp\\_vpd & var\\_imp\\_vs & var\\_imp\\_agbd\\_m & var\\_imp\\_agbd\\_sd & var\\_imp\\_agbd\\_n & var\\_imp\\_majorcomposition & var\\_imp\\_age\\_years & var\\_imp\\_age\\_class & r2\\\\\n <chr> & <dbl> & <chr> & <dbl> & <dbl> & <dbl> & <dbl> & <dbl> & <dbl> & <dbl> & ⋯ & <dbl> & <dbl> & <dbl> & <dbl> & <dbl> & <dbl> & <dbl> & <dbl> & <dbl> & <dbl>\\\\\n\\hline\n\t 2159 & 421.24307 & Hawaii & 2525975 & 469661.4 & 148952.3 & 469911.4 & 149202.3 & 0.03285488 & 0.6260990 & ⋯ & 46474.79 & 53360.96 & 65976.79 & 98522.15 & 80861.57 & 69521.8 & 55764.19 & 53287.27 & 32031.09 & 0.01708917\\\\\n\t 2167 & 177.71471 & Hawaii & 2577084 & 478161.4 & 147202.3 & 478411.4 & 147452.3 & 0.03436937 & 0.6290749 & ⋯ & 46474.79 & 53360.96 & 65976.79 & 98522.15 & 80861.57 & 69521.8 & 55764.19 & 53287.27 & 32031.09 & 0.01708917\\\\\n\t 2191 & 128.21530 & Hawaii & 2628206 & 486661.4 & 142202.3 & 486911.4 & 142452.3 & 0.03134528 & 0.6526582 & ⋯ & 46474.79 & 53360.96 & 65976.79 & 98522.15 & 80861.57 & 69521.8 & 55764.19 & 53287.27 & 32031.09 & 0.01708917\\\\\n\t 2204 & 281.55236 & Hawaii & 2572610 & 477411.4 & 138452.3 & 477661.4 & 138702.3 & 0.03649882 & 0.6809468 & ⋯ & 46474.79 & 53360.96 & 65976.79 & 98522.15 & 80861.57 & 69521.8 & 55764.19 & 53287.27 & 32031.09 & 0.01708917\\\\\n\t 2208 &  24.38417 & Hawaii & 2607182 & 483161.4 & 137702.3 & 483411.4 & 137952.3 & 0.03258546 & 0.6465217 & ⋯ & 46474.79 & 53360.96 & 65976.79 & 98522.15 & 80861.57 & 69521.8 & 55764.19 & 53287.27 & 32031.09 & 0.01708917\\\\\n\t 2212 & 211.54635 & Hawaii & 2635746 & 487911.4 & 135952.3 & 488161.4 & 136202.3 & 0.03449538 & 0.5869144 & ⋯ & 46474.79 & 53360.96 & 65976.79 & 98522.15 & 80861.57 & 69521.8 & 55764.19 & 53287.27 & 32031.09 & 0.01708917\\\\\n\\end{tabular}\n",
            "text/plain": [
              "  PLOT Stock_SOC_Mg_Ha county_name id      left     top      right    bottom  \n",
              "1 2159 421.24307       Hawaii      2525975 469661.4 148952.3 469911.4 149202.3\n",
              "2 2167 177.71471       Hawaii      2577084 478161.4 147202.3 478411.4 147452.3\n",
              "3 2191 128.21530       Hawaii      2628206 486661.4 142202.3 486911.4 142452.3\n",
              "4 2204 281.55236       Hawaii      2572610 477411.4 138452.3 477661.4 138702.3\n",
              "5 2208  24.38417       Hawaii      2607182 483161.4 137702.3 483411.4 137952.3\n",
              "6 2212 211.54635       Hawaii      2635746 487911.4 135952.3 488161.4 136202.3\n",
              "  water      trees     ⋯ var_imp_vap var_imp_vpd var_imp_vs var_imp_agbd_m\n",
              "1 0.03285488 0.6260990 ⋯ 46474.79    53360.96    65976.79   98522.15      \n",
              "2 0.03436937 0.6290749 ⋯ 46474.79    53360.96    65976.79   98522.15      \n",
              "3 0.03134528 0.6526582 ⋯ 46474.79    53360.96    65976.79   98522.15      \n",
              "4 0.03649882 0.6809468 ⋯ 46474.79    53360.96    65976.79   98522.15      \n",
              "5 0.03258546 0.6465217 ⋯ 46474.79    53360.96    65976.79   98522.15      \n",
              "6 0.03449538 0.5869144 ⋯ 46474.79    53360.96    65976.79   98522.15      \n",
              "  var_imp_agbd_sd var_imp_agbd_n var_imp_majorcomposition var_imp_age_years\n",
              "1 80861.57        69521.8        55764.19                 53287.27         \n",
              "2 80861.57        69521.8        55764.19                 53287.27         \n",
              "3 80861.57        69521.8        55764.19                 53287.27         \n",
              "4 80861.57        69521.8        55764.19                 53287.27         \n",
              "5 80861.57        69521.8        55764.19                 53287.27         \n",
              "6 80861.57        69521.8        55764.19                 53287.27         \n",
              "  var_imp_age_class r2        \n",
              "1 32031.09          0.01708917\n",
              "2 32031.09          0.01708917\n",
              "3 32031.09          0.01708917\n",
              "4 32031.09          0.01708917\n",
              "5 32031.09          0.01708917\n",
              "6 32031.09          0.01708917"
            ]
          },
          "metadata": {}
        }
      ]
    },
    {
      "cell_type": "code",
      "source": [
        "# Write to GeoPackage\n",
        "sim_dt %>% st_write(\"/content/sim_results_Hawaii_10000m_Run1.gpkg\", append=FALSE)"
      ],
      "metadata": {
        "id": "VnxBhpa9WOK0",
        "colab": {
          "base_uri": "https://localhost:8080/"
        },
        "outputId": "db79f3fb-5a8f-4e3b-afa3-e8286e3d6fd1"
      },
      "execution_count": 66,
      "outputs": [
        {
          "metadata": {
            "tags": null
          },
          "name": "stdout",
          "output_type": "stream",
          "text": [
            "Writing layer `sim_results_Hawaii_10000m_Run1' to data source \n",
            "  `/content/sim_results_Hawaii_10000m_Run1.gpkg' using driver `GPKG'\n",
            "Writing 5600000 features with 74 fields and geometry type Point.\n"
          ]
        }
      ]
    },
    {
      "cell_type": "code",
      "source": [
        "# https://drive.google.com/drive/folders/1uVZCzCb5gRE8wfZckspRuKz1TQd5LpeM?usp=drive_link\n",
        "drive_upload(\"/content/sim_results_Hawaii_10000m_Run1.gpkg\", path = as_id(\"1uVZCzCb5gRE8wfZckspRuKz1TQd5LpeM\"))"
      ],
      "metadata": {
        "id": "d4KevyDNXPgo",
        "colab": {
          "base_uri": "https://localhost:8080/"
        },
        "outputId": "1faed2be-d900-4778-f66c-c786e10e7ee2"
      },
      "execution_count": 67,
      "outputs": [
        {
          "metadata": {
            "tags": null
          },
          "name": "stderr",
          "output_type": "stream",
          "text": [
            "Auto-refreshing stale OAuth token.\n",
            "\n",
            "Local file:\n",
            "\n",
            "• \u001b[34m/content/sim_results_Hawaii_10000m_Run1.gpkg\u001b[39m\n",
            "\n",
            "Uploaded into Drive file:\n",
            "\n",
            "• \u001b[36msim_results_Hawaii_10000m_Run1.gpkg\u001b[39m \u001b[90m<id: 1HsEZDWJN7XO4aOZlMwbr_6MN3_-xUV81>\u001b[39m\n",
            "\n",
            "With MIME type:\n",
            "\n",
            "• \u001b[32mapplication/geopackage+sqlite3\u001b[39m\n",
            "\n"
          ]
        }
      ]
    },
    {
      "cell_type": "code",
      "source": [
        "# sim_dt"
      ],
      "metadata": {
        "id": "FB2Kru8Fcdpi"
      },
      "execution_count": null,
      "outputs": []
    },
    {
      "cell_type": "code",
      "source": [
        "sim_dt %>%\n",
        "  ggplot(aes(y=Stock_SOC_Mg_Ha,x=r2))+\n",
        "    geom_bin2d()\n",
        "    # geom_smooth()"
      ],
      "metadata": {
        "id": "Kdno5JZ0Yev5",
        "colab": {
          "base_uri": "https://localhost:8080/",
          "height": 437
        },
        "outputId": "cb8efc4a-96b2-45d8-a44e-60dd4bd4f4ad"
      },
      "execution_count": 57,
      "outputs": [
        {
          "output_type": "display_data",
          "data": {
            "text/plain": [
              "plot without title"
            ],
            "image/png": "[encoded data removed]"
          },
          "metadata": {
            "image/png": {
              "width": 420,
              "height": 420
            }
          }
        }
      ]
    }
  ]
}