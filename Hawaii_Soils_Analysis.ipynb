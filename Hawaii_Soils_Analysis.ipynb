{
  "nbformat": 4,
  "nbformat_minor": 0,
  "metadata": {
    "colab": {
      "provenance": [],
      "machine_shape": "hm",
      "authorship_tag": "ABX9TyOlvsg5m6NYqkDXL3jlg8EY",
      "include_colab_link": true
    },
    "kernelspec": {
      "name": "ir",
      "display_name": "R"
    },
    "language_info": {
      "name": "R"
    }
  },
  "cells": [
    {
      "cell_type": "markdown",
      "metadata": {
        "id": "view-in-github",
        "colab_type": "text"
      },
      "source": [
        "<a href=\"https://colab.research.google.com/github/seismosmsr/hawaii_soils/blob/main/Hawaii_Soils_Analysis.ipynb\" target=\"_parent\"><img src=\"https://colab.research.google.com/assets/colab-badge.svg\" alt=\"Open In Colab\"/></a>"
      ]
    },
    {
      "cell_type": "code",
      "execution_count": 2,
      "metadata": {
        "colab": {
          "base_uri": "https://localhost:8080/"
        },
        "id": "w3b2Yt1zzBa4",
        "outputId": "ed7d4aea-4b7d-41a7-e18e-8ff18874191f"
      },
      "outputs": [
        {
          "output_type": "stream",
          "name": "stderr",
          "text": [
            "Installing package into ‘/usr/local/lib/R/site-library’\n",
            "(as ‘lib’ is unspecified)\n",
            "\n",
            "also installing the dependencies ‘proxy’, ‘e1071’, ‘wk’, ‘classInt’, ‘Rcpp’, ‘s2’, ‘units’\n",
            "\n",
            "\n",
            "Installing package into ‘/usr/local/lib/R/site-library’\n",
            "(as ‘lib’ is unspecified)\n",
            "\n",
            "also installing the dependencies ‘sp’, ‘terra’\n",
            "\n",
            "\n",
            "Installing package into ‘/usr/local/lib/R/site-library’\n",
            "(as ‘lib’ is unspecified)\n",
            "\n",
            "Installing package into ‘/usr/local/lib/R/site-library’\n",
            "(as ‘lib’ is unspecified)\n",
            "\n",
            "Installing package into ‘/usr/local/lib/R/site-library’\n",
            "(as ‘lib’ is unspecified)\n",
            "\n",
            "Warning message:\n",
            "“package ‘googletoken’ is not available for this version of R\n",
            "\n",
            "A version of this package for your version of R might be available elsewhere,\n",
            "see the ideas at\n",
            "https://cran.r-project.org/doc/manuals/r-patched/R-admin.html#Installing-packages”\n",
            "Installing package into ‘/usr/local/lib/R/site-library’\n",
            "(as ‘lib’ is unspecified)\n",
            "\n",
            "Installing package into ‘/usr/local/lib/R/site-library’\n",
            "(as ‘lib’ is unspecified)\n",
            "\n",
            "also installing the dependency ‘plogr’\n",
            "\n",
            "\n",
            "Installing package into ‘/usr/local/lib/R/site-library’\n",
            "(as ‘lib’ is unspecified)\n",
            "\n",
            "Installing package into ‘/usr/local/lib/R/site-library’\n",
            "(as ‘lib’ is unspecified)\n",
            "\n",
            "Installing package into ‘/usr/local/lib/R/site-library’\n",
            "(as ‘lib’ is unspecified)\n",
            "\n"
          ]
        }
      ],
      "source": [
        "install.packages('sf')\n",
        "install.packages('raster')\n",
        "install.packages('exactextractr')\n",
        "install.packages(\"googledrive\")\n",
        "install.packages(\"googletoken\")\n",
        "install.packages(\"DBI\")\n",
        "install.packages(\"RSQLite\")\n",
        "install.packages(\"RPostgreSQL\")\n",
        "install.packages(\"terra\")\n",
        "install.packages('randomForest')"
      ]
    },
    {
      "cell_type": "code",
      "source": [
        "library(ggplot2)\n",
        "library(sf)\n",
        "library(magrittr)\n",
        "library(data.table)\n",
        "library(raster)\n",
        "library(exactextractr)\n",
        "library(googledrive)\n",
        "library(DBI)\n",
        "library(terra)\n",
        "library(randomForest)\n",
        "library(parallel)"
      ],
      "metadata": {
        "id": "Jt8zFz1p0QRy",
        "outputId": "09d99d41-9b18-45eb-d73c-34781caedce5",
        "colab": {
          "base_uri": "https://localhost:8080/"
        }
      },
      "execution_count": 3,
      "outputs": [
        {
          "output_type": "stream",
          "name": "stderr",
          "text": [
            "Linking to GEOS 3.10.2, GDAL 3.4.3, PROJ 8.2.1; sf_use_s2() is TRUE\n",
            "\n",
            "Loading required package: sp\n",
            "\n",
            "terra 1.7.55\n",
            "\n",
            "\n",
            "Attaching package: ‘terra’\n",
            "\n",
            "\n",
            "The following object is masked from ‘package:data.table’:\n",
            "\n",
            "    shift\n",
            "\n",
            "\n",
            "The following objects are masked from ‘package:magrittr’:\n",
            "\n",
            "    extract, inset\n",
            "\n",
            "\n",
            "randomForest 4.7-1.1\n",
            "\n",
            "Type rfNews() to see new features/changes/bug fixes.\n",
            "\n",
            "\n",
            "Attaching package: ‘randomForest’\n",
            "\n",
            "\n",
            "The following object is masked from ‘package:ggplot2’:\n",
            "\n",
            "    margin\n",
            "\n",
            "\n"
          ]
        }
      ]
    },
    {
      "cell_type": "code",
      "source": [
        "while(TRUE){}"
      ],
      "metadata": {
        "id": "Z-rVvwdTsUCA"
      },
      "execution_count": 153,
      "outputs": []
    },
    {
      "cell_type": "code",
      "source": [
        "drive_auth(use_oob = TRUE, cache = FALSE)"
      ],
      "metadata": {
        "id": "TIp-5Lr90ULs",
        "outputId": "18f9b696-1a57-414c-f7ec-2d36468cc004",
        "colab": {
          "base_uri": "https://localhost:8080/"
        }
      },
      "execution_count": 5,
      "outputs": [
        {
          "output_type": "stream",
          "name": "stderr",
          "text": [
            "Please point your browser to the following url: \n",
            "\n",
            "https://accounts.google.com/o/oauth2/v2/auth?client_id=603366585132-frjlouoa3s2ono25d2l9ukvhlsrlnr7k.apps.googleusercontent.com&scope=https%3A%2F%2Fwww.googleapis.com%2Fauth%2Fdrive%20https%3A%2F%2Fwww.googleapis.com%2Fauth%2Fuserinfo.email&redirect_uri=https%3A%2F%2Fwww.tidyverse.org%2Fgoogle-callback%2F&response_type=code&state=1c689b3c07bb59835415a6b6eb4e37f6&access_type=offline&prompt=consent\n",
            "\n"
          ]
        },
        {
          "name": "stdout",
          "output_type": "stream",
          "text": [
            "Enter authorization code: eyJjb2RlIjoiNC8wQWZKb2hYa0FkcmkySG1SU2lYaUViWEdZWmxrWVQySThNSld0cHBDTGtNeUhUMndRdW85VGNzZHZyOVpfX3BZdF9ab0NuUSIsInN0YXRlIjoiMWM2ODliM2MwN2JiNTk4MzU0MTVhNmI2ZWI0ZTM3ZjYifQ==\n"
          ]
        }
      ]
    },
    {
      "cell_type": "code",
      "source": [
        "#https://drive.google.com/file/d/1tAh_UBLBi_d4-7U985oRcux9Qcw-HQN9/view?usp=drive_link\n",
        "\n",
        "# https://drive.google.com/file/d/1ryTzWz0t9mgI5ynPvMzM21D135dLJvWv/view?usp=drive_link\n",
        "# Updated: https://drive.google.com/file/d/17c3DJcujQ_0MHirG2z2lSU88A0lvjo1C/view?usp=sharing\n",
        "drive_download(as_id('1tAh_UBLBi_d4-7U985oRcux9Qcw-HQN9'), path = paste0('/content/big_polys.gpkg'), overwrite = TRUE)\n",
        "big_polys_dt <-  st_read('/content/big_polys.gpkg') %>% st_as_sf(crs = 4326) %>% data.table"
      ],
      "metadata": {
        "id": "rPMPoGHljeGJ",
        "outputId": "568007d7-42ca-4abe-e06f-7289a187e22c",
        "colab": {
          "base_uri": "https://localhost:8080/"
        }
      },
      "execution_count": 174,
      "outputs": [
        {
          "output_type": "stream",
          "name": "stderr",
          "text": [
            "File downloaded:\n",
            "\n",
            "• \u001b[36mbig_island_polygons.gpkg\u001b[39m \u001b[90m<id: 1tAh_UBLBi_d4-7U985oRcux9Qcw-HQN9>\u001b[39m\n",
            "\n",
            "Saved locally as:\n",
            "\n",
            "• \u001b[34m/content/big_polys.gpkg\u001b[39m\n",
            "\n"
          ]
        },
        {
          "output_type": "stream",
          "name": "stdout",
          "text": [
            "Reading layer `big_island_polygons' from data source `/content/big_polys.gpkg' using driver `GPKG'\n",
            "Simple feature collection with 7 features and 1 field\n",
            "Geometry type: MULTIPOLYGON\n",
            "Dimension:     XY\n",
            "Bounding box:  xmin: -156.0051 ymin: 19.00001 xmax: -154.8276 ymax: 20.26314\n",
            "Geodetic CRS:  WGS 84\n"
          ]
        }
      ]
    },
    {
      "cell_type": "code",
      "source": [
        "# https://drive.google.com/file/d/1ryTzWz0t9mgI5ynPvMzM21D135dLJvWv/view?usp=drive_link\n",
        "# Updated: https://drive.google.com/file/d/17c3DJcujQ_0MHirG2z2lSU88A0lvjo1C/view?usp=sharing\n",
        "drive_download(as_id('17c3DJcujQ_0MHirG2z2lSU88A0lvjo1C'), path = paste0('/content/fia.csv'), overwrite = TRUE)\n",
        "fia_dt <-  st_read('/content/fia.csv') %>% st_as_sf(coords = c(\"LON\",\"LAT\"), crs = 4326) %>% data.table"
      ],
      "metadata": {
        "id": "GIyOF5ltSRpq",
        "outputId": "25bb319e-e8e7-432e-9e38-a628e8a0fdb9",
        "colab": {
          "base_uri": "https://localhost:8080/"
        }
      },
      "execution_count": 176,
      "outputs": [
        {
          "output_type": "stream",
          "name": "stderr",
          "text": [
            "File downloaded:\n",
            "\n",
            "• \u001b[36m2023_11_01FIA_soil_subset.csv\u001b[39m \u001b[90m<id: 17c3DJcujQ_0MHirG2z2lSU88A0lvjo1C>\u001b[39m\n",
            "\n",
            "Saved locally as:\n",
            "\n",
            "• \u001b[34m/content/fia.csv\u001b[39m\n",
            "\n"
          ]
        },
        {
          "output_type": "stream",
          "name": "stdout",
          "text": [
            "Reading layer `fia' from data source `/content/fia.csv' using driver `CSV'\n"
          ]
        },
        {
          "output_type": "stream",
          "name": "stderr",
          "text": [
            "Warning message:\n",
            "“no simple feature geometries present: returning a data.frame or tbl_df”\n"
          ]
        }
      ]
    },
    {
      "cell_type": "code",
      "source": [
        "# fia_dt %>% st_as_sf %>% st_write('fia.gpkg')"
      ],
      "metadata": {
        "id": "Xsw6h8Ics4gh"
      },
      "execution_count": null,
      "outputs": []
    },
    {
      "cell_type": "code",
      "source": [
        "# https://drive.google.com/file/d/1LZQIykiIRmkIv-Ygy24rAN1ohmGOG1rY/view?usp=drive_link\n",
        "drive_download(as_id('1LZQIykiIRmkIv-Ygy24rAN1ohmGOG1rY'), path = \"/content/250_summary_grid_dt.gpkg\", overwrite = TRUE)\n",
        "grid_dt <- st_read(\"/content/250_summary_grid_dt.gpkg\") %>% st_transform(4326) %>% data.table()"
      ],
      "metadata": {
        "id": "6i5eFIGc1vby",
        "outputId": "98909f85-fdd6-458b-e99b-e0d7806b24bc",
        "colab": {
          "base_uri": "https://localhost:8080/"
        }
      },
      "execution_count": 8,
      "outputs": [
        {
          "output_type": "stream",
          "name": "stderr",
          "text": [
            "File downloaded:\n",
            "\n",
            "• \u001b[36m250_summary_grid_dt.gpkg\u001b[39m \u001b[90m<id: 1LZQIykiIRmkIv-Ygy24rAN1ohmGOG1rY>\u001b[39m\n",
            "\n",
            "Saved locally as:\n",
            "\n",
            "• \u001b[34m/content/250_summary_grid_dt.gpkg\u001b[39m\n",
            "\n"
          ]
        },
        {
          "output_type": "stream",
          "name": "stdout",
          "text": [
            "Reading layer `250_summary_grid_dt' from data source \n",
            "  `/content/250_summary_grid_dt.gpkg' using driver `GPKG'\n",
            "Simple feature collection with 227561 features and 38 fields\n",
            "Geometry type: POINT\n",
            "Dimension:     XY\n",
            "Bounding box:  xmin: 57161.36 ymin: 16952.32 xmax: 572661.4 ymax: 381202.3\n",
            "Projected CRS: NAD_1983_HARN_StatePlane_Hawaii_1_FIPS_5101\n"
          ]
        }
      ]
    },
    {
      "cell_type": "code",
      "source": [
        "# Simulation data\n",
        "# # 1bk1A8XJn46VJ0CIlbjgdZHvvlII4F7FC Run 1\n",
        "# drive_download(file = as_id('1bk1A8XJn46VJ0CIlbjgdZHvvlII4F7FC'), path =  '/content/sim_results_Hawaii_Run1.gpkg', overwrite = TRUE)\n",
        "\n",
        "# #  1ODOOOVfwwFIxuB-ysInzbZLC3U1t8x60 Run 2\n",
        "# drive_download(file = as_id('1ODOOOVfwwFIxuB-ysInzbZLC3U1t8x60'), path =  '/content/sim_results_Hawaii_Run2.gpkg', overwrite = TRUE)\n",
        "\n",
        "# # 1C9uZ5it9NpHOXEIehFi-4amjT2AUwCXw Run 3\n",
        "# drive_download(file = as_id('1C9uZ5it9NpHOXEIehFi-4amjT2AUwCXw'), path =  '/content/sim_results_Hawaii_Run3.gpkg', overwrite = TRUE)\n"
      ],
      "metadata": {
        "id": "O0fhKgBSbbbk",
        "outputId": "78853414-3539-4b8b-fae4-ca5a1bb27916",
        "colab": {
          "base_uri": "https://localhost:8080/"
        }
      },
      "execution_count": 312,
      "outputs": [
        {
          "output_type": "stream",
          "name": "stderr",
          "text": [
            "Auto-refreshing stale OAuth token.\n",
            "\n",
            "File downloaded:\n",
            "\n",
            "• \u001b[36msim_results_Hawaii_10000m_v4_Run4.gpkg\u001b[39m\n",
            "  \u001b[90m<id: 1C9uZ5it9NpHOXEIehFi-4amjT2AUwCXw>\u001b[39m\n",
            "\n",
            "Saved locally as:\n",
            "\n",
            "• \u001b[34m/content/sim_results_Hawaii_Run3.gpkg\u001b[39m\n",
            "\n"
          ]
        }
      ]
    },
    {
      "cell_type": "code",
      "source": [
        "sim_dt <- NULL\n",
        "gc()"
      ],
      "metadata": {
        "colab": {
          "base_uri": "https://localhost:8080/",
          "height": 129
        },
        "id": "UoZxqiTKqb8B",
        "outputId": "7e0b0d26-2280-475b-a12a-508a3e39c479"
      },
      "execution_count": 313,
      "outputs": [
        {
          "output_type": "display_data",
          "data": {
            "text/html": [
              "<table class=\"dataframe\">\n",
              "<caption>A matrix: 2 × 6 of type dbl</caption>\n",
              "<thead>\n",
              "\t<tr><th></th><th scope=col>used</th><th scope=col>(Mb)</th><th scope=col>gc trigger</th><th scope=col>(Mb)</th><th scope=col>max used</th><th scope=col>(Mb)</th></tr>\n",
              "</thead>\n",
              "<tbody>\n",
              "\t<tr><th scope=row>Ncells</th><td> 18635188</td><td> 995.3</td><td>  58711326</td><td> 3135.6</td><td>  73389157</td><td> 3919.5</td></tr>\n",
              "\t<tr><th scope=row>Vcells</th><td>470596164</td><td>3590.4</td><td>1527702662</td><td>11655.5</td><td>1909626754</td><td>14569.3</td></tr>\n",
              "</tbody>\n",
              "</table>\n"
            ],
            "text/markdown": "\nA matrix: 2 × 6 of type dbl\n\n| <!--/--> | used | (Mb) | gc trigger | (Mb) | max used | (Mb) |\n|---|---|---|---|---|---|---|\n| Ncells |  18635188 |  995.3 |   58711326 |  3135.6 |   73389157 |  3919.5 |\n| Vcells | 470596164 | 3590.4 | 1527702662 | 11655.5 | 1909626754 | 14569.3 |\n\n",
            "text/latex": "A matrix: 2 × 6 of type dbl\n\\begin{tabular}{r|llllll}\n  & used & (Mb) & gc trigger & (Mb) & max used & (Mb)\\\\\n\\hline\n\tNcells &  18635188 &  995.3 &   58711326 &  3135.6 &   73389157 &  3919.5\\\\\n\tVcells & 470596164 & 3590.4 & 1527702662 & 11655.5 & 1909626754 & 14569.3\\\\\n\\end{tabular}\n",
            "text/plain": [
              "       used      (Mb)   gc trigger (Mb)    max used   (Mb)   \n",
              "Ncells  18635188  995.3   58711326  3135.6   73389157  3919.5\n",
              "Vcells 470596164 3590.4 1527702662 11655.5 1909626754 14569.3"
            ]
          },
          "metadata": {}
        }
      ]
    },
    {
      "cell_type": "code",
      "source": [
        "sim_1_dt <- st_read( '/content/sim_results_Hawaii_Run1.gpkg') %>% data.table\n",
        "sim_2_dt <- st_read( '/content/sim_results_Hawaii_Run2.gpkg') %>% data.table\n",
        "sim_3_dt <- st_read( '/content/sim_results_Hawaii_Run3.gpkg') %>% data.table"
      ],
      "metadata": {
        "colab": {
          "base_uri": "https://localhost:8080/"
        },
        "id": "qcOWC2TKb4kS",
        "outputId": "166dea45-c4a5-4128-bbf3-59371f555af5"
      },
      "execution_count": 314,
      "outputs": [
        {
          "output_type": "stream",
          "name": "stdout",
          "text": [
            "Reading layer `sim_results_Hawaii_10000m_v4_Run1' from data source \n",
            "  `/content/sim_results_Hawaii_Run1.gpkg' using driver `GPKG'\n",
            "Simple feature collection with 3170000 features and 80 fields\n",
            "Geometry type: POINT\n",
            "Dimension:     XY\n",
            "Bounding box:  xmin: -156.0017 ymin: 19.0045 xmax: -154.8362 ymax: 20.25088\n",
            "Geodetic CRS:  WGS 84\n",
            "Reading layer `sim_results_Hawaii_10000m_v4_Run2' from data source \n",
            "  `/content/sim_results_Hawaii_Run2.gpkg' using driver `GPKG'\n",
            "Simple feature collection with 3170000 features and 80 fields\n",
            "Geometry type: POINT\n",
            "Dimension:     XY\n",
            "Bounding box:  xmin: -156.0017 ymin: 19.0045 xmax: -154.8362 ymax: 20.25088\n",
            "Geodetic CRS:  WGS 84\n",
            "Reading layer `sim_results_Hawaii_10000m_v4_Run4' from data source \n",
            "  `/content/sim_results_Hawaii_Run3.gpkg' using driver `GPKG'\n",
            "Simple feature collection with 3170000 features and 80 fields\n",
            "Geometry type: POINT\n",
            "Dimension:     XY\n",
            "Bounding box:  xmin: -156.0017 ymin: 19.0045 xmax: -154.8362 ymax: 20.25088\n",
            "Geodetic CRS:  WGS 84\n"
          ]
        }
      ]
    },
    {
      "cell_type": "code",
      "source": [
        "sim_1_dt$sim_id <- sim_1_dt$sim_id + 100000\n",
        "sim_2_dt$sim_id <- sim_2_dt$sim_id + 200000\n",
        "sim_3_dt$sim_id <- sim_3_dt$sim_id + 300000"
      ],
      "metadata": {
        "id": "kb35TjnvznPP"
      },
      "execution_count": 315,
      "outputs": []
    },
    {
      "cell_type": "code",
      "source": [
        "print(sim_dt$sim_id %>% unique %>% length)"
      ],
      "metadata": {
        "id": "g3LG4Bk50TIP",
        "outputId": "d5d52c0f-4d2e-4fc3-a59a-5ea7dfded343",
        "colab": {
          "base_uri": "https://localhost:8080/"
        }
      },
      "execution_count": 113,
      "outputs": [
        {
          "output_type": "stream",
          "name": "stdout",
          "text": [
            "[1] 10000\n"
          ]
        }
      ]
    },
    {
      "cell_type": "code",
      "source": [
        "sim_dt <-list(sim_1_dt , sim_2_dt, sim_3_dt ) %>% rbindlist()"
      ],
      "metadata": {
        "id": "rlWnfNM-tjtK"
      },
      "execution_count": 316,
      "outputs": []
    },
    {
      "cell_type": "code",
      "source": [
        "sim_1_dt <- NULL\n",
        "sim_2_dt <- NULL\n",
        "sim_3_dt <- NULL"
      ],
      "metadata": {
        "id": "a3sZbRJF0olA"
      },
      "execution_count": 317,
      "outputs": []
    },
    {
      "cell_type": "code",
      "source": [
        "gc()"
      ],
      "metadata": {
        "id": "DyOyd289RSsW",
        "outputId": "280f039c-d8b5-4297-dbec-ec8fd2d3be5d",
        "colab": {
          "base_uri": "https://localhost:8080/",
          "height": 129
        }
      },
      "execution_count": 318,
      "outputs": [
        {
          "output_type": "display_data",
          "data": {
            "text/html": [
              "<table class=\"dataframe\">\n",
              "<caption>A matrix: 2 × 6 of type dbl</caption>\n",
              "<thead>\n",
              "\t<tr><th></th><th scope=col>used</th><th scope=col>(Mb)</th><th scope=col>gc trigger</th><th scope=col>(Mb)</th><th scope=col>max used</th><th scope=col>(Mb)</th></tr>\n",
              "</thead>\n",
              "<tbody>\n",
              "\t<tr><th scope=row>Ncells</th><td>  45859615</td><td>2449.2</td><td> 111263146</td><td> 5942.1</td><td>  95036446</td><td> 5075.5</td></tr>\n",
              "\t<tr><th scope=row>Vcells</th><td>1295720320</td><td>9885.6</td><td>2640161398</td><td>20142.9</td><td>2639811114</td><td>20140.2</td></tr>\n",
              "</tbody>\n",
              "</table>\n"
            ],
            "text/markdown": "\nA matrix: 2 × 6 of type dbl\n\n| <!--/--> | used | (Mb) | gc trigger | (Mb) | max used | (Mb) |\n|---|---|---|---|---|---|---|\n| Ncells |   45859615 | 2449.2 |  111263146 |  5942.1 |   95036446 |  5075.5 |\n| Vcells | 1295720320 | 9885.6 | 2640161398 | 20142.9 | 2639811114 | 20140.2 |\n\n",
            "text/latex": "A matrix: 2 × 6 of type dbl\n\\begin{tabular}{r|llllll}\n  & used & (Mb) & gc trigger & (Mb) & max used & (Mb)\\\\\n\\hline\n\tNcells &   45859615 & 2449.2 &  111263146 &  5942.1 &   95036446 &  5075.5\\\\\n\tVcells & 1295720320 & 9885.6 & 2640161398 & 20142.9 & 2639811114 & 20140.2\\\\\n\\end{tabular}\n",
            "text/plain": [
              "       used       (Mb)   gc trigger (Mb)    max used   (Mb)   \n",
              "Ncells   45859615 2449.2  111263146  5942.1   95036446  5075.5\n",
              "Vcells 1295720320 9885.6 2640161398 20142.9 2639811114 20140.2"
            ]
          },
          "metadata": {}
        }
      ]
    },
    {
      "cell_type": "code",
      "source": [
        "grid_int_dt  <- fia_dt$geom %>% st_transform(4135) %>% st_buffer(10000) %>% st_transform(4326) %>% st_intersects(grid_dt$geom)"
      ],
      "metadata": {
        "id": "0A-fL1krTbA_"
      },
      "execution_count": 15,
      "outputs": []
    },
    {
      "cell_type": "code",
      "source": [
        "rm_vec <- grid_int_dt %>% lapply(length) %>% unlist > 0\n",
        "grid_int_dt <- grid_int_dt[rm_vec]\n",
        "fia_dt <- fia_dt[rm_vec,]"
      ],
      "metadata": {
        "id": "isEeYbV1UDV9"
      },
      "execution_count": 16,
      "outputs": []
    },
    {
      "cell_type": "code",
      "source": [
        "grid_dt <- grid_dt[!is.na(srad),]"
      ],
      "metadata": {
        "id": "GuKe5EAqAWtK"
      },
      "execution_count": 17,
      "outputs": []
    },
    {
      "cell_type": "code",
      "source": [
        "grid_dt$agbd_n <- grid_dt$agbd_n %>% as.numeric"
      ],
      "metadata": {
        "id": "XsFPDjw_BHKX"
      },
      "execution_count": 18,
      "outputs": []
    },
    {
      "cell_type": "code",
      "source": [
        "fia_dt$Stock_SOC_Mg_Ha <- fia_dt$Stock_SOC_Mg_Ha %>% as.numeric"
      ],
      "metadata": {
        "id": "Au3xpFsoA2Qz",
        "outputId": "7aecde60-d3ad-42ea-93a3-c03439697d02",
        "colab": {
          "base_uri": "https://localhost:8080/"
        }
      },
      "execution_count": 19,
      "outputs": [
        {
          "output_type": "stream",
          "name": "stderr",
          "text": [
            "Warning message in fia_dt$Stock_SOC_Mg_Ha %>% as.numeric:\n",
            "“NAs introduced by coercion”\n"
          ]
        }
      ]
    },
    {
      "cell_type": "code",
      "source": [
        "names(sim_dt)[-c(2,4,5,43,78,80)]"
      ],
      "metadata": {
        "colab": {
          "base_uri": "https://localhost:8080/",
          "height": 243
        },
        "id": "uQ6ACrJ04s_Y",
        "outputId": "c7c2b3f7-5717-40ff-a520-b4829cf90a06"
      },
      "execution_count": 24,
      "outputs": [
        {
          "output_type": "display_data",
          "data": {
            "text/html": [
              "<style>\n",
              ".list-inline {list-style: none; margin:0; padding: 0}\n",
              ".list-inline>li {display: inline-block}\n",
              ".list-inline>li:not(:last-child)::after {content: \"\\00b7\"; padding: 0 .5ex}\n",
              "</style>\n",
              "<ol class=list-inline><li>'PLOT'</li><li>'SOC_Mg_Ha'</li><li>'DEPTH_UPPER'</li><li>'DEPTH_LOWER'</li><li>'county_name'</li><li>'id'</li><li>'left'</li><li>'top'</li><li>'right'</li><li>'bottom'</li><li>'water'</li><li>'trees'</li><li>'grass'</li><li>'flooded_vegetation'</li><li>'crops'</li><li>'shrub_and_scrub'</li><li>'built'</li><li>'bare'</li><li>'snow_and_ice'</li><li>'elevation'</li><li>'landform'</li><li>'SRTM_mTPI'</li><li>'aet'</li><li>'def'</li><li>'pdsi'</li><li>'pet'</li><li>'pr'</li><li>'ro'</li><li>'soil'</li><li>'srad'</li><li>'swe'</li><li>'tmmn'</li><li>'tmmx'</li><li>'vap'</li><li>'vpd'</li><li>'vs'</li><li>'agbd_m'</li><li>'agbd_sd'</li><li>'agbd_n'</li><li>'majorcomposition'</li><li>'age_years'</li><li>'Age_Class'</li><li>'predicted'</li><li>'var_imp_DEPTH_UPPER'</li><li>'var_imp_DEPTH_LOWER'</li><li>'var_imp_water'</li><li>'var_imp_trees'</li><li>'var_imp_grass'</li><li>'var_imp_flooded_vegetation'</li><li>'var_imp_crops'</li><li>'var_imp_shrub_and_scrub'</li><li>'var_imp_built'</li><li>'var_imp_bare'</li><li>'var_imp_snow_and_ice'</li><li>'var_imp_elevation'</li><li>'var_imp_landform'</li><li>'var_imp_SRTM_mTPI'</li><li>'var_imp_aet'</li><li>'var_imp_def'</li><li>'var_imp_pdsi'</li><li>'var_imp_pet'</li><li>'var_imp_pr'</li><li>'var_imp_ro'</li><li>'var_imp_soil'</li><li>'var_imp_srad'</li><li>'var_imp_swe'</li><li>'var_imp_tmmn'</li><li>'var_imp_tmmx'</li><li>'var_imp_vap'</li><li>'var_imp_vpd'</li><li>'var_imp_vs'</li><li>'var_imp_agbd_m'</li><li>'var_imp_agbd_sd'</li><li>'var_imp_agbd_n'</li><li>'var_imp_majorcomposition'</li><li>'var_imp_age_years'</li><li>'var_imp_Age_Class'</li><li>'r2_depth'</li><li>'r2_plot'</li><li>'sim_id'</li><li>'geom'</li></ol>\n"
            ],
            "text/markdown": "1. 'PLOT'\n2. 'SOC_Mg_Ha'\n3. 'DEPTH_UPPER'\n4. 'DEPTH_LOWER'\n5. 'county_name'\n6. 'id'\n7. 'left'\n8. 'top'\n9. 'right'\n10. 'bottom'\n11. 'water'\n12. 'trees'\n13. 'grass'\n14. 'flooded_vegetation'\n15. 'crops'\n16. 'shrub_and_scrub'\n17. 'built'\n18. 'bare'\n19. 'snow_and_ice'\n20. 'elevation'\n21. 'landform'\n22. 'SRTM_mTPI'\n23. 'aet'\n24. 'def'\n25. 'pdsi'\n26. 'pet'\n27. 'pr'\n28. 'ro'\n29. 'soil'\n30. 'srad'\n31. 'swe'\n32. 'tmmn'\n33. 'tmmx'\n34. 'vap'\n35. 'vpd'\n36. 'vs'\n37. 'agbd_m'\n38. 'agbd_sd'\n39. 'agbd_n'\n40. 'majorcomposition'\n41. 'age_years'\n42. 'Age_Class'\n43. 'predicted'\n44. 'var_imp_DEPTH_UPPER'\n45. 'var_imp_DEPTH_LOWER'\n46. 'var_imp_water'\n47. 'var_imp_trees'\n48. 'var_imp_grass'\n49. 'var_imp_flooded_vegetation'\n50. 'var_imp_crops'\n51. 'var_imp_shrub_and_scrub'\n52. 'var_imp_built'\n53. 'var_imp_bare'\n54. 'var_imp_snow_and_ice'\n55. 'var_imp_elevation'\n56. 'var_imp_landform'\n57. 'var_imp_SRTM_mTPI'\n58. 'var_imp_aet'\n59. 'var_imp_def'\n60. 'var_imp_pdsi'\n61. 'var_imp_pet'\n62. 'var_imp_pr'\n63. 'var_imp_ro'\n64. 'var_imp_soil'\n65. 'var_imp_srad'\n66. 'var_imp_swe'\n67. 'var_imp_tmmn'\n68. 'var_imp_tmmx'\n69. 'var_imp_vap'\n70. 'var_imp_vpd'\n71. 'var_imp_vs'\n72. 'var_imp_agbd_m'\n73. 'var_imp_agbd_sd'\n74. 'var_imp_agbd_n'\n75. 'var_imp_majorcomposition'\n76. 'var_imp_age_years'\n77. 'var_imp_Age_Class'\n78. 'r2_depth'\n79. 'r2_plot'\n80. 'sim_id'\n81. 'geom'\n\n\n",
            "text/latex": "\\begin{enumerate*}\n\\item 'PLOT'\n\\item 'SOC\\_Mg\\_Ha'\n\\item 'DEPTH\\_UPPER'\n\\item 'DEPTH\\_LOWER'\n\\item 'county\\_name'\n\\item 'id'\n\\item 'left'\n\\item 'top'\n\\item 'right'\n\\item 'bottom'\n\\item 'water'\n\\item 'trees'\n\\item 'grass'\n\\item 'flooded\\_vegetation'\n\\item 'crops'\n\\item 'shrub\\_and\\_scrub'\n\\item 'built'\n\\item 'bare'\n\\item 'snow\\_and\\_ice'\n\\item 'elevation'\n\\item 'landform'\n\\item 'SRTM\\_mTPI'\n\\item 'aet'\n\\item 'def'\n\\item 'pdsi'\n\\item 'pet'\n\\item 'pr'\n\\item 'ro'\n\\item 'soil'\n\\item 'srad'\n\\item 'swe'\n\\item 'tmmn'\n\\item 'tmmx'\n\\item 'vap'\n\\item 'vpd'\n\\item 'vs'\n\\item 'agbd\\_m'\n\\item 'agbd\\_sd'\n\\item 'agbd\\_n'\n\\item 'majorcomposition'\n\\item 'age\\_years'\n\\item 'Age\\_Class'\n\\item 'predicted'\n\\item 'var\\_imp\\_DEPTH\\_UPPER'\n\\item 'var\\_imp\\_DEPTH\\_LOWER'\n\\item 'var\\_imp\\_water'\n\\item 'var\\_imp\\_trees'\n\\item 'var\\_imp\\_grass'\n\\item 'var\\_imp\\_flooded\\_vegetation'\n\\item 'var\\_imp\\_crops'\n\\item 'var\\_imp\\_shrub\\_and\\_scrub'\n\\item 'var\\_imp\\_built'\n\\item 'var\\_imp\\_bare'\n\\item 'var\\_imp\\_snow\\_and\\_ice'\n\\item 'var\\_imp\\_elevation'\n\\item 'var\\_imp\\_landform'\n\\item 'var\\_imp\\_SRTM\\_mTPI'\n\\item 'var\\_imp\\_aet'\n\\item 'var\\_imp\\_def'\n\\item 'var\\_imp\\_pdsi'\n\\item 'var\\_imp\\_pet'\n\\item 'var\\_imp\\_pr'\n\\item 'var\\_imp\\_ro'\n\\item 'var\\_imp\\_soil'\n\\item 'var\\_imp\\_srad'\n\\item 'var\\_imp\\_swe'\n\\item 'var\\_imp\\_tmmn'\n\\item 'var\\_imp\\_tmmx'\n\\item 'var\\_imp\\_vap'\n\\item 'var\\_imp\\_vpd'\n\\item 'var\\_imp\\_vs'\n\\item 'var\\_imp\\_agbd\\_m'\n\\item 'var\\_imp\\_agbd\\_sd'\n\\item 'var\\_imp\\_agbd\\_n'\n\\item 'var\\_imp\\_majorcomposition'\n\\item 'var\\_imp\\_age\\_years'\n\\item 'var\\_imp\\_Age\\_Class'\n\\item 'r2\\_depth'\n\\item 'r2\\_plot'\n\\item 'sim\\_id'\n\\item 'geom'\n\\end{enumerate*}\n",
            "text/plain": [
              " [1] \"PLOT\"                       \"SOC_Mg_Ha\"                 \n",
              " [3] \"DEPTH_UPPER\"                \"DEPTH_LOWER\"               \n",
              " [5] \"county_name\"                \"id\"                        \n",
              " [7] \"left\"                       \"top\"                       \n",
              " [9] \"right\"                      \"bottom\"                    \n",
              "[11] \"water\"                      \"trees\"                     \n",
              "[13] \"grass\"                      \"flooded_vegetation\"        \n",
              "[15] \"crops\"                      \"shrub_and_scrub\"           \n",
              "[17] \"built\"                      \"bare\"                      \n",
              "[19] \"snow_and_ice\"               \"elevation\"                 \n",
              "[21] \"landform\"                   \"SRTM_mTPI\"                 \n",
              "[23] \"aet\"                        \"def\"                       \n",
              "[25] \"pdsi\"                       \"pet\"                       \n",
              "[27] \"pr\"                         \"ro\"                        \n",
              "[29] \"soil\"                       \"srad\"                      \n",
              "[31] \"swe\"                        \"tmmn\"                      \n",
              "[33] \"tmmx\"                       \"vap\"                       \n",
              "[35] \"vpd\"                        \"vs\"                        \n",
              "[37] \"agbd_m\"                     \"agbd_sd\"                   \n",
              "[39] \"agbd_n\"                     \"majorcomposition\"          \n",
              "[41] \"age_years\"                  \"Age_Class\"                 \n",
              "[43] \"predicted\"                  \"var_imp_DEPTH_UPPER\"       \n",
              "[45] \"var_imp_DEPTH_LOWER\"        \"var_imp_water\"             \n",
              "[47] \"var_imp_trees\"              \"var_imp_grass\"             \n",
              "[49] \"var_imp_flooded_vegetation\" \"var_imp_crops\"             \n",
              "[51] \"var_imp_shrub_and_scrub\"    \"var_imp_built\"             \n",
              "[53] \"var_imp_bare\"               \"var_imp_snow_and_ice\"      \n",
              "[55] \"var_imp_elevation\"          \"var_imp_landform\"          \n",
              "[57] \"var_imp_SRTM_mTPI\"          \"var_imp_aet\"               \n",
              "[59] \"var_imp_def\"                \"var_imp_pdsi\"              \n",
              "[61] \"var_imp_pet\"                \"var_imp_pr\"                \n",
              "[63] \"var_imp_ro\"                 \"var_imp_soil\"              \n",
              "[65] \"var_imp_srad\"               \"var_imp_swe\"               \n",
              "[67] \"var_imp_tmmn\"               \"var_imp_tmmx\"              \n",
              "[69] \"var_imp_vap\"                \"var_imp_vpd\"               \n",
              "[71] \"var_imp_vs\"                 \"var_imp_agbd_m\"            \n",
              "[73] \"var_imp_agbd_sd\"            \"var_imp_agbd_n\"            \n",
              "[75] \"var_imp_majorcomposition\"   \"var_imp_age_years\"         \n",
              "[77] \"var_imp_Age_Class\"          \"r2_depth\"                  \n",
              "[79] \"r2_plot\"                    \"sim_id\"                    \n",
              "[81] \"geom\"                      "
            ]
          },
          "metadata": {}
        }
      ]
    },
    {
      "cell_type": "code",
      "source": [
        "remove_names <- c('SOC_Mg_Ha','DEPTH_UPPER','DEPTH_LOWER','predicted','geom') %>% match(names(sim_dt))\n",
        "remove_names"
      ],
      "metadata": {
        "colab": {
          "base_uri": "https://localhost:8080/",
          "height": 34
        },
        "id": "PpqhuI1dUy8y",
        "outputId": "772fccfe-5862-40fa-8e51-f4d20e7a5052"
      },
      "execution_count": 319,
      "outputs": [
        {
          "output_type": "display_data",
          "data": {
            "text/html": [
              "<style>\n",
              ".list-inline {list-style: none; margin:0; padding: 0}\n",
              ".list-inline>li {display: inline-block}\n",
              ".list-inline>li:not(:last-child)::after {content: \"\\00b7\"; padding: 0 .5ex}\n",
              "</style>\n",
              "<ol class=list-inline><li>2</li><li>3</li><li>4</li><li>43</li><li>81</li></ol>\n"
            ],
            "text/markdown": "1. 2\n2. 3\n3. 4\n4. 43\n5. 81\n\n\n",
            "text/latex": "\\begin{enumerate*}\n\\item 2\n\\item 3\n\\item 4\n\\item 43\n\\item 81\n\\end{enumerate*}\n",
            "text/plain": [
              "[1]  2  3  4 43 81"
            ]
          },
          "metadata": {}
        }
      ]
    },
    {
      "cell_type": "code",
      "source": [
        "sim_dt %>% nrow()\n",
        "sim_no_depth_dt <- sim_dt[,names(sim_dt)[-c(remove_names)],with=FALSE] %>% unique\n",
        "sim_no_depth_dt %>% nrow()"
      ],
      "metadata": {
        "id": "8b0LmUeZ1RIS",
        "colab": {
          "base_uri": "https://localhost:8080/",
          "height": 52
        },
        "outputId": "c52c650f-9bed-48d8-a2aa-8a66f308d761"
      },
      "execution_count": 320,
      "outputs": [
        {
          "output_type": "display_data",
          "data": {
            "text/html": [
              "9510000"
            ],
            "text/markdown": "9510000",
            "text/latex": "9510000",
            "text/plain": [
              "[1] 9510000"
            ]
          },
          "metadata": {}
        },
        {
          "output_type": "display_data",
          "data": {
            "text/html": [
              "3360000"
            ],
            "text/markdown": "3360000",
            "text/latex": "3360000",
            "text/plain": [
              "[1] 3360000"
            ]
          },
          "metadata": {}
        }
      ]
    },
    {
      "cell_type": "code",
      "source": [
        "sim_no_depth_dt %>% nrow"
      ],
      "metadata": {
        "id": "URaRsGg77gP8",
        "colab": {
          "base_uri": "https://localhost:8080/",
          "height": 34
        },
        "outputId": "6d9a1984-73fb-449b-98b6-872616a7bb86"
      },
      "execution_count": 321,
      "outputs": [
        {
          "output_type": "display_data",
          "data": {
            "text/html": [
              "3360000"
            ],
            "text/markdown": "3360000",
            "text/latex": "3360000",
            "text/plain": [
              "[1] 3360000"
            ]
          },
          "metadata": {}
        }
      ]
    },
    {
      "cell_type": "code",
      "source": [],
      "metadata": {
        "id": "mSRxkfQYYXmL",
        "outputId": "f889287a-70d2-4327-d882-47c620058061",
        "colab": {
          "base_uri": "https://localhost:8080/",
          "height": 34
        }
      },
      "execution_count": 154,
      "outputs": [
        {
          "output_type": "display_data",
          "data": {
            "text/html": [
              "18666.6666666667"
            ],
            "text/markdown": "18666.6666666667",
            "text/latex": "18666.6666666667",
            "text/plain": [
              "[1] 18666.67"
            ]
          },
          "metadata": {}
        }
      ]
    },
    {
      "cell_type": "code",
      "source": [
        "sim_c_no_depth_dt <- sim_dt[,list(SOC_Mg_Ha=sum(SOC_Mg_Ha),predicted = sum(predicted),geom = unique(geom)),by = .(PLOT,sim_id)]\n",
        "# sim_c_no_depth_dt <- sim_c_no_depth_dt %>% unique()"
      ],
      "metadata": {
        "id": "8NKWwxr33VUC"
      },
      "execution_count": 322,
      "outputs": []
    },
    {
      "cell_type": "code",
      "source": [
        "sim_c_no_depth_dt %>% nrow()"
      ],
      "metadata": {
        "colab": {
          "base_uri": "https://localhost:8080/",
          "height": 34
        },
        "id": "m4Eh5SvaVX8C",
        "outputId": "ce0f644b-3a67-46c2-d86d-2e4696bcf6df"
      },
      "execution_count": 323,
      "outputs": [
        {
          "output_type": "display_data",
          "data": {
            "text/html": [
              "3360000"
            ],
            "text/markdown": "3360000",
            "text/latex": "3360000",
            "text/plain": [
              "[1] 3360000"
            ]
          },
          "metadata": {}
        }
      ]
    },
    {
      "cell_type": "code",
      "source": [
        "# (sim_no_depth_dt$PLOT %in% sim_c_no_depth_dt$PLOT & sim_no_depth_dt$sim_id %in% sim_c_no_depth_dt$sim_id ) %>% table"
      ],
      "metadata": {
        "id": "xr1eyeQf5G3P"
      },
      "execution_count": 39,
      "outputs": []
    },
    {
      "cell_type": "code",
      "source": [
        "# sim_c_no_depth_dt"
      ],
      "metadata": {
        "id": "kqmVG3x85FIq"
      },
      "execution_count": null,
      "outputs": []
    },
    {
      "cell_type": "code",
      "source": [
        "sim_c_sum_dt <- merge(sim_c_no_depth_dt,sim_no_depth_dt,match = c('PLOT','sim_dt'))"
      ],
      "metadata": {
        "id": "6QQLaxXYzouC"
      },
      "execution_count": 324,
      "outputs": []
    },
    {
      "cell_type": "code",
      "source": [
        " geom_dt <- sim_c_sum_dt[,list(geom=unique(geom) ),by=id] %>% st_as_sf() %>% st_set_crs(4326)\n",
        " poly_int <- st_intersects(geom_dt,big_polys_dt %>% st_as_sf %>% st_buffer(0) %>% st_transform(4326))"
      ],
      "metadata": {
        "id": "M6rVpf4zkXsT"
      },
      "execution_count": 325,
      "outputs": []
    },
    {
      "cell_type": "code",
      "source": [
        "geom_dt$big_poly_id <- poly_int %>% lapply(function(x){big_polys_dt$id[x[1]]}) %>% unlist"
      ],
      "metadata": {
        "id": "r19zzXOKqVAm"
      },
      "execution_count": 326,
      "outputs": []
    },
    {
      "cell_type": "code",
      "source": [
        "sim_c_sum_dt$big_poly_id <-  geom_dt$big_poly_id[match(sim_c_sum_dt$id,geom_dt$id)]"
      ],
      "metadata": {
        "id": "3tuj7gempSo8"
      },
      "execution_count": 327,
      "outputs": []
    },
    {
      "cell_type": "code",
      "source": [
        "# sim_c_sum_dt"
      ],
      "metadata": {
        "id": "fTv1NopYpEXa"
      },
      "execution_count": 246,
      "outputs": []
    },
    {
      "cell_type": "code",
      "source": [
        "# sim_c_sum_dt %>% names"
      ],
      "metadata": {
        "id": "zTAcSa098igz"
      },
      "execution_count": 42,
      "outputs": []
    },
    {
      "cell_type": "code",
      "source": [
        "sim_c_sum_dt[,z:=predicted-SOC_Mg_Ha]"
      ],
      "metadata": {
        "id": "UxooKXbS8BXx"
      },
      "execution_count": 328,
      "outputs": []
    },
    {
      "cell_type": "code",
      "source": [
        "sim_c_sum_dt[,rmse:=mean(((predicted-SOC_Mg_Ha))^2),by =.(PLOT,id)]"
      ],
      "metadata": {
        "id": "6S_bCu_x31Z3"
      },
      "execution_count": 122,
      "outputs": []
    },
    {
      "cell_type": "code",
      "source": [
        "sim_c_sum_dt[,rmse_p:=mean(((predicted-SOC_Mg_Ha)/SOC_Mg_Ha)^2),by =.(PLOT,id)]"
      ],
      "metadata": {
        "id": "OSvG7HTn88ju"
      },
      "execution_count": 329,
      "outputs": []
    },
    {
      "cell_type": "code",
      "source": [
        "sim_c_sum_dt[rmse_p<.01,list(SOC_Mg_Ha = mean(SOC_Mg_Ha %>% as.numeric)),by = PLOT]$SOC_Mg_Ha %>% quantile(c(0,.2,.4,.6,.8,1))"
      ],
      "metadata": {
        "id": "THAtqXmVhgkJ",
        "colab": {
          "base_uri": "https://localhost:8080/",
          "height": 52
        },
        "outputId": "aab68642-5b10-402d-be62-830a84fe5ce5"
      },
      "execution_count": 330,
      "outputs": [
        {
          "output_type": "display_data",
          "data": {
            "text/html": [
              "<style>\n",
              ".dl-inline {width: auto; margin:0; padding: 0}\n",
              ".dl-inline>dt, .dl-inline>dd {float: none; width: auto; display: inline-block}\n",
              ".dl-inline>dt::after {content: \":\\0020\"; padding-right: .5ex}\n",
              ".dl-inline>dt:not(:first-of-type) {padding-left: .5ex}\n",
              "</style><dl class=dl-inline><dt>0%</dt><dd>53.5008543054631</dd><dt>20%</dt><dd>104.445782213072</dd><dt>40%</dt><dd>193.454400774048</dd><dt>60%</dt><dd>234.428667507306</dd><dt>80%</dt><dd>309.813888575643</dd><dt>100%</dt><dd>535.688692205937</dd></dl>\n"
            ],
            "text/markdown": "0%\n:   53.500854305463120%\n:   104.44578221307240%\n:   193.45440077404860%\n:   234.42866750730680%\n:   309.813888575643100%\n:   535.688692205937\n\n",
            "text/latex": "\\begin{description*}\n\\item[0\\textbackslash{}\\%] 53.5008543054631\n\\item[20\\textbackslash{}\\%] 104.445782213072\n\\item[40\\textbackslash{}\\%] 193.454400774048\n\\item[60\\textbackslash{}\\%] 234.428667507306\n\\item[80\\textbackslash{}\\%] 309.813888575643\n\\item[100\\textbackslash{}\\%] 535.688692205937\n\\end{description*}\n",
            "text/plain": [
              "       0%       20%       40%       60%       80%      100% \n",
              " 53.50085 104.44578 193.45440 234.42867 309.81389 535.68869 "
            ]
          },
          "metadata": {}
        }
      ]
    },
    {
      "cell_type": "code",
      "source": [
        "sim_c_sum_dt[,list(Stock_SOC_Mg_Ha = mean(SOC_Mg_Ha %>% as.numeric)),by = PLOT] %>%\n",
        "  ggplot(aes(x=Stock_SOC_Mg_Ha))+\n",
        "  geom_histogram()"
      ],
      "metadata": {
        "colab": {
          "base_uri": "https://localhost:8080/",
          "height": 455
        },
        "id": "TOX04JHCV9ou",
        "outputId": "5ecbb123-c3f2-4766-dacf-72e8ff4ed24c"
      },
      "execution_count": 331,
      "outputs": [
        {
          "output_type": "stream",
          "name": "stderr",
          "text": [
            "\u001b[1m\u001b[22m`stat_bin()` using `bins = 30`. Pick better value with `binwidth`.\n"
          ]
        },
        {
          "output_type": "display_data",
          "data": {
            "text/plain": [
              "plot without title"
            ],
            "image/png": "[encoded data removed]"
          },
          "metadata": {
            "image/png": {
              "width": 420,
              "height": 420
            }
          }
        }
      ]
    },
    {
      "cell_type": "code",
      "source": [
        "sim_c_sum_dt %>%names"
      ],
      "metadata": {
        "id": "eLaHMIdimtoG",
        "outputId": "00b113a3-93f8-499a-d2ac-a24f3f562202",
        "colab": {
          "base_uri": "https://localhost:8080/",
          "height": 243
        }
      },
      "execution_count": 133,
      "outputs": [
        {
          "output_type": "display_data",
          "data": {
            "text/html": [
              "<style>\n",
              ".list-inline {list-style: none; margin:0; padding: 0}\n",
              ".list-inline>li {display: inline-block}\n",
              ".list-inline>li:not(:last-child)::after {content: \"\\00b7\"; padding: 0 .5ex}\n",
              "</style>\n",
              "<ol class=list-inline><li>'PLOT'</li><li>'sim_id'</li><li>'SOC_Mg_Ha'</li><li>'predicted'</li><li>'geom'</li><li>'county_name'</li><li>'id'</li><li>'left'</li><li>'top'</li><li>'right'</li><li>'bottom'</li><li>'water'</li><li>'trees'</li><li>'grass'</li><li>'flooded_vegetation'</li><li>'crops'</li><li>'shrub_and_scrub'</li><li>'built'</li><li>'bare'</li><li>'snow_and_ice'</li><li>'elevation'</li><li>'landform'</li><li>'SRTM_mTPI'</li><li>'aet'</li><li>'def'</li><li>'pdsi'</li><li>'pet'</li><li>'pr'</li><li>'ro'</li><li>'soil'</li><li>'srad'</li><li>'swe'</li><li>'tmmn'</li><li>'tmmx'</li><li>'vap'</li><li>'vpd'</li><li>'vs'</li><li>'agbd_m'</li><li>'agbd_sd'</li><li>'agbd_n'</li><li>'majorcomposition'</li><li>'age_years'</li><li>'Age_Class'</li><li>'var_imp_DEPTH_UPPER'</li><li>'var_imp_DEPTH_LOWER'</li><li>'var_imp_water'</li><li>'var_imp_trees'</li><li>'var_imp_grass'</li><li>'var_imp_flooded_vegetation'</li><li>'var_imp_crops'</li><li>'var_imp_shrub_and_scrub'</li><li>'var_imp_built'</li><li>'var_imp_bare'</li><li>'var_imp_snow_and_ice'</li><li>'var_imp_elevation'</li><li>'var_imp_landform'</li><li>'var_imp_SRTM_mTPI'</li><li>'var_imp_aet'</li><li>'var_imp_def'</li><li>'var_imp_pdsi'</li><li>'var_imp_pet'</li><li>'var_imp_pr'</li><li>'var_imp_ro'</li><li>'var_imp_soil'</li><li>'var_imp_srad'</li><li>'var_imp_swe'</li><li>'var_imp_tmmn'</li><li>'var_imp_tmmx'</li><li>'var_imp_vap'</li><li>'var_imp_vpd'</li><li>'var_imp_vs'</li><li>'var_imp_agbd_m'</li><li>'var_imp_agbd_sd'</li><li>'var_imp_agbd_n'</li><li>'var_imp_majorcomposition'</li><li>'var_imp_age_years'</li><li>'var_imp_Age_Class'</li><li>'r2_depth'</li><li>'r2_plot'</li><li>'z'</li><li>'rmse'</li><li>'rmse_p'</li></ol>\n"
            ],
            "text/markdown": "1. 'PLOT'\n2. 'sim_id'\n3. 'SOC_Mg_Ha'\n4. 'predicted'\n5. 'geom'\n6. 'county_name'\n7. 'id'\n8. 'left'\n9. 'top'\n10. 'right'\n11. 'bottom'\n12. 'water'\n13. 'trees'\n14. 'grass'\n15. 'flooded_vegetation'\n16. 'crops'\n17. 'shrub_and_scrub'\n18. 'built'\n19. 'bare'\n20. 'snow_and_ice'\n21. 'elevation'\n22. 'landform'\n23. 'SRTM_mTPI'\n24. 'aet'\n25. 'def'\n26. 'pdsi'\n27. 'pet'\n28. 'pr'\n29. 'ro'\n30. 'soil'\n31. 'srad'\n32. 'swe'\n33. 'tmmn'\n34. 'tmmx'\n35. 'vap'\n36. 'vpd'\n37. 'vs'\n38. 'agbd_m'\n39. 'agbd_sd'\n40. 'agbd_n'\n41. 'majorcomposition'\n42. 'age_years'\n43. 'Age_Class'\n44. 'var_imp_DEPTH_UPPER'\n45. 'var_imp_DEPTH_LOWER'\n46. 'var_imp_water'\n47. 'var_imp_trees'\n48. 'var_imp_grass'\n49. 'var_imp_flooded_vegetation'\n50. 'var_imp_crops'\n51. 'var_imp_shrub_and_scrub'\n52. 'var_imp_built'\n53. 'var_imp_bare'\n54. 'var_imp_snow_and_ice'\n55. 'var_imp_elevation'\n56. 'var_imp_landform'\n57. 'var_imp_SRTM_mTPI'\n58. 'var_imp_aet'\n59. 'var_imp_def'\n60. 'var_imp_pdsi'\n61. 'var_imp_pet'\n62. 'var_imp_pr'\n63. 'var_imp_ro'\n64. 'var_imp_soil'\n65. 'var_imp_srad'\n66. 'var_imp_swe'\n67. 'var_imp_tmmn'\n68. 'var_imp_tmmx'\n69. 'var_imp_vap'\n70. 'var_imp_vpd'\n71. 'var_imp_vs'\n72. 'var_imp_agbd_m'\n73. 'var_imp_agbd_sd'\n74. 'var_imp_agbd_n'\n75. 'var_imp_majorcomposition'\n76. 'var_imp_age_years'\n77. 'var_imp_Age_Class'\n78. 'r2_depth'\n79. 'r2_plot'\n80. 'z'\n81. 'rmse'\n82. 'rmse_p'\n\n\n",
            "text/latex": "\\begin{enumerate*}\n\\item 'PLOT'\n\\item 'sim\\_id'\n\\item 'SOC\\_Mg\\_Ha'\n\\item 'predicted'\n\\item 'geom'\n\\item 'county\\_name'\n\\item 'id'\n\\item 'left'\n\\item 'top'\n\\item 'right'\n\\item 'bottom'\n\\item 'water'\n\\item 'trees'\n\\item 'grass'\n\\item 'flooded\\_vegetation'\n\\item 'crops'\n\\item 'shrub\\_and\\_scrub'\n\\item 'built'\n\\item 'bare'\n\\item 'snow\\_and\\_ice'\n\\item 'elevation'\n\\item 'landform'\n\\item 'SRTM\\_mTPI'\n\\item 'aet'\n\\item 'def'\n\\item 'pdsi'\n\\item 'pet'\n\\item 'pr'\n\\item 'ro'\n\\item 'soil'\n\\item 'srad'\n\\item 'swe'\n\\item 'tmmn'\n\\item 'tmmx'\n\\item 'vap'\n\\item 'vpd'\n\\item 'vs'\n\\item 'agbd\\_m'\n\\item 'agbd\\_sd'\n\\item 'agbd\\_n'\n\\item 'majorcomposition'\n\\item 'age\\_years'\n\\item 'Age\\_Class'\n\\item 'var\\_imp\\_DEPTH\\_UPPER'\n\\item 'var\\_imp\\_DEPTH\\_LOWER'\n\\item 'var\\_imp\\_water'\n\\item 'var\\_imp\\_trees'\n\\item 'var\\_imp\\_grass'\n\\item 'var\\_imp\\_flooded\\_vegetation'\n\\item 'var\\_imp\\_crops'\n\\item 'var\\_imp\\_shrub\\_and\\_scrub'\n\\item 'var\\_imp\\_built'\n\\item 'var\\_imp\\_bare'\n\\item 'var\\_imp\\_snow\\_and\\_ice'\n\\item 'var\\_imp\\_elevation'\n\\item 'var\\_imp\\_landform'\n\\item 'var\\_imp\\_SRTM\\_mTPI'\n\\item 'var\\_imp\\_aet'\n\\item 'var\\_imp\\_def'\n\\item 'var\\_imp\\_pdsi'\n\\item 'var\\_imp\\_pet'\n\\item 'var\\_imp\\_pr'\n\\item 'var\\_imp\\_ro'\n\\item 'var\\_imp\\_soil'\n\\item 'var\\_imp\\_srad'\n\\item 'var\\_imp\\_swe'\n\\item 'var\\_imp\\_tmmn'\n\\item 'var\\_imp\\_tmmx'\n\\item 'var\\_imp\\_vap'\n\\item 'var\\_imp\\_vpd'\n\\item 'var\\_imp\\_vs'\n\\item 'var\\_imp\\_agbd\\_m'\n\\item 'var\\_imp\\_agbd\\_sd'\n\\item 'var\\_imp\\_agbd\\_n'\n\\item 'var\\_imp\\_majorcomposition'\n\\item 'var\\_imp\\_age\\_years'\n\\item 'var\\_imp\\_Age\\_Class'\n\\item 'r2\\_depth'\n\\item 'r2\\_plot'\n\\item 'z'\n\\item 'rmse'\n\\item 'rmse\\_p'\n\\end{enumerate*}\n",
            "text/plain": [
              " [1] \"PLOT\"                       \"sim_id\"                    \n",
              " [3] \"SOC_Mg_Ha\"                  \"predicted\"                 \n",
              " [5] \"geom\"                       \"county_name\"               \n",
              " [7] \"id\"                         \"left\"                      \n",
              " [9] \"top\"                        \"right\"                     \n",
              "[11] \"bottom\"                     \"water\"                     \n",
              "[13] \"trees\"                      \"grass\"                     \n",
              "[15] \"flooded_vegetation\"         \"crops\"                     \n",
              "[17] \"shrub_and_scrub\"            \"built\"                     \n",
              "[19] \"bare\"                       \"snow_and_ice\"              \n",
              "[21] \"elevation\"                  \"landform\"                  \n",
              "[23] \"SRTM_mTPI\"                  \"aet\"                       \n",
              "[25] \"def\"                        \"pdsi\"                      \n",
              "[27] \"pet\"                        \"pr\"                        \n",
              "[29] \"ro\"                         \"soil\"                      \n",
              "[31] \"srad\"                       \"swe\"                       \n",
              "[33] \"tmmn\"                       \"tmmx\"                      \n",
              "[35] \"vap\"                        \"vpd\"                       \n",
              "[37] \"vs\"                         \"agbd_m\"                    \n",
              "[39] \"agbd_sd\"                    \"agbd_n\"                    \n",
              "[41] \"majorcomposition\"           \"age_years\"                 \n",
              "[43] \"Age_Class\"                  \"var_imp_DEPTH_UPPER\"       \n",
              "[45] \"var_imp_DEPTH_LOWER\"        \"var_imp_water\"             \n",
              "[47] \"var_imp_trees\"              \"var_imp_grass\"             \n",
              "[49] \"var_imp_flooded_vegetation\" \"var_imp_crops\"             \n",
              "[51] \"var_imp_shrub_and_scrub\"    \"var_imp_built\"             \n",
              "[53] \"var_imp_bare\"               \"var_imp_snow_and_ice\"      \n",
              "[55] \"var_imp_elevation\"          \"var_imp_landform\"          \n",
              "[57] \"var_imp_SRTM_mTPI\"          \"var_imp_aet\"               \n",
              "[59] \"var_imp_def\"                \"var_imp_pdsi\"              \n",
              "[61] \"var_imp_pet\"                \"var_imp_pr\"                \n",
              "[63] \"var_imp_ro\"                 \"var_imp_soil\"              \n",
              "[65] \"var_imp_srad\"               \"var_imp_swe\"               \n",
              "[67] \"var_imp_tmmn\"               \"var_imp_tmmx\"              \n",
              "[69] \"var_imp_vap\"                \"var_imp_vpd\"               \n",
              "[71] \"var_imp_vs\"                 \"var_imp_agbd_m\"            \n",
              "[73] \"var_imp_agbd_sd\"            \"var_imp_agbd_n\"            \n",
              "[75] \"var_imp_majorcomposition\"   \"var_imp_age_years\"         \n",
              "[77] \"var_imp_Age_Class\"          \"r2_depth\"                  \n",
              "[79] \"r2_plot\"                    \"z\"                         \n",
              "[81] \"rmse\"                       \"rmse_p\"                    "
            ]
          },
          "metadata": {}
        }
      ]
    },
    {
      "cell_type": "code",
      "source": [
        "sim_c_sum_dt %>%\n",
        "  ggplot(aes(x=r2_depth))+\n",
        "  geom_histogram()\n",
        "\n",
        "# sim_c_sum_dt[rmse_p<.01] %>%\n",
        "#   ggplot(aes(x=r2_plot))+\n",
        "#   geom_histogram()"
      ],
      "metadata": {
        "colab": {
          "base_uri": "https://localhost:8080/",
          "height": 455
        },
        "id": "TegWt6JhVl9o",
        "outputId": "b10d6379-eecf-4271-f76e-73fd695e1b20"
      },
      "execution_count": 332,
      "outputs": [
        {
          "output_type": "stream",
          "name": "stderr",
          "text": [
            "\u001b[1m\u001b[22m`stat_bin()` using `bins = 30`. Pick better value with `binwidth`.\n"
          ]
        },
        {
          "output_type": "display_data",
          "data": {
            "text/plain": [
              "plot without title"
            ],
            "image/png": "[encoded data removed]"
          },
          "metadata": {
            "image/png": {
              "width": 420,
              "height": 420
            }
          }
        }
      ]
    },
    {
      "cell_type": "code",
      "source": [
        "# 175,250,325,475"
      ],
      "metadata": {
        "id": "cez1JB_aZ7W5"
      },
      "execution_count": null,
      "outputs": []
    },
    {
      "cell_type": "code",
      "source": [
        "head(sim_c_sum_dt)"
      ],
      "metadata": {
        "id": "FRxKPWnc2baJ",
        "colab": {
          "base_uri": "https://localhost:8080/",
          "height": 410
        },
        "outputId": "e00aecf3-b4e0-45d7-dc4b-b5ea081c0b1e"
      },
      "execution_count": 311,
      "outputs": [
        {
          "output_type": "display_data",
          "data": {
            "text/html": [
              "<table class=\"dataframe\">\n",
              "<caption>A data.table: 6 × 86</caption>\n",
              "<thead>\n",
              "\t<tr><th scope=col>PLOT</th><th scope=col>sim_id</th><th scope=col>SOC_Mg_Ha</th><th scope=col>predicted</th><th scope=col>geom</th><th scope=col>county_name</th><th scope=col>id</th><th scope=col>left</th><th scope=col>top</th><th scope=col>right</th><th scope=col>⋯</th><th scope=col>var_imp_Age_Class</th><th scope=col>r2_depth</th><th scope=col>r2_plot</th><th scope=col>z</th><th scope=col>rmse</th><th scope=col>rmse_p</th><th scope=col>group_quantile</th><th scope=col>n_pred</th><th scope=col>n_pred_good</th><th scope=col>big_poly_id</th></tr>\n",
              "\t<tr><th scope=col>&lt;chr&gt;</th><th scope=col>&lt;dbl&gt;</th><th scope=col>&lt;dbl&gt;</th><th scope=col>&lt;dbl&gt;</th><th scope=col>&lt;list&gt;</th><th scope=col>&lt;chr&gt;</th><th scope=col>&lt;dbl&gt;</th><th scope=col>&lt;dbl&gt;</th><th scope=col>&lt;dbl&gt;</th><th scope=col>&lt;dbl&gt;</th><th scope=col>⋯</th><th scope=col>&lt;dbl&gt;</th><th scope=col>&lt;dbl&gt;</th><th scope=col>&lt;dbl&gt;</th><th scope=col>&lt;dbl&gt;</th><th scope=col>&lt;dbl&gt;</th><th scope=col>&lt;dbl&gt;</th><th scope=col>&lt;ord&gt;</th><th scope=col>&lt;int&gt;</th><th scope=col>&lt;int&gt;</th><th scope=col>&lt;dbl&gt;</th></tr>\n",
              "</thead>\n",
              "<tbody>\n",
              "\t<tr><td>2159</td><td>110001</td><td>421.2431</td><td>364.1446</td><td>-155.73756, 20.13136</td><td>Hawaii</td><td>2559062</td><td>475161.4</td><td>143702.3</td><td>475411.4</td><td>⋯</td><td>10068.701</td><td>0.2803563</td><td>0.8598157</td><td>-57.098492</td><td>1467.7746</td><td>0.008271682</td><td>(325,475]</td><td>14</td><td>14</td><td>1</td></tr>\n",
              "\t<tr><td>2159</td><td>110002</td><td>421.2431</td><td>365.7547</td><td>-155.75431, 20.13812</td><td>Hawaii</td><td>2548538</td><td>473411.4</td><td>144452.3</td><td>473661.4</td><td>⋯</td><td> 8538.018</td><td>0.2511020</td><td>0.8431665</td><td>-55.488390</td><td>1081.2421</td><td>0.006093368</td><td>(325,475]</td><td>15</td><td>15</td><td>1</td></tr>\n",
              "\t<tr><td>2159</td><td>110003</td><td>421.2431</td><td>401.9281</td><td>-155.72321, 20.12913</td><td>Hawaii</td><td>2568081</td><td>476661.4</td><td>143452.3</td><td>476911.4</td><td>⋯</td><td>26425.264</td><td>0.2656619</td><td>0.8547523</td><td>-19.314940</td><td>2677.3673</td><td>0.015088373</td><td>(325,475]</td><td>17</td><td> 0</td><td>1</td></tr>\n",
              "\t<tr><td>2159</td><td>110004</td><td>421.2431</td><td>396.3006</td><td>-155.77358, 20.21939</td><td>Hawaii</td><td>2536478</td><td>471411.4</td><td>153452.3</td><td>471661.4</td><td>⋯</td><td>12181.745</td><td>0.2773296</td><td>0.8420684</td><td>-24.942471</td><td>1961.1487</td><td>0.011052104</td><td>(325,475]</td><td>19</td><td> 0</td><td>1</td></tr>\n",
              "\t<tr><td>2159</td><td>110005</td><td>421.2431</td><td>416.2800</td><td>-155.73281, 20.15395</td><td>Hawaii</td><td>2562058</td><td>475661.4</td><td>146202.3</td><td>475911.4</td><td>⋯</td><td>11710.814</td><td>0.2546325</td><td>0.8623375</td><td> -4.963105</td><td> 807.4167</td><td>0.004550218</td><td>(325,475]</td><td>18</td><td>18</td><td>1</td></tr>\n",
              "\t<tr><td>2159</td><td>110006</td><td>421.2431</td><td>373.3085</td><td>-155.72324, 20.14719</td><td>Hawaii</td><td>2568073</td><td>476661.4</td><td>145452.3</td><td>476911.4</td><td>⋯</td><td>10585.007</td><td>0.2854975</td><td>0.8509950</td><td>-47.934564</td><td>1823.5455</td><td>0.010276638</td><td>(325,475]</td><td>13</td><td> 0</td><td>1</td></tr>\n",
              "</tbody>\n",
              "</table>\n"
            ],
            "text/markdown": "\nA data.table: 6 × 86\n\n| PLOT &lt;chr&gt; | sim_id &lt;dbl&gt; | SOC_Mg_Ha &lt;dbl&gt; | predicted &lt;dbl&gt; | geom &lt;list&gt; | county_name &lt;chr&gt; | id &lt;dbl&gt; | left &lt;dbl&gt; | top &lt;dbl&gt; | right &lt;dbl&gt; | ⋯ ⋯ | var_imp_Age_Class &lt;dbl&gt; | r2_depth &lt;dbl&gt; | r2_plot &lt;dbl&gt; | z &lt;dbl&gt; | rmse &lt;dbl&gt; | rmse_p &lt;dbl&gt; | group_quantile &lt;ord&gt; | n_pred &lt;int&gt; | n_pred_good &lt;int&gt; | big_poly_id &lt;dbl&gt; |\n|---|---|---|---|---|---|---|---|---|---|---|---|---|---|---|---|---|---|---|---|---|\n| 2159 | 110001 | 421.2431 | 364.1446 | -155.73756, 20.13136 | Hawaii | 2559062 | 475161.4 | 143702.3 | 475411.4 | ⋯ | 10068.701 | 0.2803563 | 0.8598157 | -57.098492 | 1467.7746 | 0.008271682 | (325,475] | 14 | 14 | 1 |\n| 2159 | 110002 | 421.2431 | 365.7547 | -155.75431, 20.13812 | Hawaii | 2548538 | 473411.4 | 144452.3 | 473661.4 | ⋯ |  8538.018 | 0.2511020 | 0.8431665 | -55.488390 | 1081.2421 | 0.006093368 | (325,475] | 15 | 15 | 1 |\n| 2159 | 110003 | 421.2431 | 401.9281 | -155.72321, 20.12913 | Hawaii | 2568081 | 476661.4 | 143452.3 | 476911.4 | ⋯ | 26425.264 | 0.2656619 | 0.8547523 | -19.314940 | 2677.3673 | 0.015088373 | (325,475] | 17 |  0 | 1 |\n| 2159 | 110004 | 421.2431 | 396.3006 | -155.77358, 20.21939 | Hawaii | 2536478 | 471411.4 | 153452.3 | 471661.4 | ⋯ | 12181.745 | 0.2773296 | 0.8420684 | -24.942471 | 1961.1487 | 0.011052104 | (325,475] | 19 |  0 | 1 |\n| 2159 | 110005 | 421.2431 | 416.2800 | -155.73281, 20.15395 | Hawaii | 2562058 | 475661.4 | 146202.3 | 475911.4 | ⋯ | 11710.814 | 0.2546325 | 0.8623375 |  -4.963105 |  807.4167 | 0.004550218 | (325,475] | 18 | 18 | 1 |\n| 2159 | 110006 | 421.2431 | 373.3085 | -155.72324, 20.14719 | Hawaii | 2568073 | 476661.4 | 145452.3 | 476911.4 | ⋯ | 10585.007 | 0.2854975 | 0.8509950 | -47.934564 | 1823.5455 | 0.010276638 | (325,475] | 13 |  0 | 1 |\n\n",
            "text/latex": "A data.table: 6 × 86\n\\begin{tabular}{lllllllllllllllllllll}\n PLOT & sim\\_id & SOC\\_Mg\\_Ha & predicted & geom & county\\_name & id & left & top & right & ⋯ & var\\_imp\\_Age\\_Class & r2\\_depth & r2\\_plot & z & rmse & rmse\\_p & group\\_quantile & n\\_pred & n\\_pred\\_good & big\\_poly\\_id\\\\\n <chr> & <dbl> & <dbl> & <dbl> & <list> & <chr> & <dbl> & <dbl> & <dbl> & <dbl> & ⋯ & <dbl> & <dbl> & <dbl> & <dbl> & <dbl> & <dbl> & <ord> & <int> & <int> & <dbl>\\\\\n\\hline\n\t 2159 & 110001 & 421.2431 & 364.1446 & -155.73756, 20.13136 & Hawaii & 2559062 & 475161.4 & 143702.3 & 475411.4 & ⋯ & 10068.701 & 0.2803563 & 0.8598157 & -57.098492 & 1467.7746 & 0.008271682 & (325,475{]} & 14 & 14 & 1\\\\\n\t 2159 & 110002 & 421.2431 & 365.7547 & -155.75431, 20.13812 & Hawaii & 2548538 & 473411.4 & 144452.3 & 473661.4 & ⋯ &  8538.018 & 0.2511020 & 0.8431665 & -55.488390 & 1081.2421 & 0.006093368 & (325,475{]} & 15 & 15 & 1\\\\\n\t 2159 & 110003 & 421.2431 & 401.9281 & -155.72321, 20.12913 & Hawaii & 2568081 & 476661.4 & 143452.3 & 476911.4 & ⋯ & 26425.264 & 0.2656619 & 0.8547523 & -19.314940 & 2677.3673 & 0.015088373 & (325,475{]} & 17 &  0 & 1\\\\\n\t 2159 & 110004 & 421.2431 & 396.3006 & -155.77358, 20.21939 & Hawaii & 2536478 & 471411.4 & 153452.3 & 471661.4 & ⋯ & 12181.745 & 0.2773296 & 0.8420684 & -24.942471 & 1961.1487 & 0.011052104 & (325,475{]} & 19 &  0 & 1\\\\\n\t 2159 & 110005 & 421.2431 & 416.2800 & -155.73281, 20.15395 & Hawaii & 2562058 & 475661.4 & 146202.3 & 475911.4 & ⋯ & 11710.814 & 0.2546325 & 0.8623375 &  -4.963105 &  807.4167 & 0.004550218 & (325,475{]} & 18 & 18 & 1\\\\\n\t 2159 & 110006 & 421.2431 & 373.3085 & -155.72324, 20.14719 & Hawaii & 2568073 & 476661.4 & 145452.3 & 476911.4 & ⋯ & 10585.007 & 0.2854975 & 0.8509950 & -47.934564 & 1823.5455 & 0.010276638 & (325,475{]} & 13 &  0 & 1\\\\\n\\end{tabular}\n",
            "text/plain": [
              "  PLOT sim_id SOC_Mg_Ha predicted geom                 county_name id     \n",
              "1 2159 110001 421.2431  364.1446  -155.73756, 20.13136 Hawaii      2559062\n",
              "2 2159 110002 421.2431  365.7547  -155.75431, 20.13812 Hawaii      2548538\n",
              "3 2159 110003 421.2431  401.9281  -155.72321, 20.12913 Hawaii      2568081\n",
              "4 2159 110004 421.2431  396.3006  -155.77358, 20.21939 Hawaii      2536478\n",
              "5 2159 110005 421.2431  416.2800  -155.73281, 20.15395 Hawaii      2562058\n",
              "6 2159 110006 421.2431  373.3085  -155.72324, 20.14719 Hawaii      2568073\n",
              "  left     top      right    ⋯ var_imp_Age_Class r2_depth  r2_plot   z         \n",
              "1 475161.4 143702.3 475411.4 ⋯ 10068.701         0.2803563 0.8598157 -57.098492\n",
              "2 473411.4 144452.3 473661.4 ⋯  8538.018         0.2511020 0.8431665 -55.488390\n",
              "3 476661.4 143452.3 476911.4 ⋯ 26425.264         0.2656619 0.8547523 -19.314940\n",
              "4 471411.4 153452.3 471661.4 ⋯ 12181.745         0.2773296 0.8420684 -24.942471\n",
              "5 475661.4 146202.3 475911.4 ⋯ 11710.814         0.2546325 0.8623375  -4.963105\n",
              "6 476661.4 145452.3 476911.4 ⋯ 10585.007         0.2854975 0.8509950 -47.934564\n",
              "  rmse      rmse_p      group_quantile n_pred n_pred_good big_poly_id\n",
              "1 1467.7746 0.008271682 (325,475]      14     14          1          \n",
              "2 1081.2421 0.006093368 (325,475]      15     15          1          \n",
              "3 2677.3673 0.015088373 (325,475]      17      0          1          \n",
              "4 1961.1487 0.011052104 (325,475]      19      0          1          \n",
              "5  807.4167 0.004550218 (325,475]      18     18          1          \n",
              "6 1823.5455 0.010276638 (325,475]      13      0          1          "
            ]
          },
          "metadata": {}
        }
      ]
    },
    {
      "cell_type": "code",
      "source": [
        "sim_c_sum_dt[,group_quantile:= cut(predicted, breaks = c(0,175,250,325,475,1000),include.lowest = T,ordered_result=T)]"
      ],
      "metadata": {
        "id": "YhcIx8jRmiGi"
      },
      "execution_count": 333,
      "outputs": []
    },
    {
      "cell_type": "code",
      "source": [
        "sim_c_sum_dt[,n_pred := length(predicted),by=.(id,group_quantile)]"
      ],
      "metadata": {
        "id": "9-uDevcNsrBs"
      },
      "execution_count": 334,
      "outputs": []
    },
    {
      "cell_type": "code",
      "source": [
        "sim_c_sum_dt[,n_pred_good := length(predicted[rmse_p<.01]),by=.(id,group_quantile)]"
      ],
      "metadata": {
        "id": "KTP5hYW9s3A7"
      },
      "execution_count": 335,
      "outputs": []
    },
    {
      "cell_type": "code",
      "source": [
        "names(sim_c_sum_dt)"
      ],
      "metadata": {
        "id": "xf0SHA1MU0CE",
        "outputId": "d81ecbbb-9dbb-47c0-d54b-308d414b139a",
        "colab": {
          "base_uri": "https://localhost:8080/",
          "height": 243
        }
      },
      "execution_count": 344,
      "outputs": [
        {
          "output_type": "display_data",
          "data": {
            "text/html": [
              "<style>\n",
              ".list-inline {list-style: none; margin:0; padding: 0}\n",
              ".list-inline>li {display: inline-block}\n",
              ".list-inline>li:not(:last-child)::after {content: \"\\00b7\"; padding: 0 .5ex}\n",
              "</style>\n",
              "<ol class=list-inline><li>'PLOT'</li><li>'sim_id'</li><li>'SOC_Mg_Ha'</li><li>'predicted'</li><li>'geom'</li><li>'county_name'</li><li>'id'</li><li>'left'</li><li>'top'</li><li>'right'</li><li>'bottom'</li><li>'water'</li><li>'trees'</li><li>'grass'</li><li>'flooded_vegetation'</li><li>'crops'</li><li>'shrub_and_scrub'</li><li>'built'</li><li>'bare'</li><li>'snow_and_ice'</li><li>'elevation'</li><li>'landform'</li><li>'SRTM_mTPI'</li><li>'aet'</li><li>'def'</li><li>'pdsi'</li><li>'pet'</li><li>'pr'</li><li>'ro'</li><li>'soil'</li><li>'srad'</li><li>'swe'</li><li>'tmmn'</li><li>'tmmx'</li><li>'vap'</li><li>'vpd'</li><li>'vs'</li><li>'agbd_m'</li><li>'agbd_sd'</li><li>'agbd_n'</li><li>'majorcomposition'</li><li>'age_years'</li><li>'Age_Class'</li><li>'var_imp_DEPTH_UPPER'</li><li>'var_imp_DEPTH_LOWER'</li><li>'var_imp_water'</li><li>'var_imp_trees'</li><li>'var_imp_grass'</li><li>'var_imp_flooded_vegetation'</li><li>'var_imp_crops'</li><li>'var_imp_shrub_and_scrub'</li><li>'var_imp_built'</li><li>'var_imp_bare'</li><li>'var_imp_snow_and_ice'</li><li>'var_imp_elevation'</li><li>'var_imp_landform'</li><li>'var_imp_SRTM_mTPI'</li><li>'var_imp_aet'</li><li>'var_imp_def'</li><li>'var_imp_pdsi'</li><li>'var_imp_pet'</li><li>'var_imp_pr'</li><li>'var_imp_ro'</li><li>'var_imp_soil'</li><li>'var_imp_srad'</li><li>'var_imp_swe'</li><li>'var_imp_tmmn'</li><li>'var_imp_tmmx'</li><li>'var_imp_vap'</li><li>'var_imp_vpd'</li><li>'var_imp_vs'</li><li>'var_imp_agbd_m'</li><li>'var_imp_agbd_sd'</li><li>'var_imp_agbd_n'</li><li>'var_imp_majorcomposition'</li><li>'var_imp_age_years'</li><li>'var_imp_Age_Class'</li><li>'r2_depth'</li><li>'r2_plot'</li><li>'big_poly_id'</li><li>'z'</li><li>'rmse_p'</li><li>'group_quantile'</li><li>'n_pred'</li><li>'n_pred_good'</li></ol>\n"
            ],
            "text/markdown": "1. 'PLOT'\n2. 'sim_id'\n3. 'SOC_Mg_Ha'\n4. 'predicted'\n5. 'geom'\n6. 'county_name'\n7. 'id'\n8. 'left'\n9. 'top'\n10. 'right'\n11. 'bottom'\n12. 'water'\n13. 'trees'\n14. 'grass'\n15. 'flooded_vegetation'\n16. 'crops'\n17. 'shrub_and_scrub'\n18. 'built'\n19. 'bare'\n20. 'snow_and_ice'\n21. 'elevation'\n22. 'landform'\n23. 'SRTM_mTPI'\n24. 'aet'\n25. 'def'\n26. 'pdsi'\n27. 'pet'\n28. 'pr'\n29. 'ro'\n30. 'soil'\n31. 'srad'\n32. 'swe'\n33. 'tmmn'\n34. 'tmmx'\n35. 'vap'\n36. 'vpd'\n37. 'vs'\n38. 'agbd_m'\n39. 'agbd_sd'\n40. 'agbd_n'\n41. 'majorcomposition'\n42. 'age_years'\n43. 'Age_Class'\n44. 'var_imp_DEPTH_UPPER'\n45. 'var_imp_DEPTH_LOWER'\n46. 'var_imp_water'\n47. 'var_imp_trees'\n48. 'var_imp_grass'\n49. 'var_imp_flooded_vegetation'\n50. 'var_imp_crops'\n51. 'var_imp_shrub_and_scrub'\n52. 'var_imp_built'\n53. 'var_imp_bare'\n54. 'var_imp_snow_and_ice'\n55. 'var_imp_elevation'\n56. 'var_imp_landform'\n57. 'var_imp_SRTM_mTPI'\n58. 'var_imp_aet'\n59. 'var_imp_def'\n60. 'var_imp_pdsi'\n61. 'var_imp_pet'\n62. 'var_imp_pr'\n63. 'var_imp_ro'\n64. 'var_imp_soil'\n65. 'var_imp_srad'\n66. 'var_imp_swe'\n67. 'var_imp_tmmn'\n68. 'var_imp_tmmx'\n69. 'var_imp_vap'\n70. 'var_imp_vpd'\n71. 'var_imp_vs'\n72. 'var_imp_agbd_m'\n73. 'var_imp_agbd_sd'\n74. 'var_imp_agbd_n'\n75. 'var_imp_majorcomposition'\n76. 'var_imp_age_years'\n77. 'var_imp_Age_Class'\n78. 'r2_depth'\n79. 'r2_plot'\n80. 'big_poly_id'\n81. 'z'\n82. 'rmse_p'\n83. 'group_quantile'\n84. 'n_pred'\n85. 'n_pred_good'\n\n\n",
            "text/latex": "\\begin{enumerate*}\n\\item 'PLOT'\n\\item 'sim\\_id'\n\\item 'SOC\\_Mg\\_Ha'\n\\item 'predicted'\n\\item 'geom'\n\\item 'county\\_name'\n\\item 'id'\n\\item 'left'\n\\item 'top'\n\\item 'right'\n\\item 'bottom'\n\\item 'water'\n\\item 'trees'\n\\item 'grass'\n\\item 'flooded\\_vegetation'\n\\item 'crops'\n\\item 'shrub\\_and\\_scrub'\n\\item 'built'\n\\item 'bare'\n\\item 'snow\\_and\\_ice'\n\\item 'elevation'\n\\item 'landform'\n\\item 'SRTM\\_mTPI'\n\\item 'aet'\n\\item 'def'\n\\item 'pdsi'\n\\item 'pet'\n\\item 'pr'\n\\item 'ro'\n\\item 'soil'\n\\item 'srad'\n\\item 'swe'\n\\item 'tmmn'\n\\item 'tmmx'\n\\item 'vap'\n\\item 'vpd'\n\\item 'vs'\n\\item 'agbd\\_m'\n\\item 'agbd\\_sd'\n\\item 'agbd\\_n'\n\\item 'majorcomposition'\n\\item 'age\\_years'\n\\item 'Age\\_Class'\n\\item 'var\\_imp\\_DEPTH\\_UPPER'\n\\item 'var\\_imp\\_DEPTH\\_LOWER'\n\\item 'var\\_imp\\_water'\n\\item 'var\\_imp\\_trees'\n\\item 'var\\_imp\\_grass'\n\\item 'var\\_imp\\_flooded\\_vegetation'\n\\item 'var\\_imp\\_crops'\n\\item 'var\\_imp\\_shrub\\_and\\_scrub'\n\\item 'var\\_imp\\_built'\n\\item 'var\\_imp\\_bare'\n\\item 'var\\_imp\\_snow\\_and\\_ice'\n\\item 'var\\_imp\\_elevation'\n\\item 'var\\_imp\\_landform'\n\\item 'var\\_imp\\_SRTM\\_mTPI'\n\\item 'var\\_imp\\_aet'\n\\item 'var\\_imp\\_def'\n\\item 'var\\_imp\\_pdsi'\n\\item 'var\\_imp\\_pet'\n\\item 'var\\_imp\\_pr'\n\\item 'var\\_imp\\_ro'\n\\item 'var\\_imp\\_soil'\n\\item 'var\\_imp\\_srad'\n\\item 'var\\_imp\\_swe'\n\\item 'var\\_imp\\_tmmn'\n\\item 'var\\_imp\\_tmmx'\n\\item 'var\\_imp\\_vap'\n\\item 'var\\_imp\\_vpd'\n\\item 'var\\_imp\\_vs'\n\\item 'var\\_imp\\_agbd\\_m'\n\\item 'var\\_imp\\_agbd\\_sd'\n\\item 'var\\_imp\\_agbd\\_n'\n\\item 'var\\_imp\\_majorcomposition'\n\\item 'var\\_imp\\_age\\_years'\n\\item 'var\\_imp\\_Age\\_Class'\n\\item 'r2\\_depth'\n\\item 'r2\\_plot'\n\\item 'big\\_poly\\_id'\n\\item 'z'\n\\item 'rmse\\_p'\n\\item 'group\\_quantile'\n\\item 'n\\_pred'\n\\item 'n\\_pred\\_good'\n\\end{enumerate*}\n",
            "text/plain": [
              " [1] \"PLOT\"                       \"sim_id\"                    \n",
              " [3] \"SOC_Mg_Ha\"                  \"predicted\"                 \n",
              " [5] \"geom\"                       \"county_name\"               \n",
              " [7] \"id\"                         \"left\"                      \n",
              " [9] \"top\"                        \"right\"                     \n",
              "[11] \"bottom\"                     \"water\"                     \n",
              "[13] \"trees\"                      \"grass\"                     \n",
              "[15] \"flooded_vegetation\"         \"crops\"                     \n",
              "[17] \"shrub_and_scrub\"            \"built\"                     \n",
              "[19] \"bare\"                       \"snow_and_ice\"              \n",
              "[21] \"elevation\"                  \"landform\"                  \n",
              "[23] \"SRTM_mTPI\"                  \"aet\"                       \n",
              "[25] \"def\"                        \"pdsi\"                      \n",
              "[27] \"pet\"                        \"pr\"                        \n",
              "[29] \"ro\"                         \"soil\"                      \n",
              "[31] \"srad\"                       \"swe\"                       \n",
              "[33] \"tmmn\"                       \"tmmx\"                      \n",
              "[35] \"vap\"                        \"vpd\"                       \n",
              "[37] \"vs\"                         \"agbd_m\"                    \n",
              "[39] \"agbd_sd\"                    \"agbd_n\"                    \n",
              "[41] \"majorcomposition\"           \"age_years\"                 \n",
              "[43] \"Age_Class\"                  \"var_imp_DEPTH_UPPER\"       \n",
              "[45] \"var_imp_DEPTH_LOWER\"        \"var_imp_water\"             \n",
              "[47] \"var_imp_trees\"              \"var_imp_grass\"             \n",
              "[49] \"var_imp_flooded_vegetation\" \"var_imp_crops\"             \n",
              "[51] \"var_imp_shrub_and_scrub\"    \"var_imp_built\"             \n",
              "[53] \"var_imp_bare\"               \"var_imp_snow_and_ice\"      \n",
              "[55] \"var_imp_elevation\"          \"var_imp_landform\"          \n",
              "[57] \"var_imp_SRTM_mTPI\"          \"var_imp_aet\"               \n",
              "[59] \"var_imp_def\"                \"var_imp_pdsi\"              \n",
              "[61] \"var_imp_pet\"                \"var_imp_pr\"                \n",
              "[63] \"var_imp_ro\"                 \"var_imp_soil\"              \n",
              "[65] \"var_imp_srad\"               \"var_imp_swe\"               \n",
              "[67] \"var_imp_tmmn\"               \"var_imp_tmmx\"              \n",
              "[69] \"var_imp_vap\"                \"var_imp_vpd\"               \n",
              "[71] \"var_imp_vs\"                 \"var_imp_agbd_m\"            \n",
              "[73] \"var_imp_agbd_sd\"            \"var_imp_agbd_n\"            \n",
              "[75] \"var_imp_majorcomposition\"   \"var_imp_age_years\"         \n",
              "[77] \"var_imp_Age_Class\"          \"r2_depth\"                  \n",
              "[79] \"r2_plot\"                    \"big_poly_id\"               \n",
              "[81] \"z\"                          \"rmse_p\"                    \n",
              "[83] \"group_quantile\"             \"n_pred\"                    \n",
              "[85] \"n_pred_good\"               "
            ]
          },
          "metadata": {}
        }
      ]
    },
    {
      "cell_type": "code",
      "source": [
        "# install.packages('viridis')"
      ],
      "metadata": {
        "id": "UUhsE5XFVfsL",
        "outputId": "c5460b57-c2e5-46f9-e4a3-d14c0310c0cb",
        "colab": {
          "base_uri": "https://localhost:8080/"
        }
      },
      "execution_count": 375,
      "outputs": [
        {
          "output_type": "stream",
          "name": "stderr",
          "text": [
            "Installing package into ‘/usr/local/lib/R/site-library’\n",
            "(as ‘lib’ is unspecified)\n",
            "\n",
            "also installing the dependency ‘gridExtra’\n",
            "\n",
            "\n"
          ]
        }
      ]
    },
    {
      "cell_type": "code",
      "source": [
        "# Define a color palette with viridis\n",
        "colors <- viridis::viridis(5)\n",
        "\n",
        "# Create a named vector for manual color assignment\n",
        "color_assignment <- setNames(colors, sim_c_sum_dt$group_quantile %>% levels)\n",
        ""
      ],
      "metadata": {
        "id": "yIkBBoVyZjlm"
      },
      "execution_count": 417,
      "outputs": []
    },
    {
      "cell_type": "code",
      "source": [
        "# Custom function to format labels as a base number raised to a power\n",
        "format_to_power <- function(x) {\n",
        "  paste0(\"10^\", formatC(log10(x), format = \"f\", digits = 0))\n",
        "}\n",
        "format_to_superscript <- function(x) {\n",
        "  sapply(x, function(x) bquote(10^.(log10(x))))\n",
        "}"
      ],
      "metadata": {
        "id": "H8ZHkCiFc9F6"
      },
      "execution_count": 418,
      "outputs": []
    },
    {
      "cell_type": "code",
      "source": [
        "library(viridis)\n",
        "library(scales)\n",
        "sim_c_sum_dt[rmse_p<.01][big_poly_id==4] %>%\n",
        "  ggplot(aes(x = predicted)) +\n",
        "    geom_histogram(aes(fill = group_quantile,weight=predicted), position = 'stack') +\n",
        "    scale_fill_viridis_d(limits = levels(sim_c_sum_dt$group_quantile),drop = FALSE) +\n",
        "    guides(fill = guide_legend(title = NULL)) + # Removes legend title\n",
        "    theme(legend.position = \"bottom\") + # Moves the legend to the bottom\n",
        "    scale_y_continuous(labels = format_to_power)+ # Y-axis labels in scientific notation\n",
        "    facet_wrap(big_poly_id~.)\n"
      ],
      "metadata": {
        "id": "yf5oj-1hjNsX",
        "outputId": "226b666d-ffaa-4332-9efa-c013e8b7d085",
        "colab": {
          "base_uri": "https://localhost:8080/",
          "height": 455
        }
      },
      "execution_count": 421,
      "outputs": [
        {
          "output_type": "stream",
          "name": "stderr",
          "text": [
            "\u001b[1m\u001b[22m`stat_bin()` using `bins = 30`. Pick better value with `binwidth`.\n"
          ]
        },
        {
          "output_type": "display_data",
          "data": {
            "text/plain": [
              "plot without title"
            ],
            "image/png": "[encoded data removed]"
          },
          "metadata": {
            "image/png": {
              "width": 420,
              "height": 420
            }
          }
        }
      ]
    },
    {
      "cell_type": "code",
      "source": [
        "sim_c_sum_dt[rmse_p<.02][,list(SOC_Mg_Ha = mean(SOC_Mg_Ha), q_group = unique(group_quantile) %>% sort %>% paste(collapse = ', ') ,geom=unique(geom)),by=.(id)] %>% st_as_sf(crs='4326') %>% st_write('quantile_groups.gpkg',delete_dsn = T)"
      ],
      "metadata": {
        "id": "oP2rm2D6e0jE",
        "outputId": "6f1aa011-a355-4abd-c29e-4d1e2cdb3625",
        "colab": {
          "base_uri": "https://localhost:8080/"
        }
      },
      "execution_count": 156,
      "outputs": [
        {
          "output_type": "stream",
          "name": "stderr",
          "text": [
            "writing: substituting ENGCRS[\"Undefined Cartesian SRS with unknown unit\"] for missing CRS\n",
            "\n"
          ]
        },
        {
          "output_type": "stream",
          "name": "stdout",
          "text": [
            "Deleting source `quantile_groups.gpkg' using driver `GPKG'\n",
            "Writing layer `quantile_groups' to data source \n",
            "  `quantile_groups.gpkg' using driver `GPKG'\n",
            "Writing 36613 features with 3 fields and geometry type Point.\n"
          ]
        }
      ]
    },
    {
      "cell_type": "code",
      "source": [
        "sim_c_sum_dt[rmse_p<.02][,list(SOC_Mg_Ha = mean(SOC_Mg_Ha), predicted = mean(predicted),n_pred = mean(n_pred),n_pred_good = mean(n_pred_good),geom=unique(geom)),by=.(id,group_quantile)] %>% st_as_sf(crs='4326') %>% st_write('quantile_pred.gpkg',delete_dsn = T)"
      ],
      "metadata": {
        "id": "e4fvNUAtplUG",
        "colab": {
          "base_uri": "https://localhost:8080/"
        },
        "outputId": "807705bf-7316-4740-cb93-42d500086567"
      },
      "execution_count": 151,
      "outputs": [
        {
          "output_type": "stream",
          "name": "stderr",
          "text": [
            "writing: substituting ENGCRS[\"Undefined Cartesian SRS with unknown unit\"] for missing CRS\n",
            "\n"
          ]
        },
        {
          "output_type": "stream",
          "name": "stdout",
          "text": [
            "Deleting source `quantile_pred.gpkg' using driver `GPKG'\n",
            "Writing layer `quantile_pred' to data source `quantile_pred.gpkg' using driver `GPKG'\n",
            "Writing 92518 features with 6 fields and geometry type Point.\n"
          ]
        }
      ]
    },
    {
      "cell_type": "code",
      "source": [
        "quant_dt <- sim_c_sum_dt[rmse_p<.2][,list(SOC_Mg_Ha = mean(predicted),pred = length(predicted),total = mean(n_pred_good),geom=unique(geom)),by=.(id,group_quantile)]\n",
        "quant_dt[,list(SOC_Mg_ha = sum(SOC_Mg_Ha*(pred/total)),geom = unique(geom)),by=id] %>% st_as_sf %>% st_write('sum_pred.gpkg',delete_dsn=T)"
      ],
      "metadata": {
        "id": "iwi4lgHtxuqY"
      },
      "execution_count": null,
      "outputs": []
    },
    {
      "cell_type": "code",
      "source": [
        "sim_c_sum_dt[,list(count = length(PLOT %>% unique)),by = id]$count %>% qplot"
      ],
      "metadata": {
        "id": "4L0XiTdjlL5G"
      },
      "execution_count": null,
      "outputs": []
    },
    {
      "cell_type": "code",
      "source": [
        "fia_dt[,list(SOC_Mg_Ha = sum(SOC_Mg_Ha %>% as.numeric)),by = PLOT]$SOC_Mg_Ha %>% qplot"
      ],
      "metadata": {
        "id": "idMv67Tjg2kI"
      },
      "execution_count": null,
      "outputs": []
    },
    {
      "cell_type": "code",
      "source": [
        "sim_c_sum_dt$rmse_p %>% qplot"
      ],
      "metadata": {
        "id": "LR-U3bv57wsD"
      },
      "execution_count": null,
      "outputs": []
    },
    {
      "cell_type": "code",
      "source": [
        "names(sim_c_sum_dt)[c(12:21, 23:40,42)]"
      ],
      "metadata": {
        "id": "1W05fIJi8qNf",
        "colab": {
          "base_uri": "https://localhost:8080/",
          "height": 69
        },
        "outputId": "8ebfc2b2-f278-4e8b-e3ff-4b8d27a60102"
      },
      "execution_count": 182,
      "outputs": [
        {
          "output_type": "display_data",
          "data": {
            "text/html": [
              "<style>\n",
              ".list-inline {list-style: none; margin:0; padding: 0}\n",
              ".list-inline>li {display: inline-block}\n",
              ".list-inline>li:not(:last-child)::after {content: \"\\00b7\"; padding: 0 .5ex}\n",
              "</style>\n",
              "<ol class=list-inline><li>'water'</li><li>'trees'</li><li>'grass'</li><li>'flooded_vegetation'</li><li>'crops'</li><li>'shrub_and_scrub'</li><li>'built'</li><li>'bare'</li><li>'snow_and_ice'</li><li>'elevation'</li><li>'SRTM_mTPI'</li><li>'aet'</li><li>'def'</li><li>'pdsi'</li><li>'pet'</li><li>'pr'</li><li>'ro'</li><li>'soil'</li><li>'srad'</li><li>'swe'</li><li>'tmmn'</li><li>'tmmx'</li><li>'vap'</li><li>'vpd'</li><li>'vs'</li><li>'agbd_m'</li><li>'agbd_sd'</li><li>'agbd_n'</li><li>'age_years'</li></ol>\n"
            ],
            "text/markdown": "1. 'water'\n2. 'trees'\n3. 'grass'\n4. 'flooded_vegetation'\n5. 'crops'\n6. 'shrub_and_scrub'\n7. 'built'\n8. 'bare'\n9. 'snow_and_ice'\n10. 'elevation'\n11. 'SRTM_mTPI'\n12. 'aet'\n13. 'def'\n14. 'pdsi'\n15. 'pet'\n16. 'pr'\n17. 'ro'\n18. 'soil'\n19. 'srad'\n20. 'swe'\n21. 'tmmn'\n22. 'tmmx'\n23. 'vap'\n24. 'vpd'\n25. 'vs'\n26. 'agbd_m'\n27. 'agbd_sd'\n28. 'agbd_n'\n29. 'age_years'\n\n\n",
            "text/latex": "\\begin{enumerate*}\n\\item 'water'\n\\item 'trees'\n\\item 'grass'\n\\item 'flooded\\_vegetation'\n\\item 'crops'\n\\item 'shrub\\_and\\_scrub'\n\\item 'built'\n\\item 'bare'\n\\item 'snow\\_and\\_ice'\n\\item 'elevation'\n\\item 'SRTM\\_mTPI'\n\\item 'aet'\n\\item 'def'\n\\item 'pdsi'\n\\item 'pet'\n\\item 'pr'\n\\item 'ro'\n\\item 'soil'\n\\item 'srad'\n\\item 'swe'\n\\item 'tmmn'\n\\item 'tmmx'\n\\item 'vap'\n\\item 'vpd'\n\\item 'vs'\n\\item 'agbd\\_m'\n\\item 'agbd\\_sd'\n\\item 'agbd\\_n'\n\\item 'age\\_years'\n\\end{enumerate*}\n",
            "text/plain": [
              " [1] \"water\"              \"trees\"              \"grass\"             \n",
              " [4] \"flooded_vegetation\" \"crops\"              \"shrub_and_scrub\"   \n",
              " [7] \"built\"              \"bare\"               \"snow_and_ice\"      \n",
              "[10] \"elevation\"          \"SRTM_mTPI\"          \"aet\"               \n",
              "[13] \"def\"                \"pdsi\"               \"pet\"               \n",
              "[16] \"pr\"                 \"ro\"                 \"soil\"              \n",
              "[19] \"srad\"               \"swe\"                \"tmmn\"              \n",
              "[22] \"tmmx\"               \"vap\"                \"vpd\"               \n",
              "[25] \"vs\"                 \"agbd_m\"             \"agbd_sd\"           \n",
              "[28] \"agbd_n\"             \"age_years\"         "
            ]
          },
          "metadata": {}
        }
      ]
    },
    {
      "cell_type": "code",
      "source": [
        "var_imp_dt <- sim_c_sum_dt[ ][\n",
        "  , .(r2 = lapply(.SD, function(x) {\n",
        "          summary(lm(SOC_Mg_Ha~x, data = .SD))$r.squared\n",
        "      }),\n",
        "      variable = names(.SD)),\n",
        "  by = .(group_quantile,big_poly_id),\n",
        "  .SDcols = c(12:21, 23:40,42)\n",
        "]"
      ],
      "metadata": {
        "id": "1HWChufHf6Xn",
        "colab": {
          "base_uri": "https://localhost:8080/"
        },
        "outputId": "0c5e307c-3bc7-440c-f7dc-45dbf247491d"
      },
      "execution_count": 309,
      "outputs": [
        {
          "output_type": "stream",
          "name": "stderr",
          "text": [
            "Warning message in summary.lm(lm(SOC_Mg_Ha ~ x, data = .SD)):\n",
            "“essentially perfect fit: summary may be unreliable”\n",
            "Warning message in summary.lm(lm(SOC_Mg_Ha ~ x, data = .SD)):\n",
            "“essentially perfect fit: summary may be unreliable”\n",
            "Warning message in summary.lm(lm(SOC_Mg_Ha ~ x, data = .SD)):\n",
            "“essentially perfect fit: summary may be unreliable”\n",
            "Warning message in summary.lm(lm(SOC_Mg_Ha ~ x, data = .SD)):\n",
            "“essentially perfect fit: summary may be unreliable”\n",
            "Warning message in summary.lm(lm(SOC_Mg_Ha ~ x, data = .SD)):\n",
            "“essentially perfect fit: summary may be unreliable”\n",
            "Warning message in summary.lm(lm(SOC_Mg_Ha ~ x, data = .SD)):\n",
            "“essentially perfect fit: summary may be unreliable”\n",
            "Warning message in summary.lm(lm(SOC_Mg_Ha ~ x, data = .SD)):\n",
            "“essentially perfect fit: summary may be unreliable”\n",
            "Warning message in summary.lm(lm(SOC_Mg_Ha ~ x, data = .SD)):\n",
            "“essentially perfect fit: summary may be unreliable”\n",
            "Warning message in summary.lm(lm(SOC_Mg_Ha ~ x, data = .SD)):\n",
            "“essentially perfect fit: summary may be unreliable”\n",
            "Warning message in summary.lm(lm(SOC_Mg_Ha ~ x, data = .SD)):\n",
            "“essentially perfect fit: summary may be unreliable”\n",
            "Warning message in summary.lm(lm(SOC_Mg_Ha ~ x, data = .SD)):\n",
            "“essentially perfect fit: summary may be unreliable”\n",
            "Warning message in summary.lm(lm(SOC_Mg_Ha ~ x, data = .SD)):\n",
            "“essentially perfect fit: summary may be unreliable”\n",
            "Warning message in summary.lm(lm(SOC_Mg_Ha ~ x, data = .SD)):\n",
            "“essentially perfect fit: summary may be unreliable”\n",
            "Warning message in summary.lm(lm(SOC_Mg_Ha ~ x, data = .SD)):\n",
            "“essentially perfect fit: summary may be unreliable”\n",
            "Warning message in summary.lm(lm(SOC_Mg_Ha ~ x, data = .SD)):\n",
            "“essentially perfect fit: summary may be unreliable”\n",
            "Warning message in summary.lm(lm(SOC_Mg_Ha ~ x, data = .SD)):\n",
            "“essentially perfect fit: summary may be unreliable”\n",
            "Warning message in summary.lm(lm(SOC_Mg_Ha ~ x, data = .SD)):\n",
            "“essentially perfect fit: summary may be unreliable”\n",
            "Warning message in summary.lm(lm(SOC_Mg_Ha ~ x, data = .SD)):\n",
            "“essentially perfect fit: summary may be unreliable”\n",
            "Warning message in summary.lm(lm(SOC_Mg_Ha ~ x, data = .SD)):\n",
            "“essentially perfect fit: summary may be unreliable”\n",
            "Warning message in summary.lm(lm(SOC_Mg_Ha ~ x, data = .SD)):\n",
            "“essentially perfect fit: summary may be unreliable”\n",
            "Warning message in summary.lm(lm(SOC_Mg_Ha ~ x, data = .SD)):\n",
            "“essentially perfect fit: summary may be unreliable”\n",
            "Warning message in summary.lm(lm(SOC_Mg_Ha ~ x, data = .SD)):\n",
            "“essentially perfect fit: summary may be unreliable”\n",
            "Warning message in summary.lm(lm(SOC_Mg_Ha ~ x, data = .SD)):\n",
            "“essentially perfect fit: summary may be unreliable”\n",
            "Warning message in summary.lm(lm(SOC_Mg_Ha ~ x, data = .SD)):\n",
            "“essentially perfect fit: summary may be unreliable”\n",
            "Warning message in summary.lm(lm(SOC_Mg_Ha ~ x, data = .SD)):\n",
            "“essentially perfect fit: summary may be unreliable”\n",
            "Warning message in summary.lm(lm(SOC_Mg_Ha ~ x, data = .SD)):\n",
            "“essentially perfect fit: summary may be unreliable”\n",
            "Warning message in summary.lm(lm(SOC_Mg_Ha ~ x, data = .SD)):\n",
            "“essentially perfect fit: summary may be unreliable”\n",
            "Warning message in summary.lm(lm(SOC_Mg_Ha ~ x, data = .SD)):\n",
            "“essentially perfect fit: summary may be unreliable”\n",
            "Warning message in summary.lm(lm(SOC_Mg_Ha ~ x, data = .SD)):\n",
            "“essentially perfect fit: summary may be unreliable”\n",
            "Warning message in summary.lm(lm(SOC_Mg_Ha ~ x, data = .SD)):\n",
            "“essentially perfect fit: summary may be unreliable”\n",
            "Warning message in summary.lm(lm(SOC_Mg_Ha ~ x, data = .SD)):\n",
            "“essentially perfect fit: summary may be unreliable”\n",
            "Warning message in summary.lm(lm(SOC_Mg_Ha ~ x, data = .SD)):\n",
            "“essentially perfect fit: summary may be unreliable”\n",
            "Warning message in summary.lm(lm(SOC_Mg_Ha ~ x, data = .SD)):\n",
            "“essentially perfect fit: summary may be unreliable”\n",
            "Warning message in summary.lm(lm(SOC_Mg_Ha ~ x, data = .SD)):\n",
            "“essentially perfect fit: summary may be unreliable”\n",
            "Warning message in summary.lm(lm(SOC_Mg_Ha ~ x, data = .SD)):\n",
            "“essentially perfect fit: summary may be unreliable”\n",
            "Warning message in summary.lm(lm(SOC_Mg_Ha ~ x, data = .SD)):\n",
            "“essentially perfect fit: summary may be unreliable”\n",
            "Warning message in summary.lm(lm(SOC_Mg_Ha ~ x, data = .SD)):\n",
            "“essentially perfect fit: summary may be unreliable”\n",
            "Warning message in summary.lm(lm(SOC_Mg_Ha ~ x, data = .SD)):\n",
            "“essentially perfect fit: summary may be unreliable”\n",
            "Warning message in summary.lm(lm(SOC_Mg_Ha ~ x, data = .SD)):\n",
            "“essentially perfect fit: summary may be unreliable”\n",
            "Warning message in summary.lm(lm(SOC_Mg_Ha ~ x, data = .SD)):\n",
            "“essentially perfect fit: summary may be unreliable”\n",
            "Warning message in summary.lm(lm(SOC_Mg_Ha ~ x, data = .SD)):\n",
            "“essentially perfect fit: summary may be unreliable”\n",
            "Warning message in summary.lm(lm(SOC_Mg_Ha ~ x, data = .SD)):\n",
            "“essentially perfect fit: summary may be unreliable”\n",
            "Warning message in summary.lm(lm(SOC_Mg_Ha ~ x, data = .SD)):\n",
            "“essentially perfect fit: summary may be unreliable”\n",
            "Warning message in summary.lm(lm(SOC_Mg_Ha ~ x, data = .SD)):\n",
            "“essentially perfect fit: summary may be unreliable”\n",
            "Warning message in summary.lm(lm(SOC_Mg_Ha ~ x, data = .SD)):\n",
            "“essentially perfect fit: summary may be unreliable”\n",
            "Warning message in summary.lm(lm(SOC_Mg_Ha ~ x, data = .SD)):\n",
            "“essentially perfect fit: summary may be unreliable”\n",
            "Warning message in summary.lm(lm(SOC_Mg_Ha ~ x, data = .SD)):\n",
            "“essentially perfect fit: summary may be unreliable”\n",
            "Warning message in summary.lm(lm(SOC_Mg_Ha ~ x, data = .SD)):\n",
            "“essentially perfect fit: summary may be unreliable”\n",
            "Warning message in summary.lm(lm(SOC_Mg_Ha ~ x, data = .SD)):\n",
            "“essentially perfect fit: summary may be unreliable”\n",
            "Warning message in summary.lm(lm(SOC_Mg_Ha ~ x, data = .SD)):\n",
            "“essentially perfect fit: summary may be unreliable”\n",
            "Warning message in summary.lm(lm(SOC_Mg_Ha ~ x, data = .SD)):\n",
            "“essentially perfect fit: summary may be unreliable”\n",
            "Warning message in summary.lm(lm(SOC_Mg_Ha ~ x, data = .SD)):\n",
            "“essentially perfect fit: summary may be unreliable”\n",
            "Warning message in summary.lm(lm(SOC_Mg_Ha ~ x, data = .SD)):\n",
            "“essentially perfect fit: summary may be unreliable”\n",
            "Warning message in summary.lm(lm(SOC_Mg_Ha ~ x, data = .SD)):\n",
            "“essentially perfect fit: summary may be unreliable”\n",
            "Warning message in summary.lm(lm(SOC_Mg_Ha ~ x, data = .SD)):\n",
            "“essentially perfect fit: summary may be unreliable”\n",
            "Warning message in summary.lm(lm(SOC_Mg_Ha ~ x, data = .SD)):\n",
            "“essentially perfect fit: summary may be unreliable”\n",
            "Warning message in summary.lm(lm(SOC_Mg_Ha ~ x, data = .SD)):\n",
            "“essentially perfect fit: summary may be unreliable”\n",
            "Warning message in summary.lm(lm(SOC_Mg_Ha ~ x, data = .SD)):\n",
            "“essentially perfect fit: summary may be unreliable”\n",
            "Warning message in summary.lm(lm(SOC_Mg_Ha ~ x, data = .SD)):\n",
            "“essentially perfect fit: summary may be unreliable”\n",
            "Warning message in summary.lm(lm(SOC_Mg_Ha ~ x, data = .SD)):\n",
            "“essentially perfect fit: summary may be unreliable”\n",
            "Warning message in summary.lm(lm(SOC_Mg_Ha ~ x, data = .SD)):\n",
            "“essentially perfect fit: summary may be unreliable”\n",
            "Warning message in summary.lm(lm(SOC_Mg_Ha ~ x, data = .SD)):\n",
            "“essentially perfect fit: summary may be unreliable”\n",
            "Warning message in summary.lm(lm(SOC_Mg_Ha ~ x, data = .SD)):\n",
            "“essentially perfect fit: summary may be unreliable”\n",
            "Warning message in summary.lm(lm(SOC_Mg_Ha ~ x, data = .SD)):\n",
            "“essentially perfect fit: summary may be unreliable”\n",
            "Warning message in summary.lm(lm(SOC_Mg_Ha ~ x, data = .SD)):\n",
            "“essentially perfect fit: summary may be unreliable”\n",
            "Warning message in summary.lm(lm(SOC_Mg_Ha ~ x, data = .SD)):\n",
            "“essentially perfect fit: summary may be unreliable”\n",
            "Warning message in summary.lm(lm(SOC_Mg_Ha ~ x, data = .SD)):\n",
            "“essentially perfect fit: summary may be unreliable”\n",
            "Warning message in summary.lm(lm(SOC_Mg_Ha ~ x, data = .SD)):\n",
            "“essentially perfect fit: summary may be unreliable”\n",
            "Warning message in summary.lm(lm(SOC_Mg_Ha ~ x, data = .SD)):\n",
            "“essentially perfect fit: summary may be unreliable”\n",
            "Warning message in summary.lm(lm(SOC_Mg_Ha ~ x, data = .SD)):\n",
            "“essentially perfect fit: summary may be unreliable”\n",
            "Warning message in summary.lm(lm(SOC_Mg_Ha ~ x, data = .SD)):\n",
            "“essentially perfect fit: summary may be unreliable”\n",
            "Warning message in summary.lm(lm(SOC_Mg_Ha ~ x, data = .SD)):\n",
            "“essentially perfect fit: summary may be unreliable”\n",
            "Warning message in summary.lm(lm(SOC_Mg_Ha ~ x, data = .SD)):\n",
            "“essentially perfect fit: summary may be unreliable”\n",
            "Warning message in summary.lm(lm(SOC_Mg_Ha ~ x, data = .SD)):\n",
            "“essentially perfect fit: summary may be unreliable”\n",
            "Warning message in summary.lm(lm(SOC_Mg_Ha ~ x, data = .SD)):\n",
            "“essentially perfect fit: summary may be unreliable”\n",
            "Warning message in summary.lm(lm(SOC_Mg_Ha ~ x, data = .SD)):\n",
            "“essentially perfect fit: summary may be unreliable”\n",
            "Warning message in summary.lm(lm(SOC_Mg_Ha ~ x, data = .SD)):\n",
            "“essentially perfect fit: summary may be unreliable”\n",
            "Warning message in summary.lm(lm(SOC_Mg_Ha ~ x, data = .SD)):\n",
            "“essentially perfect fit: summary may be unreliable”\n",
            "Warning message in summary.lm(lm(SOC_Mg_Ha ~ x, data = .SD)):\n",
            "“essentially perfect fit: summary may be unreliable”\n",
            "Warning message in summary.lm(lm(SOC_Mg_Ha ~ x, data = .SD)):\n",
            "“essentially perfect fit: summary may be unreliable”\n",
            "Warning message in summary.lm(lm(SOC_Mg_Ha ~ x, data = .SD)):\n",
            "“essentially perfect fit: summary may be unreliable”\n",
            "Warning message in summary.lm(lm(SOC_Mg_Ha ~ x, data = .SD)):\n",
            "“essentially perfect fit: summary may be unreliable”\n",
            "Warning message in summary.lm(lm(SOC_Mg_Ha ~ x, data = .SD)):\n",
            "“essentially perfect fit: summary may be unreliable”\n",
            "Warning message in summary.lm(lm(SOC_Mg_Ha ~ x, data = .SD)):\n",
            "“essentially perfect fit: summary may be unreliable”\n",
            "Warning message in summary.lm(lm(SOC_Mg_Ha ~ x, data = .SD)):\n",
            "“essentially perfect fit: summary may be unreliable”\n",
            "Warning message in summary.lm(lm(SOC_Mg_Ha ~ x, data = .SD)):\n",
            "“essentially perfect fit: summary may be unreliable”\n",
            "Warning message in summary.lm(lm(SOC_Mg_Ha ~ x, data = .SD)):\n",
            "“essentially perfect fit: summary may be unreliable”\n",
            "Warning message in summary.lm(lm(SOC_Mg_Ha ~ x, data = .SD)):\n",
            "“essentially perfect fit: summary may be unreliable”\n",
            "Warning message in summary.lm(lm(SOC_Mg_Ha ~ x, data = .SD)):\n",
            "“essentially perfect fit: summary may be unreliable”\n",
            "Warning message in summary.lm(lm(SOC_Mg_Ha ~ x, data = .SD)):\n",
            "“essentially perfect fit: summary may be unreliable”\n",
            "Warning message in summary.lm(lm(SOC_Mg_Ha ~ x, data = .SD)):\n",
            "“essentially perfect fit: summary may be unreliable”\n",
            "Warning message in summary.lm(lm(SOC_Mg_Ha ~ x, data = .SD)):\n",
            "“essentially perfect fit: summary may be unreliable”\n",
            "Warning message in summary.lm(lm(SOC_Mg_Ha ~ x, data = .SD)):\n",
            "“essentially perfect fit: summary may be unreliable”\n",
            "Warning message in summary.lm(lm(SOC_Mg_Ha ~ x, data = .SD)):\n",
            "“essentially perfect fit: summary may be unreliable”\n",
            "Warning message in summary.lm(lm(SOC_Mg_Ha ~ x, data = .SD)):\n",
            "“essentially perfect fit: summary may be unreliable”\n",
            "Warning message in summary.lm(lm(SOC_Mg_Ha ~ x, data = .SD)):\n",
            "“essentially perfect fit: summary may be unreliable”\n",
            "Warning message in summary.lm(lm(SOC_Mg_Ha ~ x, data = .SD)):\n",
            "“essentially perfect fit: summary may be unreliable”\n",
            "Warning message in summary.lm(lm(SOC_Mg_Ha ~ x, data = .SD)):\n",
            "“essentially perfect fit: summary may be unreliable”\n",
            "Warning message in summary.lm(lm(SOC_Mg_Ha ~ x, data = .SD)):\n",
            "“essentially perfect fit: summary may be unreliable”\n",
            "Warning message in summary.lm(lm(SOC_Mg_Ha ~ x, data = .SD)):\n",
            "“essentially perfect fit: summary may be unreliable”\n",
            "Warning message in summary.lm(lm(SOC_Mg_Ha ~ x, data = .SD)):\n",
            "“essentially perfect fit: summary may be unreliable”\n",
            "Warning message in summary.lm(lm(SOC_Mg_Ha ~ x, data = .SD)):\n",
            "“essentially perfect fit: summary may be unreliable”\n",
            "Warning message in summary.lm(lm(SOC_Mg_Ha ~ x, data = .SD)):\n",
            "“essentially perfect fit: summary may be unreliable”\n",
            "Warning message in summary.lm(lm(SOC_Mg_Ha ~ x, data = .SD)):\n",
            "“essentially perfect fit: summary may be unreliable”\n",
            "Warning message in summary.lm(lm(SOC_Mg_Ha ~ x, data = .SD)):\n",
            "“essentially perfect fit: summary may be unreliable”\n",
            "Warning message in summary.lm(lm(SOC_Mg_Ha ~ x, data = .SD)):\n",
            "“essentially perfect fit: summary may be unreliable”\n",
            "Warning message in summary.lm(lm(SOC_Mg_Ha ~ x, data = .SD)):\n",
            "“essentially perfect fit: summary may be unreliable”\n",
            "Warning message in summary.lm(lm(SOC_Mg_Ha ~ x, data = .SD)):\n",
            "“essentially perfect fit: summary may be unreliable”\n",
            "Warning message in summary.lm(lm(SOC_Mg_Ha ~ x, data = .SD)):\n",
            "“essentially perfect fit: summary may be unreliable”\n",
            "Warning message in summary.lm(lm(SOC_Mg_Ha ~ x, data = .SD)):\n",
            "“essentially perfect fit: summary may be unreliable”\n",
            "Warning message in summary.lm(lm(SOC_Mg_Ha ~ x, data = .SD)):\n",
            "“essentially perfect fit: summary may be unreliable”\n",
            "Warning message in summary.lm(lm(SOC_Mg_Ha ~ x, data = .SD)):\n",
            "“essentially perfect fit: summary may be unreliable”\n",
            "Warning message in summary.lm(lm(SOC_Mg_Ha ~ x, data = .SD)):\n",
            "“essentially perfect fit: summary may be unreliable”\n",
            "Warning message in summary.lm(lm(SOC_Mg_Ha ~ x, data = .SD)):\n",
            "“essentially perfect fit: summary may be unreliable”\n",
            "Warning message in summary.lm(lm(SOC_Mg_Ha ~ x, data = .SD)):\n",
            "“essentially perfect fit: summary may be unreliable”\n",
            "Warning message in summary.lm(lm(SOC_Mg_Ha ~ x, data = .SD)):\n",
            "“essentially perfect fit: summary may be unreliable”\n",
            "Warning message in summary.lm(lm(SOC_Mg_Ha ~ x, data = .SD)):\n",
            "“essentially perfect fit: summary may be unreliable”\n",
            "Warning message in summary.lm(lm(SOC_Mg_Ha ~ x, data = .SD)):\n",
            "“essentially perfect fit: summary may be unreliable”\n",
            "Warning message in summary.lm(lm(SOC_Mg_Ha ~ x, data = .SD)):\n",
            "“essentially perfect fit: summary may be unreliable”\n",
            "Warning message in summary.lm(lm(SOC_Mg_Ha ~ x, data = .SD)):\n",
            "“essentially perfect fit: summary may be unreliable”\n",
            "Warning message in summary.lm(lm(SOC_Mg_Ha ~ x, data = .SD)):\n",
            "“essentially perfect fit: summary may be unreliable”\n",
            "Warning message in summary.lm(lm(SOC_Mg_Ha ~ x, data = .SD)):\n",
            "“essentially perfect fit: summary may be unreliable”\n",
            "Warning message in summary.lm(lm(SOC_Mg_Ha ~ x, data = .SD)):\n",
            "“essentially perfect fit: summary may be unreliable”\n",
            "Warning message in summary.lm(lm(SOC_Mg_Ha ~ x, data = .SD)):\n",
            "“essentially perfect fit: summary may be unreliable”\n",
            "Warning message in summary.lm(lm(SOC_Mg_Ha ~ x, data = .SD)):\n",
            "“essentially perfect fit: summary may be unreliable”\n",
            "Warning message in summary.lm(lm(SOC_Mg_Ha ~ x, data = .SD)):\n",
            "“essentially perfect fit: summary may be unreliable”\n",
            "Warning message in summary.lm(lm(SOC_Mg_Ha ~ x, data = .SD)):\n",
            "“essentially perfect fit: summary may be unreliable”\n",
            "Warning message in summary.lm(lm(SOC_Mg_Ha ~ x, data = .SD)):\n",
            "“essentially perfect fit: summary may be unreliable”\n",
            "Warning message in summary.lm(lm(SOC_Mg_Ha ~ x, data = .SD)):\n",
            "“essentially perfect fit: summary may be unreliable”\n",
            "Warning message in summary.lm(lm(SOC_Mg_Ha ~ x, data = .SD)):\n",
            "“essentially perfect fit: summary may be unreliable”\n",
            "Warning message in summary.lm(lm(SOC_Mg_Ha ~ x, data = .SD)):\n",
            "“essentially perfect fit: summary may be unreliable”\n",
            "Warning message in summary.lm(lm(SOC_Mg_Ha ~ x, data = .SD)):\n",
            "“essentially perfect fit: summary may be unreliable”\n",
            "Warning message in summary.lm(lm(SOC_Mg_Ha ~ x, data = .SD)):\n",
            "“essentially perfect fit: summary may be unreliable”\n",
            "Warning message in summary.lm(lm(SOC_Mg_Ha ~ x, data = .SD)):\n",
            "“essentially perfect fit: summary may be unreliable”\n",
            "Warning message in summary.lm(lm(SOC_Mg_Ha ~ x, data = .SD)):\n",
            "“essentially perfect fit: summary may be unreliable”\n",
            "Warning message in summary.lm(lm(SOC_Mg_Ha ~ x, data = .SD)):\n",
            "“essentially perfect fit: summary may be unreliable”\n",
            "Warning message in summary.lm(lm(SOC_Mg_Ha ~ x, data = .SD)):\n",
            "“essentially perfect fit: summary may be unreliable”\n",
            "Warning message in summary.lm(lm(SOC_Mg_Ha ~ x, data = .SD)):\n",
            "“essentially perfect fit: summary may be unreliable”\n",
            "Warning message in summary.lm(lm(SOC_Mg_Ha ~ x, data = .SD)):\n",
            "“essentially perfect fit: summary may be unreliable”\n",
            "Warning message in summary.lm(lm(SOC_Mg_Ha ~ x, data = .SD)):\n",
            "“essentially perfect fit: summary may be unreliable”\n",
            "Warning message in summary.lm(lm(SOC_Mg_Ha ~ x, data = .SD)):\n",
            "“essentially perfect fit: summary may be unreliable”\n",
            "Warning message in summary.lm(lm(SOC_Mg_Ha ~ x, data = .SD)):\n",
            "“essentially perfect fit: summary may be unreliable”\n",
            "Warning message in summary.lm(lm(SOC_Mg_Ha ~ x, data = .SD)):\n",
            "“essentially perfect fit: summary may be unreliable”\n",
            "Warning message in summary.lm(lm(SOC_Mg_Ha ~ x, data = .SD)):\n",
            "“essentially perfect fit: summary may be unreliable”\n",
            "Warning message in summary.lm(lm(SOC_Mg_Ha ~ x, data = .SD)):\n",
            "“essentially perfect fit: summary may be unreliable”\n",
            "Warning message in summary.lm(lm(SOC_Mg_Ha ~ x, data = .SD)):\n",
            "“essentially perfect fit: summary may be unreliable”\n"
          ]
        }
      ]
    },
    {
      "cell_type": "code",
      "source": [
        "physical <- c('elevation', 'landform', 'SRTM_mTPI', 'majorcomposition', 'age_years', 'age_class')\n",
        "biological <- c('water', 'trees', 'grass', 'flooded_vegetation', 'crops', 'shrub_and_scrub', 'built', 'bare', 'snow_and_ice', 'agbd_m', 'agbd_sd', 'agbd_n')\n",
        "climate <- c('aet', 'def', 'pdsi', 'pet', 'pr', 'ro', 'soil', 'srad', 'swe', 'tmmn', 'tmmx', 'vap', 'vpd', 'vs')\n"
      ],
      "metadata": {
        "id": "wm181x3LtHl-"
      },
      "execution_count": 260,
      "outputs": []
    },
    {
      "cell_type": "code",
      "source": [
        "var_imp_dt$type[var_imp_dt$variable %in% physical] <- 'physical'\n",
        "var_imp_dt$type[var_imp_dt$variable %in% biological] <- 'biological'\n",
        "var_imp_dt$type[var_imp_dt$variable %in% climate] <- 'climate'"
      ],
      "metadata": {
        "id": "7ZlSPpZjTUzr"
      },
      "execution_count": 265,
      "outputs": []
    },
    {
      "cell_type": "code",
      "source": [
        "var_imp_dt$r2 <- var_imp_dt$r2 %>% unlist"
      ],
      "metadata": {
        "id": "tGPJGuElucmt"
      },
      "execution_count": 277,
      "outputs": []
    },
    {
      "cell_type": "code",
      "source": [
        "# big_polys_dt"
      ],
      "metadata": {
        "id": "m0dxswTc2l6n",
        "outputId": "25655ea7-12d2-4bb7-c5ad-4d2aaaed6906",
        "colab": {
          "base_uri": "https://localhost:8080/",
          "height": 317
        }
      },
      "execution_count": 304,
      "outputs": [
        {
          "output_type": "display_data",
          "data": {
            "text/html": [
              "<table class=\"dataframe\">\n",
              "<caption>A data.table: 7 × 2</caption>\n",
              "<thead>\n",
              "\t<tr><th scope=col>id</th><th scope=col>geom</th></tr>\n",
              "\t<tr><th scope=col>&lt;dbl&gt;</th><th scope=col>&lt;MULTIPOLYGON [°]&gt;</th></tr>\n",
              "</thead>\n",
              "<tbody>\n",
              "\t<tr><td>1</td><td>MULTIPOLYGON (((-155.8052 2...</td></tr>\n",
              "\t<tr><td>2</td><td>MULTIPOLYGON (((-155.3585 2...</td></tr>\n",
              "\t<tr><td>3</td><td>MULTIPOLYGON (((-155.0293 1...</td></tr>\n",
              "\t<tr><td>4</td><td>MULTIPOLYGON (((-155.4012 1...</td></tr>\n",
              "\t<tr><td>5</td><td>MULTIPOLYGON (((-155.7852 1...</td></tr>\n",
              "\t<tr><td>6</td><td>MULTIPOLYGON (((-155.9035 1...</td></tr>\n",
              "\t<tr><td>7</td><td>MULTIPOLYGON (((-155.8521 1...</td></tr>\n",
              "</tbody>\n",
              "</table>\n"
            ],
            "text/markdown": "\nA data.table: 7 × 2\n\n| id &lt;dbl&gt; | geom &lt;MULTIPOLYGON [°]&gt; |\n|---|---|\n| 1 | MULTIPOLYGON (((-155.8052 2... |\n| 2 | MULTIPOLYGON (((-155.3585 2... |\n| 3 | MULTIPOLYGON (((-155.0293 1... |\n| 4 | MULTIPOLYGON (((-155.4012 1... |\n| 5 | MULTIPOLYGON (((-155.7852 1... |\n| 6 | MULTIPOLYGON (((-155.9035 1... |\n| 7 | MULTIPOLYGON (((-155.8521 1... |\n\n",
            "text/latex": "A data.table: 7 × 2\n\\begin{tabular}{ll}\n id & geom\\\\\n <dbl> & <MULTIPOLYGON {[}°{]}>\\\\\n\\hline\n\t 1 & MULTIPOLYGON (((-155.8052 2...\\\\\n\t 2 & MULTIPOLYGON (((-155.3585 2...\\\\\n\t 3 & MULTIPOLYGON (((-155.0293 1...\\\\\n\t 4 & MULTIPOLYGON (((-155.4012 1...\\\\\n\t 5 & MULTIPOLYGON (((-155.7852 1...\\\\\n\t 6 & MULTIPOLYGON (((-155.9035 1...\\\\\n\t 7 & MULTIPOLYGON (((-155.8521 1...\\\\\n\\end{tabular}\n",
            "text/plain": [
              "  id geom                          \n",
              "1 1  MULTIPOLYGON (((-155.8052 2...\n",
              "2 2  MULTIPOLYGON (((-155.3585 2...\n",
              "3 3  MULTIPOLYGON (((-155.0293 1...\n",
              "4 4  MULTIPOLYGON (((-155.4012 1...\n",
              "5 5  MULTIPOLYGON (((-155.7852 1...\n",
              "6 6  MULTIPOLYGON (((-155.9035 1...\n",
              "7 7  MULTIPOLYGON (((-155.8521 1..."
            ]
          },
          "metadata": {}
        }
      ]
    },
    {
      "cell_type": "code",
      "source": [
        "var_imp_dt[order(-r2)][,list(r2 = mean(r2,na.rm=T)),by = .(big_poly_id,group_quantile,type)][order(big_poly_id)] %>%\n",
        "  dcast(big_poly_id +group_quantile ~type,value.var='r2') %>%\n",
        "  merge(.,big_polys_dt,by.x = 'big_poly_id',by.y='id') %>%\n",
        "  st_as_sf() %>%\n",
        "  st_buffer(0) %>%\n",
        "  st_write('big_poly_summary.gpkg')"
      ],
      "metadata": {
        "id": "yMU1ZJgTve8z",
        "outputId": "633f66bc-893d-41bc-addf-0ce4373b0c90",
        "colab": {
          "base_uri": "https://localhost:8080/"
        }
      },
      "execution_count": 308,
      "outputs": [
        {
          "output_type": "stream",
          "name": "stdout",
          "text": [
            "Writing layer `big_poly_summary' to data source \n",
            "  `big_poly_summary.gpkg' using driver `GPKG'\n",
            "Writing 28 features with 5 fields and geometry type Polygon.\n"
          ]
        }
      ]
    },
    {
      "cell_type": "code",
      "source": [
        "sim_c_sum_dt[,min_plot:= PLOT[which.min(rmse_p)],by=id]"
      ],
      "metadata": {
        "id": "Y0CMfxvESRZy"
      },
      "execution_count": null,
      "outputs": []
    },
    {
      "cell_type": "code",
      "source": [
        "# var_imp_dt[,list(imp_variable=variable[order(-r2)][1],r2=r2[order(-r2)][1]),by=PLOT]"
      ],
      "metadata": {
        "id": "uI1NQa16Gg2Y"
      },
      "execution_count": null,
      "outputs": []
    },
    {
      "cell_type": "code",
      "source": [
        "# sim_c_sum_dt$min_plot %>% qplot"
      ],
      "metadata": {
        "id": "6nOp1xLCS1PY"
      },
      "execution_count": null,
      "outputs": []
    },
    {
      "cell_type": "code",
      "source": [
        "# sim_c_sum_dt$PLOT %>% table"
      ],
      "metadata": {
        "id": "BzgG12iGSyAc"
      },
      "execution_count": null,
      "outputs": []
    },
    {
      "cell_type": "code",
      "source": [
        "sim_c_sum_dt$imp_variable <- NULL\n",
        "sim_c_sum_dt$r2 <- NULL"
      ],
      "metadata": {
        "id": "uJ8EzPBCCZt_"
      },
      "execution_count": null,
      "outputs": []
    },
    {
      "cell_type": "code",
      "source": [
        " sim_c_sum_dt <- var_imp_dt[,list(imp_variable=variable[order(-r2)][1],r2=r2[order(-r2)][1]),by=PLOT] %>% merge(sim_c_sum_dt,.,by.x = 'min_plot',by.y = 'PLOT')"
      ],
      "metadata": {
        "id": "9NYCPnXn-dBJ"
      },
      "execution_count": null,
      "outputs": []
    },
    {
      "cell_type": "code",
      "source": [
        "sim_c_sum_dt %>% head"
      ],
      "metadata": {
        "id": "2D0uCXNRVKwM"
      },
      "execution_count": null,
      "outputs": []
    },
    {
      "cell_type": "code",
      "source": [
        "# sim_c_sum_dt[,imp_variable:=imp_variable[order(-r2)][1],by=id]\n",
        "# sim_c_sum_dt[,r2:=r2[order(-r2)][1],by=id]"
      ],
      "metadata": {
        "id": "XH4BWGp0KRX7"
      },
      "execution_count": null,
      "outputs": []
    },
    {
      "cell_type": "code",
      "source": [
        "sim_c_sum_dt[rmse_p<.2][,list(rmse_p = mean(rmse_p),geom=geom[1]),by = .(id,imp_variable,r2)] %>% st_as_sf %>% st_write('variable_importance_id.gpkg',delete_dsn=T)"
      ],
      "metadata": {
        "id": "JmII9qMsFnGh"
      },
      "execution_count": null,
      "outputs": []
    },
    {
      "cell_type": "code",
      "source": [
        "# sim_c_sum_dt[rmse_p<.2] %>% st_as_sf %>% st_write('variable_importance.gpkg',delete_dsn)"
      ],
      "metadata": {
        "id": "HldNZqI4E38k"
      },
      "execution_count": null,
      "outputs": []
    },
    {
      "cell_type": "code",
      "source": [
        "var_imp_dt$imp_variable %>% table"
      ],
      "metadata": {
        "id": "4a_Ak1xr-wzN"
      },
      "execution_count": null,
      "outputs": []
    },
    {
      "cell_type": "code",
      "source": [
        "var_imp_dt %>%\n",
        "  ggplot(aes(x=r2))+\n",
        "    geom_histogram(aes(fill=variable))+\n",
        "    facet_wrap(variable~.,scales='free') +\n",
        "    theme(legend.position = \"none\")\n"
      ],
      "metadata": {
        "id": "2ajG3NFW9R1p"
      },
      "execution_count": null,
      "outputs": []
    },
    {
      "cell_type": "code",
      "source": [
        "r2_dt <-\n",
        "sim_c_sum_dt$PLOT %>% unique %>%\n",
        "  lapply(function(x){\n",
        "  x_dt <- sim_c_sum_dt[PLOT == x]\n",
        "  names(sim_c_sum_dt)[c(12:21, 23:40)] %>%\n",
        "    lapply(function(y){\n",
        "    r2 <-\n",
        "    (lm(x_dt[['rmse_p']]~x_dt[[y]]) %>%\n",
        "      summary())$r.squared\n",
        "    data.table(PLOT = x,variable =y,r2 = r2) %>% return()\n",
        "    }) %>% rbindlist\n",
        "  }) %>% rbindlist\n"
      ],
      "metadata": {
        "id": "-hngzXlkgMzv"
      },
      "execution_count": null,
      "outputs": []
    },
    {
      "cell_type": "code",
      "source": [
        "r2_dt"
      ],
      "metadata": {
        "id": "md7uSqOJ7TJf"
      },
      "execution_count": null,
      "outputs": []
    },
    {
      "cell_type": "code",
      "source": [
        "gc()"
      ],
      "metadata": {
        "id": "ThBN0TMl7sW8"
      },
      "execution_count": null,
      "outputs": []
    },
    {
      "cell_type": "code",
      "source": [
        "cool_dt[PLOT == 2737] %>%\n",
        "ggplot(aes(x=elevation,y=rmse_p))+\n",
        "# ylim(0,1)+\n",
        "geom_bin2d() +\n",
        "geom_smooth(method='lm')"
      ],
      "metadata": {
        "id": "UegpL-6DxZX4"
      },
      "execution_count": null,
      "outputs": []
    },
    {
      "cell_type": "code",
      "source": [
        "sim_c_no_depth_dt[PLOT == 2737]$SOC_Mg_Ha %>% table"
      ],
      "metadata": {
        "id": "t2pDJ7gpyHEZ"
      },
      "execution_count": null,
      "outputs": []
    },
    {
      "cell_type": "code",
      "source": [
        "\n",
        "(cool_dt[PLOT == 2822]  %>%\n",
        "  lm(rmse_p~soil,.) %>%\n",
        "  summary())$r.squared"
      ],
      "metadata": {
        "id": "PS0rOg0i5352"
      },
      "execution_count": null,
      "outputs": []
    },
    {
      "cell_type": "code",
      "source": [
        "names(sim_c_sum_dt)"
      ],
      "metadata": {
        "id": "X0vkbVKW6B5E"
      },
      "execution_count": null,
      "outputs": []
    },
    {
      "cell_type": "code",
      "source": [
        "# cool_dt <- sim_c_sum_dt[,list(rmse_p = mean(sqrt(z^2))/SOC_Mg_Ha,rmse = mean(sqrt(z^2)),var_imp_elevation = mean(var_imp_elevation) ,geom=unique(geom)[1],predicted = mean(predicted)),by = .(PLOT,id,soil,tmmn,vpd,SOC_Mg_Ha,trees,shrub_and_scrub,built,bare,aet,soil,vs,SRTM_mTPI,agbd_m,agbd_sd,elevation)]\n",
        "# st_as_sf %>%\n",
        "# st_write('review_output.gpkg',delete_dsn = T)\n",
        "# cool_dt[,list(elev_r2= cor(elevation, SRTM_mTPI) ^ 2),by = .(PLOT)]\n",
        "cool_dt[PLOT == 4102]  %>%\n",
        "ggplot(aes(x=rmse_p,y=bare))+\n",
        "# ylim(0,600)+\n",
        "# geom_histogram()\n",
        "geom_bin2d() +\n",
        "geom_smooth(method='lm')"
      ],
      "metadata": {
        "id": "Z-G08udTEFv2"
      },
      "execution_count": null,
      "outputs": []
    },
    {
      "cell_type": "code",
      "source": [
        "sim_dt[,z:=(predicted-SOC_Mg_Ha)/SOC_Mg_Ha]"
      ],
      "metadata": {
        "id": "ykTLK7Zfvb_Y"
      },
      "execution_count": null,
      "outputs": []
    },
    {
      "cell_type": "code",
      "source": [
        "sim_dt[,residual_per:=(predicted-SOC_Mg_Ha)/SOC_Mg_Ha]"
      ],
      "metadata": {
        "id": "qozeGGhyeNR6"
      },
      "execution_count": null,
      "outputs": []
    },
    {
      "cell_type": "code",
      "source": [
        "sim_dt[ z > -0.05 &z<0.05]$predicted %>% qplot"
      ],
      "metadata": {
        "id": "83G-MoVduIeE"
      },
      "execution_count": null,
      "outputs": []
    },
    {
      "cell_type": "code",
      "source": [
        "sim_dt$SOC_Mg_Ha %>% qplot"
      ],
      "metadata": {
        "id": "FYEQyrPhuMp8"
      },
      "execution_count": null,
      "outputs": []
    },
    {
      "cell_type": "code",
      "source": [
        "sim_dt[id==2831164]$predicted %>% qplot(bins=100)\n",
        "\n",
        "sim_dt[id==2831164 & z > -0.05 &z<0.05]$predicted %>% qplot(geom='histogram')"
      ],
      "metadata": {
        "id": "4Vplh_bzvy2V"
      },
      "execution_count": null,
      "outputs": []
    },
    {
      "cell_type": "code",
      "source": [
        "sim_summary_dt <- sim_dt[,list(length = length(r2),length_05 = length(r2[sqrt((z)^2) <0.05]),geom=unique(geom)),by=.(id,PLOT)]"
      ],
      "metadata": {
        "id": "dQe6TcWmQE9z"
      },
      "execution_count": null,
      "outputs": []
    },
    {
      "cell_type": "code",
      "source": [
        "# sim_summary_dt\n",
        "(sim_summary_dt[PLOT==5289]$length_05/sim_summary_dt[PLOT==5289]$length) %>% qplot"
      ],
      "metadata": {
        "id": "8ety8b9EirDE"
      },
      "execution_count": null,
      "outputs": []
    },
    {
      "cell_type": "code",
      "source": [
        "sim_summary_dt %>% st_as_sf %>% st_write('sim_summary_id_plot.gpkg',delete_dsn = T)"
      ],
      "metadata": {
        "id": "t7KCfekdwa45"
      },
      "execution_count": null,
      "outputs": []
    },
    {
      "cell_type": "code",
      "source": [
        "(sim_dt %>% names)[c(9:18,20:37)]"
      ],
      "metadata": {
        "id": "55HRclaRCkNj"
      },
      "execution_count": null,
      "outputs": []
    },
    {
      "cell_type": "code",
      "source": [
        "sim_dt$id %>% sample(1)\n",
        "sim_dt[id==2762315]$PLOT %>% table"
      ],
      "metadata": {
        "id": "T7bfZLlnv2kw"
      },
      "execution_count": null,
      "outputs": []
    },
    {
      "cell_type": "code",
      "source": [
        "sim_dt[id==2762315] %>% nrow"
      ],
      "metadata": {
        "id": "sZIan_uuv_eq"
      },
      "execution_count": null,
      "outputs": []
    },
    {
      "cell_type": "code",
      "source": [
        "#  sim_dt[id==2762315 &PLOT == 2678]$z %>% abs %>% qplot"
      ],
      "metadata": {
        "id": "TE5mLdbMwPBv"
      },
      "execution_count": null,
      "outputs": []
    },
    {
      "cell_type": "code",
      "source": [
        "sim_dt[id==2762315 &PLOT == 2678 ]$id %>% unique"
      ],
      "metadata": {
        "id": "K5ZOagATPk4_"
      },
      "execution_count": null,
      "outputs": []
    },
    {
      "cell_type": "code",
      "source": [
        "names(sim_dt)"
      ],
      "metadata": {
        "id": "o1nEka7qXTVw"
      },
      "execution_count": null,
      "outputs": []
    },
    {
      "cell_type": "code",
      "source": [
        "names(sim_dt)[c(11:42)]"
      ],
      "metadata": {
        "id": "e3DOI4yvInQ9"
      },
      "execution_count": null,
      "outputs": []
    },
    {
      "cell_type": "code",
      "source": [
        "p_value_dt <-\n",
        "sim_dt$PLOT %>% unique %>% lapply(function(y){\n",
        "names(sim_dt)[c(9:18,20:37)] %>%\n",
        "lapply(function(x){\n",
        "\n",
        "  (cool_dt[PLOT == 2822]  %>%\n",
        "  lm(rmse_p~soil,.) %>%\n",
        "  summary())$r.squared\n",
        "# # which_dt <- sim_dt[ PLOT == y ][,list(good = length(z[z < 0.05])/length(z) <0.02),by= .(PLOT,id)]\n",
        "# good_x <- grid_dt[id %in% which_dt$id[which_dt$good]][[x]]\n",
        "# bad_x <- grid_dt[id %in% which_dt$id[!which_dt$good]][[x]]\n",
        "# if(length(good_x)>3 &length(bad_x)>3){\n",
        "# p_value <- wilcox.test(good_x,bad_x)$p.value\n",
        "\n",
        "# data.table(PLOT=y,variable=x,good = length(good_x),bad =length(bad_x),p_value=p_value) %>% return\n",
        "# }else(return(data.table(PLOT=y,variable=x,good = length(good_x),bad =length(bad_x),p_value=NA)))\n",
        "}) %>% rbindlist %>% return}) %>% rbindlist"
      ],
      "metadata": {
        "id": "-izennDhKD9H"
      },
      "execution_count": null,
      "outputs": []
    },
    {
      "cell_type": "code",
      "source": [
        "good_bad_dt <- p_value_dt[,list( mean(NA)),by=.(PLOT,good,bad)]"
      ],
      "metadata": {
        "id": "16m_kICGtC-e"
      },
      "execution_count": null,
      "outputs": []
    },
    {
      "cell_type": "code",
      "source": [
        "good_bad_dt <- merge(fia_dt,good_bad_dt,by = 'PLOT')"
      ],
      "metadata": {
        "id": "9iG0Rmja5X4a"
      },
      "execution_count": null,
      "outputs": []
    },
    {
      "cell_type": "code",
      "source": [
        "names(good_bad_dt)"
      ],
      "metadata": {
        "id": "6OHO4MNf6qbv"
      },
      "execution_count": null,
      "outputs": []
    },
    {
      "cell_type": "code",
      "source": [
        "good_bad_dt %>%\n",
        "  ggplot(aes(x=good/(bad +good),y=Stock_SOC_Mg_Ha %>% as.numeric))+\n",
        "  geom_point() +\n",
        "  facet_grid(Max_Lower_Depth %>% as.numeric~.)"
      ],
      "metadata": {
        "id": "t_ulb6Gp5FCS"
      },
      "execution_count": null,
      "outputs": []
    },
    {
      "cell_type": "code",
      "source": [
        "# x <- sim_dt[ PLOT == 2409 ][,list()]\n",
        "\n",
        "z <- sim_dt[ PLOT == 2409 ]$z\n",
        "length(x[abs(z) < 0.05])\n",
        "length(x[abs(z) >= 0.05])\n",
        "wilcox.test(sample(x[abs(z) < 0.05],500,replace=T) %>% sort ,\n",
        "          sample(x[abs(z) >= 0.05],500,replace=T)%>% sort)"
      ],
      "metadata": {
        "id": "TwoBmzMO5_Qj"
      },
      "execution_count": null,
      "outputs": []
    },
    {
      "cell_type": "code",
      "source": [
        "x <- sim_dt[ PLOT == 2409 ]$elevation\n",
        "z <- sim_dt[ PLOT == 2409 ]$z\n",
        "t.test(x[abs(z) < 0.05],\n",
        "          x[abs(z) >= 0.05])"
      ],
      "metadata": {
        "id": "kaLzXo6xX7j9"
      },
      "execution_count": null,
      "outputs": []
    },
    {
      "cell_type": "code",
      "source": [
        "#  sim_dt[ PLOT == 2409 ] %>%\n",
        " data.table(elevation = c(sample(x[abs(z) < 0.05],1000000,replace=T),sample(x[abs(z) >= 0.05],1000000,replace=T)),z = c(rep(0,1000),rep(1,1000))) %>%\n",
        "   ggplot(aes(x=elevation,group = abs(z) <0.05))+\n",
        "     geom_density(aes(color= abs(z) <0.05))"
      ],
      "metadata": {
        "id": "RLNcpUsLXZsr"
      },
      "execution_count": null,
      "outputs": []
    },
    {
      "cell_type": "code",
      "source": [
        "\n",
        "\n",
        "if(length(x[abs(z) < 0.05])>3 &length(x[abs(z) >= 0.05])>3 ){\n",
        "  t.test(x[abs(z) < 0.05],\n",
        "          x[abs(z) >= 0.05])$p.value\n",
        "          }else(return(NA))"
      ],
      "metadata": {
        "id": "QhXwzQZWwy22"
      },
      "execution_count": null,
      "outputs": []
    },
    {
      "cell_type": "code",
      "source": [
        "qplot(x[abs(z) >= 0.05])"
      ],
      "metadata": {
        "id": "BIkFtXRFDbft"
      },
      "execution_count": null,
      "outputs": []
    },
    {
      "cell_type": "code",
      "source": [
        "qplot(x[abs(z) < 0.05])"
      ],
      "metadata": {
        "id": "pF5AodHBDXH3"
      },
      "execution_count": null,
      "outputs": []
    },
    {
      "cell_type": "code",
      "source": [
        "sim_dt[, good := length(z[abs(z) < 0.2])/length(z) > .50,by= .(PLOT,id,DEPTH_UPPER,DEPTH_LOWER)]"
      ],
      "metadata": {
        "id": "zQCGNXcBPVbc"
      },
      "execution_count": null,
      "outputs": []
    },
    {
      "cell_type": "code",
      "source": [
        "sim_dt$good %>% table / nrow(sim_dt)"
      ],
      "metadata": {
        "id": "kft1YMfsHQJx"
      },
      "execution_count": null,
      "outputs": []
    },
    {
      "cell_type": "code",
      "source": [
        "sim_dt[,list(length=sum(good)),by= .(PLOT ,DEPTH_UPPER,DEPTH_LOWER)]"
      ],
      "metadata": {
        "id": "XaM-bs5nLq4o"
      },
      "execution_count": null,
      "outputs": []
    },
    {
      "cell_type": "code",
      "source": [
        "names(sim_dt)[c(11:20,22:39)]"
      ],
      "metadata": {
        "id": "R0gRuWO1o5dQ"
      },
      "execution_count": null,
      "outputs": []
    },
    {
      "cell_type": "code",
      "source": [
        "sim_dt[,r2:=(lm(rmse_p~x ) %>% summary())$r.squared, by = .( PLOT )"
      ],
      "metadata": {
        "id": "0n3ELhHpeyYm"
      },
      "execution_count": null,
      "outputs": []
    },
    {
      "cell_type": "code",
      "source": [
        "sim_dt %>% names"
      ],
      "metadata": {
        "id": "ftBpMMlsfb_n"
      },
      "execution_count": null,
      "outputs": []
    },
    {
      "cell_type": "code",
      "source": [
        "var_imp_dt <- sim_dt[\n",
        "  , .(r2 = lapply(.SD, function(x) {\n",
        "          summary(lm(rmse_p ~ x, data = .SD))$r.squared\n",
        "      }),\n",
        "      variable = names(.SD)),\n",
        "  by = .(PLOT),\n",
        "  .SDcols = c(11:20, 22:39)\n",
        "]"
      ],
      "metadata": {
        "id": "20kHFnC_fXyJ"
      },
      "execution_count": null,
      "outputs": []
    },
    {
      "cell_type": "code",
      "source": [
        " var_imp_dt<- sim_dt [\n",
        "  , .(r2 = lapply(.SD, function(x) {\n",
        "\n",
        "      (lm(rmse_p~x ) %>%\n",
        "    summary())$r.squared\n",
        "\n",
        "\n",
        "    }) ,\n",
        "      variable = names(sim_dt)[c(11:20,22:39)])\n",
        "  , by = .( PLOT )\n",
        "  , .SDcols = c(c(11:20,22:39))\n",
        "]\n",
        "\n",
        "var_imp_dt$p_value <- var_imp_dt$r2 %>% unlist"
      ],
      "metadata": {
        "id": "jSxwz78hCaIo"
      },
      "execution_count": null,
      "outputs": []
    },
    {
      "cell_type": "code",
      "source": [
        "var_imp_dt$p_value%>%qplot"
      ],
      "metadata": {
        "id": "3yklCqfZoTKA"
      },
      "execution_count": null,
      "outputs": []
    },
    {
      "cell_type": "code",
      "source": [
        "# grid_dt"
      ],
      "metadata": {
        "id": "g3iB3POm0MX8"
      },
      "execution_count": null,
      "outputs": []
    },
    {
      "cell_type": "code",
      "source": [
        "# out_dt <- data.table(var_imp_dt,sim_summary_dt[match(var_imp_dt$id,sim_summary_dt$id)])\n",
        "out_dt <- data.table(p_value_dt,fia_dt[,c('geometry')][match(p_value_dt$PLOT,fia_dt$PLOT)])"
      ],
      "metadata": {
        "id": "tDSLomPaFBt4"
      },
      "execution_count": null,
      "outputs": []
    },
    {
      "cell_type": "code",
      "source": [
        "out_dt[,bonferroni:=p_value*length(c(9:18,20:37))]"
      ],
      "metadata": {
        "id": "2QPXHgSxppws"
      },
      "execution_count": null,
      "outputs": []
    },
    {
      "cell_type": "code",
      "source": [
        "out_dt$p_value <- out_dt$p_value %>% unlist"
      ],
      "metadata": {
        "id": "9MSkigkuGEUG"
      },
      "execution_count": null,
      "outputs": []
    },
    {
      "cell_type": "code",
      "source": [
        "# out_dt$geom <- NULL\n",
        "out_dt"
      ],
      "metadata": {
        "id": "KxGVgkMqrSMj"
      },
      "execution_count": null,
      "outputs": []
    },
    {
      "cell_type": "code",
      "source": [
        "# short_out_dt[!is.na(var_imp_aet),]"
      ],
      "metadata": {
        "id": "zhnfNW4o0p6g"
      },
      "execution_count": null,
      "outputs": []
    },
    {
      "cell_type": "code",
      "source": [
        "short_out_dt <- dcast(out_dt,  PLOT ~ variable,value.var='bonferroni', drop=FALSE)\n",
        "# short_out_dt <-short_out_dt[!is.na(trees),]"
      ],
      "metadata": {
        "id": "0mOkIF47rJPU"
      },
      "execution_count": null,
      "outputs": []
    },
    {
      "cell_type": "code",
      "source": [
        "short_out_dt"
      ],
      "metadata": {
        "id": "5U500bQjSzvh"
      },
      "execution_count": null,
      "outputs": []
    },
    {
      "cell_type": "code",
      "source": [
        "good_set <- out_dt[,list(bonferroni_20 = mean(bonferroni[bonferroni<.2],na.rm=T),n=length(bonferroni[bonferroni<.2])),by = .(PLOT,variable)][!is.na(bonferroni_20)]$PLOT %>% unique"
      ],
      "metadata": {
        "id": "BqKvjGhg4qhK"
      },
      "execution_count": null,
      "outputs": []
    },
    {
      "cell_type": "code",
      "source": [
        "good_set %>% length"
      ],
      "metadata": {
        "id": "Qlns0YTO7ByC"
      },
      "execution_count": null,
      "outputs": []
    },
    {
      "cell_type": "code",
      "source": [
        "fia_dt[PLOT %in% good_set]$Stock_SOC_Mg_Ha %>% mean(na.rm=T)"
      ],
      "metadata": {
        "id": "SVPLbJGj7OSZ"
      },
      "execution_count": null,
      "outputs": []
    },
    {
      "cell_type": "code",
      "source": [
        "fia_dt %>%\n",
        "  ggplot(aes(x=Stock_SOC_Mg_Ha))+\n",
        "  geom_histogram()"
      ],
      "metadata": {
        "id": "w2dtAHQe63ke"
      },
      "execution_count": null,
      "outputs": []
    },
    {
      "cell_type": "code",
      "source": [
        "short_out_dt <- data.table(short_out_dt,fia_dt[,c('geometry')][match(short_out_dt$PLOT,fia_dt$PLOT)])"
      ],
      "metadata": {
        "id": "Vcb9nHVt0kO5"
      },
      "execution_count": null,
      "outputs": []
    },
    {
      "cell_type": "code",
      "source": [
        "short_out_dt %>% st_as_sf %>% st_write('bonferroni_adj.gpkg',delete_dsn = T)"
      ],
      "metadata": {
        "id": "0KA7fcV3wVH9"
      },
      "execution_count": null,
      "outputs": []
    },
    {
      "cell_type": "code",
      "source": [
        "cols_to_consider <- names(short_out_dt)[]\n",
        "\n",
        "\n",
        "# Assuming 'short_out_dt' is your data.table\n",
        "# Define the columns you want to consider for finding the max value by their indices\n",
        "cols_to_consider_indices <- 3:(ncol(short_out_dt)-1) # Replace with actual indices of Var3, Var5, Var7\n",
        "short_out_dt$max_col <-\n",
        "1:nrow(short_out_dt) %>% lapply(function(x){\n",
        "if(is.na(short_out_dt[x,cols_to_consider_indices,with=F] %>% unlist) %>% all){return(NA)}\n",
        "short_out_dt[x,cols_to_consider_indices,with=F] %>% unlist %>% which.min( ) %>% names}) %>% unlist"
      ],
      "metadata": {
        "id": "eEeHNqq5sQiQ"
      },
      "execution_count": null,
      "outputs": []
    },
    {
      "cell_type": "code",
      "source": [
        "short_out_dt %>% st_write('max_col_p.gpkg')"
      ],
      "metadata": {
        "id": "vJhqaw2SyWg3"
      },
      "execution_count": null,
      "outputs": []
    },
    {
      "cell_type": "code",
      "source": [
        "short_out_dt"
      ],
      "metadata": {
        "id": "vh8jc2vQw0fR"
      },
      "execution_count": null,
      "outputs": []
    },
    {
      "cell_type": "code",
      "source": [
        "short_out_dt %>%\n",
        "  ggplot(aes(x=1:nrow(short_out_dt),y=soil))+\n",
        "  geom_line()"
      ],
      "metadata": {
        "id": "mx2dDqIMwmH6"
      },
      "execution_count": null,
      "outputs": []
    },
    {
      "cell_type": "code",
      "source": [
        "out_dt[bonferroni <= .05]$variable %>% table"
      ],
      "metadata": {
        "id": "5AP6xor8JZ55"
      },
      "execution_count": null,
      "outputs": []
    },
    {
      "cell_type": "code",
      "source": [],
      "metadata": {
        "id": "j5zr7_HMp3ZP"
      },
      "execution_count": null,
      "outputs": []
    },
    {
      "cell_type": "code",
      "source": [
        "out_dt[bonferroni<= 0.1] %>%\n",
        "  ggplot(aes(x= variable %>% factor))+\n",
        "  geom_bar()\n",
        "  # geom_smooth(method='lm')"
      ],
      "metadata": {
        "id": "R2Gs7h8_Rk5V"
      },
      "execution_count": null,
      "outputs": []
    },
    {
      "cell_type": "code",
      "source": [
        "data.table(out_dt) %>% st_as_sf() %>% st_write('/content/plot_sig_variables.gpkg',delete_dsn=T)"
      ],
      "metadata": {
        "id": "5ilpqA4nE-f3"
      },
      "execution_count": null,
      "outputs": []
    },
    {
      "cell_type": "code",
      "source": [
        "# sim_dt[id ==2222069  ]\n",
        "# 1850844\n",
        "# sqrt(((Stock_SOC_Mg_Ha-predicted)/Stock_SOC_Mg_Ha)^2)<0.05\n",
        "sim_dt[id ==2952969  & sqrt(((Stock_SOC_Mg_Ha-predicted)/Stock_SOC_Mg_Ha)^2)<0.05] %>%\n",
        "  ggplot(aes(x=Stock_SOC_Mg_Ha)) +\n",
        "  geom_histogram()\n",
        "  # print()"
      ],
      "metadata": {
        "id": "FB2Kru8Fcdpi"
      },
      "execution_count": null,
      "outputs": []
    },
    {
      "cell_type": "code",
      "source": [
        "sim_dt %>%\n",
        "  ggplot(aes(y=Stock_SOC_Mg_Ha,x=r2))+\n",
        "    geom_bin2d()\n",
        "    # geom_smooth()"
      ],
      "metadata": {
        "id": "Kdno5JZ0Yev5"
      },
      "execution_count": null,
      "outputs": []
    },
    {
      "cell_type": "code",
      "source": [
        "# Load the necessary library\n",
        "library(repr)\n",
        "\n",
        "# Adjust width and height of plots\n",
        "options(repr.plot.width=20, repr.plot.height=8)"
      ],
      "metadata": {
        "id": "ysaNMETsScgE"
      },
      "execution_count": null,
      "outputs": []
    },
    {
      "cell_type": "code",
      "source": [],
      "metadata": {
        "id": "qsoXgH7N44kI"
      },
      "execution_count": null,
      "outputs": []
    }
  ]
}