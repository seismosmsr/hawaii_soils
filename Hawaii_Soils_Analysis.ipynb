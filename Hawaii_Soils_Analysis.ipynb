{
  "nbformat": 4,
  "nbformat_minor": 0,
  "metadata": {
    "colab": {
      "provenance": [],
      "machine_shape": "hm",
      "authorship_tag": "ABX9TyNKw4hUjclPqxVX4zBindsU",
      "include_colab_link": true
    },
    "kernelspec": {
      "name": "ir",
      "display_name": "R"
    },
    "language_info": {
      "name": "R"
    }
  },
  "cells": [
    {
      "cell_type": "markdown",
      "metadata": {
        "id": "view-in-github",
        "colab_type": "text"
      },
      "source": [
        "<a href=\"https://colab.research.google.com/github/seismosmsr/hawaii_soils/blob/main/Hawaii_Soils_Analysis.ipynb\" target=\"_parent\"><img src=\"https://colab.research.google.com/assets/colab-badge.svg\" alt=\"Open In Colab\"/></a>"
      ]
    },
    {
      "cell_type": "code",
      "execution_count": 1,
      "metadata": {
        "colab": {
          "base_uri": "https://localhost:8080/"
        },
        "id": "w3b2Yt1zzBa4",
        "outputId": "5dc46442-7011-4500-e843-fba578b94371"
      },
      "outputs": [
        {
          "output_type": "stream",
          "name": "stderr",
          "text": [
            "Installing package into ‘/usr/local/lib/R/site-library’\n",
            "(as ‘lib’ is unspecified)\n",
            "\n",
            "also installing the dependencies ‘proxy’, ‘e1071’, ‘wk’, ‘classInt’, ‘Rcpp’, ‘s2’, ‘units’\n",
            "\n",
            "\n",
            "Installing package into ‘/usr/local/lib/R/site-library’\n",
            "(as ‘lib’ is unspecified)\n",
            "\n",
            "also installing the dependencies ‘sp’, ‘terra’\n",
            "\n",
            "\n",
            "Installing package into ‘/usr/local/lib/R/site-library’\n",
            "(as ‘lib’ is unspecified)\n",
            "\n",
            "Installing package into ‘/usr/local/lib/R/site-library’\n",
            "(as ‘lib’ is unspecified)\n",
            "\n",
            "Installing package into ‘/usr/local/lib/R/site-library’\n",
            "(as ‘lib’ is unspecified)\n",
            "\n",
            "Warning message:\n",
            "“package ‘googletoken’ is not available for this version of R\n",
            "\n",
            "A version of this package for your version of R might be available elsewhere,\n",
            "see the ideas at\n",
            "https://cran.r-project.org/doc/manuals/r-patched/R-admin.html#Installing-packages”\n",
            "Installing package into ‘/usr/local/lib/R/site-library’\n",
            "(as ‘lib’ is unspecified)\n",
            "\n",
            "Installing package into ‘/usr/local/lib/R/site-library’\n",
            "(as ‘lib’ is unspecified)\n",
            "\n",
            "also installing the dependency ‘plogr’\n",
            "\n",
            "\n",
            "Installing package into ‘/usr/local/lib/R/site-library’\n",
            "(as ‘lib’ is unspecified)\n",
            "\n",
            "Installing package into ‘/usr/local/lib/R/site-library’\n",
            "(as ‘lib’ is unspecified)\n",
            "\n",
            "Installing package into ‘/usr/local/lib/R/site-library’\n",
            "(as ‘lib’ is unspecified)\n",
            "\n"
          ]
        }
      ],
      "source": [
        "install.packages('sf')\n",
        "install.packages('raster')\n",
        "install.packages('exactextractr')\n",
        "install.packages(\"googledrive\")\n",
        "install.packages(\"googletoken\")\n",
        "install.packages(\"DBI\")\n",
        "install.packages(\"RSQLite\")\n",
        "install.packages(\"RPostgreSQL\")\n",
        "install.packages(\"terra\")\n",
        "install.packages('randomForest')"
      ]
    },
    {
      "cell_type": "code",
      "source": [
        "library(ggplot2)\n",
        "library(sf)\n",
        "library(magrittr)\n",
        "library(data.table)\n",
        "library(raster)\n",
        "library(exactextractr)\n",
        "library(googledrive)\n",
        "library(DBI)\n",
        "library(terra)\n",
        "library(randomForest)\n",
        "library(parallel)"
      ],
      "metadata": {
        "id": "Jt8zFz1p0QRy",
        "outputId": "af147677-682f-4e74-c472-deea62444bec",
        "colab": {
          "base_uri": "https://localhost:8080/"
        }
      },
      "execution_count": 1,
      "outputs": [
        {
          "output_type": "stream",
          "name": "stderr",
          "text": [
            "Linking to GEOS 3.10.2, GDAL 3.4.3, PROJ 8.2.1; sf_use_s2() is TRUE\n",
            "\n",
            "Loading required package: sp\n",
            "\n",
            "terra 1.7.55\n",
            "\n",
            "\n",
            "Attaching package: ‘terra’\n",
            "\n",
            "\n",
            "The following object is masked from ‘package:data.table’:\n",
            "\n",
            "    shift\n",
            "\n",
            "\n",
            "The following objects are masked from ‘package:magrittr’:\n",
            "\n",
            "    extract, inset\n",
            "\n",
            "\n",
            "randomForest 4.7-1.1\n",
            "\n",
            "Type rfNews() to see new features/changes/bug fixes.\n",
            "\n",
            "\n",
            "Attaching package: ‘randomForest’\n",
            "\n",
            "\n",
            "The following object is masked from ‘package:ggplot2’:\n",
            "\n",
            "    margin\n",
            "\n",
            "\n"
          ]
        }
      ]
    },
    {
      "cell_type": "code",
      "source": [
        "while(TRUE){}"
      ],
      "metadata": {
        "id": "Z-rVvwdTsUCA"
      },
      "execution_count": 153,
      "outputs": []
    },
    {
      "cell_type": "code",
      "source": [
        "drive_auth(use_oob = TRUE, cache = FALSE)"
      ],
      "metadata": {
        "id": "TIp-5Lr90ULs",
        "outputId": "918d228e-960b-4935-cafe-c935ec709c2d",
        "colab": {
          "base_uri": "https://localhost:8080/"
        }
      },
      "execution_count": 3,
      "outputs": [
        {
          "output_type": "stream",
          "name": "stderr",
          "text": [
            "Please point your browser to the following url: \n",
            "\n",
            "https://accounts.google.com/o/oauth2/v2/auth?client_id=603366585132-frjlouoa3s2ono25d2l9ukvhlsrlnr7k.apps.googleusercontent.com&scope=https%3A%2F%2Fwww.googleapis.com%2Fauth%2Fdrive%20https%3A%2F%2Fwww.googleapis.com%2Fauth%2Fuserinfo.email&redirect_uri=https%3A%2F%2Fwww.tidyverse.org%2Fgoogle-callback%2F&response_type=code&state=1737b8fa542a08595394e8c942312d78&access_type=offline&prompt=consent\n",
            "\n"
          ]
        },
        {
          "name": "stdout",
          "output_type": "stream",
          "text": [
            "Enter authorization code: eyJjb2RlIjoiNC8wQWZKb2hYa1JTTTZ1a3lkVjY3OHZaR3ZnckR0bVY0a2MxWUtWMlJiWHExSEFUOU1Vd0NkRmFvWmZ1b0psWnpVcGNHT2YwdyIsInN0YXRlIjoiMTczN2I4ZmE1NDJhMDg1OTUzOTRlOGM5NDIzMTJkNzgifQ==\n"
          ]
        }
      ]
    },
    {
      "cell_type": "code",
      "source": [
        "#https://drive.google.com/file/d/1tAh_UBLBi_d4-7U985oRcux9Qcw-HQN9/view?usp=drive_link\n",
        "\n",
        "# https://drive.google.com/file/d/1ryTzWz0t9mgI5ynPvMzM21D135dLJvWv/view?usp=drive_link\n",
        "# Updated: https://drive.google.com/file/d/1tS0xRC1LhZ2spj5o0UQLPEblyP23qAxa/view?usp=drive_link\n",
        "# drive_download(as_id('1tS0xRC1LhZ2spj5o0UQLPEblyP23qAxa'), path = paste0('/content/big_polys.gpkg'), overwrite = TRUE)\n",
        "big_polys_dt <-  st_read('/content/big_polys.gpkg') %>% st_as_sf(crs = 4326) %>% data.table"
      ],
      "metadata": {
        "colab": {
          "base_uri": "https://localhost:8080/"
        },
        "id": "rPMPoGHljeGJ",
        "outputId": "b4255819-29f0-4b29-bb66-d75f1711908c"
      },
      "execution_count": 2,
      "outputs": [
        {
          "output_type": "stream",
          "name": "stdout",
          "text": [
            "Reading layer `big_island_polys' from data source `/content/big_polys.gpkg' using driver `GPKG'\n",
            "Simple feature collection with 7 features and 1 field\n",
            "Geometry type: MULTIPOLYGON\n",
            "Dimension:     XY\n",
            "Bounding box:  xmin: -156.0111 ymin: 19.00001 xmax: -154.8236 ymax: 20.26314\n",
            "Geodetic CRS:  WGS 84\n"
          ]
        }
      ]
    },
    {
      "cell_type": "code",
      "source": [
        "# https://drive.google.com/file/d/1ryTzWz0t9mgI5ynPvMzM21D135dLJvWv/view?usp=drive_link\n",
        "# Updated: https://drive.google.com/file/d/17c3DJcujQ_0MHirG2z2lSU88A0lvjo1C/view?usp=sharing\n",
        "# drive_download(as_id('17c3DJcujQ_0MHirG2z2lSU88A0lvjo1C'), path = paste0('/content/fia.csv'), overwrite = TRUE)\n",
        "fia_dt <-  st_read('/content/fia.csv') %>% st_as_sf(coords = c(\"LON\",\"LAT\"), crs = 4326) %>% data.table"
      ],
      "metadata": {
        "id": "GIyOF5ltSRpq",
        "outputId": "4b122a1d-899a-4c39-916e-559be1ec91ff",
        "colab": {
          "base_uri": "https://localhost:8080/"
        }
      },
      "execution_count": 3,
      "outputs": [
        {
          "output_type": "stream",
          "name": "stdout",
          "text": [
            "Reading layer `fia' from data source `/content/fia.csv' using driver `CSV'\n"
          ]
        },
        {
          "output_type": "stream",
          "name": "stderr",
          "text": [
            "Warning message:\n",
            "“no simple feature geometries present: returning a data.frame or tbl_df”\n"
          ]
        }
      ]
    },
    {
      "cell_type": "code",
      "source": [
        "# fia_dt %>% st_as_sf %>% st_write('fia.gpkg')"
      ],
      "metadata": {
        "id": "Xsw6h8Ics4gh"
      },
      "execution_count": 6,
      "outputs": []
    },
    {
      "cell_type": "code",
      "source": [
        "# https://drive.google.com/file/d/1LZQIykiIRmkIv-Ygy24rAN1ohmGOG1rY/view?usp=drive_link\n",
        "# drive_download(as_id('1LZQIykiIRmkIv-Ygy24rAN1ohmGOG1rY'), path = \"/content/250_summary_grid_dt.gpkg\", overwrite = TRUE)\n",
        "grid_dt <- st_read(\"/content/250_summary_grid_dt.gpkg\") %>% st_transform(4326) %>% data.table()"
      ],
      "metadata": {
        "id": "6i5eFIGc1vby",
        "outputId": "8da69e84-e597-4e3a-e39a-59ba4f96d18c",
        "colab": {
          "base_uri": "https://localhost:8080/"
        }
      },
      "execution_count": 4,
      "outputs": [
        {
          "output_type": "stream",
          "name": "stdout",
          "text": [
            "Reading layer `250_summary_grid_dt' from data source \n",
            "  `/content/250_summary_grid_dt.gpkg' using driver `GPKG'\n",
            "Simple feature collection with 227561 features and 38 fields\n",
            "Geometry type: POINT\n",
            "Dimension:     XY\n",
            "Bounding box:  xmin: 57161.36 ymin: 16952.32 xmax: 572661.4 ymax: 381202.3\n",
            "Projected CRS: NAD_1983_HARN_StatePlane_Hawaii_1_FIPS_5101\n"
          ]
        }
      ]
    },
    {
      "cell_type": "code",
      "source": [
        "# Simulation data\n",
        "# 1bk1A8XJn46VJ0CIlbjgdZHvvlII4F7FC Run 1\n",
        "drive_download(file = as_id('1bk1A8XJn46VJ0CIlbjgdZHvvlII4F7FC'), path =  '/content/sim_results_Hawaii_Run1.gpkg', overwrite = TRUE)\n",
        "\n",
        "#  1ODOOOVfwwFIxuB-ysInzbZLC3U1t8x60 Run 2\n",
        "drive_download(file = as_id('1ODOOOVfwwFIxuB-ysInzbZLC3U1t8x60'), path =  '/content/sim_results_Hawaii_Run2.gpkg', overwrite = TRUE)\n",
        "\n",
        "# 1C9uZ5it9NpHOXEIehFi-4amjT2AUwCXw Run 3\n",
        "drive_download(file = as_id('1C9uZ5it9NpHOXEIehFi-4amjT2AUwCXw'), path =  '/content/sim_results_Hawaii_Run3.gpkg', overwrite = TRUE)\n"
      ],
      "metadata": {
        "id": "O0fhKgBSbbbk",
        "outputId": "306220d7-58e2-4118-961e-8910ac93a57b",
        "colab": {
          "base_uri": "https://localhost:8080/"
        }
      },
      "execution_count": 11,
      "outputs": [
        {
          "output_type": "stream",
          "name": "stderr",
          "text": [
            "File downloaded:\n",
            "\n",
            "• \u001b[36msim_results_Hawaii_10000m_v4_Run1.gpkg\u001b[39m\n",
            "  \u001b[90m<id: 1bk1A8XJn46VJ0CIlbjgdZHvvlII4F7FC>\u001b[39m\n",
            "\n",
            "Saved locally as:\n",
            "\n",
            "• \u001b[34m/content/sim_results_Hawaii_Run1.gpkg\u001b[39m\n",
            "\n",
            "File downloaded:\n",
            "\n",
            "• \u001b[36msim_results_Hawaii_10000m_v4_Run2.gpkg\u001b[39m\n",
            "  \u001b[90m<id: 1ODOOOVfwwFIxuB-ysInzbZLC3U1t8x60>\u001b[39m\n",
            "\n",
            "Saved locally as:\n",
            "\n",
            "• \u001b[34m/content/sim_results_Hawaii_Run2.gpkg\u001b[39m\n",
            "\n",
            "File downloaded:\n",
            "\n",
            "• \u001b[36msim_results_Hawaii_10000m_v4_Run4.gpkg\u001b[39m\n",
            "  \u001b[90m<id: 1C9uZ5it9NpHOXEIehFi-4amjT2AUwCXw>\u001b[39m\n",
            "\n",
            "Saved locally as:\n",
            "\n",
            "• \u001b[34m/content/sim_results_Hawaii_Run3.gpkg\u001b[39m\n",
            "\n"
          ]
        }
      ]
    },
    {
      "cell_type": "code",
      "source": [
        "sim_dt <- NULL\n",
        "gc()"
      ],
      "metadata": {
        "colab": {
          "base_uri": "https://localhost:8080/",
          "height": 129
        },
        "id": "UoZxqiTKqb8B",
        "outputId": "cd18c228-94b0-4648-eee3-b26bd1e887ce"
      },
      "execution_count": 12,
      "outputs": [
        {
          "output_type": "display_data",
          "data": {
            "text/html": [
              "<table class=\"dataframe\">\n",
              "<caption>A matrix: 2 × 6 of type dbl</caption>\n",
              "<thead>\n",
              "\t<tr><th></th><th scope=col>used</th><th scope=col>(Mb)</th><th scope=col>gc trigger</th><th scope=col>(Mb)</th><th scope=col>max used</th><th scope=col>(Mb)</th></tr>\n",
              "</thead>\n",
              "<tbody>\n",
              "\t<tr><th scope=row>Ncells</th><td> 3650692</td><td>195.0</td><td> 7004330</td><td>374.1</td><td> 7004330</td><td>374.1</td></tr>\n",
              "\t<tr><th scope=row>Vcells</th><td>14402078</td><td>109.9</td><td>39695134</td><td>302.9</td><td>35510274</td><td>271.0</td></tr>\n",
              "</tbody>\n",
              "</table>\n"
            ],
            "text/markdown": "\nA matrix: 2 × 6 of type dbl\n\n| <!--/--> | used | (Mb) | gc trigger | (Mb) | max used | (Mb) |\n|---|---|---|---|---|---|---|\n| Ncells |  3650692 | 195.0 |  7004330 | 374.1 |  7004330 | 374.1 |\n| Vcells | 14402078 | 109.9 | 39695134 | 302.9 | 35510274 | 271.0 |\n\n",
            "text/latex": "A matrix: 2 × 6 of type dbl\n\\begin{tabular}{r|llllll}\n  & used & (Mb) & gc trigger & (Mb) & max used & (Mb)\\\\\n\\hline\n\tNcells &  3650692 & 195.0 &  7004330 & 374.1 &  7004330 & 374.1\\\\\n\tVcells & 14402078 & 109.9 & 39695134 & 302.9 & 35510274 & 271.0\\\\\n\\end{tabular}\n",
            "text/plain": [
              "       used     (Mb)  gc trigger (Mb)  max used (Mb) \n",
              "Ncells  3650692 195.0  7004330   374.1  7004330 374.1\n",
              "Vcells 14402078 109.9 39695134   302.9 35510274 271.0"
            ]
          },
          "metadata": {}
        }
      ]
    },
    {
      "cell_type": "code",
      "source": [
        "sim_1_dt <- st_read( '/content/sim_results_Hawaii_Run1.gpkg') %>% data.table\n",
        "sim_2_dt <- st_read( '/content/sim_results_Hawaii_Run2.gpkg') %>% data.table\n",
        "sim_3_dt <- st_read( '/content/sim_results_Hawaii_Run3.gpkg') %>% data.table"
      ],
      "metadata": {
        "colab": {
          "base_uri": "https://localhost:8080/"
        },
        "id": "qcOWC2TKb4kS",
        "outputId": "b922ca27-b564-45b3-9ea9-dac1892590e5"
      },
      "execution_count": 5,
      "outputs": [
        {
          "output_type": "stream",
          "name": "stdout",
          "text": [
            "Reading layer `sim_results_Hawaii_10000m_v4_Run1' from data source \n",
            "  `/content/sim_results_Hawaii_Run1.gpkg' using driver `GPKG'\n",
            "Simple feature collection with 3170000 features and 80 fields\n",
            "Geometry type: POINT\n",
            "Dimension:     XY\n",
            "Bounding box:  xmin: -156.0017 ymin: 19.0045 xmax: -154.8362 ymax: 20.25088\n",
            "Geodetic CRS:  WGS 84\n",
            "Reading layer `sim_results_Hawaii_10000m_v4_Run2' from data source \n",
            "  `/content/sim_results_Hawaii_Run2.gpkg' using driver `GPKG'\n",
            "Simple feature collection with 3170000 features and 80 fields\n",
            "Geometry type: POINT\n",
            "Dimension:     XY\n",
            "Bounding box:  xmin: -156.0017 ymin: 19.0045 xmax: -154.8362 ymax: 20.25088\n",
            "Geodetic CRS:  WGS 84\n",
            "Reading layer `sim_results_Hawaii_10000m_v4_Run4' from data source \n",
            "  `/content/sim_results_Hawaii_Run3.gpkg' using driver `GPKG'\n",
            "Simple feature collection with 3170000 features and 80 fields\n",
            "Geometry type: POINT\n",
            "Dimension:     XY\n",
            "Bounding box:  xmin: -156.0017 ymin: 19.0045 xmax: -154.8362 ymax: 20.25088\n",
            "Geodetic CRS:  WGS 84\n"
          ]
        }
      ]
    },
    {
      "cell_type": "code",
      "source": [
        "sim_1_dt$sim_id <- sim_1_dt$sim_id + 100000\n",
        "sim_2_dt$sim_id <- sim_2_dt$sim_id + 200000\n",
        "sim_3_dt$sim_id <- sim_3_dt$sim_id + 300000"
      ],
      "metadata": {
        "id": "kb35TjnvznPP"
      },
      "execution_count": 6,
      "outputs": []
    },
    {
      "cell_type": "code",
      "source": [
        "print(sim_dt$sim_id %>% unique %>% length)"
      ],
      "metadata": {
        "id": "g3LG4Bk50TIP",
        "outputId": "cef60d0b-636b-46fd-fd97-0cf8cf0579de",
        "colab": {
          "base_uri": "https://localhost:8080/",
          "height": 367
        }
      },
      "execution_count": 7,
      "outputs": [
        {
          "output_type": "error",
          "ename": "ERROR",
          "evalue": "ignored",
          "traceback": [
            "Error in h(simpleError(msg, call)): error in evaluating the argument 'x' in selecting a method for function 'print': error in evaluating the argument 'x' in selecting a method for function 'unique': object 'sim_dt' not found\nTraceback:\n",
            "1. print(sim_dt$sim_id %>% unique %>% length)",
            "2. sim_dt$sim_id %>% unique %>% length",
            "3. unique(.)",
            "4. .handleSimpleError(function (cond) \n . .Internal(C_tryCatchHelper(addr, 1L, cond)), \"object 'sim_dt' not found\", \n .     base::quote(eval(expr, envir, enclos)))",
            "5. h(simpleError(msg, call))",
            "6. .handleSimpleError(function (cond) \n . .Internal(C_tryCatchHelper(addr, 1L, cond)), \"error in evaluating the argument 'x' in selecting a method for function 'unique': object 'sim_dt' not found\", \n .     base::quote(h(simpleError(msg, call))))",
            "7. h(simpleError(msg, call))"
          ]
        }
      ]
    },
    {
      "cell_type": "code",
      "source": [
        "sim_dt <-list(sim_1_dt , sim_2_dt, sim_3_dt ) %>% rbindlist()"
      ],
      "metadata": {
        "id": "rlWnfNM-tjtK"
      },
      "execution_count": 8,
      "outputs": []
    },
    {
      "cell_type": "code",
      "source": [
        "sim_1_dt <- NULL\n",
        "sim_2_dt <- NULL\n",
        "sim_3_dt <- NULL"
      ],
      "metadata": {
        "id": "a3sZbRJF0olA"
      },
      "execution_count": 9,
      "outputs": []
    },
    {
      "cell_type": "code",
      "source": [
        "gc()"
      ],
      "metadata": {
        "colab": {
          "base_uri": "https://localhost:8080/",
          "height": 129
        },
        "id": "DyOyd289RSsW",
        "outputId": "c168af80-2a06-42a9-cd03-d3c9ad0ff0d9"
      },
      "execution_count": 10,
      "outputs": [
        {
          "output_type": "display_data",
          "data": {
            "text/html": [
              "<table class=\"dataframe\">\n",
              "<caption>A matrix: 2 × 6 of type dbl</caption>\n",
              "<thead>\n",
              "\t<tr><th></th><th scope=col>used</th><th scope=col>(Mb)</th><th scope=col>gc trigger</th><th scope=col>(Mb)</th><th scope=col>max used</th><th scope=col>(Mb)</th></tr>\n",
              "</thead>\n",
              "<tbody>\n",
              "\t<tr><th scope=row>Ncells</th><td> 32043973</td><td>1711.4</td><td>  72915145</td><td> 3894.1</td><td>  72915145</td><td> 3894.1</td></tr>\n",
              "\t<tr><th scope=row>Vcells</th><td>843343645</td><td>6434.3</td><td>1713265637</td><td>13071.2</td><td>1711643527</td><td>13058.9</td></tr>\n",
              "</tbody>\n",
              "</table>\n"
            ],
            "text/markdown": "\nA matrix: 2 × 6 of type dbl\n\n| <!--/--> | used | (Mb) | gc trigger | (Mb) | max used | (Mb) |\n|---|---|---|---|---|---|---|\n| Ncells |  32043973 | 1711.4 |   72915145 |  3894.1 |   72915145 |  3894.1 |\n| Vcells | 843343645 | 6434.3 | 1713265637 | 13071.2 | 1711643527 | 13058.9 |\n\n",
            "text/latex": "A matrix: 2 × 6 of type dbl\n\\begin{tabular}{r|llllll}\n  & used & (Mb) & gc trigger & (Mb) & max used & (Mb)\\\\\n\\hline\n\tNcells &  32043973 & 1711.4 &   72915145 &  3894.1 &   72915145 &  3894.1\\\\\n\tVcells & 843343645 & 6434.3 & 1713265637 & 13071.2 & 1711643527 & 13058.9\\\\\n\\end{tabular}\n",
            "text/plain": [
              "       used      (Mb)   gc trigger (Mb)    max used   (Mb)   \n",
              "Ncells  32043973 1711.4   72915145  3894.1   72915145  3894.1\n",
              "Vcells 843343645 6434.3 1713265637 13071.2 1711643527 13058.9"
            ]
          },
          "metadata": {}
        }
      ]
    },
    {
      "cell_type": "code",
      "source": [
        "grid_int_dt  <- fia_dt$geom %>% st_transform(4135) %>% st_buffer(10000) %>% st_transform(4326) %>% st_intersects(grid_dt$geom)"
      ],
      "metadata": {
        "id": "0A-fL1krTbA_"
      },
      "execution_count": 11,
      "outputs": []
    },
    {
      "cell_type": "code",
      "source": [],
      "metadata": {
        "id": "hDUie3TVwbJY"
      },
      "execution_count": null,
      "outputs": []
    },
    {
      "cell_type": "code",
      "source": [
        "rm_vec <- grid_int_dt %>% lapply(length) %>% unlist > 0\n",
        "grid_int_dt <- grid_int_dt[rm_vec]\n",
        "fia_dt <- fia_dt[rm_vec,]"
      ],
      "metadata": {
        "id": "isEeYbV1UDV9"
      },
      "execution_count": 12,
      "outputs": []
    },
    {
      "cell_type": "code",
      "source": [],
      "metadata": {
        "id": "dDQZeNQ6wbfz"
      },
      "execution_count": null,
      "outputs": []
    },
    {
      "cell_type": "code",
      "source": [
        "grid_dt <- grid_dt[!is.na(srad),]"
      ],
      "metadata": {
        "id": "GuKe5EAqAWtK"
      },
      "execution_count": 13,
      "outputs": []
    },
    {
      "cell_type": "code",
      "source": [
        "grid_dt$agbd_n <- grid_dt$agbd_n %>% as.numeric"
      ],
      "metadata": {
        "id": "XsFPDjw_BHKX"
      },
      "execution_count": 14,
      "outputs": []
    },
    {
      "cell_type": "code",
      "source": [
        "fia_dt$Stock_SOC_Mg_Ha <- fia_dt$Stock_SOC_Mg_Ha %>% as.numeric"
      ],
      "metadata": {
        "id": "Au3xpFsoA2Qz",
        "outputId": "3ec50482-a87e-44ab-e23c-a93127147fb4",
        "colab": {
          "base_uri": "https://localhost:8080/"
        }
      },
      "execution_count": 15,
      "outputs": [
        {
          "output_type": "stream",
          "name": "stderr",
          "text": [
            "Warning message in fia_dt$Stock_SOC_Mg_Ha %>% as.numeric:\n",
            "“NAs introduced by coercion”\n"
          ]
        }
      ]
    },
    {
      "cell_type": "code",
      "source": [
        "names(sim_dt)[-c(2,4,5,43,78,80)]"
      ],
      "metadata": {
        "colab": {
          "base_uri": "https://localhost:8080/",
          "height": 225
        },
        "id": "uQ6ACrJ04s_Y",
        "outputId": "fdfebdb1-0add-45c1-e5bd-1379d9406c08"
      },
      "execution_count": 24,
      "outputs": [
        {
          "output_type": "display_data",
          "data": {
            "text/html": [
              "<style>\n",
              ".list-inline {list-style: none; margin:0; padding: 0}\n",
              ".list-inline>li {display: inline-block}\n",
              ".list-inline>li:not(:last-child)::after {content: \"\\00b7\"; padding: 0 .5ex}\n",
              "</style>\n",
              "<ol class=list-inline><li>'PLOT'</li><li>'DEPTH_UPPER'</li><li>'id'</li><li>'left'</li><li>'top'</li><li>'right'</li><li>'bottom'</li><li>'water'</li><li>'trees'</li><li>'grass'</li><li>'flooded_vegetation'</li><li>'crops'</li><li>'shrub_and_scrub'</li><li>'built'</li><li>'bare'</li><li>'snow_and_ice'</li><li>'elevation'</li><li>'landform'</li><li>'SRTM_mTPI'</li><li>'aet'</li><li>'def'</li><li>'pdsi'</li><li>'pet'</li><li>'pr'</li><li>'ro'</li><li>'soil'</li><li>'srad'</li><li>'swe'</li><li>'tmmn'</li><li>'tmmx'</li><li>'vap'</li><li>'vpd'</li><li>'vs'</li><li>'agbd_m'</li><li>'agbd_sd'</li><li>'agbd_n'</li><li>'majorcomposition'</li><li>'age_years'</li><li>'Age_Class'</li><li>'var_imp_DEPTH_UPPER'</li><li>'var_imp_DEPTH_LOWER'</li><li>'var_imp_water'</li><li>'var_imp_trees'</li><li>'var_imp_grass'</li><li>'var_imp_flooded_vegetation'</li><li>'var_imp_crops'</li><li>'var_imp_shrub_and_scrub'</li><li>'var_imp_built'</li><li>'var_imp_bare'</li><li>'var_imp_snow_and_ice'</li><li>'var_imp_elevation'</li><li>'var_imp_landform'</li><li>'var_imp_SRTM_mTPI'</li><li>'var_imp_aet'</li><li>'var_imp_def'</li><li>'var_imp_pdsi'</li><li>'var_imp_pet'</li><li>'var_imp_pr'</li><li>'var_imp_ro'</li><li>'var_imp_soil'</li><li>'var_imp_srad'</li><li>'var_imp_swe'</li><li>'var_imp_tmmn'</li><li>'var_imp_tmmx'</li><li>'var_imp_vap'</li><li>'var_imp_vpd'</li><li>'var_imp_vs'</li><li>'var_imp_agbd_m'</li><li>'var_imp_agbd_sd'</li><li>'var_imp_agbd_n'</li><li>'var_imp_majorcomposition'</li><li>'var_imp_age_years'</li><li>'var_imp_Age_Class'</li><li>'r2_plot'</li><li>'geom'</li></ol>\n"
            ],
            "text/markdown": "1. 'PLOT'\n2. 'DEPTH_UPPER'\n3. 'id'\n4. 'left'\n5. 'top'\n6. 'right'\n7. 'bottom'\n8. 'water'\n9. 'trees'\n10. 'grass'\n11. 'flooded_vegetation'\n12. 'crops'\n13. 'shrub_and_scrub'\n14. 'built'\n15. 'bare'\n16. 'snow_and_ice'\n17. 'elevation'\n18. 'landform'\n19. 'SRTM_mTPI'\n20. 'aet'\n21. 'def'\n22. 'pdsi'\n23. 'pet'\n24. 'pr'\n25. 'ro'\n26. 'soil'\n27. 'srad'\n28. 'swe'\n29. 'tmmn'\n30. 'tmmx'\n31. 'vap'\n32. 'vpd'\n33. 'vs'\n34. 'agbd_m'\n35. 'agbd_sd'\n36. 'agbd_n'\n37. 'majorcomposition'\n38. 'age_years'\n39. 'Age_Class'\n40. 'var_imp_DEPTH_UPPER'\n41. 'var_imp_DEPTH_LOWER'\n42. 'var_imp_water'\n43. 'var_imp_trees'\n44. 'var_imp_grass'\n45. 'var_imp_flooded_vegetation'\n46. 'var_imp_crops'\n47. 'var_imp_shrub_and_scrub'\n48. 'var_imp_built'\n49. 'var_imp_bare'\n50. 'var_imp_snow_and_ice'\n51. 'var_imp_elevation'\n52. 'var_imp_landform'\n53. 'var_imp_SRTM_mTPI'\n54. 'var_imp_aet'\n55. 'var_imp_def'\n56. 'var_imp_pdsi'\n57. 'var_imp_pet'\n58. 'var_imp_pr'\n59. 'var_imp_ro'\n60. 'var_imp_soil'\n61. 'var_imp_srad'\n62. 'var_imp_swe'\n63. 'var_imp_tmmn'\n64. 'var_imp_tmmx'\n65. 'var_imp_vap'\n66. 'var_imp_vpd'\n67. 'var_imp_vs'\n68. 'var_imp_agbd_m'\n69. 'var_imp_agbd_sd'\n70. 'var_imp_agbd_n'\n71. 'var_imp_majorcomposition'\n72. 'var_imp_age_years'\n73. 'var_imp_Age_Class'\n74. 'r2_plot'\n75. 'geom'\n\n\n",
            "text/latex": "\\begin{enumerate*}\n\\item 'PLOT'\n\\item 'DEPTH\\_UPPER'\n\\item 'id'\n\\item 'left'\n\\item 'top'\n\\item 'right'\n\\item 'bottom'\n\\item 'water'\n\\item 'trees'\n\\item 'grass'\n\\item 'flooded\\_vegetation'\n\\item 'crops'\n\\item 'shrub\\_and\\_scrub'\n\\item 'built'\n\\item 'bare'\n\\item 'snow\\_and\\_ice'\n\\item 'elevation'\n\\item 'landform'\n\\item 'SRTM\\_mTPI'\n\\item 'aet'\n\\item 'def'\n\\item 'pdsi'\n\\item 'pet'\n\\item 'pr'\n\\item 'ro'\n\\item 'soil'\n\\item 'srad'\n\\item 'swe'\n\\item 'tmmn'\n\\item 'tmmx'\n\\item 'vap'\n\\item 'vpd'\n\\item 'vs'\n\\item 'agbd\\_m'\n\\item 'agbd\\_sd'\n\\item 'agbd\\_n'\n\\item 'majorcomposition'\n\\item 'age\\_years'\n\\item 'Age\\_Class'\n\\item 'var\\_imp\\_DEPTH\\_UPPER'\n\\item 'var\\_imp\\_DEPTH\\_LOWER'\n\\item 'var\\_imp\\_water'\n\\item 'var\\_imp\\_trees'\n\\item 'var\\_imp\\_grass'\n\\item 'var\\_imp\\_flooded\\_vegetation'\n\\item 'var\\_imp\\_crops'\n\\item 'var\\_imp\\_shrub\\_and\\_scrub'\n\\item 'var\\_imp\\_built'\n\\item 'var\\_imp\\_bare'\n\\item 'var\\_imp\\_snow\\_and\\_ice'\n\\item 'var\\_imp\\_elevation'\n\\item 'var\\_imp\\_landform'\n\\item 'var\\_imp\\_SRTM\\_mTPI'\n\\item 'var\\_imp\\_aet'\n\\item 'var\\_imp\\_def'\n\\item 'var\\_imp\\_pdsi'\n\\item 'var\\_imp\\_pet'\n\\item 'var\\_imp\\_pr'\n\\item 'var\\_imp\\_ro'\n\\item 'var\\_imp\\_soil'\n\\item 'var\\_imp\\_srad'\n\\item 'var\\_imp\\_swe'\n\\item 'var\\_imp\\_tmmn'\n\\item 'var\\_imp\\_tmmx'\n\\item 'var\\_imp\\_vap'\n\\item 'var\\_imp\\_vpd'\n\\item 'var\\_imp\\_vs'\n\\item 'var\\_imp\\_agbd\\_m'\n\\item 'var\\_imp\\_agbd\\_sd'\n\\item 'var\\_imp\\_agbd\\_n'\n\\item 'var\\_imp\\_majorcomposition'\n\\item 'var\\_imp\\_age\\_years'\n\\item 'var\\_imp\\_Age\\_Class'\n\\item 'r2\\_plot'\n\\item 'geom'\n\\end{enumerate*}\n",
            "text/plain": [
              " [1] \"PLOT\"                       \"DEPTH_UPPER\"               \n",
              " [3] \"id\"                         \"left\"                      \n",
              " [5] \"top\"                        \"right\"                     \n",
              " [7] \"bottom\"                     \"water\"                     \n",
              " [9] \"trees\"                      \"grass\"                     \n",
              "[11] \"flooded_vegetation\"         \"crops\"                     \n",
              "[13] \"shrub_and_scrub\"            \"built\"                     \n",
              "[15] \"bare\"                       \"snow_and_ice\"              \n",
              "[17] \"elevation\"                  \"landform\"                  \n",
              "[19] \"SRTM_mTPI\"                  \"aet\"                       \n",
              "[21] \"def\"                        \"pdsi\"                      \n",
              "[23] \"pet\"                        \"pr\"                        \n",
              "[25] \"ro\"                         \"soil\"                      \n",
              "[27] \"srad\"                       \"swe\"                       \n",
              "[29] \"tmmn\"                       \"tmmx\"                      \n",
              "[31] \"vap\"                        \"vpd\"                       \n",
              "[33] \"vs\"                         \"agbd_m\"                    \n",
              "[35] \"agbd_sd\"                    \"agbd_n\"                    \n",
              "[37] \"majorcomposition\"           \"age_years\"                 \n",
              "[39] \"Age_Class\"                  \"var_imp_DEPTH_UPPER\"       \n",
              "[41] \"var_imp_DEPTH_LOWER\"        \"var_imp_water\"             \n",
              "[43] \"var_imp_trees\"              \"var_imp_grass\"             \n",
              "[45] \"var_imp_flooded_vegetation\" \"var_imp_crops\"             \n",
              "[47] \"var_imp_shrub_and_scrub\"    \"var_imp_built\"             \n",
              "[49] \"var_imp_bare\"               \"var_imp_snow_and_ice\"      \n",
              "[51] \"var_imp_elevation\"          \"var_imp_landform\"          \n",
              "[53] \"var_imp_SRTM_mTPI\"          \"var_imp_aet\"               \n",
              "[55] \"var_imp_def\"                \"var_imp_pdsi\"              \n",
              "[57] \"var_imp_pet\"                \"var_imp_pr\"                \n",
              "[59] \"var_imp_ro\"                 \"var_imp_soil\"              \n",
              "[61] \"var_imp_srad\"               \"var_imp_swe\"               \n",
              "[63] \"var_imp_tmmn\"               \"var_imp_tmmx\"              \n",
              "[65] \"var_imp_vap\"                \"var_imp_vpd\"               \n",
              "[67] \"var_imp_vs\"                 \"var_imp_agbd_m\"            \n",
              "[69] \"var_imp_agbd_sd\"            \"var_imp_agbd_n\"            \n",
              "[71] \"var_imp_majorcomposition\"   \"var_imp_age_years\"         \n",
              "[73] \"var_imp_Age_Class\"          \"r2_plot\"                   \n",
              "[75] \"geom\"                      "
            ]
          },
          "metadata": {}
        }
      ]
    },
    {
      "cell_type": "code",
      "source": [
        "remove_names <- c('SOC_Mg_Ha','DEPTH_UPPER','DEPTH_LOWER','predicted','geom') %>% match(names(sim_dt))\n",
        "remove_names"
      ],
      "metadata": {
        "colab": {
          "base_uri": "https://localhost:8080/",
          "height": 34
        },
        "id": "PpqhuI1dUy8y",
        "outputId": "bf452303-6de2-4385-fe2a-3d52e5de5bd8"
      },
      "execution_count": 16,
      "outputs": [
        {
          "output_type": "display_data",
          "data": {
            "text/html": [
              "<style>\n",
              ".list-inline {list-style: none; margin:0; padding: 0}\n",
              ".list-inline>li {display: inline-block}\n",
              ".list-inline>li:not(:last-child)::after {content: \"\\00b7\"; padding: 0 .5ex}\n",
              "</style>\n",
              "<ol class=list-inline><li>2</li><li>3</li><li>4</li><li>43</li><li>81</li></ol>\n"
            ],
            "text/markdown": "1. 2\n2. 3\n3. 4\n4. 43\n5. 81\n\n\n",
            "text/latex": "\\begin{enumerate*}\n\\item 2\n\\item 3\n\\item 4\n\\item 43\n\\item 81\n\\end{enumerate*}\n",
            "text/plain": [
              "[1]  2  3  4 43 81"
            ]
          },
          "metadata": {}
        }
      ]
    },
    {
      "cell_type": "code",
      "source": [
        "sim_dt %>% nrow()\n",
        "sim_no_depth_dt <- sim_dt[,names(sim_dt)[-c(remove_names)],with=FALSE] %>% unique\n",
        "sim_no_depth_dt %>% nrow()"
      ],
      "metadata": {
        "id": "8b0LmUeZ1RIS",
        "colab": {
          "base_uri": "https://localhost:8080/",
          "height": 52
        },
        "outputId": "15837931-09c7-48c1-a5bc-98f7abb430ff"
      },
      "execution_count": 17,
      "outputs": [
        {
          "output_type": "display_data",
          "data": {
            "text/html": [
              "9510000"
            ],
            "text/markdown": "9510000",
            "text/latex": "9510000",
            "text/plain": [
              "[1] 9510000"
            ]
          },
          "metadata": {}
        },
        {
          "output_type": "display_data",
          "data": {
            "text/html": [
              "3360000"
            ],
            "text/markdown": "3360000",
            "text/latex": "3360000",
            "text/plain": [
              "[1] 3360000"
            ]
          },
          "metadata": {}
        }
      ]
    },
    {
      "cell_type": "code",
      "source": [
        "sim_no_depth_dt %>% nrow"
      ],
      "metadata": {
        "id": "URaRsGg77gP8",
        "colab": {
          "base_uri": "https://localhost:8080/",
          "height": 34
        },
        "outputId": "8e9c57cd-e5ab-49f8-f1b0-78d82582f967"
      },
      "execution_count": 18,
      "outputs": [
        {
          "output_type": "display_data",
          "data": {
            "text/html": [
              "3360000"
            ],
            "text/markdown": "3360000",
            "text/latex": "3360000",
            "text/plain": [
              "[1] 3360000"
            ]
          },
          "metadata": {}
        }
      ]
    },
    {
      "cell_type": "code",
      "source": [],
      "metadata": {
        "id": "mSRxkfQYYXmL"
      },
      "execution_count": 28,
      "outputs": []
    },
    {
      "cell_type": "code",
      "source": [
        "sim_c_no_depth_dt <- sim_dt[,list(SOC_Mg_Ha=sum(SOC_Mg_Ha),predicted = sum(predicted),geom = unique(geom)),by = .(PLOT,sim_id)]\n",
        "# sim_c_no_depth_dt <- sim_c_no_depth_dt %>% unique()"
      ],
      "metadata": {
        "id": "8NKWwxr33VUC"
      },
      "execution_count": 19,
      "outputs": []
    },
    {
      "cell_type": "code",
      "source": [
        "sim_c_no_depth_dt %>% nrow()"
      ],
      "metadata": {
        "colab": {
          "base_uri": "https://localhost:8080/",
          "height": 34
        },
        "id": "m4Eh5SvaVX8C",
        "outputId": "f5e5c1ba-4e50-4e41-f5e9-d9222df681c4"
      },
      "execution_count": 20,
      "outputs": [
        {
          "output_type": "display_data",
          "data": {
            "text/html": [
              "3360000"
            ],
            "text/markdown": "3360000",
            "text/latex": "3360000",
            "text/plain": [
              "[1] 3360000"
            ]
          },
          "metadata": {}
        }
      ]
    },
    {
      "cell_type": "code",
      "source": [
        "# (sim_no_depth_dt$PLOT %in% sim_c_no_depth_dt$PLOT & sim_no_depth_dt$sim_id %in% sim_c_no_depth_dt$sim_id ) %>% table"
      ],
      "metadata": {
        "id": "xr1eyeQf5G3P"
      },
      "execution_count": 31,
      "outputs": []
    },
    {
      "cell_type": "code",
      "source": [
        "# sim_c_no_depth_dt"
      ],
      "metadata": {
        "id": "kqmVG3x85FIq"
      },
      "execution_count": 32,
      "outputs": []
    },
    {
      "cell_type": "code",
      "source": [
        "sim_c_sum_dt <- merge(sim_c_no_depth_dt,sim_no_depth_dt,match = c('PLOT','sim_dt'))"
      ],
      "metadata": {
        "id": "6QQLaxXYzouC"
      },
      "execution_count": 21,
      "outputs": []
    },
    {
      "cell_type": "code",
      "source": [
        " geom_dt <- sim_c_sum_dt[,list(geom=unique(geom) ),by=id] %>% st_as_sf() %>% st_set_crs(4326)\n",
        " poly_int <- st_intersects(geom_dt,big_polys_dt %>% st_as_sf %>% st_buffer(0) %>% st_transform(4326))"
      ],
      "metadata": {
        "id": "M6rVpf4zkXsT"
      },
      "execution_count": 22,
      "outputs": []
    },
    {
      "cell_type": "code",
      "source": [
        "geom_dt$big_poly_id <- poly_int %>% lapply(function(x){big_polys_dt$id[x[1]]}) %>% unlist"
      ],
      "metadata": {
        "id": "r19zzXOKqVAm"
      },
      "execution_count": 23,
      "outputs": []
    },
    {
      "cell_type": "code",
      "source": [
        "sim_c_sum_dt$big_poly_id <-  geom_dt$big_poly_id[match(sim_c_sum_dt$id,geom_dt$id)]"
      ],
      "metadata": {
        "id": "3tuj7gempSo8"
      },
      "execution_count": 24,
      "outputs": []
    },
    {
      "cell_type": "code",
      "source": [
        "# sim_c_sum_dt"
      ],
      "metadata": {
        "id": "fTv1NopYpEXa"
      },
      "execution_count": 37,
      "outputs": []
    },
    {
      "cell_type": "code",
      "source": [
        "# sim_c_sum_dt %>% names"
      ],
      "metadata": {
        "id": "zTAcSa098igz"
      },
      "execution_count": 38,
      "outputs": []
    },
    {
      "cell_type": "code",
      "source": [
        "sim_c_sum_dt[,z:=predicted-SOC_Mg_Ha]"
      ],
      "metadata": {
        "id": "UxooKXbS8BXx"
      },
      "execution_count": 25,
      "outputs": []
    },
    {
      "cell_type": "code",
      "source": [
        "sim_c_sum_dt[,rmse:=mean(((predicted-SOC_Mg_Ha))^2),by =.(PLOT,id)]"
      ],
      "metadata": {
        "id": "6S_bCu_x31Z3"
      },
      "execution_count": 26,
      "outputs": []
    },
    {
      "cell_type": "code",
      "source": [
        "sim_c_sum_dt[,rmse_p:=mean(((predicted-SOC_Mg_Ha)/SOC_Mg_Ha)^2),by =.(PLOT,id)]"
      ],
      "metadata": {
        "id": "OSvG7HTn88ju"
      },
      "execution_count": 27,
      "outputs": []
    },
    {
      "cell_type": "code",
      "source": [
        "sim_c_sum_dt[rmse_p<.01,list(SOC_Mg_Ha = mean(SOC_Mg_Ha %>% as.numeric)),by = PLOT]$SOC_Mg_Ha %>% quantile(c(0,.2,.4,.6,.8,1))"
      ],
      "metadata": {
        "id": "THAtqXmVhgkJ",
        "colab": {
          "base_uri": "https://localhost:8080/",
          "height": 52
        },
        "outputId": "1e14684b-533a-4e8f-ef49-ccd2e90daf2e"
      },
      "execution_count": 28,
      "outputs": [
        {
          "output_type": "display_data",
          "data": {
            "text/html": [
              "<style>\n",
              ".dl-inline {width: auto; margin:0; padding: 0}\n",
              ".dl-inline>dt, .dl-inline>dd {float: none; width: auto; display: inline-block}\n",
              ".dl-inline>dt::after {content: \":\\0020\"; padding-right: .5ex}\n",
              ".dl-inline>dt:not(:first-of-type) {padding-left: .5ex}\n",
              "</style><dl class=dl-inline><dt>0%</dt><dd>53.5008543054631</dd><dt>20%</dt><dd>104.445782213072</dd><dt>40%</dt><dd>193.454400774048</dd><dt>60%</dt><dd>234.428667507306</dd><dt>80%</dt><dd>309.813888575643</dd><dt>100%</dt><dd>535.688692205937</dd></dl>\n"
            ],
            "text/markdown": "0%\n:   53.500854305463120%\n:   104.44578221307240%\n:   193.45440077404860%\n:   234.42866750730680%\n:   309.813888575643100%\n:   535.688692205937\n\n",
            "text/latex": "\\begin{description*}\n\\item[0\\textbackslash{}\\%] 53.5008543054631\n\\item[20\\textbackslash{}\\%] 104.445782213072\n\\item[40\\textbackslash{}\\%] 193.454400774048\n\\item[60\\textbackslash{}\\%] 234.428667507306\n\\item[80\\textbackslash{}\\%] 309.813888575643\n\\item[100\\textbackslash{}\\%] 535.688692205937\n\\end{description*}\n",
            "text/plain": [
              "       0%       20%       40%       60%       80%      100% \n",
              " 53.50085 104.44578 193.45440 234.42867 309.81389 535.68869 "
            ]
          },
          "metadata": {}
        }
      ]
    },
    {
      "cell_type": "code",
      "source": [
        "sim_c_sum_dt[,list(Stock_SOC_Mg_Ha = mean(SOC_Mg_Ha %>% as.numeric)),by = PLOT] %>%\n",
        "  ggplot(aes(x=Stock_SOC_Mg_Ha))+\n",
        "  geom_histogram()"
      ],
      "metadata": {
        "colab": {
          "base_uri": "https://localhost:8080/",
          "height": 454
        },
        "id": "TOX04JHCV9ou",
        "outputId": "fbea9158-cbd7-48c6-b133-4289e88f51b6"
      },
      "execution_count": 29,
      "outputs": [
        {
          "output_type": "stream",
          "name": "stderr",
          "text": [
            "\u001b[1m\u001b[22m`stat_bin()` using `bins = 30`. Pick better value with `binwidth`.\n"
          ]
        },
        {
          "output_type": "display_data",
          "data": {
            "text/plain": [
              "plot without title"
            ],
            "image/png": "[encoded data removed]"
          },
          "metadata": {
            "image/png": {
              "width": 420,
              "height": 420
            }
          }
        }
      ]
    },
    {
      "cell_type": "code",
      "source": [
        "sim_c_sum_dt %>%names"
      ],
      "metadata": {
        "colab": {
          "base_uri": "https://localhost:8080/",
          "height": 243
        },
        "id": "eLaHMIdimtoG",
        "outputId": "16c38df7-5c00-484b-9f55-ee2c533b82f3"
      },
      "execution_count": 44,
      "outputs": [
        {
          "output_type": "display_data",
          "data": {
            "text/html": [
              "<style>\n",
              ".list-inline {list-style: none; margin:0; padding: 0}\n",
              ".list-inline>li {display: inline-block}\n",
              ".list-inline>li:not(:last-child)::after {content: \"\\00b7\"; padding: 0 .5ex}\n",
              "</style>\n",
              "<ol class=list-inline><li>'PLOT'</li><li>'sim_id'</li><li>'SOC_Mg_Ha'</li><li>'predicted'</li><li>'geom'</li><li>'county_name'</li><li>'id'</li><li>'left'</li><li>'top'</li><li>'right'</li><li>'bottom'</li><li>'water'</li><li>'trees'</li><li>'grass'</li><li>'flooded_vegetation'</li><li>'crops'</li><li>'shrub_and_scrub'</li><li>'built'</li><li>'bare'</li><li>'snow_and_ice'</li><li>'elevation'</li><li>'landform'</li><li>'SRTM_mTPI'</li><li>'aet'</li><li>'def'</li><li>'pdsi'</li><li>'pet'</li><li>'pr'</li><li>'ro'</li><li>'soil'</li><li>'srad'</li><li>'swe'</li><li>'tmmn'</li><li>'tmmx'</li><li>'vap'</li><li>'vpd'</li><li>'vs'</li><li>'agbd_m'</li><li>'agbd_sd'</li><li>'agbd_n'</li><li>'majorcomposition'</li><li>'age_years'</li><li>'Age_Class'</li><li>'var_imp_DEPTH_UPPER'</li><li>'var_imp_DEPTH_LOWER'</li><li>'var_imp_water'</li><li>'var_imp_trees'</li><li>'var_imp_grass'</li><li>'var_imp_flooded_vegetation'</li><li>'var_imp_crops'</li><li>'var_imp_shrub_and_scrub'</li><li>'var_imp_built'</li><li>'var_imp_bare'</li><li>'var_imp_snow_and_ice'</li><li>'var_imp_elevation'</li><li>'var_imp_landform'</li><li>'var_imp_SRTM_mTPI'</li><li>'var_imp_aet'</li><li>'var_imp_def'</li><li>'var_imp_pdsi'</li><li>'var_imp_pet'</li><li>'var_imp_pr'</li><li>'var_imp_ro'</li><li>'var_imp_soil'</li><li>'var_imp_srad'</li><li>'var_imp_swe'</li><li>'var_imp_tmmn'</li><li>'var_imp_tmmx'</li><li>'var_imp_vap'</li><li>'var_imp_vpd'</li><li>'var_imp_vs'</li><li>'var_imp_agbd_m'</li><li>'var_imp_agbd_sd'</li><li>'var_imp_agbd_n'</li><li>'var_imp_majorcomposition'</li><li>'var_imp_age_years'</li><li>'var_imp_Age_Class'</li><li>'r2_depth'</li><li>'r2_plot'</li><li>'big_poly_id'</li><li>'z'</li><li>'rmse'</li><li>'rmse_p'</li></ol>\n"
            ],
            "text/markdown": "1. 'PLOT'\n2. 'sim_id'\n3. 'SOC_Mg_Ha'\n4. 'predicted'\n5. 'geom'\n6. 'county_name'\n7. 'id'\n8. 'left'\n9. 'top'\n10. 'right'\n11. 'bottom'\n12. 'water'\n13. 'trees'\n14. 'grass'\n15. 'flooded_vegetation'\n16. 'crops'\n17. 'shrub_and_scrub'\n18. 'built'\n19. 'bare'\n20. 'snow_and_ice'\n21. 'elevation'\n22. 'landform'\n23. 'SRTM_mTPI'\n24. 'aet'\n25. 'def'\n26. 'pdsi'\n27. 'pet'\n28. 'pr'\n29. 'ro'\n30. 'soil'\n31. 'srad'\n32. 'swe'\n33. 'tmmn'\n34. 'tmmx'\n35. 'vap'\n36. 'vpd'\n37. 'vs'\n38. 'agbd_m'\n39. 'agbd_sd'\n40. 'agbd_n'\n41. 'majorcomposition'\n42. 'age_years'\n43. 'Age_Class'\n44. 'var_imp_DEPTH_UPPER'\n45. 'var_imp_DEPTH_LOWER'\n46. 'var_imp_water'\n47. 'var_imp_trees'\n48. 'var_imp_grass'\n49. 'var_imp_flooded_vegetation'\n50. 'var_imp_crops'\n51. 'var_imp_shrub_and_scrub'\n52. 'var_imp_built'\n53. 'var_imp_bare'\n54. 'var_imp_snow_and_ice'\n55. 'var_imp_elevation'\n56. 'var_imp_landform'\n57. 'var_imp_SRTM_mTPI'\n58. 'var_imp_aet'\n59. 'var_imp_def'\n60. 'var_imp_pdsi'\n61. 'var_imp_pet'\n62. 'var_imp_pr'\n63. 'var_imp_ro'\n64. 'var_imp_soil'\n65. 'var_imp_srad'\n66. 'var_imp_swe'\n67. 'var_imp_tmmn'\n68. 'var_imp_tmmx'\n69. 'var_imp_vap'\n70. 'var_imp_vpd'\n71. 'var_imp_vs'\n72. 'var_imp_agbd_m'\n73. 'var_imp_agbd_sd'\n74. 'var_imp_agbd_n'\n75. 'var_imp_majorcomposition'\n76. 'var_imp_age_years'\n77. 'var_imp_Age_Class'\n78. 'r2_depth'\n79. 'r2_plot'\n80. 'big_poly_id'\n81. 'z'\n82. 'rmse'\n83. 'rmse_p'\n\n\n",
            "text/latex": "\\begin{enumerate*}\n\\item 'PLOT'\n\\item 'sim\\_id'\n\\item 'SOC\\_Mg\\_Ha'\n\\item 'predicted'\n\\item 'geom'\n\\item 'county\\_name'\n\\item 'id'\n\\item 'left'\n\\item 'top'\n\\item 'right'\n\\item 'bottom'\n\\item 'water'\n\\item 'trees'\n\\item 'grass'\n\\item 'flooded\\_vegetation'\n\\item 'crops'\n\\item 'shrub\\_and\\_scrub'\n\\item 'built'\n\\item 'bare'\n\\item 'snow\\_and\\_ice'\n\\item 'elevation'\n\\item 'landform'\n\\item 'SRTM\\_mTPI'\n\\item 'aet'\n\\item 'def'\n\\item 'pdsi'\n\\item 'pet'\n\\item 'pr'\n\\item 'ro'\n\\item 'soil'\n\\item 'srad'\n\\item 'swe'\n\\item 'tmmn'\n\\item 'tmmx'\n\\item 'vap'\n\\item 'vpd'\n\\item 'vs'\n\\item 'agbd\\_m'\n\\item 'agbd\\_sd'\n\\item 'agbd\\_n'\n\\item 'majorcomposition'\n\\item 'age\\_years'\n\\item 'Age\\_Class'\n\\item 'var\\_imp\\_DEPTH\\_UPPER'\n\\item 'var\\_imp\\_DEPTH\\_LOWER'\n\\item 'var\\_imp\\_water'\n\\item 'var\\_imp\\_trees'\n\\item 'var\\_imp\\_grass'\n\\item 'var\\_imp\\_flooded\\_vegetation'\n\\item 'var\\_imp\\_crops'\n\\item 'var\\_imp\\_shrub\\_and\\_scrub'\n\\item 'var\\_imp\\_built'\n\\item 'var\\_imp\\_bare'\n\\item 'var\\_imp\\_snow\\_and\\_ice'\n\\item 'var\\_imp\\_elevation'\n\\item 'var\\_imp\\_landform'\n\\item 'var\\_imp\\_SRTM\\_mTPI'\n\\item 'var\\_imp\\_aet'\n\\item 'var\\_imp\\_def'\n\\item 'var\\_imp\\_pdsi'\n\\item 'var\\_imp\\_pet'\n\\item 'var\\_imp\\_pr'\n\\item 'var\\_imp\\_ro'\n\\item 'var\\_imp\\_soil'\n\\item 'var\\_imp\\_srad'\n\\item 'var\\_imp\\_swe'\n\\item 'var\\_imp\\_tmmn'\n\\item 'var\\_imp\\_tmmx'\n\\item 'var\\_imp\\_vap'\n\\item 'var\\_imp\\_vpd'\n\\item 'var\\_imp\\_vs'\n\\item 'var\\_imp\\_agbd\\_m'\n\\item 'var\\_imp\\_agbd\\_sd'\n\\item 'var\\_imp\\_agbd\\_n'\n\\item 'var\\_imp\\_majorcomposition'\n\\item 'var\\_imp\\_age\\_years'\n\\item 'var\\_imp\\_Age\\_Class'\n\\item 'r2\\_depth'\n\\item 'r2\\_plot'\n\\item 'big\\_poly\\_id'\n\\item 'z'\n\\item 'rmse'\n\\item 'rmse\\_p'\n\\end{enumerate*}\n",
            "text/plain": [
              " [1] \"PLOT\"                       \"sim_id\"                    \n",
              " [3] \"SOC_Mg_Ha\"                  \"predicted\"                 \n",
              " [5] \"geom\"                       \"county_name\"               \n",
              " [7] \"id\"                         \"left\"                      \n",
              " [9] \"top\"                        \"right\"                     \n",
              "[11] \"bottom\"                     \"water\"                     \n",
              "[13] \"trees\"                      \"grass\"                     \n",
              "[15] \"flooded_vegetation\"         \"crops\"                     \n",
              "[17] \"shrub_and_scrub\"            \"built\"                     \n",
              "[19] \"bare\"                       \"snow_and_ice\"              \n",
              "[21] \"elevation\"                  \"landform\"                  \n",
              "[23] \"SRTM_mTPI\"                  \"aet\"                       \n",
              "[25] \"def\"                        \"pdsi\"                      \n",
              "[27] \"pet\"                        \"pr\"                        \n",
              "[29] \"ro\"                         \"soil\"                      \n",
              "[31] \"srad\"                       \"swe\"                       \n",
              "[33] \"tmmn\"                       \"tmmx\"                      \n",
              "[35] \"vap\"                        \"vpd\"                       \n",
              "[37] \"vs\"                         \"agbd_m\"                    \n",
              "[39] \"agbd_sd\"                    \"agbd_n\"                    \n",
              "[41] \"majorcomposition\"           \"age_years\"                 \n",
              "[43] \"Age_Class\"                  \"var_imp_DEPTH_UPPER\"       \n",
              "[45] \"var_imp_DEPTH_LOWER\"        \"var_imp_water\"             \n",
              "[47] \"var_imp_trees\"              \"var_imp_grass\"             \n",
              "[49] \"var_imp_flooded_vegetation\" \"var_imp_crops\"             \n",
              "[51] \"var_imp_shrub_and_scrub\"    \"var_imp_built\"             \n",
              "[53] \"var_imp_bare\"               \"var_imp_snow_and_ice\"      \n",
              "[55] \"var_imp_elevation\"          \"var_imp_landform\"          \n",
              "[57] \"var_imp_SRTM_mTPI\"          \"var_imp_aet\"               \n",
              "[59] \"var_imp_def\"                \"var_imp_pdsi\"              \n",
              "[61] \"var_imp_pet\"                \"var_imp_pr\"                \n",
              "[63] \"var_imp_ro\"                 \"var_imp_soil\"              \n",
              "[65] \"var_imp_srad\"               \"var_imp_swe\"               \n",
              "[67] \"var_imp_tmmn\"               \"var_imp_tmmx\"              \n",
              "[69] \"var_imp_vap\"                \"var_imp_vpd\"               \n",
              "[71] \"var_imp_vs\"                 \"var_imp_agbd_m\"            \n",
              "[73] \"var_imp_agbd_sd\"            \"var_imp_agbd_n\"            \n",
              "[75] \"var_imp_majorcomposition\"   \"var_imp_age_years\"         \n",
              "[77] \"var_imp_Age_Class\"          \"r2_depth\"                  \n",
              "[79] \"r2_plot\"                    \"big_poly_id\"               \n",
              "[81] \"z\"                          \"rmse\"                      \n",
              "[83] \"rmse_p\"                    "
            ]
          },
          "metadata": {}
        }
      ]
    },
    {
      "cell_type": "code",
      "source": [
        "sim_c_sum_dt %>%\n",
        "  ggplot(aes(x=r2_depth))+\n",
        "  geom_histogram()\n",
        "\n",
        "# sim_c_sum_dt[rmse_p<.01] %>%\n",
        "#   ggplot(aes(x=r2_plot))+\n",
        "#   geom_histogram()"
      ],
      "metadata": {
        "colab": {
          "base_uri": "https://localhost:8080/",
          "height": 454
        },
        "id": "TegWt6JhVl9o",
        "outputId": "e2b63e38-21c8-44a4-b41b-9c4bb496f106"
      },
      "execution_count": 30,
      "outputs": [
        {
          "output_type": "stream",
          "name": "stderr",
          "text": [
            "\u001b[1m\u001b[22m`stat_bin()` using `bins = 30`. Pick better value with `binwidth`.\n"
          ]
        },
        {
          "output_type": "display_data",
          "data": {
            "text/plain": [
              "plot without title"
            ],
            "image/png": "[encoded data removed]"
          },
          "metadata": {
            "image/png": {
              "width": 420,
              "height": 420
            }
          }
        }
      ]
    },
    {
      "cell_type": "code",
      "source": [
        "# 175,250,325,475"
      ],
      "metadata": {
        "id": "cez1JB_aZ7W5"
      },
      "execution_count": 46,
      "outputs": []
    },
    {
      "cell_type": "code",
      "source": [
        "head(sim_c_sum_dt)"
      ],
      "metadata": {
        "id": "FRxKPWnc2baJ",
        "colab": {
          "base_uri": "https://localhost:8080/",
          "height": 410
        },
        "outputId": "cace4a23-4539-43c1-cea1-ef782a9d38b4"
      },
      "execution_count": 47,
      "outputs": [
        {
          "output_type": "display_data",
          "data": {
            "text/html": [
              "<table class=\"dataframe\">\n",
              "<caption>A data.table: 6 × 83</caption>\n",
              "<thead>\n",
              "\t<tr><th scope=col>PLOT</th><th scope=col>sim_id</th><th scope=col>SOC_Mg_Ha</th><th scope=col>predicted</th><th scope=col>geom</th><th scope=col>county_name</th><th scope=col>id</th><th scope=col>left</th><th scope=col>top</th><th scope=col>right</th><th scope=col>⋯</th><th scope=col>var_imp_agbd_n</th><th scope=col>var_imp_majorcomposition</th><th scope=col>var_imp_age_years</th><th scope=col>var_imp_Age_Class</th><th scope=col>r2_depth</th><th scope=col>r2_plot</th><th scope=col>big_poly_id</th><th scope=col>z</th><th scope=col>rmse</th><th scope=col>rmse_p</th></tr>\n",
              "\t<tr><th scope=col>&lt;chr&gt;</th><th scope=col>&lt;dbl&gt;</th><th scope=col>&lt;dbl&gt;</th><th scope=col>&lt;dbl&gt;</th><th scope=col>&lt;list&gt;</th><th scope=col>&lt;chr&gt;</th><th scope=col>&lt;dbl&gt;</th><th scope=col>&lt;dbl&gt;</th><th scope=col>&lt;dbl&gt;</th><th scope=col>&lt;dbl&gt;</th><th scope=col>⋯</th><th scope=col>&lt;dbl&gt;</th><th scope=col>&lt;dbl&gt;</th><th scope=col>&lt;dbl&gt;</th><th scope=col>&lt;dbl&gt;</th><th scope=col>&lt;dbl&gt;</th><th scope=col>&lt;dbl&gt;</th><th scope=col>&lt;dbl&gt;</th><th scope=col>&lt;dbl&gt;</th><th scope=col>&lt;dbl&gt;</th><th scope=col>&lt;dbl&gt;</th></tr>\n",
              "</thead>\n",
              "<tbody>\n",
              "\t<tr><td>2159</td><td>110001</td><td>421.2431</td><td>364.1446</td><td>-155.73756, 20.13136</td><td>Hawaii</td><td>2559062</td><td>475161.4</td><td>143702.3</td><td>475411.4</td><td>⋯</td><td>19260.65</td><td>23440.15</td><td>18665.47</td><td>10068.701</td><td>0.2803563</td><td>0.8598157</td><td>1</td><td>-57.098492</td><td>1188.5976</td><td>0.006698373</td></tr>\n",
              "\t<tr><td>2159</td><td>110002</td><td>421.2431</td><td>365.7547</td><td>-155.75431, 20.13812</td><td>Hawaii</td><td>2548538</td><td>473411.4</td><td>144452.3</td><td>473661.4</td><td>⋯</td><td>20970.94</td><td>18246.47</td><td>21419.57</td><td> 8538.018</td><td>0.2511020</td><td>0.8431665</td><td>1</td><td>-55.488390</td><td>1470.7429</td><td>0.008288410</td></tr>\n",
              "\t<tr><td>2159</td><td>110003</td><td>421.2431</td><td>401.9281</td><td>-155.72321, 20.12913</td><td>Hawaii</td><td>2568081</td><td>476661.4</td><td>143452.3</td><td>476911.4</td><td>⋯</td><td>14361.11</td><td>24927.06</td><td>20834.31</td><td>26425.264</td><td>0.2656619</td><td>0.8547523</td><td>1</td><td>-19.314940</td><td>2487.4112</td><td>0.014017871</td></tr>\n",
              "\t<tr><td>2159</td><td>110004</td><td>421.2431</td><td>396.3006</td><td>-155.77358, 20.21939</td><td>Hawaii</td><td>2536478</td><td>471411.4</td><td>153452.3</td><td>471661.4</td><td>⋯</td><td>12636.13</td><td>17759.98</td><td>13683.13</td><td>12181.745</td><td>0.2773296</td><td>0.8420684</td><td>1</td><td>-24.942471</td><td>2024.6892</td><td>0.011410189</td></tr>\n",
              "\t<tr><td>2159</td><td>110005</td><td>421.2431</td><td>416.2800</td><td>-155.73281, 20.15395</td><td>Hawaii</td><td>2562058</td><td>475661.4</td><td>146202.3</td><td>475911.4</td><td>⋯</td><td>12432.27</td><td>17212.33</td><td>19546.36</td><td>11710.814</td><td>0.2546325</td><td>0.8623375</td><td>1</td><td> -4.963105</td><td> 916.9599</td><td>0.005167552</td></tr>\n",
              "\t<tr><td>2159</td><td>110006</td><td>421.2431</td><td>373.3085</td><td>-155.72324, 20.14719</td><td>Hawaii</td><td>2568073</td><td>476661.4</td><td>145452.3</td><td>476911.4</td><td>⋯</td><td>19479.62</td><td>15040.56</td><td>24956.54</td><td>10585.007</td><td>0.2854975</td><td>0.8509950</td><td>1</td><td>-47.934564</td><td>1685.3348</td><td>0.009497748</td></tr>\n",
              "</tbody>\n",
              "</table>\n"
            ],
            "text/markdown": "\nA data.table: 6 × 83\n\n| PLOT &lt;chr&gt; | sim_id &lt;dbl&gt; | SOC_Mg_Ha &lt;dbl&gt; | predicted &lt;dbl&gt; | geom &lt;list&gt; | county_name &lt;chr&gt; | id &lt;dbl&gt; | left &lt;dbl&gt; | top &lt;dbl&gt; | right &lt;dbl&gt; | ⋯ ⋯ | var_imp_agbd_n &lt;dbl&gt; | var_imp_majorcomposition &lt;dbl&gt; | var_imp_age_years &lt;dbl&gt; | var_imp_Age_Class &lt;dbl&gt; | r2_depth &lt;dbl&gt; | r2_plot &lt;dbl&gt; | big_poly_id &lt;dbl&gt; | z &lt;dbl&gt; | rmse &lt;dbl&gt; | rmse_p &lt;dbl&gt; |\n|---|---|---|---|---|---|---|---|---|---|---|---|---|---|---|---|---|---|---|---|---|\n| 2159 | 110001 | 421.2431 | 364.1446 | -155.73756, 20.13136 | Hawaii | 2559062 | 475161.4 | 143702.3 | 475411.4 | ⋯ | 19260.65 | 23440.15 | 18665.47 | 10068.701 | 0.2803563 | 0.8598157 | 1 | -57.098492 | 1188.5976 | 0.006698373 |\n| 2159 | 110002 | 421.2431 | 365.7547 | -155.75431, 20.13812 | Hawaii | 2548538 | 473411.4 | 144452.3 | 473661.4 | ⋯ | 20970.94 | 18246.47 | 21419.57 |  8538.018 | 0.2511020 | 0.8431665 | 1 | -55.488390 | 1470.7429 | 0.008288410 |\n| 2159 | 110003 | 421.2431 | 401.9281 | -155.72321, 20.12913 | Hawaii | 2568081 | 476661.4 | 143452.3 | 476911.4 | ⋯ | 14361.11 | 24927.06 | 20834.31 | 26425.264 | 0.2656619 | 0.8547523 | 1 | -19.314940 | 2487.4112 | 0.014017871 |\n| 2159 | 110004 | 421.2431 | 396.3006 | -155.77358, 20.21939 | Hawaii | 2536478 | 471411.4 | 153452.3 | 471661.4 | ⋯ | 12636.13 | 17759.98 | 13683.13 | 12181.745 | 0.2773296 | 0.8420684 | 1 | -24.942471 | 2024.6892 | 0.011410189 |\n| 2159 | 110005 | 421.2431 | 416.2800 | -155.73281, 20.15395 | Hawaii | 2562058 | 475661.4 | 146202.3 | 475911.4 | ⋯ | 12432.27 | 17212.33 | 19546.36 | 11710.814 | 0.2546325 | 0.8623375 | 1 |  -4.963105 |  916.9599 | 0.005167552 |\n| 2159 | 110006 | 421.2431 | 373.3085 | -155.72324, 20.14719 | Hawaii | 2568073 | 476661.4 | 145452.3 | 476911.4 | ⋯ | 19479.62 | 15040.56 | 24956.54 | 10585.007 | 0.2854975 | 0.8509950 | 1 | -47.934564 | 1685.3348 | 0.009497748 |\n\n",
            "text/latex": "A data.table: 6 × 83\n\\begin{tabular}{lllllllllllllllllllll}\n PLOT & sim\\_id & SOC\\_Mg\\_Ha & predicted & geom & county\\_name & id & left & top & right & ⋯ & var\\_imp\\_agbd\\_n & var\\_imp\\_majorcomposition & var\\_imp\\_age\\_years & var\\_imp\\_Age\\_Class & r2\\_depth & r2\\_plot & big\\_poly\\_id & z & rmse & rmse\\_p\\\\\n <chr> & <dbl> & <dbl> & <dbl> & <list> & <chr> & <dbl> & <dbl> & <dbl> & <dbl> & ⋯ & <dbl> & <dbl> & <dbl> & <dbl> & <dbl> & <dbl> & <dbl> & <dbl> & <dbl> & <dbl>\\\\\n\\hline\n\t 2159 & 110001 & 421.2431 & 364.1446 & -155.73756, 20.13136 & Hawaii & 2559062 & 475161.4 & 143702.3 & 475411.4 & ⋯ & 19260.65 & 23440.15 & 18665.47 & 10068.701 & 0.2803563 & 0.8598157 & 1 & -57.098492 & 1188.5976 & 0.006698373\\\\\n\t 2159 & 110002 & 421.2431 & 365.7547 & -155.75431, 20.13812 & Hawaii & 2548538 & 473411.4 & 144452.3 & 473661.4 & ⋯ & 20970.94 & 18246.47 & 21419.57 &  8538.018 & 0.2511020 & 0.8431665 & 1 & -55.488390 & 1470.7429 & 0.008288410\\\\\n\t 2159 & 110003 & 421.2431 & 401.9281 & -155.72321, 20.12913 & Hawaii & 2568081 & 476661.4 & 143452.3 & 476911.4 & ⋯ & 14361.11 & 24927.06 & 20834.31 & 26425.264 & 0.2656619 & 0.8547523 & 1 & -19.314940 & 2487.4112 & 0.014017871\\\\\n\t 2159 & 110004 & 421.2431 & 396.3006 & -155.77358, 20.21939 & Hawaii & 2536478 & 471411.4 & 153452.3 & 471661.4 & ⋯ & 12636.13 & 17759.98 & 13683.13 & 12181.745 & 0.2773296 & 0.8420684 & 1 & -24.942471 & 2024.6892 & 0.011410189\\\\\n\t 2159 & 110005 & 421.2431 & 416.2800 & -155.73281, 20.15395 & Hawaii & 2562058 & 475661.4 & 146202.3 & 475911.4 & ⋯ & 12432.27 & 17212.33 & 19546.36 & 11710.814 & 0.2546325 & 0.8623375 & 1 &  -4.963105 &  916.9599 & 0.005167552\\\\\n\t 2159 & 110006 & 421.2431 & 373.3085 & -155.72324, 20.14719 & Hawaii & 2568073 & 476661.4 & 145452.3 & 476911.4 & ⋯ & 19479.62 & 15040.56 & 24956.54 & 10585.007 & 0.2854975 & 0.8509950 & 1 & -47.934564 & 1685.3348 & 0.009497748\\\\\n\\end{tabular}\n",
            "text/plain": [
              "  PLOT sim_id SOC_Mg_Ha predicted geom                 county_name id     \n",
              "1 2159 110001 421.2431  364.1446  -155.73756, 20.13136 Hawaii      2559062\n",
              "2 2159 110002 421.2431  365.7547  -155.75431, 20.13812 Hawaii      2548538\n",
              "3 2159 110003 421.2431  401.9281  -155.72321, 20.12913 Hawaii      2568081\n",
              "4 2159 110004 421.2431  396.3006  -155.77358, 20.21939 Hawaii      2536478\n",
              "5 2159 110005 421.2431  416.2800  -155.73281, 20.15395 Hawaii      2562058\n",
              "6 2159 110006 421.2431  373.3085  -155.72324, 20.14719 Hawaii      2568073\n",
              "  left     top      right    ⋯ var_imp_agbd_n var_imp_majorcomposition\n",
              "1 475161.4 143702.3 475411.4 ⋯ 19260.65       23440.15                \n",
              "2 473411.4 144452.3 473661.4 ⋯ 20970.94       18246.47                \n",
              "3 476661.4 143452.3 476911.4 ⋯ 14361.11       24927.06                \n",
              "4 471411.4 153452.3 471661.4 ⋯ 12636.13       17759.98                \n",
              "5 475661.4 146202.3 475911.4 ⋯ 12432.27       17212.33                \n",
              "6 476661.4 145452.3 476911.4 ⋯ 19479.62       15040.56                \n",
              "  var_imp_age_years var_imp_Age_Class r2_depth  r2_plot   big_poly_id\n",
              "1 18665.47          10068.701         0.2803563 0.8598157 1          \n",
              "2 21419.57           8538.018         0.2511020 0.8431665 1          \n",
              "3 20834.31          26425.264         0.2656619 0.8547523 1          \n",
              "4 13683.13          12181.745         0.2773296 0.8420684 1          \n",
              "5 19546.36          11710.814         0.2546325 0.8623375 1          \n",
              "6 24956.54          10585.007         0.2854975 0.8509950 1          \n",
              "  z          rmse      rmse_p     \n",
              "1 -57.098492 1188.5976 0.006698373\n",
              "2 -55.488390 1470.7429 0.008288410\n",
              "3 -19.314940 2487.4112 0.014017871\n",
              "4 -24.942471 2024.6892 0.011410189\n",
              "5  -4.963105  916.9599 0.005167552\n",
              "6 -47.934564 1685.3348 0.009497748"
            ]
          },
          "metadata": {}
        }
      ]
    },
    {
      "cell_type": "code",
      "source": [
        "sim_c_sum_dt[,group_quantile:= cut(predicted, breaks = c(0,175,250,325,475,650),include.lowest = T,ordered_result=T)]"
      ],
      "metadata": {
        "id": "YhcIx8jRmiGi"
      },
      "execution_count": 31,
      "outputs": []
    },
    {
      "cell_type": "code",
      "source": [
        "sim_c_sum_dt[,n_pred := length(predicted),by=.(id,group_quantile)]"
      ],
      "metadata": {
        "id": "9-uDevcNsrBs"
      },
      "execution_count": 32,
      "outputs": []
    },
    {
      "cell_type": "code",
      "source": [
        "sim_c_sum_dt[,n_pred_good := length(predicted[rmse_p<.01]),by=.(id,group_quantile)]"
      ],
      "metadata": {
        "id": "KTP5hYW9s3A7"
      },
      "execution_count": 33,
      "outputs": []
    },
    {
      "cell_type": "code",
      "source": [
        "names(sim_c_sum_dt)"
      ],
      "metadata": {
        "colab": {
          "base_uri": "https://localhost:8080/",
          "height": 243
        },
        "id": "xf0SHA1MU0CE",
        "outputId": "f7ce0feb-23bf-4d3a-8fce-04cdde2dbb9f"
      },
      "execution_count": 51,
      "outputs": [
        {
          "output_type": "display_data",
          "data": {
            "text/html": [
              "<style>\n",
              ".list-inline {list-style: none; margin:0; padding: 0}\n",
              ".list-inline>li {display: inline-block}\n",
              ".list-inline>li:not(:last-child)::after {content: \"\\00b7\"; padding: 0 .5ex}\n",
              "</style>\n",
              "<ol class=list-inline><li>'PLOT'</li><li>'sim_id'</li><li>'SOC_Mg_Ha'</li><li>'predicted'</li><li>'geom'</li><li>'county_name'</li><li>'id'</li><li>'left'</li><li>'top'</li><li>'right'</li><li>'bottom'</li><li>'water'</li><li>'trees'</li><li>'grass'</li><li>'flooded_vegetation'</li><li>'crops'</li><li>'shrub_and_scrub'</li><li>'built'</li><li>'bare'</li><li>'snow_and_ice'</li><li>'elevation'</li><li>'landform'</li><li>'SRTM_mTPI'</li><li>'aet'</li><li>'def'</li><li>'pdsi'</li><li>'pet'</li><li>'pr'</li><li>'ro'</li><li>'soil'</li><li>'srad'</li><li>'swe'</li><li>'tmmn'</li><li>'tmmx'</li><li>'vap'</li><li>'vpd'</li><li>'vs'</li><li>'agbd_m'</li><li>'agbd_sd'</li><li>'agbd_n'</li><li>'majorcomposition'</li><li>'age_years'</li><li>'Age_Class'</li><li>'var_imp_DEPTH_UPPER'</li><li>'var_imp_DEPTH_LOWER'</li><li>'var_imp_water'</li><li>'var_imp_trees'</li><li>'var_imp_grass'</li><li>'var_imp_flooded_vegetation'</li><li>'var_imp_crops'</li><li>'var_imp_shrub_and_scrub'</li><li>'var_imp_built'</li><li>'var_imp_bare'</li><li>'var_imp_snow_and_ice'</li><li>'var_imp_elevation'</li><li>'var_imp_landform'</li><li>'var_imp_SRTM_mTPI'</li><li>'var_imp_aet'</li><li>'var_imp_def'</li><li>'var_imp_pdsi'</li><li>'var_imp_pet'</li><li>'var_imp_pr'</li><li>'var_imp_ro'</li><li>'var_imp_soil'</li><li>'var_imp_srad'</li><li>'var_imp_swe'</li><li>'var_imp_tmmn'</li><li>'var_imp_tmmx'</li><li>'var_imp_vap'</li><li>'var_imp_vpd'</li><li>'var_imp_vs'</li><li>'var_imp_agbd_m'</li><li>'var_imp_agbd_sd'</li><li>'var_imp_agbd_n'</li><li>'var_imp_majorcomposition'</li><li>'var_imp_age_years'</li><li>'var_imp_Age_Class'</li><li>'r2_depth'</li><li>'r2_plot'</li><li>'big_poly_id'</li><li>'z'</li><li>'rmse'</li><li>'rmse_p'</li><li>'group_quantile'</li><li>'n_pred'</li><li>'n_pred_good'</li></ol>\n"
            ],
            "text/markdown": "1. 'PLOT'\n2. 'sim_id'\n3. 'SOC_Mg_Ha'\n4. 'predicted'\n5. 'geom'\n6. 'county_name'\n7. 'id'\n8. 'left'\n9. 'top'\n10. 'right'\n11. 'bottom'\n12. 'water'\n13. 'trees'\n14. 'grass'\n15. 'flooded_vegetation'\n16. 'crops'\n17. 'shrub_and_scrub'\n18. 'built'\n19. 'bare'\n20. 'snow_and_ice'\n21. 'elevation'\n22. 'landform'\n23. 'SRTM_mTPI'\n24. 'aet'\n25. 'def'\n26. 'pdsi'\n27. 'pet'\n28. 'pr'\n29. 'ro'\n30. 'soil'\n31. 'srad'\n32. 'swe'\n33. 'tmmn'\n34. 'tmmx'\n35. 'vap'\n36. 'vpd'\n37. 'vs'\n38. 'agbd_m'\n39. 'agbd_sd'\n40. 'agbd_n'\n41. 'majorcomposition'\n42. 'age_years'\n43. 'Age_Class'\n44. 'var_imp_DEPTH_UPPER'\n45. 'var_imp_DEPTH_LOWER'\n46. 'var_imp_water'\n47. 'var_imp_trees'\n48. 'var_imp_grass'\n49. 'var_imp_flooded_vegetation'\n50. 'var_imp_crops'\n51. 'var_imp_shrub_and_scrub'\n52. 'var_imp_built'\n53. 'var_imp_bare'\n54. 'var_imp_snow_and_ice'\n55. 'var_imp_elevation'\n56. 'var_imp_landform'\n57. 'var_imp_SRTM_mTPI'\n58. 'var_imp_aet'\n59. 'var_imp_def'\n60. 'var_imp_pdsi'\n61. 'var_imp_pet'\n62. 'var_imp_pr'\n63. 'var_imp_ro'\n64. 'var_imp_soil'\n65. 'var_imp_srad'\n66. 'var_imp_swe'\n67. 'var_imp_tmmn'\n68. 'var_imp_tmmx'\n69. 'var_imp_vap'\n70. 'var_imp_vpd'\n71. 'var_imp_vs'\n72. 'var_imp_agbd_m'\n73. 'var_imp_agbd_sd'\n74. 'var_imp_agbd_n'\n75. 'var_imp_majorcomposition'\n76. 'var_imp_age_years'\n77. 'var_imp_Age_Class'\n78. 'r2_depth'\n79. 'r2_plot'\n80. 'big_poly_id'\n81. 'z'\n82. 'rmse'\n83. 'rmse_p'\n84. 'group_quantile'\n85. 'n_pred'\n86. 'n_pred_good'\n\n\n",
            "text/latex": "\\begin{enumerate*}\n\\item 'PLOT'\n\\item 'sim\\_id'\n\\item 'SOC\\_Mg\\_Ha'\n\\item 'predicted'\n\\item 'geom'\n\\item 'county\\_name'\n\\item 'id'\n\\item 'left'\n\\item 'top'\n\\item 'right'\n\\item 'bottom'\n\\item 'water'\n\\item 'trees'\n\\item 'grass'\n\\item 'flooded\\_vegetation'\n\\item 'crops'\n\\item 'shrub\\_and\\_scrub'\n\\item 'built'\n\\item 'bare'\n\\item 'snow\\_and\\_ice'\n\\item 'elevation'\n\\item 'landform'\n\\item 'SRTM\\_mTPI'\n\\item 'aet'\n\\item 'def'\n\\item 'pdsi'\n\\item 'pet'\n\\item 'pr'\n\\item 'ro'\n\\item 'soil'\n\\item 'srad'\n\\item 'swe'\n\\item 'tmmn'\n\\item 'tmmx'\n\\item 'vap'\n\\item 'vpd'\n\\item 'vs'\n\\item 'agbd\\_m'\n\\item 'agbd\\_sd'\n\\item 'agbd\\_n'\n\\item 'majorcomposition'\n\\item 'age\\_years'\n\\item 'Age\\_Class'\n\\item 'var\\_imp\\_DEPTH\\_UPPER'\n\\item 'var\\_imp\\_DEPTH\\_LOWER'\n\\item 'var\\_imp\\_water'\n\\item 'var\\_imp\\_trees'\n\\item 'var\\_imp\\_grass'\n\\item 'var\\_imp\\_flooded\\_vegetation'\n\\item 'var\\_imp\\_crops'\n\\item 'var\\_imp\\_shrub\\_and\\_scrub'\n\\item 'var\\_imp\\_built'\n\\item 'var\\_imp\\_bare'\n\\item 'var\\_imp\\_snow\\_and\\_ice'\n\\item 'var\\_imp\\_elevation'\n\\item 'var\\_imp\\_landform'\n\\item 'var\\_imp\\_SRTM\\_mTPI'\n\\item 'var\\_imp\\_aet'\n\\item 'var\\_imp\\_def'\n\\item 'var\\_imp\\_pdsi'\n\\item 'var\\_imp\\_pet'\n\\item 'var\\_imp\\_pr'\n\\item 'var\\_imp\\_ro'\n\\item 'var\\_imp\\_soil'\n\\item 'var\\_imp\\_srad'\n\\item 'var\\_imp\\_swe'\n\\item 'var\\_imp\\_tmmn'\n\\item 'var\\_imp\\_tmmx'\n\\item 'var\\_imp\\_vap'\n\\item 'var\\_imp\\_vpd'\n\\item 'var\\_imp\\_vs'\n\\item 'var\\_imp\\_agbd\\_m'\n\\item 'var\\_imp\\_agbd\\_sd'\n\\item 'var\\_imp\\_agbd\\_n'\n\\item 'var\\_imp\\_majorcomposition'\n\\item 'var\\_imp\\_age\\_years'\n\\item 'var\\_imp\\_Age\\_Class'\n\\item 'r2\\_depth'\n\\item 'r2\\_plot'\n\\item 'big\\_poly\\_id'\n\\item 'z'\n\\item 'rmse'\n\\item 'rmse\\_p'\n\\item 'group\\_quantile'\n\\item 'n\\_pred'\n\\item 'n\\_pred\\_good'\n\\end{enumerate*}\n",
            "text/plain": [
              " [1] \"PLOT\"                       \"sim_id\"                    \n",
              " [3] \"SOC_Mg_Ha\"                  \"predicted\"                 \n",
              " [5] \"geom\"                       \"county_name\"               \n",
              " [7] \"id\"                         \"left\"                      \n",
              " [9] \"top\"                        \"right\"                     \n",
              "[11] \"bottom\"                     \"water\"                     \n",
              "[13] \"trees\"                      \"grass\"                     \n",
              "[15] \"flooded_vegetation\"         \"crops\"                     \n",
              "[17] \"shrub_and_scrub\"            \"built\"                     \n",
              "[19] \"bare\"                       \"snow_and_ice\"              \n",
              "[21] \"elevation\"                  \"landform\"                  \n",
              "[23] \"SRTM_mTPI\"                  \"aet\"                       \n",
              "[25] \"def\"                        \"pdsi\"                      \n",
              "[27] \"pet\"                        \"pr\"                        \n",
              "[29] \"ro\"                         \"soil\"                      \n",
              "[31] \"srad\"                       \"swe\"                       \n",
              "[33] \"tmmn\"                       \"tmmx\"                      \n",
              "[35] \"vap\"                        \"vpd\"                       \n",
              "[37] \"vs\"                         \"agbd_m\"                    \n",
              "[39] \"agbd_sd\"                    \"agbd_n\"                    \n",
              "[41] \"majorcomposition\"           \"age_years\"                 \n",
              "[43] \"Age_Class\"                  \"var_imp_DEPTH_UPPER\"       \n",
              "[45] \"var_imp_DEPTH_LOWER\"        \"var_imp_water\"             \n",
              "[47] \"var_imp_trees\"              \"var_imp_grass\"             \n",
              "[49] \"var_imp_flooded_vegetation\" \"var_imp_crops\"             \n",
              "[51] \"var_imp_shrub_and_scrub\"    \"var_imp_built\"             \n",
              "[53] \"var_imp_bare\"               \"var_imp_snow_and_ice\"      \n",
              "[55] \"var_imp_elevation\"          \"var_imp_landform\"          \n",
              "[57] \"var_imp_SRTM_mTPI\"          \"var_imp_aet\"               \n",
              "[59] \"var_imp_def\"                \"var_imp_pdsi\"              \n",
              "[61] \"var_imp_pet\"                \"var_imp_pr\"                \n",
              "[63] \"var_imp_ro\"                 \"var_imp_soil\"              \n",
              "[65] \"var_imp_srad\"               \"var_imp_swe\"               \n",
              "[67] \"var_imp_tmmn\"               \"var_imp_tmmx\"              \n",
              "[69] \"var_imp_vap\"                \"var_imp_vpd\"               \n",
              "[71] \"var_imp_vs\"                 \"var_imp_agbd_m\"            \n",
              "[73] \"var_imp_agbd_sd\"            \"var_imp_agbd_n\"            \n",
              "[75] \"var_imp_majorcomposition\"   \"var_imp_age_years\"         \n",
              "[77] \"var_imp_Age_Class\"          \"r2_depth\"                  \n",
              "[79] \"r2_plot\"                    \"big_poly_id\"               \n",
              "[81] \"z\"                          \"rmse\"                      \n",
              "[83] \"rmse_p\"                     \"group_quantile\"            \n",
              "[85] \"n_pred\"                     \"n_pred_good\"               "
            ]
          },
          "metadata": {}
        }
      ]
    },
    {
      "cell_type": "code",
      "source": [
        "install.packages('viridis')"
      ],
      "metadata": {
        "colab": {
          "base_uri": "https://localhost:8080/"
        },
        "id": "UUhsE5XFVfsL",
        "outputId": "fe7fb016-d735-4ad4-c8a9-751d617649d1"
      },
      "execution_count": 55,
      "outputs": [
        {
          "output_type": "stream",
          "name": "stderr",
          "text": [
            "Installing package into ‘/usr/local/lib/R/site-library’\n",
            "(as ‘lib’ is unspecified)\n",
            "\n",
            "also installing the dependency ‘gridExtra’\n",
            "\n",
            "\n"
          ]
        }
      ]
    },
    {
      "cell_type": "code",
      "source": [
        "# Define a color palette with viridis\n",
        "colors <- viridis::viridis(5)\n",
        "\n",
        "# Create a named vector for manual color assignment\n",
        "color_assignment <- setNames(colors, sim_c_sum_dt$group_quantile %>% levels)\n",
        ""
      ],
      "metadata": {
        "id": "yIkBBoVyZjlm"
      },
      "execution_count": 56,
      "outputs": []
    },
    {
      "cell_type": "code",
      "source": [
        "# Custom function to format labels as a base number raised to a power\n",
        "format_to_power <- function(x) {\n",
        "  paste0(\"10^\", formatC(log10(x), format = \"f\", digits = 0))\n",
        "}\n",
        "format_to_superscript <- function(x) {\n",
        "  sapply(x, function(x) bquote(10^.(log10(x))))\n",
        "}"
      ],
      "metadata": {
        "id": "H8ZHkCiFc9F6"
      },
      "execution_count": 57,
      "outputs": []
    },
    {
      "cell_type": "code",
      "source": [],
      "metadata": {
        "id": "7e9shFrOPshb"
      },
      "execution_count": null,
      "outputs": []
    },
    {
      "cell_type": "code",
      "source": [
        "geom_dt <- geom_dt %>% data.table"
      ],
      "metadata": {
        "id": "M6j1-o_TPsbZ"
      },
      "execution_count": 34,
      "outputs": []
    },
    {
      "cell_type": "code",
      "source": [
        "geom_dt[,list(ids = length(id %>% unique)),by=big_poly_id]\n",
        "\n",
        "sim_c_sum_dt[,list(ids = length(id %>% unique)),by=big_poly_id]"
      ],
      "metadata": {
        "id": "w057_sldPe6A",
        "outputId": "2461d331-dac3-485e-dae4-30ccf5660bcd",
        "colab": {
          "base_uri": "https://localhost:8080/",
          "height": 680
        }
      },
      "execution_count": 83,
      "outputs": [
        {
          "output_type": "display_data",
          "data": {
            "text/html": [
              "<table class=\"dataframe\">\n",
              "<caption>A data.table: 8 × 2</caption>\n",
              "<thead>\n",
              "\t<tr><th scope=col>big_poly_id</th><th scope=col>ids</th></tr>\n",
              "\t<tr><th scope=col>&lt;dbl&gt;</th><th scope=col>&lt;int&gt;</th></tr>\n",
              "</thead>\n",
              "<tbody>\n",
              "\t<tr><td> 1</td><td> 3509</td></tr>\n",
              "\t<tr><td> 2</td><td>10134</td></tr>\n",
              "\t<tr><td>NA</td><td>   48</td></tr>\n",
              "\t<tr><td> 3</td><td> 8769</td></tr>\n",
              "\t<tr><td> 6</td><td> 5601</td></tr>\n",
              "\t<tr><td> 7</td><td> 5571</td></tr>\n",
              "\t<tr><td> 4</td><td> 7682</td></tr>\n",
              "\t<tr><td> 5</td><td> 2275</td></tr>\n",
              "</tbody>\n",
              "</table>\n"
            ],
            "text/markdown": "\nA data.table: 8 × 2\n\n| big_poly_id &lt;dbl&gt; | ids &lt;int&gt; |\n|---|---|\n|  1 |  3509 |\n|  2 | 10134 |\n| NA |    48 |\n|  3 |  8769 |\n|  6 |  5601 |\n|  7 |  5571 |\n|  4 |  7682 |\n|  5 |  2275 |\n\n",
            "text/latex": "A data.table: 8 × 2\n\\begin{tabular}{ll}\n big\\_poly\\_id & ids\\\\\n <dbl> & <int>\\\\\n\\hline\n\t  1 &  3509\\\\\n\t  2 & 10134\\\\\n\t NA &    48\\\\\n\t  3 &  8769\\\\\n\t  6 &  5601\\\\\n\t  7 &  5571\\\\\n\t  4 &  7682\\\\\n\t  5 &  2275\\\\\n\\end{tabular}\n",
            "text/plain": [
              "  big_poly_id ids  \n",
              "1  1           3509\n",
              "2  2          10134\n",
              "3 NA             48\n",
              "4  3           8769\n",
              "5  6           5601\n",
              "6  7           5571\n",
              "7  4           7682\n",
              "8  5           2275"
            ]
          },
          "metadata": {}
        },
        {
          "output_type": "display_data",
          "data": {
            "text/html": [
              "<table class=\"dataframe\">\n",
              "<caption>A data.table: 8 × 2</caption>\n",
              "<thead>\n",
              "\t<tr><th scope=col>big_poly_id</th><th scope=col>ids</th></tr>\n",
              "\t<tr><th scope=col>&lt;dbl&gt;</th><th scope=col>&lt;int&gt;</th></tr>\n",
              "</thead>\n",
              "<tbody>\n",
              "\t<tr><td> 1</td><td> 3509</td></tr>\n",
              "\t<tr><td> 2</td><td>10134</td></tr>\n",
              "\t<tr><td>NA</td><td>   48</td></tr>\n",
              "\t<tr><td> 3</td><td> 8769</td></tr>\n",
              "\t<tr><td> 6</td><td> 5601</td></tr>\n",
              "\t<tr><td> 7</td><td> 5571</td></tr>\n",
              "\t<tr><td> 4</td><td> 7682</td></tr>\n",
              "\t<tr><td> 5</td><td> 2275</td></tr>\n",
              "</tbody>\n",
              "</table>\n"
            ],
            "text/markdown": "\nA data.table: 8 × 2\n\n| big_poly_id &lt;dbl&gt; | ids &lt;int&gt; |\n|---|---|\n|  1 |  3509 |\n|  2 | 10134 |\n| NA |    48 |\n|  3 |  8769 |\n|  6 |  5601 |\n|  7 |  5571 |\n|  4 |  7682 |\n|  5 |  2275 |\n\n",
            "text/latex": "A data.table: 8 × 2\n\\begin{tabular}{ll}\n big\\_poly\\_id & ids\\\\\n <dbl> & <int>\\\\\n\\hline\n\t  1 &  3509\\\\\n\t  2 & 10134\\\\\n\t NA &    48\\\\\n\t  3 &  8769\\\\\n\t  6 &  5601\\\\\n\t  7 &  5571\\\\\n\t  4 &  7682\\\\\n\t  5 &  2275\\\\\n\\end{tabular}\n",
            "text/plain": [
              "  big_poly_id ids  \n",
              "1  1           3509\n",
              "2  2          10134\n",
              "3 NA             48\n",
              "4  3           8769\n",
              "5  6           5601\n",
              "6  7           5571\n",
              "7  4           7682\n",
              "8  5           2275"
            ]
          },
          "metadata": {}
        }
      ]
    },
    {
      "cell_type": "code",
      "source": [
        "sim_c_sum_dt[ ,g_b_ratio := length(id[rmse_p<.01] %>% unique)/length(id %>% unique),by = .(big_poly_id,group_quantile)]\n",
        "sim_c_sum_dt$g_b_ratio %>% qplot"
      ],
      "metadata": {
        "id": "9gtl9C7QTn4q",
        "outputId": "9a53c6da-396b-457f-c51c-f513d7af3215",
        "colab": {
          "base_uri": "https://localhost:8080/",
          "height": 489
        }
      },
      "execution_count": 35,
      "outputs": [
        {
          "output_type": "stream",
          "name": "stderr",
          "text": [
            "Warning message:\n",
            "“\u001b[1m\u001b[22m`qplot()` was deprecated in ggplot2 3.4.0.”\n",
            "\u001b[1m\u001b[22m`stat_bin()` using `bins = 30`. Pick better value with `binwidth`.\n"
          ]
        },
        {
          "output_type": "display_data",
          "data": {
            "text/plain": [
              "plot without title"
            ],
            "image/png": "[encoded data removed]"
          },
          "metadata": {
            "image/png": {
              "width": 420,
              "height": 420
            }
          }
        }
      ]
    },
    {
      "cell_type": "code",
      "source": [
        "while(TRUE){}"
      ],
      "metadata": {
        "id": "f1ApUhxaaciz"
      },
      "execution_count": 130,
      "outputs": []
    },
    {
      "cell_type": "code",
      "source": [
        "library(viridis)\n",
        "library(scales)\n",
        "for(j in 1:7){\n",
        "poly_id = j\n",
        "# ,weight= predicted*0.0625/g_b_ratio\n",
        "sim_c_sum_dt[rmse_p<.01][big_poly_id==poly_id] %>%\n",
        "  ggplot(aes(x = predicted)) +\n",
        "    geom_histogram(aes(fill = group_quantile,weight= predicted*0.0625/g_b_ratio), position = 'stack') +\n",
        "    scale_fill_viridis_d(limits = levels(sim_c_sum_dt$group_quantile),drop = FALSE) +\n",
        "    guides(fill = guide_legend(title = \"Group (Mg/ha)\")) + # Removes legend title\n",
        "    theme_minimal()+\n",
        "    theme(legend.position = \"bottom\") + # Moves the legend to the bottom\n",
        "    # theme(legend.position = \"none\") + # Moves the legend to the bottom\n",
        "\n",
        "    # scale_x_continuous(labels = scales::unit_format(unit = \"Mg/ha\" )) +\n",
        "    # scale_fill_discrete(name = \"Variable (Mg/ha)\") +\n",
        "    labs(x = \"Predicted Soil Carbon Stock (Mg/ha)\", y = \"Total Soil Carbon (Mg)\")\n",
        "    # scale_y_continuous(labels = format_to_power)+ # Y-axis labels in scientific notation\n",
        "    # facet_wrap(big_poly_id~.)\n",
        "ggsave(dpi = 300, height = 3,width= 6,scale=1.2,filename = paste0('/content/Figures/Histogram_',poly_id,'.jpg'))\n",
        "}"
      ],
      "metadata": {
        "colab": {
          "base_uri": "https://localhost:8080/"
        },
        "id": "yf5oj-1hjNsX",
        "outputId": "2e607747-aa4f-4235-b1ef-200508bf7d9b"
      },
      "execution_count": 129,
      "outputs": [
        {
          "output_type": "stream",
          "name": "stderr",
          "text": [
            "\u001b[1m\u001b[22m`stat_bin()` using `bins = 30`. Pick better value with `binwidth`.\n",
            "\u001b[1m\u001b[22m`stat_bin()` using `bins = 30`. Pick better value with `binwidth`.\n",
            "\u001b[1m\u001b[22m`stat_bin()` using `bins = 30`. Pick better value with `binwidth`.\n",
            "\u001b[1m\u001b[22m`stat_bin()` using `bins = 30`. Pick better value with `binwidth`.\n",
            "\u001b[1m\u001b[22m`stat_bin()` using `bins = 30`. Pick better value with `binwidth`.\n",
            "\u001b[1m\u001b[22m`stat_bin()` using `bins = 30`. Pick better value with `binwidth`.\n",
            "\u001b[1m\u001b[22m`stat_bin()` using `bins = 30`. Pick better value with `binwidth`.\n"
          ]
        }
      ]
    },
    {
      "cell_type": "code",
      "source": [],
      "metadata": {
        "id": "jG3v8C_bhxAR"
      },
      "execution_count": null,
      "outputs": []
    },
    {
      "cell_type": "code",
      "source": [
        "sim_c_sum_dt[rmse_p<.01][,list(SOC_Mg_Ha = mean(SOC_Mg_Ha), q_group = unique(group_quantile) %>% sort %>% paste(collapse = ', ') ,geom=unique(geom)),by=.(id)] %>% st_as_sf(crs='4326') %>% st_write('quantile_groups.gpkg',delete_dsn = T)"
      ],
      "metadata": {
        "colab": {
          "base_uri": "https://localhost:8080/"
        },
        "id": "oP2rm2D6e0jE",
        "outputId": "0a0b2d3b-4d3f-40a9-922e-61f91e2c6ef9"
      },
      "execution_count": 131,
      "outputs": [
        {
          "output_type": "stream",
          "name": "stderr",
          "text": [
            "writing: substituting ENGCRS[\"Undefined Cartesian SRS with unknown unit\"] for missing CRS\n",
            "\n"
          ]
        },
        {
          "output_type": "stream",
          "name": "stdout",
          "text": [
            "Deleting source `quantile_groups.gpkg' failed\n",
            "Writing layer `quantile_groups' to data source \n",
            "  `quantile_groups.gpkg' using driver `GPKG'\n",
            "Writing 31708 features with 3 fields and geometry type Point.\n"
          ]
        }
      ]
    },
    {
      "cell_type": "code",
      "source": [
        "sim_c_sum_dt[rmse_p<.01][,list(SOC_Mg_Ha = mean(SOC_Mg_Ha), predicted = mean(predicted),n_pred = mean(n_pred),n_pred_good = mean(n_pred_good),geom=unique(geom)),by=.(id,group_quantile)] %>% st_as_sf(crs='4326') %>% st_write('quantile_pred.gpkg',delete_dsn = T)"
      ],
      "metadata": {
        "id": "e4fvNUAtplUG",
        "colab": {
          "base_uri": "https://localhost:8080/"
        },
        "outputId": "93f87e37-6992-4bf1-9f68-a38655fc5f55"
      },
      "execution_count": 132,
      "outputs": [
        {
          "output_type": "stream",
          "name": "stderr",
          "text": [
            "writing: substituting ENGCRS[\"Undefined Cartesian SRS with unknown unit\"] for missing CRS\n",
            "\n"
          ]
        },
        {
          "output_type": "stream",
          "name": "stdout",
          "text": [
            "Deleting source `quantile_pred.gpkg' failed\n",
            "Writing layer `quantile_pred' to data source `quantile_pred.gpkg' using driver `GPKG'\n",
            "Writing 74158 features with 6 fields and geometry type Point.\n"
          ]
        }
      ]
    },
    {
      "cell_type": "code",
      "source": [
        "quant_dt <- sim_c_sum_dt[rmse_p<.01][,list(SOC_Mg_Ha = mean(predicted),pred = length(predicted),total = mean(n_pred_good),geom=unique(geom)),by=.(id,group_quantile)]\n",
        "quant_dt[,list(SOC_Mg_ha = sum(SOC_Mg_Ha*(pred/total)),geom = unique(geom)),by=id] %>% st_as_sf %>% st_write('sum_pred.gpkg',delete_dsn=T)"
      ],
      "metadata": {
        "id": "iwi4lgHtxuqY",
        "colab": {
          "base_uri": "https://localhost:8080/"
        },
        "outputId": "ca004b25-1b2b-4d56-881a-ff13caf0d627"
      },
      "execution_count": 133,
      "outputs": [
        {
          "output_type": "stream",
          "name": "stderr",
          "text": [
            "writing: substituting ENGCRS[\"Undefined Cartesian SRS with unknown unit\"] for missing CRS\n",
            "\n"
          ]
        },
        {
          "output_type": "stream",
          "name": "stdout",
          "text": [
            "Deleting source `sum_pred.gpkg' failed\n",
            "Writing layer `sum_pred' to data source `sum_pred.gpkg' using driver `GPKG'\n",
            "Writing 31708 features with 2 fields and geometry type Point.\n"
          ]
        }
      ]
    },
    {
      "cell_type": "code",
      "source": [
        "sim_c_sum_dt[,list(count = length(PLOT %>% unique)),by = id]$count %>% qplot"
      ],
      "metadata": {
        "id": "4L0XiTdjlL5G",
        "colab": {
          "base_uri": "https://localhost:8080/",
          "height": 454
        },
        "outputId": "ee5d7b50-1d73-47e4-cb24-1f8fea16bdef"
      },
      "execution_count": 134,
      "outputs": [
        {
          "output_type": "stream",
          "name": "stderr",
          "text": [
            "\u001b[1m\u001b[22m`stat_bin()` using `bins = 30`. Pick better value with `binwidth`.\n"
          ]
        },
        {
          "output_type": "display_data",
          "data": {
            "text/plain": [
              "plot without title"
            ],
            "image/png": "[encoded data removed]"
          },
          "metadata": {
            "image/png": {
              "width": 420,
              "height": 420
            }
          }
        }
      ]
    },
    {
      "cell_type": "code",
      "source": [
        "fia_dt[,list(SOC_Mg_Ha = sum(SOC_Mg_Ha %>% as.numeric)),by = PLOT]$SOC_Mg_Ha %>% qplot"
      ],
      "metadata": {
        "id": "idMv67Tjg2kI",
        "colab": {
          "base_uri": "https://localhost:8080/",
          "height": 454
        },
        "outputId": "65f634fb-013f-4c12-8621-5a16ddb962c0"
      },
      "execution_count": 135,
      "outputs": [
        {
          "output_type": "stream",
          "name": "stderr",
          "text": [
            "\u001b[1m\u001b[22m`stat_bin()` using `bins = 30`. Pick better value with `binwidth`.\n"
          ]
        },
        {
          "output_type": "display_data",
          "data": {
            "text/plain": [
              "plot without title"
            ],
            "image/png": "[encoded data removed]"
          },
          "metadata": {
            "image/png": {
              "width": 420,
              "height": 420
            }
          }
        }
      ]
    },
    {
      "cell_type": "code",
      "source": [
        "sim_c_sum_dt[rmse_p<.1][,list(Stock_SOC_Mg_Ha = mean(predicted),geom=unique(geom)),by=id] %>% st_as_sf %>%\n",
        "  st_write('final_predicted_Stock_SOC_Mg_Ha.gpkg')"
      ],
      "metadata": {
        "id": "LR-U3bv57wsD",
        "colab": {
          "base_uri": "https://localhost:8080/"
        },
        "outputId": "cd73b2f5-7713-445e-8e61-396c2f906b76"
      },
      "execution_count": 70,
      "outputs": [
        {
          "output_type": "stream",
          "name": "stderr",
          "text": [
            "writing: substituting ENGCRS[\"Undefined Cartesian SRS with unknown unit\"] for missing CRS\n",
            "\n"
          ]
        },
        {
          "output_type": "stream",
          "name": "stdout",
          "text": [
            "Writing layer `final_predicted_Stock_SOC_Mg_Ha' to data source \n",
            "  `final_predicted_Stock_SOC_Mg_Ha.gpkg' using driver `GPKG'\n",
            "Writing 42080 features with 2 fields and geometry type Point.\n"
          ]
        }
      ]
    },
    {
      "cell_type": "code",
      "source": [
        "names(sim_c_sum_dt)[c(12:21, 23:40,42)]"
      ],
      "metadata": {
        "id": "1W05fIJi8qNf"
      },
      "execution_count": null,
      "outputs": []
    },
    {
      "cell_type": "code",
      "source": [
        "var_imp_dt <- sim_c_sum_dt[ ][\n",
        "  , .(r2 = lapply(.SD, function(x) {\n",
        "          # length(x)\n",
        "          summary(lm(SOC_Mg_Ha~x, data = .SD))$r.squared\n",
        "      }),\n",
        "      variable = names(.SD)),\n",
        "  by = .(group_quantile,big_poly_id),\n",
        "  .SDcols = c(12:21, 23:40,42)\n",
        "]"
      ],
      "metadata": {
        "id": "1HWChufHf6Xn",
        "colab": {
          "base_uri": "https://localhost:8080/"
        },
        "outputId": "ca90e8e9-dd10-4fea-a8bb-ef64c4bc1ab3"
      },
      "execution_count": 36,
      "outputs": [
        {
          "output_type": "stream",
          "name": "stderr",
          "text": [
            "Warning message in summary.lm(lm(SOC_Mg_Ha ~ x, data = .SD)):\n",
            "“essentially perfect fit: summary may be unreliable”\n",
            "Warning message in summary.lm(lm(SOC_Mg_Ha ~ x, data = .SD)):\n",
            "“essentially perfect fit: summary may be unreliable”\n",
            "Warning message in summary.lm(lm(SOC_Mg_Ha ~ x, data = .SD)):\n",
            "“essentially perfect fit: summary may be unreliable”\n",
            "Warning message in summary.lm(lm(SOC_Mg_Ha ~ x, data = .SD)):\n",
            "“essentially perfect fit: summary may be unreliable”\n",
            "Warning message in summary.lm(lm(SOC_Mg_Ha ~ x, data = .SD)):\n",
            "“essentially perfect fit: summary may be unreliable”\n",
            "Warning message in summary.lm(lm(SOC_Mg_Ha ~ x, data = .SD)):\n",
            "“essentially perfect fit: summary may be unreliable”\n",
            "Warning message in summary.lm(lm(SOC_Mg_Ha ~ x, data = .SD)):\n",
            "“essentially perfect fit: summary may be unreliable”\n",
            "Warning message in summary.lm(lm(SOC_Mg_Ha ~ x, data = .SD)):\n",
            "“essentially perfect fit: summary may be unreliable”\n",
            "Warning message in summary.lm(lm(SOC_Mg_Ha ~ x, data = .SD)):\n",
            "“essentially perfect fit: summary may be unreliable”\n",
            "Warning message in summary.lm(lm(SOC_Mg_Ha ~ x, data = .SD)):\n",
            "“essentially perfect fit: summary may be unreliable”\n",
            "Warning message in summary.lm(lm(SOC_Mg_Ha ~ x, data = .SD)):\n",
            "“essentially perfect fit: summary may be unreliable”\n",
            "Warning message in summary.lm(lm(SOC_Mg_Ha ~ x, data = .SD)):\n",
            "“essentially perfect fit: summary may be unreliable”\n",
            "Warning message in summary.lm(lm(SOC_Mg_Ha ~ x, data = .SD)):\n",
            "“essentially perfect fit: summary may be unreliable”\n",
            "Warning message in summary.lm(lm(SOC_Mg_Ha ~ x, data = .SD)):\n",
            "“essentially perfect fit: summary may be unreliable”\n",
            "Warning message in summary.lm(lm(SOC_Mg_Ha ~ x, data = .SD)):\n",
            "“essentially perfect fit: summary may be unreliable”\n",
            "Warning message in summary.lm(lm(SOC_Mg_Ha ~ x, data = .SD)):\n",
            "“essentially perfect fit: summary may be unreliable”\n",
            "Warning message in summary.lm(lm(SOC_Mg_Ha ~ x, data = .SD)):\n",
            "“essentially perfect fit: summary may be unreliable”\n",
            "Warning message in summary.lm(lm(SOC_Mg_Ha ~ x, data = .SD)):\n",
            "“essentially perfect fit: summary may be unreliable”\n",
            "Warning message in summary.lm(lm(SOC_Mg_Ha ~ x, data = .SD)):\n",
            "“essentially perfect fit: summary may be unreliable”\n",
            "Warning message in summary.lm(lm(SOC_Mg_Ha ~ x, data = .SD)):\n",
            "“essentially perfect fit: summary may be unreliable”\n",
            "Warning message in summary.lm(lm(SOC_Mg_Ha ~ x, data = .SD)):\n",
            "“essentially perfect fit: summary may be unreliable”\n",
            "Warning message in summary.lm(lm(SOC_Mg_Ha ~ x, data = .SD)):\n",
            "“essentially perfect fit: summary may be unreliable”\n",
            "Warning message in summary.lm(lm(SOC_Mg_Ha ~ x, data = .SD)):\n",
            "“essentially perfect fit: summary may be unreliable”\n",
            "Warning message in summary.lm(lm(SOC_Mg_Ha ~ x, data = .SD)):\n",
            "“essentially perfect fit: summary may be unreliable”\n",
            "Warning message in summary.lm(lm(SOC_Mg_Ha ~ x, data = .SD)):\n",
            "“essentially perfect fit: summary may be unreliable”\n",
            "Warning message in summary.lm(lm(SOC_Mg_Ha ~ x, data = .SD)):\n",
            "“essentially perfect fit: summary may be unreliable”\n",
            "Warning message in summary.lm(lm(SOC_Mg_Ha ~ x, data = .SD)):\n",
            "“essentially perfect fit: summary may be unreliable”\n",
            "Warning message in summary.lm(lm(SOC_Mg_Ha ~ x, data = .SD)):\n",
            "“essentially perfect fit: summary may be unreliable”\n",
            "Warning message in summary.lm(lm(SOC_Mg_Ha ~ x, data = .SD)):\n",
            "“essentially perfect fit: summary may be unreliable”\n",
            "Warning message in summary.lm(lm(SOC_Mg_Ha ~ x, data = .SD)):\n",
            "“essentially perfect fit: summary may be unreliable”\n",
            "Warning message in summary.lm(lm(SOC_Mg_Ha ~ x, data = .SD)):\n",
            "“essentially perfect fit: summary may be unreliable”\n",
            "Warning message in summary.lm(lm(SOC_Mg_Ha ~ x, data = .SD)):\n",
            "“essentially perfect fit: summary may be unreliable”\n",
            "Warning message in summary.lm(lm(SOC_Mg_Ha ~ x, data = .SD)):\n",
            "“essentially perfect fit: summary may be unreliable”\n",
            "Warning message in summary.lm(lm(SOC_Mg_Ha ~ x, data = .SD)):\n",
            "“essentially perfect fit: summary may be unreliable”\n",
            "Warning message in summary.lm(lm(SOC_Mg_Ha ~ x, data = .SD)):\n",
            "“essentially perfect fit: summary may be unreliable”\n",
            "Warning message in summary.lm(lm(SOC_Mg_Ha ~ x, data = .SD)):\n",
            "“essentially perfect fit: summary may be unreliable”\n",
            "Warning message in summary.lm(lm(SOC_Mg_Ha ~ x, data = .SD)):\n",
            "“essentially perfect fit: summary may be unreliable”\n",
            "Warning message in summary.lm(lm(SOC_Mg_Ha ~ x, data = .SD)):\n",
            "“essentially perfect fit: summary may be unreliable”\n",
            "Warning message in summary.lm(lm(SOC_Mg_Ha ~ x, data = .SD)):\n",
            "“essentially perfect fit: summary may be unreliable”\n",
            "Warning message in summary.lm(lm(SOC_Mg_Ha ~ x, data = .SD)):\n",
            "“essentially perfect fit: summary may be unreliable”\n",
            "Warning message in summary.lm(lm(SOC_Mg_Ha ~ x, data = .SD)):\n",
            "“essentially perfect fit: summary may be unreliable”\n",
            "Warning message in summary.lm(lm(SOC_Mg_Ha ~ x, data = .SD)):\n",
            "“essentially perfect fit: summary may be unreliable”\n",
            "Warning message in summary.lm(lm(SOC_Mg_Ha ~ x, data = .SD)):\n",
            "“essentially perfect fit: summary may be unreliable”\n",
            "Warning message in summary.lm(lm(SOC_Mg_Ha ~ x, data = .SD)):\n",
            "“essentially perfect fit: summary may be unreliable”\n",
            "Warning message in summary.lm(lm(SOC_Mg_Ha ~ x, data = .SD)):\n",
            "“essentially perfect fit: summary may be unreliable”\n",
            "Warning message in summary.lm(lm(SOC_Mg_Ha ~ x, data = .SD)):\n",
            "“essentially perfect fit: summary may be unreliable”\n",
            "Warning message in summary.lm(lm(SOC_Mg_Ha ~ x, data = .SD)):\n",
            "“essentially perfect fit: summary may be unreliable”\n",
            "Warning message in summary.lm(lm(SOC_Mg_Ha ~ x, data = .SD)):\n",
            "“essentially perfect fit: summary may be unreliable”\n",
            "Warning message in summary.lm(lm(SOC_Mg_Ha ~ x, data = .SD)):\n",
            "“essentially perfect fit: summary may be unreliable”\n",
            "Warning message in summary.lm(lm(SOC_Mg_Ha ~ x, data = .SD)):\n",
            "“essentially perfect fit: summary may be unreliable”\n",
            "Warning message in summary.lm(lm(SOC_Mg_Ha ~ x, data = .SD)):\n",
            "“essentially perfect fit: summary may be unreliable”\n",
            "Warning message in summary.lm(lm(SOC_Mg_Ha ~ x, data = .SD)):\n",
            "“essentially perfect fit: summary may be unreliable”\n",
            "Warning message in summary.lm(lm(SOC_Mg_Ha ~ x, data = .SD)):\n",
            "“essentially perfect fit: summary may be unreliable”\n",
            "Warning message in summary.lm(lm(SOC_Mg_Ha ~ x, data = .SD)):\n",
            "“essentially perfect fit: summary may be unreliable”\n",
            "Warning message in summary.lm(lm(SOC_Mg_Ha ~ x, data = .SD)):\n",
            "“essentially perfect fit: summary may be unreliable”\n",
            "Warning message in summary.lm(lm(SOC_Mg_Ha ~ x, data = .SD)):\n",
            "“essentially perfect fit: summary may be unreliable”\n",
            "Warning message in summary.lm(lm(SOC_Mg_Ha ~ x, data = .SD)):\n",
            "“essentially perfect fit: summary may be unreliable”\n",
            "Warning message in summary.lm(lm(SOC_Mg_Ha ~ x, data = .SD)):\n",
            "“essentially perfect fit: summary may be unreliable”\n",
            "Warning message in summary.lm(lm(SOC_Mg_Ha ~ x, data = .SD)):\n",
            "“essentially perfect fit: summary may be unreliable”\n",
            "Warning message in summary.lm(lm(SOC_Mg_Ha ~ x, data = .SD)):\n",
            "“essentially perfect fit: summary may be unreliable”\n",
            "Warning message in summary.lm(lm(SOC_Mg_Ha ~ x, data = .SD)):\n",
            "“essentially perfect fit: summary may be unreliable”\n",
            "Warning message in summary.lm(lm(SOC_Mg_Ha ~ x, data = .SD)):\n",
            "“essentially perfect fit: summary may be unreliable”\n",
            "Warning message in summary.lm(lm(SOC_Mg_Ha ~ x, data = .SD)):\n",
            "“essentially perfect fit: summary may be unreliable”\n",
            "Warning message in summary.lm(lm(SOC_Mg_Ha ~ x, data = .SD)):\n",
            "“essentially perfect fit: summary may be unreliable”\n",
            "Warning message in summary.lm(lm(SOC_Mg_Ha ~ x, data = .SD)):\n",
            "“essentially perfect fit: summary may be unreliable”\n",
            "Warning message in summary.lm(lm(SOC_Mg_Ha ~ x, data = .SD)):\n",
            "“essentially perfect fit: summary may be unreliable”\n",
            "Warning message in summary.lm(lm(SOC_Mg_Ha ~ x, data = .SD)):\n",
            "“essentially perfect fit: summary may be unreliable”\n",
            "Warning message in summary.lm(lm(SOC_Mg_Ha ~ x, data = .SD)):\n",
            "“essentially perfect fit: summary may be unreliable”\n",
            "Warning message in summary.lm(lm(SOC_Mg_Ha ~ x, data = .SD)):\n",
            "“essentially perfect fit: summary may be unreliable”\n",
            "Warning message in summary.lm(lm(SOC_Mg_Ha ~ x, data = .SD)):\n",
            "“essentially perfect fit: summary may be unreliable”\n",
            "Warning message in summary.lm(lm(SOC_Mg_Ha ~ x, data = .SD)):\n",
            "“essentially perfect fit: summary may be unreliable”\n",
            "Warning message in summary.lm(lm(SOC_Mg_Ha ~ x, data = .SD)):\n",
            "“essentially perfect fit: summary may be unreliable”\n",
            "Warning message in summary.lm(lm(SOC_Mg_Ha ~ x, data = .SD)):\n",
            "“essentially perfect fit: summary may be unreliable”\n",
            "Warning message in summary.lm(lm(SOC_Mg_Ha ~ x, data = .SD)):\n",
            "“essentially perfect fit: summary may be unreliable”\n",
            "Warning message in summary.lm(lm(SOC_Mg_Ha ~ x, data = .SD)):\n",
            "“essentially perfect fit: summary may be unreliable”\n",
            "Warning message in summary.lm(lm(SOC_Mg_Ha ~ x, data = .SD)):\n",
            "“essentially perfect fit: summary may be unreliable”\n",
            "Warning message in summary.lm(lm(SOC_Mg_Ha ~ x, data = .SD)):\n",
            "“essentially perfect fit: summary may be unreliable”\n",
            "Warning message in summary.lm(lm(SOC_Mg_Ha ~ x, data = .SD)):\n",
            "“essentially perfect fit: summary may be unreliable”\n",
            "Warning message in summary.lm(lm(SOC_Mg_Ha ~ x, data = .SD)):\n",
            "“essentially perfect fit: summary may be unreliable”\n",
            "Warning message in summary.lm(lm(SOC_Mg_Ha ~ x, data = .SD)):\n",
            "“essentially perfect fit: summary may be unreliable”\n",
            "Warning message in summary.lm(lm(SOC_Mg_Ha ~ x, data = .SD)):\n",
            "“essentially perfect fit: summary may be unreliable”\n",
            "Warning message in summary.lm(lm(SOC_Mg_Ha ~ x, data = .SD)):\n",
            "“essentially perfect fit: summary may be unreliable”\n",
            "Warning message in summary.lm(lm(SOC_Mg_Ha ~ x, data = .SD)):\n",
            "“essentially perfect fit: summary may be unreliable”\n",
            "Warning message in summary.lm(lm(SOC_Mg_Ha ~ x, data = .SD)):\n",
            "“essentially perfect fit: summary may be unreliable”\n",
            "Warning message in summary.lm(lm(SOC_Mg_Ha ~ x, data = .SD)):\n",
            "“essentially perfect fit: summary may be unreliable”\n",
            "Warning message in summary.lm(lm(SOC_Mg_Ha ~ x, data = .SD)):\n",
            "“essentially perfect fit: summary may be unreliable”\n",
            "Warning message in summary.lm(lm(SOC_Mg_Ha ~ x, data = .SD)):\n",
            "“essentially perfect fit: summary may be unreliable”\n",
            "Warning message in summary.lm(lm(SOC_Mg_Ha ~ x, data = .SD)):\n",
            "“essentially perfect fit: summary may be unreliable”\n",
            "Warning message in summary.lm(lm(SOC_Mg_Ha ~ x, data = .SD)):\n",
            "“essentially perfect fit: summary may be unreliable”\n",
            "Warning message in summary.lm(lm(SOC_Mg_Ha ~ x, data = .SD)):\n",
            "“essentially perfect fit: summary may be unreliable”\n",
            "Warning message in summary.lm(lm(SOC_Mg_Ha ~ x, data = .SD)):\n",
            "“essentially perfect fit: summary may be unreliable”\n",
            "Warning message in summary.lm(lm(SOC_Mg_Ha ~ x, data = .SD)):\n",
            "“essentially perfect fit: summary may be unreliable”\n",
            "Warning message in summary.lm(lm(SOC_Mg_Ha ~ x, data = .SD)):\n",
            "“essentially perfect fit: summary may be unreliable”\n",
            "Warning message in summary.lm(lm(SOC_Mg_Ha ~ x, data = .SD)):\n",
            "“essentially perfect fit: summary may be unreliable”\n",
            "Warning message in summary.lm(lm(SOC_Mg_Ha ~ x, data = .SD)):\n",
            "“essentially perfect fit: summary may be unreliable”\n",
            "Warning message in summary.lm(lm(SOC_Mg_Ha ~ x, data = .SD)):\n",
            "“essentially perfect fit: summary may be unreliable”\n",
            "Warning message in summary.lm(lm(SOC_Mg_Ha ~ x, data = .SD)):\n",
            "“essentially perfect fit: summary may be unreliable”\n",
            "Warning message in summary.lm(lm(SOC_Mg_Ha ~ x, data = .SD)):\n",
            "“essentially perfect fit: summary may be unreliable”\n",
            "Warning message in summary.lm(lm(SOC_Mg_Ha ~ x, data = .SD)):\n",
            "“essentially perfect fit: summary may be unreliable”\n",
            "Warning message in summary.lm(lm(SOC_Mg_Ha ~ x, data = .SD)):\n",
            "“essentially perfect fit: summary may be unreliable”\n",
            "Warning message in summary.lm(lm(SOC_Mg_Ha ~ x, data = .SD)):\n",
            "“essentially perfect fit: summary may be unreliable”\n",
            "Warning message in summary.lm(lm(SOC_Mg_Ha ~ x, data = .SD)):\n",
            "“essentially perfect fit: summary may be unreliable”\n",
            "Warning message in summary.lm(lm(SOC_Mg_Ha ~ x, data = .SD)):\n",
            "“essentially perfect fit: summary may be unreliable”\n",
            "Warning message in summary.lm(lm(SOC_Mg_Ha ~ x, data = .SD)):\n",
            "“essentially perfect fit: summary may be unreliable”\n",
            "Warning message in summary.lm(lm(SOC_Mg_Ha ~ x, data = .SD)):\n",
            "“essentially perfect fit: summary may be unreliable”\n",
            "Warning message in summary.lm(lm(SOC_Mg_Ha ~ x, data = .SD)):\n",
            "“essentially perfect fit: summary may be unreliable”\n",
            "Warning message in summary.lm(lm(SOC_Mg_Ha ~ x, data = .SD)):\n",
            "“essentially perfect fit: summary may be unreliable”\n",
            "Warning message in summary.lm(lm(SOC_Mg_Ha ~ x, data = .SD)):\n",
            "“essentially perfect fit: summary may be unreliable”\n",
            "Warning message in summary.lm(lm(SOC_Mg_Ha ~ x, data = .SD)):\n",
            "“essentially perfect fit: summary may be unreliable”\n",
            "Warning message in summary.lm(lm(SOC_Mg_Ha ~ x, data = .SD)):\n",
            "“essentially perfect fit: summary may be unreliable”\n",
            "Warning message in summary.lm(lm(SOC_Mg_Ha ~ x, data = .SD)):\n",
            "“essentially perfect fit: summary may be unreliable”\n",
            "Warning message in summary.lm(lm(SOC_Mg_Ha ~ x, data = .SD)):\n",
            "“essentially perfect fit: summary may be unreliable”\n",
            "Warning message in summary.lm(lm(SOC_Mg_Ha ~ x, data = .SD)):\n",
            "“essentially perfect fit: summary may be unreliable”\n",
            "Warning message in summary.lm(lm(SOC_Mg_Ha ~ x, data = .SD)):\n",
            "“essentially perfect fit: summary may be unreliable”\n",
            "Warning message in summary.lm(lm(SOC_Mg_Ha ~ x, data = .SD)):\n",
            "“essentially perfect fit: summary may be unreliable”\n",
            "Warning message in summary.lm(lm(SOC_Mg_Ha ~ x, data = .SD)):\n",
            "“essentially perfect fit: summary may be unreliable”\n",
            "Warning message in summary.lm(lm(SOC_Mg_Ha ~ x, data = .SD)):\n",
            "“essentially perfect fit: summary may be unreliable”\n",
            "Warning message in summary.lm(lm(SOC_Mg_Ha ~ x, data = .SD)):\n",
            "“essentially perfect fit: summary may be unreliable”\n",
            "Warning message in summary.lm(lm(SOC_Mg_Ha ~ x, data = .SD)):\n",
            "“essentially perfect fit: summary may be unreliable”\n",
            "Warning message in summary.lm(lm(SOC_Mg_Ha ~ x, data = .SD)):\n",
            "“essentially perfect fit: summary may be unreliable”\n",
            "Warning message in summary.lm(lm(SOC_Mg_Ha ~ x, data = .SD)):\n",
            "“essentially perfect fit: summary may be unreliable”\n",
            "Warning message in summary.lm(lm(SOC_Mg_Ha ~ x, data = .SD)):\n",
            "“essentially perfect fit: summary may be unreliable”\n",
            "Warning message in summary.lm(lm(SOC_Mg_Ha ~ x, data = .SD)):\n",
            "“essentially perfect fit: summary may be unreliable”\n",
            "Warning message in summary.lm(lm(SOC_Mg_Ha ~ x, data = .SD)):\n",
            "“essentially perfect fit: summary may be unreliable”\n",
            "Warning message in summary.lm(lm(SOC_Mg_Ha ~ x, data = .SD)):\n",
            "“essentially perfect fit: summary may be unreliable”\n",
            "Warning message in summary.lm(lm(SOC_Mg_Ha ~ x, data = .SD)):\n",
            "“essentially perfect fit: summary may be unreliable”\n",
            "Warning message in summary.lm(lm(SOC_Mg_Ha ~ x, data = .SD)):\n",
            "“essentially perfect fit: summary may be unreliable”\n",
            "Warning message in summary.lm(lm(SOC_Mg_Ha ~ x, data = .SD)):\n",
            "“essentially perfect fit: summary may be unreliable”\n",
            "Warning message in summary.lm(lm(SOC_Mg_Ha ~ x, data = .SD)):\n",
            "“essentially perfect fit: summary may be unreliable”\n",
            "Warning message in summary.lm(lm(SOC_Mg_Ha ~ x, data = .SD)):\n",
            "“essentially perfect fit: summary may be unreliable”\n"
          ]
        }
      ]
    },
    {
      "cell_type": "code",
      "source": [
        "sim_c_sum_dt[big_poly_id == 6 & group_quantile == '(325,475]\t']"
      ],
      "metadata": {
        "id": "1BfLSRTsjUCh",
        "outputId": "95d68dd6-c290-481e-f30d-6eecbcfb1888",
        "colab": {
          "base_uri": "https://localhost:8080/",
          "height": 257
        }
      },
      "execution_count": 163,
      "outputs": [
        {
          "output_type": "stream",
          "name": "stderr",
          "text": [
            "Warning message in cbind(parts$left, chars$ellip_h, parts$right, deparse.level = 0L):\n",
            "“number of rows of result is not a multiple of vector length (arg 2)”\n",
            "Warning message in cbind(parts$left, chars$ellip_h, parts$right, deparse.level = 0L):\n",
            "“number of rows of result is not a multiple of vector length (arg 2)”\n",
            "Warning message in cbind(parts$left, chars$ellip_h, parts$right, deparse.level = 0L):\n",
            "“number of rows of result is not a multiple of vector length (arg 2)”\n",
            "Warning message in cbind(parts$left, chars$ellip_h, parts$right, deparse.level = 0L):\n",
            "“number of rows of result is not a multiple of vector length (arg 2)”\n"
          ]
        },
        {
          "output_type": "display_data",
          "data": {
            "text/html": [
              "<table class=\"dataframe\">\n",
              "<caption>A data.table: 0 × 87</caption>\n",
              "<thead>\n",
              "\t<tr><th scope=col>PLOT</th><th scope=col>sim_id</th><th scope=col>SOC_Mg_Ha</th><th scope=col>predicted</th><th scope=col>geom</th><th scope=col>county_name</th><th scope=col>id</th><th scope=col>left</th><th scope=col>top</th><th scope=col>right</th><th scope=col>⋯</th><th scope=col>r2_depth</th><th scope=col>r2_plot</th><th scope=col>big_poly_id</th><th scope=col>z</th><th scope=col>rmse</th><th scope=col>rmse_p</th><th scope=col>group_quantile</th><th scope=col>n_pred</th><th scope=col>n_pred_good</th><th scope=col>g_b_ratio</th></tr>\n",
              "\t<tr><th scope=col>&lt;chr&gt;</th><th scope=col>&lt;dbl&gt;</th><th scope=col>&lt;dbl&gt;</th><th scope=col>&lt;dbl&gt;</th><th scope=col>&lt;list&gt;</th><th scope=col>&lt;chr&gt;</th><th scope=col>&lt;dbl&gt;</th><th scope=col>&lt;dbl&gt;</th><th scope=col>&lt;dbl&gt;</th><th scope=col>&lt;dbl&gt;</th><th scope=col>⋯</th><th scope=col>&lt;dbl&gt;</th><th scope=col>&lt;dbl&gt;</th><th scope=col>&lt;dbl&gt;</th><th scope=col>&lt;dbl&gt;</th><th scope=col>&lt;dbl&gt;</th><th scope=col>&lt;dbl&gt;</th><th scope=col>&lt;ord&gt;</th><th scope=col>&lt;int&gt;</th><th scope=col>&lt;int&gt;</th><th scope=col>&lt;dbl&gt;</th></tr>\n",
              "</thead>\n",
              "<tbody>\n",
              "</tbody>\n",
              "</table>\n"
            ],
            "text/markdown": "\nA data.table: 0 × 87\n\n| PLOT &lt;chr&gt; | sim_id &lt;dbl&gt; | SOC_Mg_Ha &lt;dbl&gt; | predicted &lt;dbl&gt; | geom &lt;list&gt; | county_name &lt;chr&gt; | id &lt;dbl&gt; | left &lt;dbl&gt; | top &lt;dbl&gt; | right &lt;dbl&gt; | ⋯ ⋯ | r2_depth &lt;dbl&gt; | r2_plot &lt;dbl&gt; | big_poly_id &lt;dbl&gt; | z &lt;dbl&gt; | rmse &lt;dbl&gt; | rmse_p &lt;dbl&gt; | group_quantile &lt;ord&gt; | n_pred &lt;int&gt; | n_pred_good &lt;int&gt; | g_b_ratio &lt;dbl&gt; |\n|---|---|---|---|---|---|---|---|---|---|---|---|---|---|---|---|---|---|---|---|---|\n\n",
            "text/latex": "A data.table: 0 × 87\n\\begin{tabular}{lllllllllllllllllllll}\n PLOT & sim\\_id & SOC\\_Mg\\_Ha & predicted & geom & county\\_name & id & left & top & right & ⋯ & r2\\_depth & r2\\_plot & big\\_poly\\_id & z & rmse & rmse\\_p & group\\_quantile & n\\_pred & n\\_pred\\_good & g\\_b\\_ratio\\\\\n <chr> & <dbl> & <dbl> & <dbl> & <list> & <chr> & <dbl> & <dbl> & <dbl> & <dbl> & ⋯ & <dbl> & <dbl> & <dbl> & <dbl> & <dbl> & <dbl> & <ord> & <int> & <int> & <dbl>\\\\\n\\hline\n\\end{tabular}\n",
            "text/plain": [
              "     PLOT sim_id SOC_Mg_Ha predicted geom county_name id left top right ⋯\n",
              "     r2_depth r2_plot big_poly_id z rmse rmse_p group_quantile n_pred\n",
              "     n_pred_good g_b_ratio"
            ]
          },
          "metadata": {}
        }
      ]
    },
    {
      "cell_type": "code",
      "source": [
        "var_imp_dt[r2 <.95]$r2 %>% unlist%>% qplot"
      ],
      "metadata": {
        "id": "lN0tejH4jqCg",
        "outputId": "a6089159-d2a5-4ead-c5f4-495aa48c9e59",
        "colab": {
          "base_uri": "https://localhost:8080/",
          "height": 454
        }
      },
      "execution_count": 170,
      "outputs": [
        {
          "output_type": "stream",
          "name": "stderr",
          "text": [
            "\u001b[1m\u001b[22m`stat_bin()` using `bins = 30`. Pick better value with `binwidth`.\n"
          ]
        },
        {
          "output_type": "display_data",
          "data": {
            "text/plain": [
              "plot without title"
            ],
            "image/png": "[encoded data removed]"
          },
          "metadata": {
            "image/png": {
              "width": 420,
              "height": 420
            }
          }
        }
      ]
    },
    {
      "cell_type": "code",
      "source": [
        "# var_imp_dt"
      ],
      "metadata": {
        "id": "5TlRyWIOi-1I"
      },
      "execution_count": 166,
      "outputs": []
    },
    {
      "cell_type": "code",
      "source": [
        "physical <- c('elevation', 'landform', 'SRTM_mTPI', 'majorcomposition', 'age_years', 'age_class')\n",
        "biological <- c('water', 'trees', 'grass', 'flooded_vegetation', 'crops', 'shrub_and_scrub', 'built', 'bare', 'snow_and_ice', 'agbd_m', 'agbd_sd', 'agbd_n')\n",
        "climate <- c('aet', 'def', 'pdsi', 'pet', 'pr', 'ro', 'soil', 'srad', 'swe', 'tmmn', 'tmmx', 'vap', 'vpd', 'vs')\n"
      ],
      "metadata": {
        "id": "wm181x3LtHl-"
      },
      "execution_count": 37,
      "outputs": []
    },
    {
      "cell_type": "code",
      "source": [
        "var_imp_dt$type[var_imp_dt$variable %in% physical] <- 'physical'\n",
        "var_imp_dt$type[var_imp_dt$variable %in% biological] <- 'biological'\n",
        "var_imp_dt$type[var_imp_dt$variable %in% climate] <- 'climate'"
      ],
      "metadata": {
        "id": "7ZlSPpZjTUzr"
      },
      "execution_count": 38,
      "outputs": []
    },
    {
      "cell_type": "code",
      "source": [
        "var_imp_dt$r2 <- var_imp_dt$r2 %>% unlist"
      ],
      "metadata": {
        "id": "tGPJGuElucmt"
      },
      "execution_count": 39,
      "outputs": []
    },
    {
      "cell_type": "code",
      "source": [
        "var_imp_dt[r2 <.95& r2>0.05&!is.na(r2)][order(-r2)][,list(r2 = mean(r2,na.rm=T)),by = .(big_poly_id,group_quantile,type)][order(big_poly_id)]"
      ],
      "metadata": {
        "colab": {
          "base_uri": "https://localhost:8080/",
          "height": 1000
        },
        "id": "m0dxswTc2l6n",
        "outputId": "b533b3fb-2a39-4e1b-80ae-3ab3fbd0f56c"
      },
      "execution_count": 40,
      "outputs": [
        {
          "output_type": "display_data",
          "data": {
            "text/html": [
              "<table class=\"dataframe\">\n",
              "<caption>A data.table: 44 × 4</caption>\n",
              "<thead>\n",
              "\t<tr><th scope=col>big_poly_id</th><th scope=col>group_quantile</th><th scope=col>type</th><th scope=col>r2</th></tr>\n",
              "\t<tr><th scope=col>&lt;dbl&gt;</th><th scope=col>&lt;ord&gt;</th><th scope=col>&lt;chr&gt;</th><th scope=col>&lt;dbl&gt;</th></tr>\n",
              "</thead>\n",
              "<tbody>\n",
              "\t<tr><td> 1</td><td>(475,650]</td><td>biological</td><td>0.49894653</td></tr>\n",
              "\t<tr><td> 1</td><td>(475,650]</td><td>climate   </td><td>0.50497317</td></tr>\n",
              "\t<tr><td> 1</td><td>(475,650]</td><td>physical  </td><td>0.50130068</td></tr>\n",
              "\t<tr><td> 1</td><td>(175,250]</td><td>climate   </td><td>0.12416706</td></tr>\n",
              "\t<tr><td> 1</td><td>(175,250]</td><td>biological</td><td>0.06369841</td></tr>\n",
              "\t<tr><td> 2</td><td>(475,650]</td><td>climate   </td><td>0.34642427</td></tr>\n",
              "\t<tr><td> 2</td><td>(475,650]</td><td>physical  </td><td>0.30939726</td></tr>\n",
              "\t<tr><td> 2</td><td>(475,650]</td><td>biological</td><td>0.14781762</td></tr>\n",
              "\t<tr><td> 2</td><td>[0,175]  </td><td>climate   </td><td>0.08747072</td></tr>\n",
              "\t<tr><td> 2</td><td>(325,475]</td><td>climate   </td><td>0.10219311</td></tr>\n",
              "\t<tr><td> 2</td><td>(250,325]</td><td>climate   </td><td>0.07465740</td></tr>\n",
              "\t<tr><td> 2</td><td>(325,475]</td><td>biological</td><td>0.06319796</td></tr>\n",
              "\t<tr><td> 3</td><td>(250,325]</td><td>climate   </td><td>0.09300065</td></tr>\n",
              "\t<tr><td> 3</td><td>(325,475]</td><td>climate   </td><td>0.11319732</td></tr>\n",
              "\t<tr><td> 3</td><td>(325,475]</td><td>physical  </td><td>0.11786176</td></tr>\n",
              "\t<tr><td> 3</td><td>(250,325]</td><td>physical  </td><td>0.10102232</td></tr>\n",
              "\t<tr><td> 3</td><td>(250,325]</td><td>biological</td><td>0.07279828</td></tr>\n",
              "\t<tr><td> 3</td><td>(475,650]</td><td>climate   </td><td>0.05501768</td></tr>\n",
              "\t<tr><td> 4</td><td>(325,475]</td><td>climate   </td><td>0.17966563</td></tr>\n",
              "\t<tr><td> 4</td><td>(325,475]</td><td>biological</td><td>0.17180298</td></tr>\n",
              "\t<tr><td> 4</td><td>(250,325]</td><td>climate   </td><td>0.08309714</td></tr>\n",
              "\t<tr><td> 4</td><td>(250,325]</td><td>biological</td><td>0.09674940</td></tr>\n",
              "\t<tr><td> 4</td><td>(250,325]</td><td>physical  </td><td>0.07652575</td></tr>\n",
              "\t<tr><td> 5</td><td>(250,325]</td><td>physical  </td><td>0.49440472</td></tr>\n",
              "\t<tr><td> 5</td><td>(250,325]</td><td>climate   </td><td>0.50785458</td></tr>\n",
              "\t<tr><td> 5</td><td>(250,325]</td><td>biological</td><td>0.47296158</td></tr>\n",
              "\t<tr><td> 5</td><td>[0,175]  </td><td>climate   </td><td>0.08678372</td></tr>\n",
              "\t<tr><td> 5</td><td>[0,175]  </td><td>biological</td><td>0.06326977</td></tr>\n",
              "\t<tr><td> 6</td><td>(250,325]</td><td>climate   </td><td>0.20670677</td></tr>\n",
              "\t<tr><td> 6</td><td>(175,250]</td><td>climate   </td><td>0.26800243</td></tr>\n",
              "\t<tr><td> 6</td><td>(250,325]</td><td>biological</td><td>0.14517233</td></tr>\n",
              "\t<tr><td> 6</td><td>(175,250]</td><td>biological</td><td>0.25602365</td></tr>\n",
              "\t<tr><td> 6</td><td>(250,325]</td><td>physical  </td><td>0.11296021</td></tr>\n",
              "\t<tr><td> 6</td><td>[0,175]  </td><td>climate   </td><td>0.08537835</td></tr>\n",
              "\t<tr><td> 7</td><td>(475,650]</td><td>biological</td><td>0.15942971</td></tr>\n",
              "\t<tr><td> 7</td><td>(475,650]</td><td>climate   </td><td>0.08700587</td></tr>\n",
              "\t<tr><td> 7</td><td>(475,650]</td><td>physical  </td><td>0.17047982</td></tr>\n",
              "\t<tr><td> 7</td><td>(250,325]</td><td>climate   </td><td>0.09466528</td></tr>\n",
              "\t<tr><td> 7</td><td>(325,475]</td><td>climate   </td><td>0.07714813</td></tr>\n",
              "\t<tr><td> 7</td><td>(250,325]</td><td>physical  </td><td>0.09949275</td></tr>\n",
              "\t<tr><td> 7</td><td>(325,475]</td><td>physical  </td><td>0.07422087</td></tr>\n",
              "\t<tr><td>NA</td><td>(175,250]</td><td>climate   </td><td>0.43792391</td></tr>\n",
              "\t<tr><td>NA</td><td>(175,250]</td><td>physical  </td><td>0.58225100</td></tr>\n",
              "\t<tr><td>NA</td><td>(175,250]</td><td>biological</td><td>0.46878662</td></tr>\n",
              "</tbody>\n",
              "</table>\n"
            ],
            "text/markdown": "\nA data.table: 44 × 4\n\n| big_poly_id &lt;dbl&gt; | group_quantile &lt;ord&gt; | type &lt;chr&gt; | r2 &lt;dbl&gt; |\n|---|---|---|---|\n|  1 | (475,650] | biological | 0.49894653 |\n|  1 | (475,650] | climate    | 0.50497317 |\n|  1 | (475,650] | physical   | 0.50130068 |\n|  1 | (175,250] | climate    | 0.12416706 |\n|  1 | (175,250] | biological | 0.06369841 |\n|  2 | (475,650] | climate    | 0.34642427 |\n|  2 | (475,650] | physical   | 0.30939726 |\n|  2 | (475,650] | biological | 0.14781762 |\n|  2 | [0,175]   | climate    | 0.08747072 |\n|  2 | (325,475] | climate    | 0.10219311 |\n|  2 | (250,325] | climate    | 0.07465740 |\n|  2 | (325,475] | biological | 0.06319796 |\n|  3 | (250,325] | climate    | 0.09300065 |\n|  3 | (325,475] | climate    | 0.11319732 |\n|  3 | (325,475] | physical   | 0.11786176 |\n|  3 | (250,325] | physical   | 0.10102232 |\n|  3 | (250,325] | biological | 0.07279828 |\n|  3 | (475,650] | climate    | 0.05501768 |\n|  4 | (325,475] | climate    | 0.17966563 |\n|  4 | (325,475] | biological | 0.17180298 |\n|  4 | (250,325] | climate    | 0.08309714 |\n|  4 | (250,325] | biological | 0.09674940 |\n|  4 | (250,325] | physical   | 0.07652575 |\n|  5 | (250,325] | physical   | 0.49440472 |\n|  5 | (250,325] | climate    | 0.50785458 |\n|  5 | (250,325] | biological | 0.47296158 |\n|  5 | [0,175]   | climate    | 0.08678372 |\n|  5 | [0,175]   | biological | 0.06326977 |\n|  6 | (250,325] | climate    | 0.20670677 |\n|  6 | (175,250] | climate    | 0.26800243 |\n|  6 | (250,325] | biological | 0.14517233 |\n|  6 | (175,250] | biological | 0.25602365 |\n|  6 | (250,325] | physical   | 0.11296021 |\n|  6 | [0,175]   | climate    | 0.08537835 |\n|  7 | (475,650] | biological | 0.15942971 |\n|  7 | (475,650] | climate    | 0.08700587 |\n|  7 | (475,650] | physical   | 0.17047982 |\n|  7 | (250,325] | climate    | 0.09466528 |\n|  7 | (325,475] | climate    | 0.07714813 |\n|  7 | (250,325] | physical   | 0.09949275 |\n|  7 | (325,475] | physical   | 0.07422087 |\n| NA | (175,250] | climate    | 0.43792391 |\n| NA | (175,250] | physical   | 0.58225100 |\n| NA | (175,250] | biological | 0.46878662 |\n\n",
            "text/latex": "A data.table: 44 × 4\n\\begin{tabular}{llll}\n big\\_poly\\_id & group\\_quantile & type & r2\\\\\n <dbl> & <ord> & <chr> & <dbl>\\\\\n\\hline\n\t  1 & (475,650{]} & biological & 0.49894653\\\\\n\t  1 & (475,650{]} & climate    & 0.50497317\\\\\n\t  1 & (475,650{]} & physical   & 0.50130068\\\\\n\t  1 & (175,250{]} & climate    & 0.12416706\\\\\n\t  1 & (175,250{]} & biological & 0.06369841\\\\\n\t  2 & (475,650{]} & climate    & 0.34642427\\\\\n\t  2 & (475,650{]} & physical   & 0.30939726\\\\\n\t  2 & (475,650{]} & biological & 0.14781762\\\\\n\t  2 & {[}0,175{]}   & climate    & 0.08747072\\\\\n\t  2 & (325,475{]} & climate    & 0.10219311\\\\\n\t  2 & (250,325{]} & climate    & 0.07465740\\\\\n\t  2 & (325,475{]} & biological & 0.06319796\\\\\n\t  3 & (250,325{]} & climate    & 0.09300065\\\\\n\t  3 & (325,475{]} & climate    & 0.11319732\\\\\n\t  3 & (325,475{]} & physical   & 0.11786176\\\\\n\t  3 & (250,325{]} & physical   & 0.10102232\\\\\n\t  3 & (250,325{]} & biological & 0.07279828\\\\\n\t  3 & (475,650{]} & climate    & 0.05501768\\\\\n\t  4 & (325,475{]} & climate    & 0.17966563\\\\\n\t  4 & (325,475{]} & biological & 0.17180298\\\\\n\t  4 & (250,325{]} & climate    & 0.08309714\\\\\n\t  4 & (250,325{]} & biological & 0.09674940\\\\\n\t  4 & (250,325{]} & physical   & 0.07652575\\\\\n\t  5 & (250,325{]} & physical   & 0.49440472\\\\\n\t  5 & (250,325{]} & climate    & 0.50785458\\\\\n\t  5 & (250,325{]} & biological & 0.47296158\\\\\n\t  5 & {[}0,175{]}   & climate    & 0.08678372\\\\\n\t  5 & {[}0,175{]}   & biological & 0.06326977\\\\\n\t  6 & (250,325{]} & climate    & 0.20670677\\\\\n\t  6 & (175,250{]} & climate    & 0.26800243\\\\\n\t  6 & (250,325{]} & biological & 0.14517233\\\\\n\t  6 & (175,250{]} & biological & 0.25602365\\\\\n\t  6 & (250,325{]} & physical   & 0.11296021\\\\\n\t  6 & {[}0,175{]}   & climate    & 0.08537835\\\\\n\t  7 & (475,650{]} & biological & 0.15942971\\\\\n\t  7 & (475,650{]} & climate    & 0.08700587\\\\\n\t  7 & (475,650{]} & physical   & 0.17047982\\\\\n\t  7 & (250,325{]} & climate    & 0.09466528\\\\\n\t  7 & (325,475{]} & climate    & 0.07714813\\\\\n\t  7 & (250,325{]} & physical   & 0.09949275\\\\\n\t  7 & (325,475{]} & physical   & 0.07422087\\\\\n\t NA & (175,250{]} & climate    & 0.43792391\\\\\n\t NA & (175,250{]} & physical   & 0.58225100\\\\\n\t NA & (175,250{]} & biological & 0.46878662\\\\\n\\end{tabular}\n",
            "text/plain": [
              "   big_poly_id group_quantile type       r2        \n",
              "1   1          (475,650]      biological 0.49894653\n",
              "2   1          (475,650]      climate    0.50497317\n",
              "3   1          (475,650]      physical   0.50130068\n",
              "4   1          (175,250]      climate    0.12416706\n",
              "5   1          (175,250]      biological 0.06369841\n",
              "6   2          (475,650]      climate    0.34642427\n",
              "7   2          (475,650]      physical   0.30939726\n",
              "8   2          (475,650]      biological 0.14781762\n",
              "9   2          [0,175]        climate    0.08747072\n",
              "10  2          (325,475]      climate    0.10219311\n",
              "11  2          (250,325]      climate    0.07465740\n",
              "12  2          (325,475]      biological 0.06319796\n",
              "13  3          (250,325]      climate    0.09300065\n",
              "14  3          (325,475]      climate    0.11319732\n",
              "15  3          (325,475]      physical   0.11786176\n",
              "16  3          (250,325]      physical   0.10102232\n",
              "17  3          (250,325]      biological 0.07279828\n",
              "18  3          (475,650]      climate    0.05501768\n",
              "19  4          (325,475]      climate    0.17966563\n",
              "20  4          (325,475]      biological 0.17180298\n",
              "21  4          (250,325]      climate    0.08309714\n",
              "22  4          (250,325]      biological 0.09674940\n",
              "23  4          (250,325]      physical   0.07652575\n",
              "24  5          (250,325]      physical   0.49440472\n",
              "25  5          (250,325]      climate    0.50785458\n",
              "26  5          (250,325]      biological 0.47296158\n",
              "27  5          [0,175]        climate    0.08678372\n",
              "28  5          [0,175]        biological 0.06326977\n",
              "29  6          (250,325]      climate    0.20670677\n",
              "30  6          (175,250]      climate    0.26800243\n",
              "31  6          (250,325]      biological 0.14517233\n",
              "32  6          (175,250]      biological 0.25602365\n",
              "33  6          (250,325]      physical   0.11296021\n",
              "34  6          [0,175]        climate    0.08537835\n",
              "35  7          (475,650]      biological 0.15942971\n",
              "36  7          (475,650]      climate    0.08700587\n",
              "37  7          (475,650]      physical   0.17047982\n",
              "38  7          (250,325]      climate    0.09466528\n",
              "39  7          (325,475]      climate    0.07714813\n",
              "40  7          (250,325]      physical   0.09949275\n",
              "41  7          (325,475]      physical   0.07422087\n",
              "42 NA          (175,250]      climate    0.43792391\n",
              "43 NA          (175,250]      physical   0.58225100\n",
              "44 NA          (175,250]      biological 0.46878662"
            ]
          },
          "metadata": {}
        }
      ]
    },
    {
      "cell_type": "code",
      "source": [
        "var_imp_dt[r2 <.95& r2>0.05&!is.na(r2)][order(-r2)][,list(r2 = mean(r2,na.rm=T)),by = .(big_poly_id,group_quantile,type)][order(big_poly_id)] %>%\n",
        "  dcast(big_poly_id +group_quantile ~type,value.var='r2') %>%\n",
        "  merge(.,big_polys_dt,by.x = 'big_poly_id',by.y='id') %>%\n",
        "  st_as_sf() %>%\n",
        "  st_buffer(0) %>%\n",
        "  st_write('big_poly_summary.gpkg',delete_dsn = T)"
      ],
      "metadata": {
        "colab": {
          "base_uri": "https://localhost:8080/"
        },
        "id": "yMU1ZJgTve8z",
        "outputId": "f5380202-44b8-47e7-d88d-939a045c07c7"
      },
      "execution_count": 41,
      "outputs": [
        {
          "output_type": "stream",
          "name": "stdout",
          "text": [
            "Deleting source `big_poly_summary.gpkg' using driver `GPKG'\n",
            "Writing layer `big_poly_summary' to data source \n",
            "  `big_poly_summary.gpkg' using driver `GPKG'\n",
            "Writing 19 features with 5 fields and geometry type Polygon.\n"
          ]
        }
      ]
    },
    {
      "cell_type": "code",
      "source": [
        "pie_dt <- var_imp_dt[r2 <.95& r2>0.05&!is.na(r2)][order(-r2)][,list(r2 = mean(r2,na.rm=T)),by = .(big_poly_id,group_quantile,type)][order(big_poly_id)]"
      ],
      "metadata": {
        "id": "twz5RDTjmCPL"
      },
      "execution_count": 42,
      "outputs": []
    },
    {
      "cell_type": "code",
      "source": [
        "pie_dt %>% head"
      ],
      "metadata": {
        "id": "hO1c_Egvma37",
        "outputId": "6265917d-41d9-48c8-ac18-3dd0d35431be",
        "colab": {
          "base_uri": "https://localhost:8080/",
          "height": 286
        }
      },
      "execution_count": 43,
      "outputs": [
        {
          "output_type": "display_data",
          "data": {
            "text/html": [
              "<table class=\"dataframe\">\n",
              "<caption>A data.table: 6 × 4</caption>\n",
              "<thead>\n",
              "\t<tr><th scope=col>big_poly_id</th><th scope=col>group_quantile</th><th scope=col>type</th><th scope=col>r2</th></tr>\n",
              "\t<tr><th scope=col>&lt;dbl&gt;</th><th scope=col>&lt;ord&gt;</th><th scope=col>&lt;chr&gt;</th><th scope=col>&lt;dbl&gt;</th></tr>\n",
              "</thead>\n",
              "<tbody>\n",
              "\t<tr><td>1</td><td>(475,650]</td><td>biological</td><td>0.49894653</td></tr>\n",
              "\t<tr><td>1</td><td>(475,650]</td><td>climate   </td><td>0.50497317</td></tr>\n",
              "\t<tr><td>1</td><td>(475,650]</td><td>physical  </td><td>0.50130068</td></tr>\n",
              "\t<tr><td>1</td><td>(175,250]</td><td>climate   </td><td>0.12416706</td></tr>\n",
              "\t<tr><td>1</td><td>(175,250]</td><td>biological</td><td>0.06369841</td></tr>\n",
              "\t<tr><td>2</td><td>(475,650]</td><td>climate   </td><td>0.34642427</td></tr>\n",
              "</tbody>\n",
              "</table>\n"
            ],
            "text/markdown": "\nA data.table: 6 × 4\n\n| big_poly_id &lt;dbl&gt; | group_quantile &lt;ord&gt; | type &lt;chr&gt; | r2 &lt;dbl&gt; |\n|---|---|---|---|\n| 1 | (475,650] | biological | 0.49894653 |\n| 1 | (475,650] | climate    | 0.50497317 |\n| 1 | (475,650] | physical   | 0.50130068 |\n| 1 | (175,250] | climate    | 0.12416706 |\n| 1 | (175,250] | biological | 0.06369841 |\n| 2 | (475,650] | climate    | 0.34642427 |\n\n",
            "text/latex": "A data.table: 6 × 4\n\\begin{tabular}{llll}\n big\\_poly\\_id & group\\_quantile & type & r2\\\\\n <dbl> & <ord> & <chr> & <dbl>\\\\\n\\hline\n\t 1 & (475,650{]} & biological & 0.49894653\\\\\n\t 1 & (475,650{]} & climate    & 0.50497317\\\\\n\t 1 & (475,650{]} & physical   & 0.50130068\\\\\n\t 1 & (175,250{]} & climate    & 0.12416706\\\\\n\t 1 & (175,250{]} & biological & 0.06369841\\\\\n\t 2 & (475,650{]} & climate    & 0.34642427\\\\\n\\end{tabular}\n",
            "text/plain": [
              "  big_poly_id group_quantile type       r2        \n",
              "1 1           (475,650]      biological 0.49894653\n",
              "2 1           (475,650]      climate    0.50497317\n",
              "3 1           (475,650]      physical   0.50130068\n",
              "4 1           (175,250]      climate    0.12416706\n",
              "5 1           (175,250]      biological 0.06369841\n",
              "6 2           (475,650]      climate    0.34642427"
            ]
          },
          "metadata": {}
        }
      ]
    },
    {
      "cell_type": "code",
      "source": [
        " pie_dt[big_poly_id == 1 & group_quantile =='(475,650]'\t]"
      ],
      "metadata": {
        "id": "RJ1JX76omoyA",
        "outputId": "43ea31ce-aa0b-412a-8641-88ecbc265639",
        "colab": {
          "base_uri": "https://localhost:8080/",
          "height": 192
        }
      },
      "execution_count": 44,
      "outputs": [
        {
          "output_type": "display_data",
          "data": {
            "text/html": [
              "<table class=\"dataframe\">\n",
              "<caption>A data.table: 3 × 4</caption>\n",
              "<thead>\n",
              "\t<tr><th scope=col>big_poly_id</th><th scope=col>group_quantile</th><th scope=col>type</th><th scope=col>r2</th></tr>\n",
              "\t<tr><th scope=col>&lt;dbl&gt;</th><th scope=col>&lt;ord&gt;</th><th scope=col>&lt;chr&gt;</th><th scope=col>&lt;dbl&gt;</th></tr>\n",
              "</thead>\n",
              "<tbody>\n",
              "\t<tr><td>1</td><td>(475,650]</td><td>biological</td><td>0.4989465</td></tr>\n",
              "\t<tr><td>1</td><td>(475,650]</td><td>climate   </td><td>0.5049732</td></tr>\n",
              "\t<tr><td>1</td><td>(475,650]</td><td>physical  </td><td>0.5013007</td></tr>\n",
              "</tbody>\n",
              "</table>\n"
            ],
            "text/markdown": "\nA data.table: 3 × 4\n\n| big_poly_id &lt;dbl&gt; | group_quantile &lt;ord&gt; | type &lt;chr&gt; | r2 &lt;dbl&gt; |\n|---|---|---|---|\n| 1 | (475,650] | biological | 0.4989465 |\n| 1 | (475,650] | climate    | 0.5049732 |\n| 1 | (475,650] | physical   | 0.5013007 |\n\n",
            "text/latex": "A data.table: 3 × 4\n\\begin{tabular}{llll}\n big\\_poly\\_id & group\\_quantile & type & r2\\\\\n <dbl> & <ord> & <chr> & <dbl>\\\\\n\\hline\n\t 1 & (475,650{]} & biological & 0.4989465\\\\\n\t 1 & (475,650{]} & climate    & 0.5049732\\\\\n\t 1 & (475,650{]} & physical   & 0.5013007\\\\\n\\end{tabular}\n",
            "text/plain": [
              "  big_poly_id group_quantile type       r2       \n",
              "1 1           (475,650]      biological 0.4989465\n",
              "2 1           (475,650]      climate    0.5049732\n",
              "3 1           (475,650]      physical   0.5013007"
            ]
          },
          "metadata": {}
        }
      ]
    },
    {
      "cell_type": "code",
      "source": [
        "i <- 7\n",
        "j <- '(475,650]'\n",
        "id_j <- which('(475,650]' %in% (pie_dt$group_quantile %>% unique) )\n",
        "for( i in unique(pie_dt$big_poly_id)){\n",
        "  for(j in unique(pie_dt$group_quantile)){\n",
        "  my_colors <- c(\"biological\" = \"#1b9e77\", \"climate\" = \"#d95f02\", \"physical\" = \"#7570b3\")\n",
        "  if(nrow(pie_dt[big_poly_id == i & group_quantile ==j\t])>0){\n",
        "pie_dt[big_poly_id == i & group_quantile ==j\t]\n",
        "\n",
        "pie_dt[big_poly_id == i & group_quantile ==j\t] %>%\n",
        "  ggplot( aes(x=\"\", y=r2, fill=type,label = paste(type,\" R-sq:\",r2 %>% round(2)))) +\n",
        "    geom_bar(width = 1, stat = \"identity\") +\n",
        "    coord_polar(\"y\") +\n",
        "    scale_fill_manual(values = my_colors) +\n",
        "    geom_label(position = position_stack(vjust = 0.5), color = \"white\") +\n",
        "    theme_void()+\n",
        "    theme(legend.position = \"none\")  # Moves the legend to the bottom\n",
        "  ggsave(dpi = 300, height = 1.5,width= 2,scale=4,filename = paste0('/content/Pies/Pie_PolyID_',i,'_group',j,'_','.jpg'))\n",
        "\n",
        "\n",
        "  }}}"
      ],
      "metadata": {
        "id": "qjeEB3SliPK0"
      },
      "execution_count": 65,
      "outputs": []
    },
    {
      "cell_type": "code",
      "source": [
        "sim_c_sum_dt[,min_plot:= PLOT[which.min(rmse_p)],by=id]"
      ],
      "metadata": {
        "id": "Y0CMfxvESRZy"
      },
      "execution_count": null,
      "outputs": []
    },
    {
      "cell_type": "code",
      "source": [
        "# var_imp_dt[,list(imp_variable=variable[order(-r2)][1],r2=r2[order(-r2)][1]),by=PLOT]"
      ],
      "metadata": {
        "id": "uI1NQa16Gg2Y"
      },
      "execution_count": null,
      "outputs": []
    },
    {
      "cell_type": "code",
      "source": [
        "# sim_c_sum_dt$min_plot %>% qplot"
      ],
      "metadata": {
        "id": "6nOp1xLCS1PY"
      },
      "execution_count": null,
      "outputs": []
    },
    {
      "cell_type": "code",
      "source": [
        "# sim_c_sum_dt$PLOT %>% table"
      ],
      "metadata": {
        "id": "BzgG12iGSyAc"
      },
      "execution_count": null,
      "outputs": []
    },
    {
      "cell_type": "code",
      "source": [
        "sim_c_sum_dt$imp_variable <- NULL\n",
        "sim_c_sum_dt$r2 <- NULL"
      ],
      "metadata": {
        "id": "uJ8EzPBCCZt_"
      },
      "execution_count": null,
      "outputs": []
    },
    {
      "cell_type": "code",
      "source": [
        " sim_c_sum_dt <- var_imp_dt[,list(imp_variable=variable[order(-r2)][1],r2=r2[order(-r2)][1]),by=PLOT] %>% merge(sim_c_sum_dt,.,by.x = 'min_plot',by.y = 'PLOT')"
      ],
      "metadata": {
        "id": "9NYCPnXn-dBJ"
      },
      "execution_count": null,
      "outputs": []
    },
    {
      "cell_type": "code",
      "source": [
        "sim_c_sum_dt %>% head"
      ],
      "metadata": {
        "id": "2D0uCXNRVKwM"
      },
      "execution_count": null,
      "outputs": []
    },
    {
      "cell_type": "code",
      "source": [
        "# sim_c_sum_dt[,imp_variable:=imp_variable[order(-r2)][1],by=id]\n",
        "# sim_c_sum_dt[,r2:=r2[order(-r2)][1],by=id]"
      ],
      "metadata": {
        "id": "XH4BWGp0KRX7"
      },
      "execution_count": null,
      "outputs": []
    },
    {
      "cell_type": "code",
      "source": [
        "sim_c_sum_dt[rmse_p<.2][,list(rmse_p = mean(rmse_p),geom=geom[1]),by = .(id,imp_variable,r2)] %>% st_as_sf %>% st_write('variable_importance_id.gpkg',delete_dsn=T)"
      ],
      "metadata": {
        "id": "JmII9qMsFnGh"
      },
      "execution_count": null,
      "outputs": []
    },
    {
      "cell_type": "code",
      "source": [
        "# sim_c_sum_dt[rmse_p<.2] %>% st_as_sf %>% st_write('variable_importance.gpkg',delete_dsn)"
      ],
      "metadata": {
        "id": "HldNZqI4E38k"
      },
      "execution_count": null,
      "outputs": []
    },
    {
      "cell_type": "code",
      "source": [
        "var_imp_dt$imp_variable %>% table"
      ],
      "metadata": {
        "id": "4a_Ak1xr-wzN"
      },
      "execution_count": null,
      "outputs": []
    },
    {
      "cell_type": "code",
      "source": [
        "var_imp_dt %>%\n",
        "  ggplot(aes(x=r2))+\n",
        "    geom_histogram(aes(fill=variable))+\n",
        "    facet_wrap(variable~.,scales='free') +\n",
        "    theme(legend.position = \"none\")\n"
      ],
      "metadata": {
        "id": "2ajG3NFW9R1p"
      },
      "execution_count": null,
      "outputs": []
    },
    {
      "cell_type": "code",
      "source": [
        "r2_dt <-\n",
        "sim_c_sum_dt$PLOT %>% unique %>%\n",
        "  lapply(function(x){\n",
        "  x_dt <- sim_c_sum_dt[PLOT == x]\n",
        "  names(sim_c_sum_dt)[c(12:21, 23:40)] %>%\n",
        "    lapply(function(y){\n",
        "    r2 <-\n",
        "    (lm(x_dt[['rmse_p']]~x_dt[[y]]) %>%\n",
        "      summary())$r.squared\n",
        "    data.table(PLOT = x,variable =y,r2 = r2) %>% return()\n",
        "    }) %>% rbindlist\n",
        "  }) %>% rbindlist\n"
      ],
      "metadata": {
        "id": "-hngzXlkgMzv"
      },
      "execution_count": null,
      "outputs": []
    },
    {
      "cell_type": "code",
      "source": [
        "r2_dt"
      ],
      "metadata": {
        "id": "md7uSqOJ7TJf"
      },
      "execution_count": null,
      "outputs": []
    },
    {
      "cell_type": "code",
      "source": [
        "gc()"
      ],
      "metadata": {
        "id": "ThBN0TMl7sW8"
      },
      "execution_count": null,
      "outputs": []
    },
    {
      "cell_type": "code",
      "source": [
        "cool_dt[PLOT == 2737] %>%\n",
        "ggplot(aes(x=elevation,y=rmse_p))+\n",
        "# ylim(0,1)+\n",
        "geom_bin2d() +\n",
        "geom_smooth(method='lm')"
      ],
      "metadata": {
        "id": "UegpL-6DxZX4"
      },
      "execution_count": null,
      "outputs": []
    },
    {
      "cell_type": "code",
      "source": [
        "sim_c_no_depth_dt[PLOT == 2737]$SOC_Mg_Ha %>% table"
      ],
      "metadata": {
        "id": "t2pDJ7gpyHEZ"
      },
      "execution_count": null,
      "outputs": []
    },
    {
      "cell_type": "code",
      "source": [
        "\n",
        "(cool_dt[PLOT == 2822]  %>%\n",
        "  lm(rmse_p~soil,.) %>%\n",
        "  summary())$r.squared"
      ],
      "metadata": {
        "id": "PS0rOg0i5352"
      },
      "execution_count": null,
      "outputs": []
    },
    {
      "cell_type": "code",
      "source": [
        "names(sim_c_sum_dt)"
      ],
      "metadata": {
        "id": "X0vkbVKW6B5E"
      },
      "execution_count": null,
      "outputs": []
    },
    {
      "cell_type": "code",
      "source": [
        "# cool_dt <- sim_c_sum_dt[,list(rmse_p = mean(sqrt(z^2))/SOC_Mg_Ha,rmse = mean(sqrt(z^2)),var_imp_elevation = mean(var_imp_elevation) ,geom=unique(geom)[1],predicted = mean(predicted)),by = .(PLOT,id,soil,tmmn,vpd,SOC_Mg_Ha,trees,shrub_and_scrub,built,bare,aet,soil,vs,SRTM_mTPI,agbd_m,agbd_sd,elevation)]\n",
        "# st_as_sf %>%\n",
        "# st_write('review_output.gpkg',delete_dsn = T)\n",
        "# cool_dt[,list(elev_r2= cor(elevation, SRTM_mTPI) ^ 2),by = .(PLOT)]\n",
        "cool_dt[PLOT == 4102]  %>%\n",
        "ggplot(aes(x=rmse_p,y=bare))+\n",
        "# ylim(0,600)+\n",
        "# geom_histogram()\n",
        "geom_bin2d() +\n",
        "geom_smooth(method='lm')"
      ],
      "metadata": {
        "id": "Z-G08udTEFv2"
      },
      "execution_count": null,
      "outputs": []
    },
    {
      "cell_type": "code",
      "source": [
        "sim_dt[,z:=(predicted-SOC_Mg_Ha)/SOC_Mg_Ha]"
      ],
      "metadata": {
        "id": "ykTLK7Zfvb_Y"
      },
      "execution_count": null,
      "outputs": []
    },
    {
      "cell_type": "code",
      "source": [
        "sim_dt[,residual_per:=(predicted-SOC_Mg_Ha)/SOC_Mg_Ha]"
      ],
      "metadata": {
        "id": "qozeGGhyeNR6"
      },
      "execution_count": null,
      "outputs": []
    },
    {
      "cell_type": "code",
      "source": [
        "sim_dt[ z > -0.05 &z<0.05]$predicted %>% qplot"
      ],
      "metadata": {
        "id": "83G-MoVduIeE"
      },
      "execution_count": null,
      "outputs": []
    },
    {
      "cell_type": "code",
      "source": [
        "sim_dt$SOC_Mg_Ha %>% qplot"
      ],
      "metadata": {
        "id": "FYEQyrPhuMp8"
      },
      "execution_count": null,
      "outputs": []
    },
    {
      "cell_type": "code",
      "source": [
        "sim_dt[id==2831164]$predicted %>% qplot(bins=100)\n",
        "\n",
        "sim_dt[id==2831164 & z > -0.05 &z<0.05]$predicted %>% qplot(geom='histogram')"
      ],
      "metadata": {
        "id": "4Vplh_bzvy2V"
      },
      "execution_count": null,
      "outputs": []
    },
    {
      "cell_type": "code",
      "source": [
        "sim_summary_dt <- sim_dt[,list(length = length(r2),length_05 = length(r2[sqrt((z)^2) <0.05]),geom=unique(geom)),by=.(id,PLOT)]"
      ],
      "metadata": {
        "id": "dQe6TcWmQE9z"
      },
      "execution_count": null,
      "outputs": []
    },
    {
      "cell_type": "code",
      "source": [
        "# sim_summary_dt\n",
        "(sim_summary_dt[PLOT==5289]$length_05/sim_summary_dt[PLOT==5289]$length) %>% qplot"
      ],
      "metadata": {
        "id": "8ety8b9EirDE"
      },
      "execution_count": null,
      "outputs": []
    },
    {
      "cell_type": "code",
      "source": [
        "sim_summary_dt %>% st_as_sf %>% st_write('sim_summary_id_plot.gpkg',delete_dsn = T)"
      ],
      "metadata": {
        "id": "t7KCfekdwa45"
      },
      "execution_count": null,
      "outputs": []
    },
    {
      "cell_type": "code",
      "source": [
        "(sim_dt %>% names)[c(9:18,20:37)]"
      ],
      "metadata": {
        "id": "55HRclaRCkNj"
      },
      "execution_count": null,
      "outputs": []
    },
    {
      "cell_type": "code",
      "source": [
        "sim_dt$id %>% sample(1)\n",
        "sim_dt[id==2762315]$PLOT %>% table"
      ],
      "metadata": {
        "id": "T7bfZLlnv2kw"
      },
      "execution_count": null,
      "outputs": []
    },
    {
      "cell_type": "code",
      "source": [
        "sim_dt[id==2762315] %>% nrow"
      ],
      "metadata": {
        "id": "sZIan_uuv_eq"
      },
      "execution_count": null,
      "outputs": []
    },
    {
      "cell_type": "code",
      "source": [
        "#  sim_dt[id==2762315 &PLOT == 2678]$z %>% abs %>% qplot"
      ],
      "metadata": {
        "id": "TE5mLdbMwPBv"
      },
      "execution_count": null,
      "outputs": []
    },
    {
      "cell_type": "code",
      "source": [
        "sim_dt[id==2762315 &PLOT == 2678 ]$id %>% unique"
      ],
      "metadata": {
        "id": "K5ZOagATPk4_"
      },
      "execution_count": null,
      "outputs": []
    },
    {
      "cell_type": "code",
      "source": [
        "names(sim_dt)"
      ],
      "metadata": {
        "id": "o1nEka7qXTVw"
      },
      "execution_count": null,
      "outputs": []
    },
    {
      "cell_type": "code",
      "source": [
        "names(sim_dt)[c(11:42)]"
      ],
      "metadata": {
        "id": "e3DOI4yvInQ9"
      },
      "execution_count": null,
      "outputs": []
    },
    {
      "cell_type": "code",
      "source": [
        "p_value_dt <-\n",
        "sim_dt$PLOT %>% unique %>% lapply(function(y){\n",
        "names(sim_dt)[c(9:18,20:37)] %>%\n",
        "lapply(function(x){\n",
        "\n",
        "  (cool_dt[PLOT == 2822]  %>%\n",
        "  lm(rmse_p~soil,.) %>%\n",
        "  summary())$r.squared\n",
        "# # which_dt <- sim_dt[ PLOT == y ][,list(good = length(z[z < 0.05])/length(z) <0.02),by= .(PLOT,id)]\n",
        "# good_x <- grid_dt[id %in% which_dt$id[which_dt$good]][[x]]\n",
        "# bad_x <- grid_dt[id %in% which_dt$id[!which_dt$good]][[x]]\n",
        "# if(length(good_x)>3 &length(bad_x)>3){\n",
        "# p_value <- wilcox.test(good_x,bad_x)$p.value\n",
        "\n",
        "# data.table(PLOT=y,variable=x,good = length(good_x),bad =length(bad_x),p_value=p_value) %>% return\n",
        "# }else(return(data.table(PLOT=y,variable=x,good = length(good_x),bad =length(bad_x),p_value=NA)))\n",
        "}) %>% rbindlist %>% return}) %>% rbindlist"
      ],
      "metadata": {
        "id": "-izennDhKD9H"
      },
      "execution_count": null,
      "outputs": []
    },
    {
      "cell_type": "code",
      "source": [
        "good_bad_dt <- p_value_dt[,list( mean(NA)),by=.(PLOT,good,bad)]"
      ],
      "metadata": {
        "id": "16m_kICGtC-e"
      },
      "execution_count": null,
      "outputs": []
    },
    {
      "cell_type": "code",
      "source": [
        "good_bad_dt <- merge(fia_dt,good_bad_dt,by = 'PLOT')"
      ],
      "metadata": {
        "id": "9iG0Rmja5X4a"
      },
      "execution_count": null,
      "outputs": []
    },
    {
      "cell_type": "code",
      "source": [
        "names(good_bad_dt)"
      ],
      "metadata": {
        "id": "6OHO4MNf6qbv"
      },
      "execution_count": null,
      "outputs": []
    },
    {
      "cell_type": "code",
      "source": [
        "good_bad_dt %>%\n",
        "  ggplot(aes(x=good/(bad +good),y=Stock_SOC_Mg_Ha %>% as.numeric))+\n",
        "  geom_point() +\n",
        "  facet_grid(Max_Lower_Depth %>% as.numeric~.)"
      ],
      "metadata": {
        "id": "t_ulb6Gp5FCS"
      },
      "execution_count": null,
      "outputs": []
    },
    {
      "cell_type": "code",
      "source": [
        "# x <- sim_dt[ PLOT == 2409 ][,list()]\n",
        "\n",
        "z <- sim_dt[ PLOT == 2409 ]$z\n",
        "length(x[abs(z) < 0.05])\n",
        "length(x[abs(z) >= 0.05])\n",
        "wilcox.test(sample(x[abs(z) < 0.05],500,replace=T) %>% sort ,\n",
        "          sample(x[abs(z) >= 0.05],500,replace=T)%>% sort)"
      ],
      "metadata": {
        "id": "TwoBmzMO5_Qj"
      },
      "execution_count": null,
      "outputs": []
    },
    {
      "cell_type": "code",
      "source": [
        "x <- sim_dt[ PLOT == 2409 ]$elevation\n",
        "z <- sim_dt[ PLOT == 2409 ]$z\n",
        "t.test(x[abs(z) < 0.05],\n",
        "          x[abs(z) >= 0.05])"
      ],
      "metadata": {
        "id": "kaLzXo6xX7j9"
      },
      "execution_count": null,
      "outputs": []
    },
    {
      "cell_type": "code",
      "source": [
        "#  sim_dt[ PLOT == 2409 ] %>%\n",
        " data.table(elevation = c(sample(x[abs(z) < 0.05],1000000,replace=T),sample(x[abs(z) >= 0.05],1000000,replace=T)),z = c(rep(0,1000),rep(1,1000))) %>%\n",
        "   ggplot(aes(x=elevation,group = abs(z) <0.05))+\n",
        "     geom_density(aes(color= abs(z) <0.05))"
      ],
      "metadata": {
        "id": "RLNcpUsLXZsr"
      },
      "execution_count": null,
      "outputs": []
    },
    {
      "cell_type": "code",
      "source": [
        "\n",
        "\n",
        "if(length(x[abs(z) < 0.05])>3 &length(x[abs(z) >= 0.05])>3 ){\n",
        "  t.test(x[abs(z) < 0.05],\n",
        "          x[abs(z) >= 0.05])$p.value\n",
        "          }else(return(NA))"
      ],
      "metadata": {
        "id": "QhXwzQZWwy22"
      },
      "execution_count": null,
      "outputs": []
    },
    {
      "cell_type": "code",
      "source": [
        "qplot(x[abs(z) >= 0.05])"
      ],
      "metadata": {
        "id": "BIkFtXRFDbft"
      },
      "execution_count": null,
      "outputs": []
    },
    {
      "cell_type": "code",
      "source": [
        "qplot(x[abs(z) < 0.05])"
      ],
      "metadata": {
        "id": "pF5AodHBDXH3"
      },
      "execution_count": null,
      "outputs": []
    },
    {
      "cell_type": "code",
      "source": [
        "sim_dt[, good := length(z[abs(z) < 0.2])/length(z) > .50,by= .(PLOT,id,DEPTH_UPPER,DEPTH_LOWER)]"
      ],
      "metadata": {
        "id": "zQCGNXcBPVbc"
      },
      "execution_count": null,
      "outputs": []
    },
    {
      "cell_type": "code",
      "source": [
        "sim_dt$good %>% table / nrow(sim_dt)"
      ],
      "metadata": {
        "id": "kft1YMfsHQJx"
      },
      "execution_count": null,
      "outputs": []
    },
    {
      "cell_type": "code",
      "source": [
        "sim_dt[,list(length=sum(good)),by= .(PLOT ,DEPTH_UPPER,DEPTH_LOWER)]"
      ],
      "metadata": {
        "id": "XaM-bs5nLq4o"
      },
      "execution_count": null,
      "outputs": []
    },
    {
      "cell_type": "code",
      "source": [
        "names(sim_dt)[c(11:20,22:39)]"
      ],
      "metadata": {
        "id": "R0gRuWO1o5dQ"
      },
      "execution_count": null,
      "outputs": []
    },
    {
      "cell_type": "code",
      "source": [
        "sim_dt[,r2:=(lm(rmse_p~x ) %>% summary())$r.squared, by = .( PLOT )"
      ],
      "metadata": {
        "id": "0n3ELhHpeyYm"
      },
      "execution_count": null,
      "outputs": []
    },
    {
      "cell_type": "code",
      "source": [
        "sim_dt %>% names"
      ],
      "metadata": {
        "id": "ftBpMMlsfb_n"
      },
      "execution_count": null,
      "outputs": []
    },
    {
      "cell_type": "code",
      "source": [
        "var_imp_dt <- sim_dt[\n",
        "  , .(r2 = lapply(.SD, function(x) {\n",
        "          summary(lm(rmse_p ~ x, data = .SD))$r.squared\n",
        "      }),\n",
        "      variable = names(.SD)),\n",
        "  by = .(PLOT),\n",
        "  .SDcols = c(11:20, 22:39)\n",
        "]"
      ],
      "metadata": {
        "id": "20kHFnC_fXyJ"
      },
      "execution_count": null,
      "outputs": []
    },
    {
      "cell_type": "code",
      "source": [
        " var_imp_dt<- sim_dt [\n",
        "  , .(r2 = lapply(.SD, function(x) {\n",
        "\n",
        "      (lm(rmse_p~x ) %>%\n",
        "    summary())$r.squared\n",
        "\n",
        "\n",
        "    }) ,\n",
        "      variable = names(sim_dt)[c(11:20,22:39)])\n",
        "  , by = .( PLOT )\n",
        "  , .SDcols = c(c(11:20,22:39))\n",
        "]\n",
        "\n",
        "var_imp_dt$p_value <- var_imp_dt$r2 %>% unlist"
      ],
      "metadata": {
        "id": "jSxwz78hCaIo"
      },
      "execution_count": null,
      "outputs": []
    },
    {
      "cell_type": "code",
      "source": [
        "var_imp_dt$p_value%>%qplot"
      ],
      "metadata": {
        "id": "3yklCqfZoTKA"
      },
      "execution_count": null,
      "outputs": []
    },
    {
      "cell_type": "code",
      "source": [
        "# grid_dt"
      ],
      "metadata": {
        "id": "g3iB3POm0MX8"
      },
      "execution_count": null,
      "outputs": []
    },
    {
      "cell_type": "code",
      "source": [
        "# out_dt <- data.table(var_imp_dt,sim_summary_dt[match(var_imp_dt$id,sim_summary_dt$id)])\n",
        "out_dt <- data.table(p_value_dt,fia_dt[,c('geometry')][match(p_value_dt$PLOT,fia_dt$PLOT)])"
      ],
      "metadata": {
        "id": "tDSLomPaFBt4"
      },
      "execution_count": null,
      "outputs": []
    },
    {
      "cell_type": "code",
      "source": [
        "out_dt[,bonferroni:=p_value*length(c(9:18,20:37))]"
      ],
      "metadata": {
        "id": "2QPXHgSxppws"
      },
      "execution_count": null,
      "outputs": []
    },
    {
      "cell_type": "code",
      "source": [
        "out_dt$p_value <- out_dt$p_value %>% unlist"
      ],
      "metadata": {
        "id": "9MSkigkuGEUG"
      },
      "execution_count": null,
      "outputs": []
    },
    {
      "cell_type": "code",
      "source": [
        "# out_dt$geom <- NULL\n",
        "out_dt"
      ],
      "metadata": {
        "id": "KxGVgkMqrSMj"
      },
      "execution_count": null,
      "outputs": []
    },
    {
      "cell_type": "code",
      "source": [
        "# short_out_dt[!is.na(var_imp_aet),]"
      ],
      "metadata": {
        "id": "zhnfNW4o0p6g"
      },
      "execution_count": null,
      "outputs": []
    },
    {
      "cell_type": "code",
      "source": [
        "short_out_dt <- dcast(out_dt,  PLOT ~ variable,value.var='bonferroni', drop=FALSE)\n",
        "# short_out_dt <-short_out_dt[!is.na(trees),]"
      ],
      "metadata": {
        "id": "0mOkIF47rJPU"
      },
      "execution_count": null,
      "outputs": []
    },
    {
      "cell_type": "code",
      "source": [
        "short_out_dt"
      ],
      "metadata": {
        "id": "5U500bQjSzvh"
      },
      "execution_count": null,
      "outputs": []
    },
    {
      "cell_type": "code",
      "source": [
        "good_set <- out_dt[,list(bonferroni_20 = mean(bonferroni[bonferroni<.2],na.rm=T),n=length(bonferroni[bonferroni<.2])),by = .(PLOT,variable)][!is.na(bonferroni_20)]$PLOT %>% unique"
      ],
      "metadata": {
        "id": "BqKvjGhg4qhK"
      },
      "execution_count": null,
      "outputs": []
    },
    {
      "cell_type": "code",
      "source": [
        "good_set %>% length"
      ],
      "metadata": {
        "id": "Qlns0YTO7ByC"
      },
      "execution_count": null,
      "outputs": []
    },
    {
      "cell_type": "code",
      "source": [
        "fia_dt[PLOT %in% good_set]$Stock_SOC_Mg_Ha %>% mean(na.rm=T)"
      ],
      "metadata": {
        "id": "SVPLbJGj7OSZ"
      },
      "execution_count": null,
      "outputs": []
    },
    {
      "cell_type": "code",
      "source": [
        "fia_dt %>%\n",
        "  ggplot(aes(x=Stock_SOC_Mg_Ha))+\n",
        "  geom_histogram()"
      ],
      "metadata": {
        "id": "w2dtAHQe63ke"
      },
      "execution_count": null,
      "outputs": []
    },
    {
      "cell_type": "code",
      "source": [
        "short_out_dt <- data.table(short_out_dt,fia_dt[,c('geometry')][match(short_out_dt$PLOT,fia_dt$PLOT)])"
      ],
      "metadata": {
        "id": "Vcb9nHVt0kO5"
      },
      "execution_count": null,
      "outputs": []
    },
    {
      "cell_type": "code",
      "source": [
        "short_out_dt %>% st_as_sf %>% st_write('bonferroni_adj.gpkg',delete_dsn = T)"
      ],
      "metadata": {
        "id": "0KA7fcV3wVH9"
      },
      "execution_count": null,
      "outputs": []
    },
    {
      "cell_type": "code",
      "source": [
        "cols_to_consider <- names(short_out_dt)[]\n",
        "\n",
        "\n",
        "# Assuming 'short_out_dt' is your data.table\n",
        "# Define the columns you want to consider for finding the max value by their indices\n",
        "cols_to_consider_indices <- 3:(ncol(short_out_dt)-1) # Replace with actual indices of Var3, Var5, Var7\n",
        "short_out_dt$max_col <-\n",
        "1:nrow(short_out_dt) %>% lapply(function(x){\n",
        "if(is.na(short_out_dt[x,cols_to_consider_indices,with=F] %>% unlist) %>% all){return(NA)}\n",
        "short_out_dt[x,cols_to_consider_indices,with=F] %>% unlist %>% which.min( ) %>% names}) %>% unlist"
      ],
      "metadata": {
        "id": "eEeHNqq5sQiQ"
      },
      "execution_count": null,
      "outputs": []
    },
    {
      "cell_type": "code",
      "source": [
        "short_out_dt %>% st_write('max_col_p.gpkg')"
      ],
      "metadata": {
        "id": "vJhqaw2SyWg3"
      },
      "execution_count": null,
      "outputs": []
    },
    {
      "cell_type": "code",
      "source": [
        "short_out_dt"
      ],
      "metadata": {
        "id": "vh8jc2vQw0fR"
      },
      "execution_count": null,
      "outputs": []
    },
    {
      "cell_type": "code",
      "source": [
        "short_out_dt %>%\n",
        "  ggplot(aes(x=1:nrow(short_out_dt),y=soil))+\n",
        "  geom_line()"
      ],
      "metadata": {
        "id": "mx2dDqIMwmH6"
      },
      "execution_count": null,
      "outputs": []
    },
    {
      "cell_type": "code",
      "source": [
        "out_dt[bonferroni <= .05]$variable %>% table"
      ],
      "metadata": {
        "id": "5AP6xor8JZ55"
      },
      "execution_count": null,
      "outputs": []
    },
    {
      "cell_type": "code",
      "source": [],
      "metadata": {
        "id": "j5zr7_HMp3ZP"
      },
      "execution_count": null,
      "outputs": []
    },
    {
      "cell_type": "code",
      "source": [
        "out_dt[bonferroni<= 0.1] %>%\n",
        "  ggplot(aes(x= variable %>% factor))+\n",
        "  geom_bar()\n",
        "  # geom_smooth(method='lm')"
      ],
      "metadata": {
        "id": "R2Gs7h8_Rk5V"
      },
      "execution_count": null,
      "outputs": []
    },
    {
      "cell_type": "code",
      "source": [
        "data.table(out_dt) %>% st_as_sf() %>% st_write('/content/plot_sig_variables.gpkg',delete_dsn=T)"
      ],
      "metadata": {
        "id": "5ilpqA4nE-f3"
      },
      "execution_count": null,
      "outputs": []
    },
    {
      "cell_type": "code",
      "source": [
        "# sim_dt[id ==2222069  ]\n",
        "# 1850844\n",
        "# sqrt(((Stock_SOC_Mg_Ha-predicted)/Stock_SOC_Mg_Ha)^2)<0.05\n",
        "sim_dt[id ==2952969  & sqrt(((Stock_SOC_Mg_Ha-predicted)/Stock_SOC_Mg_Ha)^2)<0.05] %>%\n",
        "  ggplot(aes(x=Stock_SOC_Mg_Ha)) +\n",
        "  geom_histogram()\n",
        "  # print()"
      ],
      "metadata": {
        "id": "FB2Kru8Fcdpi"
      },
      "execution_count": null,
      "outputs": []
    },
    {
      "cell_type": "code",
      "source": [
        "sim_dt %>%\n",
        "  ggplot(aes(y=Stock_SOC_Mg_Ha,x=r2))+\n",
        "    geom_bin2d()\n",
        "    # geom_smooth()"
      ],
      "metadata": {
        "id": "Kdno5JZ0Yev5"
      },
      "execution_count": null,
      "outputs": []
    },
    {
      "cell_type": "code",
      "source": [
        "# Load the necessary library\n",
        "library(repr)\n",
        "\n",
        "# Adjust width and height of plots\n",
        "options(repr.plot.width=20, repr.plot.height=8)"
      ],
      "metadata": {
        "id": "ysaNMETsScgE"
      },
      "execution_count": null,
      "outputs": []
    },
    {
      "cell_type": "code",
      "source": [],
      "metadata": {
        "id": "qsoXgH7N44kI"
      },
      "execution_count": null,
      "outputs": []
    }
  ]
}