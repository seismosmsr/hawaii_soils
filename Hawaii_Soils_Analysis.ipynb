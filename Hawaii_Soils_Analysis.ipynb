{
  "nbformat": 4,
  "nbformat_minor": 0,
  "metadata": {
    "colab": {
      "provenance": [],
      "machine_shape": "hm",
      "authorship_tag": "ABX9TyP1RGghPRL8HdZQ311WZBF7",
      "include_colab_link": true
    },
    "kernelspec": {
      "name": "ir",
      "display_name": "R"
    },
    "language_info": {
      "name": "R"
    }
  },
  "cells": [
    {
      "cell_type": "markdown",
      "metadata": {
        "id": "view-in-github",
        "colab_type": "text"
      },
      "source": [
        "<a href=\"https://colab.research.google.com/github/seismosmsr/hawaii_soils/blob/main/Hawaii_Soils_Analysis.ipynb\" target=\"_parent\"><img src=\"https://colab.research.google.com/assets/colab-badge.svg\" alt=\"Open In Colab\"/></a>"
      ]
    },
    {
      "cell_type": "code",
      "execution_count": 1,
      "metadata": {
        "colab": {
          "base_uri": "https://localhost:8080/"
        },
        "id": "w3b2Yt1zzBa4",
        "outputId": "470348d7-9037-4dfe-8cfb-030294207afa"
      },
      "outputs": [
        {
          "output_type": "stream",
          "name": "stderr",
          "text": [
            "Installing package into ‘/usr/local/lib/R/site-library’\n",
            "(as ‘lib’ is unspecified)\n",
            "\n",
            "also installing the dependencies ‘proxy’, ‘e1071’, ‘wk’, ‘classInt’, ‘Rcpp’, ‘s2’, ‘units’\n",
            "\n",
            "\n",
            "Installing package into ‘/usr/local/lib/R/site-library’\n",
            "(as ‘lib’ is unspecified)\n",
            "\n",
            "also installing the dependencies ‘sp’, ‘terra’\n",
            "\n",
            "\n",
            "Installing package into ‘/usr/local/lib/R/site-library’\n",
            "(as ‘lib’ is unspecified)\n",
            "\n",
            "Installing package into ‘/usr/local/lib/R/site-library’\n",
            "(as ‘lib’ is unspecified)\n",
            "\n",
            "Installing package into ‘/usr/local/lib/R/site-library’\n",
            "(as ‘lib’ is unspecified)\n",
            "\n",
            "Warning message:\n",
            "“package ‘googletoken’ is not available for this version of R\n",
            "\n",
            "A version of this package for your version of R might be available elsewhere,\n",
            "see the ideas at\n",
            "https://cran.r-project.org/doc/manuals/r-patched/R-admin.html#Installing-packages”\n",
            "Installing package into ‘/usr/local/lib/R/site-library’\n",
            "(as ‘lib’ is unspecified)\n",
            "\n",
            "Installing package into ‘/usr/local/lib/R/site-library’\n",
            "(as ‘lib’ is unspecified)\n",
            "\n",
            "also installing the dependency ‘plogr’\n",
            "\n",
            "\n",
            "Installing package into ‘/usr/local/lib/R/site-library’\n",
            "(as ‘lib’ is unspecified)\n",
            "\n",
            "Installing package into ‘/usr/local/lib/R/site-library’\n",
            "(as ‘lib’ is unspecified)\n",
            "\n",
            "Installing package into ‘/usr/local/lib/R/site-library’\n",
            "(as ‘lib’ is unspecified)\n",
            "\n"
          ]
        }
      ],
      "source": [
        "install.packages('sf')\n",
        "install.packages('raster')\n",
        "install.packages('exactextractr')\n",
        "install.packages(\"googledrive\")\n",
        "install.packages(\"googletoken\")\n",
        "install.packages(\"DBI\")\n",
        "install.packages(\"RSQLite\")\n",
        "install.packages(\"RPostgreSQL\")\n",
        "install.packages(\"terra\")\n",
        "install.packages('randomForest')"
      ]
    },
    {
      "cell_type": "code",
      "source": [
        "library(ggplot2)\n",
        "library(sf)\n",
        "library(magrittr)\n",
        "library(data.table)\n",
        "library(raster)\n",
        "library(exactextractr)\n",
        "library(googledrive)\n",
        "library(DBI)\n",
        "library(terra)\n",
        "library(randomForest)\n",
        "library(parallel)"
      ],
      "metadata": {
        "id": "Jt8zFz1p0QRy",
        "outputId": "9ce00765-1bd9-43bd-f2c4-2e09aac0b7fb",
        "colab": {
          "base_uri": "https://localhost:8080/"
        }
      },
      "execution_count": 2,
      "outputs": [
        {
          "output_type": "stream",
          "name": "stderr",
          "text": [
            "Linking to GEOS 3.10.2, GDAL 3.4.3, PROJ 8.2.1; sf_use_s2() is TRUE\n",
            "\n",
            "Loading required package: sp\n",
            "\n",
            "terra 1.7.55\n",
            "\n",
            "\n",
            "Attaching package: ‘terra’\n",
            "\n",
            "\n",
            "The following object is masked from ‘package:data.table’:\n",
            "\n",
            "    shift\n",
            "\n",
            "\n",
            "The following objects are masked from ‘package:magrittr’:\n",
            "\n",
            "    extract, inset\n",
            "\n",
            "\n",
            "randomForest 4.7-1.1\n",
            "\n",
            "Type rfNews() to see new features/changes/bug fixes.\n",
            "\n",
            "\n",
            "Attaching package: ‘randomForest’\n",
            "\n",
            "\n",
            "The following object is masked from ‘package:ggplot2’:\n",
            "\n",
            "    margin\n",
            "\n",
            "\n"
          ]
        }
      ]
    },
    {
      "cell_type": "code",
      "source": [
        "drive_auth(use_oob = TRUE, cache = FALSE)"
      ],
      "metadata": {
        "id": "TIp-5Lr90ULs",
        "outputId": "075df6bd-509c-4f99-a8ba-c461318beff2",
        "colab": {
          "base_uri": "https://localhost:8080/"
        }
      },
      "execution_count": 3,
      "outputs": [
        {
          "metadata": {
            "tags": null
          },
          "name": "stderr",
          "output_type": "stream",
          "text": [
            "Please point your browser to the following url: \n",
            "\n",
            "https://accounts.google.com/o/oauth2/v2/auth?client_id=603366585132-frjlouoa3s2ono25d2l9ukvhlsrlnr7k.apps.googleusercontent.com&scope=https%3A%2F%2Fwww.googleapis.com%2Fauth%2Fdrive%20https%3A%2F%2Fwww.googleapis.com%2Fauth%2Fuserinfo.email&redirect_uri=https%3A%2F%2Fwww.tidyverse.org%2Fgoogle-callback%2F&response_type=code&state=616a942a324d26c8c48f26496367c41f&access_type=offline&prompt=consent\n",
            "\n"
          ]
        },
        {
          "name": "stdout",
          "output_type": "stream",
          "text": [
            "Enter authorization code: eyJjb2RlIjoiNC8wQWZKb2hYbnVNMzBnQV9uanl2YzN5bjhQQk00QTA0YkxKaUtRNGh1Q1UzUFBmcUM1aWZ1SGRVdElFNGZJVlhOTDh6VUZHZyIsInN0YXRlIjoiNjE2YTk0MmEzMjRkMjZjOGM0OGYyNjQ5NjM2N2M0MWYifQ==\n"
          ]
        }
      ]
    },
    {
      "cell_type": "code",
      "source": [
        "# https://drive.google.com/file/d/1ryTzWz0t9mgI5ynPvMzM21D135dLJvWv/view?usp=drive_link\n",
        "# Updated: https://drive.google.com/file/d/17c3DJcujQ_0MHirG2z2lSU88A0lvjo1C/view?usp=sharing\n",
        "drive_download(as_id('17c3DJcujQ_0MHirG2z2lSU88A0lvjo1C'), path = paste0('/content/fia.csv'), overwrite = TRUE)\n",
        "fia_dt <-  st_read('/content/fia.csv') %>% st_as_sf(coords = c(\"LON\",\"LAT\"), crs = 4326) %>% data.table"
      ],
      "metadata": {
        "id": "GIyOF5ltSRpq",
        "outputId": "20f3fe67-52d3-4e93-b630-70624c8250bb",
        "colab": {
          "base_uri": "https://localhost:8080/"
        }
      },
      "execution_count": 4,
      "outputs": [
        {
          "output_type": "stream",
          "name": "stderr",
          "text": [
            "File downloaded:\n",
            "\n",
            "• \u001b[36m2023_11_01FIA_soil_subset.csv\u001b[39m \u001b[90m<id: 17c3DJcujQ_0MHirG2z2lSU88A0lvjo1C>\u001b[39m\n",
            "\n",
            "Saved locally as:\n",
            "\n",
            "• \u001b[34m/content/fia.csv\u001b[39m\n",
            "\n"
          ]
        },
        {
          "output_type": "stream",
          "name": "stdout",
          "text": [
            "Reading layer `fia' from data source `/content/fia.csv' using driver `CSV'\n"
          ]
        },
        {
          "output_type": "stream",
          "name": "stderr",
          "text": [
            "Warning message:\n",
            "“no simple feature geometries present: returning a data.frame or tbl_df”\n"
          ]
        }
      ]
    },
    {
      "cell_type": "code",
      "source": [
        "# https://drive.google.com/file/d/1G-qBpO_nzLIHWZQGNyrSutmBonjsrvEJ/view?usp=drive_link\n",
        "drive_download(as_id('1G-qBpO_nzLIHWZQGNyrSutmBonjsrvEJ'), path = \"/content/250_summary_grid_dt.gpkg\", overwrite = TRUE)\n",
        "grid_dt <- st_read(\"/content/250_summary_grid_dt.gpkg\") %>% st_transform(4326) %>% data.table()"
      ],
      "metadata": {
        "id": "6i5eFIGc1vby",
        "outputId": "82921521-500c-46f2-8ada-408c55386ed5",
        "colab": {
          "base_uri": "https://localhost:8080/"
        }
      },
      "execution_count": 5,
      "outputs": [
        {
          "output_type": "stream",
          "name": "stderr",
          "text": [
            "File downloaded:\n",
            "\n",
            "• \u001b[36m250_summary_grid_full_dt.gpkg\u001b[39m \u001b[90m<id: 1G-qBpO_nzLIHWZQGNyrSutmBonjsrvEJ>\u001b[39m\n",
            "\n",
            "Saved locally as:\n",
            "\n",
            "• \u001b[34m/content/250_summary_grid_dt.gpkg\u001b[39m\n",
            "\n"
          ]
        },
        {
          "output_type": "stream",
          "name": "stdout",
          "text": [
            "Reading layer `250_summary_grid_full_dt' from data source \n",
            "  `/content/250_summary_grid_dt.gpkg' using driver `GPKG'\n",
            "Simple feature collection with 227561 features and 35 fields\n",
            "Geometry type: POINT\n",
            "Dimension:     XY\n",
            "Bounding box:  xmin: 57161.36 ymin: 16952.32 xmax: 572661.4 ymax: 381202.3\n",
            "Projected CRS: NAD_1983_HARN_StatePlane_Hawaii_1_FIPS_5101\n"
          ]
        }
      ]
    },
    {
      "cell_type": "code",
      "source": [
        "# Simulation data\n",
        "# https://drive.google.com/file/d/1UY3lxML0Y7bat_9-xEZQQHDkYRcODDZy/view?usp=drive_link\n",
        "drive_download(file = as_id('1yHxFBwtddenPQnwWQdqQ_leMlocOHSFd'), path =  '/content/sim_results_Hawaii_Run6.gpkg', overwrite = FALSE)\n",
        "sim_dt <- st_read( '/content/sim_results_Hawaii_Run6.gpkg') %>% data.table"
      ],
      "metadata": {
        "id": "O0fhKgBSbbbk",
        "outputId": "97933504-168c-48b1-da31-c1b77621b6e5",
        "colab": {
          "base_uri": "https://localhost:8080/"
        }
      },
      "execution_count": 6,
      "outputs": [
        {
          "output_type": "stream",
          "name": "stderr",
          "text": [
            "File downloaded:\n",
            "\n",
            "• \u001b[36msim_results_Hawaii_Run6.gpkg\u001b[39m \u001b[90m<id: 1yHxFBwtddenPQnwWQdqQ_leMlocOHSFd>\u001b[39m\n",
            "\n",
            "Saved locally as:\n",
            "\n",
            "• \u001b[34m/content/sim_results_Hawaii_Run6.gpkg\u001b[39m\n",
            "\n"
          ]
        },
        {
          "output_type": "stream",
          "name": "stdout",
          "text": [
            "Reading layer `sim_results_Hawaii_Run6' from data source \n",
            "  `/content/sim_results_Hawaii_Run6.gpkg' using driver `GPKG'\n",
            "Simple feature collection with 6092031 features and 69 fields\n",
            "Geometry type: POINT\n",
            "Dimension:     XY\n",
            "Bounding box:  xmin: -156.0017 ymin: 19.0045 xmax: -154.8362 ymax: 20.25088\n",
            "Geodetic CRS:  WGS 84\n"
          ]
        }
      ]
    },
    {
      "cell_type": "code",
      "source": [
        "grid_int_dt  <- fia_dt$geom %>% st_transform(4135) %>% st_buffer(10000) %>% st_transform(4326) %>% st_intersects(grid_dt$geom)"
      ],
      "metadata": {
        "id": "0A-fL1krTbA_"
      },
      "execution_count": 7,
      "outputs": []
    },
    {
      "cell_type": "code",
      "source": [
        "rm_vec <- grid_int_dt %>% lapply(length) %>% unlist > 0\n",
        "grid_int_dt <- grid_int_dt[rm_vec]\n",
        "fia_dt <- fia_dt[rm_vec,]"
      ],
      "metadata": {
        "id": "isEeYbV1UDV9"
      },
      "execution_count": 8,
      "outputs": []
    },
    {
      "cell_type": "code",
      "source": [
        "grid_dt <- grid_dt[!is.na(srad),]"
      ],
      "metadata": {
        "id": "GuKe5EAqAWtK"
      },
      "execution_count": 9,
      "outputs": []
    },
    {
      "cell_type": "code",
      "source": [
        "grid_dt$agbd_n <- grid_dt$agbd_n %>% as.numeric"
      ],
      "metadata": {
        "id": "XsFPDjw_BHKX"
      },
      "execution_count": 10,
      "outputs": []
    },
    {
      "cell_type": "code",
      "source": [
        "fia_dt$Stock_SOC_Mg_Ha <- fia_dt$Stock_SOC_Mg_Ha %>% as.numeric"
      ],
      "metadata": {
        "id": "Au3xpFsoA2Qz",
        "outputId": "0f71f348-a7e7-4af9-a1af-b99ec4a3354b",
        "colab": {
          "base_uri": "https://localhost:8080/"
        }
      },
      "execution_count": 11,
      "outputs": [
        {
          "output_type": "stream",
          "name": "stderr",
          "text": [
            "Warning message in fia_dt$Stock_SOC_Mg_Ha %>% as.numeric:\n",
            "“NAs introduced by coercion”\n"
          ]
        }
      ]
    },
    {
      "cell_type": "code",
      "source": [
        "sim_dt %>% names"
      ],
      "metadata": {
        "id": "qumOZBUZ7d_T",
        "outputId": "9ea9d503-27dc-4641-9829-192df00d0792",
        "colab": {
          "base_uri": "https://localhost:8080/",
          "height": 156
        }
      },
      "execution_count": 12,
      "outputs": [
        {
          "output_type": "display_data",
          "data": {
            "text/html": [
              "<style>\n",
              ".list-inline {list-style: none; margin:0; padding: 0}\n",
              ".list-inline>li {display: inline-block}\n",
              ".list-inline>li:not(:last-child)::after {content: \"\\00b7\"; padding: 0 .5ex}\n",
              "</style>\n",
              "<ol class=list-inline><li>'PLOT'</li><li>'Stock_SOC_Mg_Ha'</li><li>'id'</li><li>'left'</li><li>'top'</li><li>'right'</li><li>'bottom'</li><li>'water'</li><li>'trees'</li><li>'grass'</li><li>'flooded_vegetation'</li><li>'crops'</li><li>'shrub_and_scrub'</li><li>'built'</li><li>'bare'</li><li>'snow_and_ice'</li><li>'max'</li><li>'elevation'</li><li>'landform'</li><li>'SRTM_mTPI'</li><li>'aet'</li><li>'def'</li><li>'pdsi'</li><li>'pet'</li><li>'pr'</li><li>'ro'</li><li>'soil'</li><li>'srad'</li><li>'swe'</li><li>'tmmn'</li><li>'tmmx'</li><li>'vap'</li><li>'vpd'</li><li>'vs'</li><li>'agbd_m'</li><li>'agbd_sd'</li><li>'agbd_n'</li><li>'predicted'</li><li>'var_imp_water'</li><li>'var_imp_trees'</li><li>'var_imp_grass'</li><li>'var_imp_flooded_vegetation'</li><li>'var_imp_crops'</li><li>'var_imp_shrub_and_scrub'</li><li>'var_imp_built'</li><li>'var_imp_bare'</li><li>'var_imp_snow_and_ice'</li><li>'var_imp_max'</li><li>'var_imp_elevation'</li><li>'var_imp_landform'</li><li>'var_imp_SRTM_mTPI'</li><li>'var_imp_aet'</li><li>'var_imp_def'</li><li>'var_imp_pdsi'</li><li>'var_imp_pet'</li><li>'var_imp_pr'</li><li>'var_imp_ro'</li><li>'var_imp_soil'</li><li>'var_imp_srad'</li><li>'var_imp_swe'</li><li>'var_imp_tmmn'</li><li>'var_imp_tmmx'</li><li>'var_imp_vap'</li><li>'var_imp_vpd'</li><li>'var_imp_vs'</li><li>'var_imp_agbd_m'</li><li>'var_imp_agbd_sd'</li><li>'var_imp_agbd_n'</li><li>'r2'</li><li>'geom'</li></ol>\n"
            ],
            "text/markdown": "1. 'PLOT'\n2. 'Stock_SOC_Mg_Ha'\n3. 'id'\n4. 'left'\n5. 'top'\n6. 'right'\n7. 'bottom'\n8. 'water'\n9. 'trees'\n10. 'grass'\n11. 'flooded_vegetation'\n12. 'crops'\n13. 'shrub_and_scrub'\n14. 'built'\n15. 'bare'\n16. 'snow_and_ice'\n17. 'max'\n18. 'elevation'\n19. 'landform'\n20. 'SRTM_mTPI'\n21. 'aet'\n22. 'def'\n23. 'pdsi'\n24. 'pet'\n25. 'pr'\n26. 'ro'\n27. 'soil'\n28. 'srad'\n29. 'swe'\n30. 'tmmn'\n31. 'tmmx'\n32. 'vap'\n33. 'vpd'\n34. 'vs'\n35. 'agbd_m'\n36. 'agbd_sd'\n37. 'agbd_n'\n38. 'predicted'\n39. 'var_imp_water'\n40. 'var_imp_trees'\n41. 'var_imp_grass'\n42. 'var_imp_flooded_vegetation'\n43. 'var_imp_crops'\n44. 'var_imp_shrub_and_scrub'\n45. 'var_imp_built'\n46. 'var_imp_bare'\n47. 'var_imp_snow_and_ice'\n48. 'var_imp_max'\n49. 'var_imp_elevation'\n50. 'var_imp_landform'\n51. 'var_imp_SRTM_mTPI'\n52. 'var_imp_aet'\n53. 'var_imp_def'\n54. 'var_imp_pdsi'\n55. 'var_imp_pet'\n56. 'var_imp_pr'\n57. 'var_imp_ro'\n58. 'var_imp_soil'\n59. 'var_imp_srad'\n60. 'var_imp_swe'\n61. 'var_imp_tmmn'\n62. 'var_imp_tmmx'\n63. 'var_imp_vap'\n64. 'var_imp_vpd'\n65. 'var_imp_vs'\n66. 'var_imp_agbd_m'\n67. 'var_imp_agbd_sd'\n68. 'var_imp_agbd_n'\n69. 'r2'\n70. 'geom'\n\n\n",
            "text/latex": "\\begin{enumerate*}\n\\item 'PLOT'\n\\item 'Stock\\_SOC\\_Mg\\_Ha'\n\\item 'id'\n\\item 'left'\n\\item 'top'\n\\item 'right'\n\\item 'bottom'\n\\item 'water'\n\\item 'trees'\n\\item 'grass'\n\\item 'flooded\\_vegetation'\n\\item 'crops'\n\\item 'shrub\\_and\\_scrub'\n\\item 'built'\n\\item 'bare'\n\\item 'snow\\_and\\_ice'\n\\item 'max'\n\\item 'elevation'\n\\item 'landform'\n\\item 'SRTM\\_mTPI'\n\\item 'aet'\n\\item 'def'\n\\item 'pdsi'\n\\item 'pet'\n\\item 'pr'\n\\item 'ro'\n\\item 'soil'\n\\item 'srad'\n\\item 'swe'\n\\item 'tmmn'\n\\item 'tmmx'\n\\item 'vap'\n\\item 'vpd'\n\\item 'vs'\n\\item 'agbd\\_m'\n\\item 'agbd\\_sd'\n\\item 'agbd\\_n'\n\\item 'predicted'\n\\item 'var\\_imp\\_water'\n\\item 'var\\_imp\\_trees'\n\\item 'var\\_imp\\_grass'\n\\item 'var\\_imp\\_flooded\\_vegetation'\n\\item 'var\\_imp\\_crops'\n\\item 'var\\_imp\\_shrub\\_and\\_scrub'\n\\item 'var\\_imp\\_built'\n\\item 'var\\_imp\\_bare'\n\\item 'var\\_imp\\_snow\\_and\\_ice'\n\\item 'var\\_imp\\_max'\n\\item 'var\\_imp\\_elevation'\n\\item 'var\\_imp\\_landform'\n\\item 'var\\_imp\\_SRTM\\_mTPI'\n\\item 'var\\_imp\\_aet'\n\\item 'var\\_imp\\_def'\n\\item 'var\\_imp\\_pdsi'\n\\item 'var\\_imp\\_pet'\n\\item 'var\\_imp\\_pr'\n\\item 'var\\_imp\\_ro'\n\\item 'var\\_imp\\_soil'\n\\item 'var\\_imp\\_srad'\n\\item 'var\\_imp\\_swe'\n\\item 'var\\_imp\\_tmmn'\n\\item 'var\\_imp\\_tmmx'\n\\item 'var\\_imp\\_vap'\n\\item 'var\\_imp\\_vpd'\n\\item 'var\\_imp\\_vs'\n\\item 'var\\_imp\\_agbd\\_m'\n\\item 'var\\_imp\\_agbd\\_sd'\n\\item 'var\\_imp\\_agbd\\_n'\n\\item 'r2'\n\\item 'geom'\n\\end{enumerate*}\n",
            "text/plain": [
              " [1] \"PLOT\"                       \"Stock_SOC_Mg_Ha\"           \n",
              " [3] \"id\"                         \"left\"                      \n",
              " [5] \"top\"                        \"right\"                     \n",
              " [7] \"bottom\"                     \"water\"                     \n",
              " [9] \"trees\"                      \"grass\"                     \n",
              "[11] \"flooded_vegetation\"         \"crops\"                     \n",
              "[13] \"shrub_and_scrub\"            \"built\"                     \n",
              "[15] \"bare\"                       \"snow_and_ice\"              \n",
              "[17] \"max\"                        \"elevation\"                 \n",
              "[19] \"landform\"                   \"SRTM_mTPI\"                 \n",
              "[21] \"aet\"                        \"def\"                       \n",
              "[23] \"pdsi\"                       \"pet\"                       \n",
              "[25] \"pr\"                         \"ro\"                        \n",
              "[27] \"soil\"                       \"srad\"                      \n",
              "[29] \"swe\"                        \"tmmn\"                      \n",
              "[31] \"tmmx\"                       \"vap\"                       \n",
              "[33] \"vpd\"                        \"vs\"                        \n",
              "[35] \"agbd_m\"                     \"agbd_sd\"                   \n",
              "[37] \"agbd_n\"                     \"predicted\"                 \n",
              "[39] \"var_imp_water\"              \"var_imp_trees\"             \n",
              "[41] \"var_imp_grass\"              \"var_imp_flooded_vegetation\"\n",
              "[43] \"var_imp_crops\"              \"var_imp_shrub_and_scrub\"   \n",
              "[45] \"var_imp_built\"              \"var_imp_bare\"              \n",
              "[47] \"var_imp_snow_and_ice\"       \"var_imp_max\"               \n",
              "[49] \"var_imp_elevation\"          \"var_imp_landform\"          \n",
              "[51] \"var_imp_SRTM_mTPI\"          \"var_imp_aet\"               \n",
              "[53] \"var_imp_def\"                \"var_imp_pdsi\"              \n",
              "[55] \"var_imp_pet\"                \"var_imp_pr\"                \n",
              "[57] \"var_imp_ro\"                 \"var_imp_soil\"              \n",
              "[59] \"var_imp_srad\"               \"var_imp_swe\"               \n",
              "[61] \"var_imp_tmmn\"               \"var_imp_tmmx\"              \n",
              "[63] \"var_imp_vap\"                \"var_imp_vpd\"               \n",
              "[65] \"var_imp_vs\"                 \"var_imp_agbd_m\"            \n",
              "[67] \"var_imp_agbd_sd\"            \"var_imp_agbd_n\"            \n",
              "[69] \"r2\"                         \"geom\"                      "
            ]
          },
          "metadata": {}
        }
      ]
    },
    {
      "cell_type": "code",
      "source": [
        "sim_dt[,z:=(predicted-Stock_SOC_Mg_Ha)/Stock_SOC_Mg_Ha]"
      ],
      "metadata": {
        "id": "ykTLK7Zfvb_Y"
      },
      "execution_count": 13,
      "outputs": []
    },
    {
      "cell_type": "code",
      "source": [
        "sim_summary_dt <- sim_dt[,list(unique = unique(PLOT) %>% length,length = length(PLOT),length_05 = length(PLOT[sqrt((z)^2) <0.05]),geom=unique(geom)),by=id]"
      ],
      "metadata": {
        "id": "dQe6TcWmQE9z"
      },
      "execution_count": 14,
      "outputs": []
    },
    {
      "cell_type": "code",
      "source": [
        "sim_summary_dt %>% st_as_sf %>% st_write('sim_summary.gpkg',delete_dsn = T)"
      ],
      "metadata": {
        "id": "t7KCfekdwa45",
        "outputId": "ab576576-7717-421f-913e-0b5711115fe0",
        "colab": {
          "base_uri": "https://localhost:8080/"
        }
      },
      "execution_count": 15,
      "outputs": [
        {
          "output_type": "stream",
          "name": "stderr",
          "text": [
            "writing: substituting ENGCRS[\"Undefined Cartesian SRS with unknown unit\"] for missing CRS\n",
            "\n"
          ]
        },
        {
          "output_type": "stream",
          "name": "stdout",
          "text": [
            "Deleting source `sim_summary.gpkg' failed\n",
            "Writing layer `sim_summary' to data source `sim_summary.gpkg' using driver `GPKG'\n",
            "Writing 43654 features with 4 fields and geometry type Point.\n"
          ]
        }
      ]
    },
    {
      "cell_type": "code",
      "source": [
        "sim_summary_dt %>%\n",
        "  ggplot(aes(x=unique,y=length_05/length)) +\n",
        "    geom_bin2d(bins=16) +\n",
        "    geom_smooth(method = 'lm')"
      ],
      "metadata": {
        "id": "e5o3fWrF3dDV"
      },
      "execution_count": null,
      "outputs": []
    },
    {
      "cell_type": "code",
      "source": [
        "# sim_dt[id ==2222069  ]\n",
        "# 1850844\n",
        "# sqrt(((Stock_SOC_Mg_Ha-predicted)/Stock_SOC_Mg_Ha)^2)<0.05\n",
        "sim_dt[id ==2832911  & sqrt(((Stock_SOC_Mg_Ha-predicted)/Stock_SOC_Mg_Ha)^2)<0.05] %>%\n",
        "  ggplot(aes(x=Stock_SOC_Mg_Ha)) +\n",
        "  geom_histogram()\n",
        "  # print()"
      ],
      "metadata": {
        "id": "FB2Kru8Fcdpi"
      },
      "execution_count": null,
      "outputs": []
    },
    {
      "cell_type": "code",
      "source": [
        "sim_dt %>%\n",
        "  ggplot(aes(y=Stock_SOC_Mg_Ha,x=r2))+\n",
        "    geom_bin2d()\n",
        "    # geom_smooth()"
      ],
      "metadata": {
        "id": "Kdno5JZ0Yev5",
        "outputId": "9642b51e-e981-4a5a-c92c-b6d70993d936",
        "colab": {
          "base_uri": "https://localhost:8080/",
          "height": 437
        }
      },
      "execution_count": 18,
      "outputs": [
        {
          "output_type": "display_data",
          "data": {
            "text/plain": [
              "plot without title"
            ],
            "image/png": "[encoded data removed]"
          },
          "metadata": {
            "image/png": {
              "width": 420,
              "height": 420
            }
          }
        }
      ]
    },
    {
      "cell_type": "code",
      "source": [
        "# Load the necessary library\n",
        "library(repr)\n",
        "\n",
        "# Adjust width and height of plots\n",
        "options(repr.plot.width=20, repr.plot.height=8)"
      ],
      "metadata": {
        "id": "ysaNMETsScgE"
      },
      "execution_count": 19,
      "outputs": []
    },
    {
      "cell_type": "code",
      "source": [],
      "metadata": {
        "id": "iH2t7bw98PcT"
      },
      "execution_count": 20,
      "outputs": []
    },
    {
      "cell_type": "code",
      "source": [
        "# for(i in 1:10){\n",
        "\n",
        "sim_dt[,residual := predicted-Stock_SOC_Mg_Ha]\n",
        "\n",
        "sim_dt[,residual_per := residual/Stock_SOC_Mg_Ha]\n",
        "\n",
        "samp_dt <- sim_dt[residual_per>-.05 &residual_per <.05]\n",
        "plot <- sample(samp_dt$PLOT,1)\n",
        "# print(plot)\n",
        "(samp_dt[PLOT==plot] %>% melt(id.vars = c('PLOT','Stock_SOC_Mg_Ha','dummy_geom','water','trees','grass','flooded_vegetation','crops','shrub_and_scrub','built','bare','snow_and_ice','max','elevation','landform','SRTM_mTPI','aet','def','pdsi','pet','pr','ro','soil','srad','swe','tmmn','tmmx','vap','vpd','vs','predicted','residual','residual_per')) %>%\n",
        "  ggplot(aes(x=variable,y=value))+\n",
        "  geom_boxplot() )%>% plot\n",
        "# }"
      ],
      "metadata": {
        "id": "0dXkvQ6lQVri",
        "outputId": "72529cf2-e92c-4f64-8d6a-1feed7ebb3a0",
        "colab": {
          "base_uri": "https://localhost:8080/",
          "height": 835
        }
      },
      "execution_count": 21,
      "outputs": [
        {
          "output_type": "error",
          "ename": "ERROR",
          "evalue": "ignored",
          "traceback": [
            "Error in h(simpleError(msg, call)): error in evaluating the argument 'x' in selecting a method for function 'plot': One or more values in 'id.vars' is invalid.\nTraceback:\n",
            "1. (samp_dt[PLOT == plot] %>% melt(id.vars = c(\"PLOT\", \"Stock_SOC_Mg_Ha\", \n .     \"dummy_geom\", \"water\", \"trees\", \"grass\", \"flooded_vegetation\", \n .     \"crops\", \"shrub_and_scrub\", \"built\", \"bare\", \"snow_and_ice\", \n .     \"max\", \"elevation\", \"landform\", \"SRTM_mTPI\", \"aet\", \"def\", \n .     \"pdsi\", \"pet\", \"pr\", \"ro\", \"soil\", \"srad\", \"swe\", \"tmmn\", \n .     \"tmmx\", \"vap\", \"vpd\", \"vs\", \"predicted\", \"residual\", \"residual_per\")) %>% \n .     ggplot(aes(x = variable, y = value)) + geom_boxplot()) %>% \n .     plot",
            "2. plot(.)",
            "3. samp_dt[PLOT == plot] %>% melt(id.vars = c(\"PLOT\", \"Stock_SOC_Mg_Ha\", \n .     \"dummy_geom\", \"water\", \"trees\", \"grass\", \"flooded_vegetation\", \n .     \"crops\", \"shrub_and_scrub\", \"built\", \"bare\", \"snow_and_ice\", \n .     \"max\", \"elevation\", \"landform\", \"SRTM_mTPI\", \"aet\", \"def\", \n .     \"pdsi\", \"pet\", \"pr\", \"ro\", \"soil\", \"srad\", \"swe\", \"tmmn\", \n .     \"tmmx\", \"vap\", \"vpd\", \"vs\", \"predicted\", \"residual\", \"residual_per\")) %>% \n .     ggplot(aes(x = variable, y = value))",
            "4. ggplot(., aes(x = variable, y = value))",
            "5. melt(., id.vars = c(\"PLOT\", \"Stock_SOC_Mg_Ha\", \"dummy_geom\", \n .     \"water\", \"trees\", \"grass\", \"flooded_vegetation\", \"crops\", \n .     \"shrub_and_scrub\", \"built\", \"bare\", \"snow_and_ice\", \"max\", \n .     \"elevation\", \"landform\", \"SRTM_mTPI\", \"aet\", \"def\", \"pdsi\", \n .     \"pet\", \"pr\", \"ro\", \"soil\", \"srad\", \"swe\", \"tmmn\", \"tmmx\", \n .     \"vap\", \"vpd\", \"vs\", \"predicted\", \"residual\", \"residual_per\"))",
            "6. melt.data.table(., id.vars = c(\"PLOT\", \"Stock_SOC_Mg_Ha\", \"dummy_geom\", \n .     \"water\", \"trees\", \"grass\", \"flooded_vegetation\", \"crops\", \n .     \"shrub_and_scrub\", \"built\", \"bare\", \"snow_and_ice\", \"max\", \n .     \"elevation\", \"landform\", \"SRTM_mTPI\", \"aet\", \"def\", \"pdsi\", \n .     \"pet\", \"pr\", \"ro\", \"soil\", \"srad\", \"swe\", \"tmmn\", \"tmmx\", \n .     \"vap\", \"vpd\", \"vs\", \"predicted\", \"residual\", \"residual_per\"))",
            "7. .handleSimpleError(function (cond) \n . .Internal(C_tryCatchHelper(addr, 1L, cond)), \"One or more values in 'id.vars' is invalid.\", \n .     base::quote(melt.data.table(., id.vars = c(\"PLOT\", \"Stock_SOC_Mg_Ha\", \n .         \"dummy_geom\", \"water\", \"trees\", \"grass\", \"flooded_vegetation\", \n .         \"crops\", \"shrub_and_scrub\", \"built\", \"bare\", \"snow_and_ice\", \n .         \"max\", \"elevation\", \"landform\", \"SRTM_mTPI\", \"aet\", \"def\", \n .         \"pdsi\", \"pet\", \"pr\", \"ro\", \"soil\", \"srad\", \"swe\", \"tmmn\", \n .         \"tmmx\", \"vap\", \"vpd\", \"vs\", \"predicted\", \"residual\", \n .         \"residual_per\"))))",
            "8. h(simpleError(msg, call))"
          ]
        }
      ]
    },
    {
      "cell_type": "code",
      "source": [],
      "metadata": {
        "id": "qsoXgH7N44kI"
      },
      "execution_count": null,
      "outputs": []
    },
    {
      "cell_type": "code",
      "source": [
        "dummy_geom <- grid_dt[grid_int_dt %>% lapply(function(x){sample(x,1)}) %>% unlist,] %>% st_as_sf() %>% st_transform(4135) %>% st_buffer(2500) %>% st_transform(4326)"
      ],
      "metadata": {
        "id": "z_7skpyBBRUc"
      },
      "execution_count": null,
      "outputs": []
    },
    {
      "cell_type": "code",
      "source": [
        "fia_dt$dummy_geom <- dummy_geom$geom"
      ],
      "metadata": {
        "id": "8r_yhCm4CDG5"
      },
      "execution_count": null,
      "outputs": []
    },
    {
      "cell_type": "code",
      "source": [
        "example_poly <- (fia_dt %>%data.table)[,c('C_TOTAL_PCT','dummy_geom')]"
      ],
      "metadata": {
        "id": "fu0NUTJNeSkq"
      },
      "execution_count": null,
      "outputs": []
    },
    {
      "cell_type": "code",
      "source": [
        "rf_dt <- data.table(example_poly,exact_extract(raster_list[[6]],example_poly %>% st_as_sf,'mean') %>% data.table)"
      ],
      "metadata": {
        "id": "9pSq2Qi2ep5b"
      },
      "execution_count": null,
      "outputs": []
    },
    {
      "cell_type": "code",
      "source": [
        "# rf_dt"
      ],
      "metadata": {
        "id": "_wE_GD_FCTqg"
      },
      "execution_count": null,
      "outputs": []
    },
    {
      "cell_type": "code",
      "source": [
        "names(rf_dt)[-c(1,2)] <- c(\"aet\", \"def\", \"pdsi\", \"pet\", \"pr\", \"ro\", \"soil\", \"srad\", \"swe\", \"tmmn\", \"tmmx\", \"vap\", \"vpd\", \"vs\")\n"
      ],
      "metadata": {
        "id": "bTUeAX4tZVed"
      },
      "execution_count": null,
      "outputs": []
    },
    {
      "cell_type": "code",
      "source": [
        "rf_form <- as.formula(paste0('Stock_SOC_Mg_Ha~',paste((rf_dt %>% names)[-c(1,2)],collapse = '+')))\n",
        "rf_form"
      ],
      "metadata": {
        "id": "ewIMuwbKVql9"
      },
      "execution_count": null,
      "outputs": []
    },
    {
      "cell_type": "code",
      "source": [
        "rf_terra <- randomForest(rf_form,rf_dt[complete.cases(rf_dt[,-2]),],verbose=T)\n",
        "rf_terra %>% varImpPlot\n",
        "rf_terra"
      ],
      "metadata": {
        "id": "i1ScnibaYIJR"
      },
      "execution_count": null,
      "outputs": []
    },
    {
      "cell_type": "code",
      "source": [
        "data.frame(field = rf_terra$y,predicted = rf_terra$predicted) %>%\n",
        "  ggplot(aes(x=predicted,y=field))+\n",
        "  geom_point()"
      ],
      "metadata": {
        "id": "LN28tBLwYYZv"
      },
      "execution_count": null,
      "outputs": []
    }
  ]
}