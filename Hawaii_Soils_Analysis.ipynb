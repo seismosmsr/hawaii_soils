{
  "nbformat": 4,
  "nbformat_minor": 0,
  "metadata": {
    "colab": {
      "provenance": [],
      "machine_shape": "hm",
      "authorship_tag": "ABX9TyNQTW70lhOPsDfEkr6Pu4Yd",
      "include_colab_link": true
    },
    "kernelspec": {
      "name": "ir",
      "display_name": "R"
    },
    "language_info": {
      "name": "R"
    }
  },
  "cells": [
    {
      "cell_type": "markdown",
      "metadata": {
        "id": "view-in-github",
        "colab_type": "text"
      },
      "source": [
        "<a href=\"https://colab.research.google.com/github/seismosmsr/hawaii_soils/blob/main/Hawaii_Soils_Analysis.ipynb\" target=\"_parent\"><img src=\"https://colab.research.google.com/assets/colab-badge.svg\" alt=\"Open In Colab\"/></a>"
      ]
    },
    {
      "cell_type": "code",
      "execution_count": 1,
      "metadata": {
        "colab": {
          "base_uri": "https://localhost:8080/"
        },
        "id": "w3b2Yt1zzBa4",
        "outputId": "3c1b659b-2ff5-427b-d781-2744e1f25b32"
      },
      "outputs": [
        {
          "output_type": "stream",
          "name": "stderr",
          "text": [
            "Installing package into ‘/usr/local/lib/R/site-library’\n",
            "(as ‘lib’ is unspecified)\n",
            "\n",
            "also installing the dependencies ‘proxy’, ‘e1071’, ‘wk’, ‘classInt’, ‘Rcpp’, ‘s2’, ‘units’\n",
            "\n",
            "\n",
            "Installing package into ‘/usr/local/lib/R/site-library’\n",
            "(as ‘lib’ is unspecified)\n",
            "\n",
            "also installing the dependencies ‘sp’, ‘terra’\n",
            "\n",
            "\n",
            "Installing package into ‘/usr/local/lib/R/site-library’\n",
            "(as ‘lib’ is unspecified)\n",
            "\n",
            "Installing package into ‘/usr/local/lib/R/site-library’\n",
            "(as ‘lib’ is unspecified)\n",
            "\n",
            "Installing package into ‘/usr/local/lib/R/site-library’\n",
            "(as ‘lib’ is unspecified)\n",
            "\n",
            "Warning message:\n",
            "“package ‘googletoken’ is not available for this version of R\n",
            "\n",
            "A version of this package for your version of R might be available elsewhere,\n",
            "see the ideas at\n",
            "https://cran.r-project.org/doc/manuals/r-patched/R-admin.html#Installing-packages”\n",
            "Installing package into ‘/usr/local/lib/R/site-library’\n",
            "(as ‘lib’ is unspecified)\n",
            "\n",
            "Installing package into ‘/usr/local/lib/R/site-library’\n",
            "(as ‘lib’ is unspecified)\n",
            "\n",
            "also installing the dependency ‘plogr’\n",
            "\n",
            "\n",
            "Installing package into ‘/usr/local/lib/R/site-library’\n",
            "(as ‘lib’ is unspecified)\n",
            "\n",
            "Installing package into ‘/usr/local/lib/R/site-library’\n",
            "(as ‘lib’ is unspecified)\n",
            "\n",
            "Installing package into ‘/usr/local/lib/R/site-library’\n",
            "(as ‘lib’ is unspecified)\n",
            "\n"
          ]
        }
      ],
      "source": [
        "install.packages('sf')\n",
        "install.packages('raster')\n",
        "install.packages('exactextractr')\n",
        "install.packages(\"googledrive\")\n",
        "install.packages(\"googletoken\")\n",
        "install.packages(\"DBI\")\n",
        "install.packages(\"RSQLite\")\n",
        "install.packages(\"RPostgreSQL\")\n",
        "install.packages(\"terra\")\n",
        "install.packages('randomForest')"
      ]
    },
    {
      "cell_type": "code",
      "source": [
        "library(ggplot2)\n",
        "library(sf)\n",
        "library(magrittr)\n",
        "library(data.table)\n",
        "library(raster)\n",
        "library(exactextractr)\n",
        "library(googledrive)\n",
        "library(DBI)\n",
        "library(terra)\n",
        "library(randomForest)\n",
        "library(parallel)"
      ],
      "metadata": {
        "id": "Jt8zFz1p0QRy",
        "outputId": "01a31ec7-bb3d-46de-ee4e-188af29844ce",
        "colab": {
          "base_uri": "https://localhost:8080/"
        }
      },
      "execution_count": 2,
      "outputs": [
        {
          "output_type": "stream",
          "name": "stderr",
          "text": [
            "Linking to GEOS 3.10.2, GDAL 3.4.3, PROJ 8.2.1; sf_use_s2() is TRUE\n",
            "\n",
            "Loading required package: sp\n",
            "\n",
            "terra 1.7.55\n",
            "\n",
            "\n",
            "Attaching package: ‘terra’\n",
            "\n",
            "\n",
            "The following object is masked from ‘package:data.table’:\n",
            "\n",
            "    shift\n",
            "\n",
            "\n",
            "The following objects are masked from ‘package:magrittr’:\n",
            "\n",
            "    extract, inset\n",
            "\n",
            "\n",
            "randomForest 4.7-1.1\n",
            "\n",
            "Type rfNews() to see new features/changes/bug fixes.\n",
            "\n",
            "\n",
            "Attaching package: ‘randomForest’\n",
            "\n",
            "\n",
            "The following object is masked from ‘package:ggplot2’:\n",
            "\n",
            "    margin\n",
            "\n",
            "\n"
          ]
        }
      ]
    },
    {
      "cell_type": "code",
      "source": [
        "drive_auth(use_oob = TRUE, cache = FALSE)"
      ],
      "metadata": {
        "id": "TIp-5Lr90ULs",
        "outputId": "6de1c7e7-7071-40d2-cce4-2a5ebb13af04",
        "colab": {
          "base_uri": "https://localhost:8080/"
        }
      },
      "execution_count": 3,
      "outputs": [
        {
          "output_type": "stream",
          "name": "stderr",
          "text": [
            "Please point your browser to the following url: \n",
            "\n",
            "https://accounts.google.com/o/oauth2/v2/auth?client_id=603366585132-frjlouoa3s2ono25d2l9ukvhlsrlnr7k.apps.googleusercontent.com&scope=https%3A%2F%2Fwww.googleapis.com%2Fauth%2Fdrive%20https%3A%2F%2Fwww.googleapis.com%2Fauth%2Fuserinfo.email&redirect_uri=https%3A%2F%2Fwww.tidyverse.org%2Fgoogle-callback%2F&response_type=code&state=cbbfd639f55f742878c580580c62403a&access_type=offline&prompt=consent\n",
            "\n"
          ]
        },
        {
          "name": "stdout",
          "output_type": "stream",
          "text": [
            "Enter authorization code: eyJjb2RlIjoiNC8wQWZKb2hYbk5pRDdvcDRvdS05S25vZDZUWVpNWjZ4dUQ2RG5idWtQX1AzdmNhNEY2bHVFZ3B4RXFUWkY4R1NuU3MyaEtKUSIsInN0YXRlIjoiY2JiZmQ2MzlmNTVmNzQyODc4YzU4MDU4MGM2MjQwM2EifQ==\n"
          ]
        }
      ]
    },
    {
      "cell_type": "code",
      "source": [
        "# https://drive.google.com/file/d/1ryTzWz0t9mgI5ynPvMzM21D135dLJvWv/view?usp=drive_link\n",
        "# Updated: https://drive.google.com/file/d/17c3DJcujQ_0MHirG2z2lSU88A0lvjo1C/view?usp=sharing\n",
        "drive_download(as_id('17c3DJcujQ_0MHirG2z2lSU88A0lvjo1C'), path = paste0('/content/fia.csv'), overwrite = TRUE)\n",
        "fia_dt <-  st_read('/content/fia.csv') %>% st_as_sf(coords = c(\"LON\",\"LAT\"), crs = 4326) %>% data.table"
      ],
      "metadata": {
        "id": "GIyOF5ltSRpq",
        "outputId": "144e2194-9c09-48f0-b6d0-a6723b183a17",
        "colab": {
          "base_uri": "https://localhost:8080/"
        }
      },
      "execution_count": 4,
      "outputs": [
        {
          "output_type": "stream",
          "name": "stderr",
          "text": [
            "File downloaded:\n",
            "\n",
            "• \u001b[36m2023_11_01FIA_soil_subset.csv\u001b[39m \u001b[90m<id: 17c3DJcujQ_0MHirG2z2lSU88A0lvjo1C>\u001b[39m\n",
            "\n",
            "Saved locally as:\n",
            "\n",
            "• \u001b[34m/content/fia.csv\u001b[39m\n",
            "\n"
          ]
        },
        {
          "output_type": "stream",
          "name": "stdout",
          "text": [
            "Reading layer `fia' from data source `/content/fia.csv' using driver `CSV'\n"
          ]
        },
        {
          "output_type": "stream",
          "name": "stderr",
          "text": [
            "Warning message:\n",
            "“no simple feature geometries present: returning a data.frame or tbl_df”\n"
          ]
        }
      ]
    },
    {
      "cell_type": "code",
      "source": [
        "# https://drive.google.com/file/d/1G-qBpO_nzLIHWZQGNyrSutmBonjsrvEJ/view?usp=drive_link\n",
        "drive_download(as_id('1G-qBpO_nzLIHWZQGNyrSutmBonjsrvEJ'), path = \"/content/250_summary_grid_dt.gpkg\", overwrite = TRUE)\n",
        "grid_dt <- st_read(\"/content/250_summary_grid_dt.gpkg\") %>% st_transform(4326) %>% data.table()"
      ],
      "metadata": {
        "id": "6i5eFIGc1vby",
        "outputId": "b3267055-efa4-447e-ad36-edc3cc2a49a0",
        "colab": {
          "base_uri": "https://localhost:8080/"
        }
      },
      "execution_count": 5,
      "outputs": [
        {
          "output_type": "stream",
          "name": "stderr",
          "text": [
            "File downloaded:\n",
            "\n",
            "• \u001b[36m250_summary_grid_full_dt.gpkg\u001b[39m \u001b[90m<id: 1G-qBpO_nzLIHWZQGNyrSutmBonjsrvEJ>\u001b[39m\n",
            "\n",
            "Saved locally as:\n",
            "\n",
            "• \u001b[34m/content/250_summary_grid_dt.gpkg\u001b[39m\n",
            "\n"
          ]
        },
        {
          "output_type": "stream",
          "name": "stdout",
          "text": [
            "Reading layer `250_summary_grid_full_dt' from data source \n",
            "  `/content/250_summary_grid_dt.gpkg' using driver `GPKG'\n",
            "Simple feature collection with 227561 features and 35 fields\n",
            "Geometry type: POINT\n",
            "Dimension:     XY\n",
            "Bounding box:  xmin: 57161.36 ymin: 16952.32 xmax: 572661.4 ymax: 381202.3\n",
            "Projected CRS: NAD_1983_HARN_StatePlane_Hawaii_1_FIPS_5101\n"
          ]
        }
      ]
    },
    {
      "cell_type": "code",
      "source": [
        "print('hello')"
      ],
      "metadata": {
        "id": "0fbtvXy0ZYxA"
      },
      "execution_count": null,
      "outputs": []
    },
    {
      "cell_type": "code",
      "source": [
        "# Simulation data\n",
        "# https://drive.google.com/file/d/1HsEZDWJN7XO4aOZlMwbr_6MN3_-xUV81/view?usp=drive_link Run 1\n",
        "drive_download(file = as_id('1HsEZDWJN7XO4aOZlMwbr_6MN3_-xUV81'), path =  '/content/sim_results_Hawaii_Run1.gpkg', overwrite = TRUE)\n",
        "\n",
        "# https://drive.google.com/file/d/15tK1_k9FEGda5aL0P9SyRID-Xk0p_YuF/view?usp=drive_link Run 2\n",
        "drive_download(file = as_id('15tK1_k9FEGda5aL0P9SyRID-Xk0p_YuF'), path =  '/content/sim_results_Hawaii_Run2.gpkg', overwrite = TRUE)\n",
        "\n",
        "# https://drive.google.com/file/d/1RrfNnsmy5ec0inSq35m_uEF3eskgcDDB/view?usp=drive_link Run 3\n",
        "drive_download(file = as_id('1RrfNnsmy5ec0inSq35m_uEF3eskgcDDB'), path =  '/content/sim_results_Hawaii_Run3.gpkg', overwrite = TRUE)\n"
      ],
      "metadata": {
        "id": "O0fhKgBSbbbk",
        "outputId": "3cd31686-fd61-433e-90b6-f5180dfc63ee",
        "colab": {
          "base_uri": "https://localhost:8080/"
        }
      },
      "execution_count": 20,
      "outputs": [
        {
          "output_type": "stream",
          "name": "stderr",
          "text": [
            "File downloaded:\n",
            "\n",
            "• \u001b[36msim_results_Hawaii_10000m_Run1.gpkg\u001b[39m \u001b[90m<id: 1HsEZDWJN7XO4aOZlMwbr_6MN3_-xUV81>\u001b[39m\n",
            "\n",
            "Saved locally as:\n",
            "\n",
            "• \u001b[34m/content/sim_results_Hawaii_Run1.gpkg\u001b[39m\n",
            "\n",
            "File downloaded:\n",
            "\n",
            "• \u001b[36msim_results_Hawaii_10000m_Run2.gpkg\u001b[39m \u001b[90m<id: 15tK1_k9FEGda5aL0P9SyRID-Xk0p_YuF>\u001b[39m\n",
            "\n",
            "Saved locally as:\n",
            "\n",
            "• \u001b[34m/content/sim_results_Hawaii_Run2.gpkg\u001b[39m\n",
            "\n",
            "File downloaded:\n",
            "\n",
            "• \u001b[36msim_results_Hawaii_10000m_Run3.gpkg\u001b[39m \u001b[90m<id: 1RrfNnsmy5ec0inSq35m_uEF3eskgcDDB>\u001b[39m\n",
            "\n",
            "Saved locally as:\n",
            "\n",
            "• \u001b[34m/content/sim_results_Hawaii_Run3.gpkg\u001b[39m\n",
            "\n"
          ]
        }
      ]
    },
    {
      "cell_type": "code",
      "source": [
        "sim_dt <- NULL\n",
        "gc()"
      ],
      "metadata": {
        "id": "UoZxqiTKqb8B",
        "outputId": "08db9e4a-14e0-4496-80aa-799f98a91ddb",
        "colab": {
          "base_uri": "https://localhost:8080/",
          "height": 129
        }
      },
      "execution_count": 22,
      "outputs": [
        {
          "output_type": "display_data",
          "data": {
            "text/html": [
              "<table class=\"dataframe\">\n",
              "<caption>A matrix: 2 × 6 of type dbl</caption>\n",
              "<thead>\n",
              "\t<tr><th></th><th scope=col>used</th><th scope=col>(Mb)</th><th scope=col>gc trigger</th><th scope=col>(Mb)</th><th scope=col>max used</th><th scope=col>(Mb)</th></tr>\n",
              "</thead>\n",
              "<tbody>\n",
              "\t<tr><th scope=row>Ncells</th><td> 4531526</td><td>242.1</td><td>  62562648</td><td> 3341.3</td><td>  78203310</td><td> 4176.6</td></tr>\n",
              "\t<tr><th scope=row>Vcells</th><td>17718360</td><td>135.2</td><td>1566773407</td><td>11953.6</td><td>1487682105</td><td>11350.2</td></tr>\n",
              "</tbody>\n",
              "</table>\n"
            ],
            "text/markdown": "\nA matrix: 2 × 6 of type dbl\n\n| <!--/--> | used | (Mb) | gc trigger | (Mb) | max used | (Mb) |\n|---|---|---|---|---|---|---|\n| Ncells |  4531526 | 242.1 |   62562648 |  3341.3 |   78203310 |  4176.6 |\n| Vcells | 17718360 | 135.2 | 1566773407 | 11953.6 | 1487682105 | 11350.2 |\n\n",
            "text/latex": "A matrix: 2 × 6 of type dbl\n\\begin{tabular}{r|llllll}\n  & used & (Mb) & gc trigger & (Mb) & max used & (Mb)\\\\\n\\hline\n\tNcells &  4531526 & 242.1 &   62562648 &  3341.3 &   78203310 &  4176.6\\\\\n\tVcells & 17718360 & 135.2 & 1566773407 & 11953.6 & 1487682105 & 11350.2\\\\\n\\end{tabular}\n",
            "text/plain": [
              "       used     (Mb)  gc trigger (Mb)    max used   (Mb)   \n",
              "Ncells  4531526 242.1   62562648  3341.3   78203310  4176.6\n",
              "Vcells 17718360 135.2 1566773407 11953.6 1487682105 11350.2"
            ]
          },
          "metadata": {}
        }
      ]
    },
    {
      "cell_type": "code",
      "source": [
        "sim_1_dt <- st_read( '/content/sim_results_Hawaii_Run1.gpkg') %>% data.table\n",
        "sim_2_dt <- st_read( '/content/sim_results_Hawaii_Run2.gpkg') %>% data.table\n",
        "sim_3_dt <- st_read( '/content/sim_results_Hawaii_Run3.gpkg') %>% data.table"
      ],
      "metadata": {
        "id": "qcOWC2TKb4kS",
        "outputId": "061cfe07-ad7c-4148-d499-775dab411479",
        "colab": {
          "base_uri": "https://localhost:8080/"
        }
      },
      "execution_count": 23,
      "outputs": [
        {
          "output_type": "stream",
          "name": "stdout",
          "text": [
            "Reading layer `sim_results_Hawaii_10000m_Run1' from data source \n",
            "  `/content/sim_results_Hawaii_Run1.gpkg' using driver `GPKG'\n",
            "Simple feature collection with 5600000 features and 74 fields\n",
            "Geometry type: POINT\n",
            "Dimension:     XY\n",
            "Bounding box:  xmin: -156.0017 ymin: 19.0045 xmax: -154.8362 ymax: 20.25088\n",
            "Geodetic CRS:  WGS 84\n",
            "Reading layer `sim_results_Hawaii_10000m_Run2' from data source \n",
            "  `/content/sim_results_Hawaii_Run2.gpkg' using driver `GPKG'\n",
            "Simple feature collection with 5600000 features and 74 fields\n",
            "Geometry type: POINT\n",
            "Dimension:     XY\n",
            "Bounding box:  xmin: -156.0017 ymin: 19.0045 xmax: -154.8362 ymax: 20.25088\n",
            "Geodetic CRS:  WGS 84\n",
            "Reading layer `sim_results_Hawaii_10000m_Run3' from data source \n",
            "  `/content/sim_results_Hawaii_Run3.gpkg' using driver `GPKG'\n",
            "Simple feature collection with 5600000 features and 74 fields\n",
            "Geometry type: POINT\n",
            "Dimension:     XY\n",
            "Bounding box:  xmin: -156.0017 ymin: 19.0045 xmax: -154.8362 ymax: 20.25088\n",
            "Geodetic CRS:  WGS 84\n"
          ]
        }
      ]
    },
    {
      "cell_type": "code",
      "source": [
        "sim_dt <-list(sim_1_dt,sim_2_dt,sim_3_dt) %>% rbindlist()"
      ],
      "metadata": {
        "id": "rlWnfNM-tjtK"
      },
      "execution_count": 24,
      "outputs": []
    },
    {
      "cell_type": "code",
      "source": [
        "grid_int_dt  <- fia_dt$geom %>% st_transform(4135) %>% st_buffer(10000) %>% st_transform(4326) %>% st_intersects(grid_dt$geom)"
      ],
      "metadata": {
        "id": "0A-fL1krTbA_"
      },
      "execution_count": 8,
      "outputs": []
    },
    {
      "cell_type": "code",
      "source": [
        "rm_vec <- grid_int_dt %>% lapply(length) %>% unlist > 0\n",
        "grid_int_dt <- grid_int_dt[rm_vec]\n",
        "fia_dt <- fia_dt[rm_vec,]"
      ],
      "metadata": {
        "id": "isEeYbV1UDV9"
      },
      "execution_count": 9,
      "outputs": []
    },
    {
      "cell_type": "code",
      "source": [
        "grid_dt <- grid_dt[!is.na(srad),]"
      ],
      "metadata": {
        "id": "GuKe5EAqAWtK"
      },
      "execution_count": 10,
      "outputs": []
    },
    {
      "cell_type": "code",
      "source": [
        "grid_dt$agbd_n <- grid_dt$agbd_n %>% as.numeric"
      ],
      "metadata": {
        "id": "XsFPDjw_BHKX"
      },
      "execution_count": 11,
      "outputs": []
    },
    {
      "cell_type": "code",
      "source": [
        "fia_dt$Stock_SOC_Mg_Ha <- fia_dt$Stock_SOC_Mg_Ha %>% as.numeric"
      ],
      "metadata": {
        "id": "Au3xpFsoA2Qz",
        "outputId": "658b74c0-8acf-4c8f-9514-5219daa9a7b0",
        "colab": {
          "base_uri": "https://localhost:8080/"
        }
      },
      "execution_count": 12,
      "outputs": [
        {
          "output_type": "stream",
          "name": "stderr",
          "text": [
            "Warning message in fia_dt$Stock_SOC_Mg_Ha %>% as.numeric:\n",
            "“NAs introduced by coercion”\n"
          ]
        }
      ]
    },
    {
      "cell_type": "code",
      "source": [
        "sim_dt %>% nrow"
      ],
      "metadata": {
        "id": "qumOZBUZ7d_T",
        "outputId": "86765349-e954-4484-c05e-33141ee60d7e",
        "colab": {
          "base_uri": "https://localhost:8080/",
          "height": 34
        }
      },
      "execution_count": 25,
      "outputs": [
        {
          "output_type": "display_data",
          "data": {
            "text/html": [
              "16800000"
            ],
            "text/markdown": "16800000",
            "text/latex": "16800000",
            "text/plain": [
              "[1] 16800000"
            ]
          },
          "metadata": {}
        }
      ]
    },
    {
      "cell_type": "code",
      "source": [
        "sim_dt[,z:=(predicted-Stock_SOC_Mg_Ha)/Stock_SOC_Mg_Ha]"
      ],
      "metadata": {
        "id": "ykTLK7Zfvb_Y"
      },
      "execution_count": 26,
      "outputs": []
    },
    {
      "cell_type": "code",
      "source": [
        "sim_dt[,residual_per:=(predicted-Stock_SOC_Mg_Ha)/Stock_SOC_Mg_Ha]"
      ],
      "metadata": {
        "id": "qozeGGhyeNR6"
      },
      "execution_count": 27,
      "outputs": []
    },
    {
      "cell_type": "code",
      "source": [
        "sim_dt[ z > -0.05 &z<0.05]$predicted %>% qplot"
      ],
      "metadata": {
        "id": "83G-MoVduIeE",
        "outputId": "fbd8564f-3b23-445c-9343-3beee04870c6",
        "colab": {
          "base_uri": "https://localhost:8080/",
          "height": 455
        }
      },
      "execution_count": 31,
      "outputs": [
        {
          "output_type": "stream",
          "name": "stderr",
          "text": [
            "\u001b[1m\u001b[22m`stat_bin()` using `bins = 30`. Pick better value with `binwidth`.\n"
          ]
        },
        {
          "output_type": "display_data",
          "data": {
            "text/plain": [
              "plot without title"
            ],
            "image/png": "[encoded data removed]"
          },
          "metadata": {
            "image/png": {
              "width": 420,
              "height": 420
            }
          }
        }
      ]
    },
    {
      "cell_type": "code",
      "source": [
        "sim_dt$Stock_SOC_Mg_Ha %>% qplot"
      ],
      "metadata": {
        "id": "FYEQyrPhuMp8",
        "outputId": "fd47da39-5e31-42d7-9a22-e63135be715e",
        "colab": {
          "base_uri": "https://localhost:8080/",
          "height": 455
        }
      },
      "execution_count": 30,
      "outputs": [
        {
          "output_type": "stream",
          "name": "stderr",
          "text": [
            "\u001b[1m\u001b[22m`stat_bin()` using `bins = 30`. Pick better value with `binwidth`.\n"
          ]
        },
        {
          "output_type": "display_data",
          "data": {
            "text/plain": [
              "plot without title"
            ],
            "image/png": "[encoded data removed]"
          },
          "metadata": {
            "image/png": {
              "width": 420,
              "height": 420
            }
          }
        }
      ]
    },
    {
      "cell_type": "code",
      "source": [
        "sim_dt[id==2831164]$predicted %>% qplot(bins=100)\n",
        "\n",
        "sim_dt[id==2831164 & z > -0.05 &z<0.05]$predicted %>% qplot(geom='histogram')"
      ],
      "metadata": {
        "colab": {
          "base_uri": "https://localhost:8080/",
          "height": 875
        },
        "id": "4Vplh_bzvy2V",
        "outputId": "5541708e-4c17-4efa-8d5f-380075a111e7"
      },
      "execution_count": 28,
      "outputs": [
        {
          "output_type": "stream",
          "name": "stderr",
          "text": [
            "\u001b[1m\u001b[22m`stat_bin()` using `bins = 30`. Pick better value with `binwidth`.\n"
          ]
        },
        {
          "output_type": "display_data",
          "data": {
            "text/plain": [
              "plot without title"
            ],
            "image/png": "[encoded data removed]"
          },
          "metadata": {
            "image/png": {
              "width": 420,
              "height": 420
            }
          }
        },
        {
          "output_type": "display_data",
          "data": {
            "text/plain": [
              "plot without title"
            ],
            "image/png": "[encoded data removed]"
          },
          "metadata": {
            "image/png": {
              "width": 420,
              "height": 420
            }
          }
        }
      ]
    },
    {
      "cell_type": "code",
      "source": [
        "sim_summary_dt <- sim_dt[,list(length = length(r2),length_05 = length(r2[sqrt((z)^2) <0.05]),geom=unique(geom)),by=.(id,PLOT)]"
      ],
      "metadata": {
        "id": "dQe6TcWmQE9z"
      },
      "execution_count": 32,
      "outputs": []
    },
    {
      "cell_type": "code",
      "source": [
        "# sim_summary_dt\n",
        "sim_summary_dt[PLOT==5289]$length_05 %>% qplot"
      ],
      "metadata": {
        "colab": {
          "base_uri": "https://localhost:8080/",
          "height": 455
        },
        "id": "8ety8b9EirDE",
        "outputId": "c0970ddc-e869-41c6-bc27-13e4444dd6fd"
      },
      "execution_count": 33,
      "outputs": [
        {
          "output_type": "stream",
          "name": "stderr",
          "text": [
            "\u001b[1m\u001b[22m`stat_bin()` using `bins = 30`. Pick better value with `binwidth`.\n"
          ]
        },
        {
          "output_type": "display_data",
          "data": {
            "text/plain": [
              "plot without title"
            ],
            "image/png": "[encoded data removed]"
          },
          "metadata": {
            "image/png": {
              "width": 420,
              "height": 420
            }
          }
        }
      ]
    },
    {
      "cell_type": "code",
      "source": [
        "sim_summary_dt %>% st_as_sf %>% st_write('sim_summary_id_plot.gpkg',delete_dsn = T)"
      ],
      "metadata": {
        "id": "t7KCfekdwa45",
        "outputId": "eef5c14f-924a-44d1-dcfe-b03423dc8b11",
        "colab": {
          "base_uri": "https://localhost:8080/"
        }
      },
      "execution_count": 18,
      "outputs": [
        {
          "metadata": {
            "tags": null
          },
          "name": "stderr",
          "output_type": "stream",
          "text": [
            "writing: substituting ENGCRS[\"Undefined Cartesian SRS with unknown unit\"] for missing CRS\n",
            "\n"
          ]
        },
        {
          "metadata": {
            "tags": null
          },
          "name": "stdout",
          "output_type": "stream",
          "text": [
            "Deleting source `sim_summary_id_plot.gpkg' failed\n",
            "Writing layer `sim_summary_id_plot' to data source \n",
            "  `sim_summary_id_plot.gpkg' using driver `GPKG'\n",
            "Writing 277038 features with 4 fields and geometry type Point.\n"
          ]
        }
      ]
    },
    {
      "cell_type": "code",
      "source": [
        "sim_summary_dt$length %>% qplot"
      ],
      "metadata": {
        "colab": {
          "base_uri": "https://localhost:8080/",
          "height": 455
        },
        "id": "yAX3_EM4qYAH",
        "outputId": "18e04d76-9300-4ed0-809b-b3f334123cd3"
      },
      "execution_count": 19,
      "outputs": [
        {
          "metadata": {
            "tags": null
          },
          "name": "stderr",
          "output_type": "stream",
          "text": [
            "\u001b[1m\u001b[22m`stat_bin()` using `bins = 30`. Pick better value with `binwidth`.\n"
          ]
        },
        {
          "data": {
            "image/png": "[encoded data removed]",
            "text/plain": [
              "plot without title"
            ]
          },
          "metadata": {
            "image/png": {
              "height": 420,
              "width": 420
            }
          },
          "output_type": "display_data"
        }
      ]
    },
    {
      "cell_type": "code",
      "source": [
        "sim_summary_dt %>%\n",
        "  ggplot(aes(x= length_05/length)) +\n",
        "  geom_histogram(bins=16)\n",
        "    # geom_smooth(method = 'lm')"
      ],
      "metadata": {
        "id": "e5o3fWrF3dDV",
        "colab": {
          "base_uri": "https://localhost:8080/",
          "height": 437
        },
        "outputId": "cdcca56c-dbfb-4240-aa72-3cf37c0983e3"
      },
      "execution_count": 20,
      "outputs": [
        {
          "data": {
            "image/png": "[encoded data removed]",
            "text/plain": [
              "plot without title"
            ]
          },
          "metadata": {
            "image/png": {
              "height": 420,
              "width": 420
            }
          },
          "output_type": "display_data"
        }
      ]
    },
    {
      "cell_type": "code",
      "source": [
        "sim_summary_dt[max(length_05/length)*.8 < length_05/length][order(length_05/length)]"
      ],
      "metadata": {
        "colab": {
          "base_uri": "https://localhost:8080/",
          "height": 380
        },
        "id": "UmZDLM3unJbe",
        "outputId": "c503ed59-d34e-4aea-ada6-72dd817ca60d"
      },
      "execution_count": 21,
      "outputs": [
        {
          "data": {
            "text/html": [
              "<table class=\"dataframe\">\n",
              "<caption>A data.table: 9 × 5</caption>\n",
              "<thead>\n",
              "\t<tr><th scope=col>id</th><th scope=col>PLOT</th><th scope=col>length</th><th scope=col>length_05</th><th scope=col>geom</th></tr>\n",
              "\t<tr><th scope=col>&lt;dbl&gt;</th><th scope=col>&lt;chr&gt;</th><th scope=col>&lt;int&gt;</th><th scope=col>&lt;int&gt;</th><th scope=col>&lt;list&gt;</th></tr>\n",
              "</thead>\n",
              "<tbody>\n",
              "\t<tr><td>2804195</td><td>2394</td><td> 7</td><td> 5</td><td>-155.34813, 19.80626</td></tr>\n",
              "\t<tr><td>2699266</td><td>2768</td><td> 7</td><td> 5</td><td>-155.51510, 19.17169</td></tr>\n",
              "\t<tr><td>2693239</td><td>5059</td><td>18</td><td>13</td><td>-155.52462, 19.20557</td></tr>\n",
              "\t<tr><td>2880861</td><td>2394</td><td>11</td><td> 8</td><td>-155.22649, 19.77675</td></tr>\n",
              "\t<tr><td>2844718</td><td>2312</td><td> 8</td><td> 6</td><td>-155.28353, 19.93718</td></tr>\n",
              "\t<tr><td>2921526</td><td>2490</td><td> 8</td><td> 6</td><td>-155.16247, 19.58694</td></tr>\n",
              "\t<tr><td>2859826</td><td>2394</td><td> 4</td><td> 3</td><td>-155.25991, 19.76099</td></tr>\n",
              "\t<tr><td>2871842</td><td>2364</td><td> 9</td><td> 7</td><td>-155.24080, 19.77903</td></tr>\n",
              "\t<tr><td>2885363</td><td>2394</td><td> 6</td><td> 5</td><td>-155.21930, 19.79255</td></tr>\n",
              "</tbody>\n",
              "</table>\n"
            ],
            "text/latex": "A data.table: 9 × 5\n\\begin{tabular}{lllll}\n id & PLOT & length & length\\_05 & geom\\\\\n <dbl> & <chr> & <int> & <int> & <list>\\\\\n\\hline\n\t 2804195 & 2394 &  7 &  5 & -155.34813, 19.80626\\\\\n\t 2699266 & 2768 &  7 &  5 & -155.51510, 19.17169\\\\\n\t 2693239 & 5059 & 18 & 13 & -155.52462, 19.20557\\\\\n\t 2880861 & 2394 & 11 &  8 & -155.22649, 19.77675\\\\\n\t 2844718 & 2312 &  8 &  6 & -155.28353, 19.93718\\\\\n\t 2921526 & 2490 &  8 &  6 & -155.16247, 19.58694\\\\\n\t 2859826 & 2394 &  4 &  3 & -155.25991, 19.76099\\\\\n\t 2871842 & 2364 &  9 &  7 & -155.24080, 19.77903\\\\\n\t 2885363 & 2394 &  6 &  5 & -155.21930, 19.79255\\\\\n\\end{tabular}\n",
            "text/markdown": "\nA data.table: 9 × 5\n\n| id &lt;dbl&gt; | PLOT &lt;chr&gt; | length &lt;int&gt; | length_05 &lt;int&gt; | geom &lt;list&gt; |\n|---|---|---|---|---|\n| 2804195 | 2394 |  7 |  5 | -155.34813, 19.80626 |\n| 2699266 | 2768 |  7 |  5 | -155.51510, 19.17169 |\n| 2693239 | 5059 | 18 | 13 | -155.52462, 19.20557 |\n| 2880861 | 2394 | 11 |  8 | -155.22649, 19.77675 |\n| 2844718 | 2312 |  8 |  6 | -155.28353, 19.93718 |\n| 2921526 | 2490 |  8 |  6 | -155.16247, 19.58694 |\n| 2859826 | 2394 |  4 |  3 | -155.25991, 19.76099 |\n| 2871842 | 2364 |  9 |  7 | -155.24080, 19.77903 |\n| 2885363 | 2394 |  6 |  5 | -155.21930, 19.79255 |\n\n",
            "text/plain": [
              "  id      PLOT length length_05 geom                \n",
              "1 2804195 2394  7      5        -155.34813, 19.80626\n",
              "2 2699266 2768  7      5        -155.51510, 19.17169\n",
              "3 2693239 5059 18     13        -155.52462, 19.20557\n",
              "4 2880861 2394 11      8        -155.22649, 19.77675\n",
              "5 2844718 2312  8      6        -155.28353, 19.93718\n",
              "6 2921526 2490  8      6        -155.16247, 19.58694\n",
              "7 2859826 2394  4      3        -155.25991, 19.76099\n",
              "8 2871842 2364  9      7        -155.24080, 19.77903\n",
              "9 2885363 2394  6      5        -155.21930, 19.79255"
            ]
          },
          "metadata": {},
          "output_type": "display_data"
        }
      ]
    },
    {
      "cell_type": "code",
      "source": [
        "names(sim_dt)[39:68]"
      ],
      "metadata": {
        "colab": {
          "base_uri": "https://localhost:8080/",
          "height": 104
        },
        "id": "fWXNIf020Rg1",
        "outputId": "dc945266-dfb3-4b26-d468-1044e1f20037"
      },
      "execution_count": 22,
      "outputs": [
        {
          "data": {
            "text/html": [
              "<style>\n",
              ".list-inline {list-style: none; margin:0; padding: 0}\n",
              ".list-inline>li {display: inline-block}\n",
              ".list-inline>li:not(:last-child)::after {content: \"\\00b7\"; padding: 0 .5ex}\n",
              "</style>\n",
              "<ol class=list-inline><li>'age_years'</li><li>'age_class'</li><li>'predicted'</li><li>'var_imp_water'</li><li>'var_imp_trees'</li><li>'var_imp_grass'</li><li>'var_imp_flooded_vegetation'</li><li>'var_imp_crops'</li><li>'var_imp_shrub_and_scrub'</li><li>'var_imp_built'</li><li>'var_imp_bare'</li><li>'var_imp_snow_and_ice'</li><li>'var_imp_elevation'</li><li>'var_imp_landform'</li><li>'var_imp_SRTM_mTPI'</li><li>'var_imp_aet'</li><li>'var_imp_def'</li><li>'var_imp_pdsi'</li><li>'var_imp_pet'</li><li>'var_imp_pr'</li><li>'var_imp_ro'</li><li>'var_imp_soil'</li><li>'var_imp_srad'</li><li>'var_imp_swe'</li><li>'var_imp_tmmn'</li><li>'var_imp_tmmx'</li><li>'var_imp_vap'</li><li>'var_imp_vpd'</li><li>'var_imp_vs'</li><li>'var_imp_agbd_m'</li></ol>\n"
            ],
            "text/latex": "\\begin{enumerate*}\n\\item 'age\\_years'\n\\item 'age\\_class'\n\\item 'predicted'\n\\item 'var\\_imp\\_water'\n\\item 'var\\_imp\\_trees'\n\\item 'var\\_imp\\_grass'\n\\item 'var\\_imp\\_flooded\\_vegetation'\n\\item 'var\\_imp\\_crops'\n\\item 'var\\_imp\\_shrub\\_and\\_scrub'\n\\item 'var\\_imp\\_built'\n\\item 'var\\_imp\\_bare'\n\\item 'var\\_imp\\_snow\\_and\\_ice'\n\\item 'var\\_imp\\_elevation'\n\\item 'var\\_imp\\_landform'\n\\item 'var\\_imp\\_SRTM\\_mTPI'\n\\item 'var\\_imp\\_aet'\n\\item 'var\\_imp\\_def'\n\\item 'var\\_imp\\_pdsi'\n\\item 'var\\_imp\\_pet'\n\\item 'var\\_imp\\_pr'\n\\item 'var\\_imp\\_ro'\n\\item 'var\\_imp\\_soil'\n\\item 'var\\_imp\\_srad'\n\\item 'var\\_imp\\_swe'\n\\item 'var\\_imp\\_tmmn'\n\\item 'var\\_imp\\_tmmx'\n\\item 'var\\_imp\\_vap'\n\\item 'var\\_imp\\_vpd'\n\\item 'var\\_imp\\_vs'\n\\item 'var\\_imp\\_agbd\\_m'\n\\end{enumerate*}\n",
            "text/markdown": "1. 'age_years'\n2. 'age_class'\n3. 'predicted'\n4. 'var_imp_water'\n5. 'var_imp_trees'\n6. 'var_imp_grass'\n7. 'var_imp_flooded_vegetation'\n8. 'var_imp_crops'\n9. 'var_imp_shrub_and_scrub'\n10. 'var_imp_built'\n11. 'var_imp_bare'\n12. 'var_imp_snow_and_ice'\n13. 'var_imp_elevation'\n14. 'var_imp_landform'\n15. 'var_imp_SRTM_mTPI'\n16. 'var_imp_aet'\n17. 'var_imp_def'\n18. 'var_imp_pdsi'\n19. 'var_imp_pet'\n20. 'var_imp_pr'\n21. 'var_imp_ro'\n22. 'var_imp_soil'\n23. 'var_imp_srad'\n24. 'var_imp_swe'\n25. 'var_imp_tmmn'\n26. 'var_imp_tmmx'\n27. 'var_imp_vap'\n28. 'var_imp_vpd'\n29. 'var_imp_vs'\n30. 'var_imp_agbd_m'\n\n\n",
            "text/plain": [
              " [1] \"age_years\"                  \"age_class\"                 \n",
              " [3] \"predicted\"                  \"var_imp_water\"             \n",
              " [5] \"var_imp_trees\"              \"var_imp_grass\"             \n",
              " [7] \"var_imp_flooded_vegetation\" \"var_imp_crops\"             \n",
              " [9] \"var_imp_shrub_and_scrub\"    \"var_imp_built\"             \n",
              "[11] \"var_imp_bare\"               \"var_imp_snow_and_ice\"      \n",
              "[13] \"var_imp_elevation\"          \"var_imp_landform\"          \n",
              "[15] \"var_imp_SRTM_mTPI\"          \"var_imp_aet\"               \n",
              "[17] \"var_imp_def\"                \"var_imp_pdsi\"              \n",
              "[19] \"var_imp_pet\"                \"var_imp_pr\"                \n",
              "[21] \"var_imp_ro\"                 \"var_imp_soil\"              \n",
              "[23] \"var_imp_srad\"               \"var_imp_swe\"               \n",
              "[25] \"var_imp_tmmn\"               \"var_imp_tmmx\"              \n",
              "[27] \"var_imp_vap\"                \"var_imp_vpd\"               \n",
              "[29] \"var_imp_vs\"                 \"var_imp_agbd_m\"            "
            ]
          },
          "metadata": {},
          "output_type": "display_data"
        }
      ]
    },
    {
      "cell_type": "code",
      "source": [
        "sim_dt[,good:=abs(residual_per) < 0.1]"
      ],
      "metadata": {
        "id": "Qhln_EvwrHPH"
      },
      "execution_count": 23,
      "outputs": []
    },
    {
      "cell_type": "code",
      "source": [
        "# sim_dt$id %>% table"
      ],
      "metadata": {
        "id": "CoEJZXgdrK5v"
      },
      "execution_count": 24,
      "outputs": []
    },
    {
      "cell_type": "code",
      "source": [
        "names(sim_dt)[39:68] %>% lapply(function(x){\n",
        "t.test(sim_dt[id ==2957662  & abs(residual_per) < 0.5 ][[x]],\n",
        "sim_dt[id ==2957662  & abs(residual_per) >= 0.5 ][[x]])$p.value})\n"
      ],
      "metadata": {
        "colab": {
          "base_uri": "https://localhost:8080/",
          "height": 392
        },
        "id": "v8yi1hmWqcsd",
        "outputId": "58a1e0db-a1a7-4b35-be8b-aee6bea7bdfd"
      },
      "execution_count": 25,
      "outputs": [
        {
          "ename": "ERROR",
          "evalue": "ignored",
          "output_type": "error",
          "traceback": [
            "Error in t.test.default(sim_dt[id == 2957662 & abs(residual_per) < 0.5][[x]], : data are essentially constant\nTraceback:\n",
            "1. names(sim_dt)[39:68] %>% lapply(function(x) {\n .     t.test(sim_dt[id == 2957662 & abs(residual_per) < 0.5][[x]], \n .         sim_dt[id == 2957662 & abs(residual_per) >= 0.5][[x]])$p.value\n . })",
            "2. lapply(., function(x) {\n .     t.test(sim_dt[id == 2957662 & abs(residual_per) < 0.5][[x]], \n .         sim_dt[id == 2957662 & abs(residual_per) >= 0.5][[x]])$p.value\n . })",
            "3. FUN(X[[i]], ...)",
            "4. t.test(sim_dt[id == 2957662 & abs(residual_per) < 0.5][[x]], \n .     sim_dt[id == 2957662 & abs(residual_per) >= 0.5][[x]])   # at line 2-3 of file <text>",
            "5. t.test.default(sim_dt[id == 2957662 & abs(residual_per) < 0.5][[x]], \n .     sim_dt[id == 2957662 & abs(residual_per) >= 0.5][[x]])",
            "6. stop(\"data are essentially constant\")"
          ]
        }
      ]
    },
    {
      "cell_type": "code",
      "source": [
        "(sim_dt %>% names)[40:69]"
      ],
      "metadata": {
        "id": "55HRclaRCkNj"
      },
      "execution_count": null,
      "outputs": []
    },
    {
      "cell_type": "code",
      "source": [
        "sim_dt$id %>% sample(1)\n",
        "sim_dt[id==2762315]$PLOT %>% table"
      ],
      "metadata": {
        "id": "T7bfZLlnv2kw",
        "outputId": "2cc3c6c9-d8bb-49cb-bc48-8eb60c105456",
        "colab": {
          "base_uri": "https://localhost:8080/",
          "height": 88
        }
      },
      "execution_count": 40,
      "outputs": [
        {
          "output_type": "display_data",
          "data": {
            "text/html": [
              "2840264"
            ],
            "text/markdown": "2840264",
            "text/latex": "2840264",
            "text/plain": [
              "[1] 2840264"
            ]
          },
          "metadata": {}
        },
        {
          "output_type": "display_data",
          "data": {
            "text/plain": [
              ".\n",
              "2672 2678 2702 4158 5059 5450 5553 \n",
              "  86  120   60  209   64   82   89 "
            ]
          },
          "metadata": {}
        }
      ]
    },
    {
      "cell_type": "code",
      "source": [
        "sim_dt[id==2762315] %>% nrow"
      ],
      "metadata": {
        "id": "sZIan_uuv_eq",
        "outputId": "b5f29ce3-bb3d-4c03-b3af-1f0b8074c4fa",
        "colab": {
          "base_uri": "https://localhost:8080/",
          "height": 34
        }
      },
      "execution_count": 39,
      "outputs": [
        {
          "output_type": "display_data",
          "data": {
            "text/html": [
              "710"
            ],
            "text/markdown": "710",
            "text/latex": "710",
            "text/plain": [
              "[1] 710"
            ]
          },
          "metadata": {}
        }
      ]
    },
    {
      "cell_type": "code",
      "source": [
        "#  sim_dt[id==2762315 &PLOT == 2678]$z %>% abs %>% qplot"
      ],
      "metadata": {
        "id": "TE5mLdbMwPBv"
      },
      "execution_count": 48,
      "outputs": []
    },
    {
      "cell_type": "code",
      "source": [
        "x <- sim_dt[id==2762315 &PLOT == 2678 ]$var_imp_grass\n",
        "z <- sim_dt[id==2762315 &PLOT == 2678 ]$z\n",
        "\n",
        "if(length(x[abs(z) < 0.05])>3 &length(x[abs(z) >= 0.05])>3 ){\n",
        "  t.test(x[abs(z) < 0.05],\n",
        "          x[abs(z) >= 0.05])$p.value\n",
        "          }else(return(NA))"
      ],
      "metadata": {
        "id": "QhXwzQZWwy22",
        "outputId": "9ad05434-e655-4fa8-fc56-babd07e2ec3b",
        "colab": {
          "base_uri": "https://localhost:8080/",
          "height": 34
        }
      },
      "execution_count": 59,
      "outputs": [
        {
          "output_type": "display_data",
          "data": {
            "text/html": [
              "0.250431396630907"
            ],
            "text/markdown": "0.250431396630907",
            "text/latex": "0.250431396630907",
            "text/plain": [
              "[1] 0.2504314"
            ]
          },
          "metadata": {}
        }
      ]
    },
    {
      "cell_type": "code",
      "source": [
        " var_imp_dt<- sim_dt[ ][\n",
        "  , .(p_value = lapply(.SD, function(x) {\n",
        "    if(length(x[abs(z) < 0.05])>3 &length(x[abs(z) >= 0.05])>3 ){\n",
        "      t.test(x[abs(z) < 0.05],\n",
        "             x[abs(z) >= 0.05])$p.value\n",
        "             }else(return(NA))\n",
        "\n",
        "    }) ,\n",
        "      variable = names(sim_dt)[42:73])\n",
        "  , by = .(id,PLOT)\n",
        "  , .SDcols = 42:73\n",
        "]\n",
        "\n",
        "var_imp_dt$p_value <- var_imp_dt$p_value %>% unlist"
      ],
      "metadata": {
        "id": "jSxwz78hCaIo"
      },
      "execution_count": 62,
      "outputs": []
    },
    {
      "cell_type": "code",
      "source": [
        "var_imp_dt"
      ],
      "metadata": {
        "colab": {
          "base_uri": "https://localhost:8080/",
          "height": 1000
        },
        "id": "3yklCqfZoTKA",
        "outputId": "84a295fa-8647-423b-be37-ed210519295f"
      },
      "execution_count": 61,
      "outputs": [
        {
          "output_type": "display_data",
          "data": {
            "text/html": [
              "<table class=\"dataframe\">\n",
              "<caption>A data.table: 32 × 4</caption>\n",
              "<thead>\n",
              "\t<tr><th scope=col>id</th><th scope=col>PLOT</th><th scope=col>p_value</th><th scope=col>variable</th></tr>\n",
              "\t<tr><th scope=col>&lt;dbl&gt;</th><th scope=col>&lt;chr&gt;</th><th scope=col>&lt;dbl&gt;</th><th scope=col>&lt;chr&gt;</th></tr>\n",
              "</thead>\n",
              "<tbody>\n",
              "\t<tr><td>2762315</td><td>2678</td><td>0.54546297</td><td>var_imp_water             </td></tr>\n",
              "\t<tr><td>2762315</td><td>2678</td><td>0.04534548</td><td>var_imp_trees             </td></tr>\n",
              "\t<tr><td>2762315</td><td>2678</td><td>0.25043140</td><td>var_imp_grass             </td></tr>\n",
              "\t<tr><td>2762315</td><td>2678</td><td>0.52329353</td><td>var_imp_flooded_vegetation</td></tr>\n",
              "\t<tr><td>2762315</td><td>2678</td><td>0.89326437</td><td>var_imp_crops             </td></tr>\n",
              "\t<tr><td>2762315</td><td>2678</td><td>0.05401863</td><td>var_imp_shrub_and_scrub   </td></tr>\n",
              "\t<tr><td>2762315</td><td>2678</td><td>0.17380199</td><td>var_imp_built             </td></tr>\n",
              "\t<tr><td>2762315</td><td>2678</td><td>0.08250781</td><td>var_imp_bare              </td></tr>\n",
              "\t<tr><td>2762315</td><td>2678</td><td>0.99867462</td><td>var_imp_snow_and_ice      </td></tr>\n",
              "\t<tr><td>2762315</td><td>2678</td><td>0.63731500</td><td>var_imp_elevation         </td></tr>\n",
              "\t<tr><td>2762315</td><td>2678</td><td>0.43765580</td><td>var_imp_landform          </td></tr>\n",
              "\t<tr><td>2762315</td><td>2678</td><td>0.83194692</td><td>var_imp_SRTM_mTPI         </td></tr>\n",
              "\t<tr><td>2762315</td><td>2678</td><td>0.99608934</td><td>var_imp_aet               </td></tr>\n",
              "\t<tr><td>2762315</td><td>2678</td><td>0.85197419</td><td>var_imp_def               </td></tr>\n",
              "\t<tr><td>2762315</td><td>2678</td><td>0.79984519</td><td>var_imp_pdsi              </td></tr>\n",
              "\t<tr><td>2762315</td><td>2678</td><td>0.16458061</td><td>var_imp_pet               </td></tr>\n",
              "\t<tr><td>2762315</td><td>2678</td><td>0.34215941</td><td>var_imp_pr                </td></tr>\n",
              "\t<tr><td>2762315</td><td>2678</td><td>0.29231372</td><td>var_imp_ro                </td></tr>\n",
              "\t<tr><td>2762315</td><td>2678</td><td>0.27047718</td><td>var_imp_soil              </td></tr>\n",
              "\t<tr><td>2762315</td><td>2678</td><td>0.49414873</td><td>var_imp_srad              </td></tr>\n",
              "\t<tr><td>2762315</td><td>2678</td><td>       NaN</td><td>var_imp_swe               </td></tr>\n",
              "\t<tr><td>2762315</td><td>2678</td><td>0.50237824</td><td>var_imp_tmmn              </td></tr>\n",
              "\t<tr><td>2762315</td><td>2678</td><td>0.33959746</td><td>var_imp_tmmx              </td></tr>\n",
              "\t<tr><td>2762315</td><td>2678</td><td>0.57084284</td><td>var_imp_vap               </td></tr>\n",
              "\t<tr><td>2762315</td><td>2678</td><td>0.36060660</td><td>var_imp_vpd               </td></tr>\n",
              "\t<tr><td>2762315</td><td>2678</td><td>0.67377540</td><td>var_imp_vs                </td></tr>\n",
              "\t<tr><td>2762315</td><td>2678</td><td>0.43948418</td><td>var_imp_agbd_m            </td></tr>\n",
              "\t<tr><td>2762315</td><td>2678</td><td>0.83465407</td><td>var_imp_agbd_sd           </td></tr>\n",
              "\t<tr><td>2762315</td><td>2678</td><td>0.99091172</td><td>var_imp_agbd_n            </td></tr>\n",
              "\t<tr><td>2762315</td><td>2678</td><td>0.29078468</td><td>var_imp_majorcomposition  </td></tr>\n",
              "\t<tr><td>2762315</td><td>2678</td><td>0.23450653</td><td>var_imp_age_years         </td></tr>\n",
              "\t<tr><td>2762315</td><td>2678</td><td>0.82571286</td><td>var_imp_age_class         </td></tr>\n",
              "</tbody>\n",
              "</table>\n"
            ],
            "text/markdown": "\nA data.table: 32 × 4\n\n| id &lt;dbl&gt; | PLOT &lt;chr&gt; | p_value &lt;dbl&gt; | variable &lt;chr&gt; |\n|---|---|---|---|\n| 2762315 | 2678 | 0.54546297 | var_imp_water              |\n| 2762315 | 2678 | 0.04534548 | var_imp_trees              |\n| 2762315 | 2678 | 0.25043140 | var_imp_grass              |\n| 2762315 | 2678 | 0.52329353 | var_imp_flooded_vegetation |\n| 2762315 | 2678 | 0.89326437 | var_imp_crops              |\n| 2762315 | 2678 | 0.05401863 | var_imp_shrub_and_scrub    |\n| 2762315 | 2678 | 0.17380199 | var_imp_built              |\n| 2762315 | 2678 | 0.08250781 | var_imp_bare               |\n| 2762315 | 2678 | 0.99867462 | var_imp_snow_and_ice       |\n| 2762315 | 2678 | 0.63731500 | var_imp_elevation          |\n| 2762315 | 2678 | 0.43765580 | var_imp_landform           |\n| 2762315 | 2678 | 0.83194692 | var_imp_SRTM_mTPI          |\n| 2762315 | 2678 | 0.99608934 | var_imp_aet                |\n| 2762315 | 2678 | 0.85197419 | var_imp_def                |\n| 2762315 | 2678 | 0.79984519 | var_imp_pdsi               |\n| 2762315 | 2678 | 0.16458061 | var_imp_pet                |\n| 2762315 | 2678 | 0.34215941 | var_imp_pr                 |\n| 2762315 | 2678 | 0.29231372 | var_imp_ro                 |\n| 2762315 | 2678 | 0.27047718 | var_imp_soil               |\n| 2762315 | 2678 | 0.49414873 | var_imp_srad               |\n| 2762315 | 2678 |        NaN | var_imp_swe                |\n| 2762315 | 2678 | 0.50237824 | var_imp_tmmn               |\n| 2762315 | 2678 | 0.33959746 | var_imp_tmmx               |\n| 2762315 | 2678 | 0.57084284 | var_imp_vap                |\n| 2762315 | 2678 | 0.36060660 | var_imp_vpd                |\n| 2762315 | 2678 | 0.67377540 | var_imp_vs                 |\n| 2762315 | 2678 | 0.43948418 | var_imp_agbd_m             |\n| 2762315 | 2678 | 0.83465407 | var_imp_agbd_sd            |\n| 2762315 | 2678 | 0.99091172 | var_imp_agbd_n             |\n| 2762315 | 2678 | 0.29078468 | var_imp_majorcomposition   |\n| 2762315 | 2678 | 0.23450653 | var_imp_age_years          |\n| 2762315 | 2678 | 0.82571286 | var_imp_age_class          |\n\n",
            "text/latex": "A data.table: 32 × 4\n\\begin{tabular}{llll}\n id & PLOT & p\\_value & variable\\\\\n <dbl> & <chr> & <dbl> & <chr>\\\\\n\\hline\n\t 2762315 & 2678 & 0.54546297 & var\\_imp\\_water             \\\\\n\t 2762315 & 2678 & 0.04534548 & var\\_imp\\_trees             \\\\\n\t 2762315 & 2678 & 0.25043140 & var\\_imp\\_grass             \\\\\n\t 2762315 & 2678 & 0.52329353 & var\\_imp\\_flooded\\_vegetation\\\\\n\t 2762315 & 2678 & 0.89326437 & var\\_imp\\_crops             \\\\\n\t 2762315 & 2678 & 0.05401863 & var\\_imp\\_shrub\\_and\\_scrub   \\\\\n\t 2762315 & 2678 & 0.17380199 & var\\_imp\\_built             \\\\\n\t 2762315 & 2678 & 0.08250781 & var\\_imp\\_bare              \\\\\n\t 2762315 & 2678 & 0.99867462 & var\\_imp\\_snow\\_and\\_ice      \\\\\n\t 2762315 & 2678 & 0.63731500 & var\\_imp\\_elevation         \\\\\n\t 2762315 & 2678 & 0.43765580 & var\\_imp\\_landform          \\\\\n\t 2762315 & 2678 & 0.83194692 & var\\_imp\\_SRTM\\_mTPI         \\\\\n\t 2762315 & 2678 & 0.99608934 & var\\_imp\\_aet               \\\\\n\t 2762315 & 2678 & 0.85197419 & var\\_imp\\_def               \\\\\n\t 2762315 & 2678 & 0.79984519 & var\\_imp\\_pdsi              \\\\\n\t 2762315 & 2678 & 0.16458061 & var\\_imp\\_pet               \\\\\n\t 2762315 & 2678 & 0.34215941 & var\\_imp\\_pr                \\\\\n\t 2762315 & 2678 & 0.29231372 & var\\_imp\\_ro                \\\\\n\t 2762315 & 2678 & 0.27047718 & var\\_imp\\_soil              \\\\\n\t 2762315 & 2678 & 0.49414873 & var\\_imp\\_srad              \\\\\n\t 2762315 & 2678 &        NaN & var\\_imp\\_swe               \\\\\n\t 2762315 & 2678 & 0.50237824 & var\\_imp\\_tmmn              \\\\\n\t 2762315 & 2678 & 0.33959746 & var\\_imp\\_tmmx              \\\\\n\t 2762315 & 2678 & 0.57084284 & var\\_imp\\_vap               \\\\\n\t 2762315 & 2678 & 0.36060660 & var\\_imp\\_vpd               \\\\\n\t 2762315 & 2678 & 0.67377540 & var\\_imp\\_vs                \\\\\n\t 2762315 & 2678 & 0.43948418 & var\\_imp\\_agbd\\_m            \\\\\n\t 2762315 & 2678 & 0.83465407 & var\\_imp\\_agbd\\_sd           \\\\\n\t 2762315 & 2678 & 0.99091172 & var\\_imp\\_agbd\\_n            \\\\\n\t 2762315 & 2678 & 0.29078468 & var\\_imp\\_majorcomposition  \\\\\n\t 2762315 & 2678 & 0.23450653 & var\\_imp\\_age\\_years         \\\\\n\t 2762315 & 2678 & 0.82571286 & var\\_imp\\_age\\_class         \\\\\n\\end{tabular}\n",
            "text/plain": [
              "   id      PLOT p_value    variable                  \n",
              "1  2762315 2678 0.54546297 var_imp_water             \n",
              "2  2762315 2678 0.04534548 var_imp_trees             \n",
              "3  2762315 2678 0.25043140 var_imp_grass             \n",
              "4  2762315 2678 0.52329353 var_imp_flooded_vegetation\n",
              "5  2762315 2678 0.89326437 var_imp_crops             \n",
              "6  2762315 2678 0.05401863 var_imp_shrub_and_scrub   \n",
              "7  2762315 2678 0.17380199 var_imp_built             \n",
              "8  2762315 2678 0.08250781 var_imp_bare              \n",
              "9  2762315 2678 0.99867462 var_imp_snow_and_ice      \n",
              "10 2762315 2678 0.63731500 var_imp_elevation         \n",
              "11 2762315 2678 0.43765580 var_imp_landform          \n",
              "12 2762315 2678 0.83194692 var_imp_SRTM_mTPI         \n",
              "13 2762315 2678 0.99608934 var_imp_aet               \n",
              "14 2762315 2678 0.85197419 var_imp_def               \n",
              "15 2762315 2678 0.79984519 var_imp_pdsi              \n",
              "16 2762315 2678 0.16458061 var_imp_pet               \n",
              "17 2762315 2678 0.34215941 var_imp_pr                \n",
              "18 2762315 2678 0.29231372 var_imp_ro                \n",
              "19 2762315 2678 0.27047718 var_imp_soil              \n",
              "20 2762315 2678 0.49414873 var_imp_srad              \n",
              "21 2762315 2678        NaN var_imp_swe               \n",
              "22 2762315 2678 0.50237824 var_imp_tmmn              \n",
              "23 2762315 2678 0.33959746 var_imp_tmmx              \n",
              "24 2762315 2678 0.57084284 var_imp_vap               \n",
              "25 2762315 2678 0.36060660 var_imp_vpd               \n",
              "26 2762315 2678 0.67377540 var_imp_vs                \n",
              "27 2762315 2678 0.43948418 var_imp_agbd_m            \n",
              "28 2762315 2678 0.83465407 var_imp_agbd_sd           \n",
              "29 2762315 2678 0.99091172 var_imp_agbd_n            \n",
              "30 2762315 2678 0.29078468 var_imp_majorcomposition  \n",
              "31 2762315 2678 0.23450653 var_imp_age_years         \n",
              "32 2762315 2678 0.82571286 var_imp_age_class         "
            ]
          },
          "metadata": {}
        }
      ]
    },
    {
      "cell_type": "code",
      "source": [
        "grid_dt %>% names"
      ],
      "metadata": {
        "id": "g3iB3POm0MX8",
        "outputId": "a72f511f-12f4-4bac-df97-82ae0fbb0e61",
        "colab": {
          "base_uri": "https://localhost:8080/",
          "height": 69
        }
      },
      "execution_count": 63,
      "outputs": [
        {
          "output_type": "display_data",
          "data": {
            "text/html": [
              "<style>\n",
              ".list-inline {list-style: none; margin:0; padding: 0}\n",
              ".list-inline>li {display: inline-block}\n",
              ".list-inline>li:not(:last-child)::after {content: \"\\00b7\"; padding: 0 .5ex}\n",
              "</style>\n",
              "<ol class=list-inline><li>'id'</li><li>'left'</li><li>'top'</li><li>'right'</li><li>'bottom'</li><li>'water'</li><li>'trees'</li><li>'grass'</li><li>'flooded_vegetation'</li><li>'crops'</li><li>'shrub_and_scrub'</li><li>'built'</li><li>'bare'</li><li>'snow_and_ice'</li><li>'max'</li><li>'elevation'</li><li>'landform'</li><li>'SRTM_mTPI'</li><li>'aet'</li><li>'def'</li><li>'pdsi'</li><li>'pet'</li><li>'pr'</li><li>'ro'</li><li>'soil'</li><li>'srad'</li><li>'swe'</li><li>'tmmn'</li><li>'tmmx'</li><li>'vap'</li><li>'vpd'</li><li>'vs'</li><li>'agbd_m'</li><li>'agbd_sd'</li><li>'agbd_n'</li><li>'geom'</li></ol>\n"
            ],
            "text/markdown": "1. 'id'\n2. 'left'\n3. 'top'\n4. 'right'\n5. 'bottom'\n6. 'water'\n7. 'trees'\n8. 'grass'\n9. 'flooded_vegetation'\n10. 'crops'\n11. 'shrub_and_scrub'\n12. 'built'\n13. 'bare'\n14. 'snow_and_ice'\n15. 'max'\n16. 'elevation'\n17. 'landform'\n18. 'SRTM_mTPI'\n19. 'aet'\n20. 'def'\n21. 'pdsi'\n22. 'pet'\n23. 'pr'\n24. 'ro'\n25. 'soil'\n26. 'srad'\n27. 'swe'\n28. 'tmmn'\n29. 'tmmx'\n30. 'vap'\n31. 'vpd'\n32. 'vs'\n33. 'agbd_m'\n34. 'agbd_sd'\n35. 'agbd_n'\n36. 'geom'\n\n\n",
            "text/latex": "\\begin{enumerate*}\n\\item 'id'\n\\item 'left'\n\\item 'top'\n\\item 'right'\n\\item 'bottom'\n\\item 'water'\n\\item 'trees'\n\\item 'grass'\n\\item 'flooded\\_vegetation'\n\\item 'crops'\n\\item 'shrub\\_and\\_scrub'\n\\item 'built'\n\\item 'bare'\n\\item 'snow\\_and\\_ice'\n\\item 'max'\n\\item 'elevation'\n\\item 'landform'\n\\item 'SRTM\\_mTPI'\n\\item 'aet'\n\\item 'def'\n\\item 'pdsi'\n\\item 'pet'\n\\item 'pr'\n\\item 'ro'\n\\item 'soil'\n\\item 'srad'\n\\item 'swe'\n\\item 'tmmn'\n\\item 'tmmx'\n\\item 'vap'\n\\item 'vpd'\n\\item 'vs'\n\\item 'agbd\\_m'\n\\item 'agbd\\_sd'\n\\item 'agbd\\_n'\n\\item 'geom'\n\\end{enumerate*}\n",
            "text/plain": [
              " [1] \"id\"                 \"left\"               \"top\"               \n",
              " [4] \"right\"              \"bottom\"             \"water\"             \n",
              " [7] \"trees\"              \"grass\"              \"flooded_vegetation\"\n",
              "[10] \"crops\"              \"shrub_and_scrub\"    \"built\"             \n",
              "[13] \"bare\"               \"snow_and_ice\"       \"max\"               \n",
              "[16] \"elevation\"          \"landform\"           \"SRTM_mTPI\"         \n",
              "[19] \"aet\"                \"def\"                \"pdsi\"              \n",
              "[22] \"pet\"                \"pr\"                 \"ro\"                \n",
              "[25] \"soil\"               \"srad\"               \"swe\"               \n",
              "[28] \"tmmn\"               \"tmmx\"               \"vap\"               \n",
              "[31] \"vpd\"                \"vs\"                 \"agbd_m\"            \n",
              "[34] \"agbd_sd\"            \"agbd_n\"             \"geom\"              "
            ]
          },
          "metadata": {}
        }
      ]
    },
    {
      "cell_type": "code",
      "source": [
        "# out_dt <- data.table(var_imp_dt,sim_summary_dt[match(var_imp_dt$id,sim_summary_dt$id)])\n",
        "out_dt <- data.table(var_imp_dt,grid_dt[,c('geom')][match(var_imp_dt$id,grid_dt$id)])"
      ],
      "metadata": {
        "id": "tDSLomPaFBt4"
      },
      "execution_count": 64,
      "outputs": []
    },
    {
      "cell_type": "code",
      "source": [
        "out_dt[,bonferroni:=p_value*30]"
      ],
      "metadata": {
        "id": "2QPXHgSxppws"
      },
      "execution_count": 65,
      "outputs": []
    },
    {
      "cell_type": "code",
      "source": [
        "out_dt$p_value <- out_dt$p_value %>% unlist"
      ],
      "metadata": {
        "id": "9MSkigkuGEUG"
      },
      "execution_count": 66,
      "outputs": []
    },
    {
      "cell_type": "code",
      "source": [
        "out_dt[PLOT==4791 &p_value <0.2][,list(p_value = mean(p_value)),by=variable]"
      ],
      "metadata": {
        "colab": {
          "base_uri": "https://localhost:8080/",
          "height": 1000
        },
        "id": "KxGVgkMqrSMj",
        "outputId": "751534ac-f420-4ada-ea23-2950d76c7c7f"
      },
      "execution_count": 89,
      "outputs": [
        {
          "output_type": "display_data",
          "data": {
            "text/html": [
              "<table class=\"dataframe\">\n",
              "<caption>A data.table: 31 × 2</caption>\n",
              "<thead>\n",
              "\t<tr><th scope=col>variable</th><th scope=col>p_value</th></tr>\n",
              "\t<tr><th scope=col>&lt;chr&gt;</th><th scope=col>&lt;dbl&gt;</th></tr>\n",
              "</thead>\n",
              "<tbody>\n",
              "\t<tr><td>var_imp_water             </td><td>0.06861381</td></tr>\n",
              "\t<tr><td>var_imp_trees             </td><td>0.10117101</td></tr>\n",
              "\t<tr><td>var_imp_grass             </td><td>0.07374218</td></tr>\n",
              "\t<tr><td>var_imp_flooded_vegetation</td><td>0.09279270</td></tr>\n",
              "\t<tr><td>var_imp_built             </td><td>0.07514061</td></tr>\n",
              "\t<tr><td>var_imp_bare              </td><td>0.07954694</td></tr>\n",
              "\t<tr><td>var_imp_elevation         </td><td>0.07304669</td></tr>\n",
              "\t<tr><td>var_imp_pdsi              </td><td>0.09252228</td></tr>\n",
              "\t<tr><td>var_imp_pr                </td><td>0.06615926</td></tr>\n",
              "\t<tr><td>var_imp_ro                </td><td>0.06585631</td></tr>\n",
              "\t<tr><td>var_imp_soil              </td><td>0.07932617</td></tr>\n",
              "\t<tr><td>var_imp_srad              </td><td>0.07885450</td></tr>\n",
              "\t<tr><td>var_imp_tmmn              </td><td>0.08437231</td></tr>\n",
              "\t<tr><td>var_imp_agbd_m            </td><td>0.09000124</td></tr>\n",
              "\t<tr><td>var_imp_agbd_sd           </td><td>0.10463782</td></tr>\n",
              "\t<tr><td>var_imp_agbd_n            </td><td>0.06936796</td></tr>\n",
              "\t<tr><td>var_imp_shrub_and_scrub   </td><td>0.08899861</td></tr>\n",
              "\t<tr><td>var_imp_SRTM_mTPI         </td><td>0.08390324</td></tr>\n",
              "\t<tr><td>var_imp_def               </td><td>0.08178271</td></tr>\n",
              "\t<tr><td>var_imp_majorcomposition  </td><td>0.08901651</td></tr>\n",
              "\t<tr><td>var_imp_age_years         </td><td>0.08008925</td></tr>\n",
              "\t<tr><td>var_imp_snow_and_ice      </td><td>0.09080646</td></tr>\n",
              "\t<tr><td>var_imp_aet               </td><td>0.07926914</td></tr>\n",
              "\t<tr><td>var_imp_pet               </td><td>0.08646964</td></tr>\n",
              "\t<tr><td>var_imp_tmmx              </td><td>0.08656853</td></tr>\n",
              "\t<tr><td>var_imp_vap               </td><td>0.07835578</td></tr>\n",
              "\t<tr><td>var_imp_vs                </td><td>0.09285274</td></tr>\n",
              "\t<tr><td>var_imp_crops             </td><td>0.07634873</td></tr>\n",
              "\t<tr><td>var_imp_landform          </td><td>0.06376973</td></tr>\n",
              "\t<tr><td>var_imp_age_class         </td><td>0.09247036</td></tr>\n",
              "\t<tr><td>var_imp_vpd               </td><td>0.08022691</td></tr>\n",
              "</tbody>\n",
              "</table>\n"
            ],
            "text/markdown": "\nA data.table: 31 × 2\n\n| variable &lt;chr&gt; | p_value &lt;dbl&gt; |\n|---|---|\n| var_imp_water              | 0.06861381 |\n| var_imp_trees              | 0.10117101 |\n| var_imp_grass              | 0.07374218 |\n| var_imp_flooded_vegetation | 0.09279270 |\n| var_imp_built              | 0.07514061 |\n| var_imp_bare               | 0.07954694 |\n| var_imp_elevation          | 0.07304669 |\n| var_imp_pdsi               | 0.09252228 |\n| var_imp_pr                 | 0.06615926 |\n| var_imp_ro                 | 0.06585631 |\n| var_imp_soil               | 0.07932617 |\n| var_imp_srad               | 0.07885450 |\n| var_imp_tmmn               | 0.08437231 |\n| var_imp_agbd_m             | 0.09000124 |\n| var_imp_agbd_sd            | 0.10463782 |\n| var_imp_agbd_n             | 0.06936796 |\n| var_imp_shrub_and_scrub    | 0.08899861 |\n| var_imp_SRTM_mTPI          | 0.08390324 |\n| var_imp_def                | 0.08178271 |\n| var_imp_majorcomposition   | 0.08901651 |\n| var_imp_age_years          | 0.08008925 |\n| var_imp_snow_and_ice       | 0.09080646 |\n| var_imp_aet                | 0.07926914 |\n| var_imp_pet                | 0.08646964 |\n| var_imp_tmmx               | 0.08656853 |\n| var_imp_vap                | 0.07835578 |\n| var_imp_vs                 | 0.09285274 |\n| var_imp_crops              | 0.07634873 |\n| var_imp_landform           | 0.06376973 |\n| var_imp_age_class          | 0.09247036 |\n| var_imp_vpd                | 0.08022691 |\n\n",
            "text/latex": "A data.table: 31 × 2\n\\begin{tabular}{ll}\n variable & p\\_value\\\\\n <chr> & <dbl>\\\\\n\\hline\n\t var\\_imp\\_water              & 0.06861381\\\\\n\t var\\_imp\\_trees              & 0.10117101\\\\\n\t var\\_imp\\_grass              & 0.07374218\\\\\n\t var\\_imp\\_flooded\\_vegetation & 0.09279270\\\\\n\t var\\_imp\\_built              & 0.07514061\\\\\n\t var\\_imp\\_bare               & 0.07954694\\\\\n\t var\\_imp\\_elevation          & 0.07304669\\\\\n\t var\\_imp\\_pdsi               & 0.09252228\\\\\n\t var\\_imp\\_pr                 & 0.06615926\\\\\n\t var\\_imp\\_ro                 & 0.06585631\\\\\n\t var\\_imp\\_soil               & 0.07932617\\\\\n\t var\\_imp\\_srad               & 0.07885450\\\\\n\t var\\_imp\\_tmmn               & 0.08437231\\\\\n\t var\\_imp\\_agbd\\_m             & 0.09000124\\\\\n\t var\\_imp\\_agbd\\_sd            & 0.10463782\\\\\n\t var\\_imp\\_agbd\\_n             & 0.06936796\\\\\n\t var\\_imp\\_shrub\\_and\\_scrub    & 0.08899861\\\\\n\t var\\_imp\\_SRTM\\_mTPI          & 0.08390324\\\\\n\t var\\_imp\\_def                & 0.08178271\\\\\n\t var\\_imp\\_majorcomposition   & 0.08901651\\\\\n\t var\\_imp\\_age\\_years          & 0.08008925\\\\\n\t var\\_imp\\_snow\\_and\\_ice       & 0.09080646\\\\\n\t var\\_imp\\_aet                & 0.07926914\\\\\n\t var\\_imp\\_pet                & 0.08646964\\\\\n\t var\\_imp\\_tmmx               & 0.08656853\\\\\n\t var\\_imp\\_vap                & 0.07835578\\\\\n\t var\\_imp\\_vs                 & 0.09285274\\\\\n\t var\\_imp\\_crops              & 0.07634873\\\\\n\t var\\_imp\\_landform           & 0.06376973\\\\\n\t var\\_imp\\_age\\_class          & 0.09247036\\\\\n\t var\\_imp\\_vpd                & 0.08022691\\\\\n\\end{tabular}\n",
            "text/plain": [
              "   variable                   p_value   \n",
              "1  var_imp_water              0.06861381\n",
              "2  var_imp_trees              0.10117101\n",
              "3  var_imp_grass              0.07374218\n",
              "4  var_imp_flooded_vegetation 0.09279270\n",
              "5  var_imp_built              0.07514061\n",
              "6  var_imp_bare               0.07954694\n",
              "7  var_imp_elevation          0.07304669\n",
              "8  var_imp_pdsi               0.09252228\n",
              "9  var_imp_pr                 0.06615926\n",
              "10 var_imp_ro                 0.06585631\n",
              "11 var_imp_soil               0.07932617\n",
              "12 var_imp_srad               0.07885450\n",
              "13 var_imp_tmmn               0.08437231\n",
              "14 var_imp_agbd_m             0.09000124\n",
              "15 var_imp_agbd_sd            0.10463782\n",
              "16 var_imp_agbd_n             0.06936796\n",
              "17 var_imp_shrub_and_scrub    0.08899861\n",
              "18 var_imp_SRTM_mTPI          0.08390324\n",
              "19 var_imp_def                0.08178271\n",
              "20 var_imp_majorcomposition   0.08901651\n",
              "21 var_imp_age_years          0.08008925\n",
              "22 var_imp_snow_and_ice       0.09080646\n",
              "23 var_imp_aet                0.07926914\n",
              "24 var_imp_pet                0.08646964\n",
              "25 var_imp_tmmx               0.08656853\n",
              "26 var_imp_vap                0.07835578\n",
              "27 var_imp_vs                 0.09285274\n",
              "28 var_imp_crops              0.07634873\n",
              "29 var_imp_landform           0.06376973\n",
              "30 var_imp_age_class          0.09247036\n",
              "31 var_imp_vpd                0.08022691"
            ]
          },
          "metadata": {}
        }
      ]
    },
    {
      "cell_type": "code",
      "source": [
        "# short_out_dt[!is.na(var_imp_aet),]"
      ],
      "metadata": {
        "id": "zhnfNW4o0p6g"
      },
      "execution_count": 79,
      "outputs": []
    },
    {
      "cell_type": "code",
      "source": [
        "short_out_dt <- dcast(out_dt, id  + PLOT~ variable,value.var='bonferroni', drop=FALSE)\n",
        "short_out_dt <-short_out_dt[!is.na(var_imp_aet),]"
      ],
      "metadata": {
        "id": "0mOkIF47rJPU"
      },
      "execution_count": 81,
      "outputs": []
    },
    {
      "cell_type": "code",
      "source": [
        "good_set <- out_dt[,list(bonferroni_20 = mean(bonferroni[bonferroni<.2],na.rm=T),n=length(bonferroni[bonferroni<.05])),by = .(PLOT,variable)][!is.na(bonferroni_20)]$PLOT %>% unique"
      ],
      "metadata": {
        "id": "BqKvjGhg4qhK"
      },
      "execution_count": 102,
      "outputs": []
    },
    {
      "cell_type": "code",
      "source": [
        "fia_dt[PLOT %in% good_set] %>%\n",
        "  ggplot(aes(x=Stock_SOC_Mg_Ha))+\n",
        "  geom_histogram()"
      ],
      "metadata": {
        "id": "Qlns0YTO7ByC",
        "outputId": "9eb2c6ba-70e1-40eb-ef4f-17dd325a8254",
        "colab": {
          "base_uri": "https://localhost:8080/",
          "height": 455
        }
      },
      "execution_count": 104,
      "outputs": [
        {
          "output_type": "stream",
          "name": "stderr",
          "text": [
            "\u001b[1m\u001b[22m`stat_bin()` using `bins = 30`. Pick better value with `binwidth`.\n"
          ]
        },
        {
          "output_type": "display_data",
          "data": {
            "text/plain": [
              "plot without title"
            ],
            "image/png": "[encoded data removed]"
          },
          "metadata": {
            "image/png": {
              "width": 420,
              "height": 420
            }
          }
        }
      ]
    },
    {
      "cell_type": "code",
      "source": [
        "fia_dt[PLOT %in% good_set]$Stock_SOC_Mg_Ha %>% mean(na.rm=T)"
      ],
      "metadata": {
        "id": "SVPLbJGj7OSZ",
        "outputId": "dd823183-0557-4410-a74b-8629be6daf13",
        "colab": {
          "base_uri": "https://localhost:8080/",
          "height": 34
        }
      },
      "execution_count": 106,
      "outputs": [
        {
          "output_type": "display_data",
          "data": {
            "text/html": [
              "190.282231863949"
            ],
            "text/markdown": "190.282231863949",
            "text/latex": "190.282231863949",
            "text/plain": [
              "[1] 190.2822"
            ]
          },
          "metadata": {}
        }
      ]
    },
    {
      "cell_type": "code",
      "source": [
        "fia_dt %>%\n",
        "  ggplot(aes(x=Stock_SOC_Mg_Ha))+\n",
        "  geom_histogram()"
      ],
      "metadata": {
        "id": "w2dtAHQe63ke",
        "outputId": "c6c9993d-135f-465c-e4ec-8eb3a05c2d9b",
        "colab": {
          "base_uri": "https://localhost:8080/",
          "height": 490
        }
      },
      "execution_count": 103,
      "outputs": [
        {
          "output_type": "stream",
          "name": "stderr",
          "text": [
            "\u001b[1m\u001b[22m`stat_bin()` using `bins = 30`. Pick better value with `binwidth`.\n",
            "Warning message:\n",
            "“\u001b[1m\u001b[22mRemoved 1 rows containing non-finite values (`stat_bin()`).”\n"
          ]
        },
        {
          "output_type": "display_data",
          "data": {
            "text/plain": [
              "plot without title"
            ],
            "image/png": "[encoded data removed]"
          },
          "metadata": {
            "image/png": {
              "width": 420,
              "height": 420
            }
          }
        }
      ]
    },
    {
      "cell_type": "code",
      "source": [
        "short_out_dt <- data.table(short_out_dt,grid_dt[,c('geom')][match(short_out_dt$id,grid_dt$id)])"
      ],
      "metadata": {
        "id": "Vcb9nHVt0kO5"
      },
      "execution_count": 82,
      "outputs": []
    },
    {
      "cell_type": "code",
      "source": [
        "short_out_dt %>% st_as_sf %>% st_write('bonferroni_adj.gpkg')"
      ],
      "metadata": {
        "colab": {
          "base_uri": "https://localhost:8080/"
        },
        "id": "0KA7fcV3wVH9",
        "outputId": "8aece7da-a5ae-4f54-d949-87e5fae527e3"
      },
      "execution_count": 85,
      "outputs": [
        {
          "output_type": "stream",
          "name": "stdout",
          "text": [
            "Writing layer `bonferroni_adj' to data source \n",
            "  `bonferroni_adj.gpkg' using driver `GPKG'\n",
            "Writing 75343 features with 34 fields and geometry type Point.\n"
          ]
        }
      ]
    },
    {
      "cell_type": "code",
      "source": [
        "cols_to_consider <- names(short_out_dt)[]\n",
        "\n",
        "\n",
        "# Assuming 'short_out_dt' is your data.table\n",
        "# Define the columns you want to consider for finding the max value by their indices\n",
        "cols_to_consider_indices <- 3:(ncol(short_out_dt)-1) # Replace with actual indices of Var3, Var5, Var7\n",
        "short_out_dt$max_col <-\n",
        "1:nrow(short_out_dt) %>% lapply(function(x){\n",
        "if(is.na(short_out_dt[x,cols_to_consider_indices,with=F] %>% unlist) %>% all){return(NA)}\n",
        "short_out_dt[x,cols_to_consider_indices,with=F] %>% unlist %>% which.min( ) %>% names}) %>% unlist"
      ],
      "metadata": {
        "id": "eEeHNqq5sQiQ"
      },
      "execution_count": null,
      "outputs": []
    },
    {
      "cell_type": "code",
      "source": [
        "short_out_dt %>% st_write('max_col_p.gpkg')"
      ],
      "metadata": {
        "id": "vJhqaw2SyWg3"
      },
      "execution_count": null,
      "outputs": []
    },
    {
      "cell_type": "code",
      "source": [
        "short_out_dt"
      ],
      "metadata": {
        "id": "vh8jc2vQw0fR"
      },
      "execution_count": null,
      "outputs": []
    },
    {
      "cell_type": "code",
      "source": [
        "short_out_dt %>%\n",
        "  ggplot(aes(x=1:nrow(short_out_dt),y=soil))+\n",
        "  geom_line()"
      ],
      "metadata": {
        "id": "mx2dDqIMwmH6"
      },
      "execution_count": null,
      "outputs": []
    },
    {
      "cell_type": "code",
      "source": [
        "out_dt[bonferroni <= .05]$variable %>% table"
      ],
      "metadata": {
        "id": "5AP6xor8JZ55"
      },
      "execution_count": null,
      "outputs": []
    },
    {
      "cell_type": "code",
      "source": [],
      "metadata": {
        "id": "j5zr7_HMp3ZP"
      },
      "execution_count": null,
      "outputs": []
    },
    {
      "cell_type": "code",
      "source": [
        "out_dt[bonferroni<= 0.1] %>%\n",
        "  ggplot(aes(x= variable %>% factor))+\n",
        "  geom_bar()\n",
        "  # geom_smooth(method='lm')"
      ],
      "metadata": {
        "id": "R2Gs7h8_Rk5V"
      },
      "execution_count": null,
      "outputs": []
    },
    {
      "cell_type": "code",
      "source": [
        "data.table(out_dt) %>% st_as_sf() %>% st_write('/content/plot_sig_variables.gpkg',delete_dsn=T)"
      ],
      "metadata": {
        "id": "5ilpqA4nE-f3"
      },
      "execution_count": null,
      "outputs": []
    },
    {
      "cell_type": "code",
      "source": [
        "# sim_dt[id ==2222069  ]\n",
        "# 1850844\n",
        "# sqrt(((Stock_SOC_Mg_Ha-predicted)/Stock_SOC_Mg_Ha)^2)<0.05\n",
        "sim_dt[id ==2952969  & sqrt(((Stock_SOC_Mg_Ha-predicted)/Stock_SOC_Mg_Ha)^2)<0.05] %>%\n",
        "  ggplot(aes(x=Stock_SOC_Mg_Ha)) +\n",
        "  geom_histogram()\n",
        "  # print()"
      ],
      "metadata": {
        "id": "FB2Kru8Fcdpi"
      },
      "execution_count": null,
      "outputs": []
    },
    {
      "cell_type": "code",
      "source": [
        "sim_dt %>%\n",
        "  ggplot(aes(y=Stock_SOC_Mg_Ha,x=r2))+\n",
        "    geom_bin2d()\n",
        "    # geom_smooth()"
      ],
      "metadata": {
        "id": "Kdno5JZ0Yev5"
      },
      "execution_count": null,
      "outputs": []
    },
    {
      "cell_type": "code",
      "source": [
        "# Load the necessary library\n",
        "library(repr)\n",
        "\n",
        "# Adjust width and height of plots\n",
        "options(repr.plot.width=20, repr.plot.height=8)"
      ],
      "metadata": {
        "id": "ysaNMETsScgE"
      },
      "execution_count": null,
      "outputs": []
    },
    {
      "cell_type": "code",
      "source": [],
      "metadata": {
        "id": "qsoXgH7N44kI"
      },
      "execution_count": null,
      "outputs": []
    }
  ]
}