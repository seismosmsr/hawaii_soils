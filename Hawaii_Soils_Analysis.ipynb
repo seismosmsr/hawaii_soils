{
  "nbformat": 4,
  "nbformat_minor": 0,
  "metadata": {
    "colab": {
      "provenance": [],
      "machine_shape": "hm",
      "authorship_tag": "ABX9TyPiLt04NII3pOzOlyOeJ4i5",
      "include_colab_link": true
    },
    "kernelspec": {
      "name": "ir",
      "display_name": "R"
    },
    "language_info": {
      "name": "R"
    }
  },
  "cells": [
    {
      "cell_type": "markdown",
      "metadata": {
        "id": "view-in-github",
        "colab_type": "text"
      },
      "source": [
        "<a href=\"https://colab.research.google.com/github/seismosmsr/hawaii_soils/blob/main/Hawaii_Soils_Analysis.ipynb\" target=\"_parent\"><img src=\"https://colab.research.google.com/assets/colab-badge.svg\" alt=\"Open In Colab\"/></a>"
      ]
    },
    {
      "cell_type": "code",
      "execution_count": 1,
      "metadata": {
        "colab": {
          "base_uri": "https://localhost:8080/"
        },
        "id": "w3b2Yt1zzBa4",
        "outputId": "2260958e-f00f-4ff8-946d-467d5dc09a2d"
      },
      "outputs": [
        {
          "output_type": "stream",
          "name": "stderr",
          "text": [
            "Installing package into ‘/usr/local/lib/R/site-library’\n",
            "(as ‘lib’ is unspecified)\n",
            "\n",
            "also installing the dependencies ‘proxy’, ‘e1071’, ‘wk’, ‘classInt’, ‘Rcpp’, ‘s2’, ‘units’\n",
            "\n",
            "\n",
            "Installing package into ‘/usr/local/lib/R/site-library’\n",
            "(as ‘lib’ is unspecified)\n",
            "\n",
            "also installing the dependencies ‘sp’, ‘terra’\n",
            "\n",
            "\n",
            "Installing package into ‘/usr/local/lib/R/site-library’\n",
            "(as ‘lib’ is unspecified)\n",
            "\n",
            "Installing package into ‘/usr/local/lib/R/site-library’\n",
            "(as ‘lib’ is unspecified)\n",
            "\n",
            "Installing package into ‘/usr/local/lib/R/site-library’\n",
            "(as ‘lib’ is unspecified)\n",
            "\n",
            "Warning message:\n",
            "“package ‘googletoken’ is not available for this version of R\n",
            "\n",
            "A version of this package for your version of R might be available elsewhere,\n",
            "see the ideas at\n",
            "https://cran.r-project.org/doc/manuals/r-patched/R-admin.html#Installing-packages”\n",
            "Installing package into ‘/usr/local/lib/R/site-library’\n",
            "(as ‘lib’ is unspecified)\n",
            "\n",
            "Installing package into ‘/usr/local/lib/R/site-library’\n",
            "(as ‘lib’ is unspecified)\n",
            "\n",
            "also installing the dependency ‘plogr’\n",
            "\n",
            "\n",
            "Installing package into ‘/usr/local/lib/R/site-library’\n",
            "(as ‘lib’ is unspecified)\n",
            "\n",
            "Installing package into ‘/usr/local/lib/R/site-library’\n",
            "(as ‘lib’ is unspecified)\n",
            "\n",
            "Installing package into ‘/usr/local/lib/R/site-library’\n",
            "(as ‘lib’ is unspecified)\n",
            "\n"
          ]
        }
      ],
      "source": [
        "install.packages('sf')\n",
        "install.packages('raster')\n",
        "install.packages('exactextractr')\n",
        "install.packages(\"googledrive\")\n",
        "install.packages(\"googletoken\")\n",
        "install.packages(\"DBI\")\n",
        "install.packages(\"RSQLite\")\n",
        "install.packages(\"RPostgreSQL\")\n",
        "install.packages(\"terra\")\n",
        "install.packages('randomForest')"
      ]
    },
    {
      "cell_type": "code",
      "source": [
        "library(ggplot2)\n",
        "library(sf)\n",
        "library(magrittr)\n",
        "library(data.table)\n",
        "library(raster)\n",
        "library(exactextractr)\n",
        "library(googledrive)\n",
        "library(DBI)\n",
        "library(terra)\n",
        "library(randomForest)\n",
        "library(parallel)"
      ],
      "metadata": {
        "id": "Jt8zFz1p0QRy",
        "outputId": "5c7a9ab8-a48b-4dd1-e30d-07801faa7bf5",
        "colab": {
          "base_uri": "https://localhost:8080/"
        }
      },
      "execution_count": 2,
      "outputs": [
        {
          "output_type": "stream",
          "name": "stderr",
          "text": [
            "Linking to GEOS 3.10.2, GDAL 3.4.3, PROJ 8.2.1; sf_use_s2() is TRUE\n",
            "\n",
            "Loading required package: sp\n",
            "\n",
            "terra 1.7.55\n",
            "\n",
            "\n",
            "Attaching package: ‘terra’\n",
            "\n",
            "\n",
            "The following object is masked from ‘package:data.table’:\n",
            "\n",
            "    shift\n",
            "\n",
            "\n",
            "The following objects are masked from ‘package:magrittr’:\n",
            "\n",
            "    extract, inset\n",
            "\n",
            "\n",
            "randomForest 4.7-1.1\n",
            "\n",
            "Type rfNews() to see new features/changes/bug fixes.\n",
            "\n",
            "\n",
            "Attaching package: ‘randomForest’\n",
            "\n",
            "\n",
            "The following object is masked from ‘package:ggplot2’:\n",
            "\n",
            "    margin\n",
            "\n",
            "\n"
          ]
        }
      ]
    },
    {
      "cell_type": "code",
      "source": [
        "while(TRUE){}"
      ],
      "metadata": {
        "id": "Z-rVvwdTsUCA"
      },
      "execution_count": 3,
      "outputs": []
    },
    {
      "cell_type": "code",
      "source": [
        "drive_auth(use_oob = TRUE, cache = FALSE)"
      ],
      "metadata": {
        "id": "TIp-5Lr90ULs",
        "outputId": "c7c4580e-1326-4ca4-f190-bce1409cbee0",
        "colab": {
          "base_uri": "https://localhost:8080/"
        }
      },
      "execution_count": 4,
      "outputs": [
        {
          "output_type": "stream",
          "name": "stderr",
          "text": [
            "Please point your browser to the following url: \n",
            "\n",
            "https://accounts.google.com/o/oauth2/v2/auth?client_id=603366585132-frjlouoa3s2ono25d2l9ukvhlsrlnr7k.apps.googleusercontent.com&scope=https%3A%2F%2Fwww.googleapis.com%2Fauth%2Fdrive%20https%3A%2F%2Fwww.googleapis.com%2Fauth%2Fuserinfo.email&redirect_uri=https%3A%2F%2Fwww.tidyverse.org%2Fgoogle-callback%2F&response_type=code&state=af695b2a571741dbe640df6386df8814&access_type=offline&prompt=consent\n",
            "\n"
          ]
        },
        {
          "name": "stdout",
          "output_type": "stream",
          "text": [
            "Enter authorization code: eyJjb2RlIjoiNC8wQWZKb2hYazlDeVh0OWdMN2o1XzNwUUlWMzN6STFyMnk2N3V0SUR0d3pQY05xR1JqS1BqanZxYnNIbW1xbmRiNlpSa1FWQSIsInN0YXRlIjoiYWY2OTViMmE1NzE3NDFkYmU2NDBkZjYzODZkZjg4MTQifQ==\n"
          ]
        }
      ]
    },
    {
      "cell_type": "code",
      "source": [
        "# https://drive.google.com/file/d/1ryTzWz0t9mgI5ynPvMzM21D135dLJvWv/view?usp=drive_link\n",
        "# Updated: https://drive.google.com/file/d/17c3DJcujQ_0MHirG2z2lSU88A0lvjo1C/view?usp=sharing\n",
        "drive_download(as_id('17c3DJcujQ_0MHirG2z2lSU88A0lvjo1C'), path = paste0('/content/fia.csv'), overwrite = TRUE)\n",
        "fia_dt <-  st_read('/content/fia.csv') %>% st_as_sf(coords = c(\"LON\",\"LAT\"), crs = 4326) %>% data.table"
      ],
      "metadata": {
        "id": "GIyOF5ltSRpq",
        "outputId": "d17b981a-8c8b-4e82-a509-435a55645858",
        "colab": {
          "base_uri": "https://localhost:8080/"
        }
      },
      "execution_count": 5,
      "outputs": [
        {
          "output_type": "stream",
          "name": "stderr",
          "text": [
            "File downloaded:\n",
            "\n",
            "• \u001b[36m2023_11_01FIA_soil_subset.csv\u001b[39m \u001b[90m<id: 17c3DJcujQ_0MHirG2z2lSU88A0lvjo1C>\u001b[39m\n",
            "\n",
            "Saved locally as:\n",
            "\n",
            "• \u001b[34m/content/fia.csv\u001b[39m\n",
            "\n"
          ]
        },
        {
          "output_type": "stream",
          "name": "stdout",
          "text": [
            "Reading layer `fia' from data source `/content/fia.csv' using driver `CSV'\n"
          ]
        },
        {
          "output_type": "stream",
          "name": "stderr",
          "text": [
            "Warning message:\n",
            "“no simple feature geometries present: returning a data.frame or tbl_df”\n"
          ]
        }
      ]
    },
    {
      "cell_type": "code",
      "source": [
        "# fia_dt %>% st_as_sf %>% st_write('fia.gpkg')"
      ],
      "metadata": {
        "id": "Xsw6h8Ics4gh"
      },
      "execution_count": 6,
      "outputs": []
    },
    {
      "cell_type": "code",
      "source": [
        "# https://drive.google.com/file/d/1G-qBpO_nzLIHWZQGNyrSutmBonjsrvEJ/view?usp=drive_link\n",
        "drive_download(as_id('1G-qBpO_nzLIHWZQGNyrSutmBonjsrvEJ'), path = \"/content/250_summary_grid_dt.gpkg\", overwrite = TRUE)\n",
        "grid_dt <- st_read(\"/content/250_summary_grid_dt.gpkg\") %>% st_transform(4326) %>% data.table()"
      ],
      "metadata": {
        "id": "6i5eFIGc1vby",
        "outputId": "b34ed4f3-ec4d-47b2-f893-c84ee2762fc5",
        "colab": {
          "base_uri": "https://localhost:8080/"
        }
      },
      "execution_count": 7,
      "outputs": [
        {
          "output_type": "stream",
          "name": "stderr",
          "text": [
            "File downloaded:\n",
            "\n",
            "• \u001b[36m250_summary_grid_full_dt.gpkg\u001b[39m \u001b[90m<id: 1G-qBpO_nzLIHWZQGNyrSutmBonjsrvEJ>\u001b[39m\n",
            "\n",
            "Saved locally as:\n",
            "\n",
            "• \u001b[34m/content/250_summary_grid_dt.gpkg\u001b[39m\n",
            "\n"
          ]
        },
        {
          "output_type": "stream",
          "name": "stdout",
          "text": [
            "Reading layer `250_summary_grid_full_dt' from data source \n",
            "  `/content/250_summary_grid_dt.gpkg' using driver `GPKG'\n",
            "Simple feature collection with 227561 features and 35 fields\n",
            "Geometry type: POINT\n",
            "Dimension:     XY\n",
            "Bounding box:  xmin: 57161.36 ymin: 16952.32 xmax: 572661.4 ymax: 381202.3\n",
            "Projected CRS: NAD_1983_HARN_StatePlane_Hawaii_1_FIPS_5101\n"
          ]
        }
      ]
    },
    {
      "cell_type": "code",
      "source": [
        "print('hello')"
      ],
      "metadata": {
        "colab": {
          "base_uri": "https://localhost:8080/"
        },
        "id": "0fbtvXy0ZYxA",
        "outputId": "f18cc43f-b376-4218-a257-2e017366946a"
      },
      "execution_count": 8,
      "outputs": [
        {
          "output_type": "stream",
          "name": "stdout",
          "text": [
            "[1] \"hello\"\n"
          ]
        }
      ]
    },
    {
      "cell_type": "code",
      "source": [
        "# Simulation data\n",
        "# https://drive.google.com/file/d/1qhDmKW0ufjDraEaJ7vXDYUmHeqPnhmND/view?usp=drive_link\n",
        "drive_download(file = as_id('1qhDmKW0ufjDraEaJ7vXDYUmHeqPnhmND'), path =  '/content/sim_results_Hawaii_Run1.gpkg', overwrite = TRUE)\n",
        "\n",
        "# # # https://drive.google.com/file/d/1ShQ40eYKzUx-geZfm4lTz_YezZRG9qGe/view?usp=drive_link Run 2\n",
        "drive_download(file = as_id('1ShQ40eYKzUx-geZfm4lTz_YezZRG9qGe'), path =  '/content/sim_results_Hawaii_Run2.gpkg', overwrite = TRUE)\n",
        "\n",
        "# # # https://drive.google.com/file/d/1Zr13S1PI2Z782At36qZcCPokYpSCjZNW/view?usp=drive_link Run 3\n",
        "drive_download(file = as_id('1Zr13S1PI2Z782At36qZcCPokYpSCjZNW'), path =  '/content/sim_results_Hawaii_Run3.gpkg', overwrite = TRUE)\n"
      ],
      "metadata": {
        "id": "O0fhKgBSbbbk",
        "outputId": "8b38c6e1-c460-4dd2-df65-964fa1d5885a",
        "colab": {
          "base_uri": "https://localhost:8080/"
        }
      },
      "execution_count": 9,
      "outputs": [
        {
          "output_type": "stream",
          "name": "stderr",
          "text": [
            "File downloaded:\n",
            "\n",
            "• \u001b[36msim_results_Hawaii_10000m_v3_Run1.gpkg\u001b[39m\n",
            "  \u001b[90m<id: 1qhDmKW0ufjDraEaJ7vXDYUmHeqPnhmND>\u001b[39m\n",
            "\n",
            "Saved locally as:\n",
            "\n",
            "• \u001b[34m/content/sim_results_Hawaii_Run1.gpkg\u001b[39m\n",
            "\n",
            "File downloaded:\n",
            "\n",
            "• \u001b[36msim_results_Hawaii_10000m_v3_Run2.gpkg\u001b[39m\n",
            "  \u001b[90m<id: 1ShQ40eYKzUx-geZfm4lTz_YezZRG9qGe>\u001b[39m\n",
            "\n",
            "Saved locally as:\n",
            "\n",
            "• \u001b[34m/content/sim_results_Hawaii_Run2.gpkg\u001b[39m\n",
            "\n",
            "File downloaded:\n",
            "\n",
            "• \u001b[36msim_results_Hawaii_10000m_v3_Run3.gpkg\u001b[39m\n",
            "  \u001b[90m<id: 1Zr13S1PI2Z782At36qZcCPokYpSCjZNW>\u001b[39m\n",
            "\n",
            "Saved locally as:\n",
            "\n",
            "• \u001b[34m/content/sim_results_Hawaii_Run3.gpkg\u001b[39m\n",
            "\n"
          ]
        }
      ]
    },
    {
      "cell_type": "code",
      "source": [
        "sim_dt <- NULL\n",
        "gc()"
      ],
      "metadata": {
        "colab": {
          "base_uri": "https://localhost:8080/",
          "height": 129
        },
        "id": "UoZxqiTKqb8B",
        "outputId": "755cad18-ccae-4157-8d99-fc71fe8b3895"
      },
      "execution_count": 10,
      "outputs": [
        {
          "output_type": "display_data",
          "data": {
            "text/html": [
              "<table class=\"dataframe\">\n",
              "<caption>A matrix: 2 × 6 of type dbl</caption>\n",
              "<thead>\n",
              "\t<tr><th></th><th scope=col>used</th><th scope=col>(Mb)</th><th scope=col>gc trigger</th><th scope=col>(Mb)</th><th scope=col>max used</th><th scope=col>(Mb)</th></tr>\n",
              "</thead>\n",
              "<tbody>\n",
              "\t<tr><th scope=row>Ncells</th><td> 3640867</td><td>194.5</td><td> 6988605</td><td>373.3</td><td> 6988605</td><td>373.3</td></tr>\n",
              "\t<tr><th scope=row>Vcells</th><td>13566273</td><td>103.6</td><td>39703977</td><td>303.0</td><td>33320350</td><td>254.3</td></tr>\n",
              "</tbody>\n",
              "</table>\n"
            ],
            "text/markdown": "\nA matrix: 2 × 6 of type dbl\n\n| <!--/--> | used | (Mb) | gc trigger | (Mb) | max used | (Mb) |\n|---|---|---|---|---|---|---|\n| Ncells |  3640867 | 194.5 |  6988605 | 373.3 |  6988605 | 373.3 |\n| Vcells | 13566273 | 103.6 | 39703977 | 303.0 | 33320350 | 254.3 |\n\n",
            "text/latex": "A matrix: 2 × 6 of type dbl\n\\begin{tabular}{r|llllll}\n  & used & (Mb) & gc trigger & (Mb) & max used & (Mb)\\\\\n\\hline\n\tNcells &  3640867 & 194.5 &  6988605 & 373.3 &  6988605 & 373.3\\\\\n\tVcells & 13566273 & 103.6 & 39703977 & 303.0 & 33320350 & 254.3\\\\\n\\end{tabular}\n",
            "text/plain": [
              "       used     (Mb)  gc trigger (Mb)  max used (Mb) \n",
              "Ncells  3640867 194.5  6988605   373.3  6988605 373.3\n",
              "Vcells 13566273 103.6 39703977   303.0 33320350 254.3"
            ]
          },
          "metadata": {}
        }
      ]
    },
    {
      "cell_type": "code",
      "source": [
        "sim_1_dt <- st_read( '/content/sim_results_Hawaii_Run1.gpkg') %>% data.table\n",
        "sim_2_dt <- st_read( '/content/sim_results_Hawaii_Run2.gpkg') %>% data.table\n",
        "sim_3_dt <- st_read( '/content/sim_results_Hawaii_Run3.gpkg') %>% data.table"
      ],
      "metadata": {
        "colab": {
          "base_uri": "https://localhost:8080/"
        },
        "id": "qcOWC2TKb4kS",
        "outputId": "cbf50c41-f5e5-4b1e-efbf-24bd75992834"
      },
      "execution_count": 11,
      "outputs": [
        {
          "output_type": "stream",
          "name": "stdout",
          "text": [
            "Reading layer `sim_results_Hawaii_10000m_v3_Run1' from data source \n",
            "  `/content/sim_results_Hawaii_Run1.gpkg' using driver `GPKG'\n",
            "Simple feature collection with 3410000 features and 79 fields\n",
            "Geometry type: POINT\n",
            "Dimension:     XY\n",
            "Bounding box:  xmin: -156.0017 ymin: 19.0045 xmax: -154.8362 ymax: 20.25088\n",
            "Geodetic CRS:  WGS 84\n",
            "Reading layer `sim_results_Hawaii_10000m_v3_Run2' from data source \n",
            "  `/content/sim_results_Hawaii_Run2.gpkg' using driver `GPKG'\n",
            "Simple feature collection with 3410000 features and 79 fields\n",
            "Geometry type: POINT\n",
            "Dimension:     XY\n",
            "Bounding box:  xmin: -156.0017 ymin: 19.0045 xmax: -154.8362 ymax: 20.25088\n",
            "Geodetic CRS:  WGS 84\n",
            "Reading layer `sim_results_Hawaii_10000m_v3_Run3' from data source \n",
            "  `/content/sim_results_Hawaii_Run3.gpkg' using driver `GPKG'\n",
            "Simple feature collection with 3410000 features and 79 fields\n",
            "Geometry type: POINT\n",
            "Dimension:     XY\n",
            "Bounding box:  xmin: -156.0017 ymin: 19.0045 xmax: -154.8362 ymax: 20.25088\n",
            "Geodetic CRS:  WGS 84\n"
          ]
        }
      ]
    },
    {
      "cell_type": "code",
      "source": [
        "sim_1_dt$sim_id <- sim_1_dt$sim_id + 100000\n",
        "sim_2_dt$sim_id <- sim_2_dt$sim_id + 200000\n",
        "sim_3_dt$sim_id <- sim_3_dt$sim_id + 300000"
      ],
      "metadata": {
        "id": "kb35TjnvznPP"
      },
      "execution_count": 12,
      "outputs": []
    },
    {
      "cell_type": "code",
      "source": [
        "print(sim_dt$sim_id %>% unique %>% length)"
      ],
      "metadata": {
        "id": "g3LG4Bk50TIP",
        "outputId": "c635736b-fea0-4d7e-90c0-8975606a28ee",
        "colab": {
          "base_uri": "https://localhost:8080/"
        }
      },
      "execution_count": 13,
      "outputs": [
        {
          "output_type": "stream",
          "name": "stdout",
          "text": [
            "[1] 0\n"
          ]
        }
      ]
    },
    {
      "cell_type": "code",
      "source": [
        "sim_dt <-list(sim_1_dt ,sim_2_dt,sim_3_dt) %>% rbindlist()"
      ],
      "metadata": {
        "id": "rlWnfNM-tjtK"
      },
      "execution_count": 14,
      "outputs": []
    },
    {
      "cell_type": "code",
      "source": [
        "sim_1_dt <- NULL\n",
        "sim_2_dt <- NULL\n",
        "sim_3_dt <- NULL"
      ],
      "metadata": {
        "id": "a3sZbRJF0olA"
      },
      "execution_count": 15,
      "outputs": []
    },
    {
      "cell_type": "code",
      "source": [
        "grid_int_dt  <- fia_dt$geom %>% st_transform(4135) %>% st_buffer(10000) %>% st_transform(4326) %>% st_intersects(grid_dt$geom)"
      ],
      "metadata": {
        "id": "0A-fL1krTbA_"
      },
      "execution_count": 16,
      "outputs": []
    },
    {
      "cell_type": "code",
      "source": [
        "rm_vec <- grid_int_dt %>% lapply(length) %>% unlist > 0\n",
        "grid_int_dt <- grid_int_dt[rm_vec]\n",
        "fia_dt <- fia_dt[rm_vec,]"
      ],
      "metadata": {
        "id": "isEeYbV1UDV9"
      },
      "execution_count": 17,
      "outputs": []
    },
    {
      "cell_type": "code",
      "source": [
        "grid_dt <- grid_dt[!is.na(srad),]"
      ],
      "metadata": {
        "id": "GuKe5EAqAWtK"
      },
      "execution_count": 18,
      "outputs": []
    },
    {
      "cell_type": "code",
      "source": [
        "grid_dt$agbd_n <- grid_dt$agbd_n %>% as.numeric"
      ],
      "metadata": {
        "id": "XsFPDjw_BHKX"
      },
      "execution_count": 19,
      "outputs": []
    },
    {
      "cell_type": "code",
      "source": [
        "fia_dt$Stock_SOC_Mg_Ha <- fia_dt$Stock_SOC_Mg_Ha %>% as.numeric"
      ],
      "metadata": {
        "id": "Au3xpFsoA2Qz",
        "outputId": "211e43f9-e35c-4547-d89d-60a38fb10c3d",
        "colab": {
          "base_uri": "https://localhost:8080/"
        }
      },
      "execution_count": 20,
      "outputs": [
        {
          "output_type": "stream",
          "name": "stderr",
          "text": [
            "Warning message in fia_dt$Stock_SOC_Mg_Ha %>% as.numeric:\n",
            "“NAs introduced by coercion”\n"
          ]
        }
      ]
    },
    {
      "cell_type": "code",
      "source": [
        "names(sim_dt)[43]"
      ],
      "metadata": {
        "id": "qumOZBUZ7d_T",
        "outputId": "936344c2-4896-4d93-8fb1-df02c74f67e9",
        "colab": {
          "base_uri": "https://localhost:8080/",
          "height": 34
        }
      },
      "execution_count": 21,
      "outputs": [
        {
          "output_type": "display_data",
          "data": {
            "text/html": [
              "'predicted'"
            ],
            "text/markdown": "'predicted'",
            "text/latex": "'predicted'",
            "text/plain": [
              "[1] \"predicted\""
            ]
          },
          "metadata": {}
        }
      ]
    },
    {
      "cell_type": "code",
      "source": [
        "names(sim_dt)"
      ],
      "metadata": {
        "colab": {
          "base_uri": "https://localhost:8080/",
          "height": 121
        },
        "id": "dobvtnE07Pau",
        "outputId": "febbb3c4-c82b-40ae-a356-8cb2cc816eba"
      },
      "execution_count": 22,
      "outputs": [
        {
          "output_type": "display_data",
          "data": {
            "text/html": [
              "<style>\n",
              ".list-inline {list-style: none; margin:0; padding: 0}\n",
              ".list-inline>li {display: inline-block}\n",
              ".list-inline>li:not(:last-child)::after {content: \"\\00b7\"; padding: 0 .5ex}\n",
              "</style>\n",
              "<ol class=list-inline><li>'PLOT'</li><li>'SOC_Mg_Ha'</li><li>'county_name'</li><li>'DEPTH_UPPER'</li><li>'DEPTH_LOWER'</li><li>'id'</li><li>'left'</li><li>'top'</li><li>'right'</li><li>'bottom'</li><li>'water'</li><li>'trees'</li><li>'grass'</li><li>'flooded_vegetation'</li><li>'crops'</li><li>'shrub_and_scrub'</li><li>'built'</li><li>'bare'</li><li>'snow_and_ice'</li><li>'elevation'</li><li>'landform'</li><li>'SRTM_mTPI'</li><li>'aet'</li><li>'def'</li><li>'pdsi'</li><li>'pet'</li><li>'pr'</li><li>'ro'</li><li>'soil'</li><li>'srad'</li><li>'swe'</li><li>'tmmn'</li><li>'tmmx'</li><li>'vap'</li><li>'vpd'</li><li>'vs'</li><li>'agbd_m'</li><li>'agbd_sd'</li><li>'agbd_n'</li><li>'majorcomposition'</li><li>'age_years'</li><li>'age_class'</li><li>'predicted'</li><li>'var_imp_DEPTH_UPPER'</li><li>'var_imp_DEPTH_LOWER'</li><li>'var_imp_water'</li><li>'var_imp_trees'</li><li>'var_imp_grass'</li><li>'var_imp_flooded_vegetation'</li><li>'var_imp_crops'</li><li>'var_imp_shrub_and_scrub'</li><li>'var_imp_built'</li><li>'var_imp_bare'</li><li>'var_imp_snow_and_ice'</li><li>'var_imp_elevation'</li><li>'var_imp_landform'</li><li>'var_imp_SRTM_mTPI'</li><li>'var_imp_aet'</li><li>'var_imp_def'</li><li>'var_imp_pdsi'</li><li>'var_imp_pet'</li><li>'var_imp_pr'</li><li>'var_imp_ro'</li><li>'var_imp_soil'</li><li>'var_imp_srad'</li><li>'var_imp_swe'</li><li>'var_imp_tmmn'</li><li>'var_imp_tmmx'</li><li>'var_imp_vap'</li><li>'var_imp_vpd'</li><li>'var_imp_vs'</li><li>'var_imp_agbd_m'</li><li>'var_imp_agbd_sd'</li><li>'var_imp_agbd_n'</li><li>'var_imp_majorcomposition'</li><li>'var_imp_age_years'</li><li>'var_imp_age_class'</li><li>'r2'</li><li>'sim_id'</li><li>'geom'</li></ol>\n"
            ],
            "text/markdown": "1. 'PLOT'\n2. 'SOC_Mg_Ha'\n3. 'county_name'\n4. 'DEPTH_UPPER'\n5. 'DEPTH_LOWER'\n6. 'id'\n7. 'left'\n8. 'top'\n9. 'right'\n10. 'bottom'\n11. 'water'\n12. 'trees'\n13. 'grass'\n14. 'flooded_vegetation'\n15. 'crops'\n16. 'shrub_and_scrub'\n17. 'built'\n18. 'bare'\n19. 'snow_and_ice'\n20. 'elevation'\n21. 'landform'\n22. 'SRTM_mTPI'\n23. 'aet'\n24. 'def'\n25. 'pdsi'\n26. 'pet'\n27. 'pr'\n28. 'ro'\n29. 'soil'\n30. 'srad'\n31. 'swe'\n32. 'tmmn'\n33. 'tmmx'\n34. 'vap'\n35. 'vpd'\n36. 'vs'\n37. 'agbd_m'\n38. 'agbd_sd'\n39. 'agbd_n'\n40. 'majorcomposition'\n41. 'age_years'\n42. 'age_class'\n43. 'predicted'\n44. 'var_imp_DEPTH_UPPER'\n45. 'var_imp_DEPTH_LOWER'\n46. 'var_imp_water'\n47. 'var_imp_trees'\n48. 'var_imp_grass'\n49. 'var_imp_flooded_vegetation'\n50. 'var_imp_crops'\n51. 'var_imp_shrub_and_scrub'\n52. 'var_imp_built'\n53. 'var_imp_bare'\n54. 'var_imp_snow_and_ice'\n55. 'var_imp_elevation'\n56. 'var_imp_landform'\n57. 'var_imp_SRTM_mTPI'\n58. 'var_imp_aet'\n59. 'var_imp_def'\n60. 'var_imp_pdsi'\n61. 'var_imp_pet'\n62. 'var_imp_pr'\n63. 'var_imp_ro'\n64. 'var_imp_soil'\n65. 'var_imp_srad'\n66. 'var_imp_swe'\n67. 'var_imp_tmmn'\n68. 'var_imp_tmmx'\n69. 'var_imp_vap'\n70. 'var_imp_vpd'\n71. 'var_imp_vs'\n72. 'var_imp_agbd_m'\n73. 'var_imp_agbd_sd'\n74. 'var_imp_agbd_n'\n75. 'var_imp_majorcomposition'\n76. 'var_imp_age_years'\n77. 'var_imp_age_class'\n78. 'r2'\n79. 'sim_id'\n80. 'geom'\n\n\n",
            "text/latex": "\\begin{enumerate*}\n\\item 'PLOT'\n\\item 'SOC\\_Mg\\_Ha'\n\\item 'county\\_name'\n\\item 'DEPTH\\_UPPER'\n\\item 'DEPTH\\_LOWER'\n\\item 'id'\n\\item 'left'\n\\item 'top'\n\\item 'right'\n\\item 'bottom'\n\\item 'water'\n\\item 'trees'\n\\item 'grass'\n\\item 'flooded\\_vegetation'\n\\item 'crops'\n\\item 'shrub\\_and\\_scrub'\n\\item 'built'\n\\item 'bare'\n\\item 'snow\\_and\\_ice'\n\\item 'elevation'\n\\item 'landform'\n\\item 'SRTM\\_mTPI'\n\\item 'aet'\n\\item 'def'\n\\item 'pdsi'\n\\item 'pet'\n\\item 'pr'\n\\item 'ro'\n\\item 'soil'\n\\item 'srad'\n\\item 'swe'\n\\item 'tmmn'\n\\item 'tmmx'\n\\item 'vap'\n\\item 'vpd'\n\\item 'vs'\n\\item 'agbd\\_m'\n\\item 'agbd\\_sd'\n\\item 'agbd\\_n'\n\\item 'majorcomposition'\n\\item 'age\\_years'\n\\item 'age\\_class'\n\\item 'predicted'\n\\item 'var\\_imp\\_DEPTH\\_UPPER'\n\\item 'var\\_imp\\_DEPTH\\_LOWER'\n\\item 'var\\_imp\\_water'\n\\item 'var\\_imp\\_trees'\n\\item 'var\\_imp\\_grass'\n\\item 'var\\_imp\\_flooded\\_vegetation'\n\\item 'var\\_imp\\_crops'\n\\item 'var\\_imp\\_shrub\\_and\\_scrub'\n\\item 'var\\_imp\\_built'\n\\item 'var\\_imp\\_bare'\n\\item 'var\\_imp\\_snow\\_and\\_ice'\n\\item 'var\\_imp\\_elevation'\n\\item 'var\\_imp\\_landform'\n\\item 'var\\_imp\\_SRTM\\_mTPI'\n\\item 'var\\_imp\\_aet'\n\\item 'var\\_imp\\_def'\n\\item 'var\\_imp\\_pdsi'\n\\item 'var\\_imp\\_pet'\n\\item 'var\\_imp\\_pr'\n\\item 'var\\_imp\\_ro'\n\\item 'var\\_imp\\_soil'\n\\item 'var\\_imp\\_srad'\n\\item 'var\\_imp\\_swe'\n\\item 'var\\_imp\\_tmmn'\n\\item 'var\\_imp\\_tmmx'\n\\item 'var\\_imp\\_vap'\n\\item 'var\\_imp\\_vpd'\n\\item 'var\\_imp\\_vs'\n\\item 'var\\_imp\\_agbd\\_m'\n\\item 'var\\_imp\\_agbd\\_sd'\n\\item 'var\\_imp\\_agbd\\_n'\n\\item 'var\\_imp\\_majorcomposition'\n\\item 'var\\_imp\\_age\\_years'\n\\item 'var\\_imp\\_age\\_class'\n\\item 'r2'\n\\item 'sim\\_id'\n\\item 'geom'\n\\end{enumerate*}\n",
            "text/plain": [
              " [1] \"PLOT\"                       \"SOC_Mg_Ha\"                 \n",
              " [3] \"county_name\"                \"DEPTH_UPPER\"               \n",
              " [5] \"DEPTH_LOWER\"                \"id\"                        \n",
              " [7] \"left\"                       \"top\"                       \n",
              " [9] \"right\"                      \"bottom\"                    \n",
              "[11] \"water\"                      \"trees\"                     \n",
              "[13] \"grass\"                      \"flooded_vegetation\"        \n",
              "[15] \"crops\"                      \"shrub_and_scrub\"           \n",
              "[17] \"built\"                      \"bare\"                      \n",
              "[19] \"snow_and_ice\"               \"elevation\"                 \n",
              "[21] \"landform\"                   \"SRTM_mTPI\"                 \n",
              "[23] \"aet\"                        \"def\"                       \n",
              "[25] \"pdsi\"                       \"pet\"                       \n",
              "[27] \"pr\"                         \"ro\"                        \n",
              "[29] \"soil\"                       \"srad\"                      \n",
              "[31] \"swe\"                        \"tmmn\"                      \n",
              "[33] \"tmmx\"                       \"vap\"                       \n",
              "[35] \"vpd\"                        \"vs\"                        \n",
              "[37] \"agbd_m\"                     \"agbd_sd\"                   \n",
              "[39] \"agbd_n\"                     \"majorcomposition\"          \n",
              "[41] \"age_years\"                  \"age_class\"                 \n",
              "[43] \"predicted\"                  \"var_imp_DEPTH_UPPER\"       \n",
              "[45] \"var_imp_DEPTH_LOWER\"        \"var_imp_water\"             \n",
              "[47] \"var_imp_trees\"              \"var_imp_grass\"             \n",
              "[49] \"var_imp_flooded_vegetation\" \"var_imp_crops\"             \n",
              "[51] \"var_imp_shrub_and_scrub\"    \"var_imp_built\"             \n",
              "[53] \"var_imp_bare\"               \"var_imp_snow_and_ice\"      \n",
              "[55] \"var_imp_elevation\"          \"var_imp_landform\"          \n",
              "[57] \"var_imp_SRTM_mTPI\"          \"var_imp_aet\"               \n",
              "[59] \"var_imp_def\"                \"var_imp_pdsi\"              \n",
              "[61] \"var_imp_pet\"                \"var_imp_pr\"                \n",
              "[63] \"var_imp_ro\"                 \"var_imp_soil\"              \n",
              "[65] \"var_imp_srad\"               \"var_imp_swe\"               \n",
              "[67] \"var_imp_tmmn\"               \"var_imp_tmmx\"              \n",
              "[69] \"var_imp_vap\"                \"var_imp_vpd\"               \n",
              "[71] \"var_imp_vs\"                 \"var_imp_agbd_m\"            \n",
              "[73] \"var_imp_agbd_sd\"            \"var_imp_agbd_n\"            \n",
              "[75] \"var_imp_majorcomposition\"   \"var_imp_age_years\"         \n",
              "[77] \"var_imp_age_class\"          \"r2\"                        \n",
              "[79] \"sim_id\"                     \"geom\"                      "
            ]
          },
          "metadata": {}
        }
      ]
    },
    {
      "cell_type": "code",
      "source": [
        "names(sim_no_depth_dt)[-c(2,4,5,43,78,80)]"
      ],
      "metadata": {
        "colab": {
          "base_uri": "https://localhost:8080/",
          "height": 108
        },
        "id": "uQ6ACrJ04s_Y",
        "outputId": "a0dad08e-9579-4fd7-8cd4-3eeaa07ed95b"
      },
      "execution_count": 23,
      "outputs": [
        {
          "output_type": "error",
          "ename": "ERROR",
          "evalue": "ignored",
          "traceback": [
            "Error in eval(expr, envir, enclos): object 'sim_no_depth_dt' not found\nTraceback:\n"
          ]
        }
      ]
    },
    {
      "cell_type": "code",
      "source": [
        "sim_no_depth_dt <- sim_dt[,names(sim_dt)[-c(2,4,5,43,78,80)],with=FALSE] %>% unique"
      ],
      "metadata": {
        "id": "8b0LmUeZ1RIS"
      },
      "execution_count": null,
      "outputs": []
    },
    {
      "cell_type": "code",
      "source": [
        "sim_c_no_depth_dt %>% nrow"
      ],
      "metadata": {
        "id": "URaRsGg77gP8"
      },
      "execution_count": null,
      "outputs": []
    },
    {
      "cell_type": "code",
      "source": [
        "sim_c_no_depth_dt <- sim_dt[,list(SOC_Mg_Ha=sum(SOC_Mg_Ha),predicted = sum(predicted),geom = unique(geom)),by = .(PLOT,sim_id)]\n",
        "# sim_c_no_depth_dt <- sim_c_no_depth_dt %>% unique()"
      ],
      "metadata": {
        "id": "8NKWwxr33VUC"
      },
      "execution_count": null,
      "outputs": []
    },
    {
      "cell_type": "code",
      "source": [
        "(sim_no_depth_dt$PLOT %in% sim_c_no_depth_dt$PLOT & sim_no_depth_dt$sim_id %in% sim_c_no_depth_dt$sim_id ) %>% table"
      ],
      "metadata": {
        "id": "xr1eyeQf5G3P"
      },
      "execution_count": null,
      "outputs": []
    },
    {
      "cell_type": "code",
      "source": [
        "# sim_c_no_depth_dt"
      ],
      "metadata": {
        "id": "kqmVG3x85FIq"
      },
      "execution_count": null,
      "outputs": []
    },
    {
      "cell_type": "code",
      "source": [
        "sim_c_sum_dt <- merge(sim_c_no_depth_dt,sim_no_depth_dt,match = c('PLOT','sim_dt'))"
      ],
      "metadata": {
        "id": "6QQLaxXYzouC"
      },
      "execution_count": null,
      "outputs": []
    },
    {
      "cell_type": "code",
      "source": [
        "sim_c_sum_dt %>% names"
      ],
      "metadata": {
        "id": "zTAcSa098igz"
      },
      "execution_count": null,
      "outputs": []
    },
    {
      "cell_type": "code",
      "source": [
        "sim_c_sum_dt[,z:=predicted-SOC_Mg_Ha]"
      ],
      "metadata": {
        "id": "UxooKXbS8BXx"
      },
      "execution_count": null,
      "outputs": []
    },
    {
      "cell_type": "code",
      "source": [
        "sim_c_sum_dt[,rmse:=mean(((predicted-SOC_Mg_Ha))^2),by =.(PLOT,id)]"
      ],
      "metadata": {
        "id": "6S_bCu_x31Z3"
      },
      "execution_count": null,
      "outputs": []
    },
    {
      "cell_type": "code",
      "source": [
        "sim_c_sum_dt[,rmse_p:=mean(((predicted-SOC_Mg_Ha)/SOC_Mg_Ha)^2),by =.(PLOT,id)]"
      ],
      "metadata": {
        "id": "OSvG7HTn88ju"
      },
      "execution_count": null,
      "outputs": []
    },
    {
      "cell_type": "code",
      "source": [
        "fia_dt[,list(SOC_Mg_Ha = sum(SOC_Mg_Ha %>% as.numeric)),by = PLOT]$SOC_Mg_Ha %>% quantile(c(0,.2,.4,.6,.8,1))"
      ],
      "metadata": {
        "id": "THAtqXmVhgkJ"
      },
      "execution_count": null,
      "outputs": []
    },
    {
      "cell_type": "code",
      "source": [
        "names(sim_c_sum_dt)"
      ],
      "metadata": {
        "id": "FRxKPWnc2baJ"
      },
      "execution_count": null,
      "outputs": []
    },
    {
      "cell_type": "code",
      "source": [
        "sim_c_sum_dt[,group_quantile:=as.integer(cut(predicted, breaks = quantile(SOC_Mg_Ha[!is.na(SOC_Mg_Ha)], probs = seq(0, 1, by = 1/5),na.rm=T)))]"
      ],
      "metadata": {
        "id": "YhcIx8jRmiGi"
      },
      "execution_count": null,
      "outputs": []
    },
    {
      "cell_type": "code",
      "source": [
        "sim_c_sum_dt[,n_pred := length(predicted),by=id]"
      ],
      "metadata": {
        "id": "9-uDevcNsrBs"
      },
      "execution_count": null,
      "outputs": []
    },
    {
      "cell_type": "code",
      "source": [
        "sim_c_sum_dt[,n_pred_good := length(predicted[rmse_p<.2]),by=id]"
      ],
      "metadata": {
        "id": "KTP5hYW9s3A7"
      },
      "execution_count": null,
      "outputs": []
    },
    {
      "cell_type": "code",
      "source": [
        "sim_c_sum_dt[rmse_p<.2][,list(SOC_Mg_Ha = mean(predicted),pred = length(predicted),total = mean(n_pred_good),geom=unique(geom)),by=.(id,group_quantile)] %>% st_as_sf %>% st_write('quantile_pred.gpkg',delete_dsn = T)"
      ],
      "metadata": {
        "id": "e4fvNUAtplUG"
      },
      "execution_count": null,
      "outputs": []
    },
    {
      "cell_type": "code",
      "source": [
        "quant_dt <- sim_c_sum_dt[rmse_p<.2][,list(SOC_Mg_Ha = mean(predicted),pred = length(predicted),total = mean(n_pred_good),geom=unique(geom)),by=.(id,group_quantile)]\n",
        "quant_dt[,list(SOC_Mg_ha = sum(SOC_Mg_Ha*(pred/total)),geom = unique(geom)),by=id] %>% st_as_sf %>% st_write('sum_pred.gpkg',delete_dsn=T)"
      ],
      "metadata": {
        "id": "iwi4lgHtxuqY"
      },
      "execution_count": null,
      "outputs": []
    },
    {
      "cell_type": "code",
      "source": [
        "sim_c_sum_dt[,list(count = length(PLOT %>% unique)),by = id]$count %>% qplot"
      ],
      "metadata": {
        "id": "4L0XiTdjlL5G"
      },
      "execution_count": null,
      "outputs": []
    },
    {
      "cell_type": "code",
      "source": [
        "fia_dt[,list(SOC_Mg_Ha = sum(SOC_Mg_Ha %>% as.numeric)),by = PLOT]$SOC_Mg_Ha %>% qplot"
      ],
      "metadata": {
        "id": "idMv67Tjg2kI"
      },
      "execution_count": null,
      "outputs": []
    },
    {
      "cell_type": "code",
      "source": [
        "sim_c_sum_dt$rmse_p %>% qplot"
      ],
      "metadata": {
        "id": "LR-U3bv57wsD"
      },
      "execution_count": null,
      "outputs": []
    },
    {
      "cell_type": "code",
      "source": [
        "names(sim_c_sum_dt)[c(12:21, 23:40)]"
      ],
      "metadata": {
        "id": "1W05fIJi8qNf"
      },
      "execution_count": null,
      "outputs": []
    },
    {
      "cell_type": "code",
      "source": [
        "var_imp_dt <- sim_c_sum_dt[\n",
        "  , .(r2 = lapply(.SD, function(x) {\n",
        "          summary(lm(x ~ rmse_p, data = .SD))$r.squared\n",
        "      }),\n",
        "      variable = names(.SD)),\n",
        "  by = .(PLOT),\n",
        "  .SDcols = c(12:21, 23:40)\n",
        "]"
      ],
      "metadata": {
        "id": "1HWChufHf6Xn"
      },
      "execution_count": null,
      "outputs": []
    },
    {
      "cell_type": "code",
      "source": [
        "\n",
        "var_imp_dt$r2 <-var_imp_dt$r2 %>% unlist"
      ],
      "metadata": {
        "id": "py3l2b3s9vAA"
      },
      "execution_count": null,
      "outputs": []
    },
    {
      "cell_type": "code",
      "source": [
        "# sim_c_sum_dt[id==2563556]"
      ],
      "metadata": {
        "id": "7ZlSPpZjTUzr"
      },
      "execution_count": null,
      "outputs": []
    },
    {
      "cell_type": "code",
      "source": [
        "sim_c_sum_dt[,min_plot:= PLOT[which.min(rmse_p)],by=id]"
      ],
      "metadata": {
        "id": "Y0CMfxvESRZy"
      },
      "execution_count": null,
      "outputs": []
    },
    {
      "cell_type": "code",
      "source": [
        "# var_imp_dt[,list(imp_variable=variable[order(-r2)][1],r2=r2[order(-r2)][1]),by=PLOT]"
      ],
      "metadata": {
        "id": "uI1NQa16Gg2Y"
      },
      "execution_count": null,
      "outputs": []
    },
    {
      "cell_type": "code",
      "source": [
        "# sim_c_sum_dt$min_plot %>% qplot"
      ],
      "metadata": {
        "id": "6nOp1xLCS1PY"
      },
      "execution_count": null,
      "outputs": []
    },
    {
      "cell_type": "code",
      "source": [
        "# sim_c_sum_dt$PLOT %>% table"
      ],
      "metadata": {
        "id": "BzgG12iGSyAc"
      },
      "execution_count": null,
      "outputs": []
    },
    {
      "cell_type": "code",
      "source": [
        "sim_c_sum_dt$imp_variable <- NULL\n",
        "sim_c_sum_dt$r2 <- NULL"
      ],
      "metadata": {
        "id": "uJ8EzPBCCZt_"
      },
      "execution_count": null,
      "outputs": []
    },
    {
      "cell_type": "code",
      "source": [
        " sim_c_sum_dt <- var_imp_dt[,list(imp_variable=variable[order(-r2)][1],r2=r2[order(-r2)][1]),by=PLOT] %>% merge(sim_c_sum_dt,.,by.x = 'min_plot',by.y = 'PLOT')"
      ],
      "metadata": {
        "id": "9NYCPnXn-dBJ"
      },
      "execution_count": null,
      "outputs": []
    },
    {
      "cell_type": "code",
      "source": [
        "sim_c_sum_dt %>% head"
      ],
      "metadata": {
        "id": "2D0uCXNRVKwM"
      },
      "execution_count": null,
      "outputs": []
    },
    {
      "cell_type": "code",
      "source": [
        "# sim_c_sum_dt[,imp_variable:=imp_variable[order(-r2)][1],by=id]\n",
        "# sim_c_sum_dt[,r2:=r2[order(-r2)][1],by=id]"
      ],
      "metadata": {
        "id": "XH4BWGp0KRX7"
      },
      "execution_count": null,
      "outputs": []
    },
    {
      "cell_type": "code",
      "source": [
        "sim_c_sum_dt[rmse_p<.2][,list(rmse_p = mean(rmse_p),geom=geom[1]),by = .(id,imp_variable,r2)] %>% st_as_sf %>% st_write('variable_importance_id.gpkg',delete_dsn=T)"
      ],
      "metadata": {
        "id": "JmII9qMsFnGh"
      },
      "execution_count": null,
      "outputs": []
    },
    {
      "cell_type": "code",
      "source": [
        "# sim_c_sum_dt[rmse_p<.2] %>% st_as_sf %>% st_write('variable_importance.gpkg',delete_dsn)"
      ],
      "metadata": {
        "id": "HldNZqI4E38k"
      },
      "execution_count": null,
      "outputs": []
    },
    {
      "cell_type": "code",
      "source": [
        "var_imp_dt$imp_variable %>% table"
      ],
      "metadata": {
        "id": "4a_Ak1xr-wzN"
      },
      "execution_count": null,
      "outputs": []
    },
    {
      "cell_type": "code",
      "source": [
        "var_imp_dt %>%\n",
        "  ggplot(aes(x=r2))+\n",
        "    geom_histogram(aes(fill=variable))+\n",
        "    facet_wrap(variable~.,scales='free') +\n",
        "    theme(legend.position = \"none\")\n",
        ""
      ],
      "metadata": {
        "id": "2ajG3NFW9R1p"
      },
      "execution_count": null,
      "outputs": []
    },
    {
      "cell_type": "code",
      "source": [
        "r2_dt <-\n",
        "sim_c_sum_dt$PLOT %>% unique %>%\n",
        "  lapply(function(x){\n",
        "  x_dt <- sim_c_sum_dt[PLOT == x]\n",
        "  names(sim_c_sum_dt)[c(12:21, 23:40)] %>%\n",
        "    lapply(function(y){\n",
        "    r2 <-\n",
        "    (lm(x_dt[['rmse_p']]~x_dt[[y]]) %>%\n",
        "      summary())$r.squared\n",
        "    data.table(PLOT = x,variable =y,r2 = r2) %>% return()\n",
        "    }) %>% rbindlist\n",
        "  }) %>% rbindlist\n"
      ],
      "metadata": {
        "id": "-hngzXlkgMzv"
      },
      "execution_count": null,
      "outputs": []
    },
    {
      "cell_type": "code",
      "source": [
        "r2_dt"
      ],
      "metadata": {
        "id": "md7uSqOJ7TJf"
      },
      "execution_count": null,
      "outputs": []
    },
    {
      "cell_type": "code",
      "source": [
        "gc()"
      ],
      "metadata": {
        "id": "ThBN0TMl7sW8"
      },
      "execution_count": null,
      "outputs": []
    },
    {
      "cell_type": "code",
      "source": [
        "cool_dt[PLOT == 2737] %>%\n",
        "ggplot(aes(x=elevation,y=rmse_p))+\n",
        "# ylim(0,1)+\n",
        "geom_bin2d() +\n",
        "geom_smooth(method='lm')"
      ],
      "metadata": {
        "id": "UegpL-6DxZX4"
      },
      "execution_count": null,
      "outputs": []
    },
    {
      "cell_type": "code",
      "source": [
        "sim_c_no_depth_dt[PLOT == 2737]$SOC_Mg_Ha %>% table"
      ],
      "metadata": {
        "id": "t2pDJ7gpyHEZ"
      },
      "execution_count": null,
      "outputs": []
    },
    {
      "cell_type": "code",
      "source": [
        "\n",
        "(cool_dt[PLOT == 2822]  %>%\n",
        "  lm(rmse_p~soil,.) %>%\n",
        "  summary())$r.squared"
      ],
      "metadata": {
        "id": "PS0rOg0i5352"
      },
      "execution_count": null,
      "outputs": []
    },
    {
      "cell_type": "code",
      "source": [
        "names(sim_c_sum_dt)"
      ],
      "metadata": {
        "id": "X0vkbVKW6B5E"
      },
      "execution_count": null,
      "outputs": []
    },
    {
      "cell_type": "code",
      "source": [
        "# cool_dt <- sim_c_sum_dt[,list(rmse_p = mean(sqrt(z^2))/SOC_Mg_Ha,rmse = mean(sqrt(z^2)),var_imp_elevation = mean(var_imp_elevation) ,geom=unique(geom)[1],predicted = mean(predicted)),by = .(PLOT,id,soil,tmmn,vpd,SOC_Mg_Ha,trees,shrub_and_scrub,built,bare,aet,soil,vs,SRTM_mTPI,agbd_m,agbd_sd,elevation)]\n",
        "# st_as_sf %>%\n",
        "# st_write('review_output.gpkg',delete_dsn = T)\n",
        "# cool_dt[,list(elev_r2= cor(elevation, SRTM_mTPI) ^ 2),by = .(PLOT)]\n",
        "cool_dt[PLOT == 4102]  %>%\n",
        "ggplot(aes(x=rmse_p,y=bare))+\n",
        "# ylim(0,600)+\n",
        "# geom_histogram()\n",
        "geom_bin2d() +\n",
        "geom_smooth(method='lm')"
      ],
      "metadata": {
        "id": "Z-G08udTEFv2"
      },
      "execution_count": null,
      "outputs": []
    },
    {
      "cell_type": "code",
      "source": [
        "sim_dt[,z:=(predicted-SOC_Mg_Ha)/SOC_Mg_Ha]"
      ],
      "metadata": {
        "id": "ykTLK7Zfvb_Y"
      },
      "execution_count": null,
      "outputs": []
    },
    {
      "cell_type": "code",
      "source": [
        "sim_dt[,residual_per:=(predicted-SOC_Mg_Ha)/SOC_Mg_Ha]"
      ],
      "metadata": {
        "id": "qozeGGhyeNR6"
      },
      "execution_count": null,
      "outputs": []
    },
    {
      "cell_type": "code",
      "source": [
        "sim_dt[ z > -0.05 &z<0.05]$predicted %>% qplot"
      ],
      "metadata": {
        "id": "83G-MoVduIeE"
      },
      "execution_count": null,
      "outputs": []
    },
    {
      "cell_type": "code",
      "source": [
        "sim_dt$SOC_Mg_Ha %>% qplot"
      ],
      "metadata": {
        "id": "FYEQyrPhuMp8"
      },
      "execution_count": null,
      "outputs": []
    },
    {
      "cell_type": "code",
      "source": [
        "sim_dt[id==2831164]$predicted %>% qplot(bins=100)\n",
        "\n",
        "sim_dt[id==2831164 & z > -0.05 &z<0.05]$predicted %>% qplot(geom='histogram')"
      ],
      "metadata": {
        "id": "4Vplh_bzvy2V"
      },
      "execution_count": null,
      "outputs": []
    },
    {
      "cell_type": "code",
      "source": [
        "sim_summary_dt <- sim_dt[,list(length = length(r2),length_05 = length(r2[sqrt((z)^2) <0.05]),geom=unique(geom)),by=.(id,PLOT)]"
      ],
      "metadata": {
        "id": "dQe6TcWmQE9z"
      },
      "execution_count": null,
      "outputs": []
    },
    {
      "cell_type": "code",
      "source": [
        "# sim_summary_dt\n",
        "(sim_summary_dt[PLOT==5289]$length_05/sim_summary_dt[PLOT==5289]$length) %>% qplot"
      ],
      "metadata": {
        "id": "8ety8b9EirDE"
      },
      "execution_count": null,
      "outputs": []
    },
    {
      "cell_type": "code",
      "source": [
        "sim_summary_dt %>% st_as_sf %>% st_write('sim_summary_id_plot.gpkg',delete_dsn = T)"
      ],
      "metadata": {
        "id": "t7KCfekdwa45"
      },
      "execution_count": null,
      "outputs": []
    },
    {
      "cell_type": "code",
      "source": [
        "(sim_dt %>% names)[c(9:18,20:37)]"
      ],
      "metadata": {
        "id": "55HRclaRCkNj"
      },
      "execution_count": null,
      "outputs": []
    },
    {
      "cell_type": "code",
      "source": [
        "sim_dt$id %>% sample(1)\n",
        "sim_dt[id==2762315]$PLOT %>% table"
      ],
      "metadata": {
        "id": "T7bfZLlnv2kw"
      },
      "execution_count": null,
      "outputs": []
    },
    {
      "cell_type": "code",
      "source": [
        "sim_dt[id==2762315] %>% nrow"
      ],
      "metadata": {
        "id": "sZIan_uuv_eq"
      },
      "execution_count": null,
      "outputs": []
    },
    {
      "cell_type": "code",
      "source": [
        "#  sim_dt[id==2762315 &PLOT == 2678]$z %>% abs %>% qplot"
      ],
      "metadata": {
        "id": "TE5mLdbMwPBv"
      },
      "execution_count": null,
      "outputs": []
    },
    {
      "cell_type": "code",
      "source": [
        "sim_dt[id==2762315 &PLOT == 2678 ]$id %>% unique"
      ],
      "metadata": {
        "id": "K5ZOagATPk4_"
      },
      "execution_count": null,
      "outputs": []
    },
    {
      "cell_type": "code",
      "source": [
        "names(sim_dt)"
      ],
      "metadata": {
        "id": "o1nEka7qXTVw"
      },
      "execution_count": null,
      "outputs": []
    },
    {
      "cell_type": "code",
      "source": [
        "names(sim_dt)[c(11:42)]"
      ],
      "metadata": {
        "id": "e3DOI4yvInQ9"
      },
      "execution_count": null,
      "outputs": []
    },
    {
      "cell_type": "code",
      "source": [
        "p_value_dt <-\n",
        "sim_dt$PLOT %>% unique %>% lapply(function(y){\n",
        "names(sim_dt)[c(9:18,20:37)] %>%\n",
        "lapply(function(x){\n",
        "\n",
        "  (cool_dt[PLOT == 2822]  %>%\n",
        "  lm(rmse_p~soil,.) %>%\n",
        "  summary())$r.squared\n",
        "# # which_dt <- sim_dt[ PLOT == y ][,list(good = length(z[z < 0.05])/length(z) <0.02),by= .(PLOT,id)]\n",
        "# good_x <- grid_dt[id %in% which_dt$id[which_dt$good]][[x]]\n",
        "# bad_x <- grid_dt[id %in% which_dt$id[!which_dt$good]][[x]]\n",
        "# if(length(good_x)>3 &length(bad_x)>3){\n",
        "# p_value <- wilcox.test(good_x,bad_x)$p.value\n",
        "\n",
        "# data.table(PLOT=y,variable=x,good = length(good_x),bad =length(bad_x),p_value=p_value) %>% return\n",
        "# }else(return(data.table(PLOT=y,variable=x,good = length(good_x),bad =length(bad_x),p_value=NA)))\n",
        "}) %>% rbindlist %>% return}) %>% rbindlist"
      ],
      "metadata": {
        "id": "-izennDhKD9H"
      },
      "execution_count": null,
      "outputs": []
    },
    {
      "cell_type": "code",
      "source": [
        "good_bad_dt <- p_value_dt[,list( mean(NA)),by=.(PLOT,good,bad)]"
      ],
      "metadata": {
        "id": "16m_kICGtC-e"
      },
      "execution_count": null,
      "outputs": []
    },
    {
      "cell_type": "code",
      "source": [
        "good_bad_dt <- merge(fia_dt,good_bad_dt,by = 'PLOT')"
      ],
      "metadata": {
        "id": "9iG0Rmja5X4a"
      },
      "execution_count": null,
      "outputs": []
    },
    {
      "cell_type": "code",
      "source": [
        "names(good_bad_dt)"
      ],
      "metadata": {
        "id": "6OHO4MNf6qbv"
      },
      "execution_count": null,
      "outputs": []
    },
    {
      "cell_type": "code",
      "source": [
        "good_bad_dt %>%\n",
        "  ggplot(aes(x=good/(bad +good),y=Stock_SOC_Mg_Ha %>% as.numeric))+\n",
        "  geom_point() +\n",
        "  facet_grid(Max_Lower_Depth %>% as.numeric~.)"
      ],
      "metadata": {
        "id": "t_ulb6Gp5FCS"
      },
      "execution_count": null,
      "outputs": []
    },
    {
      "cell_type": "code",
      "source": [
        "# x <- sim_dt[ PLOT == 2409 ][,list()]\n",
        "\n",
        "z <- sim_dt[ PLOT == 2409 ]$z\n",
        "length(x[abs(z) < 0.05])\n",
        "length(x[abs(z) >= 0.05])\n",
        "wilcox.test(sample(x[abs(z) < 0.05],500,replace=T) %>% sort ,\n",
        "          sample(x[abs(z) >= 0.05],500,replace=T)%>% sort)"
      ],
      "metadata": {
        "id": "TwoBmzMO5_Qj"
      },
      "execution_count": null,
      "outputs": []
    },
    {
      "cell_type": "code",
      "source": [
        "x <- sim_dt[ PLOT == 2409 ]$elevation\n",
        "z <- sim_dt[ PLOT == 2409 ]$z\n",
        "t.test(x[abs(z) < 0.05],\n",
        "          x[abs(z) >= 0.05])"
      ],
      "metadata": {
        "id": "kaLzXo6xX7j9"
      },
      "execution_count": null,
      "outputs": []
    },
    {
      "cell_type": "code",
      "source": [
        "#  sim_dt[ PLOT == 2409 ] %>%\n",
        " data.table(elevation = c(sample(x[abs(z) < 0.05],1000000,replace=T),sample(x[abs(z) >= 0.05],1000000,replace=T)),z = c(rep(0,1000),rep(1,1000))) %>%\n",
        "   ggplot(aes(x=elevation,group = abs(z) <0.05))+\n",
        "     geom_density(aes(color= abs(z) <0.05))"
      ],
      "metadata": {
        "id": "RLNcpUsLXZsr"
      },
      "execution_count": null,
      "outputs": []
    },
    {
      "cell_type": "code",
      "source": [
        "\n",
        "\n",
        "if(length(x[abs(z) < 0.05])>3 &length(x[abs(z) >= 0.05])>3 ){\n",
        "  t.test(x[abs(z) < 0.05],\n",
        "          x[abs(z) >= 0.05])$p.value\n",
        "          }else(return(NA))"
      ],
      "metadata": {
        "id": "QhXwzQZWwy22"
      },
      "execution_count": null,
      "outputs": []
    },
    {
      "cell_type": "code",
      "source": [
        "qplot(x[abs(z) >= 0.05])"
      ],
      "metadata": {
        "id": "BIkFtXRFDbft"
      },
      "execution_count": null,
      "outputs": []
    },
    {
      "cell_type": "code",
      "source": [
        "qplot(x[abs(z) < 0.05])"
      ],
      "metadata": {
        "id": "pF5AodHBDXH3"
      },
      "execution_count": null,
      "outputs": []
    },
    {
      "cell_type": "code",
      "source": [
        "sim_dt[, good := length(z[abs(z) < 0.2])/length(z) > .50,by= .(PLOT,id,DEPTH_UPPER,DEPTH_LOWER)]"
      ],
      "metadata": {
        "id": "zQCGNXcBPVbc"
      },
      "execution_count": null,
      "outputs": []
    },
    {
      "cell_type": "code",
      "source": [
        "sim_dt$good %>% table / nrow(sim_dt)"
      ],
      "metadata": {
        "id": "kft1YMfsHQJx"
      },
      "execution_count": null,
      "outputs": []
    },
    {
      "cell_type": "code",
      "source": [
        "sim_dt[,list(length=sum(good)),by= .(PLOT ,DEPTH_UPPER,DEPTH_LOWER)]"
      ],
      "metadata": {
        "id": "XaM-bs5nLq4o"
      },
      "execution_count": null,
      "outputs": []
    },
    {
      "cell_type": "code",
      "source": [
        "names(sim_dt)[c(11:20,22:39)]"
      ],
      "metadata": {
        "id": "R0gRuWO1o5dQ"
      },
      "execution_count": null,
      "outputs": []
    },
    {
      "cell_type": "code",
      "source": [
        "sim_dt[,r2:=(lm(rmse_p~x ) %>% summary())$r.squared, by = .( PLOT )"
      ],
      "metadata": {
        "id": "0n3ELhHpeyYm"
      },
      "execution_count": null,
      "outputs": []
    },
    {
      "cell_type": "code",
      "source": [
        "sim_dt %>% names"
      ],
      "metadata": {
        "id": "ftBpMMlsfb_n"
      },
      "execution_count": null,
      "outputs": []
    },
    {
      "cell_type": "code",
      "source": [
        "var_imp_dt <- sim_dt[\n",
        "  , .(r2 = lapply(.SD, function(x) {\n",
        "          summary(lm(rmse_p ~ x, data = .SD))$r.squared\n",
        "      }),\n",
        "      variable = names(.SD)),\n",
        "  by = .(PLOT),\n",
        "  .SDcols = c(11:20, 22:39)\n",
        "]"
      ],
      "metadata": {
        "id": "20kHFnC_fXyJ"
      },
      "execution_count": null,
      "outputs": []
    },
    {
      "cell_type": "code",
      "source": [
        " var_imp_dt<- sim_dt [\n",
        "  , .(r2 = lapply(.SD, function(x) {\n",
        "\n",
        "      (lm(rmse_p~x ) %>%\n",
        "    summary())$r.squared\n",
        "\n",
        "\n",
        "    }) ,\n",
        "      variable = names(sim_dt)[c(11:20,22:39)])\n",
        "  , by = .( PLOT )\n",
        "  , .SDcols = c(c(11:20,22:39))\n",
        "]\n",
        "\n",
        "var_imp_dt$p_value <- var_imp_dt$r2 %>% unlist"
      ],
      "metadata": {
        "id": "jSxwz78hCaIo"
      },
      "execution_count": null,
      "outputs": []
    },
    {
      "cell_type": "code",
      "source": [
        "var_imp_dt$p_value%>%qplot"
      ],
      "metadata": {
        "id": "3yklCqfZoTKA"
      },
      "execution_count": null,
      "outputs": []
    },
    {
      "cell_type": "code",
      "source": [
        "# grid_dt"
      ],
      "metadata": {
        "id": "g3iB3POm0MX8"
      },
      "execution_count": null,
      "outputs": []
    },
    {
      "cell_type": "code",
      "source": [
        "# out_dt <- data.table(var_imp_dt,sim_summary_dt[match(var_imp_dt$id,sim_summary_dt$id)])\n",
        "out_dt <- data.table(p_value_dt,fia_dt[,c('geometry')][match(p_value_dt$PLOT,fia_dt$PLOT)])"
      ],
      "metadata": {
        "id": "tDSLomPaFBt4"
      },
      "execution_count": null,
      "outputs": []
    },
    {
      "cell_type": "code",
      "source": [
        "out_dt[,bonferroni:=p_value*length(c(9:18,20:37))]"
      ],
      "metadata": {
        "id": "2QPXHgSxppws"
      },
      "execution_count": null,
      "outputs": []
    },
    {
      "cell_type": "code",
      "source": [
        "out_dt$p_value <- out_dt$p_value %>% unlist"
      ],
      "metadata": {
        "id": "9MSkigkuGEUG"
      },
      "execution_count": null,
      "outputs": []
    },
    {
      "cell_type": "code",
      "source": [
        "# out_dt$geom <- NULL\n",
        "out_dt"
      ],
      "metadata": {
        "id": "KxGVgkMqrSMj"
      },
      "execution_count": null,
      "outputs": []
    },
    {
      "cell_type": "code",
      "source": [
        "# short_out_dt[!is.na(var_imp_aet),]"
      ],
      "metadata": {
        "id": "zhnfNW4o0p6g"
      },
      "execution_count": null,
      "outputs": []
    },
    {
      "cell_type": "code",
      "source": [
        "short_out_dt <- dcast(out_dt,  PLOT ~ variable,value.var='bonferroni', drop=FALSE)\n",
        "# short_out_dt <-short_out_dt[!is.na(trees),]"
      ],
      "metadata": {
        "id": "0mOkIF47rJPU"
      },
      "execution_count": null,
      "outputs": []
    },
    {
      "cell_type": "code",
      "source": [
        "short_out_dt"
      ],
      "metadata": {
        "id": "5U500bQjSzvh"
      },
      "execution_count": null,
      "outputs": []
    },
    {
      "cell_type": "code",
      "source": [
        "good_set <- out_dt[,list(bonferroni_20 = mean(bonferroni[bonferroni<.2],na.rm=T),n=length(bonferroni[bonferroni<.2])),by = .(PLOT,variable)][!is.na(bonferroni_20)]$PLOT %>% unique"
      ],
      "metadata": {
        "id": "BqKvjGhg4qhK"
      },
      "execution_count": null,
      "outputs": []
    },
    {
      "cell_type": "code",
      "source": [
        "good_set %>% length"
      ],
      "metadata": {
        "id": "Qlns0YTO7ByC"
      },
      "execution_count": null,
      "outputs": []
    },
    {
      "cell_type": "code",
      "source": [
        "fia_dt[PLOT %in% good_set]$Stock_SOC_Mg_Ha %>% mean(na.rm=T)"
      ],
      "metadata": {
        "id": "SVPLbJGj7OSZ"
      },
      "execution_count": null,
      "outputs": []
    },
    {
      "cell_type": "code",
      "source": [
        "fia_dt %>%\n",
        "  ggplot(aes(x=Stock_SOC_Mg_Ha))+\n",
        "  geom_histogram()"
      ],
      "metadata": {
        "id": "w2dtAHQe63ke"
      },
      "execution_count": null,
      "outputs": []
    },
    {
      "cell_type": "code",
      "source": [
        "short_out_dt <- data.table(short_out_dt,fia_dt[,c('geometry')][match(short_out_dt$PLOT,fia_dt$PLOT)])"
      ],
      "metadata": {
        "id": "Vcb9nHVt0kO5"
      },
      "execution_count": null,
      "outputs": []
    },
    {
      "cell_type": "code",
      "source": [
        "short_out_dt %>% st_as_sf %>% st_write('bonferroni_adj.gpkg',delete_dsn = T)"
      ],
      "metadata": {
        "id": "0KA7fcV3wVH9"
      },
      "execution_count": null,
      "outputs": []
    },
    {
      "cell_type": "code",
      "source": [
        "cols_to_consider <- names(short_out_dt)[]\n",
        "\n",
        "\n",
        "# Assuming 'short_out_dt' is your data.table\n",
        "# Define the columns you want to consider for finding the max value by their indices\n",
        "cols_to_consider_indices <- 3:(ncol(short_out_dt)-1) # Replace with actual indices of Var3, Var5, Var7\n",
        "short_out_dt$max_col <-\n",
        "1:nrow(short_out_dt) %>% lapply(function(x){\n",
        "if(is.na(short_out_dt[x,cols_to_consider_indices,with=F] %>% unlist) %>% all){return(NA)}\n",
        "short_out_dt[x,cols_to_consider_indices,with=F] %>% unlist %>% which.min( ) %>% names}) %>% unlist"
      ],
      "metadata": {
        "id": "eEeHNqq5sQiQ"
      },
      "execution_count": null,
      "outputs": []
    },
    {
      "cell_type": "code",
      "source": [
        "short_out_dt %>% st_write('max_col_p.gpkg')"
      ],
      "metadata": {
        "id": "vJhqaw2SyWg3"
      },
      "execution_count": null,
      "outputs": []
    },
    {
      "cell_type": "code",
      "source": [
        "short_out_dt"
      ],
      "metadata": {
        "id": "vh8jc2vQw0fR"
      },
      "execution_count": null,
      "outputs": []
    },
    {
      "cell_type": "code",
      "source": [
        "short_out_dt %>%\n",
        "  ggplot(aes(x=1:nrow(short_out_dt),y=soil))+\n",
        "  geom_line()"
      ],
      "metadata": {
        "id": "mx2dDqIMwmH6"
      },
      "execution_count": null,
      "outputs": []
    },
    {
      "cell_type": "code",
      "source": [
        "out_dt[bonferroni <= .05]$variable %>% table"
      ],
      "metadata": {
        "id": "5AP6xor8JZ55"
      },
      "execution_count": null,
      "outputs": []
    },
    {
      "cell_type": "code",
      "source": [],
      "metadata": {
        "id": "j5zr7_HMp3ZP"
      },
      "execution_count": null,
      "outputs": []
    },
    {
      "cell_type": "code",
      "source": [
        "out_dt[bonferroni<= 0.1] %>%\n",
        "  ggplot(aes(x= variable %>% factor))+\n",
        "  geom_bar()\n",
        "  # geom_smooth(method='lm')"
      ],
      "metadata": {
        "id": "R2Gs7h8_Rk5V"
      },
      "execution_count": null,
      "outputs": []
    },
    {
      "cell_type": "code",
      "source": [
        "data.table(out_dt) %>% st_as_sf() %>% st_write('/content/plot_sig_variables.gpkg',delete_dsn=T)"
      ],
      "metadata": {
        "id": "5ilpqA4nE-f3"
      },
      "execution_count": null,
      "outputs": []
    },
    {
      "cell_type": "code",
      "source": [
        "# sim_dt[id ==2222069  ]\n",
        "# 1850844\n",
        "# sqrt(((Stock_SOC_Mg_Ha-predicted)/Stock_SOC_Mg_Ha)^2)<0.05\n",
        "sim_dt[id ==2952969  & sqrt(((Stock_SOC_Mg_Ha-predicted)/Stock_SOC_Mg_Ha)^2)<0.05] %>%\n",
        "  ggplot(aes(x=Stock_SOC_Mg_Ha)) +\n",
        "  geom_histogram()\n",
        "  # print()"
      ],
      "metadata": {
        "id": "FB2Kru8Fcdpi"
      },
      "execution_count": null,
      "outputs": []
    },
    {
      "cell_type": "code",
      "source": [
        "sim_dt %>%\n",
        "  ggplot(aes(y=Stock_SOC_Mg_Ha,x=r2))+\n",
        "    geom_bin2d()\n",
        "    # geom_smooth()"
      ],
      "metadata": {
        "id": "Kdno5JZ0Yev5"
      },
      "execution_count": null,
      "outputs": []
    },
    {
      "cell_type": "code",
      "source": [
        "# Load the necessary library\n",
        "library(repr)\n",
        "\n",
        "# Adjust width and height of plots\n",
        "options(repr.plot.width=20, repr.plot.height=8)"
      ],
      "metadata": {
        "id": "ysaNMETsScgE"
      },
      "execution_count": null,
      "outputs": []
    },
    {
      "cell_type": "code",
      "source": [],
      "metadata": {
        "id": "qsoXgH7N44kI"
      },
      "execution_count": null,
      "outputs": []
    }
  ]
}