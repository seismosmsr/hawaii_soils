{
  "nbformat": 4,
  "nbformat_minor": 0,
  "metadata": {
    "colab": {
      "provenance": [],
      "machine_shape": "hm",
      "authorship_tag": "ABX9TyPg1Nx5z4oryysfbD9iLJfD",
      "include_colab_link": true
    },
    "kernelspec": {
      "name": "ir",
      "display_name": "R"
    },
    "language_info": {
      "name": "R"
    }
  },
  "cells": [
    {
      "cell_type": "markdown",
      "metadata": {
        "id": "view-in-github",
        "colab_type": "text"
      },
      "source": [
        "<a href=\"https://colab.research.google.com/github/seismosmsr/hawaii_soils/blob/main/Hawaii_Soils_Analysis.ipynb\" target=\"_parent\"><img src=\"https://colab.research.google.com/assets/colab-badge.svg\" alt=\"Open In Colab\"/></a>"
      ]
    },
    {
      "cell_type": "code",
      "execution_count": 1,
      "metadata": {
        "colab": {
          "base_uri": "https://localhost:8080/"
        },
        "id": "w3b2Yt1zzBa4",
        "outputId": "db336002-78f4-4f18-a66a-08e37c0b05cd"
      },
      "outputs": [
        {
          "output_type": "stream",
          "name": "stderr",
          "text": [
            "Installing package into ‘/usr/local/lib/R/site-library’\n",
            "(as ‘lib’ is unspecified)\n",
            "\n",
            "also installing the dependencies ‘proxy’, ‘e1071’, ‘wk’, ‘classInt’, ‘Rcpp’, ‘s2’, ‘units’\n",
            "\n",
            "\n",
            "Installing package into ‘/usr/local/lib/R/site-library’\n",
            "(as ‘lib’ is unspecified)\n",
            "\n",
            "also installing the dependencies ‘sp’, ‘terra’\n",
            "\n",
            "\n",
            "Installing package into ‘/usr/local/lib/R/site-library’\n",
            "(as ‘lib’ is unspecified)\n",
            "\n",
            "Installing package into ‘/usr/local/lib/R/site-library’\n",
            "(as ‘lib’ is unspecified)\n",
            "\n",
            "Installing package into ‘/usr/local/lib/R/site-library’\n",
            "(as ‘lib’ is unspecified)\n",
            "\n",
            "Warning message:\n",
            "“package ‘googletoken’ is not available for this version of R\n",
            "\n",
            "A version of this package for your version of R might be available elsewhere,\n",
            "see the ideas at\n",
            "https://cran.r-project.org/doc/manuals/r-patched/R-admin.html#Installing-packages”\n",
            "Installing package into ‘/usr/local/lib/R/site-library’\n",
            "(as ‘lib’ is unspecified)\n",
            "\n",
            "Installing package into ‘/usr/local/lib/R/site-library’\n",
            "(as ‘lib’ is unspecified)\n",
            "\n",
            "also installing the dependency ‘plogr’\n",
            "\n",
            "\n",
            "Installing package into ‘/usr/local/lib/R/site-library’\n",
            "(as ‘lib’ is unspecified)\n",
            "\n",
            "Installing package into ‘/usr/local/lib/R/site-library’\n",
            "(as ‘lib’ is unspecified)\n",
            "\n",
            "Installing package into ‘/usr/local/lib/R/site-library’\n",
            "(as ‘lib’ is unspecified)\n",
            "\n"
          ]
        }
      ],
      "source": [
        "install.packages('sf')\n",
        "install.packages('raster')\n",
        "install.packages('exactextractr')\n",
        "install.packages(\"googledrive\")\n",
        "install.packages(\"googletoken\")\n",
        "install.packages(\"DBI\")\n",
        "install.packages(\"RSQLite\")\n",
        "install.packages(\"RPostgreSQL\")\n",
        "install.packages(\"terra\")\n",
        "install.packages('randomForest')"
      ]
    },
    {
      "cell_type": "code",
      "source": [
        "library(ggplot2)\n",
        "library(sf)\n",
        "library(magrittr)\n",
        "library(data.table)\n",
        "library(raster)\n",
        "library(exactextractr)\n",
        "library(googledrive)\n",
        "library(DBI)\n",
        "library(terra)\n",
        "library(randomForest)\n",
        "library(parallel)"
      ],
      "metadata": {
        "id": "Jt8zFz1p0QRy",
        "outputId": "518c4b14-7d0a-4538-a94f-8ab296f5804d",
        "colab": {
          "base_uri": "https://localhost:8080/"
        }
      },
      "execution_count": 2,
      "outputs": [
        {
          "output_type": "stream",
          "name": "stderr",
          "text": [
            "Linking to GEOS 3.10.2, GDAL 3.4.3, PROJ 8.2.1; sf_use_s2() is TRUE\n",
            "\n",
            "Loading required package: sp\n",
            "\n",
            "terra 1.7.55\n",
            "\n",
            "\n",
            "Attaching package: ‘terra’\n",
            "\n",
            "\n",
            "The following object is masked from ‘package:data.table’:\n",
            "\n",
            "    shift\n",
            "\n",
            "\n",
            "The following objects are masked from ‘package:magrittr’:\n",
            "\n",
            "    extract, inset\n",
            "\n",
            "\n",
            "randomForest 4.7-1.1\n",
            "\n",
            "Type rfNews() to see new features/changes/bug fixes.\n",
            "\n",
            "\n",
            "Attaching package: ‘randomForest’\n",
            "\n",
            "\n",
            "The following object is masked from ‘package:ggplot2’:\n",
            "\n",
            "    margin\n",
            "\n",
            "\n"
          ]
        }
      ]
    },
    {
      "cell_type": "code",
      "source": [
        "drive_auth(use_oob = TRUE, cache = FALSE)"
      ],
      "metadata": {
        "id": "TIp-5Lr90ULs",
        "outputId": "85518cb7-2a16-4cd7-994e-aebfad26d14f",
        "colab": {
          "base_uri": "https://localhost:8080/"
        }
      },
      "execution_count": 3,
      "outputs": [
        {
          "output_type": "stream",
          "name": "stderr",
          "text": [
            "Please point your browser to the following url: \n",
            "\n",
            "https://accounts.google.com/o/oauth2/v2/auth?client_id=603366585132-frjlouoa3s2ono25d2l9ukvhlsrlnr7k.apps.googleusercontent.com&scope=https%3A%2F%2Fwww.googleapis.com%2Fauth%2Fdrive%20https%3A%2F%2Fwww.googleapis.com%2Fauth%2Fuserinfo.email&redirect_uri=https%3A%2F%2Fwww.tidyverse.org%2Fgoogle-callback%2F&response_type=code&state=421fcc69d9c10ddc9e8ce15f7a27cc5f&access_type=offline&prompt=consent\n",
            "\n"
          ]
        },
        {
          "name": "stdout",
          "output_type": "stream",
          "text": [
            "Enter authorization code: eyJjb2RlIjoiNC8wQWZKb2hYbFVfS0drYnd5QU5ZVFEzaFNiYk5mTlhfcDg5cld3TDlYc2FnSFFUbXV1RUVSUDVSSGdPUkVTZnRTX2k2WU4ydyIsInN0YXRlIjoiNDIxZmNjNjlkOWMxMGRkYzllOGNlMTVmN2EyN2NjNWYifQ==\n"
          ]
        }
      ]
    },
    {
      "cell_type": "code",
      "source": [
        "# https://drive.google.com/file/d/1ryTzWz0t9mgI5ynPvMzM21D135dLJvWv/view?usp=drive_link\n",
        "# Updated: https://drive.google.com/file/d/17c3DJcujQ_0MHirG2z2lSU88A0lvjo1C/view?usp=sharing\n",
        "drive_download(as_id('17c3DJcujQ_0MHirG2z2lSU88A0lvjo1C'), path = paste0('/content/fia.csv'), overwrite = TRUE)\n",
        "fia_dt <-  st_read('/content/fia.csv') %>% st_as_sf(coords = c(\"LON\",\"LAT\"), crs = 4326) %>% data.table"
      ],
      "metadata": {
        "id": "GIyOF5ltSRpq",
        "outputId": "58026f54-6df8-42df-b622-853e528b1636",
        "colab": {
          "base_uri": "https://localhost:8080/"
        }
      },
      "execution_count": 4,
      "outputs": [
        {
          "output_type": "stream",
          "name": "stderr",
          "text": [
            "File downloaded:\n",
            "\n",
            "• \u001b[36m2023_11_01FIA_soil_subset.csv\u001b[39m \u001b[90m<id: 17c3DJcujQ_0MHirG2z2lSU88A0lvjo1C>\u001b[39m\n",
            "\n",
            "Saved locally as:\n",
            "\n",
            "• \u001b[34m/content/fia.csv\u001b[39m\n",
            "\n"
          ]
        },
        {
          "output_type": "stream",
          "name": "stdout",
          "text": [
            "Reading layer `fia' from data source `/content/fia.csv' using driver `CSV'\n"
          ]
        },
        {
          "output_type": "stream",
          "name": "stderr",
          "text": [
            "Warning message:\n",
            "“no simple feature geometries present: returning a data.frame or tbl_df”\n"
          ]
        }
      ]
    },
    {
      "cell_type": "code",
      "source": [
        "# https://drive.google.com/file/d/1G-qBpO_nzLIHWZQGNyrSutmBonjsrvEJ/view?usp=drive_link\n",
        "drive_download(as_id('1G-qBpO_nzLIHWZQGNyrSutmBonjsrvEJ'), path = \"/content/250_summary_grid_dt.gpkg\", overwrite = TRUE)\n",
        "grid_dt <- st_read(\"/content/250_summary_grid_dt.gpkg\") %>% st_transform(4326) %>% data.table()"
      ],
      "metadata": {
        "id": "6i5eFIGc1vby",
        "outputId": "5918bb26-3613-46b2-95d0-489e5d816217",
        "colab": {
          "base_uri": "https://localhost:8080/"
        }
      },
      "execution_count": 5,
      "outputs": [
        {
          "output_type": "stream",
          "name": "stderr",
          "text": [
            "File downloaded:\n",
            "\n",
            "• \u001b[36m250_summary_grid_full_dt.gpkg\u001b[39m \u001b[90m<id: 1G-qBpO_nzLIHWZQGNyrSutmBonjsrvEJ>\u001b[39m\n",
            "\n",
            "Saved locally as:\n",
            "\n",
            "• \u001b[34m/content/250_summary_grid_dt.gpkg\u001b[39m\n",
            "\n"
          ]
        },
        {
          "output_type": "stream",
          "name": "stdout",
          "text": [
            "Reading layer `250_summary_grid_full_dt' from data source \n",
            "  `/content/250_summary_grid_dt.gpkg' using driver `GPKG'\n",
            "Simple feature collection with 227561 features and 35 fields\n",
            "Geometry type: POINT\n",
            "Dimension:     XY\n",
            "Bounding box:  xmin: 57161.36 ymin: 16952.32 xmax: 572661.4 ymax: 381202.3\n",
            "Projected CRS: NAD_1983_HARN_StatePlane_Hawaii_1_FIPS_5101\n"
          ]
        }
      ]
    },
    {
      "cell_type": "code",
      "source": [
        "print('hello')"
      ],
      "metadata": {
        "colab": {
          "base_uri": "https://localhost:8080/"
        },
        "id": "0fbtvXy0ZYxA",
        "outputId": "cab84c53-002e-403b-c80a-159137b62729"
      },
      "execution_count": 6,
      "outputs": [
        {
          "output_type": "stream",
          "name": "stdout",
          "text": [
            "[1] \"hello\"\n"
          ]
        }
      ]
    },
    {
      "cell_type": "code",
      "source": [
        "# Simulation data\n",
        "# https://drive.google.com/file/d/1HsEZDWJN7XO4aOZlMwbr_6MN3_-xUV81/view?usp=drive_link Run 1\n",
        "drive_download(file = as_id('1HsEZDWJN7XO4aOZlMwbr_6MN3_-xUV81'), path =  '/content/sim_results_Hawaii_Run1.gpkg', overwrite = TRUE)\n",
        "\n",
        "# https://drive.google.com/file/d/15tK1_k9FEGda5aL0P9SyRID-Xk0p_YuF/view?usp=drive_link Run 2\n",
        "drive_download(file = as_id('15tK1_k9FEGda5aL0P9SyRID-Xk0p_YuF'), path =  '/content/sim_results_Hawaii_Run2.gpkg', overwrite = TRUE)\n",
        "\n",
        "# https://drive.google.com/file/d/1RrfNnsmy5ec0inSq35m_uEF3eskgcDDB/view?usp=drive_link Run 3\n",
        "drive_download(file = as_id('1RrfNnsmy5ec0inSq35m_uEF3eskgcDDB'), path =  '/content/sim_results_Hawaii_Run3.gpkg', overwrite = TRUE)\n"
      ],
      "metadata": {
        "id": "O0fhKgBSbbbk",
        "outputId": "14140a4a-cbf6-4f64-d010-a04bc6c14eec",
        "colab": {
          "base_uri": "https://localhost:8080/"
        }
      },
      "execution_count": 7,
      "outputs": [
        {
          "output_type": "stream",
          "name": "stderr",
          "text": [
            "File downloaded:\n",
            "\n",
            "• \u001b[36msim_results_Hawaii_10000m_Run1.gpkg\u001b[39m \u001b[90m<id: 1HsEZDWJN7XO4aOZlMwbr_6MN3_-xUV81>\u001b[39m\n",
            "\n",
            "Saved locally as:\n",
            "\n",
            "• \u001b[34m/content/sim_results_Hawaii_Run1.gpkg\u001b[39m\n",
            "\n",
            "File downloaded:\n",
            "\n",
            "• \u001b[36msim_results_Hawaii_10000m_Run2.gpkg\u001b[39m \u001b[90m<id: 15tK1_k9FEGda5aL0P9SyRID-Xk0p_YuF>\u001b[39m\n",
            "\n",
            "Saved locally as:\n",
            "\n",
            "• \u001b[34m/content/sim_results_Hawaii_Run2.gpkg\u001b[39m\n",
            "\n",
            "File downloaded:\n",
            "\n",
            "• \u001b[36msim_results_Hawaii_10000m_Run3.gpkg\u001b[39m \u001b[90m<id: 1RrfNnsmy5ec0inSq35m_uEF3eskgcDDB>\u001b[39m\n",
            "\n",
            "Saved locally as:\n",
            "\n",
            "• \u001b[34m/content/sim_results_Hawaii_Run3.gpkg\u001b[39m\n",
            "\n"
          ]
        }
      ]
    },
    {
      "cell_type": "code",
      "source": [
        "sim_dt <- NULL\n",
        "gc()"
      ],
      "metadata": {
        "colab": {
          "base_uri": "https://localhost:8080/",
          "height": 129
        },
        "id": "UoZxqiTKqb8B",
        "outputId": "525624a6-1267-40c2-e7f1-7a72ea23f23b"
      },
      "execution_count": 8,
      "outputs": [
        {
          "output_type": "display_data",
          "data": {
            "text/html": [
              "<table class=\"dataframe\">\n",
              "<caption>A matrix: 2 × 6 of type dbl</caption>\n",
              "<thead>\n",
              "\t<tr><th></th><th scope=col>used</th><th scope=col>(Mb)</th><th scope=col>gc trigger</th><th scope=col>(Mb)</th><th scope=col>max used</th><th scope=col>(Mb)</th></tr>\n",
              "</thead>\n",
              "<tbody>\n",
              "\t<tr><th scope=row>Ncells</th><td> 3640446</td><td>194.5</td><td> 6988805</td><td>373.3</td><td> 6988805</td><td>373.3</td></tr>\n",
              "\t<tr><th scope=row>Vcells</th><td>13565422</td><td>103.5</td><td>39123827</td><td>298.5</td><td>33319715</td><td>254.3</td></tr>\n",
              "</tbody>\n",
              "</table>\n"
            ],
            "text/markdown": "\nA matrix: 2 × 6 of type dbl\n\n| <!--/--> | used | (Mb) | gc trigger | (Mb) | max used | (Mb) |\n|---|---|---|---|---|---|---|\n| Ncells |  3640446 | 194.5 |  6988805 | 373.3 |  6988805 | 373.3 |\n| Vcells | 13565422 | 103.5 | 39123827 | 298.5 | 33319715 | 254.3 |\n\n",
            "text/latex": "A matrix: 2 × 6 of type dbl\n\\begin{tabular}{r|llllll}\n  & used & (Mb) & gc trigger & (Mb) & max used & (Mb)\\\\\n\\hline\n\tNcells &  3640446 & 194.5 &  6988805 & 373.3 &  6988805 & 373.3\\\\\n\tVcells & 13565422 & 103.5 & 39123827 & 298.5 & 33319715 & 254.3\\\\\n\\end{tabular}\n",
            "text/plain": [
              "       used     (Mb)  gc trigger (Mb)  max used (Mb) \n",
              "Ncells  3640446 194.5  6988805   373.3  6988805 373.3\n",
              "Vcells 13565422 103.5 39123827   298.5 33319715 254.3"
            ]
          },
          "metadata": {}
        }
      ]
    },
    {
      "cell_type": "code",
      "source": [
        "sim_1_dt <- st_read( '/content/sim_results_Hawaii_Run1.gpkg') %>% data.table\n",
        "sim_2_dt <- st_read( '/content/sim_results_Hawaii_Run2.gpkg') %>% data.table\n",
        "sim_3_dt <- st_read( '/content/sim_results_Hawaii_Run3.gpkg') %>% data.table"
      ],
      "metadata": {
        "colab": {
          "base_uri": "https://localhost:8080/"
        },
        "id": "qcOWC2TKb4kS",
        "outputId": "0a0d2ae7-1768-4b6a-8918-10890b1d5ae9"
      },
      "execution_count": 9,
      "outputs": [
        {
          "output_type": "stream",
          "name": "stdout",
          "text": [
            "Reading layer `sim_results_Hawaii_10000m_Run1' from data source \n",
            "  `/content/sim_results_Hawaii_Run1.gpkg' using driver `GPKG'\n",
            "Simple feature collection with 5600000 features and 74 fields\n",
            "Geometry type: POINT\n",
            "Dimension:     XY\n",
            "Bounding box:  xmin: -156.0017 ymin: 19.0045 xmax: -154.8362 ymax: 20.25088\n",
            "Geodetic CRS:  WGS 84\n",
            "Reading layer `sim_results_Hawaii_10000m_Run2' from data source \n",
            "  `/content/sim_results_Hawaii_Run2.gpkg' using driver `GPKG'\n",
            "Simple feature collection with 5600000 features and 74 fields\n",
            "Geometry type: POINT\n",
            "Dimension:     XY\n",
            "Bounding box:  xmin: -156.0017 ymin: 19.0045 xmax: -154.8362 ymax: 20.25088\n",
            "Geodetic CRS:  WGS 84\n",
            "Reading layer `sim_results_Hawaii_10000m_Run3' from data source \n",
            "  `/content/sim_results_Hawaii_Run3.gpkg' using driver `GPKG'\n",
            "Simple feature collection with 5600000 features and 74 fields\n",
            "Geometry type: POINT\n",
            "Dimension:     XY\n",
            "Bounding box:  xmin: -156.0017 ymin: 19.0045 xmax: -154.8362 ymax: 20.25088\n",
            "Geodetic CRS:  WGS 84\n"
          ]
        }
      ]
    },
    {
      "cell_type": "code",
      "source": [
        "sim_dt <-list(sim_1_dt,sim_2_dt,sim_3_dt) %>% rbindlist()"
      ],
      "metadata": {
        "id": "rlWnfNM-tjtK"
      },
      "execution_count": 10,
      "outputs": []
    },
    {
      "cell_type": "code",
      "source": [
        "grid_int_dt  <- fia_dt$geom %>% st_transform(4135) %>% st_buffer(10000) %>% st_transform(4326) %>% st_intersects(grid_dt$geom)"
      ],
      "metadata": {
        "id": "0A-fL1krTbA_"
      },
      "execution_count": 11,
      "outputs": []
    },
    {
      "cell_type": "code",
      "source": [
        "rm_vec <- grid_int_dt %>% lapply(length) %>% unlist > 0\n",
        "grid_int_dt <- grid_int_dt[rm_vec]\n",
        "fia_dt <- fia_dt[rm_vec,]"
      ],
      "metadata": {
        "id": "isEeYbV1UDV9"
      },
      "execution_count": 12,
      "outputs": []
    },
    {
      "cell_type": "code",
      "source": [
        "grid_dt <- grid_dt[!is.na(srad),]"
      ],
      "metadata": {
        "id": "GuKe5EAqAWtK"
      },
      "execution_count": 13,
      "outputs": []
    },
    {
      "cell_type": "code",
      "source": [
        "grid_dt$agbd_n <- grid_dt$agbd_n %>% as.numeric"
      ],
      "metadata": {
        "id": "XsFPDjw_BHKX"
      },
      "execution_count": 14,
      "outputs": []
    },
    {
      "cell_type": "code",
      "source": [
        "fia_dt$Stock_SOC_Mg_Ha <- fia_dt$Stock_SOC_Mg_Ha %>% as.numeric"
      ],
      "metadata": {
        "id": "Au3xpFsoA2Qz",
        "outputId": "7651cb59-e668-4083-e3e4-eec416136634",
        "colab": {
          "base_uri": "https://localhost:8080/"
        }
      },
      "execution_count": 15,
      "outputs": [
        {
          "output_type": "stream",
          "name": "stderr",
          "text": [
            "Warning message in fia_dt$Stock_SOC_Mg_Ha %>% as.numeric:\n",
            "“NAs introduced by coercion”\n"
          ]
        }
      ]
    },
    {
      "cell_type": "code",
      "source": [
        "sim_dt %>% nrow"
      ],
      "metadata": {
        "id": "qumOZBUZ7d_T",
        "outputId": "db6827bd-4deb-4189-c8c4-90f8f78b1833",
        "colab": {
          "base_uri": "https://localhost:8080/",
          "height": 34
        }
      },
      "execution_count": 16,
      "outputs": [
        {
          "output_type": "display_data",
          "data": {
            "text/html": [
              "16800000"
            ],
            "text/markdown": "16800000",
            "text/latex": "16800000",
            "text/plain": [
              "[1] 16800000"
            ]
          },
          "metadata": {}
        }
      ]
    },
    {
      "cell_type": "code",
      "source": [
        "sim_dt[,z:=(predicted-Stock_SOC_Mg_Ha)/Stock_SOC_Mg_Ha]"
      ],
      "metadata": {
        "id": "ykTLK7Zfvb_Y"
      },
      "execution_count": 17,
      "outputs": []
    },
    {
      "cell_type": "code",
      "source": [
        "sim_dt[,residual_per:=(predicted-Stock_SOC_Mg_Ha)/Stock_SOC_Mg_Ha]"
      ],
      "metadata": {
        "id": "qozeGGhyeNR6"
      },
      "execution_count": 18,
      "outputs": []
    },
    {
      "cell_type": "code",
      "source": [
        "sim_dt[ z > -0.05 &z<0.05]$predicted %>% qplot"
      ],
      "metadata": {
        "colab": {
          "base_uri": "https://localhost:8080/",
          "height": 490
        },
        "id": "83G-MoVduIeE",
        "outputId": "07660b4f-a071-42d4-9f15-9f49a7334488"
      },
      "execution_count": 19,
      "outputs": [
        {
          "output_type": "stream",
          "name": "stderr",
          "text": [
            "Warning message:\n",
            "“\u001b[1m\u001b[22m`qplot()` was deprecated in ggplot2 3.4.0.”\n",
            "\u001b[1m\u001b[22m`stat_bin()` using `bins = 30`. Pick better value with `binwidth`.\n"
          ]
        },
        {
          "output_type": "display_data",
          "data": {
            "text/plain": [
              "plot without title"
            ],
            "image/png": "[encoded data removed]"
          },
          "metadata": {
            "image/png": {
              "width": 420,
              "height": 420
            }
          }
        }
      ]
    },
    {
      "cell_type": "code",
      "source": [
        "sim_dt$Stock_SOC_Mg_Ha %>% qplot"
      ],
      "metadata": {
        "colab": {
          "base_uri": "https://localhost:8080/",
          "height": 455
        },
        "id": "FYEQyrPhuMp8",
        "outputId": "0f79dced-4d38-40ae-e31a-8a337dc7dd28"
      },
      "execution_count": 20,
      "outputs": [
        {
          "output_type": "stream",
          "name": "stderr",
          "text": [
            "\u001b[1m\u001b[22m`stat_bin()` using `bins = 30`. Pick better value with `binwidth`.\n"
          ]
        },
        {
          "output_type": "display_data",
          "data": {
            "text/plain": [
              "plot without title"
            ],
            "image/png": "[encoded data removed]"
          },
          "metadata": {
            "image/png": {
              "width": 420,
              "height": 420
            }
          }
        }
      ]
    },
    {
      "cell_type": "code",
      "source": [
        "sim_dt[id==2831164]$predicted %>% qplot(bins=100)\n",
        "\n",
        "sim_dt[id==2831164 & z > -0.05 &z<0.05]$predicted %>% qplot(geom='histogram')"
      ],
      "metadata": {
        "colab": {
          "base_uri": "https://localhost:8080/",
          "height": 875
        },
        "id": "4Vplh_bzvy2V",
        "outputId": "9beb112b-87c2-4cfe-8b79-745b8807f160"
      },
      "execution_count": 21,
      "outputs": [
        {
          "output_type": "stream",
          "name": "stderr",
          "text": [
            "\u001b[1m\u001b[22m`stat_bin()` using `bins = 30`. Pick better value with `binwidth`.\n"
          ]
        },
        {
          "output_type": "display_data",
          "data": {
            "text/plain": [
              "plot without title"
            ],
            "image/png": "[encoded data removed]"
          },
          "metadata": {
            "image/png": {
              "width": 420,
              "height": 420
            }
          }
        },
        {
          "output_type": "display_data",
          "data": {
            "text/plain": [
              "plot without title"
            ],
            "image/png": "[encoded data removed]"
          },
          "metadata": {
            "image/png": {
              "width": 420,
              "height": 420
            }
          }
        }
      ]
    },
    {
      "cell_type": "code",
      "source": [
        "sim_summary_dt <- sim_dt[,list(length = length(r2),length_05 = length(r2[sqrt((z)^2) <0.05]),geom=unique(geom)),by=.(id,PLOT)]"
      ],
      "metadata": {
        "id": "dQe6TcWmQE9z"
      },
      "execution_count": 22,
      "outputs": []
    },
    {
      "cell_type": "code",
      "source": [
        "# sim_summary_dt\n",
        "sim_summary_dt[PLOT==5289]$length_05 %>% qplot"
      ],
      "metadata": {
        "colab": {
          "base_uri": "https://localhost:8080/",
          "height": 455
        },
        "id": "8ety8b9EirDE",
        "outputId": "c89d0a48-4271-403e-f28a-2220d0e6675c"
      },
      "execution_count": 23,
      "outputs": [
        {
          "output_type": "stream",
          "name": "stderr",
          "text": [
            "\u001b[1m\u001b[22m`stat_bin()` using `bins = 30`. Pick better value with `binwidth`.\n"
          ]
        },
        {
          "output_type": "display_data",
          "data": {
            "text/plain": [
              "plot without title"
            ],
            "image/png": "[encoded data removed]"
          },
          "metadata": {
            "image/png": {
              "width": 420,
              "height": 420
            }
          }
        }
      ]
    },
    {
      "cell_type": "code",
      "source": [
        "sim_summary_dt %>% st_as_sf %>% st_write('sim_summary_id_plot.gpkg',delete_dsn = T)"
      ],
      "metadata": {
        "id": "t7KCfekdwa45",
        "outputId": "a8524823-4b86-44f5-ebaa-843c2327146f",
        "colab": {
          "base_uri": "https://localhost:8080/"
        }
      },
      "execution_count": 24,
      "outputs": [
        {
          "output_type": "stream",
          "name": "stderr",
          "text": [
            "writing: substituting ENGCRS[\"Undefined Cartesian SRS with unknown unit\"] for missing CRS\n",
            "\n"
          ]
        },
        {
          "output_type": "stream",
          "name": "stdout",
          "text": [
            "Deleting source `sim_summary_id_plot.gpkg' failed\n",
            "Writing layer `sim_summary_id_plot' to data source \n",
            "  `sim_summary_id_plot.gpkg' using driver `GPKG'\n",
            "Writing 277039 features with 4 fields and geometry type Point.\n"
          ]
        }
      ]
    },
    {
      "cell_type": "code",
      "source": [
        "(sim_dt %>% names)[c(9:18,20:37)]"
      ],
      "metadata": {
        "colab": {
          "base_uri": "https://localhost:8080/",
          "height": 52
        },
        "id": "55HRclaRCkNj",
        "outputId": "7934ce6b-5657-49cf-ac78-2e9ec4e92eed"
      },
      "execution_count": 44,
      "outputs": [
        {
          "output_type": "display_data",
          "data": {
            "text/html": [
              "<style>\n",
              ".list-inline {list-style: none; margin:0; padding: 0}\n",
              ".list-inline>li {display: inline-block}\n",
              ".list-inline>li:not(:last-child)::after {content: \"\\00b7\"; padding: 0 .5ex}\n",
              "</style>\n",
              "<ol class=list-inline><li>'water'</li><li>'trees'</li><li>'grass'</li><li>'flooded_vegetation'</li><li>'crops'</li><li>'shrub_and_scrub'</li><li>'built'</li><li>'bare'</li><li>'snow_and_ice'</li><li>'elevation'</li><li>'SRTM_mTPI'</li><li>'aet'</li><li>'def'</li><li>'pdsi'</li><li>'pet'</li><li>'pr'</li><li>'ro'</li><li>'soil'</li><li>'srad'</li><li>'swe'</li><li>'tmmn'</li><li>'tmmx'</li><li>'vap'</li><li>'vpd'</li><li>'vs'</li><li>'agbd_m'</li><li>'agbd_sd'</li><li>'agbd_n'</li></ol>\n"
            ],
            "text/markdown": "1. 'water'\n2. 'trees'\n3. 'grass'\n4. 'flooded_vegetation'\n5. 'crops'\n6. 'shrub_and_scrub'\n7. 'built'\n8. 'bare'\n9. 'snow_and_ice'\n10. 'elevation'\n11. 'SRTM_mTPI'\n12. 'aet'\n13. 'def'\n14. 'pdsi'\n15. 'pet'\n16. 'pr'\n17. 'ro'\n18. 'soil'\n19. 'srad'\n20. 'swe'\n21. 'tmmn'\n22. 'tmmx'\n23. 'vap'\n24. 'vpd'\n25. 'vs'\n26. 'agbd_m'\n27. 'agbd_sd'\n28. 'agbd_n'\n\n\n",
            "text/latex": "\\begin{enumerate*}\n\\item 'water'\n\\item 'trees'\n\\item 'grass'\n\\item 'flooded\\_vegetation'\n\\item 'crops'\n\\item 'shrub\\_and\\_scrub'\n\\item 'built'\n\\item 'bare'\n\\item 'snow\\_and\\_ice'\n\\item 'elevation'\n\\item 'SRTM\\_mTPI'\n\\item 'aet'\n\\item 'def'\n\\item 'pdsi'\n\\item 'pet'\n\\item 'pr'\n\\item 'ro'\n\\item 'soil'\n\\item 'srad'\n\\item 'swe'\n\\item 'tmmn'\n\\item 'tmmx'\n\\item 'vap'\n\\item 'vpd'\n\\item 'vs'\n\\item 'agbd\\_m'\n\\item 'agbd\\_sd'\n\\item 'agbd\\_n'\n\\end{enumerate*}\n",
            "text/plain": [
              " [1] \"water\"              \"trees\"              \"grass\"             \n",
              " [4] \"flooded_vegetation\" \"crops\"              \"shrub_and_scrub\"   \n",
              " [7] \"built\"              \"bare\"               \"snow_and_ice\"      \n",
              "[10] \"elevation\"          \"SRTM_mTPI\"          \"aet\"               \n",
              "[13] \"def\"                \"pdsi\"               \"pet\"               \n",
              "[16] \"pr\"                 \"ro\"                 \"soil\"              \n",
              "[19] \"srad\"               \"swe\"                \"tmmn\"              \n",
              "[22] \"tmmx\"               \"vap\"                \"vpd\"               \n",
              "[25] \"vs\"                 \"agbd_m\"             \"agbd_sd\"           \n",
              "[28] \"agbd_n\"            "
            ]
          },
          "metadata": {}
        }
      ]
    },
    {
      "cell_type": "code",
      "source": [
        "sim_dt$id %>% sample(1)\n",
        "sim_dt[id==2762315]$PLOT %>% table"
      ],
      "metadata": {
        "id": "T7bfZLlnv2kw"
      },
      "execution_count": null,
      "outputs": []
    },
    {
      "cell_type": "code",
      "source": [
        "sim_dt[id==2762315] %>% nrow"
      ],
      "metadata": {
        "id": "sZIan_uuv_eq"
      },
      "execution_count": null,
      "outputs": []
    },
    {
      "cell_type": "code",
      "source": [
        "#  sim_dt[id==2762315 &PLOT == 2678]$z %>% abs %>% qplot"
      ],
      "metadata": {
        "id": "TE5mLdbMwPBv"
      },
      "execution_count": null,
      "outputs": []
    },
    {
      "cell_type": "code",
      "source": [
        "sim_dt[id==2762315 &PLOT == 2678 ]$id %>% unique"
      ],
      "metadata": {
        "id": "K5ZOagATPk4_",
        "outputId": "62b66d1a-f550-44c3-8c9d-6afe97fda6d1",
        "colab": {
          "base_uri": "https://localhost:8080/",
          "height": 34
        }
      },
      "execution_count": 52,
      "outputs": [
        {
          "output_type": "display_data",
          "data": {
            "text/html": [
              "2762315"
            ],
            "text/markdown": "2762315",
            "text/latex": "2762315",
            "text/plain": [
              "[1] 2762315"
            ]
          },
          "metadata": {}
        }
      ]
    },
    {
      "cell_type": "code",
      "source": [
        "names(sim_dt)"
      ],
      "metadata": {
        "id": "o1nEka7qXTVw",
        "outputId": "ee85eb2f-0e92-4a16-bc1d-928215185e70",
        "colab": {
          "base_uri": "https://localhost:8080/",
          "height": 139
        }
      },
      "execution_count": 95,
      "outputs": [
        {
          "output_type": "display_data",
          "data": {
            "text/html": [
              "<style>\n",
              ".list-inline {list-style: none; margin:0; padding: 0}\n",
              ".list-inline>li {display: inline-block}\n",
              ".list-inline>li:not(:last-child)::after {content: \"\\00b7\"; padding: 0 .5ex}\n",
              "</style>\n",
              "<ol class=list-inline><li>'PLOT'</li><li>'Stock_SOC_Mg_Ha'</li><li>'county_name'</li><li>'id'</li><li>'left'</li><li>'top'</li><li>'right'</li><li>'bottom'</li><li>'water'</li><li>'trees'</li><li>'grass'</li><li>'flooded_vegetation'</li><li>'crops'</li><li>'shrub_and_scrub'</li><li>'built'</li><li>'bare'</li><li>'snow_and_ice'</li><li>'elevation'</li><li>'landform'</li><li>'SRTM_mTPI'</li><li>'aet'</li><li>'def'</li><li>'pdsi'</li><li>'pet'</li><li>'pr'</li><li>'ro'</li><li>'soil'</li><li>'srad'</li><li>'swe'</li><li>'tmmn'</li><li>'tmmx'</li><li>'vap'</li><li>'vpd'</li><li>'vs'</li><li>'agbd_m'</li><li>'agbd_sd'</li><li>'agbd_n'</li><li>'majorcomposition'</li><li>'age_years'</li><li>'age_class'</li><li>'predicted'</li><li>'var_imp_water'</li><li>'var_imp_trees'</li><li>'var_imp_grass'</li><li>'var_imp_flooded_vegetation'</li><li>'var_imp_crops'</li><li>'var_imp_shrub_and_scrub'</li><li>'var_imp_built'</li><li>'var_imp_bare'</li><li>'var_imp_snow_and_ice'</li><li>'var_imp_elevation'</li><li>'var_imp_landform'</li><li>'var_imp_SRTM_mTPI'</li><li>'var_imp_aet'</li><li>'var_imp_def'</li><li>'var_imp_pdsi'</li><li>'var_imp_pet'</li><li>'var_imp_pr'</li><li>'var_imp_ro'</li><li>'var_imp_soil'</li><li>'var_imp_srad'</li><li>'var_imp_swe'</li><li>'var_imp_tmmn'</li><li>'var_imp_tmmx'</li><li>'var_imp_vap'</li><li>'var_imp_vpd'</li><li>'var_imp_vs'</li><li>'var_imp_agbd_m'</li><li>'var_imp_agbd_sd'</li><li>'var_imp_agbd_n'</li><li>'var_imp_majorcomposition'</li><li>'var_imp_age_years'</li><li>'var_imp_age_class'</li><li>'r2'</li><li>'geom'</li><li>'z'</li><li>'residual_per'</li><li>'good'</li></ol>\n"
            ],
            "text/markdown": "1. 'PLOT'\n2. 'Stock_SOC_Mg_Ha'\n3. 'county_name'\n4. 'id'\n5. 'left'\n6. 'top'\n7. 'right'\n8. 'bottom'\n9. 'water'\n10. 'trees'\n11. 'grass'\n12. 'flooded_vegetation'\n13. 'crops'\n14. 'shrub_and_scrub'\n15. 'built'\n16. 'bare'\n17. 'snow_and_ice'\n18. 'elevation'\n19. 'landform'\n20. 'SRTM_mTPI'\n21. 'aet'\n22. 'def'\n23. 'pdsi'\n24. 'pet'\n25. 'pr'\n26. 'ro'\n27. 'soil'\n28. 'srad'\n29. 'swe'\n30. 'tmmn'\n31. 'tmmx'\n32. 'vap'\n33. 'vpd'\n34. 'vs'\n35. 'agbd_m'\n36. 'agbd_sd'\n37. 'agbd_n'\n38. 'majorcomposition'\n39. 'age_years'\n40. 'age_class'\n41. 'predicted'\n42. 'var_imp_water'\n43. 'var_imp_trees'\n44. 'var_imp_grass'\n45. 'var_imp_flooded_vegetation'\n46. 'var_imp_crops'\n47. 'var_imp_shrub_and_scrub'\n48. 'var_imp_built'\n49. 'var_imp_bare'\n50. 'var_imp_snow_and_ice'\n51. 'var_imp_elevation'\n52. 'var_imp_landform'\n53. 'var_imp_SRTM_mTPI'\n54. 'var_imp_aet'\n55. 'var_imp_def'\n56. 'var_imp_pdsi'\n57. 'var_imp_pet'\n58. 'var_imp_pr'\n59. 'var_imp_ro'\n60. 'var_imp_soil'\n61. 'var_imp_srad'\n62. 'var_imp_swe'\n63. 'var_imp_tmmn'\n64. 'var_imp_tmmx'\n65. 'var_imp_vap'\n66. 'var_imp_vpd'\n67. 'var_imp_vs'\n68. 'var_imp_agbd_m'\n69. 'var_imp_agbd_sd'\n70. 'var_imp_agbd_n'\n71. 'var_imp_majorcomposition'\n72. 'var_imp_age_years'\n73. 'var_imp_age_class'\n74. 'r2'\n75. 'geom'\n76. 'z'\n77. 'residual_per'\n78. 'good'\n\n\n",
            "text/latex": "\\begin{enumerate*}\n\\item 'PLOT'\n\\item 'Stock\\_SOC\\_Mg\\_Ha'\n\\item 'county\\_name'\n\\item 'id'\n\\item 'left'\n\\item 'top'\n\\item 'right'\n\\item 'bottom'\n\\item 'water'\n\\item 'trees'\n\\item 'grass'\n\\item 'flooded\\_vegetation'\n\\item 'crops'\n\\item 'shrub\\_and\\_scrub'\n\\item 'built'\n\\item 'bare'\n\\item 'snow\\_and\\_ice'\n\\item 'elevation'\n\\item 'landform'\n\\item 'SRTM\\_mTPI'\n\\item 'aet'\n\\item 'def'\n\\item 'pdsi'\n\\item 'pet'\n\\item 'pr'\n\\item 'ro'\n\\item 'soil'\n\\item 'srad'\n\\item 'swe'\n\\item 'tmmn'\n\\item 'tmmx'\n\\item 'vap'\n\\item 'vpd'\n\\item 'vs'\n\\item 'agbd\\_m'\n\\item 'agbd\\_sd'\n\\item 'agbd\\_n'\n\\item 'majorcomposition'\n\\item 'age\\_years'\n\\item 'age\\_class'\n\\item 'predicted'\n\\item 'var\\_imp\\_water'\n\\item 'var\\_imp\\_trees'\n\\item 'var\\_imp\\_grass'\n\\item 'var\\_imp\\_flooded\\_vegetation'\n\\item 'var\\_imp\\_crops'\n\\item 'var\\_imp\\_shrub\\_and\\_scrub'\n\\item 'var\\_imp\\_built'\n\\item 'var\\_imp\\_bare'\n\\item 'var\\_imp\\_snow\\_and\\_ice'\n\\item 'var\\_imp\\_elevation'\n\\item 'var\\_imp\\_landform'\n\\item 'var\\_imp\\_SRTM\\_mTPI'\n\\item 'var\\_imp\\_aet'\n\\item 'var\\_imp\\_def'\n\\item 'var\\_imp\\_pdsi'\n\\item 'var\\_imp\\_pet'\n\\item 'var\\_imp\\_pr'\n\\item 'var\\_imp\\_ro'\n\\item 'var\\_imp\\_soil'\n\\item 'var\\_imp\\_srad'\n\\item 'var\\_imp\\_swe'\n\\item 'var\\_imp\\_tmmn'\n\\item 'var\\_imp\\_tmmx'\n\\item 'var\\_imp\\_vap'\n\\item 'var\\_imp\\_vpd'\n\\item 'var\\_imp\\_vs'\n\\item 'var\\_imp\\_agbd\\_m'\n\\item 'var\\_imp\\_agbd\\_sd'\n\\item 'var\\_imp\\_agbd\\_n'\n\\item 'var\\_imp\\_majorcomposition'\n\\item 'var\\_imp\\_age\\_years'\n\\item 'var\\_imp\\_age\\_class'\n\\item 'r2'\n\\item 'geom'\n\\item 'z'\n\\item 'residual\\_per'\n\\item 'good'\n\\end{enumerate*}\n",
            "text/plain": [
              " [1] \"PLOT\"                       \"Stock_SOC_Mg_Ha\"           \n",
              " [3] \"county_name\"                \"id\"                        \n",
              " [5] \"left\"                       \"top\"                       \n",
              " [7] \"right\"                      \"bottom\"                    \n",
              " [9] \"water\"                      \"trees\"                     \n",
              "[11] \"grass\"                      \"flooded_vegetation\"        \n",
              "[13] \"crops\"                      \"shrub_and_scrub\"           \n",
              "[15] \"built\"                      \"bare\"                      \n",
              "[17] \"snow_and_ice\"               \"elevation\"                 \n",
              "[19] \"landform\"                   \"SRTM_mTPI\"                 \n",
              "[21] \"aet\"                        \"def\"                       \n",
              "[23] \"pdsi\"                       \"pet\"                       \n",
              "[25] \"pr\"                         \"ro\"                        \n",
              "[27] \"soil\"                       \"srad\"                      \n",
              "[29] \"swe\"                        \"tmmn\"                      \n",
              "[31] \"tmmx\"                       \"vap\"                       \n",
              "[33] \"vpd\"                        \"vs\"                        \n",
              "[35] \"agbd_m\"                     \"agbd_sd\"                   \n",
              "[37] \"agbd_n\"                     \"majorcomposition\"          \n",
              "[39] \"age_years\"                  \"age_class\"                 \n",
              "[41] \"predicted\"                  \"var_imp_water\"             \n",
              "[43] \"var_imp_trees\"              \"var_imp_grass\"             \n",
              "[45] \"var_imp_flooded_vegetation\" \"var_imp_crops\"             \n",
              "[47] \"var_imp_shrub_and_scrub\"    \"var_imp_built\"             \n",
              "[49] \"var_imp_bare\"               \"var_imp_snow_and_ice\"      \n",
              "[51] \"var_imp_elevation\"          \"var_imp_landform\"          \n",
              "[53] \"var_imp_SRTM_mTPI\"          \"var_imp_aet\"               \n",
              "[55] \"var_imp_def\"                \"var_imp_pdsi\"              \n",
              "[57] \"var_imp_pet\"                \"var_imp_pr\"                \n",
              "[59] \"var_imp_ro\"                 \"var_imp_soil\"              \n",
              "[61] \"var_imp_srad\"               \"var_imp_swe\"               \n",
              "[63] \"var_imp_tmmn\"               \"var_imp_tmmx\"              \n",
              "[65] \"var_imp_vap\"                \"var_imp_vpd\"               \n",
              "[67] \"var_imp_vs\"                 \"var_imp_agbd_m\"            \n",
              "[69] \"var_imp_agbd_sd\"            \"var_imp_agbd_n\"            \n",
              "[71] \"var_imp_majorcomposition\"   \"var_imp_age_years\"         \n",
              "[73] \"var_imp_age_class\"          \"r2\"                        \n",
              "[75] \"geom\"                       \"z\"                         \n",
              "[77] \"residual_per\"               \"good\"                      "
            ]
          },
          "metadata": {}
        }
      ]
    },
    {
      "cell_type": "code",
      "source": [
        "names(sim_dt)[c(9:18,20:37)]"
      ],
      "metadata": {
        "id": "e3DOI4yvInQ9",
        "outputId": "afa87a56-bf96-432d-dce9-b776624814c8",
        "colab": {
          "base_uri": "https://localhost:8080/",
          "height": 52
        }
      },
      "execution_count": 332,
      "outputs": [
        {
          "output_type": "display_data",
          "data": {
            "text/html": [
              "<style>\n",
              ".list-inline {list-style: none; margin:0; padding: 0}\n",
              ".list-inline>li {display: inline-block}\n",
              ".list-inline>li:not(:last-child)::after {content: \"\\00b7\"; padding: 0 .5ex}\n",
              "</style>\n",
              "<ol class=list-inline><li>'water'</li><li>'trees'</li><li>'grass'</li><li>'flooded_vegetation'</li><li>'crops'</li><li>'shrub_and_scrub'</li><li>'built'</li><li>'bare'</li><li>'snow_and_ice'</li><li>'elevation'</li><li>'SRTM_mTPI'</li><li>'aet'</li><li>'def'</li><li>'pdsi'</li><li>'pet'</li><li>'pr'</li><li>'ro'</li><li>'soil'</li><li>'srad'</li><li>'swe'</li><li>'tmmn'</li><li>'tmmx'</li><li>'vap'</li><li>'vpd'</li><li>'vs'</li><li>'agbd_m'</li><li>'agbd_sd'</li><li>'agbd_n'</li></ol>\n"
            ],
            "text/markdown": "1. 'water'\n2. 'trees'\n3. 'grass'\n4. 'flooded_vegetation'\n5. 'crops'\n6. 'shrub_and_scrub'\n7. 'built'\n8. 'bare'\n9. 'snow_and_ice'\n10. 'elevation'\n11. 'SRTM_mTPI'\n12. 'aet'\n13. 'def'\n14. 'pdsi'\n15. 'pet'\n16. 'pr'\n17. 'ro'\n18. 'soil'\n19. 'srad'\n20. 'swe'\n21. 'tmmn'\n22. 'tmmx'\n23. 'vap'\n24. 'vpd'\n25. 'vs'\n26. 'agbd_m'\n27. 'agbd_sd'\n28. 'agbd_n'\n\n\n",
            "text/latex": "\\begin{enumerate*}\n\\item 'water'\n\\item 'trees'\n\\item 'grass'\n\\item 'flooded\\_vegetation'\n\\item 'crops'\n\\item 'shrub\\_and\\_scrub'\n\\item 'built'\n\\item 'bare'\n\\item 'snow\\_and\\_ice'\n\\item 'elevation'\n\\item 'SRTM\\_mTPI'\n\\item 'aet'\n\\item 'def'\n\\item 'pdsi'\n\\item 'pet'\n\\item 'pr'\n\\item 'ro'\n\\item 'soil'\n\\item 'srad'\n\\item 'swe'\n\\item 'tmmn'\n\\item 'tmmx'\n\\item 'vap'\n\\item 'vpd'\n\\item 'vs'\n\\item 'agbd\\_m'\n\\item 'agbd\\_sd'\n\\item 'agbd\\_n'\n\\end{enumerate*}\n",
            "text/plain": [
              " [1] \"water\"              \"trees\"              \"grass\"             \n",
              " [4] \"flooded_vegetation\" \"crops\"              \"shrub_and_scrub\"   \n",
              " [7] \"built\"              \"bare\"               \"snow_and_ice\"      \n",
              "[10] \"elevation\"          \"SRTM_mTPI\"          \"aet\"               \n",
              "[13] \"def\"                \"pdsi\"               \"pet\"               \n",
              "[16] \"pr\"                 \"ro\"                 \"soil\"              \n",
              "[19] \"srad\"               \"swe\"                \"tmmn\"              \n",
              "[22] \"tmmx\"               \"vap\"                \"vpd\"               \n",
              "[25] \"vs\"                 \"agbd_m\"             \"agbd_sd\"           \n",
              "[28] \"agbd_n\"            "
            ]
          },
          "metadata": {}
        }
      ]
    },
    {
      "cell_type": "code",
      "source": [
        "p_value_dt <-\n",
        "sim_dt$PLOT %>% unique %>% lapply(function(y){\n",
        "names(sim_dt)[c(9:18,20:37)] %>%\n",
        "lapply(function(x){\n",
        "which_dt <- sim_dt[ PLOT == y ][,list(good = length(z[z < 0.05])/length(z) <0.02),by= .(PLOT,id)]\n",
        "good_x <- grid_dt[id %in% which_dt$id[which_dt$good]][[x]]\n",
        "bad_x <- grid_dt[id %in% which_dt$id[!which_dt$good]][[x]]\n",
        "if(length(good_x)>3 &length(bad_x)>3){\n",
        "p_value <- wilcox.test(good_x,bad_x)$p.value\n",
        "\n",
        "data.table(PLOT=y,variable=x,p_value=p_value) %>% return\n",
        "}else(return(data.table(PLOT=y,variable=x,p_value=NA)))\n",
        "}) %>% rbindlist %>% return}) %>% rbindlist"
      ],
      "metadata": {
        "id": "-izennDhKD9H"
      },
      "execution_count": 336,
      "outputs": []
    },
    {
      "cell_type": "code",
      "source": [
        "p_value_dt"
      ],
      "metadata": {
        "id": "16m_kICGtC-e",
        "outputId": "da5ffedf-a566-4157-d639-28e6c639f34b",
        "colab": {
          "base_uri": "https://localhost:8080/",
          "height": 144
        }
      },
      "execution_count": 341,
      "outputs": [
        {
          "output_type": "error",
          "ename": "ERROR",
          "evalue": "ignored",
          "traceback": [
            "Error in parse(text = x, srcfile = src): <text>:2:0: unexpected end of input\n1: (p_value_dt \n   ^\nTraceback:\n"
          ]
        }
      ]
    },
    {
      "cell_type": "code",
      "source": [
        "good_x %>% qplot\n",
        "bad_x %>% qplot"
      ],
      "metadata": {
        "id": "A86Irtj1mFxq",
        "outputId": "484a205b-ce2a-4c42-d894-77338f519006",
        "colab": {
          "base_uri": "https://localhost:8080/",
          "height": 893
        }
      },
      "execution_count": 291,
      "outputs": [
        {
          "output_type": "stream",
          "name": "stderr",
          "text": [
            "\u001b[1m\u001b[22m`stat_bin()` using `bins = 30`. Pick better value with `binwidth`.\n",
            "\u001b[1m\u001b[22m`stat_bin()` using `bins = 30`. Pick better value with `binwidth`.\n"
          ]
        },
        {
          "output_type": "display_data",
          "data": {
            "text/plain": [
              "plot without title"
            ],
            "image/png": "[encoded data removed]"
          },
          "metadata": {
            "image/png": {
              "width": 420,
              "height": 420
            }
          }
        },
        {
          "output_type": "display_data",
          "data": {
            "text/plain": [
              "plot without title"
            ],
            "image/png": "[encoded data removed]"
          },
          "metadata": {
            "image/png": {
              "width": 420,
              "height": 420
            }
          }
        }
      ]
    },
    {
      "cell_type": "code",
      "source": [
        "x <- sim_dt[ PLOT == 2409 ][,list()]\n",
        "\n",
        "z <- sim_dt[ PLOT == 2409 ]$z\n",
        "length(x[abs(z) < 0.05])\n",
        "length(x[abs(z) >= 0.05])\n",
        "wilcox.test(sample(x[abs(z) < 0.05],1000,replace=T) %>% sort ,\n",
        "          sample(x[abs(z) >= 0.05],1000,replace=T)%>% sort)"
      ],
      "metadata": {
        "id": "TwoBmzMO5_Qj",
        "outputId": "4fee07f5-07f7-4af8-cf5d-255eecec2501",
        "colab": {
          "base_uri": "https://localhost:8080/",
          "height": 159
        }
      },
      "execution_count": 266,
      "outputs": [
        {
          "output_type": "display_data",
          "data": {
            "text/html": [
              "1836"
            ],
            "text/markdown": "1836",
            "text/latex": "1836",
            "text/plain": [
              "[1] 1836"
            ]
          },
          "metadata": {}
        },
        {
          "output_type": "display_data",
          "data": {
            "text/html": [
              "148164"
            ],
            "text/markdown": "148164",
            "text/latex": "148164",
            "text/plain": [
              "[1] 148164"
            ]
          },
          "metadata": {}
        },
        {
          "output_type": "display_data",
          "data": {
            "text/plain": [
              "\n",
              "\tWilcoxon rank sum test with continuity correction\n",
              "\n",
              "data:  sample(x[abs(z) < 0.05], 1000, replace = T) %>% sort and sample(x[abs(z) >= 0.05], 1000, replace = T) %>% sort\n",
              "W = 467432, p-value = 0.01167\n",
              "alternative hypothesis: true location shift is not equal to 0\n"
            ]
          },
          "metadata": {}
        }
      ]
    },
    {
      "cell_type": "code",
      "source": [
        "x <- sim_dt[ PLOT == 2409 ]$elevation\n",
        "z <- sim_dt[ PLOT == 2409 ]$z\n",
        "t.test(x[abs(z) < 0.05],\n",
        "          x[abs(z) >= 0.05])"
      ],
      "metadata": {
        "id": "kaLzXo6xX7j9",
        "outputId": "4a5e1fe2-1838-46c0-d833-8a13f8267312",
        "colab": {
          "base_uri": "https://localhost:8080/",
          "height": 213
        }
      },
      "execution_count": 268,
      "outputs": [
        {
          "output_type": "display_data",
          "data": {
            "text/plain": [
              "\n",
              "\tWelch Two Sample t-test\n",
              "\n",
              "data:  x[abs(z) < 0.05] and x[abs(z) >= 0.05]\n",
              "t = -4.0689, df = 1890.9, p-value = 4.918e-05\n",
              "alternative hypothesis: true difference in means is not equal to 0\n",
              "95 percent confidence interval:\n",
              " -43.40820 -15.17214\n",
              "sample estimates:\n",
              "mean of x mean of y \n",
              " 1257.762  1287.053 \n"
            ]
          },
          "metadata": {}
        }
      ]
    },
    {
      "cell_type": "code",
      "source": [
        "#  sim_dt[ PLOT == 2409 ] %>%\n",
        " data.table(elevation = c(sample(x[abs(z) < 0.05],1000000,replace=T),sample(x[abs(z) >= 0.05],1000000,replace=T)),z = c(rep(0,1000),rep(1,1000))) %>%\n",
        "   ggplot(aes(x=elevation,group = abs(z) <0.05))+\n",
        "     geom_density(aes(color= abs(z) <0.05))"
      ],
      "metadata": {
        "id": "RLNcpUsLXZsr",
        "outputId": "99010dba-9f3b-4615-c405-585a538dc93c",
        "colab": {
          "base_uri": "https://localhost:8080/",
          "height": 437
        }
      },
      "execution_count": 269,
      "outputs": [
        {
          "output_type": "display_data",
          "data": {
            "text/plain": [
              "plot without title"
            ],
            "image/png": "[encoded data removed]"
          },
          "metadata": {
            "image/png": {
              "width": 420,
              "height": 420
            }
          }
        }
      ]
    },
    {
      "cell_type": "code",
      "source": [
        "\n",
        "\n",
        "if(length(x[abs(z) < 0.05])>3 &length(x[abs(z) >= 0.05])>3 ){\n",
        "  t.test(x[abs(z) < 0.05],\n",
        "          x[abs(z) >= 0.05])$p.value\n",
        "          }else(return(NA))"
      ],
      "metadata": {
        "colab": {
          "base_uri": "https://localhost:8080/",
          "height": 34
        },
        "id": "QhXwzQZWwy22",
        "outputId": "ed37f634-734d-463f-9d1c-9514df2cf935"
      },
      "execution_count": 96,
      "outputs": [
        {
          "output_type": "display_data",
          "data": {
            "text/html": [
              "6.54888761010657e-06"
            ],
            "text/markdown": "6.54888761010657e-06",
            "text/latex": "6.54888761010657e-06",
            "text/plain": [
              "[1] 6.548888e-06"
            ]
          },
          "metadata": {}
        }
      ]
    },
    {
      "cell_type": "code",
      "source": [
        "sim_dt[, good := length(z[z < 0.05])/length(z) <0.02,by= .(PLOT,id)]"
      ],
      "metadata": {
        "id": "zQCGNXcBPVbc"
      },
      "execution_count": 320,
      "outputs": []
    },
    {
      "cell_type": "code",
      "source": [
        "# table(sim_dt[ PLOT == 2409 ]$id,sim_dt[ PLOT == 2409 ]$good)"
      ],
      "metadata": {
        "id": "R0gRuWO1o5dQ"
      },
      "execution_count": 316,
      "outputs": []
    },
    {
      "cell_type": "code",
      "source": [
        " var_imp_dt<- sim_dt[id %>% unique %>% length >60][\n",
        "  , .(p_value = lapply(.SD, function(x) {\n",
        "    if((length(x[good])>30 &length(x[!good])>30 ) & (mean(x[good])!=mean(x[!good]))){\n",
        "\n",
        "\n",
        "      wilcox.test(good_x,bad_x)\n",
        "\n",
        "\n",
        "      wilcox.test(x[good],\n",
        "             x[!good])$p.value\n",
        "             }else(return(NA))\n",
        "\n",
        "    }) ,\n",
        "      variable = names(sim_dt)[c(9:18,20:37)])\n",
        "  , by = .( PLOT)\n",
        "  , .SDcols = c(c(9:18,20:37))\n",
        "]\n",
        "\n",
        "var_imp_dt$p_value <- var_imp_dt$p_value %>% unlist"
      ],
      "metadata": {
        "id": "jSxwz78hCaIo"
      },
      "execution_count": 323,
      "outputs": []
    },
    {
      "cell_type": "code",
      "source": [
        "var_imp_dt"
      ],
      "metadata": {
        "colab": {
          "base_uri": "https://localhost:8080/",
          "height": 1000
        },
        "id": "3yklCqfZoTKA",
        "outputId": "7b27957b-e06f-40f7-fabc-b533ba55a3ff"
      },
      "execution_count": 324,
      "outputs": [
        {
          "output_type": "display_data",
          "data": {
            "text/html": [
              "<table class=\"dataframe\">\n",
              "<caption>A data.table: 3136 × 3</caption>\n",
              "<thead>\n",
              "\t<tr><th scope=col>PLOT</th><th scope=col>p_value</th><th scope=col>variable</th></tr>\n",
              "\t<tr><th scope=col>&lt;chr&gt;</th><th scope=col>&lt;dbl&gt;</th><th scope=col>&lt;chr&gt;</th></tr>\n",
              "</thead>\n",
              "<tbody>\n",
              "\t<tr><td>2159</td><td>NA</td><td>water             </td></tr>\n",
              "\t<tr><td>2159</td><td>NA</td><td>trees             </td></tr>\n",
              "\t<tr><td>2159</td><td>NA</td><td>grass             </td></tr>\n",
              "\t<tr><td>2159</td><td>NA</td><td>flooded_vegetation</td></tr>\n",
              "\t<tr><td>2159</td><td>NA</td><td>crops             </td></tr>\n",
              "\t<tr><td>2159</td><td>NA</td><td>shrub_and_scrub   </td></tr>\n",
              "\t<tr><td>2159</td><td>NA</td><td>built             </td></tr>\n",
              "\t<tr><td>2159</td><td>NA</td><td>bare              </td></tr>\n",
              "\t<tr><td>2159</td><td>NA</td><td>snow_and_ice      </td></tr>\n",
              "\t<tr><td>2159</td><td>NA</td><td>elevation         </td></tr>\n",
              "\t<tr><td>2159</td><td>NA</td><td>SRTM_mTPI         </td></tr>\n",
              "\t<tr><td>2159</td><td>NA</td><td>aet               </td></tr>\n",
              "\t<tr><td>2159</td><td>NA</td><td>def               </td></tr>\n",
              "\t<tr><td>2159</td><td>NA</td><td>pdsi              </td></tr>\n",
              "\t<tr><td>2159</td><td>NA</td><td>pet               </td></tr>\n",
              "\t<tr><td>2159</td><td>NA</td><td>pr                </td></tr>\n",
              "\t<tr><td>2159</td><td>NA</td><td>ro                </td></tr>\n",
              "\t<tr><td>2159</td><td>NA</td><td>soil              </td></tr>\n",
              "\t<tr><td>2159</td><td>NA</td><td>srad              </td></tr>\n",
              "\t<tr><td>2159</td><td>NA</td><td>swe               </td></tr>\n",
              "\t<tr><td>2159</td><td>NA</td><td>tmmn              </td></tr>\n",
              "\t<tr><td>2159</td><td>NA</td><td>tmmx              </td></tr>\n",
              "\t<tr><td>2159</td><td>NA</td><td>vap               </td></tr>\n",
              "\t<tr><td>2159</td><td>NA</td><td>vpd               </td></tr>\n",
              "\t<tr><td>2159</td><td>NA</td><td>vs                </td></tr>\n",
              "\t<tr><td>2159</td><td>NA</td><td>agbd_m            </td></tr>\n",
              "\t<tr><td>2159</td><td>NA</td><td>agbd_sd           </td></tr>\n",
              "\t<tr><td>2159</td><td>NA</td><td>agbd_n            </td></tr>\n",
              "\t<tr><td>2167</td><td>NA</td><td>water             </td></tr>\n",
              "\t<tr><td>2167</td><td>NA</td><td>trees             </td></tr>\n",
              "\t<tr><td>⋮</td><td>⋮</td><td>⋮</td></tr>\n",
              "\t<tr><td>5825</td><td>           NA</td><td>agbd_sd           </td></tr>\n",
              "\t<tr><td>5825</td><td>           NA</td><td>agbd_n            </td></tr>\n",
              "\t<tr><td>5831</td><td> 7.273676e-20</td><td>water             </td></tr>\n",
              "\t<tr><td>5831</td><td>8.920271e-170</td><td>trees             </td></tr>\n",
              "\t<tr><td>5831</td><td> 4.915470e-03</td><td>grass             </td></tr>\n",
              "\t<tr><td>5831</td><td> 0.000000e+00</td><td>flooded_vegetation</td></tr>\n",
              "\t<tr><td>5831</td><td> 1.424637e-95</td><td>crops             </td></tr>\n",
              "\t<tr><td>5831</td><td> 0.000000e+00</td><td>shrub_and_scrub   </td></tr>\n",
              "\t<tr><td>5831</td><td> 0.000000e+00</td><td>built             </td></tr>\n",
              "\t<tr><td>5831</td><td> 0.000000e+00</td><td>bare              </td></tr>\n",
              "\t<tr><td>5831</td><td> 3.640917e-65</td><td>snow_and_ice      </td></tr>\n",
              "\t<tr><td>5831</td><td>1.152338e-155</td><td>elevation         </td></tr>\n",
              "\t<tr><td>5831</td><td> 1.208912e-25</td><td>SRTM_mTPI         </td></tr>\n",
              "\t<tr><td>5831</td><td> 1.863302e-07</td><td>aet               </td></tr>\n",
              "\t<tr><td>5831</td><td>5.746413e-234</td><td>def               </td></tr>\n",
              "\t<tr><td>5831</td><td> 0.000000e+00</td><td>pdsi              </td></tr>\n",
              "\t<tr><td>5831</td><td>2.813529e-125</td><td>pet               </td></tr>\n",
              "\t<tr><td>5831</td><td> 0.000000e+00</td><td>pr                </td></tr>\n",
              "\t<tr><td>5831</td><td>6.281437e-283</td><td>ro                </td></tr>\n",
              "\t<tr><td>5831</td><td>1.062440e-220</td><td>soil              </td></tr>\n",
              "\t<tr><td>5831</td><td> 0.000000e+00</td><td>srad              </td></tr>\n",
              "\t<tr><td>5831</td><td>           NA</td><td>swe               </td></tr>\n",
              "\t<tr><td>5831</td><td>6.795404e-109</td><td>tmmn              </td></tr>\n",
              "\t<tr><td>5831</td><td>1.080953e-109</td><td>tmmx              </td></tr>\n",
              "\t<tr><td>5831</td><td>3.702750e-102</td><td>vap               </td></tr>\n",
              "\t<tr><td>5831</td><td> 1.101015e-98</td><td>vpd               </td></tr>\n",
              "\t<tr><td>5831</td><td> 9.451554e-01</td><td>vs                </td></tr>\n",
              "\t<tr><td>5831</td><td> 1.015559e-11</td><td>agbd_m            </td></tr>\n",
              "\t<tr><td>5831</td><td> 4.509675e-01</td><td>agbd_sd           </td></tr>\n",
              "\t<tr><td>5831</td><td>4.874714e-253</td><td>agbd_n            </td></tr>\n",
              "</tbody>\n",
              "</table>\n"
            ],
            "text/markdown": "\nA data.table: 3136 × 3\n\n| PLOT &lt;chr&gt; | p_value &lt;dbl&gt; | variable &lt;chr&gt; |\n|---|---|---|\n| 2159 | NA | water              |\n| 2159 | NA | trees              |\n| 2159 | NA | grass              |\n| 2159 | NA | flooded_vegetation |\n| 2159 | NA | crops              |\n| 2159 | NA | shrub_and_scrub    |\n| 2159 | NA | built              |\n| 2159 | NA | bare               |\n| 2159 | NA | snow_and_ice       |\n| 2159 | NA | elevation          |\n| 2159 | NA | SRTM_mTPI          |\n| 2159 | NA | aet                |\n| 2159 | NA | def                |\n| 2159 | NA | pdsi               |\n| 2159 | NA | pet                |\n| 2159 | NA | pr                 |\n| 2159 | NA | ro                 |\n| 2159 | NA | soil               |\n| 2159 | NA | srad               |\n| 2159 | NA | swe                |\n| 2159 | NA | tmmn               |\n| 2159 | NA | tmmx               |\n| 2159 | NA | vap                |\n| 2159 | NA | vpd                |\n| 2159 | NA | vs                 |\n| 2159 | NA | agbd_m             |\n| 2159 | NA | agbd_sd            |\n| 2159 | NA | agbd_n             |\n| 2167 | NA | water              |\n| 2167 | NA | trees              |\n| ⋮ | ⋮ | ⋮ |\n| 5825 |            NA | agbd_sd            |\n| 5825 |            NA | agbd_n             |\n| 5831 |  7.273676e-20 | water              |\n| 5831 | 8.920271e-170 | trees              |\n| 5831 |  4.915470e-03 | grass              |\n| 5831 |  0.000000e+00 | flooded_vegetation |\n| 5831 |  1.424637e-95 | crops              |\n| 5831 |  0.000000e+00 | shrub_and_scrub    |\n| 5831 |  0.000000e+00 | built              |\n| 5831 |  0.000000e+00 | bare               |\n| 5831 |  3.640917e-65 | snow_and_ice       |\n| 5831 | 1.152338e-155 | elevation          |\n| 5831 |  1.208912e-25 | SRTM_mTPI          |\n| 5831 |  1.863302e-07 | aet                |\n| 5831 | 5.746413e-234 | def                |\n| 5831 |  0.000000e+00 | pdsi               |\n| 5831 | 2.813529e-125 | pet                |\n| 5831 |  0.000000e+00 | pr                 |\n| 5831 | 6.281437e-283 | ro                 |\n| 5831 | 1.062440e-220 | soil               |\n| 5831 |  0.000000e+00 | srad               |\n| 5831 |            NA | swe                |\n| 5831 | 6.795404e-109 | tmmn               |\n| 5831 | 1.080953e-109 | tmmx               |\n| 5831 | 3.702750e-102 | vap                |\n| 5831 |  1.101015e-98 | vpd                |\n| 5831 |  9.451554e-01 | vs                 |\n| 5831 |  1.015559e-11 | agbd_m             |\n| 5831 |  4.509675e-01 | agbd_sd            |\n| 5831 | 4.874714e-253 | agbd_n             |\n\n",
            "text/latex": "A data.table: 3136 × 3\n\\begin{tabular}{lll}\n PLOT & p\\_value & variable\\\\\n <chr> & <dbl> & <chr>\\\\\n\\hline\n\t 2159 & NA & water             \\\\\n\t 2159 & NA & trees             \\\\\n\t 2159 & NA & grass             \\\\\n\t 2159 & NA & flooded\\_vegetation\\\\\n\t 2159 & NA & crops             \\\\\n\t 2159 & NA & shrub\\_and\\_scrub   \\\\\n\t 2159 & NA & built             \\\\\n\t 2159 & NA & bare              \\\\\n\t 2159 & NA & snow\\_and\\_ice      \\\\\n\t 2159 & NA & elevation         \\\\\n\t 2159 & NA & SRTM\\_mTPI         \\\\\n\t 2159 & NA & aet               \\\\\n\t 2159 & NA & def               \\\\\n\t 2159 & NA & pdsi              \\\\\n\t 2159 & NA & pet               \\\\\n\t 2159 & NA & pr                \\\\\n\t 2159 & NA & ro                \\\\\n\t 2159 & NA & soil              \\\\\n\t 2159 & NA & srad              \\\\\n\t 2159 & NA & swe               \\\\\n\t 2159 & NA & tmmn              \\\\\n\t 2159 & NA & tmmx              \\\\\n\t 2159 & NA & vap               \\\\\n\t 2159 & NA & vpd               \\\\\n\t 2159 & NA & vs                \\\\\n\t 2159 & NA & agbd\\_m            \\\\\n\t 2159 & NA & agbd\\_sd           \\\\\n\t 2159 & NA & agbd\\_n            \\\\\n\t 2167 & NA & water             \\\\\n\t 2167 & NA & trees             \\\\\n\t ⋮ & ⋮ & ⋮\\\\\n\t 5825 &            NA & agbd\\_sd           \\\\\n\t 5825 &            NA & agbd\\_n            \\\\\n\t 5831 &  7.273676e-20 & water             \\\\\n\t 5831 & 8.920271e-170 & trees             \\\\\n\t 5831 &  4.915470e-03 & grass             \\\\\n\t 5831 &  0.000000e+00 & flooded\\_vegetation\\\\\n\t 5831 &  1.424637e-95 & crops             \\\\\n\t 5831 &  0.000000e+00 & shrub\\_and\\_scrub   \\\\\n\t 5831 &  0.000000e+00 & built             \\\\\n\t 5831 &  0.000000e+00 & bare              \\\\\n\t 5831 &  3.640917e-65 & snow\\_and\\_ice      \\\\\n\t 5831 & 1.152338e-155 & elevation         \\\\\n\t 5831 &  1.208912e-25 & SRTM\\_mTPI         \\\\\n\t 5831 &  1.863302e-07 & aet               \\\\\n\t 5831 & 5.746413e-234 & def               \\\\\n\t 5831 &  0.000000e+00 & pdsi              \\\\\n\t 5831 & 2.813529e-125 & pet               \\\\\n\t 5831 &  0.000000e+00 & pr                \\\\\n\t 5831 & 6.281437e-283 & ro                \\\\\n\t 5831 & 1.062440e-220 & soil              \\\\\n\t 5831 &  0.000000e+00 & srad              \\\\\n\t 5831 &            NA & swe               \\\\\n\t 5831 & 6.795404e-109 & tmmn              \\\\\n\t 5831 & 1.080953e-109 & tmmx              \\\\\n\t 5831 & 3.702750e-102 & vap               \\\\\n\t 5831 &  1.101015e-98 & vpd               \\\\\n\t 5831 &  9.451554e-01 & vs                \\\\\n\t 5831 &  1.015559e-11 & agbd\\_m            \\\\\n\t 5831 &  4.509675e-01 & agbd\\_sd           \\\\\n\t 5831 & 4.874714e-253 & agbd\\_n            \\\\\n\\end{tabular}\n",
            "text/plain": [
              "     PLOT p_value       variable          \n",
              "1    2159 NA            water             \n",
              "2    2159 NA            trees             \n",
              "3    2159 NA            grass             \n",
              "4    2159 NA            flooded_vegetation\n",
              "5    2159 NA            crops             \n",
              "6    2159 NA            shrub_and_scrub   \n",
              "7    2159 NA            built             \n",
              "8    2159 NA            bare              \n",
              "9    2159 NA            snow_and_ice      \n",
              "10   2159 NA            elevation         \n",
              "11   2159 NA            SRTM_mTPI         \n",
              "12   2159 NA            aet               \n",
              "13   2159 NA            def               \n",
              "14   2159 NA            pdsi              \n",
              "15   2159 NA            pet               \n",
              "16   2159 NA            pr                \n",
              "17   2159 NA            ro                \n",
              "18   2159 NA            soil              \n",
              "19   2159 NA            srad              \n",
              "20   2159 NA            swe               \n",
              "21   2159 NA            tmmn              \n",
              "22   2159 NA            tmmx              \n",
              "23   2159 NA            vap               \n",
              "24   2159 NA            vpd               \n",
              "25   2159 NA            vs                \n",
              "26   2159 NA            agbd_m            \n",
              "27   2159 NA            agbd_sd           \n",
              "28   2159 NA            agbd_n            \n",
              "29   2167 NA            water             \n",
              "30   2167 NA            trees             \n",
              "⋮    ⋮    ⋮             ⋮                 \n",
              "3107 5825            NA agbd_sd           \n",
              "3108 5825            NA agbd_n            \n",
              "3109 5831  7.273676e-20 water             \n",
              "3110 5831 8.920271e-170 trees             \n",
              "3111 5831  4.915470e-03 grass             \n",
              "3112 5831  0.000000e+00 flooded_vegetation\n",
              "3113 5831  1.424637e-95 crops             \n",
              "3114 5831  0.000000e+00 shrub_and_scrub   \n",
              "3115 5831  0.000000e+00 built             \n",
              "3116 5831  0.000000e+00 bare              \n",
              "3117 5831  3.640917e-65 snow_and_ice      \n",
              "3118 5831 1.152338e-155 elevation         \n",
              "3119 5831  1.208912e-25 SRTM_mTPI         \n",
              "3120 5831  1.863302e-07 aet               \n",
              "3121 5831 5.746413e-234 def               \n",
              "3122 5831  0.000000e+00 pdsi              \n",
              "3123 5831 2.813529e-125 pet               \n",
              "3124 5831  0.000000e+00 pr                \n",
              "3125 5831 6.281437e-283 ro                \n",
              "3126 5831 1.062440e-220 soil              \n",
              "3127 5831  0.000000e+00 srad              \n",
              "3128 5831            NA swe               \n",
              "3129 5831 6.795404e-109 tmmn              \n",
              "3130 5831 1.080953e-109 tmmx              \n",
              "3131 5831 3.702750e-102 vap               \n",
              "3132 5831  1.101015e-98 vpd               \n",
              "3133 5831  9.451554e-01 vs                \n",
              "3134 5831  1.015559e-11 agbd_m            \n",
              "3135 5831  4.509675e-01 agbd_sd           \n",
              "3136 5831 4.874714e-253 agbd_n            "
            ]
          },
          "metadata": {}
        }
      ]
    },
    {
      "cell_type": "code",
      "source": [
        "grid_dt %>% names"
      ],
      "metadata": {
        "id": "g3iB3POm0MX8"
      },
      "execution_count": null,
      "outputs": []
    },
    {
      "cell_type": "code",
      "source": [
        "# out_dt <- data.table(var_imp_dt,sim_summary_dt[match(var_imp_dt$id,sim_summary_dt$id)])\n",
        "out_dt <- data.table(p_value_dt,fia_dt[,c('geometry')][match(var_imp_dt$PLOT,fia_dt$PLOT)])"
      ],
      "metadata": {
        "id": "tDSLomPaFBt4"
      },
      "execution_count": 342,
      "outputs": []
    },
    {
      "cell_type": "code",
      "source": [
        "out_dt[,bonferroni:=p_value*length(c(9:18,20:37))]"
      ],
      "metadata": {
        "id": "2QPXHgSxppws"
      },
      "execution_count": 343,
      "outputs": []
    },
    {
      "cell_type": "code",
      "source": [
        "out_dt$p_value <- out_dt$p_value %>% unlist"
      ],
      "metadata": {
        "id": "9MSkigkuGEUG"
      },
      "execution_count": 344,
      "outputs": []
    },
    {
      "cell_type": "code",
      "source": [
        "out_dt[PLOT==4791 &bonferroni <0.2][,list(p_value = mean(p_value)),by=variable]"
      ],
      "metadata": {
        "colab": {
          "base_uri": "https://localhost:8080/",
          "height": 98
        },
        "id": "KxGVgkMqrSMj",
        "outputId": "ef092f87-1237-45be-addc-28b75355400b"
      },
      "execution_count": 345,
      "outputs": [
        {
          "output_type": "display_data",
          "data": {
            "text/html": [
              "<table class=\"dataframe\">\n",
              "<caption>A data.table: 0 × 2</caption>\n",
              "<thead>\n",
              "\t<tr><th scope=col>variable</th><th scope=col>p_value</th></tr>\n",
              "\t<tr><th scope=col>&lt;chr&gt;</th><th scope=col>&lt;dbl&gt;</th></tr>\n",
              "</thead>\n",
              "<tbody>\n",
              "</tbody>\n",
              "</table>\n"
            ],
            "text/markdown": "\nA data.table: 0 × 2\n\n| variable &lt;chr&gt; | p_value &lt;dbl&gt; |\n|---|---|\n\n",
            "text/latex": "A data.table: 0 × 2\n\\begin{tabular}{ll}\n variable & p\\_value\\\\\n <chr> & <dbl>\\\\\n\\hline\n\\end{tabular}\n",
            "text/plain": [
              "     variable p_value"
            ]
          },
          "metadata": {}
        }
      ]
    },
    {
      "cell_type": "code",
      "source": [
        "# short_out_dt[!is.na(var_imp_aet),]"
      ],
      "metadata": {
        "id": "zhnfNW4o0p6g"
      },
      "execution_count": null,
      "outputs": []
    },
    {
      "cell_type": "code",
      "source": [
        "short_out_dt <- dcast(out_dt,  PLOT ~ variable,value.var='bonferroni', drop=FALSE)\n",
        "# short_out_dt <-short_out_dt[!is.na(trees),]"
      ],
      "metadata": {
        "id": "0mOkIF47rJPU"
      },
      "execution_count": 346,
      "outputs": []
    },
    {
      "cell_type": "code",
      "source": [
        "short_out_dt"
      ],
      "metadata": {
        "id": "5U500bQjSzvh",
        "outputId": "0f287340-f865-4d0f-b4c2-476789b8c07c",
        "colab": {
          "base_uri": "https://localhost:8080/",
          "height": 1000
        }
      },
      "execution_count": 347,
      "outputs": [
        {
          "output_type": "display_data",
          "data": {
            "text/html": [
              "<table class=\"dataframe\">\n",
              "<caption>A data.table: 112 × 29</caption>\n",
              "<thead>\n",
              "\t<tr><th scope=col>PLOT</th><th scope=col>SRTM_mTPI</th><th scope=col>aet</th><th scope=col>agbd_m</th><th scope=col>agbd_n</th><th scope=col>agbd_sd</th><th scope=col>bare</th><th scope=col>built</th><th scope=col>crops</th><th scope=col>def</th><th scope=col>⋯</th><th scope=col>soil</th><th scope=col>srad</th><th scope=col>swe</th><th scope=col>tmmn</th><th scope=col>tmmx</th><th scope=col>trees</th><th scope=col>vap</th><th scope=col>vpd</th><th scope=col>vs</th><th scope=col>water</th></tr>\n",
              "\t<tr><th scope=col>&lt;chr&gt;</th><th scope=col>&lt;dbl&gt;</th><th scope=col>&lt;dbl&gt;</th><th scope=col>&lt;dbl&gt;</th><th scope=col>&lt;dbl&gt;</th><th scope=col>&lt;dbl&gt;</th><th scope=col>&lt;dbl&gt;</th><th scope=col>&lt;dbl&gt;</th><th scope=col>&lt;dbl&gt;</th><th scope=col>&lt;dbl&gt;</th><th scope=col>⋯</th><th scope=col>&lt;dbl&gt;</th><th scope=col>&lt;dbl&gt;</th><th scope=col>&lt;dbl&gt;</th><th scope=col>&lt;dbl&gt;</th><th scope=col>&lt;dbl&gt;</th><th scope=col>&lt;dbl&gt;</th><th scope=col>&lt;dbl&gt;</th><th scope=col>&lt;dbl&gt;</th><th scope=col>&lt;dbl&gt;</th><th scope=col>&lt;dbl&gt;</th></tr>\n",
              "</thead>\n",
              "<tbody>\n",
              "\t<tr><td>2159</td><td>          NA</td><td>       NA</td><td>          NA</td><td>        NA</td><td>          NA</td><td>          NA</td><td>          NA</td><td>          NA</td><td>          NA</td><td>⋯</td><td>          NA</td><td>          NA</td><td> NA</td><td>          NA</td><td>          NA</td><td>          NA</td><td>          NA</td><td>          NA</td><td>          NA</td><td>      NA</td></tr>\n",
              "\t<tr><td>2167</td><td>          NA</td><td>       NA</td><td>          NA</td><td>        NA</td><td>          NA</td><td>          NA</td><td>          NA</td><td>          NA</td><td>          NA</td><td>⋯</td><td>          NA</td><td>          NA</td><td> NA</td><td>          NA</td><td>          NA</td><td>          NA</td><td>          NA</td><td>          NA</td><td>          NA</td><td>      NA</td></tr>\n",
              "\t<tr><td>2191</td><td>1.983122e-06</td><td>12.448111</td><td>1.933227e-59</td><td>17.6121783</td><td>2.217383e-51</td><td>1.019437e-53</td><td>1.986086e-32</td><td>3.343159e-15</td><td>1.907907e-08</td><td>⋯</td><td>3.125969e-12</td><td>7.702718e-09</td><td>NaN</td><td>9.720454e-11</td><td>2.931833e-12</td><td>2.183061e-14</td><td>8.837099e-13</td><td>1.015311e-10</td><td>1.652706e-08</td><td>27.88444</td></tr>\n",
              "\t<tr><td>2204</td><td>          NA</td><td>       NA</td><td>          NA</td><td>        NA</td><td>          NA</td><td>          NA</td><td>          NA</td><td>          NA</td><td>          NA</td><td>⋯</td><td>          NA</td><td>          NA</td><td> NA</td><td>          NA</td><td>          NA</td><td>          NA</td><td>          NA</td><td>          NA</td><td>          NA</td><td>      NA</td></tr>\n",
              "\t<tr><td>2208</td><td>          NA</td><td>       NA</td><td>          NA</td><td>        NA</td><td>          NA</td><td>          NA</td><td>          NA</td><td>          NA</td><td>          NA</td><td>⋯</td><td>          NA</td><td>          NA</td><td> NA</td><td>          NA</td><td>          NA</td><td>          NA</td><td>          NA</td><td>          NA</td><td>          NA</td><td>      NA</td></tr>\n",
              "\t<tr><td>2212</td><td>          NA</td><td>       NA</td><td>          NA</td><td>        NA</td><td>          NA</td><td>          NA</td><td>          NA</td><td>          NA</td><td>          NA</td><td>⋯</td><td>          NA</td><td>          NA</td><td> NA</td><td>          NA</td><td>          NA</td><td>          NA</td><td>          NA</td><td>          NA</td><td>          NA</td><td>      NA</td></tr>\n",
              "\t<tr><td>2230</td><td>          NA</td><td>       NA</td><td>          NA</td><td>        NA</td><td>          NA</td><td>          NA</td><td>          NA</td><td>          NA</td><td>          NA</td><td>⋯</td><td>          NA</td><td>          NA</td><td> NA</td><td>          NA</td><td>          NA</td><td>          NA</td><td>          NA</td><td>          NA</td><td>          NA</td><td>      NA</td></tr>\n",
              "\t<tr><td>2237</td><td>          NA</td><td>       NA</td><td>          NA</td><td>        NA</td><td>          NA</td><td>          NA</td><td>          NA</td><td>          NA</td><td>          NA</td><td>⋯</td><td>          NA</td><td>          NA</td><td> NA</td><td>          NA</td><td>          NA</td><td>          NA</td><td>          NA</td><td>          NA</td><td>          NA</td><td>      NA</td></tr>\n",
              "\t<tr><td>2242</td><td>          NA</td><td>       NA</td><td>          NA</td><td>        NA</td><td>          NA</td><td>          NA</td><td>          NA</td><td>          NA</td><td>          NA</td><td>⋯</td><td>          NA</td><td>          NA</td><td> NA</td><td>          NA</td><td>          NA</td><td>          NA</td><td>          NA</td><td>          NA</td><td>          NA</td><td>      NA</td></tr>\n",
              "\t<tr><td>2248</td><td>          NA</td><td>       NA</td><td>          NA</td><td>        NA</td><td>          NA</td><td>          NA</td><td>          NA</td><td>          NA</td><td>          NA</td><td>⋯</td><td>          NA</td><td>          NA</td><td> NA</td><td>          NA</td><td>          NA</td><td>          NA</td><td>          NA</td><td>          NA</td><td>          NA</td><td>      NA</td></tr>\n",
              "\t<tr><td>2256</td><td>          NA</td><td>       NA</td><td>          NA</td><td>        NA</td><td>          NA</td><td>          NA</td><td>          NA</td><td>          NA</td><td>          NA</td><td>⋯</td><td>          NA</td><td>          NA</td><td> NA</td><td>          NA</td><td>          NA</td><td>          NA</td><td>          NA</td><td>          NA</td><td>          NA</td><td>      NA</td></tr>\n",
              "\t<tr><td>2261</td><td>          NA</td><td>       NA</td><td>          NA</td><td>        NA</td><td>          NA</td><td>          NA</td><td>          NA</td><td>          NA</td><td>          NA</td><td>⋯</td><td>          NA</td><td>          NA</td><td> NA</td><td>          NA</td><td>          NA</td><td>          NA</td><td>          NA</td><td>          NA</td><td>          NA</td><td>      NA</td></tr>\n",
              "\t<tr><td>2271</td><td>          NA</td><td>       NA</td><td>          NA</td><td>        NA</td><td>          NA</td><td>          NA</td><td>          NA</td><td>          NA</td><td>          NA</td><td>⋯</td><td>          NA</td><td>          NA</td><td> NA</td><td>          NA</td><td>          NA</td><td>          NA</td><td>          NA</td><td>          NA</td><td>          NA</td><td>      NA</td></tr>\n",
              "\t<tr><td>2286</td><td>          NA</td><td>       NA</td><td>          NA</td><td>        NA</td><td>          NA</td><td>          NA</td><td>          NA</td><td>          NA</td><td>          NA</td><td>⋯</td><td>          NA</td><td>          NA</td><td> NA</td><td>          NA</td><td>          NA</td><td>          NA</td><td>          NA</td><td>          NA</td><td>          NA</td><td>      NA</td></tr>\n",
              "\t<tr><td>2291</td><td>          NA</td><td>       NA</td><td>          NA</td><td>        NA</td><td>          NA</td><td>          NA</td><td>          NA</td><td>          NA</td><td>          NA</td><td>⋯</td><td>          NA</td><td>          NA</td><td> NA</td><td>          NA</td><td>          NA</td><td>          NA</td><td>          NA</td><td>          NA</td><td>          NA</td><td>      NA</td></tr>\n",
              "\t<tr><td>2307</td><td>          NA</td><td>       NA</td><td>          NA</td><td>        NA</td><td>          NA</td><td>          NA</td><td>          NA</td><td>          NA</td><td>          NA</td><td>⋯</td><td>          NA</td><td>          NA</td><td> NA</td><td>          NA</td><td>          NA</td><td>          NA</td><td>          NA</td><td>          NA</td><td>          NA</td><td>      NA</td></tr>\n",
              "\t<tr><td>2312</td><td>          NA</td><td>       NA</td><td>          NA</td><td>        NA</td><td>          NA</td><td>          NA</td><td>          NA</td><td>          NA</td><td>          NA</td><td>⋯</td><td>          NA</td><td>          NA</td><td> NA</td><td>          NA</td><td>          NA</td><td>          NA</td><td>          NA</td><td>          NA</td><td>          NA</td><td>      NA</td></tr>\n",
              "\t<tr><td>2317</td><td>          NA</td><td>       NA</td><td>          NA</td><td>        NA</td><td>          NA</td><td>          NA</td><td>          NA</td><td>          NA</td><td>          NA</td><td>⋯</td><td>          NA</td><td>          NA</td><td> NA</td><td>          NA</td><td>          NA</td><td>          NA</td><td>          NA</td><td>          NA</td><td>          NA</td><td>      NA</td></tr>\n",
              "\t<tr><td>2335</td><td>          NA</td><td>       NA</td><td>          NA</td><td>        NA</td><td>          NA</td><td>          NA</td><td>          NA</td><td>          NA</td><td>          NA</td><td>⋯</td><td>          NA</td><td>          NA</td><td> NA</td><td>          NA</td><td>          NA</td><td>          NA</td><td>          NA</td><td>          NA</td><td>          NA</td><td>      NA</td></tr>\n",
              "\t<tr><td>2364</td><td>          NA</td><td>       NA</td><td>          NA</td><td>        NA</td><td>          NA</td><td>          NA</td><td>          NA</td><td>          NA</td><td>          NA</td><td>⋯</td><td>          NA</td><td>          NA</td><td> NA</td><td>          NA</td><td>          NA</td><td>          NA</td><td>          NA</td><td>          NA</td><td>          NA</td><td>      NA</td></tr>\n",
              "\t<tr><td>2376</td><td>          NA</td><td>       NA</td><td>          NA</td><td>        NA</td><td>          NA</td><td>          NA</td><td>          NA</td><td>          NA</td><td>          NA</td><td>⋯</td><td>          NA</td><td>          NA</td><td> NA</td><td>          NA</td><td>          NA</td><td>          NA</td><td>          NA</td><td>          NA</td><td>          NA</td><td>      NA</td></tr>\n",
              "\t<tr><td>2382</td><td>          NA</td><td>       NA</td><td>          NA</td><td>        NA</td><td>          NA</td><td>          NA</td><td>          NA</td><td>          NA</td><td>          NA</td><td>⋯</td><td>          NA</td><td>          NA</td><td> NA</td><td>          NA</td><td>          NA</td><td>          NA</td><td>          NA</td><td>          NA</td><td>          NA</td><td>      NA</td></tr>\n",
              "\t<tr><td>2385</td><td>          NA</td><td>       NA</td><td>          NA</td><td>        NA</td><td>          NA</td><td>          NA</td><td>          NA</td><td>          NA</td><td>          NA</td><td>⋯</td><td>          NA</td><td>          NA</td><td> NA</td><td>          NA</td><td>          NA</td><td>          NA</td><td>          NA</td><td>          NA</td><td>          NA</td><td>      NA</td></tr>\n",
              "\t<tr><td>2389</td><td>          NA</td><td>       NA</td><td>          NA</td><td>        NA</td><td>          NA</td><td>          NA</td><td>          NA</td><td>          NA</td><td>          NA</td><td>⋯</td><td>          NA</td><td>          NA</td><td> NA</td><td>          NA</td><td>          NA</td><td>          NA</td><td>          NA</td><td>          NA</td><td>          NA</td><td>      NA</td></tr>\n",
              "\t<tr><td>2394</td><td>          NA</td><td>       NA</td><td>          NA</td><td>        NA</td><td>          NA</td><td>          NA</td><td>          NA</td><td>          NA</td><td>          NA</td><td>⋯</td><td>          NA</td><td>          NA</td><td> NA</td><td>          NA</td><td>          NA</td><td>          NA</td><td>          NA</td><td>          NA</td><td>          NA</td><td>      NA</td></tr>\n",
              "\t<tr><td>2400</td><td>          NA</td><td>       NA</td><td>          NA</td><td>        NA</td><td>          NA</td><td>          NA</td><td>          NA</td><td>          NA</td><td>          NA</td><td>⋯</td><td>          NA</td><td>          NA</td><td> NA</td><td>          NA</td><td>          NA</td><td>          NA</td><td>          NA</td><td>          NA</td><td>          NA</td><td>      NA</td></tr>\n",
              "\t<tr><td>2406</td><td>          NA</td><td>       NA</td><td>          NA</td><td>        NA</td><td>          NA</td><td>          NA</td><td>          NA</td><td>          NA</td><td>          NA</td><td>⋯</td><td>          NA</td><td>          NA</td><td> NA</td><td>          NA</td><td>          NA</td><td>          NA</td><td>          NA</td><td>          NA</td><td>          NA</td><td>      NA</td></tr>\n",
              "\t<tr><td>2409</td><td>1.499127e+00</td><td>14.751815</td><td>1.120378e+00</td><td> 0.1325264</td><td>3.526402e-02</td><td>2.633619e+01</td><td>2.340113e-02</td><td>1.631328e+01</td><td>8.314364e+00</td><td>⋯</td><td>3.024455e-03</td><td>2.355083e+00</td><td>NaN</td><td>1.273562e+00</td><td>1.302762e+00</td><td>2.139364e+01</td><td>2.263788e+00</td><td>1.632179e+00</td><td>3.937980e-04</td><td>21.23189</td></tr>\n",
              "\t<tr><td>2419</td><td>          NA</td><td>       NA</td><td>          NA</td><td>        NA</td><td>          NA</td><td>          NA</td><td>          NA</td><td>          NA</td><td>          NA</td><td>⋯</td><td>          NA</td><td>          NA</td><td> NA</td><td>          NA</td><td>          NA</td><td>          NA</td><td>          NA</td><td>          NA</td><td>          NA</td><td>      NA</td></tr>\n",
              "\t<tr><td>2425</td><td>1.815233e+00</td><td> 8.026261</td><td>2.273145e+01</td><td>22.8648184</td><td>2.122893e+01</td><td>3.636338e-01</td><td>6.108916e-02</td><td>1.254177e+01</td><td>1.364961e+01</td><td>⋯</td><td>2.434449e+01</td><td>8.640545e+00</td><td>NaN</td><td>9.268060e+00</td><td>8.362156e+00</td><td>4.712817e-01</td><td>8.936935e+00</td><td>9.898315e+00</td><td>2.180199e+01</td><td>11.28799</td></tr>\n",
              "\t<tr><td>⋮</td><td>⋮</td><td>⋮</td><td>⋮</td><td>⋮</td><td>⋮</td><td>⋮</td><td>⋮</td><td>⋮</td><td>⋮</td><td>⋱</td><td>⋮</td><td>⋮</td><td>⋮</td><td>⋮</td><td>⋮</td><td>⋮</td><td>⋮</td><td>⋮</td><td>⋮</td><td>⋮</td></tr>\n",
              "\t<tr><td>4404</td><td>         NA</td><td>          NA</td><td>         NA</td><td>          NA</td><td>          NA</td><td>          NA</td><td>          NA</td><td>         NA</td><td>          NA</td><td>⋯</td><td>          NA</td><td>          NA</td><td> NA</td><td>          NA</td><td>          NA</td><td>          NA</td><td>          NA</td><td>          NA</td><td>          NA</td><td>        NA</td></tr>\n",
              "\t<tr><td>4424</td><td>         NA</td><td>          NA</td><td>         NA</td><td>          NA</td><td>          NA</td><td>          NA</td><td>          NA</td><td>         NA</td><td>          NA</td><td>⋯</td><td>          NA</td><td>          NA</td><td> NA</td><td>          NA</td><td>          NA</td><td>          NA</td><td>          NA</td><td>          NA</td><td>          NA</td><td>        NA</td></tr>\n",
              "\t<tr><td>4508</td><td>11.51149089</td><td>5.812078e-02</td><td> 0.09245391</td><td>1.489102e-04</td><td>9.435263e-01</td><td>5.038696e-01</td><td>3.995585e-21</td><td> 0.05356842</td><td>2.244387e+01</td><td>⋯</td><td>1.112415e-06</td><td>1.303307e-01</td><td>NaN</td><td>8.407974e-02</td><td>8.200627e-02</td><td>1.281229e+01</td><td>7.917483e-02</td><td>4.264528e-02</td><td>1.564443e-01</td><td> 0.9296109</td></tr>\n",
              "\t<tr><td>4510</td><td>14.92532922</td><td>2.320762e+01</td><td>27.26916921</td><td>1.365739e-11</td><td>2.277007e+01</td><td>6.451972e-01</td><td>2.823471e-02</td><td>18.73728557</td><td>8.940699e-15</td><td>⋯</td><td>1.817099e-12</td><td>7.473591e-12</td><td>NaN</td><td>2.698494e-01</td><td>2.687208e-01</td><td>7.915494e+00</td><td>2.491638e-01</td><td>1.538290e-01</td><td>5.179424e-02</td><td>25.4838840</td></tr>\n",
              "\t<tr><td>4527</td><td>         NA</td><td>          NA</td><td>         NA</td><td>          NA</td><td>          NA</td><td>          NA</td><td>          NA</td><td>         NA</td><td>          NA</td><td>⋯</td><td>          NA</td><td>          NA</td><td> NA</td><td>          NA</td><td>          NA</td><td>          NA</td><td>          NA</td><td>          NA</td><td>          NA</td><td>        NA</td></tr>\n",
              "\t<tr><td>4612</td><td>         NA</td><td>          NA</td><td>         NA</td><td>          NA</td><td>          NA</td><td>          NA</td><td>          NA</td><td>         NA</td><td>          NA</td><td>⋯</td><td>          NA</td><td>          NA</td><td> NA</td><td>          NA</td><td>          NA</td><td>          NA</td><td>          NA</td><td>          NA</td><td>          NA</td><td>        NA</td></tr>\n",
              "\t<tr><td>4622</td><td>         NA</td><td>          NA</td><td>         NA</td><td>          NA</td><td>          NA</td><td>          NA</td><td>          NA</td><td>         NA</td><td>          NA</td><td>⋯</td><td>          NA</td><td>          NA</td><td> NA</td><td>          NA</td><td>          NA</td><td>          NA</td><td>          NA</td><td>          NA</td><td>          NA</td><td>        NA</td></tr>\n",
              "\t<tr><td>4640</td><td>         NA</td><td>          NA</td><td>         NA</td><td>          NA</td><td>          NA</td><td>          NA</td><td>          NA</td><td>         NA</td><td>          NA</td><td>⋯</td><td>          NA</td><td>          NA</td><td> NA</td><td>          NA</td><td>          NA</td><td>          NA</td><td>          NA</td><td>          NA</td><td>          NA</td><td>        NA</td></tr>\n",
              "\t<tr><td>4655</td><td>         NA</td><td>          NA</td><td>         NA</td><td>          NA</td><td>          NA</td><td>          NA</td><td>          NA</td><td>         NA</td><td>          NA</td><td>⋯</td><td>          NA</td><td>          NA</td><td> NA</td><td>          NA</td><td>          NA</td><td>          NA</td><td>          NA</td><td>          NA</td><td>          NA</td><td>        NA</td></tr>\n",
              "\t<tr><td>4695</td><td>         NA</td><td>          NA</td><td>         NA</td><td>          NA</td><td>          NA</td><td>          NA</td><td>          NA</td><td>         NA</td><td>          NA</td><td>⋯</td><td>          NA</td><td>          NA</td><td> NA</td><td>          NA</td><td>          NA</td><td>          NA</td><td>          NA</td><td>          NA</td><td>          NA</td><td>        NA</td></tr>\n",
              "\t<tr><td>4700</td><td> 1.53520042</td><td>2.664068e+01</td><td> 0.10153796</td><td>1.595564e+00</td><td>1.013996e-05</td><td>4.500843e-03</td><td>1.964001e-11</td><td> 0.01752618</td><td>8.003970e-12</td><td>⋯</td><td>5.985328e+00</td><td>2.486874e-06</td><td>NaN</td><td>1.032280e+00</td><td>8.580615e-01</td><td>5.284202e-03</td><td>1.108435e+00</td><td>9.440861e-01</td><td>1.420825e-07</td><td> 0.2996496</td></tr>\n",
              "\t<tr><td>4709</td><td>         NA</td><td>          NA</td><td>         NA</td><td>          NA</td><td>          NA</td><td>          NA</td><td>          NA</td><td>         NA</td><td>          NA</td><td>⋯</td><td>          NA</td><td>          NA</td><td> NA</td><td>          NA</td><td>          NA</td><td>          NA</td><td>          NA</td><td>          NA</td><td>          NA</td><td>        NA</td></tr>\n",
              "\t<tr><td>4791</td><td>         NA</td><td>          NA</td><td>         NA</td><td>          NA</td><td>          NA</td><td>          NA</td><td>          NA</td><td>         NA</td><td>          NA</td><td>⋯</td><td>          NA</td><td>          NA</td><td> NA</td><td>          NA</td><td>          NA</td><td>          NA</td><td>          NA</td><td>          NA</td><td>          NA</td><td>        NA</td></tr>\n",
              "\t<tr><td>4839</td><td>         NA</td><td>          NA</td><td>         NA</td><td>          NA</td><td>          NA</td><td>          NA</td><td>          NA</td><td>         NA</td><td>          NA</td><td>⋯</td><td>          NA</td><td>          NA</td><td> NA</td><td>          NA</td><td>          NA</td><td>          NA</td><td>          NA</td><td>          NA</td><td>          NA</td><td>        NA</td></tr>\n",
              "\t<tr><td>4895</td><td>         NA</td><td>          NA</td><td>         NA</td><td>          NA</td><td>          NA</td><td>          NA</td><td>          NA</td><td>         NA</td><td>          NA</td><td>⋯</td><td>          NA</td><td>          NA</td><td> NA</td><td>          NA</td><td>          NA</td><td>          NA</td><td>          NA</td><td>          NA</td><td>          NA</td><td>        NA</td></tr>\n",
              "\t<tr><td>4955</td><td>         NA</td><td>          NA</td><td>         NA</td><td>          NA</td><td>          NA</td><td>          NA</td><td>          NA</td><td>         NA</td><td>          NA</td><td>⋯</td><td>          NA</td><td>          NA</td><td> NA</td><td>          NA</td><td>          NA</td><td>          NA</td><td>          NA</td><td>          NA</td><td>          NA</td><td>        NA</td></tr>\n",
              "\t<tr><td>4994</td><td>23.11866507</td><td>3.560684e+00</td><td> 0.11365215</td><td>5.114861e-04</td><td>1.264595e-02</td><td>2.539060e-05</td><td>1.636585e-05</td><td>16.30205472</td><td>7.933243e-03</td><td>⋯</td><td>1.504750e-02</td><td>1.540435e-07</td><td>NaN</td><td>5.813460e-01</td><td>4.894868e-01</td><td>1.897053e-06</td><td>3.629833e-01</td><td>3.922640e-01</td><td>1.648844e+00</td><td> 2.3275199</td></tr>\n",
              "\t<tr><td>5059</td><td>         NA</td><td>          NA</td><td>         NA</td><td>          NA</td><td>          NA</td><td>          NA</td><td>          NA</td><td>         NA</td><td>          NA</td><td>⋯</td><td>          NA</td><td>          NA</td><td> NA</td><td>          NA</td><td>          NA</td><td>          NA</td><td>          NA</td><td>          NA</td><td>          NA</td><td>        NA</td></tr>\n",
              "\t<tr><td>5062</td><td>         NA</td><td>          NA</td><td>         NA</td><td>          NA</td><td>          NA</td><td>          NA</td><td>          NA</td><td>         NA</td><td>          NA</td><td>⋯</td><td>          NA</td><td>          NA</td><td> NA</td><td>          NA</td><td>          NA</td><td>          NA</td><td>          NA</td><td>          NA</td><td>          NA</td><td>        NA</td></tr>\n",
              "\t<tr><td>5124</td><td>         NA</td><td>          NA</td><td>         NA</td><td>          NA</td><td>          NA</td><td>          NA</td><td>          NA</td><td>         NA</td><td>          NA</td><td>⋯</td><td>          NA</td><td>          NA</td><td> NA</td><td>          NA</td><td>          NA</td><td>          NA</td><td>          NA</td><td>          NA</td><td>          NA</td><td>        NA</td></tr>\n",
              "\t<tr><td>5198</td><td> 0.07978312</td><td>3.123945e-24</td><td> 4.35695671</td><td>3.655513e+00</td><td>3.734477e-04</td><td>2.198228e-01</td><td>1.074751e-01</td><td> 0.02681007</td><td>3.897515e-13</td><td>⋯</td><td>2.807923e-23</td><td>3.044014e-14</td><td>NaN</td><td>2.734217e-11</td><td>1.539912e-11</td><td>8.941536e-01</td><td>1.524950e-11</td><td>1.885997e-11</td><td>4.973285e+00</td><td> 0.7736174</td></tr>\n",
              "\t<tr><td>5226</td><td>         NA</td><td>          NA</td><td>         NA</td><td>          NA</td><td>          NA</td><td>          NA</td><td>          NA</td><td>         NA</td><td>          NA</td><td>⋯</td><td>          NA</td><td>          NA</td><td> NA</td><td>          NA</td><td>          NA</td><td>          NA</td><td>          NA</td><td>          NA</td><td>          NA</td><td>        NA</td></tr>\n",
              "\t<tr><td>5284</td><td>         NA</td><td>          NA</td><td>         NA</td><td>          NA</td><td>          NA</td><td>          NA</td><td>          NA</td><td>         NA</td><td>          NA</td><td>⋯</td><td>          NA</td><td>          NA</td><td> NA</td><td>          NA</td><td>          NA</td><td>          NA</td><td>          NA</td><td>          NA</td><td>          NA</td><td>        NA</td></tr>\n",
              "\t<tr><td>5289</td><td>         NA</td><td>          NA</td><td>         NA</td><td>          NA</td><td>          NA</td><td>          NA</td><td>          NA</td><td>         NA</td><td>          NA</td><td>⋯</td><td>          NA</td><td>          NA</td><td> NA</td><td>          NA</td><td>          NA</td><td>          NA</td><td>          NA</td><td>          NA</td><td>          NA</td><td>        NA</td></tr>\n",
              "\t<tr><td>5347</td><td>15.64797029</td><td>5.928762e-01</td><td> 6.45317486</td><td>2.457780e+01</td><td>1.106436e+01</td><td>9.757817e+00</td><td>2.234490e+01</td><td> 2.36361649</td><td>1.414418e+00</td><td>⋯</td><td>1.139233e+00</td><td>2.168919e+00</td><td>NaN</td><td>1.362899e+00</td><td>1.441398e+00</td><td>1.717702e+01</td><td>1.296714e+00</td><td>1.438852e+00</td><td>1.848332e+01</td><td> 1.0543179</td></tr>\n",
              "\t<tr><td>5450</td><td>         NA</td><td>          NA</td><td>         NA</td><td>          NA</td><td>          NA</td><td>          NA</td><td>          NA</td><td>         NA</td><td>          NA</td><td>⋯</td><td>          NA</td><td>          NA</td><td> NA</td><td>          NA</td><td>          NA</td><td>          NA</td><td>          NA</td><td>          NA</td><td>          NA</td><td>        NA</td></tr>\n",
              "\t<tr><td>5553</td><td> 3.57023018</td><td>1.242835e+01</td><td>11.08171629</td><td>4.020446e+00</td><td>8.610123e+00</td><td>1.201501e+01</td><td>4.532380e+00</td><td>23.11422894</td><td>2.702989e+01</td><td>⋯</td><td>2.634573e+01</td><td>9.172931e+00</td><td>NaN</td><td>1.587782e+01</td><td>2.046012e+01</td><td>8.091341e+00</td><td>1.758069e+01</td><td>1.555272e+01</td><td>2.529186e+01</td><td>11.7469644</td></tr>\n",
              "\t<tr><td>5712</td><td>         NA</td><td>          NA</td><td>         NA</td><td>          NA</td><td>          NA</td><td>          NA</td><td>          NA</td><td>         NA</td><td>          NA</td><td>⋯</td><td>          NA</td><td>          NA</td><td> NA</td><td>          NA</td><td>          NA</td><td>          NA</td><td>          NA</td><td>          NA</td><td>          NA</td><td>        NA</td></tr>\n",
              "\t<tr><td>5825</td><td>         NA</td><td>          NA</td><td>         NA</td><td>          NA</td><td>          NA</td><td>          NA</td><td>          NA</td><td>         NA</td><td>          NA</td><td>⋯</td><td>          NA</td><td>          NA</td><td> NA</td><td>          NA</td><td>          NA</td><td>          NA</td><td>          NA</td><td>          NA</td><td>          NA</td><td>        NA</td></tr>\n",
              "\t<tr><td>5831</td><td> 8.73550287</td><td>1.965265e+01</td><td>14.07034246</td><td>8.518933e-03</td><td>2.582185e+01</td><td>1.749598e-03</td><td>1.241299e-05</td><td> 0.79684241</td><td>2.815591e-02</td><td>⋯</td><td>4.095109e-02</td><td>2.808534e-04</td><td>NaN</td><td>8.711374e-01</td><td>8.435256e-01</td><td>2.355181e-01</td><td>1.031119e+00</td><td>1.120347e+00</td><td>2.704810e+01</td><td>13.3913114</td></tr>\n",
              "</tbody>\n",
              "</table>\n"
            ],
            "text/markdown": "\nA data.table: 112 × 29\n\n| PLOT &lt;chr&gt; | SRTM_mTPI &lt;dbl&gt; | aet &lt;dbl&gt; | agbd_m &lt;dbl&gt; | agbd_n &lt;dbl&gt; | agbd_sd &lt;dbl&gt; | bare &lt;dbl&gt; | built &lt;dbl&gt; | crops &lt;dbl&gt; | def &lt;dbl&gt; | ⋯ ⋯ | soil &lt;dbl&gt; | srad &lt;dbl&gt; | swe &lt;dbl&gt; | tmmn &lt;dbl&gt; | tmmx &lt;dbl&gt; | trees &lt;dbl&gt; | vap &lt;dbl&gt; | vpd &lt;dbl&gt; | vs &lt;dbl&gt; | water &lt;dbl&gt; |\n|---|---|---|---|---|---|---|---|---|---|---|---|---|---|---|---|---|---|---|---|---|\n| 2159 |           NA |        NA |           NA |         NA |           NA |           NA |           NA |           NA |           NA | ⋯ |           NA |           NA |  NA |           NA |           NA |           NA |           NA |           NA |           NA |       NA |\n| 2167 |           NA |        NA |           NA |         NA |           NA |           NA |           NA |           NA |           NA | ⋯ |           NA |           NA |  NA |           NA |           NA |           NA |           NA |           NA |           NA |       NA |\n| 2191 | 1.983122e-06 | 12.448111 | 1.933227e-59 | 17.6121783 | 2.217383e-51 | 1.019437e-53 | 1.986086e-32 | 3.343159e-15 | 1.907907e-08 | ⋯ | 3.125969e-12 | 7.702718e-09 | NaN | 9.720454e-11 | 2.931833e-12 | 2.183061e-14 | 8.837099e-13 | 1.015311e-10 | 1.652706e-08 | 27.88444 |\n| 2204 |           NA |        NA |           NA |         NA |           NA |           NA |           NA |           NA |           NA | ⋯ |           NA |           NA |  NA |           NA |           NA |           NA |           NA |           NA |           NA |       NA |\n| 2208 |           NA |        NA |           NA |         NA |           NA |           NA |           NA |           NA |           NA | ⋯ |           NA |           NA |  NA |           NA |           NA |           NA |           NA |           NA |           NA |       NA |\n| 2212 |           NA |        NA |           NA |         NA |           NA |           NA |           NA |           NA |           NA | ⋯ |           NA |           NA |  NA |           NA |           NA |           NA |           NA |           NA |           NA |       NA |\n| 2230 |           NA |        NA |           NA |         NA |           NA |           NA |           NA |           NA |           NA | ⋯ |           NA |           NA |  NA |           NA |           NA |           NA |           NA |           NA |           NA |       NA |\n| 2237 |           NA |        NA |           NA |         NA |           NA |           NA |           NA |           NA |           NA | ⋯ |           NA |           NA |  NA |           NA |           NA |           NA |           NA |           NA |           NA |       NA |\n| 2242 |           NA |        NA |           NA |         NA |           NA |           NA |           NA |           NA |           NA | ⋯ |           NA |           NA |  NA |           NA |           NA |           NA |           NA |           NA |           NA |       NA |\n| 2248 |           NA |        NA |           NA |         NA |           NA |           NA |           NA |           NA |           NA | ⋯ |           NA |           NA |  NA |           NA |           NA |           NA |           NA |           NA |           NA |       NA |\n| 2256 |           NA |        NA |           NA |         NA |           NA |           NA |           NA |           NA |           NA | ⋯ |           NA |           NA |  NA |           NA |           NA |           NA |           NA |           NA |           NA |       NA |\n| 2261 |           NA |        NA |           NA |         NA |           NA |           NA |           NA |           NA |           NA | ⋯ |           NA |           NA |  NA |           NA |           NA |           NA |           NA |           NA |           NA |       NA |\n| 2271 |           NA |        NA |           NA |         NA |           NA |           NA |           NA |           NA |           NA | ⋯ |           NA |           NA |  NA |           NA |           NA |           NA |           NA |           NA |           NA |       NA |\n| 2286 |           NA |        NA |           NA |         NA |           NA |           NA |           NA |           NA |           NA | ⋯ |           NA |           NA |  NA |           NA |           NA |           NA |           NA |           NA |           NA |       NA |\n| 2291 |           NA |        NA |           NA |         NA |           NA |           NA |           NA |           NA |           NA | ⋯ |           NA |           NA |  NA |           NA |           NA |           NA |           NA |           NA |           NA |       NA |\n| 2307 |           NA |        NA |           NA |         NA |           NA |           NA |           NA |           NA |           NA | ⋯ |           NA |           NA |  NA |           NA |           NA |           NA |           NA |           NA |           NA |       NA |\n| 2312 |           NA |        NA |           NA |         NA |           NA |           NA |           NA |           NA |           NA | ⋯ |           NA |           NA |  NA |           NA |           NA |           NA |           NA |           NA |           NA |       NA |\n| 2317 |           NA |        NA |           NA |         NA |           NA |           NA |           NA |           NA |           NA | ⋯ |           NA |           NA |  NA |           NA |           NA |           NA |           NA |           NA |           NA |       NA |\n| 2335 |           NA |        NA |           NA |         NA |           NA |           NA |           NA |           NA |           NA | ⋯ |           NA |           NA |  NA |           NA |           NA |           NA |           NA |           NA |           NA |       NA |\n| 2364 |           NA |        NA |           NA |         NA |           NA |           NA |           NA |           NA |           NA | ⋯ |           NA |           NA |  NA |           NA |           NA |           NA |           NA |           NA |           NA |       NA |\n| 2376 |           NA |        NA |           NA |         NA |           NA |           NA |           NA |           NA |           NA | ⋯ |           NA |           NA |  NA |           NA |           NA |           NA |           NA |           NA |           NA |       NA |\n| 2382 |           NA |        NA |           NA |         NA |           NA |           NA |           NA |           NA |           NA | ⋯ |           NA |           NA |  NA |           NA |           NA |           NA |           NA |           NA |           NA |       NA |\n| 2385 |           NA |        NA |           NA |         NA |           NA |           NA |           NA |           NA |           NA | ⋯ |           NA |           NA |  NA |           NA |           NA |           NA |           NA |           NA |           NA |       NA |\n| 2389 |           NA |        NA |           NA |         NA |           NA |           NA |           NA |           NA |           NA | ⋯ |           NA |           NA |  NA |           NA |           NA |           NA |           NA |           NA |           NA |       NA |\n| 2394 |           NA |        NA |           NA |         NA |           NA |           NA |           NA |           NA |           NA | ⋯ |           NA |           NA |  NA |           NA |           NA |           NA |           NA |           NA |           NA |       NA |\n| 2400 |           NA |        NA |           NA |         NA |           NA |           NA |           NA |           NA |           NA | ⋯ |           NA |           NA |  NA |           NA |           NA |           NA |           NA |           NA |           NA |       NA |\n| 2406 |           NA |        NA |           NA |         NA |           NA |           NA |           NA |           NA |           NA | ⋯ |           NA |           NA |  NA |           NA |           NA |           NA |           NA |           NA |           NA |       NA |\n| 2409 | 1.499127e+00 | 14.751815 | 1.120378e+00 |  0.1325264 | 3.526402e-02 | 2.633619e+01 | 2.340113e-02 | 1.631328e+01 | 8.314364e+00 | ⋯ | 3.024455e-03 | 2.355083e+00 | NaN | 1.273562e+00 | 1.302762e+00 | 2.139364e+01 | 2.263788e+00 | 1.632179e+00 | 3.937980e-04 | 21.23189 |\n| 2419 |           NA |        NA |           NA |         NA |           NA |           NA |           NA |           NA |           NA | ⋯ |           NA |           NA |  NA |           NA |           NA |           NA |           NA |           NA |           NA |       NA |\n| 2425 | 1.815233e+00 |  8.026261 | 2.273145e+01 | 22.8648184 | 2.122893e+01 | 3.636338e-01 | 6.108916e-02 | 1.254177e+01 | 1.364961e+01 | ⋯ | 2.434449e+01 | 8.640545e+00 | NaN | 9.268060e+00 | 8.362156e+00 | 4.712817e-01 | 8.936935e+00 | 9.898315e+00 | 2.180199e+01 | 11.28799 |\n| ⋮ | ⋮ | ⋮ | ⋮ | ⋮ | ⋮ | ⋮ | ⋮ | ⋮ | ⋮ | ⋱ | ⋮ | ⋮ | ⋮ | ⋮ | ⋮ | ⋮ | ⋮ | ⋮ | ⋮ | ⋮ |\n| 4404 |          NA |           NA |          NA |           NA |           NA |           NA |           NA |          NA |           NA | ⋯ |           NA |           NA |  NA |           NA |           NA |           NA |           NA |           NA |           NA |         NA |\n| 4424 |          NA |           NA |          NA |           NA |           NA |           NA |           NA |          NA |           NA | ⋯ |           NA |           NA |  NA |           NA |           NA |           NA |           NA |           NA |           NA |         NA |\n| 4508 | 11.51149089 | 5.812078e-02 |  0.09245391 | 1.489102e-04 | 9.435263e-01 | 5.038696e-01 | 3.995585e-21 |  0.05356842 | 2.244387e+01 | ⋯ | 1.112415e-06 | 1.303307e-01 | NaN | 8.407974e-02 | 8.200627e-02 | 1.281229e+01 | 7.917483e-02 | 4.264528e-02 | 1.564443e-01 |  0.9296109 |\n| 4510 | 14.92532922 | 2.320762e+01 | 27.26916921 | 1.365739e-11 | 2.277007e+01 | 6.451972e-01 | 2.823471e-02 | 18.73728557 | 8.940699e-15 | ⋯ | 1.817099e-12 | 7.473591e-12 | NaN | 2.698494e-01 | 2.687208e-01 | 7.915494e+00 | 2.491638e-01 | 1.538290e-01 | 5.179424e-02 | 25.4838840 |\n| 4527 |          NA |           NA |          NA |           NA |           NA |           NA |           NA |          NA |           NA | ⋯ |           NA |           NA |  NA |           NA |           NA |           NA |           NA |           NA |           NA |         NA |\n| 4612 |          NA |           NA |          NA |           NA |           NA |           NA |           NA |          NA |           NA | ⋯ |           NA |           NA |  NA |           NA |           NA |           NA |           NA |           NA |           NA |         NA |\n| 4622 |          NA |           NA |          NA |           NA |           NA |           NA |           NA |          NA |           NA | ⋯ |           NA |           NA |  NA |           NA |           NA |           NA |           NA |           NA |           NA |         NA |\n| 4640 |          NA |           NA |          NA |           NA |           NA |           NA |           NA |          NA |           NA | ⋯ |           NA |           NA |  NA |           NA |           NA |           NA |           NA |           NA |           NA |         NA |\n| 4655 |          NA |           NA |          NA |           NA |           NA |           NA |           NA |          NA |           NA | ⋯ |           NA |           NA |  NA |           NA |           NA |           NA |           NA |           NA |           NA |         NA |\n| 4695 |          NA |           NA |          NA |           NA |           NA |           NA |           NA |          NA |           NA | ⋯ |           NA |           NA |  NA |           NA |           NA |           NA |           NA |           NA |           NA |         NA |\n| 4700 |  1.53520042 | 2.664068e+01 |  0.10153796 | 1.595564e+00 | 1.013996e-05 | 4.500843e-03 | 1.964001e-11 |  0.01752618 | 8.003970e-12 | ⋯ | 5.985328e+00 | 2.486874e-06 | NaN | 1.032280e+00 | 8.580615e-01 | 5.284202e-03 | 1.108435e+00 | 9.440861e-01 | 1.420825e-07 |  0.2996496 |\n| 4709 |          NA |           NA |          NA |           NA |           NA |           NA |           NA |          NA |           NA | ⋯ |           NA |           NA |  NA |           NA |           NA |           NA |           NA |           NA |           NA |         NA |\n| 4791 |          NA |           NA |          NA |           NA |           NA |           NA |           NA |          NA |           NA | ⋯ |           NA |           NA |  NA |           NA |           NA |           NA |           NA |           NA |           NA |         NA |\n| 4839 |          NA |           NA |          NA |           NA |           NA |           NA |           NA |          NA |           NA | ⋯ |           NA |           NA |  NA |           NA |           NA |           NA |           NA |           NA |           NA |         NA |\n| 4895 |          NA |           NA |          NA |           NA |           NA |           NA |           NA |          NA |           NA | ⋯ |           NA |           NA |  NA |           NA |           NA |           NA |           NA |           NA |           NA |         NA |\n| 4955 |          NA |           NA |          NA |           NA |           NA |           NA |           NA |          NA |           NA | ⋯ |           NA |           NA |  NA |           NA |           NA |           NA |           NA |           NA |           NA |         NA |\n| 4994 | 23.11866507 | 3.560684e+00 |  0.11365215 | 5.114861e-04 | 1.264595e-02 | 2.539060e-05 | 1.636585e-05 | 16.30205472 | 7.933243e-03 | ⋯ | 1.504750e-02 | 1.540435e-07 | NaN | 5.813460e-01 | 4.894868e-01 | 1.897053e-06 | 3.629833e-01 | 3.922640e-01 | 1.648844e+00 |  2.3275199 |\n| 5059 |          NA |           NA |          NA |           NA |           NA |           NA |           NA |          NA |           NA | ⋯ |           NA |           NA |  NA |           NA |           NA |           NA |           NA |           NA |           NA |         NA |\n| 5062 |          NA |           NA |          NA |           NA |           NA |           NA |           NA |          NA |           NA | ⋯ |           NA |           NA |  NA |           NA |           NA |           NA |           NA |           NA |           NA |         NA |\n| 5124 |          NA |           NA |          NA |           NA |           NA |           NA |           NA |          NA |           NA | ⋯ |           NA |           NA |  NA |           NA |           NA |           NA |           NA |           NA |           NA |         NA |\n| 5198 |  0.07978312 | 3.123945e-24 |  4.35695671 | 3.655513e+00 | 3.734477e-04 | 2.198228e-01 | 1.074751e-01 |  0.02681007 | 3.897515e-13 | ⋯ | 2.807923e-23 | 3.044014e-14 | NaN | 2.734217e-11 | 1.539912e-11 | 8.941536e-01 | 1.524950e-11 | 1.885997e-11 | 4.973285e+00 |  0.7736174 |\n| 5226 |          NA |           NA |          NA |           NA |           NA |           NA |           NA |          NA |           NA | ⋯ |           NA |           NA |  NA |           NA |           NA |           NA |           NA |           NA |           NA |         NA |\n| 5284 |          NA |           NA |          NA |           NA |           NA |           NA |           NA |          NA |           NA | ⋯ |           NA |           NA |  NA |           NA |           NA |           NA |           NA |           NA |           NA |         NA |\n| 5289 |          NA |           NA |          NA |           NA |           NA |           NA |           NA |          NA |           NA | ⋯ |           NA |           NA |  NA |           NA |           NA |           NA |           NA |           NA |           NA |         NA |\n| 5347 | 15.64797029 | 5.928762e-01 |  6.45317486 | 2.457780e+01 | 1.106436e+01 | 9.757817e+00 | 2.234490e+01 |  2.36361649 | 1.414418e+00 | ⋯ | 1.139233e+00 | 2.168919e+00 | NaN | 1.362899e+00 | 1.441398e+00 | 1.717702e+01 | 1.296714e+00 | 1.438852e+00 | 1.848332e+01 |  1.0543179 |\n| 5450 |          NA |           NA |          NA |           NA |           NA |           NA |           NA |          NA |           NA | ⋯ |           NA |           NA |  NA |           NA |           NA |           NA |           NA |           NA |           NA |         NA |\n| 5553 |  3.57023018 | 1.242835e+01 | 11.08171629 | 4.020446e+00 | 8.610123e+00 | 1.201501e+01 | 4.532380e+00 | 23.11422894 | 2.702989e+01 | ⋯ | 2.634573e+01 | 9.172931e+00 | NaN | 1.587782e+01 | 2.046012e+01 | 8.091341e+00 | 1.758069e+01 | 1.555272e+01 | 2.529186e+01 | 11.7469644 |\n| 5712 |          NA |           NA |          NA |           NA |           NA |           NA |           NA |          NA |           NA | ⋯ |           NA |           NA |  NA |           NA |           NA |           NA |           NA |           NA |           NA |         NA |\n| 5825 |          NA |           NA |          NA |           NA |           NA |           NA |           NA |          NA |           NA | ⋯ |           NA |           NA |  NA |           NA |           NA |           NA |           NA |           NA |           NA |         NA |\n| 5831 |  8.73550287 | 1.965265e+01 | 14.07034246 | 8.518933e-03 | 2.582185e+01 | 1.749598e-03 | 1.241299e-05 |  0.79684241 | 2.815591e-02 | ⋯ | 4.095109e-02 | 2.808534e-04 | NaN | 8.711374e-01 | 8.435256e-01 | 2.355181e-01 | 1.031119e+00 | 1.120347e+00 | 2.704810e+01 | 13.3913114 |\n\n",
            "text/latex": "A data.table: 112 × 29\n\\begin{tabular}{lllllllllllllllllllll}\n PLOT & SRTM\\_mTPI & aet & agbd\\_m & agbd\\_n & agbd\\_sd & bare & built & crops & def & ⋯ & soil & srad & swe & tmmn & tmmx & trees & vap & vpd & vs & water\\\\\n <chr> & <dbl> & <dbl> & <dbl> & <dbl> & <dbl> & <dbl> & <dbl> & <dbl> & <dbl> & ⋯ & <dbl> & <dbl> & <dbl> & <dbl> & <dbl> & <dbl> & <dbl> & <dbl> & <dbl> & <dbl>\\\\\n\\hline\n\t 2159 &           NA &        NA &           NA &         NA &           NA &           NA &           NA &           NA &           NA & ⋯ &           NA &           NA &  NA &           NA &           NA &           NA &           NA &           NA &           NA &       NA\\\\\n\t 2167 &           NA &        NA &           NA &         NA &           NA &           NA &           NA &           NA &           NA & ⋯ &           NA &           NA &  NA &           NA &           NA &           NA &           NA &           NA &           NA &       NA\\\\\n\t 2191 & 1.983122e-06 & 12.448111 & 1.933227e-59 & 17.6121783 & 2.217383e-51 & 1.019437e-53 & 1.986086e-32 & 3.343159e-15 & 1.907907e-08 & ⋯ & 3.125969e-12 & 7.702718e-09 & NaN & 9.720454e-11 & 2.931833e-12 & 2.183061e-14 & 8.837099e-13 & 1.015311e-10 & 1.652706e-08 & 27.88444\\\\\n\t 2204 &           NA &        NA &           NA &         NA &           NA &           NA &           NA &           NA &           NA & ⋯ &           NA &           NA &  NA &           NA &           NA &           NA &           NA &           NA &           NA &       NA\\\\\n\t 2208 &           NA &        NA &           NA &         NA &           NA &           NA &           NA &           NA &           NA & ⋯ &           NA &           NA &  NA &           NA &           NA &           NA &           NA &           NA &           NA &       NA\\\\\n\t 2212 &           NA &        NA &           NA &         NA &           NA &           NA &           NA &           NA &           NA & ⋯ &           NA &           NA &  NA &           NA &           NA &           NA &           NA &           NA &           NA &       NA\\\\\n\t 2230 &           NA &        NA &           NA &         NA &           NA &           NA &           NA &           NA &           NA & ⋯ &           NA &           NA &  NA &           NA &           NA &           NA &           NA &           NA &           NA &       NA\\\\\n\t 2237 &           NA &        NA &           NA &         NA &           NA &           NA &           NA &           NA &           NA & ⋯ &           NA &           NA &  NA &           NA &           NA &           NA &           NA &           NA &           NA &       NA\\\\\n\t 2242 &           NA &        NA &           NA &         NA &           NA &           NA &           NA &           NA &           NA & ⋯ &           NA &           NA &  NA &           NA &           NA &           NA &           NA &           NA &           NA &       NA\\\\\n\t 2248 &           NA &        NA &           NA &         NA &           NA &           NA &           NA &           NA &           NA & ⋯ &           NA &           NA &  NA &           NA &           NA &           NA &           NA &           NA &           NA &       NA\\\\\n\t 2256 &           NA &        NA &           NA &         NA &           NA &           NA &           NA &           NA &           NA & ⋯ &           NA &           NA &  NA &           NA &           NA &           NA &           NA &           NA &           NA &       NA\\\\\n\t 2261 &           NA &        NA &           NA &         NA &           NA &           NA &           NA &           NA &           NA & ⋯ &           NA &           NA &  NA &           NA &           NA &           NA &           NA &           NA &           NA &       NA\\\\\n\t 2271 &           NA &        NA &           NA &         NA &           NA &           NA &           NA &           NA &           NA & ⋯ &           NA &           NA &  NA &           NA &           NA &           NA &           NA &           NA &           NA &       NA\\\\\n\t 2286 &           NA &        NA &           NA &         NA &           NA &           NA &           NA &           NA &           NA & ⋯ &           NA &           NA &  NA &           NA &           NA &           NA &           NA &           NA &           NA &       NA\\\\\n\t 2291 &           NA &        NA &           NA &         NA &           NA &           NA &           NA &           NA &           NA & ⋯ &           NA &           NA &  NA &           NA &           NA &           NA &           NA &           NA &           NA &       NA\\\\\n\t 2307 &           NA &        NA &           NA &         NA &           NA &           NA &           NA &           NA &           NA & ⋯ &           NA &           NA &  NA &           NA &           NA &           NA &           NA &           NA &           NA &       NA\\\\\n\t 2312 &           NA &        NA &           NA &         NA &           NA &           NA &           NA &           NA &           NA & ⋯ &           NA &           NA &  NA &           NA &           NA &           NA &           NA &           NA &           NA &       NA\\\\\n\t 2317 &           NA &        NA &           NA &         NA &           NA &           NA &           NA &           NA &           NA & ⋯ &           NA &           NA &  NA &           NA &           NA &           NA &           NA &           NA &           NA &       NA\\\\\n\t 2335 &           NA &        NA &           NA &         NA &           NA &           NA &           NA &           NA &           NA & ⋯ &           NA &           NA &  NA &           NA &           NA &           NA &           NA &           NA &           NA &       NA\\\\\n\t 2364 &           NA &        NA &           NA &         NA &           NA &           NA &           NA &           NA &           NA & ⋯ &           NA &           NA &  NA &           NA &           NA &           NA &           NA &           NA &           NA &       NA\\\\\n\t 2376 &           NA &        NA &           NA &         NA &           NA &           NA &           NA &           NA &           NA & ⋯ &           NA &           NA &  NA &           NA &           NA &           NA &           NA &           NA &           NA &       NA\\\\\n\t 2382 &           NA &        NA &           NA &         NA &           NA &           NA &           NA &           NA &           NA & ⋯ &           NA &           NA &  NA &           NA &           NA &           NA &           NA &           NA &           NA &       NA\\\\\n\t 2385 &           NA &        NA &           NA &         NA &           NA &           NA &           NA &           NA &           NA & ⋯ &           NA &           NA &  NA &           NA &           NA &           NA &           NA &           NA &           NA &       NA\\\\\n\t 2389 &           NA &        NA &           NA &         NA &           NA &           NA &           NA &           NA &           NA & ⋯ &           NA &           NA &  NA &           NA &           NA &           NA &           NA &           NA &           NA &       NA\\\\\n\t 2394 &           NA &        NA &           NA &         NA &           NA &           NA &           NA &           NA &           NA & ⋯ &           NA &           NA &  NA &           NA &           NA &           NA &           NA &           NA &           NA &       NA\\\\\n\t 2400 &           NA &        NA &           NA &         NA &           NA &           NA &           NA &           NA &           NA & ⋯ &           NA &           NA &  NA &           NA &           NA &           NA &           NA &           NA &           NA &       NA\\\\\n\t 2406 &           NA &        NA &           NA &         NA &           NA &           NA &           NA &           NA &           NA & ⋯ &           NA &           NA &  NA &           NA &           NA &           NA &           NA &           NA &           NA &       NA\\\\\n\t 2409 & 1.499127e+00 & 14.751815 & 1.120378e+00 &  0.1325264 & 3.526402e-02 & 2.633619e+01 & 2.340113e-02 & 1.631328e+01 & 8.314364e+00 & ⋯ & 3.024455e-03 & 2.355083e+00 & NaN & 1.273562e+00 & 1.302762e+00 & 2.139364e+01 & 2.263788e+00 & 1.632179e+00 & 3.937980e-04 & 21.23189\\\\\n\t 2419 &           NA &        NA &           NA &         NA &           NA &           NA &           NA &           NA &           NA & ⋯ &           NA &           NA &  NA &           NA &           NA &           NA &           NA &           NA &           NA &       NA\\\\\n\t 2425 & 1.815233e+00 &  8.026261 & 2.273145e+01 & 22.8648184 & 2.122893e+01 & 3.636338e-01 & 6.108916e-02 & 1.254177e+01 & 1.364961e+01 & ⋯ & 2.434449e+01 & 8.640545e+00 & NaN & 9.268060e+00 & 8.362156e+00 & 4.712817e-01 & 8.936935e+00 & 9.898315e+00 & 2.180199e+01 & 11.28799\\\\\n\t ⋮ & ⋮ & ⋮ & ⋮ & ⋮ & ⋮ & ⋮ & ⋮ & ⋮ & ⋮ & ⋱ & ⋮ & ⋮ & ⋮ & ⋮ & ⋮ & ⋮ & ⋮ & ⋮ & ⋮ & ⋮\\\\\n\t 4404 &          NA &           NA &          NA &           NA &           NA &           NA &           NA &          NA &           NA & ⋯ &           NA &           NA &  NA &           NA &           NA &           NA &           NA &           NA &           NA &         NA\\\\\n\t 4424 &          NA &           NA &          NA &           NA &           NA &           NA &           NA &          NA &           NA & ⋯ &           NA &           NA &  NA &           NA &           NA &           NA &           NA &           NA &           NA &         NA\\\\\n\t 4508 & 11.51149089 & 5.812078e-02 &  0.09245391 & 1.489102e-04 & 9.435263e-01 & 5.038696e-01 & 3.995585e-21 &  0.05356842 & 2.244387e+01 & ⋯ & 1.112415e-06 & 1.303307e-01 & NaN & 8.407974e-02 & 8.200627e-02 & 1.281229e+01 & 7.917483e-02 & 4.264528e-02 & 1.564443e-01 &  0.9296109\\\\\n\t 4510 & 14.92532922 & 2.320762e+01 & 27.26916921 & 1.365739e-11 & 2.277007e+01 & 6.451972e-01 & 2.823471e-02 & 18.73728557 & 8.940699e-15 & ⋯ & 1.817099e-12 & 7.473591e-12 & NaN & 2.698494e-01 & 2.687208e-01 & 7.915494e+00 & 2.491638e-01 & 1.538290e-01 & 5.179424e-02 & 25.4838840\\\\\n\t 4527 &          NA &           NA &          NA &           NA &           NA &           NA &           NA &          NA &           NA & ⋯ &           NA &           NA &  NA &           NA &           NA &           NA &           NA &           NA &           NA &         NA\\\\\n\t 4612 &          NA &           NA &          NA &           NA &           NA &           NA &           NA &          NA &           NA & ⋯ &           NA &           NA &  NA &           NA &           NA &           NA &           NA &           NA &           NA &         NA\\\\\n\t 4622 &          NA &           NA &          NA &           NA &           NA &           NA &           NA &          NA &           NA & ⋯ &           NA &           NA &  NA &           NA &           NA &           NA &           NA &           NA &           NA &         NA\\\\\n\t 4640 &          NA &           NA &          NA &           NA &           NA &           NA &           NA &          NA &           NA & ⋯ &           NA &           NA &  NA &           NA &           NA &           NA &           NA &           NA &           NA &         NA\\\\\n\t 4655 &          NA &           NA &          NA &           NA &           NA &           NA &           NA &          NA &           NA & ⋯ &           NA &           NA &  NA &           NA &           NA &           NA &           NA &           NA &           NA &         NA\\\\\n\t 4695 &          NA &           NA &          NA &           NA &           NA &           NA &           NA &          NA &           NA & ⋯ &           NA &           NA &  NA &           NA &           NA &           NA &           NA &           NA &           NA &         NA\\\\\n\t 4700 &  1.53520042 & 2.664068e+01 &  0.10153796 & 1.595564e+00 & 1.013996e-05 & 4.500843e-03 & 1.964001e-11 &  0.01752618 & 8.003970e-12 & ⋯ & 5.985328e+00 & 2.486874e-06 & NaN & 1.032280e+00 & 8.580615e-01 & 5.284202e-03 & 1.108435e+00 & 9.440861e-01 & 1.420825e-07 &  0.2996496\\\\\n\t 4709 &          NA &           NA &          NA &           NA &           NA &           NA &           NA &          NA &           NA & ⋯ &           NA &           NA &  NA &           NA &           NA &           NA &           NA &           NA &           NA &         NA\\\\\n\t 4791 &          NA &           NA &          NA &           NA &           NA &           NA &           NA &          NA &           NA & ⋯ &           NA &           NA &  NA &           NA &           NA &           NA &           NA &           NA &           NA &         NA\\\\\n\t 4839 &          NA &           NA &          NA &           NA &           NA &           NA &           NA &          NA &           NA & ⋯ &           NA &           NA &  NA &           NA &           NA &           NA &           NA &           NA &           NA &         NA\\\\\n\t 4895 &          NA &           NA &          NA &           NA &           NA &           NA &           NA &          NA &           NA & ⋯ &           NA &           NA &  NA &           NA &           NA &           NA &           NA &           NA &           NA &         NA\\\\\n\t 4955 &          NA &           NA &          NA &           NA &           NA &           NA &           NA &          NA &           NA & ⋯ &           NA &           NA &  NA &           NA &           NA &           NA &           NA &           NA &           NA &         NA\\\\\n\t 4994 & 23.11866507 & 3.560684e+00 &  0.11365215 & 5.114861e-04 & 1.264595e-02 & 2.539060e-05 & 1.636585e-05 & 16.30205472 & 7.933243e-03 & ⋯ & 1.504750e-02 & 1.540435e-07 & NaN & 5.813460e-01 & 4.894868e-01 & 1.897053e-06 & 3.629833e-01 & 3.922640e-01 & 1.648844e+00 &  2.3275199\\\\\n\t 5059 &          NA &           NA &          NA &           NA &           NA &           NA &           NA &          NA &           NA & ⋯ &           NA &           NA &  NA &           NA &           NA &           NA &           NA &           NA &           NA &         NA\\\\\n\t 5062 &          NA &           NA &          NA &           NA &           NA &           NA &           NA &          NA &           NA & ⋯ &           NA &           NA &  NA &           NA &           NA &           NA &           NA &           NA &           NA &         NA\\\\\n\t 5124 &          NA &           NA &          NA &           NA &           NA &           NA &           NA &          NA &           NA & ⋯ &           NA &           NA &  NA &           NA &           NA &           NA &           NA &           NA &           NA &         NA\\\\\n\t 5198 &  0.07978312 & 3.123945e-24 &  4.35695671 & 3.655513e+00 & 3.734477e-04 & 2.198228e-01 & 1.074751e-01 &  0.02681007 & 3.897515e-13 & ⋯ & 2.807923e-23 & 3.044014e-14 & NaN & 2.734217e-11 & 1.539912e-11 & 8.941536e-01 & 1.524950e-11 & 1.885997e-11 & 4.973285e+00 &  0.7736174\\\\\n\t 5226 &          NA &           NA &          NA &           NA &           NA &           NA &           NA &          NA &           NA & ⋯ &           NA &           NA &  NA &           NA &           NA &           NA &           NA &           NA &           NA &         NA\\\\\n\t 5284 &          NA &           NA &          NA &           NA &           NA &           NA &           NA &          NA &           NA & ⋯ &           NA &           NA &  NA &           NA &           NA &           NA &           NA &           NA &           NA &         NA\\\\\n\t 5289 &          NA &           NA &          NA &           NA &           NA &           NA &           NA &          NA &           NA & ⋯ &           NA &           NA &  NA &           NA &           NA &           NA &           NA &           NA &           NA &         NA\\\\\n\t 5347 & 15.64797029 & 5.928762e-01 &  6.45317486 & 2.457780e+01 & 1.106436e+01 & 9.757817e+00 & 2.234490e+01 &  2.36361649 & 1.414418e+00 & ⋯ & 1.139233e+00 & 2.168919e+00 & NaN & 1.362899e+00 & 1.441398e+00 & 1.717702e+01 & 1.296714e+00 & 1.438852e+00 & 1.848332e+01 &  1.0543179\\\\\n\t 5450 &          NA &           NA &          NA &           NA &           NA &           NA &           NA &          NA &           NA & ⋯ &           NA &           NA &  NA &           NA &           NA &           NA &           NA &           NA &           NA &         NA\\\\\n\t 5553 &  3.57023018 & 1.242835e+01 & 11.08171629 & 4.020446e+00 & 8.610123e+00 & 1.201501e+01 & 4.532380e+00 & 23.11422894 & 2.702989e+01 & ⋯ & 2.634573e+01 & 9.172931e+00 & NaN & 1.587782e+01 & 2.046012e+01 & 8.091341e+00 & 1.758069e+01 & 1.555272e+01 & 2.529186e+01 & 11.7469644\\\\\n\t 5712 &          NA &           NA &          NA &           NA &           NA &           NA &           NA &          NA &           NA & ⋯ &           NA &           NA &  NA &           NA &           NA &           NA &           NA &           NA &           NA &         NA\\\\\n\t 5825 &          NA &           NA &          NA &           NA &           NA &           NA &           NA &          NA &           NA & ⋯ &           NA &           NA &  NA &           NA &           NA &           NA &           NA &           NA &           NA &         NA\\\\\n\t 5831 &  8.73550287 & 1.965265e+01 & 14.07034246 & 8.518933e-03 & 2.582185e+01 & 1.749598e-03 & 1.241299e-05 &  0.79684241 & 2.815591e-02 & ⋯ & 4.095109e-02 & 2.808534e-04 & NaN & 8.711374e-01 & 8.435256e-01 & 2.355181e-01 & 1.031119e+00 & 1.120347e+00 & 2.704810e+01 & 13.3913114\\\\\n\\end{tabular}\n",
            "text/plain": [
              "    PLOT SRTM_mTPI    aet          agbd_m       agbd_n       agbd_sd     \n",
              "1   2159           NA        NA              NA         NA             NA\n",
              "2   2167           NA        NA              NA         NA             NA\n",
              "3   2191 1.983122e-06 12.448111    1.933227e-59 17.6121783   2.217383e-51\n",
              "4   2204           NA        NA              NA         NA             NA\n",
              "5   2208           NA        NA              NA         NA             NA\n",
              "6   2212           NA        NA              NA         NA             NA\n",
              "7   2230           NA        NA              NA         NA             NA\n",
              "8   2237           NA        NA              NA         NA             NA\n",
              "9   2242           NA        NA              NA         NA             NA\n",
              "10  2248           NA        NA              NA         NA             NA\n",
              "11  2256           NA        NA              NA         NA             NA\n",
              "12  2261           NA        NA              NA         NA             NA\n",
              "13  2271           NA        NA              NA         NA             NA\n",
              "14  2286           NA        NA              NA         NA             NA\n",
              "15  2291           NA        NA              NA         NA             NA\n",
              "16  2307           NA        NA              NA         NA             NA\n",
              "17  2312           NA        NA              NA         NA             NA\n",
              "18  2317           NA        NA              NA         NA             NA\n",
              "19  2335           NA        NA              NA         NA             NA\n",
              "20  2364           NA        NA              NA         NA             NA\n",
              "21  2376           NA        NA              NA         NA             NA\n",
              "22  2382           NA        NA              NA         NA             NA\n",
              "23  2385           NA        NA              NA         NA             NA\n",
              "24  2389           NA        NA              NA         NA             NA\n",
              "25  2394           NA        NA              NA         NA             NA\n",
              "26  2400           NA        NA              NA         NA             NA\n",
              "27  2406           NA        NA              NA         NA             NA\n",
              "28  2409 1.499127e+00 14.751815    1.120378e+00  0.1325264   3.526402e-02\n",
              "29  2419           NA        NA              NA         NA             NA\n",
              "30  2425 1.815233e+00  8.026261    2.273145e+01 22.8648184   2.122893e+01\n",
              "⋮   ⋮    ⋮            ⋮            ⋮            ⋮            ⋮           \n",
              "83  4404          NA            NA          NA            NA           NA\n",
              "84  4424          NA            NA          NA            NA           NA\n",
              "85  4508 11.51149089  5.812078e-02  0.09245391  1.489102e-04 9.435263e-01\n",
              "86  4510 14.92532922  2.320762e+01 27.26916921  1.365739e-11 2.277007e+01\n",
              "87  4527          NA            NA          NA            NA           NA\n",
              "88  4612          NA            NA          NA            NA           NA\n",
              "89  4622          NA            NA          NA            NA           NA\n",
              "90  4640          NA            NA          NA            NA           NA\n",
              "91  4655          NA            NA          NA            NA           NA\n",
              "92  4695          NA            NA          NA            NA           NA\n",
              "93  4700  1.53520042  2.664068e+01  0.10153796  1.595564e+00 1.013996e-05\n",
              "94  4709          NA            NA          NA            NA           NA\n",
              "95  4791          NA            NA          NA            NA           NA\n",
              "96  4839          NA            NA          NA            NA           NA\n",
              "97  4895          NA            NA          NA            NA           NA\n",
              "98  4955          NA            NA          NA            NA           NA\n",
              "99  4994 23.11866507  3.560684e+00  0.11365215  5.114861e-04 1.264595e-02\n",
              "100 5059          NA            NA          NA            NA           NA\n",
              "101 5062          NA            NA          NA            NA           NA\n",
              "102 5124          NA            NA          NA            NA           NA\n",
              "103 5198  0.07978312  3.123945e-24  4.35695671  3.655513e+00 3.734477e-04\n",
              "104 5226          NA            NA          NA            NA           NA\n",
              "105 5284          NA            NA          NA            NA           NA\n",
              "106 5289          NA            NA          NA            NA           NA\n",
              "107 5347 15.64797029  5.928762e-01  6.45317486  2.457780e+01 1.106436e+01\n",
              "108 5450          NA            NA          NA            NA           NA\n",
              "109 5553  3.57023018  1.242835e+01 11.08171629  4.020446e+00 8.610123e+00\n",
              "110 5712          NA            NA          NA            NA           NA\n",
              "111 5825          NA            NA          NA            NA           NA\n",
              "112 5831  8.73550287  1.965265e+01 14.07034246  8.518933e-03 2.582185e+01\n",
              "    bare         built        crops        def          ⋯ soil        \n",
              "1             NA           NA           NA           NA ⋯           NA\n",
              "2             NA           NA           NA           NA ⋯           NA\n",
              "3   1.019437e-53 1.986086e-32 3.343159e-15 1.907907e-08 ⋯ 3.125969e-12\n",
              "4             NA           NA           NA           NA ⋯           NA\n",
              "5             NA           NA           NA           NA ⋯           NA\n",
              "6             NA           NA           NA           NA ⋯           NA\n",
              "7             NA           NA           NA           NA ⋯           NA\n",
              "8             NA           NA           NA           NA ⋯           NA\n",
              "9             NA           NA           NA           NA ⋯           NA\n",
              "10            NA           NA           NA           NA ⋯           NA\n",
              "11            NA           NA           NA           NA ⋯           NA\n",
              "12            NA           NA           NA           NA ⋯           NA\n",
              "13            NA           NA           NA           NA ⋯           NA\n",
              "14            NA           NA           NA           NA ⋯           NA\n",
              "15            NA           NA           NA           NA ⋯           NA\n",
              "16            NA           NA           NA           NA ⋯           NA\n",
              "17            NA           NA           NA           NA ⋯           NA\n",
              "18            NA           NA           NA           NA ⋯           NA\n",
              "19            NA           NA           NA           NA ⋯           NA\n",
              "20            NA           NA           NA           NA ⋯           NA\n",
              "21            NA           NA           NA           NA ⋯           NA\n",
              "22            NA           NA           NA           NA ⋯           NA\n",
              "23            NA           NA           NA           NA ⋯           NA\n",
              "24            NA           NA           NA           NA ⋯           NA\n",
              "25            NA           NA           NA           NA ⋯           NA\n",
              "26            NA           NA           NA           NA ⋯           NA\n",
              "27            NA           NA           NA           NA ⋯           NA\n",
              "28  2.633619e+01 2.340113e-02 1.631328e+01 8.314364e+00 ⋯ 3.024455e-03\n",
              "29            NA           NA           NA           NA ⋯           NA\n",
              "30  3.636338e-01 6.108916e-02 1.254177e+01 1.364961e+01 ⋯ 2.434449e+01\n",
              "⋮   ⋮            ⋮            ⋮            ⋮            ⋱ ⋮           \n",
              "83            NA           NA          NA            NA ⋯           NA\n",
              "84            NA           NA          NA            NA ⋯           NA\n",
              "85  5.038696e-01 3.995585e-21  0.05356842  2.244387e+01 ⋯ 1.112415e-06\n",
              "86  6.451972e-01 2.823471e-02 18.73728557  8.940699e-15 ⋯ 1.817099e-12\n",
              "87            NA           NA          NA            NA ⋯           NA\n",
              "88            NA           NA          NA            NA ⋯           NA\n",
              "89            NA           NA          NA            NA ⋯           NA\n",
              "90            NA           NA          NA            NA ⋯           NA\n",
              "91            NA           NA          NA            NA ⋯           NA\n",
              "92            NA           NA          NA            NA ⋯           NA\n",
              "93  4.500843e-03 1.964001e-11  0.01752618  8.003970e-12 ⋯ 5.985328e+00\n",
              "94            NA           NA          NA            NA ⋯           NA\n",
              "95            NA           NA          NA            NA ⋯           NA\n",
              "96            NA           NA          NA            NA ⋯           NA\n",
              "97            NA           NA          NA            NA ⋯           NA\n",
              "98            NA           NA          NA            NA ⋯           NA\n",
              "99  2.539060e-05 1.636585e-05 16.30205472  7.933243e-03 ⋯ 1.504750e-02\n",
              "100           NA           NA          NA            NA ⋯           NA\n",
              "101           NA           NA          NA            NA ⋯           NA\n",
              "102           NA           NA          NA            NA ⋯           NA\n",
              "103 2.198228e-01 1.074751e-01  0.02681007  3.897515e-13 ⋯ 2.807923e-23\n",
              "104           NA           NA          NA            NA ⋯           NA\n",
              "105           NA           NA          NA            NA ⋯           NA\n",
              "106           NA           NA          NA            NA ⋯           NA\n",
              "107 9.757817e+00 2.234490e+01  2.36361649  1.414418e+00 ⋯ 1.139233e+00\n",
              "108           NA           NA          NA            NA ⋯           NA\n",
              "109 1.201501e+01 4.532380e+00 23.11422894  2.702989e+01 ⋯ 2.634573e+01\n",
              "110           NA           NA          NA            NA ⋯           NA\n",
              "111           NA           NA          NA            NA ⋯           NA\n",
              "112 1.749598e-03 1.241299e-05  0.79684241  2.815591e-02 ⋯ 4.095109e-02\n",
              "    srad         swe tmmn         tmmx         trees        vap         \n",
              "1             NA  NA           NA           NA           NA           NA\n",
              "2             NA  NA           NA           NA           NA           NA\n",
              "3   7.702718e-09 NaN 9.720454e-11 2.931833e-12 2.183061e-14 8.837099e-13\n",
              "4             NA  NA           NA           NA           NA           NA\n",
              "5             NA  NA           NA           NA           NA           NA\n",
              "6             NA  NA           NA           NA           NA           NA\n",
              "7             NA  NA           NA           NA           NA           NA\n",
              "8             NA  NA           NA           NA           NA           NA\n",
              "9             NA  NA           NA           NA           NA           NA\n",
              "10            NA  NA           NA           NA           NA           NA\n",
              "11            NA  NA           NA           NA           NA           NA\n",
              "12            NA  NA           NA           NA           NA           NA\n",
              "13            NA  NA           NA           NA           NA           NA\n",
              "14            NA  NA           NA           NA           NA           NA\n",
              "15            NA  NA           NA           NA           NA           NA\n",
              "16            NA  NA           NA           NA           NA           NA\n",
              "17            NA  NA           NA           NA           NA           NA\n",
              "18            NA  NA           NA           NA           NA           NA\n",
              "19            NA  NA           NA           NA           NA           NA\n",
              "20            NA  NA           NA           NA           NA           NA\n",
              "21            NA  NA           NA           NA           NA           NA\n",
              "22            NA  NA           NA           NA           NA           NA\n",
              "23            NA  NA           NA           NA           NA           NA\n",
              "24            NA  NA           NA           NA           NA           NA\n",
              "25            NA  NA           NA           NA           NA           NA\n",
              "26            NA  NA           NA           NA           NA           NA\n",
              "27            NA  NA           NA           NA           NA           NA\n",
              "28  2.355083e+00 NaN 1.273562e+00 1.302762e+00 2.139364e+01 2.263788e+00\n",
              "29            NA  NA           NA           NA           NA           NA\n",
              "30  8.640545e+00 NaN 9.268060e+00 8.362156e+00 4.712817e-01 8.936935e+00\n",
              "⋮   ⋮            ⋮   ⋮            ⋮            ⋮            ⋮           \n",
              "83            NA  NA           NA           NA           NA           NA\n",
              "84            NA  NA           NA           NA           NA           NA\n",
              "85  1.303307e-01 NaN 8.407974e-02 8.200627e-02 1.281229e+01 7.917483e-02\n",
              "86  7.473591e-12 NaN 2.698494e-01 2.687208e-01 7.915494e+00 2.491638e-01\n",
              "87            NA  NA           NA           NA           NA           NA\n",
              "88            NA  NA           NA           NA           NA           NA\n",
              "89            NA  NA           NA           NA           NA           NA\n",
              "90            NA  NA           NA           NA           NA           NA\n",
              "91            NA  NA           NA           NA           NA           NA\n",
              "92            NA  NA           NA           NA           NA           NA\n",
              "93  2.486874e-06 NaN 1.032280e+00 8.580615e-01 5.284202e-03 1.108435e+00\n",
              "94            NA  NA           NA           NA           NA           NA\n",
              "95            NA  NA           NA           NA           NA           NA\n",
              "96            NA  NA           NA           NA           NA           NA\n",
              "97            NA  NA           NA           NA           NA           NA\n",
              "98            NA  NA           NA           NA           NA           NA\n",
              "99  1.540435e-07 NaN 5.813460e-01 4.894868e-01 1.897053e-06 3.629833e-01\n",
              "100           NA  NA           NA           NA           NA           NA\n",
              "101           NA  NA           NA           NA           NA           NA\n",
              "102           NA  NA           NA           NA           NA           NA\n",
              "103 3.044014e-14 NaN 2.734217e-11 1.539912e-11 8.941536e-01 1.524950e-11\n",
              "104           NA  NA           NA           NA           NA           NA\n",
              "105           NA  NA           NA           NA           NA           NA\n",
              "106           NA  NA           NA           NA           NA           NA\n",
              "107 2.168919e+00 NaN 1.362899e+00 1.441398e+00 1.717702e+01 1.296714e+00\n",
              "108           NA  NA           NA           NA           NA           NA\n",
              "109 9.172931e+00 NaN 1.587782e+01 2.046012e+01 8.091341e+00 1.758069e+01\n",
              "110           NA  NA           NA           NA           NA           NA\n",
              "111           NA  NA           NA           NA           NA           NA\n",
              "112 2.808534e-04 NaN 8.711374e-01 8.435256e-01 2.355181e-01 1.031119e+00\n",
              "    vpd          vs           water     \n",
              "1             NA           NA       NA  \n",
              "2             NA           NA       NA  \n",
              "3   1.015311e-10 1.652706e-08 27.88444  \n",
              "4             NA           NA       NA  \n",
              "5             NA           NA       NA  \n",
              "6             NA           NA       NA  \n",
              "7             NA           NA       NA  \n",
              "8             NA           NA       NA  \n",
              "9             NA           NA       NA  \n",
              "10            NA           NA       NA  \n",
              "11            NA           NA       NA  \n",
              "12            NA           NA       NA  \n",
              "13            NA           NA       NA  \n",
              "14            NA           NA       NA  \n",
              "15            NA           NA       NA  \n",
              "16            NA           NA       NA  \n",
              "17            NA           NA       NA  \n",
              "18            NA           NA       NA  \n",
              "19            NA           NA       NA  \n",
              "20            NA           NA       NA  \n",
              "21            NA           NA       NA  \n",
              "22            NA           NA       NA  \n",
              "23            NA           NA       NA  \n",
              "24            NA           NA       NA  \n",
              "25            NA           NA       NA  \n",
              "26            NA           NA       NA  \n",
              "27            NA           NA       NA  \n",
              "28  1.632179e+00 3.937980e-04 21.23189  \n",
              "29            NA           NA       NA  \n",
              "30  9.898315e+00 2.180199e+01 11.28799  \n",
              "⋮   ⋮            ⋮            ⋮         \n",
              "83            NA           NA         NA\n",
              "84            NA           NA         NA\n",
              "85  4.264528e-02 1.564443e-01  0.9296109\n",
              "86  1.538290e-01 5.179424e-02 25.4838840\n",
              "87            NA           NA         NA\n",
              "88            NA           NA         NA\n",
              "89            NA           NA         NA\n",
              "90            NA           NA         NA\n",
              "91            NA           NA         NA\n",
              "92            NA           NA         NA\n",
              "93  9.440861e-01 1.420825e-07  0.2996496\n",
              "94            NA           NA         NA\n",
              "95            NA           NA         NA\n",
              "96            NA           NA         NA\n",
              "97            NA           NA         NA\n",
              "98            NA           NA         NA\n",
              "99  3.922640e-01 1.648844e+00  2.3275199\n",
              "100           NA           NA         NA\n",
              "101           NA           NA         NA\n",
              "102           NA           NA         NA\n",
              "103 1.885997e-11 4.973285e+00  0.7736174\n",
              "104           NA           NA         NA\n",
              "105           NA           NA         NA\n",
              "106           NA           NA         NA\n",
              "107 1.438852e+00 1.848332e+01  1.0543179\n",
              "108           NA           NA         NA\n",
              "109 1.555272e+01 2.529186e+01 11.7469644\n",
              "110           NA           NA         NA\n",
              "111           NA           NA         NA\n",
              "112 1.120347e+00 2.704810e+01 13.3913114"
            ]
          },
          "metadata": {}
        }
      ]
    },
    {
      "cell_type": "code",
      "source": [
        "good_set <- out_dt[,list(bonferroni_20 = mean(bonferroni[bonferroni<.2],na.rm=T),n=length(bonferroni[bonferroni<.05])),by = .(PLOT,variable)][!is.na(bonferroni_20)]$PLOT %>% unique"
      ],
      "metadata": {
        "id": "BqKvjGhg4qhK"
      },
      "execution_count": 90,
      "outputs": []
    },
    {
      "cell_type": "code",
      "source": [
        "# fia_dt[PLOT %in% good_set] %>%\n",
        "#   ggplot(aes(x=Stock_SOC_Mg_Ha))+\n",
        "#   geom_histogram()"
      ],
      "metadata": {
        "id": "Qlns0YTO7ByC"
      },
      "execution_count": 92,
      "outputs": []
    },
    {
      "cell_type": "code",
      "source": [
        "fia_dt[PLOT %in% good_set]$Stock_SOC_Mg_Ha %>% mean(na.rm=T)"
      ],
      "metadata": {
        "id": "SVPLbJGj7OSZ"
      },
      "execution_count": null,
      "outputs": []
    },
    {
      "cell_type": "code",
      "source": [
        "fia_dt %>%\n",
        "  ggplot(aes(x=Stock_SOC_Mg_Ha))+\n",
        "  geom_histogram()"
      ],
      "metadata": {
        "id": "w2dtAHQe63ke"
      },
      "execution_count": null,
      "outputs": []
    },
    {
      "cell_type": "code",
      "source": [
        "short_out_dt <- data.table(short_out_dt,fia_dt[,c('geometry')][match(short_out_dt$PLOT,fia_dt$PLOT)])"
      ],
      "metadata": {
        "id": "Vcb9nHVt0kO5"
      },
      "execution_count": 348,
      "outputs": []
    },
    {
      "cell_type": "code",
      "source": [
        "short_out_dt %>% st_as_sf %>% st_write('bonferroni_adj.gpkg',delete_dsn = T)"
      ],
      "metadata": {
        "colab": {
          "base_uri": "https://localhost:8080/"
        },
        "id": "0KA7fcV3wVH9",
        "outputId": "d5450901-edee-4ffd-f7f6-86f3662ac473"
      },
      "execution_count": 351,
      "outputs": [
        {
          "output_type": "stream",
          "name": "stdout",
          "text": [
            "Deleting source `bonferroni_adj.gpkg' using driver `GPKG'\n",
            "Writing layer `bonferroni_adj' to data source \n",
            "  `bonferroni_adj.gpkg' using driver `GPKG'\n",
            "Writing 112 features with 29 fields and geometry type Point.\n"
          ]
        }
      ]
    },
    {
      "cell_type": "code",
      "source": [
        "cols_to_consider <- names(short_out_dt)[]\n",
        "\n",
        "\n",
        "# Assuming 'short_out_dt' is your data.table\n",
        "# Define the columns you want to consider for finding the max value by their indices\n",
        "cols_to_consider_indices <- 3:(ncol(short_out_dt)-1) # Replace with actual indices of Var3, Var5, Var7\n",
        "short_out_dt$max_col <-\n",
        "1:nrow(short_out_dt) %>% lapply(function(x){\n",
        "if(is.na(short_out_dt[x,cols_to_consider_indices,with=F] %>% unlist) %>% all){return(NA)}\n",
        "short_out_dt[x,cols_to_consider_indices,with=F] %>% unlist %>% which.min( ) %>% names}) %>% unlist"
      ],
      "metadata": {
        "id": "eEeHNqq5sQiQ"
      },
      "execution_count": null,
      "outputs": []
    },
    {
      "cell_type": "code",
      "source": [
        "short_out_dt %>% st_write('max_col_p.gpkg')"
      ],
      "metadata": {
        "id": "vJhqaw2SyWg3"
      },
      "execution_count": null,
      "outputs": []
    },
    {
      "cell_type": "code",
      "source": [
        "short_out_dt"
      ],
      "metadata": {
        "id": "vh8jc2vQw0fR"
      },
      "execution_count": null,
      "outputs": []
    },
    {
      "cell_type": "code",
      "source": [
        "short_out_dt %>%\n",
        "  ggplot(aes(x=1:nrow(short_out_dt),y=soil))+\n",
        "  geom_line()"
      ],
      "metadata": {
        "id": "mx2dDqIMwmH6"
      },
      "execution_count": null,
      "outputs": []
    },
    {
      "cell_type": "code",
      "source": [
        "out_dt[bonferroni <= .05]$variable %>% table"
      ],
      "metadata": {
        "id": "5AP6xor8JZ55"
      },
      "execution_count": null,
      "outputs": []
    },
    {
      "cell_type": "code",
      "source": [],
      "metadata": {
        "id": "j5zr7_HMp3ZP"
      },
      "execution_count": null,
      "outputs": []
    },
    {
      "cell_type": "code",
      "source": [
        "out_dt[bonferroni<= 0.1] %>%\n",
        "  ggplot(aes(x= variable %>% factor))+\n",
        "  geom_bar()\n",
        "  # geom_smooth(method='lm')"
      ],
      "metadata": {
        "id": "R2Gs7h8_Rk5V"
      },
      "execution_count": null,
      "outputs": []
    },
    {
      "cell_type": "code",
      "source": [
        "data.table(out_dt) %>% st_as_sf() %>% st_write('/content/plot_sig_variables.gpkg',delete_dsn=T)"
      ],
      "metadata": {
        "id": "5ilpqA4nE-f3"
      },
      "execution_count": null,
      "outputs": []
    },
    {
      "cell_type": "code",
      "source": [
        "# sim_dt[id ==2222069  ]\n",
        "# 1850844\n",
        "# sqrt(((Stock_SOC_Mg_Ha-predicted)/Stock_SOC_Mg_Ha)^2)<0.05\n",
        "sim_dt[id ==2952969  & sqrt(((Stock_SOC_Mg_Ha-predicted)/Stock_SOC_Mg_Ha)^2)<0.05] %>%\n",
        "  ggplot(aes(x=Stock_SOC_Mg_Ha)) +\n",
        "  geom_histogram()\n",
        "  # print()"
      ],
      "metadata": {
        "id": "FB2Kru8Fcdpi"
      },
      "execution_count": null,
      "outputs": []
    },
    {
      "cell_type": "code",
      "source": [
        "sim_dt %>%\n",
        "  ggplot(aes(y=Stock_SOC_Mg_Ha,x=r2))+\n",
        "    geom_bin2d()\n",
        "    # geom_smooth()"
      ],
      "metadata": {
        "id": "Kdno5JZ0Yev5"
      },
      "execution_count": null,
      "outputs": []
    },
    {
      "cell_type": "code",
      "source": [
        "# Load the necessary library\n",
        "library(repr)\n",
        "\n",
        "# Adjust width and height of plots\n",
        "options(repr.plot.width=20, repr.plot.height=8)"
      ],
      "metadata": {
        "id": "ysaNMETsScgE"
      },
      "execution_count": null,
      "outputs": []
    },
    {
      "cell_type": "code",
      "source": [],
      "metadata": {
        "id": "qsoXgH7N44kI"
      },
      "execution_count": null,
      "outputs": []
    }
  ]
}