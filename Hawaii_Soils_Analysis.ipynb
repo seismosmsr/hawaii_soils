{
  "nbformat": 4,
  "nbformat_minor": 0,
  "metadata": {
    "colab": {
      "provenance": [],
      "machine_shape": "hm",
      "authorship_tag": "ABX9TyM9Bo3FY8s9HJLFASYZsz4T",
      "include_colab_link": true
    },
    "kernelspec": {
      "name": "ir",
      "display_name": "R"
    },
    "language_info": {
      "name": "R"
    }
  },
  "cells": [
    {
      "cell_type": "markdown",
      "metadata": {
        "id": "view-in-github",
        "colab_type": "text"
      },
      "source": [
        "<a href=\"https://colab.research.google.com/github/seismosmsr/hawaii_soils/blob/main/Hawaii_Soils_Analysis.ipynb\" target=\"_parent\"><img src=\"https://colab.research.google.com/assets/colab-badge.svg\" alt=\"Open In Colab\"/></a>"
      ]
    },
    {
      "cell_type": "code",
      "execution_count": null,
      "metadata": {
        "colab": {
          "base_uri": "https://localhost:8080/"
        },
        "id": "w3b2Yt1zzBa4",
        "outputId": "56260c3c-0358-41fa-eae9-dd171ac6ab1a"
      },
      "outputs": [
        {
          "output_type": "stream",
          "name": "stderr",
          "text": [
            "Installing package into ‘/usr/local/lib/R/site-library’\n",
            "(as ‘lib’ is unspecified)\n",
            "\n",
            "also installing the dependencies ‘proxy’, ‘e1071’, ‘wk’, ‘classInt’, ‘Rcpp’, ‘s2’, ‘units’\n",
            "\n",
            "\n",
            "Installing package into ‘/usr/local/lib/R/site-library’\n",
            "(as ‘lib’ is unspecified)\n",
            "\n",
            "also installing the dependencies ‘sp’, ‘terra’\n",
            "\n",
            "\n"
          ]
        }
      ],
      "source": [
        "install.packages('sf')\n",
        "install.packages('raster')\n",
        "install.packages('exactextractr')\n",
        "install.packages(\"googledrive\")\n",
        "install.packages(\"googletoken\")\n",
        "install.packages(\"DBI\")\n",
        "install.packages(\"RSQLite\")\n",
        "install.packages(\"RPostgreSQL\")\n",
        "install.packages(\"terra\")\n",
        "install.packages('randomForest')"
      ]
    },
    {
      "cell_type": "code",
      "source": [
        "library(ggplot2)\n",
        "library(sf)\n",
        "library(magrittr)\n",
        "library(data.table)\n",
        "library(raster)\n",
        "library(exactextractr)\n",
        "library(googledrive)\n",
        "library(DBI)\n",
        "library(terra)\n",
        "library(randomForest)\n",
        "library(parallel)"
      ],
      "metadata": {
        "id": "Jt8zFz1p0QRy"
      },
      "execution_count": null,
      "outputs": []
    },
    {
      "cell_type": "code",
      "source": [
        "drive_auth(use_oob = TRUE, cache = FALSE)"
      ],
      "metadata": {
        "id": "TIp-5Lr90ULs"
      },
      "execution_count": null,
      "outputs": []
    },
    {
      "cell_type": "code",
      "source": [
        "# https://drive.google.com/file/d/1ryTzWz0t9mgI5ynPvMzM21D135dLJvWv/view?usp=drive_link\n",
        "# Updated: https://drive.google.com/file/d/17c3DJcujQ_0MHirG2z2lSU88A0lvjo1C/view?usp=sharing\n",
        "drive_download(as_id('17c3DJcujQ_0MHirG2z2lSU88A0lvjo1C'), path = paste0('/content/fia.csv'), overwrite = TRUE)\n",
        "fia_dt <-  st_read('/content/fia.csv') %>% st_as_sf(coords = c(\"LON\",\"LAT\"), crs = 4326) %>% data.table"
      ],
      "metadata": {
        "id": "GIyOF5ltSRpq"
      },
      "execution_count": null,
      "outputs": []
    },
    {
      "cell_type": "code",
      "source": [
        "# https://drive.google.com/file/d/1G-qBpO_nzLIHWZQGNyrSutmBonjsrvEJ/view?usp=drive_link\n",
        "drive_download(as_id('1G-qBpO_nzLIHWZQGNyrSutmBonjsrvEJ'), path = \"/content/250_summary_grid_dt.gpkg\", overwrite = TRUE)\n",
        "grid_dt <- st_read(\"/content/250_summary_grid_dt.gpkg\") %>% st_transform(4326) %>% data.table()"
      ],
      "metadata": {
        "id": "6i5eFIGc1vby"
      },
      "execution_count": null,
      "outputs": []
    },
    {
      "cell_type": "code",
      "source": [
        "grid_dt <- grid_dt[trees >0.5 & !is.na(agbd_m)]"
      ],
      "metadata": {
        "id": "CbUGrfuuUaiY"
      },
      "execution_count": null,
      "outputs": []
    },
    {
      "cell_type": "code",
      "source": [
        "grid_int_dt  <- fia_dt$geom %>% st_transform(4135) %>% st_buffer(10000) %>% st_transform(4326) %>% st_intersects(grid_dt$geom)"
      ],
      "metadata": {
        "id": "0A-fL1krTbA_"
      },
      "execution_count": null,
      "outputs": []
    },
    {
      "cell_type": "code",
      "source": [
        "rm_vec <- grid_int_dt %>% lapply(length) %>% unlist > 0\n",
        "grid_int_dt <- grid_int_dt[rm_vec]\n",
        "fia_dt <- fia_dt[rm_vec,]"
      ],
      "metadata": {
        "id": "isEeYbV1UDV9"
      },
      "execution_count": null,
      "outputs": []
    },
    {
      "cell_type": "code",
      "source": [
        "grid_dt <- grid_dt[!is.na(srad),]"
      ],
      "metadata": {
        "id": "GuKe5EAqAWtK"
      },
      "execution_count": null,
      "outputs": []
    },
    {
      "cell_type": "code",
      "source": [
        "grid_dt$agbd_n <- grid_dt$agbd_n %>% as.numeric"
      ],
      "metadata": {
        "id": "XsFPDjw_BHKX"
      },
      "execution_count": null,
      "outputs": []
    },
    {
      "cell_type": "code",
      "source": [
        "fia_dt$Stock_SOC_Mg_Ha <- fia_dt$Stock_SOC_Mg_Ha %>% as.numeric"
      ],
      "metadata": {
        "id": "Au3xpFsoA2Qz"
      },
      "execution_count": null,
      "outputs": []
    },
    {
      "cell_type": "code",
      "source": [
        "rf_dt <- data.table(fia_dt[,c('PLOT','Stock_SOC_Mg_Ha','geometry')], grid_dt[grid_int_dt %>% lapply(function(x){x %>% sample(1)}) %>% unlist,])\n",
        "\n",
        "x_var <- (rf_dt %>% names)[-c(1,2,3,4,5,6,7,8,ncol(rf_dt))]\n",
        "\n",
        "rf_form <- as.formula(paste0('Stock_SOC_Mg_Ha~',paste(x_var,collapse = '+')))\n",
        "\n",
        "rf_dt <-  rf_dt[complete.cases(rf_dt[,-c(3,ncol(rf_dt)),with=F]),]\n",
        "\n",
        "rf_terra <- randomForest(rf_form,rf_dt,verbose=T)\n",
        "\n",
        "rf_imp_dt <- rf_terra$importance %>% t %>% data.table\n",
        "\n",
        "names(rf_imp_dt) <-paste0('var_imp_',names(rf_imp_dt))\n",
        "\n",
        "out_dt <- data.table(rf_dt,data.table(predicted = rf_terra$predicted),rf_imp_dt[rep(1,nrow(rf_dt)),])"
      ],
      "metadata": {
        "id": "8s_AzS39ZyD4"
      },
      "execution_count": null,
      "outputs": []
    },
    {
      "cell_type": "code",
      "source": [
        "# stopCluster(cl)\n",
        "gc()"
      ],
      "metadata": {
        "id": "DVsHUR3754nq"
      },
      "execution_count": null,
      "outputs": []
    },
    {
      "cell_type": "code",
      "source": [
        "fia_dt$PLOT[fia_dt$County.Name %in% 'Hawaii']"
      ],
      "metadata": {
        "id": "0Bn0QkHG7-zN"
      },
      "execution_count": null,
      "outputs": []
    },
    {
      "cell_type": "code",
      "source": [
        "cl <-makeCluster(8)\n",
        "sim_dt <-\n",
        "1:50000 %>% parLapply(cl,.,function(m,fia_dt,grid_dt,grid_int_dt){\n",
        "  library(sf)\n",
        "  library(magrittr)\n",
        "  library(data.table)\n",
        "  library(raster)\n",
        "  library(exactextractr)\n",
        "  library(terra)\n",
        "  library(randomForest)\n",
        "\n",
        "\n",
        "  rf_dt <- data.table(fia_dt[,c('PLOT','Stock_SOC_Mg_Ha')], grid_dt[grid_int_dt %>% lapply(function(x){x %>% sample(1)}) %>% unlist,])\n",
        "\n",
        "  x_var <- (rf_dt %>% names)[-c(1,2,3,4,5,6,7,ncol(rf_dt))]\n",
        "\n",
        "  rf_form <- as.formula(paste0('Stock_SOC_Mg_Ha~',paste(x_var,collapse = '+')))\n",
        "\n",
        "  rf_dt <-  rf_dt[complete.cases(rf_dt[,-c(ncol(rf_dt)),with=F]),]\n",
        "\n",
        "  rf_terra <- randomForest(rf_form,rf_dt,verbose=T)\n",
        "\n",
        "  rf_imp_dt <- rf_terra$importance %>% t %>% data.table\n",
        "\n",
        "  names(rf_imp_dt) <-paste0('var_imp_',names(rf_imp_dt))\n",
        "\n",
        "  out_dt <- data.table(rf_dt,data.table(predicted = rf_terra$predicted),rf_imp_dt[rep(1,nrow(rf_dt)),])\n",
        "  out_dt$r2 <- rf_terra$rsq[500]\n",
        "  out_dt <- out_dt[PLOT %in% fia_dt$PLOT[fia_dt$County.Name %in% 'Hawaii']]\n",
        "  return(out_dt)\n",
        "  },fia_dt,grid_dt,grid_int_dt) %>%\n",
        "  rbindlist\n",
        "stopCluster(cl)"
      ],
      "metadata": {
        "id": "KB9q5pEwEkvI"
      },
      "execution_count": null,
      "outputs": []
    },
    {
      "cell_type": "code",
      "source": [
        "sim_dt %>% nrow"
      ],
      "metadata": {
        "id": "qumOZBUZ7d_T"
      },
      "execution_count": null,
      "outputs": []
    },
    {
      "cell_type": "code",
      "source": [
        "# Write to GeoPackage\n",
        "sim_dt %>% st_write(\"/content/sim_results_Hawaii_Run6.gpkg\", append=FALSE)"
      ],
      "metadata": {
        "id": "VnxBhpa9WOK0"
      },
      "execution_count": null,
      "outputs": []
    },
    {
      "cell_type": "code",
      "source": [
        "# https://drive.google.com/drive/folders/1uVZCzCb5gRE8wfZckspRuKz1TQd5LpeM?usp=drive_link\n",
        "drive_upload(\"/content/sim_results_Hawaii_Run6.gpkg\", path = as_id(\"1uVZCzCb5gRE8wfZckspRuKz1TQd5LpeM\"))"
      ],
      "metadata": {
        "id": "d4KevyDNXPgo"
      },
      "execution_count": null,
      "outputs": []
    },
    {
      "cell_type": "code",
      "source": [
        "# sim_dt"
      ],
      "metadata": {
        "id": "Zl4uasl7i5uZ"
      },
      "execution_count": null,
      "outputs": []
    },
    {
      "cell_type": "code",
      "source": [
        "sim_dt[,list(unique = unique(PLOT) %>% length,length = length(PLOT)),by=id][unique>10][order(length)]"
      ],
      "metadata": {
        "id": "dQe6TcWmQE9z"
      },
      "execution_count": null,
      "outputs": []
    },
    {
      "cell_type": "code",
      "source": [
        "# sim_dt[id ==2222069  ]\n",
        "# 1850844\n",
        "# sqrt(((Stock_SOC_Mg_Ha-predicted)/Stock_SOC_Mg_Ha)^2)<0.05\n",
        "sim_dt[id ==2832911  & sqrt(((Stock_SOC_Mg_Ha-predicted)/Stock_SOC_Mg_Ha)^2)<0.10] %>%\n",
        "  ggplot(aes(x=Stock_SOC_Mg_Ha)) +\n",
        "  geom_histogram()\n",
        "  # print()"
      ],
      "metadata": {
        "id": "FB2Kru8Fcdpi"
      },
      "execution_count": null,
      "outputs": []
    },
    {
      "cell_type": "code",
      "source": [
        "sim_dt %>%\n",
        "  ggplot(aes(y=Stock_SOC_Mg_Ha,x=r2))+\n",
        "    geom_bin2d()\n",
        "    # geom_smooth()"
      ],
      "metadata": {
        "id": "Kdno5JZ0Yev5"
      },
      "execution_count": null,
      "outputs": []
    },
    {
      "cell_type": "code",
      "source": [
        "# Load the necessary library\n",
        "library(repr)\n",
        "\n",
        "# Adjust width and height of plots\n",
        "options(repr.plot.width=20, repr.plot.height=8)"
      ],
      "metadata": {
        "id": "ysaNMETsScgE"
      },
      "execution_count": null,
      "outputs": []
    },
    {
      "cell_type": "code",
      "source": [],
      "metadata": {
        "id": "iH2t7bw98PcT"
      },
      "execution_count": null,
      "outputs": []
    },
    {
      "cell_type": "code",
      "source": [
        "# for(i in 1:10){\n",
        "\n",
        "sim_dt[,residual := predicted-Stock_SOC_Mg_Ha]\n",
        "\n",
        "sim_dt[,residual_per := residual/Stock_SOC_Mg_Ha]\n",
        "\n",
        "samp_dt <- sim_dt[residual_per>-.05 &residual_per <.05]\n",
        "plot <- sample(samp_dt$PLOT,1)\n",
        "# print(plot)\n",
        "(samp_dt[PLOT==plot] %>% melt(id.vars = c('PLOT','Stock_SOC_Mg_Ha','dummy_geom','water','trees','grass','flooded_vegetation','crops','shrub_and_scrub','built','bare','snow_and_ice','max','elevation','landform','SRTM_mTPI','aet','def','pdsi','pet','pr','ro','soil','srad','swe','tmmn','tmmx','vap','vpd','vs','predicted','residual','residual_per')) %>%\n",
        "  ggplot(aes(x=variable,y=value))+\n",
        "  geom_boxplot() )%>% plot\n",
        "# }"
      ],
      "metadata": {
        "id": "0dXkvQ6lQVri"
      },
      "execution_count": null,
      "outputs": []
    },
    {
      "cell_type": "code",
      "source": [],
      "metadata": {
        "id": "qsoXgH7N44kI"
      },
      "execution_count": null,
      "outputs": []
    },
    {
      "cell_type": "code",
      "source": [
        "dummy_geom <- grid_dt[grid_int_dt %>% lapply(function(x){sample(x,1)}) %>% unlist,] %>% st_as_sf() %>% st_transform(4135) %>% st_buffer(2500) %>% st_transform(4326)"
      ],
      "metadata": {
        "id": "z_7skpyBBRUc"
      },
      "execution_count": null,
      "outputs": []
    },
    {
      "cell_type": "code",
      "source": [
        "fia_dt$dummy_geom <- dummy_geom$geom"
      ],
      "metadata": {
        "id": "8r_yhCm4CDG5"
      },
      "execution_count": null,
      "outputs": []
    },
    {
      "cell_type": "code",
      "source": [
        "example_poly <- (fia_dt %>%data.table)[,c('C_TOTAL_PCT','dummy_geom')]"
      ],
      "metadata": {
        "id": "fu0NUTJNeSkq"
      },
      "execution_count": null,
      "outputs": []
    },
    {
      "cell_type": "code",
      "source": [
        "rf_dt <- data.table(example_poly,exact_extract(raster_list[[6]],example_poly %>% st_as_sf,'mean') %>% data.table)"
      ],
      "metadata": {
        "id": "9pSq2Qi2ep5b"
      },
      "execution_count": null,
      "outputs": []
    },
    {
      "cell_type": "code",
      "source": [
        "# rf_dt"
      ],
      "metadata": {
        "id": "_wE_GD_FCTqg"
      },
      "execution_count": null,
      "outputs": []
    },
    {
      "cell_type": "code",
      "source": [
        "names(rf_dt)[-c(1,2)] <- c(\"aet\", \"def\", \"pdsi\", \"pet\", \"pr\", \"ro\", \"soil\", \"srad\", \"swe\", \"tmmn\", \"tmmx\", \"vap\", \"vpd\", \"vs\")\n"
      ],
      "metadata": {
        "id": "bTUeAX4tZVed"
      },
      "execution_count": null,
      "outputs": []
    },
    {
      "cell_type": "code",
      "source": [
        "rf_form <- as.formula(paste0('Stock_SOC_Mg_Ha~',paste((rf_dt %>% names)[-c(1,2)],collapse = '+')))\n",
        "rf_form"
      ],
      "metadata": {
        "id": "ewIMuwbKVql9"
      },
      "execution_count": null,
      "outputs": []
    },
    {
      "cell_type": "code",
      "source": [
        "rf_terra <- randomForest(rf_form,rf_dt[complete.cases(rf_dt[,-2]),],verbose=T)\n",
        "rf_terra %>% varImpPlot\n",
        "rf_terra"
      ],
      "metadata": {
        "id": "i1ScnibaYIJR"
      },
      "execution_count": null,
      "outputs": []
    },
    {
      "cell_type": "code",
      "source": [
        "data.frame(field = rf_terra$y,predicted = rf_terra$predicted) %>%\n",
        "  ggplot(aes(x=predicted,y=field))+\n",
        "  geom_point()"
      ],
      "metadata": {
        "id": "LN28tBLwYYZv"
      },
      "execution_count": null,
      "outputs": []
    }
  ]
}