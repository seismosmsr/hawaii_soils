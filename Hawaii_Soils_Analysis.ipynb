{
  "nbformat": 4,
  "nbformat_minor": 0,
  "metadata": {
    "colab": {
      "provenance": [],
      "machine_shape": "hm",
      "authorship_tag": "ABX9TyPAJI6vvCBfuzgQskvqEXbQ",
      "include_colab_link": true
    },
    "kernelspec": {
      "name": "ir",
      "display_name": "R"
    },
    "language_info": {
      "name": "R"
    }
  },
  "cells": [
    {
      "cell_type": "markdown",
      "metadata": {
        "id": "view-in-github",
        "colab_type": "text"
      },
      "source": [
        "<a href=\"https://colab.research.google.com/github/seismosmsr/hawaii_soils/blob/main/Hawaii_Soils_Analysis.ipynb\" target=\"_parent\"><img src=\"https://colab.research.google.com/assets/colab-badge.svg\" alt=\"Open In Colab\"/></a>"
      ]
    },
    {
      "cell_type": "code",
      "execution_count": 2,
      "metadata": {
        "colab": {
          "base_uri": "https://localhost:8080/"
        },
        "id": "w3b2Yt1zzBa4",
        "outputId": "ed7d4aea-4b7d-41a7-e18e-8ff18874191f"
      },
      "outputs": [
        {
          "output_type": "stream",
          "name": "stderr",
          "text": [
            "Installing package into ‘/usr/local/lib/R/site-library’\n",
            "(as ‘lib’ is unspecified)\n",
            "\n",
            "also installing the dependencies ‘proxy’, ‘e1071’, ‘wk’, ‘classInt’, ‘Rcpp’, ‘s2’, ‘units’\n",
            "\n",
            "\n",
            "Installing package into ‘/usr/local/lib/R/site-library’\n",
            "(as ‘lib’ is unspecified)\n",
            "\n",
            "also installing the dependencies ‘sp’, ‘terra’\n",
            "\n",
            "\n",
            "Installing package into ‘/usr/local/lib/R/site-library’\n",
            "(as ‘lib’ is unspecified)\n",
            "\n",
            "Installing package into ‘/usr/local/lib/R/site-library’\n",
            "(as ‘lib’ is unspecified)\n",
            "\n",
            "Installing package into ‘/usr/local/lib/R/site-library’\n",
            "(as ‘lib’ is unspecified)\n",
            "\n",
            "Warning message:\n",
            "“package ‘googletoken’ is not available for this version of R\n",
            "\n",
            "A version of this package for your version of R might be available elsewhere,\n",
            "see the ideas at\n",
            "https://cran.r-project.org/doc/manuals/r-patched/R-admin.html#Installing-packages”\n",
            "Installing package into ‘/usr/local/lib/R/site-library’\n",
            "(as ‘lib’ is unspecified)\n",
            "\n",
            "Installing package into ‘/usr/local/lib/R/site-library’\n",
            "(as ‘lib’ is unspecified)\n",
            "\n",
            "also installing the dependency ‘plogr’\n",
            "\n",
            "\n",
            "Installing package into ‘/usr/local/lib/R/site-library’\n",
            "(as ‘lib’ is unspecified)\n",
            "\n",
            "Installing package into ‘/usr/local/lib/R/site-library’\n",
            "(as ‘lib’ is unspecified)\n",
            "\n",
            "Installing package into ‘/usr/local/lib/R/site-library’\n",
            "(as ‘lib’ is unspecified)\n",
            "\n"
          ]
        }
      ],
      "source": [
        "install.packages('sf')\n",
        "install.packages('raster')\n",
        "install.packages('exactextractr')\n",
        "install.packages(\"googledrive\")\n",
        "install.packages(\"googletoken\")\n",
        "install.packages(\"DBI\")\n",
        "install.packages(\"RSQLite\")\n",
        "install.packages(\"RPostgreSQL\")\n",
        "install.packages(\"terra\")\n",
        "install.packages('randomForest')"
      ]
    },
    {
      "cell_type": "code",
      "source": [
        "library(ggplot2)\n",
        "library(sf)\n",
        "library(magrittr)\n",
        "library(data.table)\n",
        "library(raster)\n",
        "library(exactextractr)\n",
        "library(googledrive)\n",
        "library(DBI)\n",
        "library(terra)\n",
        "library(randomForest)\n",
        "library(parallel)"
      ],
      "metadata": {
        "id": "Jt8zFz1p0QRy",
        "outputId": "09d99d41-9b18-45eb-d73c-34781caedce5",
        "colab": {
          "base_uri": "https://localhost:8080/"
        }
      },
      "execution_count": 3,
      "outputs": [
        {
          "output_type": "stream",
          "name": "stderr",
          "text": [
            "Linking to GEOS 3.10.2, GDAL 3.4.3, PROJ 8.2.1; sf_use_s2() is TRUE\n",
            "\n",
            "Loading required package: sp\n",
            "\n",
            "terra 1.7.55\n",
            "\n",
            "\n",
            "Attaching package: ‘terra’\n",
            "\n",
            "\n",
            "The following object is masked from ‘package:data.table’:\n",
            "\n",
            "    shift\n",
            "\n",
            "\n",
            "The following objects are masked from ‘package:magrittr’:\n",
            "\n",
            "    extract, inset\n",
            "\n",
            "\n",
            "randomForest 4.7-1.1\n",
            "\n",
            "Type rfNews() to see new features/changes/bug fixes.\n",
            "\n",
            "\n",
            "Attaching package: ‘randomForest’\n",
            "\n",
            "\n",
            "The following object is masked from ‘package:ggplot2’:\n",
            "\n",
            "    margin\n",
            "\n",
            "\n"
          ]
        }
      ]
    },
    {
      "cell_type": "code",
      "source": [
        "while(TRUE){}"
      ],
      "metadata": {
        "id": "Z-rVvwdTsUCA"
      },
      "execution_count": 4,
      "outputs": []
    },
    {
      "cell_type": "code",
      "source": [
        "drive_auth(use_oob = TRUE, cache = FALSE)"
      ],
      "metadata": {
        "id": "TIp-5Lr90ULs",
        "outputId": "18f9b696-1a57-414c-f7ec-2d36468cc004",
        "colab": {
          "base_uri": "https://localhost:8080/"
        }
      },
      "execution_count": 5,
      "outputs": [
        {
          "output_type": "stream",
          "name": "stderr",
          "text": [
            "Please point your browser to the following url: \n",
            "\n",
            "https://accounts.google.com/o/oauth2/v2/auth?client_id=603366585132-frjlouoa3s2ono25d2l9ukvhlsrlnr7k.apps.googleusercontent.com&scope=https%3A%2F%2Fwww.googleapis.com%2Fauth%2Fdrive%20https%3A%2F%2Fwww.googleapis.com%2Fauth%2Fuserinfo.email&redirect_uri=https%3A%2F%2Fwww.tidyverse.org%2Fgoogle-callback%2F&response_type=code&state=1c689b3c07bb59835415a6b6eb4e37f6&access_type=offline&prompt=consent\n",
            "\n"
          ]
        },
        {
          "name": "stdout",
          "output_type": "stream",
          "text": [
            "Enter authorization code: eyJjb2RlIjoiNC8wQWZKb2hYa0FkcmkySG1SU2lYaUViWEdZWmxrWVQySThNSld0cHBDTGtNeUhUMndRdW85VGNzZHZyOVpfX3BZdF9ab0NuUSIsInN0YXRlIjoiMWM2ODliM2MwN2JiNTk4MzU0MTVhNmI2ZWI0ZTM3ZjYifQ==\n"
          ]
        }
      ]
    },
    {
      "cell_type": "code",
      "source": [
        "# https://drive.google.com/file/d/1ryTzWz0t9mgI5ynPvMzM21D135dLJvWv/view?usp=drive_link\n",
        "# Updated: https://drive.google.com/file/d/17c3DJcujQ_0MHirG2z2lSU88A0lvjo1C/view?usp=sharing\n",
        "drive_download(as_id('17c3DJcujQ_0MHirG2z2lSU88A0lvjo1C'), path = paste0('/content/fia.csv'), overwrite = TRUE)\n",
        "fia_dt <-  st_read('/content/fia.csv') %>% st_as_sf(coords = c(\"LON\",\"LAT\"), crs = 4326) %>% data.table"
      ],
      "metadata": {
        "id": "GIyOF5ltSRpq",
        "outputId": "97cd792b-cc9f-47f9-fe69-fbc969c16ed4",
        "colab": {
          "base_uri": "https://localhost:8080/"
        }
      },
      "execution_count": 6,
      "outputs": [
        {
          "output_type": "stream",
          "name": "stderr",
          "text": [
            "File downloaded:\n",
            "\n",
            "• \u001b[36m2023_11_01FIA_soil_subset.csv\u001b[39m \u001b[90m<id: 17c3DJcujQ_0MHirG2z2lSU88A0lvjo1C>\u001b[39m\n",
            "\n",
            "Saved locally as:\n",
            "\n",
            "• \u001b[34m/content/fia.csv\u001b[39m\n",
            "\n"
          ]
        },
        {
          "output_type": "stream",
          "name": "stdout",
          "text": [
            "Reading layer `fia' from data source `/content/fia.csv' using driver `CSV'\n"
          ]
        },
        {
          "output_type": "stream",
          "name": "stderr",
          "text": [
            "Warning message:\n",
            "“no simple feature geometries present: returning a data.frame or tbl_df”\n"
          ]
        }
      ]
    },
    {
      "cell_type": "code",
      "source": [
        "# fia_dt %>% st_as_sf %>% st_write('fia.gpkg')"
      ],
      "metadata": {
        "id": "Xsw6h8Ics4gh"
      },
      "execution_count": null,
      "outputs": []
    },
    {
      "cell_type": "code",
      "source": [
        "# https://drive.google.com/file/d/1LZQIykiIRmkIv-Ygy24rAN1ohmGOG1rY/view?usp=drive_link\n",
        "drive_download(as_id('1LZQIykiIRmkIv-Ygy24rAN1ohmGOG1rY'), path = \"/content/250_summary_grid_dt.gpkg\", overwrite = TRUE)\n",
        "grid_dt <- st_read(\"/content/250_summary_grid_dt.gpkg\") %>% st_transform(4326) %>% data.table()"
      ],
      "metadata": {
        "id": "6i5eFIGc1vby",
        "outputId": "98909f85-fdd6-458b-e99b-e0d7806b24bc",
        "colab": {
          "base_uri": "https://localhost:8080/"
        }
      },
      "execution_count": 8,
      "outputs": [
        {
          "output_type": "stream",
          "name": "stderr",
          "text": [
            "File downloaded:\n",
            "\n",
            "• \u001b[36m250_summary_grid_dt.gpkg\u001b[39m \u001b[90m<id: 1LZQIykiIRmkIv-Ygy24rAN1ohmGOG1rY>\u001b[39m\n",
            "\n",
            "Saved locally as:\n",
            "\n",
            "• \u001b[34m/content/250_summary_grid_dt.gpkg\u001b[39m\n",
            "\n"
          ]
        },
        {
          "output_type": "stream",
          "name": "stdout",
          "text": [
            "Reading layer `250_summary_grid_dt' from data source \n",
            "  `/content/250_summary_grid_dt.gpkg' using driver `GPKG'\n",
            "Simple feature collection with 227561 features and 38 fields\n",
            "Geometry type: POINT\n",
            "Dimension:     XY\n",
            "Bounding box:  xmin: 57161.36 ymin: 16952.32 xmax: 572661.4 ymax: 381202.3\n",
            "Projected CRS: NAD_1983_HARN_StatePlane_Hawaii_1_FIPS_5101\n"
          ]
        }
      ]
    },
    {
      "cell_type": "code",
      "source": [
        "# Simulation data\n",
        "# https://drive.google.com/file/d/1bk1A8XJn46VJ0CIlbjgdZHvvlII4F7FC/view?usp=drive_link\n",
        "drive_download(file = as_id('1bk1A8XJn46VJ0CIlbjgdZHvvlII4F7FC'), path =  '/content/sim_results_Hawaii_Run1.gpkg', overwrite = TRUE)\n",
        "\n",
        "# # # # https://drive.google.com/file/d/1ShQ40eYKzUx-geZfm4lTz_YezZRG9qGe/view?usp=drive_link Run 2\n",
        "# drive_download(file = as_id('1ShQ40eYKzUx-geZfm4lTz_YezZRG9qGe'), path =  '/content/sim_results_Hawaii_Run2.gpkg', overwrite = TRUE)\n",
        "\n",
        "# # # # https://drive.google.com/file/d/1Zr13S1PI2Z782At36qZcCPokYpSCjZNW/view?usp=drive_link Run 3\n",
        "# drive_download(file = as_id('1Zr13S1PI2Z782At36qZcCPokYpSCjZNW'), path =  '/content/sim_results_Hawaii_Run3.gpkg', overwrite = TRUE)\n"
      ],
      "metadata": {
        "id": "O0fhKgBSbbbk",
        "outputId": "5641720e-8c91-4db2-e60e-7f57b8104bbe",
        "colab": {
          "base_uri": "https://localhost:8080/"
        }
      },
      "execution_count": 9,
      "outputs": [
        {
          "output_type": "stream",
          "name": "stderr",
          "text": [
            "File downloaded:\n",
            "\n",
            "• \u001b[36msim_results_Hawaii_10000m_v4_Run1.gpkg\u001b[39m\n",
            "  \u001b[90m<id: 1bk1A8XJn46VJ0CIlbjgdZHvvlII4F7FC>\u001b[39m\n",
            "\n",
            "Saved locally as:\n",
            "\n",
            "• \u001b[34m/content/sim_results_Hawaii_Run1.gpkg\u001b[39m\n",
            "\n"
          ]
        }
      ]
    },
    {
      "cell_type": "code",
      "source": [
        "sim_dt <- NULL\n",
        "gc()"
      ],
      "metadata": {
        "colab": {
          "base_uri": "https://localhost:8080/",
          "height": 129
        },
        "id": "UoZxqiTKqb8B",
        "outputId": "2c57f7ab-3b51-4ef1-b289-46f84e1ad52c"
      },
      "execution_count": 10,
      "outputs": [
        {
          "output_type": "display_data",
          "data": {
            "text/html": [
              "<table class=\"dataframe\">\n",
              "<caption>A matrix: 2 × 6 of type dbl</caption>\n",
              "<thead>\n",
              "\t<tr><th></th><th scope=col>used</th><th scope=col>(Mb)</th><th scope=col>gc trigger</th><th scope=col>(Mb)</th><th scope=col>max used</th><th scope=col>(Mb)</th></tr>\n",
              "</thead>\n",
              "<tbody>\n",
              "\t<tr><th scope=row>Ncells</th><td> 3644349</td><td>194.7</td><td> 9116741</td><td>486.9</td><td> 9116741</td><td>486.9</td></tr>\n",
              "\t<tr><th scope=row>Vcells</th><td>14390017</td><td>109.8</td><td>47369250</td><td>361.4</td><td>45748074</td><td>349.1</td></tr>\n",
              "</tbody>\n",
              "</table>\n"
            ],
            "text/markdown": "\nA matrix: 2 × 6 of type dbl\n\n| <!--/--> | used | (Mb) | gc trigger | (Mb) | max used | (Mb) |\n|---|---|---|---|---|---|---|\n| Ncells |  3644349 | 194.7 |  9116741 | 486.9 |  9116741 | 486.9 |\n| Vcells | 14390017 | 109.8 | 47369250 | 361.4 | 45748074 | 349.1 |\n\n",
            "text/latex": "A matrix: 2 × 6 of type dbl\n\\begin{tabular}{r|llllll}\n  & used & (Mb) & gc trigger & (Mb) & max used & (Mb)\\\\\n\\hline\n\tNcells &  3644349 & 194.7 &  9116741 & 486.9 &  9116741 & 486.9\\\\\n\tVcells & 14390017 & 109.8 & 47369250 & 361.4 & 45748074 & 349.1\\\\\n\\end{tabular}\n",
            "text/plain": [
              "       used     (Mb)  gc trigger (Mb)  max used (Mb) \n",
              "Ncells  3644349 194.7  9116741   486.9  9116741 486.9\n",
              "Vcells 14390017 109.8 47369250   361.4 45748074 349.1"
            ]
          },
          "metadata": {}
        }
      ]
    },
    {
      "cell_type": "code",
      "source": [
        "sim_1_dt <- st_read( '/content/sim_results_Hawaii_Run1.gpkg') %>% data.table\n",
        "# sim_2_dt <- st_read( '/content/sim_results_Hawaii_Run2.gpkg') %>% data.table\n",
        "# sim_3_dt <- st_read( '/content/sim_results_Hawaii_Run3.gpkg') %>% data.table"
      ],
      "metadata": {
        "colab": {
          "base_uri": "https://localhost:8080/"
        },
        "id": "qcOWC2TKb4kS",
        "outputId": "607a0f71-ad37-4b6d-e217-db27ad207dae"
      },
      "execution_count": 11,
      "outputs": [
        {
          "output_type": "stream",
          "name": "stdout",
          "text": [
            "Reading layer `sim_results_Hawaii_10000m_v4_Run1' from data source \n",
            "  `/content/sim_results_Hawaii_Run1.gpkg' using driver `GPKG'\n",
            "Simple feature collection with 3170000 features and 80 fields\n",
            "Geometry type: POINT\n",
            "Dimension:     XY\n",
            "Bounding box:  xmin: -156.0017 ymin: 19.0045 xmax: -154.8362 ymax: 20.25088\n",
            "Geodetic CRS:  WGS 84\n"
          ]
        }
      ]
    },
    {
      "cell_type": "code",
      "source": [
        "sim_1_dt$sim_id <- sim_1_dt$sim_id + 100000\n",
        "# sim_2_dt$sim_id <- sim_2_dt$sim_id + 200000\n",
        "# sim_3_dt$sim_id <- sim_3_dt$sim_id + 300000"
      ],
      "metadata": {
        "id": "kb35TjnvznPP"
      },
      "execution_count": null,
      "outputs": []
    },
    {
      "cell_type": "code",
      "source": [
        "print(sim_dt$sim_id %>% unique %>% length)"
      ],
      "metadata": {
        "id": "g3LG4Bk50TIP",
        "outputId": "ee5334a1-5c7a-463c-a582-0dc5b47d5527",
        "colab": {
          "base_uri": "https://localhost:8080/"
        }
      },
      "execution_count": 13,
      "outputs": [
        {
          "output_type": "stream",
          "name": "stdout",
          "text": [
            "[1] 10000\n"
          ]
        }
      ]
    },
    {
      "cell_type": "code",
      "source": [
        "sim_dt <-list(sim_1_dt ) %>% rbindlist()"
      ],
      "metadata": {
        "id": "rlWnfNM-tjtK"
      },
      "execution_count": 12,
      "outputs": []
    },
    {
      "cell_type": "code",
      "source": [
        "sim_1_dt <- NULL\n",
        "sim_2_dt <- NULL\n",
        "sim_3_dt <- NULL"
      ],
      "metadata": {
        "id": "a3sZbRJF0olA"
      },
      "execution_count": 14,
      "outputs": []
    },
    {
      "cell_type": "code",
      "source": [
        "grid_int_dt  <- fia_dt$geom %>% st_transform(4135) %>% st_buffer(10000) %>% st_transform(4326) %>% st_intersects(grid_dt$geom)"
      ],
      "metadata": {
        "id": "0A-fL1krTbA_"
      },
      "execution_count": 15,
      "outputs": []
    },
    {
      "cell_type": "code",
      "source": [
        "rm_vec <- grid_int_dt %>% lapply(length) %>% unlist > 0\n",
        "grid_int_dt <- grid_int_dt[rm_vec]\n",
        "fia_dt <- fia_dt[rm_vec,]"
      ],
      "metadata": {
        "id": "isEeYbV1UDV9"
      },
      "execution_count": 16,
      "outputs": []
    },
    {
      "cell_type": "code",
      "source": [
        "grid_dt <- grid_dt[!is.na(srad),]"
      ],
      "metadata": {
        "id": "GuKe5EAqAWtK"
      },
      "execution_count": 17,
      "outputs": []
    },
    {
      "cell_type": "code",
      "source": [
        "grid_dt$agbd_n <- grid_dt$agbd_n %>% as.numeric"
      ],
      "metadata": {
        "id": "XsFPDjw_BHKX"
      },
      "execution_count": 18,
      "outputs": []
    },
    {
      "cell_type": "code",
      "source": [
        "fia_dt$Stock_SOC_Mg_Ha <- fia_dt$Stock_SOC_Mg_Ha %>% as.numeric"
      ],
      "metadata": {
        "id": "Au3xpFsoA2Qz",
        "outputId": "7aecde60-d3ad-42ea-93a3-c03439697d02",
        "colab": {
          "base_uri": "https://localhost:8080/"
        }
      },
      "execution_count": 19,
      "outputs": [
        {
          "output_type": "stream",
          "name": "stderr",
          "text": [
            "Warning message in fia_dt$Stock_SOC_Mg_Ha %>% as.numeric:\n",
            "“NAs introduced by coercion”\n"
          ]
        }
      ]
    },
    {
      "cell_type": "code",
      "source": [
        "names(sim_dt)[43]"
      ],
      "metadata": {
        "id": "qumOZBUZ7d_T",
        "outputId": "a0ddc8e8-7ce2-4312-9c79-07cf01785b02",
        "colab": {
          "base_uri": "https://localhost:8080/",
          "height": 34
        }
      },
      "execution_count": 20,
      "outputs": [
        {
          "output_type": "display_data",
          "data": {
            "text/html": [
              "'predicted'"
            ],
            "text/markdown": "'predicted'",
            "text/latex": "'predicted'",
            "text/plain": [
              "[1] \"predicted\""
            ]
          },
          "metadata": {}
        }
      ]
    },
    {
      "cell_type": "code",
      "source": [
        "names(sim_dt)"
      ],
      "metadata": {
        "colab": {
          "base_uri": "https://localhost:8080/",
          "height": 156
        },
        "id": "dobvtnE07Pau",
        "outputId": "b968e3ce-c44f-4460-a7e4-776716d021ce"
      },
      "execution_count": 21,
      "outputs": [
        {
          "output_type": "display_data",
          "data": {
            "text/html": [
              "<style>\n",
              ".list-inline {list-style: none; margin:0; padding: 0}\n",
              ".list-inline>li {display: inline-block}\n",
              ".list-inline>li:not(:last-child)::after {content: \"\\00b7\"; padding: 0 .5ex}\n",
              "</style>\n",
              "<ol class=list-inline><li>'PLOT'</li><li>'SOC_Mg_Ha'</li><li>'DEPTH_UPPER'</li><li>'DEPTH_LOWER'</li><li>'county_name'</li><li>'id'</li><li>'left'</li><li>'top'</li><li>'right'</li><li>'bottom'</li><li>'water'</li><li>'trees'</li><li>'grass'</li><li>'flooded_vegetation'</li><li>'crops'</li><li>'shrub_and_scrub'</li><li>'built'</li><li>'bare'</li><li>'snow_and_ice'</li><li>'elevation'</li><li>'landform'</li><li>'SRTM_mTPI'</li><li>'aet'</li><li>'def'</li><li>'pdsi'</li><li>'pet'</li><li>'pr'</li><li>'ro'</li><li>'soil'</li><li>'srad'</li><li>'swe'</li><li>'tmmn'</li><li>'tmmx'</li><li>'vap'</li><li>'vpd'</li><li>'vs'</li><li>'agbd_m'</li><li>'agbd_sd'</li><li>'agbd_n'</li><li>'majorcomposition'</li><li>'age_years'</li><li>'Age_Class'</li><li>'predicted'</li><li>'var_imp_DEPTH_UPPER'</li><li>'var_imp_DEPTH_LOWER'</li><li>'var_imp_water'</li><li>'var_imp_trees'</li><li>'var_imp_grass'</li><li>'var_imp_flooded_vegetation'</li><li>'var_imp_crops'</li><li>'var_imp_shrub_and_scrub'</li><li>'var_imp_built'</li><li>'var_imp_bare'</li><li>'var_imp_snow_and_ice'</li><li>'var_imp_elevation'</li><li>'var_imp_landform'</li><li>'var_imp_SRTM_mTPI'</li><li>'var_imp_aet'</li><li>'var_imp_def'</li><li>'var_imp_pdsi'</li><li>'var_imp_pet'</li><li>'var_imp_pr'</li><li>'var_imp_ro'</li><li>'var_imp_soil'</li><li>'var_imp_srad'</li><li>'var_imp_swe'</li><li>'var_imp_tmmn'</li><li>'var_imp_tmmx'</li><li>'var_imp_vap'</li><li>'var_imp_vpd'</li><li>'var_imp_vs'</li><li>'var_imp_agbd_m'</li><li>'var_imp_agbd_sd'</li><li>'var_imp_agbd_n'</li><li>'var_imp_majorcomposition'</li><li>'var_imp_age_years'</li><li>'var_imp_Age_Class'</li><li>'r2_depth'</li><li>'r2_plot'</li><li>'sim_id'</li><li>'geom'</li></ol>\n"
            ],
            "text/markdown": "1. 'PLOT'\n2. 'SOC_Mg_Ha'\n3. 'DEPTH_UPPER'\n4. 'DEPTH_LOWER'\n5. 'county_name'\n6. 'id'\n7. 'left'\n8. 'top'\n9. 'right'\n10. 'bottom'\n11. 'water'\n12. 'trees'\n13. 'grass'\n14. 'flooded_vegetation'\n15. 'crops'\n16. 'shrub_and_scrub'\n17. 'built'\n18. 'bare'\n19. 'snow_and_ice'\n20. 'elevation'\n21. 'landform'\n22. 'SRTM_mTPI'\n23. 'aet'\n24. 'def'\n25. 'pdsi'\n26. 'pet'\n27. 'pr'\n28. 'ro'\n29. 'soil'\n30. 'srad'\n31. 'swe'\n32. 'tmmn'\n33. 'tmmx'\n34. 'vap'\n35. 'vpd'\n36. 'vs'\n37. 'agbd_m'\n38. 'agbd_sd'\n39. 'agbd_n'\n40. 'majorcomposition'\n41. 'age_years'\n42. 'Age_Class'\n43. 'predicted'\n44. 'var_imp_DEPTH_UPPER'\n45. 'var_imp_DEPTH_LOWER'\n46. 'var_imp_water'\n47. 'var_imp_trees'\n48. 'var_imp_grass'\n49. 'var_imp_flooded_vegetation'\n50. 'var_imp_crops'\n51. 'var_imp_shrub_and_scrub'\n52. 'var_imp_built'\n53. 'var_imp_bare'\n54. 'var_imp_snow_and_ice'\n55. 'var_imp_elevation'\n56. 'var_imp_landform'\n57. 'var_imp_SRTM_mTPI'\n58. 'var_imp_aet'\n59. 'var_imp_def'\n60. 'var_imp_pdsi'\n61. 'var_imp_pet'\n62. 'var_imp_pr'\n63. 'var_imp_ro'\n64. 'var_imp_soil'\n65. 'var_imp_srad'\n66. 'var_imp_swe'\n67. 'var_imp_tmmn'\n68. 'var_imp_tmmx'\n69. 'var_imp_vap'\n70. 'var_imp_vpd'\n71. 'var_imp_vs'\n72. 'var_imp_agbd_m'\n73. 'var_imp_agbd_sd'\n74. 'var_imp_agbd_n'\n75. 'var_imp_majorcomposition'\n76. 'var_imp_age_years'\n77. 'var_imp_Age_Class'\n78. 'r2_depth'\n79. 'r2_plot'\n80. 'sim_id'\n81. 'geom'\n\n\n",
            "text/latex": "\\begin{enumerate*}\n\\item 'PLOT'\n\\item 'SOC\\_Mg\\_Ha'\n\\item 'DEPTH\\_UPPER'\n\\item 'DEPTH\\_LOWER'\n\\item 'county\\_name'\n\\item 'id'\n\\item 'left'\n\\item 'top'\n\\item 'right'\n\\item 'bottom'\n\\item 'water'\n\\item 'trees'\n\\item 'grass'\n\\item 'flooded\\_vegetation'\n\\item 'crops'\n\\item 'shrub\\_and\\_scrub'\n\\item 'built'\n\\item 'bare'\n\\item 'snow\\_and\\_ice'\n\\item 'elevation'\n\\item 'landform'\n\\item 'SRTM\\_mTPI'\n\\item 'aet'\n\\item 'def'\n\\item 'pdsi'\n\\item 'pet'\n\\item 'pr'\n\\item 'ro'\n\\item 'soil'\n\\item 'srad'\n\\item 'swe'\n\\item 'tmmn'\n\\item 'tmmx'\n\\item 'vap'\n\\item 'vpd'\n\\item 'vs'\n\\item 'agbd\\_m'\n\\item 'agbd\\_sd'\n\\item 'agbd\\_n'\n\\item 'majorcomposition'\n\\item 'age\\_years'\n\\item 'Age\\_Class'\n\\item 'predicted'\n\\item 'var\\_imp\\_DEPTH\\_UPPER'\n\\item 'var\\_imp\\_DEPTH\\_LOWER'\n\\item 'var\\_imp\\_water'\n\\item 'var\\_imp\\_trees'\n\\item 'var\\_imp\\_grass'\n\\item 'var\\_imp\\_flooded\\_vegetation'\n\\item 'var\\_imp\\_crops'\n\\item 'var\\_imp\\_shrub\\_and\\_scrub'\n\\item 'var\\_imp\\_built'\n\\item 'var\\_imp\\_bare'\n\\item 'var\\_imp\\_snow\\_and\\_ice'\n\\item 'var\\_imp\\_elevation'\n\\item 'var\\_imp\\_landform'\n\\item 'var\\_imp\\_SRTM\\_mTPI'\n\\item 'var\\_imp\\_aet'\n\\item 'var\\_imp\\_def'\n\\item 'var\\_imp\\_pdsi'\n\\item 'var\\_imp\\_pet'\n\\item 'var\\_imp\\_pr'\n\\item 'var\\_imp\\_ro'\n\\item 'var\\_imp\\_soil'\n\\item 'var\\_imp\\_srad'\n\\item 'var\\_imp\\_swe'\n\\item 'var\\_imp\\_tmmn'\n\\item 'var\\_imp\\_tmmx'\n\\item 'var\\_imp\\_vap'\n\\item 'var\\_imp\\_vpd'\n\\item 'var\\_imp\\_vs'\n\\item 'var\\_imp\\_agbd\\_m'\n\\item 'var\\_imp\\_agbd\\_sd'\n\\item 'var\\_imp\\_agbd\\_n'\n\\item 'var\\_imp\\_majorcomposition'\n\\item 'var\\_imp\\_age\\_years'\n\\item 'var\\_imp\\_Age\\_Class'\n\\item 'r2\\_depth'\n\\item 'r2\\_plot'\n\\item 'sim\\_id'\n\\item 'geom'\n\\end{enumerate*}\n",
            "text/plain": [
              " [1] \"PLOT\"                       \"SOC_Mg_Ha\"                 \n",
              " [3] \"DEPTH_UPPER\"                \"DEPTH_LOWER\"               \n",
              " [5] \"county_name\"                \"id\"                        \n",
              " [7] \"left\"                       \"top\"                       \n",
              " [9] \"right\"                      \"bottom\"                    \n",
              "[11] \"water\"                      \"trees\"                     \n",
              "[13] \"grass\"                      \"flooded_vegetation\"        \n",
              "[15] \"crops\"                      \"shrub_and_scrub\"           \n",
              "[17] \"built\"                      \"bare\"                      \n",
              "[19] \"snow_and_ice\"               \"elevation\"                 \n",
              "[21] \"landform\"                   \"SRTM_mTPI\"                 \n",
              "[23] \"aet\"                        \"def\"                       \n",
              "[25] \"pdsi\"                       \"pet\"                       \n",
              "[27] \"pr\"                         \"ro\"                        \n",
              "[29] \"soil\"                       \"srad\"                      \n",
              "[31] \"swe\"                        \"tmmn\"                      \n",
              "[33] \"tmmx\"                       \"vap\"                       \n",
              "[35] \"vpd\"                        \"vs\"                        \n",
              "[37] \"agbd_m\"                     \"agbd_sd\"                   \n",
              "[39] \"agbd_n\"                     \"majorcomposition\"          \n",
              "[41] \"age_years\"                  \"Age_Class\"                 \n",
              "[43] \"predicted\"                  \"var_imp_DEPTH_UPPER\"       \n",
              "[45] \"var_imp_DEPTH_LOWER\"        \"var_imp_water\"             \n",
              "[47] \"var_imp_trees\"              \"var_imp_grass\"             \n",
              "[49] \"var_imp_flooded_vegetation\" \"var_imp_crops\"             \n",
              "[51] \"var_imp_shrub_and_scrub\"    \"var_imp_built\"             \n",
              "[53] \"var_imp_bare\"               \"var_imp_snow_and_ice\"      \n",
              "[55] \"var_imp_elevation\"          \"var_imp_landform\"          \n",
              "[57] \"var_imp_SRTM_mTPI\"          \"var_imp_aet\"               \n",
              "[59] \"var_imp_def\"                \"var_imp_pdsi\"              \n",
              "[61] \"var_imp_pet\"                \"var_imp_pr\"                \n",
              "[63] \"var_imp_ro\"                 \"var_imp_soil\"              \n",
              "[65] \"var_imp_srad\"               \"var_imp_swe\"               \n",
              "[67] \"var_imp_tmmn\"               \"var_imp_tmmx\"              \n",
              "[69] \"var_imp_vap\"                \"var_imp_vpd\"               \n",
              "[71] \"var_imp_vs\"                 \"var_imp_agbd_m\"            \n",
              "[73] \"var_imp_agbd_sd\"            \"var_imp_agbd_n\"            \n",
              "[75] \"var_imp_majorcomposition\"   \"var_imp_age_years\"         \n",
              "[77] \"var_imp_Age_Class\"          \"r2_depth\"                  \n",
              "[79] \"r2_plot\"                    \"sim_id\"                    \n",
              "[81] \"geom\"                      "
            ]
          },
          "metadata": {}
        }
      ]
    },
    {
      "cell_type": "code",
      "source": [
        "names(sim_dt)[-c(2,4,5,43,78,80)]"
      ],
      "metadata": {
        "colab": {
          "base_uri": "https://localhost:8080/",
          "height": 156
        },
        "id": "uQ6ACrJ04s_Y",
        "outputId": "c7c2b3f7-5717-40ff-a520-b4829cf90a06"
      },
      "execution_count": 24,
      "outputs": [
        {
          "output_type": "display_data",
          "data": {
            "text/html": [
              "<style>\n",
              ".list-inline {list-style: none; margin:0; padding: 0}\n",
              ".list-inline>li {display: inline-block}\n",
              ".list-inline>li:not(:last-child)::after {content: \"\\00b7\"; padding: 0 .5ex}\n",
              "</style>\n",
              "<ol class=list-inline><li>'PLOT'</li><li>'SOC_Mg_Ha'</li><li>'DEPTH_UPPER'</li><li>'DEPTH_LOWER'</li><li>'county_name'</li><li>'id'</li><li>'left'</li><li>'top'</li><li>'right'</li><li>'bottom'</li><li>'water'</li><li>'trees'</li><li>'grass'</li><li>'flooded_vegetation'</li><li>'crops'</li><li>'shrub_and_scrub'</li><li>'built'</li><li>'bare'</li><li>'snow_and_ice'</li><li>'elevation'</li><li>'landform'</li><li>'SRTM_mTPI'</li><li>'aet'</li><li>'def'</li><li>'pdsi'</li><li>'pet'</li><li>'pr'</li><li>'ro'</li><li>'soil'</li><li>'srad'</li><li>'swe'</li><li>'tmmn'</li><li>'tmmx'</li><li>'vap'</li><li>'vpd'</li><li>'vs'</li><li>'agbd_m'</li><li>'agbd_sd'</li><li>'agbd_n'</li><li>'majorcomposition'</li><li>'age_years'</li><li>'Age_Class'</li><li>'predicted'</li><li>'var_imp_DEPTH_UPPER'</li><li>'var_imp_DEPTH_LOWER'</li><li>'var_imp_water'</li><li>'var_imp_trees'</li><li>'var_imp_grass'</li><li>'var_imp_flooded_vegetation'</li><li>'var_imp_crops'</li><li>'var_imp_shrub_and_scrub'</li><li>'var_imp_built'</li><li>'var_imp_bare'</li><li>'var_imp_snow_and_ice'</li><li>'var_imp_elevation'</li><li>'var_imp_landform'</li><li>'var_imp_SRTM_mTPI'</li><li>'var_imp_aet'</li><li>'var_imp_def'</li><li>'var_imp_pdsi'</li><li>'var_imp_pet'</li><li>'var_imp_pr'</li><li>'var_imp_ro'</li><li>'var_imp_soil'</li><li>'var_imp_srad'</li><li>'var_imp_swe'</li><li>'var_imp_tmmn'</li><li>'var_imp_tmmx'</li><li>'var_imp_vap'</li><li>'var_imp_vpd'</li><li>'var_imp_vs'</li><li>'var_imp_agbd_m'</li><li>'var_imp_agbd_sd'</li><li>'var_imp_agbd_n'</li><li>'var_imp_majorcomposition'</li><li>'var_imp_age_years'</li><li>'var_imp_Age_Class'</li><li>'r2_depth'</li><li>'r2_plot'</li><li>'sim_id'</li><li>'geom'</li></ol>\n"
            ],
            "text/markdown": "1. 'PLOT'\n2. 'SOC_Mg_Ha'\n3. 'DEPTH_UPPER'\n4. 'DEPTH_LOWER'\n5. 'county_name'\n6. 'id'\n7. 'left'\n8. 'top'\n9. 'right'\n10. 'bottom'\n11. 'water'\n12. 'trees'\n13. 'grass'\n14. 'flooded_vegetation'\n15. 'crops'\n16. 'shrub_and_scrub'\n17. 'built'\n18. 'bare'\n19. 'snow_and_ice'\n20. 'elevation'\n21. 'landform'\n22. 'SRTM_mTPI'\n23. 'aet'\n24. 'def'\n25. 'pdsi'\n26. 'pet'\n27. 'pr'\n28. 'ro'\n29. 'soil'\n30. 'srad'\n31. 'swe'\n32. 'tmmn'\n33. 'tmmx'\n34. 'vap'\n35. 'vpd'\n36. 'vs'\n37. 'agbd_m'\n38. 'agbd_sd'\n39. 'agbd_n'\n40. 'majorcomposition'\n41. 'age_years'\n42. 'Age_Class'\n43. 'predicted'\n44. 'var_imp_DEPTH_UPPER'\n45. 'var_imp_DEPTH_LOWER'\n46. 'var_imp_water'\n47. 'var_imp_trees'\n48. 'var_imp_grass'\n49. 'var_imp_flooded_vegetation'\n50. 'var_imp_crops'\n51. 'var_imp_shrub_and_scrub'\n52. 'var_imp_built'\n53. 'var_imp_bare'\n54. 'var_imp_snow_and_ice'\n55. 'var_imp_elevation'\n56. 'var_imp_landform'\n57. 'var_imp_SRTM_mTPI'\n58. 'var_imp_aet'\n59. 'var_imp_def'\n60. 'var_imp_pdsi'\n61. 'var_imp_pet'\n62. 'var_imp_pr'\n63. 'var_imp_ro'\n64. 'var_imp_soil'\n65. 'var_imp_srad'\n66. 'var_imp_swe'\n67. 'var_imp_tmmn'\n68. 'var_imp_tmmx'\n69. 'var_imp_vap'\n70. 'var_imp_vpd'\n71. 'var_imp_vs'\n72. 'var_imp_agbd_m'\n73. 'var_imp_agbd_sd'\n74. 'var_imp_agbd_n'\n75. 'var_imp_majorcomposition'\n76. 'var_imp_age_years'\n77. 'var_imp_Age_Class'\n78. 'r2_depth'\n79. 'r2_plot'\n80. 'sim_id'\n81. 'geom'\n\n\n",
            "text/latex": "\\begin{enumerate*}\n\\item 'PLOT'\n\\item 'SOC\\_Mg\\_Ha'\n\\item 'DEPTH\\_UPPER'\n\\item 'DEPTH\\_LOWER'\n\\item 'county\\_name'\n\\item 'id'\n\\item 'left'\n\\item 'top'\n\\item 'right'\n\\item 'bottom'\n\\item 'water'\n\\item 'trees'\n\\item 'grass'\n\\item 'flooded\\_vegetation'\n\\item 'crops'\n\\item 'shrub\\_and\\_scrub'\n\\item 'built'\n\\item 'bare'\n\\item 'snow\\_and\\_ice'\n\\item 'elevation'\n\\item 'landform'\n\\item 'SRTM\\_mTPI'\n\\item 'aet'\n\\item 'def'\n\\item 'pdsi'\n\\item 'pet'\n\\item 'pr'\n\\item 'ro'\n\\item 'soil'\n\\item 'srad'\n\\item 'swe'\n\\item 'tmmn'\n\\item 'tmmx'\n\\item 'vap'\n\\item 'vpd'\n\\item 'vs'\n\\item 'agbd\\_m'\n\\item 'agbd\\_sd'\n\\item 'agbd\\_n'\n\\item 'majorcomposition'\n\\item 'age\\_years'\n\\item 'Age\\_Class'\n\\item 'predicted'\n\\item 'var\\_imp\\_DEPTH\\_UPPER'\n\\item 'var\\_imp\\_DEPTH\\_LOWER'\n\\item 'var\\_imp\\_water'\n\\item 'var\\_imp\\_trees'\n\\item 'var\\_imp\\_grass'\n\\item 'var\\_imp\\_flooded\\_vegetation'\n\\item 'var\\_imp\\_crops'\n\\item 'var\\_imp\\_shrub\\_and\\_scrub'\n\\item 'var\\_imp\\_built'\n\\item 'var\\_imp\\_bare'\n\\item 'var\\_imp\\_snow\\_and\\_ice'\n\\item 'var\\_imp\\_elevation'\n\\item 'var\\_imp\\_landform'\n\\item 'var\\_imp\\_SRTM\\_mTPI'\n\\item 'var\\_imp\\_aet'\n\\item 'var\\_imp\\_def'\n\\item 'var\\_imp\\_pdsi'\n\\item 'var\\_imp\\_pet'\n\\item 'var\\_imp\\_pr'\n\\item 'var\\_imp\\_ro'\n\\item 'var\\_imp\\_soil'\n\\item 'var\\_imp\\_srad'\n\\item 'var\\_imp\\_swe'\n\\item 'var\\_imp\\_tmmn'\n\\item 'var\\_imp\\_tmmx'\n\\item 'var\\_imp\\_vap'\n\\item 'var\\_imp\\_vpd'\n\\item 'var\\_imp\\_vs'\n\\item 'var\\_imp\\_agbd\\_m'\n\\item 'var\\_imp\\_agbd\\_sd'\n\\item 'var\\_imp\\_agbd\\_n'\n\\item 'var\\_imp\\_majorcomposition'\n\\item 'var\\_imp\\_age\\_years'\n\\item 'var\\_imp\\_Age\\_Class'\n\\item 'r2\\_depth'\n\\item 'r2\\_plot'\n\\item 'sim\\_id'\n\\item 'geom'\n\\end{enumerate*}\n",
            "text/plain": [
              " [1] \"PLOT\"                       \"SOC_Mg_Ha\"                 \n",
              " [3] \"DEPTH_UPPER\"                \"DEPTH_LOWER\"               \n",
              " [5] \"county_name\"                \"id\"                        \n",
              " [7] \"left\"                       \"top\"                       \n",
              " [9] \"right\"                      \"bottom\"                    \n",
              "[11] \"water\"                      \"trees\"                     \n",
              "[13] \"grass\"                      \"flooded_vegetation\"        \n",
              "[15] \"crops\"                      \"shrub_and_scrub\"           \n",
              "[17] \"built\"                      \"bare\"                      \n",
              "[19] \"snow_and_ice\"               \"elevation\"                 \n",
              "[21] \"landform\"                   \"SRTM_mTPI\"                 \n",
              "[23] \"aet\"                        \"def\"                       \n",
              "[25] \"pdsi\"                       \"pet\"                       \n",
              "[27] \"pr\"                         \"ro\"                        \n",
              "[29] \"soil\"                       \"srad\"                      \n",
              "[31] \"swe\"                        \"tmmn\"                      \n",
              "[33] \"tmmx\"                       \"vap\"                       \n",
              "[35] \"vpd\"                        \"vs\"                        \n",
              "[37] \"agbd_m\"                     \"agbd_sd\"                   \n",
              "[39] \"agbd_n\"                     \"majorcomposition\"          \n",
              "[41] \"age_years\"                  \"Age_Class\"                 \n",
              "[43] \"predicted\"                  \"var_imp_DEPTH_UPPER\"       \n",
              "[45] \"var_imp_DEPTH_LOWER\"        \"var_imp_water\"             \n",
              "[47] \"var_imp_trees\"              \"var_imp_grass\"             \n",
              "[49] \"var_imp_flooded_vegetation\" \"var_imp_crops\"             \n",
              "[51] \"var_imp_shrub_and_scrub\"    \"var_imp_built\"             \n",
              "[53] \"var_imp_bare\"               \"var_imp_snow_and_ice\"      \n",
              "[55] \"var_imp_elevation\"          \"var_imp_landform\"          \n",
              "[57] \"var_imp_SRTM_mTPI\"          \"var_imp_aet\"               \n",
              "[59] \"var_imp_def\"                \"var_imp_pdsi\"              \n",
              "[61] \"var_imp_pet\"                \"var_imp_pr\"                \n",
              "[63] \"var_imp_ro\"                 \"var_imp_soil\"              \n",
              "[65] \"var_imp_srad\"               \"var_imp_swe\"               \n",
              "[67] \"var_imp_tmmn\"               \"var_imp_tmmx\"              \n",
              "[69] \"var_imp_vap\"                \"var_imp_vpd\"               \n",
              "[71] \"var_imp_vs\"                 \"var_imp_agbd_m\"            \n",
              "[73] \"var_imp_agbd_sd\"            \"var_imp_agbd_n\"            \n",
              "[75] \"var_imp_majorcomposition\"   \"var_imp_age_years\"         \n",
              "[77] \"var_imp_Age_Class\"          \"r2_depth\"                  \n",
              "[79] \"r2_plot\"                    \"sim_id\"                    \n",
              "[81] \"geom\"                      "
            ]
          },
          "metadata": {}
        }
      ]
    },
    {
      "cell_type": "code",
      "source": [
        "remove_names <- c('SOC_Mg_Ha','DEPTH_UPPER','DEPTH_LOWER','predicted','geom') %>% match(names(sim_dt))\n",
        "remove_names"
      ],
      "metadata": {
        "id": "PpqhuI1dUy8y",
        "outputId": "4b885194-a609-43e6-e31e-d448161d86cc",
        "colab": {
          "base_uri": "https://localhost:8080/",
          "height": 34
        }
      },
      "execution_count": 32,
      "outputs": [
        {
          "output_type": "display_data",
          "data": {
            "text/html": [
              "<style>\n",
              ".list-inline {list-style: none; margin:0; padding: 0}\n",
              ".list-inline>li {display: inline-block}\n",
              ".list-inline>li:not(:last-child)::after {content: \"\\00b7\"; padding: 0 .5ex}\n",
              "</style>\n",
              "<ol class=list-inline><li>2</li><li>3</li><li>4</li><li>43</li><li>81</li></ol>\n"
            ],
            "text/markdown": "1. 2\n2. 3\n3. 4\n4. 43\n5. 81\n\n\n",
            "text/latex": "\\begin{enumerate*}\n\\item 2\n\\item 3\n\\item 4\n\\item 43\n\\item 81\n\\end{enumerate*}\n",
            "text/plain": [
              "[1]  2  3  4 43 81"
            ]
          },
          "metadata": {}
        }
      ]
    },
    {
      "cell_type": "code",
      "source": [
        "sim_dt %>% nrow()\n",
        "sim_no_depth_dt <- sim_dt[,names(sim_dt)[-c(remove_names)],with=FALSE] %>% unique\n",
        "sim_no_depth_dt %>% nrow()"
      ],
      "metadata": {
        "id": "8b0LmUeZ1RIS",
        "outputId": "0999ba82-a04c-49cf-b918-1acf1920f8bc",
        "colab": {
          "base_uri": "https://localhost:8080/",
          "height": 52
        }
      },
      "execution_count": 33,
      "outputs": [
        {
          "output_type": "display_data",
          "data": {
            "text/html": [
              "3170000"
            ],
            "text/markdown": "3170000",
            "text/latex": "3170000",
            "text/plain": [
              "[1] 3170000"
            ]
          },
          "metadata": {}
        },
        {
          "output_type": "display_data",
          "data": {
            "text/html": [
              "1120000"
            ],
            "text/markdown": "1120000",
            "text/latex": "1120000",
            "text/plain": [
              "[1] 1120000"
            ]
          },
          "metadata": {}
        }
      ]
    },
    {
      "cell_type": "code",
      "source": [
        "sim_no_depth_dt %>% nrow"
      ],
      "metadata": {
        "id": "URaRsGg77gP8",
        "outputId": "ed907457-2b46-44dc-fdde-62a1fef01de8",
        "colab": {
          "base_uri": "https://localhost:8080/",
          "height": 34
        }
      },
      "execution_count": 35,
      "outputs": [
        {
          "output_type": "display_data",
          "data": {
            "text/html": [
              "1120000"
            ],
            "text/markdown": "1120000",
            "text/latex": "1120000",
            "text/plain": [
              "[1] 1120000"
            ]
          },
          "metadata": {}
        }
      ]
    },
    {
      "cell_type": "code",
      "source": [
        "sim_c_no_depth_dt <- sim_dt[,list(SOC_Mg_Ha=sum(SOC_Mg_Ha),predicted = sum(predicted),geom = unique(geom)),by = .(PLOT,sim_id)]\n",
        "# sim_c_no_depth_dt <- sim_c_no_depth_dt %>% unique()"
      ],
      "metadata": {
        "id": "8NKWwxr33VUC"
      },
      "execution_count": 36,
      "outputs": []
    },
    {
      "cell_type": "code",
      "source": [
        "sim_c_no_depth_dt %>% nrow()"
      ],
      "metadata": {
        "id": "m4Eh5SvaVX8C",
        "outputId": "42c51391-3785-4e30-f789-210b4747173b",
        "colab": {
          "base_uri": "https://localhost:8080/",
          "height": 34
        }
      },
      "execution_count": 37,
      "outputs": [
        {
          "output_type": "display_data",
          "data": {
            "text/html": [
              "1120000"
            ],
            "text/markdown": "1120000",
            "text/latex": "1120000",
            "text/plain": [
              "[1] 1120000"
            ]
          },
          "metadata": {}
        }
      ]
    },
    {
      "cell_type": "code",
      "source": [
        "# (sim_no_depth_dt$PLOT %in% sim_c_no_depth_dt$PLOT & sim_no_depth_dt$sim_id %in% sim_c_no_depth_dt$sim_id ) %>% table"
      ],
      "metadata": {
        "id": "xr1eyeQf5G3P"
      },
      "execution_count": 39,
      "outputs": []
    },
    {
      "cell_type": "code",
      "source": [
        "# sim_c_no_depth_dt"
      ],
      "metadata": {
        "id": "kqmVG3x85FIq"
      },
      "execution_count": null,
      "outputs": []
    },
    {
      "cell_type": "code",
      "source": [
        "sim_c_sum_dt <- merge(sim_c_no_depth_dt,sim_no_depth_dt,match = c('PLOT','sim_dt'))"
      ],
      "metadata": {
        "id": "6QQLaxXYzouC"
      },
      "execution_count": 40,
      "outputs": []
    },
    {
      "cell_type": "code",
      "source": [
        "# sim_c_sum_dt %>% names"
      ],
      "metadata": {
        "id": "zTAcSa098igz"
      },
      "execution_count": 42,
      "outputs": []
    },
    {
      "cell_type": "code",
      "source": [
        "sim_c_sum_dt[,z:=predicted-SOC_Mg_Ha]"
      ],
      "metadata": {
        "id": "UxooKXbS8BXx"
      },
      "execution_count": 43,
      "outputs": []
    },
    {
      "cell_type": "code",
      "source": [
        "sim_c_sum_dt[,rmse:=mean(((predicted-SOC_Mg_Ha))^2),by =.(PLOT,id)]"
      ],
      "metadata": {
        "id": "6S_bCu_x31Z3"
      },
      "execution_count": 44,
      "outputs": []
    },
    {
      "cell_type": "code",
      "source": [
        "sim_c_sum_dt[,rmse_p:=mean(((predicted-SOC_Mg_Ha)/SOC_Mg_Ha)^2),by =.(PLOT,id)]"
      ],
      "metadata": {
        "id": "OSvG7HTn88ju"
      },
      "execution_count": 45,
      "outputs": []
    },
    {
      "cell_type": "code",
      "source": [
        "sim_c_sum_dt[rmse_p<.01,list(SOC_Mg_Ha = mean(SOC_Mg_Ha %>% as.numeric)),by = PLOT]$SOC_Mg_Ha %>% quantile(c(0,.2,.4,.6,.8,1))"
      ],
      "metadata": {
        "id": "THAtqXmVhgkJ",
        "outputId": "318e1eab-bc4a-45b5-c751-fa0c436fea90",
        "colab": {
          "base_uri": "https://localhost:8080/",
          "height": 52
        }
      },
      "execution_count": 73,
      "outputs": [
        {
          "output_type": "display_data",
          "data": {
            "text/html": [
              "<style>\n",
              ".dl-inline {width: auto; margin:0; padding: 0}\n",
              ".dl-inline>dt, .dl-inline>dd {float: none; width: auto; display: inline-block}\n",
              ".dl-inline>dt::after {content: \":\\0020\"; padding-right: .5ex}\n",
              ".dl-inline>dt:not(:first-of-type) {padding-left: .5ex}\n",
              "</style><dl class=dl-inline><dt>0%</dt><dd>33.5647873772952</dd><dt>20%</dt><dd>79.6092464577454</dd><dt>40%</dt><dd>139.695552882783</dd><dt>60%</dt><dd>215.669639562645</dd><dt>80%</dt><dd>287.109607033667</dd><dt>100%</dt><dd>535.688692205937</dd></dl>\n"
            ],
            "text/markdown": "0%\n:   33.564787377295220%\n:   79.609246457745440%\n:   139.69555288278360%\n:   215.66963956264580%\n:   287.109607033667100%\n:   535.688692205937\n\n",
            "text/latex": "\\begin{description*}\n\\item[0\\textbackslash{}\\%] 33.5647873772952\n\\item[20\\textbackslash{}\\%] 79.6092464577454\n\\item[40\\textbackslash{}\\%] 139.695552882783\n\\item[60\\textbackslash{}\\%] 215.669639562645\n\\item[80\\textbackslash{}\\%] 287.109607033667\n\\item[100\\textbackslash{}\\%] 535.688692205937\n\\end{description*}\n",
            "text/plain": [
              "       0%       20%       40%       60%       80%      100% \n",
              " 33.56479  79.60925 139.69555 215.66964 287.10961 535.68869 "
            ]
          },
          "metadata": {}
        }
      ]
    },
    {
      "cell_type": "code",
      "source": [
        "sim_c_sum_dt"
      ],
      "metadata": {
        "id": "MmlpvkRGWTVX",
        "outputId": "80a1d5b3-7661-49a3-c5ae-4cb75f661d9f",
        "colab": {
          "base_uri": "https://localhost:8080/",
          "height": 34
        }
      },
      "execution_count": 55,
      "outputs": [
        {
          "output_type": "display_data",
          "data": {
            "text/html": [
              "214"
            ],
            "text/markdown": "214",
            "text/latex": "214",
            "text/plain": [
              "[1] 214"
            ]
          },
          "metadata": {}
        }
      ]
    },
    {
      "cell_type": "code",
      "source": [
        "c[,list(Stock_SOC_Mg_Ha = mean(SOC_Mg_Ha %>% as.numeric)),by = PLOT] %>%\n",
        "  ggplot(aes(x=Stock_SOC_Mg_Ha))+\n",
        "  geom_density()"
      ],
      "metadata": {
        "id": "TOX04JHCV9ou",
        "outputId": "328ffb23-30d9-4f72-c382-a5679bba8950",
        "colab": {
          "base_uri": "https://localhost:8080/",
          "height": 437
        }
      },
      "execution_count": 62,
      "outputs": [
        {
          "output_type": "display_data",
          "data": {
            "text/plain": [
              "plot without title"
            ],
            "image/png": "[encoded data removed]"
          },
          "metadata": {
            "image/png": {
              "width": 420,
              "height": 420
            }
          }
        }
      ]
    },
    {
      "cell_type": "code",
      "source": [
        "sim_c_sum_dt[rmse_p<.2] %>%\n",
        "  ggplot(aes(x=SOC_Mg_Ha))+\n",
        "  geom_histogram()"
      ],
      "metadata": {
        "id": "TegWt6JhVl9o",
        "outputId": "d51c482e-29d2-431b-e60e-bf4c3cab6ae0",
        "colab": {
          "base_uri": "https://localhost:8080/",
          "height": 455
        }
      },
      "execution_count": 81,
      "outputs": [
        {
          "output_type": "stream",
          "name": "stderr",
          "text": [
            "\u001b[1m\u001b[22m`stat_bin()` using `bins = 30`. Pick better value with `binwidth`.\n"
          ]
        },
        {
          "output_type": "display_data",
          "data": {
            "text/plain": [
              "plot without title"
            ],
            "image/png": "[encoded data removed]"
          },
          "metadata": {
            "image/png": {
              "width": 420,
              "height": 420
            }
          }
        }
      ]
    },
    {
      "cell_type": "code",
      "source": [
        "# 175,250,325,475"
      ],
      "metadata": {
        "id": "cez1JB_aZ7W5"
      },
      "execution_count": null,
      "outputs": []
    },
    {
      "cell_type": "code",
      "source": [
        "head(sim_c_sum_dt)"
      ],
      "metadata": {
        "id": "FRxKPWnc2baJ",
        "outputId": "326f91b8-8019-48f6-c5bb-ec285d5dbdea",
        "colab": {
          "base_uri": "https://localhost:8080/",
          "height": 410
        }
      },
      "execution_count": 95,
      "outputs": [
        {
          "output_type": "display_data",
          "data": {
            "text/html": [
              "<table class=\"dataframe\">\n",
              "<caption>A data.table: 6 × 85</caption>\n",
              "<thead>\n",
              "\t<tr><th scope=col>PLOT</th><th scope=col>sim_id</th><th scope=col>SOC_Mg_Ha</th><th scope=col>predicted</th><th scope=col>geom</th><th scope=col>county_name</th><th scope=col>id</th><th scope=col>left</th><th scope=col>top</th><th scope=col>right</th><th scope=col>⋯</th><th scope=col>var_imp_age_years</th><th scope=col>var_imp_Age_Class</th><th scope=col>r2_depth</th><th scope=col>r2_plot</th><th scope=col>z</th><th scope=col>rmse</th><th scope=col>rmse_p</th><th scope=col>group_quantile</th><th scope=col>n_pred</th><th scope=col>n_pred_good</th></tr>\n",
              "\t<tr><th scope=col>&lt;chr&gt;</th><th scope=col>&lt;dbl&gt;</th><th scope=col>&lt;dbl&gt;</th><th scope=col>&lt;dbl&gt;</th><th scope=col>&lt;list&gt;</th><th scope=col>&lt;chr&gt;</th><th scope=col>&lt;dbl&gt;</th><th scope=col>&lt;dbl&gt;</th><th scope=col>&lt;dbl&gt;</th><th scope=col>&lt;dbl&gt;</th><th scope=col>⋯</th><th scope=col>&lt;dbl&gt;</th><th scope=col>&lt;dbl&gt;</th><th scope=col>&lt;dbl&gt;</th><th scope=col>&lt;dbl&gt;</th><th scope=col>&lt;dbl&gt;</th><th scope=col>&lt;dbl&gt;</th><th scope=col>&lt;dbl&gt;</th><th scope=col>&lt;ord&gt;</th><th scope=col>&lt;int&gt;</th><th scope=col>&lt;int&gt;</th></tr>\n",
              "</thead>\n",
              "<tbody>\n",
              "\t<tr><td>2159</td><td>10001</td><td>421.2431</td><td>364.1446</td><td>-155.73756, 20.13136</td><td>Hawaii</td><td>2559062</td><td>475161.4</td><td>143702.3</td><td>475411.4</td><td>⋯</td><td>18665.47</td><td>10068.701</td><td>0.2803563</td><td>0.8598157</td><td>-57.098492</td><td>1648.9386</td><td>0.009292637</td><td>(325,475]</td><td>29</td><td>19</td></tr>\n",
              "\t<tr><td>2159</td><td>10002</td><td>421.2431</td><td>365.7547</td><td>-155.75431, 20.13812</td><td>Hawaii</td><td>2548538</td><td>473411.4</td><td>144452.3</td><td>473661.4</td><td>⋯</td><td>21419.57</td><td> 8538.018</td><td>0.2511020</td><td>0.8431665</td><td>-55.488390</td><td>1186.6122</td><td>0.006687184</td><td>(325,475]</td><td>17</td><td>17</td></tr>\n",
              "\t<tr><td>2159</td><td>10003</td><td>421.2431</td><td>401.9281</td><td>-155.72321, 20.12913</td><td>Hawaii</td><td>2568081</td><td>476661.4</td><td>143452.3</td><td>476911.4</td><td>⋯</td><td>20834.31</td><td>26425.264</td><td>0.2656619</td><td>0.8547523</td><td>-19.314940</td><td>2802.8906</td><td>0.015795763</td><td>(325,475]</td><td>34</td><td>20</td></tr>\n",
              "\t<tr><td>2159</td><td>10004</td><td>421.2431</td><td>396.3006</td><td>-155.77358, 20.21939</td><td>Hawaii</td><td>2536478</td><td>471411.4</td><td>153452.3</td><td>471661.4</td><td>⋯</td><td>13683.13</td><td>12181.745</td><td>0.2773296</td><td>0.8420684</td><td>-24.942471</td><td>1205.0445</td><td>0.006791060</td><td>(325,475]</td><td>13</td><td>13</td></tr>\n",
              "\t<tr><td>2159</td><td>10005</td><td>421.2431</td><td>416.2800</td><td>-155.73281, 20.15395</td><td>Hawaii</td><td>2562058</td><td>475661.4</td><td>146202.3</td><td>475911.4</td><td>⋯</td><td>19546.36</td><td>11710.814</td><td>0.2546325</td><td>0.8623375</td><td> -4.963105</td><td> 742.3527</td><td>0.004183548</td><td>(325,475]</td><td>25</td><td>21</td></tr>\n",
              "\t<tr><td>2159</td><td>10006</td><td>421.2431</td><td>373.3085</td><td>-155.72324, 20.14719</td><td>Hawaii</td><td>2568073</td><td>476661.4</td><td>145452.3</td><td>476911.4</td><td>⋯</td><td>24956.54</td><td>10585.007</td><td>0.2854975</td><td>0.8509950</td><td>-47.934564</td><td>1831.0951</td><td>0.010319184</td><td>(325,475]</td><td>24</td><td>12</td></tr>\n",
              "</tbody>\n",
              "</table>\n"
            ],
            "text/markdown": "\nA data.table: 6 × 85\n\n| PLOT &lt;chr&gt; | sim_id &lt;dbl&gt; | SOC_Mg_Ha &lt;dbl&gt; | predicted &lt;dbl&gt; | geom &lt;list&gt; | county_name &lt;chr&gt; | id &lt;dbl&gt; | left &lt;dbl&gt; | top &lt;dbl&gt; | right &lt;dbl&gt; | ⋯ ⋯ | var_imp_age_years &lt;dbl&gt; | var_imp_Age_Class &lt;dbl&gt; | r2_depth &lt;dbl&gt; | r2_plot &lt;dbl&gt; | z &lt;dbl&gt; | rmse &lt;dbl&gt; | rmse_p &lt;dbl&gt; | group_quantile &lt;ord&gt; | n_pred &lt;int&gt; | n_pred_good &lt;int&gt; |\n|---|---|---|---|---|---|---|---|---|---|---|---|---|---|---|---|---|---|---|---|---|\n| 2159 | 10001 | 421.2431 | 364.1446 | -155.73756, 20.13136 | Hawaii | 2559062 | 475161.4 | 143702.3 | 475411.4 | ⋯ | 18665.47 | 10068.701 | 0.2803563 | 0.8598157 | -57.098492 | 1648.9386 | 0.009292637 | (325,475] | 29 | 19 |\n| 2159 | 10002 | 421.2431 | 365.7547 | -155.75431, 20.13812 | Hawaii | 2548538 | 473411.4 | 144452.3 | 473661.4 | ⋯ | 21419.57 |  8538.018 | 0.2511020 | 0.8431665 | -55.488390 | 1186.6122 | 0.006687184 | (325,475] | 17 | 17 |\n| 2159 | 10003 | 421.2431 | 401.9281 | -155.72321, 20.12913 | Hawaii | 2568081 | 476661.4 | 143452.3 | 476911.4 | ⋯ | 20834.31 | 26425.264 | 0.2656619 | 0.8547523 | -19.314940 | 2802.8906 | 0.015795763 | (325,475] | 34 | 20 |\n| 2159 | 10004 | 421.2431 | 396.3006 | -155.77358, 20.21939 | Hawaii | 2536478 | 471411.4 | 153452.3 | 471661.4 | ⋯ | 13683.13 | 12181.745 | 0.2773296 | 0.8420684 | -24.942471 | 1205.0445 | 0.006791060 | (325,475] | 13 | 13 |\n| 2159 | 10005 | 421.2431 | 416.2800 | -155.73281, 20.15395 | Hawaii | 2562058 | 475661.4 | 146202.3 | 475911.4 | ⋯ | 19546.36 | 11710.814 | 0.2546325 | 0.8623375 |  -4.963105 |  742.3527 | 0.004183548 | (325,475] | 25 | 21 |\n| 2159 | 10006 | 421.2431 | 373.3085 | -155.72324, 20.14719 | Hawaii | 2568073 | 476661.4 | 145452.3 | 476911.4 | ⋯ | 24956.54 | 10585.007 | 0.2854975 | 0.8509950 | -47.934564 | 1831.0951 | 0.010319184 | (325,475] | 24 | 12 |\n\n",
            "text/latex": "A data.table: 6 × 85\n\\begin{tabular}{lllllllllllllllllllll}\n PLOT & sim\\_id & SOC\\_Mg\\_Ha & predicted & geom & county\\_name & id & left & top & right & ⋯ & var\\_imp\\_age\\_years & var\\_imp\\_Age\\_Class & r2\\_depth & r2\\_plot & z & rmse & rmse\\_p & group\\_quantile & n\\_pred & n\\_pred\\_good\\\\\n <chr> & <dbl> & <dbl> & <dbl> & <list> & <chr> & <dbl> & <dbl> & <dbl> & <dbl> & ⋯ & <dbl> & <dbl> & <dbl> & <dbl> & <dbl> & <dbl> & <dbl> & <ord> & <int> & <int>\\\\\n\\hline\n\t 2159 & 10001 & 421.2431 & 364.1446 & -155.73756, 20.13136 & Hawaii & 2559062 & 475161.4 & 143702.3 & 475411.4 & ⋯ & 18665.47 & 10068.701 & 0.2803563 & 0.8598157 & -57.098492 & 1648.9386 & 0.009292637 & (325,475{]} & 29 & 19\\\\\n\t 2159 & 10002 & 421.2431 & 365.7547 & -155.75431, 20.13812 & Hawaii & 2548538 & 473411.4 & 144452.3 & 473661.4 & ⋯ & 21419.57 &  8538.018 & 0.2511020 & 0.8431665 & -55.488390 & 1186.6122 & 0.006687184 & (325,475{]} & 17 & 17\\\\\n\t 2159 & 10003 & 421.2431 & 401.9281 & -155.72321, 20.12913 & Hawaii & 2568081 & 476661.4 & 143452.3 & 476911.4 & ⋯ & 20834.31 & 26425.264 & 0.2656619 & 0.8547523 & -19.314940 & 2802.8906 & 0.015795763 & (325,475{]} & 34 & 20\\\\\n\t 2159 & 10004 & 421.2431 & 396.3006 & -155.77358, 20.21939 & Hawaii & 2536478 & 471411.4 & 153452.3 & 471661.4 & ⋯ & 13683.13 & 12181.745 & 0.2773296 & 0.8420684 & -24.942471 & 1205.0445 & 0.006791060 & (325,475{]} & 13 & 13\\\\\n\t 2159 & 10005 & 421.2431 & 416.2800 & -155.73281, 20.15395 & Hawaii & 2562058 & 475661.4 & 146202.3 & 475911.4 & ⋯ & 19546.36 & 11710.814 & 0.2546325 & 0.8623375 &  -4.963105 &  742.3527 & 0.004183548 & (325,475{]} & 25 & 21\\\\\n\t 2159 & 10006 & 421.2431 & 373.3085 & -155.72324, 20.14719 & Hawaii & 2568073 & 476661.4 & 145452.3 & 476911.4 & ⋯ & 24956.54 & 10585.007 & 0.2854975 & 0.8509950 & -47.934564 & 1831.0951 & 0.010319184 & (325,475{]} & 24 & 12\\\\\n\\end{tabular}\n",
            "text/plain": [
              "  PLOT sim_id SOC_Mg_Ha predicted geom                 county_name id     \n",
              "1 2159 10001  421.2431  364.1446  -155.73756, 20.13136 Hawaii      2559062\n",
              "2 2159 10002  421.2431  365.7547  -155.75431, 20.13812 Hawaii      2548538\n",
              "3 2159 10003  421.2431  401.9281  -155.72321, 20.12913 Hawaii      2568081\n",
              "4 2159 10004  421.2431  396.3006  -155.77358, 20.21939 Hawaii      2536478\n",
              "5 2159 10005  421.2431  416.2800  -155.73281, 20.15395 Hawaii      2562058\n",
              "6 2159 10006  421.2431  373.3085  -155.72324, 20.14719 Hawaii      2568073\n",
              "  left     top      right    ⋯ var_imp_age_years var_imp_Age_Class r2_depth \n",
              "1 475161.4 143702.3 475411.4 ⋯ 18665.47          10068.701         0.2803563\n",
              "2 473411.4 144452.3 473661.4 ⋯ 21419.57           8538.018         0.2511020\n",
              "3 476661.4 143452.3 476911.4 ⋯ 20834.31          26425.264         0.2656619\n",
              "4 471411.4 153452.3 471661.4 ⋯ 13683.13          12181.745         0.2773296\n",
              "5 475661.4 146202.3 475911.4 ⋯ 19546.36          11710.814         0.2546325\n",
              "6 476661.4 145452.3 476911.4 ⋯ 24956.54          10585.007         0.2854975\n",
              "  r2_plot   z          rmse      rmse_p      group_quantile n_pred n_pred_good\n",
              "1 0.8598157 -57.098492 1648.9386 0.009292637 (325,475]      29     19         \n",
              "2 0.8431665 -55.488390 1186.6122 0.006687184 (325,475]      17     17         \n",
              "3 0.8547523 -19.314940 2802.8906 0.015795763 (325,475]      34     20         \n",
              "4 0.8420684 -24.942471 1205.0445 0.006791060 (325,475]      13     13         \n",
              "5 0.8623375  -4.963105  742.3527 0.004183548 (325,475]      25     21         \n",
              "6 0.8509950 -47.934564 1831.0951 0.010319184 (325,475]      24     12         "
            ]
          },
          "metadata": {}
        }
      ]
    },
    {
      "cell_type": "code",
      "source": [
        "sim_c_sum_dt[,group_quantile:= cut(predicted, breaks = c(0,175,250,325,475,1000),include.lowest = T,ordered_result=T)]"
      ],
      "metadata": {
        "id": "YhcIx8jRmiGi"
      },
      "execution_count": 93,
      "outputs": []
    },
    {
      "cell_type": "code",
      "source": [
        "sim_c_sum_dt[,n_pred := length(predicted),by=id]"
      ],
      "metadata": {
        "id": "9-uDevcNsrBs"
      },
      "execution_count": 88,
      "outputs": []
    },
    {
      "cell_type": "code",
      "source": [
        "sim_c_sum_dt[,n_pred_good := length(predicted[rmse_p<.2]),by=id]"
      ],
      "metadata": {
        "id": "KTP5hYW9s3A7"
      },
      "execution_count": 89,
      "outputs": []
    },
    {
      "cell_type": "code",
      "source": [
        "sim_c_sum_dt[rmse_p<.2][,list(SOC_Mg_Ha = mean(predicted), pred = length(predicted),n_pred = mean(n_pred),n_pred_good = mean(n_pred_good),geom=unique(geom)),by=.(id,group_quantile)] %>% st_as_sf(crs='4326') %>% st_write('quantile_pred.gpkg',delete_dsn = T)"
      ],
      "metadata": {
        "id": "e4fvNUAtplUG",
        "outputId": "90b6ffd8-9855-49ee-f46a-881eff8e5519",
        "colab": {
          "base_uri": "https://localhost:8080/"
        }
      },
      "execution_count": 98,
      "outputs": [
        {
          "output_type": "stream",
          "name": "stderr",
          "text": [
            "writing: substituting ENGCRS[\"Undefined Cartesian SRS with unknown unit\"] for missing CRS\n",
            "\n"
          ]
        },
        {
          "output_type": "stream",
          "name": "stdout",
          "text": [
            "Deleting source `quantile_pred.gpkg' using driver `GPKG'\n",
            "Writing layer `quantile_pred' to data source `quantile_pred.gpkg' using driver `GPKG'\n",
            "Writing 119208 features with 6 fields and geometry type Point.\n"
          ]
        }
      ]
    },
    {
      "cell_type": "code",
      "source": [
        "quant_dt <- sim_c_sum_dt[rmse_p<.2][,list(SOC_Mg_Ha = mean(predicted),pred = length(predicted),total = mean(n_pred_good),geom=unique(geom)),by=.(id,group_quantile)]\n",
        "quant_dt[,list(SOC_Mg_ha = sum(SOC_Mg_Ha*(pred/total)),geom = unique(geom)),by=id] %>% st_as_sf %>% st_write('sum_pred.gpkg',delete_dsn=T)"
      ],
      "metadata": {
        "id": "iwi4lgHtxuqY"
      },
      "execution_count": null,
      "outputs": []
    },
    {
      "cell_type": "code",
      "source": [
        "sim_c_sum_dt[,list(count = length(PLOT %>% unique)),by = id]$count %>% qplot"
      ],
      "metadata": {
        "id": "4L0XiTdjlL5G"
      },
      "execution_count": null,
      "outputs": []
    },
    {
      "cell_type": "code",
      "source": [
        "fia_dt[,list(SOC_Mg_Ha = sum(SOC_Mg_Ha %>% as.numeric)),by = PLOT]$SOC_Mg_Ha %>% qplot"
      ],
      "metadata": {
        "id": "idMv67Tjg2kI"
      },
      "execution_count": null,
      "outputs": []
    },
    {
      "cell_type": "code",
      "source": [
        "sim_c_sum_dt$rmse_p %>% qplot"
      ],
      "metadata": {
        "id": "LR-U3bv57wsD"
      },
      "execution_count": null,
      "outputs": []
    },
    {
      "cell_type": "code",
      "source": [
        "names(sim_c_sum_dt)[c(12:21, 23:40)]"
      ],
      "metadata": {
        "id": "1W05fIJi8qNf"
      },
      "execution_count": null,
      "outputs": []
    },
    {
      "cell_type": "code",
      "source": [
        "var_imp_dt <- sim_c_sum_dt[\n",
        "  , .(r2 = lapply(.SD, function(x) {\n",
        "          summary(lm(x ~ rmse_p, data = .SD))$r.squared\n",
        "      }),\n",
        "      variable = names(.SD)),\n",
        "  by = .(PLOT),\n",
        "  .SDcols = c(12:21, 23:40)\n",
        "]"
      ],
      "metadata": {
        "id": "1HWChufHf6Xn"
      },
      "execution_count": null,
      "outputs": []
    },
    {
      "cell_type": "code",
      "source": [
        "\n",
        "var_imp_dt$r2 <-var_imp_dt$r2 %>% unlist"
      ],
      "metadata": {
        "id": "py3l2b3s9vAA"
      },
      "execution_count": null,
      "outputs": []
    },
    {
      "cell_type": "code",
      "source": [
        "# sim_c_sum_dt[id==2563556]"
      ],
      "metadata": {
        "id": "7ZlSPpZjTUzr"
      },
      "execution_count": null,
      "outputs": []
    },
    {
      "cell_type": "code",
      "source": [
        "sim_c_sum_dt[,min_plot:= PLOT[which.min(rmse_p)],by=id]"
      ],
      "metadata": {
        "id": "Y0CMfxvESRZy"
      },
      "execution_count": null,
      "outputs": []
    },
    {
      "cell_type": "code",
      "source": [
        "# var_imp_dt[,list(imp_variable=variable[order(-r2)][1],r2=r2[order(-r2)][1]),by=PLOT]"
      ],
      "metadata": {
        "id": "uI1NQa16Gg2Y"
      },
      "execution_count": null,
      "outputs": []
    },
    {
      "cell_type": "code",
      "source": [
        "# sim_c_sum_dt$min_plot %>% qplot"
      ],
      "metadata": {
        "id": "6nOp1xLCS1PY"
      },
      "execution_count": null,
      "outputs": []
    },
    {
      "cell_type": "code",
      "source": [
        "# sim_c_sum_dt$PLOT %>% table"
      ],
      "metadata": {
        "id": "BzgG12iGSyAc"
      },
      "execution_count": null,
      "outputs": []
    },
    {
      "cell_type": "code",
      "source": [
        "sim_c_sum_dt$imp_variable <- NULL\n",
        "sim_c_sum_dt$r2 <- NULL"
      ],
      "metadata": {
        "id": "uJ8EzPBCCZt_"
      },
      "execution_count": null,
      "outputs": []
    },
    {
      "cell_type": "code",
      "source": [
        " sim_c_sum_dt <- var_imp_dt[,list(imp_variable=variable[order(-r2)][1],r2=r2[order(-r2)][1]),by=PLOT] %>% merge(sim_c_sum_dt,.,by.x = 'min_plot',by.y = 'PLOT')"
      ],
      "metadata": {
        "id": "9NYCPnXn-dBJ"
      },
      "execution_count": null,
      "outputs": []
    },
    {
      "cell_type": "code",
      "source": [
        "sim_c_sum_dt %>% head"
      ],
      "metadata": {
        "id": "2D0uCXNRVKwM"
      },
      "execution_count": null,
      "outputs": []
    },
    {
      "cell_type": "code",
      "source": [
        "# sim_c_sum_dt[,imp_variable:=imp_variable[order(-r2)][1],by=id]\n",
        "# sim_c_sum_dt[,r2:=r2[order(-r2)][1],by=id]"
      ],
      "metadata": {
        "id": "XH4BWGp0KRX7"
      },
      "execution_count": null,
      "outputs": []
    },
    {
      "cell_type": "code",
      "source": [
        "sim_c_sum_dt[rmse_p<.2][,list(rmse_p = mean(rmse_p),geom=geom[1]),by = .(id,imp_variable,r2)] %>% st_as_sf %>% st_write('variable_importance_id.gpkg',delete_dsn=T)"
      ],
      "metadata": {
        "id": "JmII9qMsFnGh"
      },
      "execution_count": null,
      "outputs": []
    },
    {
      "cell_type": "code",
      "source": [
        "# sim_c_sum_dt[rmse_p<.2] %>% st_as_sf %>% st_write('variable_importance.gpkg',delete_dsn)"
      ],
      "metadata": {
        "id": "HldNZqI4E38k"
      },
      "execution_count": null,
      "outputs": []
    },
    {
      "cell_type": "code",
      "source": [
        "var_imp_dt$imp_variable %>% table"
      ],
      "metadata": {
        "id": "4a_Ak1xr-wzN"
      },
      "execution_count": null,
      "outputs": []
    },
    {
      "cell_type": "code",
      "source": [
        "var_imp_dt %>%\n",
        "  ggplot(aes(x=r2))+\n",
        "    geom_histogram(aes(fill=variable))+\n",
        "    facet_wrap(variable~.,scales='free') +\n",
        "    theme(legend.position = \"none\")\n"
      ],
      "metadata": {
        "id": "2ajG3NFW9R1p"
      },
      "execution_count": null,
      "outputs": []
    },
    {
      "cell_type": "code",
      "source": [
        "r2_dt <-\n",
        "sim_c_sum_dt$PLOT %>% unique %>%\n",
        "  lapply(function(x){\n",
        "  x_dt <- sim_c_sum_dt[PLOT == x]\n",
        "  names(sim_c_sum_dt)[c(12:21, 23:40)] %>%\n",
        "    lapply(function(y){\n",
        "    r2 <-\n",
        "    (lm(x_dt[['rmse_p']]~x_dt[[y]]) %>%\n",
        "      summary())$r.squared\n",
        "    data.table(PLOT = x,variable =y,r2 = r2) %>% return()\n",
        "    }) %>% rbindlist\n",
        "  }) %>% rbindlist\n"
      ],
      "metadata": {
        "id": "-hngzXlkgMzv"
      },
      "execution_count": null,
      "outputs": []
    },
    {
      "cell_type": "code",
      "source": [
        "r2_dt"
      ],
      "metadata": {
        "id": "md7uSqOJ7TJf"
      },
      "execution_count": null,
      "outputs": []
    },
    {
      "cell_type": "code",
      "source": [
        "gc()"
      ],
      "metadata": {
        "id": "ThBN0TMl7sW8"
      },
      "execution_count": null,
      "outputs": []
    },
    {
      "cell_type": "code",
      "source": [
        "cool_dt[PLOT == 2737] %>%\n",
        "ggplot(aes(x=elevation,y=rmse_p))+\n",
        "# ylim(0,1)+\n",
        "geom_bin2d() +\n",
        "geom_smooth(method='lm')"
      ],
      "metadata": {
        "id": "UegpL-6DxZX4"
      },
      "execution_count": null,
      "outputs": []
    },
    {
      "cell_type": "code",
      "source": [
        "sim_c_no_depth_dt[PLOT == 2737]$SOC_Mg_Ha %>% table"
      ],
      "metadata": {
        "id": "t2pDJ7gpyHEZ"
      },
      "execution_count": null,
      "outputs": []
    },
    {
      "cell_type": "code",
      "source": [
        "\n",
        "(cool_dt[PLOT == 2822]  %>%\n",
        "  lm(rmse_p~soil,.) %>%\n",
        "  summary())$r.squared"
      ],
      "metadata": {
        "id": "PS0rOg0i5352"
      },
      "execution_count": null,
      "outputs": []
    },
    {
      "cell_type": "code",
      "source": [
        "names(sim_c_sum_dt)"
      ],
      "metadata": {
        "id": "X0vkbVKW6B5E"
      },
      "execution_count": null,
      "outputs": []
    },
    {
      "cell_type": "code",
      "source": [
        "# cool_dt <- sim_c_sum_dt[,list(rmse_p = mean(sqrt(z^2))/SOC_Mg_Ha,rmse = mean(sqrt(z^2)),var_imp_elevation = mean(var_imp_elevation) ,geom=unique(geom)[1],predicted = mean(predicted)),by = .(PLOT,id,soil,tmmn,vpd,SOC_Mg_Ha,trees,shrub_and_scrub,built,bare,aet,soil,vs,SRTM_mTPI,agbd_m,agbd_sd,elevation)]\n",
        "# st_as_sf %>%\n",
        "# st_write('review_output.gpkg',delete_dsn = T)\n",
        "# cool_dt[,list(elev_r2= cor(elevation, SRTM_mTPI) ^ 2),by = .(PLOT)]\n",
        "cool_dt[PLOT == 4102]  %>%\n",
        "ggplot(aes(x=rmse_p,y=bare))+\n",
        "# ylim(0,600)+\n",
        "# geom_histogram()\n",
        "geom_bin2d() +\n",
        "geom_smooth(method='lm')"
      ],
      "metadata": {
        "id": "Z-G08udTEFv2"
      },
      "execution_count": null,
      "outputs": []
    },
    {
      "cell_type": "code",
      "source": [
        "sim_dt[,z:=(predicted-SOC_Mg_Ha)/SOC_Mg_Ha]"
      ],
      "metadata": {
        "id": "ykTLK7Zfvb_Y"
      },
      "execution_count": null,
      "outputs": []
    },
    {
      "cell_type": "code",
      "source": [
        "sim_dt[,residual_per:=(predicted-SOC_Mg_Ha)/SOC_Mg_Ha]"
      ],
      "metadata": {
        "id": "qozeGGhyeNR6"
      },
      "execution_count": null,
      "outputs": []
    },
    {
      "cell_type": "code",
      "source": [
        "sim_dt[ z > -0.05 &z<0.05]$predicted %>% qplot"
      ],
      "metadata": {
        "id": "83G-MoVduIeE"
      },
      "execution_count": null,
      "outputs": []
    },
    {
      "cell_type": "code",
      "source": [
        "sim_dt$SOC_Mg_Ha %>% qplot"
      ],
      "metadata": {
        "id": "FYEQyrPhuMp8"
      },
      "execution_count": null,
      "outputs": []
    },
    {
      "cell_type": "code",
      "source": [
        "sim_dt[id==2831164]$predicted %>% qplot(bins=100)\n",
        "\n",
        "sim_dt[id==2831164 & z > -0.05 &z<0.05]$predicted %>% qplot(geom='histogram')"
      ],
      "metadata": {
        "id": "4Vplh_bzvy2V"
      },
      "execution_count": null,
      "outputs": []
    },
    {
      "cell_type": "code",
      "source": [
        "sim_summary_dt <- sim_dt[,list(length = length(r2),length_05 = length(r2[sqrt((z)^2) <0.05]),geom=unique(geom)),by=.(id,PLOT)]"
      ],
      "metadata": {
        "id": "dQe6TcWmQE9z"
      },
      "execution_count": null,
      "outputs": []
    },
    {
      "cell_type": "code",
      "source": [
        "# sim_summary_dt\n",
        "(sim_summary_dt[PLOT==5289]$length_05/sim_summary_dt[PLOT==5289]$length) %>% qplot"
      ],
      "metadata": {
        "id": "8ety8b9EirDE"
      },
      "execution_count": null,
      "outputs": []
    },
    {
      "cell_type": "code",
      "source": [
        "sim_summary_dt %>% st_as_sf %>% st_write('sim_summary_id_plot.gpkg',delete_dsn = T)"
      ],
      "metadata": {
        "id": "t7KCfekdwa45"
      },
      "execution_count": null,
      "outputs": []
    },
    {
      "cell_type": "code",
      "source": [
        "(sim_dt %>% names)[c(9:18,20:37)]"
      ],
      "metadata": {
        "id": "55HRclaRCkNj"
      },
      "execution_count": null,
      "outputs": []
    },
    {
      "cell_type": "code",
      "source": [
        "sim_dt$id %>% sample(1)\n",
        "sim_dt[id==2762315]$PLOT %>% table"
      ],
      "metadata": {
        "id": "T7bfZLlnv2kw"
      },
      "execution_count": null,
      "outputs": []
    },
    {
      "cell_type": "code",
      "source": [
        "sim_dt[id==2762315] %>% nrow"
      ],
      "metadata": {
        "id": "sZIan_uuv_eq"
      },
      "execution_count": null,
      "outputs": []
    },
    {
      "cell_type": "code",
      "source": [
        "#  sim_dt[id==2762315 &PLOT == 2678]$z %>% abs %>% qplot"
      ],
      "metadata": {
        "id": "TE5mLdbMwPBv"
      },
      "execution_count": null,
      "outputs": []
    },
    {
      "cell_type": "code",
      "source": [
        "sim_dt[id==2762315 &PLOT == 2678 ]$id %>% unique"
      ],
      "metadata": {
        "id": "K5ZOagATPk4_"
      },
      "execution_count": null,
      "outputs": []
    },
    {
      "cell_type": "code",
      "source": [
        "names(sim_dt)"
      ],
      "metadata": {
        "id": "o1nEka7qXTVw"
      },
      "execution_count": null,
      "outputs": []
    },
    {
      "cell_type": "code",
      "source": [
        "names(sim_dt)[c(11:42)]"
      ],
      "metadata": {
        "id": "e3DOI4yvInQ9"
      },
      "execution_count": null,
      "outputs": []
    },
    {
      "cell_type": "code",
      "source": [
        "p_value_dt <-\n",
        "sim_dt$PLOT %>% unique %>% lapply(function(y){\n",
        "names(sim_dt)[c(9:18,20:37)] %>%\n",
        "lapply(function(x){\n",
        "\n",
        "  (cool_dt[PLOT == 2822]  %>%\n",
        "  lm(rmse_p~soil,.) %>%\n",
        "  summary())$r.squared\n",
        "# # which_dt <- sim_dt[ PLOT == y ][,list(good = length(z[z < 0.05])/length(z) <0.02),by= .(PLOT,id)]\n",
        "# good_x <- grid_dt[id %in% which_dt$id[which_dt$good]][[x]]\n",
        "# bad_x <- grid_dt[id %in% which_dt$id[!which_dt$good]][[x]]\n",
        "# if(length(good_x)>3 &length(bad_x)>3){\n",
        "# p_value <- wilcox.test(good_x,bad_x)$p.value\n",
        "\n",
        "# data.table(PLOT=y,variable=x,good = length(good_x),bad =length(bad_x),p_value=p_value) %>% return\n",
        "# }else(return(data.table(PLOT=y,variable=x,good = length(good_x),bad =length(bad_x),p_value=NA)))\n",
        "}) %>% rbindlist %>% return}) %>% rbindlist"
      ],
      "metadata": {
        "id": "-izennDhKD9H"
      },
      "execution_count": null,
      "outputs": []
    },
    {
      "cell_type": "code",
      "source": [
        "good_bad_dt <- p_value_dt[,list( mean(NA)),by=.(PLOT,good,bad)]"
      ],
      "metadata": {
        "id": "16m_kICGtC-e"
      },
      "execution_count": null,
      "outputs": []
    },
    {
      "cell_type": "code",
      "source": [
        "good_bad_dt <- merge(fia_dt,good_bad_dt,by = 'PLOT')"
      ],
      "metadata": {
        "id": "9iG0Rmja5X4a"
      },
      "execution_count": null,
      "outputs": []
    },
    {
      "cell_type": "code",
      "source": [
        "names(good_bad_dt)"
      ],
      "metadata": {
        "id": "6OHO4MNf6qbv"
      },
      "execution_count": null,
      "outputs": []
    },
    {
      "cell_type": "code",
      "source": [
        "good_bad_dt %>%\n",
        "  ggplot(aes(x=good/(bad +good),y=Stock_SOC_Mg_Ha %>% as.numeric))+\n",
        "  geom_point() +\n",
        "  facet_grid(Max_Lower_Depth %>% as.numeric~.)"
      ],
      "metadata": {
        "id": "t_ulb6Gp5FCS"
      },
      "execution_count": null,
      "outputs": []
    },
    {
      "cell_type": "code",
      "source": [
        "# x <- sim_dt[ PLOT == 2409 ][,list()]\n",
        "\n",
        "z <- sim_dt[ PLOT == 2409 ]$z\n",
        "length(x[abs(z) < 0.05])\n",
        "length(x[abs(z) >= 0.05])\n",
        "wilcox.test(sample(x[abs(z) < 0.05],500,replace=T) %>% sort ,\n",
        "          sample(x[abs(z) >= 0.05],500,replace=T)%>% sort)"
      ],
      "metadata": {
        "id": "TwoBmzMO5_Qj"
      },
      "execution_count": null,
      "outputs": []
    },
    {
      "cell_type": "code",
      "source": [
        "x <- sim_dt[ PLOT == 2409 ]$elevation\n",
        "z <- sim_dt[ PLOT == 2409 ]$z\n",
        "t.test(x[abs(z) < 0.05],\n",
        "          x[abs(z) >= 0.05])"
      ],
      "metadata": {
        "id": "kaLzXo6xX7j9"
      },
      "execution_count": null,
      "outputs": []
    },
    {
      "cell_type": "code",
      "source": [
        "#  sim_dt[ PLOT == 2409 ] %>%\n",
        " data.table(elevation = c(sample(x[abs(z) < 0.05],1000000,replace=T),sample(x[abs(z) >= 0.05],1000000,replace=T)),z = c(rep(0,1000),rep(1,1000))) %>%\n",
        "   ggplot(aes(x=elevation,group = abs(z) <0.05))+\n",
        "     geom_density(aes(color= abs(z) <0.05))"
      ],
      "metadata": {
        "id": "RLNcpUsLXZsr"
      },
      "execution_count": null,
      "outputs": []
    },
    {
      "cell_type": "code",
      "source": [
        "\n",
        "\n",
        "if(length(x[abs(z) < 0.05])>3 &length(x[abs(z) >= 0.05])>3 ){\n",
        "  t.test(x[abs(z) < 0.05],\n",
        "          x[abs(z) >= 0.05])$p.value\n",
        "          }else(return(NA))"
      ],
      "metadata": {
        "id": "QhXwzQZWwy22"
      },
      "execution_count": null,
      "outputs": []
    },
    {
      "cell_type": "code",
      "source": [
        "qplot(x[abs(z) >= 0.05])"
      ],
      "metadata": {
        "id": "BIkFtXRFDbft"
      },
      "execution_count": null,
      "outputs": []
    },
    {
      "cell_type": "code",
      "source": [
        "qplot(x[abs(z) < 0.05])"
      ],
      "metadata": {
        "id": "pF5AodHBDXH3"
      },
      "execution_count": null,
      "outputs": []
    },
    {
      "cell_type": "code",
      "source": [
        "sim_dt[, good := length(z[abs(z) < 0.2])/length(z) > .50,by= .(PLOT,id,DEPTH_UPPER,DEPTH_LOWER)]"
      ],
      "metadata": {
        "id": "zQCGNXcBPVbc"
      },
      "execution_count": null,
      "outputs": []
    },
    {
      "cell_type": "code",
      "source": [
        "sim_dt$good %>% table / nrow(sim_dt)"
      ],
      "metadata": {
        "id": "kft1YMfsHQJx"
      },
      "execution_count": null,
      "outputs": []
    },
    {
      "cell_type": "code",
      "source": [
        "sim_dt[,list(length=sum(good)),by= .(PLOT ,DEPTH_UPPER,DEPTH_LOWER)]"
      ],
      "metadata": {
        "id": "XaM-bs5nLq4o"
      },
      "execution_count": null,
      "outputs": []
    },
    {
      "cell_type": "code",
      "source": [
        "names(sim_dt)[c(11:20,22:39)]"
      ],
      "metadata": {
        "id": "R0gRuWO1o5dQ"
      },
      "execution_count": null,
      "outputs": []
    },
    {
      "cell_type": "code",
      "source": [
        "sim_dt[,r2:=(lm(rmse_p~x ) %>% summary())$r.squared, by = .( PLOT )"
      ],
      "metadata": {
        "id": "0n3ELhHpeyYm"
      },
      "execution_count": null,
      "outputs": []
    },
    {
      "cell_type": "code",
      "source": [
        "sim_dt %>% names"
      ],
      "metadata": {
        "id": "ftBpMMlsfb_n"
      },
      "execution_count": null,
      "outputs": []
    },
    {
      "cell_type": "code",
      "source": [
        "var_imp_dt <- sim_dt[\n",
        "  , .(r2 = lapply(.SD, function(x) {\n",
        "          summary(lm(rmse_p ~ x, data = .SD))$r.squared\n",
        "      }),\n",
        "      variable = names(.SD)),\n",
        "  by = .(PLOT),\n",
        "  .SDcols = c(11:20, 22:39)\n",
        "]"
      ],
      "metadata": {
        "id": "20kHFnC_fXyJ"
      },
      "execution_count": null,
      "outputs": []
    },
    {
      "cell_type": "code",
      "source": [
        " var_imp_dt<- sim_dt [\n",
        "  , .(r2 = lapply(.SD, function(x) {\n",
        "\n",
        "      (lm(rmse_p~x ) %>%\n",
        "    summary())$r.squared\n",
        "\n",
        "\n",
        "    }) ,\n",
        "      variable = names(sim_dt)[c(11:20,22:39)])\n",
        "  , by = .( PLOT )\n",
        "  , .SDcols = c(c(11:20,22:39))\n",
        "]\n",
        "\n",
        "var_imp_dt$p_value <- var_imp_dt$r2 %>% unlist"
      ],
      "metadata": {
        "id": "jSxwz78hCaIo"
      },
      "execution_count": null,
      "outputs": []
    },
    {
      "cell_type": "code",
      "source": [
        "var_imp_dt$p_value%>%qplot"
      ],
      "metadata": {
        "id": "3yklCqfZoTKA"
      },
      "execution_count": null,
      "outputs": []
    },
    {
      "cell_type": "code",
      "source": [
        "# grid_dt"
      ],
      "metadata": {
        "id": "g3iB3POm0MX8"
      },
      "execution_count": null,
      "outputs": []
    },
    {
      "cell_type": "code",
      "source": [
        "# out_dt <- data.table(var_imp_dt,sim_summary_dt[match(var_imp_dt$id,sim_summary_dt$id)])\n",
        "out_dt <- data.table(p_value_dt,fia_dt[,c('geometry')][match(p_value_dt$PLOT,fia_dt$PLOT)])"
      ],
      "metadata": {
        "id": "tDSLomPaFBt4"
      },
      "execution_count": null,
      "outputs": []
    },
    {
      "cell_type": "code",
      "source": [
        "out_dt[,bonferroni:=p_value*length(c(9:18,20:37))]"
      ],
      "metadata": {
        "id": "2QPXHgSxppws"
      },
      "execution_count": null,
      "outputs": []
    },
    {
      "cell_type": "code",
      "source": [
        "out_dt$p_value <- out_dt$p_value %>% unlist"
      ],
      "metadata": {
        "id": "9MSkigkuGEUG"
      },
      "execution_count": null,
      "outputs": []
    },
    {
      "cell_type": "code",
      "source": [
        "# out_dt$geom <- NULL\n",
        "out_dt"
      ],
      "metadata": {
        "id": "KxGVgkMqrSMj"
      },
      "execution_count": null,
      "outputs": []
    },
    {
      "cell_type": "code",
      "source": [
        "# short_out_dt[!is.na(var_imp_aet),]"
      ],
      "metadata": {
        "id": "zhnfNW4o0p6g"
      },
      "execution_count": null,
      "outputs": []
    },
    {
      "cell_type": "code",
      "source": [
        "short_out_dt <- dcast(out_dt,  PLOT ~ variable,value.var='bonferroni', drop=FALSE)\n",
        "# short_out_dt <-short_out_dt[!is.na(trees),]"
      ],
      "metadata": {
        "id": "0mOkIF47rJPU"
      },
      "execution_count": null,
      "outputs": []
    },
    {
      "cell_type": "code",
      "source": [
        "short_out_dt"
      ],
      "metadata": {
        "id": "5U500bQjSzvh"
      },
      "execution_count": null,
      "outputs": []
    },
    {
      "cell_type": "code",
      "source": [
        "good_set <- out_dt[,list(bonferroni_20 = mean(bonferroni[bonferroni<.2],na.rm=T),n=length(bonferroni[bonferroni<.2])),by = .(PLOT,variable)][!is.na(bonferroni_20)]$PLOT %>% unique"
      ],
      "metadata": {
        "id": "BqKvjGhg4qhK"
      },
      "execution_count": null,
      "outputs": []
    },
    {
      "cell_type": "code",
      "source": [
        "good_set %>% length"
      ],
      "metadata": {
        "id": "Qlns0YTO7ByC"
      },
      "execution_count": null,
      "outputs": []
    },
    {
      "cell_type": "code",
      "source": [
        "fia_dt[PLOT %in% good_set]$Stock_SOC_Mg_Ha %>% mean(na.rm=T)"
      ],
      "metadata": {
        "id": "SVPLbJGj7OSZ"
      },
      "execution_count": null,
      "outputs": []
    },
    {
      "cell_type": "code",
      "source": [
        "fia_dt %>%\n",
        "  ggplot(aes(x=Stock_SOC_Mg_Ha))+\n",
        "  geom_histogram()"
      ],
      "metadata": {
        "id": "w2dtAHQe63ke"
      },
      "execution_count": null,
      "outputs": []
    },
    {
      "cell_type": "code",
      "source": [
        "short_out_dt <- data.table(short_out_dt,fia_dt[,c('geometry')][match(short_out_dt$PLOT,fia_dt$PLOT)])"
      ],
      "metadata": {
        "id": "Vcb9nHVt0kO5"
      },
      "execution_count": null,
      "outputs": []
    },
    {
      "cell_type": "code",
      "source": [
        "short_out_dt %>% st_as_sf %>% st_write('bonferroni_adj.gpkg',delete_dsn = T)"
      ],
      "metadata": {
        "id": "0KA7fcV3wVH9"
      },
      "execution_count": null,
      "outputs": []
    },
    {
      "cell_type": "code",
      "source": [
        "cols_to_consider <- names(short_out_dt)[]\n",
        "\n",
        "\n",
        "# Assuming 'short_out_dt' is your data.table\n",
        "# Define the columns you want to consider for finding the max value by their indices\n",
        "cols_to_consider_indices <- 3:(ncol(short_out_dt)-1) # Replace with actual indices of Var3, Var5, Var7\n",
        "short_out_dt$max_col <-\n",
        "1:nrow(short_out_dt) %>% lapply(function(x){\n",
        "if(is.na(short_out_dt[x,cols_to_consider_indices,with=F] %>% unlist) %>% all){return(NA)}\n",
        "short_out_dt[x,cols_to_consider_indices,with=F] %>% unlist %>% which.min( ) %>% names}) %>% unlist"
      ],
      "metadata": {
        "id": "eEeHNqq5sQiQ"
      },
      "execution_count": null,
      "outputs": []
    },
    {
      "cell_type": "code",
      "source": [
        "short_out_dt %>% st_write('max_col_p.gpkg')"
      ],
      "metadata": {
        "id": "vJhqaw2SyWg3"
      },
      "execution_count": null,
      "outputs": []
    },
    {
      "cell_type": "code",
      "source": [
        "short_out_dt"
      ],
      "metadata": {
        "id": "vh8jc2vQw0fR"
      },
      "execution_count": null,
      "outputs": []
    },
    {
      "cell_type": "code",
      "source": [
        "short_out_dt %>%\n",
        "  ggplot(aes(x=1:nrow(short_out_dt),y=soil))+\n",
        "  geom_line()"
      ],
      "metadata": {
        "id": "mx2dDqIMwmH6"
      },
      "execution_count": null,
      "outputs": []
    },
    {
      "cell_type": "code",
      "source": [
        "out_dt[bonferroni <= .05]$variable %>% table"
      ],
      "metadata": {
        "id": "5AP6xor8JZ55"
      },
      "execution_count": null,
      "outputs": []
    },
    {
      "cell_type": "code",
      "source": [],
      "metadata": {
        "id": "j5zr7_HMp3ZP"
      },
      "execution_count": null,
      "outputs": []
    },
    {
      "cell_type": "code",
      "source": [
        "out_dt[bonferroni<= 0.1] %>%\n",
        "  ggplot(aes(x= variable %>% factor))+\n",
        "  geom_bar()\n",
        "  # geom_smooth(method='lm')"
      ],
      "metadata": {
        "id": "R2Gs7h8_Rk5V"
      },
      "execution_count": null,
      "outputs": []
    },
    {
      "cell_type": "code",
      "source": [
        "data.table(out_dt) %>% st_as_sf() %>% st_write('/content/plot_sig_variables.gpkg',delete_dsn=T)"
      ],
      "metadata": {
        "id": "5ilpqA4nE-f3"
      },
      "execution_count": null,
      "outputs": []
    },
    {
      "cell_type": "code",
      "source": [
        "# sim_dt[id ==2222069  ]\n",
        "# 1850844\n",
        "# sqrt(((Stock_SOC_Mg_Ha-predicted)/Stock_SOC_Mg_Ha)^2)<0.05\n",
        "sim_dt[id ==2952969  & sqrt(((Stock_SOC_Mg_Ha-predicted)/Stock_SOC_Mg_Ha)^2)<0.05] %>%\n",
        "  ggplot(aes(x=Stock_SOC_Mg_Ha)) +\n",
        "  geom_histogram()\n",
        "  # print()"
      ],
      "metadata": {
        "id": "FB2Kru8Fcdpi"
      },
      "execution_count": null,
      "outputs": []
    },
    {
      "cell_type": "code",
      "source": [
        "sim_dt %>%\n",
        "  ggplot(aes(y=Stock_SOC_Mg_Ha,x=r2))+\n",
        "    geom_bin2d()\n",
        "    # geom_smooth()"
      ],
      "metadata": {
        "id": "Kdno5JZ0Yev5"
      },
      "execution_count": null,
      "outputs": []
    },
    {
      "cell_type": "code",
      "source": [
        "# Load the necessary library\n",
        "library(repr)\n",
        "\n",
        "# Adjust width and height of plots\n",
        "options(repr.plot.width=20, repr.plot.height=8)"
      ],
      "metadata": {
        "id": "ysaNMETsScgE"
      },
      "execution_count": null,
      "outputs": []
    },
    {
      "cell_type": "code",
      "source": [],
      "metadata": {
        "id": "qsoXgH7N44kI"
      },
      "execution_count": null,
      "outputs": []
    }
  ]
}