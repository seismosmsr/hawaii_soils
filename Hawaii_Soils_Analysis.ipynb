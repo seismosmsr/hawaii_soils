{
  "nbformat": 4,
  "nbformat_minor": 0,
  "metadata": {
    "colab": {
      "provenance": [],
      "machine_shape": "hm",
      "authorship_tag": "ABX9TyOIE8v3uiNrJv8sfQONmoya",
      "include_colab_link": true
    },
    "kernelspec": {
      "name": "ir",
      "display_name": "R"
    },
    "language_info": {
      "name": "R"
    }
  },
  "cells": [
    {
      "cell_type": "markdown",
      "metadata": {
        "id": "view-in-github",
        "colab_type": "text"
      },
      "source": [
        "<a href=\"https://colab.research.google.com/github/seismosmsr/hawaii_soils/blob/main/Hawaii_Soils_Analysis.ipynb\" target=\"_parent\"><img src=\"https://colab.research.google.com/assets/colab-badge.svg\" alt=\"Open In Colab\"/></a>"
      ]
    },
    {
      "cell_type": "code",
      "execution_count": null,
      "metadata": {
        "colab": {
          "base_uri": "https://localhost:8080/"
        },
        "id": "w3b2Yt1zzBa4",
        "outputId": "d30d8569-c96f-4091-9c4e-ec96698e7785"
      },
      "outputs": [
        {
          "output_type": "stream",
          "name": "stderr",
          "text": [
            "Installing package into ‘/usr/local/lib/R/site-library’\n",
            "(as ‘lib’ is unspecified)\n",
            "\n",
            "also installing the dependencies ‘proxy’, ‘e1071’, ‘wk’, ‘classInt’, ‘Rcpp’, ‘s2’, ‘units’\n",
            "\n",
            "\n"
          ]
        }
      ],
      "source": [
        "install.packages('sf')\n",
        "install.packages('raster')\n",
        "install.packages('exactextractr')\n",
        "install.packages(\"googledrive\")\n",
        "install.packages(\"googletoken\")\n",
        "install.packages(\"DBI\")\n",
        "install.packages(\"RSQLite\")\n",
        "install.packages(\"RPostgreSQL\")\n",
        "install.packages(\"terra\")\n",
        "install.packages('randomForest')"
      ]
    },
    {
      "cell_type": "code",
      "source": [
        "library(ggplot2)\n",
        "library(sf)\n",
        "library(magrittr)\n",
        "library(data.table)\n",
        "library(raster)\n",
        "library(exactextractr)\n",
        "library(googledrive)\n",
        "library(DBI)\n",
        "library(terra)\n",
        "library(randomForest)\n",
        "library(parallel)"
      ],
      "metadata": {
        "id": "Jt8zFz1p0QRy"
      },
      "execution_count": null,
      "outputs": []
    },
    {
      "cell_type": "code",
      "source": [
        "drive_auth(use_oob = TRUE, cache = FALSE)"
      ],
      "metadata": {
        "id": "TIp-5Lr90ULs"
      },
      "execution_count": null,
      "outputs": []
    },
    {
      "cell_type": "code",
      "source": [
        "# https://drive.google.com/file/d/1ryTzWz0t9mgI5ynPvMzM21D135dLJvWv/view?usp=drive_link\n",
        "# Updated: https://drive.google.com/file/d/17c3DJcujQ_0MHirG2z2lSU88A0lvjo1C/view?usp=sharing\n",
        "drive_download(as_id('17c3DJcujQ_0MHirG2z2lSU88A0lvjo1C'), path = paste0('/content/fia.csv'), overwrite = TRUE)\n",
        "fia_dt <-  st_read('/content/fia.csv') %>% st_as_sf(coords = c(\"LON\",\"LAT\"), crs = 4326) %>% data.table"
      ],
      "metadata": {
        "id": "GIyOF5ltSRpq"
      },
      "execution_count": null,
      "outputs": []
    },
    {
      "cell_type": "code",
      "source": [
        "# https://drive.google.com/file/d/1G-qBpO_nzLIHWZQGNyrSutmBonjsrvEJ/view?usp=drive_link\n",
        "drive_download(as_id('1G-qBpO_nzLIHWZQGNyrSutmBonjsrvEJ'), path = \"/content/250_summary_grid_dt.gpkg\", overwrite = TRUE)\n",
        "grid_dt <- st_read(\"/content/250_summary_grid_dt.gpkg\") %>% st_transform(4326) %>% data.table()"
      ],
      "metadata": {
        "id": "6i5eFIGc1vby"
      },
      "execution_count": null,
      "outputs": []
    },
    {
      "cell_type": "code",
      "source": [
        "# Simulation data\n",
        "# https://drive.google.com/file/d/1HsEZDWJN7XO4aOZlMwbr_6MN3_-xUV81/view?usp=drive_link\n",
        "drive_download(file = as_id('1HsEZDWJN7XO4aOZlMwbr_6MN3_-xUV81'), path =  '/content/sim_results_Hawaii_Run6.gpkg', overwrite = TRUE)\n",
        "sim_dt <- st_read( '/content/sim_results_Hawaii_Run6.gpkg') %>% data.table"
      ],
      "metadata": {
        "id": "O0fhKgBSbbbk"
      },
      "execution_count": null,
      "outputs": []
    },
    {
      "cell_type": "code",
      "source": [
        "grid_int_dt  <- fia_dt$geom %>% st_transform(4135) %>% st_buffer(800) %>% st_transform(4326) %>% st_intersects(grid_dt$geom)"
      ],
      "metadata": {
        "id": "0A-fL1krTbA_"
      },
      "execution_count": null,
      "outputs": []
    },
    {
      "cell_type": "code",
      "source": [
        "rm_vec <- grid_int_dt %>% lapply(length) %>% unlist > 0\n",
        "grid_int_dt <- grid_int_dt[rm_vec]\n",
        "fia_dt <- fia_dt[rm_vec,]"
      ],
      "metadata": {
        "id": "isEeYbV1UDV9"
      },
      "execution_count": null,
      "outputs": []
    },
    {
      "cell_type": "code",
      "source": [
        "grid_dt <- grid_dt[!is.na(srad),]"
      ],
      "metadata": {
        "id": "GuKe5EAqAWtK"
      },
      "execution_count": null,
      "outputs": []
    },
    {
      "cell_type": "code",
      "source": [
        "grid_dt$agbd_n <- grid_dt$agbd_n %>% as.numeric"
      ],
      "metadata": {
        "id": "XsFPDjw_BHKX"
      },
      "execution_count": null,
      "outputs": []
    },
    {
      "cell_type": "code",
      "source": [
        "fia_dt$Stock_SOC_Mg_Ha <- fia_dt$Stock_SOC_Mg_Ha %>% as.numeric"
      ],
      "metadata": {
        "id": "Au3xpFsoA2Qz"
      },
      "execution_count": null,
      "outputs": []
    },
    {
      "cell_type": "code",
      "source": [
        "sim_dt %>% names"
      ],
      "metadata": {
        "id": "qumOZBUZ7d_T"
      },
      "execution_count": null,
      "outputs": []
    },
    {
      "cell_type": "code",
      "source": [
        "sim_dt[,z:=(predicted-Stock_SOC_Mg_Ha)/Stock_SOC_Mg_Ha]"
      ],
      "metadata": {
        "id": "ykTLK7Zfvb_Y"
      },
      "execution_count": null,
      "outputs": []
    },
    {
      "cell_type": "code",
      "source": [
        "sim_dt[,residual_per:=(predicted-Stock_SOC_Mg_Ha)/Stock_SOC_Mg_Ha]"
      ],
      "metadata": {
        "id": "qozeGGhyeNR6"
      },
      "execution_count": null,
      "outputs": []
    },
    {
      "cell_type": "code",
      "source": [
        "sim_dt[id==2831164]$Stock_SOC_Mg_Ha %>% qplot(bins=100)\n",
        "\n",
        "sim_dt[id==2831164 & z > -0.05 &z<0.05]$predicted %>% qplot(geom='density')"
      ],
      "metadata": {
        "id": "4Vplh_bzvy2V"
      },
      "execution_count": null,
      "outputs": []
    },
    {
      "cell_type": "code",
      "source": [
        "sim_summary_dt <- sim_dt[,list(length = length(r2),length_05 = length(r2[sqrt((z)^2) <0.05]),geom=unique(geom)),by=.(id,PLOT)]"
      ],
      "metadata": {
        "id": "dQe6TcWmQE9z"
      },
      "execution_count": null,
      "outputs": []
    },
    {
      "cell_type": "code",
      "source": [
        "# sim_summary_dt\n",
        "sim_summary_dt[PLOT==5289]$length_05 %>% qplot"
      ],
      "metadata": {
        "id": "8ety8b9EirDE"
      },
      "execution_count": null,
      "outputs": []
    },
    {
      "cell_type": "code",
      "source": [
        "sim_summary_dt %>% st_as_sf %>% st_write('sim_summary_id_plot.gpkg',delete_dsn = T)"
      ],
      "metadata": {
        "id": "t7KCfekdwa45"
      },
      "execution_count": null,
      "outputs": []
    },
    {
      "cell_type": "code",
      "source": [
        "# sim_summary_dt"
      ],
      "metadata": {
        "id": "yAX3_EM4qYAH"
      },
      "execution_count": null,
      "outputs": []
    },
    {
      "cell_type": "code",
      "source": [
        "sim_summary_dt %>%\n",
        "  ggplot(aes(x= length_05/length)) +\n",
        "  geom_histogram(bins=16)\n",
        "    # geom_smooth(method = 'lm')"
      ],
      "metadata": {
        "id": "e5o3fWrF3dDV"
      },
      "execution_count": null,
      "outputs": []
    },
    {
      "cell_type": "code",
      "source": [
        "sim_summary_dt[max(length_05/length)*.8 < length_05/length][order(length_05/length)]"
      ],
      "metadata": {
        "id": "UmZDLM3unJbe"
      },
      "execution_count": null,
      "outputs": []
    },
    {
      "cell_type": "code",
      "source": [
        "names(sim_dt)[39:68]"
      ],
      "metadata": {
        "id": "fWXNIf020Rg1"
      },
      "execution_count": null,
      "outputs": []
    },
    {
      "cell_type": "code",
      "source": [
        "sim_dt[,good:=abs(residual_per) < 0.1]"
      ],
      "metadata": {
        "id": "Qhln_EvwrHPH"
      },
      "execution_count": null,
      "outputs": []
    },
    {
      "cell_type": "code",
      "source": [
        "# sim_dt$id %>% table"
      ],
      "metadata": {
        "id": "CoEJZXgdrK5v"
      },
      "execution_count": null,
      "outputs": []
    },
    {
      "cell_type": "code",
      "source": [
        "names(sim_dt)[39:68] %>% lapply(function(x){\n",
        "t.test(sim_dt[id ==2957662  & abs(residual_per) < 0.5 ][[x]],\n",
        "sim_dt[id ==2957662  & abs(residual_per) >= 0.5 ][[x]])$p.value})\n"
      ],
      "metadata": {
        "id": "v8yi1hmWqcsd"
      },
      "execution_count": null,
      "outputs": []
    },
    {
      "cell_type": "code",
      "source": [
        "(sim_dt %>% names)[40:69]"
      ],
      "metadata": {
        "id": "55HRclaRCkNj"
      },
      "execution_count": null,
      "outputs": []
    },
    {
      "cell_type": "code",
      "source": [
        " var_imp_dt<- sim_dt[ ][\n",
        "  , .(p_value = lapply(.SD, function(x) {\n",
        "    if(length(x[abs(z) < 0.05])>3 &length(x[abs(z) >= 0.05])>3 ){\n",
        "      t.test(x[abs(z) < 0.05],\n",
        "             x[abs(z) >= 0.05])$p.value\n",
        "             }else(return(NA))\n",
        "\n",
        "    }) ,\n",
        "      variable = names(sim_dt)[39:69])\n",
        "  , by = .(PLOT)\n",
        "  , .SDcols = 39:69\n",
        "]\n",
        "var_imp_dt$p_value <- var_imp_dt$p_value %>% unlist"
      ],
      "metadata": {
        "id": "jSxwz78hCaIo"
      },
      "execution_count": null,
      "outputs": []
    },
    {
      "cell_type": "code",
      "source": [],
      "metadata": {
        "id": "3yklCqfZoTKA"
      },
      "execution_count": null,
      "outputs": []
    },
    {
      "cell_type": "code",
      "source": [
        "# out_dt <- data.table(var_imp_dt,sim_summary_dt[match(var_imp_dt$id,sim_summary_dt$id)])\n",
        "out_dt <- data.table(var_imp_dt,fia_dt[,c('geometry')][match(var_imp_dt$PLOT,fia_dt$PLOT)])"
      ],
      "metadata": {
        "id": "tDSLomPaFBt4"
      },
      "execution_count": null,
      "outputs": []
    },
    {
      "cell_type": "code",
      "source": [
        "out_dt[,bonferroni:=p_value*30]"
      ],
      "metadata": {
        "id": "2QPXHgSxppws"
      },
      "execution_count": null,
      "outputs": []
    },
    {
      "cell_type": "code",
      "source": [
        "out_dt$p_value <- out_dt$p_value %>% unlist"
      ],
      "metadata": {
        "id": "9MSkigkuGEUG"
      },
      "execution_count": null,
      "outputs": []
    },
    {
      "cell_type": "code",
      "source": [],
      "metadata": {
        "id": "KxGVgkMqrSMj"
      },
      "execution_count": null,
      "outputs": []
    },
    {
      "cell_type": "code",
      "source": [
        "short_out_dt <- dcast(out_dt, PLOT  ~ variable,value.var='bonferroni', drop=FALSE)\n",
        "short_out_dt <- data.table(short_out_dt,fia_dt[,c('geometry')][match(short_out_dt$PLOT,fia_dt$PLOT)])"
      ],
      "metadata": {
        "id": "0mOkIF47rJPU"
      },
      "execution_count": null,
      "outputs": []
    },
    {
      "cell_type": "code",
      "source": [
        "names(short_out_dt)"
      ],
      "metadata": {
        "id": "0KA7fcV3wVH9"
      },
      "execution_count": null,
      "outputs": []
    },
    {
      "cell_type": "code",
      "source": [
        "cols_to_consider <- names(short_out_dt)[]\n",
        "\n",
        "\n",
        "# Assuming 'short_out_dt' is your data.table\n",
        "# Define the columns you want to consider for finding the max value by their indices\n",
        "cols_to_consider_indices <- 3:(ncol(short_out_dt)-1) # Replace with actual indices of Var3, Var5, Var7\n",
        "short_out_dt$max_col <-\n",
        "1:nrow(short_out_dt) %>% lapply(function(x){\n",
        "if(is.na(short_out_dt[x,cols_to_consider_indices,with=F] %>% unlist) %>% all){return(NA)}\n",
        "short_out_dt[x,cols_to_consider_indices,with=F] %>% unlist %>% which.min( ) %>% names}) %>% unlist"
      ],
      "metadata": {
        "id": "eEeHNqq5sQiQ"
      },
      "execution_count": null,
      "outputs": []
    },
    {
      "cell_type": "code",
      "source": [
        "short_out_dt %>% st_write('max_col_p.gpkg')"
      ],
      "metadata": {
        "id": "vJhqaw2SyWg3"
      },
      "execution_count": null,
      "outputs": []
    },
    {
      "cell_type": "code",
      "source": [
        "short_out_dt"
      ],
      "metadata": {
        "id": "vh8jc2vQw0fR"
      },
      "execution_count": null,
      "outputs": []
    },
    {
      "cell_type": "code",
      "source": [
        "short_out_dt %>%\n",
        "  ggplot(aes(x=1:nrow(short_out_dt),y=soil))+\n",
        "  geom_line()"
      ],
      "metadata": {
        "id": "mx2dDqIMwmH6"
      },
      "execution_count": null,
      "outputs": []
    },
    {
      "cell_type": "code",
      "source": [
        "out_dt[bonferroni <= .05]$variable %>% table"
      ],
      "metadata": {
        "id": "5AP6xor8JZ55"
      },
      "execution_count": null,
      "outputs": []
    },
    {
      "cell_type": "code",
      "source": [],
      "metadata": {
        "id": "j5zr7_HMp3ZP"
      },
      "execution_count": null,
      "outputs": []
    },
    {
      "cell_type": "code",
      "source": [
        "out_dt[bonferroni<= 0.1] %>%\n",
        "  ggplot(aes(x= variable %>% factor))+\n",
        "  geom_bar()\n",
        "  # geom_smooth(method='lm')"
      ],
      "metadata": {
        "id": "R2Gs7h8_Rk5V"
      },
      "execution_count": null,
      "outputs": []
    },
    {
      "cell_type": "code",
      "source": [
        "data.table(out_dt) %>% st_as_sf() %>% st_write('/content/plot_sig_variables.gpkg',delete_dsn=T)"
      ],
      "metadata": {
        "id": "5ilpqA4nE-f3"
      },
      "execution_count": null,
      "outputs": []
    },
    {
      "cell_type": "code",
      "source": [
        "# sim_dt[id ==2222069  ]\n",
        "# 1850844\n",
        "# sqrt(((Stock_SOC_Mg_Ha-predicted)/Stock_SOC_Mg_Ha)^2)<0.05\n",
        "sim_dt[id ==2952969  & sqrt(((Stock_SOC_Mg_Ha-predicted)/Stock_SOC_Mg_Ha)^2)<0.05] %>%\n",
        "  ggplot(aes(x=Stock_SOC_Mg_Ha)) +\n",
        "  geom_histogram()\n",
        "  # print()"
      ],
      "metadata": {
        "id": "FB2Kru8Fcdpi"
      },
      "execution_count": null,
      "outputs": []
    },
    {
      "cell_type": "code",
      "source": [
        "sim_dt %>%\n",
        "  ggplot(aes(y=Stock_SOC_Mg_Ha,x=r2))+\n",
        "    geom_bin2d()\n",
        "    # geom_smooth()"
      ],
      "metadata": {
        "id": "Kdno5JZ0Yev5"
      },
      "execution_count": null,
      "outputs": []
    },
    {
      "cell_type": "code",
      "source": [
        "# Load the necessary library\n",
        "library(repr)\n",
        "\n",
        "# Adjust width and height of plots\n",
        "options(repr.plot.width=20, repr.plot.height=8)"
      ],
      "metadata": {
        "id": "ysaNMETsScgE"
      },
      "execution_count": null,
      "outputs": []
    },
    {
      "cell_type": "code",
      "source": [],
      "metadata": {
        "id": "qsoXgH7N44kI"
      },
      "execution_count": null,
      "outputs": []
    }
  ]
}