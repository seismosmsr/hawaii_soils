{
  "nbformat": 4,
  "nbformat_minor": 0,
  "metadata": {
    "colab": {
      "provenance": [],
      "machine_shape": "hm",
      "authorship_tag": "ABX9TyMzjeLzgsyYfb+B9baRMD+P",
      "include_colab_link": true
    },
    "kernelspec": {
      "name": "ir",
      "display_name": "R"
    },
    "language_info": {
      "name": "R"
    }
  },
  "cells": [
    {
      "cell_type": "markdown",
      "metadata": {
        "id": "view-in-github",
        "colab_type": "text"
      },
      "source": [
        "<a href=\"https://colab.research.google.com/github/seismosmsr/hawaii_soils/blob/main/Hawaii_Soils_Analysis.ipynb\" target=\"_parent\"><img src=\"https://colab.research.google.com/assets/colab-badge.svg\" alt=\"Open In Colab\"/></a>"
      ]
    },
    {
      "cell_type": "code",
      "execution_count": 1,
      "metadata": {
        "colab": {
          "base_uri": "https://localhost:8080/"
        },
        "id": "w3b2Yt1zzBa4",
        "outputId": "be444c97-1718-41dc-b8ce-a48c7ffb2823"
      },
      "outputs": [
        {
          "output_type": "stream",
          "name": "stderr",
          "text": [
            "Installing package into ‘/usr/local/lib/R/site-library’\n",
            "(as ‘lib’ is unspecified)\n",
            "\n",
            "also installing the dependencies ‘proxy’, ‘e1071’, ‘wk’, ‘classInt’, ‘Rcpp’, ‘s2’, ‘units’\n",
            "\n",
            "\n",
            "Installing package into ‘/usr/local/lib/R/site-library’\n",
            "(as ‘lib’ is unspecified)\n",
            "\n",
            "also installing the dependencies ‘sp’, ‘terra’\n",
            "\n",
            "\n",
            "Installing package into ‘/usr/local/lib/R/site-library’\n",
            "(as ‘lib’ is unspecified)\n",
            "\n",
            "Installing package into ‘/usr/local/lib/R/site-library’\n",
            "(as ‘lib’ is unspecified)\n",
            "\n",
            "Installing package into ‘/usr/local/lib/R/site-library’\n",
            "(as ‘lib’ is unspecified)\n",
            "\n",
            "Warning message:\n",
            "“package ‘googletoken’ is not available for this version of R\n",
            "\n",
            "A version of this package for your version of R might be available elsewhere,\n",
            "see the ideas at\n",
            "https://cran.r-project.org/doc/manuals/r-patched/R-admin.html#Installing-packages”\n",
            "Installing package into ‘/usr/local/lib/R/site-library’\n",
            "(as ‘lib’ is unspecified)\n",
            "\n",
            "Installing package into ‘/usr/local/lib/R/site-library’\n",
            "(as ‘lib’ is unspecified)\n",
            "\n",
            "also installing the dependency ‘plogr’\n",
            "\n",
            "\n",
            "Installing package into ‘/usr/local/lib/R/site-library’\n",
            "(as ‘lib’ is unspecified)\n",
            "\n",
            "Installing package into ‘/usr/local/lib/R/site-library’\n",
            "(as ‘lib’ is unspecified)\n",
            "\n",
            "Installing package into ‘/usr/local/lib/R/site-library’\n",
            "(as ‘lib’ is unspecified)\n",
            "\n"
          ]
        }
      ],
      "source": [
        "install.packages('sf')\n",
        "install.packages('raster')\n",
        "install.packages('exactextractr')\n",
        "install.packages(\"googledrive\")\n",
        "install.packages(\"googletoken\")\n",
        "install.packages(\"DBI\")\n",
        "install.packages(\"RSQLite\")\n",
        "install.packages(\"RPostgreSQL\")\n",
        "install.packages(\"terra\")\n",
        "install.packages('randomForest')"
      ]
    },
    {
      "cell_type": "code",
      "source": [
        "library(ggplot2)\n",
        "library(sf)\n",
        "library(magrittr)\n",
        "library(data.table)\n",
        "library(raster)\n",
        "library(exactextractr)\n",
        "library(googledrive)\n",
        "library(DBI)\n",
        "library(terra)\n",
        "library(randomForest)\n",
        "library(parallel)"
      ],
      "metadata": {
        "id": "Jt8zFz1p0QRy",
        "outputId": "4624af4a-5816-43c3-c9dd-321a0812ed3b",
        "colab": {
          "base_uri": "https://localhost:8080/"
        }
      },
      "execution_count": 2,
      "outputs": [
        {
          "output_type": "stream",
          "name": "stderr",
          "text": [
            "Linking to GEOS 3.10.2, GDAL 3.4.3, PROJ 8.2.1; sf_use_s2() is TRUE\n",
            "\n",
            "Loading required package: sp\n",
            "\n",
            "terra 1.7.55\n",
            "\n",
            "\n",
            "Attaching package: ‘terra’\n",
            "\n",
            "\n",
            "The following object is masked from ‘package:data.table’:\n",
            "\n",
            "    shift\n",
            "\n",
            "\n",
            "The following objects are masked from ‘package:magrittr’:\n",
            "\n",
            "    extract, inset\n",
            "\n",
            "\n",
            "randomForest 4.7-1.1\n",
            "\n",
            "Type rfNews() to see new features/changes/bug fixes.\n",
            "\n",
            "\n",
            "Attaching package: ‘randomForest’\n",
            "\n",
            "\n",
            "The following object is masked from ‘package:ggplot2’:\n",
            "\n",
            "    margin\n",
            "\n",
            "\n"
          ]
        }
      ]
    },
    {
      "cell_type": "code",
      "source": [
        "drive_auth(use_oob = TRUE, cache = FALSE)"
      ],
      "metadata": {
        "id": "TIp-5Lr90ULs",
        "outputId": "c4852797-85e6-4d45-8924-92170e0bfe31",
        "colab": {
          "base_uri": "https://localhost:8080/"
        }
      },
      "execution_count": 3,
      "outputs": [
        {
          "output_type": "stream",
          "name": "stderr",
          "text": [
            "Please point your browser to the following url: \n",
            "\n",
            "https://accounts.google.com/o/oauth2/v2/auth?client_id=603366585132-frjlouoa3s2ono25d2l9ukvhlsrlnr7k.apps.googleusercontent.com&scope=https%3A%2F%2Fwww.googleapis.com%2Fauth%2Fdrive%20https%3A%2F%2Fwww.googleapis.com%2Fauth%2Fuserinfo.email&redirect_uri=https%3A%2F%2Fwww.tidyverse.org%2Fgoogle-callback%2F&response_type=code&state=fd46cceaf6c2143476a52d1b80b6c80f&access_type=offline&prompt=consent\n",
            "\n"
          ]
        },
        {
          "name": "stdout",
          "output_type": "stream",
          "text": [
            "Enter authorization code: eyJjb2RlIjoiNC8wQWZKb2hYblZIVmxzOHBNTXFORmRZMG12VXZYWUFZU3FCNDFMdjNlTVpyQ0MweGs2UkQ5czVsTXNWZERNdW9rc3drWG1pdyIsInN0YXRlIjoiZmQ0NmNjZWFmNmMyMTQzNDc2YTUyZDFiODBiNmM4MGYifQ==\n"
          ]
        }
      ]
    },
    {
      "cell_type": "code",
      "source": [
        "# https://drive.google.com/file/d/1ryTzWz0t9mgI5ynPvMzM21D135dLJvWv/view?usp=drive_link\n",
        "# Updated: https://drive.google.com/file/d/17c3DJcujQ_0MHirG2z2lSU88A0lvjo1C/view?usp=sharing\n",
        "drive_download(as_id('17c3DJcujQ_0MHirG2z2lSU88A0lvjo1C'), path = paste0('/content/fia.csv'), overwrite = TRUE)\n",
        "fia_dt <-  st_read('/content/fia.csv') %>% st_as_sf(coords = c(\"LON\",\"LAT\"), crs = 4326) %>% data.table"
      ],
      "metadata": {
        "id": "GIyOF5ltSRpq",
        "outputId": "671b6eef-47b4-427a-d05b-9f1e052f095b",
        "colab": {
          "base_uri": "https://localhost:8080/"
        }
      },
      "execution_count": 4,
      "outputs": [
        {
          "output_type": "stream",
          "name": "stderr",
          "text": [
            "File downloaded:\n",
            "\n",
            "• \u001b[36m2023_11_01FIA_soil_subset.csv\u001b[39m \u001b[90m<id: 17c3DJcujQ_0MHirG2z2lSU88A0lvjo1C>\u001b[39m\n",
            "\n",
            "Saved locally as:\n",
            "\n",
            "• \u001b[34m/content/fia.csv\u001b[39m\n",
            "\n"
          ]
        },
        {
          "output_type": "stream",
          "name": "stdout",
          "text": [
            "Reading layer `fia' from data source `/content/fia.csv' using driver `CSV'\n"
          ]
        },
        {
          "output_type": "stream",
          "name": "stderr",
          "text": [
            "Warning message:\n",
            "“no simple feature geometries present: returning a data.frame or tbl_df”\n"
          ]
        }
      ]
    },
    {
      "cell_type": "code",
      "source": [
        "# https://drive.google.com/file/d/1G-qBpO_nzLIHWZQGNyrSutmBonjsrvEJ/view?usp=drive_link\n",
        "drive_download(as_id('1G-qBpO_nzLIHWZQGNyrSutmBonjsrvEJ'), path = \"/content/250_summary_grid_dt.gpkg\", overwrite = TRUE)\n",
        "grid_dt <- st_read(\"/content/250_summary_grid_dt.gpkg\") %>% st_transform(4326) %>% data.table()"
      ],
      "metadata": {
        "id": "6i5eFIGc1vby",
        "outputId": "3d1aa9b8-e0af-43e7-b0e2-4273a7237cfc",
        "colab": {
          "base_uri": "https://localhost:8080/"
        }
      },
      "execution_count": 5,
      "outputs": [
        {
          "output_type": "stream",
          "name": "stderr",
          "text": [
            "File downloaded:\n",
            "\n",
            "• \u001b[36m250_summary_grid_full_dt.gpkg\u001b[39m \u001b[90m<id: 1G-qBpO_nzLIHWZQGNyrSutmBonjsrvEJ>\u001b[39m\n",
            "\n",
            "Saved locally as:\n",
            "\n",
            "• \u001b[34m/content/250_summary_grid_dt.gpkg\u001b[39m\n",
            "\n"
          ]
        },
        {
          "output_type": "stream",
          "name": "stdout",
          "text": [
            "Reading layer `250_summary_grid_full_dt' from data source \n",
            "  `/content/250_summary_grid_dt.gpkg' using driver `GPKG'\n",
            "Simple feature collection with 227561 features and 35 fields\n",
            "Geometry type: POINT\n",
            "Dimension:     XY\n",
            "Bounding box:  xmin: 57161.36 ymin: 16952.32 xmax: 572661.4 ymax: 381202.3\n",
            "Projected CRS: NAD_1983_HARN_StatePlane_Hawaii_1_FIPS_5101\n"
          ]
        }
      ]
    },
    {
      "cell_type": "code",
      "source": [
        "# Simulation data\n",
        "# https://drive.google.com/file/d/105vjlgvPz7DAww1kg4a6amn40Tr6Q9Vy/view?usp=drive_link\n",
        "# https://drive.google.com/file/d/1KOVWV-sLKNsL5d9GowxF_3EQAo87r_Lp/view?usp=drive_link 800 meter\n",
        "drive_download(file = as_id('105vjlgvPz7DAww1kg4a6amn40Tr6Q9Vy'), path =  '/content/sim_results_Hawaii_Run6.gpkg', overwrite = TRUE)\n",
        "sim_dt <- st_read( '/content/sim_results_Hawaii_Run6.gpkg') %>% data.table"
      ],
      "metadata": {
        "id": "O0fhKgBSbbbk",
        "outputId": "04e9a74b-15a8-4d59-fb26-d028f9d426dc",
        "colab": {
          "base_uri": "https://localhost:8080/"
        }
      },
      "execution_count": 14,
      "outputs": [
        {
          "output_type": "stream",
          "name": "stderr",
          "text": [
            "File downloaded:\n",
            "\n",
            "• \u001b[36msim_results_Hawaii_Run7.gpkg\u001b[39m \u001b[90m<id: 105vjlgvPz7DAww1kg4a6amn40Tr6Q9Vy>\u001b[39m\n",
            "\n",
            "Saved locally as:\n",
            "\n",
            "• \u001b[34m/content/sim_results_Hawaii_Run6.gpkg\u001b[39m\n",
            "\n"
          ]
        },
        {
          "output_type": "stream",
          "name": "stdout",
          "text": [
            "Reading layer `sim_results_Hawaii_Run7' from data source \n",
            "  `/content/sim_results_Hawaii_Run6.gpkg' using driver `GPKG'\n",
            "Simple feature collection with 6092469 features and 69 fields\n",
            "Geometry type: POINT\n",
            "Dimension:     XY\n",
            "Bounding box:  xmin: -156.0017 ymin: 19.0045 xmax: -154.8362 ymax: 20.25088\n",
            "Geodetic CRS:  WGS 84\n"
          ]
        }
      ]
    },
    {
      "cell_type": "code",
      "source": [
        "grid_int_dt  <- fia_dt$geom %>% st_transform(4135) %>% st_buffer(800) %>% st_transform(4326) %>% st_intersects(grid_dt$geom)"
      ],
      "metadata": {
        "id": "0A-fL1krTbA_"
      },
      "execution_count": 7,
      "outputs": []
    },
    {
      "cell_type": "code",
      "source": [
        "rm_vec <- grid_int_dt %>% lapply(length) %>% unlist > 0\n",
        "grid_int_dt <- grid_int_dt[rm_vec]\n",
        "fia_dt <- fia_dt[rm_vec,]"
      ],
      "metadata": {
        "id": "isEeYbV1UDV9"
      },
      "execution_count": 8,
      "outputs": []
    },
    {
      "cell_type": "code",
      "source": [
        "grid_dt <- grid_dt[!is.na(srad),]"
      ],
      "metadata": {
        "id": "GuKe5EAqAWtK"
      },
      "execution_count": 9,
      "outputs": []
    },
    {
      "cell_type": "code",
      "source": [
        "grid_dt$agbd_n <- grid_dt$agbd_n %>% as.numeric"
      ],
      "metadata": {
        "id": "XsFPDjw_BHKX"
      },
      "execution_count": 10,
      "outputs": []
    },
    {
      "cell_type": "code",
      "source": [
        "fia_dt$Stock_SOC_Mg_Ha <- fia_dt$Stock_SOC_Mg_Ha %>% as.numeric"
      ],
      "metadata": {
        "id": "Au3xpFsoA2Qz",
        "outputId": "35bfa883-e1df-4e9e-f66c-1aecb2cba5c7",
        "colab": {
          "base_uri": "https://localhost:8080/"
        }
      },
      "execution_count": 11,
      "outputs": [
        {
          "output_type": "stream",
          "name": "stderr",
          "text": [
            "Warning message in fia_dt$Stock_SOC_Mg_Ha %>% as.numeric:\n",
            "“NAs introduced by coercion”\n"
          ]
        }
      ]
    },
    {
      "cell_type": "code",
      "source": [
        "sim_dt %>% names"
      ],
      "metadata": {
        "id": "qumOZBUZ7d_T",
        "outputId": "088990ba-0cef-44c9-961f-df472a0933ad",
        "colab": {
          "base_uri": "https://localhost:8080/",
          "height": 173
        }
      },
      "execution_count": 15,
      "outputs": [
        {
          "output_type": "display_data",
          "data": {
            "text/html": [
              "<style>\n",
              ".list-inline {list-style: none; margin:0; padding: 0}\n",
              ".list-inline>li {display: inline-block}\n",
              ".list-inline>li:not(:last-child)::after {content: \"\\00b7\"; padding: 0 .5ex}\n",
              "</style>\n",
              "<ol class=list-inline><li>'PLOT'</li><li>'Stock_SOC_Mg_Ha'</li><li>'id'</li><li>'left'</li><li>'top'</li><li>'right'</li><li>'bottom'</li><li>'water'</li><li>'trees'</li><li>'grass'</li><li>'flooded_vegetation'</li><li>'crops'</li><li>'shrub_and_scrub'</li><li>'built'</li><li>'bare'</li><li>'snow_and_ice'</li><li>'max'</li><li>'elevation'</li><li>'landform'</li><li>'SRTM_mTPI'</li><li>'aet'</li><li>'def'</li><li>'pdsi'</li><li>'pet'</li><li>'pr'</li><li>'ro'</li><li>'soil'</li><li>'srad'</li><li>'swe'</li><li>'tmmn'</li><li>'tmmx'</li><li>'vap'</li><li>'vpd'</li><li>'vs'</li><li>'agbd_m'</li><li>'agbd_sd'</li><li>'agbd_n'</li><li>'predicted'</li><li>'var_imp_water'</li><li>'var_imp_trees'</li><li>'var_imp_grass'</li><li>'var_imp_flooded_vegetation'</li><li>'var_imp_crops'</li><li>'var_imp_shrub_and_scrub'</li><li>'var_imp_built'</li><li>'var_imp_bare'</li><li>'var_imp_snow_and_ice'</li><li>'var_imp_max'</li><li>'var_imp_elevation'</li><li>'var_imp_landform'</li><li>'var_imp_SRTM_mTPI'</li><li>'var_imp_aet'</li><li>'var_imp_def'</li><li>'var_imp_pdsi'</li><li>'var_imp_pet'</li><li>'var_imp_pr'</li><li>'var_imp_ro'</li><li>'var_imp_soil'</li><li>'var_imp_srad'</li><li>'var_imp_swe'</li><li>'var_imp_tmmn'</li><li>'var_imp_tmmx'</li><li>'var_imp_vap'</li><li>'var_imp_vpd'</li><li>'var_imp_vs'</li><li>'var_imp_agbd_m'</li><li>'var_imp_agbd_sd'</li><li>'var_imp_agbd_n'</li><li>'r2'</li><li>'geom'</li></ol>\n"
            ],
            "text/markdown": "1. 'PLOT'\n2. 'Stock_SOC_Mg_Ha'\n3. 'id'\n4. 'left'\n5. 'top'\n6. 'right'\n7. 'bottom'\n8. 'water'\n9. 'trees'\n10. 'grass'\n11. 'flooded_vegetation'\n12. 'crops'\n13. 'shrub_and_scrub'\n14. 'built'\n15. 'bare'\n16. 'snow_and_ice'\n17. 'max'\n18. 'elevation'\n19. 'landform'\n20. 'SRTM_mTPI'\n21. 'aet'\n22. 'def'\n23. 'pdsi'\n24. 'pet'\n25. 'pr'\n26. 'ro'\n27. 'soil'\n28. 'srad'\n29. 'swe'\n30. 'tmmn'\n31. 'tmmx'\n32. 'vap'\n33. 'vpd'\n34. 'vs'\n35. 'agbd_m'\n36. 'agbd_sd'\n37. 'agbd_n'\n38. 'predicted'\n39. 'var_imp_water'\n40. 'var_imp_trees'\n41. 'var_imp_grass'\n42. 'var_imp_flooded_vegetation'\n43. 'var_imp_crops'\n44. 'var_imp_shrub_and_scrub'\n45. 'var_imp_built'\n46. 'var_imp_bare'\n47. 'var_imp_snow_and_ice'\n48. 'var_imp_max'\n49. 'var_imp_elevation'\n50. 'var_imp_landform'\n51. 'var_imp_SRTM_mTPI'\n52. 'var_imp_aet'\n53. 'var_imp_def'\n54. 'var_imp_pdsi'\n55. 'var_imp_pet'\n56. 'var_imp_pr'\n57. 'var_imp_ro'\n58. 'var_imp_soil'\n59. 'var_imp_srad'\n60. 'var_imp_swe'\n61. 'var_imp_tmmn'\n62. 'var_imp_tmmx'\n63. 'var_imp_vap'\n64. 'var_imp_vpd'\n65. 'var_imp_vs'\n66. 'var_imp_agbd_m'\n67. 'var_imp_agbd_sd'\n68. 'var_imp_agbd_n'\n69. 'r2'\n70. 'geom'\n\n\n",
            "text/latex": "\\begin{enumerate*}\n\\item 'PLOT'\n\\item 'Stock\\_SOC\\_Mg\\_Ha'\n\\item 'id'\n\\item 'left'\n\\item 'top'\n\\item 'right'\n\\item 'bottom'\n\\item 'water'\n\\item 'trees'\n\\item 'grass'\n\\item 'flooded\\_vegetation'\n\\item 'crops'\n\\item 'shrub\\_and\\_scrub'\n\\item 'built'\n\\item 'bare'\n\\item 'snow\\_and\\_ice'\n\\item 'max'\n\\item 'elevation'\n\\item 'landform'\n\\item 'SRTM\\_mTPI'\n\\item 'aet'\n\\item 'def'\n\\item 'pdsi'\n\\item 'pet'\n\\item 'pr'\n\\item 'ro'\n\\item 'soil'\n\\item 'srad'\n\\item 'swe'\n\\item 'tmmn'\n\\item 'tmmx'\n\\item 'vap'\n\\item 'vpd'\n\\item 'vs'\n\\item 'agbd\\_m'\n\\item 'agbd\\_sd'\n\\item 'agbd\\_n'\n\\item 'predicted'\n\\item 'var\\_imp\\_water'\n\\item 'var\\_imp\\_trees'\n\\item 'var\\_imp\\_grass'\n\\item 'var\\_imp\\_flooded\\_vegetation'\n\\item 'var\\_imp\\_crops'\n\\item 'var\\_imp\\_shrub\\_and\\_scrub'\n\\item 'var\\_imp\\_built'\n\\item 'var\\_imp\\_bare'\n\\item 'var\\_imp\\_snow\\_and\\_ice'\n\\item 'var\\_imp\\_max'\n\\item 'var\\_imp\\_elevation'\n\\item 'var\\_imp\\_landform'\n\\item 'var\\_imp\\_SRTM\\_mTPI'\n\\item 'var\\_imp\\_aet'\n\\item 'var\\_imp\\_def'\n\\item 'var\\_imp\\_pdsi'\n\\item 'var\\_imp\\_pet'\n\\item 'var\\_imp\\_pr'\n\\item 'var\\_imp\\_ro'\n\\item 'var\\_imp\\_soil'\n\\item 'var\\_imp\\_srad'\n\\item 'var\\_imp\\_swe'\n\\item 'var\\_imp\\_tmmn'\n\\item 'var\\_imp\\_tmmx'\n\\item 'var\\_imp\\_vap'\n\\item 'var\\_imp\\_vpd'\n\\item 'var\\_imp\\_vs'\n\\item 'var\\_imp\\_agbd\\_m'\n\\item 'var\\_imp\\_agbd\\_sd'\n\\item 'var\\_imp\\_agbd\\_n'\n\\item 'r2'\n\\item 'geom'\n\\end{enumerate*}\n",
            "text/plain": [
              " [1] \"PLOT\"                       \"Stock_SOC_Mg_Ha\"           \n",
              " [3] \"id\"                         \"left\"                      \n",
              " [5] \"top\"                        \"right\"                     \n",
              " [7] \"bottom\"                     \"water\"                     \n",
              " [9] \"trees\"                      \"grass\"                     \n",
              "[11] \"flooded_vegetation\"         \"crops\"                     \n",
              "[13] \"shrub_and_scrub\"            \"built\"                     \n",
              "[15] \"bare\"                       \"snow_and_ice\"              \n",
              "[17] \"max\"                        \"elevation\"                 \n",
              "[19] \"landform\"                   \"SRTM_mTPI\"                 \n",
              "[21] \"aet\"                        \"def\"                       \n",
              "[23] \"pdsi\"                       \"pet\"                       \n",
              "[25] \"pr\"                         \"ro\"                        \n",
              "[27] \"soil\"                       \"srad\"                      \n",
              "[29] \"swe\"                        \"tmmn\"                      \n",
              "[31] \"tmmx\"                       \"vap\"                       \n",
              "[33] \"vpd\"                        \"vs\"                        \n",
              "[35] \"agbd_m\"                     \"agbd_sd\"                   \n",
              "[37] \"agbd_n\"                     \"predicted\"                 \n",
              "[39] \"var_imp_water\"              \"var_imp_trees\"             \n",
              "[41] \"var_imp_grass\"              \"var_imp_flooded_vegetation\"\n",
              "[43] \"var_imp_crops\"              \"var_imp_shrub_and_scrub\"   \n",
              "[45] \"var_imp_built\"              \"var_imp_bare\"              \n",
              "[47] \"var_imp_snow_and_ice\"       \"var_imp_max\"               \n",
              "[49] \"var_imp_elevation\"          \"var_imp_landform\"          \n",
              "[51] \"var_imp_SRTM_mTPI\"          \"var_imp_aet\"               \n",
              "[53] \"var_imp_def\"                \"var_imp_pdsi\"              \n",
              "[55] \"var_imp_pet\"                \"var_imp_pr\"                \n",
              "[57] \"var_imp_ro\"                 \"var_imp_soil\"              \n",
              "[59] \"var_imp_srad\"               \"var_imp_swe\"               \n",
              "[61] \"var_imp_tmmn\"               \"var_imp_tmmx\"              \n",
              "[63] \"var_imp_vap\"                \"var_imp_vpd\"               \n",
              "[65] \"var_imp_vs\"                 \"var_imp_agbd_m\"            \n",
              "[67] \"var_imp_agbd_sd\"            \"var_imp_agbd_n\"            \n",
              "[69] \"r2\"                         \"geom\"                      "
            ]
          },
          "metadata": {}
        }
      ]
    },
    {
      "cell_type": "code",
      "source": [
        "sim_dt[,z:=(predicted-Stock_SOC_Mg_Ha)/Stock_SOC_Mg_Ha]"
      ],
      "metadata": {
        "id": "ykTLK7Zfvb_Y"
      },
      "execution_count": 16,
      "outputs": []
    },
    {
      "cell_type": "code",
      "source": [
        "sim_dt[,residual_per:=(predicted-Stock_SOC_Mg_Ha)/Stock_SOC_Mg_Ha]"
      ],
      "metadata": {
        "id": "qozeGGhyeNR6"
      },
      "execution_count": 17,
      "outputs": []
    },
    {
      "cell_type": "code",
      "source": [
        "sim_dt[id==2831164]$Stock_SOC_Mg_Ha %>% qplot(bins=100)\n",
        "\n",
        "sim_dt[id==2831164 & z > -0.05 &z<0.05]$predicted %>% qplot(geom='density')"
      ],
      "metadata": {
        "id": "4Vplh_bzvy2V",
        "outputId": "e6329f22-08b9-4b58-d9b4-754b70e138b4",
        "colab": {
          "base_uri": "https://localhost:8080/",
          "height": 857
        }
      },
      "execution_count": 49,
      "outputs": [
        {
          "output_type": "display_data",
          "data": {
            "text/plain": [
              "plot without title"
            ],
            "image/png": "[encoded data removed]"
          },
          "metadata": {
            "image/png": {
              "width": 420,
              "height": 420
            }
          }
        },
        {
          "output_type": "display_data",
          "data": {
            "text/plain": [
              "plot without title"
            ],
            "image/png": "[encoded data removed]"
          },
          "metadata": {
            "image/png": {
              "width": 420,
              "height": 420
            }
          }
        }
      ]
    },
    {
      "cell_type": "code",
      "source": [
        "sim_summary_dt <- sim_dt[,list(length = length(r2),length_05 = length(r2[sqrt((z)^2) <0.05]),geom=unique(geom)),by=.(id,PLOT)]"
      ],
      "metadata": {
        "id": "dQe6TcWmQE9z"
      },
      "execution_count": 18,
      "outputs": []
    },
    {
      "cell_type": "code",
      "source": [
        "# sim_summary_dt\n",
        "sim_summary_dt[PLOT==5289]$length_05 %>% qplot"
      ],
      "metadata": {
        "id": "8ety8b9EirDE",
        "outputId": "a7420086-2378-4a59-90c6-4228f9a65ce9",
        "colab": {
          "base_uri": "https://localhost:8080/",
          "height": 455
        }
      },
      "execution_count": 23,
      "outputs": [
        {
          "output_type": "stream",
          "name": "stderr",
          "text": [
            "\u001b[1m\u001b[22m`stat_bin()` using `bins = 30`. Pick better value with `binwidth`.\n"
          ]
        },
        {
          "output_type": "display_data",
          "data": {
            "text/plain": [
              "plot without title"
            ],
            "image/png": "[encoded data removed]"
          },
          "metadata": {
            "image/png": {
              "width": 420,
              "height": 420
            }
          }
        }
      ]
    },
    {
      "cell_type": "code",
      "source": [
        "sim_summary_dt %>% st_as_sf %>% st_write('sim_summary_id_plot.gpkg',delete_dsn = T)"
      ],
      "metadata": {
        "id": "t7KCfekdwa45",
        "outputId": "6dbe08a9-3324-49db-e472-ff8b4256d8e9",
        "colab": {
          "base_uri": "https://localhost:8080/"
        }
      },
      "execution_count": 24,
      "outputs": [
        {
          "output_type": "stream",
          "name": "stderr",
          "text": [
            "writing: substituting ENGCRS[\"Undefined Cartesian SRS with unknown unit\"] for missing CRS\n",
            "\n"
          ]
        },
        {
          "output_type": "stream",
          "name": "stdout",
          "text": [
            "Deleting source `sim_summary_id_plot.gpkg' failed\n",
            "Writing layer `sim_summary_id_plot' to data source \n",
            "  `sim_summary_id_plot.gpkg' using driver `GPKG'\n",
            "Writing 294521 features with 4 fields and geometry type Point.\n"
          ]
        }
      ]
    },
    {
      "cell_type": "code",
      "source": [
        "# sim_summary_dt"
      ],
      "metadata": {
        "id": "yAX3_EM4qYAH"
      },
      "execution_count": 287,
      "outputs": []
    },
    {
      "cell_type": "code",
      "source": [
        "sim_summary_dt %>%\n",
        "  ggplot(aes(x= length_05/length)) +\n",
        "  geom_histogram(bins=16)\n",
        "    # geom_smooth(method = 'lm')"
      ],
      "metadata": {
        "id": "e5o3fWrF3dDV",
        "outputId": "a18255f6-fa7a-45a3-81ad-ae0e0a3a3a2b",
        "colab": {
          "base_uri": "https://localhost:8080/",
          "height": 497
        }
      },
      "execution_count": 288,
      "outputs": [
        {
          "output_type": "display_data",
          "data": {
            "text/plain": [
              "plot without title"
            ],
            "image/png": "[encoded data removed]"
          },
          "metadata": {
            "image/png": {
              "width": 1200,
              "height": 480
            }
          }
        }
      ]
    },
    {
      "cell_type": "code",
      "source": [
        "sim_summary_dt[max(length_05/length)*.8 < length_05/length][order(length_05/length)]"
      ],
      "metadata": {
        "id": "UmZDLM3unJbe",
        "outputId": "0f20e65d-cbdf-4f79-f48d-5dbf7c01a91b",
        "colab": {
          "base_uri": "https://localhost:8080/",
          "height": 725
        }
      },
      "execution_count": 294,
      "outputs": [
        {
          "output_type": "display_data",
          "data": {
            "text/html": [
              "<table class=\"dataframe\">\n",
              "<caption>A data.table: 20 × 5</caption>\n",
              "<thead>\n",
              "\t<tr><th scope=col>id</th><th scope=col>PLOT</th><th scope=col>length</th><th scope=col>length_05</th><th scope=col>geom</th></tr>\n",
              "\t<tr><th scope=col>&lt;dbl&gt;</th><th scope=col>&lt;chr&gt;</th><th scope=col>&lt;int&gt;</th><th scope=col>&lt;int&gt;</th><th scope=col>&lt;list&gt;</th></tr>\n",
              "</thead>\n",
              "<tbody>\n",
              "\t<tr><td>2859825</td><td>2394</td><td>315</td><td>134</td><td>-155.25991, 19.76325</td></tr>\n",
              "\t<tr><td>3106424</td><td>2569</td><td>437</td><td>187</td><td>-154.86964, 19.52066</td></tr>\n",
              "\t<tr><td>2855317</td><td>2394</td><td>301</td><td>131</td><td>-155.2671, 19.7610</td></tr>\n",
              "\t<tr><td>2861327</td><td>2394</td><td>356</td><td>155</td><td>-155.25752, 19.76551</td></tr>\n",
              "\t<tr><td>2859823</td><td>2394</td><td>341</td><td>149</td><td>-155.25990, 19.76777</td></tr>\n",
              "\t<tr><td>2657156</td><td>2763</td><td>314</td><td>138</td><td>-155.5817, 19.2304</td></tr>\n",
              "\t<tr><td>2856819</td><td>2394</td><td>317</td><td>140</td><td>-155.26468, 19.76326</td></tr>\n",
              "\t<tr><td>2855318</td><td>2394</td><td>318</td><td>142</td><td>-155.26707, 19.75874</td></tr>\n",
              "\t<tr><td>2658654</td><td>2763</td><td>358</td><td>161</td><td>-155.57931, 19.24169</td></tr>\n",
              "\t<tr><td>2855314</td><td>2394</td><td>334</td><td>154</td><td>-155.26706, 19.76778</td></tr>\n",
              "\t<tr><td>2859824</td><td>2394</td><td>325</td><td>151</td><td>-155.25991, 19.76551</td></tr>\n",
              "\t<tr><td>2855316</td><td>2394</td><td>332</td><td>157</td><td>-155.26707, 19.76326</td></tr>\n",
              "\t<tr><td>2855313</td><td>2394</td><td>325</td><td>155</td><td>-155.26706, 19.77004</td></tr>\n",
              "\t<tr><td>2853811</td><td>2394</td><td>315</td><td>151</td><td>-155.26944, 19.76778</td></tr>\n",
              "\t<tr><td>2853812</td><td>2394</td><td>305</td><td>149</td><td>-155.26945, 19.76552</td></tr>\n",
              "\t<tr><td>2856820</td><td>2394</td><td>307</td><td>151</td><td>-155.2647, 19.7610</td></tr>\n",
              "\t<tr><td>2853813</td><td>2394</td><td>318</td><td>158</td><td>-155.26945, 19.76326</td></tr>\n",
              "\t<tr><td>2859826</td><td>2394</td><td>307</td><td>158</td><td>-155.25991, 19.76099</td></tr>\n",
              "\t<tr><td>2855315</td><td>2394</td><td>293</td><td>153</td><td>-155.26706, 19.76552</td></tr>\n",
              "\t<tr><td>2856818</td><td>2394</td><td>315</td><td>167</td><td>-155.26468, 19.76552</td></tr>\n",
              "</tbody>\n",
              "</table>\n"
            ],
            "text/markdown": "\nA data.table: 20 × 5\n\n| id &lt;dbl&gt; | PLOT &lt;chr&gt; | length &lt;int&gt; | length_05 &lt;int&gt; | geom &lt;list&gt; |\n|---|---|---|---|---|\n| 2859825 | 2394 | 315 | 134 | -155.25991, 19.76325 |\n| 3106424 | 2569 | 437 | 187 | -154.86964, 19.52066 |\n| 2855317 | 2394 | 301 | 131 | -155.2671, 19.7610 |\n| 2861327 | 2394 | 356 | 155 | -155.25752, 19.76551 |\n| 2859823 | 2394 | 341 | 149 | -155.25990, 19.76777 |\n| 2657156 | 2763 | 314 | 138 | -155.5817, 19.2304 |\n| 2856819 | 2394 | 317 | 140 | -155.26468, 19.76326 |\n| 2855318 | 2394 | 318 | 142 | -155.26707, 19.75874 |\n| 2658654 | 2763 | 358 | 161 | -155.57931, 19.24169 |\n| 2855314 | 2394 | 334 | 154 | -155.26706, 19.76778 |\n| 2859824 | 2394 | 325 | 151 | -155.25991, 19.76551 |\n| 2855316 | 2394 | 332 | 157 | -155.26707, 19.76326 |\n| 2855313 | 2394 | 325 | 155 | -155.26706, 19.77004 |\n| 2853811 | 2394 | 315 | 151 | -155.26944, 19.76778 |\n| 2853812 | 2394 | 305 | 149 | -155.26945, 19.76552 |\n| 2856820 | 2394 | 307 | 151 | -155.2647, 19.7610 |\n| 2853813 | 2394 | 318 | 158 | -155.26945, 19.76326 |\n| 2859826 | 2394 | 307 | 158 | -155.25991, 19.76099 |\n| 2855315 | 2394 | 293 | 153 | -155.26706, 19.76552 |\n| 2856818 | 2394 | 315 | 167 | -155.26468, 19.76552 |\n\n",
            "text/latex": "A data.table: 20 × 5\n\\begin{tabular}{lllll}\n id & PLOT & length & length\\_05 & geom\\\\\n <dbl> & <chr> & <int> & <int> & <list>\\\\\n\\hline\n\t 2859825 & 2394 & 315 & 134 & -155.25991, 19.76325\\\\\n\t 3106424 & 2569 & 437 & 187 & -154.86964, 19.52066\\\\\n\t 2855317 & 2394 & 301 & 131 & -155.2671, 19.7610\\\\\n\t 2861327 & 2394 & 356 & 155 & -155.25752, 19.76551\\\\\n\t 2859823 & 2394 & 341 & 149 & -155.25990, 19.76777\\\\\n\t 2657156 & 2763 & 314 & 138 & -155.5817, 19.2304\\\\\n\t 2856819 & 2394 & 317 & 140 & -155.26468, 19.76326\\\\\n\t 2855318 & 2394 & 318 & 142 & -155.26707, 19.75874\\\\\n\t 2658654 & 2763 & 358 & 161 & -155.57931, 19.24169\\\\\n\t 2855314 & 2394 & 334 & 154 & -155.26706, 19.76778\\\\\n\t 2859824 & 2394 & 325 & 151 & -155.25991, 19.76551\\\\\n\t 2855316 & 2394 & 332 & 157 & -155.26707, 19.76326\\\\\n\t 2855313 & 2394 & 325 & 155 & -155.26706, 19.77004\\\\\n\t 2853811 & 2394 & 315 & 151 & -155.26944, 19.76778\\\\\n\t 2853812 & 2394 & 305 & 149 & -155.26945, 19.76552\\\\\n\t 2856820 & 2394 & 307 & 151 & -155.2647, 19.7610\\\\\n\t 2853813 & 2394 & 318 & 158 & -155.26945, 19.76326\\\\\n\t 2859826 & 2394 & 307 & 158 & -155.25991, 19.76099\\\\\n\t 2855315 & 2394 & 293 & 153 & -155.26706, 19.76552\\\\\n\t 2856818 & 2394 & 315 & 167 & -155.26468, 19.76552\\\\\n\\end{tabular}\n",
            "text/plain": [
              "   id      PLOT length length_05 geom                \n",
              "1  2859825 2394 315    134       -155.25991, 19.76325\n",
              "2  3106424 2569 437    187       -154.86964, 19.52066\n",
              "3  2855317 2394 301    131       -155.2671, 19.7610  \n",
              "4  2861327 2394 356    155       -155.25752, 19.76551\n",
              "5  2859823 2394 341    149       -155.25990, 19.76777\n",
              "6  2657156 2763 314    138       -155.5817, 19.2304  \n",
              "7  2856819 2394 317    140       -155.26468, 19.76326\n",
              "8  2855318 2394 318    142       -155.26707, 19.75874\n",
              "9  2658654 2763 358    161       -155.57931, 19.24169\n",
              "10 2855314 2394 334    154       -155.26706, 19.76778\n",
              "11 2859824 2394 325    151       -155.25991, 19.76551\n",
              "12 2855316 2394 332    157       -155.26707, 19.76326\n",
              "13 2855313 2394 325    155       -155.26706, 19.77004\n",
              "14 2853811 2394 315    151       -155.26944, 19.76778\n",
              "15 2853812 2394 305    149       -155.26945, 19.76552\n",
              "16 2856820 2394 307    151       -155.2647, 19.7610  \n",
              "17 2853813 2394 318    158       -155.26945, 19.76326\n",
              "18 2859826 2394 307    158       -155.25991, 19.76099\n",
              "19 2855315 2394 293    153       -155.26706, 19.76552\n",
              "20 2856818 2394 315    167       -155.26468, 19.76552"
            ]
          },
          "metadata": {}
        }
      ]
    },
    {
      "cell_type": "code",
      "source": [
        "names(sim_dt)[39:68]"
      ],
      "metadata": {
        "id": "fWXNIf020Rg1",
        "outputId": "6bda0163-b3d4-4397-b6a6-684e6fa83bc7",
        "colab": {
          "base_uri": "https://localhost:8080/",
          "height": 104
        }
      },
      "execution_count": 295,
      "outputs": [
        {
          "output_type": "display_data",
          "data": {
            "text/html": [
              "<style>\n",
              ".list-inline {list-style: none; margin:0; padding: 0}\n",
              ".list-inline>li {display: inline-block}\n",
              ".list-inline>li:not(:last-child)::after {content: \"\\00b7\"; padding: 0 .5ex}\n",
              "</style>\n",
              "<ol class=list-inline><li>'predicted'</li><li>'var_imp_water'</li><li>'var_imp_trees'</li><li>'var_imp_grass'</li><li>'var_imp_flooded_vegetation'</li><li>'var_imp_crops'</li><li>'var_imp_shrub_and_scrub'</li><li>'var_imp_built'</li><li>'var_imp_bare'</li><li>'var_imp_snow_and_ice'</li><li>'var_imp_max'</li><li>'var_imp_elevation'</li><li>'var_imp_landform'</li><li>'var_imp_SRTM_mTPI'</li><li>'var_imp_aet'</li><li>'var_imp_def'</li><li>'var_imp_pdsi'</li><li>'var_imp_pet'</li><li>'var_imp_pr'</li><li>'var_imp_ro'</li><li>'var_imp_soil'</li><li>'var_imp_srad'</li><li>'var_imp_swe'</li><li>'var_imp_tmmn'</li><li>'var_imp_tmmx'</li><li>'var_imp_vap'</li><li>'var_imp_vpd'</li><li>'var_imp_vs'</li><li>'var_imp_agbd_m'</li><li>'var_imp_agbd_sd'</li></ol>\n"
            ],
            "text/markdown": "1. 'predicted'\n2. 'var_imp_water'\n3. 'var_imp_trees'\n4. 'var_imp_grass'\n5. 'var_imp_flooded_vegetation'\n6. 'var_imp_crops'\n7. 'var_imp_shrub_and_scrub'\n8. 'var_imp_built'\n9. 'var_imp_bare'\n10. 'var_imp_snow_and_ice'\n11. 'var_imp_max'\n12. 'var_imp_elevation'\n13. 'var_imp_landform'\n14. 'var_imp_SRTM_mTPI'\n15. 'var_imp_aet'\n16. 'var_imp_def'\n17. 'var_imp_pdsi'\n18. 'var_imp_pet'\n19. 'var_imp_pr'\n20. 'var_imp_ro'\n21. 'var_imp_soil'\n22. 'var_imp_srad'\n23. 'var_imp_swe'\n24. 'var_imp_tmmn'\n25. 'var_imp_tmmx'\n26. 'var_imp_vap'\n27. 'var_imp_vpd'\n28. 'var_imp_vs'\n29. 'var_imp_agbd_m'\n30. 'var_imp_agbd_sd'\n\n\n",
            "text/latex": "\\begin{enumerate*}\n\\item 'predicted'\n\\item 'var\\_imp\\_water'\n\\item 'var\\_imp\\_trees'\n\\item 'var\\_imp\\_grass'\n\\item 'var\\_imp\\_flooded\\_vegetation'\n\\item 'var\\_imp\\_crops'\n\\item 'var\\_imp\\_shrub\\_and\\_scrub'\n\\item 'var\\_imp\\_built'\n\\item 'var\\_imp\\_bare'\n\\item 'var\\_imp\\_snow\\_and\\_ice'\n\\item 'var\\_imp\\_max'\n\\item 'var\\_imp\\_elevation'\n\\item 'var\\_imp\\_landform'\n\\item 'var\\_imp\\_SRTM\\_mTPI'\n\\item 'var\\_imp\\_aet'\n\\item 'var\\_imp\\_def'\n\\item 'var\\_imp\\_pdsi'\n\\item 'var\\_imp\\_pet'\n\\item 'var\\_imp\\_pr'\n\\item 'var\\_imp\\_ro'\n\\item 'var\\_imp\\_soil'\n\\item 'var\\_imp\\_srad'\n\\item 'var\\_imp\\_swe'\n\\item 'var\\_imp\\_tmmn'\n\\item 'var\\_imp\\_tmmx'\n\\item 'var\\_imp\\_vap'\n\\item 'var\\_imp\\_vpd'\n\\item 'var\\_imp\\_vs'\n\\item 'var\\_imp\\_agbd\\_m'\n\\item 'var\\_imp\\_agbd\\_sd'\n\\end{enumerate*}\n",
            "text/plain": [
              " [1] \"predicted\"                  \"var_imp_water\"             \n",
              " [3] \"var_imp_trees\"              \"var_imp_grass\"             \n",
              " [5] \"var_imp_flooded_vegetation\" \"var_imp_crops\"             \n",
              " [7] \"var_imp_shrub_and_scrub\"    \"var_imp_built\"             \n",
              " [9] \"var_imp_bare\"               \"var_imp_snow_and_ice\"      \n",
              "[11] \"var_imp_max\"                \"var_imp_elevation\"         \n",
              "[13] \"var_imp_landform\"           \"var_imp_SRTM_mTPI\"         \n",
              "[15] \"var_imp_aet\"                \"var_imp_def\"               \n",
              "[17] \"var_imp_pdsi\"               \"var_imp_pet\"               \n",
              "[19] \"var_imp_pr\"                 \"var_imp_ro\"                \n",
              "[21] \"var_imp_soil\"               \"var_imp_srad\"              \n",
              "[23] \"var_imp_swe\"                \"var_imp_tmmn\"              \n",
              "[25] \"var_imp_tmmx\"               \"var_imp_vap\"               \n",
              "[27] \"var_imp_vpd\"                \"var_imp_vs\"                \n",
              "[29] \"var_imp_agbd_m\"             \"var_imp_agbd_sd\"           "
            ]
          },
          "metadata": {}
        }
      ]
    },
    {
      "cell_type": "code",
      "source": [
        "sim_dt[,good:=abs(residual_per) < 0.1]"
      ],
      "metadata": {
        "id": "Qhln_EvwrHPH"
      },
      "execution_count": 302,
      "outputs": []
    },
    {
      "cell_type": "code",
      "source": [
        "# sim_dt$id %>% table"
      ],
      "metadata": {
        "id": "CoEJZXgdrK5v"
      },
      "execution_count": 307,
      "outputs": []
    },
    {
      "cell_type": "code",
      "source": [
        "names(sim_dt)[39:68] %>% lapply(function(x){\n",
        "t.test(sim_dt[id ==2957662  & abs(residual_per) < 0.5 ][[x]],\n",
        "sim_dt[id ==2957662  & abs(residual_per) >= 0.5 ][[x]])$p.value})\n"
      ],
      "metadata": {
        "id": "v8yi1hmWqcsd",
        "outputId": "4f0975e5-77f8-456e-e00a-14930f041ffa",
        "colab": {
          "base_uri": "https://localhost:8080/",
          "height": 566
        }
      },
      "execution_count": 309,
      "outputs": [
        {
          "output_type": "display_data",
          "data": {
            "text/html": [
              "<ol>\n",
              "\t<li>3.7100619138101e-97</li>\n",
              "\t<li>0.153872871387768</li>\n",
              "\t<li>0.0866012107234549</li>\n",
              "\t<li>0.0188707914726843</li>\n",
              "\t<li>0.468898736059231</li>\n",
              "\t<li>0.269016979691173</li>\n",
              "\t<li>0.165450554867461</li>\n",
              "\t<li>0.000457911222555064</li>\n",
              "\t<li>0.273568494633743</li>\n",
              "\t<li>0.369795046459475</li>\n",
              "\t<li>0.608307210446054</li>\n",
              "\t<li>0.654127140909807</li>\n",
              "\t<li>0.898048277586109</li>\n",
              "\t<li>0.842753344705622</li>\n",
              "\t<li>0.719560626231718</li>\n",
              "\t<li>0.799100316400635</li>\n",
              "\t<li>0.850878798951163</li>\n",
              "\t<li>0.54312768632495</li>\n",
              "\t<li>0.25336548309124</li>\n",
              "\t<li>0.46556048918666</li>\n",
              "\t<li>0.532120056972922</li>\n",
              "\t<li>0.871721846777472</li>\n",
              "\t<li>NaN</li>\n",
              "\t<li>0.980277776319873</li>\n",
              "\t<li>0.42417004896376</li>\n",
              "\t<li>0.621126471608248</li>\n",
              "\t<li>0.64730923171264</li>\n",
              "\t<li>0.0702706932975424</li>\n",
              "\t<li>0.0860397811278292</li>\n",
              "\t<li>0.235887193636937</li>\n",
              "</ol>\n"
            ],
            "text/markdown": "1. 3.7100619138101e-97\n2. 0.153872871387768\n3. 0.0866012107234549\n4. 0.0188707914726843\n5. 0.468898736059231\n6. 0.269016979691173\n7. 0.165450554867461\n8. 0.000457911222555064\n9. 0.273568494633743\n10. 0.369795046459475\n11. 0.608307210446054\n12. 0.654127140909807\n13. 0.898048277586109\n14. 0.842753344705622\n15. 0.719560626231718\n16. 0.799100316400635\n17. 0.850878798951163\n18. 0.54312768632495\n19. 0.25336548309124\n20. 0.46556048918666\n21. 0.532120056972922\n22. 0.871721846777472\n23. NaN\n24. 0.980277776319873\n25. 0.42417004896376\n26. 0.621126471608248\n27. 0.64730923171264\n28. 0.0702706932975424\n29. 0.0860397811278292\n30. 0.235887193636937\n\n\n",
            "text/latex": "\\begin{enumerate}\n\\item 3.7100619138101e-97\n\\item 0.153872871387768\n\\item 0.0866012107234549\n\\item 0.0188707914726843\n\\item 0.468898736059231\n\\item 0.269016979691173\n\\item 0.165450554867461\n\\item 0.000457911222555064\n\\item 0.273568494633743\n\\item 0.369795046459475\n\\item 0.608307210446054\n\\item 0.654127140909807\n\\item 0.898048277586109\n\\item 0.842753344705622\n\\item 0.719560626231718\n\\item 0.799100316400635\n\\item 0.850878798951163\n\\item 0.54312768632495\n\\item 0.25336548309124\n\\item 0.46556048918666\n\\item 0.532120056972922\n\\item 0.871721846777472\n\\item NaN\n\\item 0.980277776319873\n\\item 0.42417004896376\n\\item 0.621126471608248\n\\item 0.64730923171264\n\\item 0.0702706932975424\n\\item 0.0860397811278292\n\\item 0.235887193636937\n\\end{enumerate}\n",
            "text/plain": [
              "[[1]]\n",
              "[1] 3.710062e-97\n",
              "\n",
              "[[2]]\n",
              "[1] 0.1538729\n",
              "\n",
              "[[3]]\n",
              "[1] 0.08660121\n",
              "\n",
              "[[4]]\n",
              "[1] 0.01887079\n",
              "\n",
              "[[5]]\n",
              "[1] 0.4688987\n",
              "\n",
              "[[6]]\n",
              "[1] 0.269017\n",
              "\n",
              "[[7]]\n",
              "[1] 0.1654506\n",
              "\n",
              "[[8]]\n",
              "[1] 0.0004579112\n",
              "\n",
              "[[9]]\n",
              "[1] 0.2735685\n",
              "\n",
              "[[10]]\n",
              "[1] 0.369795\n",
              "\n",
              "[[11]]\n",
              "[1] 0.6083072\n",
              "\n",
              "[[12]]\n",
              "[1] 0.6541271\n",
              "\n",
              "[[13]]\n",
              "[1] 0.8980483\n",
              "\n",
              "[[14]]\n",
              "[1] 0.8427533\n",
              "\n",
              "[[15]]\n",
              "[1] 0.7195606\n",
              "\n",
              "[[16]]\n",
              "[1] 0.7991003\n",
              "\n",
              "[[17]]\n",
              "[1] 0.8508788\n",
              "\n",
              "[[18]]\n",
              "[1] 0.5431277\n",
              "\n",
              "[[19]]\n",
              "[1] 0.2533655\n",
              "\n",
              "[[20]]\n",
              "[1] 0.4655605\n",
              "\n",
              "[[21]]\n",
              "[1] 0.5321201\n",
              "\n",
              "[[22]]\n",
              "[1] 0.8717218\n",
              "\n",
              "[[23]]\n",
              "[1] NaN\n",
              "\n",
              "[[24]]\n",
              "[1] 0.9802778\n",
              "\n",
              "[[25]]\n",
              "[1] 0.42417\n",
              "\n",
              "[[26]]\n",
              "[1] 0.6211265\n",
              "\n",
              "[[27]]\n",
              "[1] 0.6473092\n",
              "\n",
              "[[28]]\n",
              "[1] 0.07027069\n",
              "\n",
              "[[29]]\n",
              "[1] 0.08603978\n",
              "\n",
              "[[30]]\n",
              "[1] 0.2358872\n"
            ]
          },
          "metadata": {}
        }
      ]
    },
    {
      "cell_type": "code",
      "source": [
        "(sim_dt %>% names)[40:69]"
      ],
      "metadata": {
        "id": "55HRclaRCkNj",
        "outputId": "b807929a-d6de-4121-cc28-2192d37035a8",
        "colab": {
          "base_uri": "https://localhost:8080/",
          "height": 121
        }
      },
      "execution_count": 323,
      "outputs": [
        {
          "output_type": "display_data",
          "data": {
            "text/html": [
              "<style>\n",
              ".list-inline {list-style: none; margin:0; padding: 0}\n",
              ".list-inline>li {display: inline-block}\n",
              ".list-inline>li:not(:last-child)::after {content: \"\\00b7\"; padding: 0 .5ex}\n",
              "</style>\n",
              "<ol class=list-inline><li>'var_imp_water'</li><li>'var_imp_trees'</li><li>'var_imp_grass'</li><li>'var_imp_flooded_vegetation'</li><li>'var_imp_crops'</li><li>'var_imp_shrub_and_scrub'</li><li>'var_imp_built'</li><li>'var_imp_bare'</li><li>'var_imp_snow_and_ice'</li><li>'var_imp_max'</li><li>'var_imp_elevation'</li><li>'var_imp_landform'</li><li>'var_imp_SRTM_mTPI'</li><li>'var_imp_aet'</li><li>'var_imp_def'</li><li>'var_imp_pdsi'</li><li>'var_imp_pet'</li><li>'var_imp_pr'</li><li>'var_imp_ro'</li><li>'var_imp_soil'</li><li>'var_imp_srad'</li><li>'var_imp_swe'</li><li>'var_imp_tmmn'</li><li>'var_imp_tmmx'</li><li>'var_imp_vap'</li><li>'var_imp_vpd'</li><li>'var_imp_vs'</li><li>'var_imp_agbd_m'</li><li>'var_imp_agbd_sd'</li><li>'var_imp_agbd_n'</li></ol>\n"
            ],
            "text/markdown": "1. 'var_imp_water'\n2. 'var_imp_trees'\n3. 'var_imp_grass'\n4. 'var_imp_flooded_vegetation'\n5. 'var_imp_crops'\n6. 'var_imp_shrub_and_scrub'\n7. 'var_imp_built'\n8. 'var_imp_bare'\n9. 'var_imp_snow_and_ice'\n10. 'var_imp_max'\n11. 'var_imp_elevation'\n12. 'var_imp_landform'\n13. 'var_imp_SRTM_mTPI'\n14. 'var_imp_aet'\n15. 'var_imp_def'\n16. 'var_imp_pdsi'\n17. 'var_imp_pet'\n18. 'var_imp_pr'\n19. 'var_imp_ro'\n20. 'var_imp_soil'\n21. 'var_imp_srad'\n22. 'var_imp_swe'\n23. 'var_imp_tmmn'\n24. 'var_imp_tmmx'\n25. 'var_imp_vap'\n26. 'var_imp_vpd'\n27. 'var_imp_vs'\n28. 'var_imp_agbd_m'\n29. 'var_imp_agbd_sd'\n30. 'var_imp_agbd_n'\n\n\n",
            "text/latex": "\\begin{enumerate*}\n\\item 'var\\_imp\\_water'\n\\item 'var\\_imp\\_trees'\n\\item 'var\\_imp\\_grass'\n\\item 'var\\_imp\\_flooded\\_vegetation'\n\\item 'var\\_imp\\_crops'\n\\item 'var\\_imp\\_shrub\\_and\\_scrub'\n\\item 'var\\_imp\\_built'\n\\item 'var\\_imp\\_bare'\n\\item 'var\\_imp\\_snow\\_and\\_ice'\n\\item 'var\\_imp\\_max'\n\\item 'var\\_imp\\_elevation'\n\\item 'var\\_imp\\_landform'\n\\item 'var\\_imp\\_SRTM\\_mTPI'\n\\item 'var\\_imp\\_aet'\n\\item 'var\\_imp\\_def'\n\\item 'var\\_imp\\_pdsi'\n\\item 'var\\_imp\\_pet'\n\\item 'var\\_imp\\_pr'\n\\item 'var\\_imp\\_ro'\n\\item 'var\\_imp\\_soil'\n\\item 'var\\_imp\\_srad'\n\\item 'var\\_imp\\_swe'\n\\item 'var\\_imp\\_tmmn'\n\\item 'var\\_imp\\_tmmx'\n\\item 'var\\_imp\\_vap'\n\\item 'var\\_imp\\_vpd'\n\\item 'var\\_imp\\_vs'\n\\item 'var\\_imp\\_agbd\\_m'\n\\item 'var\\_imp\\_agbd\\_sd'\n\\item 'var\\_imp\\_agbd\\_n'\n\\end{enumerate*}\n",
            "text/plain": [
              " [1] \"var_imp_water\"              \"var_imp_trees\"             \n",
              " [3] \"var_imp_grass\"              \"var_imp_flooded_vegetation\"\n",
              " [5] \"var_imp_crops\"              \"var_imp_shrub_and_scrub\"   \n",
              " [7] \"var_imp_built\"              \"var_imp_bare\"              \n",
              " [9] \"var_imp_snow_and_ice\"       \"var_imp_max\"               \n",
              "[11] \"var_imp_elevation\"          \"var_imp_landform\"          \n",
              "[13] \"var_imp_SRTM_mTPI\"          \"var_imp_aet\"               \n",
              "[15] \"var_imp_def\"                \"var_imp_pdsi\"              \n",
              "[17] \"var_imp_pet\"                \"var_imp_pr\"                \n",
              "[19] \"var_imp_ro\"                 \"var_imp_soil\"              \n",
              "[21] \"var_imp_srad\"               \"var_imp_swe\"               \n",
              "[23] \"var_imp_tmmn\"               \"var_imp_tmmx\"              \n",
              "[25] \"var_imp_vap\"                \"var_imp_vpd\"               \n",
              "[27] \"var_imp_vs\"                 \"var_imp_agbd_m\"            \n",
              "[29] \"var_imp_agbd_sd\"            \"var_imp_agbd_n\"            "
            ]
          },
          "metadata": {}
        }
      ]
    },
    {
      "cell_type": "code",
      "source": [
        " var_imp_dt<- sim_dt[ ][\n",
        "  , .(p_value = lapply(.SD, function(x) {\n",
        "    if(length(x[abs(z) < 0.05])>3 &length(x[abs(z) >= 0.05])>3 ){\n",
        "      t.test(x[abs(z) < 0.05],\n",
        "             x[abs(z) >= 0.05])$p.value\n",
        "             }else(return(NA))\n",
        "\n",
        "    }) ,\n",
        "      variable = names(sim_dt)[39:69])\n",
        "  , by = .(PLOT)\n",
        "  , .SDcols = 39:69\n",
        "]\n",
        "var_imp_dt$p_value <- var_imp_dt$p_value %>% unlist"
      ],
      "metadata": {
        "id": "jSxwz78hCaIo"
      },
      "execution_count": 98,
      "outputs": []
    },
    {
      "cell_type": "code",
      "source": [],
      "metadata": {
        "id": "3yklCqfZoTKA"
      },
      "execution_count": 100,
      "outputs": []
    },
    {
      "cell_type": "code",
      "source": [
        "# out_dt <- data.table(var_imp_dt,sim_summary_dt[match(var_imp_dt$id,sim_summary_dt$id)])\n",
        "out_dt <- data.table(var_imp_dt,fia_dt[,c('geometry')][match(var_imp_dt$PLOT,fia_dt$PLOT)])"
      ],
      "metadata": {
        "id": "tDSLomPaFBt4"
      },
      "execution_count": 110,
      "outputs": []
    },
    {
      "cell_type": "code",
      "source": [
        "out_dt[,bonferroni:=p_value*30]"
      ],
      "metadata": {
        "id": "2QPXHgSxppws"
      },
      "execution_count": 111,
      "outputs": []
    },
    {
      "cell_type": "code",
      "source": [
        "out_dt$p_value <- out_dt$p_value %>% unlist"
      ],
      "metadata": {
        "id": "9MSkigkuGEUG"
      },
      "execution_count": 112,
      "outputs": []
    },
    {
      "cell_type": "code",
      "source": [],
      "metadata": {
        "id": "KxGVgkMqrSMj"
      },
      "execution_count": 189,
      "outputs": []
    },
    {
      "cell_type": "code",
      "source": [
        "short_out_dt <- dcast(out_dt, PLOT  ~ variable,value.var='bonferroni', drop=FALSE)\n",
        "short_out_dt <- data.table(short_out_dt,fia_dt[,c('geometry')][match(short_out_dt$PLOT,fia_dt$PLOT)])"
      ],
      "metadata": {
        "id": "0mOkIF47rJPU"
      },
      "execution_count": 192,
      "outputs": []
    },
    {
      "cell_type": "code",
      "source": [
        "names(short_out_dt)"
      ],
      "metadata": {
        "id": "0KA7fcV3wVH9",
        "outputId": "5b98c079-b64d-4046-d191-4080373d1f50",
        "colab": {
          "base_uri": "https://localhost:8080/",
          "height": 104
        }
      },
      "execution_count": 193,
      "outputs": [
        {
          "output_type": "display_data",
          "data": {
            "text/html": [
              "<style>\n",
              ".list-inline {list-style: none; margin:0; padding: 0}\n",
              ".list-inline>li {display: inline-block}\n",
              ".list-inline>li:not(:last-child)::after {content: \"\\00b7\"; padding: 0 .5ex}\n",
              "</style>\n",
              "<ol class=list-inline><li>'PLOT'</li><li>'r2'</li><li>'var_imp_SRTM_mTPI'</li><li>'var_imp_aet'</li><li>'var_imp_agbd_m'</li><li>'var_imp_agbd_n'</li><li>'var_imp_agbd_sd'</li><li>'var_imp_bare'</li><li>'var_imp_built'</li><li>'var_imp_crops'</li><li>'var_imp_def'</li><li>'var_imp_elevation'</li><li>'var_imp_flooded_vegetation'</li><li>'var_imp_grass'</li><li>'var_imp_landform'</li><li>'var_imp_max'</li><li>'var_imp_pdsi'</li><li>'var_imp_pet'</li><li>'var_imp_pr'</li><li>'var_imp_ro'</li><li>'var_imp_shrub_and_scrub'</li><li>'var_imp_snow_and_ice'</li><li>'var_imp_soil'</li><li>'var_imp_srad'</li><li>'var_imp_swe'</li><li>'var_imp_tmmn'</li><li>'var_imp_tmmx'</li><li>'var_imp_trees'</li><li>'var_imp_vap'</li><li>'var_imp_vpd'</li><li>'var_imp_vs'</li><li>'var_imp_water'</li><li>'geometry'</li></ol>\n"
            ],
            "text/markdown": "1. 'PLOT'\n2. 'r2'\n3. 'var_imp_SRTM_mTPI'\n4. 'var_imp_aet'\n5. 'var_imp_agbd_m'\n6. 'var_imp_agbd_n'\n7. 'var_imp_agbd_sd'\n8. 'var_imp_bare'\n9. 'var_imp_built'\n10. 'var_imp_crops'\n11. 'var_imp_def'\n12. 'var_imp_elevation'\n13. 'var_imp_flooded_vegetation'\n14. 'var_imp_grass'\n15. 'var_imp_landform'\n16. 'var_imp_max'\n17. 'var_imp_pdsi'\n18. 'var_imp_pet'\n19. 'var_imp_pr'\n20. 'var_imp_ro'\n21. 'var_imp_shrub_and_scrub'\n22. 'var_imp_snow_and_ice'\n23. 'var_imp_soil'\n24. 'var_imp_srad'\n25. 'var_imp_swe'\n26. 'var_imp_tmmn'\n27. 'var_imp_tmmx'\n28. 'var_imp_trees'\n29. 'var_imp_vap'\n30. 'var_imp_vpd'\n31. 'var_imp_vs'\n32. 'var_imp_water'\n33. 'geometry'\n\n\n",
            "text/latex": "\\begin{enumerate*}\n\\item 'PLOT'\n\\item 'r2'\n\\item 'var\\_imp\\_SRTM\\_mTPI'\n\\item 'var\\_imp\\_aet'\n\\item 'var\\_imp\\_agbd\\_m'\n\\item 'var\\_imp\\_agbd\\_n'\n\\item 'var\\_imp\\_agbd\\_sd'\n\\item 'var\\_imp\\_bare'\n\\item 'var\\_imp\\_built'\n\\item 'var\\_imp\\_crops'\n\\item 'var\\_imp\\_def'\n\\item 'var\\_imp\\_elevation'\n\\item 'var\\_imp\\_flooded\\_vegetation'\n\\item 'var\\_imp\\_grass'\n\\item 'var\\_imp\\_landform'\n\\item 'var\\_imp\\_max'\n\\item 'var\\_imp\\_pdsi'\n\\item 'var\\_imp\\_pet'\n\\item 'var\\_imp\\_pr'\n\\item 'var\\_imp\\_ro'\n\\item 'var\\_imp\\_shrub\\_and\\_scrub'\n\\item 'var\\_imp\\_snow\\_and\\_ice'\n\\item 'var\\_imp\\_soil'\n\\item 'var\\_imp\\_srad'\n\\item 'var\\_imp\\_swe'\n\\item 'var\\_imp\\_tmmn'\n\\item 'var\\_imp\\_tmmx'\n\\item 'var\\_imp\\_trees'\n\\item 'var\\_imp\\_vap'\n\\item 'var\\_imp\\_vpd'\n\\item 'var\\_imp\\_vs'\n\\item 'var\\_imp\\_water'\n\\item 'geometry'\n\\end{enumerate*}\n",
            "text/plain": [
              " [1] \"PLOT\"                       \"r2\"                        \n",
              " [3] \"var_imp_SRTM_mTPI\"          \"var_imp_aet\"               \n",
              " [5] \"var_imp_agbd_m\"             \"var_imp_agbd_n\"            \n",
              " [7] \"var_imp_agbd_sd\"            \"var_imp_bare\"              \n",
              " [9] \"var_imp_built\"              \"var_imp_crops\"             \n",
              "[11] \"var_imp_def\"                \"var_imp_elevation\"         \n",
              "[13] \"var_imp_flooded_vegetation\" \"var_imp_grass\"             \n",
              "[15] \"var_imp_landform\"           \"var_imp_max\"               \n",
              "[17] \"var_imp_pdsi\"               \"var_imp_pet\"               \n",
              "[19] \"var_imp_pr\"                 \"var_imp_ro\"                \n",
              "[21] \"var_imp_shrub_and_scrub\"    \"var_imp_snow_and_ice\"      \n",
              "[23] \"var_imp_soil\"               \"var_imp_srad\"              \n",
              "[25] \"var_imp_swe\"                \"var_imp_tmmn\"              \n",
              "[27] \"var_imp_tmmx\"               \"var_imp_trees\"             \n",
              "[29] \"var_imp_vap\"                \"var_imp_vpd\"               \n",
              "[31] \"var_imp_vs\"                 \"var_imp_water\"             \n",
              "[33] \"geometry\"                  "
            ]
          },
          "metadata": {}
        }
      ]
    },
    {
      "cell_type": "code",
      "source": [
        "cols_to_consider <- names(short_out_dt)[]\n",
        "\n",
        "\n",
        "# Assuming 'short_out_dt' is your data.table\n",
        "# Define the columns you want to consider for finding the max value by their indices\n",
        "cols_to_consider_indices <- 3:(ncol(short_out_dt)-1) # Replace with actual indices of Var3, Var5, Var7\n",
        "short_out_dt$max_col <-\n",
        "1:nrow(short_out_dt) %>% lapply(function(x){\n",
        "if(is.na(short_out_dt[x,cols_to_consider_indices,with=F] %>% unlist) %>% all){return(NA)}\n",
        "short_out_dt[x,cols_to_consider_indices,with=F] %>% unlist %>% which.min( ) %>% names}) %>% unlist"
      ],
      "metadata": {
        "id": "eEeHNqq5sQiQ"
      },
      "execution_count": 195,
      "outputs": []
    },
    {
      "cell_type": "code",
      "source": [
        "short_out_dt %>% st_write('max_col_p.gpkg')"
      ],
      "metadata": {
        "id": "vJhqaw2SyWg3",
        "outputId": "b7bcbbbd-d15a-4a80-a2a2-48a34387ce14",
        "colab": {
          "base_uri": "https://localhost:8080/"
        }
      },
      "execution_count": 200,
      "outputs": [
        {
          "output_type": "stream",
          "name": "stdout",
          "text": [
            "Writing layer `max_col_p' to data source `max_col_p.gpkg' using driver `GPKG'\n",
            "Writing 126 features with 33 fields and geometry type Point.\n"
          ]
        }
      ]
    },
    {
      "cell_type": "code",
      "source": [
        "short_out_dt"
      ],
      "metadata": {
        "id": "vh8jc2vQw0fR",
        "outputId": "1a11e56e-e251-4fe8-b481-cdb4f5e661b1",
        "colab": {
          "base_uri": "https://localhost:8080/",
          "height": 1000
        }
      },
      "execution_count": 196,
      "outputs": [
        {
          "output_type": "display_data",
          "data": {
            "text/html": [
              "<table class=\"dataframe\">\n",
              "<caption>A data.table: 126 × 34</caption>\n",
              "<thead>\n",
              "\t<tr><th scope=col>PLOT</th><th scope=col>r2</th><th scope=col>var_imp_SRTM_mTPI</th><th scope=col>var_imp_aet</th><th scope=col>var_imp_agbd_m</th><th scope=col>var_imp_agbd_n</th><th scope=col>var_imp_agbd_sd</th><th scope=col>var_imp_bare</th><th scope=col>var_imp_built</th><th scope=col>var_imp_crops</th><th scope=col>⋯</th><th scope=col>var_imp_swe</th><th scope=col>var_imp_tmmn</th><th scope=col>var_imp_tmmx</th><th scope=col>var_imp_trees</th><th scope=col>var_imp_vap</th><th scope=col>var_imp_vpd</th><th scope=col>var_imp_vs</th><th scope=col>var_imp_water</th><th scope=col>geometry</th><th scope=col>max_col</th></tr>\n",
              "\t<tr><th scope=col>&lt;chr&gt;</th><th scope=col>&lt;dbl&gt;</th><th scope=col>&lt;dbl&gt;</th><th scope=col>&lt;dbl&gt;</th><th scope=col>&lt;dbl&gt;</th><th scope=col>&lt;dbl&gt;</th><th scope=col>&lt;dbl&gt;</th><th scope=col>&lt;dbl&gt;</th><th scope=col>&lt;dbl&gt;</th><th scope=col>&lt;dbl&gt;</th><th scope=col>⋯</th><th scope=col>&lt;dbl&gt;</th><th scope=col>&lt;dbl&gt;</th><th scope=col>&lt;dbl&gt;</th><th scope=col>&lt;dbl&gt;</th><th scope=col>&lt;dbl&gt;</th><th scope=col>&lt;dbl&gt;</th><th scope=col>&lt;dbl&gt;</th><th scope=col>&lt;dbl&gt;</th><th scope=col>&lt;POINT [°]&gt;</th><th scope=col>&lt;chr&gt;</th></tr>\n",
              "</thead>\n",
              "<tbody>\n",
              "\t<tr><td>2159</td><td>          NA</td><td>          NA</td><td>          NA</td><td>          NA</td><td>         NA</td><td>          NA</td><td>         NA</td><td>          NA</td><td>          NA</td><td>⋯</td><td> NA</td><td>          NA</td><td>          NA</td><td>          NA</td><td>        NA</td><td>          NA</td><td>          NA</td><td>         NA</td><td>POINT (-155.7952 20.1789)</td><td>NA                     </td></tr>\n",
              "\t<tr><td>2167</td><td>1.699544e-02</td><td>18.312554982</td><td>2.577294e+01</td><td>1.488227e+01</td><td>27.86559634</td><td>3.834754e+00</td><td> 0.58989264</td><td>2.137251e+01</td><td>1.154693e-01</td><td>⋯</td><td>NaN</td><td>1.992879e+01</td><td>1.627514e+01</td><td>5.482793e+00</td><td>21.6354009</td><td>26.369679944</td><td> 5.040394389</td><td>25.10919817</td><td>POINT (-155.7075 20.16785)</td><td>var_imp_soil           </td></tr>\n",
              "\t<tr><td>2191</td><td>2.465466e-04</td><td>29.037255578</td><td>3.254902e-04</td><td>3.928672e+00</td><td>22.01742615</td><td>1.380719e+00</td><td> 0.04609450</td><td>1.000347e+01</td><td>2.524276e+01</td><td>⋯</td><td>NaN</td><td>2.909641e+01</td><td>1.894016e+01</td><td>1.352744e+01</td><td>15.5709883</td><td>17.382398730</td><td>13.974409264</td><td>10.53374294</td><td>POINT (-155.6324 20.11583)</td><td>var_imp_soil           </td></tr>\n",
              "\t<tr><td>2204</td><td>8.483197e-05</td><td> 1.112534889</td><td>2.893271e+01</td><td>1.816152e-01</td><td> 0.74452207</td><td>3.004465e-02</td><td>26.46549232</td><td>2.035719e-03</td><td>1.984847e+01</td><td>⋯</td><td>NaN</td><td>2.282206e+01</td><td>1.678496e+01</td><td>6.818063e+00</td><td>12.9852195</td><td>23.665713765</td><td> 4.542048853</td><td> 5.96824091</td><td>POINT (-155.7211 20.08227)</td><td>var_imp_built          </td></tr>\n",
              "\t<tr><td>2208</td><td>          NA</td><td>          NA</td><td>          NA</td><td>          NA</td><td>         NA</td><td>          NA</td><td>         NA</td><td>          NA</td><td>          NA</td><td>⋯</td><td> NA</td><td>          NA</td><td>          NA</td><td>          NA</td><td>        NA</td><td>          NA</td><td>          NA</td><td>         NA</td><td>POINT (-155.6623 20.08261)</td><td>NA                     </td></tr>\n",
              "\t<tr><td>2212</td><td>2.032440e-02</td><td> 0.971728696</td><td>6.421203e-12</td><td>1.776484e-04</td><td> 0.05042523</td><td>1.799946e-08</td><td> 2.00592439</td><td>2.316025e+01</td><td>1.684711e+01</td><td>⋯</td><td>NaN</td><td>2.794781e-01</td><td>2.775426e+00</td><td>7.638061e+00</td><td>11.5054857</td><td> 8.810963383</td><td> 0.730457140</td><td> 6.82970454</td><td>POINT (-155.6197 20.05735)</td><td>var_imp_aet            </td></tr>\n",
              "\t<tr><td>2230</td><td>          NA</td><td>          NA</td><td>          NA</td><td>          NA</td><td>         NA</td><td>          NA</td><td>         NA</td><td>          NA</td><td>          NA</td><td>⋯</td><td> NA</td><td>          NA</td><td>          NA</td><td>          NA</td><td>        NA</td><td>          NA</td><td>          NA</td><td>         NA</td><td>POINT (-155.6592 20.04089)</td><td>NA                     </td></tr>\n",
              "\t<tr><td>2233</td><td>2.407917e-04</td><td> 0.009362838</td><td>1.245046e+01</td><td>1.864930e-08</td><td> 0.03336243</td><td>3.683430e-01</td><td>27.34632637</td><td>1.684582e-08</td><td>2.981727e+01</td><td>⋯</td><td>NaN</td><td>2.549776e+01</td><td>3.284506e+00</td><td>4.087831e+00</td><td> 5.8936836</td><td> 4.293533143</td><td>17.016448346</td><td> 2.72206550</td><td>POINT (-155.3823 20.02604)</td><td>var_imp_built          </td></tr>\n",
              "\t<tr><td>2237</td><td>6.656060e-11</td><td> 0.001177352</td><td>2.906927e-02</td><td>3.591406e-02</td><td> 0.03299596</td><td>5.364473e-10</td><td> 0.01120744</td><td>2.368369e-01</td><td>5.588972e+00</td><td>⋯</td><td>NaN</td><td>2.352130e+01</td><td>2.431605e+01</td><td>1.016956e-02</td><td> 6.5668242</td><td>12.423516909</td><td> 3.019299994</td><td>13.79404755</td><td>POINT (-155.3306 20.01627)</td><td>var_imp_agbd_sd        </td></tr>\n",
              "\t<tr><td>2242</td><td>2.782914e+01</td><td>28.549164456</td><td>7.452227e+00</td><td>2.815852e+00</td><td>21.23331956</td><td>1.491213e+01</td><td> 0.69887170</td><td>6.697619e+00</td><td>1.372023e+01</td><td>⋯</td><td>NaN</td><td>2.379394e+01</td><td>2.871229e+01</td><td>4.949667e-01</td><td> 2.9662975</td><td>12.006209057</td><td> 0.001253229</td><td>15.13549463</td><td>POINT (-155.2677 20.00302)</td><td>var_imp_shrub_and_scrub</td></tr>\n",
              "\t<tr><td>2248</td><td>2.531590e-06</td><td> 1.173399440</td><td>2.573912e+01</td><td>3.249405e-05</td><td> 5.93693473</td><td>2.887676e-01</td><td> 2.68802686</td><td>1.407307e-01</td><td>3.070742e-02</td><td>⋯</td><td>NaN</td><td>4.845373e-01</td><td>2.839716e+00</td><td>2.236023e+01</td><td> 1.5294088</td><td> 4.156508631</td><td>14.179857065</td><td> 3.32426383</td><td>POINT (-155.4615 19.99425)</td><td>var_imp_agbd_m         </td></tr>\n",
              "\t<tr><td>2256</td><td>          NA</td><td>          NA</td><td>          NA</td><td>          NA</td><td>         NA</td><td>          NA</td><td>         NA</td><td>          NA</td><td>          NA</td><td>⋯</td><td> NA</td><td>          NA</td><td>          NA</td><td>          NA</td><td>        NA</td><td>          NA</td><td>          NA</td><td>         NA</td><td>POINT (-155.3531 19.98225)</td><td>NA                     </td></tr>\n",
              "\t<tr><td>2261</td><td>2.310592e-01</td><td> 0.988461917</td><td>2.874369e+01</td><td>7.633539e+00</td><td> 0.88385773</td><td>1.629760e+00</td><td> 3.84922764</td><td>7.273238e-01</td><td>2.030663e+01</td><td>⋯</td><td>NaN</td><td>2.711953e+01</td><td>2.785024e+01</td><td>1.038145e+00</td><td>18.4261905</td><td>22.569274141</td><td> 0.812229814</td><td> 2.87450897</td><td>POINT (-155.3101 19.97333)</td><td>var_imp_built          </td></tr>\n",
              "\t<tr><td>2271</td><td>          NA</td><td>          NA</td><td>          NA</td><td>          NA</td><td>         NA</td><td>          NA</td><td>         NA</td><td>          NA</td><td>          NA</td><td>⋯</td><td> NA</td><td>          NA</td><td>          NA</td><td>          NA</td><td>        NA</td><td>          NA</td><td>          NA</td><td>         NA</td><td>POINT (-155.2076 19.95886)</td><td>NA                     </td></tr>\n",
              "\t<tr><td>2286</td><td>          NA</td><td>          NA</td><td>          NA</td><td>          NA</td><td>         NA</td><td>          NA</td><td>         NA</td><td>          NA</td><td>          NA</td><td>⋯</td><td> NA</td><td>          NA</td><td>          NA</td><td>          NA</td><td>        NA</td><td>          NA</td><td>          NA</td><td>         NA</td><td>POINT (-155.2982 19.92324)</td><td>NA                     </td></tr>\n",
              "\t<tr><td>2291</td><td>          NA</td><td>          NA</td><td>          NA</td><td>          NA</td><td>         NA</td><td>          NA</td><td>         NA</td><td>          NA</td><td>          NA</td><td>⋯</td><td> NA</td><td>          NA</td><td>          NA</td><td>          NA</td><td>        NA</td><td>          NA</td><td>          NA</td><td>         NA</td><td>POINT (-155.2335 19.91766)</td><td>NA                     </td></tr>\n",
              "\t<tr><td>2307</td><td>          NA</td><td>          NA</td><td>          NA</td><td>          NA</td><td>         NA</td><td>          NA</td><td>         NA</td><td>          NA</td><td>          NA</td><td>⋯</td><td> NA</td><td>          NA</td><td>          NA</td><td>          NA</td><td>        NA</td><td>          NA</td><td>          NA</td><td>         NA</td><td>POINT (-155.3125 19.89353)</td><td>NA                     </td></tr>\n",
              "\t<tr><td>2312</td><td>7.224906e-03</td><td> 0.197998510</td><td>1.909702e+01</td><td>3.623409e+00</td><td> 2.92384462</td><td>1.150865e+01</td><td> 0.37370862</td><td>5.874702e-01</td><td>1.824735e+01</td><td>⋯</td><td>NaN</td><td>7.458013e+00</td><td>3.332685e+00</td><td>1.895832e+01</td><td>28.9992410</td><td>12.104731582</td><td> 3.935168246</td><td> 8.23858943</td><td>POINT (-155.2731 19.87434)</td><td>var_imp_soil           </td></tr>\n",
              "\t<tr><td>2317</td><td>1.087098e-02</td><td> 4.530363892</td><td>1.220954e+01</td><td>1.249673e+01</td><td> 7.27616243</td><td>2.943616e+00</td><td> 2.81587345</td><td>5.345201e+00</td><td>9.506777e+00</td><td>⋯</td><td>NaN</td><td>2.827826e+01</td><td>2.796572e+01</td><td>6.053116e-04</td><td>12.4259749</td><td>17.228933623</td><td> 8.444638507</td><td>19.66743810</td><td>POINT (-155.2197 19.86513)</td><td>var_imp_trees          </td></tr>\n",
              "\t<tr><td>2326</td><td>          NA</td><td>          NA</td><td>          NA</td><td>          NA</td><td>         NA</td><td>          NA</td><td>         NA</td><td>          NA</td><td>          NA</td><td>⋯</td><td> NA</td><td>          NA</td><td>          NA</td><td>          NA</td><td>        NA</td><td>          NA</td><td>          NA</td><td>         NA</td><td>POINT (-155.8683 19.85005)</td><td>NA                     </td></tr>\n",
              "\t<tr><td>2335</td><td>          NA</td><td>          NA</td><td>          NA</td><td>          NA</td><td>         NA</td><td>          NA</td><td>         NA</td><td>          NA</td><td>          NA</td><td>⋯</td><td> NA</td><td>          NA</td><td>          NA</td><td>          NA</td><td>        NA</td><td>          NA</td><td>          NA</td><td>         NA</td><td>POINT (-155.3066 19.85275)</td><td>NA                     </td></tr>\n",
              "\t<tr><td>2364</td><td>2.826203e-01</td><td> 3.175359296</td><td>2.161047e+01</td><td>1.295388e+01</td><td>18.86386148</td><td>1.635709e+01</td><td>25.35463330</td><td>2.910828e+01</td><td>1.180257e+00</td><td>⋯</td><td>NaN</td><td>1.457773e+00</td><td>1.365208e-01</td><td>7.947245e+00</td><td> 0.1733618</td><td> 0.004045404</td><td> 2.337688595</td><td>10.50784433</td><td>POINT (-155.2931 19.79833)</td><td>var_imp_soil           </td></tr>\n",
              "\t<tr><td>2376</td><td>1.013413e-08</td><td>10.599237566</td><td>4.667866e+00</td><td>1.077774e+00</td><td>15.43834133</td><td>7.976295e-01</td><td>25.08091635</td><td>2.577868e+01</td><td>9.500616e+00</td><td>⋯</td><td>NaN</td><td>2.018351e+01</td><td>2.751046e+01</td><td>2.905094e+00</td><td>19.1737043</td><td>14.267460129</td><td>19.525744597</td><td> 8.98833486</td><td>POINT (-155.1947 19.79149)</td><td>var_imp_agbd_sd        </td></tr>\n",
              "\t<tr><td>2382</td><td>4.489983e+00</td><td> 6.346609928</td><td>1.386667e+00</td><td>1.337651e+01</td><td>20.75199640</td><td>2.041867e+01</td><td> 0.30531108</td><td>1.186175e+01</td><td>8.880796e+00</td><td>⋯</td><td>NaN</td><td>1.695631e+01</td><td>1.403795e+01</td><td>1.106228e+01</td><td> 9.6766699</td><td> 5.944065048</td><td> 2.516803469</td><td>18.58941473</td><td>POINT (-155.1444 19.76848)</td><td>var_imp_bare           </td></tr>\n",
              "\t<tr><td>2385</td><td>          NA</td><td>          NA</td><td>          NA</td><td>          NA</td><td>         NA</td><td>          NA</td><td>         NA</td><td>          NA</td><td>          NA</td><td>⋯</td><td> NA</td><td>          NA</td><td>          NA</td><td>          NA</td><td>        NA</td><td>          NA</td><td>          NA</td><td>         NA</td><td>POINT (-155.8365 19.77307)</td><td>NA                     </td></tr>\n",
              "\t<tr><td>2389</td><td>          NA</td><td>          NA</td><td>          NA</td><td>          NA</td><td>         NA</td><td>          NA</td><td>         NA</td><td>          NA</td><td>          NA</td><td>⋯</td><td> NA</td><td>          NA</td><td>          NA</td><td>          NA</td><td>        NA</td><td>          NA</td><td>          NA</td><td>         NA</td><td>POINT (-155.3291 19.76208)</td><td>NA                     </td></tr>\n",
              "\t<tr><td>2394</td><td>1.713663e+01</td><td> 8.792964013</td><td>1.884402e-01</td><td>8.823092e-01</td><td>26.33213019</td><td>1.036778e-01</td><td> 1.17064124</td><td>2.533831e+01</td><td>2.330177e+00</td><td>⋯</td><td>NaN</td><td>5.406250e-01</td><td>2.847911e+00</td><td>1.258415e+01</td><td> 0.4833906</td><td>29.529847394</td><td> 3.477288822</td><td>15.69495963</td><td>POINT (-155.263 19.76415)</td><td>var_imp_soil           </td></tr>\n",
              "\t<tr><td>2400</td><td>8.978550e-07</td><td>19.891934934</td><td>3.478323e+00</td><td>6.261910e+00</td><td>12.37243985</td><td>7.248996e-02</td><td> 0.01303356</td><td>4.321528e-02</td><td>1.059901e+01</td><td>⋯</td><td>NaN</td><td>2.175183e+00</td><td>2.998043e-01</td><td>1.646436e+01</td><td> 2.4765154</td><td>16.520412857</td><td> 0.018200250</td><td> 3.37058225</td><td>POINT (-155.2229 19.74225)</td><td>var_imp_soil           </td></tr>\n",
              "\t<tr><td>2406</td><td>1.125407e-12</td><td>16.854749147</td><td>1.285977e+01</td><td>7.428345e+00</td><td> 4.88482290</td><td>1.184762e+01</td><td> 2.61954397</td><td>1.864992e-01</td><td>2.154960e+01</td><td>⋯</td><td>NaN</td><td>8.326297e+00</td><td>8.709305e+00</td><td>4.170811e+00</td><td>15.3607971</td><td>22.011800341</td><td> 7.303728151</td><td>28.83479186</td><td>POINT (-155.1761 19.72958)</td><td>var_imp_grass          </td></tr>\n",
              "\t<tr><td>2409</td><td>1.785219e-25</td><td>11.886003740</td><td>1.375178e-06</td><td>1.293582e+00</td><td> 0.23062399</td><td>1.735485e+01</td><td>26.78183906</td><td>2.726997e-06</td><td>5.872359e-06</td><td>⋯</td><td>NaN</td><td>2.434121e-06</td><td>8.688297e-07</td><td>9.616951e-09</td><td> 0.2698023</td><td> 0.090508098</td><td> 0.122379898</td><td> 0.02665421</td><td>POINT (-155.8663 19.73585)</td><td>var_imp_shrub_and_scrub</td></tr>\n",
              "\t<tr><td>⋮</td><td>⋮</td><td>⋮</td><td>⋮</td><td>⋮</td><td>⋮</td><td>⋮</td><td>⋮</td><td>⋮</td><td>⋮</td><td>⋱</td><td>⋮</td><td>⋮</td><td>⋮</td><td>⋮</td><td>⋮</td><td>⋮</td><td>⋮</td><td>⋮</td><td>⋮</td><td>⋮</td></tr>\n",
              "\t<tr><td>4510</td><td>5.810020e+00</td><td>22.545738971</td><td>2.361571e+01</td><td>2.720449e+01</td><td>1.712865e+01</td><td>5.590579e+00</td><td> 0.28257559</td><td>3.652186e-09</td><td>3.730941e-01</td><td>⋯</td><td>NaN</td><td>5.370763e+00</td><td>7.860338e+00</td><td>1.102327e-02</td><td>2.093806e+01</td><td>1.953697e-01</td><td>3.073803e-03</td><td> 0.52329547</td><td>POINT (-155.6776 19.1541)</td><td>var_imp_built          </td></tr>\n",
              "\t<tr><td>4527</td><td>3.977612e-10</td><td> 0.040015747</td><td>9.313643e-11</td><td>8.223685e+00</td><td>1.405524e-01</td><td>5.772687e-01</td><td>25.11430022</td><td>5.949102e-03</td><td>1.163223e+01</td><td>⋯</td><td>NaN</td><td>6.140308e-02</td><td>3.225464e-05</td><td>2.481516e+01</td><td>3.684204e-02</td><td>1.374197e+00</td><td>2.173620e+01</td><td> 0.03185201</td><td>POINT (-155.0194 19.45106)</td><td>var_imp_aet            </td></tr>\n",
              "\t<tr><td>4541</td><td>          NA</td><td>          NA</td><td>          NA</td><td>          NA</td><td>          NA</td><td>          NA</td><td>         NA</td><td>          NA</td><td>          NA</td><td>⋯</td><td> NA</td><td>          NA</td><td>          NA</td><td>          NA</td><td>          NA</td><td>          NA</td><td>          NA</td><td>         NA</td><td>POINT (-155.39 19.68618)</td><td>NA                     </td></tr>\n",
              "\t<tr><td>4612</td><td>          NA</td><td>          NA</td><td>          NA</td><td>          NA</td><td>          NA</td><td>          NA</td><td>         NA</td><td>          NA</td><td>          NA</td><td>⋯</td><td> NA</td><td>          NA</td><td>          NA</td><td>          NA</td><td>          NA</td><td>          NA</td><td>          NA</td><td>         NA</td><td>POINT (-155.6009 19.18945)</td><td>NA                     </td></tr>\n",
              "\t<tr><td>4622</td><td>          NA</td><td>          NA</td><td>          NA</td><td>          NA</td><td>          NA</td><td>          NA</td><td>         NA</td><td>          NA</td><td>          NA</td><td>⋯</td><td> NA</td><td>          NA</td><td>          NA</td><td>          NA</td><td>          NA</td><td>          NA</td><td>          NA</td><td>         NA</td><td>POINT (-155.2953 19.83302)</td><td>NA                     </td></tr>\n",
              "\t<tr><td>4640</td><td>          NA</td><td>          NA</td><td>          NA</td><td>          NA</td><td>          NA</td><td>          NA</td><td>         NA</td><td>          NA</td><td>          NA</td><td>⋯</td><td> NA</td><td>          NA</td><td>          NA</td><td>          NA</td><td>          NA</td><td>          NA</td><td>          NA</td><td>         NA</td><td>POINT (-155.2986 19.45804)</td><td>NA                     </td></tr>\n",
              "\t<tr><td>4655</td><td>2.065005e-17</td><td> 0.000373122</td><td>1.413063e+01</td><td>2.666617e+01</td><td>3.093193e+00</td><td>6.471785e+00</td><td>14.29649672</td><td>1.316207e-04</td><td>2.950871e+01</td><td>⋯</td><td>NaN</td><td>2.078930e-04</td><td>5.506226e-06</td><td>5.690897e-08</td><td>6.060942e-04</td><td>1.775518e-03</td><td>5.256727e+00</td><td> 0.63836765</td><td>POINT (-155.2759 19.92207)</td><td>var_imp_trees          </td></tr>\n",
              "\t<tr><td>4695</td><td>1.250870e-18</td><td> 0.171783321</td><td>2.491165e-01</td><td>4.235451e+00</td><td>1.368591e+00</td><td>8.641901e+00</td><td>12.92557456</td><td>8.928924e-11</td><td>8.110797e+00</td><td>⋯</td><td>NaN</td><td>1.363598e-01</td><td>6.172614e+00</td><td>2.274661e-09</td><td>8.205665e-01</td><td>3.896031e-02</td><td>3.977172e+00</td><td> 8.58459824</td><td>POINT (-155.2626 19.9477)</td><td>var_imp_built          </td></tr>\n",
              "\t<tr><td>4700</td><td>1.004728e-08</td><td> 1.127056087</td><td>6.464291e-02</td><td>2.567022e+01</td><td>4.807599e+00</td><td>6.677747e+00</td><td> 0.01315148</td><td>8.798957e+00</td><td>2.419129e-03</td><td>⋯</td><td>NaN</td><td>2.793497e+01</td><td>1.776022e+01</td><td>2.815437e+01</td><td>1.799924e+01</td><td>1.443911e-04</td><td>1.251583e+00</td><td>11.29706123</td><td>POINT (-155.2306 19.38318)</td><td>var_imp_pdsi           </td></tr>\n",
              "\t<tr><td>4709</td><td>5.412269e-12</td><td> 0.180240996</td><td>1.364992e+00</td><td>4.273486e+00</td><td>2.779653e-01</td><td>1.679253e+00</td><td> 1.22893899</td><td>9.444773e-09</td><td>1.845753e+00</td><td>⋯</td><td>NaN</td><td>1.012589e+01</td><td>2.365650e+01</td><td>7.739841e-09</td><td>2.020586e+01</td><td>1.898256e+01</td><td>1.577656e-04</td><td> 4.27651661</td><td>POINT (-155.1973 19.91863)</td><td>var_imp_trees          </td></tr>\n",
              "\t<tr><td>4791</td><td>1.032157e-22</td><td> 0.715826104</td><td>1.179296e-01</td><td>2.080641e-23</td><td>2.671237e-01</td><td>2.319886e-10</td><td>10.87686666</td><td>1.077503e-13</td><td>1.654760e-02</td><td>⋯</td><td>NaN</td><td>1.231557e+01</td><td>2.294339e+00</td><td>9.091463e-02</td><td>1.291131e+00</td><td>2.627624e+01</td><td>2.644248e+01</td><td> 0.03447008</td><td>POINT (-155.4598 20.04416)</td><td>var_imp_agbd_m         </td></tr>\n",
              "\t<tr><td>4814</td><td>8.453359e+00</td><td> 3.498430760</td><td>3.433274e-08</td><td>2.743705e+01</td><td>9.616285e-04</td><td>1.515718e+01</td><td> 0.33930275</td><td>1.619404e-02</td><td>1.796274e-04</td><td>⋯</td><td>NaN</td><td>1.663327e-13</td><td>2.677668e-23</td><td>9.985376e+00</td><td>2.237268e-16</td><td>1.031361e-06</td><td>2.952181e+01</td><td> 7.74025025</td><td>POINT (-155.7546 19.5368)</td><td>var_imp_tmmx           </td></tr>\n",
              "\t<tr><td>4839</td><td>3.717423e-07</td><td>25.364296661</td><td>1.850402e-07</td><td>9.891908e+00</td><td>1.697817e+00</td><td>1.864805e-01</td><td> 0.05892980</td><td>2.440070e+00</td><td>2.612891e+01</td><td>⋯</td><td>NaN</td><td>1.622834e+01</td><td>5.931792e-01</td><td>1.112666e-02</td><td>8.534484e-02</td><td>1.457641e+01</td><td>1.187203e+01</td><td> 0.10916079</td><td>POINT (-155.1275 19.77363)</td><td>var_imp_srad           </td></tr>\n",
              "\t<tr><td>4895</td><td>          NA</td><td>          NA</td><td>          NA</td><td>          NA</td><td>          NA</td><td>          NA</td><td>         NA</td><td>          NA</td><td>          NA</td><td>⋯</td><td> NA</td><td>          NA</td><td>          NA</td><td>          NA</td><td>          NA</td><td>          NA</td><td>          NA</td><td>         NA</td><td>POINT (-155.7865 19.1926)</td><td>NA                     </td></tr>\n",
              "\t<tr><td>4955</td><td>          NA</td><td>          NA</td><td>          NA</td><td>          NA</td><td>          NA</td><td>          NA</td><td>         NA</td><td>          NA</td><td>          NA</td><td>⋯</td><td> NA</td><td>          NA</td><td>          NA</td><td>          NA</td><td>          NA</td><td>          NA</td><td>          NA</td><td>         NA</td><td>POINT (-155.5991 19.15171)</td><td>NA                     </td></tr>\n",
              "\t<tr><td>4994</td><td>1.567470e-16</td><td> 0.026744554</td><td>1.746808e+01</td><td>2.295143e+01</td><td>9.093467e+00</td><td>2.844973e+01</td><td>20.64271052</td><td>3.794728e-04</td><td>7.840210e+00</td><td>⋯</td><td>NaN</td><td>1.300917e+01</td><td>1.911095e+01</td><td>1.730846e+00</td><td>2.173954e+01</td><td>1.252162e+01</td><td>1.464667e+01</td><td> 0.06540696</td><td>POINT (-155.9558 19.63585)</td><td>var_imp_built          </td></tr>\n",
              "\t<tr><td>5059</td><td>1.613649e-03</td><td> 0.645232051</td><td>7.357910e+00</td><td>2.112319e+01</td><td>3.050937e+00</td><td>1.280574e+01</td><td> 7.49777681</td><td>1.302065e+01</td><td>7.523851e+00</td><td>⋯</td><td>NaN</td><td>2.360251e+00</td><td>1.139092e+01</td><td>5.491067e-02</td><td>1.817789e+01</td><td>1.704341e+00</td><td>1.319667e+01</td><td> 0.09667812</td><td>POINT (-155.465 19.27497)</td><td>var_imp_shrub_and_scrub</td></tr>\n",
              "\t<tr><td>5062</td><td>          NA</td><td>          NA</td><td>          NA</td><td>          NA</td><td>          NA</td><td>          NA</td><td>         NA</td><td>          NA</td><td>          NA</td><td>⋯</td><td> NA</td><td>          NA</td><td>          NA</td><td>          NA</td><td>          NA</td><td>          NA</td><td>          NA</td><td>         NA</td><td>POINT (-155.265 19.38295)</td><td>NA                     </td></tr>\n",
              "\t<tr><td>5124</td><td>          NA</td><td>          NA</td><td>          NA</td><td>          NA</td><td>          NA</td><td>          NA</td><td>         NA</td><td>          NA</td><td>          NA</td><td>⋯</td><td> NA</td><td>          NA</td><td>          NA</td><td>          NA</td><td>          NA</td><td>          NA</td><td>          NA</td><td>         NA</td><td>POINT (-155.1219 19.46101)</td><td>NA                     </td></tr>\n",
              "\t<tr><td>5198</td><td>3.557140e-08</td><td> 0.221002960</td><td>2.791932e+01</td><td>2.526412e+00</td><td>1.971365e+00</td><td>1.072484e+01</td><td>29.46632044</td><td>2.260192e+01</td><td>2.586516e+00</td><td>⋯</td><td>NaN</td><td>1.686338e+01</td><td>2.401075e+01</td><td>1.201307e+01</td><td>2.282545e+01</td><td>1.962367e+00</td><td>7.172970e+00</td><td> 6.39334824</td><td>POINT (-155.2379 19.41971)</td><td>var_imp_soil           </td></tr>\n",
              "\t<tr><td>5226</td><td>6.144146e+00</td><td> 2.657804540</td><td>3.285054e+00</td><td>9.588715e+00</td><td>4.658794e-01</td><td>2.425839e+01</td><td>27.83371643</td><td>1.537170e+01</td><td>1.155754e+00</td><td>⋯</td><td>NaN</td><td>2.262453e+01</td><td>2.800368e+01</td><td>3.796714e-01</td><td>1.801131e+01</td><td>3.397079e+00</td><td>1.476643e+01</td><td> 0.30414701</td><td>POINT (-155.541 19.25221)</td><td>var_imp_shrub_and_scrub</td></tr>\n",
              "\t<tr><td>5262</td><td>5.401591e-01</td><td>12.497306901</td><td>2.496702e-08</td><td>1.720625e+01</td><td>1.852256e+01</td><td>7.737378e-02</td><td>11.88273420</td><td>2.777507e+00</td><td>8.709784e+00</td><td>⋯</td><td>NaN</td><td>3.412320e-02</td><td>4.217849e-07</td><td>1.036554e+01</td><td>7.055044e-01</td><td>5.160570e-02</td><td>1.820905e+01</td><td>13.85860295</td><td>POINT (-155.1268 19.65372)</td><td>var_imp_aet            </td></tr>\n",
              "\t<tr><td>5284</td><td>1.945306e-07</td><td>11.989948201</td><td>8.728000e-04</td><td>1.740176e+00</td><td>2.739684e+01</td><td>3.665249e+00</td><td> 4.96671954</td><td>1.430291e-02</td><td>4.638223e-01</td><td>⋯</td><td>NaN</td><td>7.163048e+00</td><td>1.449627e+01</td><td>1.163244e-04</td><td>2.762892e+01</td><td>1.213940e+01</td><td>1.874994e+00</td><td> 1.27569663</td><td>POINT (-155.2091 19.87619)</td><td>var_imp_shrub_and_scrub</td></tr>\n",
              "\t<tr><td>5289</td><td>2.298257e-03</td><td>10.033390478</td><td>1.005741e+00</td><td>1.316046e+00</td><td>2.525892e+01</td><td>9.567671e+00</td><td> 0.49474107</td><td>1.354533e+01</td><td>4.614527e-05</td><td>⋯</td><td>NaN</td><td>2.833784e-08</td><td>5.169924e-10</td><td>5.731337e-01</td><td>3.196765e-07</td><td>2.916088e-04</td><td>8.321582e+00</td><td>21.25796737</td><td>POINT (-155.27 19.83344)</td><td>var_imp_tmmx           </td></tr>\n",
              "\t<tr><td>5347</td><td>          NA</td><td>          NA</td><td>          NA</td><td>          NA</td><td>          NA</td><td>          NA</td><td>         NA</td><td>          NA</td><td>          NA</td><td>⋯</td><td> NA</td><td>          NA</td><td>          NA</td><td>          NA</td><td>          NA</td><td>          NA</td><td>          NA</td><td>         NA</td><td>POINT (-155.2183 19.70499)</td><td>NA                     </td></tr>\n",
              "\t<tr><td>5450</td><td>5.317570e-02</td><td>29.146024115</td><td>1.584080e+01</td><td>2.148478e+01</td><td>9.798744e+00</td><td>2.962703e+01</td><td>17.04983626</td><td>5.392874e+00</td><td>2.897759e+01</td><td>⋯</td><td>NaN</td><td>2.358317e+01</td><td>6.815396e+00</td><td>1.527833e+01</td><td>1.817980e+01</td><td>2.477413e+01</td><td>6.229849e+00</td><td> 4.06184590</td><td>POINT (-155.4314 19.33605)</td><td>var_imp_shrub_and_scrub</td></tr>\n",
              "\t<tr><td>5553</td><td>5.285461e-01</td><td> 2.348358623</td><td>2.857911e-01</td><td>1.989005e+00</td><td>1.728390e+00</td><td>1.055352e+01</td><td> 5.16763978</td><td>1.711122e+00</td><td>1.546325e+01</td><td>⋯</td><td>NaN</td><td>1.903857e+01</td><td>2.763705e+01</td><td>2.119748e+01</td><td>2.149680e+01</td><td>1.706030e+01</td><td>2.138349e+01</td><td>27.61033465</td><td>POINT (-155.453 19.38221)</td><td>var_imp_shrub_and_scrub</td></tr>\n",
              "\t<tr><td>5712</td><td>          NA</td><td>          NA</td><td>          NA</td><td>          NA</td><td>          NA</td><td>          NA</td><td>         NA</td><td>          NA</td><td>          NA</td><td>⋯</td><td> NA</td><td>          NA</td><td>          NA</td><td>          NA</td><td>          NA</td><td>          NA</td><td>          NA</td><td>         NA</td><td>POINT (-155.6454 20.11878)</td><td>NA                     </td></tr>\n",
              "\t<tr><td>5825</td><td>          NA</td><td>          NA</td><td>          NA</td><td>          NA</td><td>          NA</td><td>          NA</td><td>         NA</td><td>          NA</td><td>          NA</td><td>⋯</td><td> NA</td><td>          NA</td><td>          NA</td><td>          NA</td><td>          NA</td><td>          NA</td><td>          NA</td><td>         NA</td><td>POINT (-154.9443 19.48818)</td><td>NA                     </td></tr>\n",
              "\t<tr><td>5831</td><td>4.409919e+00</td><td> 0.479587996</td><td>1.094538e+01</td><td>1.763851e+00</td><td>7.006377e+00</td><td>4.616703e-01</td><td> 4.11091866</td><td>6.627554e+00</td><td>6.875549e+00</td><td>⋯</td><td>NaN</td><td>1.614454e+01</td><td>2.334358e+01</td><td>1.737615e+01</td><td>1.563851e+01</td><td>7.570823e+00</td><td>5.009662e+00</td><td> 9.75543402</td><td>POINT (-155.967 19.67642)</td><td>var_imp_soil           </td></tr>\n",
              "</tbody>\n",
              "</table>\n"
            ],
            "text/markdown": "\nA data.table: 126 × 34\n\n| PLOT &lt;chr&gt; | r2 &lt;dbl&gt; | var_imp_SRTM_mTPI &lt;dbl&gt; | var_imp_aet &lt;dbl&gt; | var_imp_agbd_m &lt;dbl&gt; | var_imp_agbd_n &lt;dbl&gt; | var_imp_agbd_sd &lt;dbl&gt; | var_imp_bare &lt;dbl&gt; | var_imp_built &lt;dbl&gt; | var_imp_crops &lt;dbl&gt; | ⋯ ⋯ | var_imp_swe &lt;dbl&gt; | var_imp_tmmn &lt;dbl&gt; | var_imp_tmmx &lt;dbl&gt; | var_imp_trees &lt;dbl&gt; | var_imp_vap &lt;dbl&gt; | var_imp_vpd &lt;dbl&gt; | var_imp_vs &lt;dbl&gt; | var_imp_water &lt;dbl&gt; | geometry &lt;POINT [°]&gt; | max_col &lt;chr&gt; |\n|---|---|---|---|---|---|---|---|---|---|---|---|---|---|---|---|---|---|---|---|---|\n| 2159 |           NA |           NA |           NA |           NA |          NA |           NA |          NA |           NA |           NA | ⋯ |  NA |           NA |           NA |           NA |         NA |           NA |           NA |          NA | POINT (-155.7952 20.1789) | NA                      |\n| 2167 | 1.699544e-02 | 18.312554982 | 2.577294e+01 | 1.488227e+01 | 27.86559634 | 3.834754e+00 |  0.58989264 | 2.137251e+01 | 1.154693e-01 | ⋯ | NaN | 1.992879e+01 | 1.627514e+01 | 5.482793e+00 | 21.6354009 | 26.369679944 |  5.040394389 | 25.10919817 | POINT (-155.7075 20.16785) | var_imp_soil            |\n| 2191 | 2.465466e-04 | 29.037255578 | 3.254902e-04 | 3.928672e+00 | 22.01742615 | 1.380719e+00 |  0.04609450 | 1.000347e+01 | 2.524276e+01 | ⋯ | NaN | 2.909641e+01 | 1.894016e+01 | 1.352744e+01 | 15.5709883 | 17.382398730 | 13.974409264 | 10.53374294 | POINT (-155.6324 20.11583) | var_imp_soil            |\n| 2204 | 8.483197e-05 |  1.112534889 | 2.893271e+01 | 1.816152e-01 |  0.74452207 | 3.004465e-02 | 26.46549232 | 2.035719e-03 | 1.984847e+01 | ⋯ | NaN | 2.282206e+01 | 1.678496e+01 | 6.818063e+00 | 12.9852195 | 23.665713765 |  4.542048853 |  5.96824091 | POINT (-155.7211 20.08227) | var_imp_built           |\n| 2208 |           NA |           NA |           NA |           NA |          NA |           NA |          NA |           NA |           NA | ⋯ |  NA |           NA |           NA |           NA |         NA |           NA |           NA |          NA | POINT (-155.6623 20.08261) | NA                      |\n| 2212 | 2.032440e-02 |  0.971728696 | 6.421203e-12 | 1.776484e-04 |  0.05042523 | 1.799946e-08 |  2.00592439 | 2.316025e+01 | 1.684711e+01 | ⋯ | NaN | 2.794781e-01 | 2.775426e+00 | 7.638061e+00 | 11.5054857 |  8.810963383 |  0.730457140 |  6.82970454 | POINT (-155.6197 20.05735) | var_imp_aet             |\n| 2230 |           NA |           NA |           NA |           NA |          NA |           NA |          NA |           NA |           NA | ⋯ |  NA |           NA |           NA |           NA |         NA |           NA |           NA |          NA | POINT (-155.6592 20.04089) | NA                      |\n| 2233 | 2.407917e-04 |  0.009362838 | 1.245046e+01 | 1.864930e-08 |  0.03336243 | 3.683430e-01 | 27.34632637 | 1.684582e-08 | 2.981727e+01 | ⋯ | NaN | 2.549776e+01 | 3.284506e+00 | 4.087831e+00 |  5.8936836 |  4.293533143 | 17.016448346 |  2.72206550 | POINT (-155.3823 20.02604) | var_imp_built           |\n| 2237 | 6.656060e-11 |  0.001177352 | 2.906927e-02 | 3.591406e-02 |  0.03299596 | 5.364473e-10 |  0.01120744 | 2.368369e-01 | 5.588972e+00 | ⋯ | NaN | 2.352130e+01 | 2.431605e+01 | 1.016956e-02 |  6.5668242 | 12.423516909 |  3.019299994 | 13.79404755 | POINT (-155.3306 20.01627) | var_imp_agbd_sd         |\n| 2242 | 2.782914e+01 | 28.549164456 | 7.452227e+00 | 2.815852e+00 | 21.23331956 | 1.491213e+01 |  0.69887170 | 6.697619e+00 | 1.372023e+01 | ⋯ | NaN | 2.379394e+01 | 2.871229e+01 | 4.949667e-01 |  2.9662975 | 12.006209057 |  0.001253229 | 15.13549463 | POINT (-155.2677 20.00302) | var_imp_shrub_and_scrub |\n| 2248 | 2.531590e-06 |  1.173399440 | 2.573912e+01 | 3.249405e-05 |  5.93693473 | 2.887676e-01 |  2.68802686 | 1.407307e-01 | 3.070742e-02 | ⋯ | NaN | 4.845373e-01 | 2.839716e+00 | 2.236023e+01 |  1.5294088 |  4.156508631 | 14.179857065 |  3.32426383 | POINT (-155.4615 19.99425) | var_imp_agbd_m          |\n| 2256 |           NA |           NA |           NA |           NA |          NA |           NA |          NA |           NA |           NA | ⋯ |  NA |           NA |           NA |           NA |         NA |           NA |           NA |          NA | POINT (-155.3531 19.98225) | NA                      |\n| 2261 | 2.310592e-01 |  0.988461917 | 2.874369e+01 | 7.633539e+00 |  0.88385773 | 1.629760e+00 |  3.84922764 | 7.273238e-01 | 2.030663e+01 | ⋯ | NaN | 2.711953e+01 | 2.785024e+01 | 1.038145e+00 | 18.4261905 | 22.569274141 |  0.812229814 |  2.87450897 | POINT (-155.3101 19.97333) | var_imp_built           |\n| 2271 |           NA |           NA |           NA |           NA |          NA |           NA |          NA |           NA |           NA | ⋯ |  NA |           NA |           NA |           NA |         NA |           NA |           NA |          NA | POINT (-155.2076 19.95886) | NA                      |\n| 2286 |           NA |           NA |           NA |           NA |          NA |           NA |          NA |           NA |           NA | ⋯ |  NA |           NA |           NA |           NA |         NA |           NA |           NA |          NA | POINT (-155.2982 19.92324) | NA                      |\n| 2291 |           NA |           NA |           NA |           NA |          NA |           NA |          NA |           NA |           NA | ⋯ |  NA |           NA |           NA |           NA |         NA |           NA |           NA |          NA | POINT (-155.2335 19.91766) | NA                      |\n| 2307 |           NA |           NA |           NA |           NA |          NA |           NA |          NA |           NA |           NA | ⋯ |  NA |           NA |           NA |           NA |         NA |           NA |           NA |          NA | POINT (-155.3125 19.89353) | NA                      |\n| 2312 | 7.224906e-03 |  0.197998510 | 1.909702e+01 | 3.623409e+00 |  2.92384462 | 1.150865e+01 |  0.37370862 | 5.874702e-01 | 1.824735e+01 | ⋯ | NaN | 7.458013e+00 | 3.332685e+00 | 1.895832e+01 | 28.9992410 | 12.104731582 |  3.935168246 |  8.23858943 | POINT (-155.2731 19.87434) | var_imp_soil            |\n| 2317 | 1.087098e-02 |  4.530363892 | 1.220954e+01 | 1.249673e+01 |  7.27616243 | 2.943616e+00 |  2.81587345 | 5.345201e+00 | 9.506777e+00 | ⋯ | NaN | 2.827826e+01 | 2.796572e+01 | 6.053116e-04 | 12.4259749 | 17.228933623 |  8.444638507 | 19.66743810 | POINT (-155.2197 19.86513) | var_imp_trees           |\n| 2326 |           NA |           NA |           NA |           NA |          NA |           NA |          NA |           NA |           NA | ⋯ |  NA |           NA |           NA |           NA |         NA |           NA |           NA |          NA | POINT (-155.8683 19.85005) | NA                      |\n| 2335 |           NA |           NA |           NA |           NA |          NA |           NA |          NA |           NA |           NA | ⋯ |  NA |           NA |           NA |           NA |         NA |           NA |           NA |          NA | POINT (-155.3066 19.85275) | NA                      |\n| 2364 | 2.826203e-01 |  3.175359296 | 2.161047e+01 | 1.295388e+01 | 18.86386148 | 1.635709e+01 | 25.35463330 | 2.910828e+01 | 1.180257e+00 | ⋯ | NaN | 1.457773e+00 | 1.365208e-01 | 7.947245e+00 |  0.1733618 |  0.004045404 |  2.337688595 | 10.50784433 | POINT (-155.2931 19.79833) | var_imp_soil            |\n| 2376 | 1.013413e-08 | 10.599237566 | 4.667866e+00 | 1.077774e+00 | 15.43834133 | 7.976295e-01 | 25.08091635 | 2.577868e+01 | 9.500616e+00 | ⋯ | NaN | 2.018351e+01 | 2.751046e+01 | 2.905094e+00 | 19.1737043 | 14.267460129 | 19.525744597 |  8.98833486 | POINT (-155.1947 19.79149) | var_imp_agbd_sd         |\n| 2382 | 4.489983e+00 |  6.346609928 | 1.386667e+00 | 1.337651e+01 | 20.75199640 | 2.041867e+01 |  0.30531108 | 1.186175e+01 | 8.880796e+00 | ⋯ | NaN | 1.695631e+01 | 1.403795e+01 | 1.106228e+01 |  9.6766699 |  5.944065048 |  2.516803469 | 18.58941473 | POINT (-155.1444 19.76848) | var_imp_bare            |\n| 2385 |           NA |           NA |           NA |           NA |          NA |           NA |          NA |           NA |           NA | ⋯ |  NA |           NA |           NA |           NA |         NA |           NA |           NA |          NA | POINT (-155.8365 19.77307) | NA                      |\n| 2389 |           NA |           NA |           NA |           NA |          NA |           NA |          NA |           NA |           NA | ⋯ |  NA |           NA |           NA |           NA |         NA |           NA |           NA |          NA | POINT (-155.3291 19.76208) | NA                      |\n| 2394 | 1.713663e+01 |  8.792964013 | 1.884402e-01 | 8.823092e-01 | 26.33213019 | 1.036778e-01 |  1.17064124 | 2.533831e+01 | 2.330177e+00 | ⋯ | NaN | 5.406250e-01 | 2.847911e+00 | 1.258415e+01 |  0.4833906 | 29.529847394 |  3.477288822 | 15.69495963 | POINT (-155.263 19.76415) | var_imp_soil            |\n| 2400 | 8.978550e-07 | 19.891934934 | 3.478323e+00 | 6.261910e+00 | 12.37243985 | 7.248996e-02 |  0.01303356 | 4.321528e-02 | 1.059901e+01 | ⋯ | NaN | 2.175183e+00 | 2.998043e-01 | 1.646436e+01 |  2.4765154 | 16.520412857 |  0.018200250 |  3.37058225 | POINT (-155.2229 19.74225) | var_imp_soil            |\n| 2406 | 1.125407e-12 | 16.854749147 | 1.285977e+01 | 7.428345e+00 |  4.88482290 | 1.184762e+01 |  2.61954397 | 1.864992e-01 | 2.154960e+01 | ⋯ | NaN | 8.326297e+00 | 8.709305e+00 | 4.170811e+00 | 15.3607971 | 22.011800341 |  7.303728151 | 28.83479186 | POINT (-155.1761 19.72958) | var_imp_grass           |\n| 2409 | 1.785219e-25 | 11.886003740 | 1.375178e-06 | 1.293582e+00 |  0.23062399 | 1.735485e+01 | 26.78183906 | 2.726997e-06 | 5.872359e-06 | ⋯ | NaN | 2.434121e-06 | 8.688297e-07 | 9.616951e-09 |  0.2698023 |  0.090508098 |  0.122379898 |  0.02665421 | POINT (-155.8663 19.73585) | var_imp_shrub_and_scrub |\n| ⋮ | ⋮ | ⋮ | ⋮ | ⋮ | ⋮ | ⋮ | ⋮ | ⋮ | ⋮ | ⋱ | ⋮ | ⋮ | ⋮ | ⋮ | ⋮ | ⋮ | ⋮ | ⋮ | ⋮ | ⋮ |\n| 4510 | 5.810020e+00 | 22.545738971 | 2.361571e+01 | 2.720449e+01 | 1.712865e+01 | 5.590579e+00 |  0.28257559 | 3.652186e-09 | 3.730941e-01 | ⋯ | NaN | 5.370763e+00 | 7.860338e+00 | 1.102327e-02 | 2.093806e+01 | 1.953697e-01 | 3.073803e-03 |  0.52329547 | POINT (-155.6776 19.1541) | var_imp_built           |\n| 4527 | 3.977612e-10 |  0.040015747 | 9.313643e-11 | 8.223685e+00 | 1.405524e-01 | 5.772687e-01 | 25.11430022 | 5.949102e-03 | 1.163223e+01 | ⋯ | NaN | 6.140308e-02 | 3.225464e-05 | 2.481516e+01 | 3.684204e-02 | 1.374197e+00 | 2.173620e+01 |  0.03185201 | POINT (-155.0194 19.45106) | var_imp_aet             |\n| 4541 |           NA |           NA |           NA |           NA |           NA |           NA |          NA |           NA |           NA | ⋯ |  NA |           NA |           NA |           NA |           NA |           NA |           NA |          NA | POINT (-155.39 19.68618) | NA                      |\n| 4612 |           NA |           NA |           NA |           NA |           NA |           NA |          NA |           NA |           NA | ⋯ |  NA |           NA |           NA |           NA |           NA |           NA |           NA |          NA | POINT (-155.6009 19.18945) | NA                      |\n| 4622 |           NA |           NA |           NA |           NA |           NA |           NA |          NA |           NA |           NA | ⋯ |  NA |           NA |           NA |           NA |           NA |           NA |           NA |          NA | POINT (-155.2953 19.83302) | NA                      |\n| 4640 |           NA |           NA |           NA |           NA |           NA |           NA |          NA |           NA |           NA | ⋯ |  NA |           NA |           NA |           NA |           NA |           NA |           NA |          NA | POINT (-155.2986 19.45804) | NA                      |\n| 4655 | 2.065005e-17 |  0.000373122 | 1.413063e+01 | 2.666617e+01 | 3.093193e+00 | 6.471785e+00 | 14.29649672 | 1.316207e-04 | 2.950871e+01 | ⋯ | NaN | 2.078930e-04 | 5.506226e-06 | 5.690897e-08 | 6.060942e-04 | 1.775518e-03 | 5.256727e+00 |  0.63836765 | POINT (-155.2759 19.92207) | var_imp_trees           |\n| 4695 | 1.250870e-18 |  0.171783321 | 2.491165e-01 | 4.235451e+00 | 1.368591e+00 | 8.641901e+00 | 12.92557456 | 8.928924e-11 | 8.110797e+00 | ⋯ | NaN | 1.363598e-01 | 6.172614e+00 | 2.274661e-09 | 8.205665e-01 | 3.896031e-02 | 3.977172e+00 |  8.58459824 | POINT (-155.2626 19.9477) | var_imp_built           |\n| 4700 | 1.004728e-08 |  1.127056087 | 6.464291e-02 | 2.567022e+01 | 4.807599e+00 | 6.677747e+00 |  0.01315148 | 8.798957e+00 | 2.419129e-03 | ⋯ | NaN | 2.793497e+01 | 1.776022e+01 | 2.815437e+01 | 1.799924e+01 | 1.443911e-04 | 1.251583e+00 | 11.29706123 | POINT (-155.2306 19.38318) | var_imp_pdsi            |\n| 4709 | 5.412269e-12 |  0.180240996 | 1.364992e+00 | 4.273486e+00 | 2.779653e-01 | 1.679253e+00 |  1.22893899 | 9.444773e-09 | 1.845753e+00 | ⋯ | NaN | 1.012589e+01 | 2.365650e+01 | 7.739841e-09 | 2.020586e+01 | 1.898256e+01 | 1.577656e-04 |  4.27651661 | POINT (-155.1973 19.91863) | var_imp_trees           |\n| 4791 | 1.032157e-22 |  0.715826104 | 1.179296e-01 | 2.080641e-23 | 2.671237e-01 | 2.319886e-10 | 10.87686666 | 1.077503e-13 | 1.654760e-02 | ⋯ | NaN | 1.231557e+01 | 2.294339e+00 | 9.091463e-02 | 1.291131e+00 | 2.627624e+01 | 2.644248e+01 |  0.03447008 | POINT (-155.4598 20.04416) | var_imp_agbd_m          |\n| 4814 | 8.453359e+00 |  3.498430760 | 3.433274e-08 | 2.743705e+01 | 9.616285e-04 | 1.515718e+01 |  0.33930275 | 1.619404e-02 | 1.796274e-04 | ⋯ | NaN | 1.663327e-13 | 2.677668e-23 | 9.985376e+00 | 2.237268e-16 | 1.031361e-06 | 2.952181e+01 |  7.74025025 | POINT (-155.7546 19.5368) | var_imp_tmmx            |\n| 4839 | 3.717423e-07 | 25.364296661 | 1.850402e-07 | 9.891908e+00 | 1.697817e+00 | 1.864805e-01 |  0.05892980 | 2.440070e+00 | 2.612891e+01 | ⋯ | NaN | 1.622834e+01 | 5.931792e-01 | 1.112666e-02 | 8.534484e-02 | 1.457641e+01 | 1.187203e+01 |  0.10916079 | POINT (-155.1275 19.77363) | var_imp_srad            |\n| 4895 |           NA |           NA |           NA |           NA |           NA |           NA |          NA |           NA |           NA | ⋯ |  NA |           NA |           NA |           NA |           NA |           NA |           NA |          NA | POINT (-155.7865 19.1926) | NA                      |\n| 4955 |           NA |           NA |           NA |           NA |           NA |           NA |          NA |           NA |           NA | ⋯ |  NA |           NA |           NA |           NA |           NA |           NA |           NA |          NA | POINT (-155.5991 19.15171) | NA                      |\n| 4994 | 1.567470e-16 |  0.026744554 | 1.746808e+01 | 2.295143e+01 | 9.093467e+00 | 2.844973e+01 | 20.64271052 | 3.794728e-04 | 7.840210e+00 | ⋯ | NaN | 1.300917e+01 | 1.911095e+01 | 1.730846e+00 | 2.173954e+01 | 1.252162e+01 | 1.464667e+01 |  0.06540696 | POINT (-155.9558 19.63585) | var_imp_built           |\n| 5059 | 1.613649e-03 |  0.645232051 | 7.357910e+00 | 2.112319e+01 | 3.050937e+00 | 1.280574e+01 |  7.49777681 | 1.302065e+01 | 7.523851e+00 | ⋯ | NaN | 2.360251e+00 | 1.139092e+01 | 5.491067e-02 | 1.817789e+01 | 1.704341e+00 | 1.319667e+01 |  0.09667812 | POINT (-155.465 19.27497) | var_imp_shrub_and_scrub |\n| 5062 |           NA |           NA |           NA |           NA |           NA |           NA |          NA |           NA |           NA | ⋯ |  NA |           NA |           NA |           NA |           NA |           NA |           NA |          NA | POINT (-155.265 19.38295) | NA                      |\n| 5124 |           NA |           NA |           NA |           NA |           NA |           NA |          NA |           NA |           NA | ⋯ |  NA |           NA |           NA |           NA |           NA |           NA |           NA |          NA | POINT (-155.1219 19.46101) | NA                      |\n| 5198 | 3.557140e-08 |  0.221002960 | 2.791932e+01 | 2.526412e+00 | 1.971365e+00 | 1.072484e+01 | 29.46632044 | 2.260192e+01 | 2.586516e+00 | ⋯ | NaN | 1.686338e+01 | 2.401075e+01 | 1.201307e+01 | 2.282545e+01 | 1.962367e+00 | 7.172970e+00 |  6.39334824 | POINT (-155.2379 19.41971) | var_imp_soil            |\n| 5226 | 6.144146e+00 |  2.657804540 | 3.285054e+00 | 9.588715e+00 | 4.658794e-01 | 2.425839e+01 | 27.83371643 | 1.537170e+01 | 1.155754e+00 | ⋯ | NaN | 2.262453e+01 | 2.800368e+01 | 3.796714e-01 | 1.801131e+01 | 3.397079e+00 | 1.476643e+01 |  0.30414701 | POINT (-155.541 19.25221) | var_imp_shrub_and_scrub |\n| 5262 | 5.401591e-01 | 12.497306901 | 2.496702e-08 | 1.720625e+01 | 1.852256e+01 | 7.737378e-02 | 11.88273420 | 2.777507e+00 | 8.709784e+00 | ⋯ | NaN | 3.412320e-02 | 4.217849e-07 | 1.036554e+01 | 7.055044e-01 | 5.160570e-02 | 1.820905e+01 | 13.85860295 | POINT (-155.1268 19.65372) | var_imp_aet             |\n| 5284 | 1.945306e-07 | 11.989948201 | 8.728000e-04 | 1.740176e+00 | 2.739684e+01 | 3.665249e+00 |  4.96671954 | 1.430291e-02 | 4.638223e-01 | ⋯ | NaN | 7.163048e+00 | 1.449627e+01 | 1.163244e-04 | 2.762892e+01 | 1.213940e+01 | 1.874994e+00 |  1.27569663 | POINT (-155.2091 19.87619) | var_imp_shrub_and_scrub |\n| 5289 | 2.298257e-03 | 10.033390478 | 1.005741e+00 | 1.316046e+00 | 2.525892e+01 | 9.567671e+00 |  0.49474107 | 1.354533e+01 | 4.614527e-05 | ⋯ | NaN | 2.833784e-08 | 5.169924e-10 | 5.731337e-01 | 3.196765e-07 | 2.916088e-04 | 8.321582e+00 | 21.25796737 | POINT (-155.27 19.83344) | var_imp_tmmx            |\n| 5347 |           NA |           NA |           NA |           NA |           NA |           NA |          NA |           NA |           NA | ⋯ |  NA |           NA |           NA |           NA |           NA |           NA |           NA |          NA | POINT (-155.2183 19.70499) | NA                      |\n| 5450 | 5.317570e-02 | 29.146024115 | 1.584080e+01 | 2.148478e+01 | 9.798744e+00 | 2.962703e+01 | 17.04983626 | 5.392874e+00 | 2.897759e+01 | ⋯ | NaN | 2.358317e+01 | 6.815396e+00 | 1.527833e+01 | 1.817980e+01 | 2.477413e+01 | 6.229849e+00 |  4.06184590 | POINT (-155.4314 19.33605) | var_imp_shrub_and_scrub |\n| 5553 | 5.285461e-01 |  2.348358623 | 2.857911e-01 | 1.989005e+00 | 1.728390e+00 | 1.055352e+01 |  5.16763978 | 1.711122e+00 | 1.546325e+01 | ⋯ | NaN | 1.903857e+01 | 2.763705e+01 | 2.119748e+01 | 2.149680e+01 | 1.706030e+01 | 2.138349e+01 | 27.61033465 | POINT (-155.453 19.38221) | var_imp_shrub_and_scrub |\n| 5712 |           NA |           NA |           NA |           NA |           NA |           NA |          NA |           NA |           NA | ⋯ |  NA |           NA |           NA |           NA |           NA |           NA |           NA |          NA | POINT (-155.6454 20.11878) | NA                      |\n| 5825 |           NA |           NA |           NA |           NA |           NA |           NA |          NA |           NA |           NA | ⋯ |  NA |           NA |           NA |           NA |           NA |           NA |           NA |          NA | POINT (-154.9443 19.48818) | NA                      |\n| 5831 | 4.409919e+00 |  0.479587996 | 1.094538e+01 | 1.763851e+00 | 7.006377e+00 | 4.616703e-01 |  4.11091866 | 6.627554e+00 | 6.875549e+00 | ⋯ | NaN | 1.614454e+01 | 2.334358e+01 | 1.737615e+01 | 1.563851e+01 | 7.570823e+00 | 5.009662e+00 |  9.75543402 | POINT (-155.967 19.67642) | var_imp_soil            |\n\n",
            "text/latex": "A data.table: 126 × 34\n\\begin{tabular}{lllllllllllllllllllll}\n PLOT & r2 & var\\_imp\\_SRTM\\_mTPI & var\\_imp\\_aet & var\\_imp\\_agbd\\_m & var\\_imp\\_agbd\\_n & var\\_imp\\_agbd\\_sd & var\\_imp\\_bare & var\\_imp\\_built & var\\_imp\\_crops & ⋯ & var\\_imp\\_swe & var\\_imp\\_tmmn & var\\_imp\\_tmmx & var\\_imp\\_trees & var\\_imp\\_vap & var\\_imp\\_vpd & var\\_imp\\_vs & var\\_imp\\_water & geometry & max\\_col\\\\\n <chr> & <dbl> & <dbl> & <dbl> & <dbl> & <dbl> & <dbl> & <dbl> & <dbl> & <dbl> & ⋯ & <dbl> & <dbl> & <dbl> & <dbl> & <dbl> & <dbl> & <dbl> & <dbl> & <POINT {[}°{]}> & <chr>\\\\\n\\hline\n\t 2159 &           NA &           NA &           NA &           NA &          NA &           NA &          NA &           NA &           NA & ⋯ &  NA &           NA &           NA &           NA &         NA &           NA &           NA &          NA & POINT (-155.7952 20.1789) & NA                     \\\\\n\t 2167 & 1.699544e-02 & 18.312554982 & 2.577294e+01 & 1.488227e+01 & 27.86559634 & 3.834754e+00 &  0.58989264 & 2.137251e+01 & 1.154693e-01 & ⋯ & NaN & 1.992879e+01 & 1.627514e+01 & 5.482793e+00 & 21.6354009 & 26.369679944 &  5.040394389 & 25.10919817 & POINT (-155.7075 20.16785) & var\\_imp\\_soil           \\\\\n\t 2191 & 2.465466e-04 & 29.037255578 & 3.254902e-04 & 3.928672e+00 & 22.01742615 & 1.380719e+00 &  0.04609450 & 1.000347e+01 & 2.524276e+01 & ⋯ & NaN & 2.909641e+01 & 1.894016e+01 & 1.352744e+01 & 15.5709883 & 17.382398730 & 13.974409264 & 10.53374294 & POINT (-155.6324 20.11583) & var\\_imp\\_soil           \\\\\n\t 2204 & 8.483197e-05 &  1.112534889 & 2.893271e+01 & 1.816152e-01 &  0.74452207 & 3.004465e-02 & 26.46549232 & 2.035719e-03 & 1.984847e+01 & ⋯ & NaN & 2.282206e+01 & 1.678496e+01 & 6.818063e+00 & 12.9852195 & 23.665713765 &  4.542048853 &  5.96824091 & POINT (-155.7211 20.08227) & var\\_imp\\_built          \\\\\n\t 2208 &           NA &           NA &           NA &           NA &          NA &           NA &          NA &           NA &           NA & ⋯ &  NA &           NA &           NA &           NA &         NA &           NA &           NA &          NA & POINT (-155.6623 20.08261) & NA                     \\\\\n\t 2212 & 2.032440e-02 &  0.971728696 & 6.421203e-12 & 1.776484e-04 &  0.05042523 & 1.799946e-08 &  2.00592439 & 2.316025e+01 & 1.684711e+01 & ⋯ & NaN & 2.794781e-01 & 2.775426e+00 & 7.638061e+00 & 11.5054857 &  8.810963383 &  0.730457140 &  6.82970454 & POINT (-155.6197 20.05735) & var\\_imp\\_aet            \\\\\n\t 2230 &           NA &           NA &           NA &           NA &          NA &           NA &          NA &           NA &           NA & ⋯ &  NA &           NA &           NA &           NA &         NA &           NA &           NA &          NA & POINT (-155.6592 20.04089) & NA                     \\\\\n\t 2233 & 2.407917e-04 &  0.009362838 & 1.245046e+01 & 1.864930e-08 &  0.03336243 & 3.683430e-01 & 27.34632637 & 1.684582e-08 & 2.981727e+01 & ⋯ & NaN & 2.549776e+01 & 3.284506e+00 & 4.087831e+00 &  5.8936836 &  4.293533143 & 17.016448346 &  2.72206550 & POINT (-155.3823 20.02604) & var\\_imp\\_built          \\\\\n\t 2237 & 6.656060e-11 &  0.001177352 & 2.906927e-02 & 3.591406e-02 &  0.03299596 & 5.364473e-10 &  0.01120744 & 2.368369e-01 & 5.588972e+00 & ⋯ & NaN & 2.352130e+01 & 2.431605e+01 & 1.016956e-02 &  6.5668242 & 12.423516909 &  3.019299994 & 13.79404755 & POINT (-155.3306 20.01627) & var\\_imp\\_agbd\\_sd        \\\\\n\t 2242 & 2.782914e+01 & 28.549164456 & 7.452227e+00 & 2.815852e+00 & 21.23331956 & 1.491213e+01 &  0.69887170 & 6.697619e+00 & 1.372023e+01 & ⋯ & NaN & 2.379394e+01 & 2.871229e+01 & 4.949667e-01 &  2.9662975 & 12.006209057 &  0.001253229 & 15.13549463 & POINT (-155.2677 20.00302) & var\\_imp\\_shrub\\_and\\_scrub\\\\\n\t 2248 & 2.531590e-06 &  1.173399440 & 2.573912e+01 & 3.249405e-05 &  5.93693473 & 2.887676e-01 &  2.68802686 & 1.407307e-01 & 3.070742e-02 & ⋯ & NaN & 4.845373e-01 & 2.839716e+00 & 2.236023e+01 &  1.5294088 &  4.156508631 & 14.179857065 &  3.32426383 & POINT (-155.4615 19.99425) & var\\_imp\\_agbd\\_m         \\\\\n\t 2256 &           NA &           NA &           NA &           NA &          NA &           NA &          NA &           NA &           NA & ⋯ &  NA &           NA &           NA &           NA &         NA &           NA &           NA &          NA & POINT (-155.3531 19.98225) & NA                     \\\\\n\t 2261 & 2.310592e-01 &  0.988461917 & 2.874369e+01 & 7.633539e+00 &  0.88385773 & 1.629760e+00 &  3.84922764 & 7.273238e-01 & 2.030663e+01 & ⋯ & NaN & 2.711953e+01 & 2.785024e+01 & 1.038145e+00 & 18.4261905 & 22.569274141 &  0.812229814 &  2.87450897 & POINT (-155.3101 19.97333) & var\\_imp\\_built          \\\\\n\t 2271 &           NA &           NA &           NA &           NA &          NA &           NA &          NA &           NA &           NA & ⋯ &  NA &           NA &           NA &           NA &         NA &           NA &           NA &          NA & POINT (-155.2076 19.95886) & NA                     \\\\\n\t 2286 &           NA &           NA &           NA &           NA &          NA &           NA &          NA &           NA &           NA & ⋯ &  NA &           NA &           NA &           NA &         NA &           NA &           NA &          NA & POINT (-155.2982 19.92324) & NA                     \\\\\n\t 2291 &           NA &           NA &           NA &           NA &          NA &           NA &          NA &           NA &           NA & ⋯ &  NA &           NA &           NA &           NA &         NA &           NA &           NA &          NA & POINT (-155.2335 19.91766) & NA                     \\\\\n\t 2307 &           NA &           NA &           NA &           NA &          NA &           NA &          NA &           NA &           NA & ⋯ &  NA &           NA &           NA &           NA &         NA &           NA &           NA &          NA & POINT (-155.3125 19.89353) & NA                     \\\\\n\t 2312 & 7.224906e-03 &  0.197998510 & 1.909702e+01 & 3.623409e+00 &  2.92384462 & 1.150865e+01 &  0.37370862 & 5.874702e-01 & 1.824735e+01 & ⋯ & NaN & 7.458013e+00 & 3.332685e+00 & 1.895832e+01 & 28.9992410 & 12.104731582 &  3.935168246 &  8.23858943 & POINT (-155.2731 19.87434) & var\\_imp\\_soil           \\\\\n\t 2317 & 1.087098e-02 &  4.530363892 & 1.220954e+01 & 1.249673e+01 &  7.27616243 & 2.943616e+00 &  2.81587345 & 5.345201e+00 & 9.506777e+00 & ⋯ & NaN & 2.827826e+01 & 2.796572e+01 & 6.053116e-04 & 12.4259749 & 17.228933623 &  8.444638507 & 19.66743810 & POINT (-155.2197 19.86513) & var\\_imp\\_trees          \\\\\n\t 2326 &           NA &           NA &           NA &           NA &          NA &           NA &          NA &           NA &           NA & ⋯ &  NA &           NA &           NA &           NA &         NA &           NA &           NA &          NA & POINT (-155.8683 19.85005) & NA                     \\\\\n\t 2335 &           NA &           NA &           NA &           NA &          NA &           NA &          NA &           NA &           NA & ⋯ &  NA &           NA &           NA &           NA &         NA &           NA &           NA &          NA & POINT (-155.3066 19.85275) & NA                     \\\\\n\t 2364 & 2.826203e-01 &  3.175359296 & 2.161047e+01 & 1.295388e+01 & 18.86386148 & 1.635709e+01 & 25.35463330 & 2.910828e+01 & 1.180257e+00 & ⋯ & NaN & 1.457773e+00 & 1.365208e-01 & 7.947245e+00 &  0.1733618 &  0.004045404 &  2.337688595 & 10.50784433 & POINT (-155.2931 19.79833) & var\\_imp\\_soil           \\\\\n\t 2376 & 1.013413e-08 & 10.599237566 & 4.667866e+00 & 1.077774e+00 & 15.43834133 & 7.976295e-01 & 25.08091635 & 2.577868e+01 & 9.500616e+00 & ⋯ & NaN & 2.018351e+01 & 2.751046e+01 & 2.905094e+00 & 19.1737043 & 14.267460129 & 19.525744597 &  8.98833486 & POINT (-155.1947 19.79149) & var\\_imp\\_agbd\\_sd        \\\\\n\t 2382 & 4.489983e+00 &  6.346609928 & 1.386667e+00 & 1.337651e+01 & 20.75199640 & 2.041867e+01 &  0.30531108 & 1.186175e+01 & 8.880796e+00 & ⋯ & NaN & 1.695631e+01 & 1.403795e+01 & 1.106228e+01 &  9.6766699 &  5.944065048 &  2.516803469 & 18.58941473 & POINT (-155.1444 19.76848) & var\\_imp\\_bare           \\\\\n\t 2385 &           NA &           NA &           NA &           NA &          NA &           NA &          NA &           NA &           NA & ⋯ &  NA &           NA &           NA &           NA &         NA &           NA &           NA &          NA & POINT (-155.8365 19.77307) & NA                     \\\\\n\t 2389 &           NA &           NA &           NA &           NA &          NA &           NA &          NA &           NA &           NA & ⋯ &  NA &           NA &           NA &           NA &         NA &           NA &           NA &          NA & POINT (-155.3291 19.76208) & NA                     \\\\\n\t 2394 & 1.713663e+01 &  8.792964013 & 1.884402e-01 & 8.823092e-01 & 26.33213019 & 1.036778e-01 &  1.17064124 & 2.533831e+01 & 2.330177e+00 & ⋯ & NaN & 5.406250e-01 & 2.847911e+00 & 1.258415e+01 &  0.4833906 & 29.529847394 &  3.477288822 & 15.69495963 & POINT (-155.263 19.76415) & var\\_imp\\_soil           \\\\\n\t 2400 & 8.978550e-07 & 19.891934934 & 3.478323e+00 & 6.261910e+00 & 12.37243985 & 7.248996e-02 &  0.01303356 & 4.321528e-02 & 1.059901e+01 & ⋯ & NaN & 2.175183e+00 & 2.998043e-01 & 1.646436e+01 &  2.4765154 & 16.520412857 &  0.018200250 &  3.37058225 & POINT (-155.2229 19.74225) & var\\_imp\\_soil           \\\\\n\t 2406 & 1.125407e-12 & 16.854749147 & 1.285977e+01 & 7.428345e+00 &  4.88482290 & 1.184762e+01 &  2.61954397 & 1.864992e-01 & 2.154960e+01 & ⋯ & NaN & 8.326297e+00 & 8.709305e+00 & 4.170811e+00 & 15.3607971 & 22.011800341 &  7.303728151 & 28.83479186 & POINT (-155.1761 19.72958) & var\\_imp\\_grass          \\\\\n\t 2409 & 1.785219e-25 & 11.886003740 & 1.375178e-06 & 1.293582e+00 &  0.23062399 & 1.735485e+01 & 26.78183906 & 2.726997e-06 & 5.872359e-06 & ⋯ & NaN & 2.434121e-06 & 8.688297e-07 & 9.616951e-09 &  0.2698023 &  0.090508098 &  0.122379898 &  0.02665421 & POINT (-155.8663 19.73585) & var\\_imp\\_shrub\\_and\\_scrub\\\\\n\t ⋮ & ⋮ & ⋮ & ⋮ & ⋮ & ⋮ & ⋮ & ⋮ & ⋮ & ⋮ & ⋱ & ⋮ & ⋮ & ⋮ & ⋮ & ⋮ & ⋮ & ⋮ & ⋮ & ⋮ & ⋮\\\\\n\t 4510 & 5.810020e+00 & 22.545738971 & 2.361571e+01 & 2.720449e+01 & 1.712865e+01 & 5.590579e+00 &  0.28257559 & 3.652186e-09 & 3.730941e-01 & ⋯ & NaN & 5.370763e+00 & 7.860338e+00 & 1.102327e-02 & 2.093806e+01 & 1.953697e-01 & 3.073803e-03 &  0.52329547 & POINT (-155.6776 19.1541) & var\\_imp\\_built          \\\\\n\t 4527 & 3.977612e-10 &  0.040015747 & 9.313643e-11 & 8.223685e+00 & 1.405524e-01 & 5.772687e-01 & 25.11430022 & 5.949102e-03 & 1.163223e+01 & ⋯ & NaN & 6.140308e-02 & 3.225464e-05 & 2.481516e+01 & 3.684204e-02 & 1.374197e+00 & 2.173620e+01 &  0.03185201 & POINT (-155.0194 19.45106) & var\\_imp\\_aet            \\\\\n\t 4541 &           NA &           NA &           NA &           NA &           NA &           NA &          NA &           NA &           NA & ⋯ &  NA &           NA &           NA &           NA &           NA &           NA &           NA &          NA & POINT (-155.39 19.68618) & NA                     \\\\\n\t 4612 &           NA &           NA &           NA &           NA &           NA &           NA &          NA &           NA &           NA & ⋯ &  NA &           NA &           NA &           NA &           NA &           NA &           NA &          NA & POINT (-155.6009 19.18945) & NA                     \\\\\n\t 4622 &           NA &           NA &           NA &           NA &           NA &           NA &          NA &           NA &           NA & ⋯ &  NA &           NA &           NA &           NA &           NA &           NA &           NA &          NA & POINT (-155.2953 19.83302) & NA                     \\\\\n\t 4640 &           NA &           NA &           NA &           NA &           NA &           NA &          NA &           NA &           NA & ⋯ &  NA &           NA &           NA &           NA &           NA &           NA &           NA &          NA & POINT (-155.2986 19.45804) & NA                     \\\\\n\t 4655 & 2.065005e-17 &  0.000373122 & 1.413063e+01 & 2.666617e+01 & 3.093193e+00 & 6.471785e+00 & 14.29649672 & 1.316207e-04 & 2.950871e+01 & ⋯ & NaN & 2.078930e-04 & 5.506226e-06 & 5.690897e-08 & 6.060942e-04 & 1.775518e-03 & 5.256727e+00 &  0.63836765 & POINT (-155.2759 19.92207) & var\\_imp\\_trees          \\\\\n\t 4695 & 1.250870e-18 &  0.171783321 & 2.491165e-01 & 4.235451e+00 & 1.368591e+00 & 8.641901e+00 & 12.92557456 & 8.928924e-11 & 8.110797e+00 & ⋯ & NaN & 1.363598e-01 & 6.172614e+00 & 2.274661e-09 & 8.205665e-01 & 3.896031e-02 & 3.977172e+00 &  8.58459824 & POINT (-155.2626 19.9477) & var\\_imp\\_built          \\\\\n\t 4700 & 1.004728e-08 &  1.127056087 & 6.464291e-02 & 2.567022e+01 & 4.807599e+00 & 6.677747e+00 &  0.01315148 & 8.798957e+00 & 2.419129e-03 & ⋯ & NaN & 2.793497e+01 & 1.776022e+01 & 2.815437e+01 & 1.799924e+01 & 1.443911e-04 & 1.251583e+00 & 11.29706123 & POINT (-155.2306 19.38318) & var\\_imp\\_pdsi           \\\\\n\t 4709 & 5.412269e-12 &  0.180240996 & 1.364992e+00 & 4.273486e+00 & 2.779653e-01 & 1.679253e+00 &  1.22893899 & 9.444773e-09 & 1.845753e+00 & ⋯ & NaN & 1.012589e+01 & 2.365650e+01 & 7.739841e-09 & 2.020586e+01 & 1.898256e+01 & 1.577656e-04 &  4.27651661 & POINT (-155.1973 19.91863) & var\\_imp\\_trees          \\\\\n\t 4791 & 1.032157e-22 &  0.715826104 & 1.179296e-01 & 2.080641e-23 & 2.671237e-01 & 2.319886e-10 & 10.87686666 & 1.077503e-13 & 1.654760e-02 & ⋯ & NaN & 1.231557e+01 & 2.294339e+00 & 9.091463e-02 & 1.291131e+00 & 2.627624e+01 & 2.644248e+01 &  0.03447008 & POINT (-155.4598 20.04416) & var\\_imp\\_agbd\\_m         \\\\\n\t 4814 & 8.453359e+00 &  3.498430760 & 3.433274e-08 & 2.743705e+01 & 9.616285e-04 & 1.515718e+01 &  0.33930275 & 1.619404e-02 & 1.796274e-04 & ⋯ & NaN & 1.663327e-13 & 2.677668e-23 & 9.985376e+00 & 2.237268e-16 & 1.031361e-06 & 2.952181e+01 &  7.74025025 & POINT (-155.7546 19.5368) & var\\_imp\\_tmmx           \\\\\n\t 4839 & 3.717423e-07 & 25.364296661 & 1.850402e-07 & 9.891908e+00 & 1.697817e+00 & 1.864805e-01 &  0.05892980 & 2.440070e+00 & 2.612891e+01 & ⋯ & NaN & 1.622834e+01 & 5.931792e-01 & 1.112666e-02 & 8.534484e-02 & 1.457641e+01 & 1.187203e+01 &  0.10916079 & POINT (-155.1275 19.77363) & var\\_imp\\_srad           \\\\\n\t 4895 &           NA &           NA &           NA &           NA &           NA &           NA &          NA &           NA &           NA & ⋯ &  NA &           NA &           NA &           NA &           NA &           NA &           NA &          NA & POINT (-155.7865 19.1926) & NA                     \\\\\n\t 4955 &           NA &           NA &           NA &           NA &           NA &           NA &          NA &           NA &           NA & ⋯ &  NA &           NA &           NA &           NA &           NA &           NA &           NA &          NA & POINT (-155.5991 19.15171) & NA                     \\\\\n\t 4994 & 1.567470e-16 &  0.026744554 & 1.746808e+01 & 2.295143e+01 & 9.093467e+00 & 2.844973e+01 & 20.64271052 & 3.794728e-04 & 7.840210e+00 & ⋯ & NaN & 1.300917e+01 & 1.911095e+01 & 1.730846e+00 & 2.173954e+01 & 1.252162e+01 & 1.464667e+01 &  0.06540696 & POINT (-155.9558 19.63585) & var\\_imp\\_built          \\\\\n\t 5059 & 1.613649e-03 &  0.645232051 & 7.357910e+00 & 2.112319e+01 & 3.050937e+00 & 1.280574e+01 &  7.49777681 & 1.302065e+01 & 7.523851e+00 & ⋯ & NaN & 2.360251e+00 & 1.139092e+01 & 5.491067e-02 & 1.817789e+01 & 1.704341e+00 & 1.319667e+01 &  0.09667812 & POINT (-155.465 19.27497) & var\\_imp\\_shrub\\_and\\_scrub\\\\\n\t 5062 &           NA &           NA &           NA &           NA &           NA &           NA &          NA &           NA &           NA & ⋯ &  NA &           NA &           NA &           NA &           NA &           NA &           NA &          NA & POINT (-155.265 19.38295) & NA                     \\\\\n\t 5124 &           NA &           NA &           NA &           NA &           NA &           NA &          NA &           NA &           NA & ⋯ &  NA &           NA &           NA &           NA &           NA &           NA &           NA &          NA & POINT (-155.1219 19.46101) & NA                     \\\\\n\t 5198 & 3.557140e-08 &  0.221002960 & 2.791932e+01 & 2.526412e+00 & 1.971365e+00 & 1.072484e+01 & 29.46632044 & 2.260192e+01 & 2.586516e+00 & ⋯ & NaN & 1.686338e+01 & 2.401075e+01 & 1.201307e+01 & 2.282545e+01 & 1.962367e+00 & 7.172970e+00 &  6.39334824 & POINT (-155.2379 19.41971) & var\\_imp\\_soil           \\\\\n\t 5226 & 6.144146e+00 &  2.657804540 & 3.285054e+00 & 9.588715e+00 & 4.658794e-01 & 2.425839e+01 & 27.83371643 & 1.537170e+01 & 1.155754e+00 & ⋯ & NaN & 2.262453e+01 & 2.800368e+01 & 3.796714e-01 & 1.801131e+01 & 3.397079e+00 & 1.476643e+01 &  0.30414701 & POINT (-155.541 19.25221) & var\\_imp\\_shrub\\_and\\_scrub\\\\\n\t 5262 & 5.401591e-01 & 12.497306901 & 2.496702e-08 & 1.720625e+01 & 1.852256e+01 & 7.737378e-02 & 11.88273420 & 2.777507e+00 & 8.709784e+00 & ⋯ & NaN & 3.412320e-02 & 4.217849e-07 & 1.036554e+01 & 7.055044e-01 & 5.160570e-02 & 1.820905e+01 & 13.85860295 & POINT (-155.1268 19.65372) & var\\_imp\\_aet            \\\\\n\t 5284 & 1.945306e-07 & 11.989948201 & 8.728000e-04 & 1.740176e+00 & 2.739684e+01 & 3.665249e+00 &  4.96671954 & 1.430291e-02 & 4.638223e-01 & ⋯ & NaN & 7.163048e+00 & 1.449627e+01 & 1.163244e-04 & 2.762892e+01 & 1.213940e+01 & 1.874994e+00 &  1.27569663 & POINT (-155.2091 19.87619) & var\\_imp\\_shrub\\_and\\_scrub\\\\\n\t 5289 & 2.298257e-03 & 10.033390478 & 1.005741e+00 & 1.316046e+00 & 2.525892e+01 & 9.567671e+00 &  0.49474107 & 1.354533e+01 & 4.614527e-05 & ⋯ & NaN & 2.833784e-08 & 5.169924e-10 & 5.731337e-01 & 3.196765e-07 & 2.916088e-04 & 8.321582e+00 & 21.25796737 & POINT (-155.27 19.83344) & var\\_imp\\_tmmx           \\\\\n\t 5347 &           NA &           NA &           NA &           NA &           NA &           NA &          NA &           NA &           NA & ⋯ &  NA &           NA &           NA &           NA &           NA &           NA &           NA &          NA & POINT (-155.2183 19.70499) & NA                     \\\\\n\t 5450 & 5.317570e-02 & 29.146024115 & 1.584080e+01 & 2.148478e+01 & 9.798744e+00 & 2.962703e+01 & 17.04983626 & 5.392874e+00 & 2.897759e+01 & ⋯ & NaN & 2.358317e+01 & 6.815396e+00 & 1.527833e+01 & 1.817980e+01 & 2.477413e+01 & 6.229849e+00 &  4.06184590 & POINT (-155.4314 19.33605) & var\\_imp\\_shrub\\_and\\_scrub\\\\\n\t 5553 & 5.285461e-01 &  2.348358623 & 2.857911e-01 & 1.989005e+00 & 1.728390e+00 & 1.055352e+01 &  5.16763978 & 1.711122e+00 & 1.546325e+01 & ⋯ & NaN & 1.903857e+01 & 2.763705e+01 & 2.119748e+01 & 2.149680e+01 & 1.706030e+01 & 2.138349e+01 & 27.61033465 & POINT (-155.453 19.38221) & var\\_imp\\_shrub\\_and\\_scrub\\\\\n\t 5712 &           NA &           NA &           NA &           NA &           NA &           NA &          NA &           NA &           NA & ⋯ &  NA &           NA &           NA &           NA &           NA &           NA &           NA &          NA & POINT (-155.6454 20.11878) & NA                     \\\\\n\t 5825 &           NA &           NA &           NA &           NA &           NA &           NA &          NA &           NA &           NA & ⋯ &  NA &           NA &           NA &           NA &           NA &           NA &           NA &          NA & POINT (-154.9443 19.48818) & NA                     \\\\\n\t 5831 & 4.409919e+00 &  0.479587996 & 1.094538e+01 & 1.763851e+00 & 7.006377e+00 & 4.616703e-01 &  4.11091866 & 6.627554e+00 & 6.875549e+00 & ⋯ & NaN & 1.614454e+01 & 2.334358e+01 & 1.737615e+01 & 1.563851e+01 & 7.570823e+00 & 5.009662e+00 &  9.75543402 & POINT (-155.967 19.67642) & var\\_imp\\_soil           \\\\\n\\end{tabular}\n",
            "text/plain": [
              "    PLOT r2           var_imp_SRTM_mTPI var_imp_aet  var_imp_agbd_m\n",
              "1   2159           NA           NA                NA           NA  \n",
              "2   2167 1.699544e-02 18.312554982      2.577294e+01 1.488227e+01  \n",
              "3   2191 2.465466e-04 29.037255578      3.254902e-04 3.928672e+00  \n",
              "4   2204 8.483197e-05  1.112534889      2.893271e+01 1.816152e-01  \n",
              "5   2208           NA           NA                NA           NA  \n",
              "6   2212 2.032440e-02  0.971728696      6.421203e-12 1.776484e-04  \n",
              "7   2230           NA           NA                NA           NA  \n",
              "8   2233 2.407917e-04  0.009362838      1.245046e+01 1.864930e-08  \n",
              "9   2237 6.656060e-11  0.001177352      2.906927e-02 3.591406e-02  \n",
              "10  2242 2.782914e+01 28.549164456      7.452227e+00 2.815852e+00  \n",
              "11  2248 2.531590e-06  1.173399440      2.573912e+01 3.249405e-05  \n",
              "12  2256           NA           NA                NA           NA  \n",
              "13  2261 2.310592e-01  0.988461917      2.874369e+01 7.633539e+00  \n",
              "14  2271           NA           NA                NA           NA  \n",
              "15  2286           NA           NA                NA           NA  \n",
              "16  2291           NA           NA                NA           NA  \n",
              "17  2307           NA           NA                NA           NA  \n",
              "18  2312 7.224906e-03  0.197998510      1.909702e+01 3.623409e+00  \n",
              "19  2317 1.087098e-02  4.530363892      1.220954e+01 1.249673e+01  \n",
              "20  2326           NA           NA                NA           NA  \n",
              "21  2335           NA           NA                NA           NA  \n",
              "22  2364 2.826203e-01  3.175359296      2.161047e+01 1.295388e+01  \n",
              "23  2376 1.013413e-08 10.599237566      4.667866e+00 1.077774e+00  \n",
              "24  2382 4.489983e+00  6.346609928      1.386667e+00 1.337651e+01  \n",
              "25  2385           NA           NA                NA           NA  \n",
              "26  2389           NA           NA                NA           NA  \n",
              "27  2394 1.713663e+01  8.792964013      1.884402e-01 8.823092e-01  \n",
              "28  2400 8.978550e-07 19.891934934      3.478323e+00 6.261910e+00  \n",
              "29  2406 1.125407e-12 16.854749147      1.285977e+01 7.428345e+00  \n",
              "30  2409 1.785219e-25 11.886003740      1.375178e-06 1.293582e+00  \n",
              "⋮   ⋮    ⋮            ⋮                 ⋮            ⋮             \n",
              "97  4510 5.810020e+00 22.545738971      2.361571e+01 2.720449e+01  \n",
              "98  4527 3.977612e-10  0.040015747      9.313643e-11 8.223685e+00  \n",
              "99  4541           NA           NA                NA           NA  \n",
              "100 4612           NA           NA                NA           NA  \n",
              "101 4622           NA           NA                NA           NA  \n",
              "102 4640           NA           NA                NA           NA  \n",
              "103 4655 2.065005e-17  0.000373122      1.413063e+01 2.666617e+01  \n",
              "104 4695 1.250870e-18  0.171783321      2.491165e-01 4.235451e+00  \n",
              "105 4700 1.004728e-08  1.127056087      6.464291e-02 2.567022e+01  \n",
              "106 4709 5.412269e-12  0.180240996      1.364992e+00 4.273486e+00  \n",
              "107 4791 1.032157e-22  0.715826104      1.179296e-01 2.080641e-23  \n",
              "108 4814 8.453359e+00  3.498430760      3.433274e-08 2.743705e+01  \n",
              "109 4839 3.717423e-07 25.364296661      1.850402e-07 9.891908e+00  \n",
              "110 4895           NA           NA                NA           NA  \n",
              "111 4955           NA           NA                NA           NA  \n",
              "112 4994 1.567470e-16  0.026744554      1.746808e+01 2.295143e+01  \n",
              "113 5059 1.613649e-03  0.645232051      7.357910e+00 2.112319e+01  \n",
              "114 5062           NA           NA                NA           NA  \n",
              "115 5124           NA           NA                NA           NA  \n",
              "116 5198 3.557140e-08  0.221002960      2.791932e+01 2.526412e+00  \n",
              "117 5226 6.144146e+00  2.657804540      3.285054e+00 9.588715e+00  \n",
              "118 5262 5.401591e-01 12.497306901      2.496702e-08 1.720625e+01  \n",
              "119 5284 1.945306e-07 11.989948201      8.728000e-04 1.740176e+00  \n",
              "120 5289 2.298257e-03 10.033390478      1.005741e+00 1.316046e+00  \n",
              "121 5347           NA           NA                NA           NA  \n",
              "122 5450 5.317570e-02 29.146024115      1.584080e+01 2.148478e+01  \n",
              "123 5553 5.285461e-01  2.348358623      2.857911e-01 1.989005e+00  \n",
              "124 5712           NA           NA                NA           NA  \n",
              "125 5825           NA           NA                NA           NA  \n",
              "126 5831 4.409919e+00  0.479587996      1.094538e+01 1.763851e+00  \n",
              "    var_imp_agbd_n var_imp_agbd_sd var_imp_bare var_imp_built var_imp_crops ⋯\n",
              "1            NA              NA             NA            NA            NA  ⋯\n",
              "2   27.86559634    3.834754e+00     0.58989264  2.137251e+01  1.154693e-01  ⋯\n",
              "3   22.01742615    1.380719e+00     0.04609450  1.000347e+01  2.524276e+01  ⋯\n",
              "4    0.74452207    3.004465e-02    26.46549232  2.035719e-03  1.984847e+01  ⋯\n",
              "5            NA              NA             NA            NA            NA  ⋯\n",
              "6    0.05042523    1.799946e-08     2.00592439  2.316025e+01  1.684711e+01  ⋯\n",
              "7            NA              NA             NA            NA            NA  ⋯\n",
              "8    0.03336243    3.683430e-01    27.34632637  1.684582e-08  2.981727e+01  ⋯\n",
              "9    0.03299596    5.364473e-10     0.01120744  2.368369e-01  5.588972e+00  ⋯\n",
              "10  21.23331956    1.491213e+01     0.69887170  6.697619e+00  1.372023e+01  ⋯\n",
              "11   5.93693473    2.887676e-01     2.68802686  1.407307e-01  3.070742e-02  ⋯\n",
              "12           NA              NA             NA            NA            NA  ⋯\n",
              "13   0.88385773    1.629760e+00     3.84922764  7.273238e-01  2.030663e+01  ⋯\n",
              "14           NA              NA             NA            NA            NA  ⋯\n",
              "15           NA              NA             NA            NA            NA  ⋯\n",
              "16           NA              NA             NA            NA            NA  ⋯\n",
              "17           NA              NA             NA            NA            NA  ⋯\n",
              "18   2.92384462    1.150865e+01     0.37370862  5.874702e-01  1.824735e+01  ⋯\n",
              "19   7.27616243    2.943616e+00     2.81587345  5.345201e+00  9.506777e+00  ⋯\n",
              "20           NA              NA             NA            NA            NA  ⋯\n",
              "21           NA              NA             NA            NA            NA  ⋯\n",
              "22  18.86386148    1.635709e+01    25.35463330  2.910828e+01  1.180257e+00  ⋯\n",
              "23  15.43834133    7.976295e-01    25.08091635  2.577868e+01  9.500616e+00  ⋯\n",
              "24  20.75199640    2.041867e+01     0.30531108  1.186175e+01  8.880796e+00  ⋯\n",
              "25           NA              NA             NA            NA            NA  ⋯\n",
              "26           NA              NA             NA            NA            NA  ⋯\n",
              "27  26.33213019    1.036778e-01     1.17064124  2.533831e+01  2.330177e+00  ⋯\n",
              "28  12.37243985    7.248996e-02     0.01303356  4.321528e-02  1.059901e+01  ⋯\n",
              "29   4.88482290    1.184762e+01     2.61954397  1.864992e-01  2.154960e+01  ⋯\n",
              "30   0.23062399    1.735485e+01    26.78183906  2.726997e-06  5.872359e-06  ⋯\n",
              "⋮   ⋮              ⋮               ⋮            ⋮             ⋮             ⋱\n",
              "97  1.712865e+01   5.590579e+00     0.28257559  3.652186e-09  3.730941e-01  ⋯\n",
              "98  1.405524e-01   5.772687e-01    25.11430022  5.949102e-03  1.163223e+01  ⋯\n",
              "99            NA             NA             NA            NA            NA  ⋯\n",
              "100           NA             NA             NA            NA            NA  ⋯\n",
              "101           NA             NA             NA            NA            NA  ⋯\n",
              "102           NA             NA             NA            NA            NA  ⋯\n",
              "103 3.093193e+00   6.471785e+00    14.29649672  1.316207e-04  2.950871e+01  ⋯\n",
              "104 1.368591e+00   8.641901e+00    12.92557456  8.928924e-11  8.110797e+00  ⋯\n",
              "105 4.807599e+00   6.677747e+00     0.01315148  8.798957e+00  2.419129e-03  ⋯\n",
              "106 2.779653e-01   1.679253e+00     1.22893899  9.444773e-09  1.845753e+00  ⋯\n",
              "107 2.671237e-01   2.319886e-10    10.87686666  1.077503e-13  1.654760e-02  ⋯\n",
              "108 9.616285e-04   1.515718e+01     0.33930275  1.619404e-02  1.796274e-04  ⋯\n",
              "109 1.697817e+00   1.864805e-01     0.05892980  2.440070e+00  2.612891e+01  ⋯\n",
              "110           NA             NA             NA            NA            NA  ⋯\n",
              "111           NA             NA             NA            NA            NA  ⋯\n",
              "112 9.093467e+00   2.844973e+01    20.64271052  3.794728e-04  7.840210e+00  ⋯\n",
              "113 3.050937e+00   1.280574e+01     7.49777681  1.302065e+01  7.523851e+00  ⋯\n",
              "114           NA             NA             NA            NA            NA  ⋯\n",
              "115           NA             NA             NA            NA            NA  ⋯\n",
              "116 1.971365e+00   1.072484e+01    29.46632044  2.260192e+01  2.586516e+00  ⋯\n",
              "117 4.658794e-01   2.425839e+01    27.83371643  1.537170e+01  1.155754e+00  ⋯\n",
              "118 1.852256e+01   7.737378e-02    11.88273420  2.777507e+00  8.709784e+00  ⋯\n",
              "119 2.739684e+01   3.665249e+00     4.96671954  1.430291e-02  4.638223e-01  ⋯\n",
              "120 2.525892e+01   9.567671e+00     0.49474107  1.354533e+01  4.614527e-05  ⋯\n",
              "121           NA             NA             NA            NA            NA  ⋯\n",
              "122 9.798744e+00   2.962703e+01    17.04983626  5.392874e+00  2.897759e+01  ⋯\n",
              "123 1.728390e+00   1.055352e+01     5.16763978  1.711122e+00  1.546325e+01  ⋯\n",
              "124           NA             NA             NA            NA            NA  ⋯\n",
              "125           NA             NA             NA            NA            NA  ⋯\n",
              "126 7.006377e+00   4.616703e-01     4.11091866  6.627554e+00  6.875549e+00  ⋯\n",
              "    var_imp_swe var_imp_tmmn var_imp_tmmx var_imp_trees var_imp_vap \n",
              "1    NA                   NA           NA           NA          NA  \n",
              "2   NaN         1.992879e+01 1.627514e+01 5.482793e+00  21.6354009  \n",
              "3   NaN         2.909641e+01 1.894016e+01 1.352744e+01  15.5709883  \n",
              "4   NaN         2.282206e+01 1.678496e+01 6.818063e+00  12.9852195  \n",
              "5    NA                   NA           NA           NA          NA  \n",
              "6   NaN         2.794781e-01 2.775426e+00 7.638061e+00  11.5054857  \n",
              "7    NA                   NA           NA           NA          NA  \n",
              "8   NaN         2.549776e+01 3.284506e+00 4.087831e+00   5.8936836  \n",
              "9   NaN         2.352130e+01 2.431605e+01 1.016956e-02   6.5668242  \n",
              "10  NaN         2.379394e+01 2.871229e+01 4.949667e-01   2.9662975  \n",
              "11  NaN         4.845373e-01 2.839716e+00 2.236023e+01   1.5294088  \n",
              "12   NA                   NA           NA           NA          NA  \n",
              "13  NaN         2.711953e+01 2.785024e+01 1.038145e+00  18.4261905  \n",
              "14   NA                   NA           NA           NA          NA  \n",
              "15   NA                   NA           NA           NA          NA  \n",
              "16   NA                   NA           NA           NA          NA  \n",
              "17   NA                   NA           NA           NA          NA  \n",
              "18  NaN         7.458013e+00 3.332685e+00 1.895832e+01  28.9992410  \n",
              "19  NaN         2.827826e+01 2.796572e+01 6.053116e-04  12.4259749  \n",
              "20   NA                   NA           NA           NA          NA  \n",
              "21   NA                   NA           NA           NA          NA  \n",
              "22  NaN         1.457773e+00 1.365208e-01 7.947245e+00   0.1733618  \n",
              "23  NaN         2.018351e+01 2.751046e+01 2.905094e+00  19.1737043  \n",
              "24  NaN         1.695631e+01 1.403795e+01 1.106228e+01   9.6766699  \n",
              "25   NA                   NA           NA           NA          NA  \n",
              "26   NA                   NA           NA           NA          NA  \n",
              "27  NaN         5.406250e-01 2.847911e+00 1.258415e+01   0.4833906  \n",
              "28  NaN         2.175183e+00 2.998043e-01 1.646436e+01   2.4765154  \n",
              "29  NaN         8.326297e+00 8.709305e+00 4.170811e+00  15.3607971  \n",
              "30  NaN         2.434121e-06 8.688297e-07 9.616951e-09   0.2698023  \n",
              "⋮   ⋮           ⋮            ⋮            ⋮             ⋮           \n",
              "97  NaN         5.370763e+00 7.860338e+00 1.102327e-02  2.093806e+01\n",
              "98  NaN         6.140308e-02 3.225464e-05 2.481516e+01  3.684204e-02\n",
              "99   NA                   NA           NA           NA            NA\n",
              "100  NA                   NA           NA           NA            NA\n",
              "101  NA                   NA           NA           NA            NA\n",
              "102  NA                   NA           NA           NA            NA\n",
              "103 NaN         2.078930e-04 5.506226e-06 5.690897e-08  6.060942e-04\n",
              "104 NaN         1.363598e-01 6.172614e+00 2.274661e-09  8.205665e-01\n",
              "105 NaN         2.793497e+01 1.776022e+01 2.815437e+01  1.799924e+01\n",
              "106 NaN         1.012589e+01 2.365650e+01 7.739841e-09  2.020586e+01\n",
              "107 NaN         1.231557e+01 2.294339e+00 9.091463e-02  1.291131e+00\n",
              "108 NaN         1.663327e-13 2.677668e-23 9.985376e+00  2.237268e-16\n",
              "109 NaN         1.622834e+01 5.931792e-01 1.112666e-02  8.534484e-02\n",
              "110  NA                   NA           NA           NA            NA\n",
              "111  NA                   NA           NA           NA            NA\n",
              "112 NaN         1.300917e+01 1.911095e+01 1.730846e+00  2.173954e+01\n",
              "113 NaN         2.360251e+00 1.139092e+01 5.491067e-02  1.817789e+01\n",
              "114  NA                   NA           NA           NA            NA\n",
              "115  NA                   NA           NA           NA            NA\n",
              "116 NaN         1.686338e+01 2.401075e+01 1.201307e+01  2.282545e+01\n",
              "117 NaN         2.262453e+01 2.800368e+01 3.796714e-01  1.801131e+01\n",
              "118 NaN         3.412320e-02 4.217849e-07 1.036554e+01  7.055044e-01\n",
              "119 NaN         7.163048e+00 1.449627e+01 1.163244e-04  2.762892e+01\n",
              "120 NaN         2.833784e-08 5.169924e-10 5.731337e-01  3.196765e-07\n",
              "121  NA                   NA           NA           NA            NA\n",
              "122 NaN         2.358317e+01 6.815396e+00 1.527833e+01  1.817980e+01\n",
              "123 NaN         1.903857e+01 2.763705e+01 2.119748e+01  2.149680e+01\n",
              "124  NA                   NA           NA           NA            NA\n",
              "125  NA                   NA           NA           NA            NA\n",
              "126 NaN         1.614454e+01 2.334358e+01 1.737615e+01  1.563851e+01\n",
              "    var_imp_vpd  var_imp_vs   var_imp_water geometry                  \n",
              "1             NA           NA          NA   POINT (-155.7952 20.1789) \n",
              "2   26.369679944  5.040394389 25.10919817   POINT (-155.7075 20.16785)\n",
              "3   17.382398730 13.974409264 10.53374294   POINT (-155.6324 20.11583)\n",
              "4   23.665713765  4.542048853  5.96824091   POINT (-155.7211 20.08227)\n",
              "5             NA           NA          NA   POINT (-155.6623 20.08261)\n",
              "6    8.810963383  0.730457140  6.82970454   POINT (-155.6197 20.05735)\n",
              "7             NA           NA          NA   POINT (-155.6592 20.04089)\n",
              "8    4.293533143 17.016448346  2.72206550   POINT (-155.3823 20.02604)\n",
              "9   12.423516909  3.019299994 13.79404755   POINT (-155.3306 20.01627)\n",
              "10  12.006209057  0.001253229 15.13549463   POINT (-155.2677 20.00302)\n",
              "11   4.156508631 14.179857065  3.32426383   POINT (-155.4615 19.99425)\n",
              "12            NA           NA          NA   POINT (-155.3531 19.98225)\n",
              "13  22.569274141  0.812229814  2.87450897   POINT (-155.3101 19.97333)\n",
              "14            NA           NA          NA   POINT (-155.2076 19.95886)\n",
              "15            NA           NA          NA   POINT (-155.2982 19.92324)\n",
              "16            NA           NA          NA   POINT (-155.2335 19.91766)\n",
              "17            NA           NA          NA   POINT (-155.3125 19.89353)\n",
              "18  12.104731582  3.935168246  8.23858943   POINT (-155.2731 19.87434)\n",
              "19  17.228933623  8.444638507 19.66743810   POINT (-155.2197 19.86513)\n",
              "20            NA           NA          NA   POINT (-155.8683 19.85005)\n",
              "21            NA           NA          NA   POINT (-155.3066 19.85275)\n",
              "22   0.004045404  2.337688595 10.50784433   POINT (-155.2931 19.79833)\n",
              "23  14.267460129 19.525744597  8.98833486   POINT (-155.1947 19.79149)\n",
              "24   5.944065048  2.516803469 18.58941473   POINT (-155.1444 19.76848)\n",
              "25            NA           NA          NA   POINT (-155.8365 19.77307)\n",
              "26            NA           NA          NA   POINT (-155.3291 19.76208)\n",
              "27  29.529847394  3.477288822 15.69495963   POINT (-155.263 19.76415) \n",
              "28  16.520412857  0.018200250  3.37058225   POINT (-155.2229 19.74225)\n",
              "29  22.011800341  7.303728151 28.83479186   POINT (-155.1761 19.72958)\n",
              "30   0.090508098  0.122379898  0.02665421   POINT (-155.8663 19.73585)\n",
              "⋮   ⋮            ⋮            ⋮             ⋮                         \n",
              "97  1.953697e-01 3.073803e-03  0.52329547   POINT (-155.6776 19.1541) \n",
              "98  1.374197e+00 2.173620e+01  0.03185201   POINT (-155.0194 19.45106)\n",
              "99            NA           NA          NA   POINT (-155.39 19.68618)  \n",
              "100           NA           NA          NA   POINT (-155.6009 19.18945)\n",
              "101           NA           NA          NA   POINT (-155.2953 19.83302)\n",
              "102           NA           NA          NA   POINT (-155.2986 19.45804)\n",
              "103 1.775518e-03 5.256727e+00  0.63836765   POINT (-155.2759 19.92207)\n",
              "104 3.896031e-02 3.977172e+00  8.58459824   POINT (-155.2626 19.9477) \n",
              "105 1.443911e-04 1.251583e+00 11.29706123   POINT (-155.2306 19.38318)\n",
              "106 1.898256e+01 1.577656e-04  4.27651661   POINT (-155.1973 19.91863)\n",
              "107 2.627624e+01 2.644248e+01  0.03447008   POINT (-155.4598 20.04416)\n",
              "108 1.031361e-06 2.952181e+01  7.74025025   POINT (-155.7546 19.5368) \n",
              "109 1.457641e+01 1.187203e+01  0.10916079   POINT (-155.1275 19.77363)\n",
              "110           NA           NA          NA   POINT (-155.7865 19.1926) \n",
              "111           NA           NA          NA   POINT (-155.5991 19.15171)\n",
              "112 1.252162e+01 1.464667e+01  0.06540696   POINT (-155.9558 19.63585)\n",
              "113 1.704341e+00 1.319667e+01  0.09667812   POINT (-155.465 19.27497) \n",
              "114           NA           NA          NA   POINT (-155.265 19.38295) \n",
              "115           NA           NA          NA   POINT (-155.1219 19.46101)\n",
              "116 1.962367e+00 7.172970e+00  6.39334824   POINT (-155.2379 19.41971)\n",
              "117 3.397079e+00 1.476643e+01  0.30414701   POINT (-155.541 19.25221) \n",
              "118 5.160570e-02 1.820905e+01 13.85860295   POINT (-155.1268 19.65372)\n",
              "119 1.213940e+01 1.874994e+00  1.27569663   POINT (-155.2091 19.87619)\n",
              "120 2.916088e-04 8.321582e+00 21.25796737   POINT (-155.27 19.83344)  \n",
              "121           NA           NA          NA   POINT (-155.2183 19.70499)\n",
              "122 2.477413e+01 6.229849e+00  4.06184590   POINT (-155.4314 19.33605)\n",
              "123 1.706030e+01 2.138349e+01 27.61033465   POINT (-155.453 19.38221) \n",
              "124           NA           NA          NA   POINT (-155.6454 20.11878)\n",
              "125           NA           NA          NA   POINT (-154.9443 19.48818)\n",
              "126 7.570823e+00 5.009662e+00  9.75543402   POINT (-155.967 19.67642) \n",
              "    max_col                \n",
              "1   NA                     \n",
              "2   var_imp_soil           \n",
              "3   var_imp_soil           \n",
              "4   var_imp_built          \n",
              "5   NA                     \n",
              "6   var_imp_aet            \n",
              "7   NA                     \n",
              "8   var_imp_built          \n",
              "9   var_imp_agbd_sd        \n",
              "10  var_imp_shrub_and_scrub\n",
              "11  var_imp_agbd_m         \n",
              "12  NA                     \n",
              "13  var_imp_built          \n",
              "14  NA                     \n",
              "15  NA                     \n",
              "16  NA                     \n",
              "17  NA                     \n",
              "18  var_imp_soil           \n",
              "19  var_imp_trees          \n",
              "20  NA                     \n",
              "21  NA                     \n",
              "22  var_imp_soil           \n",
              "23  var_imp_agbd_sd        \n",
              "24  var_imp_bare           \n",
              "25  NA                     \n",
              "26  NA                     \n",
              "27  var_imp_soil           \n",
              "28  var_imp_soil           \n",
              "29  var_imp_grass          \n",
              "30  var_imp_shrub_and_scrub\n",
              "⋮   ⋮                      \n",
              "97  var_imp_built          \n",
              "98  var_imp_aet            \n",
              "99  NA                     \n",
              "100 NA                     \n",
              "101 NA                     \n",
              "102 NA                     \n",
              "103 var_imp_trees          \n",
              "104 var_imp_built          \n",
              "105 var_imp_pdsi           \n",
              "106 var_imp_trees          \n",
              "107 var_imp_agbd_m         \n",
              "108 var_imp_tmmx           \n",
              "109 var_imp_srad           \n",
              "110 NA                     \n",
              "111 NA                     \n",
              "112 var_imp_built          \n",
              "113 var_imp_shrub_and_scrub\n",
              "114 NA                     \n",
              "115 NA                     \n",
              "116 var_imp_soil           \n",
              "117 var_imp_shrub_and_scrub\n",
              "118 var_imp_aet            \n",
              "119 var_imp_shrub_and_scrub\n",
              "120 var_imp_tmmx           \n",
              "121 NA                     \n",
              "122 var_imp_shrub_and_scrub\n",
              "123 var_imp_shrub_and_scrub\n",
              "124 NA                     \n",
              "125 NA                     \n",
              "126 var_imp_soil           "
            ]
          },
          "metadata": {}
        }
      ]
    },
    {
      "cell_type": "code",
      "source": [
        "short_out_dt %>%\n",
        "  ggplot(aes(x=1:nrow(short_out_dt),y=soil))+\n",
        "  geom_line()"
      ],
      "metadata": {
        "id": "mx2dDqIMwmH6",
        "outputId": "8a0c4db1-1030-4160-c155-051fd71d6f8c",
        "colab": {
          "base_uri": "https://localhost:8080/",
          "height": 473
        }
      },
      "execution_count": 175,
      "outputs": [
        {
          "output_type": "stream",
          "name": "stderr",
          "text": [
            "Warning message:\n",
            "“\u001b[1m\u001b[22mRemoved 126 rows containing missing values (`geom_line()`).”\n"
          ]
        },
        {
          "output_type": "display_data",
          "data": {
            "text/plain": [
              "plot without title"
            ],
            "image/png": "[encoded data removed]"
          },
          "metadata": {
            "image/png": {
              "width": 420,
              "height": 420
            }
          }
        }
      ]
    },
    {
      "cell_type": "code",
      "source": [
        "out_dt[bonferroni <= .05]$variable %>% table"
      ],
      "metadata": {
        "id": "5AP6xor8JZ55",
        "outputId": "158d5107-0f8c-4f26-a549-bcab71575098",
        "colab": {
          "base_uri": "https://localhost:8080/",
          "height": 567
        }
      },
      "execution_count": 113,
      "outputs": [
        {
          "output_type": "display_data",
          "data": {
            "text/plain": [
              ".\n",
              "                        r2                var_imp_aet \n",
              "                        55                         20 \n",
              "            var_imp_agbd_m             var_imp_agbd_n \n",
              "                         7                          4 \n",
              "           var_imp_agbd_sd               var_imp_bare \n",
              "                         8                          9 \n",
              "             var_imp_built              var_imp_crops \n",
              "                        21                         11 \n",
              "               var_imp_def          var_imp_elevation \n",
              "                        13                         15 \n",
              "var_imp_flooded_vegetation              var_imp_grass \n",
              "                        15                          6 \n",
              "          var_imp_landform                var_imp_max \n",
              "                         2                         10 \n",
              "              var_imp_pdsi                var_imp_pet \n",
              "                        12                         20 \n",
              "                var_imp_pr                 var_imp_ro \n",
              "                        12                         10 \n",
              "   var_imp_shrub_and_scrub       var_imp_snow_and_ice \n",
              "                        27                          5 \n",
              "              var_imp_soil               var_imp_srad \n",
              "                        25                         22 \n",
              "         var_imp_SRTM_mTPI               var_imp_tmmn \n",
              "                         7                         13 \n",
              "              var_imp_tmmx              var_imp_trees \n",
              "                        16                         13 \n",
              "               var_imp_vap                var_imp_vpd \n",
              "                        10                         17 \n",
              "                var_imp_vs              var_imp_water \n",
              "                        10                          7 "
            ]
          },
          "metadata": {}
        }
      ]
    },
    {
      "cell_type": "code",
      "source": [],
      "metadata": {
        "id": "j5zr7_HMp3ZP"
      },
      "execution_count": null,
      "outputs": []
    },
    {
      "cell_type": "code",
      "source": [
        "out_dt[bonferroni<= 0.1] %>%\n",
        "  ggplot(aes(x= variable %>% factor))+\n",
        "  geom_bar()\n",
        "  # geom_smooth(method='lm')"
      ],
      "metadata": {
        "id": "R2Gs7h8_Rk5V",
        "outputId": "1e2a54f2-b62e-4592-e01e-05f5b17ecb06",
        "colab": {
          "base_uri": "https://localhost:8080/",
          "height": 437
        }
      },
      "execution_count": 114,
      "outputs": [
        {
          "output_type": "display_data",
          "data": {
            "text/plain": [
              "plot without title"
            ],
            "image/png": "[encoded data removed]"
          },
          "metadata": {
            "image/png": {
              "width": 420,
              "height": 420
            }
          }
        }
      ]
    },
    {
      "cell_type": "code",
      "source": [
        "data.table(out_dt) %>% st_as_sf() %>% st_write('/content/plot_sig_variables.gpkg',delete_dsn=T)"
      ],
      "metadata": {
        "id": "5ilpqA4nE-f3",
        "outputId": "968ed5d7-84df-4ceb-bb46-e6d8f0cd0b42",
        "colab": {
          "base_uri": "https://localhost:8080/"
        }
      },
      "execution_count": 115,
      "outputs": [
        {
          "output_type": "stream",
          "name": "stdout",
          "text": [
            "Deleting source `/content/plot_sig_variables.gpkg' failed\n",
            "Writing layer `plot_sig_variables' to data source \n",
            "  `/content/plot_sig_variables.gpkg' using driver `GPKG'\n",
            "Writing 3906 features with 4 fields and geometry type Point.\n"
          ]
        }
      ]
    },
    {
      "cell_type": "code",
      "source": [
        "# sim_dt[id ==2222069  ]\n",
        "# 1850844\n",
        "# sqrt(((Stock_SOC_Mg_Ha-predicted)/Stock_SOC_Mg_Ha)^2)<0.05\n",
        "sim_dt[id ==2952969  & sqrt(((Stock_SOC_Mg_Ha-predicted)/Stock_SOC_Mg_Ha)^2)<0.05] %>%\n",
        "  ggplot(aes(x=Stock_SOC_Mg_Ha)) +\n",
        "  geom_histogram()\n",
        "  # print()"
      ],
      "metadata": {
        "id": "FB2Kru8Fcdpi"
      },
      "execution_count": null,
      "outputs": []
    },
    {
      "cell_type": "code",
      "source": [
        "sim_dt %>%\n",
        "  ggplot(aes(y=Stock_SOC_Mg_Ha,x=r2))+\n",
        "    geom_bin2d()\n",
        "    # geom_smooth()"
      ],
      "metadata": {
        "id": "Kdno5JZ0Yev5"
      },
      "execution_count": null,
      "outputs": []
    },
    {
      "cell_type": "code",
      "source": [
        "# Load the necessary library\n",
        "library(repr)\n",
        "\n",
        "# Adjust width and height of plots\n",
        "options(repr.plot.width=20, repr.plot.height=8)"
      ],
      "metadata": {
        "id": "ysaNMETsScgE"
      },
      "execution_count": null,
      "outputs": []
    },
    {
      "cell_type": "code",
      "source": [],
      "metadata": {
        "id": "qsoXgH7N44kI"
      },
      "execution_count": null,
      "outputs": []
    }
  ]
}