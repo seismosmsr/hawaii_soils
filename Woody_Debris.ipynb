{
  "nbformat": 4,
  "nbformat_minor": 0,
  "metadata": {
    "colab": {
      "provenance": [],
      "machine_shape": "hm",
      "authorship_tag": "ABX9TyNCQnsBSajl5PlFT4xIOXwk",
      "include_colab_link": true
    },
    "kernelspec": {
      "name": "ir",
      "display_name": "R"
    },
    "language_info": {
      "name": "R"
    }
  },
  "cells": [
    {
      "cell_type": "markdown",
      "metadata": {
        "id": "view-in-github",
        "colab_type": "text"
      },
      "source": [
        "<a href=\"https://colab.research.google.com/github/seismosmsr/hawaii_soils/blob/main/Woody_Debris.ipynb\" target=\"_parent\"><img src=\"https://colab.research.google.com/assets/colab-badge.svg\" alt=\"Open In Colab\"/></a>"
      ]
    },
    {
      "cell_type": "code",
      "execution_count": 1,
      "metadata": {
        "colab": {
          "base_uri": "https://localhost:8080/"
        },
        "id": "aO0mKyZqx-Q0",
        "outputId": "c3e53c3e-8085-41e9-925c-d105173ae9d7"
      },
      "outputs": [
        {
          "output_type": "stream",
          "name": "stderr",
          "text": [
            "Installing packages into ‘/usr/local/lib/R/site-library’\n",
            "(as ‘lib’ is unspecified)\n",
            "\n",
            "also installing the dependencies ‘numDeriv’, ‘SparseM’, ‘MatrixModels’, ‘minqa’, ‘nloptr’, ‘RcppEigen’, ‘carData’, ‘abind’, ‘pbkrtest’, ‘quantreg’, ‘lme4’, ‘corrplot’, ‘car’, ‘Rcpp’\n",
            "\n",
            "\n"
          ]
        }
      ],
      "source": [
        "install.packages(c('data.table','ggplot2','magrittr','rstatix','plotrix','ggsignif',\"googledrive\",'openxlsx'))"
      ]
    },
    {
      "cell_type": "code",
      "source": [
        "install.packages('sf')"
      ],
      "metadata": {
        "colab": {
          "base_uri": "https://localhost:8080/"
        },
        "id": "qw0UaoUe3SXI",
        "outputId": "653168a5-b526-46f5-9462-47f5fbc612d2"
      },
      "execution_count": 10,
      "outputs": [
        {
          "output_type": "stream",
          "name": "stderr",
          "text": [
            "Installing package into ‘/usr/local/lib/R/site-library’\n",
            "(as ‘lib’ is unspecified)\n",
            "\n",
            "also installing the dependencies ‘proxy’, ‘e1071’, ‘wk’, ‘classInt’, ‘s2’, ‘units’\n",
            "\n",
            "\n"
          ]
        }
      ]
    },
    {
      "cell_type": "code",
      "source": [
        "library(data.table)\n",
        "library(ggplot2)\n",
        "library(magrittr)\n",
        "library(rstatix)\n",
        "library(ggsignif)\n",
        "library(plotrix)\n",
        "library(googledrive)\n",
        "library(openxlsx)\n",
        "library(sf)"
      ],
      "metadata": {
        "colab": {
          "base_uri": "https://localhost:8080/"
        },
        "id": "4QkNB3hJyE2h",
        "outputId": "29907c1d-d544-4bf7-ee38-d932b1829fed"
      },
      "execution_count": 12,
      "outputs": [
        {
          "output_type": "stream",
          "name": "stderr",
          "text": [
            "Linking to GEOS 3.10.2, GDAL 3.4.3, PROJ 8.2.1; sf_use_s2() is TRUE\n",
            "\n"
          ]
        }
      ]
    },
    {
      "cell_type": "code",
      "source": [
        "drive_auth(use_oob = TRUE, cache = FALSE)"
      ],
      "metadata": {
        "colab": {
          "base_uri": "https://localhost:8080/"
        },
        "id": "ye1TW2bgyKQS",
        "outputId": "4e6edaf8-1736-4d86-cd60-820a269de812"
      },
      "execution_count": 5,
      "outputs": [
        {
          "output_type": "stream",
          "name": "stderr",
          "text": [
            "Please point your browser to the following url: \n",
            "\n",
            "https://accounts.google.com/o/oauth2/v2/auth?client_id=603366585132-frjlouoa3s2ono25d2l9ukvhlsrlnr7k.apps.googleusercontent.com&scope=https%3A%2F%2Fwww.googleapis.com%2Fauth%2Fdrive%20https%3A%2F%2Fwww.googleapis.com%2Fauth%2Fuserinfo.email&redirect_uri=https%3A%2F%2Fwww.tidyverse.org%2Fgoogle-callback%2F&response_type=code&state=ae245bd39debd7cd87216ab4b2e6a1d7&access_type=offline&prompt=consent\n",
            "\n"
          ]
        },
        {
          "name": "stdout",
          "output_type": "stream",
          "text": [
            "Enter authorization code: eyJjb2RlIjoiNC8wQWZKb2hYazlVZGFhblQ5ajVjYlNmRDlnb1ViTldoTWIyNTJ1SWJBdzRvQXVFczhYZ245XzdnOVB6aWlMdWhiTjh1Q2pmZyIsInN0YXRlIjoiYWUyNDViZDM5ZGViZDdjZDg3MjE2YWI0YjJlNmExZDcifQ==\n"
          ]
        }
      ]
    },
    {
      "cell_type": "code",
      "source": [
        "drive_download(file = as_id('1uoBy87pdp8sByoTocX6MGIIBpW9KIGC8oZWwzlbXj7Y'), path =  '/content/2024_holidayfarmfire.xlsx', overwrite = FALSE)\n"
      ],
      "metadata": {
        "colab": {
          "base_uri": "https://localhost:8080/"
        },
        "id": "X_ojcDCKyL1f",
        "outputId": "2ac9ec47-fb90-46a2-fa68-c672bef9b93d"
      },
      "execution_count": 6,
      "outputs": [
        {
          "output_type": "stream",
          "name": "stderr",
          "text": [
            "File downloaded:\n",
            "\n",
            "• \u001b[36m2024_holidayfarmfire\u001b[39m \u001b[90m<id: 1uoBy87pdp8sByoTocX6MGIIBpW9KIGC8oZWwzlbXj7Y>\u001b[39m\n",
            "\n",
            "Saved locally as:\n",
            "\n",
            "• \u001b[34m/content/2024_holidayfarmfire.xlsx\u001b[39m\n",
            "\n"
          ]
        }
      ]
    },
    {
      "cell_type": "code",
      "source": [
        "SheetNames<-getSheetNames('/content/2024_holidayfarmfire.xlsx')\n",
        "print(SheetNames)\n",
        "\n",
        "data_list <- SheetNames %>%\n",
        "             lapply(function(x){\n",
        "                #Read the i'th sheet\n",
        "             openxlsx::read.xlsx('/content/2024_holidayfarmfire.xlsx', x) %>% data.table\n",
        "             })\n",
        "\n",
        "names(data_list) <- SheetNames"
      ],
      "metadata": {
        "colab": {
          "base_uri": "https://localhost:8080/"
        },
        "id": "WXDGxCIZyNGk",
        "outputId": "945c89dc-e7bf-4aa4-b503-6bcc2776db8e"
      },
      "execution_count": 7,
      "outputs": [
        {
          "output_type": "stream",
          "name": "stdout",
          "text": [
            "[1] \"Site Locations\"         \"Soil Samples\"           \"CWD\"                   \n",
            "[4] \"Decay and burn classes\" \"Frac BPCA\"              \"BPCA Standards\"        \n"
          ]
        }
      ]
    },
    {
      "cell_type": "code",
      "source": [
        "# /content/lines.gpkg\n",
        "spatial_transect_dt <- st_read('/content/transect_data.gpkg') %>% data.table\n",
        "spatial_cwd_dt <- st_read('/content/spatial_cwd.gpkg') %>% data.table\n",
        "plot_points_dt <- st_read('/content/points.gpkg') %>% data.table\n",
        "plot_lines_dt <- st_read('/content/lines.gpkg') %>% data.table"
      ],
      "metadata": {
        "colab": {
          "base_uri": "https://localhost:8080/"
        },
        "id": "Vkvr9hcJ0pfr",
        "outputId": "4c3c6dfd-789d-4135-e5b8-2d767573c8b4"
      },
      "execution_count": 17,
      "outputs": [
        {
          "output_type": "stream",
          "name": "stdout",
          "text": [
            "Reading layer `transect_data' from data source `/content/transect_data.gpkg' using driver `GPKG'\n",
            "Simple feature collection with 643 features and 32 fields\n",
            "Geometry type: POINT\n",
            "Dimension:     XY\n",
            "Bounding box:  xmin: 127638.6 ymin: 50897.42 xmax: 133980.5 ymax: 59427.36\n",
            "Projected CRS: NAD83(CORS96) / Oregon Eugene zone (m)\n",
            "Reading layer `spatial_cwd' from data source `/content/spatial_cwd.gpkg' using driver `GPKG'\n",
            "Simple feature collection with 331 features and 10 fields\n",
            "Geometry type: POINT\n",
            "Dimension:     XY\n",
            "Bounding box:  xmin: 129988.5 ymin: 50890.85 xmax: 133823.8 ymax: 59231.15\n",
            "Projected CRS: NAD83(CORS96) / Oregon Eugene zone (m)\n",
            "Reading layer `points' from data source `/content/points.gpkg' using driver `GPKG'\n",
            "Simple feature collection with 23 features and 3 fields\n",
            "Geometry type: POINT\n",
            "Dimension:     XY\n",
            "Bounding box:  xmin: 156.0613 ymin: -462.5008 xmax: 859.5093 ymax: -120.557\n",
            "Geodetic CRS:  WGS 84\n",
            "Reading layer `new_scratch_layer' from data source `/content/lines.gpkg' using driver `GPKG'\n",
            "Simple feature collection with 2 features and 1 field\n",
            "Geometry type: LINESTRING\n",
            "Dimension:     XY\n",
            "Bounding box:  xmin: 167.1325 ymin: -442.5408 xmax: 743.1279 ymax: -149.4432\n",
            "Geodetic CRS:  WGS 84\n"
          ]
        }
      ]
    },
    {
      "cell_type": "code",
      "source": [
        "a_plot_lines_dt <- plot_lines_dt[Group == 'A'] %>% st_as_sf %>% st_sample(1000, keepGeometry = TRUE) %>% st_sf %>% st_as_sf %>% data.table\n",
        "a_plot_lines_dt$Group <- 'A'\n",
        "b_plot_lines_dt <- plot_lines_dt[Group == 'B'] %>% st_as_sf %>% st_sample(1000, keepGeometry = TRUE) %>% st_sf %>% st_as_sf %>% data.table\n",
        "b_plot_lines_dt$Group <- 'B'\n",
        "plot_lines_points_dt <- rbindlist(list(a_plot_lines_dt,b_plot_lines_dt)) %>% st_as_sf %>% st_cast('POINT') %>% data.table"
      ],
      "metadata": {
        "colab": {
          "base_uri": "https://localhost:8080/"
        },
        "id": "aNEjvn3w3iV7",
        "outputId": "67891ae1-70cc-48be-b549-80fc2e2305e5"
      },
      "execution_count": 18,
      "outputs": [
        {
          "output_type": "stream",
          "name": "stderr",
          "text": [
            "Warning message in st_is_longlat(x):\n",
            "“bounding box has potentially an invalid value range for longlat data”\n",
            "although coordinates are longitude/latitude, st_sample assumes that they are\n",
            "planar\n",
            "\n",
            "Warning message in st_is_longlat(x):\n",
            "“bounding box has potentially an invalid value range for longlat data”\n",
            "although coordinates are longitude/latitude, st_sample assumes that they are\n",
            "planar\n",
            "\n",
            "Warning message in st_cast.sf(., \"POINT\"):\n",
            "“repeating attributes for all sub-geometries for which they may not be constant”\n"
          ]
        }
      ]
    },
    {
      "cell_type": "code",
      "source": [
        "plot_lines_points_dt <- plot_lines_points_dt %>% data.table\n",
        "coords_dt <- plot_lines_points_dt %>% st_as_sf %>% st_coordinates %>% data.table\n",
        "names(coords_dt) <- c('X_new','Y_new')\n",
        "plot_lines_points_dt <- data.table(plot_lines_points_dt,coords_dt)"
      ],
      "metadata": {
        "id": "R4xhu5Bt3n9G"
      },
      "execution_count": 19,
      "outputs": []
    },
    {
      "cell_type": "code",
      "source": [
        "coords_dt <- plot_points_dt$geom %>% st_coordinates %>% data.table\n",
        "names(coords_dt) <- c('X_new','Y_new')\n",
        "plot_points_dt <- data.table(plot_points_dt,coords_dt)"
      ],
      "metadata": {
        "id": "pGv2vO1H5_R4"
      },
      "execution_count": 21,
      "outputs": []
    },
    {
      "cell_type": "code",
      "source": [
        "X_lm <- lm(X~X_new,plot_points_dt[Group =='C' &Y == 0])\n",
        "Y_lm <- lm(Y~Y_new,plot_points_dt[Group =='C' &X == 0])\n",
        "\n",
        "plot_points_dt[,Y_test := predict(Y_lm,plot_points_dt)]\n",
        "plot_points_dt[,X_test := predict(X_lm,plot_points_dt)]\n",
        "\n",
        "plot_lines_points_dt[,Y_test := predict(Y_lm,plot_lines_points_dt)]\n",
        "plot_lines_points_dt[,X_test := predict(X_lm,plot_lines_points_dt)]"
      ],
      "metadata": {
        "id": "4bCjACN83v5n"
      },
      "execution_count": 22,
      "outputs": []
    },
    {
      "cell_type": "code",
      "source": [
        "plot_points_dt[Group == 'A']"
      ],
      "metadata": {
        "colab": {
          "base_uri": "https://localhost:8080/",
          "height": 255
        },
        "id": "olesCpHh4LKB",
        "outputId": "206002bd-444c-4936-df6a-2b760b829c56"
      },
      "execution_count": 23,
      "outputs": [
        {
          "output_type": "display_data",
          "data": {
            "text/html": [
              "<table class=\"dataframe\">\n",
              "<caption>A data.table: 5 × 8</caption>\n",
              "<thead>\n",
              "\t<tr><th scope=col>Group</th><th scope=col>X</th><th scope=col>Y</th><th scope=col>geom</th><th scope=col>X_new</th><th scope=col>Y_new</th><th scope=col>Y_test</th><th scope=col>X_test</th></tr>\n",
              "\t<tr><th scope=col>&lt;chr&gt;</th><th scope=col>&lt;int&gt;</th><th scope=col>&lt;int&gt;</th><th scope=col>&lt;POINT [°]&gt;</th><th scope=col>&lt;dbl&gt;</th><th scope=col>&lt;dbl&gt;</th><th scope=col>&lt;dbl&gt;</th><th scope=col>&lt;dbl&gt;</th></tr>\n",
              "</thead>\n",
              "<tbody>\n",
              "\t<tr><td>A</td><td>NA</td><td>NA</td><td>POINT (167.5407 -149.5215)</td><td>167.5407</td><td>-149.5215</td><td>11.0031060</td><td> 0.8156493</td></tr>\n",
              "\t<tr><td>A</td><td>NA</td><td>NA</td><td>POINT (179.0461 -212.1848)</td><td>179.0461</td><td>-212.1848</td><td> 8.8038049</td><td> 1.7989929</td></tr>\n",
              "\t<tr><td>A</td><td>NA</td><td>NA</td><td>POINT (203.6652 -383.014)</td><td>203.6652</td><td>-383.0140</td><td> 2.8081941</td><td> 3.9031485</td></tr>\n",
              "\t<tr><td>A</td><td>NA</td><td>NA</td><td>POINT (250.9643 -413.3534)</td><td>250.9643</td><td>-413.3534</td><td> 1.7433700</td><td> 7.9457215</td></tr>\n",
              "\t<tr><td>A</td><td>NA</td><td>NA</td><td>POINT (742.9057 -442.5383)</td><td>742.9057</td><td>-442.5383</td><td> 0.7190629</td><td>49.9911416</td></tr>\n",
              "</tbody>\n",
              "</table>\n"
            ],
            "text/markdown": "\nA data.table: 5 × 8\n\n| Group &lt;chr&gt; | X &lt;int&gt; | Y &lt;int&gt; | geom &lt;POINT [°]&gt; | X_new &lt;dbl&gt; | Y_new &lt;dbl&gt; | Y_test &lt;dbl&gt; | X_test &lt;dbl&gt; |\n|---|---|---|---|---|---|---|---|\n| A | NA | NA | POINT (167.5407 -149.5215) | 167.5407 | -149.5215 | 11.0031060 |  0.8156493 |\n| A | NA | NA | POINT (179.0461 -212.1848) | 179.0461 | -212.1848 |  8.8038049 |  1.7989929 |\n| A | NA | NA | POINT (203.6652 -383.014) | 203.6652 | -383.0140 |  2.8081941 |  3.9031485 |\n| A | NA | NA | POINT (250.9643 -413.3534) | 250.9643 | -413.3534 |  1.7433700 |  7.9457215 |\n| A | NA | NA | POINT (742.9057 -442.5383) | 742.9057 | -442.5383 |  0.7190629 | 49.9911416 |\n\n",
            "text/latex": "A data.table: 5 × 8\n\\begin{tabular}{llllllll}\n Group & X & Y & geom & X\\_new & Y\\_new & Y\\_test & X\\_test\\\\\n <chr> & <int> & <int> & <POINT {[}°{]}> & <dbl> & <dbl> & <dbl> & <dbl>\\\\\n\\hline\n\t A & NA & NA & POINT (167.5407 -149.5215) & 167.5407 & -149.5215 & 11.0031060 &  0.8156493\\\\\n\t A & NA & NA & POINT (179.0461 -212.1848) & 179.0461 & -212.1848 &  8.8038049 &  1.7989929\\\\\n\t A & NA & NA & POINT (203.6652 -383.014) & 203.6652 & -383.0140 &  2.8081941 &  3.9031485\\\\\n\t A & NA & NA & POINT (250.9643 -413.3534) & 250.9643 & -413.3534 &  1.7433700 &  7.9457215\\\\\n\t A & NA & NA & POINT (742.9057 -442.5383) & 742.9057 & -442.5383 &  0.7190629 & 49.9911416\\\\\n\\end{tabular}\n",
            "text/plain": [
              "  Group X  Y  geom                       X_new    Y_new     Y_test    \n",
              "1 A     NA NA POINT (167.5407 -149.5215) 167.5407 -149.5215 11.0031060\n",
              "2 A     NA NA POINT (179.0461 -212.1848) 179.0461 -212.1848  8.8038049\n",
              "3 A     NA NA POINT (203.6652 -383.014)  203.6652 -383.0140  2.8081941\n",
              "4 A     NA NA POINT (250.9643 -413.3534) 250.9643 -413.3534  1.7433700\n",
              "5 A     NA NA POINT (742.9057 -442.5383) 742.9057 -442.5383  0.7190629\n",
              "  X_test    \n",
              "1  0.8156493\n",
              "2  1.7989929\n",
              "3  3.9031485\n",
              "4  7.9457215\n",
              "5 49.9911416"
            ]
          },
          "metadata": {}
        }
      ]
    },
    {
      "cell_type": "code",
      "source": [
        "plot_points_dt <- plot_points_dt[order(X_test)]\n",
        "\n",
        "\n",
        "\n",
        "\n",
        "x <- plot_lines_points_dt[Group == 'A'&X_test<15]$X_test\n",
        "y <- plot_lines_points_dt[Group == 'A'&X_test<15]$Y_test\n",
        "\n",
        "\n",
        "\n",
        "\n",
        "# Define the logarithmic model\n",
        "log_model <- function(x, a, b) {\n",
        "  a + b * log(x)\n",
        "}\n",
        "\n",
        "# Fit the model to the data using nls\n",
        "fit_A <- nls(y ~ log_model(x, a, b), start = list(a = 1, b = 1))\n",
        "\n",
        "x <- c(plot_lines_points_dt[Group == 'A'&X_test>15]$X_test,rep(500,1))\n",
        "y <- c(plot_lines_points_dt[Group == 'A'&X_test>15]$Y_test,rep(0,1))\n",
        "\n",
        "lin_model_A <- lm(Y_test~X_test,data.table(Y_test=y,X_test=x))\n",
        "\n",
        "\n",
        "\n",
        "x <- plot_lines_points_dt[Group == 'B'&X_test<15]$X_test\n",
        "y <- plot_lines_points_dt[Group == 'B'&X_test<15]$Y_test\n",
        "\n",
        "\n",
        "# Define the logarithmic model\n",
        "log_model <- function(x, a, b) {\n",
        "  a + b * log(x)\n",
        "}\n",
        "# Fit the model to the data using nls\n",
        "fit_B <- nls(y ~ log_model(x, a, b), start = list(a = 1, b = 1))\n",
        "\n",
        "x <- c(plot_lines_points_dt[Group == 'B'&X_test>15]$X_test,rep(500,1))\n",
        "y <- c(plot_lines_points_dt[Group == 'B'&X_test>15]$Y_test,rep(0,1))\n",
        "\n",
        "lin_model_B <- lm(Y_test~X_test,data.table(Y_test=y,X_test=x))\n",
        "\n"
      ],
      "metadata": {
        "id": "scmvDvEq6MwZ"
      },
      "execution_count": 24,
      "outputs": []
    },
    {
      "cell_type": "code",
      "source": [
        "plot_points_dt[Group %in% c('A','B')] %>%\n",
        "  ggplot(aes(x=X_test,y=Y_test))+\n",
        "  geom_point() +\n",
        "  geom_smooth(aes(group=Group),method='loess',span=.8)"
      ],
      "metadata": {
        "colab": {
          "base_uri": "https://localhost:8080/",
          "height": 524
        },
        "id": "mh6XwbBD8VOU",
        "outputId": "ac6207f8-7f34-4e84-94ed-9a9851868f40"
      },
      "execution_count": 48,
      "outputs": [
        {
          "output_type": "stream",
          "name": "stderr",
          "text": [
            "\u001b[1m\u001b[22m`geom_smooth()` using formula = 'y ~ x'\n",
            "Warning message in max(ids, na.rm = TRUE):\n",
            "“no non-missing arguments to max; returning -Inf”\n",
            "Warning message in max(ids, na.rm = TRUE):\n",
            "“no non-missing arguments to max; returning -Inf”\n"
          ]
        },
        {
          "output_type": "display_data",
          "data": {
            "text/plain": [
              "plot without title"
            ],
            "image/png": "[encoded data removed]"
          },
          "metadata": {
            "image/png": {
              "width": 420,
              "height": 420
            }
          }
        }
      ]
    },
    {
      "cell_type": "code",
      "source": [
        "fit_dt <-\n",
        "rbindlist(list(\n",
        "data.table(Group= 'A',X_test = 1:10,Y_test = log_model(1:10,coef(fit_A)[1],coef(fit_A)[2])),\n",
        "data.table(Group= 'B',X_test = 1:10,Y_test = log_model(1:10,coef(fit_B)[1],coef(fit_B)[2])),\n",
        "data.table(Group= 'A',X_test = 11:500,Y_test = predict(lin_model_A,data.table(X_test = 11:500))),\n",
        "data.table(Group= 'B',X_test = 11:500,Y_test = predict(lin_model_B,data.table(X_test = 11:500))))\n",
        "\n",
        "\n",
        ")\n",
        "# fit_dt"
      ],
      "metadata": {
        "id": "w8iY4f8a6SKt"
      },
      "execution_count": 25,
      "outputs": []
    },
    {
      "cell_type": "code",
      "source": [
        "diameter_decay_dt <- plot_lines_points_dt[,list(DR = mean(Y_test)),by=(diameter = round(X_test))] [order(diameter)]\n",
        "nonlin_diameter_decay_dt <-fit_dt[,list(DR = mean(Y_test)),by=(diameter = X_test)] [order(diameter)]"
      ],
      "metadata": {
        "id": "7_Noah9m6TIe"
      },
      "execution_count": 26,
      "outputs": []
    },
    {
      "cell_type": "code",
      "source": [
        "# diameter_decay_dt %>% ggplot(aes(x=diameter,y=DR))+\n",
        "#   geom_point() +\n",
        "#   xlim(0,50) +\n",
        "#   geom_smooth(method = 'gam')"
      ],
      "metadata": {
        "id": "Zcr8n-va7sI5"
      },
      "execution_count": 188,
      "outputs": []
    },
    {
      "cell_type": "code",
      "source": [
        "nonlin_diameter_decay_dt[diameter==1][['DR']][1]"
      ],
      "metadata": {
        "colab": {
          "base_uri": "https://localhost:8080/",
          "height": 34
        },
        "id": "Yt6ip_8gT7rk",
        "outputId": "8ad25e35-feb4-469a-999e-83a4afd8b780"
      },
      "execution_count": 133,
      "outputs": [
        {
          "output_type": "display_data",
          "data": {
            "text/html": [
              "8.19447269571407"
            ],
            "text/markdown": "8.19447269571407",
            "text/latex": "8.19447269571407",
            "text/plain": [
              "[1] 8.194473"
            ]
          },
          "metadata": {}
        }
      ]
    },
    {
      "cell_type": "code",
      "source": [
        "nonlin_diameter_decay_dt[diameter==100][['DR']]"
      ],
      "metadata": {
        "colab": {
          "base_uri": "https://localhost:8080/",
          "height": 34
        },
        "id": "3AOFXWpYmU3t",
        "outputId": "123eb400-1675-41f7-8d3a-bb44bc7f592b"
      },
      "execution_count": 150,
      "outputs": [
        {
          "output_type": "display_data",
          "data": {
            "text/html": [
              "2.13632218744801"
            ],
            "text/markdown": "2.13632218744801",
            "text/latex": "2.13632218744801",
            "text/plain": [
              "[1] 2.136322"
            ]
          },
          "metadata": {}
        }
      ]
    },
    {
      "cell_type": "code",
      "source": [
        "percent_decay(.02,1)\n"
      ],
      "metadata": {
        "colab": {
          "base_uri": "https://localhost:8080/",
          "height": 34
        },
        "id": "iyAPt2DivZSL",
        "outputId": "78f6a46e-ccc8-4e97-e6cc-1b40ccd5d9d8"
      },
      "execution_count": 208,
      "outputs": [
        {
          "output_type": "display_data",
          "data": {
            "text/html": [
              "0.0199980001333255"
            ],
            "text/markdown": "0.0199980001333255",
            "text/latex": "0.0199980001333255",
            "text/plain": [
              "[1] 0.019998"
            ]
          },
          "metadata": {}
        }
      ]
    },
    {
      "cell_type": "code",
      "source": [
        "percent_decay <- function(DR, year) {\n",
        "  percent <- (1-exp(-(DR/100) * year)) * 100\n",
        "  return(percent)\n",
        "}\n",
        "\n",
        "nonlin_decay_table <-\n",
        "function(z){\n",
        "if(is.na(z)){return(data.table(DR=NA,year_m=NA,decay_m=NA,decay_class = NA))}\n",
        "per_decay_table <-\n",
        "z %>% lapply(function(diam){\n",
        "data.table(diameter = diam,year= 1:500,percent_decay =\n",
        "1:500 %>%\n",
        "lapply(function(year){\n",
        "    percent_decay(nonlin_diameter_decay_dt[diameter==round(diam)][['DR']],year)\n",
        "    }) %>% unlist)}) %>% rbindlist\n",
        "per_decay_table$DR  <- nonlin_diameter_decay_dt[diameter==round(z)][['DR']]\n",
        "rate_decay_table <- per_decay_table[,list(DR = mean(DR),year_m = median(year,na.rm=T),decay_m = median(percent_decay)),by=(decay_class= (percent_decay %>% cut(breaks=c(0,10,20,50,80,90,100)))) ]\n",
        "return(rate_decay_table)\n",
        "}"
      ],
      "metadata": {
        "id": "KufY3HWQ6c4e"
      },
      "execution_count": 178,
      "outputs": []
    },
    {
      "cell_type": "code",
      "source": [
        "# spatial_cwd_dt %>% head"
      ],
      "metadata": {
        "id": "vN36Pxy_nDeu"
      },
      "execution_count": 156,
      "outputs": []
    },
    {
      "cell_type": "code",
      "source": [
        "x_dt <- NULL"
      ],
      "metadata": {
        "id": "C4raSiOTPFRx"
      },
      "execution_count": 112,
      "outputs": []
    },
    {
      "cell_type": "code",
      "source": [
        "spatial_cwd_dt <-\n",
        "# spatial_cwd_dt %>%\n",
        "1:nrow(data_list[['CWD']]) %>%\n",
        "lapply(function(y){\n",
        "    x_dt <- data_list[['CWD']][y,]\n",
        "\n",
        "    decay_table <- nonlin_decay_table(x_dt$Width_cm %>% as.numeric)\n",
        "    # print(decay_table)\n",
        "    decay_table <- decay_table[if(is.na(x_dt$`Decay_class_1-5` %>% as.numeric)){1}else{x_dt$`Decay_class_1-5`%>% as.numeric},]\n",
        "    data.table(x_dt,decay_table)  %>% data.table\n",
        "    }) %>%\n",
        "rbindlist()"
      ],
      "metadata": {
        "colab": {
          "base_uri": "https://localhost:8080/"
        },
        "id": "r7zJKp0lETu6",
        "outputId": "2e75eda5-6cfe-4fe4-efb4-32ed9a6948a9"
      },
      "execution_count": 196,
      "outputs": [
        {
          "output_type": "stream",
          "name": "stderr",
          "text": [
            "Warning message in as.data.table.list(x, keep.rownames = keep.rownames, check.names = check.names, :\n",
            "“Item 3 has 0 rows but longest item has 500; filled with NA”\n",
            "Warning message in as.data.table.list(x, keep.rownames = keep.rownames, check.names = check.names, :\n",
            "“Item 3 has 0 rows but longest item has 500; filled with NA”\n",
            "Warning message in as.data.table.list(x, keep.rownames = keep.rownames, check.names = check.names, :\n",
            "“Item 3 has 0 rows but longest item has 500; filled with NA”\n",
            "Warning message in as.data.table.list(x, keep.rownames = keep.rownames, check.names = check.names, :\n",
            "“Item 3 has 0 rows but longest item has 500; filled with NA”\n",
            "Warning message in as.data.table.list(x, keep.rownames = keep.rownames, check.names = check.names, :\n",
            "“Item 3 has 0 rows but longest item has 500; filled with NA”\n",
            "Warning message in as.data.table.list(x, keep.rownames = keep.rownames, check.names = check.names, :\n",
            "“Item 3 has 0 rows but longest item has 500; filled with NA”\n",
            "Warning message in as.data.table.list(x, keep.rownames = keep.rownames, check.names = check.names, :\n",
            "“Item 3 has 0 rows but longest item has 500; filled with NA”\n",
            "Warning message in as.data.table.list(x, keep.rownames = keep.rownames, check.names = check.names, :\n",
            "“Item 3 has 0 rows but longest item has 500; filled with NA”\n",
            "Warning message in as.data.table.list(x, keep.rownames = keep.rownames, check.names = check.names, :\n",
            "“Item 3 has 0 rows but longest item has 500; filled with NA”\n",
            "Warning message in as.data.table.list(x, keep.rownames = keep.rownames, check.names = check.names, :\n",
            "“Item 3 has 0 rows but longest item has 500; filled with NA”\n",
            "Warning message in as.data.table.list(x, keep.rownames = keep.rownames, check.names = check.names, :\n",
            "“Item 3 has 0 rows but longest item has 500; filled with NA”\n",
            "Warning message in as.data.table.list(x, keep.rownames = keep.rownames, check.names = check.names, :\n",
            "“Item 3 has 0 rows but longest item has 500; filled with NA”\n",
            "Warning message in as.data.table.list(x, keep.rownames = keep.rownames, check.names = check.names, :\n",
            "“Item 3 has 0 rows but longest item has 500; filled with NA”\n",
            "Warning message in as.data.table.list(x, keep.rownames = keep.rownames, check.names = check.names, :\n",
            "“Item 3 has 0 rows but longest item has 500; filled with NA”\n",
            "Warning message in as.data.table.list(x, keep.rownames = keep.rownames, check.names = check.names, :\n",
            "“Item 3 has 0 rows but longest item has 500; filled with NA”\n",
            "Warning message in as.data.table.list(x, keep.rownames = keep.rownames, check.names = check.names, :\n",
            "“Item 3 has 0 rows but longest item has 500; filled with NA”\n",
            "Warning message in as.data.table.list(x, keep.rownames = keep.rownames, check.names = check.names, :\n",
            "“Item 3 has 0 rows but longest item has 500; filled with NA”\n",
            "Warning message in as.data.table.list(x, keep.rownames = keep.rownames, check.names = check.names, :\n",
            "“Item 3 has 0 rows but longest item has 500; filled with NA”\n",
            "Warning message in as.data.table.list(x, keep.rownames = keep.rownames, check.names = check.names, :\n",
            "“Item 3 has 0 rows but longest item has 500; filled with NA”\n",
            "Warning message in as.data.table.list(x, keep.rownames = keep.rownames, check.names = check.names, :\n",
            "“Item 3 has 0 rows but longest item has 500; filled with NA”\n",
            "Warning message in as.data.table.list(x, keep.rownames = keep.rownames, check.names = check.names, :\n",
            "“Item 3 has 0 rows but longest item has 500; filled with NA”\n",
            "Warning message in as.data.table.list(x, keep.rownames = keep.rownames, check.names = check.names, :\n",
            "“Item 3 has 0 rows but longest item has 500; filled with NA”\n",
            "Warning message in as.data.table.list(x, keep.rownames = keep.rownames, check.names = check.names, :\n",
            "“Item 3 has 0 rows but longest item has 500; filled with NA”\n",
            "Warning message in as.data.table.list(x, keep.rownames = keep.rownames, check.names = check.names, :\n",
            "“Item 3 has 0 rows but longest item has 500; filled with NA”\n",
            "Warning message in as.data.table.list(x, keep.rownames = keep.rownames, check.names = check.names, :\n",
            "“Item 3 has 0 rows but longest item has 500; filled with NA”\n",
            "Warning message in as.data.table.list(x, keep.rownames = keep.rownames, check.names = check.names, :\n",
            "“Item 3 has 0 rows but longest item has 500; filled with NA”\n",
            "Warning message in as.data.table.list(x, keep.rownames = keep.rownames, check.names = check.names, :\n",
            "“Item 3 has 0 rows but longest item has 500; filled with NA”\n",
            "Warning message in as.data.table.list(x, keep.rownames = keep.rownames, check.names = check.names, :\n",
            "“Item 3 has 0 rows but longest item has 500; filled with NA”\n",
            "Warning message in as.data.table.list(x, keep.rownames = keep.rownames, check.names = check.names, :\n",
            "“Item 3 has 0 rows but longest item has 500; filled with NA”\n",
            "Warning message in as.data.table.list(x, keep.rownames = keep.rownames, check.names = check.names, :\n",
            "“Item 3 has 0 rows but longest item has 500; filled with NA”\n",
            "Warning message in as.data.table.list(x, keep.rownames = keep.rownames, check.names = check.names, :\n",
            "“Item 3 has 0 rows but longest item has 500; filled with NA”\n",
            "Warning message in as.data.table.list(x, keep.rownames = keep.rownames, check.names = check.names, :\n",
            "“Item 3 has 0 rows but longest item has 500; filled with NA”\n",
            "Warning message in as.data.table.list(x, keep.rownames = keep.rownames, check.names = check.names, :\n",
            "“Item 3 has 0 rows but longest item has 500; filled with NA”\n",
            "Warning message in as.data.table.list(x, keep.rownames = keep.rownames, check.names = check.names, :\n",
            "“Item 3 has 0 rows but longest item has 500; filled with NA”\n",
            "Warning message in as.data.table.list(x, keep.rownames = keep.rownames, check.names = check.names, :\n",
            "“Item 3 has 0 rows but longest item has 500; filled with NA”\n",
            "Warning message in x_dt$`Decay_class_1-5` %>% as.numeric:\n",
            "“NAs introduced by coercion”\n",
            "Warning message in as.data.table.list(x, keep.rownames = keep.rownames, check.names = check.names, :\n",
            "“Item 3 has 0 rows but longest item has 500; filled with NA”\n",
            "Warning message in as.data.table.list(x, keep.rownames = keep.rownames, check.names = check.names, :\n",
            "“Item 3 has 0 rows but longest item has 500; filled with NA”\n",
            "Warning message in as.data.table.list(x, keep.rownames = keep.rownames, check.names = check.names, :\n",
            "“Item 3 has 0 rows but longest item has 500; filled with NA”\n",
            "Warning message in as.data.table.list(x, keep.rownames = keep.rownames, check.names = check.names, :\n",
            "“Item 3 has 0 rows but longest item has 500; filled with NA”\n",
            "Warning message in as.data.table.list(x, keep.rownames = keep.rownames, check.names = check.names, :\n",
            "“Item 3 has 0 rows but longest item has 500; filled with NA”\n",
            "Warning message in as.data.table.list(x, keep.rownames = keep.rownames, check.names = check.names, :\n",
            "“Item 3 has 0 rows but longest item has 500; filled with NA”\n",
            "Warning message in as.data.table.list(x, keep.rownames = keep.rownames, check.names = check.names, :\n",
            "“Item 3 has 0 rows but longest item has 500; filled with NA”\n",
            "Warning message in as.data.table.list(x, keep.rownames = keep.rownames, check.names = check.names, :\n",
            "“Item 3 has 0 rows but longest item has 500; filled with NA”\n",
            "Warning message in as.data.table.list(x, keep.rownames = keep.rownames, check.names = check.names, :\n",
            "“Item 3 has 0 rows but longest item has 500; filled with NA”\n",
            "Warning message in as.data.table.list(x, keep.rownames = keep.rownames, check.names = check.names, :\n",
            "“Item 3 has 0 rows but longest item has 500; filled with NA”\n",
            "Warning message in as.data.table.list(x, keep.rownames = keep.rownames, check.names = check.names, :\n",
            "“Item 3 has 0 rows but longest item has 500; filled with NA”\n",
            "Warning message in as.data.table.list(x, keep.rownames = keep.rownames, check.names = check.names, :\n",
            "“Item 3 has 0 rows but longest item has 500; filled with NA”\n",
            "Warning message in as.data.table.list(x, keep.rownames = keep.rownames, check.names = check.names, :\n",
            "“Item 3 has 0 rows but longest item has 500; filled with NA”\n",
            "Warning message in as.data.table.list(x, keep.rownames = keep.rownames, check.names = check.names, :\n",
            "“Item 3 has 0 rows but longest item has 500; filled with NA”\n",
            "Warning message in as.data.table.list(x, keep.rownames = keep.rownames, check.names = check.names, :\n",
            "“Item 3 has 0 rows but longest item has 500; filled with NA”\n",
            "Warning message in as.data.table.list(x, keep.rownames = keep.rownames, check.names = check.names, :\n",
            "“Item 3 has 0 rows but longest item has 500; filled with NA”\n",
            "Warning message in as.data.table.list(x, keep.rownames = keep.rownames, check.names = check.names, :\n",
            "“Item 3 has 0 rows but longest item has 500; filled with NA”\n",
            "Warning message in as.data.table.list(x, keep.rownames = keep.rownames, check.names = check.names, :\n",
            "“Item 3 has 0 rows but longest item has 500; filled with NA”\n",
            "Warning message in as.data.table.list(x, keep.rownames = keep.rownames, check.names = check.names, :\n",
            "“Item 3 has 0 rows but longest item has 500; filled with NA”\n",
            "Warning message in as.data.table.list(x, keep.rownames = keep.rownames, check.names = check.names, :\n",
            "“Item 3 has 0 rows but longest item has 500; filled with NA”\n",
            "Warning message in as.data.table.list(x, keep.rownames = keep.rownames, check.names = check.names, :\n",
            "“Item 3 has 0 rows but longest item has 500; filled with NA”\n",
            "Warning message in as.data.table.list(x, keep.rownames = keep.rownames, check.names = check.names, :\n",
            "“Item 3 has 0 rows but longest item has 500; filled with NA”\n",
            "Warning message in as.data.table.list(x, keep.rownames = keep.rownames, check.names = check.names, :\n",
            "“Item 3 has 0 rows but longest item has 500; filled with NA”\n",
            "Warning message in as.data.table.list(x, keep.rownames = keep.rownames, check.names = check.names, :\n",
            "“Item 3 has 0 rows but longest item has 500; filled with NA”\n",
            "Warning message in as.data.table.list(x, keep.rownames = keep.rownames, check.names = check.names, :\n",
            "“Item 3 has 0 rows but longest item has 500; filled with NA”\n",
            "Warning message in as.data.table.list(x, keep.rownames = keep.rownames, check.names = check.names, :\n",
            "“Item 3 has 0 rows but longest item has 500; filled with NA”\n",
            "Warning message in as.data.table.list(x, keep.rownames = keep.rownames, check.names = check.names, :\n",
            "“Item 3 has 0 rows but longest item has 500; filled with NA”\n",
            "Warning message in as.data.table.list(x, keep.rownames = keep.rownames, check.names = check.names, :\n",
            "“Item 3 has 0 rows but longest item has 500; filled with NA”\n",
            "Warning message in as.data.table.list(x, keep.rownames = keep.rownames, check.names = check.names, :\n",
            "“Item 3 has 0 rows but longest item has 500; filled with NA”\n",
            "Warning message in as.data.table.list(x, keep.rownames = keep.rownames, check.names = check.names, :\n",
            "“Item 3 has 0 rows but longest item has 500; filled with NA”\n",
            "Warning message in as.data.table.list(x, keep.rownames = keep.rownames, check.names = check.names, :\n",
            "“Item 3 has 0 rows but longest item has 500; filled with NA”\n",
            "Warning message in as.data.table.list(x, keep.rownames = keep.rownames, check.names = check.names, :\n",
            "“Item 3 has 0 rows but longest item has 500; filled with NA”\n",
            "Warning message in as.data.table.list(x, keep.rownames = keep.rownames, check.names = check.names, :\n",
            "“Item 3 has 0 rows but longest item has 500; filled with NA”\n",
            "Warning message in as.data.table.list(x, keep.rownames = keep.rownames, check.names = check.names, :\n",
            "“Item 3 has 0 rows but longest item has 500; filled with NA”\n",
            "Warning message in as.data.table.list(x, keep.rownames = keep.rownames, check.names = check.names, :\n",
            "“Item 3 has 0 rows but longest item has 500; filled with NA”\n",
            "Warning message in as.data.table.list(x, keep.rownames = keep.rownames, check.names = check.names, :\n",
            "“Item 3 has 0 rows but longest item has 500; filled with NA”\n",
            "Warning message in as.data.table.list(x, keep.rownames = keep.rownames, check.names = check.names, :\n",
            "“Item 3 has 0 rows but longest item has 500; filled with NA”\n",
            "Warning message in as.data.table.list(x, keep.rownames = keep.rownames, check.names = check.names, :\n",
            "“Item 3 has 0 rows but longest item has 500; filled with NA”\n",
            "Warning message in as.data.table.list(x, keep.rownames = keep.rownames, check.names = check.names, :\n",
            "“Item 3 has 0 rows but longest item has 500; filled with NA”\n",
            "Warning message in as.data.table.list(x, keep.rownames = keep.rownames, check.names = check.names, :\n",
            "“Item 3 has 0 rows but longest item has 500; filled with NA”\n",
            "Warning message in as.data.table.list(x, keep.rownames = keep.rownames, check.names = check.names, :\n",
            "“Item 3 has 0 rows but longest item has 500; filled with NA”\n",
            "Warning message in as.data.table.list(x, keep.rownames = keep.rownames, check.names = check.names, :\n",
            "“Item 3 has 0 rows but longest item has 500; filled with NA”\n",
            "Warning message in as.data.table.list(x, keep.rownames = keep.rownames, check.names = check.names, :\n",
            "“Item 3 has 0 rows but longest item has 500; filled with NA”\n",
            "Warning message in as.data.table.list(x, keep.rownames = keep.rownames, check.names = check.names, :\n",
            "“Item 3 has 0 rows but longest item has 500; filled with NA”\n",
            "Warning message in as.data.table.list(x, keep.rownames = keep.rownames, check.names = check.names, :\n",
            "“Item 3 has 0 rows but longest item has 500; filled with NA”\n",
            "Warning message in as.data.table.list(x, keep.rownames = keep.rownames, check.names = check.names, :\n",
            "“Item 3 has 0 rows but longest item has 500; filled with NA”\n",
            "Warning message in as.data.table.list(x, keep.rownames = keep.rownames, check.names = check.names, :\n",
            "“Item 3 has 0 rows but longest item has 500; filled with NA”\n",
            "Warning message in as.data.table.list(x, keep.rownames = keep.rownames, check.names = check.names, :\n",
            "“Item 3 has 0 rows but longest item has 500; filled with NA”\n",
            "Warning message in as.data.table.list(x, keep.rownames = keep.rownames, check.names = check.names, :\n",
            "“Item 3 has 0 rows but longest item has 500; filled with NA”\n",
            "Warning message in as.data.table.list(x, keep.rownames = keep.rownames, check.names = check.names, :\n",
            "“Item 3 has 0 rows but longest item has 500; filled with NA”\n",
            "Warning message in as.data.table.list(x, keep.rownames = keep.rownames, check.names = check.names, :\n",
            "“Item 3 has 0 rows but longest item has 500; filled with NA”\n",
            "Warning message in as.data.table.list(x, keep.rownames = keep.rownames, check.names = check.names, :\n",
            "“Item 3 has 0 rows but longest item has 500; filled with NA”\n",
            "Warning message in as.data.table.list(x, keep.rownames = keep.rownames, check.names = check.names, :\n",
            "“Item 3 has 0 rows but longest item has 500; filled with NA”\n",
            "Warning message in as.data.table.list(x, keep.rownames = keep.rownames, check.names = check.names, :\n",
            "“Item 3 has 0 rows but longest item has 500; filled with NA”\n",
            "Warning message in as.data.table.list(x, keep.rownames = keep.rownames, check.names = check.names, :\n",
            "“Item 3 has 0 rows but longest item has 500; filled with NA”\n",
            "Warning message in as.data.table.list(x, keep.rownames = keep.rownames, check.names = check.names, :\n",
            "“Item 3 has 0 rows but longest item has 500; filled with NA”\n",
            "Warning message in as.data.table.list(x, keep.rownames = keep.rownames, check.names = check.names, :\n",
            "“Item 3 has 0 rows but longest item has 500; filled with NA”\n",
            "Warning message in as.data.table.list(x, keep.rownames = keep.rownames, check.names = check.names, :\n",
            "“Item 3 has 0 rows but longest item has 500; filled with NA”\n",
            "Warning message in as.data.table.list(x, keep.rownames = keep.rownames, check.names = check.names, :\n",
            "“Item 3 has 0 rows but longest item has 500; filled with NA”\n",
            "Warning message in as.data.table.list(x, keep.rownames = keep.rownames, check.names = check.names, :\n",
            "“Item 3 has 0 rows but longest item has 500; filled with NA”\n",
            "Warning message in as.data.table.list(x, keep.rownames = keep.rownames, check.names = check.names, :\n",
            "“Item 3 has 0 rows but longest item has 500; filled with NA”\n",
            "Warning message in as.data.table.list(x, keep.rownames = keep.rownames, check.names = check.names, :\n",
            "“Item 3 has 0 rows but longest item has 500; filled with NA”\n",
            "Warning message in as.data.table.list(x, keep.rownames = keep.rownames, check.names = check.names, :\n",
            "“Item 3 has 0 rows but longest item has 500; filled with NA”\n",
            "Warning message in as.data.table.list(x, keep.rownames = keep.rownames, check.names = check.names, :\n",
            "“Item 3 has 0 rows but longest item has 500; filled with NA”\n",
            "Warning message in as.data.table.list(x, keep.rownames = keep.rownames, check.names = check.names, :\n",
            "“Item 3 has 0 rows but longest item has 500; filled with NA”\n",
            "Warning message in as.data.table.list(x, keep.rownames = keep.rownames, check.names = check.names, :\n",
            "“Item 3 has 0 rows but longest item has 500; filled with NA”\n",
            "Warning message in as.data.table.list(x, keep.rownames = keep.rownames, check.names = check.names, :\n",
            "“Item 3 has 0 rows but longest item has 500; filled with NA”\n",
            "Warning message in as.data.table.list(x, keep.rownames = keep.rownames, check.names = check.names, :\n",
            "“Item 3 has 0 rows but longest item has 500; filled with NA”\n",
            "Warning message in as.data.table.list(x, keep.rownames = keep.rownames, check.names = check.names, :\n",
            "“Item 3 has 0 rows but longest item has 500; filled with NA”\n",
            "Warning message in as.data.table.list(x, keep.rownames = keep.rownames, check.names = check.names, :\n",
            "“Item 3 has 0 rows but longest item has 500; filled with NA”\n",
            "Warning message in as.data.table.list(x, keep.rownames = keep.rownames, check.names = check.names, :\n",
            "“Item 3 has 0 rows but longest item has 500; filled with NA”\n",
            "Warning message in as.data.table.list(x, keep.rownames = keep.rownames, check.names = check.names, :\n",
            "“Item 3 has 0 rows but longest item has 500; filled with NA”\n",
            "Warning message in as.data.table.list(x, keep.rownames = keep.rownames, check.names = check.names, :\n",
            "“Item 3 has 0 rows but longest item has 500; filled with NA”\n",
            "Warning message in as.data.table.list(x, keep.rownames = keep.rownames, check.names = check.names, :\n",
            "“Item 3 has 0 rows but longest item has 500; filled with NA”\n",
            "Warning message in as.data.table.list(x, keep.rownames = keep.rownames, check.names = check.names, :\n",
            "“Item 3 has 0 rows but longest item has 500; filled with NA”\n",
            "Warning message in as.data.table.list(x, keep.rownames = keep.rownames, check.names = check.names, :\n",
            "“Item 3 has 0 rows but longest item has 500; filled with NA”\n",
            "Warning message in as.data.table.list(x, keep.rownames = keep.rownames, check.names = check.names, :\n",
            "“Item 3 has 0 rows but longest item has 500; filled with NA”\n",
            "Warning message in as.data.table.list(x, keep.rownames = keep.rownames, check.names = check.names, :\n",
            "“Item 3 has 0 rows but longest item has 500; filled with NA”\n",
            "Warning message in as.data.table.list(x, keep.rownames = keep.rownames, check.names = check.names, :\n",
            "“Item 3 has 0 rows but longest item has 500; filled with NA”\n",
            "Warning message in as.data.table.list(x, keep.rownames = keep.rownames, check.names = check.names, :\n",
            "“Item 3 has 0 rows but longest item has 500; filled with NA”\n",
            "Warning message in as.data.table.list(x, keep.rownames = keep.rownames, check.names = check.names, :\n",
            "“Item 3 has 0 rows but longest item has 500; filled with NA”\n",
            "Warning message in as.data.table.list(x, keep.rownames = keep.rownames, check.names = check.names, :\n",
            "“Item 3 has 0 rows but longest item has 500; filled with NA”\n",
            "Warning message in as.data.table.list(x, keep.rownames = keep.rownames, check.names = check.names, :\n",
            "“Item 3 has 0 rows but longest item has 500; filled with NA”\n",
            "Warning message in as.data.table.list(x, keep.rownames = keep.rownames, check.names = check.names, :\n",
            "“Item 3 has 0 rows but longest item has 500; filled with NA”\n",
            "Warning message in as.data.table.list(x, keep.rownames = keep.rownames, check.names = check.names, :\n",
            "“Item 3 has 0 rows but longest item has 500; filled with NA”\n",
            "Warning message in as.data.table.list(x, keep.rownames = keep.rownames, check.names = check.names, :\n",
            "“Item 3 has 0 rows but longest item has 500; filled with NA”\n",
            "Warning message in as.data.table.list(x, keep.rownames = keep.rownames, check.names = check.names, :\n",
            "“Item 3 has 0 rows but longest item has 500; filled with NA”\n",
            "Warning message in as.data.table.list(x, keep.rownames = keep.rownames, check.names = check.names, :\n",
            "“Item 3 has 0 rows but longest item has 500; filled with NA”\n",
            "Warning message in as.data.table.list(x, keep.rownames = keep.rownames, check.names = check.names, :\n",
            "“Item 3 has 0 rows but longest item has 500; filled with NA”\n",
            "Warning message in as.data.table.list(x, keep.rownames = keep.rownames, check.names = check.names, :\n",
            "“Item 3 has 0 rows but longest item has 500; filled with NA”\n",
            "Warning message in as.data.table.list(x, keep.rownames = keep.rownames, check.names = check.names, :\n",
            "“Item 3 has 0 rows but longest item has 500; filled with NA”\n",
            "Warning message in as.data.table.list(x, keep.rownames = keep.rownames, check.names = check.names, :\n",
            "“Item 3 has 0 rows but longest item has 500; filled with NA”\n",
            "Warning message in as.data.table.list(x, keep.rownames = keep.rownames, check.names = check.names, :\n",
            "“Item 3 has 0 rows but longest item has 500; filled with NA”\n",
            "Warning message in as.data.table.list(x, keep.rownames = keep.rownames, check.names = check.names, :\n",
            "“Item 3 has 0 rows but longest item has 500; filled with NA”\n",
            "Warning message in as.data.table.list(x, keep.rownames = keep.rownames, check.names = check.names, :\n",
            "“Item 3 has 0 rows but longest item has 500; filled with NA”\n",
            "Warning message in as.data.table.list(x, keep.rownames = keep.rownames, check.names = check.names, :\n",
            "“Item 3 has 0 rows but longest item has 500; filled with NA”\n",
            "Warning message in as.data.table.list(x, keep.rownames = keep.rownames, check.names = check.names, :\n",
            "“Item 3 has 0 rows but longest item has 500; filled with NA”\n",
            "Warning message in as.data.table.list(x, keep.rownames = keep.rownames, check.names = check.names, :\n",
            "“Item 3 has 0 rows but longest item has 500; filled with NA”\n",
            "Warning message in as.data.table.list(x, keep.rownames = keep.rownames, check.names = check.names, :\n",
            "“Item 3 has 0 rows but longest item has 500; filled with NA”\n",
            "Warning message in as.data.table.list(x, keep.rownames = keep.rownames, check.names = check.names, :\n",
            "“Item 3 has 0 rows but longest item has 500; filled with NA”\n",
            "Warning message in as.data.table.list(x, keep.rownames = keep.rownames, check.names = check.names, :\n",
            "“Item 3 has 0 rows but longest item has 500; filled with NA”\n",
            "Warning message in as.data.table.list(x, keep.rownames = keep.rownames, check.names = check.names, :\n",
            "“Item 3 has 0 rows but longest item has 500; filled with NA”\n",
            "Warning message in as.data.table.list(x, keep.rownames = keep.rownames, check.names = check.names, :\n",
            "“Item 3 has 0 rows but longest item has 500; filled with NA”\n",
            "Warning message in as.data.table.list(x, keep.rownames = keep.rownames, check.names = check.names, :\n",
            "“Item 3 has 0 rows but longest item has 500; filled with NA”\n",
            "Warning message in as.data.table.list(x, keep.rownames = keep.rownames, check.names = check.names, :\n",
            "“Item 3 has 0 rows but longest item has 500; filled with NA”\n",
            "Warning message in as.data.table.list(x, keep.rownames = keep.rownames, check.names = check.names, :\n",
            "“Item 3 has 0 rows but longest item has 500; filled with NA”\n",
            "Warning message in as.data.table.list(x, keep.rownames = keep.rownames, check.names = check.names, :\n",
            "“Item 3 has 0 rows but longest item has 500; filled with NA”\n",
            "Warning message in as.data.table.list(x, keep.rownames = keep.rownames, check.names = check.names, :\n",
            "“Item 3 has 0 rows but longest item has 500; filled with NA”\n",
            "Warning message in as.data.table.list(x, keep.rownames = keep.rownames, check.names = check.names, :\n",
            "“Item 3 has 0 rows but longest item has 500; filled with NA”\n",
            "Warning message in as.data.table.list(x, keep.rownames = keep.rownames, check.names = check.names, :\n",
            "“Item 3 has 0 rows but longest item has 500; filled with NA”\n",
            "Warning message in as.data.table.list(x, keep.rownames = keep.rownames, check.names = check.names, :\n",
            "“Item 3 has 0 rows but longest item has 500; filled with NA”\n",
            "Warning message in as.data.table.list(x, keep.rownames = keep.rownames, check.names = check.names, :\n",
            "“Item 3 has 0 rows but longest item has 500; filled with NA”\n",
            "Warning message in as.data.table.list(x, keep.rownames = keep.rownames, check.names = check.names, :\n",
            "“Item 3 has 0 rows but longest item has 500; filled with NA”\n",
            "Warning message in as.data.table.list(x, keep.rownames = keep.rownames, check.names = check.names, :\n",
            "“Item 3 has 0 rows but longest item has 500; filled with NA”\n",
            "Warning message in as.data.table.list(x, keep.rownames = keep.rownames, check.names = check.names, :\n",
            "“Item 3 has 0 rows but longest item has 500; filled with NA”\n",
            "Warning message in as.data.table.list(x, keep.rownames = keep.rownames, check.names = check.names, :\n",
            "“Item 3 has 0 rows but longest item has 500; filled with NA”\n",
            "Warning message in as.data.table.list(x, keep.rownames = keep.rownames, check.names = check.names, :\n",
            "“Item 3 has 0 rows but longest item has 500; filled with NA”\n",
            "Warning message in as.data.table.list(x, keep.rownames = keep.rownames, check.names = check.names, :\n",
            "“Item 3 has 0 rows but longest item has 500; filled with NA”\n",
            "Warning message in as.data.table.list(x, keep.rownames = keep.rownames, check.names = check.names, :\n",
            "“Item 3 has 0 rows but longest item has 500; filled with NA”\n",
            "Warning message in as.data.table.list(x, keep.rownames = keep.rownames, check.names = check.names, :\n",
            "“Item 3 has 0 rows but longest item has 500; filled with NA”\n",
            "Warning message in as.data.table.list(x, keep.rownames = keep.rownames, check.names = check.names, :\n",
            "“Item 3 has 0 rows but longest item has 500; filled with NA”\n",
            "Warning message in as.data.table.list(x, keep.rownames = keep.rownames, check.names = check.names, :\n",
            "“Item 3 has 0 rows but longest item has 500; filled with NA”\n",
            "Warning message in as.data.table.list(x, keep.rownames = keep.rownames, check.names = check.names, :\n",
            "“Item 3 has 0 rows but longest item has 500; filled with NA”\n"
          ]
        }
      ]
    },
    {
      "cell_type": "code",
      "source": [
        "spatial_cwd_dt %>% head"
      ],
      "metadata": {
        "colab": {
          "base_uri": "https://localhost:8080/",
          "height": 306
        },
        "id": "0s4JSWJBw_e8",
        "outputId": "ad8256bb-83bf-4242-a9ba-8fc03bdcacd3"
      },
      "execution_count": 222,
      "outputs": [
        {
          "output_type": "display_data",
          "data": {
            "text/html": [
              "<table class=\"dataframe\">\n",
              "<caption>A data.table: 6 × 16</caption>\n",
              "<thead>\n",
              "\t<tr><th scope=col>Date</th><th scope=col>Site</th><th scope=col>stump</th><th scope=col>burned_stump</th><th scope=col>Cardinal_direction</th><th scope=col>Transect_Position_m</th><th scope=col>Length_cm</th><th scope=col>Width_cm</th><th scope=col>Burn_class_1-5</th><th scope=col>Decay_class_1-5</th><th scope=col>Partially.buried?</th><th scope=col>Notes</th><th scope=col>decay_class</th><th scope=col>DR</th><th scope=col>year_m</th><th scope=col>decay_m</th></tr>\n",
              "\t<tr><th scope=col>&lt;dbl&gt;</th><th scope=col>&lt;chr&gt;</th><th scope=col>&lt;chr&gt;</th><th scope=col>&lt;chr&gt;</th><th scope=col>&lt;chr&gt;</th><th scope=col>&lt;chr&gt;</th><th scope=col>&lt;dbl&gt;</th><th scope=col>&lt;dbl&gt;</th><th scope=col>&lt;dbl&gt;</th><th scope=col>&lt;chr&gt;</th><th scope=col>&lt;chr&gt;</th><th scope=col>&lt;chr&gt;</th><th scope=col>&lt;fct&gt;</th><th scope=col>&lt;dbl&gt;</th><th scope=col>&lt;dbl&gt;</th><th scope=col>&lt;dbl&gt;</th></tr>\n",
              "</thead>\n",
              "<tbody>\n",
              "\t<tr><td>44392</td><td>CM5</td><td>-1.0</td><td>-1.0</td><td>N</td><td>13.4</td><td> 255</td><td>12</td><td>1</td><td>3.0</td><td>Y</td><td>NA</td><td>(20,50]</td><td>2.665684</td><td>17.5</td><td>37.27474</td></tr>\n",
              "\t<tr><td>44392</td><td>CM5</td><td>-1.0</td><td>-1.0</td><td>N</td><td>12.2</td><td> 167</td><td>46</td><td>1</td><td>4.0</td><td>Y</td><td>NA</td><td>(50,80]</td><td>2.461158</td><td>47.0</td><td>68.54915</td></tr>\n",
              "\t<tr><td>44392</td><td>CM5</td><td>-1.0</td><td>-1.0</td><td>N</td><td>2.0 </td><td> 280</td><td>47</td><td>1</td><td>4.0</td><td>Y</td><td>NA</td><td>(50,80]</td><td>2.455142</td><td>47.0</td><td>68.46011</td></tr>\n",
              "\t<tr><td>44392</td><td>CM5</td><td>-1.0</td><td>-1.0</td><td>E</td><td>14.1</td><td> 375</td><td>36</td><td>1</td><td>4.0</td><td>Y</td><td>NA</td><td>(50,80]</td><td>2.521313</td><td>45.5</td><td>68.24493</td></tr>\n",
              "\t<tr><td>44392</td><td>CM5</td><td>-1.0</td><td>-1.0</td><td>E</td><td>11.5</td><td> 214</td><td>30</td><td>1</td><td>3.0</td><td>N</td><td>NA</td><td>(20,50]</td><td>2.557406</td><td>18.0</td><td>36.89265</td></tr>\n",
              "\t<tr><td>44392</td><td>CM5</td><td>-1.0</td><td>-1.0</td><td>E</td><td>11.2</td><td>2080</td><td>45</td><td>1</td><td>3.0</td><td>N</td><td>NA</td><td>(20,50]</td><td>2.467173</td><td>19.0</td><td>37.42241</td></tr>\n",
              "</tbody>\n",
              "</table>\n"
            ],
            "text/markdown": "\nA data.table: 6 × 16\n\n| Date &lt;dbl&gt; | Site &lt;chr&gt; | stump &lt;chr&gt; | burned_stump &lt;chr&gt; | Cardinal_direction &lt;chr&gt; | Transect_Position_m &lt;chr&gt; | Length_cm &lt;dbl&gt; | Width_cm &lt;dbl&gt; | Burn_class_1-5 &lt;dbl&gt; | Decay_class_1-5 &lt;chr&gt; | Partially.buried? &lt;chr&gt; | Notes &lt;chr&gt; | decay_class &lt;fct&gt; | DR &lt;dbl&gt; | year_m &lt;dbl&gt; | decay_m &lt;dbl&gt; |\n|---|---|---|---|---|---|---|---|---|---|---|---|---|---|---|---|\n| 44392 | CM5 | -1.0 | -1.0 | N | 13.4 |  255 | 12 | 1 | 3.0 | Y | NA | (20,50] | 2.665684 | 17.5 | 37.27474 |\n| 44392 | CM5 | -1.0 | -1.0 | N | 12.2 |  167 | 46 | 1 | 4.0 | Y | NA | (50,80] | 2.461158 | 47.0 | 68.54915 |\n| 44392 | CM5 | -1.0 | -1.0 | N | 2.0  |  280 | 47 | 1 | 4.0 | Y | NA | (50,80] | 2.455142 | 47.0 | 68.46011 |\n| 44392 | CM5 | -1.0 | -1.0 | E | 14.1 |  375 | 36 | 1 | 4.0 | Y | NA | (50,80] | 2.521313 | 45.5 | 68.24493 |\n| 44392 | CM5 | -1.0 | -1.0 | E | 11.5 |  214 | 30 | 1 | 3.0 | N | NA | (20,50] | 2.557406 | 18.0 | 36.89265 |\n| 44392 | CM5 | -1.0 | -1.0 | E | 11.2 | 2080 | 45 | 1 | 3.0 | N | NA | (20,50] | 2.467173 | 19.0 | 37.42241 |\n\n",
            "text/latex": "A data.table: 6 × 16\n\\begin{tabular}{llllllllllllllll}\n Date & Site & stump & burned\\_stump & Cardinal\\_direction & Transect\\_Position\\_m & Length\\_cm & Width\\_cm & Burn\\_class\\_1-5 & Decay\\_class\\_1-5 & Partially.buried? & Notes & decay\\_class & DR & year\\_m & decay\\_m\\\\\n <dbl> & <chr> & <chr> & <chr> & <chr> & <chr> & <dbl> & <dbl> & <dbl> & <chr> & <chr> & <chr> & <fct> & <dbl> & <dbl> & <dbl>\\\\\n\\hline\n\t 44392 & CM5 & -1.0 & -1.0 & N & 13.4 &  255 & 12 & 1 & 3.0 & Y & NA & (20,50{]} & 2.665684 & 17.5 & 37.27474\\\\\n\t 44392 & CM5 & -1.0 & -1.0 & N & 12.2 &  167 & 46 & 1 & 4.0 & Y & NA & (50,80{]} & 2.461158 & 47.0 & 68.54915\\\\\n\t 44392 & CM5 & -1.0 & -1.0 & N & 2.0  &  280 & 47 & 1 & 4.0 & Y & NA & (50,80{]} & 2.455142 & 47.0 & 68.46011\\\\\n\t 44392 & CM5 & -1.0 & -1.0 & E & 14.1 &  375 & 36 & 1 & 4.0 & Y & NA & (50,80{]} & 2.521313 & 45.5 & 68.24493\\\\\n\t 44392 & CM5 & -1.0 & -1.0 & E & 11.5 &  214 & 30 & 1 & 3.0 & N & NA & (20,50{]} & 2.557406 & 18.0 & 36.89265\\\\\n\t 44392 & CM5 & -1.0 & -1.0 & E & 11.2 & 2080 & 45 & 1 & 3.0 & N & NA & (20,50{]} & 2.467173 & 19.0 & 37.42241\\\\\n\\end{tabular}\n",
            "text/plain": [
              "  Date  Site stump burned_stump Cardinal_direction Transect_Position_m\n",
              "1 44392 CM5  -1.0  -1.0         N                  13.4               \n",
              "2 44392 CM5  -1.0  -1.0         N                  12.2               \n",
              "3 44392 CM5  -1.0  -1.0         N                  2.0                \n",
              "4 44392 CM5  -1.0  -1.0         E                  14.1               \n",
              "5 44392 CM5  -1.0  -1.0         E                  11.5               \n",
              "6 44392 CM5  -1.0  -1.0         E                  11.2               \n",
              "  Length_cm Width_cm Burn_class_1-5 Decay_class_1-5 Partially.buried? Notes\n",
              "1  255      12       1              3.0             Y                 NA   \n",
              "2  167      46       1              4.0             Y                 NA   \n",
              "3  280      47       1              4.0             Y                 NA   \n",
              "4  375      36       1              4.0             Y                 NA   \n",
              "5  214      30       1              3.0             N                 NA   \n",
              "6 2080      45       1              3.0             N                 NA   \n",
              "  decay_class DR       year_m decay_m \n",
              "1 (20,50]     2.665684 17.5   37.27474\n",
              "2 (50,80]     2.461158 47.0   68.54915\n",
              "3 (50,80]     2.455142 47.0   68.46011\n",
              "4 (50,80]     2.521313 45.5   68.24493\n",
              "5 (20,50]     2.557406 18.0   36.89265\n",
              "6 (20,50]     2.467173 19.0   37.42241"
            ]
          },
          "metadata": {}
        }
      ]
    },
    {
      "cell_type": "code",
      "source": [
        "spatial_cwd_dt[,volume:=min(Length_cm,200)*pi*max(Width_cm/2,0)^2,by=1:nrow(spatial_cwd_dt)]"
      ],
      "metadata": {
        "id": "I7dxfJzPxHd6"
      },
      "execution_count": 251,
      "outputs": []
    },
    {
      "cell_type": "code",
      "source": [
        "spatial_cwd_dt[,mass_kg:=volume*0.000001*530,by=1:nrow(spatial_cwd_dt)]"
      ],
      "metadata": {
        "id": "wrs-vZQlQyEy"
      },
      "execution_count": 256,
      "outputs": []
    },
    {
      "cell_type": "code",
      "source": [
        "spatial_cwd_dt %>% head"
      ],
      "metadata": {
        "colab": {
          "base_uri": "https://localhost:8080/",
          "height": 306
        },
        "id": "9yh81WGPyZFl",
        "outputId": "0d8e7582-2844-48e0-b180-370d37d2f542"
      },
      "execution_count": 278,
      "outputs": [
        {
          "output_type": "display_data",
          "data": {
            "text/html": [
              "<table class=\"dataframe\">\n",
              "<caption>A data.table: 6 × 20</caption>\n",
              "<thead>\n",
              "\t<tr><th scope=col>Date</th><th scope=col>Site</th><th scope=col>stump</th><th scope=col>burned_stump</th><th scope=col>Cardinal_direction</th><th scope=col>Transect_Position_m</th><th scope=col>Length_cm</th><th scope=col>Width_cm</th><th scope=col>Burn_class_1-5</th><th scope=col>Decay_class_1-5</th><th scope=col>Partially.buried?</th><th scope=col>Notes</th><th scope=col>decay_class</th><th scope=col>DR</th><th scope=col>year_m</th><th scope=col>decay_m</th><th scope=col>volume</th><th scope=col>mass_kg</th><th scope=col>decayed_mass_kg</th><th scope=col>lost_mass_kg</th></tr>\n",
              "\t<tr><th scope=col>&lt;dbl&gt;</th><th scope=col>&lt;chr&gt;</th><th scope=col>&lt;chr&gt;</th><th scope=col>&lt;chr&gt;</th><th scope=col>&lt;chr&gt;</th><th scope=col>&lt;chr&gt;</th><th scope=col>&lt;dbl&gt;</th><th scope=col>&lt;dbl&gt;</th><th scope=col>&lt;dbl&gt;</th><th scope=col>&lt;chr&gt;</th><th scope=col>&lt;chr&gt;</th><th scope=col>&lt;chr&gt;</th><th scope=col>&lt;fct&gt;</th><th scope=col>&lt;dbl&gt;</th><th scope=col>&lt;dbl&gt;</th><th scope=col>&lt;dbl&gt;</th><th scope=col>&lt;dbl&gt;</th><th scope=col>&lt;dbl&gt;</th><th scope=col>&lt;dbl&gt;</th><th scope=col>&lt;dbl&gt;</th></tr>\n",
              "</thead>\n",
              "<tbody>\n",
              "\t<tr><td>44392</td><td>CM5</td><td>-1.0</td><td>-1.0</td><td>N</td><td>13.4</td><td> 255</td><td>12</td><td>1</td><td>3.0</td><td>Y</td><td>NA</td><td>(20,50]</td><td>2.665684</td><td>17.5</td><td>37.27474</td><td> 22619.47</td><td> 11.98832</td><td>  7.519704</td><td>  4.468614</td></tr>\n",
              "\t<tr><td>44392</td><td>CM5</td><td>-1.0</td><td>-1.0</td><td>N</td><td>12.2</td><td> 167</td><td>46</td><td>1</td><td>4.0</td><td>Y</td><td>NA</td><td>(50,80]</td><td>2.461158</td><td>47.0</td><td>68.54915</td><td>277537.72</td><td>147.09499</td><td> 46.262622</td><td>100.832370</td></tr>\n",
              "\t<tr><td>44392</td><td>CM5</td><td>-1.0</td><td>-1.0</td><td>N</td><td>2.0 </td><td> 280</td><td>47</td><td>1</td><td>4.0</td><td>Y</td><td>NA</td><td>(50,80]</td><td>2.455142</td><td>47.0</td><td>68.46011</td><td>346988.91</td><td>183.90412</td><td> 58.003165</td><td>125.900957</td></tr>\n",
              "\t<tr><td>44392</td><td>CM5</td><td>-1.0</td><td>-1.0</td><td>E</td><td>14.1</td><td> 375</td><td>36</td><td>1</td><td>4.0</td><td>Y</td><td>NA</td><td>(50,80]</td><td>2.521313</td><td>45.5</td><td>68.24493</td><td>203575.20</td><td>107.89486</td><td> 34.262086</td><td> 73.632772</td></tr>\n",
              "\t<tr><td>44392</td><td>CM5</td><td>-1.0</td><td>-1.0</td><td>E</td><td>11.5</td><td> 214</td><td>30</td><td>1</td><td>3.0</td><td>N</td><td>NA</td><td>(20,50]</td><td>2.557406</td><td>18.0</td><td>36.89265</td><td>141371.67</td><td> 74.92698</td><td> 47.284431</td><td> 27.642553</td></tr>\n",
              "\t<tr><td>44392</td><td>CM5</td><td>-1.0</td><td>-1.0</td><td>E</td><td>11.2</td><td>2080</td><td>45</td><td>1</td><td>3.0</td><td>N</td><td>NA</td><td>(20,50]</td><td>2.467173</td><td>19.0</td><td>37.42241</td><td>318086.26</td><td>168.58572</td><td>105.496878</td><td> 63.088837</td></tr>\n",
              "</tbody>\n",
              "</table>\n"
            ],
            "text/markdown": "\nA data.table: 6 × 20\n\n| Date &lt;dbl&gt; | Site &lt;chr&gt; | stump &lt;chr&gt; | burned_stump &lt;chr&gt; | Cardinal_direction &lt;chr&gt; | Transect_Position_m &lt;chr&gt; | Length_cm &lt;dbl&gt; | Width_cm &lt;dbl&gt; | Burn_class_1-5 &lt;dbl&gt; | Decay_class_1-5 &lt;chr&gt; | Partially.buried? &lt;chr&gt; | Notes &lt;chr&gt; | decay_class &lt;fct&gt; | DR &lt;dbl&gt; | year_m &lt;dbl&gt; | decay_m &lt;dbl&gt; | volume &lt;dbl&gt; | mass_kg &lt;dbl&gt; | decayed_mass_kg &lt;dbl&gt; | lost_mass_kg &lt;dbl&gt; |\n|---|---|---|---|---|---|---|---|---|---|---|---|---|---|---|---|---|---|---|---|\n| 44392 | CM5 | -1.0 | -1.0 | N | 13.4 |  255 | 12 | 1 | 3.0 | Y | NA | (20,50] | 2.665684 | 17.5 | 37.27474 |  22619.47 |  11.98832 |   7.519704 |   4.468614 |\n| 44392 | CM5 | -1.0 | -1.0 | N | 12.2 |  167 | 46 | 1 | 4.0 | Y | NA | (50,80] | 2.461158 | 47.0 | 68.54915 | 277537.72 | 147.09499 |  46.262622 | 100.832370 |\n| 44392 | CM5 | -1.0 | -1.0 | N | 2.0  |  280 | 47 | 1 | 4.0 | Y | NA | (50,80] | 2.455142 | 47.0 | 68.46011 | 346988.91 | 183.90412 |  58.003165 | 125.900957 |\n| 44392 | CM5 | -1.0 | -1.0 | E | 14.1 |  375 | 36 | 1 | 4.0 | Y | NA | (50,80] | 2.521313 | 45.5 | 68.24493 | 203575.20 | 107.89486 |  34.262086 |  73.632772 |\n| 44392 | CM5 | -1.0 | -1.0 | E | 11.5 |  214 | 30 | 1 | 3.0 | N | NA | (20,50] | 2.557406 | 18.0 | 36.89265 | 141371.67 |  74.92698 |  47.284431 |  27.642553 |\n| 44392 | CM5 | -1.0 | -1.0 | E | 11.2 | 2080 | 45 | 1 | 3.0 | N | NA | (20,50] | 2.467173 | 19.0 | 37.42241 | 318086.26 | 168.58572 | 105.496878 |  63.088837 |\n\n",
            "text/latex": "A data.table: 6 × 20\n\\begin{tabular}{llllllllllllllllllll}\n Date & Site & stump & burned\\_stump & Cardinal\\_direction & Transect\\_Position\\_m & Length\\_cm & Width\\_cm & Burn\\_class\\_1-5 & Decay\\_class\\_1-5 & Partially.buried? & Notes & decay\\_class & DR & year\\_m & decay\\_m & volume & mass\\_kg & decayed\\_mass\\_kg & lost\\_mass\\_kg\\\\\n <dbl> & <chr> & <chr> & <chr> & <chr> & <chr> & <dbl> & <dbl> & <dbl> & <chr> & <chr> & <chr> & <fct> & <dbl> & <dbl> & <dbl> & <dbl> & <dbl> & <dbl> & <dbl>\\\\\n\\hline\n\t 44392 & CM5 & -1.0 & -1.0 & N & 13.4 &  255 & 12 & 1 & 3.0 & Y & NA & (20,50{]} & 2.665684 & 17.5 & 37.27474 &  22619.47 &  11.98832 &   7.519704 &   4.468614\\\\\n\t 44392 & CM5 & -1.0 & -1.0 & N & 12.2 &  167 & 46 & 1 & 4.0 & Y & NA & (50,80{]} & 2.461158 & 47.0 & 68.54915 & 277537.72 & 147.09499 &  46.262622 & 100.832370\\\\\n\t 44392 & CM5 & -1.0 & -1.0 & N & 2.0  &  280 & 47 & 1 & 4.0 & Y & NA & (50,80{]} & 2.455142 & 47.0 & 68.46011 & 346988.91 & 183.90412 &  58.003165 & 125.900957\\\\\n\t 44392 & CM5 & -1.0 & -1.0 & E & 14.1 &  375 & 36 & 1 & 4.0 & Y & NA & (50,80{]} & 2.521313 & 45.5 & 68.24493 & 203575.20 & 107.89486 &  34.262086 &  73.632772\\\\\n\t 44392 & CM5 & -1.0 & -1.0 & E & 11.5 &  214 & 30 & 1 & 3.0 & N & NA & (20,50{]} & 2.557406 & 18.0 & 36.89265 & 141371.67 &  74.92698 &  47.284431 &  27.642553\\\\\n\t 44392 & CM5 & -1.0 & -1.0 & E & 11.2 & 2080 & 45 & 1 & 3.0 & N & NA & (20,50{]} & 2.467173 & 19.0 & 37.42241 & 318086.26 & 168.58572 & 105.496878 &  63.088837\\\\\n\\end{tabular}\n",
            "text/plain": [
              "  Date  Site stump burned_stump Cardinal_direction Transect_Position_m\n",
              "1 44392 CM5  -1.0  -1.0         N                  13.4               \n",
              "2 44392 CM5  -1.0  -1.0         N                  12.2               \n",
              "3 44392 CM5  -1.0  -1.0         N                  2.0                \n",
              "4 44392 CM5  -1.0  -1.0         E                  14.1               \n",
              "5 44392 CM5  -1.0  -1.0         E                  11.5               \n",
              "6 44392 CM5  -1.0  -1.0         E                  11.2               \n",
              "  Length_cm Width_cm Burn_class_1-5 Decay_class_1-5 Partially.buried? Notes\n",
              "1  255      12       1              3.0             Y                 NA   \n",
              "2  167      46       1              4.0             Y                 NA   \n",
              "3  280      47       1              4.0             Y                 NA   \n",
              "4  375      36       1              4.0             Y                 NA   \n",
              "5  214      30       1              3.0             N                 NA   \n",
              "6 2080      45       1              3.0             N                 NA   \n",
              "  decay_class DR       year_m decay_m  volume    mass_kg   decayed_mass_kg\n",
              "1 (20,50]     2.665684 17.5   37.27474  22619.47  11.98832   7.519704     \n",
              "2 (50,80]     2.461158 47.0   68.54915 277537.72 147.09499  46.262622     \n",
              "3 (50,80]     2.455142 47.0   68.46011 346988.91 183.90412  58.003165     \n",
              "4 (50,80]     2.521313 45.5   68.24493 203575.20 107.89486  34.262086     \n",
              "5 (20,50]     2.557406 18.0   36.89265 141371.67  74.92698  47.284431     \n",
              "6 (20,50]     2.467173 19.0   37.42241 318086.26 168.58572 105.496878     \n",
              "  lost_mass_kg\n",
              "1   4.468614  \n",
              "2 100.832370  \n",
              "3 125.900957  \n",
              "4  73.632772  \n",
              "5  27.642553  \n",
              "6  63.088837  "
            ]
          },
          "metadata": {}
        }
      ]
    },
    {
      "cell_type": "code",
      "source": [
        "spatial_cwd_dt[,decayed_mass_kg:=mass_kg*(1-decay_m/100),by=1:nrow(spatial_cwd_dt)]"
      ],
      "metadata": {
        "id": "yt7WZYt0yH8B"
      },
      "execution_count": 258,
      "outputs": []
    },
    {
      "cell_type": "code",
      "source": [
        "spatial_cwd_dt[,lost_mass_kg:=mass_kg*(decay_m/100),by=1:nrow(spatial_cwd_dt)]"
      ],
      "metadata": {
        "id": "0SKNOEBq2zhW"
      },
      "execution_count": 266,
      "outputs": []
    },
    {
      "cell_type": "code",
      "source": [
        "# spatial_cwd_dt %>% head"
      ],
      "metadata": {
        "id": "TSWBBohb3G5-"
      },
      "execution_count": 279,
      "outputs": []
    },
    {
      "cell_type": "code",
      "source": [
        "rate_table <-\n",
        "spatial_cwd_dt[,list(\n",
        "  decayed_mass_kg = sum(decayed_mass_kg,na.rm=T)/120,\n",
        "  total_input=sum(mass_kg,na.rm=T)/120,\n",
        "  wood_input_rate = sum(mass_kg/year_m,na.rm=T)/120,\n",
        "  wood_departure_rate = sum(lost_mass_kg/year_m,na.rm=T)/120,\n",
        "  wood_accumulation_rate = sum(mass_kg/year_m,na.rm=T)/120 - sum(lost_mass_kg/year_m,na.rm=T)/120,\n",
        "  years_to_capacity = sum(decayed_mass_kg,na.rm=T)/120/(sum(mass_kg/year_m,na.rm=T)/120 - sum(lost_mass_kg/year_m,na.rm=T)/120)\n",
        "\n",
        "  ),by=Site]\n",
        "rate_table %>% head\n",
        "rate_table %>%\n",
        "  ggplot(aes(x= years_to_capacity ))+\n",
        "  geom_histogram(aes())"
      ],
      "metadata": {
        "colab": {
          "base_uri": "https://localhost:8080/",
          "height": 724
        },
        "id": "B_hh90WeygIo",
        "outputId": "33b04b06-0383-49d1-a0c2-11214ce58154"
      },
      "execution_count": 287,
      "outputs": [
        {
          "output_type": "display_data",
          "data": {
            "text/html": [
              "<table class=\"dataframe\">\n",
              "<caption>A data.table: 6 × 7</caption>\n",
              "<thead>\n",
              "\t<tr><th scope=col>Site</th><th scope=col>decayed_mass_kg</th><th scope=col>total_input</th><th scope=col>wood_input_rate</th><th scope=col>wood_departure_rate</th><th scope=col>wood_accumulation_rate</th><th scope=col>years_to_capacity</th></tr>\n",
              "\t<tr><th scope=col>&lt;chr&gt;</th><th scope=col>&lt;dbl&gt;</th><th scope=col>&lt;dbl&gt;</th><th scope=col>&lt;dbl&gt;</th><th scope=col>&lt;dbl&gt;</th><th scope=col>&lt;dbl&gt;</th><th scope=col>&lt;dbl&gt;</th></tr>\n",
              "</thead>\n",
              "<tbody>\n",
              "\t<tr><td>CM5</td><td>5.0428887</td><td>11.2865154</td><td>0.39322182</td><td>0.189808971</td><td>0.20341285</td><td>24.791397</td></tr>\n",
              "\t<tr><td>CH4</td><td>3.5966174</td><td> 9.0204632</td><td>0.37116231</td><td>0.138950894</td><td>0.23221142</td><td>15.488547</td></tr>\n",
              "\t<tr><td>L3 </td><td>0.2772848</td><td> 0.3897868</td><td>0.04622142</td><td>0.008695686</td><td>0.03752574</td><td> 7.389189</td></tr>\n",
              "\t<tr><td>CM1</td><td>1.0860270</td><td> 2.2062944</td><td>0.10209098</td><td>0.039924943</td><td>0.06216603</td><td>17.469781</td></tr>\n",
              "\t<tr><td>CL4</td><td>5.2783619</td><td>11.5374375</td><td>0.61248761</td><td>0.191844334</td><td>0.42064328</td><td>12.548309</td></tr>\n",
              "\t<tr><td>CL2</td><td>8.1215659</td><td>17.2696952</td><td>0.64002725</td><td>0.293710573</td><td>0.34631668</td><td>23.451270</td></tr>\n",
              "</tbody>\n",
              "</table>\n"
            ],
            "text/markdown": "\nA data.table: 6 × 7\n\n| Site &lt;chr&gt; | decayed_mass_kg &lt;dbl&gt; | total_input &lt;dbl&gt; | wood_input_rate &lt;dbl&gt; | wood_departure_rate &lt;dbl&gt; | wood_accumulation_rate &lt;dbl&gt; | years_to_capacity &lt;dbl&gt; |\n|---|---|---|---|---|---|---|\n| CM5 | 5.0428887 | 11.2865154 | 0.39322182 | 0.189808971 | 0.20341285 | 24.791397 |\n| CH4 | 3.5966174 |  9.0204632 | 0.37116231 | 0.138950894 | 0.23221142 | 15.488547 |\n| L3  | 0.2772848 |  0.3897868 | 0.04622142 | 0.008695686 | 0.03752574 |  7.389189 |\n| CM1 | 1.0860270 |  2.2062944 | 0.10209098 | 0.039924943 | 0.06216603 | 17.469781 |\n| CL4 | 5.2783619 | 11.5374375 | 0.61248761 | 0.191844334 | 0.42064328 | 12.548309 |\n| CL2 | 8.1215659 | 17.2696952 | 0.64002725 | 0.293710573 | 0.34631668 | 23.451270 |\n\n",
            "text/latex": "A data.table: 6 × 7\n\\begin{tabular}{lllllll}\n Site & decayed\\_mass\\_kg & total\\_input & wood\\_input\\_rate & wood\\_departure\\_rate & wood\\_accumulation\\_rate & years\\_to\\_capacity\\\\\n <chr> & <dbl> & <dbl> & <dbl> & <dbl> & <dbl> & <dbl>\\\\\n\\hline\n\t CM5 & 5.0428887 & 11.2865154 & 0.39322182 & 0.189808971 & 0.20341285 & 24.791397\\\\\n\t CH4 & 3.5966174 &  9.0204632 & 0.37116231 & 0.138950894 & 0.23221142 & 15.488547\\\\\n\t L3  & 0.2772848 &  0.3897868 & 0.04622142 & 0.008695686 & 0.03752574 &  7.389189\\\\\n\t CM1 & 1.0860270 &  2.2062944 & 0.10209098 & 0.039924943 & 0.06216603 & 17.469781\\\\\n\t CL4 & 5.2783619 & 11.5374375 & 0.61248761 & 0.191844334 & 0.42064328 & 12.548309\\\\\n\t CL2 & 8.1215659 & 17.2696952 & 0.64002725 & 0.293710573 & 0.34631668 & 23.451270\\\\\n\\end{tabular}\n",
            "text/plain": [
              "  Site decayed_mass_kg total_input wood_input_rate wood_departure_rate\n",
              "1 CM5  5.0428887       11.2865154  0.39322182      0.189808971        \n",
              "2 CH4  3.5966174        9.0204632  0.37116231      0.138950894        \n",
              "3 L3   0.2772848        0.3897868  0.04622142      0.008695686        \n",
              "4 CM1  1.0860270        2.2062944  0.10209098      0.039924943        \n",
              "5 CL4  5.2783619       11.5374375  0.61248761      0.191844334        \n",
              "6 CL2  8.1215659       17.2696952  0.64002725      0.293710573        \n",
              "  wood_accumulation_rate years_to_capacity\n",
              "1 0.20341285             24.791397        \n",
              "2 0.23221142             15.488547        \n",
              "3 0.03752574              7.389189        \n",
              "4 0.06216603             17.469781        \n",
              "5 0.42064328             12.548309        \n",
              "6 0.34631668             23.451270        "
            ]
          },
          "metadata": {}
        },
        {
          "output_type": "stream",
          "name": "stderr",
          "text": [
            "\u001b[1m\u001b[22m`stat_bin()` using `bins = 30`. Pick better value with `binwidth`.\n"
          ]
        },
        {
          "output_type": "display_data",
          "data": {
            "text/plain": [
              "plot without title"
            ],
            "image/png": "[encoded data removed]"
          },
          "metadata": {
            "image/png": {
              "width": 420,
              "height": 420
            }
          }
        }
      ]
    }
  ]
}