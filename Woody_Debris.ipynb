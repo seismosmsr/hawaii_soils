{
  "nbformat": 4,
  "nbformat_minor": 0,
  "metadata": {
    "colab": {
      "provenance": [],
      "machine_shape": "hm",
      "authorship_tag": "ABX9TyMFeJ1Q/75DkJYWM/GU0QYo",
      "include_colab_link": true
    },
    "kernelspec": {
      "name": "ir",
      "display_name": "R"
    },
    "language_info": {
      "name": "R"
    }
  },
  "cells": [
    {
      "cell_type": "markdown",
      "metadata": {
        "id": "view-in-github",
        "colab_type": "text"
      },
      "source": [
        "<a href=\"https://colab.research.google.com/github/seismosmsr/hawaii_soils/blob/main/Woody_Debris.ipynb\" target=\"_parent\"><img src=\"https://colab.research.google.com/assets/colab-badge.svg\" alt=\"Open In Colab\"/></a>"
      ]
    },
    {
      "cell_type": "code",
      "execution_count": 1,
      "metadata": {
        "colab": {
          "base_uri": "https://localhost:8080/"
        },
        "id": "aO0mKyZqx-Q0",
        "outputId": "2d3b490a-3a79-4313-e74a-d8f62850432d"
      },
      "outputs": [
        {
          "output_type": "stream",
          "name": "stderr",
          "text": [
            "Installing packages into ‘/usr/local/lib/R/site-library’\n",
            "(as ‘lib’ is unspecified)\n",
            "\n",
            "also installing the dependencies ‘numDeriv’, ‘SparseM’, ‘MatrixModels’, ‘minqa’, ‘nloptr’, ‘RcppEigen’, ‘carData’, ‘abind’, ‘pbkrtest’, ‘quantreg’, ‘lme4’, ‘corrplot’, ‘car’, ‘Rcpp’\n",
            "\n",
            "\n"
          ]
        }
      ],
      "source": [
        "install.packages(c('data.table','ggplot2','magrittr','rstatix','plotrix','ggsignif',\"googledrive\",'openxlsx'))"
      ]
    },
    {
      "cell_type": "code",
      "source": [
        "install.packages('sf')"
      ],
      "metadata": {
        "colab": {
          "base_uri": "https://localhost:8080/"
        },
        "id": "qw0UaoUe3SXI",
        "outputId": "9303c976-f066-4e27-ca0d-d93070eb6025"
      },
      "execution_count": 2,
      "outputs": [
        {
          "output_type": "stream",
          "name": "stderr",
          "text": [
            "Installing package into ‘/usr/local/lib/R/site-library’\n",
            "(as ‘lib’ is unspecified)\n",
            "\n",
            "also installing the dependencies ‘proxy’, ‘e1071’, ‘wk’, ‘classInt’, ‘s2’, ‘units’\n",
            "\n",
            "\n"
          ]
        }
      ]
    },
    {
      "cell_type": "code",
      "source": [
        "library(data.table)\n",
        "library(ggplot2)\n",
        "library(magrittr)\n",
        "library(rstatix)\n",
        "library(ggsignif)\n",
        "library(plotrix)\n",
        "library(googledrive)\n",
        "library(openxlsx)\n",
        "library(sf)"
      ],
      "metadata": {
        "colab": {
          "base_uri": "https://localhost:8080/"
        },
        "id": "4QkNB3hJyE2h",
        "outputId": "f009d99f-e9d6-4d2b-aa12-b98abf47a219"
      },
      "execution_count": 3,
      "outputs": [
        {
          "output_type": "stream",
          "name": "stderr",
          "text": [
            "\n",
            "Attaching package: ‘rstatix’\n",
            "\n",
            "\n",
            "The following object is masked from ‘package:stats’:\n",
            "\n",
            "    filter\n",
            "\n",
            "\n",
            "Linking to GEOS 3.10.2, GDAL 3.4.3, PROJ 8.2.1; sf_use_s2() is TRUE\n",
            "\n"
          ]
        }
      ]
    },
    {
      "cell_type": "code",
      "source": [
        "drive_auth(use_oob = TRUE, cache = FALSE)"
      ],
      "metadata": {
        "colab": {
          "base_uri": "https://localhost:8080/"
        },
        "id": "ye1TW2bgyKQS",
        "outputId": "57f06911-d2fa-4c56-c0b6-e8886dea4be0"
      },
      "execution_count": 4,
      "outputs": [
        {
          "output_type": "stream",
          "name": "stderr",
          "text": [
            "Please point your browser to the following url: \n",
            "\n",
            "https://accounts.google.com/o/oauth2/v2/auth?client_id=603366585132-frjlouoa3s2ono25d2l9ukvhlsrlnr7k.apps.googleusercontent.com&scope=https%3A%2F%2Fwww.googleapis.com%2Fauth%2Fdrive%20https%3A%2F%2Fwww.googleapis.com%2Fauth%2Fuserinfo.email&redirect_uri=https%3A%2F%2Fwww.tidyverse.org%2Fgoogle-callback%2F&response_type=code&state=0882605251c548ee9bbe7f8333484dbc&access_type=offline&prompt=consent\n",
            "\n"
          ]
        },
        {
          "name": "stdout",
          "output_type": "stream",
          "text": [
            "Enter authorization code: eyJjb2RlIjoiNC8wQWZKb2hYa1dmdTljNjFELVJyUWNES3JCRXQ2dUd6MkR5RE9vVElnRm9JNXdqUDdKQ3ZJS1l5Q1Q1anR2X19SVy0yakNlZyIsInN0YXRlIjoiMDg4MjYwNTI1MWM1NDhlZTliYmU3ZjgzMzM0ODRkYmMifQ==\n"
          ]
        }
      ]
    },
    {
      "cell_type": "code",
      "source": [
        "drive_download(file = as_id('1uoBy87pdp8sByoTocX6MGIIBpW9KIGC8oZWwzlbXj7Y'), path =  '/content/2024_holidayfarmfire.xlsx', overwrite = FALSE)\n"
      ],
      "metadata": {
        "colab": {
          "base_uri": "https://localhost:8080/"
        },
        "id": "X_ojcDCKyL1f",
        "outputId": "9e7624c7-00a1-45a6-bf03-1d44c60f3cfc"
      },
      "execution_count": 5,
      "outputs": [
        {
          "output_type": "stream",
          "name": "stderr",
          "text": [
            "File downloaded:\n",
            "\n",
            "• \u001b[36m2024_holidayfarmfire\u001b[39m \u001b[90m<id: 1uoBy87pdp8sByoTocX6MGIIBpW9KIGC8oZWwzlbXj7Y>\u001b[39m\n",
            "\n",
            "Saved locally as:\n",
            "\n",
            "• \u001b[34m/content/2024_holidayfarmfire.xlsx\u001b[39m\n",
            "\n"
          ]
        }
      ]
    },
    {
      "cell_type": "code",
      "source": [
        "SheetNames<-getSheetNames('/content/2024_holidayfarmfire.xlsx')\n",
        "print(SheetNames)\n",
        "\n",
        "data_list <- SheetNames %>%\n",
        "             lapply(function(x){\n",
        "                #Read the i'th sheet\n",
        "             openxlsx::read.xlsx('/content/2024_holidayfarmfire.xlsx', x) %>% data.table\n",
        "             })\n",
        "\n",
        "names(data_list) <- SheetNames"
      ],
      "metadata": {
        "colab": {
          "base_uri": "https://localhost:8080/"
        },
        "id": "WXDGxCIZyNGk",
        "outputId": "3a35c858-e19f-4c1b-c3fe-9ec4efe4b6c6"
      },
      "execution_count": 6,
      "outputs": [
        {
          "output_type": "stream",
          "name": "stdout",
          "text": [
            "[1] \"Site Locations\"         \"Soil Samples\"           \"CWD\"                   \n",
            "[4] \"Decay and burn classes\" \"Frac BPCA\"              \"BPCA Standards\"        \n"
          ]
        }
      ]
    },
    {
      "cell_type": "code",
      "source": [
        "# /content/lines.gpkg\n",
        "spatial_transect_dt <- st_read('/content/transect_data.gpkg') %>% data.table\n",
        "spatial_cwd_dt <- st_read('/content/spatial_cwd.gpkg') %>% data.table\n",
        "plot_points_dt <- st_read('/content/points.gpkg') %>% data.table\n",
        "plot_lines_dt <- st_read('/content/lines.gpkg') %>% data.table"
      ],
      "metadata": {
        "colab": {
          "base_uri": "https://localhost:8080/"
        },
        "id": "Vkvr9hcJ0pfr",
        "outputId": "ea27af4f-eb03-480c-a1f4-b82084e5e806"
      },
      "execution_count": 8,
      "outputs": [
        {
          "output_type": "stream",
          "name": "stdout",
          "text": [
            "Reading layer `transect_data' from data source `/content/transect_data.gpkg' using driver `GPKG'\n",
            "Simple feature collection with 643 features and 32 fields\n",
            "Geometry type: POINT\n",
            "Dimension:     XY\n",
            "Bounding box:  xmin: 127638.6 ymin: 50897.42 xmax: 133980.5 ymax: 59427.36\n",
            "Projected CRS: NAD83(CORS96) / Oregon Eugene zone (m)\n",
            "Reading layer `spatial_cwd' from data source `/content/spatial_cwd.gpkg' using driver `GPKG'\n",
            "Simple feature collection with 331 features and 10 fields\n",
            "Geometry type: POINT\n",
            "Dimension:     XY\n",
            "Bounding box:  xmin: 129988.5 ymin: 50890.85 xmax: 133823.8 ymax: 59231.15\n",
            "Projected CRS: NAD83(CORS96) / Oregon Eugene zone (m)\n",
            "Reading layer `points' from data source `/content/points.gpkg' using driver `GPKG'\n",
            "Simple feature collection with 23 features and 3 fields\n",
            "Geometry type: POINT\n",
            "Dimension:     XY\n",
            "Bounding box:  xmin: 156.0613 ymin: -462.5008 xmax: 859.5093 ymax: -120.557\n",
            "Geodetic CRS:  WGS 84\n",
            "Reading layer `new_scratch_layer' from data source `/content/lines.gpkg' using driver `GPKG'\n",
            "Simple feature collection with 2 features and 1 field\n",
            "Geometry type: LINESTRING\n",
            "Dimension:     XY\n",
            "Bounding box:  xmin: 167.1325 ymin: -442.5408 xmax: 743.1279 ymax: -149.4432\n",
            "Geodetic CRS:  WGS 84\n"
          ]
        }
      ]
    },
    {
      "cell_type": "code",
      "source": [
        "a_plot_lines_dt <- plot_lines_dt[Group == 'A'] %>% st_as_sf %>% st_sample(1000, keepGeometry = TRUE) %>% st_sf %>% st_as_sf %>% data.table\n",
        "a_plot_lines_dt$Group <- 'A'\n",
        "b_plot_lines_dt <- plot_lines_dt[Group == 'B'] %>% st_as_sf %>% st_sample(1000, keepGeometry = TRUE) %>% st_sf %>% st_as_sf %>% data.table\n",
        "b_plot_lines_dt$Group <- 'B'\n",
        "plot_lines_points_dt <- rbindlist(list(a_plot_lines_dt,b_plot_lines_dt)) %>% st_as_sf %>% st_cast('POINT') %>% data.table"
      ],
      "metadata": {
        "colab": {
          "base_uri": "https://localhost:8080/"
        },
        "id": "aNEjvn3w3iV7",
        "outputId": "a07ff588-57e0-46c0-ff69-fdfae6e6f85d"
      },
      "execution_count": 9,
      "outputs": [
        {
          "output_type": "stream",
          "name": "stderr",
          "text": [
            "Warning message in st_is_longlat(x):\n",
            "“bounding box has potentially an invalid value range for longlat data”\n",
            "although coordinates are longitude/latitude, st_sample assumes that they are\n",
            "planar\n",
            "\n",
            "Warning message in st_is_longlat(x):\n",
            "“bounding box has potentially an invalid value range for longlat data”\n",
            "although coordinates are longitude/latitude, st_sample assumes that they are\n",
            "planar\n",
            "\n",
            "Warning message in st_cast.sf(., \"POINT\"):\n",
            "“repeating attributes for all sub-geometries for which they may not be constant”\n"
          ]
        }
      ]
    },
    {
      "cell_type": "code",
      "source": [
        "plot_lines_points_dt <- plot_lines_points_dt %>% data.table\n",
        "coords_dt <- plot_lines_points_dt %>% st_as_sf %>% st_coordinates %>% data.table\n",
        "names(coords_dt) <- c('X_new','Y_new')\n",
        "plot_lines_points_dt <- data.table(plot_lines_points_dt,coords_dt)"
      ],
      "metadata": {
        "id": "R4xhu5Bt3n9G"
      },
      "execution_count": 10,
      "outputs": []
    },
    {
      "cell_type": "code",
      "source": [
        "coords_dt <- plot_points_dt$geom %>% st_coordinates %>% data.table\n",
        "names(coords_dt) <- c('X_new','Y_new')\n",
        "plot_points_dt <- data.table(plot_points_dt,coords_dt)"
      ],
      "metadata": {
        "id": "pGv2vO1H5_R4"
      },
      "execution_count": 11,
      "outputs": []
    },
    {
      "cell_type": "code",
      "source": [
        "X_lm <- lm(X~X_new,plot_points_dt[Group =='C' &Y == 0])\n",
        "Y_lm <- lm(Y~Y_new,plot_points_dt[Group =='C' &X == 0])\n",
        "\n",
        "plot_points_dt[,Y_test := predict(Y_lm,plot_points_dt)]\n",
        "plot_points_dt[,X_test := predict(X_lm,plot_points_dt)]\n",
        "\n",
        "plot_lines_points_dt[,Y_test := predict(Y_lm,plot_lines_points_dt)]\n",
        "plot_lines_points_dt[,X_test := predict(X_lm,plot_lines_points_dt)]"
      ],
      "metadata": {
        "id": "4bCjACN83v5n"
      },
      "execution_count": 12,
      "outputs": []
    },
    {
      "cell_type": "code",
      "source": [
        "plot_points_dt[Group == 'A']"
      ],
      "metadata": {
        "colab": {
          "base_uri": "https://localhost:8080/",
          "height": 255
        },
        "id": "olesCpHh4LKB",
        "outputId": "4c4ee3ab-e9e5-438d-cd77-1b99cfecb97d"
      },
      "execution_count": 13,
      "outputs": [
        {
          "output_type": "display_data",
          "data": {
            "text/html": [
              "<table class=\"dataframe\">\n",
              "<caption>A data.table: 5 × 8</caption>\n",
              "<thead>\n",
              "\t<tr><th scope=col>Group</th><th scope=col>X</th><th scope=col>Y</th><th scope=col>geom</th><th scope=col>X_new</th><th scope=col>Y_new</th><th scope=col>Y_test</th><th scope=col>X_test</th></tr>\n",
              "\t<tr><th scope=col>&lt;chr&gt;</th><th scope=col>&lt;int&gt;</th><th scope=col>&lt;int&gt;</th><th scope=col>&lt;POINT [°]&gt;</th><th scope=col>&lt;dbl&gt;</th><th scope=col>&lt;dbl&gt;</th><th scope=col>&lt;dbl&gt;</th><th scope=col>&lt;dbl&gt;</th></tr>\n",
              "</thead>\n",
              "<tbody>\n",
              "\t<tr><td>A</td><td>NA</td><td>NA</td><td>POINT (167.5407 -149.5215)</td><td>167.5407</td><td>-149.5215</td><td>11.0031060</td><td> 0.8156493</td></tr>\n",
              "\t<tr><td>A</td><td>NA</td><td>NA</td><td>POINT (179.0461 -212.1848)</td><td>179.0461</td><td>-212.1848</td><td> 8.8038049</td><td> 1.7989929</td></tr>\n",
              "\t<tr><td>A</td><td>NA</td><td>NA</td><td>POINT (203.6652 -383.014)</td><td>203.6652</td><td>-383.0140</td><td> 2.8081941</td><td> 3.9031485</td></tr>\n",
              "\t<tr><td>A</td><td>NA</td><td>NA</td><td>POINT (250.9643 -413.3534)</td><td>250.9643</td><td>-413.3534</td><td> 1.7433700</td><td> 7.9457215</td></tr>\n",
              "\t<tr><td>A</td><td>NA</td><td>NA</td><td>POINT (742.9057 -442.5383)</td><td>742.9057</td><td>-442.5383</td><td> 0.7190629</td><td>49.9911416</td></tr>\n",
              "</tbody>\n",
              "</table>\n"
            ],
            "text/markdown": "\nA data.table: 5 × 8\n\n| Group &lt;chr&gt; | X &lt;int&gt; | Y &lt;int&gt; | geom &lt;POINT [°]&gt; | X_new &lt;dbl&gt; | Y_new &lt;dbl&gt; | Y_test &lt;dbl&gt; | X_test &lt;dbl&gt; |\n|---|---|---|---|---|---|---|---|\n| A | NA | NA | POINT (167.5407 -149.5215) | 167.5407 | -149.5215 | 11.0031060 |  0.8156493 |\n| A | NA | NA | POINT (179.0461 -212.1848) | 179.0461 | -212.1848 |  8.8038049 |  1.7989929 |\n| A | NA | NA | POINT (203.6652 -383.014) | 203.6652 | -383.0140 |  2.8081941 |  3.9031485 |\n| A | NA | NA | POINT (250.9643 -413.3534) | 250.9643 | -413.3534 |  1.7433700 |  7.9457215 |\n| A | NA | NA | POINT (742.9057 -442.5383) | 742.9057 | -442.5383 |  0.7190629 | 49.9911416 |\n\n",
            "text/latex": "A data.table: 5 × 8\n\\begin{tabular}{llllllll}\n Group & X & Y & geom & X\\_new & Y\\_new & Y\\_test & X\\_test\\\\\n <chr> & <int> & <int> & <POINT {[}°{]}> & <dbl> & <dbl> & <dbl> & <dbl>\\\\\n\\hline\n\t A & NA & NA & POINT (167.5407 -149.5215) & 167.5407 & -149.5215 & 11.0031060 &  0.8156493\\\\\n\t A & NA & NA & POINT (179.0461 -212.1848) & 179.0461 & -212.1848 &  8.8038049 &  1.7989929\\\\\n\t A & NA & NA & POINT (203.6652 -383.014) & 203.6652 & -383.0140 &  2.8081941 &  3.9031485\\\\\n\t A & NA & NA & POINT (250.9643 -413.3534) & 250.9643 & -413.3534 &  1.7433700 &  7.9457215\\\\\n\t A & NA & NA & POINT (742.9057 -442.5383) & 742.9057 & -442.5383 &  0.7190629 & 49.9911416\\\\\n\\end{tabular}\n",
            "text/plain": [
              "  Group X  Y  geom                       X_new    Y_new     Y_test    \n",
              "1 A     NA NA POINT (167.5407 -149.5215) 167.5407 -149.5215 11.0031060\n",
              "2 A     NA NA POINT (179.0461 -212.1848) 179.0461 -212.1848  8.8038049\n",
              "3 A     NA NA POINT (203.6652 -383.014)  203.6652 -383.0140  2.8081941\n",
              "4 A     NA NA POINT (250.9643 -413.3534) 250.9643 -413.3534  1.7433700\n",
              "5 A     NA NA POINT (742.9057 -442.5383) 742.9057 -442.5383  0.7190629\n",
              "  X_test    \n",
              "1  0.8156493\n",
              "2  1.7989929\n",
              "3  3.9031485\n",
              "4  7.9457215\n",
              "5 49.9911416"
            ]
          },
          "metadata": {}
        }
      ]
    },
    {
      "cell_type": "code",
      "source": [
        "plot_points_dt <- plot_points_dt[order(X_test)]\n",
        "\n",
        "\n",
        "\n",
        "\n",
        "x <- plot_lines_points_dt[Group == 'A'&X_test<15]$X_test\n",
        "y <- plot_lines_points_dt[Group == 'A'&X_test<15]$Y_test\n",
        "\n",
        "\n",
        "\n",
        "\n",
        "# Define the logarithmic model\n",
        "log_model <- function(x, a, b) {\n",
        "  a + b * log(x)\n",
        "}\n",
        "\n",
        "# Fit the model to the data using nls\n",
        "fit_A <- nls(y ~ log_model(x, a, b), start = list(a = 1, b = 1))\n",
        "\n",
        "x <- c(plot_lines_points_dt[Group == 'A'&X_test>15]$X_test,rep(500,1))\n",
        "y <- c(plot_lines_points_dt[Group == 'A'&X_test>15]$Y_test,rep(0,1))\n",
        "\n",
        "lin_model_A <- lm(Y_test~X_test,data.table(Y_test=y,X_test=x))\n",
        "\n",
        "\n",
        "\n",
        "x <- plot_lines_points_dt[Group == 'B'&X_test<15]$X_test\n",
        "y <- plot_lines_points_dt[Group == 'B'&X_test<15]$Y_test\n",
        "\n",
        "\n",
        "# Define the logarithmic model\n",
        "log_model <- function(x, a, b) {\n",
        "  a + b * log(x)\n",
        "}\n",
        "# Fit the model to the data using nls\n",
        "fit_B <- nls(y ~ log_model(x, a, b), start = list(a = 1, b = 1))\n",
        "\n",
        "x <- c(plot_lines_points_dt[Group == 'B'&X_test>15]$X_test,rep(500,1))\n",
        "y <- c(plot_lines_points_dt[Group == 'B'&X_test>15]$Y_test,rep(0,1))\n",
        "\n",
        "lin_model_B <- lm(Y_test~X_test,data.table(Y_test=y,X_test=x))\n",
        "\n"
      ],
      "metadata": {
        "id": "scmvDvEq6MwZ"
      },
      "execution_count": 14,
      "outputs": []
    },
    {
      "cell_type": "code",
      "source": [
        "plot_points_dt[Group %in% c('A','B')] %>%\n",
        "  ggplot(aes(x=X_test,y=Y_test))+\n",
        "  geom_point() +\n",
        "  geom_smooth(aes(group=Group),method='loess',span=.8)"
      ],
      "metadata": {
        "colab": {
          "base_uri": "https://localhost:8080/",
          "height": 524
        },
        "id": "mh6XwbBD8VOU",
        "outputId": "565e32b2-293d-40a6-fb28-9419f1366d4e"
      },
      "execution_count": 15,
      "outputs": [
        {
          "output_type": "stream",
          "name": "stderr",
          "text": [
            "\u001b[1m\u001b[22m`geom_smooth()` using formula = 'y ~ x'\n",
            "Warning message in max(ids, na.rm = TRUE):\n",
            "“no non-missing arguments to max; returning -Inf”\n",
            "Warning message in max(ids, na.rm = TRUE):\n",
            "“no non-missing arguments to max; returning -Inf”\n"
          ]
        },
        {
          "output_type": "display_data",
          "data": {
            "text/plain": [
              "plot without title"
            ],
            "image/png": "[encoded data removed]"
          },
          "metadata": {
            "image/png": {
              "width": 420,
              "height": 420
            }
          }
        }
      ]
    },
    {
      "cell_type": "code",
      "source": [
        "fit_dt <-\n",
        "rbindlist(list(\n",
        "data.table(Group= 'A',X_test = 1:10,Y_test = log_model(1:10,coef(fit_A)[1],coef(fit_A)[2])),\n",
        "data.table(Group= 'B',X_test = 1:10,Y_test = log_model(1:10,coef(fit_B)[1],coef(fit_B)[2])),\n",
        "data.table(Group= 'A',X_test = 11:500,Y_test = predict(lin_model_A,data.table(X_test = 11:500))),\n",
        "data.table(Group= 'B',X_test = 11:500,Y_test = predict(lin_model_B,data.table(X_test = 11:500))))\n",
        "\n",
        "\n",
        ")\n",
        "# fit_dt"
      ],
      "metadata": {
        "id": "w8iY4f8a6SKt"
      },
      "execution_count": 16,
      "outputs": []
    },
    {
      "cell_type": "code",
      "source": [
        "diameter_decay_dt <- plot_lines_points_dt[,list(DR = mean(Y_test)),by=(diameter = round(X_test))] [order(diameter)]\n",
        "nonlin_diameter_decay_dt <-fit_dt[,list(DR = mean(Y_test)),by=(diameter = X_test)] [order(diameter)]"
      ],
      "metadata": {
        "id": "7_Noah9m6TIe"
      },
      "execution_count": 17,
      "outputs": []
    },
    {
      "cell_type": "code",
      "source": [
        "# diameter_decay_dt %>% ggplot(aes(x=diameter,y=DR))+\n",
        "#   geom_point() +\n",
        "#   xlim(0,50) +\n",
        "#   geom_smooth(method = 'gam')"
      ],
      "metadata": {
        "id": "Zcr8n-va7sI5"
      },
      "execution_count": 18,
      "outputs": []
    },
    {
      "cell_type": "code",
      "source": [
        "nonlin_diameter_decay_dt[diameter==1][['DR']][1]"
      ],
      "metadata": {
        "colab": {
          "base_uri": "https://localhost:8080/",
          "height": 34
        },
        "id": "Yt6ip_8gT7rk",
        "outputId": "fd7e625c-7db8-4a41-8cba-c233edd11d24"
      },
      "execution_count": 19,
      "outputs": [
        {
          "output_type": "display_data",
          "data": {
            "text/html": [
              "8.22788883269562"
            ],
            "text/markdown": "8.22788883269562",
            "text/latex": "8.22788883269562",
            "text/plain": [
              "[1] 8.227889"
            ]
          },
          "metadata": {}
        }
      ]
    },
    {
      "cell_type": "code",
      "source": [
        "nonlin_diameter_decay_dt[diameter==100][['DR']]"
      ],
      "metadata": {
        "colab": {
          "base_uri": "https://localhost:8080/",
          "height": 34
        },
        "id": "3AOFXWpYmU3t",
        "outputId": "65609748-62f6-4a5a-83e5-cac5554a1083"
      },
      "execution_count": 20,
      "outputs": [
        {
          "output_type": "display_data",
          "data": {
            "text/html": [
              "2.13935200779454"
            ],
            "text/markdown": "2.13935200779454",
            "text/latex": "2.13935200779454",
            "text/plain": [
              "[1] 2.139352"
            ]
          },
          "metadata": {}
        }
      ]
    },
    {
      "cell_type": "code",
      "source": [
        "percent_decay <- function(DR, year) {\n",
        "  percent <- (1-exp(-(DR/100) * year)) * 100\n",
        "  return(percent)\n",
        "}\n",
        "\n",
        "nonlin_decay_table <-\n",
        "function(z){\n",
        "if(is.na(z)){return(data.table(DR=NA,year_m=NA,decay_m=NA,decay_class = NA))}\n",
        "per_decay_table <-\n",
        "z %>% lapply(function(diam){\n",
        "data.table(diameter = diam,year= 1:500,percent_decay =\n",
        "1:500 %>%\n",
        "lapply(function(year){\n",
        "    percent_decay(nonlin_diameter_decay_dt[diameter==round(diam)][['DR']],year)\n",
        "    }) %>% unlist)}) %>% rbindlist\n",
        "per_decay_table$DR  <- nonlin_diameter_decay_dt[diameter==round(z)][['DR']]\n",
        "rate_decay_table <- per_decay_table[,list(DR = mean(DR),year_m = median(year,na.rm=T),decay_m = median(percent_decay)),by=(decay_class= (percent_decay %>% cut(breaks=c(0,10,20,50,80,90,100)))) ]\n",
        "return(rate_decay_table)\n",
        "}"
      ],
      "metadata": {
        "id": "KufY3HWQ6c4e"
      },
      "execution_count": 22,
      "outputs": []
    },
    {
      "cell_type": "code",
      "source": [
        "# spatial_cwd_dt %>% head"
      ],
      "metadata": {
        "id": "vN36Pxy_nDeu"
      },
      "execution_count": 23,
      "outputs": []
    },
    {
      "cell_type": "code",
      "source": [
        "x_dt <- NULL"
      ],
      "metadata": {
        "id": "C4raSiOTPFRx"
      },
      "execution_count": 24,
      "outputs": []
    },
    {
      "cell_type": "code",
      "source": [
        "spatial_cwd_dt <-\n",
        "# spatial_cwd_dt %>%\n",
        "1:nrow(data_list[['CWD']]) %>%\n",
        "lapply(function(y){\n",
        "    x_dt <- data_list[['CWD']][y,]\n",
        "\n",
        "    decay_table <- nonlin_decay_table(x_dt$Width_cm %>% as.numeric)\n",
        "    # print(decay_table)\n",
        "    decay_table <- decay_table[if(is.na(x_dt$`Decay_class_1-5` %>% as.numeric)){1}else{x_dt$`Decay_class_1-5`%>% as.numeric},]\n",
        "    data.table(x_dt,decay_table)  %>% data.table\n",
        "    }) %>%\n",
        "rbindlist()"
      ],
      "metadata": {
        "colab": {
          "base_uri": "https://localhost:8080/"
        },
        "id": "r7zJKp0lETu6",
        "outputId": "49a253c5-a1a1-442b-a635-a532563d7e36"
      },
      "execution_count": 25,
      "outputs": [
        {
          "output_type": "stream",
          "name": "stderr",
          "text": [
            "Warning message in as.data.table.list(x, keep.rownames = keep.rownames, check.names = check.names, :\n",
            "“Item 3 has 0 rows but longest item has 500; filled with NA”\n",
            "Warning message in as.data.table.list(x, keep.rownames = keep.rownames, check.names = check.names, :\n",
            "“Item 3 has 0 rows but longest item has 500; filled with NA”\n",
            "Warning message in as.data.table.list(x, keep.rownames = keep.rownames, check.names = check.names, :\n",
            "“Item 3 has 0 rows but longest item has 500; filled with NA”\n",
            "Warning message in as.data.table.list(x, keep.rownames = keep.rownames, check.names = check.names, :\n",
            "“Item 3 has 0 rows but longest item has 500; filled with NA”\n",
            "Warning message in as.data.table.list(x, keep.rownames = keep.rownames, check.names = check.names, :\n",
            "“Item 3 has 0 rows but longest item has 500; filled with NA”\n",
            "Warning message in as.data.table.list(x, keep.rownames = keep.rownames, check.names = check.names, :\n",
            "“Item 3 has 0 rows but longest item has 500; filled with NA”\n",
            "Warning message in as.data.table.list(x, keep.rownames = keep.rownames, check.names = check.names, :\n",
            "“Item 3 has 0 rows but longest item has 500; filled with NA”\n",
            "Warning message in as.data.table.list(x, keep.rownames = keep.rownames, check.names = check.names, :\n",
            "“Item 3 has 0 rows but longest item has 500; filled with NA”\n",
            "Warning message in as.data.table.list(x, keep.rownames = keep.rownames, check.names = check.names, :\n",
            "“Item 3 has 0 rows but longest item has 500; filled with NA”\n",
            "Warning message in as.data.table.list(x, keep.rownames = keep.rownames, check.names = check.names, :\n",
            "“Item 3 has 0 rows but longest item has 500; filled with NA”\n",
            "Warning message in as.data.table.list(x, keep.rownames = keep.rownames, check.names = check.names, :\n",
            "“Item 3 has 0 rows but longest item has 500; filled with NA”\n",
            "Warning message in as.data.table.list(x, keep.rownames = keep.rownames, check.names = check.names, :\n",
            "“Item 3 has 0 rows but longest item has 500; filled with NA”\n",
            "Warning message in as.data.table.list(x, keep.rownames = keep.rownames, check.names = check.names, :\n",
            "“Item 3 has 0 rows but longest item has 500; filled with NA”\n",
            "Warning message in as.data.table.list(x, keep.rownames = keep.rownames, check.names = check.names, :\n",
            "“Item 3 has 0 rows but longest item has 500; filled with NA”\n",
            "Warning message in as.data.table.list(x, keep.rownames = keep.rownames, check.names = check.names, :\n",
            "“Item 3 has 0 rows but longest item has 500; filled with NA”\n",
            "Warning message in as.data.table.list(x, keep.rownames = keep.rownames, check.names = check.names, :\n",
            "“Item 3 has 0 rows but longest item has 500; filled with NA”\n",
            "Warning message in as.data.table.list(x, keep.rownames = keep.rownames, check.names = check.names, :\n",
            "“Item 3 has 0 rows but longest item has 500; filled with NA”\n",
            "Warning message in as.data.table.list(x, keep.rownames = keep.rownames, check.names = check.names, :\n",
            "“Item 3 has 0 rows but longest item has 500; filled with NA”\n",
            "Warning message in as.data.table.list(x, keep.rownames = keep.rownames, check.names = check.names, :\n",
            "“Item 3 has 0 rows but longest item has 500; filled with NA”\n",
            "Warning message in as.data.table.list(x, keep.rownames = keep.rownames, check.names = check.names, :\n",
            "“Item 3 has 0 rows but longest item has 500; filled with NA”\n",
            "Warning message in as.data.table.list(x, keep.rownames = keep.rownames, check.names = check.names, :\n",
            "“Item 3 has 0 rows but longest item has 500; filled with NA”\n",
            "Warning message in as.data.table.list(x, keep.rownames = keep.rownames, check.names = check.names, :\n",
            "“Item 3 has 0 rows but longest item has 500; filled with NA”\n",
            "Warning message in as.data.table.list(x, keep.rownames = keep.rownames, check.names = check.names, :\n",
            "“Item 3 has 0 rows but longest item has 500; filled with NA”\n",
            "Warning message in as.data.table.list(x, keep.rownames = keep.rownames, check.names = check.names, :\n",
            "“Item 3 has 0 rows but longest item has 500; filled with NA”\n",
            "Warning message in as.data.table.list(x, keep.rownames = keep.rownames, check.names = check.names, :\n",
            "“Item 3 has 0 rows but longest item has 500; filled with NA”\n",
            "Warning message in as.data.table.list(x, keep.rownames = keep.rownames, check.names = check.names, :\n",
            "“Item 3 has 0 rows but longest item has 500; filled with NA”\n",
            "Warning message in as.data.table.list(x, keep.rownames = keep.rownames, check.names = check.names, :\n",
            "“Item 3 has 0 rows but longest item has 500; filled with NA”\n",
            "Warning message in as.data.table.list(x, keep.rownames = keep.rownames, check.names = check.names, :\n",
            "“Item 3 has 0 rows but longest item has 500; filled with NA”\n",
            "Warning message in as.data.table.list(x, keep.rownames = keep.rownames, check.names = check.names, :\n",
            "“Item 3 has 0 rows but longest item has 500; filled with NA”\n",
            "Warning message in as.data.table.list(x, keep.rownames = keep.rownames, check.names = check.names, :\n",
            "“Item 3 has 0 rows but longest item has 500; filled with NA”\n",
            "Warning message in as.data.table.list(x, keep.rownames = keep.rownames, check.names = check.names, :\n",
            "“Item 3 has 0 rows but longest item has 500; filled with NA”\n",
            "Warning message in as.data.table.list(x, keep.rownames = keep.rownames, check.names = check.names, :\n",
            "“Item 3 has 0 rows but longest item has 500; filled with NA”\n",
            "Warning message in as.data.table.list(x, keep.rownames = keep.rownames, check.names = check.names, :\n",
            "“Item 3 has 0 rows but longest item has 500; filled with NA”\n",
            "Warning message in as.data.table.list(x, keep.rownames = keep.rownames, check.names = check.names, :\n",
            "“Item 3 has 0 rows but longest item has 500; filled with NA”\n",
            "Warning message in as.data.table.list(x, keep.rownames = keep.rownames, check.names = check.names, :\n",
            "“Item 3 has 0 rows but longest item has 500; filled with NA”\n",
            "Warning message in x_dt$`Decay_class_1-5` %>% as.numeric:\n",
            "“NAs introduced by coercion”\n",
            "Warning message in as.data.table.list(x, keep.rownames = keep.rownames, check.names = check.names, :\n",
            "“Item 3 has 0 rows but longest item has 500; filled with NA”\n",
            "Warning message in as.data.table.list(x, keep.rownames = keep.rownames, check.names = check.names, :\n",
            "“Item 3 has 0 rows but longest item has 500; filled with NA”\n",
            "Warning message in as.data.table.list(x, keep.rownames = keep.rownames, check.names = check.names, :\n",
            "“Item 3 has 0 rows but longest item has 500; filled with NA”\n",
            "Warning message in as.data.table.list(x, keep.rownames = keep.rownames, check.names = check.names, :\n",
            "“Item 3 has 0 rows but longest item has 500; filled with NA”\n",
            "Warning message in as.data.table.list(x, keep.rownames = keep.rownames, check.names = check.names, :\n",
            "“Item 3 has 0 rows but longest item has 500; filled with NA”\n",
            "Warning message in as.data.table.list(x, keep.rownames = keep.rownames, check.names = check.names, :\n",
            "“Item 3 has 0 rows but longest item has 500; filled with NA”\n",
            "Warning message in as.data.table.list(x, keep.rownames = keep.rownames, check.names = check.names, :\n",
            "“Item 3 has 0 rows but longest item has 500; filled with NA”\n",
            "Warning message in as.data.table.list(x, keep.rownames = keep.rownames, check.names = check.names, :\n",
            "“Item 3 has 0 rows but longest item has 500; filled with NA”\n",
            "Warning message in as.data.table.list(x, keep.rownames = keep.rownames, check.names = check.names, :\n",
            "“Item 3 has 0 rows but longest item has 500; filled with NA”\n",
            "Warning message in as.data.table.list(x, keep.rownames = keep.rownames, check.names = check.names, :\n",
            "“Item 3 has 0 rows but longest item has 500; filled with NA”\n",
            "Warning message in as.data.table.list(x, keep.rownames = keep.rownames, check.names = check.names, :\n",
            "“Item 3 has 0 rows but longest item has 500; filled with NA”\n",
            "Warning message in as.data.table.list(x, keep.rownames = keep.rownames, check.names = check.names, :\n",
            "“Item 3 has 0 rows but longest item has 500; filled with NA”\n",
            "Warning message in as.data.table.list(x, keep.rownames = keep.rownames, check.names = check.names, :\n",
            "“Item 3 has 0 rows but longest item has 500; filled with NA”\n",
            "Warning message in as.data.table.list(x, keep.rownames = keep.rownames, check.names = check.names, :\n",
            "“Item 3 has 0 rows but longest item has 500; filled with NA”\n",
            "Warning message in as.data.table.list(x, keep.rownames = keep.rownames, check.names = check.names, :\n",
            "“Item 3 has 0 rows but longest item has 500; filled with NA”\n",
            "Warning message in as.data.table.list(x, keep.rownames = keep.rownames, check.names = check.names, :\n",
            "“Item 3 has 0 rows but longest item has 500; filled with NA”\n",
            "Warning message in as.data.table.list(x, keep.rownames = keep.rownames, check.names = check.names, :\n",
            "“Item 3 has 0 rows but longest item has 500; filled with NA”\n",
            "Warning message in as.data.table.list(x, keep.rownames = keep.rownames, check.names = check.names, :\n",
            "“Item 3 has 0 rows but longest item has 500; filled with NA”\n",
            "Warning message in as.data.table.list(x, keep.rownames = keep.rownames, check.names = check.names, :\n",
            "“Item 3 has 0 rows but longest item has 500; filled with NA”\n",
            "Warning message in as.data.table.list(x, keep.rownames = keep.rownames, check.names = check.names, :\n",
            "“Item 3 has 0 rows but longest item has 500; filled with NA”\n",
            "Warning message in as.data.table.list(x, keep.rownames = keep.rownames, check.names = check.names, :\n",
            "“Item 3 has 0 rows but longest item has 500; filled with NA”\n",
            "Warning message in as.data.table.list(x, keep.rownames = keep.rownames, check.names = check.names, :\n",
            "“Item 3 has 0 rows but longest item has 500; filled with NA”\n",
            "Warning message in as.data.table.list(x, keep.rownames = keep.rownames, check.names = check.names, :\n",
            "“Item 3 has 0 rows but longest item has 500; filled with NA”\n",
            "Warning message in as.data.table.list(x, keep.rownames = keep.rownames, check.names = check.names, :\n",
            "“Item 3 has 0 rows but longest item has 500; filled with NA”\n",
            "Warning message in as.data.table.list(x, keep.rownames = keep.rownames, check.names = check.names, :\n",
            "“Item 3 has 0 rows but longest item has 500; filled with NA”\n",
            "Warning message in as.data.table.list(x, keep.rownames = keep.rownames, check.names = check.names, :\n",
            "“Item 3 has 0 rows but longest item has 500; filled with NA”\n",
            "Warning message in as.data.table.list(x, keep.rownames = keep.rownames, check.names = check.names, :\n",
            "“Item 3 has 0 rows but longest item has 500; filled with NA”\n",
            "Warning message in as.data.table.list(x, keep.rownames = keep.rownames, check.names = check.names, :\n",
            "“Item 3 has 0 rows but longest item has 500; filled with NA”\n",
            "Warning message in as.data.table.list(x, keep.rownames = keep.rownames, check.names = check.names, :\n",
            "“Item 3 has 0 rows but longest item has 500; filled with NA”\n",
            "Warning message in as.data.table.list(x, keep.rownames = keep.rownames, check.names = check.names, :\n",
            "“Item 3 has 0 rows but longest item has 500; filled with NA”\n",
            "Warning message in as.data.table.list(x, keep.rownames = keep.rownames, check.names = check.names, :\n",
            "“Item 3 has 0 rows but longest item has 500; filled with NA”\n",
            "Warning message in as.data.table.list(x, keep.rownames = keep.rownames, check.names = check.names, :\n",
            "“Item 3 has 0 rows but longest item has 500; filled with NA”\n",
            "Warning message in as.data.table.list(x, keep.rownames = keep.rownames, check.names = check.names, :\n",
            "“Item 3 has 0 rows but longest item has 500; filled with NA”\n",
            "Warning message in as.data.table.list(x, keep.rownames = keep.rownames, check.names = check.names, :\n",
            "“Item 3 has 0 rows but longest item has 500; filled with NA”\n",
            "Warning message in as.data.table.list(x, keep.rownames = keep.rownames, check.names = check.names, :\n",
            "“Item 3 has 0 rows but longest item has 500; filled with NA”\n",
            "Warning message in as.data.table.list(x, keep.rownames = keep.rownames, check.names = check.names, :\n",
            "“Item 3 has 0 rows but longest item has 500; filled with NA”\n",
            "Warning message in as.data.table.list(x, keep.rownames = keep.rownames, check.names = check.names, :\n",
            "“Item 3 has 0 rows but longest item has 500; filled with NA”\n",
            "Warning message in as.data.table.list(x, keep.rownames = keep.rownames, check.names = check.names, :\n",
            "“Item 3 has 0 rows but longest item has 500; filled with NA”\n",
            "Warning message in as.data.table.list(x, keep.rownames = keep.rownames, check.names = check.names, :\n",
            "“Item 3 has 0 rows but longest item has 500; filled with NA”\n",
            "Warning message in as.data.table.list(x, keep.rownames = keep.rownames, check.names = check.names, :\n",
            "“Item 3 has 0 rows but longest item has 500; filled with NA”\n",
            "Warning message in as.data.table.list(x, keep.rownames = keep.rownames, check.names = check.names, :\n",
            "“Item 3 has 0 rows but longest item has 500; filled with NA”\n",
            "Warning message in as.data.table.list(x, keep.rownames = keep.rownames, check.names = check.names, :\n",
            "“Item 3 has 0 rows but longest item has 500; filled with NA”\n",
            "Warning message in as.data.table.list(x, keep.rownames = keep.rownames, check.names = check.names, :\n",
            "“Item 3 has 0 rows but longest item has 500; filled with NA”\n",
            "Warning message in as.data.table.list(x, keep.rownames = keep.rownames, check.names = check.names, :\n",
            "“Item 3 has 0 rows but longest item has 500; filled with NA”\n",
            "Warning message in as.data.table.list(x, keep.rownames = keep.rownames, check.names = check.names, :\n",
            "“Item 3 has 0 rows but longest item has 500; filled with NA”\n",
            "Warning message in as.data.table.list(x, keep.rownames = keep.rownames, check.names = check.names, :\n",
            "“Item 3 has 0 rows but longest item has 500; filled with NA”\n",
            "Warning message in as.data.table.list(x, keep.rownames = keep.rownames, check.names = check.names, :\n",
            "“Item 3 has 0 rows but longest item has 500; filled with NA”\n",
            "Warning message in as.data.table.list(x, keep.rownames = keep.rownames, check.names = check.names, :\n",
            "“Item 3 has 0 rows but longest item has 500; filled with NA”\n",
            "Warning message in as.data.table.list(x, keep.rownames = keep.rownames, check.names = check.names, :\n",
            "“Item 3 has 0 rows but longest item has 500; filled with NA”\n",
            "Warning message in as.data.table.list(x, keep.rownames = keep.rownames, check.names = check.names, :\n",
            "“Item 3 has 0 rows but longest item has 500; filled with NA”\n",
            "Warning message in as.data.table.list(x, keep.rownames = keep.rownames, check.names = check.names, :\n",
            "“Item 3 has 0 rows but longest item has 500; filled with NA”\n",
            "Warning message in as.data.table.list(x, keep.rownames = keep.rownames, check.names = check.names, :\n",
            "“Item 3 has 0 rows but longest item has 500; filled with NA”\n",
            "Warning message in as.data.table.list(x, keep.rownames = keep.rownames, check.names = check.names, :\n",
            "“Item 3 has 0 rows but longest item has 500; filled with NA”\n",
            "Warning message in as.data.table.list(x, keep.rownames = keep.rownames, check.names = check.names, :\n",
            "“Item 3 has 0 rows but longest item has 500; filled with NA”\n",
            "Warning message in as.data.table.list(x, keep.rownames = keep.rownames, check.names = check.names, :\n",
            "“Item 3 has 0 rows but longest item has 500; filled with NA”\n",
            "Warning message in as.data.table.list(x, keep.rownames = keep.rownames, check.names = check.names, :\n",
            "“Item 3 has 0 rows but longest item has 500; filled with NA”\n",
            "Warning message in as.data.table.list(x, keep.rownames = keep.rownames, check.names = check.names, :\n",
            "“Item 3 has 0 rows but longest item has 500; filled with NA”\n",
            "Warning message in as.data.table.list(x, keep.rownames = keep.rownames, check.names = check.names, :\n",
            "“Item 3 has 0 rows but longest item has 500; filled with NA”\n",
            "Warning message in as.data.table.list(x, keep.rownames = keep.rownames, check.names = check.names, :\n",
            "“Item 3 has 0 rows but longest item has 500; filled with NA”\n",
            "Warning message in as.data.table.list(x, keep.rownames = keep.rownames, check.names = check.names, :\n",
            "“Item 3 has 0 rows but longest item has 500; filled with NA”\n",
            "Warning message in as.data.table.list(x, keep.rownames = keep.rownames, check.names = check.names, :\n",
            "“Item 3 has 0 rows but longest item has 500; filled with NA”\n",
            "Warning message in as.data.table.list(x, keep.rownames = keep.rownames, check.names = check.names, :\n",
            "“Item 3 has 0 rows but longest item has 500; filled with NA”\n",
            "Warning message in as.data.table.list(x, keep.rownames = keep.rownames, check.names = check.names, :\n",
            "“Item 3 has 0 rows but longest item has 500; filled with NA”\n",
            "Warning message in as.data.table.list(x, keep.rownames = keep.rownames, check.names = check.names, :\n",
            "“Item 3 has 0 rows but longest item has 500; filled with NA”\n",
            "Warning message in as.data.table.list(x, keep.rownames = keep.rownames, check.names = check.names, :\n",
            "“Item 3 has 0 rows but longest item has 500; filled with NA”\n",
            "Warning message in as.data.table.list(x, keep.rownames = keep.rownames, check.names = check.names, :\n",
            "“Item 3 has 0 rows but longest item has 500; filled with NA”\n",
            "Warning message in as.data.table.list(x, keep.rownames = keep.rownames, check.names = check.names, :\n",
            "“Item 3 has 0 rows but longest item has 500; filled with NA”\n",
            "Warning message in as.data.table.list(x, keep.rownames = keep.rownames, check.names = check.names, :\n",
            "“Item 3 has 0 rows but longest item has 500; filled with NA”\n",
            "Warning message in as.data.table.list(x, keep.rownames = keep.rownames, check.names = check.names, :\n",
            "“Item 3 has 0 rows but longest item has 500; filled with NA”\n",
            "Warning message in as.data.table.list(x, keep.rownames = keep.rownames, check.names = check.names, :\n",
            "“Item 3 has 0 rows but longest item has 500; filled with NA”\n",
            "Warning message in as.data.table.list(x, keep.rownames = keep.rownames, check.names = check.names, :\n",
            "“Item 3 has 0 rows but longest item has 500; filled with NA”\n",
            "Warning message in as.data.table.list(x, keep.rownames = keep.rownames, check.names = check.names, :\n",
            "“Item 3 has 0 rows but longest item has 500; filled with NA”\n",
            "Warning message in as.data.table.list(x, keep.rownames = keep.rownames, check.names = check.names, :\n",
            "“Item 3 has 0 rows but longest item has 500; filled with NA”\n",
            "Warning message in as.data.table.list(x, keep.rownames = keep.rownames, check.names = check.names, :\n",
            "“Item 3 has 0 rows but longest item has 500; filled with NA”\n",
            "Warning message in as.data.table.list(x, keep.rownames = keep.rownames, check.names = check.names, :\n",
            "“Item 3 has 0 rows but longest item has 500; filled with NA”\n",
            "Warning message in as.data.table.list(x, keep.rownames = keep.rownames, check.names = check.names, :\n",
            "“Item 3 has 0 rows but longest item has 500; filled with NA”\n",
            "Warning message in as.data.table.list(x, keep.rownames = keep.rownames, check.names = check.names, :\n",
            "“Item 3 has 0 rows but longest item has 500; filled with NA”\n",
            "Warning message in as.data.table.list(x, keep.rownames = keep.rownames, check.names = check.names, :\n",
            "“Item 3 has 0 rows but longest item has 500; filled with NA”\n",
            "Warning message in as.data.table.list(x, keep.rownames = keep.rownames, check.names = check.names, :\n",
            "“Item 3 has 0 rows but longest item has 500; filled with NA”\n",
            "Warning message in as.data.table.list(x, keep.rownames = keep.rownames, check.names = check.names, :\n",
            "“Item 3 has 0 rows but longest item has 500; filled with NA”\n",
            "Warning message in as.data.table.list(x, keep.rownames = keep.rownames, check.names = check.names, :\n",
            "“Item 3 has 0 rows but longest item has 500; filled with NA”\n",
            "Warning message in as.data.table.list(x, keep.rownames = keep.rownames, check.names = check.names, :\n",
            "“Item 3 has 0 rows but longest item has 500; filled with NA”\n",
            "Warning message in as.data.table.list(x, keep.rownames = keep.rownames, check.names = check.names, :\n",
            "“Item 3 has 0 rows but longest item has 500; filled with NA”\n",
            "Warning message in as.data.table.list(x, keep.rownames = keep.rownames, check.names = check.names, :\n",
            "“Item 3 has 0 rows but longest item has 500; filled with NA”\n",
            "Warning message in as.data.table.list(x, keep.rownames = keep.rownames, check.names = check.names, :\n",
            "“Item 3 has 0 rows but longest item has 500; filled with NA”\n",
            "Warning message in as.data.table.list(x, keep.rownames = keep.rownames, check.names = check.names, :\n",
            "“Item 3 has 0 rows but longest item has 500; filled with NA”\n",
            "Warning message in as.data.table.list(x, keep.rownames = keep.rownames, check.names = check.names, :\n",
            "“Item 3 has 0 rows but longest item has 500; filled with NA”\n",
            "Warning message in as.data.table.list(x, keep.rownames = keep.rownames, check.names = check.names, :\n",
            "“Item 3 has 0 rows but longest item has 500; filled with NA”\n",
            "Warning message in as.data.table.list(x, keep.rownames = keep.rownames, check.names = check.names, :\n",
            "“Item 3 has 0 rows but longest item has 500; filled with NA”\n",
            "Warning message in as.data.table.list(x, keep.rownames = keep.rownames, check.names = check.names, :\n",
            "“Item 3 has 0 rows but longest item has 500; filled with NA”\n",
            "Warning message in as.data.table.list(x, keep.rownames = keep.rownames, check.names = check.names, :\n",
            "“Item 3 has 0 rows but longest item has 500; filled with NA”\n",
            "Warning message in as.data.table.list(x, keep.rownames = keep.rownames, check.names = check.names, :\n",
            "“Item 3 has 0 rows but longest item has 500; filled with NA”\n",
            "Warning message in as.data.table.list(x, keep.rownames = keep.rownames, check.names = check.names, :\n",
            "“Item 3 has 0 rows but longest item has 500; filled with NA”\n",
            "Warning message in as.data.table.list(x, keep.rownames = keep.rownames, check.names = check.names, :\n",
            "“Item 3 has 0 rows but longest item has 500; filled with NA”\n",
            "Warning message in as.data.table.list(x, keep.rownames = keep.rownames, check.names = check.names, :\n",
            "“Item 3 has 0 rows but longest item has 500; filled with NA”\n",
            "Warning message in as.data.table.list(x, keep.rownames = keep.rownames, check.names = check.names, :\n",
            "“Item 3 has 0 rows but longest item has 500; filled with NA”\n",
            "Warning message in as.data.table.list(x, keep.rownames = keep.rownames, check.names = check.names, :\n",
            "“Item 3 has 0 rows but longest item has 500; filled with NA”\n",
            "Warning message in as.data.table.list(x, keep.rownames = keep.rownames, check.names = check.names, :\n",
            "“Item 3 has 0 rows but longest item has 500; filled with NA”\n",
            "Warning message in as.data.table.list(x, keep.rownames = keep.rownames, check.names = check.names, :\n",
            "“Item 3 has 0 rows but longest item has 500; filled with NA”\n",
            "Warning message in as.data.table.list(x, keep.rownames = keep.rownames, check.names = check.names, :\n",
            "“Item 3 has 0 rows but longest item has 500; filled with NA”\n",
            "Warning message in as.data.table.list(x, keep.rownames = keep.rownames, check.names = check.names, :\n",
            "“Item 3 has 0 rows but longest item has 500; filled with NA”\n",
            "Warning message in as.data.table.list(x, keep.rownames = keep.rownames, check.names = check.names, :\n",
            "“Item 3 has 0 rows but longest item has 500; filled with NA”\n",
            "Warning message in as.data.table.list(x, keep.rownames = keep.rownames, check.names = check.names, :\n",
            "“Item 3 has 0 rows but longest item has 500; filled with NA”\n",
            "Warning message in as.data.table.list(x, keep.rownames = keep.rownames, check.names = check.names, :\n",
            "“Item 3 has 0 rows but longest item has 500; filled with NA”\n",
            "Warning message in as.data.table.list(x, keep.rownames = keep.rownames, check.names = check.names, :\n",
            "“Item 3 has 0 rows but longest item has 500; filled with NA”\n",
            "Warning message in as.data.table.list(x, keep.rownames = keep.rownames, check.names = check.names, :\n",
            "“Item 3 has 0 rows but longest item has 500; filled with NA”\n",
            "Warning message in as.data.table.list(x, keep.rownames = keep.rownames, check.names = check.names, :\n",
            "“Item 3 has 0 rows but longest item has 500; filled with NA”\n",
            "Warning message in as.data.table.list(x, keep.rownames = keep.rownames, check.names = check.names, :\n",
            "“Item 3 has 0 rows but longest item has 500; filled with NA”\n",
            "Warning message in as.data.table.list(x, keep.rownames = keep.rownames, check.names = check.names, :\n",
            "“Item 3 has 0 rows but longest item has 500; filled with NA”\n",
            "Warning message in as.data.table.list(x, keep.rownames = keep.rownames, check.names = check.names, :\n",
            "“Item 3 has 0 rows but longest item has 500; filled with NA”\n",
            "Warning message in as.data.table.list(x, keep.rownames = keep.rownames, check.names = check.names, :\n",
            "“Item 3 has 0 rows but longest item has 500; filled with NA”\n",
            "Warning message in as.data.table.list(x, keep.rownames = keep.rownames, check.names = check.names, :\n",
            "“Item 3 has 0 rows but longest item has 500; filled with NA”\n",
            "Warning message in as.data.table.list(x, keep.rownames = keep.rownames, check.names = check.names, :\n",
            "“Item 3 has 0 rows but longest item has 500; filled with NA”\n",
            "Warning message in as.data.table.list(x, keep.rownames = keep.rownames, check.names = check.names, :\n",
            "“Item 3 has 0 rows but longest item has 500; filled with NA”\n",
            "Warning message in as.data.table.list(x, keep.rownames = keep.rownames, check.names = check.names, :\n",
            "“Item 3 has 0 rows but longest item has 500; filled with NA”\n",
            "Warning message in as.data.table.list(x, keep.rownames = keep.rownames, check.names = check.names, :\n",
            "“Item 3 has 0 rows but longest item has 500; filled with NA”\n",
            "Warning message in as.data.table.list(x, keep.rownames = keep.rownames, check.names = check.names, :\n",
            "“Item 3 has 0 rows but longest item has 500; filled with NA”\n",
            "Warning message in as.data.table.list(x, keep.rownames = keep.rownames, check.names = check.names, :\n",
            "“Item 3 has 0 rows but longest item has 500; filled with NA”\n",
            "Warning message in as.data.table.list(x, keep.rownames = keep.rownames, check.names = check.names, :\n",
            "“Item 3 has 0 rows but longest item has 500; filled with NA”\n",
            "Warning message in as.data.table.list(x, keep.rownames = keep.rownames, check.names = check.names, :\n",
            "“Item 3 has 0 rows but longest item has 500; filled with NA”\n",
            "Warning message in as.data.table.list(x, keep.rownames = keep.rownames, check.names = check.names, :\n",
            "“Item 3 has 0 rows but longest item has 500; filled with NA”\n",
            "Warning message in as.data.table.list(x, keep.rownames = keep.rownames, check.names = check.names, :\n",
            "“Item 3 has 0 rows but longest item has 500; filled with NA”\n",
            "Warning message in as.data.table.list(x, keep.rownames = keep.rownames, check.names = check.names, :\n",
            "“Item 3 has 0 rows but longest item has 500; filled with NA”\n"
          ]
        }
      ]
    },
    {
      "cell_type": "code",
      "source": [
        "burn_class <- utils::read.csv(text = R\"---(\n",
        "1\n",
        "1\n",
        "0.95\n",
        "0.5\n",
        "0.1\n",
        "0\n",
        ")---\", header = FALSE) %>% data.table\n",
        "names(burn_class) <- 'remaining'\n",
        "burn_class$`Burn_class_1-5` <- c(c(-1,1:5))\n",
        "burn_class"
      ],
      "metadata": {
        "colab": {
          "base_uri": "https://localhost:8080/",
          "height": 286
        },
        "id": "_4V7yFpFe2ow",
        "outputId": "2a7678a0-236d-4116-dac5-cb687a15ded6"
      },
      "execution_count": 44,
      "outputs": [
        {
          "output_type": "display_data",
          "data": {
            "text/html": [
              "<table class=\"dataframe\">\n",
              "<caption>A data.table: 6 × 2</caption>\n",
              "<thead>\n",
              "\t<tr><th scope=col>remaining</th><th scope=col>Burn_class_1-5</th></tr>\n",
              "\t<tr><th scope=col>&lt;dbl&gt;</th><th scope=col>&lt;dbl&gt;</th></tr>\n",
              "</thead>\n",
              "<tbody>\n",
              "\t<tr><td>1.00</td><td>-1</td></tr>\n",
              "\t<tr><td>1.00</td><td> 1</td></tr>\n",
              "\t<tr><td>0.95</td><td> 2</td></tr>\n",
              "\t<tr><td>0.50</td><td> 3</td></tr>\n",
              "\t<tr><td>0.10</td><td> 4</td></tr>\n",
              "\t<tr><td>0.00</td><td> 5</td></tr>\n",
              "</tbody>\n",
              "</table>\n"
            ],
            "text/markdown": "\nA data.table: 6 × 2\n\n| remaining &lt;dbl&gt; | Burn_class_1-5 &lt;dbl&gt; |\n|---|---|\n| 1.00 | -1 |\n| 1.00 |  1 |\n| 0.95 |  2 |\n| 0.50 |  3 |\n| 0.10 |  4 |\n| 0.00 |  5 |\n\n",
            "text/latex": "A data.table: 6 × 2\n\\begin{tabular}{ll}\n remaining & Burn\\_class\\_1-5\\\\\n <dbl> & <dbl>\\\\\n\\hline\n\t 1.00 & -1\\\\\n\t 1.00 &  1\\\\\n\t 0.95 &  2\\\\\n\t 0.50 &  3\\\\\n\t 0.10 &  4\\\\\n\t 0.00 &  5\\\\\n\\end{tabular}\n",
            "text/plain": [
              "  remaining Burn_class_1-5\n",
              "1 1.00      -1            \n",
              "2 1.00       1            \n",
              "3 0.95       2            \n",
              "4 0.50       3            \n",
              "5 0.10       4            \n",
              "6 0.00       5            "
            ]
          },
          "metadata": {}
        }
      ]
    },
    {
      "cell_type": "code",
      "source": [
        "spatial_cwd_dt <- spatial_cwd_dt %>% merge(burn_class,by='Burn_class_1-5',all=T)"
      ],
      "metadata": {
        "id": "0s4JSWJBw_e8"
      },
      "execution_count": 46,
      "outputs": []
    },
    {
      "cell_type": "code",
      "source": [
        "spatial_cwd_dt[,volume:=min(Length_cm,200)*pi*max(Width_cm/2,0)^2,by=1:nrow(spatial_cwd_dt)]"
      ],
      "metadata": {
        "id": "I7dxfJzPxHd6"
      },
      "execution_count": 47,
      "outputs": []
    },
    {
      "cell_type": "code",
      "source": [
        "spatial_cwd_dt[,mass_kg:=volume*0.000001*530,by=1:nrow(spatial_cwd_dt)]"
      ],
      "metadata": {
        "id": "wrs-vZQlQyEy"
      },
      "execution_count": 28,
      "outputs": []
    },
    {
      "cell_type": "code",
      "source": [
        "spatial_cwd_dt %>% head"
      ],
      "metadata": {
        "colab": {
          "base_uri": "https://localhost:8080/",
          "height": 306
        },
        "id": "9yh81WGPyZFl",
        "outputId": "671d9fa4-73f2-4b8b-a0b4-d0e8391d5be3"
      },
      "execution_count": 48,
      "outputs": [
        {
          "output_type": "display_data",
          "data": {
            "text/html": [
              "<table class=\"dataframe\">\n",
              "<caption>A data.table: 6 × 21</caption>\n",
              "<thead>\n",
              "\t<tr><th scope=col>Burn_class_1-5</th><th scope=col>Date</th><th scope=col>Site</th><th scope=col>stump</th><th scope=col>burned_stump</th><th scope=col>Cardinal_direction</th><th scope=col>Transect_Position_m</th><th scope=col>Length_cm</th><th scope=col>Width_cm</th><th scope=col>Decay_class_1-5</th><th scope=col>⋯</th><th scope=col>Notes</th><th scope=col>decay_class</th><th scope=col>DR</th><th scope=col>year_m</th><th scope=col>decay_m</th><th scope=col>volume</th><th scope=col>mass_kg</th><th scope=col>decayed_mass_kg</th><th scope=col>lost_mass_kg</th><th scope=col>remaining</th></tr>\n",
              "\t<tr><th scope=col>&lt;dbl&gt;</th><th scope=col>&lt;dbl&gt;</th><th scope=col>&lt;chr&gt;</th><th scope=col>&lt;chr&gt;</th><th scope=col>&lt;chr&gt;</th><th scope=col>&lt;chr&gt;</th><th scope=col>&lt;chr&gt;</th><th scope=col>&lt;dbl&gt;</th><th scope=col>&lt;dbl&gt;</th><th scope=col>&lt;chr&gt;</th><th scope=col>⋯</th><th scope=col>&lt;chr&gt;</th><th scope=col>&lt;fct&gt;</th><th scope=col>&lt;dbl&gt;</th><th scope=col>&lt;dbl&gt;</th><th scope=col>&lt;dbl&gt;</th><th scope=col>&lt;dbl&gt;</th><th scope=col>&lt;dbl&gt;</th><th scope=col>&lt;dbl&gt;</th><th scope=col>&lt;dbl&gt;</th><th scope=col>&lt;dbl&gt;</th></tr>\n",
              "</thead>\n",
              "<tbody>\n",
              "\t<tr><td>-1</td><td>44391</td><td>CH4</td><td>T</td><td>-1.0</td><td>N</td><td>10.1</td><td>-1</td><td>-1</td><td>-1.0</td><td>⋯</td><td>NA</td><td>NA</td><td>NA</td><td>NA</td><td>NA</td><td>0</td><td>0</td><td>NA</td><td>NA</td><td>1</td></tr>\n",
              "\t<tr><td>-1</td><td>44391</td><td>CH4</td><td>T</td><td>-1.0</td><td>N</td><td>8.6 </td><td>-1</td><td>-1</td><td>-1.0</td><td>⋯</td><td>NA</td><td>NA</td><td>NA</td><td>NA</td><td>NA</td><td>0</td><td>0</td><td>NA</td><td>NA</td><td>1</td></tr>\n",
              "\t<tr><td>-1</td><td>44391</td><td>CH4</td><td>T</td><td>-1.0</td><td>S</td><td>2.0 </td><td>-1</td><td>-1</td><td>-1.0</td><td>⋯</td><td>NA</td><td>NA</td><td>NA</td><td>NA</td><td>NA</td><td>0</td><td>0</td><td>NA</td><td>NA</td><td>1</td></tr>\n",
              "\t<tr><td>-1</td><td>44391</td><td>CH4</td><td>T</td><td>-1.0</td><td>W</td><td>4.9 </td><td>-1</td><td>-1</td><td>-1.0</td><td>⋯</td><td>NA</td><td>NA</td><td>NA</td><td>NA</td><td>NA</td><td>0</td><td>0</td><td>NA</td><td>NA</td><td>1</td></tr>\n",
              "\t<tr><td>-1</td><td>44384</td><td>L3 </td><td>T</td><td>T   </td><td>E</td><td>3.5 </td><td>-1</td><td>-1</td><td>-1.0</td><td>⋯</td><td>NA</td><td>NA</td><td>NA</td><td>NA</td><td>NA</td><td>0</td><td>0</td><td>NA</td><td>NA</td><td>1</td></tr>\n",
              "\t<tr><td>-1</td><td>44384</td><td>L3 </td><td>T</td><td>T   </td><td>E</td><td>14.0</td><td>-1</td><td>-1</td><td>-1.0</td><td>⋯</td><td>NA</td><td>NA</td><td>NA</td><td>NA</td><td>NA</td><td>0</td><td>0</td><td>NA</td><td>NA</td><td>1</td></tr>\n",
              "</tbody>\n",
              "</table>\n"
            ],
            "text/markdown": "\nA data.table: 6 × 21\n\n| Burn_class_1-5 &lt;dbl&gt; | Date &lt;dbl&gt; | Site &lt;chr&gt; | stump &lt;chr&gt; | burned_stump &lt;chr&gt; | Cardinal_direction &lt;chr&gt; | Transect_Position_m &lt;chr&gt; | Length_cm &lt;dbl&gt; | Width_cm &lt;dbl&gt; | Decay_class_1-5 &lt;chr&gt; | ⋯ ⋯ | Notes &lt;chr&gt; | decay_class &lt;fct&gt; | DR &lt;dbl&gt; | year_m &lt;dbl&gt; | decay_m &lt;dbl&gt; | volume &lt;dbl&gt; | mass_kg &lt;dbl&gt; | decayed_mass_kg &lt;dbl&gt; | lost_mass_kg &lt;dbl&gt; | remaining &lt;dbl&gt; |\n|---|---|---|---|---|---|---|---|---|---|---|---|---|---|---|---|---|---|---|---|---|\n| -1 | 44391 | CH4 | T | -1.0 | N | 10.1 | -1 | -1 | -1.0 | ⋯ | NA | NA | NA | NA | NA | 0 | 0 | NA | NA | 1 |\n| -1 | 44391 | CH4 | T | -1.0 | N | 8.6  | -1 | -1 | -1.0 | ⋯ | NA | NA | NA | NA | NA | 0 | 0 | NA | NA | 1 |\n| -1 | 44391 | CH4 | T | -1.0 | S | 2.0  | -1 | -1 | -1.0 | ⋯ | NA | NA | NA | NA | NA | 0 | 0 | NA | NA | 1 |\n| -1 | 44391 | CH4 | T | -1.0 | W | 4.9  | -1 | -1 | -1.0 | ⋯ | NA | NA | NA | NA | NA | 0 | 0 | NA | NA | 1 |\n| -1 | 44384 | L3  | T | T    | E | 3.5  | -1 | -1 | -1.0 | ⋯ | NA | NA | NA | NA | NA | 0 | 0 | NA | NA | 1 |\n| -1 | 44384 | L3  | T | T    | E | 14.0 | -1 | -1 | -1.0 | ⋯ | NA | NA | NA | NA | NA | 0 | 0 | NA | NA | 1 |\n\n",
            "text/latex": "A data.table: 6 × 21\n\\begin{tabular}{lllllllllllllllllllll}\n Burn\\_class\\_1-5 & Date & Site & stump & burned\\_stump & Cardinal\\_direction & Transect\\_Position\\_m & Length\\_cm & Width\\_cm & Decay\\_class\\_1-5 & ⋯ & Notes & decay\\_class & DR & year\\_m & decay\\_m & volume & mass\\_kg & decayed\\_mass\\_kg & lost\\_mass\\_kg & remaining\\\\\n <dbl> & <dbl> & <chr> & <chr> & <chr> & <chr> & <chr> & <dbl> & <dbl> & <chr> & ⋯ & <chr> & <fct> & <dbl> & <dbl> & <dbl> & <dbl> & <dbl> & <dbl> & <dbl> & <dbl>\\\\\n\\hline\n\t -1 & 44391 & CH4 & T & -1.0 & N & 10.1 & -1 & -1 & -1.0 & ⋯ & NA & NA & NA & NA & NA & 0 & 0 & NA & NA & 1\\\\\n\t -1 & 44391 & CH4 & T & -1.0 & N & 8.6  & -1 & -1 & -1.0 & ⋯ & NA & NA & NA & NA & NA & 0 & 0 & NA & NA & 1\\\\\n\t -1 & 44391 & CH4 & T & -1.0 & S & 2.0  & -1 & -1 & -1.0 & ⋯ & NA & NA & NA & NA & NA & 0 & 0 & NA & NA & 1\\\\\n\t -1 & 44391 & CH4 & T & -1.0 & W & 4.9  & -1 & -1 & -1.0 & ⋯ & NA & NA & NA & NA & NA & 0 & 0 & NA & NA & 1\\\\\n\t -1 & 44384 & L3  & T & T    & E & 3.5  & -1 & -1 & -1.0 & ⋯ & NA & NA & NA & NA & NA & 0 & 0 & NA & NA & 1\\\\\n\t -1 & 44384 & L3  & T & T    & E & 14.0 & -1 & -1 & -1.0 & ⋯ & NA & NA & NA & NA & NA & 0 & 0 & NA & NA & 1\\\\\n\\end{tabular}\n",
            "text/plain": [
              "  Burn_class_1-5 Date  Site stump burned_stump Cardinal_direction\n",
              "1 -1             44391 CH4  T     -1.0         N                 \n",
              "2 -1             44391 CH4  T     -1.0         N                 \n",
              "3 -1             44391 CH4  T     -1.0         S                 \n",
              "4 -1             44391 CH4  T     -1.0         W                 \n",
              "5 -1             44384 L3   T     T            E                 \n",
              "6 -1             44384 L3   T     T            E                 \n",
              "  Transect_Position_m Length_cm Width_cm Decay_class_1-5 ⋯ Notes decay_class DR\n",
              "1 10.1                -1        -1       -1.0            ⋯ NA    NA          NA\n",
              "2 8.6                 -1        -1       -1.0            ⋯ NA    NA          NA\n",
              "3 2.0                 -1        -1       -1.0            ⋯ NA    NA          NA\n",
              "4 4.9                 -1        -1       -1.0            ⋯ NA    NA          NA\n",
              "5 3.5                 -1        -1       -1.0            ⋯ NA    NA          NA\n",
              "6 14.0                -1        -1       -1.0            ⋯ NA    NA          NA\n",
              "  year_m decay_m volume mass_kg decayed_mass_kg lost_mass_kg remaining\n",
              "1 NA     NA      0      0       NA              NA           1        \n",
              "2 NA     NA      0      0       NA              NA           1        \n",
              "3 NA     NA      0      0       NA              NA           1        \n",
              "4 NA     NA      0      0       NA              NA           1        \n",
              "5 NA     NA      0      0       NA              NA           1        \n",
              "6 NA     NA      0      0       NA              NA           1        "
            ]
          },
          "metadata": {}
        }
      ]
    },
    {
      "cell_type": "code",
      "source": [
        "spatial_cwd_dt[,decayed_mass_kg:=mass_kg*(1-decay_m/100),by=1:nrow(spatial_cwd_dt)]"
      ],
      "metadata": {
        "id": "yt7WZYt0yH8B"
      },
      "execution_count": 30,
      "outputs": []
    },
    {
      "cell_type": "code",
      "source": [
        "spatial_cwd_dt[,lost_mass_kg:=mass_kg*(decay_m/100),by=1:nrow(spatial_cwd_dt)]"
      ],
      "metadata": {
        "id": "0SKNOEBq2zhW"
      },
      "execution_count": 31,
      "outputs": []
    },
    {
      "cell_type": "code",
      "source": [
        "# spatial_cwd_dt %>% head"
      ],
      "metadata": {
        "id": "TSWBBohb3G5-"
      },
      "execution_count": 32,
      "outputs": []
    },
    {
      "cell_type": "code",
      "source": [
        "rate_table <-\n",
        "spatial_cwd_dt[,list(\n",
        "  decayed_mass_kg = sum(decayed_mass_kg,na.rm=T)/120,\n",
        "  total_input=sum(mass_kg,na.rm=T)/120,\n",
        "  burn_decayed_mass_kg = sum(decayed_mass_kg*remaining,na.rm=T)/120,\n",
        "  burn_mass_ratio = (sum(decayed_mass_kg*remaining,na.rm=T)/120)/(sum(decayed_mass_kg,na.rm=T)/120),\n",
        "  wood_input_rate = sum(mass_kg/year_m,na.rm=T)/120,\n",
        "  wood_departure_rate = sum(lost_mass_kg/year_m,na.rm=T)/120,\n",
        "  wood_accumulation_rate = sum(mass_kg/year_m,na.rm=T)/120 - sum(lost_mass_kg/year_m,na.rm=T)/120,\n",
        "  years_to_capacity = sum(decayed_mass_kg,na.rm=T)/120/(sum(mass_kg/year_m,na.rm=T)/120 - sum(lost_mass_kg/year_m,na.rm=T)/120),\n",
        "  years_to_recovery = sum((decayed_mass_kg-decayed_mass_kg*remaining),na.rm=T)/120/(sum(mass_kg/year_m,na.rm=T)/120 - sum(lost_mass_kg/year_m,na.rm=T)/120)\n",
        "\n",
        "  ),by=Site]\n",
        "rate_table[,exp_group:=Site %>% gsub('C','',.) %>% gsub(\"[0-9]\", \"\", .) %>% factor(levels=c('L','M','H'))]\n",
        "rate_table[,control:=(Site %>% substr(1,1)) %in% 'C']\n",
        "rate_table\n",
        "rate_table %>%\n",
        "  ggplot(aes(y= burn_mass_ratio,x=control ))+\n",
        "  geom_boxplot(aes()) +\n",
        "  facet_grid(.~exp_group)\n",
        "\n",
        "rate_table[years_to_recovery>0] %>%\n",
        "  ggplot(aes(x=Site,y=years_to_recovery))+\n",
        "  geom_point(aes())"
      ],
      "metadata": {
        "colab": {
          "base_uri": "https://localhost:8080/",
          "height": 1000
        },
        "id": "B_hh90WeygIo",
        "outputId": "68b32050-a1ef-44b5-cdbb-05fd82ea0839"
      },
      "execution_count": 74,
      "outputs": [
        {
          "output_type": "display_data",
          "data": {
            "text/html": [
              "<table class=\"dataframe\">\n",
              "<caption>A data.table: 31 × 12</caption>\n",
              "<thead>\n",
              "\t<tr><th scope=col>Site</th><th scope=col>decayed_mass_kg</th><th scope=col>total_input</th><th scope=col>burn_decayed_mass_kg</th><th scope=col>burn_mass_ratio</th><th scope=col>wood_input_rate</th><th scope=col>wood_departure_rate</th><th scope=col>wood_accumulation_rate</th><th scope=col>years_to_capacity</th><th scope=col>years_to_recovery</th><th scope=col>exp_group</th><th scope=col>control</th></tr>\n",
              "\t<tr><th scope=col>&lt;chr&gt;</th><th scope=col>&lt;dbl&gt;</th><th scope=col>&lt;dbl&gt;</th><th scope=col>&lt;dbl&gt;</th><th scope=col>&lt;dbl&gt;</th><th scope=col>&lt;dbl&gt;</th><th scope=col>&lt;dbl&gt;</th><th scope=col>&lt;dbl&gt;</th><th scope=col>&lt;dbl&gt;</th><th scope=col>&lt;dbl&gt;</th><th scope=col>&lt;fct&gt;</th><th scope=col>&lt;lgl&gt;</th></tr>\n",
              "</thead>\n",
              "<tbody>\n",
              "\t<tr><td>CH4</td><td> 3.5924356</td><td> 9.0204632</td><td> 3.59243563</td><td>1.0000000</td><td>0.37116231</td><td>0.139072825</td><td>0.232089488</td><td>15.478666</td><td> 0.00000000</td><td>H </td><td> TRUE</td></tr>\n",
              "\t<tr><td>L3 </td><td> 0.2771711</td><td> 0.3897868</td><td> 0.16988331</td><td>0.6129186</td><td>0.04622142</td><td>0.008705993</td><td>0.037515431</td><td> 7.388188</td><td> 2.85983018</td><td>L </td><td>FALSE</td></tr>\n",
              "\t<tr><td>CM1</td><td> 1.0858740</td><td> 2.2062944</td><td> 0.95648166</td><td>0.8808403</td><td>0.10224041</td><td>0.039962405</td><td>0.062278004</td><td>17.435916</td><td> 2.07765769</td><td>M </td><td> TRUE</td></tr>\n",
              "\t<tr><td>CL4</td><td> 5.2776189</td><td>11.5374375</td><td> 5.27761889</td><td>1.0000000</td><td>0.61277011</td><td>0.192103369</td><td>0.420666737</td><td>12.545843</td><td> 0.00000000</td><td>L </td><td> TRUE</td></tr>\n",
              "\t<tr><td>CL2</td><td> 8.1390410</td><td>17.2696952</td><td> 8.13904103</td><td>1.0000000</td><td>0.64365740</td><td>0.294378477</td><td>0.349278921</td><td>23.302411</td><td> 0.00000000</td><td>L </td><td> TRUE</td></tr>\n",
              "\t<tr><td>L2 </td><td> 1.6787543</td><td> 2.8223018</td><td> 1.20229137</td><td>0.7161806</td><td>0.22214435</td><td>0.055610639</td><td>0.166533709</td><td>10.080568</td><td> 2.86106022</td><td>L </td><td>FALSE</td></tr>\n",
              "\t<tr><td>CH3</td><td> 0.3756664</td><td> 0.4363803</td><td> 0.37566637</td><td>1.0000000</td><td>0.09115049</td><td>0.010590500</td><td>0.080559991</td><td> 4.663188</td><td> 0.00000000</td><td>H </td><td> TRUE</td></tr>\n",
              "\t<tr><td>CH1</td><td>18.9186152</td><td>43.8902782</td><td>18.91861523</td><td>1.0000000</td><td>1.35519156</td><td>0.600391335</td><td>0.754800227</td><td>25.064401</td><td> 0.00000000</td><td>H </td><td> TRUE</td></tr>\n",
              "\t<tr><td>H1 </td><td> 0.4541378</td><td> 0.8209708</td><td> 0.04541378</td><td>0.1000000</td><td>0.04041332</td><td>0.016367473</td><td>0.024045848</td><td>18.886331</td><td>16.99769796</td><td>H </td><td>FALSE</td></tr>\n",
              "\t<tr><td>H2 </td><td> 5.0190190</td><td>10.0176685</td><td> 0.68590111</td><td>0.1366604</td><td>0.39617774</td><td>0.172418206</td><td>0.223759534</td><td>22.430414</td><td>19.36506470</td><td>H </td><td>FALSE</td></tr>\n",
              "\t<tr><td>M4 </td><td> 0.6984743</td><td> 1.7425623</td><td> 0.37474486</td><td>0.5365192</td><td>0.08176579</td><td>0.028575155</td><td>0.053190634</td><td>13.131528</td><td> 6.08621087</td><td>M </td><td>FALSE</td></tr>\n",
              "\t<tr><td>M3 </td><td> 2.6170564</td><td> 4.3237241</td><td> 0.34309356</td><td>0.1310990</td><td>0.21909475</td><td>0.083458578</td><td>0.135636167</td><td>19.294679</td><td>16.76516564</td><td>M </td><td>FALSE</td></tr>\n",
              "\t<tr><td>M2 </td><td>11.3671924</td><td>18.4951712</td><td> 2.02766412</td><td>0.1783786</td><td>0.78122074</td><td>0.293469625</td><td>0.487751120</td><td>23.305313</td><td>19.14814315</td><td>M </td><td>FALSE</td></tr>\n",
              "\t<tr><td>H3 </td><td> 0.2240166</td><td> 0.7083236</td><td> 0.02240166</td><td>0.1000000</td><td>0.01595308</td><td>0.010907566</td><td>0.005045512</td><td>44.399168</td><td>39.95925100</td><td>H </td><td>FALSE</td></tr>\n",
              "\t<tr><td>L4 </td><td> 0.2365703</td><td> 0.4134235</td><td> 0.07295782</td><td>0.3083981</td><td>0.03718177</td><td>0.008220192</td><td>0.028961576</td><td> 8.168418</td><td> 5.64929367</td><td>L </td><td>FALSE</td></tr>\n",
              "\t<tr><td>CH2</td><td>12.8272156</td><td>22.2502515</td><td> 9.73156042</td><td>0.7586651</td><td>1.04952996</td><td>0.390195467</td><td>0.659334493</td><td>19.454792</td><td> 0.00000000</td><td>H </td><td> TRUE</td></tr>\n",
              "\t<tr><td>CM4</td><td>21.2890448</td><td>42.1890090</td><td>20.65173871</td><td>0.9700641</td><td>1.61793304</td><td>0.663859494</td><td>0.954073541</td><td>22.313841</td><td> 0.00000000</td><td>M </td><td> TRUE</td></tr>\n",
              "\t<tr><td>M1 </td><td>11.6547658</td><td>15.8839935</td><td> 7.46866677</td><td>0.6408251</td><td>1.43908807</td><td>0.314770114</td><td>1.124317956</td><td>10.366076</td><td> 3.72323419</td><td>M </td><td>FALSE</td></tr>\n",
              "\t<tr><td>L1 </td><td> 1.0178349</td><td> 1.4981200</td><td> 0.69053485</td><td>0.6784350</td><td>0.14855271</td><td>0.031648780</td><td>0.116903935</td><td> 8.706592</td><td> 2.79973514</td><td>L </td><td>FALSE</td></tr>\n",
              "\t<tr><td>CM2</td><td> 6.3015719</td><td>19.5122807</td><td> 6.30157191</td><td>1.0000000</td><td>0.41318380</td><td>0.261712021</td><td>0.151471776</td><td>41.602285</td><td> 0.00000000</td><td>M </td><td> TRUE</td></tr>\n",
              "\t<tr><td>CL1</td><td>16.0317833</td><td>31.8873082</td><td>16.03178330</td><td>1.0000000</td><td>1.15683114</td><td>0.508407368</td><td>0.648423777</td><td>24.724237</td><td> 0.00000000</td><td>L </td><td> TRUE</td></tr>\n",
              "\t<tr><td>H4 </td><td> 1.5122694</td><td> 1.7156268</td><td> 0.75139754</td><td>0.4968675</td><td>0.62604479</td><td>0.038468549</td><td>0.587576241</td><td> 2.573742</td><td> 1.29493299</td><td>H </td><td>FALSE</td></tr>\n",
              "\t<tr><td>CL5</td><td> 8.2287060</td><td>19.3903128</td><td> 8.22870603</td><td>1.0000000</td><td>0.56890598</td><td>0.285126114</td><td>0.283779865</td><td>28.996793</td><td> 0.00000000</td><td>L </td><td> TRUE</td></tr>\n",
              "\t<tr><td>M5 </td><td> 0.9501246</td><td> 1.4440026</td><td> 0.52845783</td><td>0.5561984</td><td>0.13290296</td><td>0.030868177</td><td>0.102034787</td><td> 9.311771</td><td> 4.13257869</td><td>M </td><td>FALSE</td></tr>\n",
              "\t<tr><td>L5 </td><td> 7.1283861</td><td>13.1510526</td><td> 2.38323772</td><td>0.3343306</td><td>0.57201283</td><td>0.234486901</td><td>0.337525930</td><td>21.119521</td><td>14.05861863</td><td>L </td><td>FALSE</td></tr>\n",
              "\t<tr><td>H5 </td><td>13.8433949</td><td>23.3849686</td><td> 1.47353564</td><td>0.1064432</td><td>1.10424146</td><td>0.420201421</td><td>0.684040034</td><td>20.237697</td><td>18.08353114</td><td>H </td><td>FALSE</td></tr>\n",
              "\t<tr><td>CL3</td><td> 2.2765952</td><td> 6.2876078</td><td> 2.27659516</td><td>1.0000000</td><td>0.28106987</td><td>0.092213461</td><td>0.188856408</td><td>12.054635</td><td> 0.00000000</td><td>L </td><td> TRUE</td></tr>\n",
              "\t<tr><td>CH5</td><td> 1.2061924</td><td> 1.9752037</td><td> 1.20619236</td><td>1.0000000</td><td>0.20675097</td><td>0.037807005</td><td>0.168943968</td><td> 7.139600</td><td> 0.00000000</td><td>H </td><td> TRUE</td></tr>\n",
              "\t<tr><td>CM3</td><td> 6.3530429</td><td>14.7055655</td><td> 6.35304290</td><td>1.0000000</td><td>1.03364750</td><td>0.239605025</td><td>0.794042480</td><td> 8.000885</td><td> 0.00000000</td><td>M </td><td> TRUE</td></tr>\n",
              "\t<tr><td>CM5</td><td> 5.0384366</td><td>11.2865154</td><td> 5.03069119</td><td>0.9984627</td><td>0.39338972</td><td>0.189997656</td><td>0.203392065</td><td>24.772041</td><td> 0.03808104</td><td>M </td><td> TRUE</td></tr>\n",
              "\t<tr><td>NA </td><td> 0.0000000</td><td> 0.0000000</td><td> 0.00000000</td><td>      NaN</td><td>0.00000000</td><td>0.000000000</td><td>0.000000000</td><td>      NaN</td><td>        NaN</td><td>NA</td><td>FALSE</td></tr>\n",
              "</tbody>\n",
              "</table>\n"
            ],
            "text/markdown": "\nA data.table: 31 × 12\n\n| Site &lt;chr&gt; | decayed_mass_kg &lt;dbl&gt; | total_input &lt;dbl&gt; | burn_decayed_mass_kg &lt;dbl&gt; | burn_mass_ratio &lt;dbl&gt; | wood_input_rate &lt;dbl&gt; | wood_departure_rate &lt;dbl&gt; | wood_accumulation_rate &lt;dbl&gt; | years_to_capacity &lt;dbl&gt; | years_to_recovery &lt;dbl&gt; | exp_group &lt;fct&gt; | control &lt;lgl&gt; |\n|---|---|---|---|---|---|---|---|---|---|---|---|\n| CH4 |  3.5924356 |  9.0204632 |  3.59243563 | 1.0000000 | 0.37116231 | 0.139072825 | 0.232089488 | 15.478666 |  0.00000000 | H  |  TRUE |\n| L3  |  0.2771711 |  0.3897868 |  0.16988331 | 0.6129186 | 0.04622142 | 0.008705993 | 0.037515431 |  7.388188 |  2.85983018 | L  | FALSE |\n| CM1 |  1.0858740 |  2.2062944 |  0.95648166 | 0.8808403 | 0.10224041 | 0.039962405 | 0.062278004 | 17.435916 |  2.07765769 | M  |  TRUE |\n| CL4 |  5.2776189 | 11.5374375 |  5.27761889 | 1.0000000 | 0.61277011 | 0.192103369 | 0.420666737 | 12.545843 |  0.00000000 | L  |  TRUE |\n| CL2 |  8.1390410 | 17.2696952 |  8.13904103 | 1.0000000 | 0.64365740 | 0.294378477 | 0.349278921 | 23.302411 |  0.00000000 | L  |  TRUE |\n| L2  |  1.6787543 |  2.8223018 |  1.20229137 | 0.7161806 | 0.22214435 | 0.055610639 | 0.166533709 | 10.080568 |  2.86106022 | L  | FALSE |\n| CH3 |  0.3756664 |  0.4363803 |  0.37566637 | 1.0000000 | 0.09115049 | 0.010590500 | 0.080559991 |  4.663188 |  0.00000000 | H  |  TRUE |\n| CH1 | 18.9186152 | 43.8902782 | 18.91861523 | 1.0000000 | 1.35519156 | 0.600391335 | 0.754800227 | 25.064401 |  0.00000000 | H  |  TRUE |\n| H1  |  0.4541378 |  0.8209708 |  0.04541378 | 0.1000000 | 0.04041332 | 0.016367473 | 0.024045848 | 18.886331 | 16.99769796 | H  | FALSE |\n| H2  |  5.0190190 | 10.0176685 |  0.68590111 | 0.1366604 | 0.39617774 | 0.172418206 | 0.223759534 | 22.430414 | 19.36506470 | H  | FALSE |\n| M4  |  0.6984743 |  1.7425623 |  0.37474486 | 0.5365192 | 0.08176579 | 0.028575155 | 0.053190634 | 13.131528 |  6.08621087 | M  | FALSE |\n| M3  |  2.6170564 |  4.3237241 |  0.34309356 | 0.1310990 | 0.21909475 | 0.083458578 | 0.135636167 | 19.294679 | 16.76516564 | M  | FALSE |\n| M2  | 11.3671924 | 18.4951712 |  2.02766412 | 0.1783786 | 0.78122074 | 0.293469625 | 0.487751120 | 23.305313 | 19.14814315 | M  | FALSE |\n| H3  |  0.2240166 |  0.7083236 |  0.02240166 | 0.1000000 | 0.01595308 | 0.010907566 | 0.005045512 | 44.399168 | 39.95925100 | H  | FALSE |\n| L4  |  0.2365703 |  0.4134235 |  0.07295782 | 0.3083981 | 0.03718177 | 0.008220192 | 0.028961576 |  8.168418 |  5.64929367 | L  | FALSE |\n| CH2 | 12.8272156 | 22.2502515 |  9.73156042 | 0.7586651 | 1.04952996 | 0.390195467 | 0.659334493 | 19.454792 |  0.00000000 | H  |  TRUE |\n| CM4 | 21.2890448 | 42.1890090 | 20.65173871 | 0.9700641 | 1.61793304 | 0.663859494 | 0.954073541 | 22.313841 |  0.00000000 | M  |  TRUE |\n| M1  | 11.6547658 | 15.8839935 |  7.46866677 | 0.6408251 | 1.43908807 | 0.314770114 | 1.124317956 | 10.366076 |  3.72323419 | M  | FALSE |\n| L1  |  1.0178349 |  1.4981200 |  0.69053485 | 0.6784350 | 0.14855271 | 0.031648780 | 0.116903935 |  8.706592 |  2.79973514 | L  | FALSE |\n| CM2 |  6.3015719 | 19.5122807 |  6.30157191 | 1.0000000 | 0.41318380 | 0.261712021 | 0.151471776 | 41.602285 |  0.00000000 | M  |  TRUE |\n| CL1 | 16.0317833 | 31.8873082 | 16.03178330 | 1.0000000 | 1.15683114 | 0.508407368 | 0.648423777 | 24.724237 |  0.00000000 | L  |  TRUE |\n| H4  |  1.5122694 |  1.7156268 |  0.75139754 | 0.4968675 | 0.62604479 | 0.038468549 | 0.587576241 |  2.573742 |  1.29493299 | H  | FALSE |\n| CL5 |  8.2287060 | 19.3903128 |  8.22870603 | 1.0000000 | 0.56890598 | 0.285126114 | 0.283779865 | 28.996793 |  0.00000000 | L  |  TRUE |\n| M5  |  0.9501246 |  1.4440026 |  0.52845783 | 0.5561984 | 0.13290296 | 0.030868177 | 0.102034787 |  9.311771 |  4.13257869 | M  | FALSE |\n| L5  |  7.1283861 | 13.1510526 |  2.38323772 | 0.3343306 | 0.57201283 | 0.234486901 | 0.337525930 | 21.119521 | 14.05861863 | L  | FALSE |\n| H5  | 13.8433949 | 23.3849686 |  1.47353564 | 0.1064432 | 1.10424146 | 0.420201421 | 0.684040034 | 20.237697 | 18.08353114 | H  | FALSE |\n| CL3 |  2.2765952 |  6.2876078 |  2.27659516 | 1.0000000 | 0.28106987 | 0.092213461 | 0.188856408 | 12.054635 |  0.00000000 | L  |  TRUE |\n| CH5 |  1.2061924 |  1.9752037 |  1.20619236 | 1.0000000 | 0.20675097 | 0.037807005 | 0.168943968 |  7.139600 |  0.00000000 | H  |  TRUE |\n| CM3 |  6.3530429 | 14.7055655 |  6.35304290 | 1.0000000 | 1.03364750 | 0.239605025 | 0.794042480 |  8.000885 |  0.00000000 | M  |  TRUE |\n| CM5 |  5.0384366 | 11.2865154 |  5.03069119 | 0.9984627 | 0.39338972 | 0.189997656 | 0.203392065 | 24.772041 |  0.03808104 | M  |  TRUE |\n| NA  |  0.0000000 |  0.0000000 |  0.00000000 |       NaN | 0.00000000 | 0.000000000 | 0.000000000 |       NaN |         NaN | NA | FALSE |\n\n",
            "text/latex": "A data.table: 31 × 12\n\\begin{tabular}{llllllllllll}\n Site & decayed\\_mass\\_kg & total\\_input & burn\\_decayed\\_mass\\_kg & burn\\_mass\\_ratio & wood\\_input\\_rate & wood\\_departure\\_rate & wood\\_accumulation\\_rate & years\\_to\\_capacity & years\\_to\\_recovery & exp\\_group & control\\\\\n <chr> & <dbl> & <dbl> & <dbl> & <dbl> & <dbl> & <dbl> & <dbl> & <dbl> & <dbl> & <fct> & <lgl>\\\\\n\\hline\n\t CH4 &  3.5924356 &  9.0204632 &  3.59243563 & 1.0000000 & 0.37116231 & 0.139072825 & 0.232089488 & 15.478666 &  0.00000000 & H  &  TRUE\\\\\n\t L3  &  0.2771711 &  0.3897868 &  0.16988331 & 0.6129186 & 0.04622142 & 0.008705993 & 0.037515431 &  7.388188 &  2.85983018 & L  & FALSE\\\\\n\t CM1 &  1.0858740 &  2.2062944 &  0.95648166 & 0.8808403 & 0.10224041 & 0.039962405 & 0.062278004 & 17.435916 &  2.07765769 & M  &  TRUE\\\\\n\t CL4 &  5.2776189 & 11.5374375 &  5.27761889 & 1.0000000 & 0.61277011 & 0.192103369 & 0.420666737 & 12.545843 &  0.00000000 & L  &  TRUE\\\\\n\t CL2 &  8.1390410 & 17.2696952 &  8.13904103 & 1.0000000 & 0.64365740 & 0.294378477 & 0.349278921 & 23.302411 &  0.00000000 & L  &  TRUE\\\\\n\t L2  &  1.6787543 &  2.8223018 &  1.20229137 & 0.7161806 & 0.22214435 & 0.055610639 & 0.166533709 & 10.080568 &  2.86106022 & L  & FALSE\\\\\n\t CH3 &  0.3756664 &  0.4363803 &  0.37566637 & 1.0000000 & 0.09115049 & 0.010590500 & 0.080559991 &  4.663188 &  0.00000000 & H  &  TRUE\\\\\n\t CH1 & 18.9186152 & 43.8902782 & 18.91861523 & 1.0000000 & 1.35519156 & 0.600391335 & 0.754800227 & 25.064401 &  0.00000000 & H  &  TRUE\\\\\n\t H1  &  0.4541378 &  0.8209708 &  0.04541378 & 0.1000000 & 0.04041332 & 0.016367473 & 0.024045848 & 18.886331 & 16.99769796 & H  & FALSE\\\\\n\t H2  &  5.0190190 & 10.0176685 &  0.68590111 & 0.1366604 & 0.39617774 & 0.172418206 & 0.223759534 & 22.430414 & 19.36506470 & H  & FALSE\\\\\n\t M4  &  0.6984743 &  1.7425623 &  0.37474486 & 0.5365192 & 0.08176579 & 0.028575155 & 0.053190634 & 13.131528 &  6.08621087 & M  & FALSE\\\\\n\t M3  &  2.6170564 &  4.3237241 &  0.34309356 & 0.1310990 & 0.21909475 & 0.083458578 & 0.135636167 & 19.294679 & 16.76516564 & M  & FALSE\\\\\n\t M2  & 11.3671924 & 18.4951712 &  2.02766412 & 0.1783786 & 0.78122074 & 0.293469625 & 0.487751120 & 23.305313 & 19.14814315 & M  & FALSE\\\\\n\t H3  &  0.2240166 &  0.7083236 &  0.02240166 & 0.1000000 & 0.01595308 & 0.010907566 & 0.005045512 & 44.399168 & 39.95925100 & H  & FALSE\\\\\n\t L4  &  0.2365703 &  0.4134235 &  0.07295782 & 0.3083981 & 0.03718177 & 0.008220192 & 0.028961576 &  8.168418 &  5.64929367 & L  & FALSE\\\\\n\t CH2 & 12.8272156 & 22.2502515 &  9.73156042 & 0.7586651 & 1.04952996 & 0.390195467 & 0.659334493 & 19.454792 &  0.00000000 & H  &  TRUE\\\\\n\t CM4 & 21.2890448 & 42.1890090 & 20.65173871 & 0.9700641 & 1.61793304 & 0.663859494 & 0.954073541 & 22.313841 &  0.00000000 & M  &  TRUE\\\\\n\t M1  & 11.6547658 & 15.8839935 &  7.46866677 & 0.6408251 & 1.43908807 & 0.314770114 & 1.124317956 & 10.366076 &  3.72323419 & M  & FALSE\\\\\n\t L1  &  1.0178349 &  1.4981200 &  0.69053485 & 0.6784350 & 0.14855271 & 0.031648780 & 0.116903935 &  8.706592 &  2.79973514 & L  & FALSE\\\\\n\t CM2 &  6.3015719 & 19.5122807 &  6.30157191 & 1.0000000 & 0.41318380 & 0.261712021 & 0.151471776 & 41.602285 &  0.00000000 & M  &  TRUE\\\\\n\t CL1 & 16.0317833 & 31.8873082 & 16.03178330 & 1.0000000 & 1.15683114 & 0.508407368 & 0.648423777 & 24.724237 &  0.00000000 & L  &  TRUE\\\\\n\t H4  &  1.5122694 &  1.7156268 &  0.75139754 & 0.4968675 & 0.62604479 & 0.038468549 & 0.587576241 &  2.573742 &  1.29493299 & H  & FALSE\\\\\n\t CL5 &  8.2287060 & 19.3903128 &  8.22870603 & 1.0000000 & 0.56890598 & 0.285126114 & 0.283779865 & 28.996793 &  0.00000000 & L  &  TRUE\\\\\n\t M5  &  0.9501246 &  1.4440026 &  0.52845783 & 0.5561984 & 0.13290296 & 0.030868177 & 0.102034787 &  9.311771 &  4.13257869 & M  & FALSE\\\\\n\t L5  &  7.1283861 & 13.1510526 &  2.38323772 & 0.3343306 & 0.57201283 & 0.234486901 & 0.337525930 & 21.119521 & 14.05861863 & L  & FALSE\\\\\n\t H5  & 13.8433949 & 23.3849686 &  1.47353564 & 0.1064432 & 1.10424146 & 0.420201421 & 0.684040034 & 20.237697 & 18.08353114 & H  & FALSE\\\\\n\t CL3 &  2.2765952 &  6.2876078 &  2.27659516 & 1.0000000 & 0.28106987 & 0.092213461 & 0.188856408 & 12.054635 &  0.00000000 & L  &  TRUE\\\\\n\t CH5 &  1.2061924 &  1.9752037 &  1.20619236 & 1.0000000 & 0.20675097 & 0.037807005 & 0.168943968 &  7.139600 &  0.00000000 & H  &  TRUE\\\\\n\t CM3 &  6.3530429 & 14.7055655 &  6.35304290 & 1.0000000 & 1.03364750 & 0.239605025 & 0.794042480 &  8.000885 &  0.00000000 & M  &  TRUE\\\\\n\t CM5 &  5.0384366 & 11.2865154 &  5.03069119 & 0.9984627 & 0.39338972 & 0.189997656 & 0.203392065 & 24.772041 &  0.03808104 & M  &  TRUE\\\\\n\t NA  &  0.0000000 &  0.0000000 &  0.00000000 &       NaN & 0.00000000 & 0.000000000 & 0.000000000 &       NaN &         NaN & NA & FALSE\\\\\n\\end{tabular}\n",
            "text/plain": [
              "   Site decayed_mass_kg total_input burn_decayed_mass_kg burn_mass_ratio\n",
              "1  CH4   3.5924356       9.0204632   3.59243563          1.0000000      \n",
              "2  L3    0.2771711       0.3897868   0.16988331          0.6129186      \n",
              "3  CM1   1.0858740       2.2062944   0.95648166          0.8808403      \n",
              "4  CL4   5.2776189      11.5374375   5.27761889          1.0000000      \n",
              "5  CL2   8.1390410      17.2696952   8.13904103          1.0000000      \n",
              "6  L2    1.6787543       2.8223018   1.20229137          0.7161806      \n",
              "7  CH3   0.3756664       0.4363803   0.37566637          1.0000000      \n",
              "8  CH1  18.9186152      43.8902782  18.91861523          1.0000000      \n",
              "9  H1    0.4541378       0.8209708   0.04541378          0.1000000      \n",
              "10 H2    5.0190190      10.0176685   0.68590111          0.1366604      \n",
              "11 M4    0.6984743       1.7425623   0.37474486          0.5365192      \n",
              "12 M3    2.6170564       4.3237241   0.34309356          0.1310990      \n",
              "13 M2   11.3671924      18.4951712   2.02766412          0.1783786      \n",
              "14 H3    0.2240166       0.7083236   0.02240166          0.1000000      \n",
              "15 L4    0.2365703       0.4134235   0.07295782          0.3083981      \n",
              "16 CH2  12.8272156      22.2502515   9.73156042          0.7586651      \n",
              "17 CM4  21.2890448      42.1890090  20.65173871          0.9700641      \n",
              "18 M1   11.6547658      15.8839935   7.46866677          0.6408251      \n",
              "19 L1    1.0178349       1.4981200   0.69053485          0.6784350      \n",
              "20 CM2   6.3015719      19.5122807   6.30157191          1.0000000      \n",
              "21 CL1  16.0317833      31.8873082  16.03178330          1.0000000      \n",
              "22 H4    1.5122694       1.7156268   0.75139754          0.4968675      \n",
              "23 CL5   8.2287060      19.3903128   8.22870603          1.0000000      \n",
              "24 M5    0.9501246       1.4440026   0.52845783          0.5561984      \n",
              "25 L5    7.1283861      13.1510526   2.38323772          0.3343306      \n",
              "26 H5   13.8433949      23.3849686   1.47353564          0.1064432      \n",
              "27 CL3   2.2765952       6.2876078   2.27659516          1.0000000      \n",
              "28 CH5   1.2061924       1.9752037   1.20619236          1.0000000      \n",
              "29 CM3   6.3530429      14.7055655   6.35304290          1.0000000      \n",
              "30 CM5   5.0384366      11.2865154   5.03069119          0.9984627      \n",
              "31 NA    0.0000000       0.0000000   0.00000000                NaN      \n",
              "   wood_input_rate wood_departure_rate wood_accumulation_rate years_to_capacity\n",
              "1  0.37116231      0.139072825         0.232089488            15.478666        \n",
              "2  0.04622142      0.008705993         0.037515431             7.388188        \n",
              "3  0.10224041      0.039962405         0.062278004            17.435916        \n",
              "4  0.61277011      0.192103369         0.420666737            12.545843        \n",
              "5  0.64365740      0.294378477         0.349278921            23.302411        \n",
              "6  0.22214435      0.055610639         0.166533709            10.080568        \n",
              "7  0.09115049      0.010590500         0.080559991             4.663188        \n",
              "8  1.35519156      0.600391335         0.754800227            25.064401        \n",
              "9  0.04041332      0.016367473         0.024045848            18.886331        \n",
              "10 0.39617774      0.172418206         0.223759534            22.430414        \n",
              "11 0.08176579      0.028575155         0.053190634            13.131528        \n",
              "12 0.21909475      0.083458578         0.135636167            19.294679        \n",
              "13 0.78122074      0.293469625         0.487751120            23.305313        \n",
              "14 0.01595308      0.010907566         0.005045512            44.399168        \n",
              "15 0.03718177      0.008220192         0.028961576             8.168418        \n",
              "16 1.04952996      0.390195467         0.659334493            19.454792        \n",
              "17 1.61793304      0.663859494         0.954073541            22.313841        \n",
              "18 1.43908807      0.314770114         1.124317956            10.366076        \n",
              "19 0.14855271      0.031648780         0.116903935             8.706592        \n",
              "20 0.41318380      0.261712021         0.151471776            41.602285        \n",
              "21 1.15683114      0.508407368         0.648423777            24.724237        \n",
              "22 0.62604479      0.038468549         0.587576241             2.573742        \n",
              "23 0.56890598      0.285126114         0.283779865            28.996793        \n",
              "24 0.13290296      0.030868177         0.102034787             9.311771        \n",
              "25 0.57201283      0.234486901         0.337525930            21.119521        \n",
              "26 1.10424146      0.420201421         0.684040034            20.237697        \n",
              "27 0.28106987      0.092213461         0.188856408            12.054635        \n",
              "28 0.20675097      0.037807005         0.168943968             7.139600        \n",
              "29 1.03364750      0.239605025         0.794042480             8.000885        \n",
              "30 0.39338972      0.189997656         0.203392065            24.772041        \n",
              "31 0.00000000      0.000000000         0.000000000                  NaN        \n",
              "   years_to_recovery exp_group control\n",
              "1   0.00000000       H          TRUE  \n",
              "2   2.85983018       L         FALSE  \n",
              "3   2.07765769       M          TRUE  \n",
              "4   0.00000000       L          TRUE  \n",
              "5   0.00000000       L          TRUE  \n",
              "6   2.86106022       L         FALSE  \n",
              "7   0.00000000       H          TRUE  \n",
              "8   0.00000000       H          TRUE  \n",
              "9  16.99769796       H         FALSE  \n",
              "10 19.36506470       H         FALSE  \n",
              "11  6.08621087       M         FALSE  \n",
              "12 16.76516564       M         FALSE  \n",
              "13 19.14814315       M         FALSE  \n",
              "14 39.95925100       H         FALSE  \n",
              "15  5.64929367       L         FALSE  \n",
              "16  0.00000000       H          TRUE  \n",
              "17  0.00000000       M          TRUE  \n",
              "18  3.72323419       M         FALSE  \n",
              "19  2.79973514       L         FALSE  \n",
              "20  0.00000000       M          TRUE  \n",
              "21  0.00000000       L          TRUE  \n",
              "22  1.29493299       H         FALSE  \n",
              "23  0.00000000       L          TRUE  \n",
              "24  4.13257869       M         FALSE  \n",
              "25 14.05861863       L         FALSE  \n",
              "26 18.08353114       H         FALSE  \n",
              "27  0.00000000       L          TRUE  \n",
              "28  0.00000000       H          TRUE  \n",
              "29  0.00000000       M          TRUE  \n",
              "30  0.03808104       M          TRUE  \n",
              "31         NaN       NA        FALSE  "
            ]
          },
          "metadata": {}
        },
        {
          "output_type": "stream",
          "name": "stderr",
          "text": [
            "Warning message:\n",
            "“\u001b[1m\u001b[22mRemoved 1 rows containing non-finite values (`stat_boxplot()`).”\n"
          ]
        },
        {
          "output_type": "display_data",
          "data": {
            "text/plain": [
              "plot without title"
            ],
            "image/png": "[encoded data removed]"
          },
          "metadata": {
            "image/png": {
              "width": 420,
              "height": 420
            }
          }
        },
        {
          "output_type": "display_data",
          "data": {
            "text/plain": [
              "plot without title"
            ],
            "image/png": "[encoded data removed]"
          },
          "metadata": {
            "image/png": {
              "width": 420,
              "height": 420
            }
          }
        }
      ]
    },
    {
      "cell_type": "code",
      "source": [
        "rate_table %>% fwrite('cwd_rate_table.csv')"
      ],
      "metadata": {
        "id": "Qxazu_KJu49k"
      },
      "execution_count": 59,
      "outputs": []
    }
  ]
}